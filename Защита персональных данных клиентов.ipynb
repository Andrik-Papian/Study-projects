{
 "cells": [
  {
   "cell_type": "markdown",
   "metadata": {
    "toc": true
   },
   "source": [
    "<h1>Содержание<span class=\"tocSkip\"></span></h1>\n",
    "<div class=\"toc\"><ul class=\"toc-item\"><li><span><a href=\"#Загрузка-данных\" data-toc-modified-id=\"Загрузка-данных-1\"><span class=\"toc-item-num\">1&nbsp;&nbsp;</span>Загрузка данных</a></span></li><li><span><a href=\"#Умножение-матриц\" data-toc-modified-id=\"Умножение-матриц-2\"><span class=\"toc-item-num\">2&nbsp;&nbsp;</span>Умножение матриц</a></span></li><li><span><a href=\"#Алгоритм-преобразования\" data-toc-modified-id=\"Алгоритм-преобразования-3\"><span class=\"toc-item-num\">3&nbsp;&nbsp;</span>Алгоритм преобразования</a></span></li><li><span><a href=\"#Проверка-алгоритма\" data-toc-modified-id=\"Проверка-алгоритма-4\"><span class=\"toc-item-num\">4&nbsp;&nbsp;</span>Проверка алгоритма</a></span></li><li><span><a href=\"#Чек-лист-проверки\" data-toc-modified-id=\"Чек-лист-проверки-5\"><span class=\"toc-item-num\">5&nbsp;&nbsp;</span>Чек-лист проверки</a></span></li></ul></div>"
   ]
  },
  {
   "cell_type": "markdown",
   "metadata": {},
   "source": [
    "# Защита персональных данных клиентов"
   ]
  },
  {
   "cell_type": "markdown",
   "metadata": {},
   "source": [
    "Вам нужно защитить данные клиентов страховой компании «Хоть потоп». Разработайте такой метод преобразования данных, чтобы по ним было сложно восстановить персональную информацию. Обоснуйте корректность его работы.\n",
    "\n",
    "Нужно защитить данные, чтобы при преобразовании качество моделей машинного обучения не ухудшилось. Подбирать наилучшую модель не требуется."
   ]
  },
  {
   "cell_type": "markdown",
   "metadata": {},
   "source": [
    "## Загрузка данных"
   ]
  },
  {
   "cell_type": "code",
   "execution_count": 1,
   "metadata": {},
   "outputs": [],
   "source": [
    "import pandas as pd \n",
    "import numpy as np\n",
    "from sklearn.linear_model import LinearRegression\n",
    "from sklearn.metrics import r2_score"
   ]
  },
  {
   "cell_type": "code",
   "execution_count": 2,
   "metadata": {},
   "outputs": [
    {
     "data": {
      "text/html": [
       "<div>\n",
       "<style scoped>\n",
       "    .dataframe tbody tr th:only-of-type {\n",
       "        vertical-align: middle;\n",
       "    }\n",
       "\n",
       "    .dataframe tbody tr th {\n",
       "        vertical-align: top;\n",
       "    }\n",
       "\n",
       "    .dataframe thead th {\n",
       "        text-align: right;\n",
       "    }\n",
       "</style>\n",
       "<table border=\"1\" class=\"dataframe\">\n",
       "  <thead>\n",
       "    <tr style=\"text-align: right;\">\n",
       "      <th></th>\n",
       "      <th>Пол</th>\n",
       "      <th>Возраст</th>\n",
       "      <th>Зарплата</th>\n",
       "      <th>Члены семьи</th>\n",
       "      <th>Страховые выплаты</th>\n",
       "    </tr>\n",
       "  </thead>\n",
       "  <tbody>\n",
       "    <tr>\n",
       "      <td>0</td>\n",
       "      <td>1</td>\n",
       "      <td>41.0</td>\n",
       "      <td>49600.0</td>\n",
       "      <td>1</td>\n",
       "      <td>0</td>\n",
       "    </tr>\n",
       "    <tr>\n",
       "      <td>1</td>\n",
       "      <td>0</td>\n",
       "      <td>46.0</td>\n",
       "      <td>38000.0</td>\n",
       "      <td>1</td>\n",
       "      <td>1</td>\n",
       "    </tr>\n",
       "    <tr>\n",
       "      <td>2</td>\n",
       "      <td>0</td>\n",
       "      <td>29.0</td>\n",
       "      <td>21000.0</td>\n",
       "      <td>0</td>\n",
       "      <td>0</td>\n",
       "    </tr>\n",
       "    <tr>\n",
       "      <td>3</td>\n",
       "      <td>0</td>\n",
       "      <td>21.0</td>\n",
       "      <td>41700.0</td>\n",
       "      <td>2</td>\n",
       "      <td>0</td>\n",
       "    </tr>\n",
       "    <tr>\n",
       "      <td>4</td>\n",
       "      <td>1</td>\n",
       "      <td>28.0</td>\n",
       "      <td>26100.0</td>\n",
       "      <td>0</td>\n",
       "      <td>0</td>\n",
       "    </tr>\n",
       "  </tbody>\n",
       "</table>\n",
       "</div>"
      ],
      "text/plain": [
       "   Пол  Возраст  Зарплата  Члены семьи  Страховые выплаты\n",
       "0    1     41.0   49600.0            1                  0\n",
       "1    0     46.0   38000.0            1                  1\n",
       "2    0     29.0   21000.0            0                  0\n",
       "3    0     21.0   41700.0            2                  0\n",
       "4    1     28.0   26100.0            0                  0"
      ]
     },
     "execution_count": 2,
     "metadata": {},
     "output_type": "execute_result"
    }
   ],
   "source": [
    "df = pd.read_csv('/datasets/insurance.csv')\n",
    "df.head()"
   ]
  },
  {
   "cell_type": "code",
   "execution_count": 3,
   "metadata": {},
   "outputs": [
    {
     "name": "stdout",
     "output_type": "stream",
     "text": [
      "<class 'pandas.core.frame.DataFrame'>\n",
      "RangeIndex: 5000 entries, 0 to 4999\n",
      "Data columns (total 5 columns):\n",
      "Пол                  5000 non-null int64\n",
      "Возраст              5000 non-null float64\n",
      "Зарплата             5000 non-null float64\n",
      "Члены семьи          5000 non-null int64\n",
      "Страховые выплаты    5000 non-null int64\n",
      "dtypes: float64(2), int64(3)\n",
      "memory usage: 195.4 KB\n"
     ]
    }
   ],
   "source": [
    "df.info()"
   ]
  },
  {
   "cell_type": "code",
   "execution_count": 4,
   "metadata": {},
   "outputs": [
    {
     "data": {
      "text/html": [
       "<div>\n",
       "<style scoped>\n",
       "    .dataframe tbody tr th:only-of-type {\n",
       "        vertical-align: middle;\n",
       "    }\n",
       "\n",
       "    .dataframe tbody tr th {\n",
       "        vertical-align: top;\n",
       "    }\n",
       "\n",
       "    .dataframe thead th {\n",
       "        text-align: right;\n",
       "    }\n",
       "</style>\n",
       "<table border=\"1\" class=\"dataframe\">\n",
       "  <thead>\n",
       "    <tr style=\"text-align: right;\">\n",
       "      <th></th>\n",
       "      <th>Пол</th>\n",
       "      <th>Возраст</th>\n",
       "      <th>Зарплата</th>\n",
       "      <th>Члены семьи</th>\n",
       "      <th>Страховые выплаты</th>\n",
       "    </tr>\n",
       "  </thead>\n",
       "  <tbody>\n",
       "    <tr>\n",
       "      <td>count</td>\n",
       "      <td>5000.000000</td>\n",
       "      <td>5000.000000</td>\n",
       "      <td>5000.000000</td>\n",
       "      <td>5000.000000</td>\n",
       "      <td>5000.000000</td>\n",
       "    </tr>\n",
       "    <tr>\n",
       "      <td>mean</td>\n",
       "      <td>0.499000</td>\n",
       "      <td>30.952800</td>\n",
       "      <td>39916.360000</td>\n",
       "      <td>1.194200</td>\n",
       "      <td>0.148000</td>\n",
       "    </tr>\n",
       "    <tr>\n",
       "      <td>std</td>\n",
       "      <td>0.500049</td>\n",
       "      <td>8.440807</td>\n",
       "      <td>9900.083569</td>\n",
       "      <td>1.091387</td>\n",
       "      <td>0.463183</td>\n",
       "    </tr>\n",
       "    <tr>\n",
       "      <td>min</td>\n",
       "      <td>0.000000</td>\n",
       "      <td>18.000000</td>\n",
       "      <td>5300.000000</td>\n",
       "      <td>0.000000</td>\n",
       "      <td>0.000000</td>\n",
       "    </tr>\n",
       "    <tr>\n",
       "      <td>25%</td>\n",
       "      <td>0.000000</td>\n",
       "      <td>24.000000</td>\n",
       "      <td>33300.000000</td>\n",
       "      <td>0.000000</td>\n",
       "      <td>0.000000</td>\n",
       "    </tr>\n",
       "    <tr>\n",
       "      <td>50%</td>\n",
       "      <td>0.000000</td>\n",
       "      <td>30.000000</td>\n",
       "      <td>40200.000000</td>\n",
       "      <td>1.000000</td>\n",
       "      <td>0.000000</td>\n",
       "    </tr>\n",
       "    <tr>\n",
       "      <td>75%</td>\n",
       "      <td>1.000000</td>\n",
       "      <td>37.000000</td>\n",
       "      <td>46600.000000</td>\n",
       "      <td>2.000000</td>\n",
       "      <td>0.000000</td>\n",
       "    </tr>\n",
       "    <tr>\n",
       "      <td>max</td>\n",
       "      <td>1.000000</td>\n",
       "      <td>65.000000</td>\n",
       "      <td>79000.000000</td>\n",
       "      <td>6.000000</td>\n",
       "      <td>5.000000</td>\n",
       "    </tr>\n",
       "  </tbody>\n",
       "</table>\n",
       "</div>"
      ],
      "text/plain": [
       "               Пол      Возраст      Зарплата  Члены семьи  Страховые выплаты\n",
       "count  5000.000000  5000.000000   5000.000000  5000.000000        5000.000000\n",
       "mean      0.499000    30.952800  39916.360000     1.194200           0.148000\n",
       "std       0.500049     8.440807   9900.083569     1.091387           0.463183\n",
       "min       0.000000    18.000000   5300.000000     0.000000           0.000000\n",
       "25%       0.000000    24.000000  33300.000000     0.000000           0.000000\n",
       "50%       0.000000    30.000000  40200.000000     1.000000           0.000000\n",
       "75%       1.000000    37.000000  46600.000000     2.000000           0.000000\n",
       "max       1.000000    65.000000  79000.000000     6.000000           5.000000"
      ]
     },
     "execution_count": 4,
     "metadata": {},
     "output_type": "execute_result"
    }
   ],
   "source": [
    "df.describe()"
   ]
  },
  {
   "cell_type": "code",
   "execution_count": 5,
   "metadata": {},
   "outputs": [
    {
     "data": {
      "text/plain": [
       "153"
      ]
     },
     "execution_count": 5,
     "metadata": {},
     "output_type": "execute_result"
    }
   ],
   "source": [
    "df.duplicated().sum() # проверим на дубликаты"
   ]
  },
  {
   "cell_type": "code",
   "execution_count": 6,
   "metadata": {},
   "outputs": [
    {
     "data": {
      "text/plain": [
       "0"
      ]
     },
     "execution_count": 6,
     "metadata": {},
     "output_type": "execute_result"
    }
   ],
   "source": [
    "# удалим дубликаты\n",
    "df.drop_duplicates(inplace=True)\n",
    "df.duplicated().sum()"
   ]
  },
  {
   "cell_type": "code",
   "execution_count": 7,
   "metadata": {},
   "outputs": [
    {
     "data": {
      "text/html": [
       "<div>\n",
       "<style scoped>\n",
       "    .dataframe tbody tr th:only-of-type {\n",
       "        vertical-align: middle;\n",
       "    }\n",
       "\n",
       "    .dataframe tbody tr th {\n",
       "        vertical-align: top;\n",
       "    }\n",
       "\n",
       "    .dataframe thead th {\n",
       "        text-align: right;\n",
       "    }\n",
       "</style>\n",
       "<table border=\"1\" class=\"dataframe\">\n",
       "  <thead>\n",
       "    <tr style=\"text-align: right;\">\n",
       "      <th></th>\n",
       "      <th>Пол</th>\n",
       "      <th>Возраст</th>\n",
       "      <th>Зарплата</th>\n",
       "      <th>Члены семьи</th>\n",
       "      <th>Страховые выплаты</th>\n",
       "    </tr>\n",
       "  </thead>\n",
       "  <tbody>\n",
       "    <tr>\n",
       "      <td>Пол</td>\n",
       "      <td>1.000000</td>\n",
       "      <td>0.001953</td>\n",
       "      <td>0.015456</td>\n",
       "      <td>-0.007315</td>\n",
       "      <td>0.011565</td>\n",
       "    </tr>\n",
       "    <tr>\n",
       "      <td>Возраст</td>\n",
       "      <td>0.001953</td>\n",
       "      <td>1.000000</td>\n",
       "      <td>-0.017386</td>\n",
       "      <td>-0.009064</td>\n",
       "      <td>0.654964</td>\n",
       "    </tr>\n",
       "    <tr>\n",
       "      <td>Зарплата</td>\n",
       "      <td>0.015456</td>\n",
       "      <td>-0.017386</td>\n",
       "      <td>1.000000</td>\n",
       "      <td>-0.031687</td>\n",
       "      <td>-0.013123</td>\n",
       "    </tr>\n",
       "    <tr>\n",
       "      <td>Члены семьи</td>\n",
       "      <td>-0.007315</td>\n",
       "      <td>-0.009064</td>\n",
       "      <td>-0.031687</td>\n",
       "      <td>1.000000</td>\n",
       "      <td>-0.039303</td>\n",
       "    </tr>\n",
       "    <tr>\n",
       "      <td>Страховые выплаты</td>\n",
       "      <td>0.011565</td>\n",
       "      <td>0.654964</td>\n",
       "      <td>-0.013123</td>\n",
       "      <td>-0.039303</td>\n",
       "      <td>1.000000</td>\n",
       "    </tr>\n",
       "  </tbody>\n",
       "</table>\n",
       "</div>"
      ],
      "text/plain": [
       "                        Пол   Возраст  Зарплата  Члены семьи  \\\n",
       "Пол                1.000000  0.001953  0.015456    -0.007315   \n",
       "Возраст            0.001953  1.000000 -0.017386    -0.009064   \n",
       "Зарплата           0.015456 -0.017386  1.000000    -0.031687   \n",
       "Члены семьи       -0.007315 -0.009064 -0.031687     1.000000   \n",
       "Страховые выплаты  0.011565  0.654964 -0.013123    -0.039303   \n",
       "\n",
       "                   Страховые выплаты  \n",
       "Пол                         0.011565  \n",
       "Возраст                     0.654964  \n",
       "Зарплата                   -0.013123  \n",
       "Члены семьи                -0.039303  \n",
       "Страховые выплаты           1.000000  "
      ]
     },
     "execution_count": 7,
     "metadata": {},
     "output_type": "execute_result"
    }
   ],
   "source": [
    "df.corr()"
   ]
  },
  {
   "cell_type": "markdown",
   "metadata": {},
   "source": [
    "**Вывод:**\n",
    "\n",
    "- Все данные в датасете заполнены (пропусков нет).\n",
    "- Типы данных изменений не требуют.\n",
    "- Выявлены и удалены дубликаты.\n",
    "- Матрица корреляций не выявила значительных зависимостей между обучающими признаками."
   ]
  },
  {
   "cell_type": "markdown",
   "metadata": {},
   "source": [
    "## Умножение матриц"
   ]
  },
  {
   "cell_type": "markdown",
   "metadata": {},
   "source": [
    "**Вопрос:** Изменится ли качество линейной регрессии, если признаки умножают на обратимую матрицу. ?"
   ]
  },
  {
   "cell_type": "markdown",
   "metadata": {},
   "source": [
    "Обозначения:\n",
    "\n",
    "- $X$ — матрица признаков (нулевой столбец состоит из единиц)\n",
    "\n",
    "- $y$ — вектор целевого признака\n",
    "\n",
    "- $P$ — матрица, на которую умножаются признаки\n",
    "\n",
    "- $w$ — вектор весов линейной регрессии (нулевой элемент равен сдвигу)"
   ]
  },
  {
   "cell_type": "markdown",
   "metadata": {},
   "source": [
    "Предсказания:\n",
    "\n",
    "$$\n",
    "a = Xw\n",
    "$$\n",
    "\n",
    "Задача обучения:\n",
    "\n",
    "$$\n",
    "w = \\arg\\min_w MSE(Xw, y)\n",
    "$$\n",
    "\n",
    "Формула обучения:\n",
    "\n",
    "$$\n",
    "w = (X^T X)^{-1} X^T y\n",
    "$$"
   ]
  },
  {
   "cell_type": "markdown",
   "metadata": {},
   "source": [
    "**Ответ:** Не изменится. \n",
    "\n",
    "**Обоснование:**"
   ]
  },
  {
   "cell_type": "markdown",
   "metadata": {},
   "source": [
    "1. Для обоснования ответа получим предсказания для домноженных признаков. Пусть наши признаки будут как в исходном датасете размерностью 5000 на 4, а матрица для домножения 4 на 4. Умноженная матрица будет иметь вид X * P. Тогда фомула предсказаний примет следующий вид:\n",
    "\n",
    "$$ a'=XPw'$$\n",
    "\n",
    "2. Подставим в формулу предсказаний формулу обучения для матрицы X P:\n",
    "\n",
    "$$ a'=XP((XP)^T XP)^{-1}(XP)^Ty$$\n",
    "\n",
    "Используем некоторые свойства матриц:\n",
    "\n",
    "$$(AB)^{-1}=B^{-1}A^{-1}$$\n",
    "\n",
    "$$(AB)^T=A^T B^T$$\n",
    "\n",
    "$$AA^{-1}=E$$\n",
    "\n",
    "$$AE=EA=A$$\n",
    "\n",
    "3. раскроем скобки с транспонированием матриц, получится следующее уравнение:\n",
    "\n",
    "$$a'=XP(P^T X^T XP)^{-1}P^T X^Ty$$\n",
    "\n",
    "Внутри скобок, от множителей которых берется обратная матрица остались следующие матрицы: $P^T$,размером 4х4, $X^T$ размером 4х5000, $X$ размером 5000x4, $P$ размером 4x4. Одно из дополнительных свойств матриц, о котором следует помнить слудующее $A(BC)=(AB)C$. Оно позволяет группировать матрицы внутри произведения различным образом. Т.к. обратная матрица может браться только от квадратной матрицы, то для раскрытия скобок данного произведения нам надо сгруппировать его множители так, чтобы они были квадратными матрицами.\n",
    "\n",
    "4. Выделим 2 множителя произведения $P^T X^T X$ и $P$ и раскроем скобки:\n",
    "\n",
    "$$a'=XPP^{-1}(P^T X^T X)^{-1}P^T X^Ty$$\n",
    "\n",
    "5. Выделим внутри оставшихся скобок множители $P^T$ и $X^T X$ и раскроем скобки:\n",
    "\n",
    "$$a'=XPP^{-1}(X^T X)^{-1}(P^T)^{-1} P^T X^Ty$$\n",
    "\n",
    "6. Произведения $PP^{-1}$ и $(P^T)^{-1} P^T$ дают единичные матрицы, которые можно исключить из уровнения. С учетом этого формула принимает вид:\n",
    "\n",
    "$$a'=X(X^T X)^{-1}X^T y$$\n",
    "\n",
    "Мы знаем, что произведение $(X^T X)^{-1}X^T y$ равно $w$ , тогда:\n",
    "\n",
    "$$a'=Xw$$\n",
    "\n",
    "**Вывод:**\n",
    "Таким образом, мы получили аналогичную формулу предсказаний, что и была в начале, значит домножение признаков на обратимую матрицу не влияет на предсказания модели."
   ]
  },
  {
   "cell_type": "markdown",
   "metadata": {},
   "source": [
    "## Алгоритм преобразования"
   ]
  },
  {
   "cell_type": "markdown",
   "metadata": {},
   "source": [
    "**Алгоритм**\n",
    "\n",
    "В качестве алгоритма преобразования примем домножение обучающих признаков X на случайную обратимую матрицу P размером 4х4. Создадим модель линейной регрессии до преобразования и посчитаем метрику R2. Далее умножим исходные признаки на обратимую матрицу и на основе полученных значений вновь посчитаем метрику R2. Метрики R2 по итогу должны быть равны."
   ]
  },
  {
   "cell_type": "markdown",
   "metadata": {},
   "source": [
    "**Обоснование**\n",
    "\n",
    "Как было показано в предыдущем пункте, домножение признаков на какую-либо обратимую матрицу не приводит к изменению предсказаний, поэтому результаты R2 должны оказаться равны."
   ]
  },
  {
   "cell_type": "markdown",
   "metadata": {},
   "source": [
    "## Проверка алгоритма"
   ]
  },
  {
   "cell_type": "markdown",
   "metadata": {},
   "source": [
    "Подготовим необходимые признаки: обучающие признаки исходные, целевой признак, матрицу для умножения, обучающие признаки после умножения. После подготовки признаков проведем машинное обучение с помощью алгоритма линейной регрессии для признаков до умножения и после. Сделаем в каждом случае предсказания и определим метрики r2."
   ]
  },
  {
   "cell_type": "code",
   "execution_count": 8,
   "metadata": {},
   "outputs": [
    {
     "data": {
      "text/html": [
       "<div>\n",
       "<style scoped>\n",
       "    .dataframe tbody tr th:only-of-type {\n",
       "        vertical-align: middle;\n",
       "    }\n",
       "\n",
       "    .dataframe tbody tr th {\n",
       "        vertical-align: top;\n",
       "    }\n",
       "\n",
       "    .dataframe thead th {\n",
       "        text-align: right;\n",
       "    }\n",
       "</style>\n",
       "<table border=\"1\" class=\"dataframe\">\n",
       "  <thead>\n",
       "    <tr style=\"text-align: right;\">\n",
       "      <th></th>\n",
       "      <th>Пол</th>\n",
       "      <th>Возраст</th>\n",
       "      <th>Зарплата</th>\n",
       "      <th>Члены семьи</th>\n",
       "    </tr>\n",
       "  </thead>\n",
       "  <tbody>\n",
       "    <tr>\n",
       "      <td>0</td>\n",
       "      <td>1</td>\n",
       "      <td>41.0</td>\n",
       "      <td>49600.0</td>\n",
       "      <td>1</td>\n",
       "    </tr>\n",
       "    <tr>\n",
       "      <td>1</td>\n",
       "      <td>0</td>\n",
       "      <td>46.0</td>\n",
       "      <td>38000.0</td>\n",
       "      <td>1</td>\n",
       "    </tr>\n",
       "    <tr>\n",
       "      <td>2</td>\n",
       "      <td>0</td>\n",
       "      <td>29.0</td>\n",
       "      <td>21000.0</td>\n",
       "      <td>0</td>\n",
       "    </tr>\n",
       "    <tr>\n",
       "      <td>3</td>\n",
       "      <td>0</td>\n",
       "      <td>21.0</td>\n",
       "      <td>41700.0</td>\n",
       "      <td>2</td>\n",
       "    </tr>\n",
       "    <tr>\n",
       "      <td>4</td>\n",
       "      <td>1</td>\n",
       "      <td>28.0</td>\n",
       "      <td>26100.0</td>\n",
       "      <td>0</td>\n",
       "    </tr>\n",
       "  </tbody>\n",
       "</table>\n",
       "</div>"
      ],
      "text/plain": [
       "   Пол  Возраст  Зарплата  Члены семьи\n",
       "0    1     41.0   49600.0            1\n",
       "1    0     46.0   38000.0            1\n",
       "2    0     29.0   21000.0            0\n",
       "3    0     21.0   41700.0            2\n",
       "4    1     28.0   26100.0            0"
      ]
     },
     "metadata": {},
     "output_type": "display_data"
    },
    {
     "data": {
      "text/plain": [
       "0    0\n",
       "1    1\n",
       "2    0\n",
       "3    0\n",
       "4    0\n",
       "Name: Страховые выплаты, dtype: int64"
      ]
     },
     "metadata": {},
     "output_type": "display_data"
    }
   ],
   "source": [
    "# создадим признаки для исходного состояния\n",
    "features = df.drop('Страховые выплаты', axis=1)\n",
    "target = df['Страховые выплаты']\n",
    "display(features.head())\n",
    "display(target.head())"
   ]
  },
  {
   "cell_type": "code",
   "execution_count": 9,
   "metadata": {},
   "outputs": [
    {
     "name": "stdout",
     "output_type": "stream",
     "text": [
      "Метрика R2 для признаков в исходном состоянии равняется 0.4302010044852067\n"
     ]
    }
   ],
   "source": [
    "model = LinearRegression()\n",
    "model.fit(features, target)\n",
    "predictions = model.predict(features)\n",
    "r2 = r2_score(target, predictions)\n",
    "print(f'Метрика R2 для признаков в исходном состоянии равняется {r2}')"
   ]
  },
  {
   "cell_type": "markdown",
   "metadata": {},
   "source": [
    "Далее необходимо создать обратимую матрицу размером 4 на 4. При этом достаточно важным является не создать случайной необратимую матрицу, т.к. это нарушит наш алгоритм. **По одной из теорем обратных матриц:** для существования обратной матрицы $A^{-1}$ необходимо и достаточно, чтобы матрица $A$ была невырожденной, то есть, чтобы ее определитель не был равен нулю. Заложим проверку данного условия при создании обратимой матрицы."
   ]
  },
  {
   "cell_type": "code",
   "execution_count": 10,
   "metadata": {},
   "outputs": [
    {
     "name": "stdout",
     "output_type": "stream",
     "text": [
      "[[-1.17998941  1.13536035 -0.85620075  1.36936611]\n",
      " [-0.37726558  0.03716676 -0.0780923   0.91704008]\n",
      " [-0.87908772  0.62376425  0.76680568  2.60994845]\n",
      " [-0.74703071  0.87865642 -0.4211972   0.31162903]]\n"
     ]
    }
   ],
   "source": [
    "# создание обратимой матрицы\n",
    "det = 0 \n",
    "P = 0\n",
    "while det == 0:\n",
    "    P = np.random.normal(size=(4, 4))\n",
    "    det = np.linalg.det(P)\n",
    "print(P)"
   ]
  },
  {
   "cell_type": "code",
   "execution_count": 11,
   "metadata": {},
   "outputs": [
    {
     "data": {
      "text/html": [
       "<div>\n",
       "<style scoped>\n",
       "    .dataframe tbody tr th:only-of-type {\n",
       "        vertical-align: middle;\n",
       "    }\n",
       "\n",
       "    .dataframe tbody tr th {\n",
       "        vertical-align: top;\n",
       "    }\n",
       "\n",
       "    .dataframe thead th {\n",
       "        text-align: right;\n",
       "    }\n",
       "</style>\n",
       "<table border=\"1\" class=\"dataframe\">\n",
       "  <thead>\n",
       "    <tr style=\"text-align: right;\">\n",
       "      <th></th>\n",
       "      <th>0</th>\n",
       "      <th>1</th>\n",
       "      <th>2</th>\n",
       "      <th>3</th>\n",
       "    </tr>\n",
       "  </thead>\n",
       "  <tbody>\n",
       "    <tr>\n",
       "      <td>0</td>\n",
       "      <td>-43620.145849</td>\n",
       "      <td>30942.244831</td>\n",
       "      <td>38029.082654</td>\n",
       "      <td>129492.722769</td>\n",
       "    </tr>\n",
       "    <tr>\n",
       "      <td>1</td>\n",
       "      <td>-33423.434629</td>\n",
       "      <td>23705.629963</td>\n",
       "      <td>29134.602480</td>\n",
       "      <td>99220.536581</td>\n",
       "    </tr>\n",
       "    <tr>\n",
       "      <td>2</td>\n",
       "      <td>-18471.782834</td>\n",
       "      <td>13100.127161</td>\n",
       "      <td>16100.654649</td>\n",
       "      <td>54835.511617</td>\n",
       "    </tr>\n",
       "    <tr>\n",
       "      <td>3</td>\n",
       "      <td>-36667.374586</td>\n",
       "      <td>26013.507189</td>\n",
       "      <td>31973.314614</td>\n",
       "      <td>108854.731474</td>\n",
       "    </tr>\n",
       "    <tr>\n",
       "      <td>4</td>\n",
       "      <td>-22955.932932</td>\n",
       "      <td>16282.423048</td>\n",
       "      <td>20010.585520</td>\n",
       "      <td>68146.701039</td>\n",
       "    </tr>\n",
       "  </tbody>\n",
       "</table>\n",
       "</div>"
      ],
      "text/plain": [
       "              0             1             2              3\n",
       "0 -43620.145849  30942.244831  38029.082654  129492.722769\n",
       "1 -33423.434629  23705.629963  29134.602480   99220.536581\n",
       "2 -18471.782834  13100.127161  16100.654649   54835.511617\n",
       "3 -36667.374586  26013.507189  31973.314614  108854.731474\n",
       "4 -22955.932932  16282.423048  20010.585520   68146.701039"
      ]
     },
     "execution_count": 11,
     "metadata": {},
     "output_type": "execute_result"
    }
   ],
   "source": [
    "# умножим исходные признаки на случайную обратимую матрицу\n",
    "features_multi = features @ P\n",
    "features_multi.head()"
   ]
  },
  {
   "cell_type": "markdown",
   "metadata": {},
   "source": [
    "Проверим модель на измененных признаках."
   ]
  },
  {
   "cell_type": "code",
   "execution_count": 12,
   "metadata": {},
   "outputs": [
    {
     "name": "stdout",
     "output_type": "stream",
     "text": [
      "Метрика R2 для измененных признаков равняется 0.4302010044852378\n"
     ]
    }
   ],
   "source": [
    "model_2 = LinearRegression()\n",
    "model_2.fit(features_multi, target)\n",
    "predictions = model_2.predict(features_multi)\n",
    "r2_multi = r2_score(target, predictions)\n",
    "print(f'Метрика R2 для измененных признаков равняется {r2_multi}')"
   ]
  },
  {
   "cell_type": "markdown",
   "metadata": {},
   "source": [
    "**Вывод:** Метрики R2 обеих моделей одиннаковые, следовательно умножение исходных данных на случайную обратимую матрицу может быть применено для их шифрования."
   ]
  }
 ],
 "metadata": {
  "ExecuteTimeLog": [
   {
    "duration": 1093,
    "start_time": "2022-02-28T12:31:34.415Z"
   },
   {
    "duration": 2940,
    "start_time": "2022-02-28T12:32:34.763Z"
   },
   {
    "duration": 30,
    "start_time": "2022-02-28T12:33:19.748Z"
   },
   {
    "duration": 7,
    "start_time": "2022-02-28T12:41:18.533Z"
   },
   {
    "duration": 26,
    "start_time": "2022-02-28T12:41:43.157Z"
   },
   {
    "duration": 6,
    "start_time": "2022-02-28T12:42:33.203Z"
   },
   {
    "duration": 12,
    "start_time": "2022-02-28T12:43:20.890Z"
   },
   {
    "duration": 17,
    "start_time": "2022-02-28T12:44:06.580Z"
   },
   {
    "duration": 13,
    "start_time": "2022-02-28T13:25:27.069Z"
   },
   {
    "duration": 10,
    "start_time": "2022-02-28T13:25:55.762Z"
   },
   {
    "duration": 5,
    "start_time": "2022-02-28T13:31:03.563Z"
   },
   {
    "duration": 5,
    "start_time": "2022-02-28T13:31:16.391Z"
   },
   {
    "duration": 5,
    "start_time": "2022-02-28T13:31:26.090Z"
   },
   {
    "duration": 5,
    "start_time": "2022-02-28T13:32:55.846Z"
   },
   {
    "duration": 10,
    "start_time": "2022-02-28T13:34:01.137Z"
   },
   {
    "duration": 10,
    "start_time": "2022-02-28T13:36:58.345Z"
   },
   {
    "duration": 1111,
    "start_time": "2022-02-28T13:39:12.660Z"
   },
   {
    "duration": 38,
    "start_time": "2022-02-28T13:39:13.777Z"
   },
   {
    "duration": 7,
    "start_time": "2022-02-28T13:39:13.817Z"
   },
   {
    "duration": 27,
    "start_time": "2022-02-28T13:39:13.826Z"
   },
   {
    "duration": 26,
    "start_time": "2022-02-28T13:39:13.855Z"
   },
   {
    "duration": 8,
    "start_time": "2022-02-28T13:39:13.884Z"
   },
   {
    "duration": 11,
    "start_time": "2022-02-28T13:39:13.894Z"
   },
   {
    "duration": 15,
    "start_time": "2022-02-28T13:39:13.908Z"
   },
   {
    "duration": 57,
    "start_time": "2022-02-28T13:39:13.926Z"
   },
   {
    "duration": 100,
    "start_time": "2022-02-28T13:39:13.985Z"
   },
   {
    "duration": 105,
    "start_time": "2022-02-28T13:39:14.088Z"
   },
   {
    "duration": 11,
    "start_time": "2022-02-28T13:39:14.196Z"
   },
   {
    "duration": 1010,
    "start_time": "2022-02-28T13:46:26.051Z"
   },
   {
    "duration": 30,
    "start_time": "2022-02-28T13:46:27.223Z"
   },
   {
    "duration": 6,
    "start_time": "2022-02-28T13:46:27.680Z"
   },
   {
    "duration": 23,
    "start_time": "2022-02-28T13:46:28.107Z"
   },
   {
    "duration": 6,
    "start_time": "2022-02-28T13:46:28.677Z"
   },
   {
    "duration": 8,
    "start_time": "2022-02-28T13:46:29.216Z"
   },
   {
    "duration": 9,
    "start_time": "2022-02-28T13:46:29.682Z"
   },
   {
    "duration": 11,
    "start_time": "2022-02-28T13:47:43.871Z"
   },
   {
    "duration": 13,
    "start_time": "2022-02-28T13:47:46.953Z"
   },
   {
    "duration": 4,
    "start_time": "2022-02-28T13:47:48.051Z"
   },
   {
    "duration": 10,
    "start_time": "2022-02-28T13:48:17.811Z"
   },
   {
    "duration": 8,
    "start_time": "2022-02-28T13:48:18.934Z"
   },
   {
    "duration": 1055,
    "start_time": "2022-03-01T11:30:07.836Z"
   },
   {
    "duration": 24,
    "start_time": "2022-03-01T11:30:08.893Z"
   },
   {
    "duration": 8,
    "start_time": "2022-03-01T11:30:08.920Z"
   },
   {
    "duration": 46,
    "start_time": "2022-03-01T11:30:08.930Z"
   },
   {
    "duration": 6,
    "start_time": "2022-03-01T11:30:08.977Z"
   },
   {
    "duration": 14,
    "start_time": "2022-03-01T11:30:08.985Z"
   },
   {
    "duration": 14,
    "start_time": "2022-03-01T11:30:09.000Z"
   },
   {
    "duration": 11,
    "start_time": "2022-03-01T11:30:09.016Z"
   },
   {
    "duration": 34,
    "start_time": "2022-03-01T11:30:09.029Z"
   },
   {
    "duration": 5,
    "start_time": "2022-03-01T11:30:09.065Z"
   },
   {
    "duration": 98,
    "start_time": "2022-03-01T11:30:09.072Z"
   },
   {
    "duration": 24,
    "start_time": "2022-03-01T11:30:09.172Z"
   },
   {
    "duration": 3,
    "start_time": "2022-03-01T11:43:46.323Z"
   },
   {
    "duration": 17,
    "start_time": "2022-03-01T11:43:46.332Z"
   },
   {
    "duration": 6,
    "start_time": "2022-03-01T11:43:46.351Z"
   },
   {
    "duration": 24,
    "start_time": "2022-03-01T11:43:46.359Z"
   },
   {
    "duration": 6,
    "start_time": "2022-03-01T11:43:46.384Z"
   },
   {
    "duration": 8,
    "start_time": "2022-03-01T11:43:46.392Z"
   },
   {
    "duration": 9,
    "start_time": "2022-03-01T11:43:46.401Z"
   },
   {
    "duration": 11,
    "start_time": "2022-03-01T11:43:46.412Z"
   },
   {
    "duration": 40,
    "start_time": "2022-03-01T11:43:46.425Z"
   },
   {
    "duration": 96,
    "start_time": "2022-03-01T11:43:46.467Z"
   },
   {
    "duration": 98,
    "start_time": "2022-03-01T11:43:46.565Z"
   },
   {
    "duration": 8,
    "start_time": "2022-03-01T11:43:46.664Z"
   },
   {
    "duration": 1021,
    "start_time": "2022-03-01T11:44:57.561Z"
   },
   {
    "duration": 25,
    "start_time": "2022-03-01T11:44:58.585Z"
   },
   {
    "duration": 8,
    "start_time": "2022-03-01T11:44:58.612Z"
   },
   {
    "duration": 38,
    "start_time": "2022-03-01T11:44:58.622Z"
   },
   {
    "duration": 6,
    "start_time": "2022-03-01T11:44:58.663Z"
   },
   {
    "duration": 9,
    "start_time": "2022-03-01T11:44:58.671Z"
   },
   {
    "duration": 10,
    "start_time": "2022-03-01T11:44:58.681Z"
   },
   {
    "duration": 11,
    "start_time": "2022-03-01T11:44:58.693Z"
   },
   {
    "duration": 56,
    "start_time": "2022-03-01T11:44:58.706Z"
   },
   {
    "duration": 102,
    "start_time": "2022-03-01T11:44:58.765Z"
   },
   {
    "duration": 30,
    "start_time": "2022-03-01T11:44:58.869Z"
   },
   {
    "duration": 18,
    "start_time": "2022-03-01T11:44:58.900Z"
   }
  ],
  "kernelspec": {
   "display_name": "Python 3",
   "language": "python",
   "name": "python3"
  },
  "language_info": {
   "codemirror_mode": {
    "name": "ipython",
    "version": 3
   },
   "file_extension": ".py",
   "mimetype": "text/x-python",
   "name": "python",
   "nbconvert_exporter": "python",
   "pygments_lexer": "ipython3",
   "version": "3.7.8"
  },
  "toc": {
   "base_numbering": 1,
   "nav_menu": {},
   "number_sections": true,
   "sideBar": true,
   "skip_h1_title": true,
   "title_cell": "Содержание",
   "title_sidebar": "Contents",
   "toc_cell": true,
   "toc_position": {},
   "toc_section_display": true,
   "toc_window_display": false
  }
 },
 "nbformat": 4,
 "nbformat_minor": 2
}
