{
 "cells": [
  {
   "cell_type": "markdown",
   "metadata": {
    "toc": true
   },
   "source": [
    "<h1>Содержание<span class=\"tocSkip\"></span></h1>\n",
    "<div class=\"toc\"><ul class=\"toc-item\"><li><span><a href=\"#Подготовка-данных\" data-toc-modified-id=\"Подготовка-данных-1\"><span class=\"toc-item-num\">1&nbsp;&nbsp;</span>Подготовка данных</a></span></li><li><span><a href=\"#Исследование-задачи\" data-toc-modified-id=\"Исследование-задачи-2\"><span class=\"toc-item-num\">2&nbsp;&nbsp;</span>Исследование задачи</a></span></li><li><span><a href=\"#Борьба-с-дисбалансом\" data-toc-modified-id=\"Борьба-с-дисбалансом-3\"><span class=\"toc-item-num\">3&nbsp;&nbsp;</span>Борьба с дисбалансом</a></span><ul class=\"toc-item\"><li><span><a href=\"#Вывод:\" data-toc-modified-id=\"Вывод:-3.1\"><span class=\"toc-item-num\">3.1&nbsp;&nbsp;</span>Вывод:</a></span></li><li><span><a href=\"#Вывод:\" data-toc-modified-id=\"Вывод:-3.2\"><span class=\"toc-item-num\">3.2&nbsp;&nbsp;</span>Вывод:</a></span></li><li><span><a href=\"#Вывод:\" data-toc-modified-id=\"Вывод:-3.3\"><span class=\"toc-item-num\">3.3&nbsp;&nbsp;</span>Вывод:</a></span></li></ul></li><li><span><a href=\"#Тестирование-модели\" data-toc-modified-id=\"Тестирование-модели-4\"><span class=\"toc-item-num\">4&nbsp;&nbsp;</span>Тестирование модели</a></span></li><li><span><a href=\"#Вывод:\" data-toc-modified-id=\"Вывод:-5\"><span class=\"toc-item-num\">5&nbsp;&nbsp;</span>Вывод:</a></span></li></ul></div>"
   ]
  },
  {
   "cell_type": "markdown",
   "metadata": {},
   "source": [
    "# Отток клиентов"
   ]
  },
  {
   "cell_type": "markdown",
   "metadata": {},
   "source": [
    "Из «Бета-Банка» стали уходить клиенты. Каждый месяц. Немного, но заметно. Банковские маркетологи посчитали: сохранять текущих клиентов дешевле, чем привлекать новых.\n",
    "\n",
    "Нужно спрогнозировать, уйдёт клиент из банка в ближайшее время или нет. Нам предоставлены исторические данные о поведении клиентов и расторжении договоров с банком. \n",
    "\n",
    "Требуется построить модель с предельно большим значением *F1*-меры. Чтобы сдать проект успешно, нужно довести метрику до 0.59. \n",
    "\n",
    "Дополнительно измерим *AUC-ROC*.\n",
    "\n",
    "Источник данных: [https://www.kaggle.com/barelydedicated/bank-customer-churn-modeling](https://www.kaggle.com/barelydedicated/bank-customer-churn-modeling)"
   ]
  },
  {
   "cell_type": "markdown",
   "metadata": {},
   "source": [
    "**Признаки:**\n",
    "    \n",
    "RowNumber — индекс строки в данных\n",
    "\n",
    "CustomerId — уникальный идентификатор клиента\n",
    "\n",
    "Surname — фамилия\n",
    "\n",
    "CreditScore — кредитный рейтинг\n",
    "\n",
    "Geography — страна проживания\n",
    "\n",
    "Gender — пол\n",
    "\n",
    "Age — возраст\n",
    "\n",
    "Tenure — сколько лет человек является клиентом банка\n",
    "\n",
    "Balance — баланс на счёте\n",
    "\n",
    "NumOfProducts — количество продуктов банка, используемых клиентом\n",
    "\n",
    "HasCrCard — наличие кредитной карты\n",
    "\n",
    "IsActiveMember — активность клиента\n",
    "\n",
    "EstimatedSalary — предполагаемая зарплата\n",
    "\n",
    "Целевой признак\n",
    "\n",
    "Exited — факт ухода клиента"
   ]
  },
  {
   "cell_type": "markdown",
   "metadata": {},
   "source": [
    "## Подготовка данных"
   ]
  },
  {
   "cell_type": "code",
   "execution_count": 1,
   "metadata": {},
   "outputs": [],
   "source": [
    "#импортируем сразу все библиотеки, которые пригодятся\n",
    "import pandas as pd\n",
    "import numpy as np\n",
    "from sklearn.model_selection import train_test_split\n",
    "from sklearn.tree import DecisionTreeClassifier\n",
    "from sklearn.linear_model import LogisticRegression\n",
    "from sklearn.ensemble import RandomForestClassifier\n",
    "from sklearn.metrics import confusion_matrix\n",
    "from sklearn.preprocessing import OrdinalEncoder\n",
    "from sklearn.metrics import recall_score\n",
    "from sklearn.metrics import precision_score\n",
    "from sklearn.metrics import f1_score\n",
    "from sklearn.utils import shuffle\n",
    "from sklearn.metrics import roc_auc_score\n",
    "from sklearn.metrics import roc_curve\n",
    "import matplotlib.pyplot as plt"
   ]
  },
  {
   "cell_type": "code",
   "execution_count": 2,
   "metadata": {},
   "outputs": [],
   "source": [
    "df = pd.read_csv('/datasets/Churn.csv')"
   ]
  },
  {
   "cell_type": "code",
   "execution_count": 3,
   "metadata": {},
   "outputs": [
    {
     "data": {
      "text/html": [
       "<div>\n",
       "<style scoped>\n",
       "    .dataframe tbody tr th:only-of-type {\n",
       "        vertical-align: middle;\n",
       "    }\n",
       "\n",
       "    .dataframe tbody tr th {\n",
       "        vertical-align: top;\n",
       "    }\n",
       "\n",
       "    .dataframe thead th {\n",
       "        text-align: right;\n",
       "    }\n",
       "</style>\n",
       "<table border=\"1\" class=\"dataframe\">\n",
       "  <thead>\n",
       "    <tr style=\"text-align: right;\">\n",
       "      <th></th>\n",
       "      <th>RowNumber</th>\n",
       "      <th>CustomerId</th>\n",
       "      <th>Surname</th>\n",
       "      <th>CreditScore</th>\n",
       "      <th>Geography</th>\n",
       "      <th>Gender</th>\n",
       "      <th>Age</th>\n",
       "      <th>Tenure</th>\n",
       "      <th>Balance</th>\n",
       "      <th>NumOfProducts</th>\n",
       "      <th>HasCrCard</th>\n",
       "      <th>IsActiveMember</th>\n",
       "      <th>EstimatedSalary</th>\n",
       "      <th>Exited</th>\n",
       "    </tr>\n",
       "  </thead>\n",
       "  <tbody>\n",
       "    <tr>\n",
       "      <td>0</td>\n",
       "      <td>1</td>\n",
       "      <td>15634602</td>\n",
       "      <td>Hargrave</td>\n",
       "      <td>619</td>\n",
       "      <td>France</td>\n",
       "      <td>Female</td>\n",
       "      <td>42</td>\n",
       "      <td>2.0</td>\n",
       "      <td>0.00</td>\n",
       "      <td>1</td>\n",
       "      <td>1</td>\n",
       "      <td>1</td>\n",
       "      <td>101348.88</td>\n",
       "      <td>1</td>\n",
       "    </tr>\n",
       "    <tr>\n",
       "      <td>1</td>\n",
       "      <td>2</td>\n",
       "      <td>15647311</td>\n",
       "      <td>Hill</td>\n",
       "      <td>608</td>\n",
       "      <td>Spain</td>\n",
       "      <td>Female</td>\n",
       "      <td>41</td>\n",
       "      <td>1.0</td>\n",
       "      <td>83807.86</td>\n",
       "      <td>1</td>\n",
       "      <td>0</td>\n",
       "      <td>1</td>\n",
       "      <td>112542.58</td>\n",
       "      <td>0</td>\n",
       "    </tr>\n",
       "    <tr>\n",
       "      <td>2</td>\n",
       "      <td>3</td>\n",
       "      <td>15619304</td>\n",
       "      <td>Onio</td>\n",
       "      <td>502</td>\n",
       "      <td>France</td>\n",
       "      <td>Female</td>\n",
       "      <td>42</td>\n",
       "      <td>8.0</td>\n",
       "      <td>159660.80</td>\n",
       "      <td>3</td>\n",
       "      <td>1</td>\n",
       "      <td>0</td>\n",
       "      <td>113931.57</td>\n",
       "      <td>1</td>\n",
       "    </tr>\n",
       "    <tr>\n",
       "      <td>3</td>\n",
       "      <td>4</td>\n",
       "      <td>15701354</td>\n",
       "      <td>Boni</td>\n",
       "      <td>699</td>\n",
       "      <td>France</td>\n",
       "      <td>Female</td>\n",
       "      <td>39</td>\n",
       "      <td>1.0</td>\n",
       "      <td>0.00</td>\n",
       "      <td>2</td>\n",
       "      <td>0</td>\n",
       "      <td>0</td>\n",
       "      <td>93826.63</td>\n",
       "      <td>0</td>\n",
       "    </tr>\n",
       "    <tr>\n",
       "      <td>4</td>\n",
       "      <td>5</td>\n",
       "      <td>15737888</td>\n",
       "      <td>Mitchell</td>\n",
       "      <td>850</td>\n",
       "      <td>Spain</td>\n",
       "      <td>Female</td>\n",
       "      <td>43</td>\n",
       "      <td>2.0</td>\n",
       "      <td>125510.82</td>\n",
       "      <td>1</td>\n",
       "      <td>1</td>\n",
       "      <td>1</td>\n",
       "      <td>79084.10</td>\n",
       "      <td>0</td>\n",
       "    </tr>\n",
       "  </tbody>\n",
       "</table>\n",
       "</div>"
      ],
      "text/plain": [
       "   RowNumber  CustomerId   Surname  CreditScore Geography  Gender  Age  \\\n",
       "0          1    15634602  Hargrave          619    France  Female   42   \n",
       "1          2    15647311      Hill          608     Spain  Female   41   \n",
       "2          3    15619304      Onio          502    France  Female   42   \n",
       "3          4    15701354      Boni          699    France  Female   39   \n",
       "4          5    15737888  Mitchell          850     Spain  Female   43   \n",
       "\n",
       "   Tenure    Balance  NumOfProducts  HasCrCard  IsActiveMember  \\\n",
       "0     2.0       0.00              1          1               1   \n",
       "1     1.0   83807.86              1          0               1   \n",
       "2     8.0  159660.80              3          1               0   \n",
       "3     1.0       0.00              2          0               0   \n",
       "4     2.0  125510.82              1          1               1   \n",
       "\n",
       "   EstimatedSalary  Exited  \n",
       "0        101348.88       1  \n",
       "1        112542.58       0  \n",
       "2        113931.57       1  \n",
       "3         93826.63       0  \n",
       "4         79084.10       0  "
      ]
     },
     "execution_count": 3,
     "metadata": {},
     "output_type": "execute_result"
    }
   ],
   "source": [
    "df.head()"
   ]
  },
  {
   "cell_type": "code",
   "execution_count": 4,
   "metadata": {},
   "outputs": [
    {
     "name": "stdout",
     "output_type": "stream",
     "text": [
      "<class 'pandas.core.frame.DataFrame'>\n",
      "RangeIndex: 10000 entries, 0 to 9999\n",
      "Data columns (total 14 columns):\n",
      "RowNumber          10000 non-null int64\n",
      "CustomerId         10000 non-null int64\n",
      "Surname            10000 non-null object\n",
      "CreditScore        10000 non-null int64\n",
      "Geography          10000 non-null object\n",
      "Gender             10000 non-null object\n",
      "Age                10000 non-null int64\n",
      "Tenure             9091 non-null float64\n",
      "Balance            10000 non-null float64\n",
      "NumOfProducts      10000 non-null int64\n",
      "HasCrCard          10000 non-null int64\n",
      "IsActiveMember     10000 non-null int64\n",
      "EstimatedSalary    10000 non-null float64\n",
      "Exited             10000 non-null int64\n",
      "dtypes: float64(3), int64(8), object(3)\n",
      "memory usage: 1.1+ MB\n"
     ]
    }
   ],
   "source": [
    "df.info()"
   ]
  },
  {
   "cell_type": "code",
   "execution_count": 5,
   "metadata": {},
   "outputs": [],
   "source": [
    "df['Tenure'] = df['Tenure'].fillna(1) #заполнил пропуски в столбце \"сколько лет человек явдяется клиентом банка\" единицей,\n",
    "#так как возможно пропуски обусловленны тем, что является клиентом менее года"
   ]
  },
  {
   "cell_type": "markdown",
   "metadata": {},
   "source": [
    "**Привел к целочисленному типу данных, там где это необходимо, тем более, что в цифрах после запятой в этих случаях нет никакой необходимости.** "
   ]
  },
  {
   "cell_type": "code",
   "execution_count": 6,
   "metadata": {},
   "outputs": [],
   "source": [
    "df['Tenure'] = df['Tenure'].astype('int')"
   ]
  },
  {
   "cell_type": "code",
   "execution_count": 7,
   "metadata": {},
   "outputs": [],
   "source": [
    "df['EstimatedSalary'] = df['EstimatedSalary'].astype('int')"
   ]
  },
  {
   "cell_type": "code",
   "execution_count": 8,
   "metadata": {},
   "outputs": [],
   "source": [
    "df['Balance'] = df['Balance'].astype('int')"
   ]
  },
  {
   "cell_type": "markdown",
   "metadata": {},
   "source": [
    "**Выполнил порядковое кодирование, чтобы закодировать цифрами выраженные в тексте категории.**"
   ]
  },
  {
   "cell_type": "code",
   "execution_count": 9,
   "metadata": {},
   "outputs": [],
   "source": [
    "#Преобразовал признаки техникой Ordinal Encoding\n",
    "encoder = OrdinalEncoder()\n",
    "encoder.fit(df[['Surname', 'Geography', 'Gender']])\n",
    "df_ordinal = encoder.transform(df[['Surname', 'Geography', 'Gender']])\n",
    "df_ordinal = pd.DataFrame(encoder.transform(df[['Surname', 'Geography', 'Gender']]), columns=df[['Surname', 'Geography', 'Gender']].columns)"
   ]
  },
  {
   "cell_type": "code",
   "execution_count": 10,
   "metadata": {},
   "outputs": [
    {
     "data": {
      "text/html": [
       "<div>\n",
       "<style scoped>\n",
       "    .dataframe tbody tr th:only-of-type {\n",
       "        vertical-align: middle;\n",
       "    }\n",
       "\n",
       "    .dataframe tbody tr th {\n",
       "        vertical-align: top;\n",
       "    }\n",
       "\n",
       "    .dataframe thead th {\n",
       "        text-align: right;\n",
       "    }\n",
       "</style>\n",
       "<table border=\"1\" class=\"dataframe\">\n",
       "  <thead>\n",
       "    <tr style=\"text-align: right;\">\n",
       "      <th></th>\n",
       "      <th>Surname</th>\n",
       "      <th>Geography</th>\n",
       "      <th>Gender</th>\n",
       "    </tr>\n",
       "  </thead>\n",
       "  <tbody>\n",
       "    <tr>\n",
       "      <td>0</td>\n",
       "      <td>1115.0</td>\n",
       "      <td>0.0</td>\n",
       "      <td>0.0</td>\n",
       "    </tr>\n",
       "    <tr>\n",
       "      <td>1</td>\n",
       "      <td>1177.0</td>\n",
       "      <td>2.0</td>\n",
       "      <td>0.0</td>\n",
       "    </tr>\n",
       "    <tr>\n",
       "      <td>2</td>\n",
       "      <td>2040.0</td>\n",
       "      <td>0.0</td>\n",
       "      <td>0.0</td>\n",
       "    </tr>\n",
       "    <tr>\n",
       "      <td>3</td>\n",
       "      <td>289.0</td>\n",
       "      <td>0.0</td>\n",
       "      <td>0.0</td>\n",
       "    </tr>\n",
       "    <tr>\n",
       "      <td>4</td>\n",
       "      <td>1822.0</td>\n",
       "      <td>2.0</td>\n",
       "      <td>0.0</td>\n",
       "    </tr>\n",
       "  </tbody>\n",
       "</table>\n",
       "</div>"
      ],
      "text/plain": [
       "   Surname  Geography  Gender\n",
       "0   1115.0        0.0     0.0\n",
       "1   1177.0        2.0     0.0\n",
       "2   2040.0        0.0     0.0\n",
       "3    289.0        0.0     0.0\n",
       "4   1822.0        2.0     0.0"
      ]
     },
     "execution_count": 10,
     "metadata": {},
     "output_type": "execute_result"
    }
   ],
   "source": [
    "df_ordinal.head()"
   ]
  },
  {
   "cell_type": "code",
   "execution_count": 11,
   "metadata": {},
   "outputs": [],
   "source": [
    "df = pd.concat([df,df_ordinal], sort=False, axis=1)#объединил две таблицы - исходную и с закодированными признаками, затем переименовал столбцы\n",
    "df.columns = ['RowNumber','CustomerId','Surname','CreditScore','Geography','Gender',\n",
    "              'Age','Tenure','Balance','NumOfProducts','HasCrCard','IsActiveMember',\n",
    "              'EstimatedSalary','Exited','Surname_code','Geography_code','Gender_code']"
   ]
  },
  {
   "cell_type": "code",
   "execution_count": 12,
   "metadata": {},
   "outputs": [],
   "source": [
    "df = df.drop(['Surname', 'Geography', 'Gender'], axis=1)#удалил те столбцы с текстом, которым уже сделал эквивалентные закодированные"
   ]
  },
  {
   "cell_type": "code",
   "execution_count": 13,
   "metadata": {},
   "outputs": [
    {
     "data": {
      "text/html": [
       "<div>\n",
       "<style scoped>\n",
       "    .dataframe tbody tr th:only-of-type {\n",
       "        vertical-align: middle;\n",
       "    }\n",
       "\n",
       "    .dataframe tbody tr th {\n",
       "        vertical-align: top;\n",
       "    }\n",
       "\n",
       "    .dataframe thead th {\n",
       "        text-align: right;\n",
       "    }\n",
       "</style>\n",
       "<table border=\"1\" class=\"dataframe\">\n",
       "  <thead>\n",
       "    <tr style=\"text-align: right;\">\n",
       "      <th></th>\n",
       "      <th>RowNumber</th>\n",
       "      <th>CustomerId</th>\n",
       "      <th>CreditScore</th>\n",
       "      <th>Age</th>\n",
       "      <th>Tenure</th>\n",
       "      <th>Balance</th>\n",
       "      <th>NumOfProducts</th>\n",
       "      <th>HasCrCard</th>\n",
       "      <th>IsActiveMember</th>\n",
       "      <th>EstimatedSalary</th>\n",
       "      <th>Exited</th>\n",
       "      <th>Surname_code</th>\n",
       "      <th>Geography_code</th>\n",
       "      <th>Gender_code</th>\n",
       "    </tr>\n",
       "  </thead>\n",
       "  <tbody>\n",
       "    <tr>\n",
       "      <td>0</td>\n",
       "      <td>1</td>\n",
       "      <td>15634602</td>\n",
       "      <td>619</td>\n",
       "      <td>42</td>\n",
       "      <td>2</td>\n",
       "      <td>0</td>\n",
       "      <td>1</td>\n",
       "      <td>1</td>\n",
       "      <td>1</td>\n",
       "      <td>101348</td>\n",
       "      <td>1</td>\n",
       "      <td>1115.0</td>\n",
       "      <td>0.0</td>\n",
       "      <td>0.0</td>\n",
       "    </tr>\n",
       "    <tr>\n",
       "      <td>1</td>\n",
       "      <td>2</td>\n",
       "      <td>15647311</td>\n",
       "      <td>608</td>\n",
       "      <td>41</td>\n",
       "      <td>1</td>\n",
       "      <td>83807</td>\n",
       "      <td>1</td>\n",
       "      <td>0</td>\n",
       "      <td>1</td>\n",
       "      <td>112542</td>\n",
       "      <td>0</td>\n",
       "      <td>1177.0</td>\n",
       "      <td>2.0</td>\n",
       "      <td>0.0</td>\n",
       "    </tr>\n",
       "    <tr>\n",
       "      <td>2</td>\n",
       "      <td>3</td>\n",
       "      <td>15619304</td>\n",
       "      <td>502</td>\n",
       "      <td>42</td>\n",
       "      <td>8</td>\n",
       "      <td>159660</td>\n",
       "      <td>3</td>\n",
       "      <td>1</td>\n",
       "      <td>0</td>\n",
       "      <td>113931</td>\n",
       "      <td>1</td>\n",
       "      <td>2040.0</td>\n",
       "      <td>0.0</td>\n",
       "      <td>0.0</td>\n",
       "    </tr>\n",
       "    <tr>\n",
       "      <td>3</td>\n",
       "      <td>4</td>\n",
       "      <td>15701354</td>\n",
       "      <td>699</td>\n",
       "      <td>39</td>\n",
       "      <td>1</td>\n",
       "      <td>0</td>\n",
       "      <td>2</td>\n",
       "      <td>0</td>\n",
       "      <td>0</td>\n",
       "      <td>93826</td>\n",
       "      <td>0</td>\n",
       "      <td>289.0</td>\n",
       "      <td>0.0</td>\n",
       "      <td>0.0</td>\n",
       "    </tr>\n",
       "    <tr>\n",
       "      <td>4</td>\n",
       "      <td>5</td>\n",
       "      <td>15737888</td>\n",
       "      <td>850</td>\n",
       "      <td>43</td>\n",
       "      <td>2</td>\n",
       "      <td>125510</td>\n",
       "      <td>1</td>\n",
       "      <td>1</td>\n",
       "      <td>1</td>\n",
       "      <td>79084</td>\n",
       "      <td>0</td>\n",
       "      <td>1822.0</td>\n",
       "      <td>2.0</td>\n",
       "      <td>0.0</td>\n",
       "    </tr>\n",
       "  </tbody>\n",
       "</table>\n",
       "</div>"
      ],
      "text/plain": [
       "   RowNumber  CustomerId  CreditScore  Age  Tenure  Balance  NumOfProducts  \\\n",
       "0          1    15634602          619   42       2        0              1   \n",
       "1          2    15647311          608   41       1    83807              1   \n",
       "2          3    15619304          502   42       8   159660              3   \n",
       "3          4    15701354          699   39       1        0              2   \n",
       "4          5    15737888          850   43       2   125510              1   \n",
       "\n",
       "   HasCrCard  IsActiveMember  EstimatedSalary  Exited  Surname_code  \\\n",
       "0          1               1           101348       1        1115.0   \n",
       "1          0               1           112542       0        1177.0   \n",
       "2          1               0           113931       1        2040.0   \n",
       "3          0               0            93826       0         289.0   \n",
       "4          1               1            79084       0        1822.0   \n",
       "\n",
       "   Geography_code  Gender_code  \n",
       "0             0.0          0.0  \n",
       "1             2.0          0.0  \n",
       "2             0.0          0.0  \n",
       "3             0.0          0.0  \n",
       "4             2.0          0.0  "
      ]
     },
     "execution_count": 13,
     "metadata": {},
     "output_type": "execute_result"
    }
   ],
   "source": [
    "df.head()"
   ]
  },
  {
   "cell_type": "markdown",
   "metadata": {},
   "source": [
    "**Разбил данные на три выборки, тренировочную, валидационную и тестовую, в соотношении 6:2:2 соответственно.**"
   ]
  },
  {
   "cell_type": "code",
   "execution_count": 14,
   "metadata": {},
   "outputs": [],
   "source": [
    "df_train, df_temporary = train_test_split(df, test_size=0.4, random_state=12345)\n",
    "df_valid, df_test = train_test_split(df_temporary, test_size=0.5, random_state=12345)"
   ]
  },
  {
   "cell_type": "code",
   "execution_count": 15,
   "metadata": {},
   "outputs": [
    {
     "name": "stdout",
     "output_type": "stream",
     "text": [
      "(6000, 14)\n",
      "(2000, 14)\n",
      "(2000, 14)\n"
     ]
    }
   ],
   "source": [
    "#проверим размеры полученных наборов\n",
    "print(df_train.shape)\n",
    "print(df_valid.shape)\n",
    "print(df_test.shape)"
   ]
  },
  {
   "cell_type": "markdown",
   "metadata": {},
   "source": [
    "## Исследование задачи"
   ]
  },
  {
   "cell_type": "markdown",
   "metadata": {},
   "source": [
    "**Исследуем баланс классов с помощью мтарицы ошибок, обучим модели без учёта дисбаланса**"
   ]
  },
  {
   "cell_type": "code",
   "execution_count": 16,
   "metadata": {},
   "outputs": [],
   "source": [
    "# выделил признаки и целевой признак для обучающей и валидационной выборок.\n",
    "target_valid = df_valid['Exited']\n",
    "features_valid = df_valid.drop('Exited', axis=1)\n",
    "target_train = df_train['Exited']\n",
    "features_train = df_train.drop('Exited', axis=1)"
   ]
  },
  {
   "cell_type": "code",
   "execution_count": 17,
   "metadata": {},
   "outputs": [
    {
     "name": "stdout",
     "output_type": "stream",
     "text": [
      "[[1582    0]\n",
      " [ 418    0]] \n",
      "\n",
      "0.0 \n",
      "\n",
      "0.0 \n",
      "\n",
      "0.0\n"
     ]
    },
    {
     "name": "stderr",
     "output_type": "stream",
     "text": [
      "/opt/conda/lib/python3.7/site-packages/sklearn/metrics/classification.py:1437: UndefinedMetricWarning: Precision is ill-defined and being set to 0.0 due to no predicted samples.\n",
      "  'precision', 'predicted', average, warn_for)\n",
      "/opt/conda/lib/python3.7/site-packages/sklearn/metrics/classification.py:1437: UndefinedMetricWarning: F-score is ill-defined and being set to 0.0 due to no predicted samples.\n",
      "  'precision', 'predicted', average, warn_for)\n"
     ]
    }
   ],
   "source": [
    "model = LogisticRegression(random_state=12345, solver='liblinear')\n",
    "model.fit(features_train, target_train)\n",
    "predicted_valid = model.predict(features_valid)\n",
    "\n",
    "print(confusion_matrix(target_valid, predicted_valid),'\\n') #Рассчитаем матрицу ошибок функцией confusion_matrix()\n",
    "print(recall_score(target_valid,predicted_valid), '\\n')\n",
    "print(precision_score(target_valid,predicted_valid), '\\n')\n",
    "print(f1_score(target_valid,predicted_valid))"
   ]
  },
  {
   "cell_type": "code",
   "execution_count": 18,
   "metadata": {},
   "outputs": [
    {
     "name": "stdout",
     "output_type": "stream",
     "text": [
      "max_depth = 1\n",
      "полнота: 0.0 \n",
      "\n",
      "точность: 0.0 \n",
      "\n",
      "F1 0.0 \n",
      "\n",
      "max_depth = 2\n",
      "полнота: 0.45933014354066987 \n",
      "\n",
      "точность: 0.6037735849056604 \n",
      "\n",
      "F1 0.5217391304347825 \n",
      "\n",
      "max_depth = 3\n",
      "полнота: 0.284688995215311 \n",
      "\n",
      "точность: 0.8263888888888888 \n",
      "\n",
      "F1 0.4234875444839857 \n",
      "\n",
      "max_depth = 4\n",
      "полнота: 0.43779904306220097 \n",
      "\n",
      "точность: 0.75 \n",
      "\n",
      "F1 0.5528700906344411 \n",
      "\n"
     ]
    },
    {
     "name": "stderr",
     "output_type": "stream",
     "text": [
      "/opt/conda/lib/python3.7/site-packages/sklearn/metrics/classification.py:1437: UndefinedMetricWarning: Precision is ill-defined and being set to 0.0 due to no predicted samples.\n",
      "  'precision', 'predicted', average, warn_for)\n",
      "/opt/conda/lib/python3.7/site-packages/sklearn/metrics/classification.py:1437: UndefinedMetricWarning: F-score is ill-defined and being set to 0.0 due to no predicted samples.\n",
      "  'precision', 'predicted', average, warn_for)\n"
     ]
    },
    {
     "name": "stdout",
     "output_type": "stream",
     "text": [
      "max_depth = 5\n",
      "полнота: 0.38516746411483255 \n",
      "\n",
      "точность: 0.8009950248756219 \n",
      "\n",
      "F1 0.5201938610662359 \n",
      "\n",
      "[[1542   40]\n",
      " [ 257  161]]\n"
     ]
    }
   ],
   "source": [
    "#с помощью функции переберем несколько значений параметра max_depth\n",
    "for depth in range(1, 6):\n",
    "    model = DecisionTreeClassifier(random_state=12345, max_depth=depth)\n",
    "    model.fit(features_train, target_train)\n",
    "    predicted_valid = model.predict(features_valid)\n",
    "    print(\"max_depth =\", depth)\n",
    "    print(\"полнота:\",recall_score(target_valid,predicted_valid), '\\n')\n",
    "    print(\"точность:\",precision_score(target_valid,predicted_valid), '\\n')\n",
    "    print('F1',f1_score(target_valid,predicted_valid), '\\n')\n",
    "print(confusion_matrix(target_valid, predicted_valid))"
   ]
  },
  {
   "cell_type": "code",
   "execution_count": 19,
   "metadata": {},
   "outputs": [
    {
     "name": "stdout",
     "output_type": "stream",
     "text": [
      "n_estimators = 1\n",
      "полнота: 0.45454545454545453 \n",
      "\n",
      "точность: 0.4481132075471698 \n",
      "\n",
      "F1 0.4513064133016627 \n",
      "\n",
      "n_estimators = 6\n",
      "полнота: 0.3827751196172249 \n",
      "\n",
      "точность: 0.6986899563318777 \n",
      "\n",
      "F1 0.4945904173106645 \n",
      "\n",
      "n_estimators = 11\n",
      "полнота: 0.47129186602870815 \n",
      "\n",
      "точность: 0.7323420074349443 \n",
      "\n",
      "F1 0.5735080058224163 \n",
      "\n",
      "n_estimators = 16\n",
      "полнота: 0.44019138755980863 \n",
      "\n",
      "точность: 0.7634854771784232 \n",
      "\n",
      "F1 0.5584218512898331 \n",
      "\n",
      "n_estimators = 21\n",
      "полнота: 0.46172248803827753 \n",
      "\n",
      "точность: 0.7423076923076923 \n",
      "\n",
      "F1 0.5693215339233039 \n",
      "\n",
      "n_estimators = 26\n",
      "полнота: 0.44258373205741625 \n",
      "\n",
      "точность: 0.7676348547717843 \n",
      "\n",
      "F1 0.5614567526555386 \n",
      "\n",
      "n_estimators = 31\n",
      "полнота: 0.4449760765550239 \n",
      "\n",
      "точность: 0.7410358565737052 \n",
      "\n",
      "F1 0.5560538116591928 \n",
      "\n",
      "n_estimators = 36\n",
      "полнота: 0.42822966507177035 \n",
      "\n",
      "точность: 0.7748917748917749 \n",
      "\n",
      "F1 0.551617873651772 \n",
      "\n",
      "n_estimators = 41\n",
      "полнота: 0.4354066985645933 \n",
      "\n",
      "точность: 0.7583333333333333 \n",
      "\n",
      "F1 0.5531914893617021 \n",
      "\n",
      "n_estimators = 46\n",
      "полнота: 0.42105263157894735 \n",
      "\n",
      "точность: 0.7822222222222223 \n",
      "\n",
      "F1 0.5474339035769828 \n",
      "\n",
      "[[1533   49]\n",
      " [ 242  176]]\n"
     ]
    }
   ],
   "source": [
    "#с помощью функции переберем несколько значений параметра n_estimators\n",
    "for est in range(1, 50, 5):\n",
    "    model = RandomForestClassifier(random_state=12345, n_estimators=est) \n",
    "    model.fit(features_train, target_train) \n",
    "    predicted_valid = model.predict(features_valid)\n",
    "    print(\"n_estimators =\", est)\n",
    "    print(\"полнота:\",recall_score(target_valid,predicted_valid), '\\n')\n",
    "    print(\"точность:\",precision_score(target_valid,predicted_valid), '\\n')\n",
    "    print('F1',f1_score(target_valid,predicted_valid), '\\n')\n",
    "print(confusion_matrix(target_valid, predicted_valid))"
   ]
  },
  {
   "cell_type": "markdown",
   "metadata": {},
   "source": [
    "**Исходя из результатов можно сделать вывод, что модели часто дают ложно-отрицательные ответы.**"
   ]
  },
  {
   "cell_type": "markdown",
   "metadata": {},
   "source": [
    "## Борьба с дисбалансом"
   ]
  },
  {
   "cell_type": "markdown",
   "metadata": {},
   "source": [
    "**Попробуем улучшить качество модели, учитывая дисбаланс классов.**"
   ]
  },
  {
   "cell_type": "code",
   "execution_count": 20,
   "metadata": {},
   "outputs": [
    {
     "name": "stdout",
     "output_type": "stream",
     "text": [
      "F1: 0.4923076923076924\n"
     ]
    }
   ],
   "source": [
    "model = LogisticRegression(random_state=12345, solver='liblinear', class_weight='balanced')\n",
    "model.fit(features_train, target_train)\n",
    "predicted_valid = model.predict(features_valid)\n",
    "\n",
    "print(\"F1:\", f1_score(target_valid, predicted_valid))"
   ]
  },
  {
   "cell_type": "markdown",
   "metadata": {},
   "source": [
    "**Метрика F1 все еще недопустимо мала, по заданию нам требуется F1>=0.59**"
   ]
  },
  {
   "cell_type": "markdown",
   "metadata": {},
   "source": [
    "**Узнаем количество объектов редкого класса, и затем техникой upsampling сделаем их не такими редкими.**"
   ]
  },
  {
   "cell_type": "code",
   "execution_count": 21,
   "metadata": {},
   "outputs": [
    {
     "name": "stdout",
     "output_type": "stream",
     "text": [
      "(4804, 13)\n",
      "(1196, 13)\n",
      "(4804,)\n",
      "(1196,)\n"
     ]
    }
   ],
   "source": [
    "features_zeros = features_train[target_train == 0]\n",
    "features_ones = features_train[target_train == 1]\n",
    "target_zeros = target_train[target_train == 0]\n",
    "target_ones  = target_train[target_train == 1]\n",
    "\n",
    "\n",
    "print(features_zeros.shape)\n",
    "print(features_ones.shape)\n",
    "print(target_zeros.shape)\n",
    "print(target_ones.shape)"
   ]
  },
  {
   "cell_type": "markdown",
   "metadata": {},
   "source": [
    "**Преобразование проходит в несколько этапов:**\n",
    "\n",
    "1) Разделим обучающую выборку на отрицательные и положительные объекты;\n",
    "\n",
    "2) Скопируем несколько раз положительные объекты;\n",
    "\n",
    "3) С учётом полученных данных создадим новую обучающую выборку;\n",
    "\n",
    "4) Перемешаем данные функцией shuffle()."
   ]
  },
  {
   "cell_type": "code",
   "execution_count": 22,
   "metadata": {},
   "outputs": [
    {
     "name": "stdout",
     "output_type": "stream",
     "text": [
      "F1: 0.4973637961335676\n"
     ]
    }
   ],
   "source": [
    "def upsample(features, target, repeat):\n",
    "    features_zeros = features[target == 0]\n",
    "    features_ones = features[target == 1]\n",
    "    target_zeros = target[target == 0]\n",
    "    target_ones = target[target == 1]\n",
    "\n",
    "    features_upsampled = pd.concat([features_zeros] + [features_ones] * repeat)\n",
    "    target_upsampled = pd.concat([target_zeros] + [target_ones] * repeat)\n",
    "    \n",
    "    features_upsampled, target_upsampled = shuffle(\n",
    "        features_upsampled, target_upsampled, random_state=12345)\n",
    "    \n",
    "    return features_upsampled, target_upsampled\n",
    "\n",
    "features_upsampled, target_upsampled = upsample(features_train, target_train, 5)\n",
    "\n",
    "model = LogisticRegression(random_state=12345, solver='liblinear', class_weight='balanced')\n",
    "model.fit(features_upsampled, target_upsampled)\n",
    "predicted_valid = model.predict(features_valid)\n",
    "\n",
    "print(\"F1:\", f1_score(target_valid, predicted_valid))"
   ]
  },
  {
   "cell_type": "markdown",
   "metadata": {},
   "source": [
    "**Метрика F1 все еще недопустимо мала.**"
   ]
  },
  {
   "cell_type": "markdown",
   "metadata": {},
   "source": [
    "**Теперь воспользуемся техникой downsampling, чтобы сделать объекты частого класса не такими частыми.**"
   ]
  },
  {
   "cell_type": "markdown",
   "metadata": {},
   "source": [
    "**Преобразование проходит в несколько этапов:**\n",
    "\n",
    "1) Разделим обучающую выборку на отрицательные и положительные объекты;\n",
    "\n",
    "2) Случайным образом отбросим часть из отрицательных объектов, применив для этого функцию sample();\n",
    "\n",
    "3) С учётом полученных данных создадим новую обучающую выборку;\n",
    "\n",
    "4) Перемешаем данные. Положительные не должны идти следом за отрицательными: алгоритмам будет сложнее обучаться."
   ]
  },
  {
   "cell_type": "code",
   "execution_count": 23,
   "metadata": {},
   "outputs": [
    {
     "name": "stdout",
     "output_type": "stream",
     "text": [
      "F1: 0.48406546080964685\n"
     ]
    }
   ],
   "source": [
    "def downsample(features, target, fraction):\n",
    "    features_zeros = features[target == 0]\n",
    "    features_ones = features[target == 1]\n",
    "    target_zeros = target[target == 0]\n",
    "    target_ones = target[target == 1]\n",
    "\n",
    "    features_downsampled = pd.concat([features_zeros.sample(frac=fraction, random_state=12345)] + [features_ones])\n",
    "    target_downsampled = pd.concat([target_zeros.sample(frac=fraction, random_state=12345)] + [target_ones])\n",
    "    \n",
    "    features_downsampled, target_downsampled = shuffle(\n",
    "        features_downsampled, target_downsampled, random_state=12345)\n",
    "    \n",
    "    return features_downsampled, target_downsampled\n",
    "\n",
    "features_downsampled, target_downsampled = downsample(features_train, target_train, 0.2)\n",
    "\n",
    "model = LogisticRegression(random_state=12345,solver='liblinear', class_weight='balanced')\n",
    "model.fit(features_downsampled,target_downsampled)\n",
    "predicted_valid = model.predict(features_valid)\n",
    "\n",
    "print(\"F1:\", f1_score(target_valid, predicted_valid))"
   ]
  },
  {
   "cell_type": "markdown",
   "metadata": {},
   "source": [
    "**Пока не удалось достич необходимого значения метрики F1**"
   ]
  },
  {
   "cell_type": "markdown",
   "metadata": {},
   "source": [
    "**Изменим значение порога и посмотрим, какой станет метрика F1. Изменять вероятность классов будем функцией predict_proba. Также чтобы выявить, как сильно наша модель отличается от случайной, узнаем величину метрики AUC-ROC(у случайной модели она равна 0.5)** "
   ]
  },
  {
   "cell_type": "code",
   "execution_count": 24,
   "metadata": {},
   "outputs": [
    {
     "name": "stdout",
     "output_type": "stream",
     "text": [
      "Порог = 0.00 | F1 = 0.346\n",
      "Порог = 0.02 | F1 = 0.346\n",
      "Порог = 0.04 | F1 = 0.346\n",
      "Порог = 0.06 | F1 = 0.346\n",
      "Порог = 0.08 | F1 = 0.346\n",
      "Порог = 0.10 | F1 = 0.346\n",
      "Порог = 0.12 | F1 = 0.347\n",
      "Порог = 0.14 | F1 = 0.349\n",
      "Порог = 0.16 | F1 = 0.351\n",
      "Порог = 0.18 | F1 = 0.353\n",
      "Порог = 0.20 | F1 = 0.360\n",
      "Порог = 0.22 | F1 = 0.365\n",
      "Порог = 0.24 | F1 = 0.368\n",
      "Порог = 0.26 | F1 = 0.376\n",
      "Порог = 0.28 | F1 = 0.389\n",
      "Порог = 0.30 | F1 = 0.396\n",
      "Порог = 0.32 | F1 = 0.406\n",
      "Порог = 0.34 | F1 = 0.416\n",
      "Порог = 0.36 | F1 = 0.421\n",
      "Порог = 0.38 | F1 = 0.438\n",
      "Порог = 0.40 | F1 = 0.449\n",
      "Порог = 0.42 | F1 = 0.454\n",
      "Порог = 0.44 | F1 = 0.464\n",
      "Порог = 0.46 | F1 = 0.468\n",
      "Порог = 0.48 | F1 = 0.477\n",
      "\n",
      "0.7449083287462421\n"
     ]
    }
   ],
   "source": [
    "model = LogisticRegression(random_state=12345,solver='liblinear', class_weight='balanced')\n",
    "model.fit(features_train,target_train)\n",
    "probabilities_valid = model.predict_proba(features_valid)\n",
    "probabilities_one_valid = probabilities_valid[:, 1]\n",
    "for threshold in np.arange(0, 0.5, 0.02):\n",
    "    predicted_valid = probabilities_one_valid > threshold\n",
    "    f1 = f1_score(target_valid, predicted_valid)\n",
    "    print(\"Порог = {:.2f} | F1 = {:.3f}\".format(threshold, f1))\n",
    "    \n",
    "auc_roc = roc_auc_score(target_valid, probabilities_one_valid) #функция для расчета метрики AUC-ROC\n",
    "print()\n",
    "print(auc_roc)"
   ]
  },
  {
   "cell_type": "markdown",
   "metadata": {},
   "source": [
    "### Вывод:\n",
    "**Нам так и не удалось достигнуть подходящей величины метрики F1 для модели логистической регрессии.**"
   ]
  },
  {
   "cell_type": "markdown",
   "metadata": {},
   "source": [
    "**Теперь применим все те же методы и техники, которые мы использовали на модели логистической регрессии, но уже для модели дерева решений.**"
   ]
  },
  {
   "cell_type": "code",
   "execution_count": 25,
   "metadata": {},
   "outputs": [
    {
     "name": "stdout",
     "output_type": "stream",
     "text": [
      "F1: 0.5839572192513369\n"
     ]
    }
   ],
   "source": [
    "model = DecisionTreeClassifier(random_state=12345, max_depth=5, class_weight='balanced')\n",
    "model.fit(features_train, target_train)\n",
    "predicted_valid = model.predict(features_valid)\n",
    "\n",
    "print(\"F1:\", f1_score(target_valid, predicted_valid))"
   ]
  },
  {
   "cell_type": "markdown",
   "metadata": {},
   "source": [
    "**Снова видим низкий F1**"
   ]
  },
  {
   "cell_type": "code",
   "execution_count": 26,
   "metadata": {},
   "outputs": [
    {
     "name": "stdout",
     "output_type": "stream",
     "text": [
      "F1: 0.5839572192513369\n"
     ]
    }
   ],
   "source": [
    "model = DecisionTreeClassifier(random_state=12345, max_depth=5, class_weight='balanced')\n",
    "model.fit(features_upsampled, target_upsampled)\n",
    "predicted_valid = model.predict(features_valid)\n",
    "\n",
    "print(\"F1:\", f1_score(target_valid, predicted_valid))"
   ]
  },
  {
   "cell_type": "markdown",
   "metadata": {},
   "source": [
    "**Переберем с помощью функции параметр max_depth для модели дерево решений на признаках после апсемплинга.**"
   ]
  },
  {
   "cell_type": "code",
   "execution_count": 27,
   "metadata": {},
   "outputs": [
    {
     "name": "stdout",
     "output_type": "stream",
     "text": [
      "max_depth = 1 : F1: 0.4994903160040775\n",
      "max_depth = 2 : F1: 0.541015625\n",
      "max_depth = 3 : F1: 0.541015625\n",
      "max_depth = 4 : F1: 0.524239934264585\n",
      "max_depth = 5 : F1: 0.5839572192513369\n",
      "max_depth = 6 : F1: 0.5475763016157988\n",
      "max_depth = 7 : F1: 0.527651858567543\n",
      "max_depth = 8 : F1: 0.5323047251687562\n",
      "max_depth = 9 : F1: 0.510879848628193\n"
     ]
    }
   ],
   "source": [
    "for depth in range(1, 10):\n",
    "    model = DecisionTreeClassifier(random_state=12345, max_depth=depth, class_weight='balanced')\n",
    "    model.fit(features_upsampled, target_upsampled)\n",
    "    predicted_valid = model.predict(features_valid)\n",
    "    print(\"max_depth =\", depth, \": \", end='')\n",
    "    print(\"F1:\", f1_score(target_valid, predicted_valid))"
   ]
  },
  {
   "cell_type": "markdown",
   "metadata": {},
   "source": [
    "**Лучший результат F1=0.58 для max_depth = 5. Техника upsample не подходит, хотя значение F1 достигало 0.58**"
   ]
  },
  {
   "cell_type": "code",
   "execution_count": 28,
   "metadata": {},
   "outputs": [
    {
     "name": "stdout",
     "output_type": "stream",
     "text": [
      "F1: 0.5439856373429084\n"
     ]
    }
   ],
   "source": [
    "model = DecisionTreeClassifier(random_state=12345, max_depth=5, class_weight='balanced')\n",
    "model.fit(features_downsampled, target_downsampled)\n",
    "predicted_valid = model.predict(features_valid)\n",
    "\n",
    "print(\"F1:\", f1_score(target_valid, predicted_valid))"
   ]
  },
  {
   "cell_type": "markdown",
   "metadata": {},
   "source": [
    "**Техника downsample не подходит**"
   ]
  },
  {
   "cell_type": "markdown",
   "metadata": {},
   "source": [
    "**Сделаем перебор порога с помощью функции**"
   ]
  },
  {
   "cell_type": "code",
   "execution_count": 29,
   "metadata": {},
   "outputs": [
    {
     "name": "stdout",
     "output_type": "stream",
     "text": [
      "Порог = 0.00 | F1 = 0.337\n",
      "Порог = 0.02 | F1 = 0.337\n",
      "Порог = 0.04 | F1 = 0.375\n",
      "Порог = 0.06 | F1 = 0.375\n",
      "Порог = 0.08 | F1 = 0.375\n",
      "Порог = 0.10 | F1 = 0.375\n",
      "Порог = 0.12 | F1 = 0.375\n",
      "Порог = 0.14 | F1 = 0.392\n",
      "Порог = 0.16 | F1 = 0.403\n",
      "Порог = 0.18 | F1 = 0.404\n",
      "Порог = 0.20 | F1 = 0.438\n",
      "Порог = 0.22 | F1 = 0.438\n",
      "Порог = 0.24 | F1 = 0.438\n",
      "Порог = 0.26 | F1 = 0.474\n",
      "Порог = 0.28 | F1 = 0.474\n",
      "Порог = 0.30 | F1 = 0.474\n",
      "Порог = 0.32 | F1 = 0.474\n",
      "Порог = 0.34 | F1 = 0.474\n",
      "Порог = 0.36 | F1 = 0.496\n",
      "Порог = 0.38 | F1 = 0.496\n",
      "Порог = 0.40 | F1 = 0.496\n",
      "Порог = 0.42 | F1 = 0.496\n",
      "Порог = 0.44 | F1 = 0.523\n",
      "Порог = 0.46 | F1 = 0.584\n",
      "Порог = 0.48 | F1 = 0.584\n",
      "Порог = 0.50 | F1 = 0.584\n",
      "Порог = 0.52 | F1 = 0.584\n",
      "Порог = 0.54 | F1 = 0.584\n",
      "Порог = 0.56 | F1 = 0.584\n",
      "Порог = 0.58 | F1 = 0.595\n",
      "Порог = 0.60 | F1 = 0.595\n",
      "Порог = 0.62 | F1 = 0.595\n",
      "Порог = 0.64 | F1 = 0.595\n",
      "Порог = 0.66 | F1 = 0.595\n",
      "Порог = 0.68 | F1 = 0.539\n",
      "\n",
      "0.8053641747167597\n"
     ]
    }
   ],
   "source": [
    "model = DecisionTreeClassifier(random_state=12345, max_depth=5, class_weight='balanced')\n",
    "model.fit(features_train, target_train)\n",
    "probabilities_valid = model.predict_proba(features_valid)\n",
    "probabilities_one_valid = probabilities_valid[:, 1]\n",
    "for threshold in np.arange(0, 0.7, 0.02):\n",
    "    predicted_valid = probabilities_one_valid > threshold\n",
    "    f1 = f1_score(target_valid, predicted_valid)\n",
    "    print(\"Порог = {:.2f} | F1 = {:.3f}\".format(threshold, f1))\n",
    "    \n",
    "auc_roc = roc_auc_score(target_valid, probabilities_one_valid)\n",
    "print()\n",
    "print(auc_roc)    "
   ]
  },
  {
   "cell_type": "markdown",
   "metadata": {},
   "source": [
    "### Вывод:\n",
    "**Подходящий уровень метрики F1 встречается при переборе порога на модели дерево решений**"
   ]
  },
  {
   "cell_type": "markdown",
   "metadata": {},
   "source": [
    "**Теперь все те же техники применим к модели случайный лес**"
   ]
  },
  {
   "cell_type": "code",
   "execution_count": 30,
   "metadata": {},
   "outputs": [
    {
     "name": "stdout",
     "output_type": "stream",
     "text": [
      "F1: 0.5237315875613747\n"
     ]
    }
   ],
   "source": [
    "model = RandomForestClassifier(random_state=12345, n_estimators=50, class_weight='balanced')\n",
    "model.fit(features_train, target_train)\n",
    "predicted_valid = model.predict(features_valid)\n",
    "\n",
    "print(\"F1:\", f1_score(target_valid, predicted_valid))"
   ]
  },
  {
   "cell_type": "markdown",
   "metadata": {},
   "source": [
    "**F1 уже выше, но недостаточно**"
   ]
  },
  {
   "cell_type": "code",
   "execution_count": 31,
   "metadata": {},
   "outputs": [
    {
     "name": "stdout",
     "output_type": "stream",
     "text": [
      "F1: 0.5589887640449438\n"
     ]
    }
   ],
   "source": [
    "model = RandomForestClassifier(random_state=12345, n_estimators=30, class_weight='balanced')\n",
    "model.fit(features_upsampled, target_upsampled)\n",
    "predicted_valid = model.predict(features_valid)\n",
    "\n",
    "print(\"F1:\", f1_score(target_valid, predicted_valid))"
   ]
  },
  {
   "cell_type": "markdown",
   "metadata": {},
   "source": [
    "**Техника upsample сильно улучшила показатель F1**"
   ]
  },
  {
   "cell_type": "code",
   "execution_count": 32,
   "metadata": {},
   "outputs": [
    {
     "name": "stdout",
     "output_type": "stream",
     "text": [
      "F1: 0.5618556701030928\n"
     ]
    }
   ],
   "source": [
    "model = RandomForestClassifier(random_state=12345, n_estimators=50, class_weight='balanced')\n",
    "model.fit(features_downsampled, target_downsampled)\n",
    "predicted_valid = model.predict(features_valid)\n",
    "\n",
    "print(\"F1:\", f1_score(target_valid, predicted_valid))"
   ]
  },
  {
   "cell_type": "markdown",
   "metadata": {},
   "source": [
    "**Техника downsample все еще не дает нам подходящее значение метрики F1**"
   ]
  },
  {
   "cell_type": "markdown",
   "metadata": {},
   "source": [
    "**Переберем с помощью функции параметр n_estimators для модели случайного леса на признаках после даунсемплинга.**"
   ]
  },
  {
   "cell_type": "code",
   "execution_count": 33,
   "metadata": {},
   "outputs": [
    {
     "name": "stdout",
     "output_type": "stream",
     "text": [
      "n_estimators = 1 : F1 = 0.450920245398773\n",
      "n_estimators = 6 : F1 = 0.5314814814814814\n",
      "n_estimators = 11 : F1 = 0.5305126118795769\n",
      "n_estimators = 16 : F1 = 0.5473501303214596\n",
      "n_estimators = 21 : F1 = 0.5439469320066336\n",
      "n_estimators = 26 : F1 = 0.5520833333333334\n",
      "n_estimators = 31 : F1 = 0.5512073272273106\n",
      "n_estimators = 36 : F1 = 0.5558397271952259\n",
      "n_estimators = 41 : F1 = 0.5552784704904407\n",
      "n_estimators = 46 : F1 = 0.5636208368915456\n"
     ]
    }
   ],
   "source": [
    "for est in range(1, 50, 5):\n",
    "    model = RandomForestClassifier(random_state=12345, n_estimators=est, class_weight='balanced') \n",
    "    model.fit(features_downsampled, target_downsampled) \n",
    "    predicted_valid = model.predict(features_valid)\n",
    "    print(\"n_estimators =\", est, \": \", end='')\n",
    "    print('F1 =',f1_score(target_valid,predicted_valid))"
   ]
  },
  {
   "cell_type": "markdown",
   "metadata": {},
   "source": [
    "**Лучший результат F1=0.56 для n_estimators = 46.**"
   ]
  },
  {
   "cell_type": "code",
   "execution_count": 34,
   "metadata": {},
   "outputs": [
    {
     "name": "stdout",
     "output_type": "stream",
     "text": [
      "Порог = 0.00 | F1 = 0.371\n",
      "Порог = 0.02 | F1 = 0.371\n",
      "Порог = 0.04 | F1 = 0.407\n",
      "Порог = 0.06 | F1 = 0.407\n",
      "Порог = 0.08 | F1 = 0.446\n",
      "Порог = 0.10 | F1 = 0.485\n",
      "Порог = 0.12 | F1 = 0.485\n",
      "Порог = 0.14 | F1 = 0.512\n",
      "Порог = 0.16 | F1 = 0.512\n",
      "Порог = 0.18 | F1 = 0.549\n",
      "Порог = 0.20 | F1 = 0.583\n",
      "Порог = 0.22 | F1 = 0.583\n",
      "Порог = 0.24 | F1 = 0.604\n",
      "Порог = 0.26 | F1 = 0.604\n",
      "Порог = 0.28 | F1 = 0.602\n",
      "Порог = 0.30 | F1 = 0.613\n",
      "Порог = 0.32 | F1 = 0.613\n",
      "Порог = 0.34 | F1 = 0.606\n",
      "Порог = 0.36 | F1 = 0.606\n",
      "Порог = 0.38 | F1 = 0.587\n",
      "Порог = 0.40 | F1 = 0.571\n",
      "Порог = 0.42 | F1 = 0.571\n",
      "Порог = 0.44 | F1 = 0.550\n",
      "Порог = 0.46 | F1 = 0.550\n",
      "Порог = 0.48 | F1 = 0.538\n",
      "\n",
      "0.8247547166387408\n"
     ]
    }
   ],
   "source": [
    "model = RandomForestClassifier(random_state=12345, n_estimators=30, class_weight='balanced')\n",
    "model.fit(features_train, target_train)\n",
    "probabilities_valid = model.predict_proba(features_valid)\n",
    "probabilities_one_valid = probabilities_valid[:, 1]\n",
    "for threshold in np.arange(0, 0.5, 0.02):\n",
    "    predicted_valid = probabilities_one_valid > threshold\n",
    "    f1 = f1_score(target_valid, predicted_valid)\n",
    "    print(\"Порог = {:.2f} | F1 = {:.3f}\".format(threshold, f1))\n",
    "    \n",
    "auc_roc = roc_auc_score(target_valid, probabilities_one_valid)\n",
    "print()\n",
    "print(auc_roc)        "
   ]
  },
  {
   "cell_type": "markdown",
   "metadata": {},
   "source": [
    "**Изменяя порог можно заметить высокий показатели метрики F1 до 0.61 и высокий показатель метрики auc-roc**"
   ]
  },
  {
   "cell_type": "markdown",
   "metadata": {},
   "source": [
    "### Вывод:\n",
    "**Модель случайный лес дает нам самый высокий показатель метрики F1.**"
   ]
  },
  {
   "cell_type": "markdown",
   "metadata": {},
   "source": [
    "## Тестирование модели"
   ]
  },
  {
   "cell_type": "markdown",
   "metadata": {},
   "source": [
    "**Модели случайный лес и дерево решений дали нам подходящий уровень метрики F1 при переборе порогов, проверим модель дерево решений с порогом 0.58 для тестовой выборки**"
   ]
  },
  {
   "cell_type": "code",
   "execution_count": 35,
   "metadata": {},
   "outputs": [],
   "source": [
    "#Создадим признаки и целевой признак для тестовой выборки\n",
    "target_test = df_test['Exited']\n",
    "features_test = df_test.drop('Exited', axis=1)"
   ]
  },
  {
   "cell_type": "code",
   "execution_count": 36,
   "metadata": {},
   "outputs": [
    {
     "name": "stdout",
     "output_type": "stream",
     "text": [
      "Порог = 0.58 | F1 = 0.600\n",
      "\n",
      "0.826375303378501\n"
     ]
    }
   ],
   "source": [
    "threshold = 0.58\n",
    "model = DecisionTreeClassifier(random_state=12345, max_depth=5, class_weight='balanced')\n",
    "model.fit(features_train, target_train)\n",
    "probabilities_test = model.predict_proba(features_test)\n",
    "probabilities_one_test = probabilities_test[:, 1]\n",
    "predicted_test = probabilities_one_test > threshold\n",
    "f1 = f1_score(target_test, predicted_test)\n",
    "print(\"Порог = {:.2f} | F1 = {:.3f}\".format(threshold, f1))\n",
    "    \n",
    "auc_roc = roc_auc_score(target_test, probabilities_one_test)\n",
    "print()\n",
    "print(auc_roc)    "
   ]
  },
  {
   "cell_type": "markdown",
   "metadata": {},
   "source": [
    "**Получили подходящее значение F1=0.6, теперь визуализируем ROC-кривую.**"
   ]
  },
  {
   "cell_type": "code",
   "execution_count": 37,
   "metadata": {},
   "outputs": [
    {
     "data": {
      "image/png": "[encoded data removed]",
      "text/plain": [
       "<Figure size 432x288 with 1 Axes>"
      ]
     },
     "metadata": {
      "needs_background": "light"
     },
     "output_type": "display_data"
    }
   ],
   "source": [
    "fpr, tpr, thresholds = roc_curve(target_test, probabilities_one_test)\n",
    "plt.figure()\n",
    "plt.plot(fpr, tpr)\n",
    "plt.xlim([0.0, 1.0])\n",
    "plt.ylim([0.0, 1.0])\n",
    "plt.xlabel('False Positive Rate')\n",
    "plt.ylabel('True Positive Rate')\n",
    "plt.title('ROC-кривая')\n",
    "plt.show() \n"
   ]
  },
  {
   "cell_type": "markdown",
   "metadata": {},
   "source": [
    "## Вывод:\n",
    "**Нам были предоставленны данные о 10 тысячах клиентах банка, в предоставленных данных практически не было пропусков, только в столбце \"сколько лет человек был клиентом банка\" мы заполнили пропуск единицей. Для кодирования некоторых признаков была применена техника Ordinal Encoding. Для борьбы с дисбалансом классов использовали балансирование веса классов, ресемплинг, изменение порога вероятности класса. Применив модели машинного обучения, мы построили модель с предельно большим значением F1-меры, доведя эту  метрику на тестовой выборке до значения 0.6. Также мы получили достаточно высокое значение метрики AUC-ROC = 0.82, при том, что для случайной модели данная метрика равна 0.5.**"
   ]
  },
  {
   "cell_type": "code",
   "execution_count": null,
   "metadata": {},
   "outputs": [],
   "source": []
  }
 ],
 "metadata": {
  "ExecuteTimeLog": [
   {
    "duration": 630,
    "start_time": "2022-01-15T13:27:39.514Z"
   },
   {
    "duration": 31,
    "start_time": "2022-01-15T13:28:02.951Z"
   },
   {
    "duration": 16,
    "start_time": "2022-01-15T13:28:09.037Z"
   },
   {
    "duration": 12,
    "start_time": "2022-01-15T13:28:12.400Z"
   },
   {
    "duration": 11,
    "start_time": "2022-01-15T13:28:16.163Z"
   },
   {
    "duration": 15,
    "start_time": "2022-01-15T13:28:23.787Z"
   },
   {
    "duration": 293,
    "start_time": "2022-01-15T13:28:41.557Z"
   },
   {
    "duration": 245,
    "start_time": "2022-01-15T13:28:49.009Z"
   },
   {
    "duration": 40,
    "start_time": "2022-01-15T13:29:03.248Z"
   },
   {
    "duration": 36,
    "start_time": "2022-01-15T13:29:13.724Z"
   },
   {
    "duration": 13,
    "start_time": "2022-01-15T13:29:26.578Z"
   },
   {
    "duration": 8,
    "start_time": "2022-01-15T13:29:38.777Z"
   },
   {
    "duration": 497,
    "start_time": "2022-01-15T13:41:17.248Z"
   },
   {
    "duration": 27,
    "start_time": "2022-01-15T13:41:17.747Z"
   },
   {
    "duration": 10,
    "start_time": "2022-01-15T13:41:17.776Z"
   },
   {
    "duration": 9,
    "start_time": "2022-01-15T13:41:18.046Z"
   },
   {
    "duration": 9,
    "start_time": "2022-01-15T13:45:32.472Z"
   },
   {
    "duration": 6,
    "start_time": "2022-01-15T13:50:25.074Z"
   },
   {
    "duration": 311,
    "start_time": "2022-01-15T13:51:32.822Z"
   },
   {
    "duration": 3,
    "start_time": "2022-01-15T13:55:06.430Z"
   },
   {
    "duration": 3,
    "start_time": "2022-01-15T13:55:30.220Z"
   },
   {
    "duration": 607,
    "start_time": "2022-01-15T13:57:49.835Z"
   },
   {
    "duration": 5,
    "start_time": "2022-01-15T14:01:34.873Z"
   },
   {
    "duration": 9,
    "start_time": "2022-01-15T14:01:44.831Z"
   },
   {
    "duration": 6,
    "start_time": "2022-01-15T14:01:53.004Z"
   },
   {
    "duration": 249,
    "start_time": "2022-01-15T14:01:53.368Z"
   },
   {
    "duration": 249,
    "start_time": "2022-01-15T14:01:54.264Z"
   },
   {
    "duration": 3,
    "start_time": "2022-01-15T14:02:17.920Z"
   },
   {
    "duration": 9,
    "start_time": "2022-01-15T14:02:19.900Z"
   },
   {
    "duration": 7,
    "start_time": "2022-01-15T14:02:20.725Z"
   },
   {
    "duration": 47,
    "start_time": "2022-01-15T14:02:21.390Z"
   },
   {
    "duration": 45,
    "start_time": "2022-01-15T14:02:27.708Z"
   },
   {
    "duration": 261,
    "start_time": "2022-01-15T14:02:28.685Z"
   },
   {
    "duration": 309,
    "start_time": "2022-01-15T14:05:31.800Z"
   },
   {
    "duration": 6,
    "start_time": "2022-01-15T14:05:51.168Z"
   },
   {
    "duration": 38,
    "start_time": "2022-01-15T14:05:54.848Z"
   },
   {
    "duration": 248,
    "start_time": "2022-01-15T14:05:56.503Z"
   },
   {
    "duration": 5,
    "start_time": "2022-01-15T14:06:16.426Z"
   },
   {
    "duration": 42,
    "start_time": "2022-01-15T14:06:16.720Z"
   },
   {
    "duration": 253,
    "start_time": "2022-01-15T14:06:17.667Z"
   },
   {
    "duration": 82,
    "start_time": "2022-01-15T14:09:13.129Z"
   },
   {
    "duration": 35,
    "start_time": "2022-01-15T14:09:40.244Z"
   },
   {
    "duration": 38,
    "start_time": "2022-01-15T14:09:47.822Z"
   },
   {
    "duration": 1157,
    "start_time": "2022-01-15T14:09:52.803Z"
   },
   {
    "duration": 2526,
    "start_time": "2022-01-15T14:11:32.443Z"
   },
   {
    "duration": 1419,
    "start_time": "2022-01-15T14:11:35.827Z"
   },
   {
    "duration": 515,
    "start_time": "2022-01-15T14:12:21.427Z"
   },
   {
    "duration": 1467,
    "start_time": "2022-01-15T14:12:22.229Z"
   },
   {
    "duration": 1095,
    "start_time": "2022-01-15T14:12:23.698Z"
   },
   {
    "duration": 86,
    "start_time": "2022-01-15T14:12:56.490Z"
   },
   {
    "duration": 336,
    "start_time": "2022-01-15T14:12:57.025Z"
   },
   {
    "duration": 24,
    "start_time": "2022-01-15T14:13:09.894Z"
   },
   {
    "duration": 1246,
    "start_time": "2022-01-15T14:13:11.982Z"
   },
   {
    "duration": 984,
    "start_time": "2022-01-15T14:13:14.770Z"
   },
   {
    "duration": 40,
    "start_time": "2022-01-15T14:18:40.318Z"
   },
   {
    "duration": 1327,
    "start_time": "2022-01-15T14:19:13.558Z"
   },
   {
    "duration": 4,
    "start_time": "2022-01-15T14:21:19.430Z"
   },
   {
    "duration": 51,
    "start_time": "2022-01-15T14:21:19.436Z"
   },
   {
    "duration": 31,
    "start_time": "2022-01-15T14:21:19.489Z"
   },
   {
    "duration": 62,
    "start_time": "2022-01-15T14:21:19.523Z"
   },
   {
    "duration": 39,
    "start_time": "2022-01-15T14:21:19.587Z"
   },
   {
    "duration": 366,
    "start_time": "2022-01-15T14:21:19.629Z"
   },
   {
    "duration": 824,
    "start_time": "2022-01-15T14:21:19.172Z"
   },
   {
    "duration": 817,
    "start_time": "2022-01-15T14:21:19.180Z"
   },
   {
    "duration": 809,
    "start_time": "2022-01-15T14:21:19.189Z"
   },
   {
    "duration": 802,
    "start_time": "2022-01-15T14:21:19.197Z"
   },
   {
    "duration": 3,
    "start_time": "2022-01-15T14:21:47.926Z"
   },
   {
    "duration": 40,
    "start_time": "2022-01-15T14:21:47.934Z"
   },
   {
    "duration": 25,
    "start_time": "2022-01-15T14:21:47.975Z"
   },
   {
    "duration": 16,
    "start_time": "2022-01-15T14:21:48.002Z"
   },
   {
    "duration": 16,
    "start_time": "2022-01-15T14:21:48.020Z"
   },
   {
    "duration": 37,
    "start_time": "2022-01-15T14:21:48.037Z"
   },
   {
    "duration": 9,
    "start_time": "2022-01-15T14:21:48.075Z"
   },
   {
    "duration": 7,
    "start_time": "2022-01-15T14:21:48.086Z"
   },
   {
    "duration": 247,
    "start_time": "2022-01-15T14:21:48.095Z"
   },
   {
    "duration": 911,
    "start_time": "2022-01-15T14:21:47.433Z"
   },
   {
    "duration": 3,
    "start_time": "2022-01-15T14:23:41.905Z"
   },
   {
    "duration": 25,
    "start_time": "2022-01-15T14:23:41.915Z"
   },
   {
    "duration": 11,
    "start_time": "2022-01-15T14:23:41.941Z"
   },
   {
    "duration": 18,
    "start_time": "2022-01-15T14:23:41.953Z"
   },
   {
    "duration": 17,
    "start_time": "2022-01-15T14:23:41.973Z"
   },
   {
    "duration": 46,
    "start_time": "2022-01-15T14:23:41.992Z"
   },
   {
    "duration": 10,
    "start_time": "2022-01-15T14:23:42.040Z"
   },
   {
    "duration": 293,
    "start_time": "2022-01-15T14:23:42.052Z"
   },
   {
    "duration": 794,
    "start_time": "2022-01-15T14:23:41.553Z"
   },
   {
    "duration": 787,
    "start_time": "2022-01-15T14:23:41.560Z"
   },
   {
    "duration": 3,
    "start_time": "2022-01-15T14:24:35.322Z"
   },
   {
    "duration": 33,
    "start_time": "2022-01-15T14:24:35.330Z"
   },
   {
    "duration": 11,
    "start_time": "2022-01-15T14:24:35.365Z"
   },
   {
    "duration": 13,
    "start_time": "2022-01-15T14:24:35.378Z"
   },
   {
    "duration": 3,
    "start_time": "2022-01-15T14:24:35.393Z"
   },
   {
    "duration": 44,
    "start_time": "2022-01-15T14:24:35.397Z"
   },
   {
    "duration": 5,
    "start_time": "2022-01-15T14:24:35.442Z"
   },
   {
    "duration": 16,
    "start_time": "2022-01-15T14:24:35.448Z"
   },
   {
    "duration": 254,
    "start_time": "2022-01-15T14:24:35.466Z"
   },
   {
    "duration": 918,
    "start_time": "2022-01-15T14:24:34.804Z"
   },
   {
    "duration": 1040,
    "start_time": "2022-01-15T14:24:44.828Z"
   },
   {
    "duration": 3,
    "start_time": "2022-01-15T14:26:12.733Z"
   },
   {
    "duration": 28,
    "start_time": "2022-01-15T14:26:12.738Z"
   },
   {
    "duration": 60,
    "start_time": "2022-01-15T14:26:12.769Z"
   },
   {
    "duration": 11,
    "start_time": "2022-01-15T14:26:12.832Z"
   },
   {
    "duration": 5,
    "start_time": "2022-01-15T14:26:12.844Z"
   },
   {
    "duration": 8,
    "start_time": "2022-01-15T14:26:12.851Z"
   },
   {
    "duration": 32,
    "start_time": "2022-01-15T14:26:12.861Z"
   },
   {
    "duration": 11,
    "start_time": "2022-01-15T14:26:12.895Z"
   },
   {
    "duration": 15,
    "start_time": "2022-01-15T14:26:12.908Z"
   },
   {
    "duration": 261,
    "start_time": "2022-01-15T14:26:12.925Z"
   },
   {
    "duration": 757,
    "start_time": "2022-01-15T14:26:12.431Z"
   },
   {
    "duration": 8258,
    "start_time": "2022-01-15T14:31:00.001Z"
   },
   {
    "duration": 4,
    "start_time": "2022-01-15T14:31:46.953Z"
   },
   {
    "duration": 4,
    "start_time": "2022-01-15T14:32:20.893Z"
   },
   {
    "duration": 3,
    "start_time": "2022-01-15T14:32:49.634Z"
   },
   {
    "duration": 10,
    "start_time": "2022-01-15T14:33:05.738Z"
   },
   {
    "duration": 2,
    "start_time": "2022-01-15T14:33:18.682Z"
   },
   {
    "duration": 27,
    "start_time": "2022-01-15T14:33:18.689Z"
   },
   {
    "duration": 13,
    "start_time": "2022-01-15T14:33:18.717Z"
   },
   {
    "duration": 12,
    "start_time": "2022-01-15T14:33:18.732Z"
   },
   {
    "duration": 3,
    "start_time": "2022-01-15T14:33:18.745Z"
   },
   {
    "duration": 5,
    "start_time": "2022-01-15T14:33:18.749Z"
   },
   {
    "duration": 4,
    "start_time": "2022-01-15T14:33:18.755Z"
   },
   {
    "duration": 4,
    "start_time": "2022-01-15T14:33:18.761Z"
   },
   {
    "duration": 82,
    "start_time": "2022-01-15T14:33:18.767Z"
   },
   {
    "duration": 34,
    "start_time": "2022-01-15T14:33:18.851Z"
   },
   {
    "duration": 6,
    "start_time": "2022-01-15T14:33:18.886Z"
   },
   {
    "duration": 3,
    "start_time": "2022-01-15T14:33:18.894Z"
   },
   {
    "duration": 231,
    "start_time": "2022-01-15T14:33:18.899Z"
   },
   {
    "duration": 634,
    "start_time": "2022-01-15T14:33:18.498Z"
   },
   {
    "duration": 11,
    "start_time": "2022-01-15T14:33:48.808Z"
   },
   {
    "duration": 1158,
    "start_time": "2022-01-15T14:38:57.917Z"
   },
   {
    "duration": 30,
    "start_time": "2022-01-15T14:38:59.077Z"
   },
   {
    "duration": 18,
    "start_time": "2022-01-15T14:38:59.110Z"
   },
   {
    "duration": 16,
    "start_time": "2022-01-15T14:38:59.130Z"
   },
   {
    "duration": 3,
    "start_time": "2022-01-15T14:38:59.148Z"
   },
   {
    "duration": 5,
    "start_time": "2022-01-15T14:38:59.153Z"
   },
   {
    "duration": 6,
    "start_time": "2022-01-15T14:38:59.159Z"
   },
   {
    "duration": 8,
    "start_time": "2022-01-15T14:38:59.167Z"
   },
   {
    "duration": 4,
    "start_time": "2022-01-15T14:38:59.177Z"
   },
   {
    "duration": 71,
    "start_time": "2022-01-15T14:38:59.183Z"
   },
   {
    "duration": 5,
    "start_time": "2022-01-15T14:38:59.256Z"
   },
   {
    "duration": 4,
    "start_time": "2022-01-15T14:38:59.262Z"
   },
   {
    "duration": 341,
    "start_time": "2022-01-15T14:38:59.267Z"
   },
   {
    "duration": 960,
    "start_time": "2022-01-15T14:38:58.650Z"
   },
   {
    "duration": 1090,
    "start_time": "2022-01-15T14:39:33.600Z"
   },
   {
    "duration": 32,
    "start_time": "2022-01-15T14:39:34.693Z"
   },
   {
    "duration": 26,
    "start_time": "2022-01-15T14:39:34.728Z"
   },
   {
    "duration": 15,
    "start_time": "2022-01-15T14:39:34.757Z"
   },
   {
    "duration": 7,
    "start_time": "2022-01-15T14:39:34.775Z"
   },
   {
    "duration": 22,
    "start_time": "2022-01-15T14:39:34.784Z"
   },
   {
    "duration": 14,
    "start_time": "2022-01-15T14:39:34.808Z"
   },
   {
    "duration": 15,
    "start_time": "2022-01-15T14:39:34.825Z"
   },
   {
    "duration": 10,
    "start_time": "2022-01-15T14:39:34.842Z"
   },
   {
    "duration": 51,
    "start_time": "2022-01-15T14:39:34.854Z"
   },
   {
    "duration": 5,
    "start_time": "2022-01-15T14:39:34.907Z"
   },
   {
    "duration": 14,
    "start_time": "2022-01-15T14:39:34.914Z"
   },
   {
    "duration": 360,
    "start_time": "2022-01-15T14:39:34.930Z"
   },
   {
    "duration": 923,
    "start_time": "2022-01-15T14:39:34.369Z"
   },
   {
    "duration": 304,
    "start_time": "2022-01-15T14:41:34.551Z"
   },
   {
    "duration": 999,
    "start_time": "2022-01-15T14:43:16.364Z"
   },
   {
    "duration": 29,
    "start_time": "2022-01-15T14:43:17.364Z"
   },
   {
    "duration": 19,
    "start_time": "2022-01-15T14:43:17.395Z"
   },
   {
    "duration": 11,
    "start_time": "2022-01-15T14:43:17.416Z"
   },
   {
    "duration": 12,
    "start_time": "2022-01-15T14:43:17.429Z"
   },
   {
    "duration": 10,
    "start_time": "2022-01-15T14:43:17.443Z"
   },
   {
    "duration": 7,
    "start_time": "2022-01-15T14:43:17.455Z"
   },
   {
    "duration": 28,
    "start_time": "2022-01-15T14:43:17.465Z"
   },
   {
    "duration": 72,
    "start_time": "2022-01-15T14:43:17.495Z"
   },
   {
    "duration": 6,
    "start_time": "2022-01-15T14:43:17.568Z"
   },
   {
    "duration": 16,
    "start_time": "2022-01-15T14:43:17.576Z"
   },
   {
    "duration": 25,
    "start_time": "2022-01-15T14:43:17.594Z"
   },
   {
    "duration": 17,
    "start_time": "2022-01-15T14:43:17.621Z"
   },
   {
    "duration": 59,
    "start_time": "2022-01-15T14:43:17.640Z"
   },
   {
    "duration": 3,
    "start_time": "2022-01-15T14:49:35.614Z"
   },
   {
    "duration": 8,
    "start_time": "2022-01-15T14:50:01.666Z"
   },
   {
    "duration": 3,
    "start_time": "2022-01-15T14:50:29.534Z"
   },
   {
    "duration": 6,
    "start_time": "2022-01-15T14:50:49.618Z"
   },
   {
    "duration": 3,
    "start_time": "2022-01-15T14:52:04.912Z"
   },
   {
    "duration": 5,
    "start_time": "2022-01-15T14:52:19.319Z"
   },
   {
    "duration": 3,
    "start_time": "2022-01-15T14:54:09.406Z"
   },
   {
    "duration": 4,
    "start_time": "2022-01-15T14:54:34.335Z"
   },
   {
    "duration": 78,
    "start_time": "2022-01-15T14:55:21.397Z"
   },
   {
    "duration": 312,
    "start_time": "2022-01-15T14:55:54.925Z"
   },
   {
    "duration": 46,
    "start_time": "2022-01-15T14:56:11.997Z"
   },
   {
    "duration": 10,
    "start_time": "2022-01-15T14:57:36.920Z"
   },
   {
    "duration": 84,
    "start_time": "2022-01-15T14:58:35.804Z"
   },
   {
    "duration": 100,
    "start_time": "2022-01-15T14:59:12.300Z"
   },
   {
    "duration": 49,
    "start_time": "2022-01-15T14:59:52.015Z"
   },
   {
    "duration": 437,
    "start_time": "2022-01-15T14:59:55.382Z"
   },
   {
    "duration": 850,
    "start_time": "2022-01-15T15:00:02.612Z"
   },
   {
    "duration": 4332,
    "start_time": "2022-01-15T15:00:07.538Z"
   },
   {
    "duration": 7957,
    "start_time": "2022-01-15T15:00:16.805Z"
   },
   {
    "duration": 39770,
    "start_time": "2022-01-15T15:00:31.800Z"
   },
   {
    "duration": 390,
    "start_time": "2022-01-15T15:01:40.997Z"
   },
   {
    "duration": 4,
    "start_time": "2022-01-15T15:24:44.756Z"
   },
   {
    "duration": 157,
    "start_time": "2022-01-15T15:28:41.512Z"
   },
   {
    "duration": 263,
    "start_time": "2022-01-15T15:28:52.884Z"
   },
   {
    "duration": 8,
    "start_time": "2022-01-15T15:30:35.553Z"
   },
   {
    "duration": 248,
    "start_time": "2022-01-15T15:30:46.493Z"
   },
   {
    "duration": 41,
    "start_time": "2022-01-15T15:37:01.948Z"
   },
   {
    "duration": 27,
    "start_time": "2022-01-15T15:37:07.814Z"
   },
   {
    "duration": 41,
    "start_time": "2022-01-15T15:37:12.113Z"
   },
   {
    "duration": 60,
    "start_time": "2022-01-15T15:37:16.350Z"
   },
   {
    "duration": 49,
    "start_time": "2022-01-15T15:37:20.021Z"
   },
   {
    "duration": 41,
    "start_time": "2022-01-15T15:37:24.672Z"
   },
   {
    "duration": 426,
    "start_time": "2022-01-15T15:37:31.122Z"
   },
   {
    "duration": 122,
    "start_time": "2022-01-15T15:37:37.062Z"
   },
   {
    "duration": 132,
    "start_time": "2022-01-15T15:37:40.922Z"
   },
   {
    "duration": 54,
    "start_time": "2022-01-15T15:39:59.507Z"
   },
   {
    "duration": 56,
    "start_time": "2022-01-15T15:40:06.230Z"
   },
   {
    "duration": 55,
    "start_time": "2022-01-15T15:40:11.205Z"
   },
   {
    "duration": 53,
    "start_time": "2022-01-15T15:40:42.385Z"
   },
   {
    "duration": 52,
    "start_time": "2022-01-15T15:40:46.921Z"
   },
   {
    "duration": 54,
    "start_time": "2022-01-15T15:40:50.711Z"
   },
   {
    "duration": 56,
    "start_time": "2022-01-15T15:40:56.558Z"
   },
   {
    "duration": 61,
    "start_time": "2022-01-15T15:41:02.217Z"
   },
   {
    "duration": 393,
    "start_time": "2022-01-15T15:41:51.188Z"
   },
   {
    "duration": 96,
    "start_time": "2022-01-15T15:42:00.820Z"
   },
   {
    "duration": 70,
    "start_time": "2022-01-15T15:42:05.298Z"
   },
   {
    "duration": 41,
    "start_time": "2022-01-15T15:42:10.524Z"
   },
   {
    "duration": 776,
    "start_time": "2022-01-15T15:42:14.180Z"
   },
   {
    "duration": 400,
    "start_time": "2022-01-15T15:42:17.934Z"
   },
   {
    "duration": 396,
    "start_time": "2022-01-15T15:42:48.858Z"
   },
   {
    "duration": 1087,
    "start_time": "2022-01-15T15:43:25.107Z"
   },
   {
    "duration": 32,
    "start_time": "2022-01-15T15:43:26.196Z"
   },
   {
    "duration": 19,
    "start_time": "2022-01-15T15:43:26.231Z"
   },
   {
    "duration": 9,
    "start_time": "2022-01-15T15:43:26.252Z"
   },
   {
    "duration": 3,
    "start_time": "2022-01-15T15:43:26.263Z"
   },
   {
    "duration": 8,
    "start_time": "2022-01-15T15:43:26.267Z"
   },
   {
    "duration": 6,
    "start_time": "2022-01-15T15:43:26.276Z"
   },
   {
    "duration": 9,
    "start_time": "2022-01-15T15:43:26.284Z"
   },
   {
    "duration": 75,
    "start_time": "2022-01-15T15:43:26.295Z"
   },
   {
    "duration": 6,
    "start_time": "2022-01-15T15:43:26.372Z"
   },
   {
    "duration": 7,
    "start_time": "2022-01-15T15:43:26.380Z"
   },
   {
    "duration": 71,
    "start_time": "2022-01-15T15:43:26.389Z"
   },
   {
    "duration": 6,
    "start_time": "2022-01-15T15:43:26.462Z"
   },
   {
    "duration": 10,
    "start_time": "2022-01-15T15:43:26.469Z"
   },
   {
    "duration": 5,
    "start_time": "2022-01-15T15:43:26.481Z"
   },
   {
    "duration": 157,
    "start_time": "2022-01-15T15:43:26.488Z"
   },
   {
    "duration": 99,
    "start_time": "2022-01-15T15:43:26.647Z"
   },
   {
    "duration": 193,
    "start_time": "2022-01-15T15:43:26.748Z"
   },
   {
    "duration": 202,
    "start_time": "2022-01-15T15:43:26.944Z"
   },
   {
    "duration": 138,
    "start_time": "2022-01-15T15:43:27.149Z"
   },
   {
    "duration": 72,
    "start_time": "2022-01-15T15:43:27.289Z"
   },
   {
    "duration": 55,
    "start_time": "2022-01-15T15:43:27.363Z"
   },
   {
    "duration": 411,
    "start_time": "2022-01-15T15:43:27.420Z"
   },
   {
    "duration": 401,
    "start_time": "2022-01-15T15:43:27.841Z"
   },
   {
    "duration": 423,
    "start_time": "2022-01-15T15:43:28.244Z"
   },
   {
    "duration": 8,
    "start_time": "2022-01-15T15:45:18.860Z"
   },
   {
    "duration": 1005,
    "start_time": "2022-01-15T15:45:53.759Z"
   },
   {
    "duration": 30,
    "start_time": "2022-01-15T15:45:54.766Z"
   },
   {
    "duration": 17,
    "start_time": "2022-01-15T15:45:54.801Z"
   },
   {
    "duration": 26,
    "start_time": "2022-01-15T15:45:54.819Z"
   },
   {
    "duration": 3,
    "start_time": "2022-01-15T15:45:54.847Z"
   },
   {
    "duration": 5,
    "start_time": "2022-01-15T15:45:54.852Z"
   },
   {
    "duration": 4,
    "start_time": "2022-01-15T15:45:54.859Z"
   },
   {
    "duration": 5,
    "start_time": "2022-01-15T15:45:54.865Z"
   },
   {
    "duration": 69,
    "start_time": "2022-01-15T15:45:54.872Z"
   },
   {
    "duration": 6,
    "start_time": "2022-01-15T15:45:54.943Z"
   },
   {
    "duration": 4,
    "start_time": "2022-01-15T15:45:54.951Z"
   },
   {
    "duration": 53,
    "start_time": "2022-01-15T15:45:54.957Z"
   },
   {
    "duration": 6,
    "start_time": "2022-01-15T15:45:55.011Z"
   },
   {
    "duration": 27,
    "start_time": "2022-01-15T15:45:55.018Z"
   },
   {
    "duration": 12,
    "start_time": "2022-01-15T15:45:55.046Z"
   },
   {
    "duration": 12,
    "start_time": "2022-01-15T15:45:55.060Z"
   },
   {
    "duration": 47,
    "start_time": "2022-01-15T15:45:55.073Z"
   },
   {
    "duration": 69,
    "start_time": "2022-01-15T15:45:55.121Z"
   },
   {
    "duration": 68,
    "start_time": "2022-01-15T15:45:55.192Z"
   },
   {
    "duration": 404,
    "start_time": "2022-01-15T15:45:55.261Z"
   },
   {
    "duration": 391,
    "start_time": "2022-01-15T15:45:55.667Z"
   },
   {
    "duration": 412,
    "start_time": "2022-01-15T15:45:56.060Z"
   },
   {
    "duration": 102,
    "start_time": "2022-01-15T15:46:21.952Z"
   },
   {
    "duration": 144,
    "start_time": "2022-01-15T15:46:27.097Z"
   },
   {
    "duration": 40,
    "start_time": "2022-01-15T15:46:30.885Z"
   },
   {
    "duration": 320,
    "start_time": "2022-01-15T15:54:38.629Z"
   },
   {
    "duration": 70,
    "start_time": "2022-01-15T15:54:47.886Z"
   },
   {
    "duration": 31,
    "start_time": "2022-01-15T15:55:04.757Z"
   },
   {
    "duration": 625,
    "start_time": "2022-01-15T15:55:27.677Z"
   },
   {
    "duration": 176,
    "start_time": "2022-01-15T15:55:51.815Z"
   },
   {
    "duration": 1340,
    "start_time": "2022-01-15T15:56:00.028Z"
   },
   {
    "duration": 259,
    "start_time": "2022-01-15T15:56:10.173Z"
   },
   {
    "duration": 139,
    "start_time": "2022-01-15T15:56:13.682Z"
   },
   {
    "duration": 383,
    "start_time": "2022-01-15T15:56:19.811Z"
   },
   {
    "duration": 557,
    "start_time": "2022-01-15T15:56:24.503Z"
   },
   {
    "duration": 720,
    "start_time": "2022-01-15T15:56:28.976Z"
   },
   {
    "duration": 4464,
    "start_time": "2022-01-15T15:56:35.079Z"
   },
   {
    "duration": 427,
    "start_time": "2022-01-15T15:56:43.218Z"
   },
   {
    "duration": 416,
    "start_time": "2022-01-15T15:56:47.729Z"
   },
   {
    "duration": 408,
    "start_time": "2022-01-15T15:56:51.753Z"
   },
   {
    "duration": 421,
    "start_time": "2022-01-15T15:56:55.584Z"
   },
   {
    "duration": 387,
    "start_time": "2022-01-15T15:56:58.814Z"
   },
   {
    "duration": 412,
    "start_time": "2022-01-15T15:57:03.453Z"
   },
   {
    "duration": 369,
    "start_time": "2022-01-15T15:57:08.325Z"
   },
   {
    "duration": 389,
    "start_time": "2022-01-15T15:57:12.998Z"
   },
   {
    "duration": 489,
    "start_time": "2022-01-15T15:57:21.460Z"
   },
   {
    "duration": 329,
    "start_time": "2022-01-15T15:57:26.979Z"
   },
   {
    "duration": 420,
    "start_time": "2022-01-15T15:57:31.492Z"
   },
   {
    "duration": 480,
    "start_time": "2022-01-15T15:59:44.799Z"
   },
   {
    "duration": 4,
    "start_time": "2022-01-15T16:00:03.850Z"
   },
   {
    "duration": 330,
    "start_time": "2022-01-15T16:00:08.864Z"
   },
   {
    "duration": 318,
    "start_time": "2022-01-15T16:04:32.337Z"
   },
   {
    "duration": 69,
    "start_time": "2022-01-15T16:05:08.760Z"
   },
   {
    "duration": 114,
    "start_time": "2022-01-15T16:06:11.792Z"
   },
   {
    "duration": 183,
    "start_time": "2022-01-15T16:06:16.139Z"
   },
   {
    "duration": 217,
    "start_time": "2022-01-15T16:06:29.139Z"
   },
   {
    "duration": 138,
    "start_time": "2022-01-15T16:06:38.444Z"
   },
   {
    "duration": 216,
    "start_time": "2022-01-15T16:06:43.700Z"
   },
   {
    "duration": 438,
    "start_time": "2022-01-15T16:07:24.149Z"
   },
   {
    "duration": 280,
    "start_time": "2022-01-15T16:07:33.356Z"
   },
   {
    "duration": 1160,
    "start_time": "2022-01-15T16:08:52.421Z"
   },
   {
    "duration": 31,
    "start_time": "2022-01-15T16:08:53.583Z"
   },
   {
    "duration": 18,
    "start_time": "2022-01-15T16:08:53.616Z"
   },
   {
    "duration": 9,
    "start_time": "2022-01-15T16:08:53.636Z"
   },
   {
    "duration": 6,
    "start_time": "2022-01-15T16:08:53.647Z"
   },
   {
    "duration": 9,
    "start_time": "2022-01-15T16:08:53.655Z"
   },
   {
    "duration": 5,
    "start_time": "2022-01-15T16:08:53.666Z"
   },
   {
    "duration": 4,
    "start_time": "2022-01-15T16:08:53.673Z"
   },
   {
    "duration": 80,
    "start_time": "2022-01-15T16:08:53.680Z"
   },
   {
    "duration": 8,
    "start_time": "2022-01-15T16:08:53.762Z"
   },
   {
    "duration": 6,
    "start_time": "2022-01-15T16:08:53.771Z"
   },
   {
    "duration": 71,
    "start_time": "2022-01-15T16:08:53.779Z"
   },
   {
    "duration": 6,
    "start_time": "2022-01-15T16:08:53.852Z"
   },
   {
    "duration": 6,
    "start_time": "2022-01-15T16:08:53.859Z"
   },
   {
    "duration": 7,
    "start_time": "2022-01-15T16:08:53.867Z"
   },
   {
    "duration": 166,
    "start_time": "2022-01-15T16:08:53.875Z"
   },
   {
    "duration": 100,
    "start_time": "2022-01-15T16:08:54.044Z"
   },
   {
    "duration": 195,
    "start_time": "2022-01-15T16:08:54.146Z"
   },
   {
    "duration": 137,
    "start_time": "2022-01-15T16:08:54.344Z"
   },
   {
    "duration": 399,
    "start_time": "2022-01-15T16:08:54.543Z"
   },
   {
    "duration": 47,
    "start_time": "2022-01-15T16:08:54.944Z"
   },
   {
    "duration": 91,
    "start_time": "2022-01-15T16:08:54.993Z"
   },
   {
    "duration": 29,
    "start_time": "2022-01-15T16:08:55.086Z"
   },
   {
    "duration": 90,
    "start_time": "2022-01-15T16:08:55.117Z"
   },
   {
    "duration": 437,
    "start_time": "2022-01-15T16:08:55.208Z"
   },
   {
    "duration": 413,
    "start_time": "2022-01-15T16:08:55.648Z"
   },
   {
    "duration": 237,
    "start_time": "2022-01-15T16:08:56.065Z"
   },
   {
    "duration": 326,
    "start_time": "2022-01-15T16:08:56.305Z"
   },
   {
    "duration": 283,
    "start_time": "2022-01-15T16:09:50.741Z"
   },
   {
    "duration": 89,
    "start_time": "2022-01-15T16:10:13.177Z"
   },
   {
    "duration": 328,
    "start_time": "2022-01-15T16:10:33.240Z"
   },
   {
    "duration": 3,
    "start_time": "2022-01-15T16:16:24.273Z"
   },
   {
    "duration": 287,
    "start_time": "2022-01-15T16:19:38.489Z"
   },
   {
    "duration": 295,
    "start_time": "2022-01-15T16:20:00.485Z"
   },
   {
    "duration": 252,
    "start_time": "2022-01-15T16:20:12.027Z"
   },
   {
    "duration": 326,
    "start_time": "2022-01-15T16:20:19.642Z"
   },
   {
    "duration": 91,
    "start_time": "2022-01-15T16:20:38.455Z"
   },
   {
    "duration": 95,
    "start_time": "2022-01-15T16:20:52.707Z"
   },
   {
    "duration": 324,
    "start_time": "2022-01-15T16:21:05.546Z"
   },
   {
    "duration": 285,
    "start_time": "2022-01-15T16:21:23.153Z"
   },
   {
    "duration": 303,
    "start_time": "2022-01-15T16:24:38.883Z"
   },
   {
    "duration": 4,
    "start_time": "2022-01-15T16:25:44.400Z"
   },
   {
    "duration": 114,
    "start_time": "2022-01-15T16:25:45.319Z"
   },
   {
    "duration": 115,
    "start_time": "2022-01-15T16:26:04.709Z"
   },
   {
    "duration": 1078,
    "start_time": "2022-01-15T16:26:27.919Z"
   },
   {
    "duration": 31,
    "start_time": "2022-01-15T16:26:28.999Z"
   },
   {
    "duration": 19,
    "start_time": "2022-01-15T16:26:29.032Z"
   },
   {
    "duration": 19,
    "start_time": "2022-01-15T16:26:29.053Z"
   },
   {
    "duration": 4,
    "start_time": "2022-01-15T16:26:29.074Z"
   },
   {
    "duration": 4,
    "start_time": "2022-01-15T16:26:29.080Z"
   },
   {
    "duration": 5,
    "start_time": "2022-01-15T16:26:29.086Z"
   },
   {
    "duration": 7,
    "start_time": "2022-01-15T16:26:29.094Z"
   },
   {
    "duration": 80,
    "start_time": "2022-01-15T16:26:29.103Z"
   },
   {
    "duration": 8,
    "start_time": "2022-01-15T16:26:29.184Z"
   },
   {
    "duration": 8,
    "start_time": "2022-01-15T16:26:29.193Z"
   },
   {
    "duration": 69,
    "start_time": "2022-01-15T16:26:29.202Z"
   },
   {
    "duration": 6,
    "start_time": "2022-01-15T16:26:29.272Z"
   },
   {
    "duration": 6,
    "start_time": "2022-01-15T16:26:29.280Z"
   },
   {
    "duration": 5,
    "start_time": "2022-01-15T16:26:29.288Z"
   },
   {
    "duration": 155,
    "start_time": "2022-01-15T16:26:29.295Z"
   },
   {
    "duration": 8,
    "start_time": "2022-01-15T16:26:29.542Z"
   },
   {
    "duration": 190,
    "start_time": "2022-01-15T16:26:29.552Z"
   },
   {
    "duration": 209,
    "start_time": "2022-01-15T16:26:29.745Z"
   },
   {
    "duration": 511,
    "start_time": "2022-01-15T16:26:29.956Z"
   },
   {
    "duration": 54,
    "start_time": "2022-01-15T16:26:30.469Z"
   },
   {
    "duration": 96,
    "start_time": "2022-01-15T16:26:30.525Z"
   },
   {
    "duration": 48,
    "start_time": "2022-01-15T16:26:30.624Z"
   },
   {
    "duration": 125,
    "start_time": "2022-01-15T16:26:30.674Z"
   },
   {
    "duration": 461,
    "start_time": "2022-01-15T16:26:30.801Z"
   },
   {
    "duration": 424,
    "start_time": "2022-01-15T16:26:31.264Z"
   },
   {
    "duration": 234,
    "start_time": "2022-01-15T16:26:31.690Z"
   },
   {
    "duration": 319,
    "start_time": "2022-01-15T16:26:31.926Z"
   },
   {
    "duration": 4,
    "start_time": "2022-01-15T16:26:32.247Z"
   },
   {
    "duration": 124,
    "start_time": "2022-01-15T16:26:32.252Z"
   },
   {
    "duration": 202,
    "start_time": "2022-01-15T16:28:54.050Z"
   },
   {
    "duration": 209,
    "start_time": "2022-01-15T16:50:21.656Z"
   },
   {
    "duration": 204,
    "start_time": "2022-01-15T16:50:28.534Z"
   },
   {
    "duration": 193,
    "start_time": "2022-01-15T16:50:38.862Z"
   },
   {
    "duration": 174,
    "start_time": "2022-01-15T16:50:44.396Z"
   },
   {
    "duration": 438,
    "start_time": "2022-01-15T16:52:24.480Z"
   },
   {
    "duration": 1428,
    "start_time": "2022-01-15T16:53:29.448Z"
   },
   {
    "duration": 33,
    "start_time": "2022-01-15T16:53:30.879Z"
   },
   {
    "duration": 18,
    "start_time": "2022-01-15T16:53:30.914Z"
   },
   {
    "duration": 20,
    "start_time": "2022-01-15T16:53:30.934Z"
   },
   {
    "duration": 16,
    "start_time": "2022-01-15T16:53:30.956Z"
   },
   {
    "duration": 10,
    "start_time": "2022-01-15T16:53:30.973Z"
   },
   {
    "duration": 17,
    "start_time": "2022-01-15T16:53:30.985Z"
   },
   {
    "duration": 15,
    "start_time": "2022-01-15T16:53:31.003Z"
   },
   {
    "duration": 66,
    "start_time": "2022-01-15T16:53:31.021Z"
   },
   {
    "duration": 7,
    "start_time": "2022-01-15T16:53:31.089Z"
   },
   {
    "duration": 37,
    "start_time": "2022-01-15T16:53:31.098Z"
   },
   {
    "duration": 61,
    "start_time": "2022-01-15T16:53:31.137Z"
   },
   {
    "duration": 7,
    "start_time": "2022-01-15T16:53:31.199Z"
   },
   {
    "duration": 23,
    "start_time": "2022-01-15T16:53:31.207Z"
   },
   {
    "duration": 10,
    "start_time": "2022-01-15T16:53:31.232Z"
   },
   {
    "duration": 107,
    "start_time": "2022-01-15T16:53:31.243Z"
   },
   {
    "duration": 97,
    "start_time": "2022-01-15T16:53:31.353Z"
   },
   {
    "duration": 289,
    "start_time": "2022-01-15T16:53:31.453Z"
   },
   {
    "duration": 241,
    "start_time": "2022-01-15T16:53:31.744Z"
   },
   {
    "duration": 446,
    "start_time": "2022-01-15T16:53:32.042Z"
   },
   {
    "duration": 67,
    "start_time": "2022-01-15T16:53:32.490Z"
   },
   {
    "duration": 86,
    "start_time": "2022-01-15T16:53:32.558Z"
   },
   {
    "duration": 32,
    "start_time": "2022-01-15T16:53:32.646Z"
   },
   {
    "duration": 119,
    "start_time": "2022-01-15T16:53:32.679Z"
   },
   {
    "duration": 439,
    "start_time": "2022-01-15T16:53:32.799Z"
   },
   {
    "duration": 424,
    "start_time": "2022-01-15T16:53:33.240Z"
   },
   {
    "duration": 251,
    "start_time": "2022-01-15T16:53:33.667Z"
   },
   {
    "duration": 304,
    "start_time": "2022-01-15T16:53:33.920Z"
   },
   {
    "duration": 15,
    "start_time": "2022-01-15T16:53:34.226Z"
   },
   {
    "duration": 253,
    "start_time": "2022-01-15T16:53:34.243Z"
   },
   {
    "duration": 575,
    "start_time": "2022-01-15T16:53:34.498Z"
   },
   {
    "duration": 1073,
    "start_time": "2022-01-15T17:00:33.607Z"
   },
   {
    "duration": 31,
    "start_time": "2022-01-15T17:00:34.682Z"
   },
   {
    "duration": 19,
    "start_time": "2022-01-15T17:00:34.716Z"
   },
   {
    "duration": 8,
    "start_time": "2022-01-15T17:00:34.741Z"
   },
   {
    "duration": 2,
    "start_time": "2022-01-15T17:00:34.751Z"
   },
   {
    "duration": 332,
    "start_time": "2022-01-15T17:00:34.754Z"
   },
   {
    "duration": 629,
    "start_time": "2022-01-15T17:00:34.461Z"
   },
   {
    "duration": 625,
    "start_time": "2022-01-15T17:00:34.466Z"
   },
   {
    "duration": 616,
    "start_time": "2022-01-15T17:00:34.476Z"
   },
   {
    "duration": 611,
    "start_time": "2022-01-15T17:00:34.481Z"
   },
   {
    "duration": 606,
    "start_time": "2022-01-15T17:00:34.487Z"
   },
   {
    "duration": 597,
    "start_time": "2022-01-15T17:00:34.497Z"
   },
   {
    "duration": 591,
    "start_time": "2022-01-15T17:00:34.504Z"
   },
   {
    "duration": 585,
    "start_time": "2022-01-15T17:00:34.512Z"
   },
   {
    "duration": 579,
    "start_time": "2022-01-15T17:00:34.518Z"
   },
   {
    "duration": 550,
    "start_time": "2022-01-15T17:00:34.548Z"
   },
   {
    "duration": 546,
    "start_time": "2022-01-15T17:00:34.554Z"
   },
   {
    "duration": 536,
    "start_time": "2022-01-15T17:00:34.565Z"
   },
   {
    "duration": 530,
    "start_time": "2022-01-15T17:00:34.571Z"
   },
   {
    "duration": 522,
    "start_time": "2022-01-15T17:00:34.581Z"
   },
   {
    "duration": 515,
    "start_time": "2022-01-15T17:00:34.588Z"
   },
   {
    "duration": 506,
    "start_time": "2022-01-15T17:00:34.598Z"
   },
   {
    "duration": 501,
    "start_time": "2022-01-15T17:00:34.604Z"
   },
   {
    "duration": 492,
    "start_time": "2022-01-15T17:00:34.614Z"
   },
   {
    "duration": 482,
    "start_time": "2022-01-15T17:00:34.625Z"
   },
   {
    "duration": 389,
    "start_time": "2022-01-15T17:00:34.719Z"
   },
   {
    "duration": 347,
    "start_time": "2022-01-15T17:00:34.762Z"
   },
   {
    "duration": 341,
    "start_time": "2022-01-15T17:00:34.769Z"
   },
   {
    "duration": 332,
    "start_time": "2022-01-15T17:00:34.779Z"
   },
   {
    "duration": 326,
    "start_time": "2022-01-15T17:00:34.786Z"
   },
   {
    "duration": 313,
    "start_time": "2022-01-15T17:00:34.800Z"
   },
   {
    "duration": 1066,
    "start_time": "2022-01-15T17:01:22.801Z"
   },
   {
    "duration": 30,
    "start_time": "2022-01-15T17:01:23.869Z"
   },
   {
    "duration": 18,
    "start_time": "2022-01-15T17:01:23.901Z"
   },
   {
    "duration": 9,
    "start_time": "2022-01-15T17:01:23.921Z"
   },
   {
    "duration": 3,
    "start_time": "2022-01-15T17:01:23.940Z"
   },
   {
    "duration": 6,
    "start_time": "2022-01-15T17:01:23.945Z"
   },
   {
    "duration": 7,
    "start_time": "2022-01-15T17:01:23.953Z"
   },
   {
    "duration": 4,
    "start_time": "2022-01-15T17:01:23.962Z"
   },
   {
    "duration": 55,
    "start_time": "2022-01-15T17:01:23.968Z"
   },
   {
    "duration": 6,
    "start_time": "2022-01-15T17:01:24.041Z"
   },
   {
    "duration": 6,
    "start_time": "2022-01-15T17:01:24.049Z"
   },
   {
    "duration": 54,
    "start_time": "2022-01-15T17:01:24.056Z"
   },
   {
    "duration": 5,
    "start_time": "2022-01-15T17:01:24.112Z"
   },
   {
    "duration": 26,
    "start_time": "2022-01-15T17:01:24.119Z"
   },
   {
    "duration": 10,
    "start_time": "2022-01-15T17:01:24.146Z"
   },
   {
    "duration": 97,
    "start_time": "2022-01-15T17:01:24.158Z"
   },
   {
    "duration": 85,
    "start_time": "2022-01-15T17:01:24.257Z"
   },
   {
    "duration": 299,
    "start_time": "2022-01-15T17:01:24.344Z"
   },
   {
    "duration": 130,
    "start_time": "2022-01-15T17:01:24.646Z"
   },
   {
    "duration": 338,
    "start_time": "2022-01-15T17:01:24.842Z"
   },
   {
    "duration": 46,
    "start_time": "2022-01-15T17:01:25.241Z"
   },
   {
    "duration": 88,
    "start_time": "2022-01-15T17:01:25.289Z"
   },
   {
    "duration": 28,
    "start_time": "2022-01-15T17:01:25.381Z"
   },
   {
    "duration": 107,
    "start_time": "2022-01-15T17:01:25.411Z"
   },
   {
    "duration": 453,
    "start_time": "2022-01-15T17:01:25.519Z"
   },
   {
    "duration": 394,
    "start_time": "2022-01-15T17:01:25.974Z"
   },
   {
    "duration": 220,
    "start_time": "2022-01-15T17:01:26.370Z"
   },
   {
    "duration": 311,
    "start_time": "2022-01-15T17:01:26.592Z"
   },
   {
    "duration": 4,
    "start_time": "2022-01-15T17:01:26.905Z"
   },
   {
    "duration": 208,
    "start_time": "2022-01-15T17:01:26.911Z"
   },
   {
    "duration": 456,
    "start_time": "2022-01-15T17:01:27.121Z"
   },
   {
    "duration": 130,
    "start_time": "2022-01-15T17:12:47.617Z"
   },
   {
    "duration": 107,
    "start_time": "2022-01-15T17:13:10.735Z"
   },
   {
    "duration": 58,
    "start_time": "2022-01-15T17:14:03.137Z"
   },
   {
    "duration": 58,
    "start_time": "2022-01-15T17:14:25.044Z"
   },
   {
    "duration": 61,
    "start_time": "2022-01-15T17:14:35.440Z"
   },
   {
    "duration": 81,
    "start_time": "2022-01-15T17:14:51.889Z"
   },
   {
    "duration": 57,
    "start_time": "2022-01-15T17:14:57.683Z"
   },
   {
    "duration": 83,
    "start_time": "2022-01-15T17:15:04.894Z"
   },
   {
    "duration": 58,
    "start_time": "2022-01-15T17:15:12.208Z"
   },
   {
    "duration": 81,
    "start_time": "2022-01-15T17:15:30.288Z"
   },
   {
    "duration": 63,
    "start_time": "2022-01-15T17:15:34.626Z"
   },
   {
    "duration": 59,
    "start_time": "2022-01-15T17:16:07.391Z"
   },
   {
    "duration": 82,
    "start_time": "2022-01-15T17:16:15.844Z"
   },
   {
    "duration": 59,
    "start_time": "2022-01-15T17:16:19.644Z"
   },
   {
    "duration": 63,
    "start_time": "2022-01-15T17:16:26.917Z"
   },
   {
    "duration": 96,
    "start_time": "2022-01-15T17:16:48.457Z"
   },
   {
    "duration": 424,
    "start_time": "2022-01-15T17:19:08.565Z"
   },
   {
    "duration": 68,
    "start_time": "2022-01-15T17:21:00.473Z"
   },
   {
    "duration": 324,
    "start_time": "2022-01-15T17:21:28.147Z"
   },
   {
    "duration": 123,
    "start_time": "2022-01-15T17:22:29.943Z"
   },
   {
    "duration": 147,
    "start_time": "2022-01-15T17:22:36.602Z"
   },
   {
    "duration": 171,
    "start_time": "2022-01-15T17:22:42.838Z"
   },
   {
    "duration": 132,
    "start_time": "2022-01-15T17:22:46.861Z"
   },
   {
    "duration": 177,
    "start_time": "2022-01-15T17:22:51.348Z"
   },
   {
    "duration": 315,
    "start_time": "2022-01-15T17:23:46.428Z"
   },
   {
    "duration": 192,
    "start_time": "2022-01-15T17:23:50.999Z"
   },
   {
    "duration": 229,
    "start_time": "2022-01-15T17:23:56.646Z"
   },
   {
    "duration": 232,
    "start_time": "2022-01-15T17:24:03.241Z"
   },
   {
    "duration": 95,
    "start_time": "2022-01-15T18:02:47.204Z"
   },
   {
    "duration": 378,
    "start_time": "2022-01-15T18:03:32.711Z"
   },
   {
    "duration": 233,
    "start_time": "2022-01-15T18:03:45.923Z"
   },
   {
    "duration": 247,
    "start_time": "2022-01-15T18:04:23.464Z"
   },
   {
    "duration": 259,
    "start_time": "2022-01-15T18:05:39.700Z"
   },
   {
    "duration": 242,
    "start_time": "2022-01-15T18:06:05.928Z"
   },
   {
    "duration": 49,
    "start_time": "2022-01-15T18:06:14.651Z"
   },
   {
    "duration": 272,
    "start_time": "2022-01-15T18:09:59.516Z"
   },
   {
    "duration": 314,
    "start_time": "2022-01-15T18:10:03.483Z"
   },
   {
    "duration": 211,
    "start_time": "2022-01-15T18:14:58.613Z"
   },
   {
    "duration": 187,
    "start_time": "2022-01-15T18:15:05.505Z"
   },
   {
    "duration": 29,
    "start_time": "2022-01-15T18:21:26.122Z"
   },
   {
    "duration": 32,
    "start_time": "2022-01-15T18:21:30.761Z"
   },
   {
    "duration": 43,
    "start_time": "2022-01-15T18:21:35.821Z"
   },
   {
    "duration": 21,
    "start_time": "2022-01-15T18:21:41.548Z"
   },
   {
    "duration": 17,
    "start_time": "2022-01-15T18:21:48.516Z"
   },
   {
    "duration": 45,
    "start_time": "2022-01-15T18:21:52.093Z"
   },
   {
    "duration": 29,
    "start_time": "2022-01-15T18:21:55.595Z"
   },
   {
    "duration": 47,
    "start_time": "2022-01-15T18:22:16.289Z"
   },
   {
    "duration": 49,
    "start_time": "2022-01-15T18:22:37.324Z"
   },
   {
    "duration": 66,
    "start_time": "2022-01-15T18:22:42.022Z"
   },
   {
    "duration": 34,
    "start_time": "2022-01-15T18:22:45.957Z"
   },
   {
    "duration": 60,
    "start_time": "2022-01-15T18:22:49.831Z"
   },
   {
    "duration": 43,
    "start_time": "2022-01-15T18:22:53.152Z"
   },
   {
    "duration": 46,
    "start_time": "2022-01-15T18:22:56.735Z"
   },
   {
    "duration": 23,
    "start_time": "2022-01-15T18:23:08.505Z"
   },
   {
    "duration": 26,
    "start_time": "2022-01-15T18:23:13.073Z"
   },
   {
    "duration": 27,
    "start_time": "2022-01-15T18:23:16.492Z"
   },
   {
    "duration": 21,
    "start_time": "2022-01-15T18:23:19.703Z"
   },
   {
    "duration": 24,
    "start_time": "2022-01-15T18:23:22.697Z"
   },
   {
    "duration": 26,
    "start_time": "2022-01-15T18:23:25.793Z"
   },
   {
    "duration": 75,
    "start_time": "2022-01-15T18:23:40.696Z"
   },
   {
    "duration": 89,
    "start_time": "2022-01-15T18:25:44.116Z"
   },
   {
    "duration": 1036,
    "start_time": "2022-01-15T18:30:23.627Z"
   },
   {
    "duration": 29,
    "start_time": "2022-01-15T18:30:24.665Z"
   },
   {
    "duration": 16,
    "start_time": "2022-01-15T18:30:24.696Z"
   },
   {
    "duration": 33,
    "start_time": "2022-01-15T18:30:24.714Z"
   },
   {
    "duration": 21,
    "start_time": "2022-01-15T18:30:24.748Z"
   },
   {
    "duration": 9,
    "start_time": "2022-01-15T18:30:24.770Z"
   },
   {
    "duration": 25,
    "start_time": "2022-01-15T18:30:24.780Z"
   },
   {
    "duration": 14,
    "start_time": "2022-01-15T18:30:24.807Z"
   },
   {
    "duration": 73,
    "start_time": "2022-01-15T18:30:24.823Z"
   },
   {
    "duration": 5,
    "start_time": "2022-01-15T18:30:24.898Z"
   },
   {
    "duration": 10,
    "start_time": "2022-01-15T18:30:24.905Z"
   },
   {
    "duration": 232,
    "start_time": "2022-01-15T18:30:24.916Z"
   },
   {
    "duration": 57,
    "start_time": "2022-01-15T18:30:25.150Z"
   },
   {
    "duration": 557,
    "start_time": "2022-01-15T18:30:25.209Z"
   },
   {
    "duration": 95,
    "start_time": "2022-01-15T18:30:25.768Z"
   },
   {
    "duration": 85,
    "start_time": "2022-01-15T18:30:25.865Z"
   },
   {
    "duration": 295,
    "start_time": "2022-01-15T18:30:25.953Z"
   },
   {
    "duration": 192,
    "start_time": "2022-01-15T18:30:26.250Z"
   },
   {
    "duration": 407,
    "start_time": "2022-01-15T18:30:26.444Z"
   },
   {
    "duration": 30,
    "start_time": "2022-01-15T18:30:26.853Z"
   },
   {
    "duration": 75,
    "start_time": "2022-01-15T18:30:26.885Z"
   },
   {
    "duration": 25,
    "start_time": "2022-01-15T18:30:26.962Z"
   },
   {
    "duration": 107,
    "start_time": "2022-01-15T18:30:26.992Z"
   },
   {
    "duration": 440,
    "start_time": "2022-01-15T18:30:27.101Z"
   },
   {
    "duration": 398,
    "start_time": "2022-01-15T18:30:27.543Z"
   },
   {
    "duration": 229,
    "start_time": "2022-01-15T18:30:27.942Z"
   },
   {
    "duration": 304,
    "start_time": "2022-01-15T18:30:28.172Z"
   },
   {
    "duration": 3,
    "start_time": "2022-01-15T18:30:28.478Z"
   },
   {
    "duration": 205,
    "start_time": "2022-01-15T18:30:28.482Z"
   },
   {
    "duration": 461,
    "start_time": "2022-01-15T18:30:28.689Z"
   },
   {
    "duration": 1102,
    "start_time": "2022-01-16T14:32:56.289Z"
   },
   {
    "duration": 30,
    "start_time": "2022-01-16T14:32:57.393Z"
   },
   {
    "duration": 17,
    "start_time": "2022-01-16T14:32:57.425Z"
   },
   {
    "duration": 17,
    "start_time": "2022-01-16T14:32:57.444Z"
   },
   {
    "duration": 13,
    "start_time": "2022-01-16T14:32:57.463Z"
   },
   {
    "duration": 20,
    "start_time": "2022-01-16T14:32:57.477Z"
   },
   {
    "duration": 8,
    "start_time": "2022-01-16T14:32:57.498Z"
   },
   {
    "duration": 10,
    "start_time": "2022-01-16T14:32:57.508Z"
   },
   {
    "duration": 60,
    "start_time": "2022-01-16T14:32:57.520Z"
   },
   {
    "duration": 7,
    "start_time": "2022-01-16T14:32:57.581Z"
   },
   {
    "duration": 13,
    "start_time": "2022-01-16T14:32:57.589Z"
   },
   {
    "duration": 146,
    "start_time": "2022-01-16T14:32:57.604Z"
   },
   {
    "duration": 56,
    "start_time": "2022-01-16T14:32:57.842Z"
   },
   {
    "duration": 453,
    "start_time": "2022-01-16T14:32:57.900Z"
   },
   {
    "duration": 106,
    "start_time": "2022-01-16T14:32:58.355Z"
   },
   {
    "duration": 86,
    "start_time": "2022-01-16T14:32:58.463Z"
   },
   {
    "duration": 147,
    "start_time": "2022-01-16T14:32:58.642Z"
   },
   {
    "duration": 137,
    "start_time": "2022-01-16T14:32:58.842Z"
   },
   {
    "duration": 411,
    "start_time": "2022-01-16T14:32:59.042Z"
   },
   {
    "duration": 30,
    "start_time": "2022-01-16T14:32:59.455Z"
   },
   {
    "duration": 73,
    "start_time": "2022-01-16T14:32:59.487Z"
   },
   {
    "duration": 25,
    "start_time": "2022-01-16T14:32:59.562Z"
   },
   {
    "duration": 100,
    "start_time": "2022-01-16T14:32:59.591Z"
   },
   {
    "duration": 451,
    "start_time": "2022-01-16T14:32:59.694Z"
   },
   {
    "duration": 407,
    "start_time": "2022-01-16T14:33:00.147Z"
   },
   {
    "duration": 231,
    "start_time": "2022-01-16T14:33:00.556Z"
   },
   {
    "duration": 302,
    "start_time": "2022-01-16T14:33:00.789Z"
   },
   {
    "duration": 5,
    "start_time": "2022-01-16T14:33:01.093Z"
   },
   {
    "duration": 208,
    "start_time": "2022-01-16T14:33:01.100Z"
   },
   {
    "duration": 489,
    "start_time": "2022-01-16T14:33:01.311Z"
   },
   {
    "duration": 6297,
    "start_time": "2022-01-16T14:35:31.007Z"
   },
   {
    "duration": 305,
    "start_time": "2022-01-16T14:38:24.459Z"
   },
   {
    "duration": 242,
    "start_time": "2022-01-16T14:38:58.997Z"
   },
   {
    "duration": 15,
    "start_time": "2022-01-16T14:41:38.073Z"
   },
   {
    "duration": 7,
    "start_time": "2022-01-16T14:42:08.084Z"
   },
   {
    "duration": 255,
    "start_time": "2022-01-16T14:42:41.904Z"
   },
   {
    "duration": 407,
    "start_time": "2022-01-16T14:42:56.705Z"
   },
   {
    "duration": 14,
    "start_time": "2022-01-16T14:43:06.291Z"
   },
   {
    "duration": 23,
    "start_time": "2022-01-16T14:43:49.741Z"
   },
   {
    "duration": 7,
    "start_time": "2022-01-16T14:43:52.075Z"
   },
   {
    "duration": 8,
    "start_time": "2022-01-16T14:47:49.137Z"
   },
   {
    "duration": 14,
    "start_time": "2022-01-16T14:48:04.997Z"
   },
   {
    "duration": 11,
    "start_time": "2022-01-16T14:49:01.879Z"
   },
   {
    "duration": 9,
    "start_time": "2022-01-16T14:49:17.336Z"
   },
   {
    "duration": 14,
    "start_time": "2022-01-16T14:49:20.585Z"
   },
   {
    "duration": 16,
    "start_time": "2022-01-16T14:49:26.551Z"
   },
   {
    "duration": 266,
    "start_time": "2022-01-16T14:51:23.046Z"
   },
   {
    "duration": 241,
    "start_time": "2022-01-16T14:52:45.552Z"
   },
   {
    "duration": 257,
    "start_time": "2022-01-16T14:53:01.597Z"
   },
   {
    "duration": 247,
    "start_time": "2022-01-16T14:53:16.944Z"
   },
   {
    "duration": 5,
    "start_time": "2022-01-16T14:53:31.367Z"
   },
   {
    "duration": 14,
    "start_time": "2022-01-16T14:53:49.448Z"
   },
   {
    "duration": 245,
    "start_time": "2022-01-16T14:54:39.349Z"
   },
   {
    "duration": 4,
    "start_time": "2022-01-16T14:55:19.527Z"
   },
   {
    "duration": 44,
    "start_time": "2022-01-16T14:55:19.534Z"
   },
   {
    "duration": 13,
    "start_time": "2022-01-16T14:55:19.580Z"
   },
   {
    "duration": 12,
    "start_time": "2022-01-16T14:55:19.595Z"
   },
   {
    "duration": 5,
    "start_time": "2022-01-16T14:55:19.609Z"
   },
   {
    "duration": 7,
    "start_time": "2022-01-16T14:55:19.616Z"
   },
   {
    "duration": 8,
    "start_time": "2022-01-16T14:55:19.625Z"
   },
   {
    "duration": 8,
    "start_time": "2022-01-16T14:55:19.634Z"
   },
   {
    "duration": 280,
    "start_time": "2022-01-16T14:55:19.644Z"
   },
   {
    "duration": 2422,
    "start_time": "2022-01-16T14:55:17.504Z"
   },
   {
    "duration": 2405,
    "start_time": "2022-01-16T14:55:17.522Z"
   },
   {
    "duration": 2315,
    "start_time": "2022-01-16T14:55:17.613Z"
   },
   {
    "duration": 2299,
    "start_time": "2022-01-16T14:55:17.630Z"
   },
   {
    "duration": 2283,
    "start_time": "2022-01-16T14:55:17.647Z"
   },
   {
    "duration": 2271,
    "start_time": "2022-01-16T14:55:17.660Z"
   },
   {
    "duration": 2260,
    "start_time": "2022-01-16T14:55:17.672Z"
   },
   {
    "duration": 2249,
    "start_time": "2022-01-16T14:55:17.684Z"
   },
   {
    "duration": 2242,
    "start_time": "2022-01-16T14:55:17.692Z"
   },
   {
    "duration": 2231,
    "start_time": "2022-01-16T14:55:17.704Z"
   },
   {
    "duration": 2197,
    "start_time": "2022-01-16T14:55:17.739Z"
   },
   {
    "duration": 2186,
    "start_time": "2022-01-16T14:55:17.751Z"
   },
   {
    "duration": 2178,
    "start_time": "2022-01-16T14:55:17.760Z"
   },
   {
    "duration": 2169,
    "start_time": "2022-01-16T14:55:17.770Z"
   },
   {
    "duration": 2161,
    "start_time": "2022-01-16T14:55:17.779Z"
   },
   {
    "duration": 2152,
    "start_time": "2022-01-16T14:55:17.789Z"
   },
   {
    "duration": 2145,
    "start_time": "2022-01-16T14:55:17.797Z"
   },
   {
    "duration": 2134,
    "start_time": "2022-01-16T14:55:17.808Z"
   },
   {
    "duration": 2122,
    "start_time": "2022-01-16T14:55:17.821Z"
   },
   {
    "duration": 2092,
    "start_time": "2022-01-16T14:55:17.852Z"
   },
   {
    "duration": 2083,
    "start_time": "2022-01-16T14:55:17.862Z"
   },
   {
    "duration": 2070,
    "start_time": "2022-01-16T14:55:17.876Z"
   },
   {
    "duration": 2063,
    "start_time": "2022-01-16T14:55:17.884Z"
   },
   {
    "duration": 2052,
    "start_time": "2022-01-16T14:55:17.896Z"
   },
   {
    "duration": 2043,
    "start_time": "2022-01-16T14:55:17.906Z"
   },
   {
    "duration": 478,
    "start_time": "2022-01-16T14:56:17.294Z"
   },
   {
    "duration": 3,
    "start_time": "2022-01-16T14:56:27.246Z"
   },
   {
    "duration": 30,
    "start_time": "2022-01-16T14:56:27.271Z"
   },
   {
    "duration": 12,
    "start_time": "2022-01-16T14:56:27.303Z"
   },
   {
    "duration": 12,
    "start_time": "2022-01-16T14:56:27.317Z"
   },
   {
    "duration": 4,
    "start_time": "2022-01-16T14:56:27.332Z"
   },
   {
    "duration": 5,
    "start_time": "2022-01-16T14:56:27.338Z"
   },
   {
    "duration": 7,
    "start_time": "2022-01-16T14:56:27.345Z"
   },
   {
    "duration": 4,
    "start_time": "2022-01-16T14:56:27.354Z"
   },
   {
    "duration": 386,
    "start_time": "2022-01-16T14:56:27.360Z"
   },
   {
    "duration": 2517,
    "start_time": "2022-01-16T14:56:25.231Z"
   },
   {
    "duration": 2508,
    "start_time": "2022-01-16T14:56:25.241Z"
   },
   {
    "duration": 2496,
    "start_time": "2022-01-16T14:56:25.254Z"
   },
   {
    "duration": 2483,
    "start_time": "2022-01-16T14:56:25.268Z"
   },
   {
    "duration": 2473,
    "start_time": "2022-01-16T14:56:25.279Z"
   },
   {
    "duration": 2463,
    "start_time": "2022-01-16T14:56:25.291Z"
   },
   {
    "duration": 2451,
    "start_time": "2022-01-16T14:56:25.303Z"
   },
   {
    "duration": 2440,
    "start_time": "2022-01-16T14:56:25.316Z"
   },
   {
    "duration": 2405,
    "start_time": "2022-01-16T14:56:25.352Z"
   },
   {
    "duration": 2395,
    "start_time": "2022-01-16T14:56:25.364Z"
   },
   {
    "duration": 2380,
    "start_time": "2022-01-16T14:56:25.380Z"
   },
   {
    "duration": 2368,
    "start_time": "2022-01-16T14:56:25.393Z"
   },
   {
    "duration": 2356,
    "start_time": "2022-01-16T14:56:25.406Z"
   },
   {
    "duration": 2346,
    "start_time": "2022-01-16T14:56:25.418Z"
   },
   {
    "duration": 2334,
    "start_time": "2022-01-16T14:56:25.431Z"
   },
   {
    "duration": 2326,
    "start_time": "2022-01-16T14:56:25.440Z"
   },
   {
    "duration": 2317,
    "start_time": "2022-01-16T14:56:25.450Z"
   },
   {
    "duration": 2290,
    "start_time": "2022-01-16T14:56:25.478Z"
   },
   {
    "duration": 2281,
    "start_time": "2022-01-16T14:56:25.488Z"
   },
   {
    "duration": 2270,
    "start_time": "2022-01-16T14:56:25.500Z"
   },
   {
    "duration": 2258,
    "start_time": "2022-01-16T14:56:25.514Z"
   },
   {
    "duration": 2244,
    "start_time": "2022-01-16T14:56:25.529Z"
   },
   {
    "duration": 2231,
    "start_time": "2022-01-16T14:56:25.543Z"
   },
   {
    "duration": 2221,
    "start_time": "2022-01-16T14:56:25.553Z"
   },
   {
    "duration": 2206,
    "start_time": "2022-01-16T14:56:25.569Z"
   },
   {
    "duration": 4,
    "start_time": "2022-01-16T14:57:27.570Z"
   },
   {
    "duration": 34,
    "start_time": "2022-01-16T14:57:27.577Z"
   },
   {
    "duration": 12,
    "start_time": "2022-01-16T14:57:27.613Z"
   },
   {
    "duration": 10,
    "start_time": "2022-01-16T14:57:27.627Z"
   },
   {
    "duration": 6,
    "start_time": "2022-01-16T14:57:27.639Z"
   },
   {
    "duration": 5,
    "start_time": "2022-01-16T14:57:27.647Z"
   },
   {
    "duration": 8,
    "start_time": "2022-01-16T14:57:27.654Z"
   },
   {
    "duration": 5,
    "start_time": "2022-01-16T14:57:27.664Z"
   },
   {
    "duration": 25,
    "start_time": "2022-01-16T14:57:27.672Z"
   },
   {
    "duration": 7,
    "start_time": "2022-01-16T14:57:27.700Z"
   },
   {
    "duration": 4,
    "start_time": "2022-01-16T14:57:27.709Z"
   },
   {
    "duration": 38,
    "start_time": "2022-01-16T14:57:27.715Z"
   },
   {
    "duration": 6,
    "start_time": "2022-01-16T14:57:27.754Z"
   },
   {
    "duration": 10,
    "start_time": "2022-01-16T14:57:27.762Z"
   },
   {
    "duration": 6162,
    "start_time": "2022-01-16T14:57:27.774Z"
   },
   {
    "duration": 2783,
    "start_time": "2022-01-16T14:57:31.156Z"
   },
   {
    "duration": 2772,
    "start_time": "2022-01-16T14:57:31.168Z"
   },
   {
    "duration": 2762,
    "start_time": "2022-01-16T14:57:31.179Z"
   },
   {
    "duration": 2752,
    "start_time": "2022-01-16T14:57:31.190Z"
   },
   {
    "duration": 2706,
    "start_time": "2022-01-16T14:57:31.236Z"
   },
   {
    "duration": 2678,
    "start_time": "2022-01-16T14:57:31.265Z"
   },
   {
    "duration": 2641,
    "start_time": "2022-01-16T14:57:31.303Z"
   },
   {
    "duration": 2601,
    "start_time": "2022-01-16T14:57:31.344Z"
   },
   {
    "duration": 2539,
    "start_time": "2022-01-16T14:57:31.407Z"
   },
   {
    "duration": 2524,
    "start_time": "2022-01-16T14:57:31.423Z"
   },
   {
    "duration": 2510,
    "start_time": "2022-01-16T14:57:31.438Z"
   },
   {
    "duration": 2497,
    "start_time": "2022-01-16T14:57:31.452Z"
   },
   {
    "duration": 2484,
    "start_time": "2022-01-16T14:57:31.466Z"
   },
   {
    "duration": 2474,
    "start_time": "2022-01-16T14:57:31.477Z"
   },
   {
    "duration": 2411,
    "start_time": "2022-01-16T14:57:31.541Z"
   },
   {
    "duration": 2397,
    "start_time": "2022-01-16T14:57:31.556Z"
   },
   {
    "duration": 2384,
    "start_time": "2022-01-16T14:57:31.570Z"
   },
   {
    "duration": 2372,
    "start_time": "2022-01-16T14:57:31.583Z"
   },
   {
    "duration": 2362,
    "start_time": "2022-01-16T14:57:31.595Z"
   },
   {
    "duration": 233,
    "start_time": "2022-01-16T14:59:57.789Z"
   },
   {
    "duration": 7,
    "start_time": "2022-01-16T15:00:27.082Z"
   },
   {
    "duration": 10,
    "start_time": "2022-01-16T15:02:11.780Z"
   },
   {
    "duration": 8,
    "start_time": "2022-01-16T15:02:29.570Z"
   },
   {
    "duration": 22,
    "start_time": "2022-01-16T15:08:52.441Z"
   },
   {
    "duration": 5,
    "start_time": "2022-01-16T15:09:03.132Z"
   },
   {
    "duration": 14,
    "start_time": "2022-01-16T15:09:17.152Z"
   },
   {
    "duration": 23,
    "start_time": "2022-01-16T15:09:57.668Z"
   },
   {
    "duration": 20,
    "start_time": "2022-01-16T15:15:48.184Z"
   },
   {
    "duration": 12,
    "start_time": "2022-01-16T15:18:24.869Z"
   },
   {
    "duration": 4,
    "start_time": "2022-01-16T15:20:41.188Z"
   },
   {
    "duration": 12,
    "start_time": "2022-01-16T15:20:49.920Z"
   },
   {
    "duration": 4,
    "start_time": "2022-01-16T15:21:02.724Z"
   },
   {
    "duration": 12,
    "start_time": "2022-01-16T15:21:12.962Z"
   },
   {
    "duration": 231,
    "start_time": "2022-01-16T15:25:22.486Z"
   },
   {
    "duration": 3,
    "start_time": "2022-01-16T15:25:37.410Z"
   },
   {
    "duration": 57,
    "start_time": "2022-01-16T15:25:37.417Z"
   },
   {
    "duration": 22,
    "start_time": "2022-01-16T15:25:37.476Z"
   },
   {
    "duration": 38,
    "start_time": "2022-01-16T15:25:37.500Z"
   },
   {
    "duration": 21,
    "start_time": "2022-01-16T15:25:37.540Z"
   },
   {
    "duration": 50,
    "start_time": "2022-01-16T15:25:37.563Z"
   },
   {
    "duration": 43,
    "start_time": "2022-01-16T15:25:37.615Z"
   },
   {
    "duration": 24,
    "start_time": "2022-01-16T15:25:37.660Z"
   },
   {
    "duration": 62,
    "start_time": "2022-01-16T15:25:37.687Z"
   },
   {
    "duration": 13,
    "start_time": "2022-01-16T15:25:37.752Z"
   },
   {
    "duration": 30,
    "start_time": "2022-01-16T15:25:37.766Z"
   },
   {
    "duration": 52,
    "start_time": "2022-01-16T15:25:37.798Z"
   },
   {
    "duration": 33,
    "start_time": "2022-01-16T15:25:37.851Z"
   },
   {
    "duration": 41,
    "start_time": "2022-01-16T15:25:37.886Z"
   },
   {
    "duration": 236,
    "start_time": "2022-01-16T15:25:37.929Z"
   },
   {
    "duration": 2271,
    "start_time": "2022-01-16T15:25:35.897Z"
   },
   {
    "duration": 2263,
    "start_time": "2022-01-16T15:25:35.906Z"
   },
   {
    "duration": 2256,
    "start_time": "2022-01-16T15:25:35.914Z"
   },
   {
    "duration": 2247,
    "start_time": "2022-01-16T15:25:35.924Z"
   },
   {
    "duration": 2239,
    "start_time": "2022-01-16T15:25:35.933Z"
   },
   {
    "duration": 2173,
    "start_time": "2022-01-16T15:25:36.000Z"
   },
   {
    "duration": 2163,
    "start_time": "2022-01-16T15:25:36.011Z"
   },
   {
    "duration": 2151,
    "start_time": "2022-01-16T15:25:36.024Z"
   },
   {
    "duration": 2141,
    "start_time": "2022-01-16T15:25:36.035Z"
   },
   {
    "duration": 2132,
    "start_time": "2022-01-16T15:25:36.046Z"
   },
   {
    "duration": 2126,
    "start_time": "2022-01-16T15:25:36.053Z"
   },
   {
    "duration": 2117,
    "start_time": "2022-01-16T15:25:36.063Z"
   },
   {
    "duration": 2110,
    "start_time": "2022-01-16T15:25:36.071Z"
   },
   {
    "duration": 2102,
    "start_time": "2022-01-16T15:25:36.080Z"
   },
   {
    "duration": 2091,
    "start_time": "2022-01-16T15:25:36.092Z"
   },
   {
    "duration": 2054,
    "start_time": "2022-01-16T15:25:36.130Z"
   },
   {
    "duration": 2047,
    "start_time": "2022-01-16T15:25:36.138Z"
   },
   {
    "duration": 2038,
    "start_time": "2022-01-16T15:25:36.149Z"
   },
   {
    "duration": 2032,
    "start_time": "2022-01-16T15:25:36.156Z"
   },
   {
    "duration": 2023,
    "start_time": "2022-01-16T15:25:36.166Z"
   },
   {
    "duration": 4,
    "start_time": "2022-01-16T15:26:22.215Z"
   },
   {
    "duration": 4,
    "start_time": "2022-01-16T15:26:27.176Z"
   },
   {
    "duration": 35,
    "start_time": "2022-01-16T15:26:27.184Z"
   },
   {
    "duration": 12,
    "start_time": "2022-01-16T15:26:27.221Z"
   },
   {
    "duration": 11,
    "start_time": "2022-01-16T15:26:27.235Z"
   },
   {
    "duration": 3,
    "start_time": "2022-01-16T15:26:27.248Z"
   },
   {
    "duration": 7,
    "start_time": "2022-01-16T15:26:27.254Z"
   },
   {
    "duration": 5,
    "start_time": "2022-01-16T15:26:27.263Z"
   },
   {
    "duration": 5,
    "start_time": "2022-01-16T15:26:27.269Z"
   },
   {
    "duration": 24,
    "start_time": "2022-01-16T15:26:27.277Z"
   },
   {
    "duration": 8,
    "start_time": "2022-01-16T15:26:27.303Z"
   },
   {
    "duration": 7,
    "start_time": "2022-01-16T15:26:27.342Z"
   },
   {
    "duration": 7,
    "start_time": "2022-01-16T15:26:27.351Z"
   },
   {
    "duration": 14,
    "start_time": "2022-01-16T15:26:27.360Z"
   },
   {
    "duration": 10,
    "start_time": "2022-01-16T15:26:27.376Z"
   },
   {
    "duration": 9,
    "start_time": "2022-01-16T15:26:27.388Z"
   },
   {
    "duration": 11,
    "start_time": "2022-01-16T15:26:27.398Z"
   },
   {
    "duration": 137,
    "start_time": "2022-01-16T15:26:27.411Z"
   },
   {
    "duration": 145,
    "start_time": "2022-01-16T15:26:27.551Z"
   },
   {
    "duration": 452,
    "start_time": "2022-01-16T15:26:27.698Z"
   },
   {
    "duration": 189,
    "start_time": "2022-01-16T15:26:28.153Z"
   },
   {
    "duration": 10,
    "start_time": "2022-01-16T15:26:28.345Z"
   },
   {
    "duration": 213,
    "start_time": "2022-01-16T15:26:28.357Z"
   },
   {
    "duration": 200,
    "start_time": "2022-01-16T15:26:28.641Z"
   },
   {
    "duration": 328,
    "start_time": "2022-01-16T15:26:28.844Z"
   },
   {
    "duration": 27,
    "start_time": "2022-01-16T15:26:29.174Z"
   },
   {
    "duration": 67,
    "start_time": "2022-01-16T15:26:29.203Z"
   },
   {
    "duration": 23,
    "start_time": "2022-01-16T15:26:29.272Z"
   },
   {
    "duration": 84,
    "start_time": "2022-01-16T15:26:29.297Z"
   },
   {
    "duration": 426,
    "start_time": "2022-01-16T15:26:29.383Z"
   },
   {
    "duration": 408,
    "start_time": "2022-01-16T15:26:29.812Z"
   },
   {
    "duration": 234,
    "start_time": "2022-01-16T15:26:30.222Z"
   },
   {
    "duration": 304,
    "start_time": "2022-01-16T15:26:30.458Z"
   },
   {
    "duration": 4,
    "start_time": "2022-01-16T15:26:30.763Z"
   },
   {
    "duration": 207,
    "start_time": "2022-01-16T15:26:30.769Z"
   },
   {
    "duration": 467,
    "start_time": "2022-01-16T15:26:30.977Z"
   },
   {
    "duration": 32,
    "start_time": "2022-01-16T15:30:34.921Z"
   },
   {
    "duration": 108,
    "start_time": "2022-01-16T15:33:11.490Z"
   },
   {
    "duration": 102,
    "start_time": "2022-01-16T15:34:01.683Z"
   },
   {
    "duration": 99,
    "start_time": "2022-01-16T15:35:19.970Z"
   },
   {
    "duration": 104,
    "start_time": "2022-01-16T15:36:07.112Z"
   },
   {
    "duration": 101,
    "start_time": "2022-01-16T15:36:30.125Z"
   },
   {
    "duration": 108,
    "start_time": "2022-01-16T15:36:51.432Z"
   },
   {
    "duration": 138,
    "start_time": "2022-01-16T15:36:59.935Z"
   },
   {
    "duration": 104,
    "start_time": "2022-01-16T15:37:30.973Z"
   },
   {
    "duration": 98,
    "start_time": "2022-01-16T15:37:43.210Z"
   },
   {
    "duration": 100,
    "start_time": "2022-01-16T15:39:09.754Z"
   },
   {
    "duration": 735,
    "start_time": "2022-01-16T15:43:39.922Z"
   },
   {
    "duration": 2083,
    "start_time": "2022-01-16T15:44:07.801Z"
   },
   {
    "duration": 2065,
    "start_time": "2022-01-16T15:44:28.304Z"
   },
   {
    "duration": 39,
    "start_time": "2022-01-16T15:46:38.382Z"
   },
   {
    "duration": 106,
    "start_time": "2022-01-16T15:47:48.735Z"
   },
   {
    "duration": 26,
    "start_time": "2022-01-16T15:47:53.373Z"
   },
   {
    "duration": 28,
    "start_time": "2022-01-16T15:47:56.700Z"
   },
   {
    "duration": 37,
    "start_time": "2022-01-16T15:48:17.707Z"
   },
   {
    "duration": 14,
    "start_time": "2022-01-16T15:48:33.558Z"
   },
   {
    "duration": 93,
    "start_time": "2022-01-16T15:49:22.730Z"
   },
   {
    "duration": 179,
    "start_time": "2022-01-16T15:49:26.934Z"
   },
   {
    "duration": 245,
    "start_time": "2022-01-16T15:49:30.421Z"
   },
   {
    "duration": 398,
    "start_time": "2022-01-16T15:49:34.768Z"
   },
   {
    "duration": 391,
    "start_time": "2022-01-16T15:49:40.224Z"
   },
   {
    "duration": 366,
    "start_time": "2022-01-16T15:49:51.083Z"
   },
   {
    "duration": 177,
    "start_time": "2022-01-16T15:50:07.088Z"
   },
   {
    "duration": 372,
    "start_time": "2022-01-16T15:50:11.306Z"
   },
   {
    "duration": 77,
    "start_time": "2022-01-16T15:50:18.532Z"
   },
   {
    "duration": 47,
    "start_time": "2022-01-16T15:50:21.393Z"
   },
   {
    "duration": 166,
    "start_time": "2022-01-16T15:50:26.822Z"
   },
   {
    "duration": 182,
    "start_time": "2022-01-16T15:50:31.359Z"
   },
   {
    "duration": 2032,
    "start_time": "2022-01-16T15:52:44.910Z"
   },
   {
    "duration": 1868,
    "start_time": "2022-01-16T15:55:54.448Z"
   },
   {
    "duration": 1087,
    "start_time": "2022-01-16T15:57:07.058Z"
   },
   {
    "duration": 872,
    "start_time": "2022-01-16T16:02:45.471Z"
   },
   {
    "duration": 852,
    "start_time": "2022-01-16T16:02:50.982Z"
   },
   {
    "duration": 99,
    "start_time": "2022-01-16T16:05:26.714Z"
   },
   {
    "duration": 234,
    "start_time": "2022-01-16T16:05:33.967Z"
   },
   {
    "duration": 309,
    "start_time": "2022-01-16T16:07:11.548Z"
   },
   {
    "duration": 423,
    "start_time": "2022-01-16T16:12:39.610Z"
   },
   {
    "duration": 279,
    "start_time": "2022-01-16T16:14:58.732Z"
   },
   {
    "duration": 234,
    "start_time": "2022-01-16T16:15:10.079Z"
   },
   {
    "duration": 314,
    "start_time": "2022-01-16T16:18:44.865Z"
   },
   {
    "duration": 403,
    "start_time": "2022-01-16T16:20:19.684Z"
   },
   {
    "duration": 421,
    "start_time": "2022-01-16T16:20:44.799Z"
   },
   {
    "duration": 402,
    "start_time": "2022-01-16T16:20:48.916Z"
   },
   {
    "duration": 437,
    "start_time": "2022-01-16T16:20:51.937Z"
   },
   {
    "duration": 423,
    "start_time": "2022-01-16T16:20:55.886Z"
   },
   {
    "duration": 409,
    "start_time": "2022-01-16T16:21:13.854Z"
   },
   {
    "duration": 252,
    "start_time": "2022-01-16T16:21:42.035Z"
   },
   {
    "duration": 410,
    "start_time": "2022-01-16T16:21:46.137Z"
   },
   {
    "duration": 3,
    "start_time": "2022-01-16T16:21:51.585Z"
   },
   {
    "duration": 39,
    "start_time": "2022-01-16T16:21:51.593Z"
   },
   {
    "duration": 11,
    "start_time": "2022-01-16T16:21:51.634Z"
   },
   {
    "duration": 12,
    "start_time": "2022-01-16T16:21:51.647Z"
   },
   {
    "duration": 3,
    "start_time": "2022-01-16T16:21:51.661Z"
   },
   {
    "duration": 8,
    "start_time": "2022-01-16T16:21:51.666Z"
   },
   {
    "duration": 7,
    "start_time": "2022-01-16T16:21:51.676Z"
   },
   {
    "duration": 9,
    "start_time": "2022-01-16T16:21:51.684Z"
   },
   {
    "duration": 26,
    "start_time": "2022-01-16T16:21:51.694Z"
   },
   {
    "duration": 21,
    "start_time": "2022-01-16T16:21:51.721Z"
   },
   {
    "duration": 6,
    "start_time": "2022-01-16T16:21:51.744Z"
   },
   {
    "duration": 9,
    "start_time": "2022-01-16T16:21:51.752Z"
   },
   {
    "duration": 13,
    "start_time": "2022-01-16T16:21:51.763Z"
   },
   {
    "duration": 12,
    "start_time": "2022-01-16T16:21:51.777Z"
   },
   {
    "duration": 4,
    "start_time": "2022-01-16T16:21:51.791Z"
   },
   {
    "duration": 13,
    "start_time": "2022-01-16T16:21:51.797Z"
   },
   {
    "duration": 135,
    "start_time": "2022-01-16T16:21:51.812Z"
   },
   {
    "duration": 126,
    "start_time": "2022-01-16T16:21:52.042Z"
   },
   {
    "duration": 2130,
    "start_time": "2022-01-16T16:21:52.170Z"
   },
   {
    "duration": 140,
    "start_time": "2022-01-16T16:21:54.301Z"
   },
   {
    "duration": 100,
    "start_time": "2022-01-16T16:21:54.444Z"
   },
   {
    "duration": 145,
    "start_time": "2022-01-16T16:21:54.546Z"
   },
   {
    "duration": 172,
    "start_time": "2022-01-16T16:21:54.693Z"
   },
   {
    "duration": 410,
    "start_time": "2022-01-16T16:21:54.869Z"
   },
   {
    "duration": 29,
    "start_time": "2022-01-16T16:21:55.281Z"
   },
   {
    "duration": 60,
    "start_time": "2022-01-16T16:21:55.311Z"
   },
   {
    "duration": 329,
    "start_time": "2022-01-16T16:21:55.372Z"
   },
   {
    "duration": 15,
    "start_time": "2022-01-16T16:21:55.703Z"
   },
   {
    "duration": 80,
    "start_time": "2022-01-16T16:21:55.720Z"
   },
   {
    "duration": 414,
    "start_time": "2022-01-16T16:21:55.802Z"
   },
   {
    "duration": 392,
    "start_time": "2022-01-16T16:21:56.218Z"
   },
   {
    "duration": 191,
    "start_time": "2022-01-16T16:21:56.611Z"
   },
   {
    "duration": 870,
    "start_time": "2022-01-16T16:21:56.803Z"
   },
   {
    "duration": 288,
    "start_time": "2022-01-16T16:21:57.675Z"
   },
   {
    "duration": 4,
    "start_time": "2022-01-16T16:21:57.964Z"
   },
   {
    "duration": 191,
    "start_time": "2022-01-16T16:21:57.969Z"
   },
   {
    "duration": 431,
    "start_time": "2022-01-16T16:21:58.161Z"
   },
   {
    "duration": 27,
    "start_time": "2022-01-16T16:31:56.813Z"
   },
   {
    "duration": 38,
    "start_time": "2022-01-16T16:31:58.364Z"
   },
   {
    "duration": 403,
    "start_time": "2022-01-16T16:36:08.057Z"
   },
   {
    "duration": 446,
    "start_time": "2022-01-16T16:37:07.746Z"
   },
   {
    "duration": 365,
    "start_time": "2022-01-16T16:37:20.575Z"
   },
   {
    "duration": 667,
    "start_time": "2022-01-16T16:39:55.623Z"
   },
   {
    "duration": 401,
    "start_time": "2022-01-16T16:42:22.081Z"
   },
   {
    "duration": 403,
    "start_time": "2022-01-16T16:42:30.626Z"
   },
   {
    "duration": 423,
    "start_time": "2022-01-16T16:44:22.612Z"
   },
   {
    "duration": 4,
    "start_time": "2022-01-16T16:46:47.271Z"
   },
   {
    "duration": 30,
    "start_time": "2022-01-16T16:46:47.314Z"
   },
   {
    "duration": 15,
    "start_time": "2022-01-16T16:46:47.346Z"
   },
   {
    "duration": 16,
    "start_time": "2022-01-16T16:46:47.363Z"
   },
   {
    "duration": 20,
    "start_time": "2022-01-16T16:46:47.381Z"
   },
   {
    "duration": 16,
    "start_time": "2022-01-16T16:46:47.403Z"
   },
   {
    "duration": 13,
    "start_time": "2022-01-16T16:46:47.421Z"
   },
   {
    "duration": 10,
    "start_time": "2022-01-16T16:46:47.435Z"
   },
   {
    "duration": 29,
    "start_time": "2022-01-16T16:46:47.446Z"
   },
   {
    "duration": 7,
    "start_time": "2022-01-16T16:46:47.478Z"
   },
   {
    "duration": 13,
    "start_time": "2022-01-16T16:46:47.487Z"
   },
   {
    "duration": 27,
    "start_time": "2022-01-16T16:46:47.502Z"
   },
   {
    "duration": 23,
    "start_time": "2022-01-16T16:46:47.531Z"
   },
   {
    "duration": 11,
    "start_time": "2022-01-16T16:46:47.556Z"
   },
   {
    "duration": 11,
    "start_time": "2022-01-16T16:46:47.568Z"
   },
   {
    "duration": 18,
    "start_time": "2022-01-16T16:46:47.581Z"
   },
   {
    "duration": 143,
    "start_time": "2022-01-16T16:46:47.601Z"
   },
   {
    "duration": 217,
    "start_time": "2022-01-16T16:46:47.746Z"
   },
   {
    "duration": 2242,
    "start_time": "2022-01-16T16:46:47.968Z"
   },
   {
    "duration": 132,
    "start_time": "2022-01-16T16:46:50.212Z"
   },
   {
    "duration": 99,
    "start_time": "2022-01-16T16:46:50.348Z"
   },
   {
    "duration": 292,
    "start_time": "2022-01-16T16:46:50.449Z"
   },
   {
    "duration": 131,
    "start_time": "2022-01-16T16:46:50.743Z"
   },
   {
    "duration": 396,
    "start_time": "2022-01-16T16:46:50.876Z"
   },
   {
    "duration": 33,
    "start_time": "2022-01-16T16:46:51.274Z"
   },
   {
    "duration": 77,
    "start_time": "2022-01-16T16:46:51.309Z"
   },
   {
    "duration": 358,
    "start_time": "2022-01-16T16:46:51.387Z"
   },
   {
    "duration": 15,
    "start_time": "2022-01-16T16:46:51.746Z"
   },
   {
    "duration": 95,
    "start_time": "2022-01-16T16:46:51.763Z"
   },
   {
    "duration": 458,
    "start_time": "2022-01-16T16:46:51.860Z"
   },
   {
    "duration": 448,
    "start_time": "2022-01-16T16:46:52.320Z"
   },
   {
    "duration": 234,
    "start_time": "2022-01-16T16:46:52.770Z"
   },
   {
    "duration": 1095,
    "start_time": "2022-01-16T16:46:53.006Z"
   },
   {
    "duration": 294,
    "start_time": "2022-01-16T16:46:54.103Z"
   },
   {
    "duration": 5,
    "start_time": "2022-01-16T16:46:54.399Z"
   },
   {
    "duration": 420,
    "start_time": "2022-01-16T16:46:54.405Z"
   },
   {
    "duration": 1178,
    "start_time": "2022-01-16T16:47:21.424Z"
   },
   {
    "duration": 31,
    "start_time": "2022-01-16T16:47:22.605Z"
   },
   {
    "duration": 19,
    "start_time": "2022-01-16T16:47:22.638Z"
   },
   {
    "duration": 11,
    "start_time": "2022-01-16T16:47:22.659Z"
   },
   {
    "duration": 4,
    "start_time": "2022-01-16T16:47:22.671Z"
   },
   {
    "duration": 10,
    "start_time": "2022-01-16T16:47:22.676Z"
   },
   {
    "duration": 11,
    "start_time": "2022-01-16T16:47:22.687Z"
   },
   {
    "duration": 9,
    "start_time": "2022-01-16T16:47:22.700Z"
   },
   {
    "duration": 38,
    "start_time": "2022-01-16T16:47:22.712Z"
   },
   {
    "duration": 8,
    "start_time": "2022-01-16T16:47:22.753Z"
   },
   {
    "duration": 16,
    "start_time": "2022-01-16T16:47:22.763Z"
   },
   {
    "duration": 18,
    "start_time": "2022-01-16T16:47:22.781Z"
   },
   {
    "duration": 18,
    "start_time": "2022-01-16T16:47:22.801Z"
   },
   {
    "duration": 14,
    "start_time": "2022-01-16T16:47:22.821Z"
   },
   {
    "duration": 7,
    "start_time": "2022-01-16T16:47:22.836Z"
   },
   {
    "duration": 10,
    "start_time": "2022-01-16T16:47:22.845Z"
   },
   {
    "duration": 187,
    "start_time": "2022-01-16T16:47:22.857Z"
   },
   {
    "duration": 131,
    "start_time": "2022-01-16T16:47:23.046Z"
   },
   {
    "duration": 2279,
    "start_time": "2022-01-16T16:47:23.179Z"
   },
   {
    "duration": 82,
    "start_time": "2022-01-16T16:47:25.460Z"
   },
   {
    "duration": 96,
    "start_time": "2022-01-16T16:47:25.545Z"
   },
   {
    "duration": 223,
    "start_time": "2022-01-16T16:47:25.644Z"
   },
   {
    "duration": 136,
    "start_time": "2022-01-16T16:47:25.941Z"
   },
   {
    "duration": 338,
    "start_time": "2022-01-16T16:47:26.143Z"
   },
   {
    "duration": 33,
    "start_time": "2022-01-16T16:47:26.483Z"
   },
   {
    "duration": 62,
    "start_time": "2022-01-16T16:47:26.518Z"
   },
   {
    "duration": 372,
    "start_time": "2022-01-16T16:47:26.584Z"
   },
   {
    "duration": 18,
    "start_time": "2022-01-16T16:47:26.958Z"
   },
   {
    "duration": 102,
    "start_time": "2022-01-16T16:47:26.978Z"
   },
   {
    "duration": 423,
    "start_time": "2022-01-16T16:47:27.082Z"
   },
   {
    "duration": 399,
    "start_time": "2022-01-16T16:47:27.507Z"
   },
   {
    "duration": 191,
    "start_time": "2022-01-16T16:47:27.908Z"
   },
   {
    "duration": 917,
    "start_time": "2022-01-16T16:47:28.101Z"
   },
   {
    "duration": 288,
    "start_time": "2022-01-16T16:47:29.019Z"
   },
   {
    "duration": 4,
    "start_time": "2022-01-16T16:47:29.308Z"
   },
   {
    "duration": 1165,
    "start_time": "2022-01-16T16:47:29.313Z"
   },
   {
    "duration": 663,
    "start_time": "2022-01-16T16:48:43.436Z"
   },
   {
    "duration": 623,
    "start_time": "2022-01-16T16:51:17.367Z"
   },
   {
    "duration": 693,
    "start_time": "2022-01-16T16:52:05.970Z"
   },
   {
    "duration": 700,
    "start_time": "2022-01-16T16:52:44.522Z"
   },
   {
    "duration": 3,
    "start_time": "2022-01-16T16:53:10.209Z"
   },
   {
    "duration": 426,
    "start_time": "2022-01-16T16:53:19.207Z"
   },
   {
    "duration": 5,
    "start_time": "2022-01-16T16:53:31.483Z"
   },
   {
    "duration": 401,
    "start_time": "2022-01-16T16:54:13.104Z"
   },
   {
    "duration": 410,
    "start_time": "2022-01-16T16:55:19.210Z"
   },
   {
    "duration": 503,
    "start_time": "2022-01-16T16:56:20.743Z"
   },
   {
    "duration": 234,
    "start_time": "2022-01-16T16:58:38.347Z"
   },
   {
    "duration": 617,
    "start_time": "2022-01-16T16:58:53.628Z"
   },
   {
    "duration": 426,
    "start_time": "2022-01-16T16:59:05.170Z"
   },
   {
    "duration": 393,
    "start_time": "2022-01-16T16:59:18.682Z"
   },
   {
    "duration": 250,
    "start_time": "2022-01-16T17:01:11.691Z"
   },
   {
    "duration": 300,
    "start_time": "2022-01-16T17:06:11.086Z"
   },
   {
    "duration": 606,
    "start_time": "2022-01-16T17:06:18.522Z"
   },
   {
    "duration": 357,
    "start_time": "2022-01-16T17:06:30.117Z"
   },
   {
    "duration": 290,
    "start_time": "2022-01-16T17:07:01.801Z"
   },
   {
    "duration": 38,
    "start_time": "2022-01-16T17:08:49.549Z"
   },
   {
    "duration": 1391,
    "start_time": "2022-01-16T17:09:38.465Z"
   },
   {
    "duration": 31,
    "start_time": "2022-01-16T17:09:39.859Z"
   },
   {
    "duration": 23,
    "start_time": "2022-01-16T17:09:39.893Z"
   },
   {
    "duration": 24,
    "start_time": "2022-01-16T17:09:39.919Z"
   },
   {
    "duration": 5,
    "start_time": "2022-01-16T17:09:39.946Z"
   },
   {
    "duration": 13,
    "start_time": "2022-01-16T17:09:39.954Z"
   },
   {
    "duration": 9,
    "start_time": "2022-01-16T17:09:39.970Z"
   },
   {
    "duration": 4,
    "start_time": "2022-01-16T17:09:39.982Z"
   },
   {
    "duration": 27,
    "start_time": "2022-01-16T17:09:39.989Z"
   },
   {
    "duration": 29,
    "start_time": "2022-01-16T17:09:40.018Z"
   },
   {
    "duration": 11,
    "start_time": "2022-01-16T17:09:40.049Z"
   },
   {
    "duration": 130,
    "start_time": "2022-01-16T17:09:40.061Z"
   },
   {
    "duration": 19,
    "start_time": "2022-01-16T17:09:40.193Z"
   },
   {
    "duration": 8,
    "start_time": "2022-01-16T17:09:40.214Z"
   },
   {
    "duration": 5,
    "start_time": "2022-01-16T17:09:40.223Z"
   },
   {
    "duration": 12,
    "start_time": "2022-01-16T17:09:40.231Z"
   },
   {
    "duration": 205,
    "start_time": "2022-01-16T17:09:40.245Z"
   },
   {
    "duration": 122,
    "start_time": "2022-01-16T17:09:40.451Z"
   },
   {
    "duration": 2144,
    "start_time": "2022-01-16T17:09:40.575Z"
   },
   {
    "duration": 137,
    "start_time": "2022-01-16T17:09:42.721Z"
   },
   {
    "duration": 8,
    "start_time": "2022-01-16T17:09:42.942Z"
   },
   {
    "duration": 143,
    "start_time": "2022-01-16T17:09:42.951Z"
   },
   {
    "duration": 125,
    "start_time": "2022-01-16T17:09:43.144Z"
   },
   {
    "duration": 401,
    "start_time": "2022-01-16T17:09:43.271Z"
   },
   {
    "duration": 27,
    "start_time": "2022-01-16T17:09:43.674Z"
   },
   {
    "duration": 73,
    "start_time": "2022-01-16T17:09:43.703Z"
   },
   {
    "duration": 436,
    "start_time": "2022-01-16T17:09:43.778Z"
   },
   {
    "duration": 28,
    "start_time": "2022-01-16T17:09:44.216Z"
   },
   {
    "duration": 112,
    "start_time": "2022-01-16T17:09:44.246Z"
   },
   {
    "duration": 403,
    "start_time": "2022-01-16T17:09:44.360Z"
   },
   {
    "duration": 393,
    "start_time": "2022-01-16T17:09:44.764Z"
   },
   {
    "duration": 180,
    "start_time": "2022-01-16T17:09:45.159Z"
   },
   {
    "duration": 868,
    "start_time": "2022-01-16T17:09:45.340Z"
   },
   {
    "duration": 284,
    "start_time": "2022-01-16T17:09:46.209Z"
   },
   {
    "duration": 3,
    "start_time": "2022-01-16T17:09:46.495Z"
   },
   {
    "duration": 49,
    "start_time": "2022-01-16T17:09:46.500Z"
   },
   {
    "duration": 280,
    "start_time": "2022-01-16T17:09:46.550Z"
   },
   {
    "duration": 419,
    "start_time": "2022-01-16T17:09:46.832Z"
   },
   {
    "duration": 4,
    "start_time": "2022-01-16T17:09:47.252Z"
   },
   {
    "duration": 412,
    "start_time": "2022-01-16T17:09:47.257Z"
   },
   {
    "duration": 302,
    "start_time": "2022-01-16T17:12:29.493Z"
   },
   {
    "duration": 156,
    "start_time": "2022-01-16T17:13:15.738Z"
   },
   {
    "duration": 406,
    "start_time": "2022-01-16T17:13:42.099Z"
   },
   {
    "duration": 68,
    "start_time": "2022-01-16T17:16:09.847Z"
   },
   {
    "duration": 75,
    "start_time": "2022-01-16T17:16:17.641Z"
   },
   {
    "duration": 88,
    "start_time": "2022-01-16T17:16:24.302Z"
   },
   {
    "duration": 27,
    "start_time": "2022-01-16T17:17:18.873Z"
   },
   {
    "duration": 35,
    "start_time": "2022-01-16T17:17:26.929Z"
   },
   {
    "duration": 36,
    "start_time": "2022-01-16T17:17:31.090Z"
   },
   {
    "duration": 25,
    "start_time": "2022-01-16T17:17:34.699Z"
   },
   {
    "duration": 29,
    "start_time": "2022-01-16T17:17:38.570Z"
   },
   {
    "duration": 38,
    "start_time": "2022-01-16T17:17:49.029Z"
   },
   {
    "duration": 15,
    "start_time": "2022-01-16T17:18:06.934Z"
   },
   {
    "duration": 86,
    "start_time": "2022-01-16T17:19:21.275Z"
   },
   {
    "duration": 32,
    "start_time": "2022-01-16T17:20:30.222Z"
   },
   {
    "duration": 33,
    "start_time": "2022-01-16T17:21:09.410Z"
   },
   {
    "duration": 349,
    "start_time": "2022-01-16T17:21:32.527Z"
   },
   {
    "duration": 357,
    "start_time": "2022-01-16T17:21:40.456Z"
   },
   {
    "duration": 125,
    "start_time": "2022-01-16T17:22:33.267Z"
   },
   {
    "duration": 308,
    "start_time": "2022-01-16T17:24:58.454Z"
   },
   {
    "duration": 1081,
    "start_time": "2022-01-16T17:25:14.727Z"
   },
   {
    "duration": 31,
    "start_time": "2022-01-16T17:25:15.810Z"
   },
   {
    "duration": 31,
    "start_time": "2022-01-16T17:25:15.846Z"
   },
   {
    "duration": 17,
    "start_time": "2022-01-16T17:25:15.879Z"
   },
   {
    "duration": 34,
    "start_time": "2022-01-16T17:25:15.898Z"
   },
   {
    "duration": 16,
    "start_time": "2022-01-16T17:25:15.934Z"
   },
   {
    "duration": 35,
    "start_time": "2022-01-16T17:25:15.953Z"
   },
   {
    "duration": 20,
    "start_time": "2022-01-16T17:25:15.990Z"
   },
   {
    "duration": 46,
    "start_time": "2022-01-16T17:25:16.011Z"
   },
   {
    "duration": 17,
    "start_time": "2022-01-16T17:25:16.058Z"
   },
   {
    "duration": 21,
    "start_time": "2022-01-16T17:25:16.077Z"
   },
   {
    "duration": 34,
    "start_time": "2022-01-16T17:25:16.100Z"
   },
   {
    "duration": 29,
    "start_time": "2022-01-16T17:25:16.135Z"
   },
   {
    "duration": 8,
    "start_time": "2022-01-16T17:25:16.165Z"
   },
   {
    "duration": 3,
    "start_time": "2022-01-16T17:25:16.174Z"
   },
   {
    "duration": 8,
    "start_time": "2022-01-16T17:25:16.179Z"
   },
   {
    "duration": 155,
    "start_time": "2022-01-16T17:25:16.188Z"
   },
   {
    "duration": 214,
    "start_time": "2022-01-16T17:25:16.345Z"
   },
   {
    "duration": 2089,
    "start_time": "2022-01-16T17:25:16.561Z"
   },
   {
    "duration": 93,
    "start_time": "2022-01-16T17:25:18.652Z"
   },
   {
    "duration": 101,
    "start_time": "2022-01-16T17:25:18.747Z"
   },
   {
    "duration": 191,
    "start_time": "2022-01-16T17:25:18.851Z"
   },
   {
    "duration": 130,
    "start_time": "2022-01-16T17:25:19.045Z"
   },
   {
    "duration": 334,
    "start_time": "2022-01-16T17:25:19.241Z"
   },
   {
    "duration": 28,
    "start_time": "2022-01-16T17:25:19.577Z"
   },
   {
    "duration": 58,
    "start_time": "2022-01-16T17:25:19.606Z"
   },
   {
    "duration": 321,
    "start_time": "2022-01-16T17:25:19.666Z"
   },
   {
    "duration": 14,
    "start_time": "2022-01-16T17:25:19.989Z"
   },
   {
    "duration": 97,
    "start_time": "2022-01-16T17:25:20.005Z"
   },
   {
    "duration": 422,
    "start_time": "2022-01-16T17:25:20.104Z"
   },
   {
    "duration": 391,
    "start_time": "2022-01-16T17:25:20.528Z"
   },
   {
    "duration": 183,
    "start_time": "2022-01-16T17:25:20.921Z"
   },
   {
    "duration": 874,
    "start_time": "2022-01-16T17:25:21.106Z"
   },
   {
    "duration": 308,
    "start_time": "2022-01-16T17:25:21.982Z"
   },
   {
    "duration": 4,
    "start_time": "2022-01-16T17:25:22.292Z"
   },
   {
    "duration": 97,
    "start_time": "2022-01-16T17:25:22.297Z"
   },
   {
    "duration": 294,
    "start_time": "2022-01-16T17:25:22.396Z"
   },
   {
    "duration": 85,
    "start_time": "2022-01-16T17:54:54.468Z"
   },
   {
    "duration": 82,
    "start_time": "2022-01-16T17:55:01.162Z"
   },
   {
    "duration": 35,
    "start_time": "2022-01-16T17:55:14.034Z"
   },
   {
    "duration": 1181,
    "start_time": "2022-01-16T18:03:22.505Z"
   },
   {
    "duration": 30,
    "start_time": "2022-01-16T18:03:23.688Z"
   },
   {
    "duration": 21,
    "start_time": "2022-01-16T18:03:23.720Z"
   },
   {
    "duration": 10,
    "start_time": "2022-01-16T18:03:23.743Z"
   },
   {
    "duration": 6,
    "start_time": "2022-01-16T18:03:23.755Z"
   },
   {
    "duration": 9,
    "start_time": "2022-01-16T18:03:23.763Z"
   },
   {
    "duration": 13,
    "start_time": "2022-01-16T18:03:23.774Z"
   },
   {
    "duration": 8,
    "start_time": "2022-01-16T18:03:23.789Z"
   },
   {
    "duration": 27,
    "start_time": "2022-01-16T18:03:23.799Z"
   },
   {
    "duration": 14,
    "start_time": "2022-01-16T18:03:23.827Z"
   },
   {
    "duration": 8,
    "start_time": "2022-01-16T18:03:23.842Z"
   },
   {
    "duration": 16,
    "start_time": "2022-01-16T18:03:23.852Z"
   },
   {
    "duration": 16,
    "start_time": "2022-01-16T18:03:23.869Z"
   },
   {
    "duration": 11,
    "start_time": "2022-01-16T18:03:23.887Z"
   },
   {
    "duration": 5,
    "start_time": "2022-01-16T18:03:23.900Z"
   },
   {
    "duration": 8,
    "start_time": "2022-01-16T18:03:23.907Z"
   },
   {
    "duration": 131,
    "start_time": "2022-01-16T18:03:23.917Z"
   },
   {
    "duration": 219,
    "start_time": "2022-01-16T18:03:24.050Z"
   },
   {
    "duration": 2200,
    "start_time": "2022-01-16T18:03:24.270Z"
   },
   {
    "duration": 74,
    "start_time": "2022-01-16T18:03:26.472Z"
   },
   {
    "duration": 101,
    "start_time": "2022-01-16T18:03:26.548Z"
   },
   {
    "duration": 290,
    "start_time": "2022-01-16T18:03:26.651Z"
   },
   {
    "duration": 126,
    "start_time": "2022-01-16T18:03:26.946Z"
   },
   {
    "duration": 391,
    "start_time": "2022-01-16T18:03:27.075Z"
   },
   {
    "duration": 28,
    "start_time": "2022-01-16T18:03:27.468Z"
   },
   {
    "duration": 58,
    "start_time": "2022-01-16T18:03:27.498Z"
   },
   {
    "duration": 325,
    "start_time": "2022-01-16T18:03:27.558Z"
   },
   {
    "duration": 14,
    "start_time": "2022-01-16T18:03:27.885Z"
   },
   {
    "duration": 96,
    "start_time": "2022-01-16T18:03:27.901Z"
   },
   {
    "duration": 416,
    "start_time": "2022-01-16T18:03:27.999Z"
   },
   {
    "duration": 395,
    "start_time": "2022-01-16T18:03:28.416Z"
   },
   {
    "duration": 191,
    "start_time": "2022-01-16T18:03:28.813Z"
   },
   {
    "duration": 887,
    "start_time": "2022-01-16T18:03:29.006Z"
   },
   {
    "duration": 301,
    "start_time": "2022-01-16T18:03:29.894Z"
   },
   {
    "duration": 4,
    "start_time": "2022-01-16T18:03:30.196Z"
   },
   {
    "duration": 50,
    "start_time": "2022-01-16T18:03:30.202Z"
   },
   {
    "duration": 395,
    "start_time": "2022-01-16T18:03:30.253Z"
   },
   {
    "duration": 347,
    "start_time": "2022-01-16T18:06:45.793Z"
   },
   {
    "duration": 69,
    "start_time": "2022-01-16T18:07:08.288Z"
   },
   {
    "duration": 267,
    "start_time": "2022-01-16T18:07:14.051Z"
   },
   {
    "duration": 266,
    "start_time": "2022-01-16T18:07:46.495Z"
   },
   {
    "duration": 140,
    "start_time": "2022-01-16T18:08:42.262Z"
   },
   {
    "duration": 1139,
    "start_time": "2022-01-16T18:09:05.323Z"
   },
   {
    "duration": 35,
    "start_time": "2022-01-16T18:09:06.464Z"
   },
   {
    "duration": 16,
    "start_time": "2022-01-16T18:09:06.501Z"
   },
   {
    "duration": 8,
    "start_time": "2022-01-16T18:09:06.519Z"
   },
   {
    "duration": 3,
    "start_time": "2022-01-16T18:09:06.529Z"
   },
   {
    "duration": 9,
    "start_time": "2022-01-16T18:09:06.534Z"
   },
   {
    "duration": 6,
    "start_time": "2022-01-16T18:09:06.545Z"
   },
   {
    "duration": 5,
    "start_time": "2022-01-16T18:09:06.554Z"
   },
   {
    "duration": 24,
    "start_time": "2022-01-16T18:09:06.561Z"
   },
   {
    "duration": 8,
    "start_time": "2022-01-16T18:09:06.586Z"
   },
   {
    "duration": 9,
    "start_time": "2022-01-16T18:09:06.596Z"
   },
   {
    "duration": 12,
    "start_time": "2022-01-16T18:09:06.606Z"
   },
   {
    "duration": 28,
    "start_time": "2022-01-16T18:09:06.620Z"
   },
   {
    "duration": 10,
    "start_time": "2022-01-16T18:09:06.650Z"
   },
   {
    "duration": 7,
    "start_time": "2022-01-16T18:09:06.661Z"
   },
   {
    "duration": 12,
    "start_time": "2022-01-16T18:09:06.669Z"
   },
   {
    "duration": 160,
    "start_time": "2022-01-16T18:09:06.682Z"
   },
   {
    "duration": 124,
    "start_time": "2022-01-16T18:09:06.844Z"
   },
   {
    "duration": 2053,
    "start_time": "2022-01-16T18:09:06.970Z"
   },
   {
    "duration": 70,
    "start_time": "2022-01-16T18:09:09.025Z"
   },
   {
    "duration": 100,
    "start_time": "2022-01-16T18:09:09.144Z"
   },
   {
    "duration": 195,
    "start_time": "2022-01-16T18:09:09.246Z"
   },
   {
    "duration": 127,
    "start_time": "2022-01-16T18:09:09.447Z"
   },
   {
    "duration": 328,
    "start_time": "2022-01-16T18:09:09.642Z"
   },
   {
    "duration": 27,
    "start_time": "2022-01-16T18:09:09.972Z"
   },
   {
    "duration": 62,
    "start_time": "2022-01-16T18:09:10.001Z"
   },
   {
    "duration": 302,
    "start_time": "2022-01-16T18:09:10.064Z"
   },
   {
    "duration": 14,
    "start_time": "2022-01-16T18:09:10.368Z"
   },
   {
    "duration": 98,
    "start_time": "2022-01-16T18:09:10.383Z"
   },
   {
    "duration": 418,
    "start_time": "2022-01-16T18:09:10.483Z"
   },
   {
    "duration": 377,
    "start_time": "2022-01-16T18:09:10.903Z"
   },
   {
    "duration": 186,
    "start_time": "2022-01-16T18:09:11.281Z"
   },
   {
    "duration": 854,
    "start_time": "2022-01-16T18:09:11.468Z"
   },
   {
    "duration": 287,
    "start_time": "2022-01-16T18:09:12.324Z"
   },
   {
    "duration": 4,
    "start_time": "2022-01-16T18:09:12.612Z"
   },
   {
    "duration": 39,
    "start_time": "2022-01-16T18:09:12.618Z"
   },
   {
    "duration": 159,
    "start_time": "2022-01-16T18:09:12.659Z"
   },
   {
    "duration": 286,
    "start_time": "2022-01-16T18:09:12.819Z"
   },
   {
    "duration": 1198,
    "start_time": "2022-01-16T18:20:26.981Z"
   },
   {
    "duration": 33,
    "start_time": "2022-01-16T18:20:28.181Z"
   },
   {
    "duration": 17,
    "start_time": "2022-01-16T18:20:28.216Z"
   },
   {
    "duration": 14,
    "start_time": "2022-01-16T18:20:28.235Z"
   },
   {
    "duration": 4,
    "start_time": "2022-01-16T18:20:28.251Z"
   },
   {
    "duration": 5,
    "start_time": "2022-01-16T18:20:28.257Z"
   },
   {
    "duration": 5,
    "start_time": "2022-01-16T18:20:28.263Z"
   },
   {
    "duration": 13,
    "start_time": "2022-01-16T18:20:28.270Z"
   },
   {
    "duration": 26,
    "start_time": "2022-01-16T18:20:28.286Z"
   },
   {
    "duration": 28,
    "start_time": "2022-01-16T18:20:28.314Z"
   },
   {
    "duration": 11,
    "start_time": "2022-01-16T18:20:28.344Z"
   },
   {
    "duration": 9,
    "start_time": "2022-01-16T18:20:28.356Z"
   },
   {
    "duration": 15,
    "start_time": "2022-01-16T18:20:28.367Z"
   },
   {
    "duration": 16,
    "start_time": "2022-01-16T18:20:28.384Z"
   },
   {
    "duration": 14,
    "start_time": "2022-01-16T18:20:28.402Z"
   },
   {
    "duration": 17,
    "start_time": "2022-01-16T18:20:28.418Z"
   },
   {
    "duration": 116,
    "start_time": "2022-01-16T18:20:28.437Z"
   },
   {
    "duration": 128,
    "start_time": "2022-01-16T18:20:28.641Z"
   },
   {
    "duration": 2190,
    "start_time": "2022-01-16T18:20:28.771Z"
   },
   {
    "duration": 94,
    "start_time": "2022-01-16T18:20:30.963Z"
   },
   {
    "duration": 99,
    "start_time": "2022-01-16T18:20:31.143Z"
   },
   {
    "duration": 197,
    "start_time": "2022-01-16T18:20:31.244Z"
   },
   {
    "duration": 134,
    "start_time": "2022-01-16T18:20:31.444Z"
   },
   {
    "duration": 333,
    "start_time": "2022-01-16T18:20:31.643Z"
   },
   {
    "duration": 31,
    "start_time": "2022-01-16T18:20:31.978Z"
   },
   {
    "duration": 68,
    "start_time": "2022-01-16T18:20:32.010Z"
   },
   {
    "duration": 374,
    "start_time": "2022-01-16T18:20:32.081Z"
   },
   {
    "duration": 17,
    "start_time": "2022-01-16T18:20:32.457Z"
   },
   {
    "duration": 122,
    "start_time": "2022-01-16T18:20:32.476Z"
   },
   {
    "duration": 489,
    "start_time": "2022-01-16T18:20:32.600Z"
   },
   {
    "duration": 518,
    "start_time": "2022-01-16T18:20:33.091Z"
   },
   {
    "duration": 199,
    "start_time": "2022-01-16T18:20:33.611Z"
   },
   {
    "duration": 899,
    "start_time": "2022-01-16T18:20:33.812Z"
   },
   {
    "duration": 310,
    "start_time": "2022-01-16T18:20:34.713Z"
   },
   {
    "duration": 4,
    "start_time": "2022-01-16T18:20:35.025Z"
   },
   {
    "duration": 40,
    "start_time": "2022-01-16T18:20:35.030Z"
   },
   {
    "duration": 169,
    "start_time": "2022-01-16T18:20:35.071Z"
   },
   {
    "duration": 309,
    "start_time": "2022-01-16T18:20:35.241Z"
   },
   {
    "duration": 1177,
    "start_time": "2022-01-16T18:30:04.481Z"
   },
   {
    "duration": 30,
    "start_time": "2022-01-16T18:30:05.660Z"
   },
   {
    "duration": 34,
    "start_time": "2022-01-16T18:30:05.692Z"
   },
   {
    "duration": 27,
    "start_time": "2022-01-16T18:30:05.727Z"
   },
   {
    "duration": 30,
    "start_time": "2022-01-16T18:30:05.756Z"
   },
   {
    "duration": 40,
    "start_time": "2022-01-16T18:30:05.788Z"
   },
   {
    "duration": 45,
    "start_time": "2022-01-16T18:30:05.830Z"
   },
   {
    "duration": 58,
    "start_time": "2022-01-16T18:30:05.878Z"
   },
   {
    "duration": 53,
    "start_time": "2022-01-16T18:30:05.939Z"
   },
   {
    "duration": 22,
    "start_time": "2022-01-16T18:30:05.993Z"
   },
   {
    "duration": 38,
    "start_time": "2022-01-16T18:30:06.017Z"
   },
   {
    "duration": 28,
    "start_time": "2022-01-16T18:30:06.057Z"
   },
   {
    "duration": 30,
    "start_time": "2022-01-16T18:30:06.086Z"
   },
   {
    "duration": 44,
    "start_time": "2022-01-16T18:30:06.118Z"
   },
   {
    "duration": 31,
    "start_time": "2022-01-16T18:30:06.163Z"
   },
   {
    "duration": 43,
    "start_time": "2022-01-16T18:30:06.195Z"
   },
   {
    "duration": 202,
    "start_time": "2022-01-16T18:30:06.239Z"
   },
   {
    "duration": 145,
    "start_time": "2022-01-16T18:30:06.443Z"
   },
   {
    "duration": 2103,
    "start_time": "2022-01-16T18:30:06.590Z"
   },
   {
    "duration": 77,
    "start_time": "2022-01-16T18:30:08.695Z"
   },
   {
    "duration": 102,
    "start_time": "2022-01-16T18:30:08.841Z"
   },
   {
    "duration": 297,
    "start_time": "2022-01-16T18:30:08.945Z"
   },
   {
    "duration": 194,
    "start_time": "2022-01-16T18:30:09.247Z"
   },
   {
    "duration": 418,
    "start_time": "2022-01-16T18:30:09.444Z"
   },
   {
    "duration": 26,
    "start_time": "2022-01-16T18:30:09.864Z"
   },
   {
    "duration": 81,
    "start_time": "2022-01-16T18:30:09.892Z"
   },
   {
    "duration": 383,
    "start_time": "2022-01-16T18:30:09.975Z"
   },
   {
    "duration": 14,
    "start_time": "2022-01-16T18:30:10.360Z"
   },
   {
    "duration": 98,
    "start_time": "2022-01-16T18:30:10.376Z"
   },
   {
    "duration": 426,
    "start_time": "2022-01-16T18:30:10.476Z"
   },
   {
    "duration": 367,
    "start_time": "2022-01-16T18:30:10.904Z"
   },
   {
    "duration": 185,
    "start_time": "2022-01-16T18:30:11.273Z"
   },
   {
    "duration": 855,
    "start_time": "2022-01-16T18:30:11.459Z"
   },
   {
    "duration": 293,
    "start_time": "2022-01-16T18:30:12.315Z"
   },
   {
    "duration": 4,
    "start_time": "2022-01-16T18:30:12.609Z"
   },
   {
    "duration": 45,
    "start_time": "2022-01-16T18:30:12.614Z"
   },
   {
    "duration": 153,
    "start_time": "2022-01-16T18:30:12.660Z"
   },
   {
    "duration": 291,
    "start_time": "2022-01-16T18:30:12.815Z"
   },
   {
    "duration": 1213,
    "start_time": "2022-01-17T12:29:59.954Z"
   },
   {
    "duration": 40,
    "start_time": "2022-01-17T12:30:01.169Z"
   },
   {
    "duration": 31,
    "start_time": "2022-01-17T12:30:01.211Z"
   },
   {
    "duration": 48,
    "start_time": "2022-01-17T12:30:01.244Z"
   },
   {
    "duration": 28,
    "start_time": "2022-01-17T12:30:01.294Z"
   },
   {
    "duration": 32,
    "start_time": "2022-01-17T12:30:01.324Z"
   },
   {
    "duration": 34,
    "start_time": "2022-01-17T12:30:01.357Z"
   },
   {
    "duration": 30,
    "start_time": "2022-01-17T12:30:01.394Z"
   },
   {
    "duration": 41,
    "start_time": "2022-01-17T12:30:01.427Z"
   },
   {
    "duration": 9,
    "start_time": "2022-01-17T12:30:01.470Z"
   },
   {
    "duration": 28,
    "start_time": "2022-01-17T12:30:01.480Z"
   },
   {
    "duration": 53,
    "start_time": "2022-01-17T12:30:01.510Z"
   },
   {
    "duration": 36,
    "start_time": "2022-01-17T12:30:01.565Z"
   },
   {
    "duration": 51,
    "start_time": "2022-01-17T12:30:01.602Z"
   },
   {
    "duration": 47,
    "start_time": "2022-01-17T12:30:01.655Z"
   },
   {
    "duration": 30,
    "start_time": "2022-01-17T12:30:01.704Z"
   },
   {
    "duration": 107,
    "start_time": "2022-01-17T12:30:01.736Z"
   },
   {
    "duration": 221,
    "start_time": "2022-01-17T12:30:01.846Z"
   },
   {
    "duration": 2317,
    "start_time": "2022-01-17T12:30:02.069Z"
   },
   {
    "duration": 80,
    "start_time": "2022-01-17T12:30:04.388Z"
   },
   {
    "duration": 99,
    "start_time": "2022-01-17T12:30:04.543Z"
   },
   {
    "duration": 154,
    "start_time": "2022-01-17T12:30:04.645Z"
   },
   {
    "duration": 129,
    "start_time": "2022-01-17T12:30:04.845Z"
   },
   {
    "duration": 335,
    "start_time": "2022-01-17T12:30:05.043Z"
   },
   {
    "duration": 31,
    "start_time": "2022-01-17T12:30:05.380Z"
   },
   {
    "duration": 62,
    "start_time": "2022-01-17T12:30:05.412Z"
   },
   {
    "duration": 334,
    "start_time": "2022-01-17T12:30:05.476Z"
   },
   {
    "duration": 16,
    "start_time": "2022-01-17T12:30:05.812Z"
   },
   {
    "duration": 86,
    "start_time": "2022-01-17T12:30:05.842Z"
   },
   {
    "duration": 411,
    "start_time": "2022-01-17T12:30:05.930Z"
   },
   {
    "duration": 389,
    "start_time": "2022-01-17T12:30:06.342Z"
   },
   {
    "duration": 180,
    "start_time": "2022-01-17T12:30:06.741Z"
   },
   {
    "duration": 894,
    "start_time": "2022-01-17T12:30:06.923Z"
   },
   {
    "duration": 344,
    "start_time": "2022-01-17T12:30:07.819Z"
   },
   {
    "duration": 5,
    "start_time": "2022-01-17T12:30:08.165Z"
   },
   {
    "duration": 36,
    "start_time": "2022-01-17T12:30:08.172Z"
   },
   {
    "duration": 170,
    "start_time": "2022-01-17T12:30:08.210Z"
   },
   {
    "duration": 304,
    "start_time": "2022-01-17T12:30:08.382Z"
   },
   {
    "duration": 1089,
    "start_time": "2022-01-18T08:57:29.227Z"
   },
   {
    "duration": 27,
    "start_time": "2022-01-18T08:57:30.317Z"
   },
   {
    "duration": 13,
    "start_time": "2022-01-18T08:57:30.346Z"
   },
   {
    "duration": 12,
    "start_time": "2022-01-18T08:57:30.361Z"
   },
   {
    "duration": 6,
    "start_time": "2022-01-18T08:57:30.375Z"
   },
   {
    "duration": 9,
    "start_time": "2022-01-18T08:57:30.382Z"
   },
   {
    "duration": 11,
    "start_time": "2022-01-18T08:57:30.392Z"
   },
   {
    "duration": 10,
    "start_time": "2022-01-18T08:57:30.406Z"
   },
   {
    "duration": 28,
    "start_time": "2022-01-18T08:57:30.418Z"
   },
   {
    "duration": 7,
    "start_time": "2022-01-18T08:57:30.448Z"
   },
   {
    "duration": 12,
    "start_time": "2022-01-18T08:57:30.456Z"
   },
   {
    "duration": 22,
    "start_time": "2022-01-18T08:57:30.470Z"
   },
   {
    "duration": 15,
    "start_time": "2022-01-18T08:57:30.494Z"
   },
   {
    "duration": 8,
    "start_time": "2022-01-18T08:57:30.511Z"
   },
   {
    "duration": 3,
    "start_time": "2022-01-18T08:57:30.521Z"
   },
   {
    "duration": 11,
    "start_time": "2022-01-18T08:57:30.525Z"
   },
   {
    "duration": 78,
    "start_time": "2022-01-18T08:57:30.537Z"
   },
   {
    "duration": 207,
    "start_time": "2022-01-18T08:57:30.617Z"
   },
   {
    "duration": 2034,
    "start_time": "2022-01-18T08:57:30.826Z"
   },
   {
    "duration": 75,
    "start_time": "2022-01-18T08:57:32.861Z"
   },
   {
    "duration": 102,
    "start_time": "2022-01-18T08:57:33.013Z"
   },
   {
    "duration": 195,
    "start_time": "2022-01-18T08:57:33.117Z"
   },
   {
    "duration": 125,
    "start_time": "2022-01-18T08:57:33.317Z"
   },
   {
    "duration": 399,
    "start_time": "2022-01-18T08:57:33.444Z"
   },
   {
    "duration": 28,
    "start_time": "2022-01-18T08:57:33.845Z"
   },
   {
    "duration": 58,
    "start_time": "2022-01-18T08:57:33.875Z"
   },
   {
    "duration": 317,
    "start_time": "2022-01-18T08:57:33.934Z"
   },
   {
    "duration": 14,
    "start_time": "2022-01-18T08:57:34.252Z"
   },
   {
    "duration": 96,
    "start_time": "2022-01-18T08:57:34.268Z"
   },
   {
    "duration": 412,
    "start_time": "2022-01-18T08:57:34.365Z"
   },
   {
    "duration": 390,
    "start_time": "2022-01-18T08:57:34.778Z"
   },
   {
    "duration": 189,
    "start_time": "2022-01-18T08:57:35.170Z"
   },
   {
    "duration": 864,
    "start_time": "2022-01-18T08:57:35.360Z"
   },
   {
    "duration": 291,
    "start_time": "2022-01-18T08:57:36.226Z"
   },
   {
    "duration": 4,
    "start_time": "2022-01-18T08:57:36.518Z"
   },
   {
    "duration": 32,
    "start_time": "2022-01-18T08:57:36.524Z"
   },
   {
    "duration": 172,
    "start_time": "2022-01-18T08:57:36.557Z"
   },
   {
    "duration": 293,
    "start_time": "2022-01-18T08:57:36.731Z"
   }
  ],
  "kernelspec": {
   "display_name": "Python 3",
   "language": "python",
   "name": "python3"
  },
  "language_info": {
   "codemirror_mode": {
    "name": "ipython",
    "version": 3
   },
   "file_extension": ".py",
   "mimetype": "text/x-python",
   "name": "python",
   "nbconvert_exporter": "python",
   "pygments_lexer": "ipython3",
   "version": "3.7.8"
  },
  "toc": {
   "base_numbering": 1,
   "nav_menu": {},
   "number_sections": true,
   "sideBar": true,
   "skip_h1_title": true,
   "title_cell": "Содержание",
   "title_sidebar": "Contents",
   "toc_cell": true,
   "toc_position": {},
   "toc_section_display": true,
   "toc_window_display": false
  }
 },
 "nbformat": 4,
 "nbformat_minor": 2
}
