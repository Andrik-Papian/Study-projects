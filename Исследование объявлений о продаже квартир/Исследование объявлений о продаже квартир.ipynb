{
 "cells": [
  {
   "cell_type": "markdown",
   "metadata": {},
   "source": [
    "# Исследование объявлений о продаже квартир\n",
    "\n",
    "В вашем распоряжении данные сервиса Яндекс.Недвижимость — архив объявлений о продаже квартир в Санкт-Петербурге и соседних населённых пунктах за несколько лет. Нужно научиться определять рыночную стоимость объектов недвижимости. Наша задача — установить параметры. Это позволит построить автоматизированную систему: она отследит аномалии и мошенническую деятельность. \n",
    "\n",
    "По каждой квартире на продажу доступны два вида данных. Первые вписаны пользователем, вторые получены автоматически на основе картографических данных. Например, расстояние до центра, аэропорта, ближайшего парка и водоёма. "
   ]
  },
  {
   "cell_type": "markdown",
   "metadata": {},
   "source": [
    "## Изучение данных из файла"
   ]
  },
  {
   "cell_type": "code",
   "execution_count": 1,
   "metadata": {
    "scrolled": true
   },
   "outputs": [
    {
     "data": {
      "text/html": [
       "<div>\n",
       "<style scoped>\n",
       "    .dataframe tbody tr th:only-of-type {\n",
       "        vertical-align: middle;\n",
       "    }\n",
       "\n",
       "    .dataframe tbody tr th {\n",
       "        vertical-align: top;\n",
       "    }\n",
       "\n",
       "    .dataframe thead th {\n",
       "        text-align: right;\n",
       "    }\n",
       "</style>\n",
       "<table border=\"1\" class=\"dataframe\">\n",
       "  <thead>\n",
       "    <tr style=\"text-align: right;\">\n",
       "      <th></th>\n",
       "      <th>total_images</th>\n",
       "      <th>last_price</th>\n",
       "      <th>total_area</th>\n",
       "      <th>first_day_exposition</th>\n",
       "      <th>rooms</th>\n",
       "      <th>ceiling_height</th>\n",
       "      <th>floors_total</th>\n",
       "      <th>living_area</th>\n",
       "      <th>floor</th>\n",
       "      <th>is_apartment</th>\n",
       "      <th>...</th>\n",
       "      <th>kitchen_area</th>\n",
       "      <th>balcony</th>\n",
       "      <th>locality_name</th>\n",
       "      <th>airports_nearest</th>\n",
       "      <th>cityCenters_nearest</th>\n",
       "      <th>parks_around3000</th>\n",
       "      <th>parks_nearest</th>\n",
       "      <th>ponds_around3000</th>\n",
       "      <th>ponds_nearest</th>\n",
       "      <th>days_exposition</th>\n",
       "    </tr>\n",
       "  </thead>\n",
       "  <tbody>\n",
       "    <tr>\n",
       "      <td>0</td>\n",
       "      <td>20</td>\n",
       "      <td>13000000.0</td>\n",
       "      <td>108.00</td>\n",
       "      <td>2019-03-07T00:00:00</td>\n",
       "      <td>3</td>\n",
       "      <td>2.70</td>\n",
       "      <td>16.0</td>\n",
       "      <td>51.00</td>\n",
       "      <td>8</td>\n",
       "      <td>NaN</td>\n",
       "      <td>...</td>\n",
       "      <td>25.00</td>\n",
       "      <td>NaN</td>\n",
       "      <td>Санкт-Петербург</td>\n",
       "      <td>18863.0</td>\n",
       "      <td>16028.0</td>\n",
       "      <td>1.0</td>\n",
       "      <td>482.0</td>\n",
       "      <td>2.0</td>\n",
       "      <td>755.0</td>\n",
       "      <td>NaN</td>\n",
       "    </tr>\n",
       "    <tr>\n",
       "      <td>1</td>\n",
       "      <td>7</td>\n",
       "      <td>3350000.0</td>\n",
       "      <td>40.40</td>\n",
       "      <td>2018-12-04T00:00:00</td>\n",
       "      <td>1</td>\n",
       "      <td>NaN</td>\n",
       "      <td>11.0</td>\n",
       "      <td>18.60</td>\n",
       "      <td>1</td>\n",
       "      <td>NaN</td>\n",
       "      <td>...</td>\n",
       "      <td>11.00</td>\n",
       "      <td>2.0</td>\n",
       "      <td>посёлок Шушары</td>\n",
       "      <td>12817.0</td>\n",
       "      <td>18603.0</td>\n",
       "      <td>0.0</td>\n",
       "      <td>NaN</td>\n",
       "      <td>0.0</td>\n",
       "      <td>NaN</td>\n",
       "      <td>81.0</td>\n",
       "    </tr>\n",
       "    <tr>\n",
       "      <td>2</td>\n",
       "      <td>10</td>\n",
       "      <td>5196000.0</td>\n",
       "      <td>56.00</td>\n",
       "      <td>2015-08-20T00:00:00</td>\n",
       "      <td>2</td>\n",
       "      <td>NaN</td>\n",
       "      <td>5.0</td>\n",
       "      <td>34.30</td>\n",
       "      <td>4</td>\n",
       "      <td>NaN</td>\n",
       "      <td>...</td>\n",
       "      <td>8.30</td>\n",
       "      <td>0.0</td>\n",
       "      <td>Санкт-Петербург</td>\n",
       "      <td>21741.0</td>\n",
       "      <td>13933.0</td>\n",
       "      <td>1.0</td>\n",
       "      <td>90.0</td>\n",
       "      <td>2.0</td>\n",
       "      <td>574.0</td>\n",
       "      <td>558.0</td>\n",
       "    </tr>\n",
       "    <tr>\n",
       "      <td>3</td>\n",
       "      <td>0</td>\n",
       "      <td>64900000.0</td>\n",
       "      <td>159.00</td>\n",
       "      <td>2015-07-24T00:00:00</td>\n",
       "      <td>3</td>\n",
       "      <td>NaN</td>\n",
       "      <td>14.0</td>\n",
       "      <td>NaN</td>\n",
       "      <td>9</td>\n",
       "      <td>NaN</td>\n",
       "      <td>...</td>\n",
       "      <td>NaN</td>\n",
       "      <td>0.0</td>\n",
       "      <td>Санкт-Петербург</td>\n",
       "      <td>28098.0</td>\n",
       "      <td>6800.0</td>\n",
       "      <td>2.0</td>\n",
       "      <td>84.0</td>\n",
       "      <td>3.0</td>\n",
       "      <td>234.0</td>\n",
       "      <td>424.0</td>\n",
       "    </tr>\n",
       "    <tr>\n",
       "      <td>4</td>\n",
       "      <td>2</td>\n",
       "      <td>10000000.0</td>\n",
       "      <td>100.00</td>\n",
       "      <td>2018-06-19T00:00:00</td>\n",
       "      <td>2</td>\n",
       "      <td>3.03</td>\n",
       "      <td>14.0</td>\n",
       "      <td>32.00</td>\n",
       "      <td>13</td>\n",
       "      <td>NaN</td>\n",
       "      <td>...</td>\n",
       "      <td>41.00</td>\n",
       "      <td>NaN</td>\n",
       "      <td>Санкт-Петербург</td>\n",
       "      <td>31856.0</td>\n",
       "      <td>8098.0</td>\n",
       "      <td>2.0</td>\n",
       "      <td>112.0</td>\n",
       "      <td>1.0</td>\n",
       "      <td>48.0</td>\n",
       "      <td>121.0</td>\n",
       "    </tr>\n",
       "    <tr>\n",
       "      <td>5</td>\n",
       "      <td>10</td>\n",
       "      <td>2890000.0</td>\n",
       "      <td>30.40</td>\n",
       "      <td>2018-09-10T00:00:00</td>\n",
       "      <td>1</td>\n",
       "      <td>NaN</td>\n",
       "      <td>12.0</td>\n",
       "      <td>14.40</td>\n",
       "      <td>5</td>\n",
       "      <td>NaN</td>\n",
       "      <td>...</td>\n",
       "      <td>9.10</td>\n",
       "      <td>NaN</td>\n",
       "      <td>городской посёлок Янино-1</td>\n",
       "      <td>NaN</td>\n",
       "      <td>NaN</td>\n",
       "      <td>NaN</td>\n",
       "      <td>NaN</td>\n",
       "      <td>NaN</td>\n",
       "      <td>NaN</td>\n",
       "      <td>55.0</td>\n",
       "    </tr>\n",
       "    <tr>\n",
       "      <td>6</td>\n",
       "      <td>6</td>\n",
       "      <td>3700000.0</td>\n",
       "      <td>37.30</td>\n",
       "      <td>2017-11-02T00:00:00</td>\n",
       "      <td>1</td>\n",
       "      <td>NaN</td>\n",
       "      <td>26.0</td>\n",
       "      <td>10.60</td>\n",
       "      <td>6</td>\n",
       "      <td>NaN</td>\n",
       "      <td>...</td>\n",
       "      <td>14.40</td>\n",
       "      <td>1.0</td>\n",
       "      <td>посёлок Парголово</td>\n",
       "      <td>52996.0</td>\n",
       "      <td>19143.0</td>\n",
       "      <td>0.0</td>\n",
       "      <td>NaN</td>\n",
       "      <td>0.0</td>\n",
       "      <td>NaN</td>\n",
       "      <td>155.0</td>\n",
       "    </tr>\n",
       "    <tr>\n",
       "      <td>7</td>\n",
       "      <td>5</td>\n",
       "      <td>7915000.0</td>\n",
       "      <td>71.60</td>\n",
       "      <td>2019-04-18T00:00:00</td>\n",
       "      <td>2</td>\n",
       "      <td>NaN</td>\n",
       "      <td>24.0</td>\n",
       "      <td>NaN</td>\n",
       "      <td>22</td>\n",
       "      <td>NaN</td>\n",
       "      <td>...</td>\n",
       "      <td>18.90</td>\n",
       "      <td>2.0</td>\n",
       "      <td>Санкт-Петербург</td>\n",
       "      <td>23982.0</td>\n",
       "      <td>11634.0</td>\n",
       "      <td>0.0</td>\n",
       "      <td>NaN</td>\n",
       "      <td>0.0</td>\n",
       "      <td>NaN</td>\n",
       "      <td>NaN</td>\n",
       "    </tr>\n",
       "    <tr>\n",
       "      <td>8</td>\n",
       "      <td>20</td>\n",
       "      <td>2900000.0</td>\n",
       "      <td>33.16</td>\n",
       "      <td>2018-05-23T00:00:00</td>\n",
       "      <td>1</td>\n",
       "      <td>NaN</td>\n",
       "      <td>27.0</td>\n",
       "      <td>15.43</td>\n",
       "      <td>26</td>\n",
       "      <td>NaN</td>\n",
       "      <td>...</td>\n",
       "      <td>8.81</td>\n",
       "      <td>NaN</td>\n",
       "      <td>посёлок Мурино</td>\n",
       "      <td>NaN</td>\n",
       "      <td>NaN</td>\n",
       "      <td>NaN</td>\n",
       "      <td>NaN</td>\n",
       "      <td>NaN</td>\n",
       "      <td>NaN</td>\n",
       "      <td>189.0</td>\n",
       "    </tr>\n",
       "    <tr>\n",
       "      <td>9</td>\n",
       "      <td>18</td>\n",
       "      <td>5400000.0</td>\n",
       "      <td>61.00</td>\n",
       "      <td>2017-02-26T00:00:00</td>\n",
       "      <td>3</td>\n",
       "      <td>2.50</td>\n",
       "      <td>9.0</td>\n",
       "      <td>43.60</td>\n",
       "      <td>7</td>\n",
       "      <td>NaN</td>\n",
       "      <td>...</td>\n",
       "      <td>6.50</td>\n",
       "      <td>2.0</td>\n",
       "      <td>Санкт-Петербург</td>\n",
       "      <td>50898.0</td>\n",
       "      <td>15008.0</td>\n",
       "      <td>0.0</td>\n",
       "      <td>NaN</td>\n",
       "      <td>0.0</td>\n",
       "      <td>NaN</td>\n",
       "      <td>289.0</td>\n",
       "    </tr>\n",
       "  </tbody>\n",
       "</table>\n",
       "<p>10 rows × 22 columns</p>\n",
       "</div>"
      ],
      "text/plain": [
       "   total_images  last_price  total_area first_day_exposition  rooms  \\\n",
       "0            20  13000000.0      108.00  2019-03-07T00:00:00      3   \n",
       "1             7   3350000.0       40.40  2018-12-04T00:00:00      1   \n",
       "2            10   5196000.0       56.00  2015-08-20T00:00:00      2   \n",
       "3             0  64900000.0      159.00  2015-07-24T00:00:00      3   \n",
       "4             2  10000000.0      100.00  2018-06-19T00:00:00      2   \n",
       "5            10   2890000.0       30.40  2018-09-10T00:00:00      1   \n",
       "6             6   3700000.0       37.30  2017-11-02T00:00:00      1   \n",
       "7             5   7915000.0       71.60  2019-04-18T00:00:00      2   \n",
       "8            20   2900000.0       33.16  2018-05-23T00:00:00      1   \n",
       "9            18   5400000.0       61.00  2017-02-26T00:00:00      3   \n",
       "\n",
       "   ceiling_height  floors_total  living_area  floor is_apartment  ...  \\\n",
       "0            2.70          16.0        51.00      8          NaN  ...   \n",
       "1             NaN          11.0        18.60      1          NaN  ...   \n",
       "2             NaN           5.0        34.30      4          NaN  ...   \n",
       "3             NaN          14.0          NaN      9          NaN  ...   \n",
       "4            3.03          14.0        32.00     13          NaN  ...   \n",
       "5             NaN          12.0        14.40      5          NaN  ...   \n",
       "6             NaN          26.0        10.60      6          NaN  ...   \n",
       "7             NaN          24.0          NaN     22          NaN  ...   \n",
       "8             NaN          27.0        15.43     26          NaN  ...   \n",
       "9            2.50           9.0        43.60      7          NaN  ...   \n",
       "\n",
       "   kitchen_area  balcony              locality_name  airports_nearest  \\\n",
       "0         25.00      NaN            Санкт-Петербург           18863.0   \n",
       "1         11.00      2.0             посёлок Шушары           12817.0   \n",
       "2          8.30      0.0            Санкт-Петербург           21741.0   \n",
       "3           NaN      0.0            Санкт-Петербург           28098.0   \n",
       "4         41.00      NaN            Санкт-Петербург           31856.0   \n",
       "5          9.10      NaN  городской посёлок Янино-1               NaN   \n",
       "6         14.40      1.0          посёлок Парголово           52996.0   \n",
       "7         18.90      2.0            Санкт-Петербург           23982.0   \n",
       "8          8.81      NaN             посёлок Мурино               NaN   \n",
       "9          6.50      2.0            Санкт-Петербург           50898.0   \n",
       "\n",
       "  cityCenters_nearest  parks_around3000  parks_nearest  ponds_around3000  \\\n",
       "0             16028.0               1.0          482.0               2.0   \n",
       "1             18603.0               0.0            NaN               0.0   \n",
       "2             13933.0               1.0           90.0               2.0   \n",
       "3              6800.0               2.0           84.0               3.0   \n",
       "4              8098.0               2.0          112.0               1.0   \n",
       "5                 NaN               NaN            NaN               NaN   \n",
       "6             19143.0               0.0            NaN               0.0   \n",
       "7             11634.0               0.0            NaN               0.0   \n",
       "8                 NaN               NaN            NaN               NaN   \n",
       "9             15008.0               0.0            NaN               0.0   \n",
       "\n",
       "   ponds_nearest  days_exposition  \n",
       "0          755.0              NaN  \n",
       "1            NaN             81.0  \n",
       "2          574.0            558.0  \n",
       "3          234.0            424.0  \n",
       "4           48.0            121.0  \n",
       "5            NaN             55.0  \n",
       "6            NaN            155.0  \n",
       "7            NaN              NaN  \n",
       "8            NaN            189.0  \n",
       "9            NaN            289.0  \n",
       "\n",
       "[10 rows x 22 columns]"
      ]
     },
     "metadata": {},
     "output_type": "display_data"
    }
   ],
   "source": [
    "#откроем файл с данными и изучим общую информацию\n",
    "import pandas as pd\n",
    "df = pd.read_csv('/datasets/real_estate_data.csv', sep='\\t')\n",
    "display(df.head(10))"
   ]
  },
  {
   "cell_type": "code",
   "execution_count": 2,
   "metadata": {
    "scrolled": true
   },
   "outputs": [
    {
     "name": "stdout",
     "output_type": "stream",
     "text": [
      "<class 'pandas.core.frame.DataFrame'>\n",
      "RangeIndex: 23699 entries, 0 to 23698\n",
      "Data columns (total 22 columns):\n",
      "total_images            23699 non-null int64\n",
      "last_price              23699 non-null float64\n",
      "total_area              23699 non-null float64\n",
      "first_day_exposition    23699 non-null object\n",
      "rooms                   23699 non-null int64\n",
      "ceiling_height          14504 non-null float64\n",
      "floors_total            23613 non-null float64\n",
      "living_area             21796 non-null float64\n",
      "floor                   23699 non-null int64\n",
      "is_apartment            2775 non-null object\n",
      "studio                  23699 non-null bool\n",
      "open_plan               23699 non-null bool\n",
      "kitchen_area            21421 non-null float64\n",
      "balcony                 12180 non-null float64\n",
      "locality_name           23650 non-null object\n",
      "airports_nearest        18157 non-null float64\n",
      "cityCenters_nearest     18180 non-null float64\n",
      "parks_around3000        18181 non-null float64\n",
      "parks_nearest           8079 non-null float64\n",
      "ponds_around3000        18181 non-null float64\n",
      "ponds_nearest           9110 non-null float64\n",
      "days_exposition         20518 non-null float64\n",
      "dtypes: bool(2), float64(14), int64(3), object(3)\n",
      "memory usage: 3.7+ MB\n"
     ]
    }
   ],
   "source": [
    "df.info()"
   ]
  },
  {
   "cell_type": "markdown",
   "metadata": {},
   "source": [
    "**Можно отметить, что в таблице с данными у нас нет проблем с названиями столбцов, они все написаны корректно и точно отображают информацию записанную в них. Используя метод info можем заметить, что существуют столбцы с достаточным количеством пропущенных значений, которыми придется заняться, также есть несколько столбцов - в которых потребуется изменить тип данных.**"
   ]
  },
  {
   "cell_type": "markdown",
   "metadata": {},
   "source": [
    "## Предобработка данных"
   ]
  },
  {
   "cell_type": "markdown",
   "metadata": {},
   "source": [
    "### Заменим пустые значения, там где это возможно сделать, предположив логичную замену."
   ]
  },
  {
   "cell_type": "code",
   "execution_count": 3,
   "metadata": {},
   "outputs": [
    {
     "data": {
      "text/html": [
       "<div>\n",
       "<style scoped>\n",
       "    .dataframe tbody tr th:only-of-type {\n",
       "        vertical-align: middle;\n",
       "    }\n",
       "\n",
       "    .dataframe tbody tr th {\n",
       "        vertical-align: top;\n",
       "    }\n",
       "\n",
       "    .dataframe thead th {\n",
       "        text-align: right;\n",
       "    }\n",
       "</style>\n",
       "<table border=\"1\" class=\"dataframe\">\n",
       "  <thead>\n",
       "    <tr style=\"text-align: right;\">\n",
       "      <th></th>\n",
       "      <th>total_images</th>\n",
       "      <th>last_price</th>\n",
       "      <th>total_area</th>\n",
       "      <th>first_day_exposition</th>\n",
       "      <th>rooms</th>\n",
       "      <th>ceiling_height</th>\n",
       "      <th>floors_total</th>\n",
       "      <th>living_area</th>\n",
       "      <th>floor</th>\n",
       "      <th>is_apartment</th>\n",
       "      <th>...</th>\n",
       "      <th>kitchen_area</th>\n",
       "      <th>balcony</th>\n",
       "      <th>locality_name</th>\n",
       "      <th>airports_nearest</th>\n",
       "      <th>cityCenters_nearest</th>\n",
       "      <th>parks_around3000</th>\n",
       "      <th>parks_nearest</th>\n",
       "      <th>ponds_around3000</th>\n",
       "      <th>ponds_nearest</th>\n",
       "      <th>days_exposition</th>\n",
       "    </tr>\n",
       "  </thead>\n",
       "  <tbody>\n",
       "    <tr>\n",
       "      <td>0</td>\n",
       "      <td>20</td>\n",
       "      <td>13000000.0</td>\n",
       "      <td>108.00</td>\n",
       "      <td>2019-03-07T00:00:00</td>\n",
       "      <td>3</td>\n",
       "      <td>2.700000</td>\n",
       "      <td>16.0</td>\n",
       "      <td>51.00</td>\n",
       "      <td>8</td>\n",
       "      <td>False</td>\n",
       "      <td>...</td>\n",
       "      <td>25.00</td>\n",
       "      <td>0.0</td>\n",
       "      <td>Санкт-Петербург</td>\n",
       "      <td>18863.0</td>\n",
       "      <td>16028.0</td>\n",
       "      <td>1.0</td>\n",
       "      <td>482.0</td>\n",
       "      <td>2.0</td>\n",
       "      <td>755.0</td>\n",
       "      <td>NaN</td>\n",
       "    </tr>\n",
       "    <tr>\n",
       "      <td>1</td>\n",
       "      <td>7</td>\n",
       "      <td>3350000.0</td>\n",
       "      <td>40.40</td>\n",
       "      <td>2018-12-04T00:00:00</td>\n",
       "      <td>1</td>\n",
       "      <td>2.771499</td>\n",
       "      <td>11.0</td>\n",
       "      <td>18.60</td>\n",
       "      <td>1</td>\n",
       "      <td>False</td>\n",
       "      <td>...</td>\n",
       "      <td>11.00</td>\n",
       "      <td>2.0</td>\n",
       "      <td>посёлок Шушары</td>\n",
       "      <td>12817.0</td>\n",
       "      <td>18603.0</td>\n",
       "      <td>0.0</td>\n",
       "      <td>NaN</td>\n",
       "      <td>0.0</td>\n",
       "      <td>NaN</td>\n",
       "      <td>81.0</td>\n",
       "    </tr>\n",
       "    <tr>\n",
       "      <td>2</td>\n",
       "      <td>10</td>\n",
       "      <td>5196000.0</td>\n",
       "      <td>56.00</td>\n",
       "      <td>2015-08-20T00:00:00</td>\n",
       "      <td>2</td>\n",
       "      <td>2.771499</td>\n",
       "      <td>5.0</td>\n",
       "      <td>34.30</td>\n",
       "      <td>4</td>\n",
       "      <td>False</td>\n",
       "      <td>...</td>\n",
       "      <td>8.30</td>\n",
       "      <td>0.0</td>\n",
       "      <td>Санкт-Петербург</td>\n",
       "      <td>21741.0</td>\n",
       "      <td>13933.0</td>\n",
       "      <td>1.0</td>\n",
       "      <td>90.0</td>\n",
       "      <td>2.0</td>\n",
       "      <td>574.0</td>\n",
       "      <td>558.0</td>\n",
       "    </tr>\n",
       "    <tr>\n",
       "      <td>3</td>\n",
       "      <td>0</td>\n",
       "      <td>64900000.0</td>\n",
       "      <td>159.00</td>\n",
       "      <td>2015-07-24T00:00:00</td>\n",
       "      <td>3</td>\n",
       "      <td>2.771499</td>\n",
       "      <td>14.0</td>\n",
       "      <td>NaN</td>\n",
       "      <td>9</td>\n",
       "      <td>False</td>\n",
       "      <td>...</td>\n",
       "      <td>NaN</td>\n",
       "      <td>0.0</td>\n",
       "      <td>Санкт-Петербург</td>\n",
       "      <td>28098.0</td>\n",
       "      <td>6800.0</td>\n",
       "      <td>2.0</td>\n",
       "      <td>84.0</td>\n",
       "      <td>3.0</td>\n",
       "      <td>234.0</td>\n",
       "      <td>424.0</td>\n",
       "    </tr>\n",
       "    <tr>\n",
       "      <td>4</td>\n",
       "      <td>2</td>\n",
       "      <td>10000000.0</td>\n",
       "      <td>100.00</td>\n",
       "      <td>2018-06-19T00:00:00</td>\n",
       "      <td>2</td>\n",
       "      <td>3.030000</td>\n",
       "      <td>14.0</td>\n",
       "      <td>32.00</td>\n",
       "      <td>13</td>\n",
       "      <td>False</td>\n",
       "      <td>...</td>\n",
       "      <td>41.00</td>\n",
       "      <td>0.0</td>\n",
       "      <td>Санкт-Петербург</td>\n",
       "      <td>31856.0</td>\n",
       "      <td>8098.0</td>\n",
       "      <td>2.0</td>\n",
       "      <td>112.0</td>\n",
       "      <td>1.0</td>\n",
       "      <td>48.0</td>\n",
       "      <td>121.0</td>\n",
       "    </tr>\n",
       "    <tr>\n",
       "      <td>5</td>\n",
       "      <td>10</td>\n",
       "      <td>2890000.0</td>\n",
       "      <td>30.40</td>\n",
       "      <td>2018-09-10T00:00:00</td>\n",
       "      <td>1</td>\n",
       "      <td>2.771499</td>\n",
       "      <td>12.0</td>\n",
       "      <td>14.40</td>\n",
       "      <td>5</td>\n",
       "      <td>False</td>\n",
       "      <td>...</td>\n",
       "      <td>9.10</td>\n",
       "      <td>0.0</td>\n",
       "      <td>городской посёлок Янино-1</td>\n",
       "      <td>NaN</td>\n",
       "      <td>NaN</td>\n",
       "      <td>NaN</td>\n",
       "      <td>NaN</td>\n",
       "      <td>NaN</td>\n",
       "      <td>NaN</td>\n",
       "      <td>55.0</td>\n",
       "    </tr>\n",
       "    <tr>\n",
       "      <td>6</td>\n",
       "      <td>6</td>\n",
       "      <td>3700000.0</td>\n",
       "      <td>37.30</td>\n",
       "      <td>2017-11-02T00:00:00</td>\n",
       "      <td>1</td>\n",
       "      <td>2.771499</td>\n",
       "      <td>26.0</td>\n",
       "      <td>10.60</td>\n",
       "      <td>6</td>\n",
       "      <td>False</td>\n",
       "      <td>...</td>\n",
       "      <td>14.40</td>\n",
       "      <td>1.0</td>\n",
       "      <td>посёлок Парголово</td>\n",
       "      <td>52996.0</td>\n",
       "      <td>19143.0</td>\n",
       "      <td>0.0</td>\n",
       "      <td>NaN</td>\n",
       "      <td>0.0</td>\n",
       "      <td>NaN</td>\n",
       "      <td>155.0</td>\n",
       "    </tr>\n",
       "    <tr>\n",
       "      <td>7</td>\n",
       "      <td>5</td>\n",
       "      <td>7915000.0</td>\n",
       "      <td>71.60</td>\n",
       "      <td>2019-04-18T00:00:00</td>\n",
       "      <td>2</td>\n",
       "      <td>2.771499</td>\n",
       "      <td>24.0</td>\n",
       "      <td>NaN</td>\n",
       "      <td>22</td>\n",
       "      <td>False</td>\n",
       "      <td>...</td>\n",
       "      <td>18.90</td>\n",
       "      <td>2.0</td>\n",
       "      <td>Санкт-Петербург</td>\n",
       "      <td>23982.0</td>\n",
       "      <td>11634.0</td>\n",
       "      <td>0.0</td>\n",
       "      <td>NaN</td>\n",
       "      <td>0.0</td>\n",
       "      <td>NaN</td>\n",
       "      <td>NaN</td>\n",
       "    </tr>\n",
       "    <tr>\n",
       "      <td>8</td>\n",
       "      <td>20</td>\n",
       "      <td>2900000.0</td>\n",
       "      <td>33.16</td>\n",
       "      <td>2018-05-23T00:00:00</td>\n",
       "      <td>1</td>\n",
       "      <td>2.771499</td>\n",
       "      <td>27.0</td>\n",
       "      <td>15.43</td>\n",
       "      <td>26</td>\n",
       "      <td>False</td>\n",
       "      <td>...</td>\n",
       "      <td>8.81</td>\n",
       "      <td>0.0</td>\n",
       "      <td>посёлок Мурино</td>\n",
       "      <td>NaN</td>\n",
       "      <td>NaN</td>\n",
       "      <td>NaN</td>\n",
       "      <td>NaN</td>\n",
       "      <td>NaN</td>\n",
       "      <td>NaN</td>\n",
       "      <td>189.0</td>\n",
       "    </tr>\n",
       "    <tr>\n",
       "      <td>9</td>\n",
       "      <td>18</td>\n",
       "      <td>5400000.0</td>\n",
       "      <td>61.00</td>\n",
       "      <td>2017-02-26T00:00:00</td>\n",
       "      <td>3</td>\n",
       "      <td>2.500000</td>\n",
       "      <td>9.0</td>\n",
       "      <td>43.60</td>\n",
       "      <td>7</td>\n",
       "      <td>False</td>\n",
       "      <td>...</td>\n",
       "      <td>6.50</td>\n",
       "      <td>2.0</td>\n",
       "      <td>Санкт-Петербург</td>\n",
       "      <td>50898.0</td>\n",
       "      <td>15008.0</td>\n",
       "      <td>0.0</td>\n",
       "      <td>NaN</td>\n",
       "      <td>0.0</td>\n",
       "      <td>NaN</td>\n",
       "      <td>289.0</td>\n",
       "    </tr>\n",
       "  </tbody>\n",
       "</table>\n",
       "<p>10 rows × 22 columns</p>\n",
       "</div>"
      ],
      "text/plain": [
       "   total_images  last_price  total_area first_day_exposition  rooms  \\\n",
       "0            20  13000000.0      108.00  2019-03-07T00:00:00      3   \n",
       "1             7   3350000.0       40.40  2018-12-04T00:00:00      1   \n",
       "2            10   5196000.0       56.00  2015-08-20T00:00:00      2   \n",
       "3             0  64900000.0      159.00  2015-07-24T00:00:00      3   \n",
       "4             2  10000000.0      100.00  2018-06-19T00:00:00      2   \n",
       "5            10   2890000.0       30.40  2018-09-10T00:00:00      1   \n",
       "6             6   3700000.0       37.30  2017-11-02T00:00:00      1   \n",
       "7             5   7915000.0       71.60  2019-04-18T00:00:00      2   \n",
       "8            20   2900000.0       33.16  2018-05-23T00:00:00      1   \n",
       "9            18   5400000.0       61.00  2017-02-26T00:00:00      3   \n",
       "\n",
       "   ceiling_height  floors_total  living_area  floor is_apartment  ...  \\\n",
       "0        2.700000          16.0        51.00      8        False  ...   \n",
       "1        2.771499          11.0        18.60      1        False  ...   \n",
       "2        2.771499           5.0        34.30      4        False  ...   \n",
       "3        2.771499          14.0          NaN      9        False  ...   \n",
       "4        3.030000          14.0        32.00     13        False  ...   \n",
       "5        2.771499          12.0        14.40      5        False  ...   \n",
       "6        2.771499          26.0        10.60      6        False  ...   \n",
       "7        2.771499          24.0          NaN     22        False  ...   \n",
       "8        2.771499          27.0        15.43     26        False  ...   \n",
       "9        2.500000           9.0        43.60      7        False  ...   \n",
       "\n",
       "   kitchen_area  balcony              locality_name  airports_nearest  \\\n",
       "0         25.00      0.0            Санкт-Петербург           18863.0   \n",
       "1         11.00      2.0             посёлок Шушары           12817.0   \n",
       "2          8.30      0.0            Санкт-Петербург           21741.0   \n",
       "3           NaN      0.0            Санкт-Петербург           28098.0   \n",
       "4         41.00      0.0            Санкт-Петербург           31856.0   \n",
       "5          9.10      0.0  городской посёлок Янино-1               NaN   \n",
       "6         14.40      1.0          посёлок Парголово           52996.0   \n",
       "7         18.90      2.0            Санкт-Петербург           23982.0   \n",
       "8          8.81      0.0             посёлок Мурино               NaN   \n",
       "9          6.50      2.0            Санкт-Петербург           50898.0   \n",
       "\n",
       "  cityCenters_nearest  parks_around3000  parks_nearest  ponds_around3000  \\\n",
       "0             16028.0               1.0          482.0               2.0   \n",
       "1             18603.0               0.0            NaN               0.0   \n",
       "2             13933.0               1.0           90.0               2.0   \n",
       "3              6800.0               2.0           84.0               3.0   \n",
       "4              8098.0               2.0          112.0               1.0   \n",
       "5                 NaN               NaN            NaN               NaN   \n",
       "6             19143.0               0.0            NaN               0.0   \n",
       "7             11634.0               0.0            NaN               0.0   \n",
       "8                 NaN               NaN            NaN               NaN   \n",
       "9             15008.0               0.0            NaN               0.0   \n",
       "\n",
       "   ponds_nearest  days_exposition  \n",
       "0          755.0              NaN  \n",
       "1            NaN             81.0  \n",
       "2          574.0            558.0  \n",
       "3          234.0            424.0  \n",
       "4           48.0            121.0  \n",
       "5            NaN             55.0  \n",
       "6            NaN            155.0  \n",
       "7            NaN              NaN  \n",
       "8            NaN            189.0  \n",
       "9            NaN            289.0  \n",
       "\n",
       "[10 rows x 22 columns]"
      ]
     },
     "metadata": {},
     "output_type": "display_data"
    }
   ],
   "source": [
    "df['balcony'] = df['balcony'].fillna(0) #если человек не указал число балконов — скорее всего, их нет. \n",
    "df['ceiling_height'] = df['ceiling_height'].fillna(df['ceiling_height'].mean()) #высота потолков не критически важный критерий, можно заполнить его средней величиной.\n",
    "df.dropna(subset=['locality_name'], inplace=True) #49 строчек с пропущенным значением насесленного пункта - это 0.2% от общего числа данных, врядли сыграют большую роль,\n",
    "#тем более невозможно заполнить этот столбец не зная точного названия города, так что удалим их. \n",
    "df['is_apartment'] = df['is_apartment'].fillna('False') #предположим, что пропуск в этом столбце означает, что недвижимость - не является апартаментами.\n",
    "display(df.head(10))"
   ]
  },
  {
   "cell_type": "code",
   "execution_count": 4,
   "metadata": {},
   "outputs": [
    {
     "data": {
      "text/plain": [
       "total_images                0\n",
       "last_price                  0\n",
       "total_area                  0\n",
       "first_day_exposition        0\n",
       "rooms                       0\n",
       "ceiling_height              0\n",
       "floors_total               85\n",
       "living_area              1898\n",
       "floor                       0\n",
       "is_apartment                0\n",
       "studio                      0\n",
       "open_plan                   0\n",
       "kitchen_area             2269\n",
       "balcony                     0\n",
       "locality_name               0\n",
       "airports_nearest         5534\n",
       "cityCenters_nearest      5511\n",
       "parks_around3000         5510\n",
       "parks_nearest           15586\n",
       "ponds_around3000         5510\n",
       "ponds_nearest           14565\n",
       "days_exposition          3180\n",
       "dtype: int64"
      ]
     },
     "execution_count": 4,
     "metadata": {},
     "output_type": "execute_result"
    }
   ],
   "source": [
    "df.isna().sum()"
   ]
  },
  {
   "cell_type": "markdown",
   "metadata": {},
   "source": [
    "**Попробуем еще заполнить некоторые пропуски.**"
   ]
  },
  {
   "cell_type": "code",
   "execution_count": 5,
   "metadata": {},
   "outputs": [],
   "source": [
    "df['parks_around3000'] = df['parks_around3000'].fillna(0)\n",
    "df['ponds_around3000'] = df['ponds_around3000'].fillna(0)"
   ]
  },
  {
   "cell_type": "markdown",
   "metadata": {},
   "source": [
    "**Судя по всему, в этих столбцах пропущенные значения - можно принять за отсутствие парков и прудов в радиусе 3000 метров, поэтому заполнили их нулем.**"
   ]
  },
  {
   "cell_type": "code",
   "execution_count": 6,
   "metadata": {},
   "outputs": [
    {
     "data": {
      "text/plain": [
       "total_images               0\n",
       "last_price                 0\n",
       "total_area                 0\n",
       "first_day_exposition       0\n",
       "rooms                      0\n",
       "ceiling_height             0\n",
       "floors_total              70\n",
       "living_area             1140\n",
       "floor                      0\n",
       "is_apartment               0\n",
       "studio                     0\n",
       "open_plan                  0\n",
       "kitchen_area            1379\n",
       "balcony                    0\n",
       "locality_name              0\n",
       "airports_nearest          85\n",
       "cityCenters_nearest       61\n",
       "parks_around3000           0\n",
       "parks_nearest           8437\n",
       "ponds_around3000           0\n",
       "ponds_nearest           7738\n",
       "days_exposition         2083\n",
       "dtype: int64"
      ]
     },
     "execution_count": 6,
     "metadata": {},
     "output_type": "execute_result"
    }
   ],
   "source": [
    "df.query('locality_name == \"Санкт-Петербург\"').isna().sum()"
   ]
  },
  {
   "cell_type": "markdown",
   "metadata": {},
   "source": [
    "**Так как подавляющее большинство пропущенных значений в floors_total находится в Санкт-Петербурге, заполним пропуски этого столбца - медианным значением по Санкт-Петербургу.**"
   ]
  },
  {
   "cell_type": "code",
   "execution_count": 7,
   "metadata": {},
   "outputs": [
    {
     "name": "stdout",
     "output_type": "stream",
     "text": [
      "9.0\n"
     ]
    }
   ],
   "source": [
    "print(df['floors_total'].median())"
   ]
  },
  {
   "cell_type": "code",
   "execution_count": 8,
   "metadata": {},
   "outputs": [
    {
     "data": {
      "text/plain": [
       "0"
      ]
     },
     "execution_count": 8,
     "metadata": {},
     "output_type": "execute_result"
    }
   ],
   "source": [
    "df['floors_total'] = df['floors_total'].fillna(9)\n",
    "df['floors_total'].isna().sum()"
   ]
  },
  {
   "cell_type": "markdown",
   "metadata": {},
   "source": [
    "**В столбцах living_area и kitchen_area, присутствует зависимость от общей площади total_area - в которой нету пропусков. Попробуем посчитать средний коэффициент, который всегда составляют жилая и площадь кухни от общей, и использовать его.**"
   ]
  },
  {
   "cell_type": "code",
   "execution_count": 9,
   "metadata": {},
   "outputs": [
    {
     "name": "stdout",
     "output_type": "stream",
     "text": [
      "0.5647499988246565\n"
     ]
    }
   ],
   "source": [
    "coeff_living_area = df['living_area'] / df['total_area']\n",
    "print(coeff_living_area.mean())"
   ]
  },
  {
   "cell_type": "code",
   "execution_count": 10,
   "metadata": {},
   "outputs": [
    {
     "name": "stdout",
     "output_type": "stream",
     "text": [
      "0.18737152810064503\n"
     ]
    }
   ],
   "source": [
    "coeff_kitchen_area = df['kitchen_area'] / df['total_area']\n",
    "print(coeff_kitchen_area.mean())"
   ]
  },
  {
   "cell_type": "code",
   "execution_count": 11,
   "metadata": {},
   "outputs": [],
   "source": [
    "df['living_area'] = df['living_area'].fillna(df['total_area'] * 0.56)\n",
    "df['kitchen_area'] = df['kitchen_area'].fillna(df['total_area'] * 0.18)"
   ]
  },
  {
   "cell_type": "code",
   "execution_count": 12,
   "metadata": {},
   "outputs": [
    {
     "data": {
      "text/plain": [
       "total_images                0\n",
       "last_price                  0\n",
       "total_area                  0\n",
       "first_day_exposition        0\n",
       "rooms                       0\n",
       "ceiling_height              0\n",
       "floors_total                0\n",
       "living_area                 0\n",
       "floor                       0\n",
       "is_apartment                0\n",
       "studio                      0\n",
       "open_plan                   0\n",
       "kitchen_area                0\n",
       "balcony                     0\n",
       "locality_name               0\n",
       "airports_nearest         5534\n",
       "cityCenters_nearest      5511\n",
       "parks_around3000            0\n",
       "parks_nearest           15586\n",
       "ponds_around3000            0\n",
       "ponds_nearest           14565\n",
       "days_exposition          3180\n",
       "dtype: int64"
      ]
     },
     "execution_count": 12,
     "metadata": {},
     "output_type": "execute_result"
    }
   ],
   "source": [
    "df.isna().sum()"
   ]
  },
  {
   "cell_type": "markdown",
   "metadata": {},
   "source": [
    "# Заполнили пропущенные значения в тех столбцах, в которых это показалось возможным, используя средние доли и медианные значения из известных столбцов."
   ]
  },
  {
   "cell_type": "markdown",
   "metadata": {},
   "source": [
    "### Посмотрим где стоит заменить тип данных"
   ]
  },
  {
   "cell_type": "code",
   "execution_count": 13,
   "metadata": {},
   "outputs": [
    {
     "name": "stdout",
     "output_type": "stream",
     "text": [
      "<class 'pandas.core.frame.DataFrame'>\n",
      "Int64Index: 23650 entries, 0 to 23698\n",
      "Data columns (total 22 columns):\n",
      "total_images            23650 non-null int64\n",
      "last_price              23650 non-null float64\n",
      "total_area              23650 non-null float64\n",
      "first_day_exposition    23650 non-null object\n",
      "rooms                   23650 non-null int64\n",
      "ceiling_height          23650 non-null float64\n",
      "floors_total            23650 non-null float64\n",
      "living_area             23650 non-null float64\n",
      "floor                   23650 non-null int64\n",
      "is_apartment            23650 non-null object\n",
      "studio                  23650 non-null bool\n",
      "open_plan               23650 non-null bool\n",
      "kitchen_area            23650 non-null float64\n",
      "balcony                 23650 non-null float64\n",
      "locality_name           23650 non-null object\n",
      "airports_nearest        18116 non-null float64\n",
      "cityCenters_nearest     18139 non-null float64\n",
      "parks_around3000        23650 non-null float64\n",
      "parks_nearest           8064 non-null float64\n",
      "ponds_around3000        23650 non-null float64\n",
      "ponds_nearest           9085 non-null float64\n",
      "days_exposition         20470 non-null float64\n",
      "dtypes: bool(2), float64(14), int64(3), object(3)\n",
      "memory usage: 3.8+ MB\n"
     ]
    }
   ],
   "source": [
    "df.info()"
   ]
  },
  {
   "cell_type": "code",
   "execution_count": 14,
   "metadata": {},
   "outputs": [
    {
     "name": "stdout",
     "output_type": "stream",
     "text": [
      "<class 'pandas.core.frame.DataFrame'>\n",
      "Int64Index: 23650 entries, 0 to 23698\n",
      "Data columns (total 22 columns):\n",
      "total_images            23650 non-null int64\n",
      "last_price              23650 non-null float64\n",
      "total_area              23650 non-null float64\n",
      "first_day_exposition    23650 non-null datetime64[ns]\n",
      "rooms                   23650 non-null int64\n",
      "ceiling_height          23650 non-null float64\n",
      "floors_total            23650 non-null float64\n",
      "living_area             23650 non-null float64\n",
      "floor                   23650 non-null int64\n",
      "is_apartment            23650 non-null bool\n",
      "studio                  23650 non-null bool\n",
      "open_plan               23650 non-null bool\n",
      "kitchen_area            23650 non-null float64\n",
      "balcony                 23650 non-null float64\n",
      "locality_name           23650 non-null object\n",
      "airports_nearest        18116 non-null float64\n",
      "cityCenters_nearest     18139 non-null float64\n",
      "parks_around3000        23650 non-null float64\n",
      "parks_nearest           8064 non-null float64\n",
      "ponds_around3000        23650 non-null float64\n",
      "ponds_nearest           9085 non-null float64\n",
      "days_exposition         20470 non-null float64\n",
      "dtypes: bool(3), datetime64[ns](1), float64(14), int64(3), object(1)\n",
      "memory usage: 3.7+ MB\n"
     ]
    }
   ],
   "source": [
    "df['first_day_exposition'] = pd.to_datetime(df['first_day_exposition'], format='%Y-%m-%dT%H:%M:%S') # так как это дата, то приведем тип данных к datetime. \n",
    "df['is_apartment'] = df['is_apartment'].astype('bool') #этот столбец должен быть булевым значением, так как отвечает на вопрос являются ли объект - апартаментами.\n",
    "df.info()"
   ]
  },
  {
   "cell_type": "markdown",
   "metadata": {},
   "source": [
    "## Расчёты и добавление результатов в таблицу"
   ]
  },
  {
   "cell_type": "markdown",
   "metadata": {},
   "source": [
    "### Добавим в таблицу столбец с ценой квадратного метра."
   ]
  },
  {
   "cell_type": "code",
   "execution_count": 15,
   "metadata": {},
   "outputs": [
    {
     "data": {
      "text/html": [
       "<div>\n",
       "<style scoped>\n",
       "    .dataframe tbody tr th:only-of-type {\n",
       "        vertical-align: middle;\n",
       "    }\n",
       "\n",
       "    .dataframe tbody tr th {\n",
       "        vertical-align: top;\n",
       "    }\n",
       "\n",
       "    .dataframe thead th {\n",
       "        text-align: right;\n",
       "    }\n",
       "</style>\n",
       "<table border=\"1\" class=\"dataframe\">\n",
       "  <thead>\n",
       "    <tr style=\"text-align: right;\">\n",
       "      <th></th>\n",
       "      <th>total_images</th>\n",
       "      <th>last_price</th>\n",
       "      <th>total_area</th>\n",
       "      <th>first_day_exposition</th>\n",
       "      <th>rooms</th>\n",
       "      <th>ceiling_height</th>\n",
       "      <th>floors_total</th>\n",
       "      <th>living_area</th>\n",
       "      <th>floor</th>\n",
       "      <th>is_apartment</th>\n",
       "      <th>...</th>\n",
       "      <th>balcony</th>\n",
       "      <th>locality_name</th>\n",
       "      <th>airports_nearest</th>\n",
       "      <th>cityCenters_nearest</th>\n",
       "      <th>parks_around3000</th>\n",
       "      <th>parks_nearest</th>\n",
       "      <th>ponds_around3000</th>\n",
       "      <th>ponds_nearest</th>\n",
       "      <th>days_exposition</th>\n",
       "      <th>price_per_meter</th>\n",
       "    </tr>\n",
       "  </thead>\n",
       "  <tbody>\n",
       "    <tr>\n",
       "      <td>0</td>\n",
       "      <td>20</td>\n",
       "      <td>13000000.0</td>\n",
       "      <td>108.00</td>\n",
       "      <td>2019-03-07</td>\n",
       "      <td>3</td>\n",
       "      <td>2.700000</td>\n",
       "      <td>16.0</td>\n",
       "      <td>51.000</td>\n",
       "      <td>8</td>\n",
       "      <td>True</td>\n",
       "      <td>...</td>\n",
       "      <td>0.0</td>\n",
       "      <td>Санкт-Петербург</td>\n",
       "      <td>18863.0</td>\n",
       "      <td>16028.0</td>\n",
       "      <td>1.0</td>\n",
       "      <td>482.0</td>\n",
       "      <td>2.0</td>\n",
       "      <td>755.0</td>\n",
       "      <td>NaN</td>\n",
       "      <td>120370.370370</td>\n",
       "    </tr>\n",
       "    <tr>\n",
       "      <td>1</td>\n",
       "      <td>7</td>\n",
       "      <td>3350000.0</td>\n",
       "      <td>40.40</td>\n",
       "      <td>2018-12-04</td>\n",
       "      <td>1</td>\n",
       "      <td>2.771499</td>\n",
       "      <td>11.0</td>\n",
       "      <td>18.600</td>\n",
       "      <td>1</td>\n",
       "      <td>True</td>\n",
       "      <td>...</td>\n",
       "      <td>2.0</td>\n",
       "      <td>посёлок Шушары</td>\n",
       "      <td>12817.0</td>\n",
       "      <td>18603.0</td>\n",
       "      <td>0.0</td>\n",
       "      <td>NaN</td>\n",
       "      <td>0.0</td>\n",
       "      <td>NaN</td>\n",
       "      <td>81.0</td>\n",
       "      <td>82920.792079</td>\n",
       "    </tr>\n",
       "    <tr>\n",
       "      <td>2</td>\n",
       "      <td>10</td>\n",
       "      <td>5196000.0</td>\n",
       "      <td>56.00</td>\n",
       "      <td>2015-08-20</td>\n",
       "      <td>2</td>\n",
       "      <td>2.771499</td>\n",
       "      <td>5.0</td>\n",
       "      <td>34.300</td>\n",
       "      <td>4</td>\n",
       "      <td>True</td>\n",
       "      <td>...</td>\n",
       "      <td>0.0</td>\n",
       "      <td>Санкт-Петербург</td>\n",
       "      <td>21741.0</td>\n",
       "      <td>13933.0</td>\n",
       "      <td>1.0</td>\n",
       "      <td>90.0</td>\n",
       "      <td>2.0</td>\n",
       "      <td>574.0</td>\n",
       "      <td>558.0</td>\n",
       "      <td>92785.714286</td>\n",
       "    </tr>\n",
       "    <tr>\n",
       "      <td>3</td>\n",
       "      <td>0</td>\n",
       "      <td>64900000.0</td>\n",
       "      <td>159.00</td>\n",
       "      <td>2015-07-24</td>\n",
       "      <td>3</td>\n",
       "      <td>2.771499</td>\n",
       "      <td>14.0</td>\n",
       "      <td>89.040</td>\n",
       "      <td>9</td>\n",
       "      <td>True</td>\n",
       "      <td>...</td>\n",
       "      <td>0.0</td>\n",
       "      <td>Санкт-Петербург</td>\n",
       "      <td>28098.0</td>\n",
       "      <td>6800.0</td>\n",
       "      <td>2.0</td>\n",
       "      <td>84.0</td>\n",
       "      <td>3.0</td>\n",
       "      <td>234.0</td>\n",
       "      <td>424.0</td>\n",
       "      <td>408176.100629</td>\n",
       "    </tr>\n",
       "    <tr>\n",
       "      <td>4</td>\n",
       "      <td>2</td>\n",
       "      <td>10000000.0</td>\n",
       "      <td>100.00</td>\n",
       "      <td>2018-06-19</td>\n",
       "      <td>2</td>\n",
       "      <td>3.030000</td>\n",
       "      <td>14.0</td>\n",
       "      <td>32.000</td>\n",
       "      <td>13</td>\n",
       "      <td>True</td>\n",
       "      <td>...</td>\n",
       "      <td>0.0</td>\n",
       "      <td>Санкт-Петербург</td>\n",
       "      <td>31856.0</td>\n",
       "      <td>8098.0</td>\n",
       "      <td>2.0</td>\n",
       "      <td>112.0</td>\n",
       "      <td>1.0</td>\n",
       "      <td>48.0</td>\n",
       "      <td>121.0</td>\n",
       "      <td>100000.000000</td>\n",
       "    </tr>\n",
       "    <tr>\n",
       "      <td>5</td>\n",
       "      <td>10</td>\n",
       "      <td>2890000.0</td>\n",
       "      <td>30.40</td>\n",
       "      <td>2018-09-10</td>\n",
       "      <td>1</td>\n",
       "      <td>2.771499</td>\n",
       "      <td>12.0</td>\n",
       "      <td>14.400</td>\n",
       "      <td>5</td>\n",
       "      <td>True</td>\n",
       "      <td>...</td>\n",
       "      <td>0.0</td>\n",
       "      <td>городской посёлок Янино-1</td>\n",
       "      <td>NaN</td>\n",
       "      <td>NaN</td>\n",
       "      <td>0.0</td>\n",
       "      <td>NaN</td>\n",
       "      <td>0.0</td>\n",
       "      <td>NaN</td>\n",
       "      <td>55.0</td>\n",
       "      <td>95065.789474</td>\n",
       "    </tr>\n",
       "    <tr>\n",
       "      <td>6</td>\n",
       "      <td>6</td>\n",
       "      <td>3700000.0</td>\n",
       "      <td>37.30</td>\n",
       "      <td>2017-11-02</td>\n",
       "      <td>1</td>\n",
       "      <td>2.771499</td>\n",
       "      <td>26.0</td>\n",
       "      <td>10.600</td>\n",
       "      <td>6</td>\n",
       "      <td>True</td>\n",
       "      <td>...</td>\n",
       "      <td>1.0</td>\n",
       "      <td>посёлок Парголово</td>\n",
       "      <td>52996.0</td>\n",
       "      <td>19143.0</td>\n",
       "      <td>0.0</td>\n",
       "      <td>NaN</td>\n",
       "      <td>0.0</td>\n",
       "      <td>NaN</td>\n",
       "      <td>155.0</td>\n",
       "      <td>99195.710456</td>\n",
       "    </tr>\n",
       "    <tr>\n",
       "      <td>7</td>\n",
       "      <td>5</td>\n",
       "      <td>7915000.0</td>\n",
       "      <td>71.60</td>\n",
       "      <td>2019-04-18</td>\n",
       "      <td>2</td>\n",
       "      <td>2.771499</td>\n",
       "      <td>24.0</td>\n",
       "      <td>40.096</td>\n",
       "      <td>22</td>\n",
       "      <td>True</td>\n",
       "      <td>...</td>\n",
       "      <td>2.0</td>\n",
       "      <td>Санкт-Петербург</td>\n",
       "      <td>23982.0</td>\n",
       "      <td>11634.0</td>\n",
       "      <td>0.0</td>\n",
       "      <td>NaN</td>\n",
       "      <td>0.0</td>\n",
       "      <td>NaN</td>\n",
       "      <td>NaN</td>\n",
       "      <td>110544.692737</td>\n",
       "    </tr>\n",
       "    <tr>\n",
       "      <td>8</td>\n",
       "      <td>20</td>\n",
       "      <td>2900000.0</td>\n",
       "      <td>33.16</td>\n",
       "      <td>2018-05-23</td>\n",
       "      <td>1</td>\n",
       "      <td>2.771499</td>\n",
       "      <td>27.0</td>\n",
       "      <td>15.430</td>\n",
       "      <td>26</td>\n",
       "      <td>True</td>\n",
       "      <td>...</td>\n",
       "      <td>0.0</td>\n",
       "      <td>посёлок Мурино</td>\n",
       "      <td>NaN</td>\n",
       "      <td>NaN</td>\n",
       "      <td>0.0</td>\n",
       "      <td>NaN</td>\n",
       "      <td>0.0</td>\n",
       "      <td>NaN</td>\n",
       "      <td>189.0</td>\n",
       "      <td>87454.764777</td>\n",
       "    </tr>\n",
       "    <tr>\n",
       "      <td>9</td>\n",
       "      <td>18</td>\n",
       "      <td>5400000.0</td>\n",
       "      <td>61.00</td>\n",
       "      <td>2017-02-26</td>\n",
       "      <td>3</td>\n",
       "      <td>2.500000</td>\n",
       "      <td>9.0</td>\n",
       "      <td>43.600</td>\n",
       "      <td>7</td>\n",
       "      <td>True</td>\n",
       "      <td>...</td>\n",
       "      <td>2.0</td>\n",
       "      <td>Санкт-Петербург</td>\n",
       "      <td>50898.0</td>\n",
       "      <td>15008.0</td>\n",
       "      <td>0.0</td>\n",
       "      <td>NaN</td>\n",
       "      <td>0.0</td>\n",
       "      <td>NaN</td>\n",
       "      <td>289.0</td>\n",
       "      <td>88524.590164</td>\n",
       "    </tr>\n",
       "  </tbody>\n",
       "</table>\n",
       "<p>10 rows × 23 columns</p>\n",
       "</div>"
      ],
      "text/plain": [
       "   total_images  last_price  total_area first_day_exposition  rooms  \\\n",
       "0            20  13000000.0      108.00           2019-03-07      3   \n",
       "1             7   3350000.0       40.40           2018-12-04      1   \n",
       "2            10   5196000.0       56.00           2015-08-20      2   \n",
       "3             0  64900000.0      159.00           2015-07-24      3   \n",
       "4             2  10000000.0      100.00           2018-06-19      2   \n",
       "5            10   2890000.0       30.40           2018-09-10      1   \n",
       "6             6   3700000.0       37.30           2017-11-02      1   \n",
       "7             5   7915000.0       71.60           2019-04-18      2   \n",
       "8            20   2900000.0       33.16           2018-05-23      1   \n",
       "9            18   5400000.0       61.00           2017-02-26      3   \n",
       "\n",
       "   ceiling_height  floors_total  living_area  floor  is_apartment  ...  \\\n",
       "0        2.700000          16.0       51.000      8          True  ...   \n",
       "1        2.771499          11.0       18.600      1          True  ...   \n",
       "2        2.771499           5.0       34.300      4          True  ...   \n",
       "3        2.771499          14.0       89.040      9          True  ...   \n",
       "4        3.030000          14.0       32.000     13          True  ...   \n",
       "5        2.771499          12.0       14.400      5          True  ...   \n",
       "6        2.771499          26.0       10.600      6          True  ...   \n",
       "7        2.771499          24.0       40.096     22          True  ...   \n",
       "8        2.771499          27.0       15.430     26          True  ...   \n",
       "9        2.500000           9.0       43.600      7          True  ...   \n",
       "\n",
       "   balcony              locality_name  airports_nearest  cityCenters_nearest  \\\n",
       "0      0.0            Санкт-Петербург           18863.0              16028.0   \n",
       "1      2.0             посёлок Шушары           12817.0              18603.0   \n",
       "2      0.0            Санкт-Петербург           21741.0              13933.0   \n",
       "3      0.0            Санкт-Петербург           28098.0               6800.0   \n",
       "4      0.0            Санкт-Петербург           31856.0               8098.0   \n",
       "5      0.0  городской посёлок Янино-1               NaN                  NaN   \n",
       "6      1.0          посёлок Парголово           52996.0              19143.0   \n",
       "7      2.0            Санкт-Петербург           23982.0              11634.0   \n",
       "8      0.0             посёлок Мурино               NaN                  NaN   \n",
       "9      2.0            Санкт-Петербург           50898.0              15008.0   \n",
       "\n",
       "  parks_around3000  parks_nearest  ponds_around3000  ponds_nearest  \\\n",
       "0              1.0          482.0               2.0          755.0   \n",
       "1              0.0            NaN               0.0            NaN   \n",
       "2              1.0           90.0               2.0          574.0   \n",
       "3              2.0           84.0               3.0          234.0   \n",
       "4              2.0          112.0               1.0           48.0   \n",
       "5              0.0            NaN               0.0            NaN   \n",
       "6              0.0            NaN               0.0            NaN   \n",
       "7              0.0            NaN               0.0            NaN   \n",
       "8              0.0            NaN               0.0            NaN   \n",
       "9              0.0            NaN               0.0            NaN   \n",
       "\n",
       "   days_exposition  price_per_meter  \n",
       "0              NaN    120370.370370  \n",
       "1             81.0     82920.792079  \n",
       "2            558.0     92785.714286  \n",
       "3            424.0    408176.100629  \n",
       "4            121.0    100000.000000  \n",
       "5             55.0     95065.789474  \n",
       "6            155.0     99195.710456  \n",
       "7              NaN    110544.692737  \n",
       "8            189.0     87454.764777  \n",
       "9            289.0     88524.590164  \n",
       "\n",
       "[10 rows x 23 columns]"
      ]
     },
     "metadata": {},
     "output_type": "display_data"
    }
   ],
   "source": [
    "df['price_per_meter'] = df['last_price'] / df['total_area']\n",
    "display(df.head(10))"
   ]
  },
  {
   "cell_type": "markdown",
   "metadata": {},
   "source": [
    "### Добавим столбцы - соотношение жилой и общей площади, а также отношение площади кухни к общей."
   ]
  },
  {
   "cell_type": "code",
   "execution_count": 16,
   "metadata": {},
   "outputs": [
    {
     "data": {
      "text/html": [
       "<div>\n",
       "<style scoped>\n",
       "    .dataframe tbody tr th:only-of-type {\n",
       "        vertical-align: middle;\n",
       "    }\n",
       "\n",
       "    .dataframe tbody tr th {\n",
       "        vertical-align: top;\n",
       "    }\n",
       "\n",
       "    .dataframe thead th {\n",
       "        text-align: right;\n",
       "    }\n",
       "</style>\n",
       "<table border=\"1\" class=\"dataframe\">\n",
       "  <thead>\n",
       "    <tr style=\"text-align: right;\">\n",
       "      <th></th>\n",
       "      <th>total_images</th>\n",
       "      <th>last_price</th>\n",
       "      <th>total_area</th>\n",
       "      <th>first_day_exposition</th>\n",
       "      <th>rooms</th>\n",
       "      <th>ceiling_height</th>\n",
       "      <th>floors_total</th>\n",
       "      <th>living_area</th>\n",
       "      <th>floor</th>\n",
       "      <th>is_apartment</th>\n",
       "      <th>...</th>\n",
       "      <th>airports_nearest</th>\n",
       "      <th>cityCenters_nearest</th>\n",
       "      <th>parks_around3000</th>\n",
       "      <th>parks_nearest</th>\n",
       "      <th>ponds_around3000</th>\n",
       "      <th>ponds_nearest</th>\n",
       "      <th>days_exposition</th>\n",
       "      <th>price_per_meter</th>\n",
       "      <th>living_share</th>\n",
       "      <th>kitchen_share</th>\n",
       "    </tr>\n",
       "  </thead>\n",
       "  <tbody>\n",
       "    <tr>\n",
       "      <td>0</td>\n",
       "      <td>20</td>\n",
       "      <td>13000000.0</td>\n",
       "      <td>108.0</td>\n",
       "      <td>2019-03-07</td>\n",
       "      <td>3</td>\n",
       "      <td>2.700000</td>\n",
       "      <td>16.0</td>\n",
       "      <td>51.00</td>\n",
       "      <td>8</td>\n",
       "      <td>True</td>\n",
       "      <td>...</td>\n",
       "      <td>18863.0</td>\n",
       "      <td>16028.0</td>\n",
       "      <td>1.0</td>\n",
       "      <td>482.0</td>\n",
       "      <td>2.0</td>\n",
       "      <td>755.0</td>\n",
       "      <td>NaN</td>\n",
       "      <td>120370.370370</td>\n",
       "      <td>0.472222</td>\n",
       "      <td>0.231481</td>\n",
       "    </tr>\n",
       "    <tr>\n",
       "      <td>1</td>\n",
       "      <td>7</td>\n",
       "      <td>3350000.0</td>\n",
       "      <td>40.4</td>\n",
       "      <td>2018-12-04</td>\n",
       "      <td>1</td>\n",
       "      <td>2.771499</td>\n",
       "      <td>11.0</td>\n",
       "      <td>18.60</td>\n",
       "      <td>1</td>\n",
       "      <td>True</td>\n",
       "      <td>...</td>\n",
       "      <td>12817.0</td>\n",
       "      <td>18603.0</td>\n",
       "      <td>0.0</td>\n",
       "      <td>NaN</td>\n",
       "      <td>0.0</td>\n",
       "      <td>NaN</td>\n",
       "      <td>81.0</td>\n",
       "      <td>82920.792079</td>\n",
       "      <td>0.460396</td>\n",
       "      <td>0.272277</td>\n",
       "    </tr>\n",
       "    <tr>\n",
       "      <td>2</td>\n",
       "      <td>10</td>\n",
       "      <td>5196000.0</td>\n",
       "      <td>56.0</td>\n",
       "      <td>2015-08-20</td>\n",
       "      <td>2</td>\n",
       "      <td>2.771499</td>\n",
       "      <td>5.0</td>\n",
       "      <td>34.30</td>\n",
       "      <td>4</td>\n",
       "      <td>True</td>\n",
       "      <td>...</td>\n",
       "      <td>21741.0</td>\n",
       "      <td>13933.0</td>\n",
       "      <td>1.0</td>\n",
       "      <td>90.0</td>\n",
       "      <td>2.0</td>\n",
       "      <td>574.0</td>\n",
       "      <td>558.0</td>\n",
       "      <td>92785.714286</td>\n",
       "      <td>0.612500</td>\n",
       "      <td>0.148214</td>\n",
       "    </tr>\n",
       "    <tr>\n",
       "      <td>3</td>\n",
       "      <td>0</td>\n",
       "      <td>64900000.0</td>\n",
       "      <td>159.0</td>\n",
       "      <td>2015-07-24</td>\n",
       "      <td>3</td>\n",
       "      <td>2.771499</td>\n",
       "      <td>14.0</td>\n",
       "      <td>89.04</td>\n",
       "      <td>9</td>\n",
       "      <td>True</td>\n",
       "      <td>...</td>\n",
       "      <td>28098.0</td>\n",
       "      <td>6800.0</td>\n",
       "      <td>2.0</td>\n",
       "      <td>84.0</td>\n",
       "      <td>3.0</td>\n",
       "      <td>234.0</td>\n",
       "      <td>424.0</td>\n",
       "      <td>408176.100629</td>\n",
       "      <td>0.560000</td>\n",
       "      <td>0.180000</td>\n",
       "    </tr>\n",
       "    <tr>\n",
       "      <td>4</td>\n",
       "      <td>2</td>\n",
       "      <td>10000000.0</td>\n",
       "      <td>100.0</td>\n",
       "      <td>2018-06-19</td>\n",
       "      <td>2</td>\n",
       "      <td>3.030000</td>\n",
       "      <td>14.0</td>\n",
       "      <td>32.00</td>\n",
       "      <td>13</td>\n",
       "      <td>True</td>\n",
       "      <td>...</td>\n",
       "      <td>31856.0</td>\n",
       "      <td>8098.0</td>\n",
       "      <td>2.0</td>\n",
       "      <td>112.0</td>\n",
       "      <td>1.0</td>\n",
       "      <td>48.0</td>\n",
       "      <td>121.0</td>\n",
       "      <td>100000.000000</td>\n",
       "      <td>0.320000</td>\n",
       "      <td>0.410000</td>\n",
       "    </tr>\n",
       "  </tbody>\n",
       "</table>\n",
       "<p>5 rows × 25 columns</p>\n",
       "</div>"
      ],
      "text/plain": [
       "   total_images  last_price  total_area first_day_exposition  rooms  \\\n",
       "0            20  13000000.0       108.0           2019-03-07      3   \n",
       "1             7   3350000.0        40.4           2018-12-04      1   \n",
       "2            10   5196000.0        56.0           2015-08-20      2   \n",
       "3             0  64900000.0       159.0           2015-07-24      3   \n",
       "4             2  10000000.0       100.0           2018-06-19      2   \n",
       "\n",
       "   ceiling_height  floors_total  living_area  floor  is_apartment  ...  \\\n",
       "0        2.700000          16.0        51.00      8          True  ...   \n",
       "1        2.771499          11.0        18.60      1          True  ...   \n",
       "2        2.771499           5.0        34.30      4          True  ...   \n",
       "3        2.771499          14.0        89.04      9          True  ...   \n",
       "4        3.030000          14.0        32.00     13          True  ...   \n",
       "\n",
       "   airports_nearest  cityCenters_nearest  parks_around3000  parks_nearest  \\\n",
       "0           18863.0              16028.0               1.0          482.0   \n",
       "1           12817.0              18603.0               0.0            NaN   \n",
       "2           21741.0              13933.0               1.0           90.0   \n",
       "3           28098.0               6800.0               2.0           84.0   \n",
       "4           31856.0               8098.0               2.0          112.0   \n",
       "\n",
       "  ponds_around3000  ponds_nearest  days_exposition  price_per_meter  \\\n",
       "0              2.0          755.0              NaN    120370.370370   \n",
       "1              0.0            NaN             81.0     82920.792079   \n",
       "2              2.0          574.0            558.0     92785.714286   \n",
       "3              3.0          234.0            424.0    408176.100629   \n",
       "4              1.0           48.0            121.0    100000.000000   \n",
       "\n",
       "   living_share  kitchen_share  \n",
       "0      0.472222       0.231481  \n",
       "1      0.460396       0.272277  \n",
       "2      0.612500       0.148214  \n",
       "3      0.560000       0.180000  \n",
       "4      0.320000       0.410000  \n",
       "\n",
       "[5 rows x 25 columns]"
      ]
     },
     "metadata": {},
     "output_type": "display_data"
    }
   ],
   "source": [
    "df['living_share'] = df['living_area'] / df['total_area']\n",
    "df['kitchen_share'] = df['kitchen_area'] / df['total_area']\n",
    "display(df.head())"
   ]
  },
  {
   "cell_type": "markdown",
   "metadata": {},
   "source": [
    "### Добавим день недели публикации объявления."
   ]
  },
  {
   "cell_type": "code",
   "execution_count": 17,
   "metadata": {},
   "outputs": [
    {
     "data": {
      "text/html": [
       "<div>\n",
       "<style scoped>\n",
       "    .dataframe tbody tr th:only-of-type {\n",
       "        vertical-align: middle;\n",
       "    }\n",
       "\n",
       "    .dataframe tbody tr th {\n",
       "        vertical-align: top;\n",
       "    }\n",
       "\n",
       "    .dataframe thead th {\n",
       "        text-align: right;\n",
       "    }\n",
       "</style>\n",
       "<table border=\"1\" class=\"dataframe\">\n",
       "  <thead>\n",
       "    <tr style=\"text-align: right;\">\n",
       "      <th></th>\n",
       "      <th>total_images</th>\n",
       "      <th>last_price</th>\n",
       "      <th>total_area</th>\n",
       "      <th>first_day_exposition</th>\n",
       "      <th>rooms</th>\n",
       "      <th>ceiling_height</th>\n",
       "      <th>floors_total</th>\n",
       "      <th>living_area</th>\n",
       "      <th>floor</th>\n",
       "      <th>is_apartment</th>\n",
       "      <th>...</th>\n",
       "      <th>cityCenters_nearest</th>\n",
       "      <th>parks_around3000</th>\n",
       "      <th>parks_nearest</th>\n",
       "      <th>ponds_around3000</th>\n",
       "      <th>ponds_nearest</th>\n",
       "      <th>days_exposition</th>\n",
       "      <th>price_per_meter</th>\n",
       "      <th>living_share</th>\n",
       "      <th>kitchen_share</th>\n",
       "      <th>weekday</th>\n",
       "    </tr>\n",
       "  </thead>\n",
       "  <tbody>\n",
       "    <tr>\n",
       "      <td>0</td>\n",
       "      <td>20</td>\n",
       "      <td>13000000.0</td>\n",
       "      <td>108.0</td>\n",
       "      <td>2019-03-07</td>\n",
       "      <td>3</td>\n",
       "      <td>2.700000</td>\n",
       "      <td>16.0</td>\n",
       "      <td>51.00</td>\n",
       "      <td>8</td>\n",
       "      <td>True</td>\n",
       "      <td>...</td>\n",
       "      <td>16028.0</td>\n",
       "      <td>1.0</td>\n",
       "      <td>482.0</td>\n",
       "      <td>2.0</td>\n",
       "      <td>755.0</td>\n",
       "      <td>NaN</td>\n",
       "      <td>120370.370370</td>\n",
       "      <td>0.472222</td>\n",
       "      <td>0.231481</td>\n",
       "      <td>3</td>\n",
       "    </tr>\n",
       "    <tr>\n",
       "      <td>1</td>\n",
       "      <td>7</td>\n",
       "      <td>3350000.0</td>\n",
       "      <td>40.4</td>\n",
       "      <td>2018-12-04</td>\n",
       "      <td>1</td>\n",
       "      <td>2.771499</td>\n",
       "      <td>11.0</td>\n",
       "      <td>18.60</td>\n",
       "      <td>1</td>\n",
       "      <td>True</td>\n",
       "      <td>...</td>\n",
       "      <td>18603.0</td>\n",
       "      <td>0.0</td>\n",
       "      <td>NaN</td>\n",
       "      <td>0.0</td>\n",
       "      <td>NaN</td>\n",
       "      <td>81.0</td>\n",
       "      <td>82920.792079</td>\n",
       "      <td>0.460396</td>\n",
       "      <td>0.272277</td>\n",
       "      <td>1</td>\n",
       "    </tr>\n",
       "    <tr>\n",
       "      <td>2</td>\n",
       "      <td>10</td>\n",
       "      <td>5196000.0</td>\n",
       "      <td>56.0</td>\n",
       "      <td>2015-08-20</td>\n",
       "      <td>2</td>\n",
       "      <td>2.771499</td>\n",
       "      <td>5.0</td>\n",
       "      <td>34.30</td>\n",
       "      <td>4</td>\n",
       "      <td>True</td>\n",
       "      <td>...</td>\n",
       "      <td>13933.0</td>\n",
       "      <td>1.0</td>\n",
       "      <td>90.0</td>\n",
       "      <td>2.0</td>\n",
       "      <td>574.0</td>\n",
       "      <td>558.0</td>\n",
       "      <td>92785.714286</td>\n",
       "      <td>0.612500</td>\n",
       "      <td>0.148214</td>\n",
       "      <td>3</td>\n",
       "    </tr>\n",
       "    <tr>\n",
       "      <td>3</td>\n",
       "      <td>0</td>\n",
       "      <td>64900000.0</td>\n",
       "      <td>159.0</td>\n",
       "      <td>2015-07-24</td>\n",
       "      <td>3</td>\n",
       "      <td>2.771499</td>\n",
       "      <td>14.0</td>\n",
       "      <td>89.04</td>\n",
       "      <td>9</td>\n",
       "      <td>True</td>\n",
       "      <td>...</td>\n",
       "      <td>6800.0</td>\n",
       "      <td>2.0</td>\n",
       "      <td>84.0</td>\n",
       "      <td>3.0</td>\n",
       "      <td>234.0</td>\n",
       "      <td>424.0</td>\n",
       "      <td>408176.100629</td>\n",
       "      <td>0.560000</td>\n",
       "      <td>0.180000</td>\n",
       "      <td>4</td>\n",
       "    </tr>\n",
       "    <tr>\n",
       "      <td>4</td>\n",
       "      <td>2</td>\n",
       "      <td>10000000.0</td>\n",
       "      <td>100.0</td>\n",
       "      <td>2018-06-19</td>\n",
       "      <td>2</td>\n",
       "      <td>3.030000</td>\n",
       "      <td>14.0</td>\n",
       "      <td>32.00</td>\n",
       "      <td>13</td>\n",
       "      <td>True</td>\n",
       "      <td>...</td>\n",
       "      <td>8098.0</td>\n",
       "      <td>2.0</td>\n",
       "      <td>112.0</td>\n",
       "      <td>1.0</td>\n",
       "      <td>48.0</td>\n",
       "      <td>121.0</td>\n",
       "      <td>100000.000000</td>\n",
       "      <td>0.320000</td>\n",
       "      <td>0.410000</td>\n",
       "      <td>1</td>\n",
       "    </tr>\n",
       "  </tbody>\n",
       "</table>\n",
       "<p>5 rows × 26 columns</p>\n",
       "</div>"
      ],
      "text/plain": [
       "   total_images  last_price  total_area first_day_exposition  rooms  \\\n",
       "0            20  13000000.0       108.0           2019-03-07      3   \n",
       "1             7   3350000.0        40.4           2018-12-04      1   \n",
       "2            10   5196000.0        56.0           2015-08-20      2   \n",
       "3             0  64900000.0       159.0           2015-07-24      3   \n",
       "4             2  10000000.0       100.0           2018-06-19      2   \n",
       "\n",
       "   ceiling_height  floors_total  living_area  floor  is_apartment  ...  \\\n",
       "0        2.700000          16.0        51.00      8          True  ...   \n",
       "1        2.771499          11.0        18.60      1          True  ...   \n",
       "2        2.771499           5.0        34.30      4          True  ...   \n",
       "3        2.771499          14.0        89.04      9          True  ...   \n",
       "4        3.030000          14.0        32.00     13          True  ...   \n",
       "\n",
       "   cityCenters_nearest  parks_around3000  parks_nearest  ponds_around3000  \\\n",
       "0              16028.0               1.0          482.0               2.0   \n",
       "1              18603.0               0.0            NaN               0.0   \n",
       "2              13933.0               1.0           90.0               2.0   \n",
       "3               6800.0               2.0           84.0               3.0   \n",
       "4               8098.0               2.0          112.0               1.0   \n",
       "\n",
       "  ponds_nearest  days_exposition  price_per_meter  living_share  \\\n",
       "0         755.0              NaN    120370.370370      0.472222   \n",
       "1           NaN             81.0     82920.792079      0.460396   \n",
       "2         574.0            558.0     92785.714286      0.612500   \n",
       "3         234.0            424.0    408176.100629      0.560000   \n",
       "4          48.0            121.0    100000.000000      0.320000   \n",
       "\n",
       "   kitchen_share  weekday  \n",
       "0       0.231481        3  \n",
       "1       0.272277        1  \n",
       "2       0.148214        3  \n",
       "3       0.180000        4  \n",
       "4       0.410000        1  \n",
       "\n",
       "[5 rows x 26 columns]"
      ]
     },
     "metadata": {},
     "output_type": "display_data"
    }
   ],
   "source": [
    "df['weekday'] = df['first_day_exposition'].dt.weekday\n",
    "    \n",
    "display(df.head())"
   ]
  },
  {
   "cell_type": "markdown",
   "metadata": {},
   "source": [
    "## Исследовательский анализ данных"
   ]
  },
  {
   "cell_type": "markdown",
   "metadata": {},
   "source": [
    "### Изучим следующие параметры: площадь, цена, число комнат, высота потолков. Построим гистограммы для каждого параметра."
   ]
  },
  {
   "cell_type": "code",
   "execution_count": 18,
   "metadata": {},
   "outputs": [
    {
     "data": {
      "image/png": "[encoded data removed]",
      "text/plain": [
       "<Figure size 432x288 with 1 Axes>"
      ]
     },
     "metadata": {
      "needs_background": "light"
     },
     "output_type": "display_data"
    }
   ],
   "source": [
    "import matplotlib.pyplot as plt\n",
    "df.hist('total_area', range=(0,400))\n",
    "plt.show()"
   ]
  },
  {
   "cell_type": "markdown",
   "metadata": {},
   "source": [
    "**Больше всего квартир площадью от 50 до 100 квадратных метров.**"
   ]
  },
  {
   "cell_type": "code",
   "execution_count": 19,
   "metadata": {},
   "outputs": [
    {
     "data": {
      "image/png": "[encoded data removed]",
      "text/plain": [
       "<Figure size 432x288 with 1 Axes>"
      ]
     },
     "metadata": {
      "needs_background": "light"
     },
     "output_type": "display_data"
    }
   ],
   "source": [
    "df.hist('last_price', range=(0, 10000000))\n",
    "plt.show()"
   ]
  },
  {
   "cell_type": "markdown",
   "metadata": {},
   "source": [
    "**Больше всего квартир по цене от 4 до 5 млн.**"
   ]
  },
  {
   "cell_type": "code",
   "execution_count": 20,
   "metadata": {},
   "outputs": [
    {
     "data": {
      "image/png": "[encoded data removed]",
      "text/plain": [
       "<Figure size 432x288 with 1 Axes>"
      ]
     },
     "metadata": {
      "needs_background": "light"
     },
     "output_type": "display_data"
    }
   ],
   "source": [
    "df.hist('rooms', range=(1, 10))\n",
    "plt.show()"
   ]
  },
  {
   "cell_type": "markdown",
   "metadata": {},
   "source": [
    "**Больше всего в данных однокомнатных и двухкомнатных квартир.**"
   ]
  },
  {
   "cell_type": "code",
   "execution_count": 21,
   "metadata": {},
   "outputs": [
    {
     "data": {
      "image/png": "[encoded data removed]",
      "text/plain": [
       "<Figure size 432x288 with 1 Axes>"
      ]
     },
     "metadata": {
      "needs_background": "light"
     },
     "output_type": "display_data"
    }
   ],
   "source": [
    "df.hist('ceiling_height', bins=20, range=(2,4))\n",
    "plt.show()"
   ]
  },
  {
   "cell_type": "markdown",
   "metadata": {},
   "source": [
    "**Самая распространенная высота потолка - 2,75м.**"
   ]
  },
  {
   "cell_type": "markdown",
   "metadata": {},
   "source": [
    "### Изучим время продажи квартиры. Построим гистограмму. Найдем среднее и медиану."
   ]
  },
  {
   "cell_type": "code",
   "execution_count": 22,
   "metadata": {},
   "outputs": [
    {
     "data": {
      "image/png": "[encoded data removed]",
      "text/plain": [
       "<Figure size 432x288 with 1 Axes>"
      ]
     },
     "metadata": {
      "needs_background": "light"
     },
     "output_type": "display_data"
    }
   ],
   "source": [
    "df.hist('days_exposition', bins=20)\n",
    "plt.show()"
   ]
  },
  {
   "cell_type": "code",
   "execution_count": 23,
   "metadata": {},
   "outputs": [
    {
     "data": {
      "text/plain": [
       "count    20470.000000\n",
       "mean       180.753200\n",
       "std        219.777916\n",
       "min          1.000000\n",
       "25%         45.000000\n",
       "50%         95.000000\n",
       "75%        231.000000\n",
       "max       1580.000000\n",
       "Name: days_exposition, dtype: float64"
      ]
     },
     "execution_count": 23,
     "metadata": {},
     "output_type": "execute_result"
    }
   ],
   "source": [
    "df['days_exposition'].describe()"
   ]
  },
  {
   "cell_type": "markdown",
   "metadata": {},
   "source": [
    "**Судя по данным, есть уникальный случай продажи недвижимости в течении 1580 дней и некоторое количество случаев продажи более 1000 дней, уберем их и снова построим гистограмму.**"
   ]
  },
  {
   "cell_type": "markdown",
   "metadata": {},
   "source": [
    "### Уберем редкие и выбивающиеся значения. "
   ]
  },
  {
   "cell_type": "code",
   "execution_count": 24,
   "metadata": {},
   "outputs": [
    {
     "data": {
      "image/png": "[encoded data removed]",
      "text/plain": [
       "<Figure size 432x288 with 1 Axes>"
      ]
     },
     "metadata": {
      "needs_background": "light"
     },
     "output_type": "display_data"
    }
   ],
   "source": [
    "days_exposition = df.query('days_exposition < 1000')\n",
    "days_exposition.hist('days_exposition', bins=20)\n",
    "plt.show()"
   ]
  },
  {
   "cell_type": "code",
   "execution_count": 25,
   "metadata": {},
   "outputs": [
    {
     "data": {
      "text/plain": [
       "count    20192.000000\n",
       "mean       167.160063\n",
       "std        187.390861\n",
       "min          1.000000\n",
       "25%         44.000000\n",
       "50%         93.000000\n",
       "75%        221.000000\n",
       "max        999.000000\n",
       "Name: days_exposition, dtype: float64"
      ]
     },
     "execution_count": 25,
     "metadata": {},
     "output_type": "execute_result"
    }
   ],
   "source": [
    "days_exposition['days_exposition'].describe()"
   ]
  },
  {
   "cell_type": "markdown",
   "metadata": {},
   "source": [
    "**На среднее и медиану значения более 1000 дней влияют не очень сильно, в целом средняя продолжительность продажи составляет 160 - 180 дней.**"
   ]
  },
  {
   "cell_type": "markdown",
   "metadata": {},
   "source": [
    "### Какие факторы больше всего влияют на стоимость квартиры? "
   ]
  },
  {
   "cell_type": "code",
   "execution_count": 26,
   "metadata": {},
   "outputs": [
    {
     "name": "stdout",
     "output_type": "stream",
     "text": [
      "0.6537428966335397\n"
     ]
    }
   ],
   "source": [
    "print(df['total_area'].corr(df['last_price']))"
   ]
  },
  {
   "cell_type": "markdown",
   "metadata": {},
   "source": [
    "**Коэффициент корреляции показывает, что зависимость цены от площади не сильная.**"
   ]
  },
  {
   "cell_type": "code",
   "execution_count": 27,
   "metadata": {},
   "outputs": [
    {
     "data": {
      "image/png": "[encoded data removed]",
      "text/plain": [
       "<Figure size 432x288 with 1 Axes>"
      ]
     },
     "metadata": {
      "needs_background": "light"
     },
     "output_type": "display_data"
    }
   ],
   "source": [
    "import matplotlib.pyplot as plt\n",
    "df.plot(x='total_area', y='last_price', style='o', xlim=(0,1000), grid=True)\n",
    "plt.show()"
   ]
  },
  {
   "cell_type": "markdown",
   "metadata": {},
   "source": [
    "**График также показывает, что зависимость цены от площади не сильная.**"
   ]
  },
  {
   "cell_type": "code",
   "execution_count": 28,
   "metadata": {},
   "outputs": [
    {
     "name": "stdout",
     "output_type": "stream",
     "text": [
      "0.36342062218770693\n"
     ]
    }
   ],
   "source": [
    "print(df['rooms'].corr(df['last_price']))"
   ]
  },
  {
   "cell_type": "code",
   "execution_count": 29,
   "metadata": {},
   "outputs": [
    {
     "data": {
      "image/png": "[encoded data removed]",
      "text/plain": [
       "<Figure size 432x288 with 1 Axes>"
      ]
     },
     "metadata": {
      "needs_background": "light"
     },
     "output_type": "display_data"
    }
   ],
   "source": [
    "df.plot(x='rooms', y='last_price', style='o', xlim=(0,10), grid=True)\n",
    "plt.show()"
   ]
  },
  {
   "cell_type": "markdown",
   "metadata": {},
   "source": [
    "**График и коэффициент корреляции также показали, что цена не зависит от количества комнат.**"
   ]
  },
  {
   "cell_type": "code",
   "execution_count": 30,
   "metadata": {},
   "outputs": [
    {
     "name": "stdout",
     "output_type": "stream",
     "text": [
      "-0.20688702501498762\n"
     ]
    }
   ],
   "source": [
    "print(df['cityCenters_nearest'].corr(df['last_price']))"
   ]
  },
  {
   "cell_type": "markdown",
   "metadata": {},
   "source": [
    "**Коэффициент корреляции показал небольшую отрицательную зависимость цены от удаления от центра города, чем больше удаление, тем ниже цена.**"
   ]
  },
  {
   "cell_type": "code",
   "execution_count": 31,
   "metadata": {},
   "outputs": [
    {
     "data": {
      "image/png": "[encoded data removed]",
      "text/plain": [
       "<Figure size 432x288 with 1 Axes>"
      ]
     },
     "metadata": {
      "needs_background": "light"
     },
     "output_type": "display_data"
    }
   ],
   "source": [
    "df['cityCenters_nearest_km'] = df['cityCenters_nearest'] / 1000 #создадим столбец с расстоянием до центра в км.\n",
    "df.plot(x='cityCenters_nearest_km', y='last_price', style='o', grid=True)\n",
    "plt.show()"
   ]
  },
  {
   "cell_type": "markdown",
   "metadata": {},
   "source": [
    "### Выберим 10 населённых пунктов с наибольшим числом объявлений. Посчитаем среднюю цену квадратного метра в этих населённых пунктах. Выделим населённые пункты с самой высокой и низкой стоимостью жилья."
   ]
  },
  {
   "cell_type": "code",
   "execution_count": 32,
   "metadata": {},
   "outputs": [
    {
     "data": {
      "text/plain": [
       "Санкт-Петербург      15721\n",
       "посёлок Мурино         522\n",
       "посёлок Шушары         440\n",
       "Всеволожск             398\n",
       "Пушкин                 369\n",
       "Колпино                338\n",
       "посёлок Парголово      327\n",
       "Гатчина                307\n",
       "деревня Кудрово        299\n",
       "Выборг                 237\n",
       "Name: locality_name, dtype: int64"
      ]
     },
     "execution_count": 32,
     "metadata": {},
     "output_type": "execute_result"
    }
   ],
   "source": [
    "df['locality_name'].value_counts(ascending=False).head(10)"
   ]
  },
  {
   "cell_type": "markdown",
   "metadata": {},
   "source": [
    "**10 населённых пунктов с наибольшим числом объявлений.**"
   ]
  },
  {
   "cell_type": "code",
   "execution_count": 33,
   "metadata": {},
   "outputs": [
    {
     "data": {
      "text/html": [
       "<div>\n",
       "<style scoped>\n",
       "    .dataframe tbody tr th:only-of-type {\n",
       "        vertical-align: middle;\n",
       "    }\n",
       "\n",
       "    .dataframe tbody tr th {\n",
       "        vertical-align: top;\n",
       "    }\n",
       "\n",
       "    .dataframe thead th {\n",
       "        text-align: right;\n",
       "    }\n",
       "</style>\n",
       "<table border=\"1\" class=\"dataframe\">\n",
       "  <thead>\n",
       "    <tr style=\"text-align: right;\">\n",
       "      <th></th>\n",
       "      <th>price_per_meter</th>\n",
       "    </tr>\n",
       "    <tr>\n",
       "      <th>locality_name</th>\n",
       "      <th></th>\n",
       "    </tr>\n",
       "  </thead>\n",
       "  <tbody>\n",
       "    <tr>\n",
       "      <td>Бокситогорск</td>\n",
       "      <td>17551.591819</td>\n",
       "    </tr>\n",
       "    <tr>\n",
       "      <td>Волосово</td>\n",
       "      <td>40183.325974</td>\n",
       "    </tr>\n",
       "    <tr>\n",
       "      <td>Волхов</td>\n",
       "      <td>35087.679877</td>\n",
       "    </tr>\n",
       "    <tr>\n",
       "      <td>Всеволожск</td>\n",
       "      <td>68654.473986</td>\n",
       "    </tr>\n",
       "    <tr>\n",
       "      <td>Выборг</td>\n",
       "      <td>58141.909153</td>\n",
       "    </tr>\n",
       "    <tr>\n",
       "      <td>...</td>\n",
       "      <td>...</td>\n",
       "    </tr>\n",
       "    <tr>\n",
       "      <td>село Путилово</td>\n",
       "      <td>39921.758208</td>\n",
       "    </tr>\n",
       "    <tr>\n",
       "      <td>село Рождествено</td>\n",
       "      <td>37733.159586</td>\n",
       "    </tr>\n",
       "    <tr>\n",
       "      <td>село Русско-Высоцкое</td>\n",
       "      <td>54833.726028</td>\n",
       "    </tr>\n",
       "    <tr>\n",
       "      <td>село Старая Ладога</td>\n",
       "      <td>34696.969697</td>\n",
       "    </tr>\n",
       "    <tr>\n",
       "      <td>село Шум</td>\n",
       "      <td>33898.305085</td>\n",
       "    </tr>\n",
       "  </tbody>\n",
       "</table>\n",
       "<p>364 rows × 1 columns</p>\n",
       "</div>"
      ],
      "text/plain": [
       "                      price_per_meter\n",
       "locality_name                        \n",
       "Бокситогорск             17551.591819\n",
       "Волосово                 40183.325974\n",
       "Волхов                   35087.679877\n",
       "Всеволожск               68654.473986\n",
       "Выборг                   58141.909153\n",
       "...                               ...\n",
       "село Путилово            39921.758208\n",
       "село Рождествено         37733.159586\n",
       "село Русско-Высоцкое     54833.726028\n",
       "село Старая Ладога       34696.969697\n",
       "село Шум                 33898.305085\n",
       "\n",
       "[364 rows x 1 columns]"
      ]
     },
     "metadata": {},
     "output_type": "display_data"
    }
   ],
   "source": [
    "df_pivot = df.pivot_table(index=\"locality_name\", values='price_per_meter', aggfunc='mean')\n",
    "display(df_pivot)"
   ]
  },
  {
   "cell_type": "markdown",
   "metadata": {},
   "source": [
    "**Средняя цена квадратного метра в этих населённых пунктах.**"
   ]
  },
  {
   "cell_type": "markdown",
   "metadata": {},
   "source": [
    "# Населённые пункты с самой высокой и низкой стоимостью жилья."
   ]
  },
  {
   "cell_type": "code",
   "execution_count": 34,
   "metadata": {},
   "outputs": [
    {
     "name": "stdout",
     "output_type": "stream",
     "text": [
      "763000000.0\n"
     ]
    }
   ],
   "source": [
    "print(df['last_price'].max())"
   ]
  },
  {
   "cell_type": "code",
   "execution_count": 35,
   "metadata": {},
   "outputs": [
    {
     "data": {
      "text/html": [
       "<div>\n",
       "<style scoped>\n",
       "    .dataframe tbody tr th:only-of-type {\n",
       "        vertical-align: middle;\n",
       "    }\n",
       "\n",
       "    .dataframe tbody tr th {\n",
       "        vertical-align: top;\n",
       "    }\n",
       "\n",
       "    .dataframe thead th {\n",
       "        text-align: right;\n",
       "    }\n",
       "</style>\n",
       "<table border=\"1\" class=\"dataframe\">\n",
       "  <thead>\n",
       "    <tr style=\"text-align: right;\">\n",
       "      <th></th>\n",
       "      <th>total_images</th>\n",
       "      <th>last_price</th>\n",
       "      <th>total_area</th>\n",
       "      <th>first_day_exposition</th>\n",
       "      <th>rooms</th>\n",
       "      <th>ceiling_height</th>\n",
       "      <th>floors_total</th>\n",
       "      <th>living_area</th>\n",
       "      <th>floor</th>\n",
       "      <th>is_apartment</th>\n",
       "      <th>...</th>\n",
       "      <th>parks_around3000</th>\n",
       "      <th>parks_nearest</th>\n",
       "      <th>ponds_around3000</th>\n",
       "      <th>ponds_nearest</th>\n",
       "      <th>days_exposition</th>\n",
       "      <th>price_per_meter</th>\n",
       "      <th>living_share</th>\n",
       "      <th>kitchen_share</th>\n",
       "      <th>weekday</th>\n",
       "      <th>cityCenters_nearest_km</th>\n",
       "    </tr>\n",
       "  </thead>\n",
       "  <tbody>\n",
       "    <tr>\n",
       "      <td>12971</td>\n",
       "      <td>19</td>\n",
       "      <td>763000000.0</td>\n",
       "      <td>400.0</td>\n",
       "      <td>2017-09-30</td>\n",
       "      <td>7</td>\n",
       "      <td>2.771499</td>\n",
       "      <td>10.0</td>\n",
       "      <td>250.0</td>\n",
       "      <td>10</td>\n",
       "      <td>True</td>\n",
       "      <td>...</td>\n",
       "      <td>1.0</td>\n",
       "      <td>530.0</td>\n",
       "      <td>3.0</td>\n",
       "      <td>756.0</td>\n",
       "      <td>33.0</td>\n",
       "      <td>1907500.0</td>\n",
       "      <td>0.625</td>\n",
       "      <td>0.18</td>\n",
       "      <td>5</td>\n",
       "      <td>3.956</td>\n",
       "    </tr>\n",
       "  </tbody>\n",
       "</table>\n",
       "<p>1 rows × 27 columns</p>\n",
       "</div>"
      ],
      "text/plain": [
       "       total_images   last_price  total_area first_day_exposition  rooms  \\\n",
       "12971            19  763000000.0       400.0           2017-09-30      7   \n",
       "\n",
       "       ceiling_height  floors_total  living_area  floor  is_apartment  ...  \\\n",
       "12971        2.771499          10.0        250.0     10          True  ...   \n",
       "\n",
       "       parks_around3000  parks_nearest  ponds_around3000  ponds_nearest  \\\n",
       "12971               1.0          530.0               3.0          756.0   \n",
       "\n",
       "      days_exposition  price_per_meter  living_share  kitchen_share  weekday  \\\n",
       "12971            33.0        1907500.0         0.625           0.18        5   \n",
       "\n",
       "       cityCenters_nearest_km  \n",
       "12971                   3.956  \n",
       "\n",
       "[1 rows x 27 columns]"
      ]
     },
     "metadata": {},
     "output_type": "display_data"
    }
   ],
   "source": [
    "display(df.query('last_price == 763000000.0'))"
   ]
  },
  {
   "cell_type": "code",
   "execution_count": 36,
   "metadata": {},
   "outputs": [
    {
     "name": "stdout",
     "output_type": "stream",
     "text": [
      "12190.0\n"
     ]
    }
   ],
   "source": [
    "print(df['last_price'].min())"
   ]
  },
  {
   "cell_type": "code",
   "execution_count": 37,
   "metadata": {},
   "outputs": [
    {
     "data": {
      "text/html": [
       "<div>\n",
       "<style scoped>\n",
       "    .dataframe tbody tr th:only-of-type {\n",
       "        vertical-align: middle;\n",
       "    }\n",
       "\n",
       "    .dataframe tbody tr th {\n",
       "        vertical-align: top;\n",
       "    }\n",
       "\n",
       "    .dataframe thead th {\n",
       "        text-align: right;\n",
       "    }\n",
       "</style>\n",
       "<table border=\"1\" class=\"dataframe\">\n",
       "  <thead>\n",
       "    <tr style=\"text-align: right;\">\n",
       "      <th></th>\n",
       "      <th>total_images</th>\n",
       "      <th>last_price</th>\n",
       "      <th>total_area</th>\n",
       "      <th>first_day_exposition</th>\n",
       "      <th>rooms</th>\n",
       "      <th>ceiling_height</th>\n",
       "      <th>floors_total</th>\n",
       "      <th>living_area</th>\n",
       "      <th>floor</th>\n",
       "      <th>is_apartment</th>\n",
       "      <th>...</th>\n",
       "      <th>parks_around3000</th>\n",
       "      <th>parks_nearest</th>\n",
       "      <th>ponds_around3000</th>\n",
       "      <th>ponds_nearest</th>\n",
       "      <th>days_exposition</th>\n",
       "      <th>price_per_meter</th>\n",
       "      <th>living_share</th>\n",
       "      <th>kitchen_share</th>\n",
       "      <th>weekday</th>\n",
       "      <th>cityCenters_nearest_km</th>\n",
       "    </tr>\n",
       "  </thead>\n",
       "  <tbody>\n",
       "    <tr>\n",
       "      <td>8793</td>\n",
       "      <td>7</td>\n",
       "      <td>12190.0</td>\n",
       "      <td>109.0</td>\n",
       "      <td>2019-03-20</td>\n",
       "      <td>2</td>\n",
       "      <td>2.75</td>\n",
       "      <td>25.0</td>\n",
       "      <td>32.0</td>\n",
       "      <td>25</td>\n",
       "      <td>True</td>\n",
       "      <td>...</td>\n",
       "      <td>1.0</td>\n",
       "      <td>805.0</td>\n",
       "      <td>0.0</td>\n",
       "      <td>NaN</td>\n",
       "      <td>8.0</td>\n",
       "      <td>111.834862</td>\n",
       "      <td>0.293578</td>\n",
       "      <td>0.37156</td>\n",
       "      <td>2</td>\n",
       "      <td>9.176</td>\n",
       "    </tr>\n",
       "  </tbody>\n",
       "</table>\n",
       "<p>1 rows × 27 columns</p>\n",
       "</div>"
      ],
      "text/plain": [
       "      total_images  last_price  total_area first_day_exposition  rooms  \\\n",
       "8793             7     12190.0       109.0           2019-03-20      2   \n",
       "\n",
       "      ceiling_height  floors_total  living_area  floor  is_apartment  ...  \\\n",
       "8793            2.75          25.0         32.0     25          True  ...   \n",
       "\n",
       "      parks_around3000  parks_nearest  ponds_around3000  ponds_nearest  \\\n",
       "8793               1.0          805.0               0.0            NaN   \n",
       "\n",
       "     days_exposition  price_per_meter  living_share  kitchen_share  weekday  \\\n",
       "8793             8.0       111.834862      0.293578        0.37156        2   \n",
       "\n",
       "      cityCenters_nearest_km  \n",
       "8793                   9.176  \n",
       "\n",
       "[1 rows x 27 columns]"
      ]
     },
     "metadata": {},
     "output_type": "display_data"
    }
   ],
   "source": [
    "display(df.query('last_price == 12190.0'))"
   ]
  },
  {
   "cell_type": "markdown",
   "metadata": {},
   "source": [
    "### Изучим предложения квартир: для каждой квартиры есть информация о расстоянии до центра. Выделим квартиры в Санкт-Петербурге. Выясним, какая область входит в центр. Столбец с расстоянием до центра в километрах: округлим до целых значений. После этого посчитаем среднюю цену для каждого километра. Построим график: он должен показывать, как цена зависит от удалённости от центра. Определим границу, где график сильно меняется, — это и будет центральная зона."
   ]
  },
  {
   "cell_type": "code",
   "execution_count": 38,
   "metadata": {},
   "outputs": [],
   "source": [
    "df['cityCenters_nearest_km'] = df['cityCenters_nearest_km'].round()"
   ]
  },
  {
   "cell_type": "code",
   "execution_count": 39,
   "metadata": {},
   "outputs": [
    {
     "data": {
      "text/html": [
       "<div>\n",
       "<style scoped>\n",
       "    .dataframe tbody tr th:only-of-type {\n",
       "        vertical-align: middle;\n",
       "    }\n",
       "\n",
       "    .dataframe tbody tr th {\n",
       "        vertical-align: top;\n",
       "    }\n",
       "\n",
       "    .dataframe thead th {\n",
       "        text-align: right;\n",
       "    }\n",
       "</style>\n",
       "<table border=\"1\" class=\"dataframe\">\n",
       "  <thead>\n",
       "    <tr style=\"text-align: right;\">\n",
       "      <th></th>\n",
       "      <th>total_images</th>\n",
       "      <th>last_price</th>\n",
       "      <th>total_area</th>\n",
       "      <th>first_day_exposition</th>\n",
       "      <th>rooms</th>\n",
       "      <th>ceiling_height</th>\n",
       "      <th>floors_total</th>\n",
       "      <th>living_area</th>\n",
       "      <th>floor</th>\n",
       "      <th>is_apartment</th>\n",
       "      <th>...</th>\n",
       "      <th>parks_around3000</th>\n",
       "      <th>parks_nearest</th>\n",
       "      <th>ponds_around3000</th>\n",
       "      <th>ponds_nearest</th>\n",
       "      <th>days_exposition</th>\n",
       "      <th>price_per_meter</th>\n",
       "      <th>living_share</th>\n",
       "      <th>kitchen_share</th>\n",
       "      <th>weekday</th>\n",
       "      <th>cityCenters_nearest_km</th>\n",
       "    </tr>\n",
       "  </thead>\n",
       "  <tbody>\n",
       "    <tr>\n",
       "      <td>0</td>\n",
       "      <td>20</td>\n",
       "      <td>13000000.0</td>\n",
       "      <td>108.00</td>\n",
       "      <td>2019-03-07</td>\n",
       "      <td>3</td>\n",
       "      <td>2.700000</td>\n",
       "      <td>16.0</td>\n",
       "      <td>51.000</td>\n",
       "      <td>8</td>\n",
       "      <td>True</td>\n",
       "      <td>...</td>\n",
       "      <td>1.0</td>\n",
       "      <td>482.0</td>\n",
       "      <td>2.0</td>\n",
       "      <td>755.0</td>\n",
       "      <td>NaN</td>\n",
       "      <td>120370.370370</td>\n",
       "      <td>0.472222</td>\n",
       "      <td>0.231481</td>\n",
       "      <td>3</td>\n",
       "      <td>16.0</td>\n",
       "    </tr>\n",
       "    <tr>\n",
       "      <td>2</td>\n",
       "      <td>10</td>\n",
       "      <td>5196000.0</td>\n",
       "      <td>56.00</td>\n",
       "      <td>2015-08-20</td>\n",
       "      <td>2</td>\n",
       "      <td>2.771499</td>\n",
       "      <td>5.0</td>\n",
       "      <td>34.300</td>\n",
       "      <td>4</td>\n",
       "      <td>True</td>\n",
       "      <td>...</td>\n",
       "      <td>1.0</td>\n",
       "      <td>90.0</td>\n",
       "      <td>2.0</td>\n",
       "      <td>574.0</td>\n",
       "      <td>558.0</td>\n",
       "      <td>92785.714286</td>\n",
       "      <td>0.612500</td>\n",
       "      <td>0.148214</td>\n",
       "      <td>3</td>\n",
       "      <td>14.0</td>\n",
       "    </tr>\n",
       "    <tr>\n",
       "      <td>3</td>\n",
       "      <td>0</td>\n",
       "      <td>64900000.0</td>\n",
       "      <td>159.00</td>\n",
       "      <td>2015-07-24</td>\n",
       "      <td>3</td>\n",
       "      <td>2.771499</td>\n",
       "      <td>14.0</td>\n",
       "      <td>89.040</td>\n",
       "      <td>9</td>\n",
       "      <td>True</td>\n",
       "      <td>...</td>\n",
       "      <td>2.0</td>\n",
       "      <td>84.0</td>\n",
       "      <td>3.0</td>\n",
       "      <td>234.0</td>\n",
       "      <td>424.0</td>\n",
       "      <td>408176.100629</td>\n",
       "      <td>0.560000</td>\n",
       "      <td>0.180000</td>\n",
       "      <td>4</td>\n",
       "      <td>7.0</td>\n",
       "    </tr>\n",
       "    <tr>\n",
       "      <td>4</td>\n",
       "      <td>2</td>\n",
       "      <td>10000000.0</td>\n",
       "      <td>100.00</td>\n",
       "      <td>2018-06-19</td>\n",
       "      <td>2</td>\n",
       "      <td>3.030000</td>\n",
       "      <td>14.0</td>\n",
       "      <td>32.000</td>\n",
       "      <td>13</td>\n",
       "      <td>True</td>\n",
       "      <td>...</td>\n",
       "      <td>2.0</td>\n",
       "      <td>112.0</td>\n",
       "      <td>1.0</td>\n",
       "      <td>48.0</td>\n",
       "      <td>121.0</td>\n",
       "      <td>100000.000000</td>\n",
       "      <td>0.320000</td>\n",
       "      <td>0.410000</td>\n",
       "      <td>1</td>\n",
       "      <td>8.0</td>\n",
       "    </tr>\n",
       "    <tr>\n",
       "      <td>7</td>\n",
       "      <td>5</td>\n",
       "      <td>7915000.0</td>\n",
       "      <td>71.60</td>\n",
       "      <td>2019-04-18</td>\n",
       "      <td>2</td>\n",
       "      <td>2.771499</td>\n",
       "      <td>24.0</td>\n",
       "      <td>40.096</td>\n",
       "      <td>22</td>\n",
       "      <td>True</td>\n",
       "      <td>...</td>\n",
       "      <td>0.0</td>\n",
       "      <td>NaN</td>\n",
       "      <td>0.0</td>\n",
       "      <td>NaN</td>\n",
       "      <td>NaN</td>\n",
       "      <td>110544.692737</td>\n",
       "      <td>0.560000</td>\n",
       "      <td>0.263966</td>\n",
       "      <td>3</td>\n",
       "      <td>12.0</td>\n",
       "    </tr>\n",
       "    <tr>\n",
       "      <td>...</td>\n",
       "      <td>...</td>\n",
       "      <td>...</td>\n",
       "      <td>...</td>\n",
       "      <td>...</td>\n",
       "      <td>...</td>\n",
       "      <td>...</td>\n",
       "      <td>...</td>\n",
       "      <td>...</td>\n",
       "      <td>...</td>\n",
       "      <td>...</td>\n",
       "      <td>...</td>\n",
       "      <td>...</td>\n",
       "      <td>...</td>\n",
       "      <td>...</td>\n",
       "      <td>...</td>\n",
       "      <td>...</td>\n",
       "      <td>...</td>\n",
       "      <td>...</td>\n",
       "      <td>...</td>\n",
       "      <td>...</td>\n",
       "      <td>...</td>\n",
       "    </tr>\n",
       "    <tr>\n",
       "      <td>23689</td>\n",
       "      <td>13</td>\n",
       "      <td>3550000.0</td>\n",
       "      <td>35.30</td>\n",
       "      <td>2018-02-28</td>\n",
       "      <td>1</td>\n",
       "      <td>2.860000</td>\n",
       "      <td>15.0</td>\n",
       "      <td>16.300</td>\n",
       "      <td>4</td>\n",
       "      <td>True</td>\n",
       "      <td>...</td>\n",
       "      <td>1.0</td>\n",
       "      <td>353.0</td>\n",
       "      <td>2.0</td>\n",
       "      <td>652.0</td>\n",
       "      <td>29.0</td>\n",
       "      <td>100566.572238</td>\n",
       "      <td>0.461756</td>\n",
       "      <td>0.257790</td>\n",
       "      <td>2</td>\n",
       "      <td>16.0</td>\n",
       "    </tr>\n",
       "    <tr>\n",
       "      <td>23690</td>\n",
       "      <td>3</td>\n",
       "      <td>5500000.0</td>\n",
       "      <td>52.00</td>\n",
       "      <td>2018-07-19</td>\n",
       "      <td>2</td>\n",
       "      <td>2.771499</td>\n",
       "      <td>5.0</td>\n",
       "      <td>31.000</td>\n",
       "      <td>2</td>\n",
       "      <td>True</td>\n",
       "      <td>...</td>\n",
       "      <td>1.0</td>\n",
       "      <td>300.0</td>\n",
       "      <td>0.0</td>\n",
       "      <td>NaN</td>\n",
       "      <td>15.0</td>\n",
       "      <td>105769.230769</td>\n",
       "      <td>0.596154</td>\n",
       "      <td>0.115385</td>\n",
       "      <td>3</td>\n",
       "      <td>6.0</td>\n",
       "    </tr>\n",
       "    <tr>\n",
       "      <td>23691</td>\n",
       "      <td>11</td>\n",
       "      <td>9470000.0</td>\n",
       "      <td>72.90</td>\n",
       "      <td>2016-10-13</td>\n",
       "      <td>2</td>\n",
       "      <td>2.750000</td>\n",
       "      <td>25.0</td>\n",
       "      <td>40.300</td>\n",
       "      <td>7</td>\n",
       "      <td>True</td>\n",
       "      <td>...</td>\n",
       "      <td>0.0</td>\n",
       "      <td>NaN</td>\n",
       "      <td>1.0</td>\n",
       "      <td>806.0</td>\n",
       "      <td>519.0</td>\n",
       "      <td>129903.978052</td>\n",
       "      <td>0.552812</td>\n",
       "      <td>0.145405</td>\n",
       "      <td>3</td>\n",
       "      <td>4.0</td>\n",
       "    </tr>\n",
       "    <tr>\n",
       "      <td>23694</td>\n",
       "      <td>9</td>\n",
       "      <td>9700000.0</td>\n",
       "      <td>133.81</td>\n",
       "      <td>2017-03-21</td>\n",
       "      <td>3</td>\n",
       "      <td>3.700000</td>\n",
       "      <td>5.0</td>\n",
       "      <td>73.300</td>\n",
       "      <td>3</td>\n",
       "      <td>True</td>\n",
       "      <td>...</td>\n",
       "      <td>1.0</td>\n",
       "      <td>796.0</td>\n",
       "      <td>3.0</td>\n",
       "      <td>381.0</td>\n",
       "      <td>NaN</td>\n",
       "      <td>72490.845228</td>\n",
       "      <td>0.547792</td>\n",
       "      <td>0.103356</td>\n",
       "      <td>1</td>\n",
       "      <td>4.0</td>\n",
       "    </tr>\n",
       "    <tr>\n",
       "      <td>23697</td>\n",
       "      <td>13</td>\n",
       "      <td>11475000.0</td>\n",
       "      <td>76.75</td>\n",
       "      <td>2017-03-28</td>\n",
       "      <td>2</td>\n",
       "      <td>3.000000</td>\n",
       "      <td>17.0</td>\n",
       "      <td>42.980</td>\n",
       "      <td>12</td>\n",
       "      <td>True</td>\n",
       "      <td>...</td>\n",
       "      <td>2.0</td>\n",
       "      <td>173.0</td>\n",
       "      <td>3.0</td>\n",
       "      <td>196.0</td>\n",
       "      <td>602.0</td>\n",
       "      <td>149511.400651</td>\n",
       "      <td>0.560000</td>\n",
       "      <td>0.303583</td>\n",
       "      <td>1</td>\n",
       "      <td>10.0</td>\n",
       "    </tr>\n",
       "  </tbody>\n",
       "</table>\n",
       "<p>15721 rows × 27 columns</p>\n",
       "</div>"
      ],
      "text/plain": [
       "       total_images  last_price  total_area first_day_exposition  rooms  \\\n",
       "0                20  13000000.0      108.00           2019-03-07      3   \n",
       "2                10   5196000.0       56.00           2015-08-20      2   \n",
       "3                 0  64900000.0      159.00           2015-07-24      3   \n",
       "4                 2  10000000.0      100.00           2018-06-19      2   \n",
       "7                 5   7915000.0       71.60           2019-04-18      2   \n",
       "...             ...         ...         ...                  ...    ...   \n",
       "23689            13   3550000.0       35.30           2018-02-28      1   \n",
       "23690             3   5500000.0       52.00           2018-07-19      2   \n",
       "23691            11   9470000.0       72.90           2016-10-13      2   \n",
       "23694             9   9700000.0      133.81           2017-03-21      3   \n",
       "23697            13  11475000.0       76.75           2017-03-28      2   \n",
       "\n",
       "       ceiling_height  floors_total  living_area  floor  is_apartment  ...  \\\n",
       "0            2.700000          16.0       51.000      8          True  ...   \n",
       "2            2.771499           5.0       34.300      4          True  ...   \n",
       "3            2.771499          14.0       89.040      9          True  ...   \n",
       "4            3.030000          14.0       32.000     13          True  ...   \n",
       "7            2.771499          24.0       40.096     22          True  ...   \n",
       "...               ...           ...          ...    ...           ...  ...   \n",
       "23689        2.860000          15.0       16.300      4          True  ...   \n",
       "23690        2.771499           5.0       31.000      2          True  ...   \n",
       "23691        2.750000          25.0       40.300      7          True  ...   \n",
       "23694        3.700000           5.0       73.300      3          True  ...   \n",
       "23697        3.000000          17.0       42.980     12          True  ...   \n",
       "\n",
       "       parks_around3000  parks_nearest  ponds_around3000  ponds_nearest  \\\n",
       "0                   1.0          482.0               2.0          755.0   \n",
       "2                   1.0           90.0               2.0          574.0   \n",
       "3                   2.0           84.0               3.0          234.0   \n",
       "4                   2.0          112.0               1.0           48.0   \n",
       "7                   0.0            NaN               0.0            NaN   \n",
       "...                 ...            ...               ...            ...   \n",
       "23689               1.0          353.0               2.0          652.0   \n",
       "23690               1.0          300.0               0.0            NaN   \n",
       "23691               0.0            NaN               1.0          806.0   \n",
       "23694               1.0          796.0               3.0          381.0   \n",
       "23697               2.0          173.0               3.0          196.0   \n",
       "\n",
       "      days_exposition  price_per_meter  living_share  kitchen_share  weekday  \\\n",
       "0                 NaN    120370.370370      0.472222       0.231481        3   \n",
       "2               558.0     92785.714286      0.612500       0.148214        3   \n",
       "3               424.0    408176.100629      0.560000       0.180000        4   \n",
       "4               121.0    100000.000000      0.320000       0.410000        1   \n",
       "7                 NaN    110544.692737      0.560000       0.263966        3   \n",
       "...               ...              ...           ...            ...      ...   \n",
       "23689            29.0    100566.572238      0.461756       0.257790        2   \n",
       "23690            15.0    105769.230769      0.596154       0.115385        3   \n",
       "23691           519.0    129903.978052      0.552812       0.145405        3   \n",
       "23694             NaN     72490.845228      0.547792       0.103356        1   \n",
       "23697           602.0    149511.400651      0.560000       0.303583        1   \n",
       "\n",
       "       cityCenters_nearest_km  \n",
       "0                        16.0  \n",
       "2                        14.0  \n",
       "3                         7.0  \n",
       "4                         8.0  \n",
       "7                        12.0  \n",
       "...                       ...  \n",
       "23689                    16.0  \n",
       "23690                     6.0  \n",
       "23691                     4.0  \n",
       "23694                     4.0  \n",
       "23697                    10.0  \n",
       "\n",
       "[15721 rows x 27 columns]"
      ]
     },
     "metadata": {},
     "output_type": "display_data"
    }
   ],
   "source": [
    "df_spb = df.query('locality_name == \"Санкт-Петербург\"')\n",
    "display(df_spb)"
   ]
  },
  {
   "cell_type": "code",
   "execution_count": 40,
   "metadata": {},
   "outputs": [
    {
     "name": "stderr",
     "output_type": "stream",
     "text": [
      "/opt/conda/lib/python3.7/site-packages/ipykernel_launcher.py:1: SettingWithCopyWarning: \n",
      "A value is trying to be set on a copy of a slice from a DataFrame.\n",
      "Try using .loc[row_indexer,col_indexer] = value instead\n",
      "\n",
      "See the caveats in the documentation: http://pandas.pydata.org/pandas-docs/stable/user_guide/indexing.html#returning-a-view-versus-a-copy\n",
      "  \"\"\"Entry point for launching an IPython kernel.\n"
     ]
    },
    {
     "data": {
      "text/html": [
       "<div>\n",
       "<style scoped>\n",
       "    .dataframe tbody tr th:only-of-type {\n",
       "        vertical-align: middle;\n",
       "    }\n",
       "\n",
       "    .dataframe tbody tr th {\n",
       "        vertical-align: top;\n",
       "    }\n",
       "\n",
       "    .dataframe thead th {\n",
       "        text-align: right;\n",
       "    }\n",
       "</style>\n",
       "<table border=\"1\" class=\"dataframe\">\n",
       "  <thead>\n",
       "    <tr style=\"text-align: right;\">\n",
       "      <th></th>\n",
       "      <th>total_images</th>\n",
       "      <th>last_price</th>\n",
       "      <th>total_area</th>\n",
       "      <th>first_day_exposition</th>\n",
       "      <th>rooms</th>\n",
       "      <th>ceiling_height</th>\n",
       "      <th>floors_total</th>\n",
       "      <th>living_area</th>\n",
       "      <th>floor</th>\n",
       "      <th>is_apartment</th>\n",
       "      <th>...</th>\n",
       "      <th>parks_nearest</th>\n",
       "      <th>ponds_around3000</th>\n",
       "      <th>ponds_nearest</th>\n",
       "      <th>days_exposition</th>\n",
       "      <th>price_per_meter</th>\n",
       "      <th>living_share</th>\n",
       "      <th>kitchen_share</th>\n",
       "      <th>weekday</th>\n",
       "      <th>cityCenters_nearest_km</th>\n",
       "      <th>km_mean_price</th>\n",
       "    </tr>\n",
       "  </thead>\n",
       "  <tbody>\n",
       "    <tr>\n",
       "      <td>0</td>\n",
       "      <td>20</td>\n",
       "      <td>13000000.0</td>\n",
       "      <td>108.00</td>\n",
       "      <td>2019-03-07</td>\n",
       "      <td>3</td>\n",
       "      <td>2.700000</td>\n",
       "      <td>16.0</td>\n",
       "      <td>51.000</td>\n",
       "      <td>8</td>\n",
       "      <td>True</td>\n",
       "      <td>...</td>\n",
       "      <td>482.0</td>\n",
       "      <td>2.0</td>\n",
       "      <td>755.0</td>\n",
       "      <td>NaN</td>\n",
       "      <td>120370.370370</td>\n",
       "      <td>0.472222</td>\n",
       "      <td>0.231481</td>\n",
       "      <td>3</td>\n",
       "      <td>16.0</td>\n",
       "      <td>812500.0</td>\n",
       "    </tr>\n",
       "    <tr>\n",
       "      <td>2</td>\n",
       "      <td>10</td>\n",
       "      <td>5196000.0</td>\n",
       "      <td>56.00</td>\n",
       "      <td>2015-08-20</td>\n",
       "      <td>2</td>\n",
       "      <td>2.771499</td>\n",
       "      <td>5.0</td>\n",
       "      <td>34.300</td>\n",
       "      <td>4</td>\n",
       "      <td>True</td>\n",
       "      <td>...</td>\n",
       "      <td>90.0</td>\n",
       "      <td>2.0</td>\n",
       "      <td>574.0</td>\n",
       "      <td>558.0</td>\n",
       "      <td>92785.714286</td>\n",
       "      <td>0.612500</td>\n",
       "      <td>0.148214</td>\n",
       "      <td>3</td>\n",
       "      <td>14.0</td>\n",
       "      <td>371143.0</td>\n",
       "    </tr>\n",
       "    <tr>\n",
       "      <td>3</td>\n",
       "      <td>0</td>\n",
       "      <td>64900000.0</td>\n",
       "      <td>159.00</td>\n",
       "      <td>2015-07-24</td>\n",
       "      <td>3</td>\n",
       "      <td>2.771499</td>\n",
       "      <td>14.0</td>\n",
       "      <td>89.040</td>\n",
       "      <td>9</td>\n",
       "      <td>True</td>\n",
       "      <td>...</td>\n",
       "      <td>84.0</td>\n",
       "      <td>3.0</td>\n",
       "      <td>234.0</td>\n",
       "      <td>424.0</td>\n",
       "      <td>408176.100629</td>\n",
       "      <td>0.560000</td>\n",
       "      <td>0.180000</td>\n",
       "      <td>4</td>\n",
       "      <td>7.0</td>\n",
       "      <td>9271429.0</td>\n",
       "    </tr>\n",
       "    <tr>\n",
       "      <td>4</td>\n",
       "      <td>2</td>\n",
       "      <td>10000000.0</td>\n",
       "      <td>100.00</td>\n",
       "      <td>2018-06-19</td>\n",
       "      <td>2</td>\n",
       "      <td>3.030000</td>\n",
       "      <td>14.0</td>\n",
       "      <td>32.000</td>\n",
       "      <td>13</td>\n",
       "      <td>True</td>\n",
       "      <td>...</td>\n",
       "      <td>112.0</td>\n",
       "      <td>1.0</td>\n",
       "      <td>48.0</td>\n",
       "      <td>121.0</td>\n",
       "      <td>100000.000000</td>\n",
       "      <td>0.320000</td>\n",
       "      <td>0.410000</td>\n",
       "      <td>1</td>\n",
       "      <td>8.0</td>\n",
       "      <td>1250000.0</td>\n",
       "    </tr>\n",
       "    <tr>\n",
       "      <td>7</td>\n",
       "      <td>5</td>\n",
       "      <td>7915000.0</td>\n",
       "      <td>71.60</td>\n",
       "      <td>2019-04-18</td>\n",
       "      <td>2</td>\n",
       "      <td>2.771499</td>\n",
       "      <td>24.0</td>\n",
       "      <td>40.096</td>\n",
       "      <td>22</td>\n",
       "      <td>True</td>\n",
       "      <td>...</td>\n",
       "      <td>NaN</td>\n",
       "      <td>0.0</td>\n",
       "      <td>NaN</td>\n",
       "      <td>NaN</td>\n",
       "      <td>110544.692737</td>\n",
       "      <td>0.560000</td>\n",
       "      <td>0.263966</td>\n",
       "      <td>3</td>\n",
       "      <td>12.0</td>\n",
       "      <td>659583.0</td>\n",
       "    </tr>\n",
       "    <tr>\n",
       "      <td>...</td>\n",
       "      <td>...</td>\n",
       "      <td>...</td>\n",
       "      <td>...</td>\n",
       "      <td>...</td>\n",
       "      <td>...</td>\n",
       "      <td>...</td>\n",
       "      <td>...</td>\n",
       "      <td>...</td>\n",
       "      <td>...</td>\n",
       "      <td>...</td>\n",
       "      <td>...</td>\n",
       "      <td>...</td>\n",
       "      <td>...</td>\n",
       "      <td>...</td>\n",
       "      <td>...</td>\n",
       "      <td>...</td>\n",
       "      <td>...</td>\n",
       "      <td>...</td>\n",
       "      <td>...</td>\n",
       "      <td>...</td>\n",
       "      <td>...</td>\n",
       "    </tr>\n",
       "    <tr>\n",
       "      <td>23689</td>\n",
       "      <td>13</td>\n",
       "      <td>3550000.0</td>\n",
       "      <td>35.30</td>\n",
       "      <td>2018-02-28</td>\n",
       "      <td>1</td>\n",
       "      <td>2.860000</td>\n",
       "      <td>15.0</td>\n",
       "      <td>16.300</td>\n",
       "      <td>4</td>\n",
       "      <td>True</td>\n",
       "      <td>...</td>\n",
       "      <td>353.0</td>\n",
       "      <td>2.0</td>\n",
       "      <td>652.0</td>\n",
       "      <td>29.0</td>\n",
       "      <td>100566.572238</td>\n",
       "      <td>0.461756</td>\n",
       "      <td>0.257790</td>\n",
       "      <td>2</td>\n",
       "      <td>16.0</td>\n",
       "      <td>221875.0</td>\n",
       "    </tr>\n",
       "    <tr>\n",
       "      <td>23690</td>\n",
       "      <td>3</td>\n",
       "      <td>5500000.0</td>\n",
       "      <td>52.00</td>\n",
       "      <td>2018-07-19</td>\n",
       "      <td>2</td>\n",
       "      <td>2.771499</td>\n",
       "      <td>5.0</td>\n",
       "      <td>31.000</td>\n",
       "      <td>2</td>\n",
       "      <td>True</td>\n",
       "      <td>...</td>\n",
       "      <td>300.0</td>\n",
       "      <td>0.0</td>\n",
       "      <td>NaN</td>\n",
       "      <td>15.0</td>\n",
       "      <td>105769.230769</td>\n",
       "      <td>0.596154</td>\n",
       "      <td>0.115385</td>\n",
       "      <td>3</td>\n",
       "      <td>6.0</td>\n",
       "      <td>916667.0</td>\n",
       "    </tr>\n",
       "    <tr>\n",
       "      <td>23691</td>\n",
       "      <td>11</td>\n",
       "      <td>9470000.0</td>\n",
       "      <td>72.90</td>\n",
       "      <td>2016-10-13</td>\n",
       "      <td>2</td>\n",
       "      <td>2.750000</td>\n",
       "      <td>25.0</td>\n",
       "      <td>40.300</td>\n",
       "      <td>7</td>\n",
       "      <td>True</td>\n",
       "      <td>...</td>\n",
       "      <td>NaN</td>\n",
       "      <td>1.0</td>\n",
       "      <td>806.0</td>\n",
       "      <td>519.0</td>\n",
       "      <td>129903.978052</td>\n",
       "      <td>0.552812</td>\n",
       "      <td>0.145405</td>\n",
       "      <td>3</td>\n",
       "      <td>4.0</td>\n",
       "      <td>2367500.0</td>\n",
       "    </tr>\n",
       "    <tr>\n",
       "      <td>23694</td>\n",
       "      <td>9</td>\n",
       "      <td>9700000.0</td>\n",
       "      <td>133.81</td>\n",
       "      <td>2017-03-21</td>\n",
       "      <td>3</td>\n",
       "      <td>3.700000</td>\n",
       "      <td>5.0</td>\n",
       "      <td>73.300</td>\n",
       "      <td>3</td>\n",
       "      <td>True</td>\n",
       "      <td>...</td>\n",
       "      <td>796.0</td>\n",
       "      <td>3.0</td>\n",
       "      <td>381.0</td>\n",
       "      <td>NaN</td>\n",
       "      <td>72490.845228</td>\n",
       "      <td>0.547792</td>\n",
       "      <td>0.103356</td>\n",
       "      <td>1</td>\n",
       "      <td>4.0</td>\n",
       "      <td>2425000.0</td>\n",
       "    </tr>\n",
       "    <tr>\n",
       "      <td>23697</td>\n",
       "      <td>13</td>\n",
       "      <td>11475000.0</td>\n",
       "      <td>76.75</td>\n",
       "      <td>2017-03-28</td>\n",
       "      <td>2</td>\n",
       "      <td>3.000000</td>\n",
       "      <td>17.0</td>\n",
       "      <td>42.980</td>\n",
       "      <td>12</td>\n",
       "      <td>True</td>\n",
       "      <td>...</td>\n",
       "      <td>173.0</td>\n",
       "      <td>3.0</td>\n",
       "      <td>196.0</td>\n",
       "      <td>602.0</td>\n",
       "      <td>149511.400651</td>\n",
       "      <td>0.560000</td>\n",
       "      <td>0.303583</td>\n",
       "      <td>1</td>\n",
       "      <td>10.0</td>\n",
       "      <td>1147500.0</td>\n",
       "    </tr>\n",
       "  </tbody>\n",
       "</table>\n",
       "<p>15721 rows × 28 columns</p>\n",
       "</div>"
      ],
      "text/plain": [
       "       total_images  last_price  total_area first_day_exposition  rooms  \\\n",
       "0                20  13000000.0      108.00           2019-03-07      3   \n",
       "2                10   5196000.0       56.00           2015-08-20      2   \n",
       "3                 0  64900000.0      159.00           2015-07-24      3   \n",
       "4                 2  10000000.0      100.00           2018-06-19      2   \n",
       "7                 5   7915000.0       71.60           2019-04-18      2   \n",
       "...             ...         ...         ...                  ...    ...   \n",
       "23689            13   3550000.0       35.30           2018-02-28      1   \n",
       "23690             3   5500000.0       52.00           2018-07-19      2   \n",
       "23691            11   9470000.0       72.90           2016-10-13      2   \n",
       "23694             9   9700000.0      133.81           2017-03-21      3   \n",
       "23697            13  11475000.0       76.75           2017-03-28      2   \n",
       "\n",
       "       ceiling_height  floors_total  living_area  floor  is_apartment  ...  \\\n",
       "0            2.700000          16.0       51.000      8          True  ...   \n",
       "2            2.771499           5.0       34.300      4          True  ...   \n",
       "3            2.771499          14.0       89.040      9          True  ...   \n",
       "4            3.030000          14.0       32.000     13          True  ...   \n",
       "7            2.771499          24.0       40.096     22          True  ...   \n",
       "...               ...           ...          ...    ...           ...  ...   \n",
       "23689        2.860000          15.0       16.300      4          True  ...   \n",
       "23690        2.771499           5.0       31.000      2          True  ...   \n",
       "23691        2.750000          25.0       40.300      7          True  ...   \n",
       "23694        3.700000           5.0       73.300      3          True  ...   \n",
       "23697        3.000000          17.0       42.980     12          True  ...   \n",
       "\n",
       "       parks_nearest  ponds_around3000  ponds_nearest  days_exposition  \\\n",
       "0              482.0               2.0          755.0              NaN   \n",
       "2               90.0               2.0          574.0            558.0   \n",
       "3               84.0               3.0          234.0            424.0   \n",
       "4              112.0               1.0           48.0            121.0   \n",
       "7                NaN               0.0            NaN              NaN   \n",
       "...              ...               ...            ...              ...   \n",
       "23689          353.0               2.0          652.0             29.0   \n",
       "23690          300.0               0.0            NaN             15.0   \n",
       "23691            NaN               1.0          806.0            519.0   \n",
       "23694          796.0               3.0          381.0              NaN   \n",
       "23697          173.0               3.0          196.0            602.0   \n",
       "\n",
       "      price_per_meter  living_share  kitchen_share  weekday  \\\n",
       "0       120370.370370      0.472222       0.231481        3   \n",
       "2        92785.714286      0.612500       0.148214        3   \n",
       "3       408176.100629      0.560000       0.180000        4   \n",
       "4       100000.000000      0.320000       0.410000        1   \n",
       "7       110544.692737      0.560000       0.263966        3   \n",
       "...               ...           ...            ...      ...   \n",
       "23689   100566.572238      0.461756       0.257790        2   \n",
       "23690   105769.230769      0.596154       0.115385        3   \n",
       "23691   129903.978052      0.552812       0.145405        3   \n",
       "23694    72490.845228      0.547792       0.103356        1   \n",
       "23697   149511.400651      0.560000       0.303583        1   \n",
       "\n",
       "       cityCenters_nearest_km  km_mean_price  \n",
       "0                        16.0       812500.0  \n",
       "2                        14.0       371143.0  \n",
       "3                         7.0      9271429.0  \n",
       "4                         8.0      1250000.0  \n",
       "7                        12.0       659583.0  \n",
       "...                       ...            ...  \n",
       "23689                    16.0       221875.0  \n",
       "23690                     6.0       916667.0  \n",
       "23691                     4.0      2367500.0  \n",
       "23694                     4.0      2425000.0  \n",
       "23697                    10.0      1147500.0  \n",
       "\n",
       "[15721 rows x 28 columns]"
      ]
     },
     "metadata": {},
     "output_type": "display_data"
    }
   ],
   "source": [
    "df_spb['km_mean_price'] = (df_spb['last_price'] / df_spb['cityCenters_nearest_km']).round()\n",
    "display(df_spb)"
   ]
  },
  {
   "cell_type": "markdown",
   "metadata": {},
   "source": [
    "**Посчитали среднюю цену для каждого километра.**"
   ]
  },
  {
   "cell_type": "code",
   "execution_count": 41,
   "metadata": {},
   "outputs": [
    {
     "data": {
      "image/png": "[encoded data removed]",
      "text/plain": [
       "<Figure size 432x288 with 1 Axes>"
      ]
     },
     "metadata": {
      "needs_background": "light"
     },
     "output_type": "display_data"
    }
   ],
   "source": [
    "df_spb.plot(x='cityCenters_nearest_km', y='km_mean_price', style='o', grid=True)\n",
    "plt.show()"
   ]
  },
  {
   "cell_type": "markdown",
   "metadata": {},
   "source": [
    "**Кажется график меняется в районе 8км, это можно считать центральной зоной.**"
   ]
  },
  {
   "cell_type": "markdown",
   "metadata": {},
   "source": [
    "### Выделим сегмент квартир в центре. Изучим следующие параметры: площадь, цена, число комнат, высота потолков. Также выделим факторы, которые влияют на стоимость квартиры (число комнат, этаж, удалённость от центра, дата размещения объявления)."
   ]
  },
  {
   "cell_type": "code",
   "execution_count": 42,
   "metadata": {},
   "outputs": [
    {
     "data": {
      "text/html": [
       "<div>\n",
       "<style scoped>\n",
       "    .dataframe tbody tr th:only-of-type {\n",
       "        vertical-align: middle;\n",
       "    }\n",
       "\n",
       "    .dataframe tbody tr th {\n",
       "        vertical-align: top;\n",
       "    }\n",
       "\n",
       "    .dataframe thead th {\n",
       "        text-align: right;\n",
       "    }\n",
       "</style>\n",
       "<table border=\"1\" class=\"dataframe\">\n",
       "  <thead>\n",
       "    <tr style=\"text-align: right;\">\n",
       "      <th></th>\n",
       "      <th>total_images</th>\n",
       "      <th>last_price</th>\n",
       "      <th>total_area</th>\n",
       "      <th>first_day_exposition</th>\n",
       "      <th>rooms</th>\n",
       "      <th>ceiling_height</th>\n",
       "      <th>floors_total</th>\n",
       "      <th>living_area</th>\n",
       "      <th>floor</th>\n",
       "      <th>is_apartment</th>\n",
       "      <th>...</th>\n",
       "      <th>parks_nearest</th>\n",
       "      <th>ponds_around3000</th>\n",
       "      <th>ponds_nearest</th>\n",
       "      <th>days_exposition</th>\n",
       "      <th>price_per_meter</th>\n",
       "      <th>living_share</th>\n",
       "      <th>kitchen_share</th>\n",
       "      <th>weekday</th>\n",
       "      <th>cityCenters_nearest_km</th>\n",
       "      <th>km_mean_price</th>\n",
       "    </tr>\n",
       "  </thead>\n",
       "  <tbody>\n",
       "    <tr>\n",
       "      <td>3</td>\n",
       "      <td>0</td>\n",
       "      <td>64900000.0</td>\n",
       "      <td>159.0</td>\n",
       "      <td>2015-07-24</td>\n",
       "      <td>3</td>\n",
       "      <td>2.771499</td>\n",
       "      <td>14.0</td>\n",
       "      <td>89.04</td>\n",
       "      <td>9</td>\n",
       "      <td>True</td>\n",
       "      <td>...</td>\n",
       "      <td>84.0</td>\n",
       "      <td>3.0</td>\n",
       "      <td>234.0</td>\n",
       "      <td>424.0</td>\n",
       "      <td>408176.100629</td>\n",
       "      <td>0.560000</td>\n",
       "      <td>0.180000</td>\n",
       "      <td>4</td>\n",
       "      <td>7.0</td>\n",
       "      <td>9271429.0</td>\n",
       "    </tr>\n",
       "    <tr>\n",
       "      <td>4</td>\n",
       "      <td>2</td>\n",
       "      <td>10000000.0</td>\n",
       "      <td>100.0</td>\n",
       "      <td>2018-06-19</td>\n",
       "      <td>2</td>\n",
       "      <td>3.030000</td>\n",
       "      <td>14.0</td>\n",
       "      <td>32.00</td>\n",
       "      <td>13</td>\n",
       "      <td>True</td>\n",
       "      <td>...</td>\n",
       "      <td>112.0</td>\n",
       "      <td>1.0</td>\n",
       "      <td>48.0</td>\n",
       "      <td>121.0</td>\n",
       "      <td>100000.000000</td>\n",
       "      <td>0.320000</td>\n",
       "      <td>0.410000</td>\n",
       "      <td>1</td>\n",
       "      <td>8.0</td>\n",
       "      <td>1250000.0</td>\n",
       "    </tr>\n",
       "    <tr>\n",
       "      <td>24</td>\n",
       "      <td>8</td>\n",
       "      <td>6500000.0</td>\n",
       "      <td>97.2</td>\n",
       "      <td>2015-10-31</td>\n",
       "      <td>2</td>\n",
       "      <td>2.771499</td>\n",
       "      <td>3.0</td>\n",
       "      <td>46.50</td>\n",
       "      <td>1</td>\n",
       "      <td>True</td>\n",
       "      <td>...</td>\n",
       "      <td>411.0</td>\n",
       "      <td>3.0</td>\n",
       "      <td>124.0</td>\n",
       "      <td>265.0</td>\n",
       "      <td>66872.427984</td>\n",
       "      <td>0.478395</td>\n",
       "      <td>0.201646</td>\n",
       "      <td>5</td>\n",
       "      <td>2.0</td>\n",
       "      <td>3250000.0</td>\n",
       "    </tr>\n",
       "    <tr>\n",
       "      <td>35</td>\n",
       "      <td>6</td>\n",
       "      <td>15500000.0</td>\n",
       "      <td>149.0</td>\n",
       "      <td>2017-06-26</td>\n",
       "      <td>5</td>\n",
       "      <td>2.771499</td>\n",
       "      <td>5.0</td>\n",
       "      <td>104.00</td>\n",
       "      <td>4</td>\n",
       "      <td>True</td>\n",
       "      <td>...</td>\n",
       "      <td>NaN</td>\n",
       "      <td>1.0</td>\n",
       "      <td>779.0</td>\n",
       "      <td>644.0</td>\n",
       "      <td>104026.845638</td>\n",
       "      <td>0.697987</td>\n",
       "      <td>0.114094</td>\n",
       "      <td>0</td>\n",
       "      <td>4.0</td>\n",
       "      <td>3875000.0</td>\n",
       "    </tr>\n",
       "    <tr>\n",
       "      <td>51</td>\n",
       "      <td>7</td>\n",
       "      <td>45000000.0</td>\n",
       "      <td>161.0</td>\n",
       "      <td>2017-10-17</td>\n",
       "      <td>3</td>\n",
       "      <td>3.200000</td>\n",
       "      <td>8.0</td>\n",
       "      <td>38.00</td>\n",
       "      <td>4</td>\n",
       "      <td>True</td>\n",
       "      <td>...</td>\n",
       "      <td>NaN</td>\n",
       "      <td>3.0</td>\n",
       "      <td>99.0</td>\n",
       "      <td>541.0</td>\n",
       "      <td>279503.105590</td>\n",
       "      <td>0.236025</td>\n",
       "      <td>0.310559</td>\n",
       "      <td>1</td>\n",
       "      <td>7.0</td>\n",
       "      <td>6428571.0</td>\n",
       "    </tr>\n",
       "    <tr>\n",
       "      <td>52</td>\n",
       "      <td>20</td>\n",
       "      <td>11795000.0</td>\n",
       "      <td>136.0</td>\n",
       "      <td>2017-09-22</td>\n",
       "      <td>6</td>\n",
       "      <td>3.000000</td>\n",
       "      <td>2.0</td>\n",
       "      <td>94.00</td>\n",
       "      <td>2</td>\n",
       "      <td>True</td>\n",
       "      <td>...</td>\n",
       "      <td>526.0</td>\n",
       "      <td>0.0</td>\n",
       "      <td>NaN</td>\n",
       "      <td>NaN</td>\n",
       "      <td>86727.941176</td>\n",
       "      <td>0.691176</td>\n",
       "      <td>0.080882</td>\n",
       "      <td>4</td>\n",
       "      <td>7.0</td>\n",
       "      <td>1685000.0</td>\n",
       "    </tr>\n",
       "    <tr>\n",
       "      <td>61</td>\n",
       "      <td>18</td>\n",
       "      <td>7990000.0</td>\n",
       "      <td>74.0</td>\n",
       "      <td>2017-08-24</td>\n",
       "      <td>2</td>\n",
       "      <td>2.771499</td>\n",
       "      <td>4.0</td>\n",
       "      <td>43.00</td>\n",
       "      <td>4</td>\n",
       "      <td>True</td>\n",
       "      <td>...</td>\n",
       "      <td>363.0</td>\n",
       "      <td>0.0</td>\n",
       "      <td>NaN</td>\n",
       "      <td>609.0</td>\n",
       "      <td>107972.972973</td>\n",
       "      <td>0.581081</td>\n",
       "      <td>0.270270</td>\n",
       "      <td>3</td>\n",
       "      <td>4.0</td>\n",
       "      <td>1997500.0</td>\n",
       "    </tr>\n",
       "    <tr>\n",
       "      <td>63</td>\n",
       "      <td>2</td>\n",
       "      <td>20000000.0</td>\n",
       "      <td>118.0</td>\n",
       "      <td>2018-09-11</td>\n",
       "      <td>3</td>\n",
       "      <td>3.000000</td>\n",
       "      <td>9.0</td>\n",
       "      <td>68.00</td>\n",
       "      <td>7</td>\n",
       "      <td>True</td>\n",
       "      <td>...</td>\n",
       "      <td>648.0</td>\n",
       "      <td>1.0</td>\n",
       "      <td>779.0</td>\n",
       "      <td>37.0</td>\n",
       "      <td>169491.525424</td>\n",
       "      <td>0.576271</td>\n",
       "      <td>0.135593</td>\n",
       "      <td>1</td>\n",
       "      <td>5.0</td>\n",
       "      <td>4000000.0</td>\n",
       "    </tr>\n",
       "    <tr>\n",
       "      <td>70</td>\n",
       "      <td>9</td>\n",
       "      <td>3400000.0</td>\n",
       "      <td>30.0</td>\n",
       "      <td>2018-09-05</td>\n",
       "      <td>1</td>\n",
       "      <td>2.771499</td>\n",
       "      <td>5.0</td>\n",
       "      <td>16.00</td>\n",
       "      <td>1</td>\n",
       "      <td>True</td>\n",
       "      <td>...</td>\n",
       "      <td>382.0</td>\n",
       "      <td>0.0</td>\n",
       "      <td>NaN</td>\n",
       "      <td>14.0</td>\n",
       "      <td>113333.333333</td>\n",
       "      <td>0.533333</td>\n",
       "      <td>0.233333</td>\n",
       "      <td>2</td>\n",
       "      <td>8.0</td>\n",
       "      <td>425000.0</td>\n",
       "    </tr>\n",
       "    <tr>\n",
       "      <td>94</td>\n",
       "      <td>3</td>\n",
       "      <td>3500000.0</td>\n",
       "      <td>29.5</td>\n",
       "      <td>2019-04-26</td>\n",
       "      <td>1</td>\n",
       "      <td>2.500000</td>\n",
       "      <td>5.0</td>\n",
       "      <td>15.60</td>\n",
       "      <td>2</td>\n",
       "      <td>True</td>\n",
       "      <td>...</td>\n",
       "      <td>NaN</td>\n",
       "      <td>0.0</td>\n",
       "      <td>NaN</td>\n",
       "      <td>4.0</td>\n",
       "      <td>118644.067797</td>\n",
       "      <td>0.528814</td>\n",
       "      <td>0.186441</td>\n",
       "      <td>4</td>\n",
       "      <td>7.0</td>\n",
       "      <td>500000.0</td>\n",
       "    </tr>\n",
       "  </tbody>\n",
       "</table>\n",
       "<p>10 rows × 28 columns</p>\n",
       "</div>"
      ],
      "text/plain": [
       "    total_images  last_price  total_area first_day_exposition  rooms  \\\n",
       "3              0  64900000.0       159.0           2015-07-24      3   \n",
       "4              2  10000000.0       100.0           2018-06-19      2   \n",
       "24             8   6500000.0        97.2           2015-10-31      2   \n",
       "35             6  15500000.0       149.0           2017-06-26      5   \n",
       "51             7  45000000.0       161.0           2017-10-17      3   \n",
       "52            20  11795000.0       136.0           2017-09-22      6   \n",
       "61            18   7990000.0        74.0           2017-08-24      2   \n",
       "63             2  20000000.0       118.0           2018-09-11      3   \n",
       "70             9   3400000.0        30.0           2018-09-05      1   \n",
       "94             3   3500000.0        29.5           2019-04-26      1   \n",
       "\n",
       "    ceiling_height  floors_total  living_area  floor  is_apartment  ...  \\\n",
       "3         2.771499          14.0        89.04      9          True  ...   \n",
       "4         3.030000          14.0        32.00     13          True  ...   \n",
       "24        2.771499           3.0        46.50      1          True  ...   \n",
       "35        2.771499           5.0       104.00      4          True  ...   \n",
       "51        3.200000           8.0        38.00      4          True  ...   \n",
       "52        3.000000           2.0        94.00      2          True  ...   \n",
       "61        2.771499           4.0        43.00      4          True  ...   \n",
       "63        3.000000           9.0        68.00      7          True  ...   \n",
       "70        2.771499           5.0        16.00      1          True  ...   \n",
       "94        2.500000           5.0        15.60      2          True  ...   \n",
       "\n",
       "    parks_nearest  ponds_around3000  ponds_nearest  days_exposition  \\\n",
       "3            84.0               3.0          234.0            424.0   \n",
       "4           112.0               1.0           48.0            121.0   \n",
       "24          411.0               3.0          124.0            265.0   \n",
       "35            NaN               1.0          779.0            644.0   \n",
       "51            NaN               3.0           99.0            541.0   \n",
       "52          526.0               0.0            NaN              NaN   \n",
       "61          363.0               0.0            NaN            609.0   \n",
       "63          648.0               1.0          779.0             37.0   \n",
       "70          382.0               0.0            NaN             14.0   \n",
       "94            NaN               0.0            NaN              4.0   \n",
       "\n",
       "   price_per_meter  living_share  kitchen_share  weekday  \\\n",
       "3    408176.100629      0.560000       0.180000        4   \n",
       "4    100000.000000      0.320000       0.410000        1   \n",
       "24    66872.427984      0.478395       0.201646        5   \n",
       "35   104026.845638      0.697987       0.114094        0   \n",
       "51   279503.105590      0.236025       0.310559        1   \n",
       "52    86727.941176      0.691176       0.080882        4   \n",
       "61   107972.972973      0.581081       0.270270        3   \n",
       "63   169491.525424      0.576271       0.135593        1   \n",
       "70   113333.333333      0.533333       0.233333        2   \n",
       "94   118644.067797      0.528814       0.186441        4   \n",
       "\n",
       "    cityCenters_nearest_km  km_mean_price  \n",
       "3                      7.0      9271429.0  \n",
       "4                      8.0      1250000.0  \n",
       "24                     2.0      3250000.0  \n",
       "35                     4.0      3875000.0  \n",
       "51                     7.0      6428571.0  \n",
       "52                     7.0      1685000.0  \n",
       "61                     4.0      1997500.0  \n",
       "63                     5.0      4000000.0  \n",
       "70                     8.0       425000.0  \n",
       "94                     7.0       500000.0  \n",
       "\n",
       "[10 rows x 28 columns]"
      ]
     },
     "metadata": {},
     "output_type": "display_data"
    }
   ],
   "source": [
    "df_spb_centers = df_spb.query('cityCenters_nearest_km <= 8')\n",
    "display(df_spb_centers.head(10))#сегмент квартир в центре"
   ]
  },
  {
   "cell_type": "code",
   "execution_count": 43,
   "metadata": {},
   "outputs": [
    {
     "data": {
      "text/plain": [
       "0.34054074808961077"
      ]
     },
     "execution_count": 43,
     "metadata": {},
     "output_type": "execute_result"
    }
   ],
   "source": [
    "df_spb_centers['rooms'].corr(df_spb_centers['last_price'])"
   ]
  },
  {
   "cell_type": "code",
   "execution_count": 44,
   "metadata": {
    "scrolled": true
   },
   "outputs": [
    {
     "data": {
      "image/png": "[encoded data removed]",
      "text/plain": [
       "<Figure size 432x288 with 1 Axes>"
      ]
     },
     "metadata": {
      "needs_background": "light"
     },
     "output_type": "display_data"
    }
   ],
   "source": [
    "df_spb_centers.plot(x='rooms', y='last_price', style='o', grid=True)\n",
    "plt.show()"
   ]
  },
  {
   "cell_type": "code",
   "execution_count": 45,
   "metadata": {},
   "outputs": [
    {
     "data": {
      "text/plain": [
       "0.11069254892494505"
      ]
     },
     "execution_count": 45,
     "metadata": {},
     "output_type": "execute_result"
    }
   ],
   "source": [
    "df_spb_centers['floor'].corr(df_spb_centers['last_price'])"
   ]
  },
  {
   "cell_type": "code",
   "execution_count": 46,
   "metadata": {},
   "outputs": [
    {
     "data": {
      "image/png": "[encoded data removed]",
      "text/plain": [
       "<Figure size 432x288 with 1 Axes>"
      ]
     },
     "metadata": {
      "needs_background": "light"
     },
     "output_type": "display_data"
    }
   ],
   "source": [
    "df_spb_centers.plot(x='floor', y='last_price', style='o', grid=True)\n",
    "plt.show()"
   ]
  },
  {
   "cell_type": "code",
   "execution_count": 47,
   "metadata": {},
   "outputs": [
    {
     "data": {
      "text/plain": [
       "-0.07602026670211756"
      ]
     },
     "execution_count": 47,
     "metadata": {},
     "output_type": "execute_result"
    }
   ],
   "source": [
    "df_spb_centers['cityCenters_nearest_km'].corr(df_spb_centers['last_price'])"
   ]
  },
  {
   "cell_type": "code",
   "execution_count": 48,
   "metadata": {},
   "outputs": [
    {
     "data": {
      "image/png": "[encoded data removed]",
      "text/plain": [
       "<Figure size 432x288 with 1 Axes>"
      ]
     },
     "metadata": {
      "needs_background": "light"
     },
     "output_type": "display_data"
    }
   ],
   "source": [
    "df_spb_centers.plot(x='cityCenters_nearest_km', y='last_price', style='o', grid=True)\n",
    "plt.show()"
   ]
  },
  {
   "cell_type": "code",
   "execution_count": 49,
   "metadata": {
    "scrolled": true
   },
   "outputs": [
    {
     "data": {
      "image/png": "[encoded data removed]",
      "text/plain": [
       "<Figure size 432x288 with 1 Axes>"
      ]
     },
     "metadata": {
      "needs_background": "light"
     },
     "output_type": "display_data"
    }
   ],
   "source": [
    "df_spb_centers.plot(x='first_day_exposition', y='last_price', style='o', grid=True)\n",
    "plt.show()"
   ]
  },
  {
   "cell_type": "markdown",
   "metadata": {},
   "source": [
    "**Судя по коэффициентам корреляции и графикам, для сегмента квартир в центре, зависимость от количества комнат, даты размещения и этажа - очень низкая.**"
   ]
  },
  {
   "cell_type": "markdown",
   "metadata": {},
   "source": [
    "## Общий вывод"
   ]
  },
  {
   "cell_type": "markdown",
   "metadata": {},
   "source": [
    "# В нашем распоряжении были данные сервиса Яндекс.Недвижимость — архив объявлений о продаже квартир в Санкт-Петербурге и соседних населённых пунктах за несколько лет. Мы обработали данные заполнив пропущенные значения подходящими, и изменив тип некоторых данных. Также установили параметры которые могут влиять на рыночную стоимость объектов недвижимости. Установили какая зависимость прослеживается между теми или иными параметрами и как они связаны между собой. "
   ]
  }
 ],
 "metadata": {
  "ExecuteTimeLog": [
   {
    "duration": 597,
    "start_time": "2021-11-12T12:17:14.230Z"
   },
   {
    "duration": 62,
    "start_time": "2021-11-12T12:17:34.389Z"
   },
   {
    "duration": 64,
    "start_time": "2021-11-12T12:18:50.481Z"
   },
   {
    "duration": 61,
    "start_time": "2021-11-12T12:18:56.615Z"
   },
   {
    "duration": 59,
    "start_time": "2021-11-12T12:19:05.259Z"
   },
   {
    "duration": 60,
    "start_time": "2021-11-12T12:19:10.829Z"
   },
   {
    "duration": 60,
    "start_time": "2021-11-12T12:19:36.008Z"
   },
   {
    "duration": 57,
    "start_time": "2021-11-12T12:19:56.490Z"
   },
   {
    "duration": 63,
    "start_time": "2021-11-12T12:20:01.520Z"
   },
   {
    "duration": 85,
    "start_time": "2021-11-12T12:20:25.939Z"
   },
   {
    "duration": 94,
    "start_time": "2021-11-12T12:20:33.859Z"
   },
   {
    "duration": 81,
    "start_time": "2021-11-12T12:21:55.893Z"
   },
   {
    "duration": 85,
    "start_time": "2021-11-12T12:23:19.050Z"
   },
   {
    "duration": 73,
    "start_time": "2021-11-12T12:30:04.189Z"
   },
   {
    "duration": 84,
    "start_time": "2021-11-12T12:30:58.653Z"
   },
   {
    "duration": 4,
    "start_time": "2021-11-12T12:31:50.396Z"
   },
   {
    "duration": 4483,
    "start_time": "2021-11-12T12:32:38.125Z"
   },
   {
    "duration": 4563,
    "start_time": "2021-11-12T12:32:48.656Z"
   },
   {
    "duration": 5,
    "start_time": "2021-11-12T12:33:35.582Z"
   },
   {
    "duration": 12,
    "start_time": "2021-11-12T12:35:01.559Z"
   },
   {
    "duration": 212,
    "start_time": "2021-11-12T12:55:11.087Z"
   },
   {
    "duration": 15,
    "start_time": "2021-11-12T12:55:21.130Z"
   },
   {
    "duration": 14,
    "start_time": "2021-11-12T12:55:34.384Z"
   },
   {
    "duration": 24,
    "start_time": "2021-11-12T12:55:44.321Z"
   },
   {
    "duration": 25,
    "start_time": "2021-11-12T12:58:14.589Z"
   },
   {
    "duration": 201,
    "start_time": "2021-11-12T13:06:39.995Z"
   },
   {
    "duration": 31,
    "start_time": "2021-11-12T13:06:58.193Z"
   },
   {
    "duration": 17,
    "start_time": "2021-11-12T13:07:17.465Z"
   },
   {
    "duration": 30,
    "start_time": "2021-11-12T13:07:36.294Z"
   },
   {
    "duration": 28,
    "start_time": "2021-11-12T13:14:27.739Z"
   },
   {
    "duration": 20,
    "start_time": "2021-11-12T13:17:01.835Z"
   },
   {
    "duration": 32,
    "start_time": "2021-11-12T13:18:17.079Z"
   },
   {
    "duration": 27,
    "start_time": "2021-11-12T13:26:30.415Z"
   },
   {
    "duration": 23,
    "start_time": "2021-11-12T13:26:39.225Z"
   },
   {
    "duration": 9,
    "start_time": "2021-11-12T13:27:32.478Z"
   },
   {
    "duration": 14,
    "start_time": "2021-11-12T13:28:43.917Z"
   },
   {
    "duration": 11,
    "start_time": "2021-11-12T13:28:56.188Z"
   },
   {
    "duration": 12,
    "start_time": "2021-11-12T13:29:18.604Z"
   },
   {
    "duration": 10,
    "start_time": "2021-11-12T13:31:35.035Z"
   },
   {
    "duration": 85,
    "start_time": "2021-11-12T13:32:09.908Z"
   },
   {
    "duration": 9,
    "start_time": "2021-11-12T13:32:09.995Z"
   },
   {
    "duration": 35,
    "start_time": "2021-11-12T13:32:10.006Z"
   },
   {
    "duration": 8,
    "start_time": "2021-11-12T13:32:10.042Z"
   },
   {
    "duration": 14,
    "start_time": "2021-11-12T13:37:57.066Z"
   },
   {
    "duration": 16,
    "start_time": "2021-11-12T13:42:09.935Z"
   },
   {
    "duration": 188,
    "start_time": "2021-11-12T13:43:00.619Z"
   },
   {
    "duration": 200,
    "start_time": "2021-11-12T13:47:51.018Z"
   },
   {
    "duration": 183,
    "start_time": "2021-11-12T13:48:53.560Z"
   },
   {
    "duration": 225,
    "start_time": "2021-11-12T13:49:06.799Z"
   },
   {
    "duration": 37,
    "start_time": "2021-11-12T13:49:12.454Z"
   },
   {
    "duration": 693,
    "start_time": "2021-11-12T13:49:41.378Z"
   },
   {
    "duration": 1884,
    "start_time": "2021-11-12T13:50:42.257Z"
   },
   {
    "duration": 84,
    "start_time": "2021-11-12T13:51:05.014Z"
   },
   {
    "duration": 12,
    "start_time": "2021-11-12T13:51:05.100Z"
   },
   {
    "duration": 35,
    "start_time": "2021-11-12T13:51:05.114Z"
   },
   {
    "duration": 8,
    "start_time": "2021-11-12T13:51:05.150Z"
   },
   {
    "duration": 38,
    "start_time": "2021-11-12T13:51:05.160Z"
   },
   {
    "duration": 15,
    "start_time": "2021-11-12T13:51:05.199Z"
   },
   {
    "duration": 188,
    "start_time": "2021-11-12T13:52:42.142Z"
   },
   {
    "duration": 12,
    "start_time": "2021-11-12T13:52:59.978Z"
   },
   {
    "duration": 83,
    "start_time": "2021-11-12T13:53:10.852Z"
   },
   {
    "duration": 10,
    "start_time": "2021-11-12T13:53:10.936Z"
   },
   {
    "duration": 46,
    "start_time": "2021-11-12T13:53:10.948Z"
   },
   {
    "duration": 9,
    "start_time": "2021-11-12T13:53:10.995Z"
   },
   {
    "duration": 10,
    "start_time": "2021-11-12T13:53:11.005Z"
   },
   {
    "duration": 14,
    "start_time": "2021-11-12T13:53:11.017Z"
   },
   {
    "duration": 13,
    "start_time": "2021-11-12T13:55:11.236Z"
   },
   {
    "duration": 2,
    "start_time": "2021-11-12T14:00:33.700Z"
   },
   {
    "duration": 1030,
    "start_time": "2021-11-13T13:48:37.078Z"
   },
   {
    "duration": 19,
    "start_time": "2021-11-13T13:48:38.111Z"
   },
   {
    "duration": 75,
    "start_time": "2021-11-13T13:48:38.133Z"
   },
   {
    "duration": 16,
    "start_time": "2021-11-13T13:48:38.211Z"
   },
   {
    "duration": 51,
    "start_time": "2021-11-13T13:48:38.230Z"
   },
   {
    "duration": 26,
    "start_time": "2021-11-13T13:48:38.284Z"
   },
   {
    "duration": 30,
    "start_time": "2021-11-13T13:59:19.316Z"
   },
   {
    "duration": 42,
    "start_time": "2021-11-13T13:59:30.471Z"
   },
   {
    "duration": 760,
    "start_time": "2021-11-13T14:14:30.523Z"
   },
   {
    "duration": 9664,
    "start_time": "2021-11-13T14:21:02.802Z"
   },
   {
    "duration": 2000,
    "start_time": "2021-11-13T14:27:42.922Z"
   },
   {
    "duration": 438,
    "start_time": "2021-11-13T14:32:23.236Z"
   },
   {
    "duration": 449,
    "start_time": "2021-11-13T14:32:29.345Z"
   },
   {
    "duration": 411,
    "start_time": "2021-11-13T14:32:52.097Z"
   },
   {
    "duration": 377,
    "start_time": "2021-11-13T14:43:11.247Z"
   },
   {
    "duration": 1801,
    "start_time": "2021-11-13T14:43:39.007Z"
   },
   {
    "duration": 127,
    "start_time": "2021-11-13T14:49:52.371Z"
   },
   {
    "duration": 15,
    "start_time": "2021-11-13T14:49:52.501Z"
   },
   {
    "duration": 79,
    "start_time": "2021-11-13T14:49:52.519Z"
   },
   {
    "duration": 12,
    "start_time": "2021-11-13T14:49:52.601Z"
   },
   {
    "duration": 15,
    "start_time": "2021-11-13T14:49:52.616Z"
   },
   {
    "duration": 33,
    "start_time": "2021-11-13T14:49:52.658Z"
   },
   {
    "duration": 79,
    "start_time": "2021-11-13T14:49:52.694Z"
   },
   {
    "duration": 9861,
    "start_time": "2021-11-13T14:49:52.777Z"
   },
   {
    "duration": 31,
    "start_time": "2021-11-13T14:50:15.944Z"
   },
   {
    "duration": 45,
    "start_time": "2021-11-13T14:50:24.146Z"
   },
   {
    "duration": 1023,
    "start_time": "2021-11-13T14:51:44.721Z"
   },
   {
    "duration": 466,
    "start_time": "2021-11-13T14:52:05.212Z"
   },
   {
    "duration": 392,
    "start_time": "2021-11-13T14:52:21.556Z"
   },
   {
    "duration": 598,
    "start_time": "2021-11-13T14:53:19.540Z"
   },
   {
    "duration": 602,
    "start_time": "2021-11-13T14:53:58.636Z"
   },
   {
    "duration": 646,
    "start_time": "2021-11-13T14:54:47.671Z"
   },
   {
    "duration": 1174,
    "start_time": "2021-11-13T14:55:00.770Z"
   },
   {
    "duration": 120,
    "start_time": "2021-11-13T14:55:25.522Z"
   },
   {
    "duration": 723,
    "start_time": "2021-11-13T14:55:30.973Z"
   },
   {
    "duration": 657,
    "start_time": "2021-11-13T14:55:35.615Z"
   },
   {
    "duration": 1226,
    "start_time": "2021-11-13T14:55:40.633Z"
   },
   {
    "duration": 45,
    "start_time": "2021-11-13T14:55:56.131Z"
   },
   {
    "duration": 629,
    "start_time": "2021-11-13T14:58:03.484Z"
   },
   {
    "duration": 121,
    "start_time": "2021-11-13T14:58:10.094Z"
   },
   {
    "duration": 121,
    "start_time": "2021-11-13T14:58:14.204Z"
   },
   {
    "duration": 139,
    "start_time": "2021-11-13T14:58:22.885Z"
   },
   {
    "duration": 599,
    "start_time": "2021-11-13T14:58:29.426Z"
   },
   {
    "duration": 621,
    "start_time": "2021-11-13T14:58:33.621Z"
   },
   {
    "duration": 34,
    "start_time": "2021-11-13T14:58:37.684Z"
   },
   {
    "duration": 448,
    "start_time": "2021-11-13T15:03:58.979Z"
   },
   {
    "duration": 391,
    "start_time": "2021-11-13T15:04:08.888Z"
   },
   {
    "duration": 381,
    "start_time": "2021-11-13T15:04:39.341Z"
   },
   {
    "duration": 35,
    "start_time": "2021-11-13T15:05:36.778Z"
   },
   {
    "duration": 38,
    "start_time": "2021-11-13T15:11:24.899Z"
   },
   {
    "duration": 46,
    "start_time": "2021-11-13T15:12:21.432Z"
   },
   {
    "duration": 34,
    "start_time": "2021-11-13T15:12:25.495Z"
   },
   {
    "duration": 37,
    "start_time": "2021-11-13T15:12:27.924Z"
   },
   {
    "duration": 122,
    "start_time": "2021-11-13T15:12:31.403Z"
   },
   {
    "duration": 38,
    "start_time": "2021-11-13T15:12:31.528Z"
   },
   {
    "duration": 56,
    "start_time": "2021-11-13T15:12:31.571Z"
   },
   {
    "duration": 44,
    "start_time": "2021-11-13T15:12:31.629Z"
   },
   {
    "duration": 17,
    "start_time": "2021-11-13T15:12:31.676Z"
   },
   {
    "duration": 23,
    "start_time": "2021-11-13T15:12:31.696Z"
   },
   {
    "duration": 70,
    "start_time": "2021-11-13T15:12:31.721Z"
   },
   {
    "duration": 38,
    "start_time": "2021-11-13T15:12:31.795Z"
   },
   {
    "duration": 63,
    "start_time": "2021-11-13T15:12:31.837Z"
   },
   {
    "duration": 440,
    "start_time": "2021-11-13T15:16:12.223Z"
   },
   {
    "duration": 306,
    "start_time": "2021-11-13T15:18:33.053Z"
   },
   {
    "duration": 287,
    "start_time": "2021-11-13T15:20:28.702Z"
   },
   {
    "duration": 412,
    "start_time": "2021-11-13T15:20:49.407Z"
   },
   {
    "duration": 453,
    "start_time": "2021-11-13T15:21:15.458Z"
   },
   {
    "duration": 562,
    "start_time": "2021-11-13T15:21:31.510Z"
   },
   {
    "duration": 318,
    "start_time": "2021-11-13T15:22:22.628Z"
   },
   {
    "duration": 724,
    "start_time": "2021-11-13T15:22:54.473Z"
   },
   {
    "duration": 621,
    "start_time": "2021-11-13T15:22:58.681Z"
   },
   {
    "duration": 3100,
    "start_time": "2021-11-13T15:23:09.326Z"
   },
   {
    "duration": 589,
    "start_time": "2021-11-13T15:23:19.149Z"
   },
   {
    "duration": 418,
    "start_time": "2021-11-13T15:24:03.335Z"
   },
   {
    "duration": 328,
    "start_time": "2021-11-13T15:24:19.653Z"
   },
   {
    "duration": 338,
    "start_time": "2021-11-13T15:24:23.208Z"
   },
   {
    "duration": 313,
    "start_time": "2021-11-13T15:25:03.788Z"
   },
   {
    "duration": 592,
    "start_time": "2021-11-13T15:25:11.882Z"
   },
   {
    "duration": 422,
    "start_time": "2021-11-13T15:25:18.020Z"
   },
   {
    "duration": 416,
    "start_time": "2021-11-13T15:25:46.186Z"
   },
   {
    "duration": 304,
    "start_time": "2021-11-13T15:25:52.609Z"
   },
   {
    "duration": 339,
    "start_time": "2021-11-13T15:25:58.510Z"
   },
   {
    "duration": 381,
    "start_time": "2021-11-13T15:26:43.971Z"
   },
   {
    "duration": 423,
    "start_time": "2021-11-13T15:26:52.744Z"
   },
   {
    "duration": 397,
    "start_time": "2021-11-13T15:26:58.860Z"
   },
   {
    "duration": 556,
    "start_time": "2021-11-13T15:27:06.898Z"
   },
   {
    "duration": 341,
    "start_time": "2021-11-13T15:27:10.976Z"
   },
   {
    "duration": 304,
    "start_time": "2021-11-13T15:27:21.296Z"
   },
   {
    "duration": 340,
    "start_time": "2021-11-13T15:27:30.994Z"
   },
   {
    "duration": 330,
    "start_time": "2021-11-13T15:27:38.829Z"
   },
   {
    "duration": 375,
    "start_time": "2021-11-13T15:27:47.219Z"
   },
   {
    "duration": 302,
    "start_time": "2021-11-13T15:27:53.582Z"
   },
   {
    "duration": 338,
    "start_time": "2021-11-13T15:28:00.780Z"
   },
   {
    "duration": 416,
    "start_time": "2021-11-13T15:32:15.500Z"
   },
   {
    "duration": 334,
    "start_time": "2021-11-13T15:32:20.973Z"
   },
   {
    "duration": 347,
    "start_time": "2021-11-13T15:33:05.439Z"
   },
   {
    "duration": 320,
    "start_time": "2021-11-13T15:33:25.396Z"
   },
   {
    "duration": 126,
    "start_time": "2021-11-13T15:33:58.416Z"
   },
   {
    "duration": 6,
    "start_time": "2021-11-13T15:34:04.225Z"
   },
   {
    "duration": 360,
    "start_time": "2021-11-13T15:34:25.121Z"
   },
   {
    "duration": 120,
    "start_time": "2021-11-13T15:34:38.852Z"
   },
   {
    "duration": 346,
    "start_time": "2021-11-13T15:34:44.594Z"
   },
   {
    "duration": 373,
    "start_time": "2021-11-13T15:34:56.709Z"
   },
   {
    "duration": 327,
    "start_time": "2021-11-13T15:35:01.427Z"
   },
   {
    "duration": 11,
    "start_time": "2021-11-13T15:36:41.547Z"
   },
   {
    "duration": 349,
    "start_time": "2021-11-13T22:05:51.049Z"
   },
   {
    "duration": 1629,
    "start_time": "2021-11-13T22:05:57.053Z"
   },
   {
    "duration": 15,
    "start_time": "2021-11-13T22:05:58.684Z"
   },
   {
    "duration": 68,
    "start_time": "2021-11-13T22:05:58.702Z"
   },
   {
    "duration": 11,
    "start_time": "2021-11-13T22:05:58.773Z"
   },
   {
    "duration": 40,
    "start_time": "2021-11-13T22:05:58.786Z"
   },
   {
    "duration": 22,
    "start_time": "2021-11-13T22:05:58.829Z"
   },
   {
    "duration": 40,
    "start_time": "2021-11-13T22:05:58.853Z"
   },
   {
    "duration": 56,
    "start_time": "2021-11-13T22:05:58.896Z"
   },
   {
    "duration": 36,
    "start_time": "2021-11-13T22:05:58.955Z"
   },
   {
    "duration": 447,
    "start_time": "2021-11-13T22:05:58.994Z"
   },
   {
    "duration": 305,
    "start_time": "2021-11-13T22:05:59.443Z"
   },
   {
    "duration": 313,
    "start_time": "2021-11-13T22:05:59.751Z"
   },
   {
    "duration": 400,
    "start_time": "2021-11-13T22:06:00.067Z"
   },
   {
    "duration": 340,
    "start_time": "2021-11-13T22:06:00.470Z"
   },
   {
    "duration": 18,
    "start_time": "2021-11-13T22:06:00.813Z"
   },
   {
    "duration": 22,
    "start_time": "2021-11-13T22:06:00.833Z"
   },
   {
    "duration": 400,
    "start_time": "2021-11-13T22:12:29.174Z"
   },
   {
    "duration": 908,
    "start_time": "2021-11-14T13:42:40.087Z"
   },
   {
    "duration": 16,
    "start_time": "2021-11-14T13:42:40.997Z"
   },
   {
    "duration": 69,
    "start_time": "2021-11-14T13:42:41.015Z"
   },
   {
    "duration": 13,
    "start_time": "2021-11-14T13:42:41.086Z"
   },
   {
    "duration": 16,
    "start_time": "2021-11-14T13:42:41.101Z"
   },
   {
    "duration": 54,
    "start_time": "2021-11-14T13:42:41.119Z"
   },
   {
    "duration": 48,
    "start_time": "2021-11-14T13:42:41.176Z"
   },
   {
    "duration": 59,
    "start_time": "2021-11-14T13:42:41.227Z"
   },
   {
    "duration": 36,
    "start_time": "2021-11-14T13:42:41.289Z"
   },
   {
    "duration": 425,
    "start_time": "2021-11-14T13:42:41.328Z"
   },
   {
    "duration": 287,
    "start_time": "2021-11-14T13:42:41.755Z"
   },
   {
    "duration": 296,
    "start_time": "2021-11-14T13:42:42.045Z"
   },
   {
    "duration": 371,
    "start_time": "2021-11-14T13:42:42.344Z"
   },
   {
    "duration": 322,
    "start_time": "2021-11-14T13:42:42.717Z"
   },
   {
    "duration": 22,
    "start_time": "2021-11-14T13:42:43.042Z"
   },
   {
    "duration": 336,
    "start_time": "2021-11-14T13:42:43.066Z"
   },
   {
    "duration": 306,
    "start_time": "2021-11-14T13:44:08.464Z"
   },
   {
    "duration": 11,
    "start_time": "2021-11-14T13:44:46.069Z"
   },
   {
    "duration": 887,
    "start_time": "2021-11-14T13:51:55.957Z"
   },
   {
    "duration": 332,
    "start_time": "2021-11-14T13:53:07.545Z"
   },
   {
    "duration": 335,
    "start_time": "2021-11-14T13:53:22.635Z"
   },
   {
    "duration": 1083,
    "start_time": "2021-11-14T13:56:45.447Z"
   },
   {
    "duration": 27,
    "start_time": "2021-11-14T13:56:46.534Z"
   },
   {
    "duration": 67,
    "start_time": "2021-11-14T13:56:46.565Z"
   },
   {
    "duration": 33,
    "start_time": "2021-11-14T13:56:46.635Z"
   },
   {
    "duration": 31,
    "start_time": "2021-11-14T13:56:46.672Z"
   },
   {
    "duration": 26,
    "start_time": "2021-11-14T13:56:46.706Z"
   },
   {
    "duration": 95,
    "start_time": "2021-11-14T13:56:46.735Z"
   },
   {
    "duration": 54,
    "start_time": "2021-11-14T13:56:46.836Z"
   },
   {
    "duration": 72,
    "start_time": "2021-11-14T13:56:46.893Z"
   },
   {
    "duration": 635,
    "start_time": "2021-11-14T13:56:46.969Z"
   },
   {
    "duration": 368,
    "start_time": "2021-11-14T13:56:47.607Z"
   },
   {
    "duration": 413,
    "start_time": "2021-11-14T13:56:47.978Z"
   },
   {
    "duration": 436,
    "start_time": "2021-11-14T13:56:48.394Z"
   },
   {
    "duration": 373,
    "start_time": "2021-11-14T13:56:48.834Z"
   },
   {
    "duration": 15,
    "start_time": "2021-11-14T13:56:49.210Z"
   },
   {
    "duration": 466,
    "start_time": "2021-11-14T13:56:49.229Z"
   },
   {
    "duration": 15,
    "start_time": "2021-11-14T13:56:49.698Z"
   },
   {
    "duration": 770,
    "start_time": "2021-11-14T13:56:49.716Z"
   },
   {
    "duration": 1152,
    "start_time": "2021-11-14T13:57:36.615Z"
   },
   {
    "duration": 23,
    "start_time": "2021-11-14T13:57:37.770Z"
   },
   {
    "duration": 104,
    "start_time": "2021-11-14T13:57:37.797Z"
   },
   {
    "duration": 13,
    "start_time": "2021-11-14T13:57:37.905Z"
   },
   {
    "duration": 24,
    "start_time": "2021-11-14T13:57:37.920Z"
   },
   {
    "duration": 24,
    "start_time": "2021-11-14T13:57:37.959Z"
   },
   {
    "duration": 41,
    "start_time": "2021-11-14T13:57:37.985Z"
   },
   {
    "duration": 66,
    "start_time": "2021-11-14T13:57:38.029Z"
   },
   {
    "duration": 39,
    "start_time": "2021-11-14T13:57:38.098Z"
   },
   {
    "duration": 453,
    "start_time": "2021-11-14T13:57:38.160Z"
   },
   {
    "duration": 308,
    "start_time": "2021-11-14T13:57:38.615Z"
   },
   {
    "duration": 309,
    "start_time": "2021-11-14T13:57:38.925Z"
   },
   {
    "duration": 399,
    "start_time": "2021-11-14T13:57:39.236Z"
   },
   {
    "duration": 333,
    "start_time": "2021-11-14T13:57:39.638Z"
   },
   {
    "duration": 12,
    "start_time": "2021-11-14T13:57:39.973Z"
   },
   {
    "duration": 348,
    "start_time": "2021-11-14T13:57:39.987Z"
   },
   {
    "duration": 22,
    "start_time": "2021-11-14T13:57:40.337Z"
   },
   {
    "duration": 956,
    "start_time": "2021-11-14T13:58:33.928Z"
   },
   {
    "duration": 15,
    "start_time": "2021-11-14T13:58:34.887Z"
   },
   {
    "duration": 67,
    "start_time": "2021-11-14T13:58:34.905Z"
   },
   {
    "duration": 17,
    "start_time": "2021-11-14T13:58:34.975Z"
   },
   {
    "duration": 57,
    "start_time": "2021-11-14T13:58:34.994Z"
   },
   {
    "duration": 39,
    "start_time": "2021-11-14T13:58:35.054Z"
   },
   {
    "duration": 46,
    "start_time": "2021-11-14T13:58:35.096Z"
   },
   {
    "duration": 53,
    "start_time": "2021-11-14T13:58:35.162Z"
   },
   {
    "duration": 78,
    "start_time": "2021-11-14T13:58:35.218Z"
   },
   {
    "duration": 451,
    "start_time": "2021-11-14T13:58:35.298Z"
   },
   {
    "duration": 332,
    "start_time": "2021-11-14T13:58:35.751Z"
   },
   {
    "duration": 313,
    "start_time": "2021-11-14T13:58:36.086Z"
   },
   {
    "duration": 405,
    "start_time": "2021-11-14T13:58:36.402Z"
   },
   {
    "duration": 330,
    "start_time": "2021-11-14T13:58:36.809Z"
   },
   {
    "duration": 26,
    "start_time": "2021-11-14T13:58:37.141Z"
   },
   {
    "duration": 341,
    "start_time": "2021-11-14T13:58:37.169Z"
   },
   {
    "duration": 13,
    "start_time": "2021-11-14T13:58:37.513Z"
   },
   {
    "duration": 895,
    "start_time": "2021-11-14T13:58:37.529Z"
   },
   {
    "duration": 6,
    "start_time": "2021-11-14T14:01:27.918Z"
   },
   {
    "duration": 653,
    "start_time": "2021-11-14T14:05:16.433Z"
   },
   {
    "duration": 456,
    "start_time": "2021-11-14T14:05:50.389Z"
   },
   {
    "duration": 1319,
    "start_time": "2021-11-14T14:07:29.627Z"
   },
   {
    "duration": 19,
    "start_time": "2021-11-14T14:07:30.948Z"
   },
   {
    "duration": 55,
    "start_time": "2021-11-14T14:07:30.971Z"
   },
   {
    "duration": 33,
    "start_time": "2021-11-14T14:07:31.029Z"
   },
   {
    "duration": 16,
    "start_time": "2021-11-14T14:07:31.064Z"
   },
   {
    "duration": 26,
    "start_time": "2021-11-14T14:07:31.082Z"
   },
   {
    "duration": 84,
    "start_time": "2021-11-14T14:07:31.110Z"
   },
   {
    "duration": 37,
    "start_time": "2021-11-14T14:07:31.196Z"
   },
   {
    "duration": 61,
    "start_time": "2021-11-14T14:07:31.236Z"
   },
   {
    "duration": 452,
    "start_time": "2021-11-14T14:07:31.299Z"
   },
   {
    "duration": 309,
    "start_time": "2021-11-14T14:07:31.754Z"
   },
   {
    "duration": 310,
    "start_time": "2021-11-14T14:07:32.065Z"
   },
   {
    "duration": 411,
    "start_time": "2021-11-14T14:07:32.377Z"
   },
   {
    "duration": 340,
    "start_time": "2021-11-14T14:07:32.790Z"
   },
   {
    "duration": 12,
    "start_time": "2021-11-14T14:07:33.132Z"
   },
   {
    "duration": 435,
    "start_time": "2021-11-14T14:07:33.160Z"
   },
   {
    "duration": 14,
    "start_time": "2021-11-14T14:07:33.598Z"
   },
   {
    "duration": 6,
    "start_time": "2021-11-14T14:07:33.615Z"
   },
   {
    "duration": 320,
    "start_time": "2021-11-14T14:07:33.624Z"
   },
   {
    "duration": 308,
    "start_time": "2021-11-14T14:07:55.128Z"
   },
   {
    "duration": 586,
    "start_time": "2021-11-14T14:09:17.191Z"
   },
   {
    "duration": 423,
    "start_time": "2021-11-14T14:09:23.558Z"
   },
   {
    "duration": 7,
    "start_time": "2021-11-14T14:12:05.777Z"
   },
   {
    "duration": 384,
    "start_time": "2021-11-14T14:12:32.305Z"
   },
   {
    "duration": 348,
    "start_time": "2021-11-14T14:12:38.999Z"
   },
   {
    "duration": 916,
    "start_time": "2021-11-14T14:12:47.093Z"
   },
   {
    "duration": 401,
    "start_time": "2021-11-14T14:12:55.064Z"
   },
   {
    "duration": 158,
    "start_time": "2021-11-14T14:14:11.979Z"
   },
   {
    "duration": 6,
    "start_time": "2021-11-14T14:15:10.722Z"
   },
   {
    "duration": 437,
    "start_time": "2021-11-14T14:16:47.208Z"
   },
   {
    "duration": 387,
    "start_time": "2021-11-14T14:18:17.052Z"
   },
   {
    "duration": 543,
    "start_time": "2021-11-14T14:32:40.936Z"
   },
   {
    "duration": 370,
    "start_time": "2021-11-14T14:33:30.650Z"
   },
   {
    "duration": 9,
    "start_time": "2021-11-14T14:33:52.231Z"
   },
   {
    "duration": 396,
    "start_time": "2021-11-14T14:34:00.368Z"
   },
   {
    "duration": 832,
    "start_time": "2021-11-14T14:34:15.477Z"
   },
   {
    "duration": 10,
    "start_time": "2021-11-14T14:34:32.660Z"
   },
   {
    "duration": 71,
    "start_time": "2021-11-14T14:37:04.252Z"
   },
   {
    "duration": 39,
    "start_time": "2021-11-14T14:41:58.569Z"
   },
   {
    "duration": 400,
    "start_time": "2021-11-14T14:42:34.031Z"
   },
   {
    "duration": 18,
    "start_time": "2021-11-14T14:42:47.887Z"
   },
   {
    "duration": 25,
    "start_time": "2021-11-14T14:43:02.826Z"
   },
   {
    "duration": 360,
    "start_time": "2021-11-14T14:43:43.780Z"
   },
   {
    "duration": 387,
    "start_time": "2021-11-14T14:43:49.039Z"
   },
   {
    "duration": 362,
    "start_time": "2021-11-14T14:46:18.570Z"
   },
   {
    "duration": 369,
    "start_time": "2021-11-14T14:47:02.436Z"
   },
   {
    "duration": 11,
    "start_time": "2021-11-14T14:47:52.707Z"
   },
   {
    "duration": 11,
    "start_time": "2021-11-14T14:48:17.509Z"
   },
   {
    "duration": 9,
    "start_time": "2021-11-14T14:49:03.565Z"
   },
   {
    "duration": 361,
    "start_time": "2021-11-14T14:49:19.791Z"
   },
   {
    "duration": 23,
    "start_time": "2021-11-14T14:49:59.968Z"
   },
   {
    "duration": 11,
    "start_time": "2021-11-14T14:50:20.600Z"
   },
   {
    "duration": 109,
    "start_time": "2021-11-14T14:50:31.710Z"
   },
   {
    "duration": 14,
    "start_time": "2021-11-14T14:50:31.822Z"
   },
   {
    "duration": 51,
    "start_time": "2021-11-14T14:50:31.858Z"
   },
   {
    "duration": 12,
    "start_time": "2021-11-14T14:50:31.913Z"
   },
   {
    "duration": 40,
    "start_time": "2021-11-14T14:50:31.928Z"
   },
   {
    "duration": 24,
    "start_time": "2021-11-14T14:50:31.970Z"
   },
   {
    "duration": 79,
    "start_time": "2021-11-14T14:50:31.997Z"
   },
   {
    "duration": 38,
    "start_time": "2021-11-14T14:50:32.081Z"
   },
   {
    "duration": 75,
    "start_time": "2021-11-14T14:50:32.122Z"
   },
   {
    "duration": 331,
    "start_time": "2021-11-14T14:50:32.200Z"
   },
   {
    "duration": 312,
    "start_time": "2021-11-14T14:50:32.534Z"
   },
   {
    "duration": 311,
    "start_time": "2021-11-14T14:50:32.848Z"
   },
   {
    "duration": 342,
    "start_time": "2021-11-14T14:50:33.161Z"
   },
   {
    "duration": 334,
    "start_time": "2021-11-14T14:50:33.505Z"
   },
   {
    "duration": 22,
    "start_time": "2021-11-14T14:50:33.841Z"
   },
   {
    "duration": 329,
    "start_time": "2021-11-14T14:50:33.865Z"
   },
   {
    "duration": 14,
    "start_time": "2021-11-14T14:50:34.197Z"
   },
   {
    "duration": 13,
    "start_time": "2021-11-14T14:50:34.214Z"
   },
   {
    "duration": 429,
    "start_time": "2021-11-14T14:50:34.230Z"
   },
   {
    "duration": 7,
    "start_time": "2021-11-14T14:50:34.661Z"
   },
   {
    "duration": 416,
    "start_time": "2021-11-14T14:50:34.671Z"
   },
   {
    "duration": 5,
    "start_time": "2021-11-14T14:50:35.092Z"
   },
   {
    "duration": 407,
    "start_time": "2021-11-14T14:50:35.100Z"
   },
   {
    "duration": 12,
    "start_time": "2021-11-14T14:50:35.509Z"
   },
   {
    "duration": 50,
    "start_time": "2021-11-14T14:50:35.524Z"
   },
   {
    "duration": 384,
    "start_time": "2021-11-14T15:14:52.521Z"
   },
   {
    "duration": 409,
    "start_time": "2021-11-14T15:15:29.466Z"
   },
   {
    "duration": 604,
    "start_time": "2021-11-14T15:15:39.512Z"
   },
   {
    "duration": 382,
    "start_time": "2021-11-14T15:15:51.936Z"
   },
   {
    "duration": 131,
    "start_time": "2021-11-14T15:15:59.765Z"
   },
   {
    "duration": 131,
    "start_time": "2021-11-14T15:16:03.757Z"
   },
   {
    "duration": 23,
    "start_time": "2021-11-14T15:16:40.330Z"
   },
   {
    "duration": 99,
    "start_time": "2021-11-14T15:17:31.132Z"
   },
   {
    "duration": 371,
    "start_time": "2021-11-14T15:17:58.172Z"
   },
   {
    "duration": 449,
    "start_time": "2021-11-14T15:18:06.981Z"
   },
   {
    "duration": 425,
    "start_time": "2021-11-14T15:18:12.572Z"
   },
   {
    "duration": 24,
    "start_time": "2021-11-14T15:18:33.632Z"
   },
   {
    "duration": 376,
    "start_time": "2021-11-14T15:18:39.947Z"
   },
   {
    "duration": 148476,
    "start_time": "2021-11-14T15:17:01.314Z"
   },
   {
    "duration": 909,
    "start_time": "2021-11-14T15:19:45.594Z"
   },
   {
    "duration": 15,
    "start_time": "2021-11-14T15:19:46.506Z"
   },
   {
    "duration": 70,
    "start_time": "2021-11-14T15:19:46.524Z"
   },
   {
    "duration": 11,
    "start_time": "2021-11-14T15:19:46.597Z"
   },
   {
    "duration": 15,
    "start_time": "2021-11-14T15:19:46.610Z"
   },
   {
    "duration": 47,
    "start_time": "2021-11-14T15:19:46.628Z"
   },
   {
    "duration": 40,
    "start_time": "2021-11-14T15:19:46.677Z"
   },
   {
    "duration": 60,
    "start_time": "2021-11-14T15:19:46.719Z"
   },
   {
    "duration": 40,
    "start_time": "2021-11-14T15:19:46.783Z"
   },
   {
    "duration": 434,
    "start_time": "2021-11-14T15:19:46.826Z"
   },
   {
    "duration": 326,
    "start_time": "2021-11-14T15:19:47.262Z"
   },
   {
    "duration": 310,
    "start_time": "2021-11-14T15:19:47.590Z"
   },
   {
    "duration": 413,
    "start_time": "2021-11-14T15:19:47.903Z"
   },
   {
    "duration": 344,
    "start_time": "2021-11-14T15:19:48.320Z"
   },
   {
    "duration": 14,
    "start_time": "2021-11-14T15:19:48.667Z"
   },
   {
    "duration": 346,
    "start_time": "2021-11-14T15:19:48.684Z"
   },
   {
    "duration": 31,
    "start_time": "2021-11-14T15:19:49.033Z"
   },
   {
    "duration": 7,
    "start_time": "2021-11-14T15:19:49.067Z"
   },
   {
    "duration": 425,
    "start_time": "2021-11-14T15:19:49.077Z"
   },
   {
    "duration": 7,
    "start_time": "2021-11-14T15:19:49.505Z"
   },
   {
    "duration": 407,
    "start_time": "2021-11-14T15:19:49.514Z"
   },
   {
    "duration": 6,
    "start_time": "2021-11-14T15:19:49.923Z"
   },
   {
    "duration": 404,
    "start_time": "2021-11-14T15:19:49.931Z"
   },
   {
    "duration": 11,
    "start_time": "2021-11-14T15:19:50.337Z"
   },
   {
    "duration": 22,
    "start_time": "2021-11-14T15:19:50.360Z"
   },
   {
    "duration": 9308,
    "start_time": "2021-11-14T15:19:50.385Z"
   },
   {
    "duration": 9515,
    "start_time": "2021-11-14T15:20:26.092Z"
   },
   {
    "duration": 8942,
    "start_time": "2021-11-14T15:20:54.379Z"
   },
   {
    "duration": 621,
    "start_time": "2021-11-14T15:26:13.420Z"
   },
   {
    "duration": 348,
    "start_time": "2021-11-14T15:26:34.972Z"
   },
   {
    "duration": 128,
    "start_time": "2021-11-14T15:26:46.248Z"
   },
   {
    "duration": 365,
    "start_time": "2021-11-14T15:26:57.273Z"
   },
   {
    "duration": 414,
    "start_time": "2021-11-14T15:27:11.570Z"
   },
   {
    "duration": 373,
    "start_time": "2021-11-14T15:29:14.740Z"
   },
   {
    "duration": 447,
    "start_time": "2021-11-14T15:29:55.850Z"
   },
   {
    "duration": 35,
    "start_time": "2021-11-14T15:33:41.277Z"
   },
   {
    "duration": 57,
    "start_time": "2021-11-14T15:33:52.809Z"
   },
   {
    "duration": 57,
    "start_time": "2021-11-14T15:34:38.456Z"
   },
   {
    "duration": 130,
    "start_time": "2021-11-14T15:35:12.837Z"
   },
   {
    "duration": 16,
    "start_time": "2021-11-14T15:35:12.969Z"
   },
   {
    "duration": 87,
    "start_time": "2021-11-14T15:35:12.988Z"
   },
   {
    "duration": 16,
    "start_time": "2021-11-14T15:35:13.079Z"
   },
   {
    "duration": 19,
    "start_time": "2021-11-14T15:35:13.098Z"
   },
   {
    "duration": 63,
    "start_time": "2021-11-14T15:35:13.120Z"
   },
   {
    "duration": 45,
    "start_time": "2021-11-14T15:35:13.186Z"
   },
   {
    "duration": 39,
    "start_time": "2021-11-14T15:35:13.263Z"
   },
   {
    "duration": 70,
    "start_time": "2021-11-14T15:35:13.304Z"
   },
   {
    "duration": 345,
    "start_time": "2021-11-14T15:35:13.376Z"
   },
   {
    "duration": 329,
    "start_time": "2021-11-14T15:35:13.724Z"
   },
   {
    "duration": 306,
    "start_time": "2021-11-14T15:35:14.056Z"
   },
   {
    "duration": 332,
    "start_time": "2021-11-14T15:35:14.364Z"
   },
   {
    "duration": 331,
    "start_time": "2021-11-14T15:35:14.699Z"
   },
   {
    "duration": 12,
    "start_time": "2021-11-14T15:35:15.032Z"
   },
   {
    "duration": 386,
    "start_time": "2021-11-14T15:35:15.059Z"
   },
   {
    "duration": 20,
    "start_time": "2021-11-14T15:35:15.448Z"
   },
   {
    "duration": 6,
    "start_time": "2021-11-14T15:35:15.471Z"
   },
   {
    "duration": 400,
    "start_time": "2021-11-14T15:35:15.479Z"
   },
   {
    "duration": 6,
    "start_time": "2021-11-14T15:35:15.882Z"
   },
   {
    "duration": 552,
    "start_time": "2021-11-14T15:35:15.890Z"
   },
   {
    "duration": 16,
    "start_time": "2021-11-14T15:35:16.444Z"
   },
   {
    "duration": 398,
    "start_time": "2021-11-14T15:35:16.465Z"
   },
   {
    "duration": 12,
    "start_time": "2021-11-14T15:35:16.865Z"
   },
   {
    "duration": 26,
    "start_time": "2021-11-14T15:35:16.879Z"
   },
   {
    "duration": 525,
    "start_time": "2021-11-14T15:35:16.907Z"
   },
   {
    "duration": 10045,
    "start_time": "2021-11-14T15:36:24.673Z"
   },
   {
    "duration": 1501,
    "start_time": "2021-11-14T15:38:52.774Z"
   },
   {
    "duration": 52,
    "start_time": "2021-11-14T15:39:52.119Z"
   },
   {
    "duration": 24,
    "start_time": "2021-11-14T15:44:20.889Z"
   },
   {
    "duration": 170,
    "start_time": "2021-11-14T15:44:38.749Z"
   },
   {
    "duration": 432,
    "start_time": "2021-11-14T15:44:44.947Z"
   },
   {
    "duration": 2809,
    "start_time": "2021-11-14T15:45:10.192Z"
   },
   {
    "duration": 30,
    "start_time": "2021-11-14T15:45:24.581Z"
   },
   {
    "duration": 403,
    "start_time": "2021-11-14T15:46:46.441Z"
   },
   {
    "duration": 11,
    "start_time": "2021-11-14T15:46:58.928Z"
   },
   {
    "duration": 34,
    "start_time": "2021-11-14T16:16:34.701Z"
   },
   {
    "duration": 54,
    "start_time": "2021-11-14T16:16:45.457Z"
   },
   {
    "duration": 117,
    "start_time": "2021-11-14T16:19:42.156Z"
   },
   {
    "duration": 117,
    "start_time": "2021-11-14T16:20:00.950Z"
   },
   {
    "duration": 154,
    "start_time": "2021-11-14T16:20:11.318Z"
   },
   {
    "duration": 142,
    "start_time": "2021-11-14T16:21:06.378Z"
   },
   {
    "duration": 386,
    "start_time": "2021-11-14T16:21:16.467Z"
   },
   {
    "duration": 4,
    "start_time": "2021-11-14T16:21:29.291Z"
   },
   {
    "duration": 7,
    "start_time": "2021-11-14T16:21:46.610Z"
   },
   {
    "duration": 4,
    "start_time": "2021-11-14T16:21:55.871Z"
   },
   {
    "duration": 60,
    "start_time": "2021-11-14T16:24:26.990Z"
   },
   {
    "duration": 115,
    "start_time": "2021-11-14T16:25:24.710Z"
   },
   {
    "duration": 31,
    "start_time": "2021-11-14T16:25:24.828Z"
   },
   {
    "duration": 51,
    "start_time": "2021-11-14T16:25:24.862Z"
   },
   {
    "duration": 11,
    "start_time": "2021-11-14T16:25:24.916Z"
   },
   {
    "duration": 15,
    "start_time": "2021-11-14T16:25:24.960Z"
   },
   {
    "duration": 30,
    "start_time": "2021-11-14T16:25:24.978Z"
   },
   {
    "duration": 67,
    "start_time": "2021-11-14T16:25:25.010Z"
   },
   {
    "duration": 34,
    "start_time": "2021-11-14T16:25:25.080Z"
   },
   {
    "duration": 56,
    "start_time": "2021-11-14T16:25:25.117Z"
   },
   {
    "duration": 303,
    "start_time": "2021-11-14T16:25:25.176Z"
   },
   {
    "duration": 289,
    "start_time": "2021-11-14T16:25:25.481Z"
   },
   {
    "duration": 303,
    "start_time": "2021-11-14T16:25:25.773Z"
   },
   {
    "duration": 345,
    "start_time": "2021-11-14T16:25:26.079Z"
   },
   {
    "duration": 323,
    "start_time": "2021-11-14T16:25:26.427Z"
   },
   {
    "duration": 12,
    "start_time": "2021-11-14T16:25:26.759Z"
   },
   {
    "duration": 320,
    "start_time": "2021-11-14T16:25:26.773Z"
   },
   {
    "duration": 11,
    "start_time": "2021-11-14T16:25:27.096Z"
   },
   {
    "duration": 6,
    "start_time": "2021-11-14T16:25:27.109Z"
   },
   {
    "duration": 427,
    "start_time": "2021-11-14T16:25:27.117Z"
   },
   {
    "duration": 14,
    "start_time": "2021-11-14T16:25:27.547Z"
   },
   {
    "duration": 456,
    "start_time": "2021-11-14T16:25:27.563Z"
   },
   {
    "duration": 5,
    "start_time": "2021-11-14T16:25:28.022Z"
   },
   {
    "duration": 389,
    "start_time": "2021-11-14T16:25:28.030Z"
   },
   {
    "duration": 11,
    "start_time": "2021-11-14T16:25:28.421Z"
   },
   {
    "duration": 119,
    "start_time": "2021-11-14T16:25:28.434Z"
   },
   {
    "duration": 148060,
    "start_time": "2021-11-14T16:23:00.495Z"
   },
   {
    "duration": 147935,
    "start_time": "2021-11-14T16:23:00.622Z"
   },
   {
    "duration": 147885,
    "start_time": "2021-11-14T16:23:00.674Z"
   },
   {
    "duration": 115,
    "start_time": "2021-11-14T16:25:41.922Z"
   },
   {
    "duration": 28,
    "start_time": "2021-11-14T16:25:42.040Z"
   },
   {
    "duration": 52,
    "start_time": "2021-11-14T16:25:42.070Z"
   },
   {
    "duration": 42,
    "start_time": "2021-11-14T16:25:42.125Z"
   },
   {
    "duration": 16,
    "start_time": "2021-11-14T16:25:42.169Z"
   },
   {
    "duration": 25,
    "start_time": "2021-11-14T16:25:42.188Z"
   },
   {
    "duration": 82,
    "start_time": "2021-11-14T16:25:42.216Z"
   },
   {
    "duration": 57,
    "start_time": "2021-11-14T16:25:42.302Z"
   },
   {
    "duration": 38,
    "start_time": "2021-11-14T16:25:42.363Z"
   },
   {
    "duration": 320,
    "start_time": "2021-11-14T16:25:42.404Z"
   },
   {
    "duration": 289,
    "start_time": "2021-11-14T16:25:42.726Z"
   },
   {
    "duration": 292,
    "start_time": "2021-11-14T16:25:43.017Z"
   },
   {
    "duration": 341,
    "start_time": "2021-11-14T16:25:43.312Z"
   },
   {
    "duration": 345,
    "start_time": "2021-11-14T16:25:43.660Z"
   },
   {
    "duration": 16,
    "start_time": "2021-11-14T16:25:44.008Z"
   },
   {
    "duration": 373,
    "start_time": "2021-11-14T16:25:44.027Z"
   },
   {
    "duration": 12,
    "start_time": "2021-11-14T16:25:44.403Z"
   },
   {
    "duration": 5,
    "start_time": "2021-11-14T16:25:44.417Z"
   },
   {
    "duration": 467,
    "start_time": "2021-11-14T16:25:44.424Z"
   },
   {
    "duration": 6,
    "start_time": "2021-11-14T16:25:44.894Z"
   },
   {
    "duration": 420,
    "start_time": "2021-11-14T16:25:44.903Z"
   },
   {
    "duration": 5,
    "start_time": "2021-11-14T16:25:45.325Z"
   },
   {
    "duration": 405,
    "start_time": "2021-11-14T16:25:45.336Z"
   },
   {
    "duration": 19,
    "start_time": "2021-11-14T16:25:45.744Z"
   },
   {
    "duration": 26,
    "start_time": "2021-11-14T16:25:45.765Z"
   },
   {
    "duration": 4,
    "start_time": "2021-11-14T16:25:45.793Z"
   },
   {
    "duration": 167,
    "start_time": "2021-11-14T16:25:45.799Z"
   },
   {
    "duration": 51,
    "start_time": "2021-11-14T16:29:26.718Z"
   },
   {
    "duration": 56,
    "start_time": "2021-11-14T16:30:10.747Z"
   },
   {
    "duration": 342,
    "start_time": "2021-11-14T16:32:09.436Z"
   },
   {
    "duration": 753,
    "start_time": "2021-11-14T16:32:32.790Z"
   },
   {
    "duration": 815,
    "start_time": "2021-11-14T16:32:38.673Z"
   },
   {
    "duration": 360,
    "start_time": "2021-11-14T16:32:49.570Z"
   },
   {
    "duration": 801,
    "start_time": "2021-11-14T16:33:29.721Z"
   },
   {
    "duration": 992,
    "start_time": "2021-11-14T16:34:46.261Z"
   },
   {
    "duration": 15,
    "start_time": "2021-11-14T16:34:47.255Z"
   },
   {
    "duration": 49,
    "start_time": "2021-11-14T16:34:47.273Z"
   },
   {
    "duration": 35,
    "start_time": "2021-11-14T16:34:47.325Z"
   },
   {
    "duration": 14,
    "start_time": "2021-11-14T16:34:47.362Z"
   },
   {
    "duration": 23,
    "start_time": "2021-11-14T16:34:47.378Z"
   },
   {
    "duration": 69,
    "start_time": "2021-11-14T16:34:47.403Z"
   },
   {
    "duration": 36,
    "start_time": "2021-11-14T16:34:47.475Z"
   },
   {
    "duration": 61,
    "start_time": "2021-11-14T16:34:47.514Z"
   },
   {
    "duration": 520,
    "start_time": "2021-11-14T16:34:47.577Z"
   },
   {
    "duration": 287,
    "start_time": "2021-11-14T16:34:48.099Z"
   },
   {
    "duration": 299,
    "start_time": "2021-11-14T16:34:48.388Z"
   },
   {
    "duration": 371,
    "start_time": "2021-11-14T16:34:48.690Z"
   },
   {
    "duration": 327,
    "start_time": "2021-11-14T16:34:49.064Z"
   },
   {
    "duration": 12,
    "start_time": "2021-11-14T16:34:49.394Z"
   },
   {
    "duration": 328,
    "start_time": "2021-11-14T16:34:49.409Z"
   },
   {
    "duration": 21,
    "start_time": "2021-11-14T16:34:49.740Z"
   },
   {
    "duration": 6,
    "start_time": "2021-11-14T16:34:49.763Z"
   },
   {
    "duration": 407,
    "start_time": "2021-11-14T16:34:49.771Z"
   },
   {
    "duration": 6,
    "start_time": "2021-11-14T16:34:50.180Z"
   },
   {
    "duration": 398,
    "start_time": "2021-11-14T16:34:50.188Z"
   },
   {
    "duration": 6,
    "start_time": "2021-11-14T16:34:50.588Z"
   },
   {
    "duration": 406,
    "start_time": "2021-11-14T16:34:50.598Z"
   },
   {
    "duration": 11,
    "start_time": "2021-11-14T16:34:51.007Z"
   },
   {
    "duration": 41,
    "start_time": "2021-11-14T16:34:51.020Z"
   },
   {
    "duration": 4,
    "start_time": "2021-11-14T16:34:51.064Z"
   },
   {
    "duration": 78,
    "start_time": "2021-11-14T16:34:51.071Z"
   },
   {
    "duration": 57,
    "start_time": "2021-11-14T16:34:51.159Z"
   },
   {
    "duration": 305,
    "start_time": "2021-11-14T19:56:58.010Z"
   },
   {
    "duration": 352,
    "start_time": "2021-11-14T19:57:05.731Z"
   },
   {
    "duration": 307,
    "start_time": "2021-11-14T19:57:10.616Z"
   },
   {
    "duration": 860,
    "start_time": "2021-11-14T19:57:15.452Z"
   },
   {
    "duration": 9,
    "start_time": "2021-11-14T19:57:16.314Z"
   },
   {
    "duration": 46,
    "start_time": "2021-11-14T19:57:16.325Z"
   },
   {
    "duration": 11,
    "start_time": "2021-11-14T19:57:16.373Z"
   },
   {
    "duration": 9,
    "start_time": "2021-11-14T19:57:16.386Z"
   },
   {
    "duration": 20,
    "start_time": "2021-11-14T19:57:16.397Z"
   },
   {
    "duration": 48,
    "start_time": "2021-11-14T19:57:16.418Z"
   },
   {
    "duration": 21,
    "start_time": "2021-11-14T19:57:16.469Z"
   },
   {
    "duration": 22,
    "start_time": "2021-11-14T19:57:16.493Z"
   },
   {
    "duration": 306,
    "start_time": "2021-11-14T19:57:16.517Z"
   },
   {
    "duration": 191,
    "start_time": "2021-11-14T19:57:16.825Z"
   },
   {
    "duration": 198,
    "start_time": "2021-11-14T19:57:17.017Z"
   },
   {
    "duration": 279,
    "start_time": "2021-11-14T19:57:17.217Z"
   },
   {
    "duration": 199,
    "start_time": "2021-11-14T19:57:17.497Z"
   },
   {
    "duration": 9,
    "start_time": "2021-11-14T19:57:17.697Z"
   },
   {
    "duration": 253,
    "start_time": "2021-11-14T19:57:17.708Z"
   },
   {
    "duration": 9,
    "start_time": "2021-11-14T19:57:17.963Z"
   },
   {
    "duration": 4,
    "start_time": "2021-11-14T19:57:17.974Z"
   },
   {
    "duration": 399,
    "start_time": "2021-11-14T19:57:17.980Z"
   },
   {
    "duration": 5,
    "start_time": "2021-11-14T19:57:18.381Z"
   },
   {
    "duration": 285,
    "start_time": "2021-11-14T19:57:18.387Z"
   },
   {
    "duration": 4,
    "start_time": "2021-11-14T19:57:18.674Z"
   },
   {
    "duration": 281,
    "start_time": "2021-11-14T19:57:18.679Z"
   },
   {
    "duration": 8,
    "start_time": "2021-11-14T19:57:18.962Z"
   },
   {
    "duration": 15,
    "start_time": "2021-11-14T19:57:18.972Z"
   },
   {
    "duration": 3,
    "start_time": "2021-11-14T19:57:18.989Z"
   },
   {
    "duration": 40,
    "start_time": "2021-11-14T19:57:18.994Z"
   },
   {
    "duration": 46,
    "start_time": "2021-11-14T19:57:19.036Z"
   },
   {
    "duration": 740,
    "start_time": "2021-11-14T19:58:43.903Z"
   },
   {
    "duration": 14,
    "start_time": "2021-11-14T19:58:44.645Z"
   },
   {
    "duration": 35,
    "start_time": "2021-11-14T19:58:44.662Z"
   },
   {
    "duration": 10,
    "start_time": "2021-11-14T19:58:44.698Z"
   },
   {
    "duration": 37,
    "start_time": "2021-11-14T19:58:44.710Z"
   },
   {
    "duration": 27,
    "start_time": "2021-11-14T19:58:44.749Z"
   },
   {
    "duration": 29,
    "start_time": "2021-11-14T19:58:44.779Z"
   },
   {
    "duration": 45,
    "start_time": "2021-11-14T19:58:44.810Z"
   },
   {
    "duration": 24,
    "start_time": "2021-11-14T19:58:44.857Z"
   },
   {
    "duration": 334,
    "start_time": "2021-11-14T19:58:44.883Z"
   },
   {
    "duration": 207,
    "start_time": "2021-11-14T19:58:45.219Z"
   },
   {
    "duration": 222,
    "start_time": "2021-11-14T19:58:45.428Z"
   },
   {
    "duration": 297,
    "start_time": "2021-11-14T19:58:45.653Z"
   },
   {
    "duration": 257,
    "start_time": "2021-11-14T19:58:45.953Z"
   },
   {
    "duration": 11,
    "start_time": "2021-11-14T19:58:46.212Z"
   },
   {
    "duration": 295,
    "start_time": "2021-11-14T19:58:46.225Z"
   },
   {
    "duration": 8,
    "start_time": "2021-11-14T19:58:46.522Z"
   },
   {
    "duration": 28,
    "start_time": "2021-11-14T19:58:46.532Z"
   },
   {
    "duration": 275,
    "start_time": "2021-11-14T19:58:46.562Z"
   },
   {
    "duration": 4,
    "start_time": "2021-11-14T19:58:46.844Z"
   },
   {
    "duration": 262,
    "start_time": "2021-11-14T19:58:46.850Z"
   },
   {
    "duration": 4,
    "start_time": "2021-11-14T19:58:47.115Z"
   },
   {
    "duration": 298,
    "start_time": "2021-11-14T19:58:47.121Z"
   },
   {
    "duration": 7,
    "start_time": "2021-11-14T19:58:47.421Z"
   },
   {
    "duration": 32,
    "start_time": "2021-11-14T19:58:47.430Z"
   },
   {
    "duration": 4,
    "start_time": "2021-11-14T19:58:47.464Z"
   },
   {
    "duration": 42,
    "start_time": "2021-11-14T19:58:47.469Z"
   },
   {
    "duration": 59,
    "start_time": "2021-11-14T19:58:47.513Z"
   },
   {
    "duration": 87,
    "start_time": "2021-11-14T20:04:17.630Z"
   },
   {
    "duration": 12,
    "start_time": "2021-11-14T20:04:17.719Z"
   },
   {
    "duration": 40,
    "start_time": "2021-11-14T20:04:17.744Z"
   },
   {
    "duration": 8,
    "start_time": "2021-11-14T20:04:17.786Z"
   },
   {
    "duration": 19,
    "start_time": "2021-11-14T20:04:17.796Z"
   },
   {
    "duration": 39,
    "start_time": "2021-11-14T20:04:17.817Z"
   },
   {
    "duration": 25,
    "start_time": "2021-11-14T20:04:17.858Z"
   },
   {
    "duration": 20,
    "start_time": "2021-11-14T20:04:17.884Z"
   },
   {
    "duration": 56,
    "start_time": "2021-11-14T20:04:17.906Z"
   },
   {
    "duration": 199,
    "start_time": "2021-11-14T20:04:17.965Z"
   },
   {
    "duration": 183,
    "start_time": "2021-11-14T20:04:18.166Z"
   },
   {
    "duration": 186,
    "start_time": "2021-11-14T20:04:18.351Z"
   },
   {
    "duration": 196,
    "start_time": "2021-11-14T20:04:18.539Z"
   },
   {
    "duration": 199,
    "start_time": "2021-11-14T20:04:18.737Z"
   },
   {
    "duration": 15,
    "start_time": "2021-11-14T20:04:18.938Z"
   },
   {
    "duration": 196,
    "start_time": "2021-11-14T20:04:18.955Z"
   },
   {
    "duration": 11,
    "start_time": "2021-11-14T20:04:19.152Z"
   },
   {
    "duration": 4,
    "start_time": "2021-11-14T20:04:19.165Z"
   },
   {
    "duration": 264,
    "start_time": "2021-11-14T20:04:19.170Z"
   },
   {
    "duration": 10,
    "start_time": "2021-11-14T20:04:19.436Z"
   },
   {
    "duration": 289,
    "start_time": "2021-11-14T20:04:19.448Z"
   },
   {
    "duration": 7,
    "start_time": "2021-11-14T20:04:19.738Z"
   },
   {
    "duration": 262,
    "start_time": "2021-11-14T20:04:19.747Z"
   },
   {
    "duration": 8,
    "start_time": "2021-11-14T20:04:20.011Z"
   },
   {
    "duration": 34,
    "start_time": "2021-11-14T20:04:20.020Z"
   },
   {
    "duration": 4,
    "start_time": "2021-11-14T20:04:20.056Z"
   },
   {
    "duration": 39,
    "start_time": "2021-11-14T20:04:20.061Z"
   },
   {
    "duration": 55,
    "start_time": "2021-11-14T20:04:20.102Z"
   },
   {
    "duration": 239,
    "start_time": "2021-11-14T20:04:20.158Z"
   },
   {
    "duration": 173,
    "start_time": "2021-11-14T20:06:48.847Z"
   },
   {
    "duration": 177,
    "start_time": "2021-11-14T20:07:31.627Z"
   },
   {
    "duration": 175,
    "start_time": "2021-11-14T20:07:41.133Z"
   },
   {
    "duration": 203,
    "start_time": "2021-11-14T20:08:13.469Z"
   },
   {
    "duration": 337,
    "start_time": "2021-11-14T20:08:29.544Z"
   },
   {
    "duration": 39,
    "start_time": "2021-11-14T20:15:00.454Z"
   },
   {
    "duration": 57,
    "start_time": "2021-11-14T20:15:25.522Z"
   },
   {
    "duration": 40,
    "start_time": "2021-11-14T20:15:40.331Z"
   },
   {
    "duration": 225,
    "start_time": "2021-11-14T20:17:36.800Z"
   },
   {
    "duration": 37,
    "start_time": "2021-11-14T20:31:24.112Z"
   },
   {
    "duration": 35,
    "start_time": "2021-11-14T20:31:34.506Z"
   },
   {
    "duration": 26,
    "start_time": "2021-11-14T20:32:16.376Z"
   },
   {
    "duration": 34,
    "start_time": "2021-11-14T20:38:14.318Z"
   },
   {
    "duration": 6,
    "start_time": "2021-11-14T20:38:31.060Z"
   },
   {
    "duration": 29,
    "start_time": "2021-11-14T20:39:18.704Z"
   },
   {
    "duration": 197,
    "start_time": "2021-11-14T20:40:36.943Z"
   },
   {
    "duration": 217,
    "start_time": "2021-11-14T20:41:12.384Z"
   },
   {
    "duration": 503,
    "start_time": "2021-11-14T20:41:39.173Z"
   },
   {
    "duration": 934,
    "start_time": "2021-11-14T20:42:30.346Z"
   },
   {
    "duration": 423,
    "start_time": "2021-11-14T20:44:26.000Z"
   },
   {
    "duration": 601,
    "start_time": "2021-11-14T20:44:37.543Z"
   },
   {
    "duration": 181,
    "start_time": "2021-11-14T20:45:12.989Z"
   },
   {
    "duration": 213,
    "start_time": "2021-11-14T20:45:52.401Z"
   },
   {
    "duration": 238,
    "start_time": "2021-11-14T20:46:37.425Z"
   },
   {
    "duration": 7,
    "start_time": "2021-11-14T20:47:42.045Z"
   },
   {
    "duration": 6,
    "start_time": "2021-11-14T20:48:10.166Z"
   },
   {
    "duration": 6,
    "start_time": "2021-11-14T20:48:39.332Z"
   },
   {
    "duration": 308,
    "start_time": "2021-11-14T20:49:06.683Z"
   },
   {
    "duration": 89,
    "start_time": "2021-11-14T21:13:41.501Z"
   },
   {
    "duration": 91,
    "start_time": "2021-11-14T21:14:10.605Z"
   },
   {
    "duration": 87,
    "start_time": "2021-11-14T21:17:21.388Z"
   },
   {
    "duration": 96,
    "start_time": "2021-11-14T21:18:02.437Z"
   },
   {
    "duration": 88,
    "start_time": "2021-11-14T21:18:07.985Z"
   },
   {
    "duration": 88,
    "start_time": "2021-11-14T21:18:17.356Z"
   },
   {
    "duration": 6,
    "start_time": "2021-11-14T21:21:50.921Z"
   },
   {
    "duration": 24,
    "start_time": "2021-11-14T21:22:15.774Z"
   },
   {
    "duration": 460,
    "start_time": "2021-11-14T21:25:26.997Z"
   },
   {
    "duration": 95,
    "start_time": "2021-11-14T21:26:10.770Z"
   },
   {
    "duration": 104,
    "start_time": "2021-11-14T21:26:15.759Z"
   },
   {
    "duration": 467,
    "start_time": "2021-11-14T21:26:31.470Z"
   },
   {
    "duration": 180,
    "start_time": "2021-11-14T21:29:47.472Z"
   },
   {
    "duration": 89,
    "start_time": "2021-11-14T21:30:23.256Z"
   },
   {
    "duration": 88,
    "start_time": "2021-11-14T21:30:30.239Z"
   },
   {
    "duration": 1658,
    "start_time": "2021-11-14T21:30:38.020Z"
   },
   {
    "duration": 24,
    "start_time": "2021-11-14T21:31:58.986Z"
   },
   {
    "duration": 78,
    "start_time": "2021-11-14T21:32:47.964Z"
   },
   {
    "duration": 16,
    "start_time": "2021-11-14T21:32:48.044Z"
   },
   {
    "duration": 30,
    "start_time": "2021-11-14T21:32:48.062Z"
   },
   {
    "duration": 9,
    "start_time": "2021-11-14T21:32:48.094Z"
   },
   {
    "duration": 13,
    "start_time": "2021-11-14T21:32:48.104Z"
   },
   {
    "duration": 21,
    "start_time": "2021-11-14T21:32:48.147Z"
   },
   {
    "duration": 23,
    "start_time": "2021-11-14T21:32:48.170Z"
   },
   {
    "duration": 21,
    "start_time": "2021-11-14T21:32:48.195Z"
   },
   {
    "duration": 51,
    "start_time": "2021-11-14T21:32:48.218Z"
   },
   {
    "duration": 204,
    "start_time": "2021-11-14T21:32:48.271Z"
   },
   {
    "duration": 181,
    "start_time": "2021-11-14T21:32:48.476Z"
   },
   {
    "duration": 172,
    "start_time": "2021-11-14T21:32:48.659Z"
   },
   {
    "duration": 284,
    "start_time": "2021-11-14T21:32:48.833Z"
   },
   {
    "duration": 200,
    "start_time": "2021-11-14T21:32:49.119Z"
   },
   {
    "duration": 8,
    "start_time": "2021-11-14T21:32:49.321Z"
   },
   {
    "duration": 211,
    "start_time": "2021-11-14T21:32:49.331Z"
   },
   {
    "duration": 9,
    "start_time": "2021-11-14T21:32:49.544Z"
   },
   {
    "duration": 4,
    "start_time": "2021-11-14T21:32:49.555Z"
   },
   {
    "duration": 273,
    "start_time": "2021-11-14T21:32:49.561Z"
   },
   {
    "duration": 12,
    "start_time": "2021-11-14T21:32:49.836Z"
   },
   {
    "duration": 311,
    "start_time": "2021-11-14T21:32:49.852Z"
   },
   {
    "duration": 4,
    "start_time": "2021-11-14T21:32:50.165Z"
   },
   {
    "duration": 288,
    "start_time": "2021-11-14T21:32:50.171Z"
   },
   {
    "duration": 11,
    "start_time": "2021-11-14T21:32:50.461Z"
   },
   {
    "duration": 18,
    "start_time": "2021-11-14T21:32:50.474Z"
   },
   {
    "duration": 13,
    "start_time": "2021-11-14T21:32:50.494Z"
   },
   {
    "duration": 67,
    "start_time": "2021-11-14T21:32:50.509Z"
   },
   {
    "duration": 37,
    "start_time": "2021-11-14T21:32:50.578Z"
   },
   {
    "duration": 267,
    "start_time": "2021-11-14T21:32:50.617Z"
   },
   {
    "duration": 27,
    "start_time": "2021-11-14T21:32:50.886Z"
   },
   {
    "duration": 4,
    "start_time": "2021-11-14T21:32:50.915Z"
   },
   {
    "duration": 312,
    "start_time": "2021-11-14T21:32:50.921Z"
   },
   {
    "duration": 10,
    "start_time": "2021-11-14T21:32:51.235Z"
   },
   {
    "duration": 203,
    "start_time": "2021-11-14T21:32:51.247Z"
   },
   {
    "duration": 6,
    "start_time": "2021-11-14T21:32:51.453Z"
   },
   {
    "duration": 219,
    "start_time": "2021-11-14T21:32:51.462Z"
   },
   {
    "duration": 342,
    "start_time": "2021-11-14T21:32:51.684Z"
   },
   {
    "duration": 26,
    "start_time": "2021-11-14T21:33:12.754Z"
   },
   {
    "duration": 22,
    "start_time": "2021-11-14T21:33:15.288Z"
   },
   {
    "duration": 872,
    "start_time": "2021-11-14T21:33:25.958Z"
   },
   {
    "duration": 21,
    "start_time": "2021-11-14T21:33:26.832Z"
   },
   {
    "duration": 49,
    "start_time": "2021-11-14T21:33:26.855Z"
   },
   {
    "duration": 9,
    "start_time": "2021-11-14T21:33:26.906Z"
   },
   {
    "duration": 35,
    "start_time": "2021-11-14T21:33:26.917Z"
   },
   {
    "duration": 20,
    "start_time": "2021-11-14T21:33:26.954Z"
   },
   {
    "duration": 30,
    "start_time": "2021-11-14T21:33:26.976Z"
   },
   {
    "duration": 43,
    "start_time": "2021-11-14T21:33:27.009Z"
   },
   {
    "duration": 34,
    "start_time": "2021-11-14T21:33:27.057Z"
   },
   {
    "duration": 397,
    "start_time": "2021-11-14T21:33:27.093Z"
   },
   {
    "duration": 180,
    "start_time": "2021-11-14T21:33:27.492Z"
   },
   {
    "duration": 192,
    "start_time": "2021-11-14T21:33:27.674Z"
   },
   {
    "duration": 252,
    "start_time": "2021-11-14T21:33:27.867Z"
   },
   {
    "duration": 190,
    "start_time": "2021-11-14T21:33:28.121Z"
   },
   {
    "duration": 8,
    "start_time": "2021-11-14T21:33:28.313Z"
   },
   {
    "duration": 202,
    "start_time": "2021-11-14T21:33:28.323Z"
   },
   {
    "duration": 8,
    "start_time": "2021-11-14T21:33:28.527Z"
   },
   {
    "duration": 8,
    "start_time": "2021-11-14T21:33:28.544Z"
   },
   {
    "duration": 318,
    "start_time": "2021-11-14T21:33:28.553Z"
   },
   {
    "duration": 4,
    "start_time": "2021-11-14T21:33:28.873Z"
   },
   {
    "duration": 375,
    "start_time": "2021-11-14T21:33:28.879Z"
   },
   {
    "duration": 6,
    "start_time": "2021-11-14T21:33:29.256Z"
   },
   {
    "duration": 273,
    "start_time": "2021-11-14T21:33:29.266Z"
   },
   {
    "duration": 14,
    "start_time": "2021-11-14T21:33:29.544Z"
   },
   {
    "duration": 22,
    "start_time": "2021-11-14T21:33:29.559Z"
   },
   {
    "duration": 8,
    "start_time": "2021-11-14T21:33:29.583Z"
   },
   {
    "duration": 53,
    "start_time": "2021-11-14T21:33:29.593Z"
   },
   {
    "duration": 35,
    "start_time": "2021-11-14T21:33:29.650Z"
   },
   {
    "duration": 262,
    "start_time": "2021-11-14T21:33:29.687Z"
   },
   {
    "duration": 39,
    "start_time": "2021-11-14T21:33:29.951Z"
   },
   {
    "duration": 5,
    "start_time": "2021-11-14T21:33:29.991Z"
   },
   {
    "duration": 227,
    "start_time": "2021-11-14T21:33:29.998Z"
   },
   {
    "duration": 5,
    "start_time": "2021-11-14T21:33:30.226Z"
   },
   {
    "duration": 188,
    "start_time": "2021-11-14T21:33:30.245Z"
   },
   {
    "duration": 12,
    "start_time": "2021-11-14T21:33:30.435Z"
   },
   {
    "duration": 232,
    "start_time": "2021-11-14T21:33:30.448Z"
   },
   {
    "duration": 248,
    "start_time": "2021-11-14T21:33:30.682Z"
   },
   {
    "duration": 33,
    "start_time": "2021-11-14T21:33:56.237Z"
   },
   {
    "duration": 30,
    "start_time": "2021-11-14T21:33:58.485Z"
   },
   {
    "duration": 5950,
    "start_time": "2021-11-14T21:50:07.251Z"
   },
   {
    "duration": 4,
    "start_time": "2021-11-14T21:50:49.114Z"
   },
   {
    "duration": 4,
    "start_time": "2021-11-14T21:51:02.413Z"
   },
   {
    "duration": 81,
    "start_time": "2021-11-14T21:51:53.144Z"
   },
   {
    "duration": 27,
    "start_time": "2021-11-14T21:52:00.654Z"
   },
   {
    "duration": 41,
    "start_time": "2021-11-14T21:52:20.640Z"
   },
   {
    "duration": 15,
    "start_time": "2021-11-14T21:53:16.606Z"
   },
   {
    "duration": 22,
    "start_time": "2021-11-14T21:53:30.715Z"
   },
   {
    "duration": 272,
    "start_time": "2021-11-14T21:54:17.193Z"
   },
   {
    "duration": 4,
    "start_time": "2021-11-14T21:54:27.967Z"
   },
   {
    "duration": 92,
    "start_time": "2021-11-14T21:55:34.614Z"
   },
   {
    "duration": 10,
    "start_time": "2021-11-14T21:55:34.708Z"
   },
   {
    "duration": 60,
    "start_time": "2021-11-14T21:55:34.720Z"
   },
   {
    "duration": 9,
    "start_time": "2021-11-14T21:55:34.782Z"
   },
   {
    "duration": 10,
    "start_time": "2021-11-14T21:55:34.794Z"
   },
   {
    "duration": 51,
    "start_time": "2021-11-14T21:55:34.807Z"
   },
   {
    "duration": 36,
    "start_time": "2021-11-14T21:55:34.860Z"
   },
   {
    "duration": 62,
    "start_time": "2021-11-14T21:55:34.899Z"
   },
   {
    "duration": 34,
    "start_time": "2021-11-14T21:55:34.964Z"
   },
   {
    "duration": 298,
    "start_time": "2021-11-14T21:55:35.000Z"
   },
   {
    "duration": 197,
    "start_time": "2021-11-14T21:55:35.300Z"
   },
   {
    "duration": 191,
    "start_time": "2021-11-14T21:55:35.499Z"
   },
   {
    "duration": 220,
    "start_time": "2021-11-14T21:55:35.692Z"
   },
   {
    "duration": 209,
    "start_time": "2021-11-14T21:55:35.913Z"
   },
   {
    "duration": 9,
    "start_time": "2021-11-14T21:55:36.124Z"
   },
   {
    "duration": 218,
    "start_time": "2021-11-14T21:55:36.145Z"
   },
   {
    "duration": 11,
    "start_time": "2021-11-14T21:55:36.366Z"
   },
   {
    "duration": 14,
    "start_time": "2021-11-14T21:55:36.378Z"
   },
   {
    "duration": 371,
    "start_time": "2021-11-14T21:55:36.394Z"
   },
   {
    "duration": 5,
    "start_time": "2021-11-14T21:55:36.767Z"
   },
   {
    "duration": 270,
    "start_time": "2021-11-14T21:55:36.774Z"
   },
   {
    "duration": 5,
    "start_time": "2021-11-14T21:55:37.046Z"
   },
   {
    "duration": 320,
    "start_time": "2021-11-14T21:55:37.055Z"
   },
   {
    "duration": 11,
    "start_time": "2021-11-14T21:55:37.378Z"
   },
   {
    "duration": 24,
    "start_time": "2021-11-14T21:55:37.391Z"
   },
   {
    "duration": 4,
    "start_time": "2021-11-14T21:55:37.417Z"
   },
   {
    "duration": 28,
    "start_time": "2021-11-14T21:55:37.444Z"
   },
   {
    "duration": 3,
    "start_time": "2021-11-14T21:55:37.473Z"
   },
   {
    "duration": 24,
    "start_time": "2021-11-14T21:55:37.478Z"
   },
   {
    "duration": 4,
    "start_time": "2021-11-14T21:55:37.503Z"
   },
   {
    "duration": 83,
    "start_time": "2021-11-14T21:55:37.509Z"
   },
   {
    "duration": 37,
    "start_time": "2021-11-14T21:55:37.595Z"
   },
   {
    "duration": 249,
    "start_time": "2021-11-14T21:55:37.634Z"
   },
   {
    "duration": 26,
    "start_time": "2021-11-14T21:55:37.885Z"
   },
   {
    "duration": 5,
    "start_time": "2021-11-14T21:55:37.913Z"
   },
   {
    "duration": 228,
    "start_time": "2021-11-14T21:55:37.919Z"
   },
   {
    "duration": 6,
    "start_time": "2021-11-14T21:55:38.149Z"
   },
   {
    "duration": 355,
    "start_time": "2021-11-14T21:55:38.157Z"
   },
   {
    "duration": 4,
    "start_time": "2021-11-14T21:55:38.514Z"
   },
   {
    "duration": 226,
    "start_time": "2021-11-14T21:55:38.520Z"
   },
   {
    "duration": 257,
    "start_time": "2021-11-14T21:55:38.748Z"
   },
   {
    "duration": 698,
    "start_time": "2021-11-14T22:05:56.254Z"
   },
   {
    "duration": 11,
    "start_time": "2021-11-14T22:05:56.954Z"
   },
   {
    "duration": 33,
    "start_time": "2021-11-14T22:05:56.967Z"
   },
   {
    "duration": 10,
    "start_time": "2021-11-14T22:05:57.001Z"
   },
   {
    "duration": 36,
    "start_time": "2021-11-14T22:05:57.013Z"
   },
   {
    "duration": 20,
    "start_time": "2021-11-14T22:05:57.051Z"
   },
   {
    "duration": 27,
    "start_time": "2021-11-14T22:05:57.073Z"
   },
   {
    "duration": 60,
    "start_time": "2021-11-14T22:05:57.102Z"
   },
   {
    "duration": 24,
    "start_time": "2021-11-14T22:05:57.164Z"
   },
   {
    "duration": 284,
    "start_time": "2021-11-14T22:05:57.190Z"
   },
   {
    "duration": 179,
    "start_time": "2021-11-14T22:05:57.476Z"
   },
   {
    "duration": 195,
    "start_time": "2021-11-14T22:05:57.657Z"
   },
   {
    "duration": 260,
    "start_time": "2021-11-14T22:05:57.855Z"
   },
   {
    "duration": 215,
    "start_time": "2021-11-14T22:05:58.116Z"
   },
   {
    "duration": 15,
    "start_time": "2021-11-14T22:05:58.333Z"
   },
   {
    "duration": 213,
    "start_time": "2021-11-14T22:05:58.351Z"
   },
   {
    "duration": 9,
    "start_time": "2021-11-14T22:05:58.566Z"
   },
   {
    "duration": 4,
    "start_time": "2021-11-14T22:05:58.576Z"
   },
   {
    "duration": 317,
    "start_time": "2021-11-14T22:05:58.582Z"
   },
   {
    "duration": 4,
    "start_time": "2021-11-14T22:05:58.901Z"
   },
   {
    "duration": 286,
    "start_time": "2021-11-14T22:05:58.907Z"
   },
   {
    "duration": 4,
    "start_time": "2021-11-14T22:05:59.195Z"
   },
   {
    "duration": 279,
    "start_time": "2021-11-14T22:05:59.203Z"
   },
   {
    "duration": 9,
    "start_time": "2021-11-14T22:05:59.484Z"
   },
   {
    "duration": 22,
    "start_time": "2021-11-14T22:05:59.495Z"
   },
   {
    "duration": 29,
    "start_time": "2021-11-14T22:05:59.519Z"
   },
   {
    "duration": 24,
    "start_time": "2021-11-14T22:05:59.551Z"
   },
   {
    "duration": 4,
    "start_time": "2021-11-14T22:05:59.577Z"
   },
   {
    "duration": 37,
    "start_time": "2021-11-14T22:05:59.582Z"
   },
   {
    "duration": 4,
    "start_time": "2021-11-14T22:05:59.620Z"
   },
   {
    "duration": 57,
    "start_time": "2021-11-14T22:05:59.626Z"
   },
   {
    "duration": 34,
    "start_time": "2021-11-14T22:05:59.685Z"
   },
   {
    "duration": 257,
    "start_time": "2021-11-14T22:05:59.721Z"
   },
   {
    "duration": 30,
    "start_time": "2021-11-14T22:05:59.980Z"
   },
   {
    "duration": 5,
    "start_time": "2021-11-14T22:06:00.012Z"
   },
   {
    "duration": 266,
    "start_time": "2021-11-14T22:06:00.019Z"
   },
   {
    "duration": 7,
    "start_time": "2021-11-14T22:06:00.287Z"
   },
   {
    "duration": 212,
    "start_time": "2021-11-14T22:06:00.296Z"
   },
   {
    "duration": 4,
    "start_time": "2021-11-14T22:06:00.510Z"
   },
   {
    "duration": 235,
    "start_time": "2021-11-14T22:06:00.516Z"
   },
   {
    "duration": 247,
    "start_time": "2021-11-14T22:06:00.754Z"
   },
   {
    "duration": 888,
    "start_time": "2021-11-15T11:08:08.851Z"
   },
   {
    "duration": 15,
    "start_time": "2021-11-15T11:08:09.742Z"
   },
   {
    "duration": 73,
    "start_time": "2021-11-15T11:08:09.760Z"
   },
   {
    "duration": 11,
    "start_time": "2021-11-15T11:08:09.835Z"
   },
   {
    "duration": 14,
    "start_time": "2021-11-15T11:08:09.849Z"
   },
   {
    "duration": 22,
    "start_time": "2021-11-15T11:08:09.866Z"
   },
   {
    "duration": 80,
    "start_time": "2021-11-15T11:08:09.890Z"
   },
   {
    "duration": 56,
    "start_time": "2021-11-15T11:08:09.973Z"
   },
   {
    "duration": 38,
    "start_time": "2021-11-15T11:08:10.032Z"
   },
   {
    "duration": 445,
    "start_time": "2021-11-15T11:08:10.073Z"
   },
   {
    "duration": 291,
    "start_time": "2021-11-15T11:08:10.521Z"
   },
   {
    "duration": 303,
    "start_time": "2021-11-15T11:08:10.815Z"
   },
   {
    "duration": 389,
    "start_time": "2021-11-15T11:08:11.121Z"
   },
   {
    "duration": 335,
    "start_time": "2021-11-15T11:08:11.512Z"
   },
   {
    "duration": 11,
    "start_time": "2021-11-15T11:08:11.849Z"
   },
   {
    "duration": 332,
    "start_time": "2021-11-15T11:08:11.862Z"
   },
   {
    "duration": 12,
    "start_time": "2021-11-15T11:08:12.197Z"
   },
   {
    "duration": 22,
    "start_time": "2021-11-15T11:08:12.211Z"
   },
   {
    "duration": 416,
    "start_time": "2021-11-15T11:08:12.236Z"
   },
   {
    "duration": 5,
    "start_time": "2021-11-15T11:08:12.655Z"
   },
   {
    "duration": 423,
    "start_time": "2021-11-15T11:08:12.663Z"
   },
   {
    "duration": 7,
    "start_time": "2021-11-15T11:08:13.088Z"
   },
   {
    "duration": 412,
    "start_time": "2021-11-15T11:08:13.100Z"
   },
   {
    "duration": 14,
    "start_time": "2021-11-15T11:08:13.515Z"
   },
   {
    "duration": 29,
    "start_time": "2021-11-15T11:08:13.531Z"
   },
   {
    "duration": 5,
    "start_time": "2021-11-15T11:08:13.562Z"
   },
   {
    "duration": 67,
    "start_time": "2021-11-15T11:08:13.569Z"
   },
   {
    "duration": 5,
    "start_time": "2021-11-15T11:08:13.638Z"
   },
   {
    "duration": 39,
    "start_time": "2021-11-15T11:08:13.645Z"
   },
   {
    "duration": 4,
    "start_time": "2021-11-15T11:08:13.686Z"
   },
   {
    "duration": 92,
    "start_time": "2021-11-15T11:08:13.692Z"
   },
   {
    "duration": 72,
    "start_time": "2021-11-15T11:08:13.786Z"
   },
   {
    "duration": 371,
    "start_time": "2021-11-15T11:08:13.861Z"
   },
   {
    "duration": 43,
    "start_time": "2021-11-15T11:08:14.234Z"
   },
   {
    "duration": 6,
    "start_time": "2021-11-15T11:08:14.280Z"
   },
   {
    "duration": 352,
    "start_time": "2021-11-15T11:08:14.288Z"
   },
   {
    "duration": 7,
    "start_time": "2021-11-15T11:08:14.642Z"
   },
   {
    "duration": 329,
    "start_time": "2021-11-15T11:08:14.651Z"
   },
   {
    "duration": 7,
    "start_time": "2021-11-15T11:08:14.982Z"
   },
   {
    "duration": 339,
    "start_time": "2021-11-15T11:08:14.992Z"
   },
   {
    "duration": 491,
    "start_time": "2021-11-15T11:08:15.334Z"
   },
   {
    "duration": 238,
    "start_time": "2021-11-15T17:58:00.225Z"
   },
   {
    "duration": 893,
    "start_time": "2021-11-15T17:59:50.601Z"
   },
   {
    "duration": 20,
    "start_time": "2021-11-15T17:59:51.497Z"
   },
   {
    "duration": 81,
    "start_time": "2021-11-15T17:59:51.521Z"
   },
   {
    "duration": 16,
    "start_time": "2021-11-15T17:59:51.606Z"
   },
   {
    "duration": 20,
    "start_time": "2021-11-15T17:59:51.659Z"
   },
   {
    "duration": 23,
    "start_time": "2021-11-15T17:59:51.681Z"
   },
   {
    "duration": 77,
    "start_time": "2021-11-15T17:59:51.706Z"
   },
   {
    "duration": 36,
    "start_time": "2021-11-15T17:59:51.787Z"
   },
   {
    "duration": 60,
    "start_time": "2021-11-15T17:59:51.826Z"
   },
   {
    "duration": 444,
    "start_time": "2021-11-15T17:59:51.888Z"
   },
   {
    "duration": 306,
    "start_time": "2021-11-15T17:59:52.334Z"
   },
   {
    "duration": 302,
    "start_time": "2021-11-15T17:59:52.642Z"
   },
   {
    "duration": 394,
    "start_time": "2021-11-15T17:59:52.946Z"
   },
   {
    "duration": 341,
    "start_time": "2021-11-15T17:59:53.342Z"
   },
   {
    "duration": 12,
    "start_time": "2021-11-15T17:59:53.685Z"
   },
   {
    "duration": 336,
    "start_time": "2021-11-15T17:59:53.700Z"
   },
   {
    "duration": 27,
    "start_time": "2021-11-15T17:59:54.039Z"
   },
   {
    "duration": 7,
    "start_time": "2021-11-15T17:59:54.069Z"
   },
   {
    "duration": 443,
    "start_time": "2021-11-15T17:59:54.078Z"
   },
   {
    "duration": 5,
    "start_time": "2021-11-15T17:59:54.523Z"
   },
   {
    "duration": 416,
    "start_time": "2021-11-15T17:59:54.531Z"
   },
   {
    "duration": 9,
    "start_time": "2021-11-15T17:59:54.950Z"
   },
   {
    "duration": 415,
    "start_time": "2021-11-15T17:59:54.964Z"
   },
   {
    "duration": 11,
    "start_time": "2021-11-15T17:59:55.381Z"
   },
   {
    "duration": 26,
    "start_time": "2021-11-15T17:59:55.395Z"
   },
   {
    "duration": 38,
    "start_time": "2021-11-15T17:59:55.424Z"
   },
   {
    "duration": 36,
    "start_time": "2021-11-15T17:59:55.464Z"
   },
   {
    "duration": 5,
    "start_time": "2021-11-15T17:59:55.502Z"
   },
   {
    "duration": 76,
    "start_time": "2021-11-15T17:59:55.509Z"
   },
   {
    "duration": 5,
    "start_time": "2021-11-15T17:59:55.587Z"
   },
   {
    "duration": 78,
    "start_time": "2021-11-15T17:59:55.594Z"
   },
   {
    "duration": 53,
    "start_time": "2021-11-15T17:59:55.675Z"
   },
   {
    "duration": 443,
    "start_time": "2021-11-15T17:59:55.730Z"
   },
   {
    "duration": 62,
    "start_time": "2021-11-15T17:59:56.176Z"
   },
   {
    "duration": 9,
    "start_time": "2021-11-15T17:59:56.260Z"
   },
   {
    "duration": 341,
    "start_time": "2021-11-15T17:59:56.272Z"
   },
   {
    "duration": 6,
    "start_time": "2021-11-15T17:59:56.615Z"
   },
   {
    "duration": 327,
    "start_time": "2021-11-15T17:59:56.623Z"
   },
   {
    "duration": 10,
    "start_time": "2021-11-15T17:59:56.952Z"
   },
   {
    "duration": 339,
    "start_time": "2021-11-15T17:59:56.966Z"
   },
   {
    "duration": 408,
    "start_time": "2021-11-15T17:59:57.307Z"
   },
   {
    "duration": 61,
    "start_time": "2021-11-15T18:06:10.617Z"
   },
   {
    "duration": 14,
    "start_time": "2021-11-15T18:06:46.015Z"
   },
   {
    "duration": 17,
    "start_time": "2021-11-15T18:06:54.441Z"
   },
   {
    "duration": 491,
    "start_time": "2021-11-15T18:08:19.181Z"
   },
   {
    "duration": 5,
    "start_time": "2021-11-15T18:08:46.211Z"
   },
   {
    "duration": 5,
    "start_time": "2021-11-15T18:09:03.903Z"
   },
   {
    "duration": 5,
    "start_time": "2021-11-15T18:09:13.272Z"
   },
   {
    "duration": 6,
    "start_time": "2021-11-15T18:09:19.175Z"
   },
   {
    "duration": 401,
    "start_time": "2021-11-15T18:11:18.579Z"
   },
   {
    "duration": 450,
    "start_time": "2021-11-15T18:11:39.912Z"
   },
   {
    "duration": 392,
    "start_time": "2021-11-15T18:11:51.441Z"
   },
   {
    "duration": 33,
    "start_time": "2021-11-15T18:13:11.135Z"
   },
   {
    "duration": 20,
    "start_time": "2021-11-15T18:13:32.281Z"
   },
   {
    "duration": 17,
    "start_time": "2021-11-15T18:14:22.206Z"
   },
   {
    "duration": 18,
    "start_time": "2021-11-15T18:14:43.026Z"
   },
   {
    "duration": 11100,
    "start_time": "2021-11-15T18:16:16.612Z"
   },
   {
    "duration": 149500,
    "start_time": "2021-11-15T18:14:09.439Z"
   },
   {
    "duration": 114,
    "start_time": "2021-11-15T18:16:40.280Z"
   },
   {
    "duration": 14,
    "start_time": "2021-11-15T18:16:40.397Z"
   },
   {
    "duration": 86,
    "start_time": "2021-11-15T18:16:40.414Z"
   },
   {
    "duration": 12,
    "start_time": "2021-11-15T18:16:40.503Z"
   },
   {
    "duration": 50,
    "start_time": "2021-11-15T18:16:40.517Z"
   },
   {
    "duration": 10298,
    "start_time": "2021-11-15T18:16:40.569Z"
   },
   {
    "duration": 150520,
    "start_time": "2021-11-15T18:14:20.353Z"
   },
   {
    "duration": 150510,
    "start_time": "2021-11-15T18:14:20.365Z"
   },
   {
    "duration": 150488,
    "start_time": "2021-11-15T18:14:20.389Z"
   },
   {
    "duration": 150465,
    "start_time": "2021-11-15T18:14:20.414Z"
   },
   {
    "duration": 150443,
    "start_time": "2021-11-15T18:14:20.438Z"
   },
   {
    "duration": 150327,
    "start_time": "2021-11-15T18:14:20.556Z"
   },
   {
    "duration": 150278,
    "start_time": "2021-11-15T18:14:20.607Z"
   },
   {
    "duration": 150196,
    "start_time": "2021-11-15T18:14:20.690Z"
   },
   {
    "duration": 150137,
    "start_time": "2021-11-15T18:14:20.751Z"
   },
   {
    "duration": 150117,
    "start_time": "2021-11-15T18:14:20.772Z"
   },
   {
    "duration": 150103,
    "start_time": "2021-11-15T18:14:20.787Z"
   },
   {
    "duration": 150091,
    "start_time": "2021-11-15T18:14:20.801Z"
   },
   {
    "duration": 150075,
    "start_time": "2021-11-15T18:14:20.818Z"
   },
   {
    "duration": 150062,
    "start_time": "2021-11-15T18:14:20.832Z"
   },
   {
    "duration": 150006,
    "start_time": "2021-11-15T18:14:20.890Z"
   },
   {
    "duration": 149989,
    "start_time": "2021-11-15T18:14:20.908Z"
   },
   {
    "duration": 149979,
    "start_time": "2021-11-15T18:14:20.920Z"
   },
   {
    "duration": 149968,
    "start_time": "2021-11-15T18:14:20.932Z"
   },
   {
    "duration": 149957,
    "start_time": "2021-11-15T18:14:20.944Z"
   },
   {
    "duration": 149944,
    "start_time": "2021-11-15T18:14:20.959Z"
   },
   {
    "duration": 149935,
    "start_time": "2021-11-15T18:14:20.969Z"
   },
   {
    "duration": 149895,
    "start_time": "2021-11-15T18:14:21.011Z"
   },
   {
    "duration": 149880,
    "start_time": "2021-11-15T18:14:21.027Z"
   },
   {
    "duration": 149922,
    "start_time": "2021-11-15T18:14:21.039Z"
   },
   {
    "duration": 149911,
    "start_time": "2021-11-15T18:14:21.051Z"
   },
   {
    "duration": 149903,
    "start_time": "2021-11-15T18:14:21.061Z"
   },
   {
    "duration": 149894,
    "start_time": "2021-11-15T18:14:21.071Z"
   },
   {
    "duration": 149885,
    "start_time": "2021-11-15T18:14:21.081Z"
   },
   {
    "duration": 149878,
    "start_time": "2021-11-15T18:14:21.090Z"
   },
   {
    "duration": 149842,
    "start_time": "2021-11-15T18:14:21.128Z"
   },
   {
    "duration": 149832,
    "start_time": "2021-11-15T18:14:21.139Z"
   },
   {
    "duration": 149821,
    "start_time": "2021-11-15T18:14:21.152Z"
   },
   {
    "duration": 149810,
    "start_time": "2021-11-15T18:14:21.164Z"
   },
   {
    "duration": 149801,
    "start_time": "2021-11-15T18:14:21.174Z"
   },
   {
    "duration": 149791,
    "start_time": "2021-11-15T18:14:21.186Z"
   },
   {
    "duration": 149778,
    "start_time": "2021-11-15T18:14:21.200Z"
   },
   {
    "duration": 149766,
    "start_time": "2021-11-15T18:14:21.214Z"
   },
   {
    "duration": 6,
    "start_time": "2021-11-15T18:17:17.191Z"
   },
   {
    "duration": 125,
    "start_time": "2021-11-15T18:17:20.841Z"
   },
   {
    "duration": 19,
    "start_time": "2021-11-15T18:17:20.968Z"
   },
   {
    "duration": 93,
    "start_time": "2021-11-15T18:17:20.991Z"
   },
   {
    "duration": 12,
    "start_time": "2021-11-15T18:17:21.087Z"
   },
   {
    "duration": 22,
    "start_time": "2021-11-15T18:17:21.102Z"
   },
   {
    "duration": 36,
    "start_time": "2021-11-15T18:17:21.127Z"
   },
   {
    "duration": 28,
    "start_time": "2021-11-15T18:17:21.166Z"
   },
   {
    "duration": 24,
    "start_time": "2021-11-15T18:17:21.198Z"
   },
   {
    "duration": 41,
    "start_time": "2021-11-15T18:17:21.260Z"
   },
   {
    "duration": 69,
    "start_time": "2021-11-15T18:17:21.304Z"
   },
   {
    "duration": 36,
    "start_time": "2021-11-15T18:17:21.375Z"
   },
   {
    "duration": 358,
    "start_time": "2021-11-15T18:17:21.413Z"
   },
   {
    "duration": 304,
    "start_time": "2021-11-15T18:17:21.774Z"
   },
   {
    "duration": 318,
    "start_time": "2021-11-15T18:17:22.081Z"
   },
   {
    "duration": 349,
    "start_time": "2021-11-15T18:17:22.402Z"
   },
   {
    "duration": 335,
    "start_time": "2021-11-15T18:17:22.754Z"
   },
   {
    "duration": 13,
    "start_time": "2021-11-15T18:17:23.091Z"
   },
   {
    "duration": 343,
    "start_time": "2021-11-15T18:17:23.106Z"
   },
   {
    "duration": 16,
    "start_time": "2021-11-15T18:17:23.451Z"
   },
   {
    "duration": 5,
    "start_time": "2021-11-15T18:17:23.469Z"
   },
   {
    "duration": 436,
    "start_time": "2021-11-15T18:17:23.477Z"
   },
   {
    "duration": 5,
    "start_time": "2021-11-15T18:17:23.916Z"
   },
   {
    "duration": 420,
    "start_time": "2021-11-15T18:17:23.926Z"
   },
   {
    "duration": 10,
    "start_time": "2021-11-15T18:17:24.349Z"
   },
   {
    "duration": 501,
    "start_time": "2021-11-15T18:17:24.361Z"
   },
   {
    "duration": 11,
    "start_time": "2021-11-15T18:17:24.864Z"
   },
   {
    "duration": 27,
    "start_time": "2021-11-15T18:17:24.878Z"
   },
   {
    "duration": 5,
    "start_time": "2021-11-15T18:17:24.907Z"
   },
   {
    "duration": 74,
    "start_time": "2021-11-15T18:17:24.914Z"
   },
   {
    "duration": 5,
    "start_time": "2021-11-15T18:17:24.991Z"
   },
   {
    "duration": 69,
    "start_time": "2021-11-15T18:17:24.998Z"
   },
   {
    "duration": 5,
    "start_time": "2021-11-15T18:17:25.070Z"
   },
   {
    "duration": 88,
    "start_time": "2021-11-15T18:17:25.077Z"
   },
   {
    "duration": 57,
    "start_time": "2021-11-15T18:17:25.167Z"
   },
   {
    "duration": 394,
    "start_time": "2021-11-15T18:17:25.226Z"
   },
   {
    "duration": 68,
    "start_time": "2021-11-15T18:17:25.623Z"
   },
   {
    "duration": 6,
    "start_time": "2021-11-15T18:17:25.693Z"
   },
   {
    "duration": 416,
    "start_time": "2021-11-15T18:17:25.701Z"
   },
   {
    "duration": 7,
    "start_time": "2021-11-15T18:17:26.119Z"
   },
   {
    "duration": 341,
    "start_time": "2021-11-15T18:17:26.128Z"
   },
   {
    "duration": 7,
    "start_time": "2021-11-15T18:17:26.471Z"
   },
   {
    "duration": 350,
    "start_time": "2021-11-15T18:17:26.480Z"
   },
   {
    "duration": 415,
    "start_time": "2021-11-15T18:17:26.832Z"
   },
   {
    "duration": 9,
    "start_time": "2021-11-15T18:18:09.153Z"
   },
   {
    "duration": 8,
    "start_time": "2021-11-15T18:18:39.998Z"
   },
   {
    "duration": 9,
    "start_time": "2021-11-15T18:18:55.640Z"
   },
   {
    "duration": 7,
    "start_time": "2021-11-15T18:23:42.668Z"
   },
   {
    "duration": 6,
    "start_time": "2021-11-15T18:31:26.321Z"
   },
   {
    "duration": 9,
    "start_time": "2021-11-15T18:32:21.833Z"
   },
   {
    "duration": 16,
    "start_time": "2021-11-15T18:32:42.629Z"
   },
   {
    "duration": 5,
    "start_time": "2021-11-15T18:33:35.212Z"
   },
   {
    "duration": 8,
    "start_time": "2021-11-15T18:34:05.960Z"
   },
   {
    "duration": 11,
    "start_time": "2021-11-15T18:34:21.837Z"
   },
   {
    "duration": 18,
    "start_time": "2021-11-15T18:36:43.636Z"
   },
   {
    "duration": 845,
    "start_time": "2021-11-15T18:38:02.803Z"
   },
   {
    "duration": 22,
    "start_time": "2021-11-15T18:38:03.651Z"
   },
   {
    "duration": 86,
    "start_time": "2021-11-15T18:38:03.679Z"
   },
   {
    "duration": 16,
    "start_time": "2021-11-15T18:38:03.767Z"
   },
   {
    "duration": 6,
    "start_time": "2021-11-15T18:38:03.785Z"
   },
   {
    "duration": 30,
    "start_time": "2021-11-15T18:38:03.792Z"
   },
   {
    "duration": 5,
    "start_time": "2021-11-15T18:38:03.861Z"
   },
   {
    "duration": 11,
    "start_time": "2021-11-15T18:38:03.870Z"
   },
   {
    "duration": 7,
    "start_time": "2021-11-15T18:38:03.883Z"
   },
   {
    "duration": 9,
    "start_time": "2021-11-15T18:38:03.892Z"
   },
   {
    "duration": 7,
    "start_time": "2021-11-15T18:38:03.903Z"
   },
   {
    "duration": 57,
    "start_time": "2021-11-15T18:38:03.912Z"
   },
   {
    "duration": 15,
    "start_time": "2021-11-15T18:38:03.972Z"
   },
   {
    "duration": 25,
    "start_time": "2021-11-15T18:38:03.989Z"
   },
   {
    "duration": 42,
    "start_time": "2021-11-15T18:38:04.059Z"
   },
   {
    "duration": 71,
    "start_time": "2021-11-15T18:38:04.104Z"
   },
   {
    "duration": 40,
    "start_time": "2021-11-15T18:38:04.178Z"
   },
   {
    "duration": 441,
    "start_time": "2021-11-15T18:38:04.221Z"
   },
   {
    "duration": 307,
    "start_time": "2021-11-15T18:38:04.665Z"
   },
   {
    "duration": 310,
    "start_time": "2021-11-15T18:38:04.976Z"
   },
   {
    "duration": 390,
    "start_time": "2021-11-15T18:38:05.289Z"
   },
   {
    "duration": 343,
    "start_time": "2021-11-15T18:38:05.688Z"
   },
   {
    "duration": 12,
    "start_time": "2021-11-15T18:38:06.035Z"
   },
   {
    "duration": 332,
    "start_time": "2021-11-15T18:38:06.060Z"
   },
   {
    "duration": 12,
    "start_time": "2021-11-15T18:38:06.395Z"
   },
   {
    "duration": 6,
    "start_time": "2021-11-15T18:38:06.409Z"
   },
   {
    "duration": 436,
    "start_time": "2021-11-15T18:38:06.417Z"
   },
   {
    "duration": 6,
    "start_time": "2021-11-15T18:38:06.860Z"
   },
   {
    "duration": 424,
    "start_time": "2021-11-15T18:38:06.868Z"
   },
   {
    "duration": 6,
    "start_time": "2021-11-15T18:38:07.295Z"
   },
   {
    "duration": 423,
    "start_time": "2021-11-15T18:38:07.303Z"
   },
   {
    "duration": 10,
    "start_time": "2021-11-15T18:38:07.728Z"
   },
   {
    "duration": 40,
    "start_time": "2021-11-15T18:38:07.741Z"
   },
   {
    "duration": 12,
    "start_time": "2021-11-15T18:38:07.784Z"
   },
   {
    "duration": 65,
    "start_time": "2021-11-15T18:38:07.798Z"
   },
   {
    "duration": 5,
    "start_time": "2021-11-15T18:38:07.865Z"
   },
   {
    "duration": 40,
    "start_time": "2021-11-15T18:38:07.872Z"
   },
   {
    "duration": 4,
    "start_time": "2021-11-15T18:38:07.914Z"
   },
   {
    "duration": 93,
    "start_time": "2021-11-15T18:38:07.920Z"
   },
   {
    "duration": 76,
    "start_time": "2021-11-15T18:38:08.015Z"
   },
   {
    "duration": 368,
    "start_time": "2021-11-15T18:38:08.094Z"
   },
   {
    "duration": 41,
    "start_time": "2021-11-15T18:38:08.465Z"
   },
   {
    "duration": 6,
    "start_time": "2021-11-15T18:38:08.509Z"
   },
   {
    "duration": 355,
    "start_time": "2021-11-15T18:38:08.518Z"
   },
   {
    "duration": 6,
    "start_time": "2021-11-15T18:38:08.875Z"
   },
   {
    "duration": 325,
    "start_time": "2021-11-15T18:38:08.883Z"
   },
   {
    "duration": 6,
    "start_time": "2021-11-15T18:38:09.210Z"
   },
   {
    "duration": 347,
    "start_time": "2021-11-15T18:38:09.218Z"
   },
   {
    "duration": 394,
    "start_time": "2021-11-15T18:38:09.568Z"
   },
   {
    "duration": 8,
    "start_time": "2021-11-15T18:41:59.675Z"
   },
   {
    "duration": 6,
    "start_time": "2021-11-15T18:42:09.373Z"
   },
   {
    "duration": 12,
    "start_time": "2021-11-15T18:52:08.082Z"
   },
   {
    "duration": 13,
    "start_time": "2021-11-15T18:53:19.385Z"
   },
   {
    "duration": 446,
    "start_time": "2021-11-15T18:53:33.776Z"
   },
   {
    "duration": 598,
    "start_time": "2021-11-15T18:53:41.681Z"
   },
   {
    "duration": 424,
    "start_time": "2021-11-15T18:53:47.893Z"
   },
   {
    "duration": 508,
    "start_time": "2021-11-15T18:53:58.943Z"
   },
   {
    "duration": 11,
    "start_time": "2021-11-15T18:54:18.645Z"
   },
   {
    "duration": 391,
    "start_time": "2021-11-15T18:54:22.490Z"
   },
   {
    "duration": 12,
    "start_time": "2021-11-15T18:54:56.571Z"
   },
   {
    "duration": 493,
    "start_time": "2021-11-15T18:55:09.240Z"
   },
   {
    "duration": 15,
    "start_time": "2021-11-15T18:57:24.265Z"
   },
   {
    "duration": 343,
    "start_time": "2021-11-15T18:57:26.924Z"
   },
   {
    "duration": 739,
    "start_time": "2021-11-15T19:02:35.943Z"
   },
   {
    "duration": 350,
    "start_time": "2021-11-15T19:02:45.788Z"
   },
   {
    "duration": 1012,
    "start_time": "2021-11-15T19:05:27.572Z"
   },
   {
    "duration": 866,
    "start_time": "2021-11-15T19:05:40.470Z"
   },
   {
    "duration": 751,
    "start_time": "2021-11-15T19:06:07.197Z"
   },
   {
    "duration": 657,
    "start_time": "2021-11-15T19:06:17.923Z"
   },
   {
    "duration": 663,
    "start_time": "2021-11-15T19:06:40.652Z"
   },
   {
    "duration": 987,
    "start_time": "2021-11-15T19:10:18.240Z"
   },
   {
    "duration": 1063,
    "start_time": "2021-11-15T19:10:40.532Z"
   },
   {
    "duration": 677,
    "start_time": "2021-11-15T19:10:49.451Z"
   },
   {
    "duration": 630,
    "start_time": "2021-11-15T19:12:19.147Z"
   },
   {
    "duration": 612,
    "start_time": "2021-11-15T19:12:54.169Z"
   },
   {
    "duration": 400,
    "start_time": "2021-11-15T19:14:06.147Z"
   },
   {
    "duration": 193,
    "start_time": "2021-11-15T19:18:40.585Z"
   },
   {
    "duration": 1032,
    "start_time": "2021-11-15T19:29:17.779Z"
   },
   {
    "duration": 24,
    "start_time": "2021-11-15T19:29:18.815Z"
   },
   {
    "duration": 85,
    "start_time": "2021-11-15T19:29:18.843Z"
   },
   {
    "duration": 41,
    "start_time": "2021-11-15T19:29:18.932Z"
   },
   {
    "duration": 8,
    "start_time": "2021-11-15T19:29:18.976Z"
   },
   {
    "duration": 26,
    "start_time": "2021-11-15T19:29:18.987Z"
   },
   {
    "duration": 47,
    "start_time": "2021-11-15T19:29:19.016Z"
   },
   {
    "duration": 14,
    "start_time": "2021-11-15T19:29:19.070Z"
   },
   {
    "duration": 10,
    "start_time": "2021-11-15T19:29:19.088Z"
   },
   {
    "duration": 14,
    "start_time": "2021-11-15T19:29:19.101Z"
   },
   {
    "duration": 10,
    "start_time": "2021-11-15T19:29:19.158Z"
   },
   {
    "duration": 14,
    "start_time": "2021-11-15T19:29:19.170Z"
   },
   {
    "duration": 14,
    "start_time": "2021-11-15T19:29:19.187Z"
   },
   {
    "duration": 77,
    "start_time": "2021-11-15T19:29:19.204Z"
   },
   {
    "duration": 42,
    "start_time": "2021-11-15T19:29:19.283Z"
   },
   {
    "duration": 37,
    "start_time": "2021-11-15T19:29:19.359Z"
   },
   {
    "duration": 61,
    "start_time": "2021-11-15T19:29:19.398Z"
   },
   {
    "duration": 433,
    "start_time": "2021-11-15T19:29:19.462Z"
   },
   {
    "duration": 464,
    "start_time": "2021-11-15T19:29:19.899Z"
   },
   {
    "duration": 360,
    "start_time": "2021-11-15T19:29:20.367Z"
   },
   {
    "duration": 490,
    "start_time": "2021-11-15T19:29:20.730Z"
   },
   {
    "duration": 353,
    "start_time": "2021-11-15T19:29:21.223Z"
   },
   {
    "duration": 13,
    "start_time": "2021-11-15T19:29:21.582Z"
   },
   {
    "duration": 385,
    "start_time": "2021-11-15T19:29:21.599Z"
   },
   {
    "duration": 16,
    "start_time": "2021-11-15T19:29:21.987Z"
   },
   {
    "duration": 8,
    "start_time": "2021-11-15T19:29:22.006Z"
   },
   {
    "duration": 537,
    "start_time": "2021-11-15T19:29:22.017Z"
   },
   {
    "duration": 7,
    "start_time": "2021-11-15T19:29:22.560Z"
   },
   {
    "duration": 435,
    "start_time": "2021-11-15T19:29:22.569Z"
   },
   {
    "duration": 7,
    "start_time": "2021-11-15T19:29:23.006Z"
   },
   {
    "duration": 634,
    "start_time": "2021-11-15T19:29:23.016Z"
   },
   {
    "duration": 16,
    "start_time": "2021-11-15T19:29:23.660Z"
   },
   {
    "duration": 41,
    "start_time": "2021-11-15T19:29:23.679Z"
   },
   {
    "duration": 39,
    "start_time": "2021-11-15T19:29:23.724Z"
   },
   {
    "duration": 51,
    "start_time": "2021-11-15T19:29:23.766Z"
   },
   {
    "duration": 5,
    "start_time": "2021-11-15T19:29:23.820Z"
   },
   {
    "duration": 90,
    "start_time": "2021-11-15T19:29:23.828Z"
   },
   {
    "duration": 6,
    "start_time": "2021-11-15T19:29:23.921Z"
   },
   {
    "duration": 88,
    "start_time": "2021-11-15T19:29:23.929Z"
   },
   {
    "duration": 81,
    "start_time": "2021-11-15T19:29:24.019Z"
   },
   {
    "duration": 414,
    "start_time": "2021-11-15T19:29:24.102Z"
   },
   {
    "duration": 57,
    "start_time": "2021-11-15T19:29:24.518Z"
   },
   {
    "duration": 19,
    "start_time": "2021-11-15T19:29:24.577Z"
   },
   {
    "duration": 353,
    "start_time": "2021-11-15T19:29:24.599Z"
   },
   {
    "duration": 10,
    "start_time": "2021-11-15T19:29:24.955Z"
   },
   {
    "duration": 471,
    "start_time": "2021-11-15T19:29:24.968Z"
   },
   {
    "duration": 19,
    "start_time": "2021-11-15T19:29:25.442Z"
   },
   {
    "duration": 545,
    "start_time": "2021-11-15T19:29:25.465Z"
   },
   {
    "duration": 438,
    "start_time": "2021-11-15T19:29:26.014Z"
   },
   {
    "duration": 652,
    "start_time": "2021-12-29T17:34:45.097Z"
   },
   {
    "duration": 12,
    "start_time": "2021-12-29T17:34:45.751Z"
   },
   {
    "duration": 49,
    "start_time": "2021-12-29T17:34:45.765Z"
   },
   {
    "duration": 11,
    "start_time": "2021-12-29T17:34:45.816Z"
   },
   {
    "duration": 5,
    "start_time": "2021-12-29T17:34:45.828Z"
   },
   {
    "duration": 15,
    "start_time": "2021-12-29T17:34:45.835Z"
   },
   {
    "duration": 5,
    "start_time": "2021-12-29T17:34:45.852Z"
   },
   {
    "duration": 36,
    "start_time": "2021-12-29T17:34:45.860Z"
   },
   {
    "duration": 5,
    "start_time": "2021-12-29T17:34:45.898Z"
   },
   {
    "duration": 5,
    "start_time": "2021-12-29T17:34:45.905Z"
   },
   {
    "duration": 6,
    "start_time": "2021-12-29T17:34:45.912Z"
   },
   {
    "duration": 10,
    "start_time": "2021-12-29T17:34:45.919Z"
   },
   {
    "duration": 11,
    "start_time": "2021-12-29T17:34:45.930Z"
   },
   {
    "duration": 18,
    "start_time": "2021-12-29T17:34:45.991Z"
   },
   {
    "duration": 26,
    "start_time": "2021-12-29T17:34:46.010Z"
   },
   {
    "duration": 24,
    "start_time": "2021-12-29T17:34:46.037Z"
   },
   {
    "duration": 49,
    "start_time": "2021-12-29T17:34:46.062Z"
   },
   {
    "duration": 273,
    "start_time": "2021-12-29T17:34:46.113Z"
   },
   {
    "duration": 190,
    "start_time": "2021-12-29T17:34:46.391Z"
   },
   {
    "duration": 188,
    "start_time": "2021-12-29T17:34:46.583Z"
   },
   {
    "duration": 254,
    "start_time": "2021-12-29T17:34:46.773Z"
   },
   {
    "duration": 206,
    "start_time": "2021-12-29T17:34:47.029Z"
   },
   {
    "duration": 10,
    "start_time": "2021-12-29T17:34:47.240Z"
   },
   {
    "duration": 215,
    "start_time": "2021-12-29T17:34:47.252Z"
   },
   {
    "duration": 10,
    "start_time": "2021-12-29T17:34:47.469Z"
   },
   {
    "duration": 4,
    "start_time": "2021-12-29T17:34:47.491Z"
   },
   {
    "duration": 271,
    "start_time": "2021-12-29T17:34:47.496Z"
   },
   {
    "duration": 4,
    "start_time": "2021-12-29T17:34:47.768Z"
   },
   {
    "duration": 271,
    "start_time": "2021-12-29T17:34:47.773Z"
   },
   {
    "duration": 5,
    "start_time": "2021-12-29T17:34:48.046Z"
   },
   {
    "duration": 274,
    "start_time": "2021-12-29T17:34:48.052Z"
   },
   {
    "duration": 9,
    "start_time": "2021-12-29T17:34:48.328Z"
   },
   {
    "duration": 17,
    "start_time": "2021-12-29T17:34:48.339Z"
   },
   {
    "duration": 4,
    "start_time": "2021-12-29T17:34:48.358Z"
   },
   {
    "duration": 23,
    "start_time": "2021-12-29T17:34:48.391Z"
   },
   {
    "duration": 4,
    "start_time": "2021-12-29T17:34:48.416Z"
   },
   {
    "duration": 21,
    "start_time": "2021-12-29T17:34:48.422Z"
   },
   {
    "duration": 3,
    "start_time": "2021-12-29T17:34:48.445Z"
   },
   {
    "duration": 67,
    "start_time": "2021-12-29T17:34:48.450Z"
   },
   {
    "duration": 42,
    "start_time": "2021-12-29T17:34:48.519Z"
   },
   {
    "duration": 251,
    "start_time": "2021-12-29T17:34:48.563Z"
   },
   {
    "duration": 27,
    "start_time": "2021-12-29T17:34:48.816Z"
   },
   {
    "duration": 4,
    "start_time": "2021-12-29T17:34:48.845Z"
   },
   {
    "duration": 228,
    "start_time": "2021-12-29T17:34:48.851Z"
   },
   {
    "duration": 5,
    "start_time": "2021-12-29T17:34:49.081Z"
   },
   {
    "duration": 205,
    "start_time": "2021-12-29T17:34:49.091Z"
   },
   {
    "duration": 5,
    "start_time": "2021-12-29T17:34:49.297Z"
   },
   {
    "duration": 225,
    "start_time": "2021-12-29T17:34:49.304Z"
   },
   {
    "duration": 261,
    "start_time": "2021-12-29T17:34:49.530Z"
   },
   {
    "duration": 236,
    "start_time": "2021-12-29T17:36:27.369Z"
   },
   {
    "duration": 16,
    "start_time": "2021-12-29T17:36:41.267Z"
   },
   {
    "duration": 16,
    "start_time": "2021-12-29T17:37:00.801Z"
   },
   {
    "duration": 17,
    "start_time": "2021-12-29T17:37:22.053Z"
   },
   {
    "duration": 8,
    "start_time": "2021-12-29T17:37:55.207Z"
   },
   {
    "duration": 16,
    "start_time": "2021-12-29T17:40:54.085Z"
   },
   {
    "duration": 1493,
    "start_time": "2021-12-29T17:41:55.399Z"
   },
   {
    "duration": 1291,
    "start_time": "2021-12-29T17:44:04.132Z"
   },
   {
    "duration": 221,
    "start_time": "2021-12-29T17:45:09.531Z"
   },
   {
    "duration": 194,
    "start_time": "2021-12-29T17:45:49.393Z"
   },
   {
    "duration": 994,
    "start_time": "2021-12-29T17:46:33.585Z"
   },
   {
    "duration": 191,
    "start_time": "2021-12-29T17:47:53.049Z"
   },
   {
    "duration": 200,
    "start_time": "2021-12-29T17:48:01.377Z"
   },
   {
    "duration": 98,
    "start_time": "2021-12-29T17:48:47.800Z"
   },
   {
    "duration": 17,
    "start_time": "2021-12-29T17:49:07.383Z"
   },
   {
    "duration": 3,
    "start_time": "2021-12-29T17:50:35.950Z"
   },
   {
    "duration": 203,
    "start_time": "2021-12-29T17:50:43.818Z"
   },
   {
    "duration": 3,
    "start_time": "2021-12-29T17:51:05.063Z"
   },
   {
    "duration": 191,
    "start_time": "2021-12-29T17:51:05.632Z"
   },
   {
    "duration": 54,
    "start_time": "2021-12-29T17:51:25.412Z"
   },
   {
    "duration": 371,
    "start_time": "2021-12-29T17:51:35.407Z"
   },
   {
    "duration": 348,
    "start_time": "2021-12-29T17:51:38.700Z"
   },
   {
    "duration": 2,
    "start_time": "2021-12-29T17:54:55.872Z"
   },
   {
    "duration": 3,
    "start_time": "2021-12-29T17:55:02.731Z"
   },
   {
    "duration": 3717,
    "start_time": "2021-12-29T17:55:03.157Z"
   },
   {
    "duration": 3501,
    "start_time": "2021-12-29T17:55:16.770Z"
   },
   {
    "duration": 16,
    "start_time": "2021-12-29T18:37:10.744Z"
   },
   {
    "duration": 86,
    "start_time": "2021-12-29T18:38:25.564Z"
   },
   {
    "duration": 10,
    "start_time": "2021-12-29T18:38:25.652Z"
   },
   {
    "duration": 47,
    "start_time": "2021-12-29T18:38:25.664Z"
   },
   {
    "duration": 8,
    "start_time": "2021-12-29T18:38:25.713Z"
   },
   {
    "duration": 4,
    "start_time": "2021-12-29T18:38:25.723Z"
   },
   {
    "duration": 12,
    "start_time": "2021-12-29T18:38:25.729Z"
   },
   {
    "duration": 4,
    "start_time": "2021-12-29T18:38:25.743Z"
   },
   {
    "duration": 4,
    "start_time": "2021-12-29T18:38:25.750Z"
   },
   {
    "duration": 5,
    "start_time": "2021-12-29T18:38:25.791Z"
   },
   {
    "duration": 5,
    "start_time": "2021-12-29T18:38:25.797Z"
   },
   {
    "duration": 7,
    "start_time": "2021-12-29T18:38:25.804Z"
   },
   {
    "duration": 13,
    "start_time": "2021-12-29T18:38:25.813Z"
   },
   {
    "duration": 11,
    "start_time": "2021-12-29T18:38:25.827Z"
   },
   {
    "duration": 15,
    "start_time": "2021-12-29T18:38:25.840Z"
   },
   {
    "duration": 57,
    "start_time": "2021-12-29T18:38:25.857Z"
   },
   {
    "duration": 23,
    "start_time": "2021-12-29T18:38:25.915Z"
   },
   {
    "duration": 22,
    "start_time": "2021-12-29T18:38:25.939Z"
   },
   {
    "duration": 239,
    "start_time": "2021-12-29T18:38:25.963Z"
   },
   {
    "duration": 184,
    "start_time": "2021-12-29T18:38:26.204Z"
   },
   {
    "duration": 185,
    "start_time": "2021-12-29T18:38:26.393Z"
   },
   {
    "duration": 218,
    "start_time": "2021-12-29T18:38:26.580Z"
   },
   {
    "duration": 254,
    "start_time": "2021-12-29T18:38:26.800Z"
   },
   {
    "duration": 8,
    "start_time": "2021-12-29T18:38:27.056Z"
   },
   {
    "duration": 220,
    "start_time": "2021-12-29T18:38:27.065Z"
   },
   {
    "duration": 10,
    "start_time": "2021-12-29T18:38:27.287Z"
   },
   {
    "duration": 4,
    "start_time": "2021-12-29T18:38:27.299Z"
   },
   {
    "duration": 281,
    "start_time": "2021-12-29T18:38:27.304Z"
   },
   {
    "duration": 4,
    "start_time": "2021-12-29T18:38:27.591Z"
   },
   {
    "duration": 274,
    "start_time": "2021-12-29T18:38:27.597Z"
   },
   {
    "duration": 4,
    "start_time": "2021-12-29T18:38:27.873Z"
   },
   {
    "duration": 268,
    "start_time": "2021-12-29T18:38:27.879Z"
   },
   {
    "duration": 7,
    "start_time": "2021-12-29T18:38:28.149Z"
   },
   {
    "duration": 17,
    "start_time": "2021-12-29T18:38:28.158Z"
   },
   {
    "duration": 16,
    "start_time": "2021-12-29T18:38:28.177Z"
   },
   {
    "duration": 22,
    "start_time": "2021-12-29T18:38:28.194Z"
   },
   {
    "duration": 3,
    "start_time": "2021-12-29T18:38:28.218Z"
   },
   {
    "duration": 25,
    "start_time": "2021-12-29T18:38:28.223Z"
   },
   {
    "duration": 3,
    "start_time": "2021-12-29T18:38:28.249Z"
   },
   {
    "duration": 62,
    "start_time": "2021-12-29T18:38:28.254Z"
   },
   {
    "duration": 35,
    "start_time": "2021-12-29T18:38:28.318Z"
   },
   {
    "duration": 250,
    "start_time": "2021-12-29T18:38:28.355Z"
   },
   {
    "duration": 29,
    "start_time": "2021-12-29T18:38:28.607Z"
   },
   {
    "duration": 5,
    "start_time": "2021-12-29T18:38:28.637Z"
   },
   {
    "duration": 230,
    "start_time": "2021-12-29T18:38:28.643Z"
   },
   {
    "duration": 4,
    "start_time": "2021-12-29T18:38:28.875Z"
   },
   {
    "duration": 205,
    "start_time": "2021-12-29T18:38:28.881Z"
   },
   {
    "duration": 5,
    "start_time": "2021-12-29T18:38:29.091Z"
   },
   {
    "duration": 218,
    "start_time": "2021-12-29T18:38:29.098Z"
   },
   {
    "duration": 255,
    "start_time": "2021-12-29T18:38:29.318Z"
   },
   {
    "duration": 709,
    "start_time": "2021-12-30T12:57:01.271Z"
   },
   {
    "duration": 11,
    "start_time": "2021-12-30T12:57:01.982Z"
   },
   {
    "duration": 38,
    "start_time": "2021-12-30T12:57:01.996Z"
   },
   {
    "duration": 9,
    "start_time": "2021-12-30T12:57:02.041Z"
   },
   {
    "duration": 9,
    "start_time": "2021-12-30T12:57:02.052Z"
   },
   {
    "duration": 23,
    "start_time": "2021-12-30T12:57:02.063Z"
   },
   {
    "duration": 5,
    "start_time": "2021-12-30T12:57:02.088Z"
   },
   {
    "duration": 11,
    "start_time": "2021-12-30T12:57:02.095Z"
   },
   {
    "duration": 6,
    "start_time": "2021-12-30T12:57:02.108Z"
   },
   {
    "duration": 26,
    "start_time": "2021-12-30T12:57:02.116Z"
   },
   {
    "duration": 24,
    "start_time": "2021-12-30T12:57:02.144Z"
   },
   {
    "duration": 19,
    "start_time": "2021-12-30T12:57:02.170Z"
   },
   {
    "duration": 13,
    "start_time": "2021-12-30T12:57:02.191Z"
   },
   {
    "duration": 24,
    "start_time": "2021-12-30T12:57:02.206Z"
   },
   {
    "duration": 36,
    "start_time": "2021-12-30T12:57:02.232Z"
   },
   {
    "duration": 23,
    "start_time": "2021-12-30T12:57:02.270Z"
   },
   {
    "duration": 35,
    "start_time": "2021-12-30T12:57:02.295Z"
   },
   {
    "duration": 292,
    "start_time": "2021-12-30T12:57:02.331Z"
   },
   {
    "duration": 180,
    "start_time": "2021-12-30T12:57:02.625Z"
   },
   {
    "duration": 189,
    "start_time": "2021-12-30T12:57:02.806Z"
   },
   {
    "duration": 274,
    "start_time": "2021-12-30T12:57:02.997Z"
   },
   {
    "duration": 205,
    "start_time": "2021-12-30T12:57:03.272Z"
   },
   {
    "duration": 9,
    "start_time": "2021-12-30T12:57:03.482Z"
   },
   {
    "duration": 215,
    "start_time": "2021-12-30T12:57:03.494Z"
   },
   {
    "duration": 8,
    "start_time": "2021-12-30T12:57:03.710Z"
   },
   {
    "duration": 7,
    "start_time": "2021-12-30T12:57:03.720Z"
   },
   {
    "duration": 278,
    "start_time": "2021-12-30T12:57:03.742Z"
   },
   {
    "duration": 4,
    "start_time": "2021-12-30T12:57:04.021Z"
   },
   {
    "duration": 264,
    "start_time": "2021-12-30T12:57:04.026Z"
   },
   {
    "duration": 4,
    "start_time": "2021-12-30T12:57:04.292Z"
   },
   {
    "duration": 276,
    "start_time": "2021-12-30T12:57:04.298Z"
   },
   {
    "duration": 8,
    "start_time": "2021-12-30T12:57:04.576Z"
   },
   {
    "duration": 20,
    "start_time": "2021-12-30T12:57:04.585Z"
   },
   {
    "duration": 4,
    "start_time": "2021-12-30T12:57:04.606Z"
   },
   {
    "duration": 46,
    "start_time": "2021-12-30T12:57:04.611Z"
   },
   {
    "duration": 3,
    "start_time": "2021-12-30T12:57:04.659Z"
   },
   {
    "duration": 22,
    "start_time": "2021-12-30T12:57:04.663Z"
   },
   {
    "duration": 3,
    "start_time": "2021-12-30T12:57:04.687Z"
   },
   {
    "duration": 59,
    "start_time": "2021-12-30T12:57:04.692Z"
   },
   {
    "duration": 37,
    "start_time": "2021-12-30T12:57:04.752Z"
   },
   {
    "duration": 255,
    "start_time": "2021-12-30T12:57:04.791Z"
   },
   {
    "duration": 27,
    "start_time": "2021-12-30T12:57:05.048Z"
   },
   {
    "duration": 5,
    "start_time": "2021-12-30T12:57:05.077Z"
   },
   {
    "duration": 218,
    "start_time": "2021-12-30T12:57:05.083Z"
   },
   {
    "duration": 5,
    "start_time": "2021-12-30T12:57:05.302Z"
   },
   {
    "duration": 206,
    "start_time": "2021-12-30T12:57:05.309Z"
   },
   {
    "duration": 5,
    "start_time": "2021-12-30T12:57:05.517Z"
   },
   {
    "duration": 217,
    "start_time": "2021-12-30T12:57:05.524Z"
   },
   {
    "duration": 251,
    "start_time": "2021-12-30T12:57:05.743Z"
   }
  ],
  "kernelspec": {
   "display_name": "Python 3",
   "language": "python",
   "name": "python3"
  },
  "language_info": {
   "codemirror_mode": {
    "name": "ipython",
    "version": 3
   },
   "file_extension": ".py",
   "mimetype": "text/x-python",
   "name": "python",
   "nbconvert_exporter": "python",
   "pygments_lexer": "ipython3",
   "version": "3.7.8"
  },
  "toc": {
   "base_numbering": 1,
   "nav_menu": {
    "height": "14px",
    "width": "346px"
   },
   "number_sections": true,
   "sideBar": true,
   "skip_h1_title": true,
   "title_cell": "Содержание",
   "title_sidebar": "Contents",
   "toc_cell": true,
   "toc_position": {
    "height": "calc(100% - 180px)",
    "left": "10px",
    "top": "150px",
    "width": "280px"
   },
   "toc_section_display": true,
   "toc_window_display": false
  }
 },
 "nbformat": 4,
 "nbformat_minor": 2
}
