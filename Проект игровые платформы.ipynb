{
 "cells": [
  {
   "cell_type": "markdown",
   "metadata": {},
   "source": [
    "# Описание проекта\n",
    "Вы работаете в интернет-магазине «Стримчик», который продаёт по всему миру компьютерные игры. Из открытых источников доступны исторические данные о продажах игр, оценки пользователей и экспертов, жанры и платформы (например, Xbox или PlayStation). Вам нужно выявить определяющие успешность игры закономерности. Это позволит сделать ставку на потенциально популярный продукт и спланировать рекламные кампании."
   ]
  },
  {
   "cell_type": "markdown",
   "metadata": {},
   "source": [
    "## Изучение данных из файлов"
   ]
  },
  {
   "cell_type": "code",
   "execution_count": 1,
   "metadata": {},
   "outputs": [],
   "source": [
    "import pandas as pd\n",
    "import seaborn as sns\n",
    "import matplotlib.pyplot as plt"
   ]
  },
  {
   "cell_type": "code",
   "execution_count": 2,
   "metadata": {},
   "outputs": [],
   "source": [
    "df = pd.read_csv('/datasets/games.csv') #откроем файл с данными и изучим общую информацию"
   ]
  },
  {
   "cell_type": "code",
   "execution_count": 3,
   "metadata": {},
   "outputs": [
    {
     "data": {
      "text/html": [
       "<div>\n",
       "<style scoped>\n",
       "    .dataframe tbody tr th:only-of-type {\n",
       "        vertical-align: middle;\n",
       "    }\n",
       "\n",
       "    .dataframe tbody tr th {\n",
       "        vertical-align: top;\n",
       "    }\n",
       "\n",
       "    .dataframe thead th {\n",
       "        text-align: right;\n",
       "    }\n",
       "</style>\n",
       "<table border=\"1\" class=\"dataframe\">\n",
       "  <thead>\n",
       "    <tr style=\"text-align: right;\">\n",
       "      <th></th>\n",
       "      <th>Name</th>\n",
       "      <th>Platform</th>\n",
       "      <th>Year_of_Release</th>\n",
       "      <th>Genre</th>\n",
       "      <th>NA_sales</th>\n",
       "      <th>EU_sales</th>\n",
       "      <th>JP_sales</th>\n",
       "      <th>Other_sales</th>\n",
       "      <th>Critic_Score</th>\n",
       "      <th>User_Score</th>\n",
       "      <th>Rating</th>\n",
       "    </tr>\n",
       "  </thead>\n",
       "  <tbody>\n",
       "    <tr>\n",
       "      <td>0</td>\n",
       "      <td>Wii Sports</td>\n",
       "      <td>Wii</td>\n",
       "      <td>2006.0</td>\n",
       "      <td>Sports</td>\n",
       "      <td>41.36</td>\n",
       "      <td>28.96</td>\n",
       "      <td>3.77</td>\n",
       "      <td>8.45</td>\n",
       "      <td>76.0</td>\n",
       "      <td>8</td>\n",
       "      <td>E</td>\n",
       "    </tr>\n",
       "    <tr>\n",
       "      <td>1</td>\n",
       "      <td>Super Mario Bros.</td>\n",
       "      <td>NES</td>\n",
       "      <td>1985.0</td>\n",
       "      <td>Platform</td>\n",
       "      <td>29.08</td>\n",
       "      <td>3.58</td>\n",
       "      <td>6.81</td>\n",
       "      <td>0.77</td>\n",
       "      <td>NaN</td>\n",
       "      <td>NaN</td>\n",
       "      <td>NaN</td>\n",
       "    </tr>\n",
       "    <tr>\n",
       "      <td>2</td>\n",
       "      <td>Mario Kart Wii</td>\n",
       "      <td>Wii</td>\n",
       "      <td>2008.0</td>\n",
       "      <td>Racing</td>\n",
       "      <td>15.68</td>\n",
       "      <td>12.76</td>\n",
       "      <td>3.79</td>\n",
       "      <td>3.29</td>\n",
       "      <td>82.0</td>\n",
       "      <td>8.3</td>\n",
       "      <td>E</td>\n",
       "    </tr>\n",
       "    <tr>\n",
       "      <td>3</td>\n",
       "      <td>Wii Sports Resort</td>\n",
       "      <td>Wii</td>\n",
       "      <td>2009.0</td>\n",
       "      <td>Sports</td>\n",
       "      <td>15.61</td>\n",
       "      <td>10.93</td>\n",
       "      <td>3.28</td>\n",
       "      <td>2.95</td>\n",
       "      <td>80.0</td>\n",
       "      <td>8</td>\n",
       "      <td>E</td>\n",
       "    </tr>\n",
       "    <tr>\n",
       "      <td>4</td>\n",
       "      <td>Pokemon Red/Pokemon Blue</td>\n",
       "      <td>GB</td>\n",
       "      <td>1996.0</td>\n",
       "      <td>Role-Playing</td>\n",
       "      <td>11.27</td>\n",
       "      <td>8.89</td>\n",
       "      <td>10.22</td>\n",
       "      <td>1.00</td>\n",
       "      <td>NaN</td>\n",
       "      <td>NaN</td>\n",
       "      <td>NaN</td>\n",
       "    </tr>\n",
       "    <tr>\n",
       "      <td>5</td>\n",
       "      <td>Tetris</td>\n",
       "      <td>GB</td>\n",
       "      <td>1989.0</td>\n",
       "      <td>Puzzle</td>\n",
       "      <td>23.20</td>\n",
       "      <td>2.26</td>\n",
       "      <td>4.22</td>\n",
       "      <td>0.58</td>\n",
       "      <td>NaN</td>\n",
       "      <td>NaN</td>\n",
       "      <td>NaN</td>\n",
       "    </tr>\n",
       "    <tr>\n",
       "      <td>6</td>\n",
       "      <td>New Super Mario Bros.</td>\n",
       "      <td>DS</td>\n",
       "      <td>2006.0</td>\n",
       "      <td>Platform</td>\n",
       "      <td>11.28</td>\n",
       "      <td>9.14</td>\n",
       "      <td>6.50</td>\n",
       "      <td>2.88</td>\n",
       "      <td>89.0</td>\n",
       "      <td>8.5</td>\n",
       "      <td>E</td>\n",
       "    </tr>\n",
       "    <tr>\n",
       "      <td>7</td>\n",
       "      <td>Wii Play</td>\n",
       "      <td>Wii</td>\n",
       "      <td>2006.0</td>\n",
       "      <td>Misc</td>\n",
       "      <td>13.96</td>\n",
       "      <td>9.18</td>\n",
       "      <td>2.93</td>\n",
       "      <td>2.84</td>\n",
       "      <td>58.0</td>\n",
       "      <td>6.6</td>\n",
       "      <td>E</td>\n",
       "    </tr>\n",
       "    <tr>\n",
       "      <td>8</td>\n",
       "      <td>New Super Mario Bros. Wii</td>\n",
       "      <td>Wii</td>\n",
       "      <td>2009.0</td>\n",
       "      <td>Platform</td>\n",
       "      <td>14.44</td>\n",
       "      <td>6.94</td>\n",
       "      <td>4.70</td>\n",
       "      <td>2.24</td>\n",
       "      <td>87.0</td>\n",
       "      <td>8.4</td>\n",
       "      <td>E</td>\n",
       "    </tr>\n",
       "    <tr>\n",
       "      <td>9</td>\n",
       "      <td>Duck Hunt</td>\n",
       "      <td>NES</td>\n",
       "      <td>1984.0</td>\n",
       "      <td>Shooter</td>\n",
       "      <td>26.93</td>\n",
       "      <td>0.63</td>\n",
       "      <td>0.28</td>\n",
       "      <td>0.47</td>\n",
       "      <td>NaN</td>\n",
       "      <td>NaN</td>\n",
       "      <td>NaN</td>\n",
       "    </tr>\n",
       "  </tbody>\n",
       "</table>\n",
       "</div>"
      ],
      "text/plain": [
       "                        Name Platform  Year_of_Release         Genre  \\\n",
       "0                 Wii Sports      Wii           2006.0        Sports   \n",
       "1          Super Mario Bros.      NES           1985.0      Platform   \n",
       "2             Mario Kart Wii      Wii           2008.0        Racing   \n",
       "3          Wii Sports Resort      Wii           2009.0        Sports   \n",
       "4   Pokemon Red/Pokemon Blue       GB           1996.0  Role-Playing   \n",
       "5                     Tetris       GB           1989.0        Puzzle   \n",
       "6      New Super Mario Bros.       DS           2006.0      Platform   \n",
       "7                   Wii Play      Wii           2006.0          Misc   \n",
       "8  New Super Mario Bros. Wii      Wii           2009.0      Platform   \n",
       "9                  Duck Hunt      NES           1984.0       Shooter   \n",
       "\n",
       "   NA_sales  EU_sales  JP_sales  Other_sales  Critic_Score User_Score Rating  \n",
       "0     41.36     28.96      3.77         8.45          76.0          8      E  \n",
       "1     29.08      3.58      6.81         0.77           NaN        NaN    NaN  \n",
       "2     15.68     12.76      3.79         3.29          82.0        8.3      E  \n",
       "3     15.61     10.93      3.28         2.95          80.0          8      E  \n",
       "4     11.27      8.89     10.22         1.00           NaN        NaN    NaN  \n",
       "5     23.20      2.26      4.22         0.58           NaN        NaN    NaN  \n",
       "6     11.28      9.14      6.50         2.88          89.0        8.5      E  \n",
       "7     13.96      9.18      2.93         2.84          58.0        6.6      E  \n",
       "8     14.44      6.94      4.70         2.24          87.0        8.4      E  \n",
       "9     26.93      0.63      0.28         0.47           NaN        NaN    NaN  "
      ]
     },
     "execution_count": 3,
     "metadata": {},
     "output_type": "execute_result"
    }
   ],
   "source": [
    "df.head(10)"
   ]
  },
  {
   "cell_type": "markdown",
   "metadata": {},
   "source": [
    "**Для удобства названия всех столбцов приведем к нижнему регистру, и обработаем сами данные в столбцах.**"
   ]
  },
  {
   "cell_type": "code",
   "execution_count": 4,
   "metadata": {},
   "outputs": [],
   "source": [
    "df = df.rename(columns={'Name':'name', 'Platform':'platform', 'Year_of_Release':'year_of_release', 'Genre':'genre',\n",
    "                       'NA_sales':'na_sales', 'EU_sales':'eu_sales', 'JP_sales':'jp_sales', 'Other_sales':'other_sales', \n",
    "                       'Critic_Score':'critic_score', 'User_Score':'user_score', 'Rating':'rating'})#изменим наименование столбцов"
   ]
  },
  {
   "cell_type": "code",
   "execution_count": 5,
   "metadata": {},
   "outputs": [
    {
     "data": {
      "text/html": [
       "<div>\n",
       "<style scoped>\n",
       "    .dataframe tbody tr th:only-of-type {\n",
       "        vertical-align: middle;\n",
       "    }\n",
       "\n",
       "    .dataframe tbody tr th {\n",
       "        vertical-align: top;\n",
       "    }\n",
       "\n",
       "    .dataframe thead th {\n",
       "        text-align: right;\n",
       "    }\n",
       "</style>\n",
       "<table border=\"1\" class=\"dataframe\">\n",
       "  <thead>\n",
       "    <tr style=\"text-align: right;\">\n",
       "      <th></th>\n",
       "      <th>name</th>\n",
       "      <th>platform</th>\n",
       "      <th>year_of_release</th>\n",
       "      <th>genre</th>\n",
       "      <th>na_sales</th>\n",
       "      <th>eu_sales</th>\n",
       "      <th>jp_sales</th>\n",
       "      <th>other_sales</th>\n",
       "      <th>critic_score</th>\n",
       "      <th>user_score</th>\n",
       "      <th>rating</th>\n",
       "    </tr>\n",
       "  </thead>\n",
       "  <tbody>\n",
       "    <tr>\n",
       "      <td>0</td>\n",
       "      <td>Wii Sports</td>\n",
       "      <td>Wii</td>\n",
       "      <td>2006.0</td>\n",
       "      <td>Sports</td>\n",
       "      <td>41.36</td>\n",
       "      <td>28.96</td>\n",
       "      <td>3.77</td>\n",
       "      <td>8.45</td>\n",
       "      <td>76.0</td>\n",
       "      <td>8</td>\n",
       "      <td>E</td>\n",
       "    </tr>\n",
       "    <tr>\n",
       "      <td>1</td>\n",
       "      <td>Super Mario Bros.</td>\n",
       "      <td>NES</td>\n",
       "      <td>1985.0</td>\n",
       "      <td>Platform</td>\n",
       "      <td>29.08</td>\n",
       "      <td>3.58</td>\n",
       "      <td>6.81</td>\n",
       "      <td>0.77</td>\n",
       "      <td>NaN</td>\n",
       "      <td>NaN</td>\n",
       "      <td>NaN</td>\n",
       "    </tr>\n",
       "    <tr>\n",
       "      <td>2</td>\n",
       "      <td>Mario Kart Wii</td>\n",
       "      <td>Wii</td>\n",
       "      <td>2008.0</td>\n",
       "      <td>Racing</td>\n",
       "      <td>15.68</td>\n",
       "      <td>12.76</td>\n",
       "      <td>3.79</td>\n",
       "      <td>3.29</td>\n",
       "      <td>82.0</td>\n",
       "      <td>8.3</td>\n",
       "      <td>E</td>\n",
       "    </tr>\n",
       "    <tr>\n",
       "      <td>3</td>\n",
       "      <td>Wii Sports Resort</td>\n",
       "      <td>Wii</td>\n",
       "      <td>2009.0</td>\n",
       "      <td>Sports</td>\n",
       "      <td>15.61</td>\n",
       "      <td>10.93</td>\n",
       "      <td>3.28</td>\n",
       "      <td>2.95</td>\n",
       "      <td>80.0</td>\n",
       "      <td>8</td>\n",
       "      <td>E</td>\n",
       "    </tr>\n",
       "    <tr>\n",
       "      <td>4</td>\n",
       "      <td>Pokemon Red/Pokemon Blue</td>\n",
       "      <td>GB</td>\n",
       "      <td>1996.0</td>\n",
       "      <td>Role-Playing</td>\n",
       "      <td>11.27</td>\n",
       "      <td>8.89</td>\n",
       "      <td>10.22</td>\n",
       "      <td>1.00</td>\n",
       "      <td>NaN</td>\n",
       "      <td>NaN</td>\n",
       "      <td>NaN</td>\n",
       "    </tr>\n",
       "  </tbody>\n",
       "</table>\n",
       "</div>"
      ],
      "text/plain": [
       "                       name platform  year_of_release         genre  na_sales  \\\n",
       "0                Wii Sports      Wii           2006.0        Sports     41.36   \n",
       "1         Super Mario Bros.      NES           1985.0      Platform     29.08   \n",
       "2            Mario Kart Wii      Wii           2008.0        Racing     15.68   \n",
       "3         Wii Sports Resort      Wii           2009.0        Sports     15.61   \n",
       "4  Pokemon Red/Pokemon Blue       GB           1996.0  Role-Playing     11.27   \n",
       "\n",
       "   eu_sales  jp_sales  other_sales  critic_score user_score rating  \n",
       "0     28.96      3.77         8.45          76.0          8      E  \n",
       "1      3.58      6.81         0.77           NaN        NaN    NaN  \n",
       "2     12.76      3.79         3.29          82.0        8.3      E  \n",
       "3     10.93      3.28         2.95          80.0          8      E  \n",
       "4      8.89     10.22         1.00           NaN        NaN    NaN  "
      ]
     },
     "execution_count": 5,
     "metadata": {},
     "output_type": "execute_result"
    }
   ],
   "source": [
    "df.head()"
   ]
  },
  {
   "cell_type": "markdown",
   "metadata": {},
   "source": [
    "## Подготовка данных"
   ]
  },
  {
   "cell_type": "code",
   "execution_count": 6,
   "metadata": {},
   "outputs": [
    {
     "name": "stdout",
     "output_type": "stream",
     "text": [
      "<class 'pandas.core.frame.DataFrame'>\n",
      "RangeIndex: 16715 entries, 0 to 16714\n",
      "Data columns (total 11 columns):\n",
      "name               16713 non-null object\n",
      "platform           16715 non-null object\n",
      "year_of_release    16446 non-null float64\n",
      "genre              16713 non-null object\n",
      "na_sales           16715 non-null float64\n",
      "eu_sales           16715 non-null float64\n",
      "jp_sales           16715 non-null float64\n",
      "other_sales        16715 non-null float64\n",
      "critic_score       8137 non-null float64\n",
      "user_score         10014 non-null object\n",
      "rating             9949 non-null object\n",
      "dtypes: float64(6), object(5)\n",
      "memory usage: 1.4+ MB\n"
     ]
    }
   ],
   "source": [
    "df.info()"
   ]
  },
  {
   "cell_type": "markdown",
   "metadata": {},
   "source": [
    "**Видим 2 пропуска в столбце с названиями игр, так как цель данного проекта выявление определяющих успешность игры закономерностей, то строки с отсутсвующими названиями игр - вообще теряют смысл для нас, такие значения невозможно заполнить, мы их удалим.**"
   ]
  },
  {
   "cell_type": "code",
   "execution_count": 7,
   "metadata": {},
   "outputs": [],
   "source": [
    "df.dropna(subset=['name'], inplace=True) #удалим строки с пропущенными значениями в столбце name"
   ]
  },
  {
   "cell_type": "code",
   "execution_count": 8,
   "metadata": {},
   "outputs": [
    {
     "name": "stdout",
     "output_type": "stream",
     "text": [
      "<class 'pandas.core.frame.DataFrame'>\n",
      "Int64Index: 16713 entries, 0 to 16714\n",
      "Data columns (total 11 columns):\n",
      "name               16713 non-null object\n",
      "platform           16713 non-null object\n",
      "year_of_release    16444 non-null float64\n",
      "genre              16713 non-null object\n",
      "na_sales           16713 non-null float64\n",
      "eu_sales           16713 non-null float64\n",
      "jp_sales           16713 non-null float64\n",
      "other_sales        16713 non-null float64\n",
      "critic_score       8137 non-null float64\n",
      "user_score         10014 non-null object\n",
      "rating             9949 non-null object\n",
      "dtypes: float64(6), object(5)\n",
      "memory usage: 1.5+ MB\n"
     ]
    }
   ],
   "source": [
    "df.info()"
   ]
  },
  {
   "cell_type": "markdown",
   "metadata": {},
   "source": [
    "**В столбце rating у нас рейтинг от организации ESRB (англ. Entertainment Software Rating Board), в классификации которой есть аббревиатура \"RP\"(«Rating Pending» — «Рейтинг ожидается»), можно заполнить пропуски в этом столбце именно такой аббревиатурой, по сути будет означать то же, что и пропущенное значение - на данный момент рейтинг не известен.**"
   ]
  },
  {
   "cell_type": "code",
   "execution_count": 9,
   "metadata": {},
   "outputs": [],
   "source": [
    "df['rating'] = df['rating'].fillna('RP')"
   ]
  },
  {
   "cell_type": "code",
   "execution_count": 10,
   "metadata": {},
   "outputs": [
    {
     "name": "stdout",
     "output_type": "stream",
     "text": [
      "<class 'pandas.core.frame.DataFrame'>\n",
      "Int64Index: 16713 entries, 0 to 16714\n",
      "Data columns (total 11 columns):\n",
      "name               16713 non-null object\n",
      "platform           16713 non-null object\n",
      "year_of_release    16444 non-null float64\n",
      "genre              16713 non-null object\n",
      "na_sales           16713 non-null float64\n",
      "eu_sales           16713 non-null float64\n",
      "jp_sales           16713 non-null float64\n",
      "other_sales        16713 non-null float64\n",
      "critic_score       8137 non-null float64\n",
      "user_score         10014 non-null object\n",
      "rating             16713 non-null object\n",
      "dtypes: float64(6), object(5)\n",
      "memory usage: 1.5+ MB\n"
     ]
    }
   ],
   "source": [
    "df.info()"
   ]
  },
  {
   "cell_type": "markdown",
   "metadata": {},
   "source": [
    "**Заполним также пропуски в year_of_release, так как есть игры год выпуска которых пропущен на одной платформе, но при этом присутствует на другой платформе, то заполним эти пропуски медианным значением годов выпуска той платформы где год присутсвует.**"
   ]
  },
  {
   "cell_type": "code",
   "execution_count": 11,
   "metadata": {},
   "outputs": [],
   "source": [
    "df_grouped = df.groupby(['platform'])['year_of_release'].median().round()\n",
    "\n",
    "def func(row):\n",
    "    if pd.isna(row['year_of_release']):\n",
    "        return df_grouped.loc[row['platform']]\n",
    "    return row['year_of_release']\n",
    " \n",
    "df['year_of_release'] = df.apply(func, axis=1)"
   ]
  },
  {
   "cell_type": "code",
   "execution_count": 12,
   "metadata": {},
   "outputs": [
    {
     "name": "stdout",
     "output_type": "stream",
     "text": [
      "<class 'pandas.core.frame.DataFrame'>\n",
      "Int64Index: 16713 entries, 0 to 16714\n",
      "Data columns (total 11 columns):\n",
      "name               16713 non-null object\n",
      "platform           16713 non-null object\n",
      "year_of_release    16713 non-null float64\n",
      "genre              16713 non-null object\n",
      "na_sales           16713 non-null float64\n",
      "eu_sales           16713 non-null float64\n",
      "jp_sales           16713 non-null float64\n",
      "other_sales        16713 non-null float64\n",
      "critic_score       8137 non-null float64\n",
      "user_score         10014 non-null object\n",
      "rating             16713 non-null object\n",
      "dtypes: float64(6), object(5)\n",
      "memory usage: 1.5+ MB\n"
     ]
    }
   ],
   "source": [
    "df.info()"
   ]
  },
  {
   "cell_type": "markdown",
   "metadata": {},
   "source": [
    "**Посчитаем суммарные продажи во всех регионах и запишем их в отдельный столбец.**"
   ]
  },
  {
   "cell_type": "code",
   "execution_count": 13,
   "metadata": {},
   "outputs": [],
   "source": [
    "df['world_sales'] = df['na_sales'] + df['eu_sales'] + df['jp_sales'] + df['other_sales']"
   ]
  },
  {
   "cell_type": "code",
   "execution_count": 14,
   "metadata": {},
   "outputs": [
    {
     "data": {
      "text/html": [
       "<div>\n",
       "<style scoped>\n",
       "    .dataframe tbody tr th:only-of-type {\n",
       "        vertical-align: middle;\n",
       "    }\n",
       "\n",
       "    .dataframe tbody tr th {\n",
       "        vertical-align: top;\n",
       "    }\n",
       "\n",
       "    .dataframe thead th {\n",
       "        text-align: right;\n",
       "    }\n",
       "</style>\n",
       "<table border=\"1\" class=\"dataframe\">\n",
       "  <thead>\n",
       "    <tr style=\"text-align: right;\">\n",
       "      <th></th>\n",
       "      <th>name</th>\n",
       "      <th>platform</th>\n",
       "      <th>year_of_release</th>\n",
       "      <th>genre</th>\n",
       "      <th>na_sales</th>\n",
       "      <th>eu_sales</th>\n",
       "      <th>jp_sales</th>\n",
       "      <th>other_sales</th>\n",
       "      <th>critic_score</th>\n",
       "      <th>user_score</th>\n",
       "      <th>rating</th>\n",
       "      <th>world_sales</th>\n",
       "    </tr>\n",
       "  </thead>\n",
       "  <tbody>\n",
       "    <tr>\n",
       "      <td>0</td>\n",
       "      <td>Wii Sports</td>\n",
       "      <td>Wii</td>\n",
       "      <td>2006.0</td>\n",
       "      <td>Sports</td>\n",
       "      <td>41.36</td>\n",
       "      <td>28.96</td>\n",
       "      <td>3.77</td>\n",
       "      <td>8.45</td>\n",
       "      <td>76.0</td>\n",
       "      <td>8</td>\n",
       "      <td>E</td>\n",
       "      <td>82.54</td>\n",
       "    </tr>\n",
       "    <tr>\n",
       "      <td>1</td>\n",
       "      <td>Super Mario Bros.</td>\n",
       "      <td>NES</td>\n",
       "      <td>1985.0</td>\n",
       "      <td>Platform</td>\n",
       "      <td>29.08</td>\n",
       "      <td>3.58</td>\n",
       "      <td>6.81</td>\n",
       "      <td>0.77</td>\n",
       "      <td>NaN</td>\n",
       "      <td>NaN</td>\n",
       "      <td>RP</td>\n",
       "      <td>40.24</td>\n",
       "    </tr>\n",
       "    <tr>\n",
       "      <td>2</td>\n",
       "      <td>Mario Kart Wii</td>\n",
       "      <td>Wii</td>\n",
       "      <td>2008.0</td>\n",
       "      <td>Racing</td>\n",
       "      <td>15.68</td>\n",
       "      <td>12.76</td>\n",
       "      <td>3.79</td>\n",
       "      <td>3.29</td>\n",
       "      <td>82.0</td>\n",
       "      <td>8.3</td>\n",
       "      <td>E</td>\n",
       "      <td>35.52</td>\n",
       "    </tr>\n",
       "    <tr>\n",
       "      <td>3</td>\n",
       "      <td>Wii Sports Resort</td>\n",
       "      <td>Wii</td>\n",
       "      <td>2009.0</td>\n",
       "      <td>Sports</td>\n",
       "      <td>15.61</td>\n",
       "      <td>10.93</td>\n",
       "      <td>3.28</td>\n",
       "      <td>2.95</td>\n",
       "      <td>80.0</td>\n",
       "      <td>8</td>\n",
       "      <td>E</td>\n",
       "      <td>32.77</td>\n",
       "    </tr>\n",
       "    <tr>\n",
       "      <td>4</td>\n",
       "      <td>Pokemon Red/Pokemon Blue</td>\n",
       "      <td>GB</td>\n",
       "      <td>1996.0</td>\n",
       "      <td>Role-Playing</td>\n",
       "      <td>11.27</td>\n",
       "      <td>8.89</td>\n",
       "      <td>10.22</td>\n",
       "      <td>1.00</td>\n",
       "      <td>NaN</td>\n",
       "      <td>NaN</td>\n",
       "      <td>RP</td>\n",
       "      <td>31.38</td>\n",
       "    </tr>\n",
       "  </tbody>\n",
       "</table>\n",
       "</div>"
      ],
      "text/plain": [
       "                       name platform  year_of_release         genre  na_sales  \\\n",
       "0                Wii Sports      Wii           2006.0        Sports     41.36   \n",
       "1         Super Mario Bros.      NES           1985.0      Platform     29.08   \n",
       "2            Mario Kart Wii      Wii           2008.0        Racing     15.68   \n",
       "3         Wii Sports Resort      Wii           2009.0        Sports     15.61   \n",
       "4  Pokemon Red/Pokemon Blue       GB           1996.0  Role-Playing     11.27   \n",
       "\n",
       "   eu_sales  jp_sales  other_sales  critic_score user_score rating  \\\n",
       "0     28.96      3.77         8.45          76.0          8      E   \n",
       "1      3.58      6.81         0.77           NaN        NaN     RP   \n",
       "2     12.76      3.79         3.29          82.0        8.3      E   \n",
       "3     10.93      3.28         2.95          80.0          8      E   \n",
       "4      8.89     10.22         1.00           NaN        NaN     RP   \n",
       "\n",
       "   world_sales  \n",
       "0        82.54  \n",
       "1        40.24  \n",
       "2        35.52  \n",
       "3        32.77  \n",
       "4        31.38  "
      ]
     },
     "execution_count": 14,
     "metadata": {},
     "output_type": "execute_result"
    }
   ],
   "source": [
    "df.head()"
   ]
  },
  {
   "cell_type": "markdown",
   "metadata": {},
   "source": [
    "##  Исследовательский анализ данных"
   ]
  },
  {
   "cell_type": "markdown",
   "metadata": {},
   "source": [
    "### Посмотрим, сколько игр выпускалось в разные годы."
   ]
  },
  {
   "cell_type": "code",
   "execution_count": 15,
   "metadata": {},
   "outputs": [
    {
     "data": {
      "text/html": [
       "<div>\n",
       "<style scoped>\n",
       "    .dataframe tbody tr th:only-of-type {\n",
       "        vertical-align: middle;\n",
       "    }\n",
       "\n",
       "    .dataframe tbody tr th {\n",
       "        vertical-align: top;\n",
       "    }\n",
       "\n",
       "    .dataframe thead th {\n",
       "        text-align: right;\n",
       "    }\n",
       "</style>\n",
       "<table border=\"1\" class=\"dataframe\">\n",
       "  <thead>\n",
       "    <tr style=\"text-align: right;\">\n",
       "      <th></th>\n",
       "      <th>name</th>\n",
       "      <th>platform</th>\n",
       "      <th>year_of_release</th>\n",
       "      <th>genre</th>\n",
       "      <th>na_sales</th>\n",
       "      <th>eu_sales</th>\n",
       "      <th>jp_sales</th>\n",
       "      <th>other_sales</th>\n",
       "      <th>critic_score</th>\n",
       "      <th>user_score</th>\n",
       "      <th>rating</th>\n",
       "      <th>world_sales</th>\n",
       "    </tr>\n",
       "  </thead>\n",
       "  <tbody>\n",
       "    <tr>\n",
       "      <td>0</td>\n",
       "      <td>Wii Sports</td>\n",
       "      <td>Wii</td>\n",
       "      <td>2006.0</td>\n",
       "      <td>Sports</td>\n",
       "      <td>41.36</td>\n",
       "      <td>28.96</td>\n",
       "      <td>3.77</td>\n",
       "      <td>8.45</td>\n",
       "      <td>76.0</td>\n",
       "      <td>8</td>\n",
       "      <td>E</td>\n",
       "      <td>82.54</td>\n",
       "    </tr>\n",
       "    <tr>\n",
       "      <td>1</td>\n",
       "      <td>Super Mario Bros.</td>\n",
       "      <td>NES</td>\n",
       "      <td>1985.0</td>\n",
       "      <td>Platform</td>\n",
       "      <td>29.08</td>\n",
       "      <td>3.58</td>\n",
       "      <td>6.81</td>\n",
       "      <td>0.77</td>\n",
       "      <td>NaN</td>\n",
       "      <td>NaN</td>\n",
       "      <td>RP</td>\n",
       "      <td>40.24</td>\n",
       "    </tr>\n",
       "    <tr>\n",
       "      <td>2</td>\n",
       "      <td>Mario Kart Wii</td>\n",
       "      <td>Wii</td>\n",
       "      <td>2008.0</td>\n",
       "      <td>Racing</td>\n",
       "      <td>15.68</td>\n",
       "      <td>12.76</td>\n",
       "      <td>3.79</td>\n",
       "      <td>3.29</td>\n",
       "      <td>82.0</td>\n",
       "      <td>8.3</td>\n",
       "      <td>E</td>\n",
       "      <td>35.52</td>\n",
       "    </tr>\n",
       "    <tr>\n",
       "      <td>3</td>\n",
       "      <td>Wii Sports Resort</td>\n",
       "      <td>Wii</td>\n",
       "      <td>2009.0</td>\n",
       "      <td>Sports</td>\n",
       "      <td>15.61</td>\n",
       "      <td>10.93</td>\n",
       "      <td>3.28</td>\n",
       "      <td>2.95</td>\n",
       "      <td>80.0</td>\n",
       "      <td>8</td>\n",
       "      <td>E</td>\n",
       "      <td>32.77</td>\n",
       "    </tr>\n",
       "    <tr>\n",
       "      <td>4</td>\n",
       "      <td>Pokemon Red/Pokemon Blue</td>\n",
       "      <td>GB</td>\n",
       "      <td>1996.0</td>\n",
       "      <td>Role-Playing</td>\n",
       "      <td>11.27</td>\n",
       "      <td>8.89</td>\n",
       "      <td>10.22</td>\n",
       "      <td>1.00</td>\n",
       "      <td>NaN</td>\n",
       "      <td>NaN</td>\n",
       "      <td>RP</td>\n",
       "      <td>31.38</td>\n",
       "    </tr>\n",
       "  </tbody>\n",
       "</table>\n",
       "</div>"
      ],
      "text/plain": [
       "                       name platform  year_of_release         genre  na_sales  \\\n",
       "0                Wii Sports      Wii           2006.0        Sports     41.36   \n",
       "1         Super Mario Bros.      NES           1985.0      Platform     29.08   \n",
       "2            Mario Kart Wii      Wii           2008.0        Racing     15.68   \n",
       "3         Wii Sports Resort      Wii           2009.0        Sports     15.61   \n",
       "4  Pokemon Red/Pokemon Blue       GB           1996.0  Role-Playing     11.27   \n",
       "\n",
       "   eu_sales  jp_sales  other_sales  critic_score user_score rating  \\\n",
       "0     28.96      3.77         8.45          76.0          8      E   \n",
       "1      3.58      6.81         0.77           NaN        NaN     RP   \n",
       "2     12.76      3.79         3.29          82.0        8.3      E   \n",
       "3     10.93      3.28         2.95          80.0          8      E   \n",
       "4      8.89     10.22         1.00           NaN        NaN     RP   \n",
       "\n",
       "   world_sales  \n",
       "0        82.54  \n",
       "1        40.24  \n",
       "2        35.52  \n",
       "3        32.77  \n",
       "4        31.38  "
      ]
     },
     "execution_count": 15,
     "metadata": {},
     "output_type": "execute_result"
    }
   ],
   "source": [
    "df.head()"
   ]
  },
  {
   "cell_type": "code",
   "execution_count": 16,
   "metadata": {},
   "outputs": [
    {
     "data": {
      "text/plain": [
       "year_of_release\n",
       "1980.0       9\n",
       "1981.0      46\n",
       "1982.0      53\n",
       "1983.0      17\n",
       "1984.0      14\n",
       "1985.0      14\n",
       "1986.0      21\n",
       "1987.0      16\n",
       "1988.0      15\n",
       "1989.0      17\n",
       "1990.0      16\n",
       "1991.0      41\n",
       "1992.0      43\n",
       "1993.0      60\n",
       "1994.0     121\n",
       "1995.0     219\n",
       "1996.0     263\n",
       "1997.0     290\n",
       "1998.0     386\n",
       "1999.0     341\n",
       "2000.0     350\n",
       "2001.0     482\n",
       "2002.0     829\n",
       "2003.0     800\n",
       "2004.0     783\n",
       "2005.0     973\n",
       "2006.0    1006\n",
       "2007.0    1197\n",
       "2008.0    1457\n",
       "2009.0    1476\n",
       "2010.0    1302\n",
       "2011.0    1161\n",
       "2012.0     653\n",
       "2013.0     552\n",
       "2014.0     582\n",
       "2015.0     606\n",
       "2016.0     502\n",
       "Name: name, dtype: int64"
      ]
     },
     "execution_count": 16,
     "metadata": {},
     "output_type": "execute_result"
    }
   ],
   "source": [
    "df.groupby('year_of_release')['name'].count()"
   ]
  },
  {
   "cell_type": "markdown",
   "metadata": {},
   "source": [
    "**Резкий рост количества выпускаемых игр произошел в 1994 году, когда количество игр стало трехзначным числом, и до 2009 года был только рост, причем очень сильный, затем количество пошло на спад, но все равно числа достаточно большие, я бы не принимал во внимание вообще данные до 1994 года.**"
   ]
  },
  {
   "cell_type": "markdown",
   "metadata": {},
   "source": [
    "### Посмотрим, как менялись продажи по платформам. Выберем платформы с наибольшими суммарными продажами и построим распределение по годам. "
   ]
  },
  {
   "cell_type": "code",
   "execution_count": 17,
   "metadata": {},
   "outputs": [],
   "source": [
    "df_platform = df.groupby('platform')['world_sales'].sum()"
   ]
  },
  {
   "cell_type": "code",
   "execution_count": 18,
   "metadata": {},
   "outputs": [
    {
     "data": {
      "text/plain": [
       "platform\n",
       "PS2     1255.77\n",
       "X360     971.42\n",
       "PS3      939.65\n",
       "Wii      907.51\n",
       "DS       806.12\n",
       "PS       730.86\n",
       "GBA      317.85\n",
       "PS4      314.14\n",
       "PSP      294.05\n",
       "PC       259.52\n",
       "3DS      259.00\n",
       "XB       257.74\n",
       "GB       255.46\n",
       "NES      251.05\n",
       "N64      218.68\n",
       "SNES     200.04\n",
       "GC       198.93\n",
       "XOne     159.32\n",
       "2600      96.98\n",
       "WiiU      82.19\n",
       "PSV       54.07\n",
       "SAT       33.59\n",
       "GEN       28.35\n",
       "DC        15.95\n",
       "SCD        1.86\n",
       "NG         1.44\n",
       "WS         1.42\n",
       "TG16       0.16\n",
       "3DO        0.10\n",
       "GG         0.04\n",
       "PCFX       0.03\n",
       "Name: world_sales, dtype: float64"
      ]
     },
     "execution_count": 18,
     "metadata": {},
     "output_type": "execute_result"
    }
   ],
   "source": [
    "df_platform.sort_values(ascending=False)"
   ]
  },
  {
   "cell_type": "code",
   "execution_count": 19,
   "metadata": {},
   "outputs": [],
   "source": [
    "df_pl = df_platform.sort_values(ascending=True).to_frame(name=\"sales\").reset_index().tail(15)"
   ]
  },
  {
   "cell_type": "code",
   "execution_count": 20,
   "metadata": {},
   "outputs": [
    {
     "data": {
      "image/png": "[encoded data removed]",
      "text/plain": [
       "<Figure size 648x432 with 1 Axes>"
      ]
     },
     "metadata": {
      "needs_background": "light"
     },
     "output_type": "display_data"
    }
   ],
   "source": [
    "fig, ax = plt.subplots(figsize=(9, 6))\n",
    "sns.despine(left=True)\n",
    "ax.grid(color='grey', alpha=0.5, lw=0.5)\n",
    "ax.barh(width=df_pl['sales'], y=df_pl['platform'])\n",
    "ax.set_title(\"Суммарные продажи по платформам\");"
   ]
  },
  {
   "cell_type": "code",
   "execution_count": 21,
   "metadata": {},
   "outputs": [],
   "source": [
    "df_pivot_platform = df.pivot_table(index='platform', values='world_sales', aggfunc='sum')"
   ]
  },
  {
   "cell_type": "code",
   "execution_count": 22,
   "metadata": {},
   "outputs": [
    {
     "data": {
      "text/html": [
       "<div>\n",
       "<style scoped>\n",
       "    .dataframe tbody tr th:only-of-type {\n",
       "        vertical-align: middle;\n",
       "    }\n",
       "\n",
       "    .dataframe tbody tr th {\n",
       "        vertical-align: top;\n",
       "    }\n",
       "\n",
       "    .dataframe thead th {\n",
       "        text-align: right;\n",
       "    }\n",
       "</style>\n",
       "<table border=\"1\" class=\"dataframe\">\n",
       "  <thead>\n",
       "    <tr style=\"text-align: right;\">\n",
       "      <th></th>\n",
       "      <th>world_sales</th>\n",
       "    </tr>\n",
       "    <tr>\n",
       "      <th>platform</th>\n",
       "      <th></th>\n",
       "    </tr>\n",
       "  </thead>\n",
       "  <tbody>\n",
       "    <tr>\n",
       "      <td>DS</td>\n",
       "      <td>806.12</td>\n",
       "    </tr>\n",
       "    <tr>\n",
       "      <td>PS</td>\n",
       "      <td>730.86</td>\n",
       "    </tr>\n",
       "    <tr>\n",
       "      <td>PS2</td>\n",
       "      <td>1255.77</td>\n",
       "    </tr>\n",
       "    <tr>\n",
       "      <td>PS3</td>\n",
       "      <td>939.65</td>\n",
       "    </tr>\n",
       "    <tr>\n",
       "      <td>Wii</td>\n",
       "      <td>907.51</td>\n",
       "    </tr>\n",
       "    <tr>\n",
       "      <td>X360</td>\n",
       "      <td>971.42</td>\n",
       "    </tr>\n",
       "  </tbody>\n",
       "</table>\n",
       "</div>"
      ],
      "text/plain": [
       "          world_sales\n",
       "platform             \n",
       "DS             806.12\n",
       "PS             730.86\n",
       "PS2           1255.77\n",
       "PS3            939.65\n",
       "Wii            907.51\n",
       "X360           971.42"
      ]
     },
     "execution_count": 22,
     "metadata": {},
     "output_type": "execute_result"
    }
   ],
   "source": [
    "df_pivot_platform.query('world_sales >= 400')"
   ]
  },
  {
   "cell_type": "code",
   "execution_count": 23,
   "metadata": {},
   "outputs": [],
   "source": [
    "list_of_required_types = [\"DS\", \"PS\", \"PS2\", \"PS3\", \"Wii\", \"X360\"]"
   ]
  },
  {
   "cell_type": "code",
   "execution_count": 24,
   "metadata": {},
   "outputs": [
    {
     "data": {
      "text/html": [
       "<div>\n",
       "<style scoped>\n",
       "    .dataframe tbody tr th:only-of-type {\n",
       "        vertical-align: middle;\n",
       "    }\n",
       "\n",
       "    .dataframe tbody tr th {\n",
       "        vertical-align: top;\n",
       "    }\n",
       "\n",
       "    .dataframe thead th {\n",
       "        text-align: right;\n",
       "    }\n",
       "</style>\n",
       "<table border=\"1\" class=\"dataframe\">\n",
       "  <thead>\n",
       "    <tr style=\"text-align: right;\">\n",
       "      <th></th>\n",
       "      <th>name</th>\n",
       "      <th>platform</th>\n",
       "      <th>year_of_release</th>\n",
       "      <th>genre</th>\n",
       "      <th>na_sales</th>\n",
       "      <th>eu_sales</th>\n",
       "      <th>jp_sales</th>\n",
       "      <th>other_sales</th>\n",
       "      <th>critic_score</th>\n",
       "      <th>user_score</th>\n",
       "      <th>rating</th>\n",
       "      <th>world_sales</th>\n",
       "    </tr>\n",
       "  </thead>\n",
       "  <tbody>\n",
       "    <tr>\n",
       "      <td>0</td>\n",
       "      <td>Wii Sports</td>\n",
       "      <td>Wii</td>\n",
       "      <td>2006.0</td>\n",
       "      <td>Sports</td>\n",
       "      <td>41.36</td>\n",
       "      <td>28.96</td>\n",
       "      <td>3.77</td>\n",
       "      <td>8.45</td>\n",
       "      <td>76.0</td>\n",
       "      <td>8</td>\n",
       "      <td>E</td>\n",
       "      <td>82.54</td>\n",
       "    </tr>\n",
       "    <tr>\n",
       "      <td>2</td>\n",
       "      <td>Mario Kart Wii</td>\n",
       "      <td>Wii</td>\n",
       "      <td>2008.0</td>\n",
       "      <td>Racing</td>\n",
       "      <td>15.68</td>\n",
       "      <td>12.76</td>\n",
       "      <td>3.79</td>\n",
       "      <td>3.29</td>\n",
       "      <td>82.0</td>\n",
       "      <td>8.3</td>\n",
       "      <td>E</td>\n",
       "      <td>35.52</td>\n",
       "    </tr>\n",
       "    <tr>\n",
       "      <td>3</td>\n",
       "      <td>Wii Sports Resort</td>\n",
       "      <td>Wii</td>\n",
       "      <td>2009.0</td>\n",
       "      <td>Sports</td>\n",
       "      <td>15.61</td>\n",
       "      <td>10.93</td>\n",
       "      <td>3.28</td>\n",
       "      <td>2.95</td>\n",
       "      <td>80.0</td>\n",
       "      <td>8</td>\n",
       "      <td>E</td>\n",
       "      <td>32.77</td>\n",
       "    </tr>\n",
       "    <tr>\n",
       "      <td>6</td>\n",
       "      <td>New Super Mario Bros.</td>\n",
       "      <td>DS</td>\n",
       "      <td>2006.0</td>\n",
       "      <td>Platform</td>\n",
       "      <td>11.28</td>\n",
       "      <td>9.14</td>\n",
       "      <td>6.50</td>\n",
       "      <td>2.88</td>\n",
       "      <td>89.0</td>\n",
       "      <td>8.5</td>\n",
       "      <td>E</td>\n",
       "      <td>29.80</td>\n",
       "    </tr>\n",
       "    <tr>\n",
       "      <td>7</td>\n",
       "      <td>Wii Play</td>\n",
       "      <td>Wii</td>\n",
       "      <td>2006.0</td>\n",
       "      <td>Misc</td>\n",
       "      <td>13.96</td>\n",
       "      <td>9.18</td>\n",
       "      <td>2.93</td>\n",
       "      <td>2.84</td>\n",
       "      <td>58.0</td>\n",
       "      <td>6.6</td>\n",
       "      <td>E</td>\n",
       "      <td>28.91</td>\n",
       "    </tr>\n",
       "    <tr>\n",
       "      <td>...</td>\n",
       "      <td>...</td>\n",
       "      <td>...</td>\n",
       "      <td>...</td>\n",
       "      <td>...</td>\n",
       "      <td>...</td>\n",
       "      <td>...</td>\n",
       "      <td>...</td>\n",
       "      <td>...</td>\n",
       "      <td>...</td>\n",
       "      <td>...</td>\n",
       "      <td>...</td>\n",
       "      <td>...</td>\n",
       "    </tr>\n",
       "    <tr>\n",
       "      <td>16700</td>\n",
       "      <td>Mezase!! Tsuri Master DS</td>\n",
       "      <td>DS</td>\n",
       "      <td>2009.0</td>\n",
       "      <td>Sports</td>\n",
       "      <td>0.00</td>\n",
       "      <td>0.00</td>\n",
       "      <td>0.01</td>\n",
       "      <td>0.00</td>\n",
       "      <td>NaN</td>\n",
       "      <td>NaN</td>\n",
       "      <td>RP</td>\n",
       "      <td>0.01</td>\n",
       "    </tr>\n",
       "    <tr>\n",
       "      <td>16704</td>\n",
       "      <td>Plushees</td>\n",
       "      <td>DS</td>\n",
       "      <td>2008.0</td>\n",
       "      <td>Simulation</td>\n",
       "      <td>0.01</td>\n",
       "      <td>0.00</td>\n",
       "      <td>0.00</td>\n",
       "      <td>0.00</td>\n",
       "      <td>NaN</td>\n",
       "      <td>tbd</td>\n",
       "      <td>E</td>\n",
       "      <td>0.01</td>\n",
       "    </tr>\n",
       "    <tr>\n",
       "      <td>16709</td>\n",
       "      <td>SCORE International Baja 1000: The Official Game</td>\n",
       "      <td>PS2</td>\n",
       "      <td>2008.0</td>\n",
       "      <td>Racing</td>\n",
       "      <td>0.00</td>\n",
       "      <td>0.00</td>\n",
       "      <td>0.00</td>\n",
       "      <td>0.00</td>\n",
       "      <td>NaN</td>\n",
       "      <td>NaN</td>\n",
       "      <td>RP</td>\n",
       "      <td>0.00</td>\n",
       "    </tr>\n",
       "    <tr>\n",
       "      <td>16710</td>\n",
       "      <td>Samurai Warriors: Sanada Maru</td>\n",
       "      <td>PS3</td>\n",
       "      <td>2016.0</td>\n",
       "      <td>Action</td>\n",
       "      <td>0.00</td>\n",
       "      <td>0.00</td>\n",
       "      <td>0.01</td>\n",
       "      <td>0.00</td>\n",
       "      <td>NaN</td>\n",
       "      <td>NaN</td>\n",
       "      <td>RP</td>\n",
       "      <td>0.01</td>\n",
       "    </tr>\n",
       "    <tr>\n",
       "      <td>16711</td>\n",
       "      <td>LMA Manager 2007</td>\n",
       "      <td>X360</td>\n",
       "      <td>2006.0</td>\n",
       "      <td>Sports</td>\n",
       "      <td>0.00</td>\n",
       "      <td>0.01</td>\n",
       "      <td>0.00</td>\n",
       "      <td>0.00</td>\n",
       "      <td>NaN</td>\n",
       "      <td>NaN</td>\n",
       "      <td>RP</td>\n",
       "      <td>0.01</td>\n",
       "    </tr>\n",
       "  </tbody>\n",
       "</table>\n",
       "<p>9422 rows × 12 columns</p>\n",
       "</div>"
      ],
      "text/plain": [
       "                                                   name platform  \\\n",
       "0                                            Wii Sports      Wii   \n",
       "2                                        Mario Kart Wii      Wii   \n",
       "3                                     Wii Sports Resort      Wii   \n",
       "6                                 New Super Mario Bros.       DS   \n",
       "7                                              Wii Play      Wii   \n",
       "...                                                 ...      ...   \n",
       "16700                          Mezase!! Tsuri Master DS       DS   \n",
       "16704                                          Plushees       DS   \n",
       "16709  SCORE International Baja 1000: The Official Game      PS2   \n",
       "16710                     Samurai Warriors: Sanada Maru      PS3   \n",
       "16711                                  LMA Manager 2007     X360   \n",
       "\n",
       "       year_of_release       genre  na_sales  eu_sales  jp_sales  other_sales  \\\n",
       "0               2006.0      Sports     41.36     28.96      3.77         8.45   \n",
       "2               2008.0      Racing     15.68     12.76      3.79         3.29   \n",
       "3               2009.0      Sports     15.61     10.93      3.28         2.95   \n",
       "6               2006.0    Platform     11.28      9.14      6.50         2.88   \n",
       "7               2006.0        Misc     13.96      9.18      2.93         2.84   \n",
       "...                ...         ...       ...       ...       ...          ...   \n",
       "16700           2009.0      Sports      0.00      0.00      0.01         0.00   \n",
       "16704           2008.0  Simulation      0.01      0.00      0.00         0.00   \n",
       "16709           2008.0      Racing      0.00      0.00      0.00         0.00   \n",
       "16710           2016.0      Action      0.00      0.00      0.01         0.00   \n",
       "16711           2006.0      Sports      0.00      0.01      0.00         0.00   \n",
       "\n",
       "       critic_score user_score rating  world_sales  \n",
       "0              76.0          8      E        82.54  \n",
       "2              82.0        8.3      E        35.52  \n",
       "3              80.0          8      E        32.77  \n",
       "6              89.0        8.5      E        29.80  \n",
       "7              58.0        6.6      E        28.91  \n",
       "...             ...        ...    ...          ...  \n",
       "16700           NaN        NaN     RP         0.01  \n",
       "16704           NaN        tbd      E         0.01  \n",
       "16709           NaN        NaN     RP         0.00  \n",
       "16710           NaN        NaN     RP         0.01  \n",
       "16711           NaN        NaN     RP         0.01  \n",
       "\n",
       "[9422 rows x 12 columns]"
      ]
     },
     "execution_count": 24,
     "metadata": {},
     "output_type": "execute_result"
    }
   ],
   "source": [
    "df[df['platform'].isin(list_of_required_types)]"
   ]
  },
  {
   "cell_type": "code",
   "execution_count": 25,
   "metadata": {},
   "outputs": [],
   "source": [
    "import matplotlib.pyplot as plt"
   ]
  },
  {
   "cell_type": "code",
   "execution_count": 26,
   "metadata": {},
   "outputs": [
    {
     "data": {
      "image/png": "[encoded data removed]",
      "text/plain": [
       "<Figure size 720x720 with 9 Axes>"
      ]
     },
     "metadata": {
      "needs_background": "light"
     },
     "output_type": "display_data"
    }
   ],
   "source": [
    "df[df['platform'].isin(list_of_required_types)].hist(bins=20, figsize=(10, 10))\n",
    "plt.show()"
   ]
  },
  {
   "cell_type": "code",
   "execution_count": 27,
   "metadata": {},
   "outputs": [
    {
     "data": {
      "image/png": "[encoded data removed]",
      "text/plain": [
       "<Figure size 432x288 with 1 Axes>"
      ]
     },
     "metadata": {
      "needs_background": "light"
     },
     "output_type": "display_data"
    }
   ],
   "source": [
    "df[df['platform'].isin(list_of_required_types)].plot(x='year_of_release', y='world_sales', kind='scatter', grid=True)\n",
    "plt.show()"
   ]
  },
  {
   "cell_type": "markdown",
   "metadata": {},
   "source": [
    "**По графикам видно, что действительно основные продажи сосредоточены на 9 крупных платформах, также можно заметить, что с 1995 по 2008 год был сильный рост продаж, достигший пика и как видно на диаграмме рассеяния - выбивающего значения именно в 2007-2008 году, затем продажи пошли на спад.**"
   ]
  },
  {
   "cell_type": "markdown",
   "metadata": {},
   "source": [
    "### Возьмем данные за соответствующий актуальный период. Актуальный период обозначим с 2010 по 2016, так как до этого был слишком выдающийся рост, а после 2010 продажи достаточно равномерные. Так как нам надо построить прогноз на 2017 год, то не будем  учитывать в работе данные за предыдущие годы(до актуального периода). Выясним какие платформы лидируют по продажам, растут или падают? Выберем несколько потенциально прибыльных платформ."
   ]
  },
  {
   "cell_type": "code",
   "execution_count": 28,
   "metadata": {},
   "outputs": [],
   "source": [
    "df_top = df.query('platform in [\"DS\", \"PS\", \"PS2\", \"PS3\", \"Wii\", \"X360\"] and year_of_release >= 2010')"
   ]
  },
  {
   "cell_type": "code",
   "execution_count": 29,
   "metadata": {},
   "outputs": [],
   "source": [
    "df_top_1 = df_top.pivot_table(index=['platform','year_of_release'], values='name', aggfunc='count')"
   ]
  },
  {
   "cell_type": "code",
   "execution_count": 30,
   "metadata": {},
   "outputs": [
    {
     "data": {
      "text/html": [
       "<div>\n",
       "<style scoped>\n",
       "    .dataframe tbody tr th:only-of-type {\n",
       "        vertical-align: middle;\n",
       "    }\n",
       "\n",
       "    .dataframe tbody tr th {\n",
       "        vertical-align: top;\n",
       "    }\n",
       "\n",
       "    .dataframe thead th {\n",
       "        text-align: right;\n",
       "    }\n",
       "</style>\n",
       "<table border=\"1\" class=\"dataframe\">\n",
       "  <thead>\n",
       "    <tr style=\"text-align: right;\">\n",
       "      <th></th>\n",
       "      <th></th>\n",
       "      <th>name</th>\n",
       "    </tr>\n",
       "    <tr>\n",
       "      <th>platform</th>\n",
       "      <th>year_of_release</th>\n",
       "      <th></th>\n",
       "    </tr>\n",
       "  </thead>\n",
       "  <tbody>\n",
       "    <tr>\n",
       "      <td rowspan=\"4\" valign=\"top\">DS</td>\n",
       "      <td>2010.0</td>\n",
       "      <td>323</td>\n",
       "    </tr>\n",
       "    <tr>\n",
       "      <td>2011.0</td>\n",
       "      <td>153</td>\n",
       "    </tr>\n",
       "    <tr>\n",
       "      <td>2012.0</td>\n",
       "      <td>23</td>\n",
       "    </tr>\n",
       "    <tr>\n",
       "      <td>2013.0</td>\n",
       "      <td>8</td>\n",
       "    </tr>\n",
       "    <tr>\n",
       "      <td rowspan=\"2\" valign=\"top\">PS2</td>\n",
       "      <td>2010.0</td>\n",
       "      <td>38</td>\n",
       "    </tr>\n",
       "    <tr>\n",
       "      <td>2011.0</td>\n",
       "      <td>7</td>\n",
       "    </tr>\n",
       "    <tr>\n",
       "      <td rowspan=\"7\" valign=\"top\">PS3</td>\n",
       "      <td>2010.0</td>\n",
       "      <td>181</td>\n",
       "    </tr>\n",
       "    <tr>\n",
       "      <td>2011.0</td>\n",
       "      <td>240</td>\n",
       "    </tr>\n",
       "    <tr>\n",
       "      <td>2012.0</td>\n",
       "      <td>148</td>\n",
       "    </tr>\n",
       "    <tr>\n",
       "      <td>2013.0</td>\n",
       "      <td>126</td>\n",
       "    </tr>\n",
       "    <tr>\n",
       "      <td>2014.0</td>\n",
       "      <td>108</td>\n",
       "    </tr>\n",
       "    <tr>\n",
       "      <td>2015.0</td>\n",
       "      <td>73</td>\n",
       "    </tr>\n",
       "    <tr>\n",
       "      <td>2016.0</td>\n",
       "      <td>38</td>\n",
       "    </tr>\n",
       "    <tr>\n",
       "      <td rowspan=\"7\" valign=\"top\">Wii</td>\n",
       "      <td>2010.0</td>\n",
       "      <td>253</td>\n",
       "    </tr>\n",
       "    <tr>\n",
       "      <td>2011.0</td>\n",
       "      <td>143</td>\n",
       "    </tr>\n",
       "    <tr>\n",
       "      <td>2012.0</td>\n",
       "      <td>31</td>\n",
       "    </tr>\n",
       "    <tr>\n",
       "      <td>2013.0</td>\n",
       "      <td>12</td>\n",
       "    </tr>\n",
       "    <tr>\n",
       "      <td>2014.0</td>\n",
       "      <td>6</td>\n",
       "    </tr>\n",
       "    <tr>\n",
       "      <td>2015.0</td>\n",
       "      <td>4</td>\n",
       "    </tr>\n",
       "    <tr>\n",
       "      <td>2016.0</td>\n",
       "      <td>1</td>\n",
       "    </tr>\n",
       "    <tr>\n",
       "      <td rowspan=\"7\" valign=\"top\">X360</td>\n",
       "      <td>2010.0</td>\n",
       "      <td>212</td>\n",
       "    </tr>\n",
       "    <tr>\n",
       "      <td>2011.0</td>\n",
       "      <td>206</td>\n",
       "    </tr>\n",
       "    <tr>\n",
       "      <td>2012.0</td>\n",
       "      <td>106</td>\n",
       "    </tr>\n",
       "    <tr>\n",
       "      <td>2013.0</td>\n",
       "      <td>75</td>\n",
       "    </tr>\n",
       "    <tr>\n",
       "      <td>2014.0</td>\n",
       "      <td>63</td>\n",
       "    </tr>\n",
       "    <tr>\n",
       "      <td>2015.0</td>\n",
       "      <td>35</td>\n",
       "    </tr>\n",
       "    <tr>\n",
       "      <td>2016.0</td>\n",
       "      <td>13</td>\n",
       "    </tr>\n",
       "  </tbody>\n",
       "</table>\n",
       "</div>"
      ],
      "text/plain": [
       "                          name\n",
       "platform year_of_release      \n",
       "DS       2010.0            323\n",
       "         2011.0            153\n",
       "         2012.0             23\n",
       "         2013.0              8\n",
       "PS2      2010.0             38\n",
       "         2011.0              7\n",
       "PS3      2010.0            181\n",
       "         2011.0            240\n",
       "         2012.0            148\n",
       "         2013.0            126\n",
       "         2014.0            108\n",
       "         2015.0             73\n",
       "         2016.0             38\n",
       "Wii      2010.0            253\n",
       "         2011.0            143\n",
       "         2012.0             31\n",
       "         2013.0             12\n",
       "         2014.0              6\n",
       "         2015.0              4\n",
       "         2016.0              1\n",
       "X360     2010.0            212\n",
       "         2011.0            206\n",
       "         2012.0            106\n",
       "         2013.0             75\n",
       "         2014.0             63\n",
       "         2015.0             35\n",
       "         2016.0             13"
      ]
     },
     "execution_count": 30,
     "metadata": {},
     "output_type": "execute_result"
    }
   ],
   "source": [
    "df_top_1"
   ]
  },
  {
   "cell_type": "code",
   "execution_count": 31,
   "metadata": {},
   "outputs": [
    {
     "data": {
      "image/png": "[encoded data removed]",
      "text/plain": [
       "<Figure size 360x360 with 1 Axes>"
      ]
     },
     "metadata": {
      "needs_background": "light"
     },
     "output_type": "display_data"
    }
   ],
   "source": [
    "df_top_1.query('platform == \"DS\"').plot(style='-', grid=True, figsize=(5,5))\n",
    "plt.show()"
   ]
  },
  {
   "cell_type": "markdown",
   "metadata": {},
   "source": [
    "**Платформа DS уже не представляет интереса для 2017 года. С самого появления платформы, продажи шли на спад с каждый годом, и после 2013 игры уже не выпускались.**"
   ]
  },
  {
   "cell_type": "code",
   "execution_count": 32,
   "metadata": {},
   "outputs": [
    {
     "data": {
      "image/png": "[encoded data removed]",
      "text/plain": [
       "<Figure size 360x360 with 1 Axes>"
      ]
     },
     "metadata": {
      "needs_background": "light"
     },
     "output_type": "display_data"
    }
   ],
   "source": [
    "df_top_1.query('platform == \"PS2\"').plot(style='-', grid=True, figsize=(5,5))\n",
    "plt.show()"
   ]
  },
  {
   "cell_type": "markdown",
   "metadata": {},
   "source": [
    "**Платформа PS2 просуществовала всего год, и она уже не представляет интереса для 2017 года.**"
   ]
  },
  {
   "cell_type": "code",
   "execution_count": 33,
   "metadata": {},
   "outputs": [
    {
     "data": {
      "image/png": "[encoded data removed]",
      "text/plain": [
       "<Figure size 720x360 with 1 Axes>"
      ]
     },
     "metadata": {
      "needs_background": "light"
     },
     "output_type": "display_data"
    }
   ],
   "source": [
    "df_top_1.query('platform == \"PS3\"').plot(style='-', grid=True, figsize=(10,5))\n",
    "plt.show()"
   ]
  },
  {
   "cell_type": "markdown",
   "metadata": {},
   "source": [
    "**У платформы PS3 были высокие продажи с появления в 2010 и до 2012, с пиком в 2011, далее продажи шли на спад. Данные по этой платформе подходят для анализа, так как игры выпускаются до сих пор.** "
   ]
  },
  {
   "cell_type": "code",
   "execution_count": 34,
   "metadata": {},
   "outputs": [
    {
     "data": {
      "image/png": "[encoded data removed]",
      "text/plain": [
       "<Figure size 720x360 with 1 Axes>"
      ]
     },
     "metadata": {
      "needs_background": "light"
     },
     "output_type": "display_data"
    }
   ],
   "source": [
    "df_top_1.query('platform == \"Wii\"').plot(style='-', grid=True, figsize=(10,5))\n",
    "plt.show()"
   ]
  },
  {
   "cell_type": "markdown",
   "metadata": {},
   "source": [
    "**Данные платформы Wii актуальны, продажи падали с 2010 по 2012, далее спад намного слабее.** "
   ]
  },
  {
   "cell_type": "code",
   "execution_count": 35,
   "metadata": {},
   "outputs": [
    {
     "data": {
      "image/png": "[encoded data removed]",
      "text/plain": [
       "<Figure size 720x360 with 1 Axes>"
      ]
     },
     "metadata": {
      "needs_background": "light"
     },
     "output_type": "display_data"
    }
   ],
   "source": [
    "df_top_1.query('platform == \"X360\"').plot(style='-', grid=True, figsize=(10,5))\n",
    "plt.show()"
   ]
  },
  {
   "cell_type": "markdown",
   "metadata": {},
   "source": [
    "**Судя по графику, у платформы Х360 спад начался через год после появления на рынке, и продолжался до 2016, данные до сих пор актуальны.**"
   ]
  },
  {
   "cell_type": "code",
   "execution_count": 36,
   "metadata": {},
   "outputs": [
    {
     "data": {
      "text/html": [
       "<div>\n",
       "<style scoped>\n",
       "    .dataframe tbody tr th:only-of-type {\n",
       "        vertical-align: middle;\n",
       "    }\n",
       "\n",
       "    .dataframe tbody tr th {\n",
       "        vertical-align: top;\n",
       "    }\n",
       "\n",
       "    .dataframe thead th {\n",
       "        text-align: right;\n",
       "    }\n",
       "</style>\n",
       "<table border=\"1\" class=\"dataframe\">\n",
       "  <thead>\n",
       "    <tr style=\"text-align: right;\">\n",
       "      <th></th>\n",
       "      <th>name</th>\n",
       "      <th>platform</th>\n",
       "      <th>year_of_release</th>\n",
       "      <th>genre</th>\n",
       "      <th>na_sales</th>\n",
       "      <th>eu_sales</th>\n",
       "      <th>jp_sales</th>\n",
       "      <th>other_sales</th>\n",
       "      <th>critic_score</th>\n",
       "      <th>user_score</th>\n",
       "      <th>rating</th>\n",
       "      <th>world_sales</th>\n",
       "    </tr>\n",
       "  </thead>\n",
       "  <tbody>\n",
       "    <tr>\n",
       "      <td>14</td>\n",
       "      <td>Kinect Adventures!</td>\n",
       "      <td>X360</td>\n",
       "      <td>2010.0</td>\n",
       "      <td>Misc</td>\n",
       "      <td>15.00</td>\n",
       "      <td>4.89</td>\n",
       "      <td>0.24</td>\n",
       "      <td>1.69</td>\n",
       "      <td>61.0</td>\n",
       "      <td>6.3</td>\n",
       "      <td>E</td>\n",
       "      <td>21.82</td>\n",
       "    </tr>\n",
       "    <tr>\n",
       "      <td>16</td>\n",
       "      <td>Grand Theft Auto V</td>\n",
       "      <td>PS3</td>\n",
       "      <td>2013.0</td>\n",
       "      <td>Action</td>\n",
       "      <td>7.02</td>\n",
       "      <td>9.09</td>\n",
       "      <td>0.98</td>\n",
       "      <td>3.96</td>\n",
       "      <td>97.0</td>\n",
       "      <td>8.2</td>\n",
       "      <td>M</td>\n",
       "      <td>21.05</td>\n",
       "    </tr>\n",
       "    <tr>\n",
       "      <td>23</td>\n",
       "      <td>Grand Theft Auto V</td>\n",
       "      <td>X360</td>\n",
       "      <td>2013.0</td>\n",
       "      <td>Action</td>\n",
       "      <td>9.66</td>\n",
       "      <td>5.14</td>\n",
       "      <td>0.06</td>\n",
       "      <td>1.41</td>\n",
       "      <td>97.0</td>\n",
       "      <td>8.1</td>\n",
       "      <td>M</td>\n",
       "      <td>16.27</td>\n",
       "    </tr>\n",
       "    <tr>\n",
       "      <td>27</td>\n",
       "      <td>Pokemon Black/Pokemon White</td>\n",
       "      <td>DS</td>\n",
       "      <td>2010.0</td>\n",
       "      <td>Role-Playing</td>\n",
       "      <td>5.51</td>\n",
       "      <td>3.17</td>\n",
       "      <td>5.65</td>\n",
       "      <td>0.80</td>\n",
       "      <td>NaN</td>\n",
       "      <td>NaN</td>\n",
       "      <td>RP</td>\n",
       "      <td>15.13</td>\n",
       "    </tr>\n",
       "    <tr>\n",
       "      <td>29</td>\n",
       "      <td>Call of Duty: Modern Warfare 3</td>\n",
       "      <td>X360</td>\n",
       "      <td>2011.0</td>\n",
       "      <td>Shooter</td>\n",
       "      <td>9.04</td>\n",
       "      <td>4.24</td>\n",
       "      <td>0.13</td>\n",
       "      <td>1.32</td>\n",
       "      <td>88.0</td>\n",
       "      <td>3.4</td>\n",
       "      <td>M</td>\n",
       "      <td>14.73</td>\n",
       "    </tr>\n",
       "    <tr>\n",
       "      <td>...</td>\n",
       "      <td>...</td>\n",
       "      <td>...</td>\n",
       "      <td>...</td>\n",
       "      <td>...</td>\n",
       "      <td>...</td>\n",
       "      <td>...</td>\n",
       "      <td>...</td>\n",
       "      <td>...</td>\n",
       "      <td>...</td>\n",
       "      <td>...</td>\n",
       "      <td>...</td>\n",
       "      <td>...</td>\n",
       "    </tr>\n",
       "    <tr>\n",
       "      <td>16649</td>\n",
       "      <td>Real Crimes: The Unicorn Killer</td>\n",
       "      <td>DS</td>\n",
       "      <td>2011.0</td>\n",
       "      <td>Puzzle</td>\n",
       "      <td>0.00</td>\n",
       "      <td>0.01</td>\n",
       "      <td>0.00</td>\n",
       "      <td>0.00</td>\n",
       "      <td>NaN</td>\n",
       "      <td>NaN</td>\n",
       "      <td>RP</td>\n",
       "      <td>0.01</td>\n",
       "    </tr>\n",
       "    <tr>\n",
       "      <td>16654</td>\n",
       "      <td>Ben 10 Omniverse 2</td>\n",
       "      <td>X360</td>\n",
       "      <td>2013.0</td>\n",
       "      <td>Action</td>\n",
       "      <td>0.00</td>\n",
       "      <td>0.01</td>\n",
       "      <td>0.00</td>\n",
       "      <td>0.00</td>\n",
       "      <td>NaN</td>\n",
       "      <td>5.1</td>\n",
       "      <td>E10+</td>\n",
       "      <td>0.01</td>\n",
       "    </tr>\n",
       "    <tr>\n",
       "      <td>16674</td>\n",
       "      <td>Tsukigime Ranko's Longest Day</td>\n",
       "      <td>PS3</td>\n",
       "      <td>2014.0</td>\n",
       "      <td>Action</td>\n",
       "      <td>0.00</td>\n",
       "      <td>0.01</td>\n",
       "      <td>0.00</td>\n",
       "      <td>0.00</td>\n",
       "      <td>NaN</td>\n",
       "      <td>NaN</td>\n",
       "      <td>RP</td>\n",
       "      <td>0.01</td>\n",
       "    </tr>\n",
       "    <tr>\n",
       "      <td>16691</td>\n",
       "      <td>Dynasty Warriors: Eiketsuden</td>\n",
       "      <td>PS3</td>\n",
       "      <td>2016.0</td>\n",
       "      <td>Action</td>\n",
       "      <td>0.00</td>\n",
       "      <td>0.00</td>\n",
       "      <td>0.01</td>\n",
       "      <td>0.00</td>\n",
       "      <td>NaN</td>\n",
       "      <td>NaN</td>\n",
       "      <td>RP</td>\n",
       "      <td>0.01</td>\n",
       "    </tr>\n",
       "    <tr>\n",
       "      <td>16710</td>\n",
       "      <td>Samurai Warriors: Sanada Maru</td>\n",
       "      <td>PS3</td>\n",
       "      <td>2016.0</td>\n",
       "      <td>Action</td>\n",
       "      <td>0.00</td>\n",
       "      <td>0.00</td>\n",
       "      <td>0.01</td>\n",
       "      <td>0.00</td>\n",
       "      <td>NaN</td>\n",
       "      <td>NaN</td>\n",
       "      <td>RP</td>\n",
       "      <td>0.01</td>\n",
       "    </tr>\n",
       "  </tbody>\n",
       "</table>\n",
       "<p>2626 rows × 12 columns</p>\n",
       "</div>"
      ],
      "text/plain": [
       "                                  name platform  year_of_release  \\\n",
       "14                  Kinect Adventures!     X360           2010.0   \n",
       "16                  Grand Theft Auto V      PS3           2013.0   \n",
       "23                  Grand Theft Auto V     X360           2013.0   \n",
       "27         Pokemon Black/Pokemon White       DS           2010.0   \n",
       "29      Call of Duty: Modern Warfare 3     X360           2011.0   \n",
       "...                                ...      ...              ...   \n",
       "16649  Real Crimes: The Unicorn Killer       DS           2011.0   \n",
       "16654               Ben 10 Omniverse 2     X360           2013.0   \n",
       "16674    Tsukigime Ranko's Longest Day      PS3           2014.0   \n",
       "16691     Dynasty Warriors: Eiketsuden      PS3           2016.0   \n",
       "16710    Samurai Warriors: Sanada Maru      PS3           2016.0   \n",
       "\n",
       "              genre  na_sales  eu_sales  jp_sales  other_sales  critic_score  \\\n",
       "14             Misc     15.00      4.89      0.24         1.69          61.0   \n",
       "16           Action      7.02      9.09      0.98         3.96          97.0   \n",
       "23           Action      9.66      5.14      0.06         1.41          97.0   \n",
       "27     Role-Playing      5.51      3.17      5.65         0.80           NaN   \n",
       "29          Shooter      9.04      4.24      0.13         1.32          88.0   \n",
       "...             ...       ...       ...       ...          ...           ...   \n",
       "16649        Puzzle      0.00      0.01      0.00         0.00           NaN   \n",
       "16654        Action      0.00      0.01      0.00         0.00           NaN   \n",
       "16674        Action      0.00      0.01      0.00         0.00           NaN   \n",
       "16691        Action      0.00      0.00      0.01         0.00           NaN   \n",
       "16710        Action      0.00      0.00      0.01         0.00           NaN   \n",
       "\n",
       "      user_score rating  world_sales  \n",
       "14           6.3      E        21.82  \n",
       "16           8.2      M        21.05  \n",
       "23           8.1      M        16.27  \n",
       "27           NaN     RP        15.13  \n",
       "29           3.4      M        14.73  \n",
       "...          ...    ...          ...  \n",
       "16649        NaN     RP         0.01  \n",
       "16654        5.1   E10+         0.01  \n",
       "16674        NaN     RP         0.01  \n",
       "16691        NaN     RP         0.01  \n",
       "16710        NaN     RP         0.01  \n",
       "\n",
       "[2626 rows x 12 columns]"
      ]
     },
     "execution_count": 36,
     "metadata": {},
     "output_type": "execute_result"
    }
   ],
   "source": [
    "df_top"
   ]
  },
  {
   "cell_type": "code",
   "execution_count": 37,
   "metadata": {},
   "outputs": [
    {
     "data": {
      "text/plain": [
       "platform\n",
       "PS3     596.05\n",
       "X360    560.59\n",
       "Wii     222.97\n",
       "DS      123.75\n",
       "PS2       6.09\n",
       "Name: world_sales, dtype: float64"
      ]
     },
     "execution_count": 37,
     "metadata": {},
     "output_type": "execute_result"
    }
   ],
   "source": [
    "df_top.groupby('platform')['world_sales'].sum().sort_values(ascending=False)"
   ]
  },
  {
   "cell_type": "code",
   "execution_count": 38,
   "metadata": {},
   "outputs": [],
   "source": [
    "df_top_bar = pd.DataFrame({\n",
    "    \"platform\": [\"PS3\", \"X360\", \"Wii\", \"DS\", \"PS2\"],\n",
    "    \"world_sales\": [596.05, 560.59, 222.97, 123.75, 6.09]\n",
    "}).sort_values(by=\"world_sales\")"
   ]
  },
  {
   "cell_type": "code",
   "execution_count": 39,
   "metadata": {},
   "outputs": [
    {
     "data": {
      "image/png": "[encoded data removed]",
      "text/plain": [
       "<Figure size 648x432 with 1 Axes>"
      ]
     },
     "metadata": {
      "needs_background": "light"
     },
     "output_type": "display_data"
    }
   ],
   "source": [
    "fig, ax = plt.subplots(figsize=(9, 6))\n",
    "sns.despine(left=True)\n",
    "ax.grid(color='grey', alpha=0.5, lw=0.5)\n",
    "ax.barh(width=df_top_bar['world_sales'], y=df_top_bar['platform'])\n",
    "ax.set_title('world_sales');"
   ]
  },
  {
   "cell_type": "markdown",
   "metadata": {},
   "source": [
    "**Обратим внимание что платформы \"GBA\" и \"PS\" после 2010 года уже не встречаются, а лидируют по продажам с большим отрывом PS3 и X360. В целом самые топовые несколько платформ PS3, X360, PS4, Wii, DS      .**"
   ]
  },
  {
   "cell_type": "code",
   "execution_count": 40,
   "metadata": {},
   "outputs": [],
   "source": [
    "df_top_pivot = df_top.pivot_table(index=['platform', 'year_of_release'], values='world_sales', aggfunc='sum')"
   ]
  },
  {
   "cell_type": "code",
   "execution_count": 41,
   "metadata": {},
   "outputs": [
    {
     "data": {
      "text/html": [
       "<div>\n",
       "<style scoped>\n",
       "    .dataframe tbody tr th:only-of-type {\n",
       "        vertical-align: middle;\n",
       "    }\n",
       "\n",
       "    .dataframe tbody tr th {\n",
       "        vertical-align: top;\n",
       "    }\n",
       "\n",
       "    .dataframe thead th {\n",
       "        text-align: right;\n",
       "    }\n",
       "</style>\n",
       "<table border=\"1\" class=\"dataframe\">\n",
       "  <thead>\n",
       "    <tr style=\"text-align: right;\">\n",
       "      <th></th>\n",
       "      <th></th>\n",
       "      <th>world_sales</th>\n",
       "    </tr>\n",
       "    <tr>\n",
       "      <th>platform</th>\n",
       "      <th>year_of_release</th>\n",
       "      <th></th>\n",
       "    </tr>\n",
       "  </thead>\n",
       "  <tbody>\n",
       "    <tr>\n",
       "      <td rowspan=\"4\" valign=\"top\">DS</td>\n",
       "      <td>2010.0</td>\n",
       "      <td>85.02</td>\n",
       "    </tr>\n",
       "    <tr>\n",
       "      <td>2011.0</td>\n",
       "      <td>26.18</td>\n",
       "    </tr>\n",
       "    <tr>\n",
       "      <td>2012.0</td>\n",
       "      <td>11.01</td>\n",
       "    </tr>\n",
       "    <tr>\n",
       "      <td>2013.0</td>\n",
       "      <td>1.54</td>\n",
       "    </tr>\n",
       "    <tr>\n",
       "      <td rowspan=\"2\" valign=\"top\">PS2</td>\n",
       "      <td>2010.0</td>\n",
       "      <td>5.64</td>\n",
       "    </tr>\n",
       "    <tr>\n",
       "      <td>2011.0</td>\n",
       "      <td>0.45</td>\n",
       "    </tr>\n",
       "    <tr>\n",
       "      <td rowspan=\"7\" valign=\"top\">PS3</td>\n",
       "      <td>2010.0</td>\n",
       "      <td>142.17</td>\n",
       "    </tr>\n",
       "    <tr>\n",
       "      <td>2011.0</td>\n",
       "      <td>165.09</td>\n",
       "    </tr>\n",
       "    <tr>\n",
       "      <td>2012.0</td>\n",
       "      <td>107.36</td>\n",
       "    </tr>\n",
       "    <tr>\n",
       "      <td>2013.0</td>\n",
       "      <td>113.25</td>\n",
       "    </tr>\n",
       "    <tr>\n",
       "      <td>2014.0</td>\n",
       "      <td>47.76</td>\n",
       "    </tr>\n",
       "    <tr>\n",
       "      <td>2015.0</td>\n",
       "      <td>16.82</td>\n",
       "    </tr>\n",
       "    <tr>\n",
       "      <td>2016.0</td>\n",
       "      <td>3.60</td>\n",
       "    </tr>\n",
       "    <tr>\n",
       "      <td rowspan=\"7\" valign=\"top\">Wii</td>\n",
       "      <td>2010.0</td>\n",
       "      <td>127.95</td>\n",
       "    </tr>\n",
       "    <tr>\n",
       "      <td>2011.0</td>\n",
       "      <td>59.65</td>\n",
       "    </tr>\n",
       "    <tr>\n",
       "      <td>2012.0</td>\n",
       "      <td>21.71</td>\n",
       "    </tr>\n",
       "    <tr>\n",
       "      <td>2013.0</td>\n",
       "      <td>8.59</td>\n",
       "    </tr>\n",
       "    <tr>\n",
       "      <td>2014.0</td>\n",
       "      <td>3.75</td>\n",
       "    </tr>\n",
       "    <tr>\n",
       "      <td>2015.0</td>\n",
       "      <td>1.14</td>\n",
       "    </tr>\n",
       "    <tr>\n",
       "      <td>2016.0</td>\n",
       "      <td>0.18</td>\n",
       "    </tr>\n",
       "    <tr>\n",
       "      <td rowspan=\"7\" valign=\"top\">X360</td>\n",
       "      <td>2010.0</td>\n",
       "      <td>180.21</td>\n",
       "    </tr>\n",
       "    <tr>\n",
       "      <td>2011.0</td>\n",
       "      <td>143.84</td>\n",
       "    </tr>\n",
       "    <tr>\n",
       "      <td>2012.0</td>\n",
       "      <td>99.74</td>\n",
       "    </tr>\n",
       "    <tr>\n",
       "      <td>2013.0</td>\n",
       "      <td>88.58</td>\n",
       "    </tr>\n",
       "    <tr>\n",
       "      <td>2014.0</td>\n",
       "      <td>34.74</td>\n",
       "    </tr>\n",
       "    <tr>\n",
       "      <td>2015.0</td>\n",
       "      <td>11.96</td>\n",
       "    </tr>\n",
       "    <tr>\n",
       "      <td>2016.0</td>\n",
       "      <td>1.52</td>\n",
       "    </tr>\n",
       "  </tbody>\n",
       "</table>\n",
       "</div>"
      ],
      "text/plain": [
       "                          world_sales\n",
       "platform year_of_release             \n",
       "DS       2010.0                 85.02\n",
       "         2011.0                 26.18\n",
       "         2012.0                 11.01\n",
       "         2013.0                  1.54\n",
       "PS2      2010.0                  5.64\n",
       "         2011.0                  0.45\n",
       "PS3      2010.0                142.17\n",
       "         2011.0                165.09\n",
       "         2012.0                107.36\n",
       "         2013.0                113.25\n",
       "         2014.0                 47.76\n",
       "         2015.0                 16.82\n",
       "         2016.0                  3.60\n",
       "Wii      2010.0                127.95\n",
       "         2011.0                 59.65\n",
       "         2012.0                 21.71\n",
       "         2013.0                  8.59\n",
       "         2014.0                  3.75\n",
       "         2015.0                  1.14\n",
       "         2016.0                  0.18\n",
       "X360     2010.0                180.21\n",
       "         2011.0                143.84\n",
       "         2012.0                 99.74\n",
       "         2013.0                 88.58\n",
       "         2014.0                 34.74\n",
       "         2015.0                 11.96\n",
       "         2016.0                  1.52"
      ]
     },
     "execution_count": 41,
     "metadata": {},
     "output_type": "execute_result"
    }
   ],
   "source": [
    "df_top_pivot"
   ]
  },
  {
   "cell_type": "code",
   "execution_count": 42,
   "metadata": {},
   "outputs": [
    {
     "data": {
      "image/png": "[encoded data removed]",
      "text/plain": [
       "<Figure size 360x360 with 1 Axes>"
      ]
     },
     "metadata": {
      "needs_background": "light"
     },
     "output_type": "display_data"
    }
   ],
   "source": [
    "df_top_pivot.query('platform == \"DS\"').plot(style='o-', grid=True, figsize=(5,5))\n",
    "plt.show()"
   ]
  },
  {
   "cell_type": "code",
   "execution_count": 43,
   "metadata": {},
   "outputs": [
    {
     "data": {
      "image/png": "[encoded data removed]",
      "text/plain": [
       "<Figure size 360x360 with 1 Axes>"
      ]
     },
     "metadata": {
      "needs_background": "light"
     },
     "output_type": "display_data"
    }
   ],
   "source": [
    "df_top_pivot.query('platform == \"PS2\"').plot(style='o-', grid=True, figsize=(5,5))\n",
    "plt.show()"
   ]
  },
  {
   "cell_type": "code",
   "execution_count": 44,
   "metadata": {},
   "outputs": [
    {
     "data": {
      "image/png": "[encoded data removed]",
      "text/plain": [
       "<Figure size 720x360 with 1 Axes>"
      ]
     },
     "metadata": {
      "needs_background": "light"
     },
     "output_type": "display_data"
    }
   ],
   "source": [
    "df_top_pivot.query('platform == \"PS3\"').plot(style='o-', grid=True, figsize=(10,5))\n",
    "plt.show()"
   ]
  },
  {
   "cell_type": "code",
   "execution_count": 45,
   "metadata": {},
   "outputs": [
    {
     "data": {
      "image/png": "[encoded data removed]",
      "text/plain": [
       "<Figure size 720x360 with 1 Axes>"
      ]
     },
     "metadata": {
      "needs_background": "light"
     },
     "output_type": "display_data"
    }
   ],
   "source": [
    "df_top_pivot.query('platform == \"Wii\"').plot(style='o-', grid=True, figsize=(10,5))\n",
    "plt.show()"
   ]
  },
  {
   "cell_type": "code",
   "execution_count": 46,
   "metadata": {},
   "outputs": [
    {
     "data": {
      "image/png": "[encoded data removed]",
      "text/plain": [
       "<Figure size 720x360 with 1 Axes>"
      ]
     },
     "metadata": {
      "needs_background": "light"
     },
     "output_type": "display_data"
    }
   ],
   "source": [
    "df_top_pivot.query('platform == \"X360\"').plot(style='o-', grid=True, figsize=(10,5))\n",
    "plt.show()"
   ]
  },
  {
   "cell_type": "markdown",
   "metadata": {},
   "source": [
    "**В целом продажи всех платформ падали последние годы, а платформа DS ушла с рынка после 2013 года, PS2 после 2011, PSP после 2015.**"
   ]
  },
  {
   "cell_type": "markdown",
   "metadata": {},
   "source": [
    "### Построим график «ящик с усами» по глобальным продажам игр в разбивке по платформам и опишем результат."
   ]
  },
  {
   "cell_type": "code",
   "execution_count": 47,
   "metadata": {},
   "outputs": [],
   "source": [
    "import seaborn as sns"
   ]
  },
  {
   "cell_type": "code",
   "execution_count": 48,
   "metadata": {},
   "outputs": [
    {
     "data": {
      "image/png": "[encoded data removed]",
      "text/plain": [
       "<Figure size 1080x720 with 1 Axes>"
      ]
     },
     "metadata": {},
     "output_type": "display_data"
    }
   ],
   "source": [
    "world_sales_platform = df_top.pivot_table(index='name', columns='platform', values='world_sales', aggfunc='sum')\n",
    "sns.set(rc={'figure.figsize':(15,10)})\n",
    "sns.boxplot(data=world_sales_platform, showfliers=False, showmeans=True, color='#98C6FF', width=0.5)\n",
    "plt.show()"
   ]
  },
  {
   "cell_type": "code",
   "execution_count": 49,
   "metadata": {},
   "outputs": [
    {
     "data": {
      "text/html": [
       "<div>\n",
       "<style scoped>\n",
       "    .dataframe tbody tr th:only-of-type {\n",
       "        vertical-align: middle;\n",
       "    }\n",
       "\n",
       "    .dataframe tbody tr th {\n",
       "        vertical-align: top;\n",
       "    }\n",
       "\n",
       "    .dataframe thead th {\n",
       "        text-align: right;\n",
       "    }\n",
       "</style>\n",
       "<table border=\"1\" class=\"dataframe\">\n",
       "  <thead>\n",
       "    <tr style=\"text-align: right;\">\n",
       "      <th>platform</th>\n",
       "      <th>DS</th>\n",
       "      <th>PS2</th>\n",
       "      <th>PS3</th>\n",
       "      <th>Wii</th>\n",
       "      <th>X360</th>\n",
       "    </tr>\n",
       "  </thead>\n",
       "  <tbody>\n",
       "    <tr>\n",
       "      <td>count</td>\n",
       "      <td>507.000000</td>\n",
       "      <td>45.000000</td>\n",
       "      <td>913.000000</td>\n",
       "      <td>450.000000</td>\n",
       "      <td>710.000000</td>\n",
       "    </tr>\n",
       "    <tr>\n",
       "      <td>mean</td>\n",
       "      <td>0.244083</td>\n",
       "      <td>0.135333</td>\n",
       "      <td>0.652848</td>\n",
       "      <td>0.495489</td>\n",
       "      <td>0.789563</td>\n",
       "    </tr>\n",
       "    <tr>\n",
       "      <td>std</td>\n",
       "      <td>0.815643</td>\n",
       "      <td>0.180638</td>\n",
       "      <td>1.442542</td>\n",
       "      <td>1.118375</td>\n",
       "      <td>1.784875</td>\n",
       "    </tr>\n",
       "    <tr>\n",
       "      <td>min</td>\n",
       "      <td>0.010000</td>\n",
       "      <td>0.010000</td>\n",
       "      <td>0.010000</td>\n",
       "      <td>0.010000</td>\n",
       "      <td>0.010000</td>\n",
       "    </tr>\n",
       "    <tr>\n",
       "      <td>25%</td>\n",
       "      <td>0.040000</td>\n",
       "      <td>0.020000</td>\n",
       "      <td>0.080000</td>\n",
       "      <td>0.080000</td>\n",
       "      <td>0.100000</td>\n",
       "    </tr>\n",
       "    <tr>\n",
       "      <td>50%</td>\n",
       "      <td>0.100000</td>\n",
       "      <td>0.060000</td>\n",
       "      <td>0.230000</td>\n",
       "      <td>0.180000</td>\n",
       "      <td>0.265000</td>\n",
       "    </tr>\n",
       "    <tr>\n",
       "      <td>75%</td>\n",
       "      <td>0.200000</td>\n",
       "      <td>0.130000</td>\n",
       "      <td>0.670000</td>\n",
       "      <td>0.420000</td>\n",
       "      <td>0.780000</td>\n",
       "    </tr>\n",
       "    <tr>\n",
       "      <td>max</td>\n",
       "      <td>15.130000</td>\n",
       "      <td>0.760000</td>\n",
       "      <td>21.050000</td>\n",
       "      <td>10.120000</td>\n",
       "      <td>21.820000</td>\n",
       "    </tr>\n",
       "  </tbody>\n",
       "</table>\n",
       "</div>"
      ],
      "text/plain": [
       "platform          DS        PS2         PS3         Wii        X360\n",
       "count     507.000000  45.000000  913.000000  450.000000  710.000000\n",
       "mean        0.244083   0.135333    0.652848    0.495489    0.789563\n",
       "std         0.815643   0.180638    1.442542    1.118375    1.784875\n",
       "min         0.010000   0.010000    0.010000    0.010000    0.010000\n",
       "25%         0.040000   0.020000    0.080000    0.080000    0.100000\n",
       "50%         0.100000   0.060000    0.230000    0.180000    0.265000\n",
       "75%         0.200000   0.130000    0.670000    0.420000    0.780000\n",
       "max        15.130000   0.760000   21.050000   10.120000   21.820000"
      ]
     },
     "execution_count": 49,
     "metadata": {},
     "output_type": "execute_result"
    }
   ],
   "source": [
    "world_sales_platform.describe()"
   ]
  },
  {
   "cell_type": "markdown",
   "metadata": {},
   "source": [
    "**Лидеры по продажам все те же PS3 и X360. Средние значения по этим платформам - значительно опережают остальные.**"
   ]
  },
  {
   "cell_type": "markdown",
   "metadata": {},
   "source": [
    "### Посмотрим, как влияют на продажи внутри одной популярной платформы отзывы пользователей и критиков. Построим диаграмму рассеяния и посчитаем корреляцию между отзывами и продажами. "
   ]
  },
  {
   "cell_type": "code",
   "execution_count": 50,
   "metadata": {},
   "outputs": [
    {
     "name": "stderr",
     "output_type": "stream",
     "text": [
      "/opt/conda/lib/python3.7/site-packages/ipykernel_launcher.py:1: SettingWithCopyWarning: \n",
      "A value is trying to be set on a copy of a slice from a DataFrame.\n",
      "Try using .loc[row_indexer,col_indexer] = value instead\n",
      "\n",
      "See the caveats in the documentation: http://pandas.pydata.org/pandas-docs/stable/user_guide/indexing.html#returning-a-view-versus-a-copy\n",
      "  \"\"\"Entry point for launching an IPython kernel.\n",
      "/opt/conda/lib/python3.7/site-packages/ipykernel_launcher.py:2: SettingWithCopyWarning: \n",
      "A value is trying to be set on a copy of a slice from a DataFrame.\n",
      "Try using .loc[row_indexer,col_indexer] = value instead\n",
      "\n",
      "See the caveats in the documentation: http://pandas.pydata.org/pandas-docs/stable/user_guide/indexing.html#returning-a-view-versus-a-copy\n",
      "  \n"
     ]
    }
   ],
   "source": [
    "df_top['critic_score'] = pd.to_numeric(df_top['critic_score'], errors='coerce') #изменим тип данных на float чтобы построить диаграмму рассеяния\n",
    "df_top['user_score'] = pd.to_numeric(df_top['user_score'], errors='coerce')"
   ]
  },
  {
   "cell_type": "markdown",
   "metadata": {},
   "source": [
    "**Возьмем самую популярную платформу X360**"
   ]
  },
  {
   "cell_type": "code",
   "execution_count": 51,
   "metadata": {},
   "outputs": [
    {
     "data": {
      "text/plain": [
       "0.3420583244081178"
      ]
     },
     "execution_count": 51,
     "metadata": {},
     "output_type": "execute_result"
    }
   ],
   "source": [
    "df_top.query('platform == \"X360\"')['world_sales'].corr(df_top.query('platform == \"X360\"')['critic_score']) #корреляция между оценкой критиков и продажами"
   ]
  },
  {
   "cell_type": "markdown",
   "metadata": {},
   "source": [
    "**Смотря на коэффициент корреляции можно сделать вывод, что зависимость прямая и достаточно сильная, чем выше оценка критиков тем выше продажи.**"
   ]
  },
  {
   "cell_type": "code",
   "execution_count": 52,
   "metadata": {},
   "outputs": [
    {
     "data": {
      "text/plain": [
       "0.06526685620128808"
      ]
     },
     "execution_count": 52,
     "metadata": {},
     "output_type": "execute_result"
    }
   ],
   "source": [
    "df_top.query('platform == \"X360\"')['world_sales'].corr(df_top.query('platform == \"X360\"')['user_score'])"
   ]
  },
  {
   "cell_type": "markdown",
   "metadata": {},
   "source": [
    "**Смотря на коэффициент корреляции между оценкой пользователей и продажами, можно сделать вывод, что присутсвует хоть и прямая, но очень слабая зависимость.**"
   ]
  },
  {
   "cell_type": "markdown",
   "metadata": {},
   "source": [
    "**Рассчитаем коэффициенты корреляции между продажами и оценками критиков и пользователей, для платформы DS.**"
   ]
  },
  {
   "cell_type": "code",
   "execution_count": 53,
   "metadata": {},
   "outputs": [
    {
     "data": {
      "text/plain": [
       "0.2801624634637196"
      ]
     },
     "execution_count": 53,
     "metadata": {},
     "output_type": "execute_result"
    }
   ],
   "source": [
    "df_top.query('platform == \"DS\"')['world_sales'].corr(df_top.query('platform == \"DS\"')['critic_score'])"
   ]
  },
  {
   "cell_type": "code",
   "execution_count": 54,
   "metadata": {},
   "outputs": [
    {
     "data": {
      "text/plain": [
       "0.25142811742297444"
      ]
     },
     "execution_count": 54,
     "metadata": {},
     "output_type": "execute_result"
    }
   ],
   "source": [
    "df_top.query('platform == \"DS\"')['world_sales'].corr(df_top.query('platform == \"DS\"')['user_score'])"
   ]
  },
  {
   "cell_type": "markdown",
   "metadata": {},
   "source": [
    "**Можно заметить что прямая связь с оценками критиков также сильная, как и в случае с Х360, и в этом случае присутсвует еще прямая и достаточно сильная связь с оценками пользователей.**"
   ]
  },
  {
   "cell_type": "code",
   "execution_count": 55,
   "metadata": {},
   "outputs": [
    {
     "data": {
      "text/plain": [
       "0.3999945061878434"
      ]
     },
     "execution_count": 55,
     "metadata": {},
     "output_type": "execute_result"
    }
   ],
   "source": [
    "df_top.query('platform == \"PS3\"')['world_sales'].corr(df_top.query('platform == \"PS3\"')['critic_score'])"
   ]
  },
  {
   "cell_type": "code",
   "execution_count": 56,
   "metadata": {},
   "outputs": [
    {
     "data": {
      "text/plain": [
       "0.06312033109536262"
      ]
     },
     "execution_count": 56,
     "metadata": {},
     "output_type": "execute_result"
    }
   ],
   "source": [
    "df_top.query('platform == \"PS3\"')['world_sales'].corr(df_top.query('platform == \"PS3\"')['user_score'])"
   ]
  },
  {
   "cell_type": "markdown",
   "metadata": {},
   "source": [
    "**Для платформы PS3 сильная корреляция с оценками критиков, и очень слабая зависимость от оценок пользователей.**"
   ]
  },
  {
   "cell_type": "code",
   "execution_count": 57,
   "metadata": {},
   "outputs": [
    {
     "data": {
      "text/plain": [
       "0.31058771048209965"
      ]
     },
     "execution_count": 57,
     "metadata": {},
     "output_type": "execute_result"
    }
   ],
   "source": [
    "df_top.query('platform == \"Wii\"')['world_sales'].corr(df_top.query('platform == \"Wii\"')['critic_score'])"
   ]
  },
  {
   "cell_type": "code",
   "execution_count": 58,
   "metadata": {},
   "outputs": [
    {
     "data": {
      "text/plain": [
       "0.14715977707531702"
      ]
     },
     "execution_count": 58,
     "metadata": {},
     "output_type": "execute_result"
    }
   ],
   "source": [
    "df_top.query('platform == \"Wii\"')['world_sales'].corr(df_top.query('platform == \"Wii\"')['user_score'])"
   ]
  },
  {
   "cell_type": "markdown",
   "metadata": {},
   "source": [
    "**Для платформы Wii зависимость от оценик критиков высокая, от оценки пользовательей достаточно слабая.**"
   ]
  },
  {
   "cell_type": "markdown",
   "metadata": {},
   "source": [
    "**В целом можно утверждать, что для всех платформ характерна бОльшая зависимость именно от оценок критиков.**"
   ]
  },
  {
   "cell_type": "markdown",
   "metadata": {},
   "source": [
    "### Посмотрим на  распределение игр по жанрам. "
   ]
  },
  {
   "cell_type": "code",
   "execution_count": 59,
   "metadata": {},
   "outputs": [
    {
     "data": {
      "text/plain": [
       "genre\n",
       "Action          415.47\n",
       "Shooter         295.33\n",
       "Sports          219.47\n",
       "Misc            190.62\n",
       "Role-Playing    127.99\n",
       "Racing           73.60\n",
       "Platform         54.15\n",
       "Fighting         47.10\n",
       "Adventure        35.06\n",
       "Simulation       26.46\n",
       "Puzzle           13.07\n",
       "Strategy         11.13\n",
       "Name: world_sales, dtype: float64"
      ]
     },
     "execution_count": 59,
     "metadata": {},
     "output_type": "execute_result"
    }
   ],
   "source": [
    "df_top.groupby('genre')['world_sales'].sum().sort_values(ascending=False)"
   ]
  },
  {
   "cell_type": "markdown",
   "metadata": {},
   "source": [
    "**Можно с уверенностью сказать, что самый прибыльный жанр - это Action, за ним с существенным отставанием идут Shooter, Sports, Misc, Role-Playing, остальные жанры еще более существенно отстают, самые низкие продажи у Puzzle и Strategy.** "
   ]
  },
  {
   "cell_type": "code",
   "execution_count": 60,
   "metadata": {},
   "outputs": [
    {
     "data": {
      "text/plain": [
       "genre\n",
       "Action          670\n",
       "Misc            393\n",
       "Sports          379\n",
       "Shooter         239\n",
       "Adventure       193\n",
       "Role-Playing    182\n",
       "Racing          142\n",
       "Simulation      116\n",
       "Fighting        114\n",
       "Platform         74\n",
       "Puzzle           72\n",
       "Strategy         52\n",
       "Name: name, dtype: int64"
      ]
     },
     "execution_count": 60,
     "metadata": {},
     "output_type": "execute_result"
    }
   ],
   "source": [
    "df_top.groupby('genre')['name'].count().sort_values(ascending=False)"
   ]
  },
  {
   "cell_type": "markdown",
   "metadata": {},
   "source": [
    "**Как и в продажах в распределении игр по жанрам снова лидирует жанр Action, за ним опять с существенным отставанием идут Sports, Misc, Adventure, Role-Playing, Shooter.** "
   ]
  },
  {
   "cell_type": "markdown",
   "metadata": {},
   "source": [
    "## Составим портрет пользователя каждого региона. Для этого, для пользователя каждого региона (NA, EU, JP):\n"
   ]
  },
  {
   "cell_type": "markdown",
   "metadata": {},
   "source": [
    "### Определим самые популярные платформы (топ-5):"
   ]
  },
  {
   "cell_type": "code",
   "execution_count": 61,
   "metadata": {},
   "outputs": [
    {
     "data": {
      "text/plain": [
       "platform\n",
       "X360    602.47\n",
       "PS2     583.84\n",
       "Wii     496.90\n",
       "PS3     393.49\n",
       "DS      382.40\n",
       "Name: na_sales, dtype: float64"
      ]
     },
     "execution_count": 61,
     "metadata": {},
     "output_type": "execute_result"
    }
   ],
   "source": [
    "df.groupby('platform')['na_sales'].sum().sort_values(ascending=False).head()"
   ]
  },
  {
   "cell_type": "code",
   "execution_count": 62,
   "metadata": {},
   "outputs": [
    {
     "data": {
      "text/plain": [
       "platform\n",
       "PS2     339.29\n",
       "PS3     330.29\n",
       "X360    270.76\n",
       "Wii     262.21\n",
       "PS      213.61\n",
       "Name: eu_sales, dtype: float64"
      ]
     },
     "execution_count": 62,
     "metadata": {},
     "output_type": "execute_result"
    }
   ],
   "source": [
    "df.groupby('platform')['eu_sales'].sum().sort_values(ascending=False).head()"
   ]
  },
  {
   "cell_type": "code",
   "execution_count": 63,
   "metadata": {},
   "outputs": [
    {
     "data": {
      "text/plain": [
       "platform\n",
       "DS      175.57\n",
       "PS      139.82\n",
       "PS2     139.20\n",
       "SNES    116.55\n",
       "3DS     100.67\n",
       "Name: jp_sales, dtype: float64"
      ]
     },
     "execution_count": 63,
     "metadata": {},
     "output_type": "execute_result"
    }
   ],
   "source": [
    "df.groupby('platform')['jp_sales'].sum().sort_values(ascending=False).head()"
   ]
  },
  {
   "cell_type": "markdown",
   "metadata": {},
   "source": [
    "**Можно заметить, что Х360 не популярна только в Японии, тогда как в Северной Америке является самой популярной платформой. В целом можно сказать что В Северной Америке и Европе популярны практически одни и те же платформы, тогда как в Японии своеобразный набор популярных платформ. Самая же популярная платформа это PS2 она присутсвует во всех ТОП-5, в Европе на первом месте, в Северной Америке на втором, а в Японии на третьем.**"
   ]
  },
  {
   "cell_type": "markdown",
   "metadata": {},
   "source": [
    "### Самые популярные жанры (топ-5):"
   ]
  },
  {
   "cell_type": "code",
   "execution_count": 64,
   "metadata": {},
   "outputs": [
    {
     "data": {
      "text/plain": [
       "genre\n",
       "Action      879.01\n",
       "Sports      684.43\n",
       "Shooter     592.24\n",
       "Platform    445.50\n",
       "Misc        407.27\n",
       "Name: na_sales, dtype: float64"
      ]
     },
     "execution_count": 64,
     "metadata": {},
     "output_type": "execute_result"
    }
   ],
   "source": [
    "df.groupby('genre')['na_sales'].sum().sort_values(ascending=False).head()"
   ]
  },
  {
   "cell_type": "code",
   "execution_count": 65,
   "metadata": {},
   "outputs": [
    {
     "data": {
      "text/plain": [
       "genre\n",
       "Action     519.13\n",
       "Sports     376.79\n",
       "Shooter    317.34\n",
       "Racing     236.51\n",
       "Misc       212.74\n",
       "Name: eu_sales, dtype: float64"
      ]
     },
     "execution_count": 65,
     "metadata": {},
     "output_type": "execute_result"
    }
   ],
   "source": [
    "df.groupby('genre')['eu_sales'].sum().sort_values(ascending=False).head()"
   ]
  },
  {
   "cell_type": "code",
   "execution_count": 66,
   "metadata": {},
   "outputs": [
    {
     "data": {
      "text/plain": [
       "genre\n",
       "Role-Playing    355.41\n",
       "Action          161.43\n",
       "Sports          135.54\n",
       "Platform        130.83\n",
       "Misc            108.11\n",
       "Name: jp_sales, dtype: float64"
      ]
     },
     "execution_count": 66,
     "metadata": {},
     "output_type": "execute_result"
    }
   ],
   "source": [
    "df.groupby('genre')['jp_sales'].sum().sort_values(ascending=False).head()"
   ]
  },
  {
   "cell_type": "markdown",
   "metadata": {},
   "source": [
    "**ТОП-5 самых популярных жанров в Европе и Северной Америке практически польностью совпадают за исключением Platform и Racing, и в целом во всех трех рейтингах представлены одни и те же жанры, единственне что в Японии самый популярный жанр Role-Playing - больше нигде не представлен.**"
   ]
  },
  {
   "cell_type": "markdown",
   "metadata": {},
   "source": [
    "### Влияет ли рейтинг ESRB на продажи в отдельном регионе?"
   ]
  },
  {
   "cell_type": "code",
   "execution_count": 67,
   "metadata": {},
   "outputs": [
    {
     "name": "stdout",
     "output_type": "stream",
     "text": [
      "['E' 'RP' 'M' 'T' 'E10+' 'K-A' 'AO' 'EC']\n"
     ]
    }
   ],
   "source": [
    "print(df['rating'].unique())# посмотрим какие рейтинги встречаются в таблице"
   ]
  },
  {
   "cell_type": "markdown",
   "metadata": {},
   "source": [
    "***«E» («Everyone») — «Для всех»: Содержание вполне подходит для возрастной категории от 6 лет.***\n",
    "\n",
    "***«RP» («Rating Pending») — «Рейтинг ожидается»: Продукт был отправлен в ESRB и ожидает присвоения рейтинга.***\n",
    "\n",
    "***«M» («Mature») — «Для взрослых»: Материалы игры не подходят для подростков младше 17 лет.***\n",
    "\n",
    "***«T» («Teen») — «Подросткам»: Игра подходит для лиц от 13 лет.***\n",
    "\n",
    "***«E10+» («Everyone 10 and older») — «Для всех от 10 лет и старше».***\n",
    "\n",
    "***«К-А»(«for Kids to Adults»)- для детей и взрослых: Игры, содержащие контент, подходящий для широкой аудитории. Этот рейтинг использовался до 1998 года, когда он был переименован в «E».***\n",
    "\n",
    "***«AO» («Adults Only 18+») — «Только для взрослых»: Содержание игры только для взрослых старше 18 лет.***\n",
    "\n",
    "***«EC» («Early childhood») — «Для детей младшего возраста»: Игра подходит для детей от 3 лет.***"
   ]
  },
  {
   "cell_type": "code",
   "execution_count": 68,
   "metadata": {},
   "outputs": [
    {
     "data": {
      "text/plain": [
       "rating\n",
       "E       1292.99\n",
       "RP      1240.68\n",
       "T        759.75\n",
       "M        748.48\n",
       "E10+     353.32\n",
       "K-A        2.56\n",
       "EC         1.53\n",
       "AO         1.26\n",
       "Name: na_sales, dtype: float64"
      ]
     },
     "execution_count": 68,
     "metadata": {},
     "output_type": "execute_result"
    }
   ],
   "source": [
    "df.groupby('rating')['na_sales'].sum().sort_values(ascending=False)"
   ]
  },
  {
   "cell_type": "code",
   "execution_count": 69,
   "metadata": {},
   "outputs": [
    {
     "data": {
      "text/plain": [
       "rating\n",
       "E       710.25\n",
       "RP      613.38\n",
       "M       483.97\n",
       "T       427.03\n",
       "E10+    188.52\n",
       "AO        0.61\n",
       "K-A       0.27\n",
       "EC        0.11\n",
       "Name: eu_sales, dtype: float64"
      ]
     },
     "execution_count": 69,
     "metadata": {},
     "output_type": "execute_result"
    }
   ],
   "source": [
    "df.groupby('rating')['eu_sales'].sum().sort_values(ascending=False)"
   ]
  },
  {
   "cell_type": "code",
   "execution_count": 70,
   "metadata": {},
   "outputs": [
    {
     "data": {
      "text/plain": [
       "rating\n",
       "RP      841.93\n",
       "E       198.11\n",
       "T       151.40\n",
       "M        64.24\n",
       "E10+     40.20\n",
       "K-A       1.46\n",
       "EC        0.00\n",
       "AO        0.00\n",
       "Name: jp_sales, dtype: float64"
      ]
     },
     "execution_count": 70,
     "metadata": {},
     "output_type": "execute_result"
    }
   ],
   "source": [
    "df.groupby('rating')['jp_sales'].sum().sort_values(ascending=False)"
   ]
  },
  {
   "cell_type": "markdown",
   "metadata": {},
   "source": [
    "**В целом для всех регионов ситуация с рейтингами похожая, во всех трех выборках самые популярные индексы рейтинга - \"Е\" и \"Т\", а самые непопулярные - \"ЕС\" и \"АО\". Также большими продажами сильно выдялется во всех трех регионах рейтинг - \"RP\".**"
   ]
  },
  {
   "cell_type": "markdown",
   "metadata": {},
   "source": [
    "## Проверка гипотез."
   ]
  },
  {
   "cell_type": "markdown",
   "metadata": {},
   "source": [
    "### Средние пользовательские рейтинги платформ Xbox One и PC одинаковые."
   ]
  },
  {
   "cell_type": "markdown",
   "metadata": {},
   "source": [
    "**Сформулируем нулевую(Н0) и альтернативную(Н1) гипотезы:**\n",
    "\n",
    "Н0 - средние пользовательские рейтинги платформ Xbox One и PC - равны.                                                           \n",
    "Н1 - средние пользовательские рейтинги платформ Xbox One и PC - различаются."
   ]
  },
  {
   "cell_type": "markdown",
   "metadata": {},
   "source": [
    "**Для проверки гипотез будем использовать t-тест, зададим пороговое значение alpha=0.05**"
   ]
  },
  {
   "cell_type": "code",
   "execution_count": 71,
   "metadata": {},
   "outputs": [],
   "source": [
    "from scipy import stats as st"
   ]
  },
  {
   "cell_type": "code",
   "execution_count": 72,
   "metadata": {},
   "outputs": [],
   "source": [
    "df['critic_score'] = pd.to_numeric(df['critic_score'], errors='coerce') #изменим тип данных на float чтобы рабоать с данными\n",
    "df['user_score'] = pd.to_numeric(df['user_score'], errors='coerce')"
   ]
  },
  {
   "cell_type": "code",
   "execution_count": 73,
   "metadata": {},
   "outputs": [
    {
     "data": {
      "text/html": [
       "<div>\n",
       "<style scoped>\n",
       "    .dataframe tbody tr th:only-of-type {\n",
       "        vertical-align: middle;\n",
       "    }\n",
       "\n",
       "    .dataframe tbody tr th {\n",
       "        vertical-align: top;\n",
       "    }\n",
       "\n",
       "    .dataframe thead th {\n",
       "        text-align: right;\n",
       "    }\n",
       "</style>\n",
       "<table border=\"1\" class=\"dataframe\">\n",
       "  <thead>\n",
       "    <tr style=\"text-align: right;\">\n",
       "      <th></th>\n",
       "      <th>name</th>\n",
       "      <th>platform</th>\n",
       "      <th>year_of_release</th>\n",
       "      <th>genre</th>\n",
       "      <th>na_sales</th>\n",
       "      <th>eu_sales</th>\n",
       "      <th>jp_sales</th>\n",
       "      <th>other_sales</th>\n",
       "      <th>critic_score</th>\n",
       "      <th>user_score</th>\n",
       "      <th>rating</th>\n",
       "      <th>world_sales</th>\n",
       "    </tr>\n",
       "  </thead>\n",
       "  <tbody>\n",
       "    <tr>\n",
       "      <td>0</td>\n",
       "      <td>Wii Sports</td>\n",
       "      <td>Wii</td>\n",
       "      <td>2006.0</td>\n",
       "      <td>Sports</td>\n",
       "      <td>41.36</td>\n",
       "      <td>28.96</td>\n",
       "      <td>3.77</td>\n",
       "      <td>8.45</td>\n",
       "      <td>76.0</td>\n",
       "      <td>8.0</td>\n",
       "      <td>E</td>\n",
       "      <td>82.54</td>\n",
       "    </tr>\n",
       "    <tr>\n",
       "      <td>1</td>\n",
       "      <td>Super Mario Bros.</td>\n",
       "      <td>NES</td>\n",
       "      <td>1985.0</td>\n",
       "      <td>Platform</td>\n",
       "      <td>29.08</td>\n",
       "      <td>3.58</td>\n",
       "      <td>6.81</td>\n",
       "      <td>0.77</td>\n",
       "      <td>NaN</td>\n",
       "      <td>NaN</td>\n",
       "      <td>RP</td>\n",
       "      <td>40.24</td>\n",
       "    </tr>\n",
       "    <tr>\n",
       "      <td>2</td>\n",
       "      <td>Mario Kart Wii</td>\n",
       "      <td>Wii</td>\n",
       "      <td>2008.0</td>\n",
       "      <td>Racing</td>\n",
       "      <td>15.68</td>\n",
       "      <td>12.76</td>\n",
       "      <td>3.79</td>\n",
       "      <td>3.29</td>\n",
       "      <td>82.0</td>\n",
       "      <td>8.3</td>\n",
       "      <td>E</td>\n",
       "      <td>35.52</td>\n",
       "    </tr>\n",
       "    <tr>\n",
       "      <td>3</td>\n",
       "      <td>Wii Sports Resort</td>\n",
       "      <td>Wii</td>\n",
       "      <td>2009.0</td>\n",
       "      <td>Sports</td>\n",
       "      <td>15.61</td>\n",
       "      <td>10.93</td>\n",
       "      <td>3.28</td>\n",
       "      <td>2.95</td>\n",
       "      <td>80.0</td>\n",
       "      <td>8.0</td>\n",
       "      <td>E</td>\n",
       "      <td>32.77</td>\n",
       "    </tr>\n",
       "    <tr>\n",
       "      <td>4</td>\n",
       "      <td>Pokemon Red/Pokemon Blue</td>\n",
       "      <td>GB</td>\n",
       "      <td>1996.0</td>\n",
       "      <td>Role-Playing</td>\n",
       "      <td>11.27</td>\n",
       "      <td>8.89</td>\n",
       "      <td>10.22</td>\n",
       "      <td>1.00</td>\n",
       "      <td>NaN</td>\n",
       "      <td>NaN</td>\n",
       "      <td>RP</td>\n",
       "      <td>31.38</td>\n",
       "    </tr>\n",
       "  </tbody>\n",
       "</table>\n",
       "</div>"
      ],
      "text/plain": [
       "                       name platform  year_of_release         genre  na_sales  \\\n",
       "0                Wii Sports      Wii           2006.0        Sports     41.36   \n",
       "1         Super Mario Bros.      NES           1985.0      Platform     29.08   \n",
       "2            Mario Kart Wii      Wii           2008.0        Racing     15.68   \n",
       "3         Wii Sports Resort      Wii           2009.0        Sports     15.61   \n",
       "4  Pokemon Red/Pokemon Blue       GB           1996.0  Role-Playing     11.27   \n",
       "\n",
       "   eu_sales  jp_sales  other_sales  critic_score  user_score rating  \\\n",
       "0     28.96      3.77         8.45          76.0         8.0      E   \n",
       "1      3.58      6.81         0.77           NaN         NaN     RP   \n",
       "2     12.76      3.79         3.29          82.0         8.3      E   \n",
       "3     10.93      3.28         2.95          80.0         8.0      E   \n",
       "4      8.89     10.22         1.00           NaN         NaN     RP   \n",
       "\n",
       "   world_sales  \n",
       "0        82.54  \n",
       "1        40.24  \n",
       "2        35.52  \n",
       "3        32.77  \n",
       "4        31.38  "
      ]
     },
     "execution_count": 73,
     "metadata": {},
     "output_type": "execute_result"
    }
   ],
   "source": [
    "df.head()"
   ]
  },
  {
   "cell_type": "code",
   "execution_count": 74,
   "metadata": {},
   "outputs": [
    {
     "name": "stdout",
     "output_type": "stream",
     "text": [
      "<class 'pandas.core.frame.DataFrame'>\n",
      "Int64Index: 16713 entries, 0 to 16714\n",
      "Data columns (total 12 columns):\n",
      "name               16713 non-null object\n",
      "platform           16713 non-null object\n",
      "year_of_release    16713 non-null float64\n",
      "genre              16713 non-null object\n",
      "na_sales           16713 non-null float64\n",
      "eu_sales           16713 non-null float64\n",
      "jp_sales           16713 non-null float64\n",
      "other_sales        16713 non-null float64\n",
      "critic_score       8137 non-null float64\n",
      "user_score         7590 non-null float64\n",
      "rating             16713 non-null object\n",
      "world_sales        16713 non-null float64\n",
      "dtypes: float64(8), object(4)\n",
      "memory usage: 1.7+ MB\n"
     ]
    }
   ],
   "source": [
    "df.info()"
   ]
  },
  {
   "cell_type": "code",
   "execution_count": 75,
   "metadata": {},
   "outputs": [
    {
     "name": "stdout",
     "output_type": "stream",
     "text": [
      "p-значение: 1.3896435533545967e-05\n",
      "Отвергаем нулевую гипотезу\n"
     ]
    }
   ],
   "source": [
    "alpha = 0.05\n",
    "results_df_platform = st.ttest_ind(df[df['platform'] == 'PC']['user_score'], df[df['platform'] == 'XOne']['user_score'],  nan_policy='omit')\n",
    "print('p-значение:', results_df_platform.pvalue)\n",
    "if results_df_platform.pvalue < alpha:\n",
    "    print('Отвергаем нулевую гипотезу')\n",
    "else:\n",
    "    print('Не получилось отвергнуть нулевую гипотезу')"
   ]
  },
  {
   "cell_type": "markdown",
   "metadata": {},
   "source": [
    "**Судя по данным средние пользовательские рейтинги платформ Xbox One и PC различаются, и мы отвергаем нулевую гипотезу.**"
   ]
  },
  {
   "cell_type": "markdown",
   "metadata": {},
   "source": [
    "### Средние пользовательские рейтинги жанров Action и Sports - разные."
   ]
  },
  {
   "cell_type": "markdown",
   "metadata": {},
   "source": [
    "**Сформулируем нулевую(Н0) и альтернативную(Н1) гипотезы:**\n",
    "\n",
    "Н0 - средние пользовательские рейтинги жанров Action и Sports -равны.                                                           \n",
    "Н1 - средние пользовательские рейтинги жанров Action и Sports - разные."
   ]
  },
  {
   "cell_type": "code",
   "execution_count": 76,
   "metadata": {},
   "outputs": [
    {
     "name": "stdout",
     "output_type": "stream",
     "text": [
      "p-значение: 0.10406951359035752\n",
      "Не получилось отвергнуть нулевую гипотезу\n"
     ]
    }
   ],
   "source": [
    "alpha = 0.05\n",
    "results_df_genre = st.ttest_ind(df[df['genre'] == 'Action']['user_score'], df[df['genre'] == 'Sports']['user_score'], nan_policy='omit')\n",
    "print('p-значение:', results_df_genre.pvalue)\n",
    "if results_df_genre.pvalue < alpha:\n",
    "    print('Отвергаем нулевую гипотезу')\n",
    "else:\n",
    "    print('Не получилось отвергнуть нулевую гипотезу')"
   ]
  },
  {
   "cell_type": "markdown",
   "metadata": {},
   "source": [
    "**Судя по данным средние пользовательские рейтинги жанров Action и Sports - равны, не получилось отвергунть нулевую гипотезу.**"
   ]
  },
  {
   "cell_type": "markdown",
   "metadata": {},
   "source": [
    "## Общий вывод."
   ]
  },
  {
   "cell_type": "markdown",
   "metadata": {},
   "source": [
    "**Так как цель работы была в том, чтобы определить определяющие успешность игры закономерности, то можно сказать следующее:**\n",
    "\n",
    "1) Самый успешный в плане продаж жанр однозначно Action, после него уже с существенным отстованием идут Sports и Shooter, и исключительно для Японии выделяется жанр Role-Playing.\n",
    "\n",
    "2) Самая популярная платформа - это PS2, но для нее уже не выпускают игры с 2012 года, а вот актуальные и максимально популярные платформы это Х360, PS3 и Wii, в Японии еще выделяется DS.\n",
    "\n",
    "3) Можно сказать, что пользовательская оценка практически не влияет на популярность игры, тогда как оценка критиков имеет прямую корреляцию с продажами.\n",
    "\n",
    "4) Самые большие продажи показывают игры с рейтингами \"Е\", \"Т\" и \"RP\" по версии ESRB."
   ]
  }
 ],
 "metadata": {
  "ExecuteTimeLog": [
   {
    "duration": 682,
    "start_time": "2021-12-07T12:21:15.457Z"
   },
   {
    "duration": 41,
    "start_time": "2021-12-07T12:21:46.862Z"
   },
   {
    "duration": 22,
    "start_time": "2021-12-07T12:21:55.062Z"
   },
   {
    "duration": 7,
    "start_time": "2021-12-07T12:40:01.802Z"
   },
   {
    "duration": 14,
    "start_time": "2021-12-07T12:40:19.186Z"
   },
   {
    "duration": 13,
    "start_time": "2021-12-07T12:40:40.947Z"
   },
   {
    "duration": 12,
    "start_time": "2021-12-07T12:41:09.270Z"
   },
   {
    "duration": 8,
    "start_time": "2021-12-07T12:54:05.771Z"
   },
   {
    "duration": 423,
    "start_time": "2021-12-07T12:54:15.360Z"
   },
   {
    "duration": 2,
    "start_time": "2021-12-07T12:54:38.914Z"
   },
   {
    "duration": 36,
    "start_time": "2021-12-07T12:54:38.942Z"
   },
   {
    "duration": 14,
    "start_time": "2021-12-07T12:54:38.980Z"
   },
   {
    "duration": 13,
    "start_time": "2021-12-07T12:54:38.996Z"
   },
   {
    "duration": 12,
    "start_time": "2021-12-07T12:54:39.011Z"
   },
   {
    "duration": 12,
    "start_time": "2021-12-07T12:54:39.025Z"
   },
   {
    "duration": 14,
    "start_time": "2021-12-07T12:54:39.038Z"
   },
   {
    "duration": 352,
    "start_time": "2021-12-07T12:54:39.054Z"
   },
   {
    "duration": 347,
    "start_time": "2021-12-07T12:55:33.985Z"
   },
   {
    "duration": 3,
    "start_time": "2021-12-07T12:55:56.033Z"
   },
   {
    "duration": 39,
    "start_time": "2021-12-07T12:55:56.040Z"
   },
   {
    "duration": 15,
    "start_time": "2021-12-07T12:55:56.082Z"
   },
   {
    "duration": 7,
    "start_time": "2021-12-07T12:55:56.099Z"
   },
   {
    "duration": 13,
    "start_time": "2021-12-07T12:55:56.108Z"
   },
   {
    "duration": 11,
    "start_time": "2021-12-07T12:55:56.123Z"
   },
   {
    "duration": 2,
    "start_time": "2021-12-07T12:55:56.136Z"
   },
   {
    "duration": 14,
    "start_time": "2021-12-07T12:55:56.140Z"
   },
   {
    "duration": 336,
    "start_time": "2021-12-07T12:56:18.110Z"
   },
   {
    "duration": 10,
    "start_time": "2021-12-07T12:56:24.746Z"
   },
   {
    "duration": 11,
    "start_time": "2021-12-07T12:56:25.633Z"
   },
   {
    "duration": 7,
    "start_time": "2021-12-07T12:59:24.709Z"
   },
   {
    "duration": 10,
    "start_time": "2021-12-07T12:59:33.335Z"
   },
   {
    "duration": 6,
    "start_time": "2021-12-07T12:59:44.969Z"
   },
   {
    "duration": 11,
    "start_time": "2021-12-07T12:59:45.443Z"
   },
   {
    "duration": 5,
    "start_time": "2021-12-07T13:00:15.161Z"
   },
   {
    "duration": 11,
    "start_time": "2021-12-07T13:00:18.641Z"
   },
   {
    "duration": 5,
    "start_time": "2021-12-07T13:00:26.641Z"
   },
   {
    "duration": 11,
    "start_time": "2021-12-07T13:00:26.818Z"
   },
   {
    "duration": 13,
    "start_time": "2021-12-07T13:00:43.830Z"
   },
   {
    "duration": 8,
    "start_time": "2021-12-07T13:06:07.614Z"
   },
   {
    "duration": 13,
    "start_time": "2021-12-07T13:06:15.546Z"
   },
   {
    "duration": 2427,
    "start_time": "2021-12-07T13:09:24.983Z"
   },
   {
    "duration": 187819,
    "start_time": "2021-12-07T13:06:19.593Z"
   },
   {
    "duration": 13,
    "start_time": "2021-12-07T13:09:35.808Z"
   },
   {
    "duration": 6,
    "start_time": "2021-12-07T13:09:44.919Z"
   },
   {
    "duration": 10,
    "start_time": "2021-12-07T13:09:46.278Z"
   },
   {
    "duration": 13,
    "start_time": "2021-12-07T13:09:47.280Z"
   },
   {
    "duration": 5,
    "start_time": "2021-12-07T13:10:58.835Z"
   },
   {
    "duration": 14,
    "start_time": "2021-12-07T13:11:05.074Z"
   },
   {
    "duration": 5,
    "start_time": "2021-12-07T13:11:29.675Z"
   },
   {
    "duration": 13,
    "start_time": "2021-12-07T13:11:31.415Z"
   },
   {
    "duration": 357,
    "start_time": "2021-12-07T13:11:41.681Z"
   },
   {
    "duration": 4,
    "start_time": "2021-12-07T13:11:51.047Z"
   },
   {
    "duration": 14,
    "start_time": "2021-12-07T13:11:52.986Z"
   },
   {
    "duration": 3,
    "start_time": "2021-12-07T13:11:56.152Z"
   },
   {
    "duration": 40,
    "start_time": "2021-12-07T13:11:56.159Z"
   },
   {
    "duration": 13,
    "start_time": "2021-12-07T13:11:56.200Z"
   },
   {
    "duration": 8,
    "start_time": "2021-12-07T13:11:56.215Z"
   },
   {
    "duration": 12,
    "start_time": "2021-12-07T13:11:56.226Z"
   },
   {
    "duration": 12,
    "start_time": "2021-12-07T13:11:56.239Z"
   },
   {
    "duration": 8,
    "start_time": "2021-12-07T13:11:56.252Z"
   },
   {
    "duration": 46,
    "start_time": "2021-12-07T13:11:56.261Z"
   },
   {
    "duration": 6,
    "start_time": "2021-12-07T13:11:56.309Z"
   },
   {
    "duration": 22,
    "start_time": "2021-12-07T13:11:56.317Z"
   },
   {
    "duration": 30,
    "start_time": "2021-12-07T13:11:56.341Z"
   },
   {
    "duration": 11,
    "start_time": "2021-12-07T13:11:56.373Z"
   },
   {
    "duration": 22,
    "start_time": "2021-12-07T13:11:56.386Z"
   },
   {
    "duration": 350,
    "start_time": "2021-12-07T13:12:11.769Z"
   },
   {
    "duration": 4,
    "start_time": "2021-12-07T13:12:28.479Z"
   },
   {
    "duration": 13,
    "start_time": "2021-12-07T13:12:32.178Z"
   },
   {
    "duration": 2436,
    "start_time": "2021-12-07T13:13:01.693Z"
   },
   {
    "duration": 187781,
    "start_time": "2021-12-07T13:09:56.350Z"
   },
   {
    "duration": 3,
    "start_time": "2021-12-07T13:13:35.435Z"
   },
   {
    "duration": 38,
    "start_time": "2021-12-07T13:13:35.441Z"
   },
   {
    "duration": 14,
    "start_time": "2021-12-07T13:13:35.481Z"
   },
   {
    "duration": 9,
    "start_time": "2021-12-07T13:13:35.497Z"
   },
   {
    "duration": 14,
    "start_time": "2021-12-07T13:13:35.507Z"
   },
   {
    "duration": 15,
    "start_time": "2021-12-07T13:13:35.523Z"
   },
   {
    "duration": 10,
    "start_time": "2021-12-07T13:13:35.542Z"
   },
   {
    "duration": 12,
    "start_time": "2021-12-07T13:13:35.554Z"
   },
   {
    "duration": 39,
    "start_time": "2021-12-07T13:13:35.568Z"
   },
   {
    "duration": 13,
    "start_time": "2021-12-07T13:13:35.609Z"
   },
   {
    "duration": 13,
    "start_time": "2021-12-07T13:13:35.624Z"
   },
   {
    "duration": 5,
    "start_time": "2021-12-07T13:13:58.116Z"
   },
   {
    "duration": 11,
    "start_time": "2021-12-07T13:14:00.022Z"
   },
   {
    "duration": 13,
    "start_time": "2021-12-07T13:14:01.616Z"
   },
   {
    "duration": 365,
    "start_time": "2021-12-07T13:16:04.441Z"
   },
   {
    "duration": 660,
    "start_time": "2021-12-07T13:17:51.769Z"
   },
   {
    "duration": 40,
    "start_time": "2021-12-07T13:17:52.430Z"
   },
   {
    "duration": 21,
    "start_time": "2021-12-07T13:17:52.472Z"
   },
   {
    "duration": 11,
    "start_time": "2021-12-07T13:17:52.495Z"
   },
   {
    "duration": 12,
    "start_time": "2021-12-07T13:17:52.508Z"
   },
   {
    "duration": 18,
    "start_time": "2021-12-07T13:17:52.521Z"
   },
   {
    "duration": 16,
    "start_time": "2021-12-07T13:17:52.541Z"
   },
   {
    "duration": 10,
    "start_time": "2021-12-07T13:17:52.560Z"
   },
   {
    "duration": 9,
    "start_time": "2021-12-07T13:17:52.572Z"
   },
   {
    "duration": 25,
    "start_time": "2021-12-07T13:17:52.583Z"
   },
   {
    "duration": 17,
    "start_time": "2021-12-07T13:17:52.610Z"
   },
   {
    "duration": 5,
    "start_time": "2021-12-07T13:17:52.629Z"
   },
   {
    "duration": 25,
    "start_time": "2021-12-07T13:18:58.173Z"
   },
   {
    "duration": 12,
    "start_time": "2021-12-07T13:28:29.457Z"
   },
   {
    "duration": 11,
    "start_time": "2021-12-07T13:28:36.598Z"
   },
   {
    "duration": 13,
    "start_time": "2021-12-07T13:35:08.904Z"
   },
   {
    "duration": 12,
    "start_time": "2021-12-07T13:35:33.264Z"
   },
   {
    "duration": 3,
    "start_time": "2021-12-07T13:36:13.041Z"
   },
   {
    "duration": 52,
    "start_time": "2021-12-07T13:36:13.045Z"
   },
   {
    "duration": 15,
    "start_time": "2021-12-07T13:36:13.099Z"
   },
   {
    "duration": 7,
    "start_time": "2021-12-07T13:36:13.117Z"
   },
   {
    "duration": 18,
    "start_time": "2021-12-07T13:36:13.127Z"
   },
   {
    "duration": 17,
    "start_time": "2021-12-07T13:36:13.147Z"
   },
   {
    "duration": 7,
    "start_time": "2021-12-07T13:36:13.167Z"
   },
   {
    "duration": 36,
    "start_time": "2021-12-07T13:36:13.176Z"
   },
   {
    "duration": 9,
    "start_time": "2021-12-07T13:36:13.213Z"
   },
   {
    "duration": 13,
    "start_time": "2021-12-07T13:36:13.224Z"
   },
   {
    "duration": 21,
    "start_time": "2021-12-07T13:36:13.239Z"
   },
   {
    "duration": 10,
    "start_time": "2021-12-07T13:36:13.262Z"
   },
   {
    "duration": 35,
    "start_time": "2021-12-07T13:36:13.273Z"
   },
   {
    "duration": 19,
    "start_time": "2021-12-07T13:36:13.310Z"
   },
   {
    "duration": 11,
    "start_time": "2021-12-07T13:36:13.332Z"
   },
   {
    "duration": 4,
    "start_time": "2021-12-07T13:40:19.317Z"
   },
   {
    "duration": 10,
    "start_time": "2021-12-07T13:40:25.848Z"
   },
   {
    "duration": 14,
    "start_time": "2021-12-07T13:41:37.999Z"
   },
   {
    "duration": 5,
    "start_time": "2021-12-07T13:43:17.040Z"
   },
   {
    "duration": 432,
    "start_time": "2021-12-07T13:43:28.536Z"
   },
   {
    "duration": 5,
    "start_time": "2021-12-07T13:43:34.038Z"
   },
   {
    "duration": 10,
    "start_time": "2021-12-07T13:43:38.894Z"
   },
   {
    "duration": 5,
    "start_time": "2021-12-07T13:47:34.096Z"
   },
   {
    "duration": 2,
    "start_time": "2021-12-07T13:47:59.212Z"
   },
   {
    "duration": 39,
    "start_time": "2021-12-07T13:47:59.219Z"
   },
   {
    "duration": 15,
    "start_time": "2021-12-07T13:47:59.260Z"
   },
   {
    "duration": 8,
    "start_time": "2021-12-07T13:47:59.277Z"
   },
   {
    "duration": 24,
    "start_time": "2021-12-07T13:47:59.287Z"
   },
   {
    "duration": 12,
    "start_time": "2021-12-07T13:47:59.313Z"
   },
   {
    "duration": 7,
    "start_time": "2021-12-07T13:47:59.327Z"
   },
   {
    "duration": 10,
    "start_time": "2021-12-07T13:47:59.335Z"
   },
   {
    "duration": 20,
    "start_time": "2021-12-07T13:47:59.347Z"
   },
   {
    "duration": 16,
    "start_time": "2021-12-07T13:47:59.368Z"
   },
   {
    "duration": 24,
    "start_time": "2021-12-07T13:47:59.386Z"
   },
   {
    "duration": 6,
    "start_time": "2021-12-07T13:47:59.412Z"
   },
   {
    "duration": 24,
    "start_time": "2021-12-07T13:47:59.420Z"
   },
   {
    "duration": 10,
    "start_time": "2021-12-07T13:47:59.446Z"
   },
   {
    "duration": 5,
    "start_time": "2021-12-07T13:47:59.459Z"
   },
   {
    "duration": 15,
    "start_time": "2021-12-07T13:47:59.466Z"
   },
   {
    "duration": 21,
    "start_time": "2021-12-07T13:51:07.250Z"
   },
   {
    "duration": 5,
    "start_time": "2021-12-07T13:55:38.620Z"
   },
   {
    "duration": 10,
    "start_time": "2021-12-07T13:55:38.951Z"
   },
   {
    "duration": 3,
    "start_time": "2021-12-07T13:55:49.977Z"
   },
   {
    "duration": 39,
    "start_time": "2021-12-07T13:55:49.989Z"
   },
   {
    "duration": 14,
    "start_time": "2021-12-07T13:55:50.030Z"
   },
   {
    "duration": 8,
    "start_time": "2021-12-07T13:55:50.047Z"
   },
   {
    "duration": 14,
    "start_time": "2021-12-07T13:55:50.057Z"
   },
   {
    "duration": 44,
    "start_time": "2021-12-07T13:55:50.073Z"
   },
   {
    "duration": 7,
    "start_time": "2021-12-07T13:55:50.119Z"
   },
   {
    "duration": 11,
    "start_time": "2021-12-07T13:55:50.128Z"
   },
   {
    "duration": 6,
    "start_time": "2021-12-07T13:55:50.141Z"
   },
   {
    "duration": 10,
    "start_time": "2021-12-07T13:55:50.149Z"
   },
   {
    "duration": 47,
    "start_time": "2021-12-07T13:55:50.161Z"
   },
   {
    "duration": 13,
    "start_time": "2021-12-07T13:55:50.210Z"
   },
   {
    "duration": 21,
    "start_time": "2021-12-07T13:55:50.225Z"
   },
   {
    "duration": 8,
    "start_time": "2021-12-07T13:55:50.248Z"
   },
   {
    "duration": 29,
    "start_time": "2021-12-07T13:55:50.257Z"
   },
   {
    "duration": 3,
    "start_time": "2021-12-07T13:59:35.768Z"
   },
   {
    "duration": 2,
    "start_time": "2021-12-07T14:02:21.063Z"
   },
   {
    "duration": 53,
    "start_time": "2021-12-07T14:02:21.071Z"
   },
   {
    "duration": 15,
    "start_time": "2021-12-07T14:02:21.126Z"
   },
   {
    "duration": 7,
    "start_time": "2021-12-07T14:02:21.177Z"
   },
   {
    "duration": 26,
    "start_time": "2021-12-07T14:02:21.187Z"
   },
   {
    "duration": 14,
    "start_time": "2021-12-07T14:02:21.215Z"
   },
   {
    "duration": 12,
    "start_time": "2021-12-07T14:02:21.231Z"
   },
   {
    "duration": 43,
    "start_time": "2021-12-07T14:02:21.245Z"
   },
   {
    "duration": 13,
    "start_time": "2021-12-07T14:02:21.290Z"
   },
   {
    "duration": 17,
    "start_time": "2021-12-07T14:02:21.305Z"
   },
   {
    "duration": 11,
    "start_time": "2021-12-07T14:02:21.325Z"
   },
   {
    "duration": 37,
    "start_time": "2021-12-07T14:02:21.338Z"
   },
   {
    "duration": 22,
    "start_time": "2021-12-07T14:02:21.377Z"
   },
   {
    "duration": 18,
    "start_time": "2021-12-07T14:02:21.401Z"
   },
   {
    "duration": 19,
    "start_time": "2021-12-07T14:02:21.421Z"
   },
   {
    "duration": 25,
    "start_time": "2021-12-07T14:02:21.441Z"
   },
   {
    "duration": 2,
    "start_time": "2021-12-07T14:04:34.568Z"
   },
   {
    "duration": 48,
    "start_time": "2021-12-07T14:04:34.572Z"
   },
   {
    "duration": 14,
    "start_time": "2021-12-07T14:04:34.622Z"
   },
   {
    "duration": 6,
    "start_time": "2021-12-07T14:04:34.638Z"
   },
   {
    "duration": 12,
    "start_time": "2021-12-07T14:04:34.646Z"
   },
   {
    "duration": 13,
    "start_time": "2021-12-07T14:04:34.660Z"
   },
   {
    "duration": 37,
    "start_time": "2021-12-07T14:04:34.675Z"
   },
   {
    "duration": 9,
    "start_time": "2021-12-07T14:04:34.714Z"
   },
   {
    "duration": 6,
    "start_time": "2021-12-07T14:04:34.726Z"
   },
   {
    "duration": 10,
    "start_time": "2021-12-07T14:04:34.733Z"
   },
   {
    "duration": 4,
    "start_time": "2021-12-07T14:04:34.745Z"
   },
   {
    "duration": 15,
    "start_time": "2021-12-07T14:04:34.750Z"
   },
   {
    "duration": 4,
    "start_time": "2021-12-07T14:04:34.766Z"
   },
   {
    "duration": 44,
    "start_time": "2021-12-07T14:04:34.771Z"
   },
   {
    "duration": 3,
    "start_time": "2021-12-07T14:04:34.817Z"
   },
   {
    "duration": 7,
    "start_time": "2021-12-07T14:04:34.821Z"
   },
   {
    "duration": 15,
    "start_time": "2021-12-07T14:04:34.830Z"
   },
   {
    "duration": 3,
    "start_time": "2021-12-07T14:05:07.747Z"
   },
   {
    "duration": 41,
    "start_time": "2021-12-07T14:05:07.753Z"
   },
   {
    "duration": 14,
    "start_time": "2021-12-07T14:05:07.796Z"
   },
   {
    "duration": 7,
    "start_time": "2021-12-07T14:05:07.812Z"
   },
   {
    "duration": 13,
    "start_time": "2021-12-07T14:05:07.820Z"
   },
   {
    "duration": 16,
    "start_time": "2021-12-07T14:05:07.834Z"
   },
   {
    "duration": 8,
    "start_time": "2021-12-07T14:05:07.852Z"
   },
   {
    "duration": 10,
    "start_time": "2021-12-07T14:05:07.861Z"
   },
   {
    "duration": 7,
    "start_time": "2021-12-07T14:05:07.906Z"
   },
   {
    "duration": 10,
    "start_time": "2021-12-07T14:05:07.915Z"
   },
   {
    "duration": 5,
    "start_time": "2021-12-07T14:05:07.926Z"
   },
   {
    "duration": 13,
    "start_time": "2021-12-07T14:05:07.932Z"
   },
   {
    "duration": 16,
    "start_time": "2021-12-07T14:05:07.947Z"
   },
   {
    "duration": 25,
    "start_time": "2021-12-07T14:05:07.964Z"
   },
   {
    "duration": 3,
    "start_time": "2021-12-07T14:05:08.006Z"
   },
   {
    "duration": 11,
    "start_time": "2021-12-07T14:05:08.017Z"
   },
   {
    "duration": 3,
    "start_time": "2021-12-07T14:05:08.030Z"
   },
   {
    "duration": 37,
    "start_time": "2021-12-07T14:05:08.035Z"
   },
   {
    "duration": 39,
    "start_time": "2021-12-07T14:05:08.074Z"
   },
   {
    "duration": 9,
    "start_time": "2021-12-07T14:09:35.573Z"
   },
   {
    "duration": 12,
    "start_time": "2021-12-07T14:09:36.963Z"
   },
   {
    "duration": 622,
    "start_time": "2021-12-07T14:16:22.467Z"
   },
   {
    "duration": 40,
    "start_time": "2021-12-07T14:16:23.091Z"
   },
   {
    "duration": 21,
    "start_time": "2021-12-07T14:16:23.134Z"
   },
   {
    "duration": 8,
    "start_time": "2021-12-07T14:16:23.157Z"
   },
   {
    "duration": 12,
    "start_time": "2021-12-07T14:16:23.167Z"
   },
   {
    "duration": 33,
    "start_time": "2021-12-07T14:16:23.181Z"
   },
   {
    "duration": 10,
    "start_time": "2021-12-07T14:16:23.215Z"
   },
   {
    "duration": 15,
    "start_time": "2021-12-07T14:16:23.227Z"
   },
   {
    "duration": 7,
    "start_time": "2021-12-07T14:16:23.244Z"
   },
   {
    "duration": 16,
    "start_time": "2021-12-07T14:16:23.253Z"
   },
   {
    "duration": 12,
    "start_time": "2021-12-07T14:16:23.271Z"
   },
   {
    "duration": 31,
    "start_time": "2021-12-07T14:16:23.285Z"
   },
   {
    "duration": 4,
    "start_time": "2021-12-07T14:16:23.318Z"
   },
   {
    "duration": 13,
    "start_time": "2021-12-07T14:16:23.324Z"
   },
   {
    "duration": 7,
    "start_time": "2021-12-07T14:18:21.586Z"
   },
   {
    "duration": 12,
    "start_time": "2021-12-07T14:18:23.490Z"
   },
   {
    "duration": 12,
    "start_time": "2021-12-07T14:18:41.802Z"
   },
   {
    "duration": 3,
    "start_time": "2021-12-07T14:19:07.185Z"
   },
   {
    "duration": 39,
    "start_time": "2021-12-07T14:19:07.217Z"
   },
   {
    "duration": 13,
    "start_time": "2021-12-07T14:19:07.257Z"
   },
   {
    "duration": 7,
    "start_time": "2021-12-07T14:19:07.272Z"
   },
   {
    "duration": 35,
    "start_time": "2021-12-07T14:19:07.281Z"
   },
   {
    "duration": 18,
    "start_time": "2021-12-07T14:19:07.318Z"
   },
   {
    "duration": 8,
    "start_time": "2021-12-07T14:19:07.338Z"
   },
   {
    "duration": 12,
    "start_time": "2021-12-07T14:19:07.347Z"
   },
   {
    "duration": 8,
    "start_time": "2021-12-07T14:19:07.361Z"
   },
   {
    "duration": 36,
    "start_time": "2021-12-07T14:19:07.372Z"
   },
   {
    "duration": 12,
    "start_time": "2021-12-07T14:19:07.410Z"
   },
   {
    "duration": 8,
    "start_time": "2021-12-07T14:19:07.424Z"
   },
   {
    "duration": 12,
    "start_time": "2021-12-07T14:19:07.434Z"
   },
   {
    "duration": 4,
    "start_time": "2021-12-07T14:19:07.448Z"
   },
   {
    "duration": 12,
    "start_time": "2021-12-07T14:19:07.454Z"
   },
   {
    "duration": 6,
    "start_time": "2021-12-07T14:20:06.304Z"
   },
   {
    "duration": 13,
    "start_time": "2021-12-07T14:20:08.080Z"
   },
   {
    "duration": 12,
    "start_time": "2021-12-07T14:20:08.963Z"
   },
   {
    "duration": 3,
    "start_time": "2021-12-07T14:20:16.157Z"
   },
   {
    "duration": 46,
    "start_time": "2021-12-07T14:20:16.163Z"
   },
   {
    "duration": 13,
    "start_time": "2021-12-07T14:20:16.211Z"
   },
   {
    "duration": 9,
    "start_time": "2021-12-07T14:20:16.226Z"
   },
   {
    "duration": 12,
    "start_time": "2021-12-07T14:20:16.237Z"
   },
   {
    "duration": 10,
    "start_time": "2021-12-07T14:20:16.251Z"
   },
   {
    "duration": 8,
    "start_time": "2021-12-07T14:20:16.264Z"
   },
   {
    "duration": 38,
    "start_time": "2021-12-07T14:20:16.274Z"
   },
   {
    "duration": 13,
    "start_time": "2021-12-07T14:20:16.314Z"
   },
   {
    "duration": 11,
    "start_time": "2021-12-07T14:20:16.328Z"
   },
   {
    "duration": 13,
    "start_time": "2021-12-07T14:20:16.341Z"
   },
   {
    "duration": 18,
    "start_time": "2021-12-07T14:20:16.355Z"
   },
   {
    "duration": 14,
    "start_time": "2021-12-07T14:20:16.375Z"
   },
   {
    "duration": 17,
    "start_time": "2021-12-07T14:20:16.391Z"
   },
   {
    "duration": 13,
    "start_time": "2021-12-07T14:20:16.410Z"
   },
   {
    "duration": 10,
    "start_time": "2021-12-07T14:21:30.656Z"
   },
   {
    "duration": 9,
    "start_time": "2021-12-07T14:21:43.885Z"
   },
   {
    "duration": 14,
    "start_time": "2021-12-07T14:21:52.244Z"
   },
   {
    "duration": 12,
    "start_time": "2021-12-07T14:22:08.405Z"
   },
   {
    "duration": 861,
    "start_time": "2021-12-07T14:23:01.574Z"
   },
   {
    "duration": 186405,
    "start_time": "2021-12-07T14:19:56.032Z"
   },
   {
    "duration": 11,
    "start_time": "2021-12-07T14:23:03.721Z"
   },
   {
    "duration": 418,
    "start_time": "2021-12-07T14:23:16.384Z"
   },
   {
    "duration": 899,
    "start_time": "2021-12-07T14:23:20.688Z"
   },
   {
    "duration": 3,
    "start_time": "2021-12-07T14:23:28.861Z"
   },
   {
    "duration": 44,
    "start_time": "2021-12-07T14:23:28.868Z"
   },
   {
    "duration": 14,
    "start_time": "2021-12-07T14:23:28.914Z"
   },
   {
    "duration": 10,
    "start_time": "2021-12-07T14:23:28.930Z"
   },
   {
    "duration": 13,
    "start_time": "2021-12-07T14:23:28.942Z"
   },
   {
    "duration": 11,
    "start_time": "2021-12-07T14:23:28.957Z"
   },
   {
    "duration": 40,
    "start_time": "2021-12-07T14:23:28.970Z"
   },
   {
    "duration": 12,
    "start_time": "2021-12-07T14:23:29.012Z"
   },
   {
    "duration": 477,
    "start_time": "2021-12-07T14:23:29.027Z"
   },
   {
    "duration": 187707,
    "start_time": "2021-12-07T14:20:21.800Z"
   },
   {
    "duration": 187702,
    "start_time": "2021-12-07T14:20:21.806Z"
   },
   {
    "duration": 187693,
    "start_time": "2021-12-07T14:20:21.817Z"
   },
   {
    "duration": 187689,
    "start_time": "2021-12-07T14:20:21.822Z"
   },
   {
    "duration": 187686,
    "start_time": "2021-12-07T14:20:21.827Z"
   },
   {
    "duration": 187681,
    "start_time": "2021-12-07T14:20:21.833Z"
   },
   {
    "duration": 425,
    "start_time": "2021-12-07T14:24:02.742Z"
   },
   {
    "duration": 3,
    "start_time": "2021-12-07T14:24:11.639Z"
   },
   {
    "duration": 43,
    "start_time": "2021-12-07T14:24:11.644Z"
   },
   {
    "duration": 13,
    "start_time": "2021-12-07T14:24:11.689Z"
   },
   {
    "duration": 7,
    "start_time": "2021-12-07T14:24:11.704Z"
   },
   {
    "duration": 21,
    "start_time": "2021-12-07T14:24:11.713Z"
   },
   {
    "duration": 10,
    "start_time": "2021-12-07T14:24:11.735Z"
   },
   {
    "duration": 7,
    "start_time": "2021-12-07T14:24:11.747Z"
   },
   {
    "duration": 11,
    "start_time": "2021-12-07T14:24:11.756Z"
   },
   {
    "duration": 357,
    "start_time": "2021-12-07T14:24:11.769Z"
   },
   {
    "duration": 187714,
    "start_time": "2021-12-07T14:21:04.413Z"
   },
   {
    "duration": 187709,
    "start_time": "2021-12-07T14:21:04.419Z"
   },
   {
    "duration": 187702,
    "start_time": "2021-12-07T14:21:04.427Z"
   },
   {
    "duration": 187696,
    "start_time": "2021-12-07T14:21:04.435Z"
   },
   {
    "duration": 187691,
    "start_time": "2021-12-07T14:21:04.441Z"
   },
   {
    "duration": 187687,
    "start_time": "2021-12-07T14:21:04.446Z"
   },
   {
    "duration": 8,
    "start_time": "2021-12-07T14:25:25.320Z"
   },
   {
    "duration": 3,
    "start_time": "2021-12-07T14:25:28.854Z"
   },
   {
    "duration": 40,
    "start_time": "2021-12-07T14:25:28.861Z"
   },
   {
    "duration": 13,
    "start_time": "2021-12-07T14:25:28.903Z"
   },
   {
    "duration": 7,
    "start_time": "2021-12-07T14:25:28.918Z"
   },
   {
    "duration": 12,
    "start_time": "2021-12-07T14:25:28.927Z"
   },
   {
    "duration": 11,
    "start_time": "2021-12-07T14:25:28.940Z"
   },
   {
    "duration": 7,
    "start_time": "2021-12-07T14:25:28.953Z"
   },
   {
    "duration": 10,
    "start_time": "2021-12-07T14:25:28.962Z"
   },
   {
    "duration": 7,
    "start_time": "2021-12-07T14:25:29.006Z"
   },
   {
    "duration": 9,
    "start_time": "2021-12-07T14:25:29.016Z"
   },
   {
    "duration": 7,
    "start_time": "2021-12-07T14:25:29.027Z"
   },
   {
    "duration": 13,
    "start_time": "2021-12-07T14:25:29.036Z"
   },
   {
    "duration": 4,
    "start_time": "2021-12-07T14:25:29.051Z"
   },
   {
    "duration": 13,
    "start_time": "2021-12-07T14:25:29.056Z"
   },
   {
    "duration": 14,
    "start_time": "2021-12-07T14:25:47.266Z"
   },
   {
    "duration": 4,
    "start_time": "2021-12-07T14:26:09.120Z"
   },
   {
    "duration": 12,
    "start_time": "2021-12-07T14:26:18.443Z"
   },
   {
    "duration": 5,
    "start_time": "2021-12-07T14:26:25.634Z"
   },
   {
    "duration": 14,
    "start_time": "2021-12-07T14:26:26.714Z"
   },
   {
    "duration": 3,
    "start_time": "2021-12-07T14:26:29.980Z"
   },
   {
    "duration": 42,
    "start_time": "2021-12-07T14:26:29.986Z"
   },
   {
    "duration": 15,
    "start_time": "2021-12-07T14:26:30.030Z"
   },
   {
    "duration": 44,
    "start_time": "2021-12-07T14:26:30.047Z"
   },
   {
    "duration": 90,
    "start_time": "2021-12-07T14:26:30.094Z"
   },
   {
    "duration": 84,
    "start_time": "2021-12-07T14:26:30.186Z"
   },
   {
    "duration": 84,
    "start_time": "2021-12-07T14:26:30.272Z"
   },
   {
    "duration": 107,
    "start_time": "2021-12-07T14:26:30.357Z"
   },
   {
    "duration": 70,
    "start_time": "2021-12-07T14:26:30.467Z"
   },
   {
    "duration": 102,
    "start_time": "2021-12-07T14:26:30.539Z"
   },
   {
    "duration": 26,
    "start_time": "2021-12-07T14:26:30.643Z"
   },
   {
    "duration": 28,
    "start_time": "2021-12-07T14:26:30.671Z"
   },
   {
    "duration": 67,
    "start_time": "2021-12-07T14:26:30.700Z"
   },
   {
    "duration": 32,
    "start_time": "2021-12-07T14:26:30.769Z"
   },
   {
    "duration": 37,
    "start_time": "2021-12-07T14:26:30.803Z"
   },
   {
    "duration": 13,
    "start_time": "2021-12-07T14:26:30.842Z"
   },
   {
    "duration": 20,
    "start_time": "2021-12-07T14:26:30.857Z"
   },
   {
    "duration": 7,
    "start_time": "2021-12-07T14:27:35.059Z"
   },
   {
    "duration": 13,
    "start_time": "2021-12-07T14:27:36.733Z"
   },
   {
    "duration": 12,
    "start_time": "2021-12-07T14:27:48.167Z"
   },
   {
    "duration": 355,
    "start_time": "2021-12-07T14:28:48.478Z"
   },
   {
    "duration": 3,
    "start_time": "2021-12-07T14:30:20.057Z"
   },
   {
    "duration": 41,
    "start_time": "2021-12-07T14:30:20.065Z"
   },
   {
    "duration": 16,
    "start_time": "2021-12-07T14:30:20.108Z"
   },
   {
    "duration": 7,
    "start_time": "2021-12-07T14:30:20.126Z"
   },
   {
    "duration": 14,
    "start_time": "2021-12-07T14:30:20.135Z"
   },
   {
    "duration": 12,
    "start_time": "2021-12-07T14:30:20.151Z"
   },
   {
    "duration": 8,
    "start_time": "2021-12-07T14:30:20.164Z"
   },
   {
    "duration": 39,
    "start_time": "2021-12-07T14:30:20.174Z"
   },
   {
    "duration": 8,
    "start_time": "2021-12-07T14:30:20.216Z"
   },
   {
    "duration": 14,
    "start_time": "2021-12-07T14:30:20.226Z"
   },
   {
    "duration": 4,
    "start_time": "2021-12-07T14:30:20.243Z"
   },
   {
    "duration": 13,
    "start_time": "2021-12-07T14:30:20.248Z"
   },
   {
    "duration": 10,
    "start_time": "2021-12-07T14:32:46.170Z"
   },
   {
    "duration": 15,
    "start_time": "2021-12-07T14:32:56.181Z"
   },
   {
    "duration": 749,
    "start_time": "2021-12-07T14:36:44.665Z"
   },
   {
    "duration": 40,
    "start_time": "2021-12-07T14:36:45.416Z"
   },
   {
    "duration": 22,
    "start_time": "2021-12-07T14:36:45.458Z"
   },
   {
    "duration": 6,
    "start_time": "2021-12-07T14:36:45.482Z"
   },
   {
    "duration": 27,
    "start_time": "2021-12-07T14:36:45.490Z"
   },
   {
    "duration": 12,
    "start_time": "2021-12-07T14:36:45.519Z"
   },
   {
    "duration": 8,
    "start_time": "2021-12-07T14:36:45.533Z"
   },
   {
    "duration": 13,
    "start_time": "2021-12-07T14:36:45.543Z"
   },
   {
    "duration": 8,
    "start_time": "2021-12-07T14:36:45.558Z"
   },
   {
    "duration": 49,
    "start_time": "2021-12-07T14:36:45.568Z"
   },
   {
    "duration": 4,
    "start_time": "2021-12-07T14:36:45.619Z"
   },
   {
    "duration": 26,
    "start_time": "2021-12-07T14:36:45.626Z"
   },
   {
    "duration": 10,
    "start_time": "2021-12-07T14:36:45.655Z"
   },
   {
    "duration": 15,
    "start_time": "2021-12-07T14:36:45.667Z"
   },
   {
    "duration": 611,
    "start_time": "2021-12-08T10:58:53.022Z"
   },
   {
    "duration": 160,
    "start_time": "2021-12-08T10:58:53.635Z"
   },
   {
    "duration": 22,
    "start_time": "2021-12-08T10:58:53.797Z"
   },
   {
    "duration": 7,
    "start_time": "2021-12-08T10:58:53.821Z"
   },
   {
    "duration": 12,
    "start_time": "2021-12-08T10:58:53.830Z"
   },
   {
    "duration": 10,
    "start_time": "2021-12-08T10:58:53.844Z"
   },
   {
    "duration": 8,
    "start_time": "2021-12-08T10:58:53.856Z"
   },
   {
    "duration": 40,
    "start_time": "2021-12-08T10:58:53.866Z"
   },
   {
    "duration": 7,
    "start_time": "2021-12-08T10:58:53.909Z"
   },
   {
    "duration": 14,
    "start_time": "2021-12-08T10:58:53.918Z"
   },
   {
    "duration": 5,
    "start_time": "2021-12-08T10:58:53.933Z"
   },
   {
    "duration": 20,
    "start_time": "2021-12-08T10:58:53.939Z"
   },
   {
    "duration": 9,
    "start_time": "2021-12-08T10:58:53.960Z"
   },
   {
    "duration": 17,
    "start_time": "2021-12-08T10:58:53.971Z"
   },
   {
    "duration": 16,
    "start_time": "2021-12-08T11:02:07.431Z"
   },
   {
    "duration": 414,
    "start_time": "2021-12-08T11:08:40.495Z"
   },
   {
    "duration": 393,
    "start_time": "2021-12-08T11:08:56.163Z"
   },
   {
    "duration": 23,
    "start_time": "2021-12-08T11:09:02.703Z"
   },
   {
    "duration": 8,
    "start_time": "2021-12-08T11:15:03.697Z"
   },
   {
    "duration": 14,
    "start_time": "2021-12-08T11:15:19.877Z"
   },
   {
    "duration": 14,
    "start_time": "2021-12-08T11:15:33.243Z"
   },
   {
    "duration": 13,
    "start_time": "2021-12-08T11:16:13.085Z"
   },
   {
    "duration": 3,
    "start_time": "2021-12-08T11:20:21.758Z"
   },
   {
    "duration": 37,
    "start_time": "2021-12-08T11:20:21.765Z"
   },
   {
    "duration": 15,
    "start_time": "2021-12-08T11:20:21.804Z"
   },
   {
    "duration": 7,
    "start_time": "2021-12-08T11:20:21.940Z"
   },
   {
    "duration": 13,
    "start_time": "2021-12-08T11:20:22.091Z"
   },
   {
    "duration": 23,
    "start_time": "2021-12-08T11:20:22.105Z"
   },
   {
    "duration": 7,
    "start_time": "2021-12-08T11:20:22.131Z"
   },
   {
    "duration": 16,
    "start_time": "2021-12-08T11:20:22.140Z"
   },
   {
    "duration": 7,
    "start_time": "2021-12-08T11:20:22.158Z"
   },
   {
    "duration": 15,
    "start_time": "2021-12-08T11:20:22.167Z"
   },
   {
    "duration": 5,
    "start_time": "2021-12-08T11:20:22.183Z"
   },
   {
    "duration": 30,
    "start_time": "2021-12-08T11:20:22.190Z"
   },
   {
    "duration": 10,
    "start_time": "2021-12-08T11:20:22.222Z"
   },
   {
    "duration": 28,
    "start_time": "2021-12-08T11:20:22.233Z"
   },
   {
    "duration": 15,
    "start_time": "2021-12-08T11:20:22.263Z"
   },
   {
    "duration": 29,
    "start_time": "2021-12-08T11:20:22.280Z"
   },
   {
    "duration": 2,
    "start_time": "2021-12-08T11:20:22.311Z"
   },
   {
    "duration": 8,
    "start_time": "2021-12-08T11:21:04.092Z"
   },
   {
    "duration": 6,
    "start_time": "2021-12-08T11:21:13.085Z"
   },
   {
    "duration": 6,
    "start_time": "2021-12-08T11:21:39.514Z"
   },
   {
    "duration": 160,
    "start_time": "2021-12-08T11:38:45.282Z"
   },
   {
    "duration": 124,
    "start_time": "2021-12-08T11:39:09.548Z"
   },
   {
    "duration": 166,
    "start_time": "2021-12-08T11:39:17.506Z"
   },
   {
    "duration": 112,
    "start_time": "2021-12-08T11:39:45.948Z"
   },
   {
    "duration": 814,
    "start_time": "2021-12-08T11:39:56.247Z"
   },
   {
    "duration": 4544,
    "start_time": "2021-12-08T11:40:42.776Z"
   },
   {
    "duration": 3,
    "start_time": "2021-12-08T12:09:19.431Z"
   },
   {
    "duration": 37,
    "start_time": "2021-12-08T12:09:19.464Z"
   },
   {
    "duration": 14,
    "start_time": "2021-12-08T12:09:19.504Z"
   },
   {
    "duration": 7,
    "start_time": "2021-12-08T12:09:19.579Z"
   },
   {
    "duration": 13,
    "start_time": "2021-12-08T12:09:19.588Z"
   },
   {
    "duration": 15,
    "start_time": "2021-12-08T12:09:19.603Z"
   },
   {
    "duration": 8,
    "start_time": "2021-12-08T12:09:19.620Z"
   },
   {
    "duration": 14,
    "start_time": "2021-12-08T12:09:19.630Z"
   },
   {
    "duration": 8,
    "start_time": "2021-12-08T12:09:19.646Z"
   },
   {
    "duration": 17,
    "start_time": "2021-12-08T12:09:19.656Z"
   },
   {
    "duration": 5,
    "start_time": "2021-12-08T12:09:19.675Z"
   },
   {
    "duration": 11,
    "start_time": "2021-12-08T12:09:19.707Z"
   },
   {
    "duration": 4,
    "start_time": "2021-12-08T12:09:19.721Z"
   },
   {
    "duration": 14,
    "start_time": "2021-12-08T12:09:19.726Z"
   },
   {
    "duration": 13,
    "start_time": "2021-12-08T12:09:19.742Z"
   },
   {
    "duration": 145,
    "start_time": "2021-12-08T12:25:06.507Z"
   },
   {
    "duration": 11,
    "start_time": "2021-12-08T12:25:10.310Z"
   },
   {
    "duration": 7,
    "start_time": "2021-12-08T12:28:20.824Z"
   },
   {
    "duration": 8,
    "start_time": "2021-12-08T12:28:32.387Z"
   },
   {
    "duration": 9,
    "start_time": "2021-12-08T12:28:50.859Z"
   },
   {
    "duration": 7,
    "start_time": "2021-12-08T12:28:57.969Z"
   },
   {
    "duration": 8,
    "start_time": "2021-12-08T12:29:02.967Z"
   },
   {
    "duration": 4,
    "start_time": "2021-12-08T12:38:52.701Z"
   },
   {
    "duration": 7,
    "start_time": "2021-12-08T12:39:08.103Z"
   },
   {
    "duration": 5,
    "start_time": "2021-12-08T12:41:20.325Z"
   },
   {
    "duration": 5,
    "start_time": "2021-12-08T12:41:26.370Z"
   },
   {
    "duration": 406,
    "start_time": "2021-12-08T12:41:45.408Z"
   },
   {
    "duration": 8,
    "start_time": "2021-12-08T12:41:55.991Z"
   },
   {
    "duration": 5,
    "start_time": "2021-12-08T12:43:13.685Z"
   },
   {
    "duration": 3,
    "start_time": "2021-12-08T12:45:46.779Z"
   },
   {
    "duration": 5,
    "start_time": "2021-12-08T12:45:52.592Z"
   },
   {
    "duration": 348,
    "start_time": "2021-12-08T12:46:15.387Z"
   },
   {
    "duration": 376,
    "start_time": "2021-12-08T12:46:29.169Z"
   },
   {
    "duration": 4,
    "start_time": "2021-12-08T12:47:46.250Z"
   },
   {
    "duration": 6,
    "start_time": "2021-12-08T12:47:47.331Z"
   },
   {
    "duration": 5,
    "start_time": "2021-12-08T12:47:56.681Z"
   },
   {
    "duration": 487,
    "start_time": "2021-12-08T12:50:19.982Z"
   },
   {
    "duration": 354,
    "start_time": "2021-12-08T12:53:07.880Z"
   },
   {
    "duration": 10,
    "start_time": "2021-12-08T12:53:37.455Z"
   },
   {
    "duration": 8,
    "start_time": "2021-12-08T12:53:46.642Z"
   },
   {
    "duration": 18,
    "start_time": "2021-12-08T12:54:33.222Z"
   },
   {
    "duration": 39,
    "start_time": "2021-12-08T12:54:38.489Z"
   },
   {
    "duration": 16,
    "start_time": "2021-12-08T12:55:13.625Z"
   },
   {
    "duration": 32,
    "start_time": "2021-12-08T12:55:14.808Z"
   },
   {
    "duration": 9,
    "start_time": "2021-12-08T12:56:17.734Z"
   },
   {
    "duration": 11,
    "start_time": "2021-12-08T12:56:18.398Z"
   },
   {
    "duration": 9,
    "start_time": "2021-12-08T12:56:29.437Z"
   },
   {
    "duration": 3,
    "start_time": "2021-12-08T12:56:34.726Z"
   },
   {
    "duration": 39,
    "start_time": "2021-12-08T12:56:34.732Z"
   },
   {
    "duration": 14,
    "start_time": "2021-12-08T12:56:34.773Z"
   },
   {
    "duration": 9,
    "start_time": "2021-12-08T12:56:34.789Z"
   },
   {
    "duration": 14,
    "start_time": "2021-12-08T12:56:34.800Z"
   },
   {
    "duration": 16,
    "start_time": "2021-12-08T12:56:34.817Z"
   },
   {
    "duration": 10,
    "start_time": "2021-12-08T12:56:34.837Z"
   },
   {
    "duration": 9,
    "start_time": "2021-12-08T12:56:34.849Z"
   },
   {
    "duration": 7,
    "start_time": "2021-12-08T12:56:34.861Z"
   },
   {
    "duration": 45,
    "start_time": "2021-12-08T12:56:34.870Z"
   },
   {
    "duration": 6,
    "start_time": "2021-12-08T12:56:34.918Z"
   },
   {
    "duration": 14,
    "start_time": "2021-12-08T12:56:34.926Z"
   },
   {
    "duration": 5,
    "start_time": "2021-12-08T12:56:34.942Z"
   },
   {
    "duration": 15,
    "start_time": "2021-12-08T12:56:34.949Z"
   },
   {
    "duration": 44,
    "start_time": "2021-12-08T12:56:34.966Z"
   },
   {
    "duration": 12,
    "start_time": "2021-12-08T12:56:35.012Z"
   },
   {
    "duration": 12,
    "start_time": "2021-12-08T12:56:35.028Z"
   },
   {
    "duration": 7,
    "start_time": "2021-12-08T12:56:35.041Z"
   },
   {
    "duration": 16,
    "start_time": "2021-12-08T12:56:35.050Z"
   },
   {
    "duration": 526,
    "start_time": "2021-12-08T12:56:35.068Z"
   },
   {
    "duration": 9,
    "start_time": "2021-12-08T12:57:00.866Z"
   },
   {
    "duration": 94,
    "start_time": "2021-12-08T13:11:20.957Z"
   },
   {
    "duration": 10,
    "start_time": "2021-12-08T13:11:21.962Z"
   },
   {
    "duration": 8,
    "start_time": "2021-12-08T13:11:22.209Z"
   },
   {
    "duration": 9,
    "start_time": "2021-12-08T13:11:22.384Z"
   },
   {
    "duration": 9,
    "start_time": "2021-12-08T13:11:23.877Z"
   },
   {
    "duration": 175,
    "start_time": "2021-12-08T13:14:53.891Z"
   },
   {
    "duration": 206,
    "start_time": "2021-12-08T13:15:03.519Z"
   },
   {
    "duration": 411,
    "start_time": "2021-12-08T13:15:08.959Z"
   },
   {
    "duration": 275,
    "start_time": "2021-12-08T13:15:13.707Z"
   },
   {
    "duration": 184,
    "start_time": "2021-12-08T13:15:17.278Z"
   },
   {
    "duration": 952,
    "start_time": "2021-12-08T13:17:50.572Z"
   },
   {
    "duration": 13,
    "start_time": "2021-12-08T13:18:08.199Z"
   },
   {
    "duration": 15,
    "start_time": "2021-12-08T13:18:17.035Z"
   },
   {
    "duration": 129,
    "start_time": "2021-12-08T13:21:30.117Z"
   },
   {
    "duration": 14,
    "start_time": "2021-12-08T13:21:43.215Z"
   },
   {
    "duration": 8,
    "start_time": "2021-12-08T13:24:05.800Z"
   },
   {
    "duration": 2546,
    "start_time": "2021-12-08T13:24:41.617Z"
   },
   {
    "duration": 3033,
    "start_time": "2021-12-08T13:25:35.527Z"
   },
   {
    "duration": 593,
    "start_time": "2021-12-08T13:26:19.488Z"
   },
   {
    "duration": 427,
    "start_time": "2021-12-08T13:27:05.814Z"
   },
   {
    "duration": 11,
    "start_time": "2021-12-08T13:27:23.367Z"
   },
   {
    "duration": 4868,
    "start_time": "2021-12-08T13:27:57.818Z"
   },
   {
    "duration": 11,
    "start_time": "2021-12-08T13:28:16.337Z"
   },
   {
    "duration": 17,
    "start_time": "2021-12-08T13:28:58.676Z"
   },
   {
    "duration": 6,
    "start_time": "2021-12-08T13:31:12.476Z"
   },
   {
    "duration": 15,
    "start_time": "2021-12-08T13:31:17.115Z"
   },
   {
    "duration": 710,
    "start_time": "2021-12-08T13:32:50.942Z"
   },
   {
    "duration": 39,
    "start_time": "2021-12-08T13:32:51.654Z"
   },
   {
    "duration": 20,
    "start_time": "2021-12-08T13:32:51.695Z"
   },
   {
    "duration": 37,
    "start_time": "2021-12-08T13:32:51.717Z"
   },
   {
    "duration": 20,
    "start_time": "2021-12-08T13:32:51.756Z"
   },
   {
    "duration": 15,
    "start_time": "2021-12-08T13:32:51.778Z"
   },
   {
    "duration": 12,
    "start_time": "2021-12-08T13:32:51.795Z"
   },
   {
    "duration": 11,
    "start_time": "2021-12-08T13:32:51.810Z"
   },
   {
    "duration": 7,
    "start_time": "2021-12-08T13:32:51.824Z"
   },
   {
    "duration": 12,
    "start_time": "2021-12-08T13:32:51.832Z"
   },
   {
    "duration": 4,
    "start_time": "2021-12-08T13:32:51.846Z"
   },
   {
    "duration": 11,
    "start_time": "2021-12-08T13:32:51.851Z"
   },
   {
    "duration": 42,
    "start_time": "2021-12-08T13:32:51.864Z"
   },
   {
    "duration": 19,
    "start_time": "2021-12-08T13:32:51.908Z"
   },
   {
    "duration": 14,
    "start_time": "2021-12-08T13:32:51.929Z"
   },
   {
    "duration": 10,
    "start_time": "2021-12-08T13:32:51.945Z"
   },
   {
    "duration": 14,
    "start_time": "2021-12-08T13:32:51.956Z"
   },
   {
    "duration": 35,
    "start_time": "2021-12-08T13:32:51.972Z"
   },
   {
    "duration": 402,
    "start_time": "2021-12-08T13:32:52.009Z"
   },
   {
    "duration": 189717,
    "start_time": "2021-12-08T13:29:42.696Z"
   },
   {
    "duration": 189706,
    "start_time": "2021-12-08T13:29:42.708Z"
   },
   {
    "duration": 189698,
    "start_time": "2021-12-08T13:29:42.717Z"
   },
   {
    "duration": 189694,
    "start_time": "2021-12-08T13:29:42.722Z"
   },
   {
    "duration": 189689,
    "start_time": "2021-12-08T13:29:42.728Z"
   },
   {
    "duration": 3,
    "start_time": "2021-12-08T13:33:58.923Z"
   },
   {
    "duration": 43,
    "start_time": "2021-12-08T13:33:58.928Z"
   },
   {
    "duration": 13,
    "start_time": "2021-12-08T13:33:58.973Z"
   },
   {
    "duration": 8,
    "start_time": "2021-12-08T13:33:58.989Z"
   },
   {
    "duration": 16,
    "start_time": "2021-12-08T13:33:58.999Z"
   },
   {
    "duration": 13,
    "start_time": "2021-12-08T13:33:59.017Z"
   },
   {
    "duration": 18,
    "start_time": "2021-12-08T13:33:59.033Z"
   },
   {
    "duration": 15,
    "start_time": "2021-12-08T13:33:59.053Z"
   },
   {
    "duration": 25,
    "start_time": "2021-12-08T13:33:59.071Z"
   },
   {
    "duration": 74,
    "start_time": "2021-12-08T13:33:59.108Z"
   },
   {
    "duration": 11,
    "start_time": "2021-12-08T13:33:59.184Z"
   },
   {
    "duration": 23,
    "start_time": "2021-12-08T13:33:59.197Z"
   },
   {
    "duration": 16,
    "start_time": "2021-12-08T13:33:59.227Z"
   },
   {
    "duration": 22,
    "start_time": "2021-12-08T13:33:59.245Z"
   },
   {
    "duration": 21,
    "start_time": "2021-12-08T13:33:59.275Z"
   },
   {
    "duration": 14,
    "start_time": "2021-12-08T13:33:59.300Z"
   },
   {
    "duration": 29,
    "start_time": "2021-12-08T13:33:59.316Z"
   },
   {
    "duration": 13,
    "start_time": "2021-12-08T13:33:59.348Z"
   },
   {
    "duration": 25,
    "start_time": "2021-12-08T13:33:59.363Z"
   },
   {
    "duration": 22,
    "start_time": "2021-12-08T13:33:59.390Z"
   },
   {
    "duration": 20,
    "start_time": "2021-12-08T13:33:59.416Z"
   },
   {
    "duration": 42,
    "start_time": "2021-12-08T13:33:59.438Z"
   },
   {
    "duration": 12,
    "start_time": "2021-12-08T13:33:59.482Z"
   },
   {
    "duration": 21,
    "start_time": "2021-12-08T13:33:59.496Z"
   },
   {
    "duration": 12,
    "start_time": "2021-12-08T13:35:31.914Z"
   },
   {
    "duration": 12,
    "start_time": "2021-12-08T13:37:05.610Z"
   },
   {
    "duration": 75,
    "start_time": "2021-12-08T13:37:30.836Z"
   },
   {
    "duration": 10878,
    "start_time": "2021-12-08T13:39:05.024Z"
   },
   {
    "duration": 1652,
    "start_time": "2021-12-08T13:40:10.845Z"
   },
   {
    "duration": 189653,
    "start_time": "2021-12-08T13:37:02.846Z"
   },
   {
    "duration": 14,
    "start_time": "2021-12-08T13:41:03.094Z"
   },
   {
    "duration": 149,
    "start_time": "2021-12-08T13:41:12.660Z"
   },
   {
    "duration": 181,
    "start_time": "2021-12-08T13:41:29.730Z"
   },
   {
    "duration": 201,
    "start_time": "2021-12-08T13:42:09.632Z"
   },
   {
    "duration": 366,
    "start_time": "2021-12-08T13:42:31.711Z"
   },
   {
    "duration": 219,
    "start_time": "2021-12-08T13:42:44.440Z"
   },
   {
    "duration": 594,
    "start_time": "2021-12-08T13:46:27.355Z"
   },
   {
    "duration": 39,
    "start_time": "2021-12-08T13:46:27.951Z"
   },
   {
    "duration": 20,
    "start_time": "2021-12-08T13:46:27.993Z"
   },
   {
    "duration": 6,
    "start_time": "2021-12-08T13:46:28.015Z"
   },
   {
    "duration": 15,
    "start_time": "2021-12-08T13:46:28.023Z"
   },
   {
    "duration": 12,
    "start_time": "2021-12-08T13:46:28.039Z"
   },
   {
    "duration": 7,
    "start_time": "2021-12-08T13:46:28.053Z"
   },
   {
    "duration": 9,
    "start_time": "2021-12-08T13:46:28.063Z"
   },
   {
    "duration": 38,
    "start_time": "2021-12-08T13:46:28.074Z"
   },
   {
    "duration": 18,
    "start_time": "2021-12-08T13:46:28.114Z"
   },
   {
    "duration": 9,
    "start_time": "2021-12-08T13:46:28.133Z"
   },
   {
    "duration": 36,
    "start_time": "2021-12-08T13:46:28.144Z"
   },
   {
    "duration": 19,
    "start_time": "2021-12-08T13:46:28.181Z"
   },
   {
    "duration": 43,
    "start_time": "2021-12-08T13:46:28.201Z"
   },
   {
    "duration": 15,
    "start_time": "2021-12-08T13:46:28.246Z"
   },
   {
    "duration": 10,
    "start_time": "2021-12-08T13:46:28.263Z"
   },
   {
    "duration": 12,
    "start_time": "2021-12-08T13:46:28.275Z"
   },
   {
    "duration": 9,
    "start_time": "2021-12-08T13:46:28.288Z"
   },
   {
    "duration": 13,
    "start_time": "2021-12-08T13:46:28.299Z"
   },
   {
    "duration": 13,
    "start_time": "2021-12-08T13:46:28.313Z"
   },
   {
    "duration": 13,
    "start_time": "2021-12-08T13:46:28.328Z"
   },
   {
    "duration": 13,
    "start_time": "2021-12-08T13:46:28.343Z"
   },
   {
    "duration": 6,
    "start_time": "2021-12-08T13:46:28.359Z"
   },
   {
    "duration": 18,
    "start_time": "2021-12-08T13:46:28.366Z"
   },
   {
    "duration": 14,
    "start_time": "2021-12-08T13:46:28.406Z"
   },
   {
    "duration": 92,
    "start_time": "2021-12-08T13:46:28.422Z"
   },
   {
    "duration": 189,
    "start_time": "2021-12-08T13:46:28.515Z"
   },
   {
    "duration": 829,
    "start_time": "2021-12-09T12:55:24.303Z"
   },
   {
    "duration": 62,
    "start_time": "2021-12-09T12:55:25.135Z"
   },
   {
    "duration": 41,
    "start_time": "2021-12-09T12:55:25.200Z"
   },
   {
    "duration": 27,
    "start_time": "2021-12-09T12:55:25.244Z"
   },
   {
    "duration": 28,
    "start_time": "2021-12-09T12:55:25.275Z"
   },
   {
    "duration": 27,
    "start_time": "2021-12-09T12:55:25.305Z"
   },
   {
    "duration": 33,
    "start_time": "2021-12-09T12:55:25.334Z"
   },
   {
    "duration": 19,
    "start_time": "2021-12-09T12:55:25.370Z"
   },
   {
    "duration": 17,
    "start_time": "2021-12-09T12:55:25.393Z"
   },
   {
    "duration": 30,
    "start_time": "2021-12-09T12:55:25.413Z"
   },
   {
    "duration": 22,
    "start_time": "2021-12-09T12:55:25.445Z"
   },
   {
    "duration": 29,
    "start_time": "2021-12-09T12:55:25.470Z"
   },
   {
    "duration": 28,
    "start_time": "2021-12-09T12:55:25.502Z"
   },
   {
    "duration": 21,
    "start_time": "2021-12-09T12:55:25.532Z"
   },
   {
    "duration": 32,
    "start_time": "2021-12-09T12:55:25.555Z"
   },
   {
    "duration": 13,
    "start_time": "2021-12-09T12:55:25.591Z"
   },
   {
    "duration": 18,
    "start_time": "2021-12-09T12:55:25.606Z"
   },
   {
    "duration": 45,
    "start_time": "2021-12-09T12:55:25.626Z"
   },
   {
    "duration": 25,
    "start_time": "2021-12-09T12:55:25.675Z"
   },
   {
    "duration": 16,
    "start_time": "2021-12-09T12:55:25.703Z"
   },
   {
    "duration": 45,
    "start_time": "2021-12-09T12:55:25.722Z"
   },
   {
    "duration": 23,
    "start_time": "2021-12-09T12:55:25.770Z"
   },
   {
    "duration": 19,
    "start_time": "2021-12-09T12:55:25.795Z"
   },
   {
    "duration": 77,
    "start_time": "2021-12-09T12:55:25.816Z"
   },
   {
    "duration": 35,
    "start_time": "2021-12-09T12:55:25.895Z"
   },
   {
    "duration": 137,
    "start_time": "2021-12-09T12:55:25.933Z"
   },
   {
    "duration": 368,
    "start_time": "2021-12-09T12:55:26.076Z"
   },
   {
    "duration": 426,
    "start_time": "2021-12-09T13:09:52.948Z"
   },
   {
    "duration": 326,
    "start_time": "2021-12-09T13:10:05.100Z"
   },
   {
    "duration": 364,
    "start_time": "2021-12-09T13:12:27.000Z"
   },
   {
    "duration": 532,
    "start_time": "2021-12-09T13:12:33.758Z"
   },
   {
    "duration": 16,
    "start_time": "2021-12-09T13:12:50.114Z"
   },
   {
    "duration": 368,
    "start_time": "2021-12-09T13:13:41.552Z"
   },
   {
    "duration": 618,
    "start_time": "2021-12-09T13:15:49.470Z"
   },
   {
    "duration": 541,
    "start_time": "2021-12-09T13:16:03.390Z"
   },
   {
    "duration": 18,
    "start_time": "2021-12-09T13:16:10.901Z"
   },
   {
    "duration": 3,
    "start_time": "2021-12-09T13:16:14.634Z"
   },
   {
    "duration": 53,
    "start_time": "2021-12-09T13:16:14.644Z"
   },
   {
    "duration": 21,
    "start_time": "2021-12-09T13:16:14.700Z"
   },
   {
    "duration": 9,
    "start_time": "2021-12-09T13:16:14.724Z"
   },
   {
    "duration": 29,
    "start_time": "2021-12-09T13:16:14.768Z"
   },
   {
    "duration": 13,
    "start_time": "2021-12-09T13:16:14.800Z"
   },
   {
    "duration": 15,
    "start_time": "2021-12-09T13:16:14.816Z"
   },
   {
    "duration": 52,
    "start_time": "2021-12-09T13:16:14.833Z"
   },
   {
    "duration": 15,
    "start_time": "2021-12-09T13:16:14.890Z"
   },
   {
    "duration": 21,
    "start_time": "2021-12-09T13:16:14.909Z"
   },
   {
    "duration": 48,
    "start_time": "2021-12-09T13:16:14.932Z"
   },
   {
    "duration": 27,
    "start_time": "2021-12-09T13:16:14.982Z"
   },
   {
    "duration": 1130,
    "start_time": "2021-12-09T13:16:15.012Z"
   },
   {
    "duration": 30,
    "start_time": "2021-12-09T13:16:16.144Z"
   },
   {
    "duration": 6,
    "start_time": "2021-12-09T13:16:16.177Z"
   },
   {
    "duration": 40,
    "start_time": "2021-12-09T13:16:16.186Z"
   },
   {
    "duration": 54,
    "start_time": "2021-12-09T13:16:16.232Z"
   },
   {
    "duration": 3004,
    "start_time": "2021-12-09T13:16:16.289Z"
   },
   {
    "duration": 191191,
    "start_time": "2021-12-09T13:13:08.105Z"
   },
   {
    "duration": 191171,
    "start_time": "2021-12-09T13:13:08.127Z"
   },
   {
    "duration": 191163,
    "start_time": "2021-12-09T13:13:08.136Z"
   },
   {
    "duration": 191157,
    "start_time": "2021-12-09T13:13:08.144Z"
   },
   {
    "duration": 191151,
    "start_time": "2021-12-09T13:13:08.151Z"
   },
   {
    "duration": 191148,
    "start_time": "2021-12-09T13:13:08.156Z"
   },
   {
    "duration": 191141,
    "start_time": "2021-12-09T13:13:08.164Z"
   },
   {
    "duration": 191134,
    "start_time": "2021-12-09T13:13:08.173Z"
   },
   {
    "duration": 191127,
    "start_time": "2021-12-09T13:13:08.181Z"
   },
   {
    "duration": 191122,
    "start_time": "2021-12-09T13:13:08.187Z"
   },
   {
    "duration": 191118,
    "start_time": "2021-12-09T13:13:08.193Z"
   },
   {
    "duration": 12,
    "start_time": "2021-12-09T13:17:17.826Z"
   },
   {
    "duration": 15,
    "start_time": "2021-12-09T13:18:29.315Z"
   },
   {
    "duration": 42,
    "start_time": "2021-12-09T13:18:32.704Z"
   },
   {
    "duration": 322,
    "start_time": "2021-12-09T13:18:46.658Z"
   },
   {
    "duration": 191284,
    "start_time": "2021-12-09T13:15:58.132Z"
   },
   {
    "duration": 191263,
    "start_time": "2021-12-09T13:15:58.154Z"
   },
   {
    "duration": 37,
    "start_time": "2021-12-09T13:19:10.700Z"
   },
   {
    "duration": 13,
    "start_time": "2021-12-09T13:19:30.853Z"
   },
   {
    "duration": 22,
    "start_time": "2021-12-09T13:19:58.417Z"
   },
   {
    "duration": 334,
    "start_time": "2021-12-09T13:20:30.757Z"
   },
   {
    "duration": 4,
    "start_time": "2021-12-09T13:20:41.214Z"
   },
   {
    "duration": 56,
    "start_time": "2021-12-09T13:20:41.224Z"
   },
   {
    "duration": 24,
    "start_time": "2021-12-09T13:20:41.283Z"
   },
   {
    "duration": 10,
    "start_time": "2021-12-09T13:20:41.311Z"
   },
   {
    "duration": 55,
    "start_time": "2021-12-09T13:20:41.324Z"
   },
   {
    "duration": 13,
    "start_time": "2021-12-09T13:20:41.383Z"
   },
   {
    "duration": 10,
    "start_time": "2021-12-09T13:20:41.399Z"
   },
   {
    "duration": 17,
    "start_time": "2021-12-09T13:20:41.412Z"
   },
   {
    "duration": 49,
    "start_time": "2021-12-09T13:20:41.432Z"
   },
   {
    "duration": 21,
    "start_time": "2021-12-09T13:20:41.485Z"
   },
   {
    "duration": 6,
    "start_time": "2021-12-09T13:20:41.508Z"
   },
   {
    "duration": 55,
    "start_time": "2021-12-09T13:20:41.516Z"
   },
   {
    "duration": 746,
    "start_time": "2021-12-09T13:20:41.573Z"
   },
   {
    "duration": 9,
    "start_time": "2021-12-09T13:20:42.321Z"
   },
   {
    "duration": 53,
    "start_time": "2021-12-09T13:20:42.332Z"
   },
   {
    "duration": 15,
    "start_time": "2021-12-09T13:20:42.387Z"
   },
   {
    "duration": 6,
    "start_time": "2021-12-09T13:20:42.404Z"
   },
   {
    "duration": 54,
    "start_time": "2021-12-09T13:20:42.413Z"
   },
   {
    "duration": 33,
    "start_time": "2021-12-09T13:20:42.472Z"
   },
   {
    "duration": 3199,
    "start_time": "2021-12-09T13:20:42.508Z"
   },
   {
    "duration": 191256,
    "start_time": "2021-12-09T13:17:34.454Z"
   },
   {
    "duration": 191221,
    "start_time": "2021-12-09T13:17:34.491Z"
   },
   {
    "duration": 191201,
    "start_time": "2021-12-09T13:17:34.512Z"
   },
   {
    "duration": 191195,
    "start_time": "2021-12-09T13:17:34.520Z"
   },
   {
    "duration": 191186,
    "start_time": "2021-12-09T13:17:34.531Z"
   },
   {
    "duration": 191180,
    "start_time": "2021-12-09T13:17:34.538Z"
   },
   {
    "duration": 191175,
    "start_time": "2021-12-09T13:17:34.545Z"
   },
   {
    "duration": 191167,
    "start_time": "2021-12-09T13:17:34.554Z"
   },
   {
    "duration": 191164,
    "start_time": "2021-12-09T13:17:34.559Z"
   },
   {
    "duration": 191159,
    "start_time": "2021-12-09T13:17:34.565Z"
   },
   {
    "duration": 191154,
    "start_time": "2021-12-09T13:17:34.571Z"
   },
   {
    "duration": 3,
    "start_time": "2021-12-09T13:21:08.247Z"
   },
   {
    "duration": 55,
    "start_time": "2021-12-09T13:21:08.260Z"
   },
   {
    "duration": 22,
    "start_time": "2021-12-09T13:21:08.317Z"
   },
   {
    "duration": 34,
    "start_time": "2021-12-09T13:21:08.342Z"
   },
   {
    "duration": 20,
    "start_time": "2021-12-09T13:21:08.384Z"
   },
   {
    "duration": 14,
    "start_time": "2021-12-09T13:21:08.407Z"
   },
   {
    "duration": 57,
    "start_time": "2021-12-09T13:21:08.423Z"
   },
   {
    "duration": 16,
    "start_time": "2021-12-09T13:21:08.483Z"
   },
   {
    "duration": 9,
    "start_time": "2021-12-09T13:21:08.501Z"
   },
   {
    "duration": 57,
    "start_time": "2021-12-09T13:21:08.514Z"
   },
   {
    "duration": 10,
    "start_time": "2021-12-09T13:21:08.574Z"
   },
   {
    "duration": 16,
    "start_time": "2021-12-09T13:21:08.587Z"
   },
   {
    "duration": 885,
    "start_time": "2021-12-09T13:21:08.605Z"
   },
   {
    "duration": 9,
    "start_time": "2021-12-09T13:21:09.492Z"
   },
   {
    "duration": 57,
    "start_time": "2021-12-09T13:21:09.504Z"
   },
   {
    "duration": 16,
    "start_time": "2021-12-09T13:21:09.564Z"
   },
   {
    "duration": 13,
    "start_time": "2021-12-09T13:21:09.587Z"
   },
   {
    "duration": 49,
    "start_time": "2021-12-09T13:21:09.602Z"
   },
   {
    "duration": 22,
    "start_time": "2021-12-09T13:21:09.654Z"
   },
   {
    "duration": 3033,
    "start_time": "2021-12-09T13:21:09.679Z"
   },
   {
    "duration": 191218,
    "start_time": "2021-12-09T13:18:01.497Z"
   },
   {
    "duration": 191210,
    "start_time": "2021-12-09T13:18:01.507Z"
   },
   {
    "duration": 191204,
    "start_time": "2021-12-09T13:18:01.515Z"
   },
   {
    "duration": 191199,
    "start_time": "2021-12-09T13:18:01.521Z"
   },
   {
    "duration": 191181,
    "start_time": "2021-12-09T13:18:01.540Z"
   },
   {
    "duration": 191171,
    "start_time": "2021-12-09T13:18:01.552Z"
   },
   {
    "duration": 191167,
    "start_time": "2021-12-09T13:18:01.557Z"
   },
   {
    "duration": 191163,
    "start_time": "2021-12-09T13:18:01.563Z"
   },
   {
    "duration": 191158,
    "start_time": "2021-12-09T13:18:01.570Z"
   },
   {
    "duration": 191154,
    "start_time": "2021-12-09T13:18:01.575Z"
   },
   {
    "duration": 191150,
    "start_time": "2021-12-09T13:18:01.581Z"
   },
   {
    "duration": 8,
    "start_time": "2021-12-09T13:21:43.214Z"
   },
   {
    "duration": 57,
    "start_time": "2021-12-09T13:21:43.225Z"
   },
   {
    "duration": 22,
    "start_time": "2021-12-09T13:21:43.285Z"
   },
   {
    "duration": 16,
    "start_time": "2021-12-09T13:21:43.311Z"
   },
   {
    "duration": 71,
    "start_time": "2021-12-09T13:21:43.329Z"
   },
   {
    "duration": 18,
    "start_time": "2021-12-09T13:21:43.403Z"
   },
   {
    "duration": 27,
    "start_time": "2021-12-09T13:21:43.425Z"
   },
   {
    "duration": 29,
    "start_time": "2021-12-09T13:21:43.456Z"
   },
   {
    "duration": 29,
    "start_time": "2021-12-09T13:21:43.488Z"
   },
   {
    "duration": 27,
    "start_time": "2021-12-09T13:21:43.520Z"
   },
   {
    "duration": 20,
    "start_time": "2021-12-09T13:21:43.550Z"
   },
   {
    "duration": 34,
    "start_time": "2021-12-09T13:21:43.579Z"
   },
   {
    "duration": 613,
    "start_time": "2021-12-09T13:21:43.616Z"
   },
   {
    "duration": 7,
    "start_time": "2021-12-09T13:21:44.232Z"
   },
   {
    "duration": 39,
    "start_time": "2021-12-09T13:21:44.242Z"
   },
   {
    "duration": 16,
    "start_time": "2021-12-09T13:21:44.284Z"
   },
   {
    "duration": 13,
    "start_time": "2021-12-09T13:21:44.303Z"
   },
   {
    "duration": 52,
    "start_time": "2021-12-09T13:21:44.319Z"
   },
   {
    "duration": 29,
    "start_time": "2021-12-09T13:21:44.376Z"
   },
   {
    "duration": 15,
    "start_time": "2021-12-09T13:21:44.408Z"
   },
   {
    "duration": 60,
    "start_time": "2021-12-09T13:21:44.427Z"
   },
   {
    "duration": 10,
    "start_time": "2021-12-09T13:21:44.490Z"
   },
   {
    "duration": 23,
    "start_time": "2021-12-09T13:21:44.502Z"
   },
   {
    "duration": 48,
    "start_time": "2021-12-09T13:21:44.527Z"
   },
   {
    "duration": 20,
    "start_time": "2021-12-09T13:21:44.578Z"
   },
   {
    "duration": 19,
    "start_time": "2021-12-09T13:21:44.601Z"
   },
   {
    "duration": 10,
    "start_time": "2021-12-09T13:21:44.623Z"
   },
   {
    "duration": 56,
    "start_time": "2021-12-09T13:21:44.636Z"
   },
   {
    "duration": 20,
    "start_time": "2021-12-09T13:21:44.695Z"
   },
   {
    "duration": 4,
    "start_time": "2021-12-09T13:21:44.718Z"
   },
   {
    "duration": 394,
    "start_time": "2021-12-09T13:21:44.724Z"
   },
   {
    "duration": 516,
    "start_time": "2021-12-09T13:22:05.497Z"
   },
   {
    "duration": 7,
    "start_time": "2021-12-09T13:22:06.873Z"
   },
   {
    "duration": 1012,
    "start_time": "2021-12-09T13:22:19.126Z"
   },
   {
    "duration": 6,
    "start_time": "2021-12-09T13:22:20.583Z"
   },
   {
    "duration": 4,
    "start_time": "2021-12-09T13:22:26.080Z"
   },
   {
    "duration": 51,
    "start_time": "2021-12-09T13:22:26.086Z"
   },
   {
    "duration": 32,
    "start_time": "2021-12-09T13:22:26.140Z"
   },
   {
    "duration": 13,
    "start_time": "2021-12-09T13:22:26.176Z"
   },
   {
    "duration": 24,
    "start_time": "2021-12-09T13:22:26.192Z"
   },
   {
    "duration": 67,
    "start_time": "2021-12-09T13:22:26.219Z"
   },
   {
    "duration": 11,
    "start_time": "2021-12-09T13:22:26.289Z"
   },
   {
    "duration": 15,
    "start_time": "2021-12-09T13:22:26.303Z"
   },
   {
    "duration": 51,
    "start_time": "2021-12-09T13:22:26.321Z"
   },
   {
    "duration": 22,
    "start_time": "2021-12-09T13:22:26.380Z"
   },
   {
    "duration": 7,
    "start_time": "2021-12-09T13:22:26.405Z"
   },
   {
    "duration": 17,
    "start_time": "2021-12-09T13:22:26.414Z"
   },
   {
    "duration": 613,
    "start_time": "2021-12-09T13:22:26.433Z"
   },
   {
    "duration": 8,
    "start_time": "2021-12-09T13:22:27.048Z"
   },
   {
    "duration": 43,
    "start_time": "2021-12-09T13:22:27.066Z"
   },
   {
    "duration": 15,
    "start_time": "2021-12-09T13:22:27.112Z"
   },
   {
    "duration": 14,
    "start_time": "2021-12-09T13:22:27.129Z"
   },
   {
    "duration": 41,
    "start_time": "2021-12-09T13:22:27.145Z"
   },
   {
    "duration": 33,
    "start_time": "2021-12-09T13:22:27.191Z"
   },
   {
    "duration": 27,
    "start_time": "2021-12-09T13:22:27.228Z"
   },
   {
    "duration": 36,
    "start_time": "2021-12-09T13:22:27.258Z"
   },
   {
    "duration": 15,
    "start_time": "2021-12-09T13:22:27.298Z"
   },
   {
    "duration": 17,
    "start_time": "2021-12-09T13:22:27.315Z"
   },
   {
    "duration": 13,
    "start_time": "2021-12-09T13:22:27.335Z"
   },
   {
    "duration": 22,
    "start_time": "2021-12-09T13:22:27.371Z"
   },
   {
    "duration": 21,
    "start_time": "2021-12-09T13:22:27.395Z"
   },
   {
    "duration": 10,
    "start_time": "2021-12-09T13:22:27.420Z"
   },
   {
    "duration": 69,
    "start_time": "2021-12-09T13:22:27.432Z"
   },
   {
    "duration": 19,
    "start_time": "2021-12-09T13:22:27.504Z"
   },
   {
    "duration": 5,
    "start_time": "2021-12-09T13:22:27.525Z"
   },
   {
    "duration": 367,
    "start_time": "2021-12-09T13:22:27.533Z"
   },
   {
    "duration": 3,
    "start_time": "2021-12-09T13:34:37.313Z"
   },
   {
    "duration": 50,
    "start_time": "2021-12-09T13:34:37.344Z"
   },
   {
    "duration": 22,
    "start_time": "2021-12-09T13:34:37.397Z"
   },
   {
    "duration": 13,
    "start_time": "2021-12-09T13:34:37.423Z"
   },
   {
    "duration": 48,
    "start_time": "2021-12-09T13:34:37.439Z"
   },
   {
    "duration": 17,
    "start_time": "2021-12-09T13:34:37.490Z"
   },
   {
    "duration": 12,
    "start_time": "2021-12-09T13:34:37.510Z"
   },
   {
    "duration": 57,
    "start_time": "2021-12-09T13:34:37.525Z"
   },
   {
    "duration": 10,
    "start_time": "2021-12-09T13:34:37.584Z"
   },
   {
    "duration": 17,
    "start_time": "2021-12-09T13:34:37.598Z"
   },
   {
    "duration": 5,
    "start_time": "2021-12-09T13:34:37.618Z"
   },
   {
    "duration": 57,
    "start_time": "2021-12-09T13:34:37.625Z"
   },
   {
    "duration": 556,
    "start_time": "2021-12-09T13:34:37.685Z"
   },
   {
    "duration": 29,
    "start_time": "2021-12-09T13:34:38.243Z"
   },
   {
    "duration": 7,
    "start_time": "2021-12-09T13:34:38.275Z"
   },
   {
    "duration": 32,
    "start_time": "2021-12-09T13:34:38.285Z"
   },
   {
    "duration": 26,
    "start_time": "2021-12-09T13:34:38.320Z"
   },
   {
    "duration": 37,
    "start_time": "2021-12-09T13:34:38.348Z"
   },
   {
    "duration": 22,
    "start_time": "2021-12-09T13:34:38.388Z"
   },
   {
    "duration": 14,
    "start_time": "2021-12-09T13:34:38.413Z"
   },
   {
    "duration": 44,
    "start_time": "2021-12-09T13:34:38.429Z"
   },
   {
    "duration": 13,
    "start_time": "2021-12-09T13:34:38.477Z"
   },
   {
    "duration": 18,
    "start_time": "2021-12-09T13:34:38.493Z"
   },
   {
    "duration": 19,
    "start_time": "2021-12-09T13:34:38.513Z"
   },
   {
    "duration": 41,
    "start_time": "2021-12-09T13:34:38.534Z"
   },
   {
    "duration": 21,
    "start_time": "2021-12-09T13:34:38.577Z"
   },
   {
    "duration": 4,
    "start_time": "2021-12-09T13:34:38.603Z"
   },
   {
    "duration": 472,
    "start_time": "2021-12-09T13:34:38.610Z"
   },
   {
    "duration": 8000,
    "start_time": "2021-12-09T13:56:14.677Z"
   },
   {
    "duration": 25,
    "start_time": "2021-12-09T13:59:42.440Z"
   },
   {
    "duration": 45,
    "start_time": "2021-12-09T13:59:47.399Z"
   },
   {
    "duration": 22,
    "start_time": "2021-12-09T14:00:03.375Z"
   },
   {
    "duration": 77,
    "start_time": "2021-12-09T14:00:04.553Z"
   },
   {
    "duration": 19,
    "start_time": "2021-12-09T14:00:49.758Z"
   },
   {
    "duration": 18,
    "start_time": "2021-12-09T14:00:50.399Z"
   },
   {
    "duration": 320,
    "start_time": "2021-12-09T14:01:18.361Z"
   },
   {
    "duration": 1342,
    "start_time": "2021-12-09T14:02:17.987Z"
   },
   {
    "duration": 26,
    "start_time": "2021-12-09T14:08:18.889Z"
   },
   {
    "duration": 45,
    "start_time": "2021-12-09T14:08:59.039Z"
   },
   {
    "duration": 31,
    "start_time": "2021-12-09T14:09:08.457Z"
   },
   {
    "duration": 3,
    "start_time": "2021-12-09T14:09:16.118Z"
   },
   {
    "duration": 63,
    "start_time": "2021-12-09T14:09:16.128Z"
   },
   {
    "duration": 22,
    "start_time": "2021-12-09T14:09:16.194Z"
   },
   {
    "duration": 22,
    "start_time": "2021-12-09T14:09:16.219Z"
   },
   {
    "duration": 43,
    "start_time": "2021-12-09T14:09:16.245Z"
   },
   {
    "duration": 35,
    "start_time": "2021-12-09T14:09:16.291Z"
   },
   {
    "duration": 10,
    "start_time": "2021-12-09T14:09:16.328Z"
   },
   {
    "duration": 29,
    "start_time": "2021-12-09T14:09:16.340Z"
   },
   {
    "duration": 13,
    "start_time": "2021-12-09T14:09:16.376Z"
   },
   {
    "duration": 28,
    "start_time": "2021-12-09T14:09:16.394Z"
   },
   {
    "duration": 14,
    "start_time": "2021-12-09T14:09:16.424Z"
   },
   {
    "duration": 47,
    "start_time": "2021-12-09T14:09:16.440Z"
   },
   {
    "duration": 845,
    "start_time": "2021-12-09T14:09:16.490Z"
   },
   {
    "duration": 33,
    "start_time": "2021-12-09T14:09:17.338Z"
   },
   {
    "duration": 15,
    "start_time": "2021-12-09T14:09:17.373Z"
   },
   {
    "duration": 32,
    "start_time": "2021-12-09T14:09:17.391Z"
   },
   {
    "duration": 52,
    "start_time": "2021-12-09T14:09:17.426Z"
   },
   {
    "duration": 14,
    "start_time": "2021-12-09T14:09:17.481Z"
   },
   {
    "duration": 17,
    "start_time": "2021-12-09T14:09:17.498Z"
   },
   {
    "duration": 16,
    "start_time": "2021-12-09T14:09:17.517Z"
   },
   {
    "duration": 27,
    "start_time": "2021-12-09T14:09:17.568Z"
   },
   {
    "duration": 28,
    "start_time": "2021-12-09T14:09:17.599Z"
   },
   {
    "duration": 23,
    "start_time": "2021-12-09T14:09:17.631Z"
   },
   {
    "duration": 34,
    "start_time": "2021-12-09T14:09:17.657Z"
   },
   {
    "duration": 11,
    "start_time": "2021-12-09T14:09:17.694Z"
   },
   {
    "duration": 22,
    "start_time": "2021-12-09T14:09:17.707Z"
   },
   {
    "duration": 5,
    "start_time": "2021-12-09T14:09:17.732Z"
   },
   {
    "duration": 343,
    "start_time": "2021-12-09T14:09:17.771Z"
   },
   {
    "duration": 309,
    "start_time": "2021-12-09T14:09:18.117Z"
   },
   {
    "duration": 3,
    "start_time": "2021-12-09T14:27:23.290Z"
   },
   {
    "duration": 52,
    "start_time": "2021-12-09T14:27:23.295Z"
   },
   {
    "duration": 25,
    "start_time": "2021-12-09T14:27:23.350Z"
   },
   {
    "duration": 13,
    "start_time": "2021-12-09T14:27:23.379Z"
   },
   {
    "duration": 22,
    "start_time": "2021-12-09T14:27:23.395Z"
   },
   {
    "duration": 55,
    "start_time": "2021-12-09T14:27:23.420Z"
   },
   {
    "duration": 12,
    "start_time": "2021-12-09T14:27:23.481Z"
   },
   {
    "duration": 16,
    "start_time": "2021-12-09T14:27:23.496Z"
   },
   {
    "duration": 52,
    "start_time": "2021-12-09T14:27:23.515Z"
   },
   {
    "duration": 18,
    "start_time": "2021-12-09T14:27:23.570Z"
   },
   {
    "duration": 6,
    "start_time": "2021-12-09T14:27:23.590Z"
   },
   {
    "duration": 18,
    "start_time": "2021-12-09T14:27:23.598Z"
   },
   {
    "duration": 548,
    "start_time": "2021-12-09T14:27:23.618Z"
   },
   {
    "duration": 14,
    "start_time": "2021-12-09T14:27:24.168Z"
   },
   {
    "duration": 5,
    "start_time": "2021-12-09T14:27:24.184Z"
   },
   {
    "duration": 24,
    "start_time": "2021-12-09T14:27:24.191Z"
   },
   {
    "duration": 34,
    "start_time": "2021-12-09T14:27:24.217Z"
   },
   {
    "duration": 11,
    "start_time": "2021-12-09T14:27:24.267Z"
   },
   {
    "duration": 15,
    "start_time": "2021-12-09T14:27:24.282Z"
   },
   {
    "duration": 10,
    "start_time": "2021-12-09T14:27:24.300Z"
   },
   {
    "duration": 57,
    "start_time": "2021-12-09T14:27:24.312Z"
   },
   {
    "duration": 11,
    "start_time": "2021-12-09T14:27:24.371Z"
   },
   {
    "duration": 26,
    "start_time": "2021-12-09T14:27:24.385Z"
   },
   {
    "duration": 19,
    "start_time": "2021-12-09T14:27:24.413Z"
   },
   {
    "duration": 36,
    "start_time": "2021-12-09T14:27:24.434Z"
   },
   {
    "duration": 20,
    "start_time": "2021-12-09T14:27:24.473Z"
   },
   {
    "duration": 9,
    "start_time": "2021-12-09T14:27:24.496Z"
   },
   {
    "duration": 338,
    "start_time": "2021-12-09T14:27:24.507Z"
   },
   {
    "duration": 326,
    "start_time": "2021-12-09T14:27:24.847Z"
   },
   {
    "duration": 795,
    "start_time": "2021-12-09T14:27:43.648Z"
   },
   {
    "duration": 51,
    "start_time": "2021-12-09T14:27:44.446Z"
   },
   {
    "duration": 36,
    "start_time": "2021-12-09T14:27:44.501Z"
   },
   {
    "duration": 31,
    "start_time": "2021-12-09T14:27:44.541Z"
   },
   {
    "duration": 22,
    "start_time": "2021-12-09T14:27:44.574Z"
   },
   {
    "duration": 18,
    "start_time": "2021-12-09T14:27:44.599Z"
   },
   {
    "duration": 11,
    "start_time": "2021-12-09T14:27:44.620Z"
   },
   {
    "duration": 14,
    "start_time": "2021-12-09T14:27:44.667Z"
   },
   {
    "duration": 11,
    "start_time": "2021-12-09T14:27:44.684Z"
   },
   {
    "duration": 21,
    "start_time": "2021-12-09T14:27:44.698Z"
   },
   {
    "duration": 6,
    "start_time": "2021-12-09T14:27:44.722Z"
   },
   {
    "duration": 46,
    "start_time": "2021-12-09T14:27:44.731Z"
   },
   {
    "duration": 556,
    "start_time": "2021-12-09T14:27:44.780Z"
   },
   {
    "duration": 32,
    "start_time": "2021-12-09T14:27:45.339Z"
   },
   {
    "duration": 12,
    "start_time": "2021-12-09T14:27:45.374Z"
   },
   {
    "duration": 21,
    "start_time": "2021-12-09T14:27:45.388Z"
   },
   {
    "duration": 25,
    "start_time": "2021-12-09T14:27:45.412Z"
   },
   {
    "duration": 38,
    "start_time": "2021-12-09T14:27:45.439Z"
   },
   {
    "duration": 14,
    "start_time": "2021-12-09T14:27:45.480Z"
   },
   {
    "duration": 11,
    "start_time": "2021-12-09T14:27:45.497Z"
   },
   {
    "duration": 21,
    "start_time": "2021-12-09T14:27:45.511Z"
   },
   {
    "duration": 13,
    "start_time": "2021-12-09T14:27:45.568Z"
   },
   {
    "duration": 23,
    "start_time": "2021-12-09T14:27:45.585Z"
   },
   {
    "duration": 19,
    "start_time": "2021-12-09T14:27:45.611Z"
   },
   {
    "duration": 39,
    "start_time": "2021-12-09T14:27:45.633Z"
   },
   {
    "duration": 34,
    "start_time": "2021-12-09T14:27:45.675Z"
   },
   {
    "duration": 122,
    "start_time": "2021-12-09T14:27:45.712Z"
   },
   {
    "duration": 325,
    "start_time": "2021-12-09T14:27:45.836Z"
   },
   {
    "duration": 413,
    "start_time": "2021-12-09T14:27:46.167Z"
   },
   {
    "duration": 919,
    "start_time": "2021-12-09T20:03:00.547Z"
   },
   {
    "duration": 55,
    "start_time": "2021-12-09T20:03:01.469Z"
   },
   {
    "duration": 30,
    "start_time": "2021-12-09T20:03:01.527Z"
   },
   {
    "duration": 28,
    "start_time": "2021-12-09T20:03:01.569Z"
   },
   {
    "duration": 43,
    "start_time": "2021-12-09T20:03:01.599Z"
   },
   {
    "duration": 60,
    "start_time": "2021-12-09T20:03:01.645Z"
   },
   {
    "duration": 21,
    "start_time": "2021-12-09T20:03:01.708Z"
   },
   {
    "duration": 33,
    "start_time": "2021-12-09T20:03:01.734Z"
   },
   {
    "duration": 36,
    "start_time": "2021-12-09T20:03:01.771Z"
   },
   {
    "duration": 38,
    "start_time": "2021-12-09T20:03:01.810Z"
   },
   {
    "duration": 9,
    "start_time": "2021-12-09T20:03:01.850Z"
   },
   {
    "duration": 39,
    "start_time": "2021-12-09T20:03:01.861Z"
   },
   {
    "duration": 830,
    "start_time": "2021-12-09T20:03:01.903Z"
   },
   {
    "duration": 19,
    "start_time": "2021-12-09T20:03:02.736Z"
   },
   {
    "duration": 22,
    "start_time": "2021-12-09T20:03:02.768Z"
   },
   {
    "duration": 43,
    "start_time": "2021-12-09T20:03:02.793Z"
   },
   {
    "duration": 51,
    "start_time": "2021-12-09T20:03:02.839Z"
   },
   {
    "duration": 19,
    "start_time": "2021-12-09T20:03:02.893Z"
   },
   {
    "duration": 29,
    "start_time": "2021-12-09T20:03:02.914Z"
   },
   {
    "duration": 22,
    "start_time": "2021-12-09T20:03:02.946Z"
   },
   {
    "duration": 46,
    "start_time": "2021-12-09T20:03:02.971Z"
   },
   {
    "duration": 41,
    "start_time": "2021-12-09T20:03:03.020Z"
   },
   {
    "duration": 42,
    "start_time": "2021-12-09T20:03:03.067Z"
   },
   {
    "duration": 38,
    "start_time": "2021-12-09T20:03:03.112Z"
   },
   {
    "duration": 34,
    "start_time": "2021-12-09T20:03:03.153Z"
   },
   {
    "duration": 52,
    "start_time": "2021-12-09T20:03:03.190Z"
   },
   {
    "duration": 154,
    "start_time": "2021-12-09T20:03:03.244Z"
   },
   {
    "duration": 353,
    "start_time": "2021-12-09T20:03:03.401Z"
   },
   {
    "duration": 510,
    "start_time": "2021-12-09T20:03:03.757Z"
   },
   {
    "duration": 11,
    "start_time": "2021-12-09T20:04:08.946Z"
   },
   {
    "duration": 374,
    "start_time": "2021-12-09T20:05:48.492Z"
   },
   {
    "duration": 16,
    "start_time": "2021-12-09T20:06:07.739Z"
   },
   {
    "duration": 25,
    "start_time": "2021-12-09T20:07:47.683Z"
   },
   {
    "duration": 14,
    "start_time": "2021-12-09T20:08:51.287Z"
   },
   {
    "duration": 10,
    "start_time": "2021-12-09T20:09:01.819Z"
   },
   {
    "duration": 10,
    "start_time": "2021-12-09T20:09:13.027Z"
   },
   {
    "duration": 4,
    "start_time": "2021-12-09T20:10:17.436Z"
   },
   {
    "duration": 11,
    "start_time": "2021-12-09T20:10:24.820Z"
   },
   {
    "duration": 339,
    "start_time": "2021-12-09T20:11:12.796Z"
   },
   {
    "duration": 334,
    "start_time": "2021-12-09T20:11:28.877Z"
   },
   {
    "duration": 4,
    "start_time": "2021-12-09T20:13:12.488Z"
   },
   {
    "duration": 27,
    "start_time": "2021-12-09T20:13:19.738Z"
   },
   {
    "duration": 8910,
    "start_time": "2021-12-09T20:14:05.157Z"
   },
   {
    "duration": 1231,
    "start_time": "2021-12-09T20:14:31.291Z"
   },
   {
    "duration": 840,
    "start_time": "2021-12-10T10:16:32.477Z"
   },
   {
    "duration": 49,
    "start_time": "2021-12-10T10:16:33.320Z"
   },
   {
    "duration": 33,
    "start_time": "2021-12-10T10:16:33.371Z"
   },
   {
    "duration": 8,
    "start_time": "2021-12-10T10:16:33.417Z"
   },
   {
    "duration": 19,
    "start_time": "2021-12-10T10:16:33.427Z"
   },
   {
    "duration": 16,
    "start_time": "2021-12-10T10:16:33.448Z"
   },
   {
    "duration": 12,
    "start_time": "2021-12-10T10:16:33.466Z"
   },
   {
    "duration": 47,
    "start_time": "2021-12-10T10:16:33.483Z"
   },
   {
    "duration": 10,
    "start_time": "2021-12-10T10:16:33.533Z"
   },
   {
    "duration": 17,
    "start_time": "2021-12-10T10:16:33.546Z"
   },
   {
    "duration": 5,
    "start_time": "2021-12-10T10:16:33.566Z"
   },
   {
    "duration": 56,
    "start_time": "2021-12-10T10:16:33.573Z"
   },
   {
    "duration": 495,
    "start_time": "2021-12-10T10:16:33.632Z"
   },
   {
    "duration": 16,
    "start_time": "2021-12-10T10:16:34.130Z"
   },
   {
    "duration": 12,
    "start_time": "2021-12-10T10:16:34.148Z"
   },
   {
    "duration": 27,
    "start_time": "2021-12-10T10:16:34.162Z"
   },
   {
    "duration": 42,
    "start_time": "2021-12-10T10:16:34.192Z"
   },
   {
    "duration": 15,
    "start_time": "2021-12-10T10:16:34.236Z"
   },
   {
    "duration": 10,
    "start_time": "2021-12-10T10:16:34.253Z"
   },
   {
    "duration": 5,
    "start_time": "2021-12-10T10:16:34.265Z"
   },
   {
    "duration": 6,
    "start_time": "2021-12-10T10:16:34.272Z"
   },
   {
    "duration": 454,
    "start_time": "2021-12-10T10:16:34.280Z"
   },
   {
    "duration": 906,
    "start_time": "2021-12-10T10:16:33.831Z"
   },
   {
    "duration": 902,
    "start_time": "2021-12-10T10:16:33.837Z"
   },
   {
    "duration": 899,
    "start_time": "2021-12-10T10:16:33.842Z"
   },
   {
    "duration": 870,
    "start_time": "2021-12-10T10:16:33.873Z"
   },
   {
    "duration": 865,
    "start_time": "2021-12-10T10:16:33.880Z"
   },
   {
    "duration": 862,
    "start_time": "2021-12-10T10:16:33.884Z"
   },
   {
    "duration": 855,
    "start_time": "2021-12-10T10:16:33.893Z"
   },
   {
    "duration": 851,
    "start_time": "2021-12-10T10:16:33.898Z"
   },
   {
    "duration": 848,
    "start_time": "2021-12-10T10:16:33.904Z"
   },
   {
    "duration": 845,
    "start_time": "2021-12-10T10:16:33.909Z"
   },
   {
    "duration": 837,
    "start_time": "2021-12-10T10:16:33.918Z"
   },
   {
    "duration": 833,
    "start_time": "2021-12-10T10:16:33.923Z"
   },
   {
    "duration": 829,
    "start_time": "2021-12-10T10:16:33.928Z"
   },
   {
    "duration": 3,
    "start_time": "2021-12-10T10:16:53.331Z"
   },
   {
    "duration": 48,
    "start_time": "2021-12-10T10:16:53.340Z"
   },
   {
    "duration": 21,
    "start_time": "2021-12-10T10:16:53.390Z"
   },
   {
    "duration": 9,
    "start_time": "2021-12-10T10:16:53.413Z"
   },
   {
    "duration": 22,
    "start_time": "2021-12-10T10:16:53.425Z"
   },
   {
    "duration": 17,
    "start_time": "2021-12-10T10:16:53.450Z"
   },
   {
    "duration": 11,
    "start_time": "2021-12-10T10:16:53.518Z"
   },
   {
    "duration": 13,
    "start_time": "2021-12-10T10:16:53.532Z"
   },
   {
    "duration": 13,
    "start_time": "2021-12-10T10:16:53.550Z"
   },
   {
    "duration": 59,
    "start_time": "2021-12-10T10:16:53.566Z"
   },
   {
    "duration": 6,
    "start_time": "2021-12-10T10:16:53.629Z"
   },
   {
    "duration": 19,
    "start_time": "2021-12-10T10:16:53.637Z"
   },
   {
    "duration": 569,
    "start_time": "2021-12-10T10:16:53.659Z"
   },
   {
    "duration": 15,
    "start_time": "2021-12-10T10:16:54.230Z"
   },
   {
    "duration": 27,
    "start_time": "2021-12-10T10:16:54.248Z"
   },
   {
    "duration": 44,
    "start_time": "2021-12-10T10:16:54.277Z"
   },
   {
    "duration": 33,
    "start_time": "2021-12-10T10:16:54.323Z"
   },
   {
    "duration": 15,
    "start_time": "2021-12-10T10:16:54.358Z"
   },
   {
    "duration": 13,
    "start_time": "2021-12-10T10:16:54.376Z"
   },
   {
    "duration": 25,
    "start_time": "2021-12-10T10:16:54.392Z"
   },
   {
    "duration": 11,
    "start_time": "2021-12-10T10:16:54.420Z"
   },
   {
    "duration": 6,
    "start_time": "2021-12-10T10:16:54.434Z"
   },
   {
    "duration": 314,
    "start_time": "2021-12-10T10:16:54.442Z"
   },
   {
    "duration": 1212,
    "start_time": "2021-12-10T10:16:53.549Z"
   },
   {
    "duration": 1160,
    "start_time": "2021-12-10T10:16:53.602Z"
   },
   {
    "duration": 1142,
    "start_time": "2021-12-10T10:16:53.622Z"
   },
   {
    "duration": 1104,
    "start_time": "2021-12-10T10:16:53.663Z"
   },
   {
    "duration": 1086,
    "start_time": "2021-12-10T10:16:53.682Z"
   },
   {
    "duration": 1080,
    "start_time": "2021-12-10T10:16:53.691Z"
   },
   {
    "duration": 1073,
    "start_time": "2021-12-10T10:16:53.700Z"
   },
   {
    "duration": 1069,
    "start_time": "2021-12-10T10:16:53.706Z"
   },
   {
    "duration": 1060,
    "start_time": "2021-12-10T10:16:53.717Z"
   },
   {
    "duration": 1055,
    "start_time": "2021-12-10T10:16:53.724Z"
   },
   {
    "duration": 1050,
    "start_time": "2021-12-10T10:16:53.731Z"
   },
   {
    "duration": 1042,
    "start_time": "2021-12-10T10:16:53.741Z"
   },
   {
    "duration": 4,
    "start_time": "2021-12-10T10:17:03.202Z"
   },
   {
    "duration": 58,
    "start_time": "2021-12-10T10:17:03.210Z"
   },
   {
    "duration": 23,
    "start_time": "2021-12-10T10:17:03.271Z"
   },
   {
    "duration": 26,
    "start_time": "2021-12-10T10:17:03.297Z"
   },
   {
    "duration": 33,
    "start_time": "2021-12-10T10:17:03.327Z"
   },
   {
    "duration": 19,
    "start_time": "2021-12-10T10:17:03.363Z"
   },
   {
    "duration": 40,
    "start_time": "2021-12-10T10:17:03.385Z"
   },
   {
    "duration": 16,
    "start_time": "2021-12-10T10:17:03.428Z"
   },
   {
    "duration": 10,
    "start_time": "2021-12-10T10:17:03.448Z"
   },
   {
    "duration": 57,
    "start_time": "2021-12-10T10:17:03.461Z"
   },
   {
    "duration": 7,
    "start_time": "2021-12-10T10:17:03.521Z"
   },
   {
    "duration": 28,
    "start_time": "2021-12-10T10:17:03.531Z"
   },
   {
    "duration": 542,
    "start_time": "2021-12-10T10:17:03.562Z"
   },
   {
    "duration": 20,
    "start_time": "2021-12-10T10:17:04.106Z"
   },
   {
    "duration": 6,
    "start_time": "2021-12-10T10:17:04.128Z"
   },
   {
    "duration": 23,
    "start_time": "2021-12-10T10:17:04.136Z"
   },
   {
    "duration": 20,
    "start_time": "2021-12-10T10:17:04.161Z"
   },
   {
    "duration": 12,
    "start_time": "2021-12-10T10:17:04.216Z"
   },
   {
    "duration": 9,
    "start_time": "2021-12-10T10:17:04.230Z"
   },
   {
    "duration": 3,
    "start_time": "2021-12-10T10:17:04.241Z"
   },
   {
    "duration": 6,
    "start_time": "2021-12-10T10:17:04.246Z"
   },
   {
    "duration": 6,
    "start_time": "2021-12-10T10:17:04.254Z"
   },
   {
    "duration": 5,
    "start_time": "2021-12-10T10:17:04.262Z"
   },
   {
    "duration": 56,
    "start_time": "2021-12-10T10:17:04.272Z"
   },
   {
    "duration": 3,
    "start_time": "2021-12-10T10:17:04.331Z"
   },
   {
    "duration": 6,
    "start_time": "2021-12-10T10:17:04.337Z"
   },
   {
    "duration": 23,
    "start_time": "2021-12-10T10:17:04.346Z"
   },
   {
    "duration": 3,
    "start_time": "2021-12-10T10:17:04.371Z"
   },
   {
    "duration": 11,
    "start_time": "2021-12-10T10:17:04.377Z"
   },
   {
    "duration": 19,
    "start_time": "2021-12-10T10:17:04.418Z"
   },
   {
    "duration": 3,
    "start_time": "2021-12-10T10:17:04.440Z"
   },
   {
    "duration": 6,
    "start_time": "2021-12-10T10:17:04.446Z"
   },
   {
    "duration": 130,
    "start_time": "2021-12-10T10:17:04.454Z"
   },
   {
    "duration": 317,
    "start_time": "2021-12-10T10:17:04.587Z"
   },
   {
    "duration": 1261,
    "start_time": "2021-12-10T10:17:03.645Z"
   },
   {
    "duration": 7,
    "start_time": "2021-12-10T10:18:09.320Z"
   },
   {
    "duration": 7,
    "start_time": "2021-12-10T10:18:20.167Z"
   },
   {
    "duration": 12,
    "start_time": "2021-12-10T10:18:42.380Z"
   },
   {
    "duration": 310,
    "start_time": "2021-12-10T10:20:12.064Z"
   },
   {
    "duration": 19,
    "start_time": "2021-12-10T10:21:16.788Z"
   },
   {
    "duration": 589,
    "start_time": "2021-12-10T10:21:25.777Z"
   },
   {
    "duration": 20,
    "start_time": "2021-12-10T10:24:24.135Z"
   },
   {
    "duration": 428,
    "start_time": "2021-12-10T10:26:48.159Z"
   },
   {
    "duration": 15,
    "start_time": "2021-12-10T10:27:14.969Z"
   },
   {
    "duration": 13,
    "start_time": "2021-12-10T10:27:46.687Z"
   },
   {
    "duration": 34,
    "start_time": "2021-12-10T10:30:30.350Z"
   },
   {
    "duration": 12,
    "start_time": "2021-12-10T10:30:59.727Z"
   },
   {
    "duration": 37,
    "start_time": "2021-12-10T10:31:54.274Z"
   },
   {
    "duration": 564,
    "start_time": "2021-12-10T10:39:39.669Z"
   },
   {
    "duration": 549,
    "start_time": "2021-12-10T10:39:54.557Z"
   },
   {
    "duration": 1361,
    "start_time": "2021-12-10T10:40:42.638Z"
   },
   {
    "duration": 1671,
    "start_time": "2021-12-10T10:42:14.432Z"
   },
   {
    "duration": 3,
    "start_time": "2021-12-10T10:47:57.782Z"
   },
   {
    "duration": 48,
    "start_time": "2021-12-10T10:47:57.791Z"
   },
   {
    "duration": 21,
    "start_time": "2021-12-10T10:47:57.842Z"
   },
   {
    "duration": 12,
    "start_time": "2021-12-10T10:47:57.866Z"
   },
   {
    "duration": 40,
    "start_time": "2021-12-10T10:47:57.881Z"
   },
   {
    "duration": 19,
    "start_time": "2021-12-10T10:47:57.924Z"
   },
   {
    "duration": 11,
    "start_time": "2021-12-10T10:47:57.947Z"
   },
   {
    "duration": 13,
    "start_time": "2021-12-10T10:47:57.961Z"
   },
   {
    "duration": 42,
    "start_time": "2021-12-10T10:47:57.979Z"
   },
   {
    "duration": 18,
    "start_time": "2021-12-10T10:47:58.024Z"
   },
   {
    "duration": 5,
    "start_time": "2021-12-10T10:47:58.045Z"
   },
   {
    "duration": 18,
    "start_time": "2021-12-10T10:47:58.053Z"
   },
   {
    "duration": 579,
    "start_time": "2021-12-10T10:47:58.074Z"
   },
   {
    "duration": 14,
    "start_time": "2021-12-10T10:47:58.655Z"
   },
   {
    "duration": 6,
    "start_time": "2021-12-10T10:47:58.672Z"
   },
   {
    "duration": 42,
    "start_time": "2021-12-10T10:47:58.681Z"
   },
   {
    "duration": 29,
    "start_time": "2021-12-10T10:47:58.726Z"
   },
   {
    "duration": 17,
    "start_time": "2021-12-10T10:47:58.758Z"
   },
   {
    "duration": 13,
    "start_time": "2021-12-10T10:47:58.778Z"
   },
   {
    "duration": 28,
    "start_time": "2021-12-10T10:47:58.793Z"
   },
   {
    "duration": 7,
    "start_time": "2021-12-10T10:47:58.823Z"
   },
   {
    "duration": 10,
    "start_time": "2021-12-10T10:47:58.834Z"
   },
   {
    "duration": 3,
    "start_time": "2021-12-10T10:47:58.847Z"
   },
   {
    "duration": 5,
    "start_time": "2021-12-10T10:47:58.852Z"
   },
   {
    "duration": 10,
    "start_time": "2021-12-10T10:47:58.859Z"
   },
   {
    "duration": 56,
    "start_time": "2021-12-10T10:47:58.872Z"
   },
   {
    "duration": 13,
    "start_time": "2021-12-10T10:47:58.930Z"
   },
   {
    "duration": 38,
    "start_time": "2021-12-10T10:47:58.946Z"
   },
   {
    "duration": 33,
    "start_time": "2021-12-10T10:47:58.987Z"
   },
   {
    "duration": 7,
    "start_time": "2021-12-10T10:47:59.022Z"
   },
   {
    "duration": 6,
    "start_time": "2021-12-10T10:47:59.031Z"
   },
   {
    "duration": 5,
    "start_time": "2021-12-10T10:47:59.039Z"
   },
   {
    "duration": 5,
    "start_time": "2021-12-10T10:47:59.046Z"
   },
   {
    "duration": 4,
    "start_time": "2021-12-10T10:47:59.054Z"
   },
   {
    "duration": 4,
    "start_time": "2021-12-10T10:47:59.061Z"
   },
   {
    "duration": 4,
    "start_time": "2021-12-10T10:47:59.117Z"
   },
   {
    "duration": 6,
    "start_time": "2021-12-10T10:47:59.124Z"
   },
   {
    "duration": 5,
    "start_time": "2021-12-10T10:47:59.132Z"
   },
   {
    "duration": 1674,
    "start_time": "2021-12-10T10:47:59.140Z"
   },
   {
    "duration": 701,
    "start_time": "2021-12-10T10:48:00.818Z"
   },
   {
    "duration": 791,
    "start_time": "2021-12-10T10:52:26.443Z"
   },
   {
    "duration": 49,
    "start_time": "2021-12-10T10:52:27.236Z"
   },
   {
    "duration": 36,
    "start_time": "2021-12-10T10:52:27.289Z"
   },
   {
    "duration": 10,
    "start_time": "2021-12-10T10:52:27.329Z"
   },
   {
    "duration": 20,
    "start_time": "2021-12-10T10:52:27.341Z"
   },
   {
    "duration": 56,
    "start_time": "2021-12-10T10:52:27.364Z"
   },
   {
    "duration": 38,
    "start_time": "2021-12-10T10:52:27.423Z"
   },
   {
    "duration": 15,
    "start_time": "2021-12-10T10:52:27.468Z"
   },
   {
    "duration": 12,
    "start_time": "2021-12-10T10:52:27.487Z"
   },
   {
    "duration": 19,
    "start_time": "2021-12-10T10:52:27.517Z"
   },
   {
    "duration": 7,
    "start_time": "2021-12-10T10:52:27.539Z"
   },
   {
    "duration": 31,
    "start_time": "2021-12-10T10:52:27.549Z"
   },
   {
    "duration": 512,
    "start_time": "2021-12-10T10:52:27.582Z"
   },
   {
    "duration": 23,
    "start_time": "2021-12-10T10:52:28.097Z"
   },
   {
    "duration": 8,
    "start_time": "2021-12-10T10:52:28.122Z"
   },
   {
    "duration": 21,
    "start_time": "2021-12-10T10:52:28.133Z"
   },
   {
    "duration": 34,
    "start_time": "2021-12-10T10:52:28.157Z"
   },
   {
    "duration": 11,
    "start_time": "2021-12-10T10:52:28.217Z"
   },
   {
    "duration": 13,
    "start_time": "2021-12-10T10:52:28.231Z"
   },
   {
    "duration": 7,
    "start_time": "2021-12-10T10:52:28.247Z"
   },
   {
    "duration": 9,
    "start_time": "2021-12-10T10:52:28.257Z"
   },
   {
    "duration": 11,
    "start_time": "2021-12-10T10:52:28.317Z"
   },
   {
    "duration": 16,
    "start_time": "2021-12-10T10:52:28.334Z"
   },
   {
    "duration": 13,
    "start_time": "2021-12-10T10:52:28.352Z"
   },
   {
    "duration": 73,
    "start_time": "2021-12-10T10:52:28.368Z"
   },
   {
    "duration": 120,
    "start_time": "2021-12-10T10:52:28.443Z"
   },
   {
    "duration": 1766,
    "start_time": "2021-12-10T10:52:28.565Z"
   },
   {
    "duration": 615,
    "start_time": "2021-12-10T10:52:30.334Z"
   },
   {
    "duration": 38,
    "start_time": "2021-12-10T11:10:22.407Z"
   },
   {
    "duration": 10,
    "start_time": "2021-12-10T11:11:16.965Z"
   },
   {
    "duration": 32,
    "start_time": "2021-12-10T11:11:23.771Z"
   },
   {
    "duration": 357,
    "start_time": "2021-12-10T11:13:29.075Z"
   },
   {
    "duration": 107,
    "start_time": "2021-12-10T11:15:26.612Z"
   },
   {
    "duration": 126,
    "start_time": "2021-12-10T11:15:41.474Z"
   },
   {
    "duration": 34,
    "start_time": "2021-12-10T11:15:51.147Z"
   },
   {
    "duration": 36,
    "start_time": "2021-12-10T11:15:59.776Z"
   },
   {
    "duration": 357,
    "start_time": "2021-12-10T11:16:10.775Z"
   },
   {
    "duration": 360,
    "start_time": "2021-12-10T11:16:26.889Z"
   },
   {
    "duration": 35,
    "start_time": "2021-12-10T11:17:18.849Z"
   },
   {
    "duration": 7,
    "start_time": "2021-12-10T11:17:39.343Z"
   },
   {
    "duration": 348,
    "start_time": "2021-12-10T11:17:50.887Z"
   },
   {
    "duration": 351,
    "start_time": "2021-12-10T11:18:22.653Z"
   },
   {
    "duration": 661,
    "start_time": "2021-12-10T11:19:17.142Z"
   },
   {
    "duration": 433,
    "start_time": "2021-12-10T11:19:35.193Z"
   },
   {
    "duration": 503,
    "start_time": "2021-12-10T11:20:17.221Z"
   },
   {
    "duration": 515,
    "start_time": "2021-12-10T11:20:26.383Z"
   },
   {
    "duration": 396,
    "start_time": "2021-12-10T11:21:26.942Z"
   },
   {
    "duration": 2004,
    "start_time": "2021-12-10T11:23:03.871Z"
   },
   {
    "duration": 312,
    "start_time": "2021-12-10T11:23:44.111Z"
   },
   {
    "duration": 321,
    "start_time": "2021-12-10T11:23:59.464Z"
   },
   {
    "duration": 298,
    "start_time": "2021-12-10T11:25:01.445Z"
   },
   {
    "duration": 390,
    "start_time": "2021-12-10T11:25:54.783Z"
   },
   {
    "duration": 419,
    "start_time": "2021-12-10T11:25:59.377Z"
   },
   {
    "duration": 341,
    "start_time": "2021-12-10T11:26:07.646Z"
   },
   {
    "duration": 337,
    "start_time": "2021-12-10T11:26:22.896Z"
   },
   {
    "duration": 692,
    "start_time": "2021-12-10T11:27:22.995Z"
   },
   {
    "duration": 899,
    "start_time": "2021-12-10T11:27:32.812Z"
   },
   {
    "duration": 1009,
    "start_time": "2021-12-10T11:28:26.000Z"
   },
   {
    "duration": 324,
    "start_time": "2021-12-10T11:28:42.490Z"
   },
   {
    "duration": 560,
    "start_time": "2021-12-10T11:29:10.422Z"
   },
   {
    "duration": 396,
    "start_time": "2021-12-10T11:29:48.494Z"
   },
   {
    "duration": 357,
    "start_time": "2021-12-10T11:34:08.164Z"
   },
   {
    "duration": 433,
    "start_time": "2021-12-10T11:34:44.436Z"
   },
   {
    "duration": 426,
    "start_time": "2021-12-10T11:34:45.182Z"
   },
   {
    "duration": 1296,
    "start_time": "2021-12-10T11:36:03.492Z"
   },
   {
    "duration": 342,
    "start_time": "2021-12-10T11:36:42.334Z"
   },
   {
    "duration": 8726,
    "start_time": "2021-12-10T11:36:52.949Z"
   },
   {
    "duration": 588,
    "start_time": "2021-12-10T11:37:38.129Z"
   },
   {
    "duration": 43,
    "start_time": "2021-12-10T11:38:48.320Z"
   },
   {
    "duration": 3,
    "start_time": "2021-12-10T11:39:24.091Z"
   },
   {
    "duration": 757,
    "start_time": "2021-12-10T11:40:32.355Z"
   },
   {
    "duration": 50,
    "start_time": "2021-12-10T11:40:33.114Z"
   },
   {
    "duration": 31,
    "start_time": "2021-12-10T11:40:33.167Z"
   },
   {
    "duration": 21,
    "start_time": "2021-12-10T11:40:33.201Z"
   },
   {
    "duration": 21,
    "start_time": "2021-12-10T11:40:33.225Z"
   },
   {
    "duration": 15,
    "start_time": "2021-12-10T11:40:33.248Z"
   },
   {
    "duration": 10,
    "start_time": "2021-12-10T11:40:33.266Z"
   },
   {
    "duration": 46,
    "start_time": "2021-12-10T11:40:33.279Z"
   },
   {
    "duration": 9,
    "start_time": "2021-12-10T11:40:33.329Z"
   },
   {
    "duration": 20,
    "start_time": "2021-12-10T11:40:33.341Z"
   },
   {
    "duration": 5,
    "start_time": "2021-12-10T11:40:33.364Z"
   },
   {
    "duration": 54,
    "start_time": "2021-12-10T11:40:33.372Z"
   },
   {
    "duration": 520,
    "start_time": "2021-12-10T11:40:33.428Z"
   },
   {
    "duration": 14,
    "start_time": "2021-12-10T11:40:33.950Z"
   },
   {
    "duration": 13,
    "start_time": "2021-12-10T11:40:33.966Z"
   },
   {
    "duration": 38,
    "start_time": "2021-12-10T11:40:33.981Z"
   },
   {
    "duration": 24,
    "start_time": "2021-12-10T11:40:34.021Z"
   },
   {
    "duration": 12,
    "start_time": "2021-12-10T11:40:34.048Z"
   },
   {
    "duration": 11,
    "start_time": "2021-12-10T11:40:34.062Z"
   },
   {
    "duration": 43,
    "start_time": "2021-12-10T11:40:34.076Z"
   },
   {
    "duration": 7,
    "start_time": "2021-12-10T11:40:34.122Z"
   },
   {
    "duration": 21,
    "start_time": "2021-12-10T11:40:34.132Z"
   },
   {
    "duration": 21,
    "start_time": "2021-12-10T11:40:34.155Z"
   },
   {
    "duration": 39,
    "start_time": "2021-12-10T11:40:34.179Z"
   },
   {
    "duration": 40,
    "start_time": "2021-12-10T11:40:34.221Z"
   },
   {
    "duration": 148,
    "start_time": "2021-12-10T11:40:34.265Z"
   },
   {
    "duration": 1791,
    "start_time": "2021-12-10T11:40:34.419Z"
   },
   {
    "duration": 534,
    "start_time": "2021-12-10T11:40:36.218Z"
   },
   {
    "duration": 11,
    "start_time": "2021-12-10T11:40:36.755Z"
   },
   {
    "duration": 53,
    "start_time": "2021-12-10T11:40:36.768Z"
   },
   {
    "duration": 12,
    "start_time": "2021-12-10T11:40:36.824Z"
   },
   {
    "duration": 60,
    "start_time": "2021-12-10T11:40:36.839Z"
   },
   {
    "duration": 3,
    "start_time": "2021-12-10T11:40:36.901Z"
   },
   {
    "duration": 6,
    "start_time": "2021-12-10T11:40:36.907Z"
   },
   {
    "duration": 68,
    "start_time": "2021-12-10T11:41:31.675Z"
   },
   {
    "duration": 43,
    "start_time": "2021-12-10T11:42:03.668Z"
   },
   {
    "duration": 110,
    "start_time": "2021-12-10T11:42:23.722Z"
   },
   {
    "duration": 5107,
    "start_time": "2021-12-10T11:42:34.613Z"
   },
   {
    "duration": 66,
    "start_time": "2021-12-10T11:42:54.236Z"
   },
   {
    "duration": 425,
    "start_time": "2021-12-10T11:51:31.754Z"
   },
   {
    "duration": 9,
    "start_time": "2021-12-10T11:53:02.928Z"
   },
   {
    "duration": 12,
    "start_time": "2021-12-10T11:56:00.544Z"
   },
   {
    "duration": 364,
    "start_time": "2021-12-10T11:56:47.105Z"
   },
   {
    "duration": 364,
    "start_time": "2021-12-10T11:57:20.674Z"
   },
   {
    "duration": 834,
    "start_time": "2021-12-10T11:58:39.483Z"
   },
   {
    "duration": 49,
    "start_time": "2021-12-10T11:58:40.319Z"
   },
   {
    "duration": 33,
    "start_time": "2021-12-10T11:58:40.371Z"
   },
   {
    "duration": 18,
    "start_time": "2021-12-10T11:58:40.406Z"
   },
   {
    "duration": 19,
    "start_time": "2021-12-10T11:58:40.426Z"
   },
   {
    "duration": 15,
    "start_time": "2021-12-10T11:58:40.447Z"
   },
   {
    "duration": 11,
    "start_time": "2021-12-10T11:58:40.464Z"
   },
   {
    "duration": 16,
    "start_time": "2021-12-10T11:58:40.516Z"
   },
   {
    "duration": 10,
    "start_time": "2021-12-10T11:58:40.536Z"
   },
   {
    "duration": 19,
    "start_time": "2021-12-10T11:58:40.549Z"
   },
   {
    "duration": 6,
    "start_time": "2021-12-10T11:58:40.570Z"
   },
   {
    "duration": 14,
    "start_time": "2021-12-10T11:58:40.617Z"
   },
   {
    "duration": 503,
    "start_time": "2021-12-10T11:58:40.634Z"
   },
   {
    "duration": 13,
    "start_time": "2021-12-10T11:58:41.140Z"
   },
   {
    "duration": 7,
    "start_time": "2021-12-10T11:58:41.155Z"
   },
   {
    "duration": 20,
    "start_time": "2021-12-10T11:58:41.164Z"
   },
   {
    "duration": 49,
    "start_time": "2021-12-10T11:58:41.186Z"
   },
   {
    "duration": 13,
    "start_time": "2021-12-10T11:58:41.238Z"
   },
   {
    "duration": 10,
    "start_time": "2021-12-10T11:58:41.253Z"
   },
   {
    "duration": 5,
    "start_time": "2021-12-10T11:58:41.265Z"
   },
   {
    "duration": 45,
    "start_time": "2021-12-10T11:58:41.273Z"
   },
   {
    "duration": 10,
    "start_time": "2021-12-10T11:58:41.321Z"
   },
   {
    "duration": 15,
    "start_time": "2021-12-10T11:58:41.338Z"
   },
   {
    "duration": 12,
    "start_time": "2021-12-10T11:58:41.357Z"
   },
   {
    "duration": 73,
    "start_time": "2021-12-10T11:58:41.372Z"
   },
   {
    "duration": 135,
    "start_time": "2021-12-10T11:58:41.448Z"
   },
   {
    "duration": 1751,
    "start_time": "2021-12-10T11:58:41.586Z"
   },
   {
    "duration": 582,
    "start_time": "2021-12-10T11:58:43.340Z"
   },
   {
    "duration": 11,
    "start_time": "2021-12-10T11:58:43.925Z"
   },
   {
    "duration": 33,
    "start_time": "2021-12-10T11:58:43.938Z"
   },
   {
    "duration": 9,
    "start_time": "2021-12-10T11:58:43.973Z"
   },
   {
    "duration": 34,
    "start_time": "2021-12-10T11:58:43.984Z"
   },
   {
    "duration": 390,
    "start_time": "2021-12-10T11:58:44.021Z"
   },
   {
    "duration": 3,
    "start_time": "2021-12-10T11:58:44.416Z"
   },
   {
    "duration": 6,
    "start_time": "2021-12-10T11:58:44.422Z"
   },
   {
    "duration": 7,
    "start_time": "2021-12-10T11:58:44.430Z"
   },
   {
    "duration": 11,
    "start_time": "2021-12-10T11:58:44.440Z"
   },
   {
    "duration": 17,
    "start_time": "2021-12-10T12:01:32.826Z"
   },
   {
    "duration": 15,
    "start_time": "2021-12-10T12:01:40.430Z"
   },
   {
    "duration": 442,
    "start_time": "2021-12-10T12:02:31.298Z"
   },
   {
    "duration": 1327,
    "start_time": "2021-12-10T12:03:55.568Z"
   },
   {
    "duration": 466,
    "start_time": "2021-12-10T12:04:07.607Z"
   },
   {
    "duration": 493,
    "start_time": "2021-12-10T12:05:00.858Z"
   },
   {
    "duration": 457,
    "start_time": "2021-12-10T12:05:10.563Z"
   },
   {
    "duration": 9,
    "start_time": "2021-12-10T12:08:56.847Z"
   },
   {
    "duration": 1058,
    "start_time": "2021-12-10T12:17:06.627Z"
   },
   {
    "duration": 48,
    "start_time": "2021-12-10T12:17:07.687Z"
   },
   {
    "duration": 31,
    "start_time": "2021-12-10T12:17:07.737Z"
   },
   {
    "duration": 9,
    "start_time": "2021-12-10T12:17:07.771Z"
   },
   {
    "duration": 36,
    "start_time": "2021-12-10T12:17:07.782Z"
   },
   {
    "duration": 17,
    "start_time": "2021-12-10T12:17:07.821Z"
   },
   {
    "duration": 10,
    "start_time": "2021-12-10T12:17:07.841Z"
   },
   {
    "duration": 13,
    "start_time": "2021-12-10T12:17:07.854Z"
   },
   {
    "duration": 9,
    "start_time": "2021-12-10T12:17:07.870Z"
   },
   {
    "duration": 53,
    "start_time": "2021-12-10T12:17:07.881Z"
   },
   {
    "duration": 6,
    "start_time": "2021-12-10T12:17:07.936Z"
   },
   {
    "duration": 22,
    "start_time": "2021-12-10T12:17:07.944Z"
   },
   {
    "duration": 525,
    "start_time": "2021-12-10T12:17:07.969Z"
   },
   {
    "duration": 22,
    "start_time": "2021-12-10T12:17:08.497Z"
   },
   {
    "duration": 7,
    "start_time": "2021-12-10T12:17:08.521Z"
   },
   {
    "duration": 21,
    "start_time": "2021-12-10T12:17:08.530Z"
   },
   {
    "duration": 21,
    "start_time": "2021-12-10T12:17:08.554Z"
   },
   {
    "duration": 48,
    "start_time": "2021-12-10T12:17:08.577Z"
   },
   {
    "duration": 9,
    "start_time": "2021-12-10T12:17:08.627Z"
   },
   {
    "duration": 6,
    "start_time": "2021-12-10T12:17:08.639Z"
   },
   {
    "duration": 7,
    "start_time": "2021-12-10T12:17:08.648Z"
   },
   {
    "duration": 11,
    "start_time": "2021-12-10T12:17:08.658Z"
   },
   {
    "duration": 57,
    "start_time": "2021-12-10T12:17:08.673Z"
   },
   {
    "duration": 11,
    "start_time": "2021-12-10T12:17:08.733Z"
   },
   {
    "duration": 38,
    "start_time": "2021-12-10T12:17:08.746Z"
   },
   {
    "duration": 192,
    "start_time": "2021-12-10T12:17:08.786Z"
   },
   {
    "duration": 1956,
    "start_time": "2021-12-10T12:17:08.981Z"
   },
   {
    "duration": 588,
    "start_time": "2021-12-10T12:17:10.940Z"
   },
   {
    "duration": 10,
    "start_time": "2021-12-10T12:17:11.530Z"
   },
   {
    "duration": 33,
    "start_time": "2021-12-10T12:17:11.542Z"
   },
   {
    "duration": 44,
    "start_time": "2021-12-10T12:17:11.578Z"
   },
   {
    "duration": 475,
    "start_time": "2021-12-10T12:17:11.625Z"
   },
   {
    "duration": 28,
    "start_time": "2021-12-10T12:17:12.103Z"
   },
   {
    "duration": 18,
    "start_time": "2021-12-10T12:17:12.133Z"
   },
   {
    "duration": 444,
    "start_time": "2021-12-10T12:17:12.155Z"
   },
   {
    "duration": 725,
    "start_time": "2021-12-10T15:35:18.138Z"
   },
   {
    "duration": 38,
    "start_time": "2021-12-10T15:35:18.865Z"
   },
   {
    "duration": 20,
    "start_time": "2021-12-10T15:35:18.905Z"
   },
   {
    "duration": 9,
    "start_time": "2021-12-10T15:35:18.927Z"
   },
   {
    "duration": 14,
    "start_time": "2021-12-10T15:35:18.937Z"
   },
   {
    "duration": 13,
    "start_time": "2021-12-10T15:35:18.953Z"
   },
   {
    "duration": 41,
    "start_time": "2021-12-10T15:35:18.968Z"
   },
   {
    "duration": 14,
    "start_time": "2021-12-10T15:35:19.012Z"
   },
   {
    "duration": 7,
    "start_time": "2021-12-10T15:35:19.029Z"
   },
   {
    "duration": 12,
    "start_time": "2021-12-10T15:35:19.039Z"
   },
   {
    "duration": 4,
    "start_time": "2021-12-10T15:35:19.053Z"
   },
   {
    "duration": 11,
    "start_time": "2021-12-10T15:35:19.059Z"
   },
   {
    "duration": 339,
    "start_time": "2021-12-10T15:35:19.071Z"
   },
   {
    "duration": 10,
    "start_time": "2021-12-10T15:35:19.411Z"
   },
   {
    "duration": 8,
    "start_time": "2021-12-10T15:35:19.423Z"
   },
   {
    "duration": 13,
    "start_time": "2021-12-10T15:35:19.433Z"
   },
   {
    "duration": 14,
    "start_time": "2021-12-10T15:35:19.448Z"
   },
   {
    "duration": 42,
    "start_time": "2021-12-10T15:35:19.464Z"
   },
   {
    "duration": 10,
    "start_time": "2021-12-10T15:35:19.508Z"
   },
   {
    "duration": 5,
    "start_time": "2021-12-10T15:35:19.520Z"
   },
   {
    "duration": 6,
    "start_time": "2021-12-10T15:35:19.527Z"
   },
   {
    "duration": 9,
    "start_time": "2021-12-10T15:35:19.535Z"
   },
   {
    "duration": 16,
    "start_time": "2021-12-10T15:35:19.546Z"
   },
   {
    "duration": 42,
    "start_time": "2021-12-10T15:35:19.564Z"
   },
   {
    "duration": 36,
    "start_time": "2021-12-10T15:35:19.609Z"
   },
   {
    "duration": 130,
    "start_time": "2021-12-10T15:35:19.647Z"
   },
   {
    "duration": 1089,
    "start_time": "2021-12-10T15:35:19.782Z"
   },
   {
    "duration": 443,
    "start_time": "2021-12-10T15:35:20.872Z"
   },
   {
    "duration": 10,
    "start_time": "2021-12-10T15:35:21.317Z"
   },
   {
    "duration": 26,
    "start_time": "2021-12-10T15:35:21.329Z"
   },
   {
    "duration": 8,
    "start_time": "2021-12-10T15:35:21.357Z"
   },
   {
    "duration": 252,
    "start_time": "2021-12-10T15:35:21.367Z"
   },
   {
    "duration": 12,
    "start_time": "2021-12-10T15:35:21.621Z"
   },
   {
    "duration": 9,
    "start_time": "2021-12-10T15:35:21.635Z"
   },
   {
    "duration": 287,
    "start_time": "2021-12-10T15:35:21.646Z"
   },
   {
    "duration": 489,
    "start_time": "2021-12-10T15:38:23.203Z"
   },
   {
    "duration": 544,
    "start_time": "2021-12-10T15:40:39.998Z"
   },
   {
    "duration": 556,
    "start_time": "2021-12-10T15:41:18.979Z"
   },
   {
    "duration": 340,
    "start_time": "2021-12-10T15:41:35.943Z"
   },
   {
    "duration": 483,
    "start_time": "2021-12-10T15:42:31.383Z"
   },
   {
    "duration": 34,
    "start_time": "2021-12-10T15:45:11.021Z"
   },
   {
    "duration": 14,
    "start_time": "2021-12-10T15:45:40.584Z"
   },
   {
    "duration": 708,
    "start_time": "2021-12-10T15:46:58.068Z"
   },
   {
    "duration": 298,
    "start_time": "2021-12-10T15:49:29.475Z"
   },
   {
    "duration": 621,
    "start_time": "2021-12-10T15:50:10.858Z"
   },
   {
    "duration": 573,
    "start_time": "2021-12-10T15:50:18.462Z"
   },
   {
    "duration": 301,
    "start_time": "2021-12-10T15:50:26.547Z"
   },
   {
    "duration": 333,
    "start_time": "2021-12-10T15:52:22.578Z"
   },
   {
    "duration": 378,
    "start_time": "2021-12-10T15:52:28.352Z"
   },
   {
    "duration": 304,
    "start_time": "2021-12-10T15:52:35.145Z"
   },
   {
    "duration": 386,
    "start_time": "2021-12-10T15:52:39.607Z"
   },
   {
    "duration": 356,
    "start_time": "2021-12-10T16:35:39.924Z"
   },
   {
    "duration": 5,
    "start_time": "2021-12-10T16:37:37.043Z"
   },
   {
    "duration": 523,
    "start_time": "2021-12-10T16:37:38.772Z"
   },
   {
    "duration": 587,
    "start_time": "2021-12-10T16:37:55.293Z"
   },
   {
    "duration": 7,
    "start_time": "2021-12-10T16:38:41.791Z"
   },
   {
    "duration": 5,
    "start_time": "2021-12-10T16:39:18.968Z"
   },
   {
    "duration": 505,
    "start_time": "2021-12-10T16:39:19.392Z"
   },
   {
    "duration": 505,
    "start_time": "2021-12-10T16:40:49.133Z"
   },
   {
    "duration": 511,
    "start_time": "2021-12-10T16:41:02.038Z"
   },
   {
    "duration": 4,
    "start_time": "2021-12-10T16:41:58.703Z"
   },
   {
    "duration": 535,
    "start_time": "2021-12-10T16:42:14.702Z"
   },
   {
    "duration": 504,
    "start_time": "2021-12-10T16:43:24.133Z"
   },
   {
    "duration": 537,
    "start_time": "2021-12-10T16:43:40.381Z"
   },
   {
    "duration": 5,
    "start_time": "2021-12-10T16:48:21.438Z"
   },
   {
    "duration": 9,
    "start_time": "2021-12-10T16:49:17.530Z"
   },
   {
    "duration": 6,
    "start_time": "2021-12-10T16:49:39.848Z"
   },
   {
    "duration": 334,
    "start_time": "2021-12-10T16:49:50.348Z"
   },
   {
    "duration": 10,
    "start_time": "2021-12-10T16:50:10.120Z"
   },
   {
    "duration": 9,
    "start_time": "2021-12-10T16:50:28.009Z"
   },
   {
    "duration": 12,
    "start_time": "2021-12-10T16:54:06.229Z"
   },
   {
    "duration": 598,
    "start_time": "2021-12-10T16:55:59.828Z"
   },
   {
    "duration": 40,
    "start_time": "2021-12-10T16:56:00.428Z"
   },
   {
    "duration": 22,
    "start_time": "2021-12-10T16:56:00.470Z"
   },
   {
    "duration": 17,
    "start_time": "2021-12-10T16:56:00.494Z"
   },
   {
    "duration": 18,
    "start_time": "2021-12-10T16:56:00.512Z"
   },
   {
    "duration": 17,
    "start_time": "2021-12-10T16:56:00.531Z"
   },
   {
    "duration": 20,
    "start_time": "2021-12-10T16:56:00.549Z"
   },
   {
    "duration": 16,
    "start_time": "2021-12-10T16:56:00.572Z"
   },
   {
    "duration": 20,
    "start_time": "2021-12-10T16:56:00.590Z"
   },
   {
    "duration": 14,
    "start_time": "2021-12-10T16:56:00.612Z"
   },
   {
    "duration": 5,
    "start_time": "2021-12-10T16:56:00.627Z"
   },
   {
    "duration": 14,
    "start_time": "2021-12-10T16:56:00.634Z"
   },
   {
    "duration": 314,
    "start_time": "2021-12-10T16:56:00.650Z"
   },
   {
    "duration": 10,
    "start_time": "2021-12-10T16:56:00.966Z"
   },
   {
    "duration": 8,
    "start_time": "2021-12-10T16:56:00.978Z"
   },
   {
    "duration": 30,
    "start_time": "2021-12-10T16:56:00.988Z"
   },
   {
    "duration": 20,
    "start_time": "2021-12-10T16:56:01.020Z"
   },
   {
    "duration": 10,
    "start_time": "2021-12-10T16:56:01.042Z"
   },
   {
    "duration": 10,
    "start_time": "2021-12-10T16:56:01.053Z"
   },
   {
    "duration": 10,
    "start_time": "2021-12-10T16:56:01.064Z"
   },
   {
    "duration": 10,
    "start_time": "2021-12-10T16:56:01.076Z"
   },
   {
    "duration": 25,
    "start_time": "2021-12-10T16:56:01.087Z"
   },
   {
    "duration": 16,
    "start_time": "2021-12-10T16:56:01.116Z"
   },
   {
    "duration": 8,
    "start_time": "2021-12-10T16:56:01.135Z"
   },
   {
    "duration": 32,
    "start_time": "2021-12-10T16:56:01.144Z"
   },
   {
    "duration": 92,
    "start_time": "2021-12-10T16:56:01.178Z"
   },
   {
    "duration": 1081,
    "start_time": "2021-12-10T16:56:01.272Z"
   },
   {
    "duration": 416,
    "start_time": "2021-12-10T16:56:02.355Z"
   },
   {
    "duration": 8,
    "start_time": "2021-12-10T16:56:02.773Z"
   },
   {
    "duration": 34,
    "start_time": "2021-12-10T16:56:02.783Z"
   },
   {
    "duration": 8,
    "start_time": "2021-12-10T16:56:02.819Z"
   },
   {
    "duration": 239,
    "start_time": "2021-12-10T16:56:02.828Z"
   },
   {
    "duration": 15,
    "start_time": "2021-12-10T16:56:03.069Z"
   },
   {
    "duration": 24,
    "start_time": "2021-12-10T16:56:03.086Z"
   },
   {
    "duration": 266,
    "start_time": "2021-12-10T16:56:03.112Z"
   },
   {
    "duration": 516,
    "start_time": "2021-12-10T16:56:03.380Z"
   },
   {
    "duration": 403,
    "start_time": "2021-12-10T16:56:03.898Z"
   },
   {
    "duration": 12,
    "start_time": "2021-12-10T16:56:04.303Z"
   },
   {
    "duration": 28,
    "start_time": "2021-12-10T16:56:04.316Z"
   },
   {
    "duration": 10,
    "start_time": "2021-12-10T16:56:04.346Z"
   },
   {
    "duration": 663,
    "start_time": "2021-12-10T16:56:04.358Z"
   },
   {
    "duration": 11,
    "start_time": "2021-12-10T16:56:05.023Z"
   },
   {
    "duration": 485,
    "start_time": "2021-12-10T16:56:05.035Z"
   },
   {
    "duration": 9,
    "start_time": "2021-12-10T16:56:05.522Z"
   },
   {
    "duration": 608,
    "start_time": "2021-12-10T16:56:38.634Z"
   },
   {
    "duration": 39,
    "start_time": "2021-12-10T16:56:39.244Z"
   },
   {
    "duration": 24,
    "start_time": "2021-12-10T16:56:39.285Z"
   },
   {
    "duration": 7,
    "start_time": "2021-12-10T16:56:39.311Z"
   },
   {
    "duration": 12,
    "start_time": "2021-12-10T16:56:39.319Z"
   },
   {
    "duration": 11,
    "start_time": "2021-12-10T16:56:39.333Z"
   },
   {
    "duration": 7,
    "start_time": "2021-12-10T16:56:39.345Z"
   },
   {
    "duration": 10,
    "start_time": "2021-12-10T16:56:39.355Z"
   },
   {
    "duration": 40,
    "start_time": "2021-12-10T16:56:39.367Z"
   },
   {
    "duration": 12,
    "start_time": "2021-12-10T16:56:39.408Z"
   },
   {
    "duration": 4,
    "start_time": "2021-12-10T16:56:39.422Z"
   },
   {
    "duration": 10,
    "start_time": "2021-12-10T16:56:39.428Z"
   },
   {
    "duration": 328,
    "start_time": "2021-12-10T16:56:39.440Z"
   },
   {
    "duration": 11,
    "start_time": "2021-12-10T16:56:39.769Z"
   },
   {
    "duration": 9,
    "start_time": "2021-12-10T16:56:39.782Z"
   },
   {
    "duration": 27,
    "start_time": "2021-12-10T16:56:39.792Z"
   },
   {
    "duration": 15,
    "start_time": "2021-12-10T16:56:39.820Z"
   },
   {
    "duration": 8,
    "start_time": "2021-12-10T16:56:39.836Z"
   },
   {
    "duration": 6,
    "start_time": "2021-12-10T16:56:39.846Z"
   },
   {
    "duration": 4,
    "start_time": "2021-12-10T16:56:39.854Z"
   },
   {
    "duration": 6,
    "start_time": "2021-12-10T16:56:39.860Z"
   },
   {
    "duration": 40,
    "start_time": "2021-12-10T16:56:39.868Z"
   },
   {
    "duration": 10,
    "start_time": "2021-12-10T16:56:39.912Z"
   },
   {
    "duration": 9,
    "start_time": "2021-12-10T16:56:39.924Z"
   },
   {
    "duration": 23,
    "start_time": "2021-12-10T16:56:39.935Z"
   },
   {
    "duration": 105,
    "start_time": "2021-12-10T16:56:39.960Z"
   },
   {
    "duration": 1095,
    "start_time": "2021-12-10T16:56:40.066Z"
   },
   {
    "duration": 443,
    "start_time": "2021-12-10T16:56:41.163Z"
   },
   {
    "duration": 7,
    "start_time": "2021-12-10T16:56:41.608Z"
   },
   {
    "duration": 21,
    "start_time": "2021-12-10T16:56:41.617Z"
   },
   {
    "duration": 6,
    "start_time": "2021-12-10T16:56:41.639Z"
   },
   {
    "duration": 237,
    "start_time": "2021-12-10T16:56:41.647Z"
   },
   {
    "duration": 21,
    "start_time": "2021-12-10T16:56:41.885Z"
   },
   {
    "duration": 10,
    "start_time": "2021-12-10T16:56:41.908Z"
   },
   {
    "duration": 264,
    "start_time": "2021-12-10T16:56:41.919Z"
   },
   {
    "duration": 504,
    "start_time": "2021-12-10T16:56:42.184Z"
   },
   {
    "duration": 382,
    "start_time": "2021-12-10T16:56:42.689Z"
   },
   {
    "duration": 35,
    "start_time": "2021-12-10T16:56:43.073Z"
   },
   {
    "duration": 9,
    "start_time": "2021-12-10T16:56:43.110Z"
   },
   {
    "duration": 505,
    "start_time": "2021-12-10T16:56:43.120Z"
   },
   {
    "duration": 9,
    "start_time": "2021-12-10T16:56:43.627Z"
   },
   {
    "duration": 479,
    "start_time": "2021-12-10T16:56:43.637Z"
   },
   {
    "duration": 10,
    "start_time": "2021-12-10T16:56:44.118Z"
   },
   {
    "duration": 6,
    "start_time": "2021-12-10T17:04:27.226Z"
   },
   {
    "duration": 7,
    "start_time": "2021-12-10T17:08:24.850Z"
   },
   {
    "duration": 419,
    "start_time": "2021-12-10T17:09:32.806Z"
   },
   {
    "duration": 662,
    "start_time": "2021-12-10T17:15:27.323Z"
   },
   {
    "duration": 39,
    "start_time": "2021-12-10T17:15:27.987Z"
   },
   {
    "duration": 19,
    "start_time": "2021-12-10T17:15:28.028Z"
   },
   {
    "duration": 6,
    "start_time": "2021-12-10T17:15:28.049Z"
   },
   {
    "duration": 22,
    "start_time": "2021-12-10T17:15:28.056Z"
   },
   {
    "duration": 11,
    "start_time": "2021-12-10T17:15:28.080Z"
   },
   {
    "duration": 21,
    "start_time": "2021-12-10T17:15:28.093Z"
   },
   {
    "duration": 10,
    "start_time": "2021-12-10T17:15:28.117Z"
   },
   {
    "duration": 10,
    "start_time": "2021-12-10T17:15:28.129Z"
   },
   {
    "duration": 11,
    "start_time": "2021-12-10T17:15:28.141Z"
   },
   {
    "duration": 4,
    "start_time": "2021-12-10T17:15:28.154Z"
   },
   {
    "duration": 11,
    "start_time": "2021-12-10T17:15:28.160Z"
   },
   {
    "duration": 335,
    "start_time": "2021-12-10T17:15:28.173Z"
   },
   {
    "duration": 11,
    "start_time": "2021-12-10T17:15:28.510Z"
   },
   {
    "duration": 8,
    "start_time": "2021-12-10T17:15:28.523Z"
   },
   {
    "duration": 13,
    "start_time": "2021-12-10T17:15:28.532Z"
   },
   {
    "duration": 13,
    "start_time": "2021-12-10T17:15:28.547Z"
   },
   {
    "duration": 9,
    "start_time": "2021-12-10T17:15:28.562Z"
   },
   {
    "duration": 36,
    "start_time": "2021-12-10T17:15:28.572Z"
   },
   {
    "duration": 5,
    "start_time": "2021-12-10T17:15:28.610Z"
   },
   {
    "duration": 5,
    "start_time": "2021-12-10T17:15:28.616Z"
   },
   {
    "duration": 7,
    "start_time": "2021-12-10T17:15:28.623Z"
   },
   {
    "duration": 9,
    "start_time": "2021-12-10T17:15:28.634Z"
   },
   {
    "duration": 7,
    "start_time": "2021-12-10T17:15:28.645Z"
   },
   {
    "duration": 56,
    "start_time": "2021-12-10T17:15:28.654Z"
   },
   {
    "duration": 69,
    "start_time": "2021-12-10T17:15:28.711Z"
   },
   {
    "duration": 1052,
    "start_time": "2021-12-10T17:15:28.781Z"
   },
   {
    "duration": 400,
    "start_time": "2021-12-10T17:15:29.835Z"
   },
   {
    "duration": 7,
    "start_time": "2021-12-10T17:15:30.237Z"
   },
   {
    "duration": 25,
    "start_time": "2021-12-10T17:15:30.246Z"
   },
   {
    "duration": 15,
    "start_time": "2021-12-10T17:15:30.273Z"
   },
   {
    "duration": 244,
    "start_time": "2021-12-10T17:15:30.290Z"
   },
   {
    "duration": 12,
    "start_time": "2021-12-10T17:15:30.536Z"
   },
   {
    "duration": 15,
    "start_time": "2021-12-10T17:15:30.550Z"
   },
   {
    "duration": 282,
    "start_time": "2021-12-10T17:15:30.567Z"
   },
   {
    "duration": 545,
    "start_time": "2021-12-10T17:15:30.852Z"
   },
   {
    "duration": 407,
    "start_time": "2021-12-10T17:15:31.399Z"
   },
   {
    "duration": 30,
    "start_time": "2021-12-10T17:15:31.808Z"
   },
   {
    "duration": 9,
    "start_time": "2021-12-10T17:15:31.840Z"
   },
   {
    "duration": 527,
    "start_time": "2021-12-10T17:15:31.851Z"
   },
   {
    "duration": 10,
    "start_time": "2021-12-10T17:15:32.379Z"
   },
   {
    "duration": 538,
    "start_time": "2021-12-10T17:15:32.391Z"
   },
   {
    "duration": 11,
    "start_time": "2021-12-10T17:15:32.931Z"
   },
   {
    "duration": 13,
    "start_time": "2021-12-10T17:15:32.944Z"
   },
   {
    "duration": 9,
    "start_time": "2021-12-10T17:15:32.959Z"
   },
   {
    "duration": 14,
    "start_time": "2021-12-10T17:28:46.877Z"
   },
   {
    "duration": 7,
    "start_time": "2021-12-10T17:29:43.609Z"
   },
   {
    "duration": 10,
    "start_time": "2021-12-10T17:29:49.552Z"
   },
   {
    "duration": 11,
    "start_time": "2021-12-10T17:30:57.259Z"
   },
   {
    "duration": 5,
    "start_time": "2021-12-10T17:31:22.931Z"
   },
   {
    "duration": 5,
    "start_time": "2021-12-10T17:31:24.917Z"
   },
   {
    "duration": 427,
    "start_time": "2021-12-10T17:31:27.912Z"
   },
   {
    "duration": 5,
    "start_time": "2021-12-10T17:31:53.023Z"
   },
   {
    "duration": 7,
    "start_time": "2021-12-10T17:32:01.459Z"
   },
   {
    "duration": 8,
    "start_time": "2021-12-10T17:32:32.831Z"
   },
   {
    "duration": 8,
    "start_time": "2021-12-10T17:32:51.213Z"
   },
   {
    "duration": 9,
    "start_time": "2021-12-10T17:33:03.286Z"
   },
   {
    "duration": 173,
    "start_time": "2021-12-10T17:35:18.615Z"
   },
   {
    "duration": 8,
    "start_time": "2021-12-10T17:35:22.229Z"
   },
   {
    "duration": 8,
    "start_time": "2021-12-10T17:35:39.678Z"
   },
   {
    "duration": 700,
    "start_time": "2021-12-10T17:52:20.207Z"
   },
   {
    "duration": 39,
    "start_time": "2021-12-10T17:52:20.909Z"
   },
   {
    "duration": 21,
    "start_time": "2021-12-10T17:52:20.950Z"
   },
   {
    "duration": 10,
    "start_time": "2021-12-10T17:52:20.973Z"
   },
   {
    "duration": 22,
    "start_time": "2021-12-10T17:52:20.985Z"
   },
   {
    "duration": 14,
    "start_time": "2021-12-10T17:52:21.009Z"
   },
   {
    "duration": 9,
    "start_time": "2021-12-10T17:52:21.026Z"
   },
   {
    "duration": 14,
    "start_time": "2021-12-10T17:52:21.038Z"
   },
   {
    "duration": 9,
    "start_time": "2021-12-10T17:52:21.055Z"
   },
   {
    "duration": 18,
    "start_time": "2021-12-10T17:52:21.066Z"
   },
   {
    "duration": 5,
    "start_time": "2021-12-10T17:52:21.107Z"
   },
   {
    "duration": 16,
    "start_time": "2021-12-10T17:52:21.114Z"
   },
   {
    "duration": 317,
    "start_time": "2021-12-10T17:52:21.132Z"
   },
   {
    "duration": 12,
    "start_time": "2021-12-10T17:52:21.451Z"
   },
   {
    "duration": 9,
    "start_time": "2021-12-10T17:52:21.465Z"
   },
   {
    "duration": 32,
    "start_time": "2021-12-10T17:52:21.476Z"
   },
   {
    "duration": 14,
    "start_time": "2021-12-10T17:52:21.510Z"
   },
   {
    "duration": 19,
    "start_time": "2021-12-10T17:52:21.527Z"
   },
   {
    "duration": 7,
    "start_time": "2021-12-10T17:52:21.547Z"
   },
   {
    "duration": 9,
    "start_time": "2021-12-10T17:52:21.556Z"
   },
   {
    "duration": 6,
    "start_time": "2021-12-10T17:52:21.567Z"
   },
   {
    "duration": 34,
    "start_time": "2021-12-10T17:52:21.574Z"
   },
   {
    "duration": 10,
    "start_time": "2021-12-10T17:52:21.611Z"
   },
   {
    "duration": 9,
    "start_time": "2021-12-10T17:52:21.623Z"
   },
   {
    "duration": 31,
    "start_time": "2021-12-10T17:52:21.634Z"
   },
   {
    "duration": 94,
    "start_time": "2021-12-10T17:52:21.667Z"
   },
   {
    "duration": 1075,
    "start_time": "2021-12-10T17:52:21.763Z"
   },
   {
    "duration": 574,
    "start_time": "2021-12-10T17:52:22.841Z"
   },
   {
    "duration": 8,
    "start_time": "2021-12-10T17:52:23.417Z"
   },
   {
    "duration": 21,
    "start_time": "2021-12-10T17:52:23.427Z"
   },
   {
    "duration": 8,
    "start_time": "2021-12-10T17:52:23.450Z"
   },
   {
    "duration": 263,
    "start_time": "2021-12-10T17:52:23.459Z"
   },
   {
    "duration": 12,
    "start_time": "2021-12-10T17:52:23.724Z"
   },
   {
    "duration": 11,
    "start_time": "2021-12-10T17:52:23.738Z"
   },
   {
    "duration": 292,
    "start_time": "2021-12-10T17:52:23.750Z"
   },
   {
    "duration": 546,
    "start_time": "2021-12-10T17:52:24.044Z"
   },
   {
    "duration": 403,
    "start_time": "2021-12-10T17:52:24.591Z"
   },
   {
    "duration": 38,
    "start_time": "2021-12-10T17:52:24.996Z"
   },
   {
    "duration": 15,
    "start_time": "2021-12-10T17:52:25.036Z"
   },
   {
    "duration": 758,
    "start_time": "2021-12-10T17:52:25.053Z"
   },
   {
    "duration": 13,
    "start_time": "2021-12-10T17:52:25.813Z"
   },
   {
    "duration": 660,
    "start_time": "2021-12-10T17:52:25.828Z"
   },
   {
    "duration": 19,
    "start_time": "2021-12-10T17:52:26.491Z"
   },
   {
    "duration": 12,
    "start_time": "2021-12-10T17:52:26.512Z"
   },
   {
    "duration": 11,
    "start_time": "2021-12-10T17:52:26.525Z"
   },
   {
    "duration": 11,
    "start_time": "2021-12-10T17:52:26.537Z"
   },
   {
    "duration": 13,
    "start_time": "2021-12-10T17:52:26.550Z"
   },
   {
    "duration": 7,
    "start_time": "2021-12-10T17:52:26.565Z"
   },
   {
    "duration": 8,
    "start_time": "2021-12-10T17:54:32.896Z"
   },
   {
    "duration": 8,
    "start_time": "2021-12-10T17:54:48.229Z"
   },
   {
    "duration": 9,
    "start_time": "2021-12-10T17:55:10.107Z"
   },
   {
    "duration": 5,
    "start_time": "2021-12-10T18:06:52.414Z"
   },
   {
    "duration": 4,
    "start_time": "2021-12-10T18:07:07.179Z"
   },
   {
    "duration": 7,
    "start_time": "2021-12-10T18:08:07.377Z"
   },
   {
    "duration": 10,
    "start_time": "2021-12-10T18:09:07.488Z"
   },
   {
    "duration": 7,
    "start_time": "2021-12-10T18:09:21.969Z"
   },
   {
    "duration": 7,
    "start_time": "2021-12-10T18:22:49.560Z"
   },
   {
    "duration": 7,
    "start_time": "2021-12-10T18:23:07.631Z"
   },
   {
    "duration": 603,
    "start_time": "2021-12-10T18:28:22.542Z"
   },
   {
    "duration": 38,
    "start_time": "2021-12-10T18:28:23.148Z"
   },
   {
    "duration": 26,
    "start_time": "2021-12-10T18:28:23.189Z"
   },
   {
    "duration": 6,
    "start_time": "2021-12-10T18:28:23.218Z"
   },
   {
    "duration": 16,
    "start_time": "2021-12-10T18:28:23.226Z"
   },
   {
    "duration": 10,
    "start_time": "2021-12-10T18:28:23.244Z"
   },
   {
    "duration": 8,
    "start_time": "2021-12-10T18:28:23.256Z"
   },
   {
    "duration": 44,
    "start_time": "2021-12-10T18:28:23.267Z"
   },
   {
    "duration": 8,
    "start_time": "2021-12-10T18:28:23.313Z"
   },
   {
    "duration": 13,
    "start_time": "2021-12-10T18:28:23.323Z"
   },
   {
    "duration": 5,
    "start_time": "2021-12-10T18:28:23.338Z"
   },
   {
    "duration": 15,
    "start_time": "2021-12-10T18:28:23.345Z"
   },
   {
    "duration": 335,
    "start_time": "2021-12-10T18:28:23.362Z"
   },
   {
    "duration": 15,
    "start_time": "2021-12-10T18:28:23.698Z"
   },
   {
    "duration": 8,
    "start_time": "2021-12-10T18:28:23.715Z"
   },
   {
    "duration": 13,
    "start_time": "2021-12-10T18:28:23.725Z"
   },
   {
    "duration": 15,
    "start_time": "2021-12-10T18:28:23.739Z"
   },
   {
    "duration": 9,
    "start_time": "2021-12-10T18:28:23.755Z"
   },
   {
    "duration": 8,
    "start_time": "2021-12-10T18:28:23.765Z"
   },
   {
    "duration": 6,
    "start_time": "2021-12-10T18:28:23.807Z"
   },
   {
    "duration": 7,
    "start_time": "2021-12-10T18:28:23.815Z"
   },
   {
    "duration": 9,
    "start_time": "2021-12-10T18:28:23.824Z"
   },
   {
    "duration": 8,
    "start_time": "2021-12-10T18:28:23.838Z"
   },
   {
    "duration": 7,
    "start_time": "2021-12-10T18:28:23.849Z"
   },
   {
    "duration": 58,
    "start_time": "2021-12-10T18:28:23.858Z"
   },
   {
    "duration": 71,
    "start_time": "2021-12-10T18:28:23.918Z"
   },
   {
    "duration": 1081,
    "start_time": "2021-12-10T18:28:23.991Z"
   },
   {
    "duration": 437,
    "start_time": "2021-12-10T18:28:25.075Z"
   },
   {
    "duration": 9,
    "start_time": "2021-12-10T18:28:25.514Z"
   },
   {
    "duration": 21,
    "start_time": "2021-12-10T18:28:25.525Z"
   },
   {
    "duration": 7,
    "start_time": "2021-12-10T18:28:25.548Z"
   },
   {
    "duration": 266,
    "start_time": "2021-12-10T18:28:25.557Z"
   },
   {
    "duration": 12,
    "start_time": "2021-12-10T18:28:25.826Z"
   },
   {
    "duration": 11,
    "start_time": "2021-12-10T18:28:25.839Z"
   },
   {
    "duration": 310,
    "start_time": "2021-12-10T18:28:25.852Z"
   },
   {
    "duration": 671,
    "start_time": "2021-12-10T18:28:26.165Z"
   },
   {
    "duration": 626,
    "start_time": "2021-12-10T18:28:26.839Z"
   },
   {
    "duration": 51,
    "start_time": "2021-12-10T18:28:27.468Z"
   },
   {
    "duration": 13,
    "start_time": "2021-12-10T18:28:27.522Z"
   },
   {
    "duration": 726,
    "start_time": "2021-12-10T18:28:27.537Z"
   },
   {
    "duration": 10,
    "start_time": "2021-12-10T18:28:28.265Z"
   },
   {
    "duration": 543,
    "start_time": "2021-12-10T18:28:28.277Z"
   },
   {
    "duration": 12,
    "start_time": "2021-12-10T18:28:28.822Z"
   },
   {
    "duration": 6,
    "start_time": "2021-12-10T18:28:28.837Z"
   },
   {
    "duration": 7,
    "start_time": "2021-12-10T18:28:28.845Z"
   },
   {
    "duration": 7,
    "start_time": "2021-12-10T18:28:28.854Z"
   },
   {
    "duration": 45,
    "start_time": "2021-12-10T18:28:28.863Z"
   },
   {
    "duration": 7,
    "start_time": "2021-12-10T18:28:28.910Z"
   },
   {
    "duration": 7,
    "start_time": "2021-12-10T18:28:28.919Z"
   },
   {
    "duration": 7,
    "start_time": "2021-12-10T18:28:28.928Z"
   },
   {
    "duration": 7,
    "start_time": "2021-12-10T18:28:28.936Z"
   },
   {
    "duration": 4,
    "start_time": "2021-12-10T18:28:28.945Z"
   },
   {
    "duration": 8,
    "start_time": "2021-12-10T18:28:28.950Z"
   },
   {
    "duration": 48,
    "start_time": "2021-12-10T18:28:28.960Z"
   },
   {
    "duration": 7,
    "start_time": "2021-12-10T18:28:29.010Z"
   },
   {
    "duration": 874,
    "start_time": "2021-12-11T15:20:05.939Z"
   },
   {
    "duration": 46,
    "start_time": "2021-12-11T15:20:06.816Z"
   },
   {
    "duration": 34,
    "start_time": "2021-12-11T15:20:06.868Z"
   },
   {
    "duration": 7,
    "start_time": "2021-12-11T15:20:06.905Z"
   },
   {
    "duration": 20,
    "start_time": "2021-12-11T15:20:06.914Z"
   },
   {
    "duration": 17,
    "start_time": "2021-12-11T15:20:06.968Z"
   },
   {
    "duration": 12,
    "start_time": "2021-12-11T15:20:06.987Z"
   },
   {
    "duration": 26,
    "start_time": "2021-12-11T15:20:07.003Z"
   },
   {
    "duration": 39,
    "start_time": "2021-12-11T15:20:07.033Z"
   },
   {
    "duration": 22,
    "start_time": "2021-12-11T15:20:07.074Z"
   },
   {
    "duration": 6,
    "start_time": "2021-12-11T15:20:07.098Z"
   },
   {
    "duration": 33,
    "start_time": "2021-12-11T15:20:07.106Z"
   },
   {
    "duration": 537,
    "start_time": "2021-12-11T15:20:07.142Z"
   },
   {
    "duration": 14,
    "start_time": "2021-12-11T15:20:07.682Z"
   },
   {
    "duration": 11,
    "start_time": "2021-12-11T15:20:07.699Z"
   },
   {
    "duration": 21,
    "start_time": "2021-12-11T15:20:07.712Z"
   },
   {
    "duration": 49,
    "start_time": "2021-12-11T15:20:07.736Z"
   },
   {
    "duration": 13,
    "start_time": "2021-12-11T15:20:07.788Z"
   },
   {
    "duration": 10,
    "start_time": "2021-12-11T15:20:07.804Z"
   },
   {
    "duration": 7,
    "start_time": "2021-12-11T15:20:07.816Z"
   },
   {
    "duration": 44,
    "start_time": "2021-12-11T15:20:07.826Z"
   },
   {
    "duration": 16,
    "start_time": "2021-12-11T15:20:07.872Z"
   },
   {
    "duration": 19,
    "start_time": "2021-12-11T15:20:07.895Z"
   },
   {
    "duration": 12,
    "start_time": "2021-12-11T15:20:07.918Z"
   },
   {
    "duration": 70,
    "start_time": "2021-12-11T15:20:07.933Z"
   },
   {
    "duration": 132,
    "start_time": "2021-12-11T15:20:08.006Z"
   },
   {
    "duration": 1839,
    "start_time": "2021-12-11T15:20:08.140Z"
   },
   {
    "duration": 599,
    "start_time": "2021-12-11T15:20:09.981Z"
   },
   {
    "duration": 11,
    "start_time": "2021-12-11T15:20:10.583Z"
   },
   {
    "duration": 37,
    "start_time": "2021-12-11T15:20:10.596Z"
   },
   {
    "duration": 35,
    "start_time": "2021-12-11T15:20:10.636Z"
   },
   {
    "duration": 400,
    "start_time": "2021-12-11T15:20:10.673Z"
   },
   {
    "duration": 16,
    "start_time": "2021-12-11T15:20:11.076Z"
   },
   {
    "duration": 14,
    "start_time": "2021-12-11T15:20:11.095Z"
   },
   {
    "duration": 468,
    "start_time": "2021-12-11T15:20:11.111Z"
   },
   {
    "duration": 690,
    "start_time": "2021-12-11T15:20:11.582Z"
   },
   {
    "duration": 681,
    "start_time": "2021-12-11T15:20:12.274Z"
   },
   {
    "duration": 49,
    "start_time": "2021-12-11T15:20:12.957Z"
   },
   {
    "duration": 13,
    "start_time": "2021-12-11T15:20:13.009Z"
   },
   {
    "duration": 834,
    "start_time": "2021-12-11T15:20:13.025Z"
   },
   {
    "duration": 15,
    "start_time": "2021-12-11T15:20:13.862Z"
   },
   {
    "duration": 747,
    "start_time": "2021-12-11T15:20:13.879Z"
   },
   {
    "duration": 13,
    "start_time": "2021-12-11T15:20:14.629Z"
   },
   {
    "duration": 26,
    "start_time": "2021-12-11T15:20:14.644Z"
   },
   {
    "duration": 11,
    "start_time": "2021-12-11T15:20:14.672Z"
   },
   {
    "duration": 18,
    "start_time": "2021-12-11T15:20:14.685Z"
   },
   {
    "duration": 10,
    "start_time": "2021-12-11T15:20:14.705Z"
   },
   {
    "duration": 16,
    "start_time": "2021-12-11T15:20:14.717Z"
   },
   {
    "duration": 11,
    "start_time": "2021-12-11T15:20:14.768Z"
   },
   {
    "duration": 12,
    "start_time": "2021-12-11T15:20:14.781Z"
   },
   {
    "duration": 10,
    "start_time": "2021-12-11T15:20:14.795Z"
   },
   {
    "duration": 7,
    "start_time": "2021-12-11T15:20:14.807Z"
   },
   {
    "duration": 54,
    "start_time": "2021-12-11T15:20:14.816Z"
   },
   {
    "duration": 8,
    "start_time": "2021-12-11T15:20:14.873Z"
   },
   {
    "duration": 8,
    "start_time": "2021-12-11T15:20:14.884Z"
   },
   {
    "duration": 20,
    "start_time": "2021-12-11T15:35:16.565Z"
   },
   {
    "duration": 14,
    "start_time": "2021-12-11T15:35:22.403Z"
   },
   {
    "duration": 51,
    "start_time": "2021-12-11T15:39:19.581Z"
   },
   {
    "duration": 21,
    "start_time": "2021-12-11T15:39:21.557Z"
   },
   {
    "duration": 15,
    "start_time": "2021-12-11T15:39:23.015Z"
   },
   {
    "duration": 3,
    "start_time": "2021-12-11T15:40:04.626Z"
   },
   {
    "duration": 6,
    "start_time": "2021-12-11T15:40:05.138Z"
   },
   {
    "duration": 20,
    "start_time": "2021-12-11T15:40:06.063Z"
   },
   {
    "duration": 14,
    "start_time": "2021-12-11T15:40:07.325Z"
   },
   {
    "duration": 8,
    "start_time": "2021-12-11T15:42:25.252Z"
   },
   {
    "duration": 7,
    "start_time": "2021-12-11T15:50:10.081Z"
   },
   {
    "duration": 12,
    "start_time": "2021-12-11T15:51:13.146Z"
   },
   {
    "duration": 13,
    "start_time": "2021-12-11T15:53:34.837Z"
   },
   {
    "duration": 907,
    "start_time": "2021-12-11T15:54:17.649Z"
   },
   {
    "duration": 14,
    "start_time": "2021-12-11T15:54:27.563Z"
   },
   {
    "duration": 13,
    "start_time": "2021-12-11T15:54:43.507Z"
   },
   {
    "duration": 14,
    "start_time": "2021-12-11T15:56:10.051Z"
   },
   {
    "duration": 800,
    "start_time": "2021-12-11T15:57:27.338Z"
   },
   {
    "duration": 53,
    "start_time": "2021-12-11T15:57:28.140Z"
   },
   {
    "duration": 31,
    "start_time": "2021-12-11T15:57:28.196Z"
   },
   {
    "duration": 10,
    "start_time": "2021-12-11T15:57:28.230Z"
   },
   {
    "duration": 41,
    "start_time": "2021-12-11T15:57:28.242Z"
   },
   {
    "duration": 18,
    "start_time": "2021-12-11T15:57:28.285Z"
   },
   {
    "duration": 10,
    "start_time": "2021-12-11T15:57:28.306Z"
   },
   {
    "duration": 51,
    "start_time": "2021-12-11T15:57:28.320Z"
   },
   {
    "duration": 10,
    "start_time": "2021-12-11T15:57:28.374Z"
   },
   {
    "duration": 19,
    "start_time": "2021-12-11T15:57:28.387Z"
   },
   {
    "duration": 6,
    "start_time": "2021-12-11T15:57:28.408Z"
   },
   {
    "duration": 16,
    "start_time": "2021-12-11T15:57:28.416Z"
   },
   {
    "duration": 524,
    "start_time": "2021-12-11T15:57:28.468Z"
   },
   {
    "duration": 16,
    "start_time": "2021-12-11T15:57:28.995Z"
   },
   {
    "duration": 34,
    "start_time": "2021-12-11T15:57:29.013Z"
   },
   {
    "duration": 26,
    "start_time": "2021-12-11T15:57:29.050Z"
   },
   {
    "duration": 29,
    "start_time": "2021-12-11T15:57:29.078Z"
   },
   {
    "duration": 26,
    "start_time": "2021-12-11T15:57:29.110Z"
   },
   {
    "duration": 23,
    "start_time": "2021-12-11T15:57:29.139Z"
   },
   {
    "duration": 19,
    "start_time": "2021-12-11T15:57:29.165Z"
   },
   {
    "duration": 17,
    "start_time": "2021-12-11T15:57:29.187Z"
   },
   {
    "duration": 25,
    "start_time": "2021-12-11T15:57:29.207Z"
   },
   {
    "duration": 21,
    "start_time": "2021-12-11T15:57:29.237Z"
   },
   {
    "duration": 27,
    "start_time": "2021-12-11T15:57:29.261Z"
   },
   {
    "duration": 47,
    "start_time": "2021-12-11T15:57:29.290Z"
   },
   {
    "duration": 110,
    "start_time": "2021-12-11T15:57:29.339Z"
   },
   {
    "duration": 2094,
    "start_time": "2021-12-11T15:57:29.451Z"
   },
   {
    "duration": 548,
    "start_time": "2021-12-11T15:57:31.547Z"
   },
   {
    "duration": 11,
    "start_time": "2021-12-11T15:57:32.098Z"
   },
   {
    "duration": 59,
    "start_time": "2021-12-11T15:57:32.111Z"
   },
   {
    "duration": 31,
    "start_time": "2021-12-11T15:57:32.172Z"
   },
   {
    "duration": 378,
    "start_time": "2021-12-11T15:57:32.205Z"
   },
   {
    "duration": 16,
    "start_time": "2021-12-11T15:57:32.586Z"
   },
   {
    "duration": 22,
    "start_time": "2021-12-11T15:57:32.605Z"
   },
   {
    "duration": 556,
    "start_time": "2021-12-11T15:57:32.630Z"
   },
   {
    "duration": 695,
    "start_time": "2021-12-11T15:57:33.189Z"
   },
   {
    "duration": 685,
    "start_time": "2021-12-11T15:57:33.886Z"
   },
   {
    "duration": 51,
    "start_time": "2021-12-11T15:57:34.574Z"
   },
   {
    "duration": 43,
    "start_time": "2021-12-11T15:57:34.628Z"
   },
   {
    "duration": 823,
    "start_time": "2021-12-11T15:57:34.675Z"
   },
   {
    "duration": 14,
    "start_time": "2021-12-11T15:57:35.500Z"
   },
   {
    "duration": 797,
    "start_time": "2021-12-11T15:57:35.517Z"
   },
   {
    "duration": 13,
    "start_time": "2021-12-11T15:57:36.317Z"
   },
   {
    "duration": 9,
    "start_time": "2021-12-11T15:57:36.332Z"
   },
   {
    "duration": 9,
    "start_time": "2021-12-11T15:57:36.368Z"
   },
   {
    "duration": 22,
    "start_time": "2021-12-11T15:57:36.379Z"
   },
   {
    "duration": 16,
    "start_time": "2021-12-11T15:57:36.403Z"
   },
   {
    "duration": 23,
    "start_time": "2021-12-11T15:57:36.421Z"
   },
   {
    "duration": 25,
    "start_time": "2021-12-11T15:57:36.447Z"
   },
   {
    "duration": 15,
    "start_time": "2021-12-11T15:57:36.474Z"
   },
   {
    "duration": 29,
    "start_time": "2021-12-11T15:57:36.492Z"
   },
   {
    "duration": 15,
    "start_time": "2021-12-11T15:57:36.524Z"
   },
   {
    "duration": 25,
    "start_time": "2021-12-11T15:57:36.541Z"
   },
   {
    "duration": 18,
    "start_time": "2021-12-11T15:57:36.568Z"
   },
   {
    "duration": 26,
    "start_time": "2021-12-11T15:57:36.588Z"
   },
   {
    "duration": 12,
    "start_time": "2021-12-11T15:57:36.616Z"
   },
   {
    "duration": 48,
    "start_time": "2021-12-11T15:57:36.631Z"
   },
   {
    "duration": 31,
    "start_time": "2021-12-11T15:57:36.681Z"
   },
   {
    "duration": 16,
    "start_time": "2021-12-11T15:57:36.715Z"
   },
   {
    "duration": 908,
    "start_time": "2021-12-11T15:57:36.734Z"
   },
   {
    "duration": 25,
    "start_time": "2021-12-11T15:57:37.645Z"
   },
   {
    "duration": 10,
    "start_time": "2021-12-11T15:59:30.448Z"
   },
   {
    "duration": 440,
    "start_time": "2021-12-11T15:59:48.168Z"
   },
   {
    "duration": 9,
    "start_time": "2021-12-11T15:59:55.140Z"
   },
   {
    "duration": 13,
    "start_time": "2021-12-11T16:07:19.058Z"
   },
   {
    "duration": 14,
    "start_time": "2021-12-11T16:07:39.671Z"
   },
   {
    "duration": 5,
    "start_time": "2021-12-11T16:08:17.564Z"
   },
   {
    "duration": 74,
    "start_time": "2021-12-11T16:08:17.579Z"
   },
   {
    "duration": 30,
    "start_time": "2021-12-11T16:08:17.656Z"
   },
   {
    "duration": 31,
    "start_time": "2021-12-11T16:08:17.689Z"
   },
   {
    "duration": 41,
    "start_time": "2021-12-11T16:08:17.722Z"
   },
   {
    "duration": 16,
    "start_time": "2021-12-11T16:08:17.765Z"
   },
   {
    "duration": 16,
    "start_time": "2021-12-11T16:08:17.783Z"
   },
   {
    "duration": 22,
    "start_time": "2021-12-11T16:08:17.802Z"
   },
   {
    "duration": 20,
    "start_time": "2021-12-11T16:08:17.828Z"
   },
   {
    "duration": 33,
    "start_time": "2021-12-11T16:08:17.851Z"
   },
   {
    "duration": 15,
    "start_time": "2021-12-11T16:08:17.887Z"
   },
   {
    "duration": 20,
    "start_time": "2021-12-11T16:08:17.904Z"
   },
   {
    "duration": 601,
    "start_time": "2021-12-11T16:08:17.927Z"
   },
   {
    "duration": 18,
    "start_time": "2021-12-11T16:08:18.530Z"
   },
   {
    "duration": 20,
    "start_time": "2021-12-11T16:08:18.551Z"
   },
   {
    "duration": 39,
    "start_time": "2021-12-11T16:08:18.573Z"
   },
   {
    "duration": 28,
    "start_time": "2021-12-11T16:08:18.615Z"
   },
   {
    "duration": 36,
    "start_time": "2021-12-11T16:08:18.646Z"
   },
   {
    "duration": 13,
    "start_time": "2021-12-11T16:08:18.685Z"
   },
   {
    "duration": 7,
    "start_time": "2021-12-11T16:08:18.700Z"
   },
   {
    "duration": 27,
    "start_time": "2021-12-11T16:08:18.708Z"
   },
   {
    "duration": 12,
    "start_time": "2021-12-11T16:08:18.768Z"
   },
   {
    "duration": 47,
    "start_time": "2021-12-11T16:08:18.784Z"
   },
   {
    "duration": 39,
    "start_time": "2021-12-11T16:08:18.834Z"
   },
   {
    "duration": 43,
    "start_time": "2021-12-11T16:08:18.875Z"
   },
   {
    "duration": 5,
    "start_time": "2021-12-11T16:08:18.921Z"
   },
   {
    "duration": 2741,
    "start_time": "2021-12-11T16:08:18.929Z"
   },
   {
    "duration": 935,
    "start_time": "2021-12-11T16:08:21.672Z"
   },
   {
    "duration": 10,
    "start_time": "2021-12-11T16:08:22.609Z"
   },
   {
    "duration": 58,
    "start_time": "2021-12-11T16:08:22.621Z"
   },
   {
    "duration": 9,
    "start_time": "2021-12-11T16:08:22.681Z"
   },
   {
    "duration": 452,
    "start_time": "2021-12-11T16:08:22.692Z"
   },
   {
    "duration": 29,
    "start_time": "2021-12-11T16:08:23.146Z"
   },
   {
    "duration": 17,
    "start_time": "2021-12-11T16:08:23.178Z"
   },
   {
    "duration": 610,
    "start_time": "2021-12-11T16:08:23.198Z"
   },
   {
    "duration": 3,
    "start_time": "2021-12-11T16:08:23.810Z"
   },
   {
    "duration": 707,
    "start_time": "2021-12-11T16:08:23.816Z"
   },
   {
    "duration": 84,
    "start_time": "2021-12-11T16:08:24.526Z"
   },
   {
    "duration": 21,
    "start_time": "2021-12-11T16:08:24.613Z"
   },
   {
    "duration": 832,
    "start_time": "2021-12-11T16:08:24.637Z"
   },
   {
    "duration": 15,
    "start_time": "2021-12-11T16:08:25.472Z"
   },
   {
    "duration": 809,
    "start_time": "2021-12-11T16:08:25.490Z"
   },
   {
    "duration": 21,
    "start_time": "2021-12-11T16:08:26.303Z"
   },
   {
    "duration": 12,
    "start_time": "2021-12-11T16:08:26.327Z"
   },
   {
    "duration": 11,
    "start_time": "2021-12-11T16:08:26.369Z"
   },
   {
    "duration": 16,
    "start_time": "2021-12-11T16:08:26.383Z"
   },
   {
    "duration": 18,
    "start_time": "2021-12-11T16:08:26.401Z"
   },
   {
    "duration": 11,
    "start_time": "2021-12-11T16:08:26.422Z"
   },
   {
    "duration": 40,
    "start_time": "2021-12-11T16:08:26.435Z"
   },
   {
    "duration": 25,
    "start_time": "2021-12-11T16:08:26.478Z"
   },
   {
    "duration": 20,
    "start_time": "2021-12-11T16:08:26.505Z"
   },
   {
    "duration": 7,
    "start_time": "2021-12-11T16:08:26.527Z"
   },
   {
    "duration": 10,
    "start_time": "2021-12-11T16:08:26.568Z"
   },
   {
    "duration": 22,
    "start_time": "2021-12-11T16:08:26.581Z"
   },
   {
    "duration": 13,
    "start_time": "2021-12-11T16:08:26.606Z"
   },
   {
    "duration": 4,
    "start_time": "2021-12-11T16:08:26.621Z"
   },
   {
    "duration": 70,
    "start_time": "2021-12-11T16:08:26.627Z"
   },
   {
    "duration": 30,
    "start_time": "2021-12-11T16:08:26.700Z"
   },
   {
    "duration": 36,
    "start_time": "2021-12-11T16:08:26.733Z"
   },
   {
    "duration": 880,
    "start_time": "2021-12-11T16:08:26.776Z"
   },
   {
    "duration": 19,
    "start_time": "2021-12-11T16:08:27.659Z"
   },
   {
    "duration": 18,
    "start_time": "2021-12-11T16:08:27.680Z"
   },
   {
    "duration": 554,
    "start_time": "2021-12-11T16:09:19.866Z"
   },
   {
    "duration": 14,
    "start_time": "2021-12-11T16:09:20.833Z"
   },
   {
    "duration": 10,
    "start_time": "2021-12-11T16:09:49.156Z"
   },
   {
    "duration": 10,
    "start_time": "2021-12-11T16:09:58.814Z"
   },
   {
    "duration": 115,
    "start_time": "2021-12-11T16:10:49.929Z"
   },
   {
    "duration": 801,
    "start_time": "2021-12-11T16:33:40.156Z"
   },
   {
    "duration": 52,
    "start_time": "2021-12-11T16:33:40.960Z"
   },
   {
    "duration": 32,
    "start_time": "2021-12-11T16:33:41.015Z"
   },
   {
    "duration": 24,
    "start_time": "2021-12-11T16:33:41.050Z"
   },
   {
    "duration": 19,
    "start_time": "2021-12-11T16:33:41.076Z"
   },
   {
    "duration": 18,
    "start_time": "2021-12-11T16:33:41.097Z"
   },
   {
    "duration": 50,
    "start_time": "2021-12-11T16:33:41.117Z"
   },
   {
    "duration": 15,
    "start_time": "2021-12-11T16:33:41.171Z"
   },
   {
    "duration": 10,
    "start_time": "2021-12-11T16:33:41.189Z"
   },
   {
    "duration": 22,
    "start_time": "2021-12-11T16:33:41.201Z"
   },
   {
    "duration": 6,
    "start_time": "2021-12-11T16:33:41.225Z"
   },
   {
    "duration": 45,
    "start_time": "2021-12-11T16:33:41.233Z"
   },
   {
    "duration": 542,
    "start_time": "2021-12-11T16:33:41.281Z"
   },
   {
    "duration": 15,
    "start_time": "2021-12-11T16:33:41.825Z"
   },
   {
    "duration": 25,
    "start_time": "2021-12-11T16:33:41.842Z"
   },
   {
    "duration": 21,
    "start_time": "2021-12-11T16:33:41.870Z"
   },
   {
    "duration": 20,
    "start_time": "2021-12-11T16:33:41.894Z"
   },
   {
    "duration": 11,
    "start_time": "2021-12-11T16:33:41.917Z"
   },
   {
    "duration": 43,
    "start_time": "2021-12-11T16:33:41.931Z"
   },
   {
    "duration": 6,
    "start_time": "2021-12-11T16:33:41.977Z"
   },
   {
    "duration": 8,
    "start_time": "2021-12-11T16:33:41.985Z"
   },
   {
    "duration": 12,
    "start_time": "2021-12-11T16:33:41.995Z"
   },
   {
    "duration": 61,
    "start_time": "2021-12-11T16:33:42.013Z"
   },
   {
    "duration": 12,
    "start_time": "2021-12-11T16:33:42.077Z"
   },
   {
    "duration": 45,
    "start_time": "2021-12-11T16:33:42.091Z"
   },
   {
    "duration": 135,
    "start_time": "2021-12-11T16:33:42.139Z"
   },
   {
    "duration": 1831,
    "start_time": "2021-12-11T16:33:42.277Z"
   },
   {
    "duration": 575,
    "start_time": "2021-12-11T16:33:44.111Z"
   },
   {
    "duration": 11,
    "start_time": "2021-12-11T16:33:44.689Z"
   },
   {
    "duration": 33,
    "start_time": "2021-12-11T16:33:44.703Z"
   },
   {
    "duration": 36,
    "start_time": "2021-12-11T16:33:44.739Z"
   },
   {
    "duration": 422,
    "start_time": "2021-12-11T16:33:44.778Z"
   },
   {
    "duration": 16,
    "start_time": "2021-12-11T16:33:45.203Z"
   },
   {
    "duration": 15,
    "start_time": "2021-12-11T16:33:45.222Z"
   },
   {
    "duration": 445,
    "start_time": "2021-12-11T16:33:45.267Z"
   },
   {
    "duration": 669,
    "start_time": "2021-12-11T16:33:45.714Z"
   },
   {
    "duration": 670,
    "start_time": "2021-12-11T16:33:46.386Z"
   },
   {
    "duration": 49,
    "start_time": "2021-12-11T16:33:47.059Z"
   },
   {
    "duration": 15,
    "start_time": "2021-12-11T16:33:47.111Z"
   },
   {
    "duration": 841,
    "start_time": "2021-12-11T16:33:47.129Z"
   },
   {
    "duration": 15,
    "start_time": "2021-12-11T16:33:47.972Z"
   },
   {
    "duration": 830,
    "start_time": "2021-12-11T16:33:47.990Z"
   },
   {
    "duration": 14,
    "start_time": "2021-12-11T16:33:48.824Z"
   },
   {
    "duration": 34,
    "start_time": "2021-12-11T16:33:48.841Z"
   },
   {
    "duration": 9,
    "start_time": "2021-12-11T16:33:48.877Z"
   },
   {
    "duration": 10,
    "start_time": "2021-12-11T16:33:48.888Z"
   },
   {
    "duration": 9,
    "start_time": "2021-12-11T16:33:48.901Z"
   },
   {
    "duration": 9,
    "start_time": "2021-12-11T16:33:48.913Z"
   },
   {
    "duration": 11,
    "start_time": "2021-12-11T16:33:48.968Z"
   },
   {
    "duration": 11,
    "start_time": "2021-12-11T16:33:48.981Z"
   },
   {
    "duration": 11,
    "start_time": "2021-12-11T16:33:48.994Z"
   },
   {
    "duration": 6,
    "start_time": "2021-12-11T16:33:49.007Z"
   },
   {
    "duration": 59,
    "start_time": "2021-12-11T16:33:49.015Z"
   },
   {
    "duration": 11,
    "start_time": "2021-12-11T16:33:49.077Z"
   },
   {
    "duration": 11,
    "start_time": "2021-12-11T16:33:49.091Z"
   },
   {
    "duration": 3,
    "start_time": "2021-12-11T16:33:49.105Z"
   },
   {
    "duration": 73,
    "start_time": "2021-12-11T16:33:49.111Z"
   },
   {
    "duration": 23,
    "start_time": "2021-12-11T16:33:49.186Z"
   },
   {
    "duration": 16,
    "start_time": "2021-12-11T16:33:49.211Z"
   },
   {
    "duration": 1077,
    "start_time": "2021-12-11T16:33:49.229Z"
   },
   {
    "duration": 13,
    "start_time": "2021-12-11T16:33:50.309Z"
   },
   {
    "duration": 544,
    "start_time": "2021-12-11T16:33:50.324Z"
   },
   {
    "duration": 14,
    "start_time": "2021-12-11T16:33:50.870Z"
   },
   {
    "duration": 646,
    "start_time": "2021-12-12T08:59:52.209Z"
   },
   {
    "duration": 46,
    "start_time": "2021-12-12T08:59:52.858Z"
   },
   {
    "duration": 32,
    "start_time": "2021-12-12T08:59:52.907Z"
   },
   {
    "duration": 18,
    "start_time": "2021-12-12T08:59:52.941Z"
   },
   {
    "duration": 20,
    "start_time": "2021-12-12T08:59:52.961Z"
   },
   {
    "duration": 18,
    "start_time": "2021-12-12T08:59:52.983Z"
   },
   {
    "duration": 9,
    "start_time": "2021-12-12T08:59:53.004Z"
   },
   {
    "duration": 49,
    "start_time": "2021-12-12T08:59:53.016Z"
   },
   {
    "duration": 10,
    "start_time": "2021-12-12T08:59:53.069Z"
   },
   {
    "duration": 20,
    "start_time": "2021-12-12T08:59:53.081Z"
   },
   {
    "duration": 6,
    "start_time": "2021-12-12T08:59:53.104Z"
   },
   {
    "duration": 62,
    "start_time": "2021-12-12T08:59:53.112Z"
   },
   {
    "duration": 358,
    "start_time": "2021-12-12T08:59:53.176Z"
   },
   {
    "duration": 34,
    "start_time": "2021-12-12T08:59:53.536Z"
   },
   {
    "duration": 7,
    "start_time": "2021-12-12T08:59:53.572Z"
   },
   {
    "duration": 32,
    "start_time": "2021-12-12T08:59:53.582Z"
   },
   {
    "duration": 61,
    "start_time": "2021-12-12T08:59:53.617Z"
   },
   {
    "duration": 12,
    "start_time": "2021-12-12T08:59:53.681Z"
   },
   {
    "duration": 12,
    "start_time": "2021-12-12T08:59:53.696Z"
   },
   {
    "duration": 48,
    "start_time": "2021-12-12T08:59:53.711Z"
   },
   {
    "duration": 8,
    "start_time": "2021-12-12T08:59:53.762Z"
   },
   {
    "duration": 12,
    "start_time": "2021-12-12T08:59:53.773Z"
   },
   {
    "duration": 14,
    "start_time": "2021-12-12T08:59:53.792Z"
   },
   {
    "duration": 53,
    "start_time": "2021-12-12T08:59:53.809Z"
   },
   {
    "duration": 54,
    "start_time": "2021-12-12T08:59:53.865Z"
   },
   {
    "duration": 967,
    "start_time": "2021-12-12T08:59:53.922Z"
   },
   {
    "duration": 155347,
    "start_time": "2021-12-12T08:59:54.891Z"
   },
   {
    "duration": 383,
    "start_time": "2021-12-12T09:02:30.240Z"
   },
   {
    "duration": 12,
    "start_time": "2021-12-12T09:02:30.626Z"
   },
   {
    "duration": 49,
    "start_time": "2021-12-12T09:02:30.641Z"
   },
   {
    "duration": 17,
    "start_time": "2021-12-12T09:02:30.693Z"
   },
   {
    "duration": 400,
    "start_time": "2021-12-12T09:02:30.712Z"
   },
   {
    "duration": 15,
    "start_time": "2021-12-12T09:02:31.114Z"
   },
   {
    "duration": 43,
    "start_time": "2021-12-12T09:02:31.131Z"
   },
   {
    "duration": 375,
    "start_time": "2021-12-12T09:02:31.177Z"
   },
   {
    "duration": 580,
    "start_time": "2021-12-12T09:02:31.558Z"
   },
   {
    "duration": 491,
    "start_time": "2021-12-12T09:02:32.140Z"
   },
   {
    "duration": 49,
    "start_time": "2021-12-12T09:02:32.634Z"
   },
   {
    "duration": 19,
    "start_time": "2021-12-12T09:02:32.687Z"
   },
   {
    "duration": 618,
    "start_time": "2021-12-12T09:02:32.709Z"
   },
   {
    "duration": 31,
    "start_time": "2021-12-12T09:02:33.331Z"
   },
   {
    "duration": 387,
    "start_time": "2021-12-12T09:02:33.365Z"
   },
   {
    "duration": 13,
    "start_time": "2021-12-12T09:02:33.755Z"
   },
   {
    "duration": 12,
    "start_time": "2021-12-12T09:02:33.770Z"
   },
   {
    "duration": 7,
    "start_time": "2021-12-12T09:02:33.785Z"
   },
   {
    "duration": 9,
    "start_time": "2021-12-12T09:02:33.795Z"
   },
   {
    "duration": 53,
    "start_time": "2021-12-12T09:02:33.806Z"
   },
   {
    "duration": 10,
    "start_time": "2021-12-12T09:02:33.862Z"
   },
   {
    "duration": 10,
    "start_time": "2021-12-12T09:02:33.874Z"
   },
   {
    "duration": 9,
    "start_time": "2021-12-12T09:02:33.887Z"
   },
   {
    "duration": 11,
    "start_time": "2021-12-12T09:02:33.899Z"
   },
   {
    "duration": 6,
    "start_time": "2021-12-12T09:02:33.959Z"
   },
   {
    "duration": 13,
    "start_time": "2021-12-12T09:02:33.968Z"
   },
   {
    "duration": 9,
    "start_time": "2021-12-12T09:02:33.984Z"
   },
   {
    "duration": 10,
    "start_time": "2021-12-12T09:02:33.996Z"
   },
   {
    "duration": 6,
    "start_time": "2021-12-12T09:02:34.009Z"
   },
   {
    "duration": 70,
    "start_time": "2021-12-12T09:02:34.017Z"
   },
   {
    "duration": 26,
    "start_time": "2021-12-12T09:02:34.090Z"
   },
   {
    "duration": 58,
    "start_time": "2021-12-12T09:02:34.119Z"
   },
   {
    "duration": 554,
    "start_time": "2021-12-12T09:02:34.179Z"
   },
   {
    "duration": 11,
    "start_time": "2021-12-12T09:02:34.736Z"
   },
   {
    "duration": 506,
    "start_time": "2021-12-12T09:02:34.759Z"
   },
   {
    "duration": 15,
    "start_time": "2021-12-12T09:02:35.267Z"
   },
   {
    "duration": 660,
    "start_time": "2021-12-12T09:37:06.721Z"
   },
   {
    "duration": 45,
    "start_time": "2021-12-12T09:37:07.384Z"
   },
   {
    "duration": 40,
    "start_time": "2021-12-12T09:37:07.432Z"
   },
   {
    "duration": 9,
    "start_time": "2021-12-12T09:37:07.475Z"
   },
   {
    "duration": 20,
    "start_time": "2021-12-12T09:37:07.487Z"
   },
   {
    "duration": 49,
    "start_time": "2021-12-12T09:37:07.510Z"
   },
   {
    "duration": 10,
    "start_time": "2021-12-12T09:37:07.562Z"
   },
   {
    "duration": 19,
    "start_time": "2021-12-12T09:37:07.576Z"
   },
   {
    "duration": 9,
    "start_time": "2021-12-12T09:37:07.598Z"
   },
   {
    "duration": 50,
    "start_time": "2021-12-12T09:37:07.609Z"
   },
   {
    "duration": 5,
    "start_time": "2021-12-12T09:37:07.662Z"
   },
   {
    "duration": 21,
    "start_time": "2021-12-12T09:37:07.669Z"
   },
   {
    "duration": 340,
    "start_time": "2021-12-12T09:37:07.692Z"
   },
   {
    "duration": 26,
    "start_time": "2021-12-12T09:37:08.034Z"
   },
   {
    "duration": 5,
    "start_time": "2021-12-12T09:37:08.063Z"
   },
   {
    "duration": 21,
    "start_time": "2021-12-12T09:37:08.070Z"
   },
   {
    "duration": 21,
    "start_time": "2021-12-12T09:37:08.093Z"
   },
   {
    "duration": 49,
    "start_time": "2021-12-12T09:37:08.116Z"
   },
   {
    "duration": 10,
    "start_time": "2021-12-12T09:37:08.167Z"
   },
   {
    "duration": 5,
    "start_time": "2021-12-12T09:37:08.180Z"
   },
   {
    "duration": 11,
    "start_time": "2021-12-12T09:37:08.187Z"
   },
   {
    "duration": 16,
    "start_time": "2021-12-12T09:37:08.200Z"
   },
   {
    "duration": 14,
    "start_time": "2021-12-12T09:37:08.260Z"
   },
   {
    "duration": 12,
    "start_time": "2021-12-12T09:37:08.276Z"
   },
   {
    "duration": 35,
    "start_time": "2021-12-12T09:37:08.290Z"
   },
   {
    "duration": 937,
    "start_time": "2021-12-12T09:37:08.327Z"
   },
   {
    "duration": 147011,
    "start_time": "2021-12-12T09:37:09.266Z"
   },
   {
    "duration": 302,
    "start_time": "2021-12-12T09:39:36.280Z"
   },
   {
    "duration": 9,
    "start_time": "2021-12-12T09:39:36.584Z"
   },
   {
    "duration": 31,
    "start_time": "2021-12-12T09:39:36.596Z"
   },
   {
    "duration": 36,
    "start_time": "2021-12-12T09:39:36.630Z"
   },
   {
    "duration": 330,
    "start_time": "2021-12-12T09:39:36.668Z"
   },
   {
    "duration": 13,
    "start_time": "2021-12-12T09:39:37.001Z"
   },
   {
    "duration": 17,
    "start_time": "2021-12-12T09:39:37.017Z"
   },
   {
    "duration": 379,
    "start_time": "2021-12-12T09:39:37.059Z"
   },
   {
    "duration": 561,
    "start_time": "2021-12-12T09:39:37.440Z"
   },
   {
    "duration": 495,
    "start_time": "2021-12-12T09:39:38.004Z"
   },
   {
    "duration": 37,
    "start_time": "2021-12-12T09:39:38.501Z"
   },
   {
    "duration": 12,
    "start_time": "2021-12-12T09:39:38.559Z"
   },
   {
    "duration": 437,
    "start_time": "2021-12-12T09:39:38.573Z"
   },
   {
    "duration": 13,
    "start_time": "2021-12-12T09:39:39.012Z"
   },
   {
    "duration": 429,
    "start_time": "2021-12-12T09:39:39.028Z"
   },
   {
    "duration": 12,
    "start_time": "2021-12-12T09:39:39.460Z"
   },
   {
    "duration": 9,
    "start_time": "2021-12-12T09:39:39.474Z"
   },
   {
    "duration": 8,
    "start_time": "2021-12-12T09:39:39.485Z"
   },
   {
    "duration": 13,
    "start_time": "2021-12-12T09:39:39.495Z"
   },
   {
    "duration": 50,
    "start_time": "2021-12-12T09:39:39.510Z"
   },
   {
    "duration": 9,
    "start_time": "2021-12-12T09:39:39.563Z"
   },
   {
    "duration": 8,
    "start_time": "2021-12-12T09:39:39.574Z"
   },
   {
    "duration": 8,
    "start_time": "2021-12-12T09:39:39.585Z"
   },
   {
    "duration": 9,
    "start_time": "2021-12-12T09:39:39.596Z"
   },
   {
    "duration": 7,
    "start_time": "2021-12-12T09:39:39.608Z"
   },
   {
    "duration": 12,
    "start_time": "2021-12-12T09:39:39.661Z"
   },
   {
    "duration": 8,
    "start_time": "2021-12-12T09:39:39.676Z"
   },
   {
    "duration": 11,
    "start_time": "2021-12-12T09:39:39.686Z"
   },
   {
    "duration": 3,
    "start_time": "2021-12-12T09:39:39.700Z"
   },
   {
    "duration": 77,
    "start_time": "2021-12-12T09:39:39.705Z"
   },
   {
    "duration": 28,
    "start_time": "2021-12-12T09:39:39.784Z"
   },
   {
    "duration": 18,
    "start_time": "2021-12-12T09:39:39.814Z"
   },
   {
    "duration": 506,
    "start_time": "2021-12-12T09:39:39.859Z"
   },
   {
    "duration": 13,
    "start_time": "2021-12-12T09:39:40.367Z"
   },
   {
    "duration": 376,
    "start_time": "2021-12-12T09:39:40.383Z"
   },
   {
    "duration": 17,
    "start_time": "2021-12-12T09:39:40.761Z"
   },
   {
    "duration": 12,
    "start_time": "2021-12-12T09:50:01.516Z"
   },
   {
    "duration": 5,
    "start_time": "2021-12-12T09:54:58.011Z"
   },
   {
    "duration": 660,
    "start_time": "2021-12-13T16:47:41.612Z"
   },
   {
    "duration": 60,
    "start_time": "2021-12-13T16:47:42.274Z"
   },
   {
    "duration": 18,
    "start_time": "2021-12-13T16:47:42.336Z"
   },
   {
    "duration": 6,
    "start_time": "2021-12-13T16:47:42.356Z"
   },
   {
    "duration": 26,
    "start_time": "2021-12-13T16:47:42.364Z"
   },
   {
    "duration": 12,
    "start_time": "2021-12-13T16:47:42.392Z"
   },
   {
    "duration": 12,
    "start_time": "2021-12-13T16:47:42.406Z"
   },
   {
    "duration": 13,
    "start_time": "2021-12-13T16:47:42.422Z"
   },
   {
    "duration": 9,
    "start_time": "2021-12-13T16:47:42.438Z"
   },
   {
    "duration": 52,
    "start_time": "2021-12-13T16:47:42.449Z"
   },
   {
    "duration": 6,
    "start_time": "2021-12-13T16:47:42.503Z"
   },
   {
    "duration": 14,
    "start_time": "2021-12-13T16:47:42.511Z"
   },
   {
    "duration": 345,
    "start_time": "2021-12-13T16:47:42.527Z"
   },
   {
    "duration": 13,
    "start_time": "2021-12-13T16:47:42.874Z"
   },
   {
    "duration": 9,
    "start_time": "2021-12-13T16:47:42.889Z"
   },
   {
    "duration": 13,
    "start_time": "2021-12-13T16:47:42.900Z"
   },
   {
    "duration": 9,
    "start_time": "2021-12-13T16:47:42.915Z"
   },
   {
    "duration": 12,
    "start_time": "2021-12-13T16:47:42.926Z"
   },
   {
    "duration": 8,
    "start_time": "2021-12-13T16:47:42.940Z"
   },
   {
    "duration": 39,
    "start_time": "2021-12-13T16:47:42.950Z"
   },
   {
    "duration": 9,
    "start_time": "2021-12-13T16:47:42.991Z"
   },
   {
    "duration": 10,
    "start_time": "2021-12-13T16:47:43.002Z"
   },
   {
    "duration": 10,
    "start_time": "2021-12-13T16:47:43.015Z"
   },
   {
    "duration": 8,
    "start_time": "2021-12-13T16:47:43.027Z"
   },
   {
    "duration": 22,
    "start_time": "2021-12-13T16:47:43.037Z"
   },
   {
    "duration": 96,
    "start_time": "2021-12-13T16:47:43.061Z"
   },
   {
    "duration": 1104,
    "start_time": "2021-12-13T16:47:43.159Z"
   },
   {
    "duration": 470,
    "start_time": "2021-12-13T16:47:44.266Z"
   },
   {
    "duration": 8,
    "start_time": "2021-12-13T16:47:44.737Z"
   },
   {
    "duration": 36,
    "start_time": "2021-12-13T16:47:44.746Z"
   },
   {
    "duration": 11,
    "start_time": "2021-12-13T16:47:44.784Z"
   },
   {
    "duration": 230,
    "start_time": "2021-12-13T16:47:44.796Z"
   },
   {
    "duration": 11,
    "start_time": "2021-12-13T16:47:45.029Z"
   },
   {
    "duration": 14,
    "start_time": "2021-12-13T16:47:45.043Z"
   },
   {
    "duration": 409,
    "start_time": "2021-12-13T16:47:45.060Z"
   },
   {
    "duration": 650,
    "start_time": "2021-12-13T16:47:45.471Z"
   },
   {
    "duration": 443,
    "start_time": "2021-12-13T16:47:46.124Z"
   },
   {
    "duration": 50,
    "start_time": "2021-12-13T16:47:46.569Z"
   },
   {
    "duration": 13,
    "start_time": "2021-12-13T16:47:46.621Z"
   },
   {
    "duration": 562,
    "start_time": "2021-12-13T16:47:46.636Z"
   },
   {
    "duration": 10,
    "start_time": "2021-12-13T16:47:47.200Z"
   },
   {
    "duration": 464,
    "start_time": "2021-12-13T16:47:47.212Z"
   },
   {
    "duration": 20,
    "start_time": "2021-12-13T16:47:47.678Z"
   },
   {
    "duration": 9,
    "start_time": "2021-12-13T16:47:47.701Z"
   },
   {
    "duration": 11,
    "start_time": "2021-12-13T16:47:47.712Z"
   },
   {
    "duration": 7,
    "start_time": "2021-12-13T16:47:47.726Z"
   },
   {
    "duration": 7,
    "start_time": "2021-12-13T16:47:47.735Z"
   },
   {
    "duration": 45,
    "start_time": "2021-12-13T16:47:47.744Z"
   },
   {
    "duration": 10,
    "start_time": "2021-12-13T16:47:47.792Z"
   },
   {
    "duration": 12,
    "start_time": "2021-12-13T16:47:47.805Z"
   },
   {
    "duration": 10,
    "start_time": "2021-12-13T16:47:47.819Z"
   },
   {
    "duration": 5,
    "start_time": "2021-12-13T16:47:47.832Z"
   },
   {
    "duration": 8,
    "start_time": "2021-12-13T16:47:47.839Z"
   },
   {
    "duration": 47,
    "start_time": "2021-12-13T16:47:47.849Z"
   },
   {
    "duration": 9,
    "start_time": "2021-12-13T16:47:47.898Z"
   },
   {
    "duration": 4,
    "start_time": "2021-12-13T16:47:47.909Z"
   },
   {
    "duration": 28,
    "start_time": "2021-12-13T16:47:47.915Z"
   },
   {
    "duration": 46,
    "start_time": "2021-12-13T16:47:47.945Z"
   },
   {
    "duration": 15,
    "start_time": "2021-12-13T16:47:47.993Z"
   },
   {
    "duration": 472,
    "start_time": "2021-12-13T16:47:48.010Z"
   },
   {
    "duration": 10,
    "start_time": "2021-12-13T16:47:48.484Z"
   },
   {
    "duration": 370,
    "start_time": "2021-12-13T16:47:48.497Z"
   },
   {
    "duration": 19,
    "start_time": "2021-12-13T16:47:48.869Z"
   },
   {
    "duration": 5,
    "start_time": "2021-12-13T16:55:25.087Z"
   },
   {
    "duration": 3,
    "start_time": "2021-12-13T17:02:05.879Z"
   },
   {
    "duration": 23,
    "start_time": "2021-12-13T17:02:46.059Z"
   },
   {
    "duration": 1832,
    "start_time": "2021-12-13T17:05:23.782Z"
   },
   {
    "duration": 588,
    "start_time": "2021-12-13T17:06:09.204Z"
   },
   {
    "duration": 419,
    "start_time": "2021-12-13T17:08:58.483Z"
   },
   {
    "duration": 1842,
    "start_time": "2021-12-13T17:10:02.146Z"
   },
   {
    "duration": 338,
    "start_time": "2021-12-13T17:20:52.191Z"
   },
   {
    "duration": 250,
    "start_time": "2021-12-13T17:23:33.466Z"
   },
   {
    "duration": 84,
    "start_time": "2021-12-13T17:25:25.052Z"
   },
   {
    "duration": 275,
    "start_time": "2021-12-13T17:25:56.036Z"
   },
   {
    "duration": 243,
    "start_time": "2021-12-13T17:26:37.033Z"
   },
   {
    "duration": 27649,
    "start_time": "2021-12-13T17:27:07.724Z"
   },
   {
    "duration": 565,
    "start_time": "2021-12-13T17:28:43.598Z"
   },
   {
    "duration": 89,
    "start_time": "2021-12-13T17:29:01.569Z"
   },
   {
    "duration": 31378,
    "start_time": "2021-12-13T17:29:08.471Z"
   },
   {
    "duration": 1555,
    "start_time": "2021-12-13T17:32:24.404Z"
   },
   {
    "duration": 37,
    "start_time": "2021-12-13T17:32:25.960Z"
   },
   {
    "duration": 22,
    "start_time": "2021-12-13T17:32:25.999Z"
   },
   {
    "duration": 7,
    "start_time": "2021-12-13T17:32:26.023Z"
   },
   {
    "duration": 10,
    "start_time": "2021-12-13T17:32:26.032Z"
   },
   {
    "duration": 9,
    "start_time": "2021-12-13T17:32:26.044Z"
   },
   {
    "duration": 36,
    "start_time": "2021-12-13T17:32:26.054Z"
   },
   {
    "duration": 13,
    "start_time": "2021-12-13T17:32:26.092Z"
   },
   {
    "duration": 2,
    "start_time": "2021-12-13T17:32:26.108Z"
   },
   {
    "duration": 14,
    "start_time": "2021-12-13T17:32:26.113Z"
   },
   {
    "duration": 5,
    "start_time": "2021-12-13T17:32:26.129Z"
   },
   {
    "duration": 11,
    "start_time": "2021-12-13T17:32:26.135Z"
   },
   {
    "duration": 368,
    "start_time": "2021-12-13T17:32:26.147Z"
   },
   {
    "duration": 12,
    "start_time": "2021-12-13T17:32:26.517Z"
   },
   {
    "duration": 4,
    "start_time": "2021-12-13T17:32:26.531Z"
   },
   {
    "duration": 17,
    "start_time": "2021-12-13T17:32:26.536Z"
   },
   {
    "duration": 10,
    "start_time": "2021-12-13T17:32:26.554Z"
   },
   {
    "duration": 16,
    "start_time": "2021-12-13T17:32:26.588Z"
   },
   {
    "duration": 9,
    "start_time": "2021-12-13T17:32:26.606Z"
   },
   {
    "duration": 5,
    "start_time": "2021-12-13T17:32:26.617Z"
   },
   {
    "duration": 8,
    "start_time": "2021-12-13T17:32:26.623Z"
   },
   {
    "duration": 9,
    "start_time": "2021-12-13T17:32:26.633Z"
   },
   {
    "duration": 9,
    "start_time": "2021-12-13T17:32:26.643Z"
   },
   {
    "duration": 39,
    "start_time": "2021-12-13T17:32:26.653Z"
   },
   {
    "duration": 4,
    "start_time": "2021-12-13T17:32:26.694Z"
   },
   {
    "duration": 22,
    "start_time": "2021-12-13T17:32:26.700Z"
   },
   {
    "duration": 87,
    "start_time": "2021-12-13T17:32:26.727Z"
   },
   {
    "duration": 1199,
    "start_time": "2021-12-13T17:32:26.817Z"
   },
   {
    "duration": 382,
    "start_time": "2021-12-13T17:32:28.018Z"
   },
   {
    "duration": 9,
    "start_time": "2021-12-13T17:32:28.402Z"
   },
   {
    "duration": 18,
    "start_time": "2021-12-13T17:32:28.412Z"
   },
   {
    "duration": 28,
    "start_time": "2021-12-13T17:32:28.431Z"
   },
   {
    "duration": 6,
    "start_time": "2021-12-13T17:32:28.461Z"
   },
   {
    "duration": 232,
    "start_time": "2021-12-13T17:32:28.468Z"
   },
   {
    "duration": 11,
    "start_time": "2021-12-13T17:32:28.702Z"
   },
   {
    "duration": 22,
    "start_time": "2021-12-13T17:32:28.714Z"
   },
   {
    "duration": 258,
    "start_time": "2021-12-13T17:32:28.738Z"
   },
   {
    "duration": 460,
    "start_time": "2021-12-13T17:32:28.998Z"
   },
   {
    "duration": 372,
    "start_time": "2021-12-13T17:32:29.460Z"
   },
   {
    "duration": 23,
    "start_time": "2021-12-13T17:32:29.834Z"
   },
   {
    "duration": 7,
    "start_time": "2021-12-13T17:32:29.859Z"
   },
   {
    "duration": 590,
    "start_time": "2021-12-13T17:32:29.868Z"
   },
   {
    "duration": 11,
    "start_time": "2021-12-13T17:32:30.460Z"
   },
   {
    "duration": 509,
    "start_time": "2021-12-13T17:32:30.472Z"
   },
   {
    "duration": 10,
    "start_time": "2021-12-13T17:32:30.983Z"
   },
   {
    "duration": 8,
    "start_time": "2021-12-13T17:32:30.995Z"
   },
   {
    "duration": 13,
    "start_time": "2021-12-13T17:32:31.005Z"
   },
   {
    "duration": 7,
    "start_time": "2021-12-13T17:32:31.020Z"
   },
   {
    "duration": 13,
    "start_time": "2021-12-13T17:32:31.029Z"
   },
   {
    "duration": 11,
    "start_time": "2021-12-13T17:32:31.043Z"
   },
   {
    "duration": 46,
    "start_time": "2021-12-13T17:32:31.055Z"
   },
   {
    "duration": 18,
    "start_time": "2021-12-13T17:32:31.103Z"
   },
   {
    "duration": 8,
    "start_time": "2021-12-13T17:32:31.123Z"
   },
   {
    "duration": 6,
    "start_time": "2021-12-13T17:32:31.132Z"
   },
   {
    "duration": 26,
    "start_time": "2021-12-13T17:32:31.139Z"
   },
   {
    "duration": 10,
    "start_time": "2021-12-13T17:32:31.167Z"
   },
   {
    "duration": 10,
    "start_time": "2021-12-13T17:32:31.179Z"
   },
   {
    "duration": 11,
    "start_time": "2021-12-13T17:32:31.191Z"
   },
   {
    "duration": 22,
    "start_time": "2021-12-13T17:32:31.204Z"
   },
   {
    "duration": 22,
    "start_time": "2021-12-13T17:32:31.227Z"
   },
   {
    "duration": 19,
    "start_time": "2021-12-13T17:32:31.250Z"
   },
   {
    "duration": 460,
    "start_time": "2021-12-13T17:32:31.271Z"
   },
   {
    "duration": 8,
    "start_time": "2021-12-13T17:32:31.733Z"
   },
   {
    "duration": 317,
    "start_time": "2021-12-13T17:32:31.742Z"
   },
   {
    "duration": 10,
    "start_time": "2021-12-13T17:32:32.060Z"
   },
   {
    "duration": 10753,
    "start_time": "2021-12-13T17:34:09.245Z"
   },
   {
    "duration": 810,
    "start_time": "2021-12-13T17:34:36.623Z"
   },
   {
    "duration": 1221,
    "start_time": "2021-12-13T17:36:00.145Z"
   },
   {
    "duration": 9,
    "start_time": "2021-12-13T17:36:11.089Z"
   },
   {
    "duration": 9,
    "start_time": "2021-12-13T17:36:36.775Z"
   },
   {
    "duration": 10445,
    "start_time": "2021-12-13T17:37:49.282Z"
   },
   {
    "duration": 256,
    "start_time": "2021-12-13T17:40:56.616Z"
   },
   {
    "duration": 7,
    "start_time": "2021-12-13T17:41:58.291Z"
   },
   {
    "duration": 6,
    "start_time": "2021-12-13T17:44:30.737Z"
   },
   {
    "duration": 28,
    "start_time": "2021-12-13T17:44:40.186Z"
   },
   {
    "duration": 300,
    "start_time": "2021-12-13T17:45:02.789Z"
   },
   {
    "duration": 234,
    "start_time": "2021-12-13T17:45:23.100Z"
   },
   {
    "duration": 249,
    "start_time": "2021-12-13T17:45:51.131Z"
   },
   {
    "duration": 13,
    "start_time": "2021-12-13T17:51:37.294Z"
   },
   {
    "duration": 10,
    "start_time": "2021-12-13T17:51:45.770Z"
   },
   {
    "duration": 12,
    "start_time": "2021-12-13T17:52:45.274Z"
   },
   {
    "duration": 11,
    "start_time": "2021-12-13T17:52:46.084Z"
   },
   {
    "duration": 6284,
    "start_time": "2021-12-13T17:55:01.164Z"
   },
   {
    "duration": 2300,
    "start_time": "2021-12-13T17:56:01.163Z"
   },
   {
    "duration": 6531,
    "start_time": "2021-12-13T17:55:56.935Z"
   },
   {
    "duration": 15,
    "start_time": "2021-12-13T17:56:42.158Z"
   },
   {
    "duration": 10,
    "start_time": "2021-12-13T17:56:42.378Z"
   },
   {
    "duration": 12,
    "start_time": "2021-12-13T17:57:22.312Z"
   },
   {
    "duration": 11,
    "start_time": "2021-12-13T17:57:22.993Z"
   },
   {
    "duration": 6258,
    "start_time": "2021-12-13T17:57:33.241Z"
   },
   {
    "duration": 1019,
    "start_time": "2021-12-13T17:58:20.851Z"
   },
   {
    "duration": 12,
    "start_time": "2021-12-13T17:59:20.875Z"
   },
   {
    "duration": 8,
    "start_time": "2021-12-13T17:59:28.079Z"
   },
   {
    "duration": 9,
    "start_time": "2021-12-13T18:00:40.189Z"
   },
   {
    "duration": 10,
    "start_time": "2021-12-13T18:00:45.322Z"
   },
   {
    "duration": 6529,
    "start_time": "2021-12-13T18:01:30.904Z"
   },
   {
    "duration": 6261,
    "start_time": "2021-12-13T18:02:06.827Z"
   },
   {
    "duration": 10,
    "start_time": "2021-12-13T18:02:32.239Z"
   },
   {
    "duration": 93,
    "start_time": "2021-12-13T18:02:43.450Z"
   },
   {
    "duration": 9,
    "start_time": "2021-12-13T18:02:48.929Z"
   },
   {
    "duration": 6318,
    "start_time": "2021-12-13T18:05:05.404Z"
   },
   {
    "duration": 6140,
    "start_time": "2021-12-13T18:05:16.100Z"
   },
   {
    "duration": 3,
    "start_time": "2021-12-13T18:05:33.307Z"
   },
   {
    "duration": 182,
    "start_time": "2021-12-13T18:05:33.327Z"
   },
   {
    "duration": 16,
    "start_time": "2021-12-13T18:05:33.511Z"
   },
   {
    "duration": 6,
    "start_time": "2021-12-13T18:05:33.530Z"
   },
   {
    "duration": 20,
    "start_time": "2021-12-13T18:05:33.538Z"
   },
   {
    "duration": 30,
    "start_time": "2021-12-13T18:05:33.559Z"
   },
   {
    "duration": 10,
    "start_time": "2021-12-13T18:05:33.590Z"
   },
   {
    "duration": 10,
    "start_time": "2021-12-13T18:05:33.601Z"
   },
   {
    "duration": 2,
    "start_time": "2021-12-13T18:05:33.613Z"
   },
   {
    "duration": 20,
    "start_time": "2021-12-13T18:05:33.616Z"
   },
   {
    "duration": 4,
    "start_time": "2021-12-13T18:05:33.638Z"
   },
   {
    "duration": 14,
    "start_time": "2021-12-13T18:05:33.643Z"
   },
   {
    "duration": 435,
    "start_time": "2021-12-13T18:05:33.688Z"
   },
   {
    "duration": 13,
    "start_time": "2021-12-13T18:05:34.125Z"
   },
   {
    "duration": 4,
    "start_time": "2021-12-13T18:05:34.140Z"
   },
   {
    "duration": 19,
    "start_time": "2021-12-13T18:05:34.146Z"
   },
   {
    "duration": 22,
    "start_time": "2021-12-13T18:05:34.167Z"
   },
   {
    "duration": 12,
    "start_time": "2021-12-13T18:05:34.192Z"
   },
   {
    "duration": 8,
    "start_time": "2021-12-13T18:05:34.207Z"
   },
   {
    "duration": 4,
    "start_time": "2021-12-13T18:05:34.216Z"
   },
   {
    "duration": 7,
    "start_time": "2021-12-13T18:05:34.222Z"
   },
   {
    "duration": 9,
    "start_time": "2021-12-13T18:05:34.231Z"
   },
   {
    "duration": 53,
    "start_time": "2021-12-13T18:05:34.241Z"
   },
   {
    "duration": 7,
    "start_time": "2021-12-13T18:05:34.296Z"
   },
   {
    "duration": 4,
    "start_time": "2021-12-13T18:05:34.305Z"
   },
   {
    "duration": 32,
    "start_time": "2021-12-13T18:05:34.311Z"
   },
   {
    "duration": 3,
    "start_time": "2021-12-13T18:05:34.344Z"
   },
   {
    "duration": 2542,
    "start_time": "2021-12-13T18:05:34.349Z"
   },
   {
    "duration": 809,
    "start_time": "2021-12-13T18:05:36.893Z"
   },
   {
    "duration": 7,
    "start_time": "2021-12-13T18:05:37.705Z"
   },
   {
    "duration": 6482,
    "start_time": "2021-12-13T18:05:37.713Z"
   },
   {
    "duration": 6587,
    "start_time": "2021-12-13T18:05:37.611Z"
   },
   {
    "duration": 6568,
    "start_time": "2021-12-13T18:05:37.632Z"
   },
   {
    "duration": 6559,
    "start_time": "2021-12-13T18:05:37.642Z"
   },
   {
    "duration": 6548,
    "start_time": "2021-12-13T18:05:37.654Z"
   },
   {
    "duration": 6539,
    "start_time": "2021-12-13T18:05:37.665Z"
   },
   {
    "duration": 6525,
    "start_time": "2021-12-13T18:05:37.680Z"
   },
   {
    "duration": 6481,
    "start_time": "2021-12-13T18:05:37.725Z"
   },
   {
    "duration": 6377,
    "start_time": "2021-12-13T18:05:37.830Z"
   },
   {
    "duration": 6328,
    "start_time": "2021-12-13T18:05:37.880Z"
   },
   {
    "duration": 6316,
    "start_time": "2021-12-13T18:05:37.893Z"
   },
   {
    "duration": 6307,
    "start_time": "2021-12-13T18:05:37.903Z"
   },
   {
    "duration": 6298,
    "start_time": "2021-12-13T18:05:37.914Z"
   },
   {
    "duration": 6288,
    "start_time": "2021-12-13T18:05:37.924Z"
   },
   {
    "duration": 6278,
    "start_time": "2021-12-13T18:05:37.935Z"
   },
   {
    "duration": 6268,
    "start_time": "2021-12-13T18:05:37.946Z"
   },
   {
    "duration": 6257,
    "start_time": "2021-12-13T18:05:37.959Z"
   },
   {
    "duration": 6248,
    "start_time": "2021-12-13T18:05:37.969Z"
   },
   {
    "duration": 6210,
    "start_time": "2021-12-13T18:05:38.008Z"
   },
   {
    "duration": 6198,
    "start_time": "2021-12-13T18:05:38.021Z"
   },
   {
    "duration": 6188,
    "start_time": "2021-12-13T18:05:38.032Z"
   },
   {
    "duration": 6179,
    "start_time": "2021-12-13T18:05:38.042Z"
   },
   {
    "duration": 6168,
    "start_time": "2021-12-13T18:05:38.054Z"
   },
   {
    "duration": 6158,
    "start_time": "2021-12-13T18:05:38.065Z"
   },
   {
    "duration": 6148,
    "start_time": "2021-12-13T18:05:38.076Z"
   },
   {
    "duration": 6135,
    "start_time": "2021-12-13T18:05:38.090Z"
   },
   {
    "duration": 6097,
    "start_time": "2021-12-13T18:05:38.129Z"
   },
   {
    "duration": 6087,
    "start_time": "2021-12-13T18:05:38.140Z"
   },
   {
    "duration": 6038,
    "start_time": "2021-12-13T18:05:38.190Z"
   },
   {
    "duration": 6028,
    "start_time": "2021-12-13T18:05:38.201Z"
   },
   {
    "duration": 6012,
    "start_time": "2021-12-13T18:05:38.218Z"
   },
   {
    "duration": 5982,
    "start_time": "2021-12-13T18:05:38.249Z"
   },
   {
    "duration": 5937,
    "start_time": "2021-12-13T18:05:38.295Z"
   },
   {
    "duration": 5928,
    "start_time": "2021-12-13T18:05:38.305Z"
   },
   {
    "duration": 5918,
    "start_time": "2021-12-13T18:05:38.317Z"
   },
   {
    "duration": 264,
    "start_time": "2021-12-13T18:05:58.345Z"
   },
   {
    "duration": 3,
    "start_time": "2021-12-13T18:10:37.082Z"
   },
   {
    "duration": 45,
    "start_time": "2021-12-13T18:10:37.093Z"
   },
   {
    "duration": 17,
    "start_time": "2021-12-13T18:10:37.140Z"
   },
   {
    "duration": 26,
    "start_time": "2021-12-13T18:10:37.159Z"
   },
   {
    "duration": 18,
    "start_time": "2021-12-13T18:10:37.187Z"
   },
   {
    "duration": 16,
    "start_time": "2021-12-13T18:10:37.207Z"
   },
   {
    "duration": 25,
    "start_time": "2021-12-13T18:10:37.224Z"
   },
   {
    "duration": 21,
    "start_time": "2021-12-13T18:10:37.250Z"
   },
   {
    "duration": 2,
    "start_time": "2021-12-13T18:10:37.273Z"
   },
   {
    "duration": 29,
    "start_time": "2021-12-13T18:10:37.281Z"
   },
   {
    "duration": 16,
    "start_time": "2021-12-13T18:10:37.312Z"
   },
   {
    "duration": 24,
    "start_time": "2021-12-13T18:10:37.330Z"
   },
   {
    "duration": 501,
    "start_time": "2021-12-13T18:10:37.356Z"
   },
   {
    "duration": 14,
    "start_time": "2021-12-13T18:10:37.859Z"
   },
   {
    "duration": 6,
    "start_time": "2021-12-13T18:10:37.888Z"
   },
   {
    "duration": 20,
    "start_time": "2021-12-13T18:10:37.895Z"
   },
   {
    "duration": 7,
    "start_time": "2021-12-13T18:10:37.918Z"
   },
   {
    "duration": 11,
    "start_time": "2021-12-13T18:10:37.927Z"
   },
   {
    "duration": 8,
    "start_time": "2021-12-13T18:10:37.940Z"
   },
   {
    "duration": 38,
    "start_time": "2021-12-13T18:10:37.950Z"
   },
   {
    "duration": 6,
    "start_time": "2021-12-13T18:10:37.990Z"
   },
   {
    "duration": 9,
    "start_time": "2021-12-13T18:10:37.997Z"
   },
   {
    "duration": 10,
    "start_time": "2021-12-13T18:10:38.007Z"
   },
   {
    "duration": 7,
    "start_time": "2021-12-13T18:10:38.019Z"
   },
   {
    "duration": 4,
    "start_time": "2021-12-13T18:10:38.027Z"
   },
   {
    "duration": 61,
    "start_time": "2021-12-13T18:10:38.032Z"
   },
   {
    "duration": 2,
    "start_time": "2021-12-13T18:10:38.095Z"
   },
   {
    "duration": 2064,
    "start_time": "2021-12-13T18:10:38.099Z"
   },
   {
    "duration": 845,
    "start_time": "2021-12-13T18:10:40.165Z"
   },
   {
    "duration": 9,
    "start_time": "2021-12-13T18:10:41.012Z"
   },
   {
    "duration": 2,
    "start_time": "2021-12-13T18:10:41.025Z"
   },
   {
    "duration": 27,
    "start_time": "2021-12-13T18:10:41.029Z"
   },
   {
    "duration": 35,
    "start_time": "2021-12-13T18:10:41.057Z"
   },
   {
    "duration": 319,
    "start_time": "2021-12-13T18:10:41.093Z"
   },
   {
    "duration": 12,
    "start_time": "2021-12-13T18:10:41.413Z"
   },
   {
    "duration": 11,
    "start_time": "2021-12-13T18:10:41.427Z"
   },
   {
    "duration": 292,
    "start_time": "2021-12-13T18:10:41.440Z"
   },
   {
    "duration": 3,
    "start_time": "2021-12-13T18:10:41.734Z"
   },
   {
    "duration": 451,
    "start_time": "2021-12-13T18:10:41.739Z"
   },
   {
    "duration": 25,
    "start_time": "2021-12-13T18:10:42.192Z"
   },
   {
    "duration": 7,
    "start_time": "2021-12-13T18:10:42.219Z"
   },
   {
    "duration": 528,
    "start_time": "2021-12-13T18:10:42.228Z"
   },
   {
    "duration": 9,
    "start_time": "2021-12-13T18:10:42.757Z"
   },
   {
    "duration": 478,
    "start_time": "2021-12-13T18:10:42.767Z"
   },
   {
    "duration": 8,
    "start_time": "2021-12-13T18:10:43.247Z"
   },
   {
    "duration": 12,
    "start_time": "2021-12-13T18:10:43.256Z"
   },
   {
    "duration": 20,
    "start_time": "2021-12-13T18:10:43.269Z"
   },
   {
    "duration": 13,
    "start_time": "2021-12-13T18:10:43.291Z"
   },
   {
    "duration": 10,
    "start_time": "2021-12-13T18:10:43.306Z"
   },
   {
    "duration": 7,
    "start_time": "2021-12-13T18:10:43.318Z"
   },
   {
    "duration": 7,
    "start_time": "2021-12-13T18:10:43.327Z"
   },
   {
    "duration": 8,
    "start_time": "2021-12-13T18:10:43.336Z"
   },
   {
    "duration": 8,
    "start_time": "2021-12-13T18:10:43.346Z"
   },
   {
    "duration": 33,
    "start_time": "2021-12-13T18:10:43.356Z"
   },
   {
    "duration": 8,
    "start_time": "2021-12-13T18:10:43.391Z"
   },
   {
    "duration": 7,
    "start_time": "2021-12-13T18:10:43.401Z"
   },
   {
    "duration": 8,
    "start_time": "2021-12-13T18:10:43.410Z"
   },
   {
    "duration": 3,
    "start_time": "2021-12-13T18:10:43.419Z"
   },
   {
    "duration": 14,
    "start_time": "2021-12-13T18:10:43.424Z"
   },
   {
    "duration": 55,
    "start_time": "2021-12-13T18:10:43.439Z"
   },
   {
    "duration": 13,
    "start_time": "2021-12-13T18:10:43.497Z"
   },
   {
    "duration": 817,
    "start_time": "2021-12-13T18:10:43.512Z"
   },
   {
    "duration": 12,
    "start_time": "2021-12-13T18:10:44.331Z"
   },
   {
    "duration": 378,
    "start_time": "2021-12-13T18:10:44.345Z"
   },
   {
    "duration": 9,
    "start_time": "2021-12-13T18:10:44.724Z"
   },
   {
    "duration": 8,
    "start_time": "2021-12-13T18:11:49.573Z"
   },
   {
    "duration": 227,
    "start_time": "2021-12-13T18:12:01.301Z"
   },
   {
    "duration": 609,
    "start_time": "2021-12-13T18:12:58.249Z"
   },
   {
    "duration": 313,
    "start_time": "2021-12-13T18:14:04.907Z"
   },
   {
    "duration": 358,
    "start_time": "2021-12-13T18:14:12.953Z"
   },
   {
    "duration": 248,
    "start_time": "2021-12-13T18:14:30.745Z"
   },
   {
    "duration": 299,
    "start_time": "2021-12-13T18:17:21.823Z"
   },
   {
    "duration": 220,
    "start_time": "2021-12-13T18:17:36.027Z"
   },
   {
    "duration": 1174,
    "start_time": "2021-12-13T18:18:48.483Z"
   },
   {
    "duration": 164,
    "start_time": "2021-12-13T18:19:03.770Z"
   },
   {
    "duration": 215,
    "start_time": "2021-12-13T18:20:52.501Z"
   },
   {
    "duration": 251,
    "start_time": "2021-12-13T18:20:52.798Z"
   },
   {
    "duration": 239,
    "start_time": "2021-12-13T18:20:53.051Z"
   },
   {
    "duration": 244,
    "start_time": "2021-12-13T18:20:53.292Z"
   },
   {
    "duration": 254,
    "start_time": "2021-12-13T18:20:53.538Z"
   },
   {
    "duration": 185,
    "start_time": "2021-12-13T18:20:59.934Z"
   },
   {
    "duration": 532,
    "start_time": "2021-12-13T18:24:22.039Z"
   },
   {
    "duration": 490,
    "start_time": "2021-12-13T18:24:44.954Z"
   },
   {
    "duration": 1472,
    "start_time": "2021-12-13T18:27:23.066Z"
   },
   {
    "duration": 1552,
    "start_time": "2021-12-13T18:27:35.566Z"
   },
   {
    "duration": 264,
    "start_time": "2021-12-13T18:30:08.080Z"
   },
   {
    "duration": 12,
    "start_time": "2021-12-13T18:30:32.232Z"
   },
   {
    "duration": 262,
    "start_time": "2021-12-13T18:31:10.921Z"
   },
   {
    "duration": 178,
    "start_time": "2021-12-13T18:51:29.359Z"
   },
   {
    "duration": 162,
    "start_time": "2021-12-13T18:52:34.833Z"
   },
   {
    "duration": 561,
    "start_time": "2021-12-13T20:15:54.028Z"
   },
   {
    "duration": 47,
    "start_time": "2021-12-13T20:15:54.591Z"
   },
   {
    "duration": 18,
    "start_time": "2021-12-13T20:15:54.640Z"
   },
   {
    "duration": 6,
    "start_time": "2021-12-13T20:15:54.660Z"
   },
   {
    "duration": 24,
    "start_time": "2021-12-13T20:15:54.667Z"
   },
   {
    "duration": 10,
    "start_time": "2021-12-13T20:15:54.692Z"
   },
   {
    "duration": 6,
    "start_time": "2021-12-13T20:15:54.704Z"
   },
   {
    "duration": 9,
    "start_time": "2021-12-13T20:15:54.712Z"
   },
   {
    "duration": 2,
    "start_time": "2021-12-13T20:15:54.723Z"
   },
   {
    "duration": 10,
    "start_time": "2021-12-13T20:15:54.727Z"
   },
   {
    "duration": 5,
    "start_time": "2021-12-13T20:15:54.738Z"
   },
   {
    "duration": 46,
    "start_time": "2021-12-13T20:15:54.745Z"
   },
   {
    "duration": 282,
    "start_time": "2021-12-13T20:15:54.793Z"
   },
   {
    "duration": 16,
    "start_time": "2021-12-13T20:15:55.077Z"
   },
   {
    "duration": 8,
    "start_time": "2021-12-13T20:15:55.094Z"
   },
   {
    "duration": 11,
    "start_time": "2021-12-13T20:15:55.103Z"
   },
   {
    "duration": 8,
    "start_time": "2021-12-13T20:15:55.116Z"
   },
   {
    "duration": 10,
    "start_time": "2021-12-13T20:15:55.125Z"
   },
   {
    "duration": 7,
    "start_time": "2021-12-13T20:15:55.137Z"
   },
   {
    "duration": 4,
    "start_time": "2021-12-13T20:15:55.145Z"
   },
   {
    "duration": 38,
    "start_time": "2021-12-13T20:15:55.151Z"
   },
   {
    "duration": 8,
    "start_time": "2021-12-13T20:15:55.190Z"
   },
   {
    "duration": 8,
    "start_time": "2021-12-13T20:15:55.200Z"
   },
   {
    "duration": 7,
    "start_time": "2021-12-13T20:15:55.210Z"
   },
   {
    "duration": 4,
    "start_time": "2021-12-13T20:15:55.218Z"
   },
   {
    "duration": 20,
    "start_time": "2021-12-13T20:15:55.223Z"
   },
   {
    "duration": 101,
    "start_time": "2021-12-13T20:15:55.247Z"
   },
   {
    "duration": 1077,
    "start_time": "2021-12-13T20:15:55.350Z"
   },
   {
    "duration": 374,
    "start_time": "2021-12-13T20:15:56.429Z"
   },
   {
    "duration": 7,
    "start_time": "2021-12-13T20:15:56.805Z"
   },
   {
    "duration": 14,
    "start_time": "2021-12-13T20:15:56.814Z"
   },
   {
    "duration": 26,
    "start_time": "2021-12-13T20:15:56.829Z"
   },
   {
    "duration": 6,
    "start_time": "2021-12-13T20:15:56.856Z"
   },
   {
    "duration": 165,
    "start_time": "2021-12-13T20:15:56.864Z"
   },
   {
    "duration": 10,
    "start_time": "2021-12-13T20:15:57.031Z"
   },
   {
    "duration": 9,
    "start_time": "2021-12-13T20:15:57.042Z"
   },
   {
    "duration": 152,
    "start_time": "2021-12-13T20:15:57.052Z"
   },
   {
    "duration": 142,
    "start_time": "2021-12-13T20:15:57.206Z"
   },
   {
    "duration": 166,
    "start_time": "2021-12-13T20:15:57.350Z"
   },
   {
    "duration": 145,
    "start_time": "2021-12-13T20:15:57.518Z"
   },
   {
    "duration": 172,
    "start_time": "2021-12-13T20:15:57.664Z"
   },
   {
    "duration": 160,
    "start_time": "2021-12-13T20:15:57.838Z"
   },
   {
    "duration": 159,
    "start_time": "2021-12-13T20:15:58.000Z"
   },
   {
    "duration": 517,
    "start_time": "2021-12-13T20:15:58.161Z"
   },
   {
    "duration": 350,
    "start_time": "2021-12-13T20:15:58.680Z"
   },
   {
    "duration": 172,
    "start_time": "2021-12-13T20:15:59.032Z"
   },
   {
    "duration": 166,
    "start_time": "2021-12-13T20:15:59.206Z"
   },
   {
    "duration": 1488,
    "start_time": "2021-12-13T20:15:59.373Z"
   },
   {
    "duration": 34,
    "start_time": "2021-12-13T20:16:00.862Z"
   },
   {
    "duration": 7,
    "start_time": "2021-12-13T20:16:00.898Z"
   },
   {
    "duration": 484,
    "start_time": "2021-12-13T20:16:00.907Z"
   },
   {
    "duration": 8,
    "start_time": "2021-12-13T20:16:01.392Z"
   },
   {
    "duration": 462,
    "start_time": "2021-12-13T20:16:01.402Z"
   },
   {
    "duration": 8,
    "start_time": "2021-12-13T20:16:01.866Z"
   },
   {
    "duration": 29,
    "start_time": "2021-12-13T20:16:01.876Z"
   },
   {
    "duration": 23,
    "start_time": "2021-12-13T20:16:01.907Z"
   },
   {
    "duration": 16,
    "start_time": "2021-12-13T20:16:01.932Z"
   },
   {
    "duration": 11,
    "start_time": "2021-12-13T20:16:01.949Z"
   },
   {
    "duration": 15,
    "start_time": "2021-12-13T20:16:01.962Z"
   },
   {
    "duration": 11,
    "start_time": "2021-12-13T20:16:01.979Z"
   },
   {
    "duration": 32,
    "start_time": "2021-12-13T20:16:01.992Z"
   },
   {
    "duration": 7,
    "start_time": "2021-12-13T20:16:02.026Z"
   },
   {
    "duration": 7,
    "start_time": "2021-12-13T20:16:02.034Z"
   },
   {
    "duration": 17,
    "start_time": "2021-12-13T20:16:02.042Z"
   },
   {
    "duration": 10,
    "start_time": "2021-12-13T20:16:02.061Z"
   },
   {
    "duration": 26,
    "start_time": "2021-12-13T20:16:02.073Z"
   },
   {
    "duration": 2,
    "start_time": "2021-12-13T20:16:02.100Z"
   },
   {
    "duration": 23,
    "start_time": "2021-12-13T20:16:02.107Z"
   },
   {
    "duration": 23,
    "start_time": "2021-12-13T20:16:02.132Z"
   },
   {
    "duration": 11,
    "start_time": "2021-12-13T20:16:02.156Z"
   },
   {
    "duration": 427,
    "start_time": "2021-12-13T20:16:02.168Z"
   },
   {
    "duration": 8,
    "start_time": "2021-12-13T20:16:02.597Z"
   },
   {
    "duration": 305,
    "start_time": "2021-12-13T20:16:02.607Z"
   },
   {
    "duration": 10,
    "start_time": "2021-12-13T20:16:02.913Z"
   },
   {
    "duration": 171,
    "start_time": "2021-12-13T20:17:27.580Z"
   },
   {
    "duration": 158,
    "start_time": "2021-12-13T20:17:48.894Z"
   },
   {
    "duration": 160,
    "start_time": "2021-12-13T20:18:11.647Z"
   },
   {
    "duration": 161,
    "start_time": "2021-12-13T20:18:30.756Z"
   },
   {
    "duration": 222,
    "start_time": "2021-12-13T20:18:55.755Z"
   },
   {
    "duration": 2,
    "start_time": "2021-12-13T20:34:48.674Z"
   },
   {
    "duration": 9,
    "start_time": "2021-12-13T20:35:53.585Z"
   },
   {
    "duration": 8,
    "start_time": "2021-12-13T20:35:54.431Z"
   },
   {
    "duration": 10,
    "start_time": "2021-12-13T20:41:37.328Z"
   },
   {
    "duration": 8,
    "start_time": "2021-12-13T20:41:38.380Z"
   },
   {
    "duration": 8,
    "start_time": "2021-12-13T20:43:08.354Z"
   },
   {
    "duration": 10,
    "start_time": "2021-12-13T20:43:09.479Z"
   },
   {
    "duration": 8,
    "start_time": "2021-12-13T20:44:29.871Z"
   },
   {
    "duration": 9,
    "start_time": "2021-12-13T20:44:30.693Z"
   },
   {
    "duration": 8,
    "start_time": "2021-12-13T20:45:14.710Z"
   },
   {
    "duration": 8,
    "start_time": "2021-12-13T20:45:15.472Z"
   },
   {
    "duration": 8,
    "start_time": "2021-12-13T20:46:03.856Z"
   },
   {
    "duration": 8,
    "start_time": "2021-12-13T20:46:04.740Z"
   },
   {
    "duration": 8,
    "start_time": "2021-12-13T20:46:13.772Z"
   },
   {
    "duration": 7,
    "start_time": "2021-12-13T20:46:17.495Z"
   },
   {
    "duration": 573,
    "start_time": "2021-12-13T20:54:04.181Z"
   },
   {
    "duration": 37,
    "start_time": "2021-12-13T20:54:04.756Z"
   },
   {
    "duration": 17,
    "start_time": "2021-12-13T20:54:04.795Z"
   },
   {
    "duration": 6,
    "start_time": "2021-12-13T20:54:04.814Z"
   },
   {
    "duration": 22,
    "start_time": "2021-12-13T20:54:04.821Z"
   },
   {
    "duration": 25,
    "start_time": "2021-12-13T20:54:04.844Z"
   },
   {
    "duration": 11,
    "start_time": "2021-12-13T20:54:04.871Z"
   },
   {
    "duration": 23,
    "start_time": "2021-12-13T20:54:04.883Z"
   },
   {
    "duration": 2,
    "start_time": "2021-12-13T20:54:04.909Z"
   },
   {
    "duration": 30,
    "start_time": "2021-12-13T20:54:04.912Z"
   },
   {
    "duration": 27,
    "start_time": "2021-12-13T20:54:04.943Z"
   },
   {
    "duration": 19,
    "start_time": "2021-12-13T20:54:04.972Z"
   },
   {
    "duration": 282,
    "start_time": "2021-12-13T20:54:04.993Z"
   },
   {
    "duration": 15,
    "start_time": "2021-12-13T20:54:05.276Z"
   },
   {
    "duration": 4,
    "start_time": "2021-12-13T20:54:05.293Z"
   },
   {
    "duration": 12,
    "start_time": "2021-12-13T20:54:05.299Z"
   },
   {
    "duration": 8,
    "start_time": "2021-12-13T20:54:05.312Z"
   },
   {
    "duration": 11,
    "start_time": "2021-12-13T20:54:05.322Z"
   },
   {
    "duration": 9,
    "start_time": "2021-12-13T20:54:05.334Z"
   },
   {
    "duration": 3,
    "start_time": "2021-12-13T20:54:05.345Z"
   },
   {
    "duration": 40,
    "start_time": "2021-12-13T20:54:05.350Z"
   },
   {
    "duration": 10,
    "start_time": "2021-12-13T20:54:05.392Z"
   },
   {
    "duration": 9,
    "start_time": "2021-12-13T20:54:05.403Z"
   },
   {
    "duration": 7,
    "start_time": "2021-12-13T20:54:05.413Z"
   },
   {
    "duration": 3,
    "start_time": "2021-12-13T20:54:05.421Z"
   },
   {
    "duration": 21,
    "start_time": "2021-12-13T20:54:05.426Z"
   },
   {
    "duration": 90,
    "start_time": "2021-12-13T20:54:05.450Z"
   },
   {
    "duration": 1064,
    "start_time": "2021-12-13T20:54:05.543Z"
   },
   {
    "duration": 342,
    "start_time": "2021-12-13T20:54:06.609Z"
   },
   {
    "duration": 7,
    "start_time": "2021-12-13T20:54:06.952Z"
   },
   {
    "duration": 7,
    "start_time": "2021-12-13T20:54:06.960Z"
   },
   {
    "duration": 25,
    "start_time": "2021-12-13T20:54:06.968Z"
   },
   {
    "duration": 5,
    "start_time": "2021-12-13T20:54:06.995Z"
   },
   {
    "duration": 178,
    "start_time": "2021-12-13T20:54:07.002Z"
   },
   {
    "duration": 12,
    "start_time": "2021-12-13T20:54:07.182Z"
   },
   {
    "duration": 8,
    "start_time": "2021-12-13T20:54:07.196Z"
   },
   {
    "duration": 144,
    "start_time": "2021-12-13T20:54:07.206Z"
   },
   {
    "duration": 142,
    "start_time": "2021-12-13T20:54:07.352Z"
   },
   {
    "duration": 167,
    "start_time": "2021-12-13T20:54:07.496Z"
   },
   {
    "duration": 148,
    "start_time": "2021-12-13T20:54:07.664Z"
   },
   {
    "duration": 160,
    "start_time": "2021-12-13T20:54:07.814Z"
   },
   {
    "duration": 158,
    "start_time": "2021-12-13T20:54:07.976Z"
   },
   {
    "duration": 166,
    "start_time": "2021-12-13T20:54:08.136Z"
   },
   {
    "duration": 466,
    "start_time": "2021-12-13T20:54:08.304Z"
   },
   {
    "duration": 367,
    "start_time": "2021-12-13T20:54:08.771Z"
   },
   {
    "duration": 172,
    "start_time": "2021-12-13T20:54:09.139Z"
   },
   {
    "duration": 171,
    "start_time": "2021-12-13T20:54:09.313Z"
   },
   {
    "duration": 211,
    "start_time": "2021-12-13T20:54:09.488Z"
   },
   {
    "duration": 176,
    "start_time": "2021-12-13T20:54:09.700Z"
   },
   {
    "duration": 176,
    "start_time": "2021-12-13T20:54:09.878Z"
   },
   {
    "duration": 173,
    "start_time": "2021-12-13T20:54:10.055Z"
   },
   {
    "duration": 171,
    "start_time": "2021-12-13T20:54:10.229Z"
   },
   {
    "duration": 1560,
    "start_time": "2021-12-13T20:54:10.402Z"
   },
   {
    "duration": 37,
    "start_time": "2021-12-13T20:54:11.964Z"
   },
   {
    "duration": 2,
    "start_time": "2021-12-13T20:54:12.003Z"
   },
   {
    "duration": 508,
    "start_time": "2021-12-13T20:54:12.006Z"
   },
   {
    "duration": 9,
    "start_time": "2021-12-13T20:54:12.516Z"
   },
   {
    "duration": 416,
    "start_time": "2021-12-13T20:54:12.527Z"
   },
   {
    "duration": 4247,
    "start_time": "2021-12-13T20:54:08.698Z"
   },
   {
    "duration": 4234,
    "start_time": "2021-12-13T20:54:08.712Z"
   },
   {
    "duration": 4222,
    "start_time": "2021-12-13T20:54:08.724Z"
   },
   {
    "duration": 4147,
    "start_time": "2021-12-13T20:54:08.800Z"
   },
   {
    "duration": 4133,
    "start_time": "2021-12-13T20:54:08.815Z"
   },
   {
    "duration": 4120,
    "start_time": "2021-12-13T20:54:08.829Z"
   },
   {
    "duration": 4108,
    "start_time": "2021-12-13T20:54:08.842Z"
   },
   {
    "duration": 4095,
    "start_time": "2021-12-13T20:54:08.856Z"
   },
   {
    "duration": 4084,
    "start_time": "2021-12-13T20:54:08.868Z"
   },
   {
    "duration": 4071,
    "start_time": "2021-12-13T20:54:08.882Z"
   },
   {
    "duration": 4023,
    "start_time": "2021-12-13T20:54:08.930Z"
   },
   {
    "duration": 4006,
    "start_time": "2021-12-13T20:54:08.948Z"
   },
   {
    "duration": 3982,
    "start_time": "2021-12-13T20:54:08.973Z"
   },
   {
    "duration": 4048,
    "start_time": "2021-12-13T20:54:08.984Z"
   },
   {
    "duration": 4035,
    "start_time": "2021-12-13T20:54:08.997Z"
   },
   {
    "duration": 4023,
    "start_time": "2021-12-13T20:54:09.010Z"
   },
   {
    "duration": 4010,
    "start_time": "2021-12-13T20:54:09.024Z"
   },
   {
    "duration": 3975,
    "start_time": "2021-12-13T20:54:09.059Z"
   },
   {
    "duration": 3963,
    "start_time": "2021-12-13T20:54:09.072Z"
   },
   {
    "duration": 3952,
    "start_time": "2021-12-13T20:54:09.084Z"
   },
   {
    "duration": 3940,
    "start_time": "2021-12-13T20:54:09.097Z"
   },
   {
    "duration": 3926,
    "start_time": "2021-12-13T20:54:09.111Z"
   },
   {
    "duration": 3915,
    "start_time": "2021-12-13T20:54:09.124Z"
   },
   {
    "duration": 3903,
    "start_time": "2021-12-13T20:54:09.137Z"
   },
   {
    "duration": 3891,
    "start_time": "2021-12-13T20:54:09.150Z"
   },
   {
    "duration": 3860,
    "start_time": "2021-12-13T20:54:09.182Z"
   },
   {
    "duration": 3847,
    "start_time": "2021-12-13T20:54:09.196Z"
   },
   {
    "duration": 3835,
    "start_time": "2021-12-13T20:54:09.209Z"
   },
   {
    "duration": 3823,
    "start_time": "2021-12-13T20:54:09.222Z"
   },
   {
    "duration": 3812,
    "start_time": "2021-12-13T20:54:09.233Z"
   },
   {
    "duration": 3799,
    "start_time": "2021-12-13T20:54:09.247Z"
   },
   {
    "duration": 3788,
    "start_time": "2021-12-13T20:54:09.259Z"
   },
   {
    "duration": 3773,
    "start_time": "2021-12-13T20:54:09.275Z"
   },
   {
    "duration": 3737,
    "start_time": "2021-12-13T20:54:09.312Z"
   },
   {
    "duration": 625,
    "start_time": "2021-12-13T20:56:12.386Z"
   },
   {
    "duration": 49,
    "start_time": "2021-12-13T20:56:13.014Z"
   },
   {
    "duration": 35,
    "start_time": "2021-12-13T20:56:13.066Z"
   },
   {
    "duration": 6,
    "start_time": "2021-12-13T20:56:13.104Z"
   },
   {
    "duration": 19,
    "start_time": "2021-12-13T20:56:13.112Z"
   },
   {
    "duration": 18,
    "start_time": "2021-12-13T20:56:13.133Z"
   },
   {
    "duration": 11,
    "start_time": "2021-12-13T20:56:13.152Z"
   },
   {
    "duration": 32,
    "start_time": "2021-12-13T20:56:13.165Z"
   },
   {
    "duration": 6,
    "start_time": "2021-12-13T20:56:13.199Z"
   },
   {
    "duration": 21,
    "start_time": "2021-12-13T20:56:13.207Z"
   },
   {
    "duration": 14,
    "start_time": "2021-12-13T20:56:13.231Z"
   },
   {
    "duration": 18,
    "start_time": "2021-12-13T20:56:13.247Z"
   },
   {
    "duration": 364,
    "start_time": "2021-12-13T20:56:13.267Z"
   },
   {
    "duration": 10,
    "start_time": "2021-12-13T20:56:13.633Z"
   },
   {
    "duration": 58,
    "start_time": "2021-12-13T20:56:13.645Z"
   },
   {
    "duration": 90,
    "start_time": "2021-12-13T20:56:13.704Z"
   },
   {
    "duration": 40,
    "start_time": "2021-12-13T20:56:13.796Z"
   },
   {
    "duration": 63,
    "start_time": "2021-12-13T20:56:13.838Z"
   },
   {
    "duration": 81,
    "start_time": "2021-12-13T20:56:13.903Z"
   },
   {
    "duration": 43,
    "start_time": "2021-12-13T20:56:13.986Z"
   },
   {
    "duration": 22,
    "start_time": "2021-12-13T20:56:14.030Z"
   },
   {
    "duration": 68,
    "start_time": "2021-12-13T20:56:14.053Z"
   },
   {
    "duration": 77,
    "start_time": "2021-12-13T20:56:14.126Z"
   },
   {
    "duration": 51,
    "start_time": "2021-12-13T20:56:14.206Z"
   },
   {
    "duration": 68,
    "start_time": "2021-12-13T20:56:14.259Z"
   },
   {
    "duration": 92,
    "start_time": "2021-12-13T20:56:14.329Z"
   },
   {
    "duration": 142,
    "start_time": "2021-12-13T20:56:14.423Z"
   },
   {
    "duration": 1372,
    "start_time": "2021-12-13T20:56:14.567Z"
   },
   {
    "duration": 464,
    "start_time": "2021-12-13T20:56:15.941Z"
   },
   {
    "duration": 11,
    "start_time": "2021-12-13T20:56:16.407Z"
   },
   {
    "duration": 29,
    "start_time": "2021-12-13T20:56:16.421Z"
   },
   {
    "duration": 36,
    "start_time": "2021-12-13T20:56:16.452Z"
   },
   {
    "duration": 27,
    "start_time": "2021-12-13T20:56:16.491Z"
   },
   {
    "duration": 204,
    "start_time": "2021-12-13T20:56:16.520Z"
   },
   {
    "duration": 11,
    "start_time": "2021-12-13T20:56:16.726Z"
   },
   {
    "duration": 54,
    "start_time": "2021-12-13T20:56:16.739Z"
   },
   {
    "duration": 207,
    "start_time": "2021-12-13T20:56:16.796Z"
   },
   {
    "duration": 188,
    "start_time": "2021-12-13T20:56:17.004Z"
   },
   {
    "duration": 185,
    "start_time": "2021-12-13T20:56:17.193Z"
   },
   {
    "duration": 182,
    "start_time": "2021-12-13T20:56:17.379Z"
   },
   {
    "duration": 171,
    "start_time": "2021-12-13T20:56:17.563Z"
   },
   {
    "duration": 186,
    "start_time": "2021-12-13T20:56:17.735Z"
   },
   {
    "duration": 163,
    "start_time": "2021-12-13T20:56:17.923Z"
   },
   {
    "duration": 507,
    "start_time": "2021-12-13T20:56:18.088Z"
   },
   {
    "duration": 408,
    "start_time": "2021-12-13T20:56:18.597Z"
   },
   {
    "duration": 257,
    "start_time": "2021-12-13T20:56:19.007Z"
   },
   {
    "duration": 255,
    "start_time": "2021-12-13T20:56:19.266Z"
   },
   {
    "duration": 283,
    "start_time": "2021-12-13T20:56:19.524Z"
   },
   {
    "duration": 208,
    "start_time": "2021-12-13T20:56:19.810Z"
   },
   {
    "duration": 186,
    "start_time": "2021-12-13T20:56:20.019Z"
   },
   {
    "duration": 186,
    "start_time": "2021-12-13T20:56:20.206Z"
   },
   {
    "duration": 187,
    "start_time": "2021-12-13T20:56:20.394Z"
   },
   {
    "duration": 1538,
    "start_time": "2021-12-13T20:56:20.583Z"
   },
   {
    "duration": 26,
    "start_time": "2021-12-13T20:56:22.123Z"
   },
   {
    "duration": 3,
    "start_time": "2021-12-13T20:56:22.150Z"
   },
   {
    "duration": 37,
    "start_time": "2021-12-13T20:56:22.155Z"
   },
   {
    "duration": 804,
    "start_time": "2021-12-13T20:56:22.194Z"
   },
   {
    "duration": 6356,
    "start_time": "2021-12-13T20:56:16.645Z"
   },
   {
    "duration": 6332,
    "start_time": "2021-12-13T20:56:16.670Z"
   },
   {
    "duration": 6319,
    "start_time": "2021-12-13T20:56:16.684Z"
   },
   {
    "duration": 6309,
    "start_time": "2021-12-13T20:56:16.695Z"
   },
   {
    "duration": 6273,
    "start_time": "2021-12-13T20:56:16.731Z"
   },
   {
    "duration": 6259,
    "start_time": "2021-12-13T20:56:16.746Z"
   },
   {
    "duration": 6247,
    "start_time": "2021-12-13T20:56:16.759Z"
   },
   {
    "duration": 6237,
    "start_time": "2021-12-13T20:56:16.770Z"
   },
   {
    "duration": 6222,
    "start_time": "2021-12-13T20:56:16.785Z"
   },
   {
    "duration": 6212,
    "start_time": "2021-12-13T20:56:16.796Z"
   },
   {
    "duration": 6199,
    "start_time": "2021-12-13T20:56:16.810Z"
   },
   {
    "duration": 6187,
    "start_time": "2021-12-13T20:56:16.823Z"
   },
   {
    "duration": 6151,
    "start_time": "2021-12-13T20:56:16.860Z"
   },
   {
    "duration": 6139,
    "start_time": "2021-12-13T20:56:16.873Z"
   },
   {
    "duration": 6127,
    "start_time": "2021-12-13T20:56:16.886Z"
   },
   {
    "duration": 6117,
    "start_time": "2021-12-13T20:56:16.897Z"
   },
   {
    "duration": 6104,
    "start_time": "2021-12-13T20:56:16.911Z"
   },
   {
    "duration": 6092,
    "start_time": "2021-12-13T20:56:16.924Z"
   },
   {
    "duration": 6081,
    "start_time": "2021-12-13T20:56:16.936Z"
   },
   {
    "duration": 6069,
    "start_time": "2021-12-13T20:56:16.949Z"
   },
   {
    "duration": 6035,
    "start_time": "2021-12-13T20:56:16.984Z"
   },
   {
    "duration": 6024,
    "start_time": "2021-12-13T20:56:16.996Z"
   },
   {
    "duration": 6008,
    "start_time": "2021-12-13T20:56:17.012Z"
   },
   {
    "duration": 5996,
    "start_time": "2021-12-13T20:56:17.025Z"
   },
   {
    "duration": 5984,
    "start_time": "2021-12-13T20:56:17.038Z"
   },
   {
    "duration": 5972,
    "start_time": "2021-12-13T20:56:17.051Z"
   },
   {
    "duration": 5956,
    "start_time": "2021-12-13T20:56:17.068Z"
   },
   {
    "duration": 5917,
    "start_time": "2021-12-13T20:56:17.108Z"
   },
   {
    "duration": 5905,
    "start_time": "2021-12-13T20:56:17.121Z"
   },
   {
    "duration": 5894,
    "start_time": "2021-12-13T20:56:17.133Z"
   },
   {
    "duration": 5879,
    "start_time": "2021-12-13T20:56:17.149Z"
   },
   {
    "duration": 5868,
    "start_time": "2021-12-13T20:56:17.161Z"
   },
   {
    "duration": 5855,
    "start_time": "2021-12-13T20:56:17.175Z"
   },
   {
    "duration": 527,
    "start_time": "2021-12-13T20:57:16.019Z"
   },
   {
    "duration": 36,
    "start_time": "2021-12-13T20:57:16.548Z"
   },
   {
    "duration": 18,
    "start_time": "2021-12-13T20:57:16.586Z"
   },
   {
    "duration": 8,
    "start_time": "2021-12-13T20:57:16.605Z"
   },
   {
    "duration": 15,
    "start_time": "2021-12-13T20:57:16.614Z"
   },
   {
    "duration": 11,
    "start_time": "2021-12-13T20:57:16.631Z"
   },
   {
    "duration": 10,
    "start_time": "2021-12-13T20:57:16.643Z"
   },
   {
    "duration": 15,
    "start_time": "2021-12-13T20:57:16.654Z"
   },
   {
    "duration": 2,
    "start_time": "2021-12-13T20:57:16.687Z"
   },
   {
    "duration": 10,
    "start_time": "2021-12-13T20:57:16.691Z"
   },
   {
    "duration": 8,
    "start_time": "2021-12-13T20:57:16.702Z"
   },
   {
    "duration": 16,
    "start_time": "2021-12-13T20:57:16.712Z"
   },
   {
    "duration": 291,
    "start_time": "2021-12-13T20:57:16.729Z"
   },
   {
    "duration": 9,
    "start_time": "2021-12-13T20:57:17.021Z"
   },
   {
    "duration": 5,
    "start_time": "2021-12-13T20:57:17.031Z"
   },
   {
    "duration": 12,
    "start_time": "2021-12-13T20:57:17.037Z"
   },
   {
    "duration": 11,
    "start_time": "2021-12-13T20:57:17.051Z"
   },
   {
    "duration": 32,
    "start_time": "2021-12-13T20:57:17.063Z"
   },
   {
    "duration": 7,
    "start_time": "2021-12-13T20:57:17.097Z"
   },
   {
    "duration": 3,
    "start_time": "2021-12-13T20:57:17.105Z"
   },
   {
    "duration": 5,
    "start_time": "2021-12-13T20:57:17.110Z"
   },
   {
    "duration": 7,
    "start_time": "2021-12-13T20:57:17.116Z"
   },
   {
    "duration": 11,
    "start_time": "2021-12-13T20:57:17.124Z"
   },
   {
    "duration": 6,
    "start_time": "2021-12-13T20:57:17.137Z"
   },
   {
    "duration": 4,
    "start_time": "2021-12-13T20:57:17.145Z"
   },
   {
    "duration": 52,
    "start_time": "2021-12-13T20:57:17.151Z"
   },
   {
    "duration": 66,
    "start_time": "2021-12-13T20:57:17.207Z"
   },
   {
    "duration": 1082,
    "start_time": "2021-12-13T20:57:17.275Z"
   },
   {
    "duration": 381,
    "start_time": "2021-12-13T20:57:18.358Z"
   },
   {
    "duration": 7,
    "start_time": "2021-12-13T20:57:18.741Z"
   },
   {
    "duration": 7,
    "start_time": "2021-12-13T20:57:18.749Z"
   },
   {
    "duration": 19,
    "start_time": "2021-12-13T20:57:18.758Z"
   },
   {
    "duration": 5,
    "start_time": "2021-12-13T20:57:18.788Z"
   },
   {
    "duration": 178,
    "start_time": "2021-12-13T20:57:18.795Z"
   },
   {
    "duration": 15,
    "start_time": "2021-12-13T20:57:18.974Z"
   },
   {
    "duration": 8,
    "start_time": "2021-12-13T20:57:18.990Z"
   },
   {
    "duration": 148,
    "start_time": "2021-12-13T20:57:19.000Z"
   },
   {
    "duration": 139,
    "start_time": "2021-12-13T20:57:19.150Z"
   },
   {
    "duration": 185,
    "start_time": "2021-12-13T20:57:19.291Z"
   },
   {
    "duration": 203,
    "start_time": "2021-12-13T20:57:19.478Z"
   },
   {
    "duration": 156,
    "start_time": "2021-12-13T20:57:19.687Z"
   },
   {
    "duration": 161,
    "start_time": "2021-12-13T20:57:19.845Z"
   },
   {
    "duration": 167,
    "start_time": "2021-12-13T20:57:20.008Z"
   },
   {
    "duration": 492,
    "start_time": "2021-12-13T20:57:20.177Z"
   },
   {
    "duration": 370,
    "start_time": "2021-12-13T20:57:20.671Z"
   },
   {
    "duration": 176,
    "start_time": "2021-12-13T20:57:21.043Z"
   },
   {
    "duration": 173,
    "start_time": "2021-12-13T20:57:21.220Z"
   },
   {
    "duration": 221,
    "start_time": "2021-12-13T20:57:21.394Z"
   },
   {
    "duration": 178,
    "start_time": "2021-12-13T20:57:21.616Z"
   },
   {
    "duration": 169,
    "start_time": "2021-12-13T20:57:21.796Z"
   },
   {
    "duration": 170,
    "start_time": "2021-12-13T20:57:21.967Z"
   },
   {
    "duration": 169,
    "start_time": "2021-12-13T20:57:22.138Z"
   },
   {
    "duration": 1465,
    "start_time": "2021-12-13T20:57:22.308Z"
   },
   {
    "duration": 32,
    "start_time": "2021-12-13T20:57:23.775Z"
   },
   {
    "duration": 5,
    "start_time": "2021-12-13T20:57:23.809Z"
   },
   {
    "duration": 9,
    "start_time": "2021-12-13T20:57:23.815Z"
   },
   {
    "duration": 8,
    "start_time": "2021-12-13T20:57:23.826Z"
   },
   {
    "duration": 2,
    "start_time": "2021-12-13T20:57:23.835Z"
   },
   {
    "duration": 9,
    "start_time": "2021-12-13T20:57:23.839Z"
   },
   {
    "duration": 43,
    "start_time": "2021-12-13T20:57:23.849Z"
   },
   {
    "duration": 9,
    "start_time": "2021-12-13T20:57:23.894Z"
   },
   {
    "duration": 8,
    "start_time": "2021-12-13T20:57:23.904Z"
   },
   {
    "duration": 9,
    "start_time": "2021-12-13T20:57:23.913Z"
   },
   {
    "duration": 8,
    "start_time": "2021-12-13T20:57:23.923Z"
   },
   {
    "duration": 8,
    "start_time": "2021-12-13T20:57:23.933Z"
   },
   {
    "duration": 10,
    "start_time": "2021-12-13T20:57:23.942Z"
   },
   {
    "duration": 9,
    "start_time": "2021-12-13T20:57:23.988Z"
   },
   {
    "duration": 10,
    "start_time": "2021-12-13T20:57:23.998Z"
   },
   {
    "duration": 8,
    "start_time": "2021-12-13T20:57:24.009Z"
   },
   {
    "duration": 8,
    "start_time": "2021-12-13T20:57:24.018Z"
   },
   {
    "duration": 9,
    "start_time": "2021-12-13T20:57:24.028Z"
   },
   {
    "duration": 6,
    "start_time": "2021-12-13T20:57:24.039Z"
   },
   {
    "duration": 6,
    "start_time": "2021-12-13T20:57:24.046Z"
   },
   {
    "duration": 39,
    "start_time": "2021-12-13T20:57:24.053Z"
   },
   {
    "duration": 6,
    "start_time": "2021-12-13T20:57:24.093Z"
   },
   {
    "duration": 5,
    "start_time": "2021-12-13T20:57:24.101Z"
   },
   {
    "duration": 5,
    "start_time": "2021-12-13T20:57:24.108Z"
   },
   {
    "duration": 5,
    "start_time": "2021-12-13T20:57:24.115Z"
   },
   {
    "duration": 3,
    "start_time": "2021-12-13T20:57:24.122Z"
   },
   {
    "duration": 6,
    "start_time": "2021-12-13T20:57:24.127Z"
   },
   {
    "duration": 5,
    "start_time": "2021-12-13T20:57:24.138Z"
   },
   {
    "duration": 47,
    "start_time": "2021-12-13T20:57:24.145Z"
   },
   {
    "duration": 2,
    "start_time": "2021-12-13T20:57:24.193Z"
   },
   {
    "duration": 9,
    "start_time": "2021-12-13T20:57:24.197Z"
   },
   {
    "duration": 12,
    "start_time": "2021-12-13T20:57:24.207Z"
   },
   {
    "duration": 11,
    "start_time": "2021-12-13T20:57:24.220Z"
   },
   {
    "duration": 456,
    "start_time": "2021-12-13T20:57:24.232Z"
   },
   {
    "duration": 10,
    "start_time": "2021-12-13T20:57:24.689Z"
   },
   {
    "duration": 294,
    "start_time": "2021-12-13T20:57:24.700Z"
   },
   {
    "duration": 10,
    "start_time": "2021-12-13T20:57:24.996Z"
   },
   {
    "duration": 9,
    "start_time": "2021-12-13T20:59:34.540Z"
   },
   {
    "duration": 8,
    "start_time": "2021-12-13T20:59:43.191Z"
   },
   {
    "duration": 7,
    "start_time": "2021-12-13T21:03:25.594Z"
   },
   {
    "duration": 8,
    "start_time": "2021-12-13T21:03:30.626Z"
   },
   {
    "duration": 8,
    "start_time": "2021-12-13T21:05:13.445Z"
   },
   {
    "duration": 8,
    "start_time": "2021-12-13T21:05:17.344Z"
   },
   {
    "duration": 8,
    "start_time": "2021-12-13T21:05:21.703Z"
   },
   {
    "duration": 3,
    "start_time": "2021-12-13T21:07:07.431Z"
   },
   {
    "duration": 35,
    "start_time": "2021-12-13T21:07:07.439Z"
   },
   {
    "duration": 12,
    "start_time": "2021-12-13T21:07:07.476Z"
   },
   {
    "duration": 6,
    "start_time": "2021-12-13T21:07:07.491Z"
   },
   {
    "duration": 13,
    "start_time": "2021-12-13T21:07:07.499Z"
   },
   {
    "duration": 10,
    "start_time": "2021-12-13T21:07:07.514Z"
   },
   {
    "duration": 8,
    "start_time": "2021-12-13T21:07:07.545Z"
   },
   {
    "duration": 11,
    "start_time": "2021-12-13T21:07:07.578Z"
   },
   {
    "duration": 2,
    "start_time": "2021-12-13T21:07:07.599Z"
   },
   {
    "duration": 11,
    "start_time": "2021-12-13T21:07:07.623Z"
   },
   {
    "duration": 4,
    "start_time": "2021-12-13T21:07:07.646Z"
   },
   {
    "duration": 9,
    "start_time": "2021-12-13T21:07:07.671Z"
   },
   {
    "duration": 276,
    "start_time": "2021-12-13T21:07:07.691Z"
   },
   {
    "duration": 19,
    "start_time": "2021-12-13T21:07:07.969Z"
   },
   {
    "duration": 5,
    "start_time": "2021-12-13T21:07:07.990Z"
   },
   {
    "duration": 14,
    "start_time": "2021-12-13T21:07:07.997Z"
   },
   {
    "duration": 8,
    "start_time": "2021-12-13T21:07:08.012Z"
   },
   {
    "duration": 11,
    "start_time": "2021-12-13T21:07:08.022Z"
   },
   {
    "duration": 8,
    "start_time": "2021-12-13T21:07:08.035Z"
   },
   {
    "duration": 4,
    "start_time": "2021-12-13T21:07:08.045Z"
   },
   {
    "duration": 38,
    "start_time": "2021-12-13T21:07:08.051Z"
   },
   {
    "duration": 6,
    "start_time": "2021-12-13T21:07:08.090Z"
   },
   {
    "duration": 10,
    "start_time": "2021-12-13T21:07:08.098Z"
   },
   {
    "duration": 8,
    "start_time": "2021-12-13T21:07:08.110Z"
   },
   {
    "duration": 4,
    "start_time": "2021-12-13T21:07:08.120Z"
   },
   {
    "duration": 22,
    "start_time": "2021-12-13T21:07:08.125Z"
   },
   {
    "duration": 2,
    "start_time": "2021-12-13T21:07:08.148Z"
   },
   {
    "duration": 1598,
    "start_time": "2021-12-13T21:07:08.152Z"
   },
   {
    "duration": 583,
    "start_time": "2021-12-13T21:07:09.752Z"
   },
   {
    "duration": 7,
    "start_time": "2021-12-13T21:07:10.337Z"
   },
   {
    "duration": 5,
    "start_time": "2021-12-13T21:07:10.346Z"
   },
   {
    "duration": 21,
    "start_time": "2021-12-13T21:07:10.352Z"
   },
   {
    "duration": 7,
    "start_time": "2021-12-13T21:07:10.387Z"
   },
   {
    "duration": 247,
    "start_time": "2021-12-13T21:07:10.396Z"
   },
   {
    "duration": 10,
    "start_time": "2021-12-13T21:07:10.645Z"
   },
   {
    "duration": 11,
    "start_time": "2021-12-13T21:07:10.657Z"
   },
   {
    "duration": 169,
    "start_time": "2021-12-13T21:07:10.669Z"
   },
   {
    "duration": 162,
    "start_time": "2021-12-13T21:07:10.840Z"
   },
   {
    "duration": 194,
    "start_time": "2021-12-13T21:07:11.004Z"
   },
   {
    "duration": 168,
    "start_time": "2021-12-13T21:07:11.200Z"
   },
   {
    "duration": 271,
    "start_time": "2021-12-13T21:07:11.370Z"
   },
   {
    "duration": 176,
    "start_time": "2021-12-13T21:07:11.642Z"
   },
   {
    "duration": 188,
    "start_time": "2021-12-13T21:07:11.820Z"
   },
   {
    "duration": 2,
    "start_time": "2021-12-13T21:07:12.010Z"
   },
   {
    "duration": 368,
    "start_time": "2021-12-13T21:07:12.015Z"
   },
   {
    "duration": 180,
    "start_time": "2021-12-13T21:07:12.387Z"
   },
   {
    "duration": 172,
    "start_time": "2021-12-13T21:07:12.569Z"
   },
   {
    "duration": 171,
    "start_time": "2021-12-13T21:07:12.743Z"
   },
   {
    "duration": 180,
    "start_time": "2021-12-13T21:07:12.919Z"
   },
   {
    "duration": 168,
    "start_time": "2021-12-13T21:07:13.102Z"
   },
   {
    "duration": 164,
    "start_time": "2021-12-13T21:07:13.272Z"
   },
   {
    "duration": 164,
    "start_time": "2021-12-13T21:07:13.438Z"
   },
   {
    "duration": 1517,
    "start_time": "2021-12-13T21:07:13.604Z"
   },
   {
    "duration": 27,
    "start_time": "2021-12-13T21:07:15.123Z"
   },
   {
    "duration": 6,
    "start_time": "2021-12-13T21:07:15.152Z"
   },
   {
    "duration": 31,
    "start_time": "2021-12-13T21:07:15.159Z"
   },
   {
    "duration": 8,
    "start_time": "2021-12-13T21:07:15.192Z"
   },
   {
    "duration": 9,
    "start_time": "2021-12-13T21:07:15.201Z"
   },
   {
    "duration": 9,
    "start_time": "2021-12-13T21:07:15.211Z"
   },
   {
    "duration": 9,
    "start_time": "2021-12-13T21:07:15.221Z"
   },
   {
    "duration": 9,
    "start_time": "2021-12-13T21:07:15.231Z"
   },
   {
    "duration": 8,
    "start_time": "2021-12-13T21:07:15.242Z"
   },
   {
    "duration": 41,
    "start_time": "2021-12-13T21:07:15.252Z"
   },
   {
    "duration": 8,
    "start_time": "2021-12-13T21:07:15.295Z"
   },
   {
    "duration": 8,
    "start_time": "2021-12-13T21:07:15.305Z"
   },
   {
    "duration": 8,
    "start_time": "2021-12-13T21:07:15.315Z"
   },
   {
    "duration": 8,
    "start_time": "2021-12-13T21:07:15.325Z"
   },
   {
    "duration": 8,
    "start_time": "2021-12-13T21:07:15.335Z"
   },
   {
    "duration": 49,
    "start_time": "2021-12-13T21:07:15.344Z"
   },
   {
    "duration": 7,
    "start_time": "2021-12-13T21:07:15.394Z"
   },
   {
    "duration": 5,
    "start_time": "2021-12-13T21:07:15.403Z"
   },
   {
    "duration": 7,
    "start_time": "2021-12-13T21:07:15.410Z"
   },
   {
    "duration": 6,
    "start_time": "2021-12-13T21:07:15.418Z"
   },
   {
    "duration": 6,
    "start_time": "2021-12-13T21:07:15.425Z"
   },
   {
    "duration": 5,
    "start_time": "2021-12-13T21:07:15.433Z"
   },
   {
    "duration": 5,
    "start_time": "2021-12-13T21:07:15.440Z"
   },
   {
    "duration": 45,
    "start_time": "2021-12-13T21:07:15.447Z"
   },
   {
    "duration": 4,
    "start_time": "2021-12-13T21:07:15.493Z"
   },
   {
    "duration": 8,
    "start_time": "2021-12-13T21:07:15.499Z"
   },
   {
    "duration": 6,
    "start_time": "2021-12-13T21:07:15.508Z"
   },
   {
    "duration": 7,
    "start_time": "2021-12-13T21:07:15.516Z"
   },
   {
    "duration": 7,
    "start_time": "2021-12-13T21:07:15.524Z"
   },
   {
    "duration": 13,
    "start_time": "2021-12-13T21:07:15.532Z"
   },
   {
    "duration": 12,
    "start_time": "2021-12-13T21:07:15.547Z"
   },
   {
    "duration": 30,
    "start_time": "2021-12-13T21:07:15.561Z"
   },
   {
    "duration": 3,
    "start_time": "2021-12-13T21:07:15.593Z"
   },
   {
    "duration": 11,
    "start_time": "2021-12-13T21:07:15.598Z"
   },
   {
    "duration": 444,
    "start_time": "2021-12-13T21:07:15.610Z"
   },
   {
    "duration": 11,
    "start_time": "2021-12-13T21:07:16.056Z"
   },
   {
    "duration": 3,
    "start_time": "2021-12-13T21:07:59.603Z"
   },
   {
    "duration": 38,
    "start_time": "2021-12-13T21:07:59.608Z"
   },
   {
    "duration": 13,
    "start_time": "2021-12-13T21:07:59.648Z"
   },
   {
    "duration": 8,
    "start_time": "2021-12-13T21:07:59.663Z"
   },
   {
    "duration": 12,
    "start_time": "2021-12-13T21:07:59.672Z"
   },
   {
    "duration": 8,
    "start_time": "2021-12-13T21:07:59.688Z"
   },
   {
    "duration": 7,
    "start_time": "2021-12-13T21:07:59.698Z"
   },
   {
    "duration": 8,
    "start_time": "2021-12-13T21:07:59.707Z"
   },
   {
    "duration": 2,
    "start_time": "2021-12-13T21:07:59.716Z"
   },
   {
    "duration": 15,
    "start_time": "2021-12-13T21:07:59.720Z"
   },
   {
    "duration": 4,
    "start_time": "2021-12-13T21:07:59.737Z"
   },
   {
    "duration": 13,
    "start_time": "2021-12-13T21:07:59.743Z"
   },
   {
    "duration": 309,
    "start_time": "2021-12-13T21:07:59.757Z"
   },
   {
    "duration": 19,
    "start_time": "2021-12-13T21:08:00.069Z"
   },
   {
    "duration": 4,
    "start_time": "2021-12-13T21:08:00.090Z"
   },
   {
    "duration": 16,
    "start_time": "2021-12-13T21:08:00.096Z"
   },
   {
    "duration": 8,
    "start_time": "2021-12-13T21:08:00.114Z"
   },
   {
    "duration": 12,
    "start_time": "2021-12-13T21:08:00.124Z"
   },
   {
    "duration": 9,
    "start_time": "2021-12-13T21:08:00.137Z"
   },
   {
    "duration": 5,
    "start_time": "2021-12-13T21:08:00.148Z"
   },
   {
    "duration": 38,
    "start_time": "2021-12-13T21:08:00.154Z"
   },
   {
    "duration": 10,
    "start_time": "2021-12-13T21:08:00.194Z"
   },
   {
    "duration": 14,
    "start_time": "2021-12-13T21:08:00.206Z"
   },
   {
    "duration": 10,
    "start_time": "2021-12-13T21:08:00.221Z"
   },
   {
    "duration": 5,
    "start_time": "2021-12-13T21:08:00.232Z"
   },
   {
    "duration": 24,
    "start_time": "2021-12-13T21:08:00.238Z"
   },
   {
    "duration": 24,
    "start_time": "2021-12-13T21:08:00.264Z"
   },
   {
    "duration": 1548,
    "start_time": "2021-12-13T21:08:00.291Z"
   },
   {
    "duration": 695,
    "start_time": "2021-12-13T21:08:01.840Z"
   },
   {
    "duration": 8,
    "start_time": "2021-12-13T21:08:02.537Z"
   },
   {
    "duration": 5,
    "start_time": "2021-12-13T21:08:02.546Z"
   },
   {
    "duration": 22,
    "start_time": "2021-12-13T21:08:02.553Z"
   },
   {
    "duration": 11,
    "start_time": "2021-12-13T21:08:02.588Z"
   },
   {
    "duration": 256,
    "start_time": "2021-12-13T21:08:02.601Z"
   },
   {
    "duration": 10,
    "start_time": "2021-12-13T21:08:02.859Z"
   },
   {
    "duration": 22,
    "start_time": "2021-12-13T21:08:02.871Z"
   },
   {
    "duration": 170,
    "start_time": "2021-12-13T21:08:02.895Z"
   },
   {
    "duration": 163,
    "start_time": "2021-12-13T21:08:03.070Z"
   },
   {
    "duration": 243,
    "start_time": "2021-12-13T21:08:03.236Z"
   },
   {
    "duration": 171,
    "start_time": "2021-12-13T21:08:03.481Z"
   },
   {
    "duration": 189,
    "start_time": "2021-12-13T21:08:03.653Z"
   },
   {
    "duration": 190,
    "start_time": "2021-12-13T21:08:03.844Z"
   },
   {
    "duration": 204,
    "start_time": "2021-12-13T21:08:04.036Z"
   },
   {
    "duration": 3,
    "start_time": "2021-12-13T21:08:04.242Z"
   },
   {
    "duration": 370,
    "start_time": "2021-12-13T21:08:04.246Z"
   },
   {
    "duration": 256,
    "start_time": "2021-12-13T21:08:04.618Z"
   },
   {
    "duration": 270,
    "start_time": "2021-12-13T21:08:04.876Z"
   },
   {
    "duration": 181,
    "start_time": "2021-12-13T21:08:05.147Z"
   },
   {
    "duration": 177,
    "start_time": "2021-12-13T21:08:05.330Z"
   },
   {
    "duration": 170,
    "start_time": "2021-12-13T21:08:05.509Z"
   },
   {
    "duration": 175,
    "start_time": "2021-12-13T21:08:05.680Z"
   },
   {
    "duration": 175,
    "start_time": "2021-12-13T21:08:05.856Z"
   },
   {
    "duration": 1493,
    "start_time": "2021-12-13T21:08:06.034Z"
   },
   {
    "duration": 27,
    "start_time": "2021-12-13T21:08:07.529Z"
   },
   {
    "duration": 6,
    "start_time": "2021-12-13T21:08:07.558Z"
   },
   {
    "duration": 10,
    "start_time": "2021-12-13T21:08:07.588Z"
   },
   {
    "duration": 10,
    "start_time": "2021-12-13T21:08:07.600Z"
   },
   {
    "duration": 9,
    "start_time": "2021-12-13T21:08:07.612Z"
   },
   {
    "duration": 109,
    "start_time": "2021-12-13T21:08:07.623Z"
   },
   {
    "duration": 9,
    "start_time": "2021-12-13T21:08:07.734Z"
   },
   {
    "duration": 9,
    "start_time": "2021-12-13T21:08:07.745Z"
   },
   {
    "duration": 37,
    "start_time": "2021-12-13T21:08:07.756Z"
   },
   {
    "duration": 8,
    "start_time": "2021-12-13T21:08:07.795Z"
   },
   {
    "duration": 9,
    "start_time": "2021-12-13T21:08:07.805Z"
   },
   {
    "duration": 9,
    "start_time": "2021-12-13T21:08:07.815Z"
   },
   {
    "duration": 9,
    "start_time": "2021-12-13T21:08:07.825Z"
   },
   {
    "duration": 8,
    "start_time": "2021-12-13T21:08:07.836Z"
   },
   {
    "duration": 43,
    "start_time": "2021-12-13T21:08:07.846Z"
   },
   {
    "duration": 8,
    "start_time": "2021-12-13T21:08:07.891Z"
   },
   {
    "duration": 7,
    "start_time": "2021-12-13T21:08:07.901Z"
   },
   {
    "duration": 6,
    "start_time": "2021-12-13T21:08:07.909Z"
   },
   {
    "duration": 6,
    "start_time": "2021-12-13T21:08:07.917Z"
   },
   {
    "duration": 8,
    "start_time": "2021-12-13T21:08:07.925Z"
   },
   {
    "duration": 6,
    "start_time": "2021-12-13T21:08:07.935Z"
   },
   {
    "duration": 46,
    "start_time": "2021-12-13T21:08:07.942Z"
   },
   {
    "duration": 7,
    "start_time": "2021-12-13T21:08:07.990Z"
   },
   {
    "duration": 6,
    "start_time": "2021-12-13T21:08:07.999Z"
   },
   {
    "duration": 4,
    "start_time": "2021-12-13T21:08:08.007Z"
   },
   {
    "duration": 8,
    "start_time": "2021-12-13T21:08:08.012Z"
   },
   {
    "duration": 6,
    "start_time": "2021-12-13T21:08:08.021Z"
   },
   {
    "duration": 7,
    "start_time": "2021-12-13T21:08:08.029Z"
   },
   {
    "duration": 50,
    "start_time": "2021-12-13T21:08:08.038Z"
   },
   {
    "duration": 9,
    "start_time": "2021-12-13T21:08:08.090Z"
   },
   {
    "duration": 15,
    "start_time": "2021-12-13T21:08:08.100Z"
   },
   {
    "duration": 11,
    "start_time": "2021-12-13T21:08:08.117Z"
   },
   {
    "duration": 442,
    "start_time": "2021-12-13T21:08:08.129Z"
   },
   {
    "duration": 15,
    "start_time": "2021-12-13T21:08:08.573Z"
   },
   {
    "duration": 291,
    "start_time": "2021-12-13T21:08:08.590Z"
   },
   {
    "duration": 9,
    "start_time": "2021-12-13T21:08:08.883Z"
   },
   {
    "duration": 3,
    "start_time": "2021-12-13T21:11:36.601Z"
   },
   {
    "duration": 38,
    "start_time": "2021-12-13T21:11:36.609Z"
   },
   {
    "duration": 12,
    "start_time": "2021-12-13T21:11:36.649Z"
   },
   {
    "duration": 6,
    "start_time": "2021-12-13T21:11:36.663Z"
   },
   {
    "duration": 18,
    "start_time": "2021-12-13T21:11:36.671Z"
   },
   {
    "duration": 9,
    "start_time": "2021-12-13T21:11:36.691Z"
   },
   {
    "duration": 7,
    "start_time": "2021-12-13T21:11:36.702Z"
   },
   {
    "duration": 8,
    "start_time": "2021-12-13T21:11:36.711Z"
   },
   {
    "duration": 2,
    "start_time": "2021-12-13T21:11:36.720Z"
   },
   {
    "duration": 8,
    "start_time": "2021-12-13T21:11:36.732Z"
   },
   {
    "duration": 4,
    "start_time": "2021-12-13T21:11:36.755Z"
   },
   {
    "duration": 18,
    "start_time": "2021-12-13T21:11:36.772Z"
   },
   {
    "duration": 270,
    "start_time": "2021-12-13T21:11:36.800Z"
   },
   {
    "duration": 21,
    "start_time": "2021-12-13T21:11:37.071Z"
   },
   {
    "duration": 4,
    "start_time": "2021-12-13T21:11:37.094Z"
   },
   {
    "duration": 11,
    "start_time": "2021-12-13T21:11:37.100Z"
   },
   {
    "duration": 6,
    "start_time": "2021-12-13T21:11:37.113Z"
   },
   {
    "duration": 11,
    "start_time": "2021-12-13T21:11:37.121Z"
   },
   {
    "duration": 8,
    "start_time": "2021-12-13T21:11:37.133Z"
   },
   {
    "duration": 4,
    "start_time": "2021-12-13T21:11:37.143Z"
   },
   {
    "duration": 8,
    "start_time": "2021-12-13T21:11:37.149Z"
   },
   {
    "duration": 6,
    "start_time": "2021-12-13T21:11:37.188Z"
   },
   {
    "duration": 9,
    "start_time": "2021-12-13T21:11:37.196Z"
   },
   {
    "duration": 6,
    "start_time": "2021-12-13T21:11:37.207Z"
   },
   {
    "duration": 4,
    "start_time": "2021-12-13T21:11:37.214Z"
   },
   {
    "duration": 20,
    "start_time": "2021-12-13T21:11:37.220Z"
   },
   {
    "duration": 2,
    "start_time": "2021-12-13T21:11:37.242Z"
   },
   {
    "duration": 1508,
    "start_time": "2021-12-13T21:11:37.246Z"
   },
   {
    "duration": 578,
    "start_time": "2021-12-13T21:11:38.756Z"
   },
   {
    "duration": 8,
    "start_time": "2021-12-13T21:11:39.335Z"
   },
   {
    "duration": 7,
    "start_time": "2021-12-13T21:11:39.344Z"
   },
   {
    "duration": 20,
    "start_time": "2021-12-13T21:11:39.352Z"
   },
   {
    "duration": 18,
    "start_time": "2021-12-13T21:11:39.374Z"
   },
   {
    "duration": 245,
    "start_time": "2021-12-13T21:11:39.394Z"
   },
   {
    "duration": 10,
    "start_time": "2021-12-13T21:11:39.642Z"
   },
   {
    "duration": 9,
    "start_time": "2021-12-13T21:11:39.654Z"
   },
   {
    "duration": 174,
    "start_time": "2021-12-13T21:11:39.664Z"
   },
   {
    "duration": 156,
    "start_time": "2021-12-13T21:11:39.840Z"
   },
   {
    "duration": 191,
    "start_time": "2021-12-13T21:11:39.998Z"
   },
   {
    "duration": 241,
    "start_time": "2021-12-13T21:11:40.191Z"
   },
   {
    "duration": 173,
    "start_time": "2021-12-13T21:11:40.434Z"
   },
   {
    "duration": 174,
    "start_time": "2021-12-13T21:11:40.609Z"
   },
   {
    "duration": 183,
    "start_time": "2021-12-13T21:11:40.784Z"
   },
   {
    "duration": 2,
    "start_time": "2021-12-13T21:11:40.969Z"
   },
   {
    "duration": 364,
    "start_time": "2021-12-13T21:11:40.972Z"
   },
   {
    "duration": 172,
    "start_time": "2021-12-13T21:11:41.337Z"
   },
   {
    "duration": 183,
    "start_time": "2021-12-13T21:11:41.510Z"
   },
   {
    "duration": 173,
    "start_time": "2021-12-13T21:11:41.694Z"
   },
   {
    "duration": 179,
    "start_time": "2021-12-13T21:11:41.869Z"
   },
   {
    "duration": 173,
    "start_time": "2021-12-13T21:11:42.049Z"
   },
   {
    "duration": 179,
    "start_time": "2021-12-13T21:11:42.223Z"
   },
   {
    "duration": 168,
    "start_time": "2021-12-13T21:11:42.404Z"
   },
   {
    "duration": 1580,
    "start_time": "2021-12-13T21:11:42.574Z"
   },
   {
    "duration": 33,
    "start_time": "2021-12-13T21:11:44.156Z"
   },
   {
    "duration": 5,
    "start_time": "2021-12-13T21:11:44.191Z"
   },
   {
    "duration": 18,
    "start_time": "2021-12-13T21:11:44.197Z"
   },
   {
    "duration": 15,
    "start_time": "2021-12-13T21:11:44.216Z"
   },
   {
    "duration": 16,
    "start_time": "2021-12-13T21:11:44.233Z"
   },
   {
    "duration": 8,
    "start_time": "2021-12-13T21:11:44.250Z"
   },
   {
    "duration": 8,
    "start_time": "2021-12-13T21:11:44.259Z"
   },
   {
    "duration": 21,
    "start_time": "2021-12-13T21:11:44.268Z"
   },
   {
    "duration": 7,
    "start_time": "2021-12-13T21:11:44.291Z"
   },
   {
    "duration": 7,
    "start_time": "2021-12-13T21:11:44.300Z"
   },
   {
    "duration": 8,
    "start_time": "2021-12-13T21:11:44.308Z"
   },
   {
    "duration": 7,
    "start_time": "2021-12-13T21:11:44.317Z"
   },
   {
    "duration": 8,
    "start_time": "2021-12-13T21:11:44.325Z"
   },
   {
    "duration": 8,
    "start_time": "2021-12-13T21:11:44.334Z"
   },
   {
    "duration": 50,
    "start_time": "2021-12-13T21:11:44.343Z"
   },
   {
    "duration": 9,
    "start_time": "2021-12-13T21:11:44.394Z"
   },
   {
    "duration": 8,
    "start_time": "2021-12-13T21:11:44.405Z"
   },
   {
    "duration": 7,
    "start_time": "2021-12-13T21:11:44.414Z"
   },
   {
    "duration": 11,
    "start_time": "2021-12-13T21:11:44.422Z"
   },
   {
    "duration": 10,
    "start_time": "2021-12-13T21:11:44.434Z"
   },
   {
    "duration": 7,
    "start_time": "2021-12-13T21:11:44.445Z"
   },
   {
    "duration": 41,
    "start_time": "2021-12-13T21:11:44.453Z"
   },
   {
    "duration": 8,
    "start_time": "2021-12-13T21:11:44.495Z"
   },
   {
    "duration": 6,
    "start_time": "2021-12-13T21:11:44.504Z"
   },
   {
    "duration": 4,
    "start_time": "2021-12-13T21:11:44.512Z"
   },
   {
    "duration": 9,
    "start_time": "2021-12-13T21:11:44.518Z"
   },
   {
    "duration": 10,
    "start_time": "2021-12-13T21:11:44.532Z"
   },
   {
    "duration": 15,
    "start_time": "2021-12-13T21:11:44.545Z"
   },
   {
    "duration": 3,
    "start_time": "2021-12-13T21:11:44.588Z"
   },
   {
    "duration": 15,
    "start_time": "2021-12-13T21:11:44.592Z"
   },
   {
    "duration": 21,
    "start_time": "2021-12-13T21:11:44.609Z"
   },
   {
    "duration": 20,
    "start_time": "2021-12-13T21:11:44.632Z"
   },
   {
    "duration": 526,
    "start_time": "2021-12-13T21:11:44.653Z"
   },
   {
    "duration": 12,
    "start_time": "2021-12-13T21:11:45.181Z"
   },
   {
    "duration": 6,
    "start_time": "2021-12-13T21:11:45.195Z"
   },
   {
    "duration": 10,
    "start_time": "2021-12-13T21:11:45.202Z"
   },
   {
    "duration": 2,
    "start_time": "2021-12-13T21:13:02.434Z"
   },
   {
    "duration": 34,
    "start_time": "2021-12-13T21:13:02.445Z"
   },
   {
    "duration": 12,
    "start_time": "2021-12-13T21:13:02.481Z"
   },
   {
    "duration": 9,
    "start_time": "2021-12-13T21:13:02.495Z"
   },
   {
    "duration": 15,
    "start_time": "2021-12-13T21:13:02.505Z"
   },
   {
    "duration": 24,
    "start_time": "2021-12-13T21:13:02.521Z"
   },
   {
    "duration": 10,
    "start_time": "2021-12-13T21:13:02.547Z"
   },
   {
    "duration": 22,
    "start_time": "2021-12-13T21:13:02.559Z"
   },
   {
    "duration": 2,
    "start_time": "2021-12-13T21:13:02.588Z"
   },
   {
    "duration": 11,
    "start_time": "2021-12-13T21:13:02.592Z"
   },
   {
    "duration": 5,
    "start_time": "2021-12-13T21:13:02.604Z"
   },
   {
    "duration": 13,
    "start_time": "2021-12-13T21:13:02.610Z"
   },
   {
    "duration": 386,
    "start_time": "2021-12-13T21:13:02.626Z"
   },
   {
    "duration": 10,
    "start_time": "2021-12-13T21:13:03.014Z"
   },
   {
    "duration": 11,
    "start_time": "2021-12-13T21:13:03.026Z"
   },
   {
    "duration": 23,
    "start_time": "2021-12-13T21:13:03.039Z"
   },
   {
    "duration": 10,
    "start_time": "2021-12-13T21:13:03.065Z"
   },
   {
    "duration": 24,
    "start_time": "2021-12-13T21:13:03.077Z"
   },
   {
    "duration": 9,
    "start_time": "2021-12-13T21:13:03.103Z"
   },
   {
    "duration": 5,
    "start_time": "2021-12-13T21:13:03.114Z"
   },
   {
    "duration": 5,
    "start_time": "2021-12-13T21:13:03.121Z"
   },
   {
    "duration": 12,
    "start_time": "2021-12-13T21:13:03.127Z"
   },
   {
    "duration": 11,
    "start_time": "2021-12-13T21:13:03.140Z"
   },
   {
    "duration": 36,
    "start_time": "2021-12-13T21:13:03.153Z"
   },
   {
    "duration": 3,
    "start_time": "2021-12-13T21:13:03.190Z"
   },
   {
    "duration": 26,
    "start_time": "2021-12-13T21:13:03.195Z"
   },
   {
    "duration": 3,
    "start_time": "2021-12-13T21:13:03.222Z"
   },
   {
    "duration": 1615,
    "start_time": "2021-12-13T21:13:03.227Z"
   },
   {
    "duration": 713,
    "start_time": "2021-12-13T21:13:04.845Z"
   },
   {
    "duration": 7,
    "start_time": "2021-12-13T21:13:05.560Z"
   },
   {
    "duration": 4,
    "start_time": "2021-12-13T21:13:05.568Z"
   },
   {
    "duration": 30,
    "start_time": "2021-12-13T21:13:05.574Z"
   },
   {
    "duration": 6,
    "start_time": "2021-12-13T21:13:05.605Z"
   },
   {
    "duration": 256,
    "start_time": "2021-12-13T21:13:05.613Z"
   },
   {
    "duration": 20,
    "start_time": "2021-12-13T21:13:05.871Z"
   },
   {
    "duration": 10,
    "start_time": "2021-12-13T21:13:05.892Z"
   },
   {
    "duration": 193,
    "start_time": "2021-12-13T21:13:05.904Z"
   },
   {
    "duration": 165,
    "start_time": "2021-12-13T21:13:06.098Z"
   },
   {
    "duration": 192,
    "start_time": "2021-12-13T21:13:06.265Z"
   },
   {
    "duration": 174,
    "start_time": "2021-12-13T21:13:06.459Z"
   },
   {
    "duration": 180,
    "start_time": "2021-12-13T21:13:06.635Z"
   },
   {
    "duration": 187,
    "start_time": "2021-12-13T21:13:06.817Z"
   },
   {
    "duration": 201,
    "start_time": "2021-12-13T21:13:07.006Z"
   },
   {
    "duration": 3,
    "start_time": "2021-12-13T21:13:07.208Z"
   },
   {
    "duration": 359,
    "start_time": "2021-12-13T21:13:07.212Z"
   },
   {
    "duration": 183,
    "start_time": "2021-12-13T21:13:07.573Z"
   },
   {
    "duration": 248,
    "start_time": "2021-12-13T21:13:07.758Z"
   },
   {
    "duration": 170,
    "start_time": "2021-12-13T21:13:08.008Z"
   },
   {
    "duration": 169,
    "start_time": "2021-12-13T21:13:08.188Z"
   },
   {
    "duration": 170,
    "start_time": "2021-12-13T21:13:08.359Z"
   },
   {
    "duration": 174,
    "start_time": "2021-12-13T21:13:08.531Z"
   },
   {
    "duration": 173,
    "start_time": "2021-12-13T21:13:08.710Z"
   },
   {
    "duration": 1464,
    "start_time": "2021-12-13T21:13:08.885Z"
   },
   {
    "duration": 24,
    "start_time": "2021-12-13T21:13:10.351Z"
   },
   {
    "duration": 15,
    "start_time": "2021-12-13T21:13:10.376Z"
   },
   {
    "duration": 10,
    "start_time": "2021-12-13T21:13:10.393Z"
   },
   {
    "duration": 7,
    "start_time": "2021-12-13T21:13:10.405Z"
   },
   {
    "duration": 8,
    "start_time": "2021-12-13T21:13:10.414Z"
   },
   {
    "duration": 10,
    "start_time": "2021-12-13T21:13:10.423Z"
   },
   {
    "duration": 113,
    "start_time": "2021-12-13T21:13:10.435Z"
   },
   {
    "duration": 7,
    "start_time": "2021-12-13T21:13:10.549Z"
   },
   {
    "duration": 7,
    "start_time": "2021-12-13T21:13:10.558Z"
   },
   {
    "duration": 8,
    "start_time": "2021-12-13T21:13:10.587Z"
   },
   {
    "duration": 7,
    "start_time": "2021-12-13T21:13:10.597Z"
   },
   {
    "duration": 7,
    "start_time": "2021-12-13T21:13:10.605Z"
   },
   {
    "duration": 7,
    "start_time": "2021-12-13T21:13:10.614Z"
   },
   {
    "duration": 7,
    "start_time": "2021-12-13T21:13:10.622Z"
   },
   {
    "duration": 7,
    "start_time": "2021-12-13T21:13:10.631Z"
   },
   {
    "duration": 7,
    "start_time": "2021-12-13T21:13:10.640Z"
   },
   {
    "duration": 44,
    "start_time": "2021-12-13T21:13:10.648Z"
   },
   {
    "duration": 14,
    "start_time": "2021-12-13T21:13:10.694Z"
   },
   {
    "duration": 6,
    "start_time": "2021-12-13T21:13:10.710Z"
   },
   {
    "duration": 16,
    "start_time": "2021-12-13T21:13:10.718Z"
   },
   {
    "duration": 14,
    "start_time": "2021-12-13T21:13:10.735Z"
   },
   {
    "duration": 12,
    "start_time": "2021-12-13T21:13:10.750Z"
   },
   {
    "duration": 13,
    "start_time": "2021-12-13T21:13:10.763Z"
   },
   {
    "duration": 15,
    "start_time": "2021-12-13T21:13:10.778Z"
   },
   {
    "duration": 11,
    "start_time": "2021-12-13T21:13:10.795Z"
   },
   {
    "duration": 26,
    "start_time": "2021-12-13T21:13:10.808Z"
   },
   {
    "duration": 9,
    "start_time": "2021-12-13T21:13:10.836Z"
   },
   {
    "duration": 8,
    "start_time": "2021-12-13T21:13:10.847Z"
   },
   {
    "duration": 3,
    "start_time": "2021-12-13T21:13:10.857Z"
   },
   {
    "duration": 14,
    "start_time": "2021-12-13T21:13:10.862Z"
   },
   {
    "duration": 24,
    "start_time": "2021-12-13T21:13:10.878Z"
   },
   {
    "duration": 32,
    "start_time": "2021-12-13T21:13:10.903Z"
   },
   {
    "duration": 425,
    "start_time": "2021-12-13T21:13:10.937Z"
   },
   {
    "duration": 9,
    "start_time": "2021-12-13T21:13:11.363Z"
   },
   {
    "duration": 296,
    "start_time": "2021-12-13T21:13:11.373Z"
   },
   {
    "duration": 17,
    "start_time": "2021-12-13T21:13:11.671Z"
   },
   {
    "duration": 374,
    "start_time": "2021-12-13T21:17:10.223Z"
   },
   {
    "duration": 323,
    "start_time": "2021-12-13T21:18:24.087Z"
   },
   {
    "duration": 256,
    "start_time": "2021-12-13T21:19:29.719Z"
   },
   {
    "duration": 11,
    "start_time": "2021-12-13T21:21:21.713Z"
   },
   {
    "duration": 14,
    "start_time": "2021-12-13T21:21:31.115Z"
   },
   {
    "duration": 10,
    "start_time": "2021-12-13T21:22:44.800Z"
   },
   {
    "duration": 10,
    "start_time": "2021-12-13T21:22:45.511Z"
   },
   {
    "duration": 175,
    "start_time": "2021-12-13T21:23:03.004Z"
   },
   {
    "duration": 192,
    "start_time": "2021-12-13T21:23:25.622Z"
   },
   {
    "duration": 168,
    "start_time": "2021-12-13T21:24:53.983Z"
   },
   {
    "duration": 159,
    "start_time": "2021-12-13T21:25:05.621Z"
   },
   {
    "duration": 165,
    "start_time": "2021-12-13T21:25:09.748Z"
   },
   {
    "duration": 186,
    "start_time": "2021-12-13T21:25:33.195Z"
   },
   {
    "duration": 254,
    "start_time": "2021-12-13T21:25:41.447Z"
   },
   {
    "duration": 211,
    "start_time": "2021-12-13T21:25:50.575Z"
   },
   {
    "duration": 195,
    "start_time": "2021-12-13T21:26:21.045Z"
   },
   {
    "duration": 166,
    "start_time": "2021-12-13T21:26:27.025Z"
   },
   {
    "duration": 246,
    "start_time": "2021-12-13T21:26:47.635Z"
   },
   {
    "duration": 191,
    "start_time": "2021-12-13T21:26:53.380Z"
   },
   {
    "duration": 189,
    "start_time": "2021-12-13T21:27:16.448Z"
   },
   {
    "duration": 304,
    "start_time": "2021-12-13T21:27:34.628Z"
   },
   {
    "duration": 6,
    "start_time": "2021-12-13T21:46:53.728Z"
   },
   {
    "duration": 208,
    "start_time": "2021-12-13T21:48:16.995Z"
   },
   {
    "duration": 198,
    "start_time": "2021-12-13T21:48:23.126Z"
   },
   {
    "duration": 192,
    "start_time": "2021-12-13T21:48:28.627Z"
   },
   {
    "duration": 264,
    "start_time": "2021-12-13T21:48:34.492Z"
   },
   {
    "duration": 239,
    "start_time": "2021-12-13T21:49:09.080Z"
   },
   {
    "duration": 170,
    "start_time": "2021-12-13T21:49:15.871Z"
   },
   {
    "duration": 603,
    "start_time": "2021-12-13T21:53:02.762Z"
   },
   {
    "duration": 39,
    "start_time": "2021-12-13T21:53:03.367Z"
   },
   {
    "duration": 18,
    "start_time": "2021-12-13T21:53:03.408Z"
   },
   {
    "duration": 8,
    "start_time": "2021-12-13T21:53:03.428Z"
   },
   {
    "duration": 18,
    "start_time": "2021-12-13T21:53:03.438Z"
   },
   {
    "duration": 17,
    "start_time": "2021-12-13T21:53:03.457Z"
   },
   {
    "duration": 17,
    "start_time": "2021-12-13T21:53:03.476Z"
   },
   {
    "duration": 9,
    "start_time": "2021-12-13T21:53:03.496Z"
   },
   {
    "duration": 2,
    "start_time": "2021-12-13T21:53:03.507Z"
   },
   {
    "duration": 13,
    "start_time": "2021-12-13T21:53:03.511Z"
   },
   {
    "duration": 4,
    "start_time": "2021-12-13T21:53:03.525Z"
   },
   {
    "duration": 11,
    "start_time": "2021-12-13T21:53:03.531Z"
   },
   {
    "duration": 305,
    "start_time": "2021-12-13T21:53:03.543Z"
   },
   {
    "duration": 9,
    "start_time": "2021-12-13T21:53:03.849Z"
   },
   {
    "duration": 9,
    "start_time": "2021-12-13T21:53:03.859Z"
   },
   {
    "duration": 29,
    "start_time": "2021-12-13T21:53:03.870Z"
   },
   {
    "duration": 8,
    "start_time": "2021-12-13T21:53:03.900Z"
   },
   {
    "duration": 11,
    "start_time": "2021-12-13T21:53:03.909Z"
   },
   {
    "duration": 9,
    "start_time": "2021-12-13T21:53:03.922Z"
   },
   {
    "duration": 6,
    "start_time": "2021-12-13T21:53:03.933Z"
   },
   {
    "duration": 9,
    "start_time": "2021-12-13T21:53:03.940Z"
   },
   {
    "duration": 13,
    "start_time": "2021-12-13T21:53:03.951Z"
   },
   {
    "duration": 10,
    "start_time": "2021-12-13T21:53:03.990Z"
   },
   {
    "duration": 11,
    "start_time": "2021-12-13T21:53:04.002Z"
   },
   {
    "duration": 8,
    "start_time": "2021-12-13T21:53:04.015Z"
   },
   {
    "duration": 22,
    "start_time": "2021-12-13T21:53:04.025Z"
   },
   {
    "duration": 88,
    "start_time": "2021-12-13T21:53:04.049Z"
   },
   {
    "duration": 1110,
    "start_time": "2021-12-13T21:53:04.139Z"
   },
   {
    "duration": 411,
    "start_time": "2021-12-13T21:53:05.251Z"
   },
   {
    "duration": 7,
    "start_time": "2021-12-13T21:53:05.663Z"
   },
   {
    "duration": 18,
    "start_time": "2021-12-13T21:53:05.672Z"
   },
   {
    "duration": 16,
    "start_time": "2021-12-13T21:53:05.691Z"
   },
   {
    "duration": 154,
    "start_time": "2021-12-13T21:53:05.709Z"
   },
   {
    "duration": 150,
    "start_time": "2021-12-13T21:53:05.865Z"
   },
   {
    "duration": 195,
    "start_time": "2021-12-13T21:53:06.017Z"
   },
   {
    "duration": 166,
    "start_time": "2021-12-13T21:53:06.213Z"
   },
   {
    "duration": 189,
    "start_time": "2021-12-13T21:53:06.380Z"
   },
   {
    "duration": 180,
    "start_time": "2021-12-13T21:53:06.570Z"
   },
   {
    "duration": 186,
    "start_time": "2021-12-13T21:53:06.752Z"
   },
   {
    "duration": 19,
    "start_time": "2021-12-13T21:53:06.940Z"
   },
   {
    "duration": 41,
    "start_time": "2021-12-13T21:53:06.960Z"
   },
   {
    "duration": 177,
    "start_time": "2021-12-13T21:53:07.002Z"
   },
   {
    "duration": 10,
    "start_time": "2021-12-13T21:53:07.180Z"
   },
   {
    "duration": 22,
    "start_time": "2021-12-13T21:53:07.192Z"
   },
   {
    "duration": 216,
    "start_time": "2021-12-13T21:53:07.215Z"
   },
   {
    "duration": 145,
    "start_time": "2021-12-13T21:53:07.433Z"
   },
   {
    "duration": 190,
    "start_time": "2021-12-13T21:53:07.580Z"
   },
   {
    "duration": 145,
    "start_time": "2021-12-13T21:53:07.772Z"
   },
   {
    "duration": 189,
    "start_time": "2021-12-13T21:53:07.918Z"
   },
   {
    "duration": 187,
    "start_time": "2021-12-13T21:53:08.109Z"
   },
   {
    "duration": 191,
    "start_time": "2021-12-13T21:53:08.297Z"
   },
   {
    "duration": 439,
    "start_time": "2021-12-13T21:53:08.489Z"
   },
   {
    "duration": 357,
    "start_time": "2021-12-13T21:53:08.930Z"
   },
   {
    "duration": 177,
    "start_time": "2021-12-13T21:53:09.289Z"
   },
   {
    "duration": 180,
    "start_time": "2021-12-13T21:53:09.468Z"
   },
   {
    "duration": 176,
    "start_time": "2021-12-13T21:53:09.650Z"
   },
   {
    "duration": 182,
    "start_time": "2021-12-13T21:53:09.827Z"
   },
   {
    "duration": 180,
    "start_time": "2021-12-13T21:53:10.011Z"
   },
   {
    "duration": 170,
    "start_time": "2021-12-13T21:53:10.192Z"
   },
   {
    "duration": 236,
    "start_time": "2021-12-13T21:53:10.363Z"
   },
   {
    "duration": 1515,
    "start_time": "2021-12-13T21:53:10.601Z"
   },
   {
    "duration": 27,
    "start_time": "2021-12-13T21:53:12.118Z"
   },
   {
    "duration": 6,
    "start_time": "2021-12-13T21:53:12.146Z"
   },
   {
    "duration": 34,
    "start_time": "2021-12-13T21:53:12.154Z"
   },
   {
    "duration": 13,
    "start_time": "2021-12-13T21:53:12.190Z"
   },
   {
    "duration": 46,
    "start_time": "2021-12-13T21:53:12.204Z"
   },
   {
    "duration": 30,
    "start_time": "2021-12-13T21:53:12.252Z"
   },
   {
    "duration": 10,
    "start_time": "2021-12-13T21:53:12.287Z"
   },
   {
    "duration": 17,
    "start_time": "2021-12-13T21:53:12.298Z"
   },
   {
    "duration": 38,
    "start_time": "2021-12-13T21:53:12.317Z"
   },
   {
    "duration": 34,
    "start_time": "2021-12-13T21:53:12.357Z"
   },
   {
    "duration": 20,
    "start_time": "2021-12-13T21:53:12.392Z"
   },
   {
    "duration": 37,
    "start_time": "2021-12-13T21:53:12.413Z"
   },
   {
    "duration": 21,
    "start_time": "2021-12-13T21:53:12.452Z"
   },
   {
    "duration": 42,
    "start_time": "2021-12-13T21:53:12.475Z"
   },
   {
    "duration": 24,
    "start_time": "2021-12-13T21:53:12.519Z"
   },
   {
    "duration": 36,
    "start_time": "2021-12-13T21:53:12.545Z"
   },
   {
    "duration": 30,
    "start_time": "2021-12-13T21:53:12.583Z"
   },
   {
    "duration": 25,
    "start_time": "2021-12-13T21:53:12.615Z"
   },
   {
    "duration": 19,
    "start_time": "2021-12-13T21:53:12.642Z"
   },
   {
    "duration": 29,
    "start_time": "2021-12-13T21:53:12.662Z"
   },
   {
    "duration": 22,
    "start_time": "2021-12-13T21:53:12.693Z"
   },
   {
    "duration": 19,
    "start_time": "2021-12-13T21:53:12.717Z"
   },
   {
    "duration": 15,
    "start_time": "2021-12-13T21:53:12.737Z"
   },
   {
    "duration": 7,
    "start_time": "2021-12-13T21:53:12.754Z"
   },
   {
    "duration": 6,
    "start_time": "2021-12-13T21:53:12.763Z"
   },
   {
    "duration": 10,
    "start_time": "2021-12-13T21:53:12.770Z"
   },
   {
    "duration": 7,
    "start_time": "2021-12-13T21:53:12.781Z"
   },
   {
    "duration": 6,
    "start_time": "2021-12-13T21:53:12.790Z"
   },
   {
    "duration": 2,
    "start_time": "2021-12-13T21:53:12.798Z"
   },
   {
    "duration": 11,
    "start_time": "2021-12-13T21:53:12.801Z"
   },
   {
    "duration": 17,
    "start_time": "2021-12-13T21:53:12.813Z"
   },
   {
    "duration": 10,
    "start_time": "2021-12-13T21:53:12.831Z"
   },
   {
    "duration": 448,
    "start_time": "2021-12-13T21:53:12.843Z"
   },
   {
    "duration": 9,
    "start_time": "2021-12-13T21:53:13.293Z"
   },
   {
    "duration": 293,
    "start_time": "2021-12-13T21:53:13.303Z"
   },
   {
    "duration": 9,
    "start_time": "2021-12-13T21:53:13.597Z"
   },
   {
    "duration": 628,
    "start_time": "2021-12-14T05:16:03.481Z"
   },
   {
    "duration": 41,
    "start_time": "2021-12-14T05:16:04.111Z"
   },
   {
    "duration": 21,
    "start_time": "2021-12-14T05:16:04.155Z"
   },
   {
    "duration": 19,
    "start_time": "2021-12-14T05:16:04.178Z"
   },
   {
    "duration": 14,
    "start_time": "2021-12-14T05:16:04.199Z"
   },
   {
    "duration": 10,
    "start_time": "2021-12-14T05:16:04.216Z"
   },
   {
    "duration": 7,
    "start_time": "2021-12-14T05:16:04.228Z"
   },
   {
    "duration": 10,
    "start_time": "2021-12-14T05:16:04.237Z"
   },
   {
    "duration": 42,
    "start_time": "2021-12-14T05:16:04.250Z"
   },
   {
    "duration": 12,
    "start_time": "2021-12-14T05:16:04.294Z"
   },
   {
    "duration": 4,
    "start_time": "2021-12-14T05:16:04.308Z"
   },
   {
    "duration": 12,
    "start_time": "2021-12-14T05:16:04.314Z"
   },
   {
    "duration": 308,
    "start_time": "2021-12-14T05:16:04.328Z"
   },
   {
    "duration": 11,
    "start_time": "2021-12-14T05:16:04.638Z"
   },
   {
    "duration": 5,
    "start_time": "2021-12-14T05:16:04.651Z"
   },
   {
    "duration": 35,
    "start_time": "2021-12-14T05:16:04.657Z"
   },
   {
    "duration": 9,
    "start_time": "2021-12-14T05:16:04.694Z"
   },
   {
    "duration": 14,
    "start_time": "2021-12-14T05:16:04.705Z"
   },
   {
    "duration": 8,
    "start_time": "2021-12-14T05:16:04.720Z"
   },
   {
    "duration": 5,
    "start_time": "2021-12-14T05:16:04.730Z"
   },
   {
    "duration": 5,
    "start_time": "2021-12-14T05:16:04.737Z"
   },
   {
    "duration": 7,
    "start_time": "2021-12-14T05:16:04.744Z"
   },
   {
    "duration": 10,
    "start_time": "2021-12-14T05:16:04.794Z"
   },
   {
    "duration": 8,
    "start_time": "2021-12-14T05:16:04.807Z"
   },
   {
    "duration": 6,
    "start_time": "2021-12-14T05:16:04.816Z"
   },
   {
    "duration": 23,
    "start_time": "2021-12-14T05:16:04.823Z"
   },
   {
    "duration": 97,
    "start_time": "2021-12-14T05:16:04.847Z"
   },
   {
    "duration": 1185,
    "start_time": "2021-12-14T05:16:04.946Z"
   },
   {
    "duration": 381,
    "start_time": "2021-12-14T05:16:06.132Z"
   },
   {
    "duration": 7,
    "start_time": "2021-12-14T05:16:06.515Z"
   },
   {
    "duration": 11,
    "start_time": "2021-12-14T05:16:06.524Z"
   },
   {
    "duration": 8,
    "start_time": "2021-12-14T05:16:06.537Z"
   },
   {
    "duration": 176,
    "start_time": "2021-12-14T05:16:06.547Z"
   },
   {
    "duration": 162,
    "start_time": "2021-12-14T05:16:06.725Z"
   },
   {
    "duration": 206,
    "start_time": "2021-12-14T05:16:06.891Z"
   },
   {
    "duration": 175,
    "start_time": "2021-12-14T05:16:07.099Z"
   },
   {
    "duration": 204,
    "start_time": "2021-12-14T05:16:07.276Z"
   },
   {
    "duration": 193,
    "start_time": "2021-12-14T05:16:07.482Z"
   },
   {
    "duration": 208,
    "start_time": "2021-12-14T05:16:07.677Z"
   },
   {
    "duration": 22,
    "start_time": "2021-12-14T05:16:07.887Z"
   },
   {
    "duration": 6,
    "start_time": "2021-12-14T05:16:07.910Z"
   },
   {
    "duration": 214,
    "start_time": "2021-12-14T05:16:07.918Z"
   },
   {
    "duration": 11,
    "start_time": "2021-12-14T05:16:08.134Z"
   },
   {
    "duration": 11,
    "start_time": "2021-12-14T05:16:08.147Z"
   },
   {
    "duration": 251,
    "start_time": "2021-12-14T05:16:08.159Z"
   },
   {
    "duration": 156,
    "start_time": "2021-12-14T05:16:08.412Z"
   },
   {
    "duration": 213,
    "start_time": "2021-12-14T05:16:08.570Z"
   },
   {
    "duration": 170,
    "start_time": "2021-12-14T05:16:08.785Z"
   },
   {
    "duration": 192,
    "start_time": "2021-12-14T05:16:08.957Z"
   },
   {
    "duration": 201,
    "start_time": "2021-12-14T05:16:09.151Z"
   },
   {
    "duration": 197,
    "start_time": "2021-12-14T05:16:09.353Z"
   },
   {
    "duration": 493,
    "start_time": "2021-12-14T05:16:09.552Z"
   },
   {
    "duration": 394,
    "start_time": "2021-12-14T05:16:10.047Z"
   },
   {
    "duration": 207,
    "start_time": "2021-12-14T05:16:10.443Z"
   },
   {
    "duration": 201,
    "start_time": "2021-12-14T05:16:10.652Z"
   },
   {
    "duration": 187,
    "start_time": "2021-12-14T05:16:10.855Z"
   },
   {
    "duration": 195,
    "start_time": "2021-12-14T05:16:11.044Z"
   },
   {
    "duration": 191,
    "start_time": "2021-12-14T05:16:11.241Z"
   },
   {
    "duration": 192,
    "start_time": "2021-12-14T05:16:11.434Z"
   },
   {
    "duration": 252,
    "start_time": "2021-12-14T05:16:11.628Z"
   },
   {
    "duration": 1625,
    "start_time": "2021-12-14T05:16:11.882Z"
   },
   {
    "duration": 30,
    "start_time": "2021-12-14T05:16:13.509Z"
   },
   {
    "duration": 7,
    "start_time": "2021-12-14T05:16:13.541Z"
   },
   {
    "duration": 10,
    "start_time": "2021-12-14T05:16:13.550Z"
   },
   {
    "duration": 38,
    "start_time": "2021-12-14T05:16:13.562Z"
   },
   {
    "duration": 9,
    "start_time": "2021-12-14T05:16:13.602Z"
   },
   {
    "duration": 9,
    "start_time": "2021-12-14T05:16:13.613Z"
   },
   {
    "duration": 9,
    "start_time": "2021-12-14T05:16:13.627Z"
   },
   {
    "duration": 8,
    "start_time": "2021-12-14T05:16:13.639Z"
   },
   {
    "duration": 10,
    "start_time": "2021-12-14T05:16:13.692Z"
   },
   {
    "duration": 10,
    "start_time": "2021-12-14T05:16:13.704Z"
   },
   {
    "duration": 8,
    "start_time": "2021-12-14T05:16:13.716Z"
   },
   {
    "duration": 8,
    "start_time": "2021-12-14T05:16:13.726Z"
   },
   {
    "duration": 9,
    "start_time": "2021-12-14T05:16:13.736Z"
   },
   {
    "duration": 47,
    "start_time": "2021-12-14T05:16:13.746Z"
   },
   {
    "duration": 9,
    "start_time": "2021-12-14T05:16:13.795Z"
   },
   {
    "duration": 8,
    "start_time": "2021-12-14T05:16:13.806Z"
   },
   {
    "duration": 6,
    "start_time": "2021-12-14T05:16:13.815Z"
   },
   {
    "duration": 6,
    "start_time": "2021-12-14T05:16:13.823Z"
   },
   {
    "duration": 7,
    "start_time": "2021-12-14T05:16:13.830Z"
   },
   {
    "duration": 7,
    "start_time": "2021-12-14T05:16:13.838Z"
   },
   {
    "duration": 46,
    "start_time": "2021-12-14T05:16:13.846Z"
   },
   {
    "duration": 7,
    "start_time": "2021-12-14T05:16:13.894Z"
   },
   {
    "duration": 6,
    "start_time": "2021-12-14T05:16:13.902Z"
   },
   {
    "duration": 7,
    "start_time": "2021-12-14T05:16:13.910Z"
   },
   {
    "duration": 3,
    "start_time": "2021-12-14T05:16:13.918Z"
   },
   {
    "duration": 8,
    "start_time": "2021-12-14T05:16:13.923Z"
   },
   {
    "duration": 7,
    "start_time": "2021-12-14T05:16:13.932Z"
   },
   {
    "duration": 5,
    "start_time": "2021-12-14T05:16:13.941Z"
   },
   {
    "duration": 44,
    "start_time": "2021-12-14T05:16:13.948Z"
   },
   {
    "duration": 11,
    "start_time": "2021-12-14T05:16:13.993Z"
   },
   {
    "duration": 20,
    "start_time": "2021-12-14T05:16:14.005Z"
   },
   {
    "duration": 9,
    "start_time": "2021-12-14T05:16:14.027Z"
   },
   {
    "duration": 465,
    "start_time": "2021-12-14T05:16:14.037Z"
   },
   {
    "duration": 9,
    "start_time": "2021-12-14T05:16:14.504Z"
   },
   {
    "duration": 300,
    "start_time": "2021-12-14T05:16:14.514Z"
   },
   {
    "duration": 9,
    "start_time": "2021-12-14T05:16:14.816Z"
   },
   {
    "duration": 11,
    "start_time": "2021-12-14T05:20:12.355Z"
   },
   {
    "duration": 5,
    "start_time": "2021-12-14T05:20:23.047Z"
   },
   {
    "duration": 451,
    "start_time": "2021-12-14T05:20:37.827Z"
   },
   {
    "duration": 410,
    "start_time": "2021-12-14T05:20:54.595Z"
   },
   {
    "duration": 566,
    "start_time": "2021-12-14T05:21:11.155Z"
   },
   {
    "duration": 420,
    "start_time": "2021-12-14T05:21:21.923Z"
   },
   {
    "duration": 381,
    "start_time": "2021-12-14T05:21:33.568Z"
   },
   {
    "duration": 5,
    "start_time": "2021-12-14T05:21:39.565Z"
   },
   {
    "duration": 452,
    "start_time": "2021-12-14T05:21:40.373Z"
   },
   {
    "duration": 5,
    "start_time": "2021-12-14T05:21:52.679Z"
   },
   {
    "duration": 286,
    "start_time": "2021-12-14T05:21:54.268Z"
   },
   {
    "duration": 5,
    "start_time": "2021-12-14T05:22:00.222Z"
   },
   {
    "duration": 276,
    "start_time": "2021-12-14T05:22:01.040Z"
   },
   {
    "duration": 5,
    "start_time": "2021-12-14T05:22:07.237Z"
   },
   {
    "duration": 308,
    "start_time": "2021-12-14T05:22:08.385Z"
   },
   {
    "duration": 305,
    "start_time": "2021-12-14T05:22:29.148Z"
   },
   {
    "duration": 55,
    "start_time": "2021-12-14T05:22:31.796Z"
   },
   {
    "duration": 313,
    "start_time": "2021-12-14T05:22:34.489Z"
   },
   {
    "duration": 4,
    "start_time": "2021-12-14T05:31:55.503Z"
   },
   {
    "duration": 4538,
    "start_time": "2021-12-14T05:32:45.636Z"
   },
   {
    "duration": -122,
    "start_time": "2021-12-14T05:32:50.298Z"
   },
   {
    "duration": 4460,
    "start_time": "2021-12-14T05:32:50.933Z"
   },
   {
    "duration": 4,
    "start_time": "2021-12-14T05:33:00.601Z"
   },
   {
    "duration": 7,
    "start_time": "2021-12-14T05:33:05.005Z"
   },
   {
    "duration": 261,
    "start_time": "2021-12-14T05:33:12.009Z"
   },
   {
    "duration": 5,
    "start_time": "2021-12-14T05:33:31.286Z"
   },
   {
    "duration": 261,
    "start_time": "2021-12-14T05:33:31.976Z"
   },
   {
    "duration": 466,
    "start_time": "2021-12-14T05:37:51.980Z"
   },
   {
    "duration": 398,
    "start_time": "2021-12-14T05:38:58.779Z"
   },
   {
    "duration": 406,
    "start_time": "2021-12-14T05:39:20.181Z"
   },
   {
    "duration": 405,
    "start_time": "2021-12-14T05:39:54.081Z"
   },
   {
    "duration": 27,
    "start_time": "2021-12-14T05:44:45.222Z"
   },
   {
    "duration": 16,
    "start_time": "2021-12-14T05:45:08.280Z"
   },
   {
    "duration": 173,
    "start_time": "2021-12-14T05:48:45.367Z"
   },
   {
    "duration": 3,
    "start_time": "2021-12-14T05:48:48.543Z"
   },
   {
    "duration": 39,
    "start_time": "2021-12-14T05:48:53.080Z"
   },
   {
    "duration": 195,
    "start_time": "2021-12-14T05:52:05.326Z"
   },
   {
    "duration": 544,
    "start_time": "2021-12-14T05:52:18.911Z"
   },
   {
    "duration": 38,
    "start_time": "2021-12-14T05:52:19.457Z"
   },
   {
    "duration": 19,
    "start_time": "2021-12-14T05:52:19.496Z"
   },
   {
    "duration": 7,
    "start_time": "2021-12-14T05:52:19.517Z"
   },
   {
    "duration": 11,
    "start_time": "2021-12-14T05:52:19.526Z"
   },
   {
    "duration": 11,
    "start_time": "2021-12-14T05:52:19.539Z"
   },
   {
    "duration": 6,
    "start_time": "2021-12-14T05:52:19.552Z"
   },
   {
    "duration": 39,
    "start_time": "2021-12-14T05:52:19.560Z"
   },
   {
    "duration": 2,
    "start_time": "2021-12-14T05:52:19.601Z"
   },
   {
    "duration": 11,
    "start_time": "2021-12-14T05:52:19.605Z"
   },
   {
    "duration": 4,
    "start_time": "2021-12-14T05:52:19.618Z"
   },
   {
    "duration": 11,
    "start_time": "2021-12-14T05:52:19.623Z"
   },
   {
    "duration": 317,
    "start_time": "2021-12-14T05:52:19.636Z"
   },
   {
    "duration": 9,
    "start_time": "2021-12-14T05:52:19.955Z"
   },
   {
    "duration": 5,
    "start_time": "2021-12-14T05:52:19.965Z"
   },
   {
    "duration": 29,
    "start_time": "2021-12-14T05:52:19.972Z"
   },
   {
    "duration": 10,
    "start_time": "2021-12-14T05:52:20.003Z"
   },
   {
    "duration": 3,
    "start_time": "2021-12-14T05:52:20.015Z"
   },
   {
    "duration": 17,
    "start_time": "2021-12-14T05:52:20.019Z"
   },
   {
    "duration": 11,
    "start_time": "2021-12-14T05:52:20.038Z"
   },
   {
    "duration": 4,
    "start_time": "2021-12-14T05:52:20.051Z"
   },
   {
    "duration": 35,
    "start_time": "2021-12-14T05:52:20.057Z"
   },
   {
    "duration": 7,
    "start_time": "2021-12-14T05:52:20.096Z"
   },
   {
    "duration": 7,
    "start_time": "2021-12-14T05:52:20.105Z"
   },
   {
    "duration": 489,
    "start_time": "2021-12-14T05:52:20.114Z"
   },
   {
    "duration": -949,
    "start_time": "2021-12-14T05:52:21.555Z"
   },
   {
    "duration": -954,
    "start_time": "2021-12-14T05:52:21.561Z"
   },
   {
    "duration": -959,
    "start_time": "2021-12-14T05:52:21.566Z"
   },
   {
    "duration": -964,
    "start_time": "2021-12-14T05:52:21.572Z"
   },
   {
    "duration": -968,
    "start_time": "2021-12-14T05:52:21.577Z"
   },
   {
    "duration": -972,
    "start_time": "2021-12-14T05:52:21.582Z"
   },
   {
    "duration": -977,
    "start_time": "2021-12-14T05:52:21.588Z"
   },
   {
    "duration": -981,
    "start_time": "2021-12-14T05:52:21.593Z"
   },
   {
    "duration": -985,
    "start_time": "2021-12-14T05:52:21.598Z"
   },
   {
    "duration": -990,
    "start_time": "2021-12-14T05:52:21.604Z"
   },
   {
    "duration": -994,
    "start_time": "2021-12-14T05:52:21.608Z"
   },
   {
    "duration": -999,
    "start_time": "2021-12-14T05:52:21.614Z"
   },
   {
    "duration": -1003,
    "start_time": "2021-12-14T05:52:21.619Z"
   },
   {
    "duration": -1008,
    "start_time": "2021-12-14T05:52:21.625Z"
   },
   {
    "duration": -1012,
    "start_time": "2021-12-14T05:52:21.630Z"
   },
   {
    "duration": -1016,
    "start_time": "2021-12-14T05:52:21.635Z"
   },
   {
    "duration": -1020,
    "start_time": "2021-12-14T05:52:21.640Z"
   },
   {
    "duration": -1025,
    "start_time": "2021-12-14T05:52:21.647Z"
   },
   {
    "duration": -1050,
    "start_time": "2021-12-14T05:52:21.673Z"
   },
   {
    "duration": -1056,
    "start_time": "2021-12-14T05:52:21.680Z"
   },
   {
    "duration": -1061,
    "start_time": "2021-12-14T05:52:21.686Z"
   },
   {
    "duration": -1065,
    "start_time": "2021-12-14T05:52:21.691Z"
   },
   {
    "duration": -1069,
    "start_time": "2021-12-14T05:52:21.696Z"
   },
   {
    "duration": -1074,
    "start_time": "2021-12-14T05:52:21.702Z"
   },
   {
    "duration": -1078,
    "start_time": "2021-12-14T05:52:21.707Z"
   },
   {
    "duration": -1082,
    "start_time": "2021-12-14T05:52:21.712Z"
   },
   {
    "duration": -1086,
    "start_time": "2021-12-14T05:52:21.717Z"
   },
   {
    "duration": -1091,
    "start_time": "2021-12-14T05:52:21.723Z"
   },
   {
    "duration": -1096,
    "start_time": "2021-12-14T05:52:21.729Z"
   },
   {
    "duration": -1100,
    "start_time": "2021-12-14T05:52:21.734Z"
   },
   {
    "duration": -1104,
    "start_time": "2021-12-14T05:52:21.739Z"
   },
   {
    "duration": -1108,
    "start_time": "2021-12-14T05:52:21.744Z"
   },
   {
    "duration": -1113,
    "start_time": "2021-12-14T05:52:21.750Z"
   },
   {
    "duration": -1117,
    "start_time": "2021-12-14T05:52:21.755Z"
   },
   {
    "duration": -1121,
    "start_time": "2021-12-14T05:52:21.760Z"
   },
   {
    "duration": -1126,
    "start_time": "2021-12-14T05:52:21.766Z"
   },
   {
    "duration": -1130,
    "start_time": "2021-12-14T05:52:21.771Z"
   },
   {
    "duration": -1143,
    "start_time": "2021-12-14T05:52:21.785Z"
   },
   {
    "duration": -1147,
    "start_time": "2021-12-14T05:52:21.790Z"
   },
   {
    "duration": -1151,
    "start_time": "2021-12-14T05:52:21.795Z"
   },
   {
    "duration": -1156,
    "start_time": "2021-12-14T05:52:21.800Z"
   },
   {
    "duration": -1161,
    "start_time": "2021-12-14T05:52:21.806Z"
   },
   {
    "duration": -1165,
    "start_time": "2021-12-14T05:52:21.811Z"
   },
   {
    "duration": -1170,
    "start_time": "2021-12-14T05:52:21.816Z"
   },
   {
    "duration": -1130,
    "start_time": "2021-12-14T05:52:21.821Z"
   },
   {
    "duration": -1135,
    "start_time": "2021-12-14T05:52:21.827Z"
   },
   {
    "duration": -1139,
    "start_time": "2021-12-14T05:52:21.832Z"
   },
   {
    "duration": -1144,
    "start_time": "2021-12-14T05:52:21.838Z"
   },
   {
    "duration": -1148,
    "start_time": "2021-12-14T05:52:21.843Z"
   },
   {
    "duration": -1153,
    "start_time": "2021-12-14T05:52:21.849Z"
   },
   {
    "duration": -1157,
    "start_time": "2021-12-14T05:52:21.854Z"
   },
   {
    "duration": -1161,
    "start_time": "2021-12-14T05:52:21.859Z"
   },
   {
    "duration": -1165,
    "start_time": "2021-12-14T05:52:21.864Z"
   },
   {
    "duration": -1170,
    "start_time": "2021-12-14T05:52:21.870Z"
   },
   {
    "duration": -1174,
    "start_time": "2021-12-14T05:52:21.875Z"
   },
   {
    "duration": -1180,
    "start_time": "2021-12-14T05:52:21.881Z"
   },
   {
    "duration": -1191,
    "start_time": "2021-12-14T05:52:21.893Z"
   },
   {
    "duration": -1196,
    "start_time": "2021-12-14T05:52:21.899Z"
   },
   {
    "duration": -1200,
    "start_time": "2021-12-14T05:52:21.904Z"
   },
   {
    "duration": -1202,
    "start_time": "2021-12-14T05:52:21.909Z"
   },
   {
    "duration": -1207,
    "start_time": "2021-12-14T05:52:21.914Z"
   },
   {
    "duration": -1212,
    "start_time": "2021-12-14T05:52:21.920Z"
   },
   {
    "duration": -1216,
    "start_time": "2021-12-14T05:52:21.925Z"
   },
   {
    "duration": -1220,
    "start_time": "2021-12-14T05:52:21.930Z"
   },
   {
    "duration": -1224,
    "start_time": "2021-12-14T05:52:21.935Z"
   },
   {
    "duration": -1229,
    "start_time": "2021-12-14T05:52:21.941Z"
   },
   {
    "duration": -1233,
    "start_time": "2021-12-14T05:52:21.946Z"
   },
   {
    "duration": -1237,
    "start_time": "2021-12-14T05:52:21.951Z"
   },
   {
    "duration": -1242,
    "start_time": "2021-12-14T05:52:21.957Z"
   },
   {
    "duration": -1247,
    "start_time": "2021-12-14T05:52:21.963Z"
   },
   {
    "duration": -1250,
    "start_time": "2021-12-14T05:52:21.967Z"
   },
   {
    "duration": -1255,
    "start_time": "2021-12-14T05:52:21.973Z"
   },
   {
    "duration": -1259,
    "start_time": "2021-12-14T05:52:21.978Z"
   },
   {
    "duration": -1264,
    "start_time": "2021-12-14T05:52:21.984Z"
   },
   {
    "duration": -1268,
    "start_time": "2021-12-14T05:52:21.989Z"
   },
   {
    "duration": -1280,
    "start_time": "2021-12-14T05:52:22.001Z"
   },
   {
    "duration": -1284,
    "start_time": "2021-12-14T05:52:22.007Z"
   },
   {
    "duration": -1291,
    "start_time": "2021-12-14T05:52:22.015Z"
   },
   {
    "duration": -1297,
    "start_time": "2021-12-14T05:52:22.021Z"
   },
   {
    "duration": -1302,
    "start_time": "2021-12-14T05:52:22.027Z"
   },
   {
    "duration": 1067,
    "start_time": "2021-12-14T05:53:23.741Z"
   },
   {
    "duration": 37,
    "start_time": "2021-12-14T05:53:24.810Z"
   },
   {
    "duration": 17,
    "start_time": "2021-12-14T05:53:24.849Z"
   },
   {
    "duration": 6,
    "start_time": "2021-12-14T05:53:24.868Z"
   },
   {
    "duration": 22,
    "start_time": "2021-12-14T05:53:24.875Z"
   },
   {
    "duration": 11,
    "start_time": "2021-12-14T05:53:24.898Z"
   },
   {
    "duration": 6,
    "start_time": "2021-12-14T05:53:24.911Z"
   },
   {
    "duration": 9,
    "start_time": "2021-12-14T05:53:24.920Z"
   },
   {
    "duration": 2,
    "start_time": "2021-12-14T05:53:24.931Z"
   },
   {
    "duration": 19,
    "start_time": "2021-12-14T05:53:24.934Z"
   },
   {
    "duration": 5,
    "start_time": "2021-12-14T05:53:24.955Z"
   },
   {
    "duration": 37,
    "start_time": "2021-12-14T05:53:24.961Z"
   },
   {
    "duration": 293,
    "start_time": "2021-12-14T05:53:25.000Z"
   },
   {
    "duration": 10,
    "start_time": "2021-12-14T05:53:25.294Z"
   },
   {
    "duration": 6,
    "start_time": "2021-12-14T05:53:25.306Z"
   },
   {
    "duration": 15,
    "start_time": "2021-12-14T05:53:25.313Z"
   },
   {
    "duration": 11,
    "start_time": "2021-12-14T05:53:25.329Z"
   },
   {
    "duration": 3,
    "start_time": "2021-12-14T05:53:25.342Z"
   },
   {
    "duration": 16,
    "start_time": "2021-12-14T05:53:25.346Z"
   },
   {
    "duration": 34,
    "start_time": "2021-12-14T05:53:25.363Z"
   },
   {
    "duration": 6,
    "start_time": "2021-12-14T05:53:25.398Z"
   },
   {
    "duration": 7,
    "start_time": "2021-12-14T05:53:25.406Z"
   },
   {
    "duration": 8,
    "start_time": "2021-12-14T05:53:25.416Z"
   },
   {
    "duration": 6,
    "start_time": "2021-12-14T05:53:25.426Z"
   },
   {
    "duration": 262,
    "start_time": "2021-12-14T05:53:25.433Z"
   },
   {
    "duration": 9,
    "start_time": "2021-12-14T05:53:25.697Z"
   },
   {
    "duration": 8,
    "start_time": "2021-12-14T05:53:25.708Z"
   },
   {
    "duration": 4,
    "start_time": "2021-12-14T05:53:25.718Z"
   },
   {
    "duration": 24,
    "start_time": "2021-12-14T05:53:25.723Z"
   },
   {
    "duration": 3,
    "start_time": "2021-12-14T05:53:25.748Z"
   },
   {
    "duration": 1242,
    "start_time": "2021-12-14T05:53:25.752Z"
   },
   {
    "duration": 472,
    "start_time": "2021-12-14T05:53:26.996Z"
   },
   {
    "duration": 7,
    "start_time": "2021-12-14T05:53:27.470Z"
   },
   {
    "duration": 19,
    "start_time": "2021-12-14T05:53:27.479Z"
   },
   {
    "duration": 9,
    "start_time": "2021-12-14T05:53:27.499Z"
   },
   {
    "duration": 176,
    "start_time": "2021-12-14T05:53:27.510Z"
   },
   {
    "duration": 157,
    "start_time": "2021-12-14T05:53:27.691Z"
   },
   {
    "duration": 218,
    "start_time": "2021-12-14T05:53:27.850Z"
   },
   {
    "duration": 187,
    "start_time": "2021-12-14T05:53:28.070Z"
   },
   {
    "duration": 200,
    "start_time": "2021-12-14T05:53:28.259Z"
   },
   {
    "duration": 206,
    "start_time": "2021-12-14T05:53:28.461Z"
   },
   {
    "duration": 209,
    "start_time": "2021-12-14T05:53:28.668Z"
   },
   {
    "duration": 23,
    "start_time": "2021-12-14T05:53:28.878Z"
   },
   {
    "duration": 9,
    "start_time": "2021-12-14T05:53:28.902Z"
   },
   {
    "duration": 204,
    "start_time": "2021-12-14T05:53:28.912Z"
   },
   {
    "duration": 4,
    "start_time": "2021-12-14T05:53:29.118Z"
   },
   {
    "duration": 192,
    "start_time": "2021-12-14T05:53:29.124Z"
   },
   {
    "duration": 11,
    "start_time": "2021-12-14T05:53:29.318Z"
   },
   {
    "duration": 9,
    "start_time": "2021-12-14T05:53:29.331Z"
   },
   {
    "duration": 177,
    "start_time": "2021-12-14T05:53:29.342Z"
   },
   {
    "duration": 241,
    "start_time": "2021-12-14T05:53:29.521Z"
   },
   {
    "duration": 217,
    "start_time": "2021-12-14T05:53:29.764Z"
   },
   {
    "duration": 179,
    "start_time": "2021-12-14T05:53:29.983Z"
   },
   {
    "duration": 213,
    "start_time": "2021-12-14T05:53:30.163Z"
   },
   {
    "duration": 205,
    "start_time": "2021-12-14T05:53:30.378Z"
   },
   {
    "duration": 210,
    "start_time": "2021-12-14T05:53:30.584Z"
   },
   {
    "duration": 2,
    "start_time": "2021-12-14T05:53:30.796Z"
   },
   {
    "duration": 413,
    "start_time": "2021-12-14T05:53:30.800Z"
   },
   {
    "duration": 198,
    "start_time": "2021-12-14T05:53:31.214Z"
   },
   {
    "duration": 204,
    "start_time": "2021-12-14T05:53:31.414Z"
   },
   {
    "duration": 189,
    "start_time": "2021-12-14T05:53:31.619Z"
   },
   {
    "duration": 198,
    "start_time": "2021-12-14T05:53:31.810Z"
   },
   {
    "duration": 272,
    "start_time": "2021-12-14T05:53:32.010Z"
   },
   {
    "duration": 196,
    "start_time": "2021-12-14T05:53:32.285Z"
   },
   {
    "duration": 191,
    "start_time": "2021-12-14T05:53:32.482Z"
   },
   {
    "duration": 1649,
    "start_time": "2021-12-14T05:53:32.674Z"
   },
   {
    "duration": 407,
    "start_time": "2021-12-14T05:53:34.325Z"
   },
   {
    "duration": 27,
    "start_time": "2021-12-14T05:53:34.737Z"
   },
   {
    "duration": 7,
    "start_time": "2021-12-14T05:53:34.766Z"
   },
   {
    "duration": 24,
    "start_time": "2021-12-14T05:53:34.774Z"
   },
   {
    "duration": 8,
    "start_time": "2021-12-14T05:53:34.800Z"
   },
   {
    "duration": 8,
    "start_time": "2021-12-14T05:53:34.809Z"
   },
   {
    "duration": 8,
    "start_time": "2021-12-14T05:53:34.819Z"
   },
   {
    "duration": 9,
    "start_time": "2021-12-14T05:53:34.829Z"
   },
   {
    "duration": 51,
    "start_time": "2021-12-14T05:53:34.840Z"
   },
   {
    "duration": 8,
    "start_time": "2021-12-14T05:53:34.893Z"
   },
   {
    "duration": 26,
    "start_time": "2021-12-14T05:53:34.903Z"
   },
   {
    "duration": 19,
    "start_time": "2021-12-14T05:53:34.931Z"
   },
   {
    "duration": 8,
    "start_time": "2021-12-14T05:53:34.952Z"
   },
   {
    "duration": 17,
    "start_time": "2021-12-14T05:53:34.962Z"
   },
   {
    "duration": 25,
    "start_time": "2021-12-14T05:53:34.981Z"
   },
   {
    "duration": 9,
    "start_time": "2021-12-14T05:53:35.007Z"
   },
   {
    "duration": 9,
    "start_time": "2021-12-14T05:53:35.018Z"
   },
   {
    "duration": 9,
    "start_time": "2021-12-14T05:53:35.028Z"
   },
   {
    "duration": 6,
    "start_time": "2021-12-14T05:53:35.039Z"
   },
   {
    "duration": 7,
    "start_time": "2021-12-14T05:53:35.047Z"
   },
   {
    "duration": 39,
    "start_time": "2021-12-14T05:53:35.056Z"
   },
   {
    "duration": 7,
    "start_time": "2021-12-14T05:53:35.097Z"
   },
   {
    "duration": 7,
    "start_time": "2021-12-14T05:53:35.106Z"
   },
   {
    "duration": 7,
    "start_time": "2021-12-14T05:53:35.114Z"
   },
   {
    "duration": 7,
    "start_time": "2021-12-14T05:53:35.122Z"
   },
   {
    "duration": 6,
    "start_time": "2021-12-14T05:53:35.130Z"
   },
   {
    "duration": 3,
    "start_time": "2021-12-14T05:53:35.138Z"
   },
   {
    "duration": 49,
    "start_time": "2021-12-14T05:53:35.143Z"
   },
   {
    "duration": 7,
    "start_time": "2021-12-14T05:53:35.194Z"
   },
   {
    "duration": 9,
    "start_time": "2021-12-14T05:53:35.202Z"
   },
   {
    "duration": 2,
    "start_time": "2021-12-14T05:53:35.213Z"
   },
   {
    "duration": 10,
    "start_time": "2021-12-14T05:53:35.217Z"
   },
   {
    "duration": 19,
    "start_time": "2021-12-14T05:53:35.228Z"
   },
   {
    "duration": 10,
    "start_time": "2021-12-14T05:53:35.249Z"
   },
   {
    "duration": 476,
    "start_time": "2021-12-14T05:53:35.260Z"
   },
   {
    "duration": 272,
    "start_time": "2021-12-14T05:53:35.738Z"
   },
   {
    "duration": -106,
    "start_time": "2021-12-14T05:53:36.118Z"
   },
   {
    "duration": -113,
    "start_time": "2021-12-14T05:53:36.126Z"
   },
   {
    "duration": -116,
    "start_time": "2021-12-14T05:53:36.131Z"
   },
   {
    "duration": 24,
    "start_time": "2021-12-14T05:54:39.729Z"
   },
   {
    "duration": 181,
    "start_time": "2021-12-14T05:54:48.924Z"
   },
   {
    "duration": 26,
    "start_time": "2021-12-14T05:54:54.566Z"
   },
   {
    "duration": 9,
    "start_time": "2021-12-14T05:55:10.600Z"
   },
   {
    "duration": 10,
    "start_time": "2021-12-14T05:55:48.598Z"
   },
   {
    "duration": 11,
    "start_time": "2021-12-14T05:55:49.192Z"
   },
   {
    "duration": 8,
    "start_time": "2021-12-14T05:55:59.107Z"
   },
   {
    "duration": 289,
    "start_time": "2021-12-14T05:56:06.461Z"
   },
   {
    "duration": 10,
    "start_time": "2021-12-14T05:56:06.945Z"
   },
   {
    "duration": 2605,
    "start_time": "2021-12-14T19:17:09.135Z"
   },
   {
    "duration": 49,
    "start_time": "2021-12-14T19:17:11.743Z"
   },
   {
    "duration": 30,
    "start_time": "2021-12-14T19:17:11.795Z"
   },
   {
    "duration": 31,
    "start_time": "2021-12-14T19:17:11.828Z"
   },
   {
    "duration": 23,
    "start_time": "2021-12-14T19:17:11.862Z"
   },
   {
    "duration": 20,
    "start_time": "2021-12-14T19:17:11.888Z"
   },
   {
    "duration": 16,
    "start_time": "2021-12-14T19:17:11.910Z"
   },
   {
    "duration": 21,
    "start_time": "2021-12-14T19:17:11.960Z"
   },
   {
    "duration": 3,
    "start_time": "2021-12-14T19:17:11.985Z"
   },
   {
    "duration": 25,
    "start_time": "2021-12-14T19:17:11.991Z"
   },
   {
    "duration": 39,
    "start_time": "2021-12-14T19:17:12.021Z"
   },
   {
    "duration": 22,
    "start_time": "2021-12-14T19:17:12.063Z"
   },
   {
    "duration": 379,
    "start_time": "2021-12-14T19:17:12.088Z"
   },
   {
    "duration": 18,
    "start_time": "2021-12-14T19:17:12.469Z"
   },
   {
    "duration": 14,
    "start_time": "2021-12-14T19:17:12.489Z"
   },
   {
    "duration": 30,
    "start_time": "2021-12-14T19:17:12.505Z"
   },
   {
    "duration": 28,
    "start_time": "2021-12-14T19:17:12.538Z"
   },
   {
    "duration": 5,
    "start_time": "2021-12-14T19:17:12.568Z"
   },
   {
    "duration": 28,
    "start_time": "2021-12-14T19:17:12.575Z"
   },
   {
    "duration": 12,
    "start_time": "2021-12-14T19:17:12.605Z"
   },
   {
    "duration": 43,
    "start_time": "2021-12-14T19:17:12.619Z"
   },
   {
    "duration": 11,
    "start_time": "2021-12-14T19:17:12.665Z"
   },
   {
    "duration": 12,
    "start_time": "2021-12-14T19:17:12.685Z"
   },
   {
    "duration": 7,
    "start_time": "2021-12-14T19:17:12.701Z"
   },
   {
    "duration": 502,
    "start_time": "2021-12-14T19:17:12.711Z"
   },
   {
    "duration": 13,
    "start_time": "2021-12-14T19:17:13.216Z"
   },
   {
    "duration": 11,
    "start_time": "2021-12-14T19:17:13.231Z"
   },
   {
    "duration": 5,
    "start_time": "2021-12-14T19:17:13.245Z"
   },
   {
    "duration": 36,
    "start_time": "2021-12-14T19:17:13.252Z"
   },
   {
    "duration": 4,
    "start_time": "2021-12-14T19:17:13.291Z"
   },
   {
    "duration": 138240,
    "start_time": "2021-12-14T19:17:13.297Z"
   },
   {
    "duration": 364,
    "start_time": "2021-12-14T19:19:31.540Z"
   },
   {
    "duration": 10,
    "start_time": "2021-12-14T19:19:31.906Z"
   },
   {
    "duration": 15,
    "start_time": "2021-12-14T19:19:31.918Z"
   },
   {
    "duration": 35,
    "start_time": "2021-12-14T19:19:31.935Z"
   },
   {
    "duration": 313,
    "start_time": "2021-12-14T19:19:31.972Z"
   },
   {
    "duration": 289,
    "start_time": "2021-12-14T19:19:32.288Z"
   },
   {
    "duration": 328,
    "start_time": "2021-12-14T19:19:32.580Z"
   },
   {
    "duration": 355,
    "start_time": "2021-12-14T19:19:32.911Z"
   },
   {
    "duration": 326,
    "start_time": "2021-12-14T19:19:33.269Z"
   },
   {
    "duration": 32,
    "start_time": "2021-12-14T19:19:33.598Z"
   },
   {
    "duration": 29,
    "start_time": "2021-12-14T19:19:33.634Z"
   },
   {
    "duration": 14,
    "start_time": "2021-12-14T19:19:33.666Z"
   },
   {
    "duration": 28,
    "start_time": "2021-12-14T19:19:33.683Z"
   },
   {
    "duration": 335,
    "start_time": "2021-12-14T19:19:33.714Z"
   },
   {
    "duration": 9,
    "start_time": "2021-12-14T19:19:34.052Z"
   },
   {
    "duration": 381,
    "start_time": "2021-12-14T19:19:34.064Z"
   },
   {
    "duration": 15,
    "start_time": "2021-12-14T19:19:34.460Z"
   },
   {
    "duration": 16,
    "start_time": "2021-12-14T19:19:34.477Z"
   },
   {
    "duration": 373,
    "start_time": "2021-12-14T19:19:34.496Z"
   },
   {
    "duration": 300,
    "start_time": "2021-12-14T19:19:34.871Z"
   },
   {
    "duration": 350,
    "start_time": "2021-12-14T19:19:35.174Z"
   },
   {
    "duration": 352,
    "start_time": "2021-12-14T19:19:35.527Z"
   },
   {
    "duration": 332,
    "start_time": "2021-12-14T19:19:35.882Z"
   },
   {
    "duration": 4,
    "start_time": "2021-12-14T19:19:36.216Z"
   },
   {
    "duration": 462,
    "start_time": "2021-12-14T19:19:36.223Z"
   },
   {
    "duration": 3,
    "start_time": "2021-12-14T19:19:36.688Z"
   },
   {
    "duration": 6,
    "start_time": "2021-12-14T19:19:36.693Z"
   },
   {
    "duration": 441,
    "start_time": "2021-12-14T19:19:36.701Z"
   },
   {
    "duration": 44,
    "start_time": "2021-12-14T19:19:37.144Z"
   },
   {
    "duration": 8,
    "start_time": "2021-12-14T19:19:37.190Z"
   },
   {
    "duration": 20,
    "start_time": "2021-12-14T19:19:37.200Z"
   },
   {
    "duration": 41,
    "start_time": "2021-12-14T19:19:37.222Z"
   },
   {
    "duration": 11,
    "start_time": "2021-12-14T19:19:37.266Z"
   },
   {
    "duration": 11,
    "start_time": "2021-12-14T19:19:37.280Z"
   },
   {
    "duration": 13,
    "start_time": "2021-12-14T19:19:37.293Z"
   },
   {
    "duration": 61,
    "start_time": "2021-12-14T19:19:37.309Z"
   },
   {
    "duration": 12,
    "start_time": "2021-12-14T19:19:37.381Z"
   },
   {
    "duration": 15,
    "start_time": "2021-12-14T19:19:37.398Z"
   },
   {
    "duration": 56,
    "start_time": "2021-12-14T19:19:37.416Z"
   },
   {
    "duration": 12,
    "start_time": "2021-12-14T19:19:37.475Z"
   },
   {
    "duration": 10,
    "start_time": "2021-12-14T19:19:37.490Z"
   },
   {
    "duration": 57,
    "start_time": "2021-12-14T19:19:37.503Z"
   },
   {
    "duration": 10,
    "start_time": "2021-12-14T19:19:37.563Z"
   },
   {
    "duration": 12,
    "start_time": "2021-12-14T19:19:37.576Z"
   },
   {
    "duration": 11,
    "start_time": "2021-12-14T19:19:37.590Z"
   },
   {
    "duration": 9,
    "start_time": "2021-12-14T19:19:37.604Z"
   },
   {
    "duration": 52,
    "start_time": "2021-12-14T19:19:37.615Z"
   },
   {
    "duration": 11,
    "start_time": "2021-12-14T19:19:37.670Z"
   },
   {
    "duration": 8,
    "start_time": "2021-12-14T19:19:37.684Z"
   },
   {
    "duration": 9,
    "start_time": "2021-12-14T19:19:37.695Z"
   },
   {
    "duration": 54,
    "start_time": "2021-12-14T19:19:37.707Z"
   },
   {
    "duration": 10,
    "start_time": "2021-12-14T19:19:37.763Z"
   },
   {
    "duration": 10,
    "start_time": "2021-12-14T19:19:37.775Z"
   },
   {
    "duration": 6,
    "start_time": "2021-12-14T19:19:37.787Z"
   },
   {
    "duration": 11,
    "start_time": "2021-12-14T19:19:37.795Z"
   },
   {
    "duration": 54,
    "start_time": "2021-12-14T19:19:37.808Z"
   },
   {
    "duration": 11,
    "start_time": "2021-12-14T19:19:37.864Z"
   },
   {
    "duration": 4,
    "start_time": "2021-12-14T19:19:37.878Z"
   },
   {
    "duration": 15,
    "start_time": "2021-12-14T19:19:37.884Z"
   },
   {
    "duration": 60,
    "start_time": "2021-12-14T19:19:37.901Z"
   },
   {
    "duration": 18,
    "start_time": "2021-12-14T19:19:37.964Z"
   },
   {
    "duration": 3,
    "start_time": "2021-12-14T19:19:37.985Z"
   },
   {
    "duration": 14,
    "start_time": "2021-12-14T19:19:37.991Z"
   },
   {
    "duration": 52,
    "start_time": "2021-12-14T19:19:38.007Z"
   },
   {
    "duration": 15,
    "start_time": "2021-12-14T19:19:38.062Z"
   },
   {
    "duration": 3,
    "start_time": "2021-12-14T19:19:38.080Z"
   },
   {
    "duration": 15,
    "start_time": "2021-12-14T19:19:38.085Z"
   },
   {
    "duration": 1111,
    "start_time": "2021-12-29T19:03:38.423Z"
   },
   {
    "duration": 38,
    "start_time": "2021-12-29T19:03:39.536Z"
   },
   {
    "duration": 23,
    "start_time": "2021-12-29T19:03:39.576Z"
   },
   {
    "duration": 6,
    "start_time": "2021-12-29T19:03:39.601Z"
   },
   {
    "duration": 13,
    "start_time": "2021-12-29T19:03:39.608Z"
   },
   {
    "duration": 16,
    "start_time": "2021-12-29T19:03:39.622Z"
   },
   {
    "duration": 9,
    "start_time": "2021-12-29T19:03:39.640Z"
   },
   {
    "duration": 40,
    "start_time": "2021-12-29T19:03:39.651Z"
   },
   {
    "duration": 2,
    "start_time": "2021-12-29T19:03:39.694Z"
   },
   {
    "duration": 15,
    "start_time": "2021-12-29T19:03:39.697Z"
   },
   {
    "duration": 5,
    "start_time": "2021-12-29T19:03:39.714Z"
   },
   {
    "duration": 12,
    "start_time": "2021-12-29T19:03:39.721Z"
   },
   {
    "duration": 324,
    "start_time": "2021-12-29T19:03:39.735Z"
   },
   {
    "duration": 10,
    "start_time": "2021-12-29T19:03:40.060Z"
   },
   {
    "duration": 21,
    "start_time": "2021-12-29T19:03:40.072Z"
   },
   {
    "duration": 16,
    "start_time": "2021-12-29T19:03:40.095Z"
   },
   {
    "duration": 10,
    "start_time": "2021-12-29T19:03:40.113Z"
   },
   {
    "duration": 3,
    "start_time": "2021-12-29T19:03:40.125Z"
   },
   {
    "duration": 16,
    "start_time": "2021-12-29T19:03:40.130Z"
   },
   {
    "duration": 10,
    "start_time": "2021-12-29T19:03:40.148Z"
   },
   {
    "duration": 34,
    "start_time": "2021-12-29T19:03:40.160Z"
   },
   {
    "duration": 10,
    "start_time": "2021-12-29T19:03:40.195Z"
   },
   {
    "duration": 8,
    "start_time": "2021-12-29T19:03:40.208Z"
   },
   {
    "duration": 9,
    "start_time": "2021-12-29T19:03:40.219Z"
   },
   {
    "duration": 274,
    "start_time": "2021-12-29T19:03:40.230Z"
   },
   {
    "duration": 10,
    "start_time": "2021-12-29T19:03:40.506Z"
   },
   {
    "duration": 8,
    "start_time": "2021-12-29T19:03:40.518Z"
   },
   {
    "duration": 4,
    "start_time": "2021-12-29T19:03:40.528Z"
   },
   {
    "duration": 25,
    "start_time": "2021-12-29T19:03:40.533Z"
   },
   {
    "duration": 3,
    "start_time": "2021-12-29T19:03:40.559Z"
   },
   {
    "duration": 1218,
    "start_time": "2021-12-29T19:03:40.591Z"
   },
   {
    "duration": 458,
    "start_time": "2021-12-29T19:03:41.811Z"
   },
   {
    "duration": 7,
    "start_time": "2021-12-29T19:03:42.271Z"
   },
   {
    "duration": 17,
    "start_time": "2021-12-29T19:03:42.280Z"
   },
   {
    "duration": 16,
    "start_time": "2021-12-29T19:03:42.298Z"
   },
   {
    "duration": 187,
    "start_time": "2021-12-29T19:03:42.316Z"
   },
   {
    "duration": 165,
    "start_time": "2021-12-29T19:03:42.505Z"
   },
   {
    "duration": 242,
    "start_time": "2021-12-29T19:03:42.672Z"
   },
   {
    "duration": 200,
    "start_time": "2021-12-29T19:03:42.916Z"
   },
   {
    "duration": 215,
    "start_time": "2021-12-29T19:03:43.118Z"
   },
   {
    "duration": 19,
    "start_time": "2021-12-29T19:03:43.335Z"
   },
   {
    "duration": 11,
    "start_time": "2021-12-29T19:03:43.356Z"
   },
   {
    "duration": 3,
    "start_time": "2021-12-29T19:03:43.368Z"
   },
   {
    "duration": 4,
    "start_time": "2021-12-29T19:03:43.392Z"
   },
   {
    "duration": 183,
    "start_time": "2021-12-29T19:03:43.398Z"
   },
   {
    "duration": 8,
    "start_time": "2021-12-29T19:03:43.583Z"
   },
   {
    "duration": 190,
    "start_time": "2021-12-29T19:03:43.592Z"
   },
   {
    "duration": 12,
    "start_time": "2021-12-29T19:03:43.783Z"
   },
   {
    "duration": 19,
    "start_time": "2021-12-29T19:03:43.797Z"
   },
   {
    "duration": 168,
    "start_time": "2021-12-29T19:03:43.818Z"
   },
   {
    "duration": 162,
    "start_time": "2021-12-29T19:03:43.988Z"
   },
   {
    "duration": 223,
    "start_time": "2021-12-29T19:03:44.151Z"
   },
   {
    "duration": 203,
    "start_time": "2021-12-29T19:03:44.376Z"
   },
   {
    "duration": 285,
    "start_time": "2021-12-29T19:03:44.581Z"
   },
   {
    "duration": 3,
    "start_time": "2021-12-29T19:03:44.868Z"
   },
   {
    "duration": 390,
    "start_time": "2021-12-29T19:03:44.872Z"
   },
   {
    "duration": 2,
    "start_time": "2021-12-29T19:03:45.265Z"
   },
   {
    "duration": 20,
    "start_time": "2021-12-29T19:03:45.269Z"
   },
   {
    "duration": 372,
    "start_time": "2021-12-29T19:03:45.290Z"
   },
   {
    "duration": 36,
    "start_time": "2021-12-29T19:03:45.664Z"
   },
   {
    "duration": 7,
    "start_time": "2021-12-29T19:03:45.702Z"
   },
   {
    "duration": 10,
    "start_time": "2021-12-29T19:03:45.711Z"
   },
   {
    "duration": 22,
    "start_time": "2021-12-29T19:03:45.723Z"
   },
   {
    "duration": 14,
    "start_time": "2021-12-29T19:03:45.746Z"
   },
   {
    "duration": 24,
    "start_time": "2021-12-29T19:03:45.761Z"
   },
   {
    "duration": 28,
    "start_time": "2021-12-29T19:03:45.786Z"
   },
   {
    "duration": 40,
    "start_time": "2021-12-29T19:03:45.815Z"
   },
   {
    "duration": 7,
    "start_time": "2021-12-29T19:03:45.861Z"
   },
   {
    "duration": 33,
    "start_time": "2021-12-29T19:03:45.870Z"
   },
   {
    "duration": 19,
    "start_time": "2021-12-29T19:03:45.905Z"
   },
   {
    "duration": 16,
    "start_time": "2021-12-29T19:03:45.926Z"
   },
   {
    "duration": 24,
    "start_time": "2021-12-29T19:03:45.944Z"
   },
   {
    "duration": 13,
    "start_time": "2021-12-29T19:03:45.970Z"
   },
   {
    "duration": 44,
    "start_time": "2021-12-29T19:03:45.984Z"
   },
   {
    "duration": 30,
    "start_time": "2021-12-29T19:03:46.029Z"
   },
   {
    "duration": 20,
    "start_time": "2021-12-29T19:03:46.061Z"
   },
   {
    "duration": 27,
    "start_time": "2021-12-29T19:03:46.083Z"
   },
   {
    "duration": 10,
    "start_time": "2021-12-29T19:03:46.111Z"
   },
   {
    "duration": 33,
    "start_time": "2021-12-29T19:03:46.122Z"
   },
   {
    "duration": 7,
    "start_time": "2021-12-29T19:03:46.156Z"
   },
   {
    "duration": 6,
    "start_time": "2021-12-29T19:03:46.164Z"
   },
   {
    "duration": 6,
    "start_time": "2021-12-29T19:03:46.172Z"
   },
   {
    "duration": 22,
    "start_time": "2021-12-29T19:03:46.180Z"
   },
   {
    "duration": 18,
    "start_time": "2021-12-29T19:03:46.203Z"
   },
   {
    "duration": 10,
    "start_time": "2021-12-29T19:03:46.223Z"
   },
   {
    "duration": 17,
    "start_time": "2021-12-29T19:03:46.235Z"
   },
   {
    "duration": 16,
    "start_time": "2021-12-29T19:03:46.254Z"
   },
   {
    "duration": 31,
    "start_time": "2021-12-29T19:03:46.272Z"
   },
   {
    "duration": 18,
    "start_time": "2021-12-29T19:03:46.305Z"
   },
   {
    "duration": 28,
    "start_time": "2021-12-29T19:03:46.325Z"
   },
   {
    "duration": 20,
    "start_time": "2021-12-29T19:03:46.355Z"
   },
   {
    "duration": 34,
    "start_time": "2021-12-29T19:03:46.377Z"
   },
   {
    "duration": 16,
    "start_time": "2021-12-29T19:03:46.412Z"
   },
   {
    "duration": 24,
    "start_time": "2021-12-29T19:03:46.429Z"
   },
   {
    "duration": 42,
    "start_time": "2021-12-29T19:03:46.454Z"
   },
   {
    "duration": 28,
    "start_time": "2021-12-29T19:03:46.498Z"
   },
   {
    "duration": 11,
    "start_time": "2021-12-29T19:03:46.528Z"
   },
   {
    "duration": 37,
    "start_time": "2021-12-29T19:03:46.541Z"
   },
   {
    "duration": 3,
    "start_time": "2021-12-29T19:04:30.096Z"
   },
   {
    "duration": 41,
    "start_time": "2021-12-29T19:04:30.100Z"
   },
   {
    "duration": 15,
    "start_time": "2021-12-29T19:04:30.143Z"
   },
   {
    "duration": 15,
    "start_time": "2021-12-29T19:04:30.160Z"
   },
   {
    "duration": 24,
    "start_time": "2021-12-29T19:04:30.177Z"
   },
   {
    "duration": 11,
    "start_time": "2021-12-29T19:04:30.203Z"
   },
   {
    "duration": 9,
    "start_time": "2021-12-29T19:04:30.216Z"
   },
   {
    "duration": 13,
    "start_time": "2021-12-29T19:04:30.227Z"
   },
   {
    "duration": 2,
    "start_time": "2021-12-29T19:04:30.243Z"
   },
   {
    "duration": 21,
    "start_time": "2021-12-29T19:04:30.247Z"
   },
   {
    "duration": 23,
    "start_time": "2021-12-29T19:04:30.270Z"
   },
   {
    "duration": 16,
    "start_time": "2021-12-29T19:04:30.294Z"
   },
   {
    "duration": 328,
    "start_time": "2021-12-29T19:04:30.311Z"
   },
   {
    "duration": 9,
    "start_time": "2021-12-29T19:04:30.641Z"
   },
   {
    "duration": 7,
    "start_time": "2021-12-29T19:04:30.652Z"
   },
   {
    "duration": 32,
    "start_time": "2021-12-29T19:04:30.661Z"
   },
   {
    "duration": 9,
    "start_time": "2021-12-29T19:04:30.695Z"
   },
   {
    "duration": 9,
    "start_time": "2021-12-29T19:04:30.706Z"
   },
   {
    "duration": 25,
    "start_time": "2021-12-29T19:04:30.716Z"
   },
   {
    "duration": 19,
    "start_time": "2021-12-29T19:04:30.743Z"
   },
   {
    "duration": 7,
    "start_time": "2021-12-29T19:04:30.764Z"
   },
   {
    "duration": 23,
    "start_time": "2021-12-29T19:04:30.772Z"
   },
   {
    "duration": 9,
    "start_time": "2021-12-29T19:04:30.797Z"
   },
   {
    "duration": 28,
    "start_time": "2021-12-29T19:04:30.808Z"
   },
   {
    "duration": 340,
    "start_time": "2021-12-29T19:04:30.838Z"
   },
   {
    "duration": 19,
    "start_time": "2021-12-29T19:04:31.180Z"
   },
   {
    "duration": 8,
    "start_time": "2021-12-29T19:04:31.205Z"
   },
   {
    "duration": 9,
    "start_time": "2021-12-29T19:04:31.217Z"
   },
   {
    "duration": 30,
    "start_time": "2021-12-29T19:04:31.228Z"
   },
   {
    "duration": 3,
    "start_time": "2021-12-29T19:04:31.260Z"
   },
   {
    "duration": 1782,
    "start_time": "2021-12-29T19:04:31.265Z"
   },
   {
    "duration": 680,
    "start_time": "2021-12-29T19:04:33.049Z"
   },
   {
    "duration": 8,
    "start_time": "2021-12-29T19:04:33.731Z"
   },
   {
    "duration": 12,
    "start_time": "2021-12-29T19:04:33.740Z"
   },
   {
    "duration": 9,
    "start_time": "2021-12-29T19:04:33.753Z"
   },
   {
    "duration": 206,
    "start_time": "2021-12-29T19:04:33.763Z"
   },
   {
    "duration": 191,
    "start_time": "2021-12-29T19:04:33.971Z"
   },
   {
    "duration": 243,
    "start_time": "2021-12-29T19:04:34.164Z"
   },
   {
    "duration": 231,
    "start_time": "2021-12-29T19:04:34.408Z"
   },
   {
    "duration": 253,
    "start_time": "2021-12-29T19:04:34.640Z"
   },
   {
    "duration": 21,
    "start_time": "2021-12-29T19:04:34.895Z"
   },
   {
    "duration": 13,
    "start_time": "2021-12-29T19:04:34.917Z"
   },
   {
    "duration": 3,
    "start_time": "2021-12-29T19:04:34.932Z"
   },
   {
    "duration": 9,
    "start_time": "2021-12-29T19:04:34.936Z"
   },
   {
    "duration": 297,
    "start_time": "2021-12-29T19:04:34.946Z"
   },
   {
    "duration": 4,
    "start_time": "2021-12-29T19:04:35.245Z"
   },
   {
    "duration": 317,
    "start_time": "2021-12-29T19:04:35.251Z"
   },
   {
    "duration": 21,
    "start_time": "2021-12-29T19:04:35.570Z"
   },
   {
    "duration": 9,
    "start_time": "2021-12-29T19:04:35.593Z"
   },
   {
    "duration": 194,
    "start_time": "2021-12-29T19:04:35.604Z"
   },
   {
    "duration": 184,
    "start_time": "2021-12-29T19:04:35.799Z"
   },
   {
    "duration": 240,
    "start_time": "2021-12-29T19:04:35.984Z"
   },
   {
    "duration": 230,
    "start_time": "2021-12-29T19:04:36.226Z"
   },
   {
    "duration": 315,
    "start_time": "2021-12-29T19:04:36.457Z"
   },
   {
    "duration": 2,
    "start_time": "2021-12-29T19:04:36.774Z"
   },
   {
    "duration": 384,
    "start_time": "2021-12-29T19:04:36.778Z"
   },
   {
    "duration": 2,
    "start_time": "2021-12-29T19:04:37.164Z"
   },
   {
    "duration": 6,
    "start_time": "2021-12-29T19:04:37.167Z"
   },
   {
    "duration": 394,
    "start_time": "2021-12-29T19:04:37.174Z"
   },
   {
    "duration": 34,
    "start_time": "2021-12-29T19:04:37.570Z"
   },
   {
    "duration": 5,
    "start_time": "2021-12-29T19:04:37.606Z"
   },
   {
    "duration": 16,
    "start_time": "2021-12-29T19:04:37.612Z"
   },
   {
    "duration": 8,
    "start_time": "2021-12-29T19:04:37.629Z"
   },
   {
    "duration": 8,
    "start_time": "2021-12-29T19:04:37.639Z"
   },
   {
    "duration": 8,
    "start_time": "2021-12-29T19:04:37.648Z"
   },
   {
    "duration": 40,
    "start_time": "2021-12-29T19:04:37.658Z"
   },
   {
    "duration": 15,
    "start_time": "2021-12-29T19:04:37.700Z"
   },
   {
    "duration": 11,
    "start_time": "2021-12-29T19:04:37.717Z"
   },
   {
    "duration": 8,
    "start_time": "2021-12-29T19:04:37.730Z"
   },
   {
    "duration": 9,
    "start_time": "2021-12-29T19:04:37.739Z"
   },
   {
    "duration": 8,
    "start_time": "2021-12-29T19:04:37.749Z"
   },
   {
    "duration": 41,
    "start_time": "2021-12-29T19:04:37.758Z"
   },
   {
    "duration": 9,
    "start_time": "2021-12-29T19:04:37.801Z"
   },
   {
    "duration": 8,
    "start_time": "2021-12-29T19:04:37.811Z"
   },
   {
    "duration": 11,
    "start_time": "2021-12-29T19:04:37.821Z"
   },
   {
    "duration": 10,
    "start_time": "2021-12-29T19:04:37.833Z"
   },
   {
    "duration": 7,
    "start_time": "2021-12-29T19:04:37.844Z"
   },
   {
    "duration": 40,
    "start_time": "2021-12-29T19:04:37.853Z"
   },
   {
    "duration": 8,
    "start_time": "2021-12-29T19:04:37.895Z"
   },
   {
    "duration": 7,
    "start_time": "2021-12-29T19:04:37.905Z"
   },
   {
    "duration": 6,
    "start_time": "2021-12-29T19:04:37.917Z"
   },
   {
    "duration": 7,
    "start_time": "2021-12-29T19:04:37.925Z"
   },
   {
    "duration": 7,
    "start_time": "2021-12-29T19:04:37.933Z"
   },
   {
    "duration": 7,
    "start_time": "2021-12-29T19:04:37.941Z"
   },
   {
    "duration": 4,
    "start_time": "2021-12-29T19:04:37.991Z"
   },
   {
    "duration": 10,
    "start_time": "2021-12-29T19:04:37.997Z"
   },
   {
    "duration": 7,
    "start_time": "2021-12-29T19:04:38.009Z"
   },
   {
    "duration": 9,
    "start_time": "2021-12-29T19:04:38.017Z"
   },
   {
    "duration": 2,
    "start_time": "2021-12-29T19:04:38.028Z"
   },
   {
    "duration": 12,
    "start_time": "2021-12-29T19:04:38.032Z"
   },
   {
    "duration": 16,
    "start_time": "2021-12-29T19:04:38.046Z"
   },
   {
    "duration": 36,
    "start_time": "2021-12-29T19:04:38.064Z"
   },
   {
    "duration": 2,
    "start_time": "2021-12-29T19:04:38.102Z"
   },
   {
    "duration": 11,
    "start_time": "2021-12-29T19:04:38.106Z"
   },
   {
    "duration": 11,
    "start_time": "2021-12-29T19:04:38.119Z"
   },
   {
    "duration": 10,
    "start_time": "2021-12-29T19:04:38.132Z"
   },
   {
    "duration": 3,
    "start_time": "2021-12-29T19:04:38.144Z"
   },
   {
    "duration": 48,
    "start_time": "2021-12-29T19:04:38.149Z"
   },
   {
    "duration": 6,
    "start_time": "2021-12-29T19:09:48.724Z"
   },
   {
    "duration": 314,
    "start_time": "2021-12-29T19:09:49.671Z"
   },
   {
    "duration": 16,
    "start_time": "2021-12-29T19:16:31.290Z"
   },
   {
    "duration": 9,
    "start_time": "2021-12-29T19:16:32.754Z"
   },
   {
    "duration": 10,
    "start_time": "2021-12-29T19:16:33.334Z"
   },
   {
    "duration": 10,
    "start_time": "2021-12-29T19:16:33.733Z"
   },
   {
    "duration": 8,
    "start_time": "2021-12-29T19:16:40.116Z"
   },
   {
    "duration": 8,
    "start_time": "2021-12-29T19:16:40.811Z"
   },
   {
    "duration": 10,
    "start_time": "2021-12-29T19:16:41.720Z"
   },
   {
    "duration": 9,
    "start_time": "2021-12-29T19:16:41.918Z"
   },
   {
    "duration": 1107,
    "start_time": "2021-12-29T19:21:12.408Z"
   },
   {
    "duration": 38,
    "start_time": "2021-12-29T19:21:13.516Z"
   },
   {
    "duration": 17,
    "start_time": "2021-12-29T19:21:13.556Z"
   },
   {
    "duration": 25,
    "start_time": "2021-12-29T19:21:13.574Z"
   },
   {
    "duration": 18,
    "start_time": "2021-12-29T19:21:13.601Z"
   },
   {
    "duration": 17,
    "start_time": "2021-12-29T19:21:13.621Z"
   },
   {
    "duration": 17,
    "start_time": "2021-12-29T19:21:13.640Z"
   },
   {
    "duration": 30,
    "start_time": "2021-12-29T19:21:13.659Z"
   },
   {
    "duration": 10,
    "start_time": "2021-12-29T19:21:13.692Z"
   },
   {
    "duration": 11,
    "start_time": "2021-12-29T19:21:13.703Z"
   },
   {
    "duration": 289,
    "start_time": "2021-12-29T19:21:13.715Z"
   },
   {
    "duration": 10,
    "start_time": "2021-12-29T19:21:14.006Z"
   },
   {
    "duration": 5,
    "start_time": "2021-12-29T19:21:14.017Z"
   },
   {
    "duration": 13,
    "start_time": "2021-12-29T19:21:14.024Z"
   },
   {
    "duration": 18,
    "start_time": "2021-12-29T19:21:14.039Z"
   },
   {
    "duration": 9,
    "start_time": "2021-12-29T19:21:14.058Z"
   },
   {
    "duration": 4,
    "start_time": "2021-12-29T19:21:14.092Z"
   },
   {
    "duration": 6,
    "start_time": "2021-12-29T19:21:14.098Z"
   },
   {
    "duration": 5,
    "start_time": "2021-12-29T19:21:14.105Z"
   },
   {
    "duration": 252,
    "start_time": "2021-12-29T19:21:14.112Z"
   },
   {
    "duration": 10,
    "start_time": "2021-12-29T19:21:14.365Z"
   },
   {
    "duration": 21,
    "start_time": "2021-12-29T19:21:14.377Z"
   },
   {
    "duration": 3,
    "start_time": "2021-12-29T19:21:14.401Z"
   },
   {
    "duration": 24,
    "start_time": "2021-12-29T19:21:14.407Z"
   },
   {
    "duration": 2,
    "start_time": "2021-12-29T19:21:14.432Z"
   },
   {
    "duration": 1216,
    "start_time": "2021-12-29T19:21:14.436Z"
   },
   {
    "duration": 445,
    "start_time": "2021-12-29T19:21:15.654Z"
   },
   {
    "duration": 7,
    "start_time": "2021-12-29T19:21:16.101Z"
   },
   {
    "duration": 16,
    "start_time": "2021-12-29T19:21:16.110Z"
   },
   {
    "duration": 16,
    "start_time": "2021-12-29T19:21:16.128Z"
   },
   {
    "duration": 175,
    "start_time": "2021-12-29T19:21:16.146Z"
   },
   {
    "duration": 165,
    "start_time": "2021-12-29T19:21:16.322Z"
   },
   {
    "duration": 219,
    "start_time": "2021-12-29T19:21:16.488Z"
   },
   {
    "duration": 209,
    "start_time": "2021-12-29T19:21:16.709Z"
   },
   {
    "duration": 214,
    "start_time": "2021-12-29T19:21:16.919Z"
   },
   {
    "duration": 19,
    "start_time": "2021-12-29T19:21:17.135Z"
   },
   {
    "duration": 7,
    "start_time": "2021-12-29T19:21:17.156Z"
   },
   {
    "duration": 27,
    "start_time": "2021-12-29T19:21:17.164Z"
   },
   {
    "duration": 182,
    "start_time": "2021-12-29T19:21:17.193Z"
   },
   {
    "duration": 15,
    "start_time": "2021-12-29T19:21:17.377Z"
   },
   {
    "duration": 33,
    "start_time": "2021-12-29T19:21:17.394Z"
   },
   {
    "duration": 177,
    "start_time": "2021-12-29T19:21:17.429Z"
   },
   {
    "duration": 169,
    "start_time": "2021-12-29T19:21:17.608Z"
   },
   {
    "duration": 223,
    "start_time": "2021-12-29T19:21:17.779Z"
   },
   {
    "duration": 204,
    "start_time": "2021-12-29T19:21:18.004Z"
   },
   {
    "duration": 222,
    "start_time": "2021-12-29T19:21:18.210Z"
   },
   {
    "duration": 3,
    "start_time": "2021-12-29T19:21:18.434Z"
   },
   {
    "duration": 472,
    "start_time": "2021-12-29T19:21:18.438Z"
   },
   {
    "duration": 24,
    "start_time": "2021-12-29T19:21:18.911Z"
   },
   {
    "duration": 6,
    "start_time": "2021-12-29T19:21:18.937Z"
   },
   {
    "duration": 35,
    "start_time": "2021-12-29T19:21:18.944Z"
   },
   {
    "duration": 29,
    "start_time": "2021-12-29T19:21:18.981Z"
   },
   {
    "duration": 32,
    "start_time": "2021-12-29T19:21:19.013Z"
   },
   {
    "duration": 19,
    "start_time": "2021-12-29T19:21:19.047Z"
   },
   {
    "duration": 28,
    "start_time": "2021-12-29T19:21:19.068Z"
   },
   {
    "duration": 24,
    "start_time": "2021-12-29T19:21:19.098Z"
   },
   {
    "duration": 20,
    "start_time": "2021-12-29T19:21:19.124Z"
   },
   {
    "duration": 39,
    "start_time": "2021-12-29T19:21:19.146Z"
   },
   {
    "duration": 16,
    "start_time": "2021-12-29T19:21:19.187Z"
   },
   {
    "duration": 21,
    "start_time": "2021-12-29T19:21:19.204Z"
   },
   {
    "duration": 16,
    "start_time": "2021-12-29T19:21:19.227Z"
   },
   {
    "duration": 27,
    "start_time": "2021-12-29T19:21:19.245Z"
   },
   {
    "duration": 31,
    "start_time": "2021-12-29T19:21:19.274Z"
   },
   {
    "duration": 35,
    "start_time": "2021-12-29T19:21:19.307Z"
   },
   {
    "duration": 25,
    "start_time": "2021-12-29T19:21:19.344Z"
   },
   {
    "duration": 25,
    "start_time": "2021-12-29T19:21:19.371Z"
   },
   {
    "duration": 37,
    "start_time": "2021-12-29T19:21:19.398Z"
   },
   {
    "duration": 22,
    "start_time": "2021-12-29T19:21:19.440Z"
   },
   {
    "duration": 20,
    "start_time": "2021-12-29T19:21:19.464Z"
   },
   {
    "duration": 30,
    "start_time": "2021-12-29T19:21:19.485Z"
   },
   {
    "duration": 22,
    "start_time": "2021-12-29T19:21:19.517Z"
   },
   {
    "duration": 46,
    "start_time": "2021-12-29T19:21:19.540Z"
   },
   {
    "duration": 34,
    "start_time": "2021-12-29T19:21:19.588Z"
   },
   {
    "duration": 51,
    "start_time": "2021-12-29T19:21:19.624Z"
   },
   {
    "duration": 40,
    "start_time": "2021-12-29T19:21:19.677Z"
   },
   {
    "duration": 30,
    "start_time": "2021-12-29T19:21:19.720Z"
   }
  ],
  "kernelspec": {
   "display_name": "Python 3",
   "language": "python",
   "name": "python3"
  },
  "language_info": {
   "codemirror_mode": {
    "name": "ipython",
    "version": 3
   },
   "file_extension": ".py",
   "mimetype": "text/x-python",
   "name": "python",
   "nbconvert_exporter": "python",
   "pygments_lexer": "ipython3",
   "version": "3.7.8"
  },
  "toc": {
   "base_numbering": 1,
   "nav_menu": {},
   "number_sections": true,
   "sideBar": true,
   "skip_h1_title": true,
   "title_cell": "Table of Contents",
   "title_sidebar": "Contents",
   "toc_cell": false,
   "toc_position": {},
   "toc_section_display": true,
   "toc_window_display": false
  }
 },
 "nbformat": 4,
 "nbformat_minor": 2
}
