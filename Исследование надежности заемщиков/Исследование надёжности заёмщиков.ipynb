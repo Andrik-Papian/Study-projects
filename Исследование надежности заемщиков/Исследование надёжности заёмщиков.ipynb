{
 "cells": [
  {
   "cell_type": "markdown",
   "metadata": {},
   "source": [
    "# Исследование надёжности заёмщиков\n",
    "\n",
    "Заказчик — кредитный отдел банка. Нужно разобраться, влияет ли семейное положение и количество детей клиента на факт погашения кредита в срок. Входные данные от банка — статистика о платёжеспособности клиентов.\n",
    "\n",
    "Результаты исследования будут учтены при построении модели **кредитного скоринга** — специальной системы, которая оценивает способность потенциального заёмщика вернуть кредит банку.\n",
    "\n",
    "**Описание данных**\n",
    "\n",
    "children — количество детей в семье\n",
    "\n",
    "days_employed — трудовой стаж в днях\n",
    "\n",
    "dob_days — возраст клиента в годах\n",
    "\n",
    "education — образование клиента\n",
    "\n",
    "education_id — идентификатор образования\n",
    "\n",
    "family_status — семейное положение\n",
    "\n",
    "family_status_id — идентификатор семейного положения\n",
    "\n",
    "gender — пол клиента\n",
    "\n",
    "income_type — тип занятости\n",
    "\n",
    "debt — имел ли задолженность по возврату кредитов\n",
    "\n",
    "total_income — доход в месяц\n",
    "\n",
    "purpose — цель получения кредита"
   ]
  },
  {
   "cell_type": "markdown",
   "metadata": {},
   "source": [
    "## Шаг 1. Откроем файл с данными и изучим общую информацию"
   ]
  },
  {
   "cell_type": "code",
   "execution_count": 2,
   "metadata": {},
   "outputs": [
    {
     "data": {
      "text/html": [
       "<div>\n",
       "<style scoped>\n",
       "    .dataframe tbody tr th:only-of-type {\n",
       "        vertical-align: middle;\n",
       "    }\n",
       "\n",
       "    .dataframe tbody tr th {\n",
       "        vertical-align: top;\n",
       "    }\n",
       "\n",
       "    .dataframe thead th {\n",
       "        text-align: right;\n",
       "    }\n",
       "</style>\n",
       "<table border=\"1\" class=\"dataframe\">\n",
       "  <thead>\n",
       "    <tr style=\"text-align: right;\">\n",
       "      <th></th>\n",
       "      <th>children</th>\n",
       "      <th>days_employed</th>\n",
       "      <th>dob_years</th>\n",
       "      <th>education</th>\n",
       "      <th>education_id</th>\n",
       "      <th>family_status</th>\n",
       "      <th>family_status_id</th>\n",
       "      <th>gender</th>\n",
       "      <th>income_type</th>\n",
       "      <th>debt</th>\n",
       "      <th>total_income</th>\n",
       "      <th>purpose</th>\n",
       "    </tr>\n",
       "  </thead>\n",
       "  <tbody>\n",
       "    <tr>\n",
       "      <td>0</td>\n",
       "      <td>1</td>\n",
       "      <td>-8437.673028</td>\n",
       "      <td>42</td>\n",
       "      <td>высшее</td>\n",
       "      <td>0</td>\n",
       "      <td>женат / замужем</td>\n",
       "      <td>0</td>\n",
       "      <td>F</td>\n",
       "      <td>сотрудник</td>\n",
       "      <td>0</td>\n",
       "      <td>253875.639453</td>\n",
       "      <td>покупка жилья</td>\n",
       "    </tr>\n",
       "    <tr>\n",
       "      <td>1</td>\n",
       "      <td>1</td>\n",
       "      <td>-4024.803754</td>\n",
       "      <td>36</td>\n",
       "      <td>среднее</td>\n",
       "      <td>1</td>\n",
       "      <td>женат / замужем</td>\n",
       "      <td>0</td>\n",
       "      <td>F</td>\n",
       "      <td>сотрудник</td>\n",
       "      <td>0</td>\n",
       "      <td>112080.014102</td>\n",
       "      <td>приобретение автомобиля</td>\n",
       "    </tr>\n",
       "    <tr>\n",
       "      <td>2</td>\n",
       "      <td>0</td>\n",
       "      <td>-5623.422610</td>\n",
       "      <td>33</td>\n",
       "      <td>Среднее</td>\n",
       "      <td>1</td>\n",
       "      <td>женат / замужем</td>\n",
       "      <td>0</td>\n",
       "      <td>M</td>\n",
       "      <td>сотрудник</td>\n",
       "      <td>0</td>\n",
       "      <td>145885.952297</td>\n",
       "      <td>покупка жилья</td>\n",
       "    </tr>\n",
       "    <tr>\n",
       "      <td>3</td>\n",
       "      <td>3</td>\n",
       "      <td>-4124.747207</td>\n",
       "      <td>32</td>\n",
       "      <td>среднее</td>\n",
       "      <td>1</td>\n",
       "      <td>женат / замужем</td>\n",
       "      <td>0</td>\n",
       "      <td>M</td>\n",
       "      <td>сотрудник</td>\n",
       "      <td>0</td>\n",
       "      <td>267628.550329</td>\n",
       "      <td>дополнительное образование</td>\n",
       "    </tr>\n",
       "    <tr>\n",
       "      <td>4</td>\n",
       "      <td>0</td>\n",
       "      <td>340266.072047</td>\n",
       "      <td>53</td>\n",
       "      <td>среднее</td>\n",
       "      <td>1</td>\n",
       "      <td>гражданский брак</td>\n",
       "      <td>1</td>\n",
       "      <td>F</td>\n",
       "      <td>пенсионер</td>\n",
       "      <td>0</td>\n",
       "      <td>158616.077870</td>\n",
       "      <td>сыграть свадьбу</td>\n",
       "    </tr>\n",
       "    <tr>\n",
       "      <td>...</td>\n",
       "      <td>...</td>\n",
       "      <td>...</td>\n",
       "      <td>...</td>\n",
       "      <td>...</td>\n",
       "      <td>...</td>\n",
       "      <td>...</td>\n",
       "      <td>...</td>\n",
       "      <td>...</td>\n",
       "      <td>...</td>\n",
       "      <td>...</td>\n",
       "      <td>...</td>\n",
       "      <td>...</td>\n",
       "    </tr>\n",
       "    <tr>\n",
       "      <td>21520</td>\n",
       "      <td>1</td>\n",
       "      <td>-4529.316663</td>\n",
       "      <td>43</td>\n",
       "      <td>среднее</td>\n",
       "      <td>1</td>\n",
       "      <td>гражданский брак</td>\n",
       "      <td>1</td>\n",
       "      <td>F</td>\n",
       "      <td>компаньон</td>\n",
       "      <td>0</td>\n",
       "      <td>224791.862382</td>\n",
       "      <td>операции с жильем</td>\n",
       "    </tr>\n",
       "    <tr>\n",
       "      <td>21521</td>\n",
       "      <td>0</td>\n",
       "      <td>343937.404131</td>\n",
       "      <td>67</td>\n",
       "      <td>среднее</td>\n",
       "      <td>1</td>\n",
       "      <td>женат / замужем</td>\n",
       "      <td>0</td>\n",
       "      <td>F</td>\n",
       "      <td>пенсионер</td>\n",
       "      <td>0</td>\n",
       "      <td>155999.806512</td>\n",
       "      <td>сделка с автомобилем</td>\n",
       "    </tr>\n",
       "    <tr>\n",
       "      <td>21522</td>\n",
       "      <td>1</td>\n",
       "      <td>-2113.346888</td>\n",
       "      <td>38</td>\n",
       "      <td>среднее</td>\n",
       "      <td>1</td>\n",
       "      <td>гражданский брак</td>\n",
       "      <td>1</td>\n",
       "      <td>M</td>\n",
       "      <td>сотрудник</td>\n",
       "      <td>1</td>\n",
       "      <td>89672.561153</td>\n",
       "      <td>недвижимость</td>\n",
       "    </tr>\n",
       "    <tr>\n",
       "      <td>21523</td>\n",
       "      <td>3</td>\n",
       "      <td>-3112.481705</td>\n",
       "      <td>38</td>\n",
       "      <td>среднее</td>\n",
       "      <td>1</td>\n",
       "      <td>женат / замужем</td>\n",
       "      <td>0</td>\n",
       "      <td>M</td>\n",
       "      <td>сотрудник</td>\n",
       "      <td>1</td>\n",
       "      <td>244093.050500</td>\n",
       "      <td>на покупку своего автомобиля</td>\n",
       "    </tr>\n",
       "    <tr>\n",
       "      <td>21524</td>\n",
       "      <td>2</td>\n",
       "      <td>-1984.507589</td>\n",
       "      <td>40</td>\n",
       "      <td>среднее</td>\n",
       "      <td>1</td>\n",
       "      <td>женат / замужем</td>\n",
       "      <td>0</td>\n",
       "      <td>F</td>\n",
       "      <td>сотрудник</td>\n",
       "      <td>0</td>\n",
       "      <td>82047.418899</td>\n",
       "      <td>на покупку автомобиля</td>\n",
       "    </tr>\n",
       "  </tbody>\n",
       "</table>\n",
       "<p>21525 rows × 12 columns</p>\n",
       "</div>"
      ],
      "text/plain": [
       "       children  days_employed  dob_years education  education_id  \\\n",
       "0             1   -8437.673028         42    высшее             0   \n",
       "1             1   -4024.803754         36   среднее             1   \n",
       "2             0   -5623.422610         33   Среднее             1   \n",
       "3             3   -4124.747207         32   среднее             1   \n",
       "4             0  340266.072047         53   среднее             1   \n",
       "...         ...            ...        ...       ...           ...   \n",
       "21520         1   -4529.316663         43   среднее             1   \n",
       "21521         0  343937.404131         67   среднее             1   \n",
       "21522         1   -2113.346888         38   среднее             1   \n",
       "21523         3   -3112.481705         38   среднее             1   \n",
       "21524         2   -1984.507589         40   среднее             1   \n",
       "\n",
       "          family_status  family_status_id gender income_type  debt  \\\n",
       "0       женат / замужем                 0      F   сотрудник     0   \n",
       "1       женат / замужем                 0      F   сотрудник     0   \n",
       "2       женат / замужем                 0      M   сотрудник     0   \n",
       "3       женат / замужем                 0      M   сотрудник     0   \n",
       "4      гражданский брак                 1      F   пенсионер     0   \n",
       "...                 ...               ...    ...         ...   ...   \n",
       "21520  гражданский брак                 1      F   компаньон     0   \n",
       "21521   женат / замужем                 0      F   пенсионер     0   \n",
       "21522  гражданский брак                 1      M   сотрудник     1   \n",
       "21523   женат / замужем                 0      M   сотрудник     1   \n",
       "21524   женат / замужем                 0      F   сотрудник     0   \n",
       "\n",
       "        total_income                       purpose  \n",
       "0      253875.639453                 покупка жилья  \n",
       "1      112080.014102       приобретение автомобиля  \n",
       "2      145885.952297                 покупка жилья  \n",
       "3      267628.550329    дополнительное образование  \n",
       "4      158616.077870               сыграть свадьбу  \n",
       "...              ...                           ...  \n",
       "21520  224791.862382             операции с жильем  \n",
       "21521  155999.806512          сделка с автомобилем  \n",
       "21522   89672.561153                  недвижимость  \n",
       "21523  244093.050500  на покупку своего автомобиля  \n",
       "21524   82047.418899         на покупку автомобиля  \n",
       "\n",
       "[21525 rows x 12 columns]"
      ]
     },
     "metadata": {},
     "output_type": "display_data"
    }
   ],
   "source": [
    "import pandas as pd\n",
    "data = pd.read_csv(\"/datasets/data.csv\")\n",
    "display(data)"
   ]
  },
  {
   "cell_type": "markdown",
   "metadata": {},
   "source": [
    "**Вывод** \n",
    "В таблице 12 колонок - все озаглавленны ясно по смыслу. \n",
    "В некоторых данных присутствуют ошибки, например в колонке days_employed есть отрицательные значения, которые невозможны. Скорее всего какая-то нелепая ошибка, на анализ данных не влияет."
   ]
  },
  {
   "cell_type": "markdown",
   "metadata": {},
   "source": [
    "## Шаг 2. Предобработка данных"
   ]
  },
  {
   "cell_type": "markdown",
   "metadata": {},
   "source": [
    "### Обработка пропусков"
   ]
  },
  {
   "cell_type": "code",
   "execution_count": 3,
   "metadata": {},
   "outputs": [
    {
     "name": "stdout",
     "output_type": "stream",
     "text": [
      "children               0\n",
      "days_employed       2174\n",
      "dob_years              0\n",
      "education              0\n",
      "education_id           0\n",
      "family_status          0\n",
      "family_status_id       0\n",
      "gender                 0\n",
      "income_type            0\n",
      "debt                   0\n",
      "total_income        2174\n",
      "purpose                0\n",
      "dtype: int64\n"
     ]
    }
   ],
   "source": [
    "print(data.isna().sum())"
   ]
  },
  {
   "cell_type": "code",
   "execution_count": 4,
   "metadata": {},
   "outputs": [
    {
     "name": "stdout",
     "output_type": "stream",
     "text": [
      "children               0\n",
      "days_employed          0\n",
      "dob_years              0\n",
      "education              0\n",
      "education_id           0\n",
      "family_status          0\n",
      "family_status_id       0\n",
      "gender                 0\n",
      "income_type            0\n",
      "debt                   0\n",
      "total_income        2174\n",
      "purpose                0\n",
      "dtype: int64\n"
     ]
    }
   ],
   "source": [
    "for inc_type in data[\"income_type\"].unique():\n",
    "    data.loc[data[\"income_type\"] == inc_type, \"days_employed\"] = data.loc[data[\"income_type\"] == inc_type, \"days_employed\"].fillna(data.groupby(\"income_type\")[\"days_employed\"].median()[inc_type])    \n",
    "        \n",
    "print(data.isna().sum())        "
   ]
  },
  {
   "cell_type": "code",
   "execution_count": 5,
   "metadata": {},
   "outputs": [
    {
     "name": "stdout",
     "output_type": "stream",
     "text": [
      "children            0\n",
      "days_employed       0\n",
      "dob_years           0\n",
      "education           0\n",
      "education_id        0\n",
      "family_status       0\n",
      "family_status_id    0\n",
      "gender              0\n",
      "income_type         0\n",
      "debt                0\n",
      "total_income        0\n",
      "purpose             0\n",
      "dtype: int64\n"
     ]
    }
   ],
   "source": [
    "for inc_type in data['income_type'].unique():\n",
    "    data.loc[data['income_type'] == inc_type, 'total_income'] = data.loc[data['income_type'] == inc_type, 'total_income'].fillna(data.groupby('income_type')['total_income'].median()[inc_type])\n",
    "                \n",
    "print(data.isna().sum())        "
   ]
  },
  {
   "cell_type": "markdown",
   "metadata": {},
   "source": [
    "**Вывод**\n",
    "Поиск пропущенных значений показал, что в столбцах days_employed и total_income есть одинаковое количество пропусков,\n",
    "заполним пропуски медианой с предварительной группировкой по типу занятости."
   ]
  },
  {
   "cell_type": "code",
   "execution_count": 6,
   "metadata": {},
   "outputs": [
    {
     "name": "stdout",
     "output_type": "stream",
     "text": [
      "<class 'pandas.core.frame.DataFrame'>\n",
      "RangeIndex: 21525 entries, 0 to 21524\n",
      "Data columns (total 12 columns):\n",
      "children            21525 non-null int64\n",
      "days_employed       21525 non-null float64\n",
      "dob_years           21525 non-null int64\n",
      "education           21525 non-null object\n",
      "education_id        21525 non-null int64\n",
      "family_status       21525 non-null object\n",
      "family_status_id    21525 non-null int64\n",
      "gender              21525 non-null object\n",
      "income_type         21525 non-null object\n",
      "debt                21525 non-null int64\n",
      "total_income        21525 non-null float64\n",
      "purpose             21525 non-null object\n",
      "dtypes: float64(2), int64(5), object(5)\n",
      "memory usage: 2.0+ MB\n"
     ]
    }
   ],
   "source": [
    "data.info()"
   ]
  },
  {
   "cell_type": "markdown",
   "metadata": {},
   "source": [
    "**Вывод**\n",
    "Было бы неплохо значения в столбцах days_employed и total_income привести к типу данных Int."
   ]
  },
  {
   "cell_type": "markdown",
   "metadata": {},
   "source": [
    "### Замена типа данных"
   ]
  },
  {
   "cell_type": "code",
   "execution_count": 7,
   "metadata": {},
   "outputs": [
    {
     "name": "stdout",
     "output_type": "stream",
     "text": [
      "<class 'pandas.core.frame.DataFrame'>\n",
      "RangeIndex: 21525 entries, 0 to 21524\n",
      "Data columns (total 12 columns):\n",
      "children            21525 non-null int64\n",
      "days_employed       21525 non-null int64\n",
      "dob_years           21525 non-null int64\n",
      "education           21525 non-null object\n",
      "education_id        21525 non-null int64\n",
      "family_status       21525 non-null object\n",
      "family_status_id    21525 non-null int64\n",
      "gender              21525 non-null object\n",
      "income_type         21525 non-null object\n",
      "debt                21525 non-null int64\n",
      "total_income        21525 non-null int64\n",
      "purpose             21525 non-null object\n",
      "dtypes: int64(7), object(5)\n",
      "memory usage: 2.0+ MB\n"
     ]
    }
   ],
   "source": [
    "data[\"days_employed\"] = data[\"days_employed\"].astype(\"int\")\n",
    "data[\"total_income\"] = data[\"total_income\"].astype(\"int\")\n",
    "data.info()"
   ]
  },
  {
   "cell_type": "markdown",
   "metadata": {},
   "source": [
    "**Вывод**\n",
    "Заменил вещественный тип данных на целочисленный используя метод astype()."
   ]
  },
  {
   "cell_type": "markdown",
   "metadata": {},
   "source": [
    "### Обработка дубликатов"
   ]
  },
  {
   "cell_type": "code",
   "execution_count": 8,
   "metadata": {},
   "outputs": [
    {
     "data": {
      "text/plain": [
       "54"
      ]
     },
     "execution_count": 8,
     "metadata": {},
     "output_type": "execute_result"
    }
   ],
   "source": [
    "data.duplicated().sum()"
   ]
  },
  {
   "cell_type": "code",
   "execution_count": 9,
   "metadata": {},
   "outputs": [],
   "source": [
    "data = data.drop_duplicates().reset_index(drop=True)"
   ]
  },
  {
   "cell_type": "code",
   "execution_count": 10,
   "metadata": {},
   "outputs": [
    {
     "data": {
      "text/plain": [
       "0"
      ]
     },
     "execution_count": 10,
     "metadata": {},
     "output_type": "execute_result"
    }
   ],
   "source": [
    "data.duplicated().sum()"
   ]
  },
  {
   "cell_type": "code",
   "execution_count": 11,
   "metadata": {},
   "outputs": [
    {
     "name": "stdout",
     "output_type": "stream",
     "text": [
      "['высшее' 'среднее' 'Среднее' 'СРЕДНЕЕ' 'ВЫСШЕЕ' 'неоконченное высшее'\n",
      " 'начальное' 'Высшее' 'НЕОКОНЧЕННОЕ ВЫСШЕЕ' 'Неоконченное высшее'\n",
      " 'НАЧАЛЬНОЕ' 'Начальное' 'Ученая степень' 'УЧЕНАЯ СТЕПЕНЬ'\n",
      " 'ученая степень']\n"
     ]
    }
   ],
   "source": [
    "print(data[\"education\"].unique())"
   ]
  },
  {
   "cell_type": "code",
   "execution_count": 12,
   "metadata": {
    "scrolled": true
   },
   "outputs": [
    {
     "name": "stdout",
     "output_type": "stream",
     "text": [
      "['высшее' 'среднее' 'неоконченное высшее' 'начальное' 'ученая степень']\n"
     ]
    }
   ],
   "source": [
    "data['education'] = data['education'].str.lower()\n",
    "\n",
    "print(data[\"education\"].unique())    "
   ]
  },
  {
   "cell_type": "code",
   "execution_count": 13,
   "metadata": {},
   "outputs": [
    {
     "name": "stdout",
     "output_type": "stream",
     "text": [
      "['покупка жилья' 'приобретение автомобиля' 'дополнительное образование'\n",
      " 'сыграть свадьбу' 'операции с жильем' 'образование'\n",
      " 'на проведение свадьбы' 'покупка жилья для семьи' 'покупка недвижимости'\n",
      " 'покупка коммерческой недвижимости' 'покупка жилой недвижимости'\n",
      " 'строительство собственной недвижимости' 'недвижимость'\n",
      " 'строительство недвижимости' 'на покупку подержанного автомобиля'\n",
      " 'на покупку своего автомобиля' 'операции с коммерческой недвижимостью'\n",
      " 'строительство жилой недвижимости' 'жилье'\n",
      " 'операции со своей недвижимостью' 'автомобили' 'заняться образованием'\n",
      " 'сделка с подержанным автомобилем' 'получение образования' 'автомобиль'\n",
      " 'свадьба' 'получение дополнительного образования' 'покупка своего жилья'\n",
      " 'операции с недвижимостью' 'получение высшего образования'\n",
      " 'свой автомобиль' 'сделка с автомобилем' 'профильное образование'\n",
      " 'высшее образование' 'покупка жилья для сдачи' 'на покупку автомобиля'\n",
      " 'ремонт жилью' 'заняться высшим образованием']\n"
     ]
    }
   ],
   "source": [
    "print(data[\"purpose\"].unique())"
   ]
  },
  {
   "cell_type": "code",
   "execution_count": 14,
   "metadata": {},
   "outputs": [
    {
     "name": "stdout",
     "output_type": "stream",
     "text": [
      "[ 1  0  3  2 -1  4 20  5]\n"
     ]
    }
   ],
   "source": [
    "print(data['children'].unique())"
   ]
  },
  {
   "cell_type": "code",
   "execution_count": 15,
   "metadata": {},
   "outputs": [
    {
     "name": "stdout",
     "output_type": "stream",
     "text": [
      "[1 0 3 2 4 5]\n"
     ]
    }
   ],
   "source": [
    "data['children'] = data['children'].replace({-1:1, 20:2})       \n",
    "print(data['children'].unique())"
   ]
  },
  {
   "cell_type": "markdown",
   "metadata": {},
   "source": [
    "**Вывод** Сначала посчитал количество дубликатов применяя к данны последовательно методы duplicated() и sum(), затем удалил их методом drop_duplicates() используя reset_index(drop=True) чтобы не создавать столбец со старыми значениями индексов. В данный момент в данных больше не встречаются дубликаты."
   ]
  },
  {
   "cell_type": "markdown",
   "metadata": {},
   "source": [
    "### Лемматизация"
   ]
  },
  {
   "cell_type": "code",
   "execution_count": 16,
   "metadata": {
    "scrolled": true
   },
   "outputs": [],
   "source": [
    "from pymystem3 import Mystem\n",
    "m = Mystem()\n",
    "text = \" \".join(data[\"purpose\"])\n",
    "lemmas = m.lemmatize(text)"
   ]
  },
  {
   "cell_type": "markdown",
   "metadata": {},
   "source": [
    "**Вывод** Произвел лемматизацию в значениях столбца с целью получения кредита, использовал библиотеку pymystem3."
   ]
  },
  {
   "cell_type": "code",
   "execution_count": 17,
   "metadata": {},
   "outputs": [
    {
     "name": "stdout",
     "output_type": "stream",
     "text": [
      "Counter({' ': 55066, 'недвижимость': 6353, 'покупка': 5900, 'жилье': 4461, 'автомобиль': 4308, 'образование': 4014, 'с': 2918, 'операция': 2604, 'свадьба': 2335, 'свой': 2231, 'на': 2228, 'строительство': 1879, 'высокий': 1374, 'получение': 1315, 'коммерческий': 1312, 'для': 1290, 'жилой': 1231, 'сделка': 941, 'дополнительный': 907, 'заниматься': 904, 'подержать': 853, 'проведение': 773, 'сыграть': 769, 'сдача': 652, 'семья': 638, 'собственный': 635, 'со': 627, 'ремонт': 607, 'приобретение': 461, 'профильный': 436, 'подержанный': 111, '\\n': 1})\n"
     ]
    }
   ],
   "source": [
    "from collections import Counter\n",
    "print(Counter(lemmas))"
   ]
  },
  {
   "cell_type": "markdown",
   "metadata": {},
   "source": [
    "**Вывод** Для подсчета лемматизированных слов использовал контейнер Counter."
   ]
  },
  {
   "cell_type": "markdown",
   "metadata": {},
   "source": [
    "### Категоризация данных"
   ]
  },
  {
   "cell_type": "code",
   "execution_count": 18,
   "metadata": {},
   "outputs": [
    {
     "data": {
      "text/html": [
       "<div>\n",
       "<style scoped>\n",
       "    .dataframe tbody tr th:only-of-type {\n",
       "        vertical-align: middle;\n",
       "    }\n",
       "\n",
       "    .dataframe tbody tr th {\n",
       "        vertical-align: top;\n",
       "    }\n",
       "\n",
       "    .dataframe thead th {\n",
       "        text-align: right;\n",
       "    }\n",
       "</style>\n",
       "<table border=\"1\" class=\"dataframe\">\n",
       "  <thead>\n",
       "    <tr style=\"text-align: right;\">\n",
       "      <th></th>\n",
       "      <th>children</th>\n",
       "      <th>days_employed</th>\n",
       "      <th>dob_years</th>\n",
       "      <th>education</th>\n",
       "      <th>education_id</th>\n",
       "      <th>family_status</th>\n",
       "      <th>family_status_id</th>\n",
       "      <th>gender</th>\n",
       "      <th>income_type</th>\n",
       "      <th>debt</th>\n",
       "      <th>total_income</th>\n",
       "      <th>purpose</th>\n",
       "      <th>purpose_id</th>\n",
       "    </tr>\n",
       "  </thead>\n",
       "  <tbody>\n",
       "    <tr>\n",
       "      <td>0</td>\n",
       "      <td>1</td>\n",
       "      <td>-8437</td>\n",
       "      <td>42</td>\n",
       "      <td>высшее</td>\n",
       "      <td>0</td>\n",
       "      <td>женат / замужем</td>\n",
       "      <td>0</td>\n",
       "      <td>F</td>\n",
       "      <td>сотрудник</td>\n",
       "      <td>0</td>\n",
       "      <td>253875</td>\n",
       "      <td>покупка жилья</td>\n",
       "      <td>недвижимость</td>\n",
       "    </tr>\n",
       "    <tr>\n",
       "      <td>1</td>\n",
       "      <td>1</td>\n",
       "      <td>-4024</td>\n",
       "      <td>36</td>\n",
       "      <td>среднее</td>\n",
       "      <td>1</td>\n",
       "      <td>женат / замужем</td>\n",
       "      <td>0</td>\n",
       "      <td>F</td>\n",
       "      <td>сотрудник</td>\n",
       "      <td>0</td>\n",
       "      <td>112080</td>\n",
       "      <td>приобретение автомобиля</td>\n",
       "      <td>автомобиль</td>\n",
       "    </tr>\n",
       "    <tr>\n",
       "      <td>2</td>\n",
       "      <td>0</td>\n",
       "      <td>-5623</td>\n",
       "      <td>33</td>\n",
       "      <td>среднее</td>\n",
       "      <td>1</td>\n",
       "      <td>женат / замужем</td>\n",
       "      <td>0</td>\n",
       "      <td>M</td>\n",
       "      <td>сотрудник</td>\n",
       "      <td>0</td>\n",
       "      <td>145885</td>\n",
       "      <td>покупка жилья</td>\n",
       "      <td>недвижимость</td>\n",
       "    </tr>\n",
       "    <tr>\n",
       "      <td>3</td>\n",
       "      <td>3</td>\n",
       "      <td>-4124</td>\n",
       "      <td>32</td>\n",
       "      <td>среднее</td>\n",
       "      <td>1</td>\n",
       "      <td>женат / замужем</td>\n",
       "      <td>0</td>\n",
       "      <td>M</td>\n",
       "      <td>сотрудник</td>\n",
       "      <td>0</td>\n",
       "      <td>267628</td>\n",
       "      <td>дополнительное образование</td>\n",
       "      <td>образование</td>\n",
       "    </tr>\n",
       "    <tr>\n",
       "      <td>4</td>\n",
       "      <td>0</td>\n",
       "      <td>340266</td>\n",
       "      <td>53</td>\n",
       "      <td>среднее</td>\n",
       "      <td>1</td>\n",
       "      <td>гражданский брак</td>\n",
       "      <td>1</td>\n",
       "      <td>F</td>\n",
       "      <td>пенсионер</td>\n",
       "      <td>0</td>\n",
       "      <td>158616</td>\n",
       "      <td>сыграть свадьбу</td>\n",
       "      <td>свадьба</td>\n",
       "    </tr>\n",
       "    <tr>\n",
       "      <td>5</td>\n",
       "      <td>0</td>\n",
       "      <td>-926</td>\n",
       "      <td>27</td>\n",
       "      <td>высшее</td>\n",
       "      <td>0</td>\n",
       "      <td>гражданский брак</td>\n",
       "      <td>1</td>\n",
       "      <td>M</td>\n",
       "      <td>компаньон</td>\n",
       "      <td>0</td>\n",
       "      <td>255763</td>\n",
       "      <td>покупка жилья</td>\n",
       "      <td>недвижимость</td>\n",
       "    </tr>\n",
       "    <tr>\n",
       "      <td>6</td>\n",
       "      <td>0</td>\n",
       "      <td>-2879</td>\n",
       "      <td>43</td>\n",
       "      <td>высшее</td>\n",
       "      <td>0</td>\n",
       "      <td>женат / замужем</td>\n",
       "      <td>0</td>\n",
       "      <td>F</td>\n",
       "      <td>компаньон</td>\n",
       "      <td>0</td>\n",
       "      <td>240525</td>\n",
       "      <td>операции с жильем</td>\n",
       "      <td>недвижимость</td>\n",
       "    </tr>\n",
       "    <tr>\n",
       "      <td>7</td>\n",
       "      <td>0</td>\n",
       "      <td>-152</td>\n",
       "      <td>50</td>\n",
       "      <td>среднее</td>\n",
       "      <td>1</td>\n",
       "      <td>женат / замужем</td>\n",
       "      <td>0</td>\n",
       "      <td>M</td>\n",
       "      <td>сотрудник</td>\n",
       "      <td>0</td>\n",
       "      <td>135823</td>\n",
       "      <td>образование</td>\n",
       "      <td>образование</td>\n",
       "    </tr>\n",
       "    <tr>\n",
       "      <td>8</td>\n",
       "      <td>2</td>\n",
       "      <td>-6929</td>\n",
       "      <td>35</td>\n",
       "      <td>высшее</td>\n",
       "      <td>0</td>\n",
       "      <td>гражданский брак</td>\n",
       "      <td>1</td>\n",
       "      <td>F</td>\n",
       "      <td>сотрудник</td>\n",
       "      <td>0</td>\n",
       "      <td>95856</td>\n",
       "      <td>на проведение свадьбы</td>\n",
       "      <td>свадьба</td>\n",
       "    </tr>\n",
       "    <tr>\n",
       "      <td>9</td>\n",
       "      <td>0</td>\n",
       "      <td>-2188</td>\n",
       "      <td>41</td>\n",
       "      <td>среднее</td>\n",
       "      <td>1</td>\n",
       "      <td>женат / замужем</td>\n",
       "      <td>0</td>\n",
       "      <td>M</td>\n",
       "      <td>сотрудник</td>\n",
       "      <td>0</td>\n",
       "      <td>144425</td>\n",
       "      <td>покупка жилья для семьи</td>\n",
       "      <td>недвижимость</td>\n",
       "    </tr>\n",
       "  </tbody>\n",
       "</table>\n",
       "</div>"
      ],
      "text/plain": [
       "   children  days_employed  dob_years education  education_id  \\\n",
       "0         1          -8437         42    высшее             0   \n",
       "1         1          -4024         36   среднее             1   \n",
       "2         0          -5623         33   среднее             1   \n",
       "3         3          -4124         32   среднее             1   \n",
       "4         0         340266         53   среднее             1   \n",
       "5         0           -926         27    высшее             0   \n",
       "6         0          -2879         43    высшее             0   \n",
       "7         0           -152         50   среднее             1   \n",
       "8         2          -6929         35    высшее             0   \n",
       "9         0          -2188         41   среднее             1   \n",
       "\n",
       "      family_status  family_status_id gender income_type  debt  total_income  \\\n",
       "0   женат / замужем                 0      F   сотрудник     0        253875   \n",
       "1   женат / замужем                 0      F   сотрудник     0        112080   \n",
       "2   женат / замужем                 0      M   сотрудник     0        145885   \n",
       "3   женат / замужем                 0      M   сотрудник     0        267628   \n",
       "4  гражданский брак                 1      F   пенсионер     0        158616   \n",
       "5  гражданский брак                 1      M   компаньон     0        255763   \n",
       "6   женат / замужем                 0      F   компаньон     0        240525   \n",
       "7   женат / замужем                 0      M   сотрудник     0        135823   \n",
       "8  гражданский брак                 1      F   сотрудник     0         95856   \n",
       "9   женат / замужем                 0      M   сотрудник     0        144425   \n",
       "\n",
       "                      purpose    purpose_id  \n",
       "0               покупка жилья  недвижимость  \n",
       "1     приобретение автомобиля    автомобиль  \n",
       "2               покупка жилья  недвижимость  \n",
       "3  дополнительное образование   образование  \n",
       "4             сыграть свадьбу       свадьба  \n",
       "5               покупка жилья  недвижимость  \n",
       "6           операции с жильем  недвижимость  \n",
       "7                 образование   образование  \n",
       "8       на проведение свадьбы       свадьба  \n",
       "9     покупка жилья для семьи  недвижимость  "
      ]
     },
     "metadata": {},
     "output_type": "display_data"
    }
   ],
   "source": [
    "#произвел категоризацию самых популярных целей кредита\n",
    "def lemmatize_it(text):\n",
    "    lemmas = m.lemmatize(text)\n",
    "    return lemmas\n",
    "\n",
    "sorted_purposes_dict = {\n",
    "    'автомобиль' : 'автомобиль', \n",
    "    'образование' : 'образование', \n",
    "    'свадьба' : 'свадьба', \n",
    "    'недвижимость' : 'недвижимость', \n",
    "    'жилье' : 'недвижимость'\n",
    "}\n",
    "    \n",
    "\n",
    "def purpose_id(purpose):\n",
    "    lemmatized_list = lemmatize_it(purpose)\n",
    "    for lemma in lemmatized_list:\n",
    "        if lemma in sorted_purposes_dict.keys():\n",
    "            return sorted_purposes_dict[lemma]\n",
    "        \n",
    "data['purpose_id'] = data['purpose'].apply(purpose_id)       \n",
    "display(data.head(10))"
   ]
  },
  {
   "cell_type": "code",
   "execution_count": 19,
   "metadata": {
    "scrolled": true
   },
   "outputs": [
    {
     "data": {
      "text/plain": [
       "0              высокий\n",
       "1        ниже среднего\n",
       "2        выше среднего\n",
       "3              высокий\n",
       "4        выше среднего\n",
       "             ...      \n",
       "21466          высокий\n",
       "21467    выше среднего\n",
       "21468     низкий доход\n",
       "21469          высокий\n",
       "21470     низкий доход\n",
       "Name: total_income, Length: 21471, dtype: category\n",
       "Categories (4, object): [низкий доход < ниже среднего < выше среднего < высокий]"
      ]
     },
     "execution_count": 19,
     "metadata": {},
     "output_type": "execute_result"
    }
   ],
   "source": [
    "pd.qcut(data.total_income, 4, labels=[\"низкий доход\", \"ниже среднего\", \"выше среднего\", \"высокий\"])"
   ]
  },
  {
   "cell_type": "code",
   "execution_count": 20,
   "metadata": {},
   "outputs": [
    {
     "data": {
      "text/html": [
       "<div>\n",
       "<style scoped>\n",
       "    .dataframe tbody tr th:only-of-type {\n",
       "        vertical-align: middle;\n",
       "    }\n",
       "\n",
       "    .dataframe tbody tr th {\n",
       "        vertical-align: top;\n",
       "    }\n",
       "\n",
       "    .dataframe thead th {\n",
       "        text-align: right;\n",
       "    }\n",
       "</style>\n",
       "<table border=\"1\" class=\"dataframe\">\n",
       "  <thead>\n",
       "    <tr style=\"text-align: right;\">\n",
       "      <th></th>\n",
       "      <th>children</th>\n",
       "      <th>days_employed</th>\n",
       "      <th>dob_years</th>\n",
       "      <th>education</th>\n",
       "      <th>education_id</th>\n",
       "      <th>family_status</th>\n",
       "      <th>family_status_id</th>\n",
       "      <th>gender</th>\n",
       "      <th>income_type</th>\n",
       "      <th>debt</th>\n",
       "      <th>total_income</th>\n",
       "      <th>purpose</th>\n",
       "      <th>purpose_id</th>\n",
       "      <th>total_income_id</th>\n",
       "    </tr>\n",
       "  </thead>\n",
       "  <tbody>\n",
       "    <tr>\n",
       "      <td>0</td>\n",
       "      <td>1</td>\n",
       "      <td>-8437</td>\n",
       "      <td>42</td>\n",
       "      <td>высшее</td>\n",
       "      <td>0</td>\n",
       "      <td>женат / замужем</td>\n",
       "      <td>0</td>\n",
       "      <td>F</td>\n",
       "      <td>сотрудник</td>\n",
       "      <td>0</td>\n",
       "      <td>253875</td>\n",
       "      <td>покупка жилья</td>\n",
       "      <td>недвижимость</td>\n",
       "      <td>высокий</td>\n",
       "    </tr>\n",
       "    <tr>\n",
       "      <td>1</td>\n",
       "      <td>1</td>\n",
       "      <td>-4024</td>\n",
       "      <td>36</td>\n",
       "      <td>среднее</td>\n",
       "      <td>1</td>\n",
       "      <td>женат / замужем</td>\n",
       "      <td>0</td>\n",
       "      <td>F</td>\n",
       "      <td>сотрудник</td>\n",
       "      <td>0</td>\n",
       "      <td>112080</td>\n",
       "      <td>приобретение автомобиля</td>\n",
       "      <td>автомобиль</td>\n",
       "      <td>ниже среднего</td>\n",
       "    </tr>\n",
       "    <tr>\n",
       "      <td>2</td>\n",
       "      <td>0</td>\n",
       "      <td>-5623</td>\n",
       "      <td>33</td>\n",
       "      <td>среднее</td>\n",
       "      <td>1</td>\n",
       "      <td>женат / замужем</td>\n",
       "      <td>0</td>\n",
       "      <td>M</td>\n",
       "      <td>сотрудник</td>\n",
       "      <td>0</td>\n",
       "      <td>145885</td>\n",
       "      <td>покупка жилья</td>\n",
       "      <td>недвижимость</td>\n",
       "      <td>выше среднего</td>\n",
       "    </tr>\n",
       "    <tr>\n",
       "      <td>3</td>\n",
       "      <td>3</td>\n",
       "      <td>-4124</td>\n",
       "      <td>32</td>\n",
       "      <td>среднее</td>\n",
       "      <td>1</td>\n",
       "      <td>женат / замужем</td>\n",
       "      <td>0</td>\n",
       "      <td>M</td>\n",
       "      <td>сотрудник</td>\n",
       "      <td>0</td>\n",
       "      <td>267628</td>\n",
       "      <td>дополнительное образование</td>\n",
       "      <td>образование</td>\n",
       "      <td>высокий</td>\n",
       "    </tr>\n",
       "    <tr>\n",
       "      <td>4</td>\n",
       "      <td>0</td>\n",
       "      <td>340266</td>\n",
       "      <td>53</td>\n",
       "      <td>среднее</td>\n",
       "      <td>1</td>\n",
       "      <td>гражданский брак</td>\n",
       "      <td>1</td>\n",
       "      <td>F</td>\n",
       "      <td>пенсионер</td>\n",
       "      <td>0</td>\n",
       "      <td>158616</td>\n",
       "      <td>сыграть свадьбу</td>\n",
       "      <td>свадьба</td>\n",
       "      <td>выше среднего</td>\n",
       "    </tr>\n",
       "  </tbody>\n",
       "</table>\n",
       "</div>"
      ],
      "text/plain": [
       "   children  days_employed  dob_years education  education_id  \\\n",
       "0         1          -8437         42    высшее             0   \n",
       "1         1          -4024         36   среднее             1   \n",
       "2         0          -5623         33   среднее             1   \n",
       "3         3          -4124         32   среднее             1   \n",
       "4         0         340266         53   среднее             1   \n",
       "\n",
       "      family_status  family_status_id gender income_type  debt  total_income  \\\n",
       "0   женат / замужем                 0      F   сотрудник     0        253875   \n",
       "1   женат / замужем                 0      F   сотрудник     0        112080   \n",
       "2   женат / замужем                 0      M   сотрудник     0        145885   \n",
       "3   женат / замужем                 0      M   сотрудник     0        267628   \n",
       "4  гражданский брак                 1      F   пенсионер     0        158616   \n",
       "\n",
       "                      purpose    purpose_id total_income_id  \n",
       "0               покупка жилья  недвижимость         высокий  \n",
       "1     приобретение автомобиля    автомобиль   ниже среднего  \n",
       "2               покупка жилья  недвижимость   выше среднего  \n",
       "3  дополнительное образование   образование         высокий  \n",
       "4             сыграть свадьбу       свадьба   выше среднего  "
      ]
     },
     "metadata": {},
     "output_type": "display_data"
    }
   ],
   "source": [
    "data['total_income_id'] = pd.qcut(data.total_income, 4, labels=[\"низкий доход\", \"ниже среднего\", \"выше среднего\", \"высокий\"])\n",
    "display(data.head())"
   ]
  },
  {
   "cell_type": "markdown",
   "metadata": {},
   "source": [
    "## Шаг 3. Ответьте на вопросы"
   ]
  },
  {
   "cell_type": "markdown",
   "metadata": {},
   "source": [
    "- Есть ли зависимость между наличием детей и возвратом кредита в срок?"
   ]
  },
  {
   "cell_type": "code",
   "execution_count": 21,
   "metadata": {},
   "outputs": [
    {
     "data": {
      "text/html": [
       "<div>\n",
       "<style scoped>\n",
       "    .dataframe tbody tr th:only-of-type {\n",
       "        vertical-align: middle;\n",
       "    }\n",
       "\n",
       "    .dataframe tbody tr th {\n",
       "        vertical-align: top;\n",
       "    }\n",
       "\n",
       "    .dataframe thead th {\n",
       "        text-align: right;\n",
       "    }\n",
       "</style>\n",
       "<table border=\"1\" class=\"dataframe\">\n",
       "  <thead>\n",
       "    <tr style=\"text-align: right;\">\n",
       "      <th>debt</th>\n",
       "      <th>0</th>\n",
       "      <th>1</th>\n",
       "    </tr>\n",
       "    <tr>\n",
       "      <th>children</th>\n",
       "      <th></th>\n",
       "      <th></th>\n",
       "    </tr>\n",
       "  </thead>\n",
       "  <tbody>\n",
       "    <tr>\n",
       "      <td>0</td>\n",
       "      <td>13044.0</td>\n",
       "      <td>1063.0</td>\n",
       "    </tr>\n",
       "    <tr>\n",
       "      <td>1</td>\n",
       "      <td>4411.0</td>\n",
       "      <td>445.0</td>\n",
       "    </tr>\n",
       "    <tr>\n",
       "      <td>2</td>\n",
       "      <td>1926.0</td>\n",
       "      <td>202.0</td>\n",
       "    </tr>\n",
       "    <tr>\n",
       "      <td>3</td>\n",
       "      <td>303.0</td>\n",
       "      <td>27.0</td>\n",
       "    </tr>\n",
       "    <tr>\n",
       "      <td>4</td>\n",
       "      <td>37.0</td>\n",
       "      <td>4.0</td>\n",
       "    </tr>\n",
       "    <tr>\n",
       "      <td>5</td>\n",
       "      <td>9.0</td>\n",
       "      <td>NaN</td>\n",
       "    </tr>\n",
       "  </tbody>\n",
       "</table>\n",
       "</div>"
      ],
      "text/plain": [
       "debt            0       1\n",
       "children                 \n",
       "0         13044.0  1063.0\n",
       "1          4411.0   445.0\n",
       "2          1926.0   202.0\n",
       "3           303.0    27.0\n",
       "4            37.0     4.0\n",
       "5             9.0     NaN"
      ]
     },
     "metadata": {},
     "output_type": "display_data"
    }
   ],
   "source": [
    "data_pivot_children = data.pivot_table(index=data[\"children\"], columns=\"debt\", values=\"income_type\", aggfunc=\"count\")\n",
    "display(data_pivot_children)"
   ]
  },
  {
   "cell_type": "code",
   "execution_count": 22,
   "metadata": {},
   "outputs": [
    {
     "data": {
      "text/html": [
       "<div>\n",
       "<style scoped>\n",
       "    .dataframe tbody tr th:only-of-type {\n",
       "        vertical-align: middle;\n",
       "    }\n",
       "\n",
       "    .dataframe tbody tr th {\n",
       "        vertical-align: top;\n",
       "    }\n",
       "\n",
       "    .dataframe thead th {\n",
       "        text-align: right;\n",
       "    }\n",
       "</style>\n",
       "<table border=\"1\" class=\"dataframe\">\n",
       "  <thead>\n",
       "    <tr style=\"text-align: right;\">\n",
       "      <th>debt</th>\n",
       "      <th>0</th>\n",
       "      <th>1</th>\n",
       "      <th>total</th>\n",
       "    </tr>\n",
       "    <tr>\n",
       "      <th>children</th>\n",
       "      <th></th>\n",
       "      <th></th>\n",
       "      <th></th>\n",
       "    </tr>\n",
       "  </thead>\n",
       "  <tbody>\n",
       "    <tr>\n",
       "      <td>0</td>\n",
       "      <td>13044.0</td>\n",
       "      <td>1063.0</td>\n",
       "      <td>14107.0</td>\n",
       "    </tr>\n",
       "    <tr>\n",
       "      <td>1</td>\n",
       "      <td>4411.0</td>\n",
       "      <td>445.0</td>\n",
       "      <td>4856.0</td>\n",
       "    </tr>\n",
       "    <tr>\n",
       "      <td>2</td>\n",
       "      <td>1926.0</td>\n",
       "      <td>202.0</td>\n",
       "      <td>2128.0</td>\n",
       "    </tr>\n",
       "    <tr>\n",
       "      <td>3</td>\n",
       "      <td>303.0</td>\n",
       "      <td>27.0</td>\n",
       "      <td>330.0</td>\n",
       "    </tr>\n",
       "    <tr>\n",
       "      <td>4</td>\n",
       "      <td>37.0</td>\n",
       "      <td>4.0</td>\n",
       "      <td>41.0</td>\n",
       "    </tr>\n",
       "    <tr>\n",
       "      <td>5</td>\n",
       "      <td>9.0</td>\n",
       "      <td>NaN</td>\n",
       "      <td>NaN</td>\n",
       "    </tr>\n",
       "  </tbody>\n",
       "</table>\n",
       "</div>"
      ],
      "text/plain": [
       "debt            0       1    total\n",
       "children                          \n",
       "0         13044.0  1063.0  14107.0\n",
       "1          4411.0   445.0   4856.0\n",
       "2          1926.0   202.0   2128.0\n",
       "3           303.0    27.0    330.0\n",
       "4            37.0     4.0     41.0\n",
       "5             9.0     NaN      NaN"
      ]
     },
     "metadata": {},
     "output_type": "display_data"
    }
   ],
   "source": [
    "data_pivot_children[\"total\"] = data_pivot_children.apply(sum, axis=1)\n",
    "display(data_pivot_children)"
   ]
  },
  {
   "cell_type": "code",
   "execution_count": 23,
   "metadata": {},
   "outputs": [
    {
     "data": {
      "text/html": [
       "<div>\n",
       "<style scoped>\n",
       "    .dataframe tbody tr th:only-of-type {\n",
       "        vertical-align: middle;\n",
       "    }\n",
       "\n",
       "    .dataframe tbody tr th {\n",
       "        vertical-align: top;\n",
       "    }\n",
       "\n",
       "    .dataframe thead th {\n",
       "        text-align: right;\n",
       "    }\n",
       "</style>\n",
       "<table border=\"1\" class=\"dataframe\">\n",
       "  <thead>\n",
       "    <tr style=\"text-align: right;\">\n",
       "      <th>debt</th>\n",
       "      <th>0</th>\n",
       "      <th>1</th>\n",
       "      <th>total</th>\n",
       "    </tr>\n",
       "    <tr>\n",
       "      <th>children</th>\n",
       "      <th></th>\n",
       "      <th></th>\n",
       "      <th></th>\n",
       "    </tr>\n",
       "  </thead>\n",
       "  <tbody>\n",
       "    <tr>\n",
       "      <td>0</td>\n",
       "      <td>13044.0</td>\n",
       "      <td>1063</td>\n",
       "      <td>14107</td>\n",
       "    </tr>\n",
       "    <tr>\n",
       "      <td>1</td>\n",
       "      <td>4411.0</td>\n",
       "      <td>445</td>\n",
       "      <td>4856</td>\n",
       "    </tr>\n",
       "    <tr>\n",
       "      <td>2</td>\n",
       "      <td>1926.0</td>\n",
       "      <td>202</td>\n",
       "      <td>2128</td>\n",
       "    </tr>\n",
       "    <tr>\n",
       "      <td>3</td>\n",
       "      <td>303.0</td>\n",
       "      <td>27</td>\n",
       "      <td>330</td>\n",
       "    </tr>\n",
       "    <tr>\n",
       "      <td>4</td>\n",
       "      <td>37.0</td>\n",
       "      <td>4</td>\n",
       "      <td>41</td>\n",
       "    </tr>\n",
       "    <tr>\n",
       "      <td>5</td>\n",
       "      <td>9.0</td>\n",
       "      <td>0</td>\n",
       "      <td>0</td>\n",
       "    </tr>\n",
       "  </tbody>\n",
       "</table>\n",
       "</div>"
      ],
      "text/plain": [
       "debt            0     1  total\n",
       "children                      \n",
       "0         13044.0  1063  14107\n",
       "1          4411.0   445   4856\n",
       "2          1926.0   202   2128\n",
       "3           303.0    27    330\n",
       "4            37.0     4     41\n",
       "5             9.0     0      0"
      ]
     },
     "metadata": {},
     "output_type": "display_data"
    }
   ],
   "source": [
    "data_pivot_children = data_pivot_children.fillna('0')\n",
    "display(data_pivot_children)"
   ]
  },
  {
   "cell_type": "code",
   "execution_count": 24,
   "metadata": {},
   "outputs": [
    {
     "data": {
      "text/html": [
       "<div>\n",
       "<style scoped>\n",
       "    .dataframe tbody tr th:only-of-type {\n",
       "        vertical-align: middle;\n",
       "    }\n",
       "\n",
       "    .dataframe tbody tr th {\n",
       "        vertical-align: top;\n",
       "    }\n",
       "\n",
       "    .dataframe thead th {\n",
       "        text-align: right;\n",
       "    }\n",
       "</style>\n",
       "<table border=\"1\" class=\"dataframe\">\n",
       "  <thead>\n",
       "    <tr style=\"text-align: right;\">\n",
       "      <th></th>\n",
       "      <th>non_debetor</th>\n",
       "      <th>debetor</th>\n",
       "      <th>total</th>\n",
       "    </tr>\n",
       "    <tr>\n",
       "      <th>children</th>\n",
       "      <th></th>\n",
       "      <th></th>\n",
       "      <th></th>\n",
       "    </tr>\n",
       "  </thead>\n",
       "  <tbody>\n",
       "    <tr>\n",
       "      <td>0</td>\n",
       "      <td>13044.0</td>\n",
       "      <td>1063</td>\n",
       "      <td>14107</td>\n",
       "    </tr>\n",
       "    <tr>\n",
       "      <td>1</td>\n",
       "      <td>4411.0</td>\n",
       "      <td>445</td>\n",
       "      <td>4856</td>\n",
       "    </tr>\n",
       "    <tr>\n",
       "      <td>2</td>\n",
       "      <td>1926.0</td>\n",
       "      <td>202</td>\n",
       "      <td>2128</td>\n",
       "    </tr>\n",
       "    <tr>\n",
       "      <td>3</td>\n",
       "      <td>303.0</td>\n",
       "      <td>27</td>\n",
       "      <td>330</td>\n",
       "    </tr>\n",
       "    <tr>\n",
       "      <td>4</td>\n",
       "      <td>37.0</td>\n",
       "      <td>4</td>\n",
       "      <td>41</td>\n",
       "    </tr>\n",
       "    <tr>\n",
       "      <td>5</td>\n",
       "      <td>9.0</td>\n",
       "      <td>0</td>\n",
       "      <td>0</td>\n",
       "    </tr>\n",
       "  </tbody>\n",
       "</table>\n",
       "</div>"
      ],
      "text/plain": [
       "          non_debetor debetor  total\n",
       "children                            \n",
       "0             13044.0    1063  14107\n",
       "1              4411.0     445   4856\n",
       "2              1926.0     202   2128\n",
       "3               303.0      27    330\n",
       "4                37.0       4     41\n",
       "5                 9.0       0      0"
      ]
     },
     "metadata": {},
     "output_type": "display_data"
    }
   ],
   "source": [
    "data_pivot_children.columns = ['non_debetor', 'debetor', 'total']\n",
    "display(data_pivot_children)"
   ]
  },
  {
   "cell_type": "code",
   "execution_count": 25,
   "metadata": {},
   "outputs": [
    {
     "name": "stdout",
     "output_type": "stream",
     "text": [
      "<class 'pandas.core.frame.DataFrame'>\n",
      "Int64Index: 6 entries, 0 to 5\n",
      "Data columns (total 3 columns):\n",
      "non_debetor    6 non-null float64\n",
      "debetor        6 non-null float64\n",
      "total          6 non-null float64\n",
      "dtypes: float64(3)\n",
      "memory usage: 192.0 bytes\n"
     ]
    }
   ],
   "source": [
    "data_pivot_children['debetor'] = pd.to_numeric(data_pivot_children['debetor'])\n",
    "data_pivot_children['total'] = pd.to_numeric(data_pivot_children['total'])\n",
    "data_pivot_children.info()"
   ]
  },
  {
   "cell_type": "code",
   "execution_count": 26,
   "metadata": {},
   "outputs": [
    {
     "data": {
      "text/html": [
       "<div>\n",
       "<style scoped>\n",
       "    .dataframe tbody tr th:only-of-type {\n",
       "        vertical-align: middle;\n",
       "    }\n",
       "\n",
       "    .dataframe tbody tr th {\n",
       "        vertical-align: top;\n",
       "    }\n",
       "\n",
       "    .dataframe thead th {\n",
       "        text-align: right;\n",
       "    }\n",
       "</style>\n",
       "<table border=\"1\" class=\"dataframe\">\n",
       "  <thead>\n",
       "    <tr style=\"text-align: right;\">\n",
       "      <th></th>\n",
       "      <th>non_debetor</th>\n",
       "      <th>debetor</th>\n",
       "      <th>total</th>\n",
       "      <th>debetor_share</th>\n",
       "    </tr>\n",
       "    <tr>\n",
       "      <th>children</th>\n",
       "      <th></th>\n",
       "      <th></th>\n",
       "      <th></th>\n",
       "      <th></th>\n",
       "    </tr>\n",
       "  </thead>\n",
       "  <tbody>\n",
       "    <tr>\n",
       "      <td>0</td>\n",
       "      <td>13044.0</td>\n",
       "      <td>1063.0</td>\n",
       "      <td>14107.0</td>\n",
       "      <td>7.535266</td>\n",
       "    </tr>\n",
       "    <tr>\n",
       "      <td>1</td>\n",
       "      <td>4411.0</td>\n",
       "      <td>445.0</td>\n",
       "      <td>4856.0</td>\n",
       "      <td>9.163921</td>\n",
       "    </tr>\n",
       "    <tr>\n",
       "      <td>2</td>\n",
       "      <td>1926.0</td>\n",
       "      <td>202.0</td>\n",
       "      <td>2128.0</td>\n",
       "      <td>9.492481</td>\n",
       "    </tr>\n",
       "    <tr>\n",
       "      <td>3</td>\n",
       "      <td>303.0</td>\n",
       "      <td>27.0</td>\n",
       "      <td>330.0</td>\n",
       "      <td>8.181818</td>\n",
       "    </tr>\n",
       "    <tr>\n",
       "      <td>4</td>\n",
       "      <td>37.0</td>\n",
       "      <td>4.0</td>\n",
       "      <td>41.0</td>\n",
       "      <td>9.756098</td>\n",
       "    </tr>\n",
       "    <tr>\n",
       "      <td>5</td>\n",
       "      <td>9.0</td>\n",
       "      <td>0.0</td>\n",
       "      <td>0.0</td>\n",
       "      <td>NaN</td>\n",
       "    </tr>\n",
       "  </tbody>\n",
       "</table>\n",
       "</div>"
      ],
      "text/plain": [
       "          non_debetor  debetor    total  debetor_share\n",
       "children                                              \n",
       "0             13044.0   1063.0  14107.0       7.535266\n",
       "1              4411.0    445.0   4856.0       9.163921\n",
       "2              1926.0    202.0   2128.0       9.492481\n",
       "3               303.0     27.0    330.0       8.181818\n",
       "4                37.0      4.0     41.0       9.756098\n",
       "5                 9.0      0.0      0.0            NaN"
      ]
     },
     "metadata": {},
     "output_type": "display_data"
    }
   ],
   "source": [
    "data_pivot_children['debetor_share'] = data_pivot_children['debetor'] / data_pivot_children['total'] * 100\n",
    "display(data_pivot_children)"
   ]
  },
  {
   "cell_type": "markdown",
   "metadata": {},
   "source": [
    "**Вывод** Результаты исследования говорят, что меньше всего процент просроченной задолженности среди клиентов, у которых нет детей, причем и общее количество всех взятых кредитов, больше всего именно в этой категории.\n",
    "Среди клиетов с детьми разница в доле просроченных кредитов не так уж велика, так что можно сделать вывод, что зависимости от количества детей нет, а вот от наличия детей вообще - есть. \n",
    "Да, есть зависимость, при отсутсвии детей, доля возврата кредитов в срок - намного выше."
   ]
  },
  {
   "cell_type": "markdown",
   "metadata": {},
   "source": [
    "- Есть ли зависимость между семейным положением и возвратом кредита в срок?"
   ]
  },
  {
   "cell_type": "code",
   "execution_count": 27,
   "metadata": {},
   "outputs": [
    {
     "data": {
      "text/html": [
       "<div>\n",
       "<style scoped>\n",
       "    .dataframe tbody tr th:only-of-type {\n",
       "        vertical-align: middle;\n",
       "    }\n",
       "\n",
       "    .dataframe tbody tr th {\n",
       "        vertical-align: top;\n",
       "    }\n",
       "\n",
       "    .dataframe thead th {\n",
       "        text-align: right;\n",
       "    }\n",
       "</style>\n",
       "<table border=\"1\" class=\"dataframe\">\n",
       "  <thead>\n",
       "    <tr style=\"text-align: right;\">\n",
       "      <th>debt</th>\n",
       "      <th>0</th>\n",
       "      <th>1</th>\n",
       "    </tr>\n",
       "    <tr>\n",
       "      <th>family_status</th>\n",
       "      <th></th>\n",
       "      <th></th>\n",
       "    </tr>\n",
       "  </thead>\n",
       "  <tbody>\n",
       "    <tr>\n",
       "      <td>Не женат / не замужем</td>\n",
       "      <td>2536</td>\n",
       "      <td>274</td>\n",
       "    </tr>\n",
       "    <tr>\n",
       "      <td>в разводе</td>\n",
       "      <td>1110</td>\n",
       "      <td>85</td>\n",
       "    </tr>\n",
       "    <tr>\n",
       "      <td>вдовец / вдова</td>\n",
       "      <td>896</td>\n",
       "      <td>63</td>\n",
       "    </tr>\n",
       "    <tr>\n",
       "      <td>гражданский брак</td>\n",
       "      <td>3775</td>\n",
       "      <td>388</td>\n",
       "    </tr>\n",
       "    <tr>\n",
       "      <td>женат / замужем</td>\n",
       "      <td>11413</td>\n",
       "      <td>931</td>\n",
       "    </tr>\n",
       "  </tbody>\n",
       "</table>\n",
       "</div>"
      ],
      "text/plain": [
       "debt                       0    1\n",
       "family_status                    \n",
       "Не женат / не замужем   2536  274\n",
       "в разводе               1110   85\n",
       "вдовец / вдова           896   63\n",
       "гражданский брак        3775  388\n",
       "женат / замужем        11413  931"
      ]
     },
     "metadata": {},
     "output_type": "display_data"
    }
   ],
   "source": [
    "data_pivot_family_status = data.pivot_table(index=data[\"family_status\"], columns=\"debt\", values=\"income_type\", aggfunc=\"count\")\n",
    "display(data_pivot_family_status.head(10))"
   ]
  },
  {
   "cell_type": "code",
   "execution_count": 28,
   "metadata": {},
   "outputs": [
    {
     "data": {
      "text/html": [
       "<div>\n",
       "<style scoped>\n",
       "    .dataframe tbody tr th:only-of-type {\n",
       "        vertical-align: middle;\n",
       "    }\n",
       "\n",
       "    .dataframe tbody tr th {\n",
       "        vertical-align: top;\n",
       "    }\n",
       "\n",
       "    .dataframe thead th {\n",
       "        text-align: right;\n",
       "    }\n",
       "</style>\n",
       "<table border=\"1\" class=\"dataframe\">\n",
       "  <thead>\n",
       "    <tr style=\"text-align: right;\">\n",
       "      <th>debt</th>\n",
       "      <th>0</th>\n",
       "      <th>1</th>\n",
       "      <th>total</th>\n",
       "    </tr>\n",
       "    <tr>\n",
       "      <th>family_status</th>\n",
       "      <th></th>\n",
       "      <th></th>\n",
       "      <th></th>\n",
       "    </tr>\n",
       "  </thead>\n",
       "  <tbody>\n",
       "    <tr>\n",
       "      <td>Не женат / не замужем</td>\n",
       "      <td>2536</td>\n",
       "      <td>274</td>\n",
       "      <td>2810</td>\n",
       "    </tr>\n",
       "    <tr>\n",
       "      <td>в разводе</td>\n",
       "      <td>1110</td>\n",
       "      <td>85</td>\n",
       "      <td>1195</td>\n",
       "    </tr>\n",
       "    <tr>\n",
       "      <td>вдовец / вдова</td>\n",
       "      <td>896</td>\n",
       "      <td>63</td>\n",
       "      <td>959</td>\n",
       "    </tr>\n",
       "    <tr>\n",
       "      <td>гражданский брак</td>\n",
       "      <td>3775</td>\n",
       "      <td>388</td>\n",
       "      <td>4163</td>\n",
       "    </tr>\n",
       "    <tr>\n",
       "      <td>женат / замужем</td>\n",
       "      <td>11413</td>\n",
       "      <td>931</td>\n",
       "      <td>12344</td>\n",
       "    </tr>\n",
       "  </tbody>\n",
       "</table>\n",
       "</div>"
      ],
      "text/plain": [
       "debt                       0    1  total\n",
       "family_status                           \n",
       "Не женат / не замужем   2536  274   2810\n",
       "в разводе               1110   85   1195\n",
       "вдовец / вдова           896   63    959\n",
       "гражданский брак        3775  388   4163\n",
       "женат / замужем        11413  931  12344"
      ]
     },
     "metadata": {},
     "output_type": "display_data"
    }
   ],
   "source": [
    "data_pivot_family_status['total'] = data_pivot_family_status.apply(sum, axis=1)\n",
    "display(data_pivot_family_status)"
   ]
  },
  {
   "cell_type": "code",
   "execution_count": 29,
   "metadata": {},
   "outputs": [
    {
     "data": {
      "text/html": [
       "<div>\n",
       "<style scoped>\n",
       "    .dataframe tbody tr th:only-of-type {\n",
       "        vertical-align: middle;\n",
       "    }\n",
       "\n",
       "    .dataframe tbody tr th {\n",
       "        vertical-align: top;\n",
       "    }\n",
       "\n",
       "    .dataframe thead th {\n",
       "        text-align: right;\n",
       "    }\n",
       "</style>\n",
       "<table border=\"1\" class=\"dataframe\">\n",
       "  <thead>\n",
       "    <tr style=\"text-align: right;\">\n",
       "      <th></th>\n",
       "      <th>non_debetor</th>\n",
       "      <th>debetor</th>\n",
       "      <th>total</th>\n",
       "    </tr>\n",
       "    <tr>\n",
       "      <th>family_status</th>\n",
       "      <th></th>\n",
       "      <th></th>\n",
       "      <th></th>\n",
       "    </tr>\n",
       "  </thead>\n",
       "  <tbody>\n",
       "    <tr>\n",
       "      <td>Не женат / не замужем</td>\n",
       "      <td>2536</td>\n",
       "      <td>274</td>\n",
       "      <td>2810</td>\n",
       "    </tr>\n",
       "    <tr>\n",
       "      <td>в разводе</td>\n",
       "      <td>1110</td>\n",
       "      <td>85</td>\n",
       "      <td>1195</td>\n",
       "    </tr>\n",
       "    <tr>\n",
       "      <td>вдовец / вдова</td>\n",
       "      <td>896</td>\n",
       "      <td>63</td>\n",
       "      <td>959</td>\n",
       "    </tr>\n",
       "    <tr>\n",
       "      <td>гражданский брак</td>\n",
       "      <td>3775</td>\n",
       "      <td>388</td>\n",
       "      <td>4163</td>\n",
       "    </tr>\n",
       "    <tr>\n",
       "      <td>женат / замужем</td>\n",
       "      <td>11413</td>\n",
       "      <td>931</td>\n",
       "      <td>12344</td>\n",
       "    </tr>\n",
       "  </tbody>\n",
       "</table>\n",
       "</div>"
      ],
      "text/plain": [
       "                       non_debetor  debetor  total\n",
       "family_status                                     \n",
       "Не женат / не замужем         2536      274   2810\n",
       "в разводе                     1110       85   1195\n",
       "вдовец / вдова                 896       63    959\n",
       "гражданский брак              3775      388   4163\n",
       "женат / замужем              11413      931  12344"
      ]
     },
     "metadata": {},
     "output_type": "display_data"
    }
   ],
   "source": [
    "data_pivot_family_status.columns = ['non_debetor', 'debetor', 'total']\n",
    "display(data_pivot_family_status)"
   ]
  },
  {
   "cell_type": "code",
   "execution_count": 30,
   "metadata": {},
   "outputs": [
    {
     "data": {
      "text/html": [
       "<div>\n",
       "<style scoped>\n",
       "    .dataframe tbody tr th:only-of-type {\n",
       "        vertical-align: middle;\n",
       "    }\n",
       "\n",
       "    .dataframe tbody tr th {\n",
       "        vertical-align: top;\n",
       "    }\n",
       "\n",
       "    .dataframe thead th {\n",
       "        text-align: right;\n",
       "    }\n",
       "</style>\n",
       "<table border=\"1\" class=\"dataframe\">\n",
       "  <thead>\n",
       "    <tr style=\"text-align: right;\">\n",
       "      <th></th>\n",
       "      <th>non_debetor</th>\n",
       "      <th>debetor</th>\n",
       "      <th>total</th>\n",
       "      <th>debetor_share</th>\n",
       "    </tr>\n",
       "    <tr>\n",
       "      <th>family_status</th>\n",
       "      <th></th>\n",
       "      <th></th>\n",
       "      <th></th>\n",
       "      <th></th>\n",
       "    </tr>\n",
       "  </thead>\n",
       "  <tbody>\n",
       "    <tr>\n",
       "      <td>Не женат / не замужем</td>\n",
       "      <td>2536</td>\n",
       "      <td>274</td>\n",
       "      <td>2810</td>\n",
       "      <td>9.750890</td>\n",
       "    </tr>\n",
       "    <tr>\n",
       "      <td>в разводе</td>\n",
       "      <td>1110</td>\n",
       "      <td>85</td>\n",
       "      <td>1195</td>\n",
       "      <td>7.112971</td>\n",
       "    </tr>\n",
       "    <tr>\n",
       "      <td>вдовец / вдова</td>\n",
       "      <td>896</td>\n",
       "      <td>63</td>\n",
       "      <td>959</td>\n",
       "      <td>6.569343</td>\n",
       "    </tr>\n",
       "    <tr>\n",
       "      <td>гражданский брак</td>\n",
       "      <td>3775</td>\n",
       "      <td>388</td>\n",
       "      <td>4163</td>\n",
       "      <td>9.320202</td>\n",
       "    </tr>\n",
       "    <tr>\n",
       "      <td>женат / замужем</td>\n",
       "      <td>11413</td>\n",
       "      <td>931</td>\n",
       "      <td>12344</td>\n",
       "      <td>7.542126</td>\n",
       "    </tr>\n",
       "  </tbody>\n",
       "</table>\n",
       "</div>"
      ],
      "text/plain": [
       "                       non_debetor  debetor  total  debetor_share\n",
       "family_status                                                    \n",
       "Не женат / не замужем         2536      274   2810       9.750890\n",
       "в разводе                     1110       85   1195       7.112971\n",
       "вдовец / вдова                 896       63    959       6.569343\n",
       "гражданский брак              3775      388   4163       9.320202\n",
       "женат / замужем              11413      931  12344       7.542126"
      ]
     },
     "metadata": {},
     "output_type": "display_data"
    }
   ],
   "source": [
    "data_pivot_family_status['debetor_share'] = data_pivot_family_status['debetor'] / data_pivot_family_status['total'] * 100\n",
    "display(data_pivot_family_status)"
   ]
  },
  {
   "cell_type": "markdown",
   "metadata": {},
   "source": [
    "**Вывод** Менее всего просроченной задолженности в категории вдовец/вдова, но и само количество кредитов в этой категории самое маленькое. А вот самая многочисленная категория по кредитам - женат/замужем, показывает тоже высокую долю возврата кредита в срок. Хуже всего дела с вовзратом вовремя обстоят в категориях - не женат/не змужем и гражданский брак. Можно сделать вывод, что самая надежная категория это - женат / замужем."
   ]
  },
  {
   "cell_type": "markdown",
   "metadata": {},
   "source": [
    "- Есть ли зависимость между уровнем дохода и возвратом кредита в срок?"
   ]
  },
  {
   "cell_type": "code",
   "execution_count": 31,
   "metadata": {},
   "outputs": [
    {
     "data": {
      "text/html": [
       "<div>\n",
       "<style scoped>\n",
       "    .dataframe tbody tr th:only-of-type {\n",
       "        vertical-align: middle;\n",
       "    }\n",
       "\n",
       "    .dataframe tbody tr th {\n",
       "        vertical-align: top;\n",
       "    }\n",
       "\n",
       "    .dataframe thead th {\n",
       "        text-align: right;\n",
       "    }\n",
       "</style>\n",
       "<table border=\"1\" class=\"dataframe\">\n",
       "  <thead>\n",
       "    <tr style=\"text-align: right;\">\n",
       "      <th>debt</th>\n",
       "      <th>0</th>\n",
       "      <th>1</th>\n",
       "    </tr>\n",
       "    <tr>\n",
       "      <th>total_income_id</th>\n",
       "      <th></th>\n",
       "      <th></th>\n",
       "    </tr>\n",
       "  </thead>\n",
       "  <tbody>\n",
       "    <tr>\n",
       "      <td>низкий доход</td>\n",
       "      <td>4941</td>\n",
       "      <td>427</td>\n",
       "    </tr>\n",
       "    <tr>\n",
       "      <td>ниже среднего</td>\n",
       "      <td>5007</td>\n",
       "      <td>483</td>\n",
       "    </tr>\n",
       "    <tr>\n",
       "      <td>выше среднего</td>\n",
       "      <td>4797</td>\n",
       "      <td>448</td>\n",
       "    </tr>\n",
       "    <tr>\n",
       "      <td>высокий</td>\n",
       "      <td>4985</td>\n",
       "      <td>383</td>\n",
       "    </tr>\n",
       "  </tbody>\n",
       "</table>\n",
       "</div>"
      ],
      "text/plain": [
       "debt                0    1\n",
       "total_income_id           \n",
       "низкий доход     4941  427\n",
       "ниже среднего    5007  483\n",
       "выше среднего    4797  448\n",
       "высокий          4985  383"
      ]
     },
     "metadata": {},
     "output_type": "display_data"
    }
   ],
   "source": [
    "data_pivot_total_income = data.pivot_table(index=data['total_income_id'], columns=\"debt\", values=\"income_type\", aggfunc=\"count\")\n",
    "display(data_pivot_total_income)"
   ]
  },
  {
   "cell_type": "code",
   "execution_count": 32,
   "metadata": {},
   "outputs": [
    {
     "data": {
      "text/html": [
       "<div>\n",
       "<style scoped>\n",
       "    .dataframe tbody tr th:only-of-type {\n",
       "        vertical-align: middle;\n",
       "    }\n",
       "\n",
       "    .dataframe tbody tr th {\n",
       "        vertical-align: top;\n",
       "    }\n",
       "\n",
       "    .dataframe thead th {\n",
       "        text-align: right;\n",
       "    }\n",
       "</style>\n",
       "<table border=\"1\" class=\"dataframe\">\n",
       "  <thead>\n",
       "    <tr style=\"text-align: right;\">\n",
       "      <th>debt</th>\n",
       "      <th>0</th>\n",
       "      <th>1</th>\n",
       "      <th>total</th>\n",
       "    </tr>\n",
       "    <tr>\n",
       "      <th>total_income_id</th>\n",
       "      <th></th>\n",
       "      <th></th>\n",
       "      <th></th>\n",
       "    </tr>\n",
       "  </thead>\n",
       "  <tbody>\n",
       "    <tr>\n",
       "      <td>низкий доход</td>\n",
       "      <td>4941</td>\n",
       "      <td>427</td>\n",
       "      <td>5368</td>\n",
       "    </tr>\n",
       "    <tr>\n",
       "      <td>ниже среднего</td>\n",
       "      <td>5007</td>\n",
       "      <td>483</td>\n",
       "      <td>5490</td>\n",
       "    </tr>\n",
       "    <tr>\n",
       "      <td>выше среднего</td>\n",
       "      <td>4797</td>\n",
       "      <td>448</td>\n",
       "      <td>5245</td>\n",
       "    </tr>\n",
       "    <tr>\n",
       "      <td>высокий</td>\n",
       "      <td>4985</td>\n",
       "      <td>383</td>\n",
       "      <td>5368</td>\n",
       "    </tr>\n",
       "  </tbody>\n",
       "</table>\n",
       "</div>"
      ],
      "text/plain": [
       "debt                0    1  total\n",
       "total_income_id                  \n",
       "низкий доход     4941  427   5368\n",
       "ниже среднего    5007  483   5490\n",
       "выше среднего    4797  448   5245\n",
       "высокий          4985  383   5368"
      ]
     },
     "metadata": {},
     "output_type": "display_data"
    }
   ],
   "source": [
    "data_pivot_total_income['total'] = data_pivot_total_income.apply(sum, axis=1)\n",
    "display(data_pivot_total_income)"
   ]
  },
  {
   "cell_type": "code",
   "execution_count": 33,
   "metadata": {},
   "outputs": [
    {
     "data": {
      "text/html": [
       "<div>\n",
       "<style scoped>\n",
       "    .dataframe tbody tr th:only-of-type {\n",
       "        vertical-align: middle;\n",
       "    }\n",
       "\n",
       "    .dataframe tbody tr th {\n",
       "        vertical-align: top;\n",
       "    }\n",
       "\n",
       "    .dataframe thead th {\n",
       "        text-align: right;\n",
       "    }\n",
       "</style>\n",
       "<table border=\"1\" class=\"dataframe\">\n",
       "  <thead>\n",
       "    <tr style=\"text-align: right;\">\n",
       "      <th></th>\n",
       "      <th>non_debetor</th>\n",
       "      <th>debetor</th>\n",
       "      <th>total</th>\n",
       "    </tr>\n",
       "    <tr>\n",
       "      <th>total_income_id</th>\n",
       "      <th></th>\n",
       "      <th></th>\n",
       "      <th></th>\n",
       "    </tr>\n",
       "  </thead>\n",
       "  <tbody>\n",
       "    <tr>\n",
       "      <td>низкий доход</td>\n",
       "      <td>4941</td>\n",
       "      <td>427</td>\n",
       "      <td>5368</td>\n",
       "    </tr>\n",
       "    <tr>\n",
       "      <td>ниже среднего</td>\n",
       "      <td>5007</td>\n",
       "      <td>483</td>\n",
       "      <td>5490</td>\n",
       "    </tr>\n",
       "    <tr>\n",
       "      <td>выше среднего</td>\n",
       "      <td>4797</td>\n",
       "      <td>448</td>\n",
       "      <td>5245</td>\n",
       "    </tr>\n",
       "    <tr>\n",
       "      <td>высокий</td>\n",
       "      <td>4985</td>\n",
       "      <td>383</td>\n",
       "      <td>5368</td>\n",
       "    </tr>\n",
       "  </tbody>\n",
       "</table>\n",
       "</div>"
      ],
      "text/plain": [
       "                 non_debetor  debetor  total\n",
       "total_income_id                             \n",
       "низкий доход            4941      427   5368\n",
       "ниже среднего           5007      483   5490\n",
       "выше среднего           4797      448   5245\n",
       "высокий                 4985      383   5368"
      ]
     },
     "metadata": {},
     "output_type": "display_data"
    }
   ],
   "source": [
    "data_pivot_total_income.columns = ['non_debetor', 'debetor', 'total']\n",
    "display(data_pivot_total_income)"
   ]
  },
  {
   "cell_type": "code",
   "execution_count": 34,
   "metadata": {},
   "outputs": [
    {
     "data": {
      "text/html": [
       "<div>\n",
       "<style scoped>\n",
       "    .dataframe tbody tr th:only-of-type {\n",
       "        vertical-align: middle;\n",
       "    }\n",
       "\n",
       "    .dataframe tbody tr th {\n",
       "        vertical-align: top;\n",
       "    }\n",
       "\n",
       "    .dataframe thead th {\n",
       "        text-align: right;\n",
       "    }\n",
       "</style>\n",
       "<table border=\"1\" class=\"dataframe\">\n",
       "  <thead>\n",
       "    <tr style=\"text-align: right;\">\n",
       "      <th></th>\n",
       "      <th>non_debetor</th>\n",
       "      <th>debetor</th>\n",
       "      <th>total</th>\n",
       "      <th>debetor_share</th>\n",
       "    </tr>\n",
       "    <tr>\n",
       "      <th>total_income_id</th>\n",
       "      <th></th>\n",
       "      <th></th>\n",
       "      <th></th>\n",
       "      <th></th>\n",
       "    </tr>\n",
       "  </thead>\n",
       "  <tbody>\n",
       "    <tr>\n",
       "      <td>низкий доход</td>\n",
       "      <td>4941</td>\n",
       "      <td>427</td>\n",
       "      <td>5368</td>\n",
       "      <td>7.954545</td>\n",
       "    </tr>\n",
       "    <tr>\n",
       "      <td>ниже среднего</td>\n",
       "      <td>5007</td>\n",
       "      <td>483</td>\n",
       "      <td>5490</td>\n",
       "      <td>8.797814</td>\n",
       "    </tr>\n",
       "    <tr>\n",
       "      <td>выше среднего</td>\n",
       "      <td>4797</td>\n",
       "      <td>448</td>\n",
       "      <td>5245</td>\n",
       "      <td>8.541468</td>\n",
       "    </tr>\n",
       "    <tr>\n",
       "      <td>высокий</td>\n",
       "      <td>4985</td>\n",
       "      <td>383</td>\n",
       "      <td>5368</td>\n",
       "      <td>7.134873</td>\n",
       "    </tr>\n",
       "  </tbody>\n",
       "</table>\n",
       "</div>"
      ],
      "text/plain": [
       "                 non_debetor  debetor  total  debetor_share\n",
       "total_income_id                                            \n",
       "низкий доход            4941      427   5368       7.954545\n",
       "ниже среднего           5007      483   5490       8.797814\n",
       "выше среднего           4797      448   5245       8.541468\n",
       "высокий                 4985      383   5368       7.134873"
      ]
     },
     "metadata": {},
     "output_type": "display_data"
    }
   ],
   "source": [
    "data_pivot_total_income['debetor_share'] = data_pivot_total_income['debetor'] / data_pivot_total_income['total'] * 100\n",
    "display(data_pivot_total_income)"
   ]
  },
  {
   "cell_type": "markdown",
   "metadata": {},
   "source": [
    "**Вывод** Исследование показало, что сильной зависимости между уровнем дохода и возврата кредита в срок нет. Но все-таки лучше всего себя показывают клиенты из категории с высоким уровнем дохода, и категории - низкий доход."
   ]
  },
  {
   "cell_type": "markdown",
   "metadata": {},
   "source": [
    "- Как разные цели кредита влияют на его возврат в срок?"
   ]
  },
  {
   "cell_type": "code",
   "execution_count": 35,
   "metadata": {},
   "outputs": [
    {
     "data": {
      "text/html": [
       "<div>\n",
       "<style scoped>\n",
       "    .dataframe tbody tr th:only-of-type {\n",
       "        vertical-align: middle;\n",
       "    }\n",
       "\n",
       "    .dataframe tbody tr th {\n",
       "        vertical-align: top;\n",
       "    }\n",
       "\n",
       "    .dataframe thead th {\n",
       "        text-align: right;\n",
       "    }\n",
       "</style>\n",
       "<table border=\"1\" class=\"dataframe\">\n",
       "  <thead>\n",
       "    <tr style=\"text-align: right;\">\n",
       "      <th>debt</th>\n",
       "      <th>0</th>\n",
       "      <th>1</th>\n",
       "    </tr>\n",
       "    <tr>\n",
       "      <th>purpose_id</th>\n",
       "      <th></th>\n",
       "      <th></th>\n",
       "    </tr>\n",
       "  </thead>\n",
       "  <tbody>\n",
       "    <tr>\n",
       "      <td>автомобиль</td>\n",
       "      <td>3905</td>\n",
       "      <td>403</td>\n",
       "    </tr>\n",
       "    <tr>\n",
       "      <td>недвижимость</td>\n",
       "      <td>10032</td>\n",
       "      <td>782</td>\n",
       "    </tr>\n",
       "    <tr>\n",
       "      <td>образование</td>\n",
       "      <td>3644</td>\n",
       "      <td>370</td>\n",
       "    </tr>\n",
       "    <tr>\n",
       "      <td>свадьба</td>\n",
       "      <td>2149</td>\n",
       "      <td>186</td>\n",
       "    </tr>\n",
       "  </tbody>\n",
       "</table>\n",
       "</div>"
      ],
      "text/plain": [
       "debt              0    1\n",
       "purpose_id              \n",
       "автомобиль     3905  403\n",
       "недвижимость  10032  782\n",
       "образование    3644  370\n",
       "свадьба        2149  186"
      ]
     },
     "metadata": {},
     "output_type": "display_data"
    }
   ],
   "source": [
    "data_pivot_purpose_id = data.pivot_table(index=data[\"purpose_id\"], columns=\"debt\", values=\"income_type\", aggfunc=\"count\")\n",
    "display(data_pivot_purpose_id)"
   ]
  },
  {
   "cell_type": "code",
   "execution_count": 36,
   "metadata": {},
   "outputs": [
    {
     "data": {
      "text/html": [
       "<div>\n",
       "<style scoped>\n",
       "    .dataframe tbody tr th:only-of-type {\n",
       "        vertical-align: middle;\n",
       "    }\n",
       "\n",
       "    .dataframe tbody tr th {\n",
       "        vertical-align: top;\n",
       "    }\n",
       "\n",
       "    .dataframe thead th {\n",
       "        text-align: right;\n",
       "    }\n",
       "</style>\n",
       "<table border=\"1\" class=\"dataframe\">\n",
       "  <thead>\n",
       "    <tr style=\"text-align: right;\">\n",
       "      <th>debt</th>\n",
       "      <th>0</th>\n",
       "      <th>1</th>\n",
       "      <th>total</th>\n",
       "    </tr>\n",
       "    <tr>\n",
       "      <th>purpose_id</th>\n",
       "      <th></th>\n",
       "      <th></th>\n",
       "      <th></th>\n",
       "    </tr>\n",
       "  </thead>\n",
       "  <tbody>\n",
       "    <tr>\n",
       "      <td>автомобиль</td>\n",
       "      <td>3905</td>\n",
       "      <td>403</td>\n",
       "      <td>4308</td>\n",
       "    </tr>\n",
       "    <tr>\n",
       "      <td>недвижимость</td>\n",
       "      <td>10032</td>\n",
       "      <td>782</td>\n",
       "      <td>10814</td>\n",
       "    </tr>\n",
       "    <tr>\n",
       "      <td>образование</td>\n",
       "      <td>3644</td>\n",
       "      <td>370</td>\n",
       "      <td>4014</td>\n",
       "    </tr>\n",
       "    <tr>\n",
       "      <td>свадьба</td>\n",
       "      <td>2149</td>\n",
       "      <td>186</td>\n",
       "      <td>2335</td>\n",
       "    </tr>\n",
       "  </tbody>\n",
       "</table>\n",
       "</div>"
      ],
      "text/plain": [
       "debt              0    1  total\n",
       "purpose_id                     \n",
       "автомобиль     3905  403   4308\n",
       "недвижимость  10032  782  10814\n",
       "образование    3644  370   4014\n",
       "свадьба        2149  186   2335"
      ]
     },
     "metadata": {},
     "output_type": "display_data"
    }
   ],
   "source": [
    "data_pivot_purpose_id['total'] = data_pivot_purpose_id.apply(sum, axis=1)\n",
    "display(data_pivot_purpose_id)"
   ]
  },
  {
   "cell_type": "code",
   "execution_count": 37,
   "metadata": {},
   "outputs": [
    {
     "data": {
      "text/html": [
       "<div>\n",
       "<style scoped>\n",
       "    .dataframe tbody tr th:only-of-type {\n",
       "        vertical-align: middle;\n",
       "    }\n",
       "\n",
       "    .dataframe tbody tr th {\n",
       "        vertical-align: top;\n",
       "    }\n",
       "\n",
       "    .dataframe thead th {\n",
       "        text-align: right;\n",
       "    }\n",
       "</style>\n",
       "<table border=\"1\" class=\"dataframe\">\n",
       "  <thead>\n",
       "    <tr style=\"text-align: right;\">\n",
       "      <th></th>\n",
       "      <th>non_debetor</th>\n",
       "      <th>debetor</th>\n",
       "      <th>total</th>\n",
       "    </tr>\n",
       "    <tr>\n",
       "      <th>purpose_id</th>\n",
       "      <th></th>\n",
       "      <th></th>\n",
       "      <th></th>\n",
       "    </tr>\n",
       "  </thead>\n",
       "  <tbody>\n",
       "    <tr>\n",
       "      <td>автомобиль</td>\n",
       "      <td>3905</td>\n",
       "      <td>403</td>\n",
       "      <td>4308</td>\n",
       "    </tr>\n",
       "    <tr>\n",
       "      <td>недвижимость</td>\n",
       "      <td>10032</td>\n",
       "      <td>782</td>\n",
       "      <td>10814</td>\n",
       "    </tr>\n",
       "    <tr>\n",
       "      <td>образование</td>\n",
       "      <td>3644</td>\n",
       "      <td>370</td>\n",
       "      <td>4014</td>\n",
       "    </tr>\n",
       "    <tr>\n",
       "      <td>свадьба</td>\n",
       "      <td>2149</td>\n",
       "      <td>186</td>\n",
       "      <td>2335</td>\n",
       "    </tr>\n",
       "  </tbody>\n",
       "</table>\n",
       "</div>"
      ],
      "text/plain": [
       "              non_debetor  debetor  total\n",
       "purpose_id                               \n",
       "автомобиль           3905      403   4308\n",
       "недвижимость        10032      782  10814\n",
       "образование          3644      370   4014\n",
       "свадьба              2149      186   2335"
      ]
     },
     "metadata": {},
     "output_type": "display_data"
    }
   ],
   "source": [
    "data_pivot_purpose_id.columns = ['non_debetor', 'debetor', 'total']\n",
    "display(data_pivot_purpose_id)"
   ]
  },
  {
   "cell_type": "code",
   "execution_count": 38,
   "metadata": {},
   "outputs": [
    {
     "data": {
      "text/html": [
       "<div>\n",
       "<style scoped>\n",
       "    .dataframe tbody tr th:only-of-type {\n",
       "        vertical-align: middle;\n",
       "    }\n",
       "\n",
       "    .dataframe tbody tr th {\n",
       "        vertical-align: top;\n",
       "    }\n",
       "\n",
       "    .dataframe thead th {\n",
       "        text-align: right;\n",
       "    }\n",
       "</style>\n",
       "<table border=\"1\" class=\"dataframe\">\n",
       "  <thead>\n",
       "    <tr style=\"text-align: right;\">\n",
       "      <th></th>\n",
       "      <th>non_debetor</th>\n",
       "      <th>debetor</th>\n",
       "      <th>total</th>\n",
       "      <th>debetor_share</th>\n",
       "    </tr>\n",
       "    <tr>\n",
       "      <th>purpose_id</th>\n",
       "      <th></th>\n",
       "      <th></th>\n",
       "      <th></th>\n",
       "      <th></th>\n",
       "    </tr>\n",
       "  </thead>\n",
       "  <tbody>\n",
       "    <tr>\n",
       "      <td>автомобиль</td>\n",
       "      <td>3905</td>\n",
       "      <td>403</td>\n",
       "      <td>4308</td>\n",
       "      <td>9.354689</td>\n",
       "    </tr>\n",
       "    <tr>\n",
       "      <td>недвижимость</td>\n",
       "      <td>10032</td>\n",
       "      <td>782</td>\n",
       "      <td>10814</td>\n",
       "      <td>7.231367</td>\n",
       "    </tr>\n",
       "    <tr>\n",
       "      <td>образование</td>\n",
       "      <td>3644</td>\n",
       "      <td>370</td>\n",
       "      <td>4014</td>\n",
       "      <td>9.217738</td>\n",
       "    </tr>\n",
       "    <tr>\n",
       "      <td>свадьба</td>\n",
       "      <td>2149</td>\n",
       "      <td>186</td>\n",
       "      <td>2335</td>\n",
       "      <td>7.965739</td>\n",
       "    </tr>\n",
       "  </tbody>\n",
       "</table>\n",
       "</div>"
      ],
      "text/plain": [
       "              non_debetor  debetor  total  debetor_share\n",
       "purpose_id                                              \n",
       "автомобиль           3905      403   4308       9.354689\n",
       "недвижимость        10032      782  10814       7.231367\n",
       "образование          3644      370   4014       9.217738\n",
       "свадьба              2149      186   2335       7.965739"
      ]
     },
     "metadata": {},
     "output_type": "display_data"
    }
   ],
   "source": [
    "data_pivot_purpose_id['debetor_share'] = data_pivot_purpose_id['debetor'] / data_pivot_purpose_id['total'] * 100\n",
    "display(data_pivot_purpose_id)"
   ]
  },
  {
   "cell_type": "markdown",
   "metadata": {},
   "source": [
    "**Вывод** Исследование показало, что максимально вовремя возвращают кредит клиенты имеющие цель покупку недвижимости. А чаще всего просрочивают возврат кредита, клиенты бравшие его на покупку автомобиля. \n",
    "Очевидно, что зависимость от цели кредита есть."
   ]
  },
  {
   "cell_type": "markdown",
   "metadata": {},
   "source": [
    "## Шаг 4. Общий вывод"
   ]
  },
  {
   "cell_type": "markdown",
   "metadata": {},
   "source": [
    "**По заданию проекта, нам предстояло выяснить - влияет ли семейное положение и количество детей клиента, на факт возврата кредита в срок.**\n",
    "\n",
    "По результатам исследования данных о клиентах банка, можно сделать следущие общие выводы:\n",
    "\n",
    "1) Количество детей клиента не сильно влияет на факт возврата кредита в срок, в целом в категориях с разным количеством детей (от 1 до 5), разница в доле просроченных платежей около 1%. А вот клиенты у которых вообще нет детей - намного реже просрочивают задолженность, при этом составляют основную массу клиентов.\n",
    "\n",
    "2) Можно сказать, что семейное положение влияет на факт возврата кредита в срок, и в этом смысле самая надежная категория - \"женат/замужем\". Этой категории принадлежит абсолютное большинство от общего числа заемщиков, и при этом она показала почти самую высокую долю своевременного возврата задолженности, незначительно уступив только категориям: \"вдовец/вдова\" и \"в разводе\", доля которых от общего числа заемщиков значительно меньше."
   ]
  }
 ],
 "metadata": {
  "ExecuteTimeLog": [
   {
    "duration": 602,
    "start_time": "2021-10-28T20:49:47.700Z"
   },
   {
    "duration": 71,
    "start_time": "2021-10-28T20:55:31.446Z"
   },
   {
    "duration": 10,
    "start_time": "2021-10-28T21:05:34.243Z"
   },
   {
    "duration": 10,
    "start_time": "2021-10-28T21:10:52.246Z"
   },
   {
    "duration": 9,
    "start_time": "2021-10-28T21:10:57.997Z"
   },
   {
    "duration": 11,
    "start_time": "2021-10-28T21:11:08.106Z"
   },
   {
    "duration": 10,
    "start_time": "2021-10-28T21:11:15.163Z"
   },
   {
    "duration": 299,
    "start_time": "2021-10-28T21:17:23.991Z"
   },
   {
    "duration": 15,
    "start_time": "2021-10-28T21:21:37.029Z"
   },
   {
    "duration": 19,
    "start_time": "2021-10-28T21:23:30.313Z"
   },
   {
    "duration": 22,
    "start_time": "2021-10-28T21:24:02.853Z"
   },
   {
    "duration": 17,
    "start_time": "2021-10-28T21:24:20.724Z"
   },
   {
    "duration": 16,
    "start_time": "2021-10-28T21:27:53.092Z"
   },
   {
    "duration": 10,
    "start_time": "2021-10-28T21:28:56.902Z"
   },
   {
    "duration": 12,
    "start_time": "2021-10-28T21:29:36.168Z"
   },
   {
    "duration": 16,
    "start_time": "2021-10-28T21:29:59.217Z"
   },
   {
    "duration": 10,
    "start_time": "2021-10-28T21:30:03.333Z"
   },
   {
    "duration": 12,
    "start_time": "2021-10-28T21:30:12.631Z"
   },
   {
    "duration": 15,
    "start_time": "2021-10-28T21:32:36.027Z"
   },
   {
    "duration": 238,
    "start_time": "2021-10-28T21:36:16.859Z"
   },
   {
    "duration": 235,
    "start_time": "2021-10-28T21:37:09.048Z"
   },
   {
    "duration": 2338,
    "start_time": "2021-10-28T21:41:28.604Z"
   },
   {
    "duration": 2447,
    "start_time": "2021-10-28T21:41:56.255Z"
   },
   {
    "duration": 2501,
    "start_time": "2021-10-28T21:42:11.350Z"
   },
   {
    "duration": 2491,
    "start_time": "2021-10-28T21:42:29.085Z"
   },
   {
    "duration": 2416,
    "start_time": "2021-10-28T21:42:44.799Z"
   },
   {
    "duration": 408,
    "start_time": "2021-10-29T11:06:22.508Z"
   },
   {
    "duration": 746,
    "start_time": "2021-10-29T11:06:30.147Z"
   },
   {
    "duration": 10,
    "start_time": "2021-10-29T11:06:30.894Z"
   },
   {
    "duration": 20,
    "start_time": "2021-10-29T11:06:30.906Z"
   },
   {
    "duration": 11,
    "start_time": "2021-10-29T11:06:30.928Z"
   },
   {
    "duration": 14,
    "start_time": "2021-10-29T11:06:30.940Z"
   },
   {
    "duration": 17,
    "start_time": "2021-10-29T11:06:30.977Z"
   },
   {
    "duration": 2673,
    "start_time": "2021-10-29T11:06:30.996Z"
   },
   {
    "duration": 15,
    "start_time": "2021-10-29T11:06:56.988Z"
   },
   {
    "duration": 29,
    "start_time": "2021-10-29T11:08:45.964Z"
   },
   {
    "duration": 30,
    "start_time": "2021-10-29T11:09:04.328Z"
   },
   {
    "duration": 15,
    "start_time": "2021-10-29T11:09:19.341Z"
   },
   {
    "duration": 68,
    "start_time": "2021-10-29T11:09:43.815Z"
   },
   {
    "duration": 9,
    "start_time": "2021-10-29T11:09:43.885Z"
   },
   {
    "duration": 16,
    "start_time": "2021-10-29T11:09:43.896Z"
   },
   {
    "duration": 11,
    "start_time": "2021-10-29T11:09:43.914Z"
   },
   {
    "duration": 50,
    "start_time": "2021-10-29T11:09:43.927Z"
   },
   {
    "duration": 22,
    "start_time": "2021-10-29T11:09:43.980Z"
   },
   {
    "duration": 34,
    "start_time": "2021-10-29T11:09:44.004Z"
   },
   {
    "duration": 40,
    "start_time": "2021-10-29T11:09:44.040Z"
   },
   {
    "duration": 2895,
    "start_time": "2021-10-29T11:09:44.082Z"
   },
   {
    "duration": 15,
    "start_time": "2021-10-29T11:11:07.766Z"
   },
   {
    "duration": 16,
    "start_time": "2021-10-29T11:11:27.091Z"
   },
   {
    "duration": 367,
    "start_time": "2021-10-29T11:11:45.568Z"
   },
   {
    "duration": 15,
    "start_time": "2021-10-29T11:11:55.987Z"
   },
   {
    "duration": 32,
    "start_time": "2021-10-29T11:12:01.250Z"
   },
   {
    "duration": 18,
    "start_time": "2021-10-29T11:12:20.678Z"
   },
   {
    "duration": 16,
    "start_time": "2021-10-29T11:12:23.512Z"
   },
   {
    "duration": 16,
    "start_time": "2021-10-29T11:19:04.221Z"
   },
   {
    "duration": 4,
    "start_time": "2021-10-29T11:41:20.690Z"
   },
   {
    "duration": 2800,
    "start_time": "2021-10-29T11:41:59.397Z"
   },
   {
    "duration": 19,
    "start_time": "2021-10-29T11:42:49.062Z"
   },
   {
    "duration": 134,
    "start_time": "2021-10-29T11:44:11.693Z"
   },
   {
    "duration": 3,
    "start_time": "2021-10-29T11:45:07.000Z"
   },
   {
    "duration": 3,
    "start_time": "2021-10-29T11:48:55.253Z"
   },
   {
    "duration": 6,
    "start_time": "2021-10-29T11:49:10.051Z"
   },
   {
    "duration": 9,
    "start_time": "2021-10-29T11:49:57.192Z"
   },
   {
    "duration": 6,
    "start_time": "2021-10-29T11:50:19.426Z"
   },
   {
    "duration": 354,
    "start_time": "2021-10-29T11:51:48.966Z"
   },
   {
    "duration": 2926,
    "start_time": "2021-10-29T11:51:57.590Z"
   },
   {
    "duration": 3164,
    "start_time": "2021-10-29T11:53:11.625Z"
   },
   {
    "duration": 27,
    "start_time": "2021-10-29T11:53:29.503Z"
   },
   {
    "duration": 791,
    "start_time": "2021-10-29T11:59:37.014Z"
   },
   {
    "duration": 10,
    "start_time": "2021-10-29T11:59:37.807Z"
   },
   {
    "duration": 19,
    "start_time": "2021-10-29T11:59:37.820Z"
   },
   {
    "duration": 11,
    "start_time": "2021-10-29T11:59:37.841Z"
   },
   {
    "duration": 34,
    "start_time": "2021-10-29T11:59:37.854Z"
   },
   {
    "duration": 16,
    "start_time": "2021-10-29T11:59:37.890Z"
   },
   {
    "duration": 21,
    "start_time": "2021-10-29T11:59:37.908Z"
   },
   {
    "duration": 19,
    "start_time": "2021-10-29T11:59:37.931Z"
   },
   {
    "duration": 2679,
    "start_time": "2021-10-29T11:59:37.977Z"
   },
   {
    "duration": 23,
    "start_time": "2021-10-29T11:59:40.659Z"
   },
   {
    "duration": 26,
    "start_time": "2021-10-29T11:59:40.684Z"
   },
   {
    "duration": 4,
    "start_time": "2021-10-29T12:10:23.400Z"
   },
   {
    "duration": 5,
    "start_time": "2021-10-29T12:10:40.108Z"
   },
   {
    "duration": 5,
    "start_time": "2021-10-29T12:10:57.487Z"
   },
   {
    "duration": 5,
    "start_time": "2021-10-29T12:12:05.054Z"
   },
   {
    "duration": 78,
    "start_time": "2021-10-29T12:12:20.501Z"
   },
   {
    "duration": 9,
    "start_time": "2021-10-29T12:12:20.581Z"
   },
   {
    "duration": 22,
    "start_time": "2021-10-29T12:12:20.592Z"
   },
   {
    "duration": 10,
    "start_time": "2021-10-29T12:12:20.616Z"
   },
   {
    "duration": 15,
    "start_time": "2021-10-29T12:12:20.628Z"
   },
   {
    "duration": 44,
    "start_time": "2021-10-29T12:12:20.645Z"
   },
   {
    "duration": 17,
    "start_time": "2021-10-29T12:12:20.691Z"
   },
   {
    "duration": 17,
    "start_time": "2021-10-29T12:12:20.710Z"
   },
   {
    "duration": 2861,
    "start_time": "2021-10-29T12:12:20.729Z"
   },
   {
    "duration": 15,
    "start_time": "2021-10-29T12:12:23.591Z"
   },
   {
    "duration": 26,
    "start_time": "2021-10-29T12:12:23.608Z"
   },
   {
    "duration": 42,
    "start_time": "2021-10-29T12:12:23.636Z"
   },
   {
    "duration": 6,
    "start_time": "2021-10-29T12:41:28.362Z"
   },
   {
    "duration": 5,
    "start_time": "2021-10-29T12:44:52.229Z"
   },
   {
    "duration": 7,
    "start_time": "2021-10-29T12:46:32.719Z"
   },
   {
    "duration": 6,
    "start_time": "2021-10-29T12:47:19.105Z"
   },
   {
    "duration": 7,
    "start_time": "2021-10-29T12:48:04.839Z"
   },
   {
    "duration": 6,
    "start_time": "2021-10-29T12:49:24.660Z"
   },
   {
    "duration": 7,
    "start_time": "2021-10-29T12:49:31.959Z"
   },
   {
    "duration": 6,
    "start_time": "2021-10-29T12:49:38.206Z"
   },
   {
    "duration": 7,
    "start_time": "2021-10-29T12:49:44.560Z"
   },
   {
    "duration": 68,
    "start_time": "2021-10-29T12:55:42.297Z"
   },
   {
    "duration": 8,
    "start_time": "2021-10-29T12:55:42.367Z"
   },
   {
    "duration": 18,
    "start_time": "2021-10-29T12:55:42.378Z"
   },
   {
    "duration": 13,
    "start_time": "2021-10-29T12:55:42.398Z"
   },
   {
    "duration": 14,
    "start_time": "2021-10-29T12:55:42.412Z"
   },
   {
    "duration": 16,
    "start_time": "2021-10-29T12:55:42.427Z"
   },
   {
    "duration": 46,
    "start_time": "2021-10-29T12:55:42.445Z"
   },
   {
    "duration": 16,
    "start_time": "2021-10-29T12:55:42.494Z"
   },
   {
    "duration": 2689,
    "start_time": "2021-10-29T12:55:42.512Z"
   },
   {
    "duration": 16,
    "start_time": "2021-10-29T12:55:45.203Z"
   },
   {
    "duration": 63,
    "start_time": "2021-10-29T12:55:45.221Z"
   },
   {
    "duration": 6,
    "start_time": "2021-10-29T12:55:45.286Z"
   },
   {
    "duration": 12,
    "start_time": "2021-10-29T12:55:45.293Z"
   },
   {
    "duration": 10,
    "start_time": "2021-10-29T12:55:45.306Z"
   },
   {
    "duration": 10,
    "start_time": "2021-10-29T12:55:45.318Z"
   },
   {
    "duration": 7,
    "start_time": "2021-10-29T13:05:13.504Z"
   },
   {
    "duration": 7,
    "start_time": "2021-10-29T13:05:15.321Z"
   },
   {
    "duration": 9,
    "start_time": "2021-10-29T13:05:20.597Z"
   },
   {
    "duration": 13,
    "start_time": "2021-10-29T13:05:28.144Z"
   },
   {
    "duration": 7,
    "start_time": "2021-10-29T13:05:54.113Z"
   },
   {
    "duration": 7,
    "start_time": "2021-10-29T13:05:57.822Z"
   },
   {
    "duration": 7,
    "start_time": "2021-10-29T13:06:00.720Z"
   },
   {
    "duration": 7,
    "start_time": "2021-10-29T13:06:03.546Z"
   },
   {
    "duration": 115,
    "start_time": "2021-10-29T13:08:22.844Z"
   },
   {
    "duration": 8,
    "start_time": "2021-10-29T13:33:19.648Z"
   },
   {
    "duration": 9,
    "start_time": "2021-10-29T13:34:32.706Z"
   },
   {
    "duration": 8,
    "start_time": "2021-10-29T13:35:35.537Z"
   },
   {
    "duration": 9,
    "start_time": "2021-10-29T13:35:58.815Z"
   },
   {
    "duration": 69,
    "start_time": "2021-10-29T13:41:21.127Z"
   },
   {
    "duration": 8,
    "start_time": "2021-10-29T13:41:21.198Z"
   },
   {
    "duration": 21,
    "start_time": "2021-10-29T13:41:21.208Z"
   },
   {
    "duration": 11,
    "start_time": "2021-10-29T13:41:21.231Z"
   },
   {
    "duration": 37,
    "start_time": "2021-10-29T13:41:21.244Z"
   },
   {
    "duration": 16,
    "start_time": "2021-10-29T13:41:21.283Z"
   },
   {
    "duration": 18,
    "start_time": "2021-10-29T13:41:21.300Z"
   },
   {
    "duration": 16,
    "start_time": "2021-10-29T13:41:21.320Z"
   },
   {
    "duration": 2684,
    "start_time": "2021-10-29T13:41:21.338Z"
   },
   {
    "duration": 17,
    "start_time": "2021-10-29T13:41:24.025Z"
   },
   {
    "duration": 49,
    "start_time": "2021-10-29T13:41:24.044Z"
   },
   {
    "duration": 6,
    "start_time": "2021-10-29T13:41:24.094Z"
   },
   {
    "duration": 9,
    "start_time": "2021-10-29T13:41:24.102Z"
   },
   {
    "duration": 7,
    "start_time": "2021-10-29T13:41:24.113Z"
   },
   {
    "duration": 56,
    "start_time": "2021-10-29T13:41:24.121Z"
   },
   {
    "duration": 6,
    "start_time": "2021-10-29T13:41:24.179Z"
   },
   {
    "duration": 13,
    "start_time": "2021-10-29T13:41:24.187Z"
   },
   {
    "duration": 6,
    "start_time": "2021-10-29T13:41:24.202Z"
   },
   {
    "duration": 10,
    "start_time": "2021-10-29T13:41:24.210Z"
   },
   {
    "duration": 890,
    "start_time": "2021-10-30T10:41:55.346Z"
   },
   {
    "duration": 12,
    "start_time": "2021-10-30T10:42:01.116Z"
   },
   {
    "duration": 21,
    "start_time": "2021-10-30T10:42:04.620Z"
   },
   {
    "duration": 35,
    "start_time": "2021-10-30T10:42:19.674Z"
   },
   {
    "duration": 11,
    "start_time": "2021-10-30T10:42:57.149Z"
   },
   {
    "duration": 375,
    "start_time": "2021-10-30T10:43:39.384Z"
   },
   {
    "duration": 327,
    "start_time": "2021-10-30T10:43:52.706Z"
   },
   {
    "duration": 343,
    "start_time": "2021-10-30T10:44:22.155Z"
   },
   {
    "duration": 90,
    "start_time": "2021-10-30T10:44:38.294Z"
   },
   {
    "duration": 11,
    "start_time": "2021-10-30T10:44:44.911Z"
   },
   {
    "duration": 6,
    "start_time": "2021-10-30T10:44:49.202Z"
   },
   {
    "duration": 6,
    "start_time": "2021-10-30T10:44:53.036Z"
   },
   {
    "duration": 5,
    "start_time": "2021-10-30T10:45:02.908Z"
   },
   {
    "duration": 5,
    "start_time": "2021-10-30T10:45:35.677Z"
   },
   {
    "duration": 12,
    "start_time": "2021-10-30T10:46:02.890Z"
   },
   {
    "duration": 11,
    "start_time": "2021-10-30T10:46:24.326Z"
   },
   {
    "duration": 9,
    "start_time": "2021-10-30T10:46:38.102Z"
   },
   {
    "duration": 288,
    "start_time": "2021-10-30T10:47:08.391Z"
   },
   {
    "duration": 285,
    "start_time": "2021-10-30T10:47:13.487Z"
   },
   {
    "duration": 97,
    "start_time": "2021-10-30T10:47:16.385Z"
   },
   {
    "duration": 9,
    "start_time": "2021-10-30T10:47:18.893Z"
   },
   {
    "duration": 5,
    "start_time": "2021-10-30T10:54:44.269Z"
   },
   {
    "duration": 9,
    "start_time": "2021-10-30T10:55:37.893Z"
   },
   {
    "duration": 7681,
    "start_time": "2021-10-30T11:12:01.191Z"
   },
   {
    "duration": 7722,
    "start_time": "2021-10-30T11:20:06.232Z"
   },
   {
    "duration": 9,
    "start_time": "2021-10-30T11:21:46.153Z"
   },
   {
    "duration": 7715,
    "start_time": "2021-10-30T11:24:11.702Z"
   },
   {
    "duration": 7565,
    "start_time": "2021-10-30T11:25:38.814Z"
   },
   {
    "duration": 7647,
    "start_time": "2021-10-30T11:25:53.190Z"
   },
   {
    "duration": 7,
    "start_time": "2021-10-30T11:32:40.428Z"
   },
   {
    "duration": 291,
    "start_time": "2021-10-30T11:34:47.005Z"
   },
   {
    "duration": 370,
    "start_time": "2021-10-30T11:41:27.621Z"
   },
   {
    "duration": 289,
    "start_time": "2021-10-30T11:45:20.711Z"
   },
   {
    "duration": 290,
    "start_time": "2021-10-30T11:46:56.009Z"
   },
   {
    "duration": 1598,
    "start_time": "2021-10-30T12:10:16.188Z"
   },
   {
    "duration": 142,
    "start_time": "2021-10-30T12:11:31.324Z"
   },
   {
    "duration": 1516,
    "start_time": "2021-10-30T12:11:35.693Z"
   },
   {
    "duration": 1934,
    "start_time": "2021-10-30T12:12:43.680Z"
   },
   {
    "duration": 102,
    "start_time": "2021-10-30T12:13:11.501Z"
   },
   {
    "duration": 1569,
    "start_time": "2021-10-30T12:14:05.839Z"
   },
   {
    "duration": 1493,
    "start_time": "2021-10-30T12:14:41.850Z"
   },
   {
    "duration": 1537,
    "start_time": "2021-10-30T12:14:57.971Z"
   },
   {
    "duration": 8,
    "start_time": "2021-10-30T12:16:30.320Z"
   },
   {
    "duration": 6,
    "start_time": "2021-10-30T12:17:50.314Z"
   },
   {
    "duration": 7,
    "start_time": "2021-10-30T12:18:03.533Z"
   },
   {
    "duration": 13,
    "start_time": "2021-10-30T12:19:03.777Z"
   },
   {
    "duration": 14,
    "start_time": "2021-10-30T12:19:24.612Z"
   },
   {
    "duration": 281,
    "start_time": "2021-10-30T12:19:43.894Z"
   },
   {
    "duration": 96,
    "start_time": "2021-10-30T12:19:50.481Z"
   },
   {
    "duration": 282,
    "start_time": "2021-10-30T12:19:58.243Z"
   },
   {
    "duration": 13,
    "start_time": "2021-10-30T12:20:07.900Z"
   },
   {
    "duration": 2022,
    "start_time": "2021-10-30T12:21:02.804Z"
   },
   {
    "duration": 1498,
    "start_time": "2021-10-30T12:21:38.904Z"
   },
   {
    "duration": 13,
    "start_time": "2021-10-30T12:27:28.099Z"
   },
   {
    "duration": 293,
    "start_time": "2021-10-30T12:29:50.666Z"
   },
   {
    "duration": 1109,
    "start_time": "2021-10-30T12:32:10.605Z"
   },
   {
    "duration": 14,
    "start_time": "2021-10-30T12:32:18.320Z"
   },
   {
    "duration": 14,
    "start_time": "2021-10-30T12:32:48.383Z"
   },
   {
    "duration": 95,
    "start_time": "2021-10-30T12:33:18.889Z"
   },
   {
    "duration": 187,
    "start_time": "2021-10-30T12:33:42.706Z"
   },
   {
    "duration": 99,
    "start_time": "2021-10-30T12:33:51.135Z"
   },
   {
    "duration": 97,
    "start_time": "2021-10-30T12:33:57.448Z"
   },
   {
    "duration": 98,
    "start_time": "2021-10-30T12:34:11.006Z"
   },
   {
    "duration": 489,
    "start_time": "2021-10-30T12:34:29.999Z"
   },
   {
    "duration": 458,
    "start_time": "2021-10-30T12:34:36.892Z"
   },
   {
    "duration": 95,
    "start_time": "2021-10-30T12:34:44.348Z"
   },
   {
    "duration": 459,
    "start_time": "2021-10-30T12:34:49.559Z"
   },
   {
    "duration": 819,
    "start_time": "2021-10-30T12:35:07.648Z"
   },
   {
    "duration": 107,
    "start_time": "2021-10-30T12:35:26.181Z"
   },
   {
    "duration": 460,
    "start_time": "2021-10-30T12:35:29.049Z"
   },
   {
    "duration": 462,
    "start_time": "2021-10-30T12:35:57.680Z"
   },
   {
    "duration": 462,
    "start_time": "2021-10-30T12:36:01.253Z"
   },
   {
    "duration": 15,
    "start_time": "2021-10-30T12:36:15.895Z"
   },
   {
    "duration": 583,
    "start_time": "2021-10-30T12:37:06.255Z"
   },
   {
    "duration": 2209,
    "start_time": "2021-10-30T12:37:13.024Z"
   },
   {
    "duration": 482,
    "start_time": "2021-10-30T12:37:24.291Z"
   },
   {
    "duration": 1846,
    "start_time": "2021-10-30T12:37:31.715Z"
   },
   {
    "duration": 285,
    "start_time": "2021-10-30T13:45:22.613Z"
   },
   {
    "duration": 14,
    "start_time": "2021-10-30T13:45:30.853Z"
   },
   {
    "duration": 431,
    "start_time": "2021-10-30T19:23:42.759Z"
   },
   {
    "duration": 1113,
    "start_time": "2021-10-30T19:23:51.122Z"
   },
   {
    "duration": 12,
    "start_time": "2021-10-30T19:23:52.238Z"
   },
   {
    "duration": 1530,
    "start_time": "2021-10-30T19:23:52.253Z"
   },
   {
    "duration": 1588,
    "start_time": "2021-10-30T19:23:53.786Z"
   },
   {
    "duration": 27,
    "start_time": "2021-10-30T19:23:55.376Z"
   },
   {
    "duration": 402,
    "start_time": "2021-10-30T19:23:55.405Z"
   },
   {
    "duration": 121608,
    "start_time": "2021-10-30T19:21:54.203Z"
   },
   {
    "duration": 121597,
    "start_time": "2021-10-30T19:21:54.216Z"
   },
   {
    "duration": 121586,
    "start_time": "2021-10-30T19:21:54.228Z"
   },
   {
    "duration": 121577,
    "start_time": "2021-10-30T19:21:54.238Z"
   },
   {
    "duration": 121568,
    "start_time": "2021-10-30T19:21:54.248Z"
   },
   {
    "duration": 121561,
    "start_time": "2021-10-30T19:21:54.256Z"
   },
   {
    "duration": 121554,
    "start_time": "2021-10-30T19:21:54.265Z"
   },
   {
    "duration": 121548,
    "start_time": "2021-10-30T19:21:54.272Z"
   },
   {
    "duration": 121539,
    "start_time": "2021-10-30T19:21:54.282Z"
   },
   {
    "duration": 121504,
    "start_time": "2021-10-30T19:21:54.318Z"
   },
   {
    "duration": 121489,
    "start_time": "2021-10-30T19:21:54.334Z"
   },
   {
    "duration": 121480,
    "start_time": "2021-10-30T19:21:54.345Z"
   },
   {
    "duration": 121468,
    "start_time": "2021-10-30T19:21:54.358Z"
   },
   {
    "duration": 121457,
    "start_time": "2021-10-30T19:21:54.370Z"
   },
   {
    "duration": 121444,
    "start_time": "2021-10-30T19:21:54.384Z"
   },
   {
    "duration": 121433,
    "start_time": "2021-10-30T19:21:54.396Z"
   },
   {
    "duration": 121422,
    "start_time": "2021-10-30T19:21:54.408Z"
   },
   {
    "duration": 121367,
    "start_time": "2021-10-30T19:21:54.465Z"
   },
   {
    "duration": 23,
    "start_time": "2021-10-30T19:24:02.221Z"
   },
   {
    "duration": 28,
    "start_time": "2021-10-30T19:24:13.373Z"
   },
   {
    "duration": 427,
    "start_time": "2021-10-30T19:28:02.307Z"
   },
   {
    "duration": 33,
    "start_time": "2021-10-30T19:28:15.840Z"
   },
   {
    "duration": 31,
    "start_time": "2021-10-30T19:29:10.510Z"
   },
   {
    "duration": 187,
    "start_time": "2021-10-30T19:30:23.303Z"
   },
   {
    "duration": 389,
    "start_time": "2021-10-30T19:30:52.247Z"
   },
   {
    "duration": 182,
    "start_time": "2021-10-30T19:31:39.867Z"
   },
   {
    "duration": 29,
    "start_time": "2021-10-30T19:32:47.400Z"
   },
   {
    "duration": 7366,
    "start_time": "2021-10-30T19:55:43.958Z"
   },
   {
    "duration": 7925,
    "start_time": "2021-10-30T19:56:09.581Z"
   },
   {
    "duration": 7429,
    "start_time": "2021-10-30T19:56:28.778Z"
   },
   {
    "duration": 461,
    "start_time": "2021-10-30T19:56:59.743Z"
   },
   {
    "duration": 407,
    "start_time": "2021-10-30T19:57:19.008Z"
   },
   {
    "duration": 91,
    "start_time": "2021-10-30T20:07:36.959Z"
   },
   {
    "duration": 12,
    "start_time": "2021-10-30T20:07:37.054Z"
   },
   {
    "duration": 1732,
    "start_time": "2021-10-30T20:07:37.070Z"
   },
   {
    "duration": 1599,
    "start_time": "2021-10-30T20:07:38.804Z"
   },
   {
    "duration": 16,
    "start_time": "2021-10-30T20:07:40.407Z"
   },
   {
    "duration": 369,
    "start_time": "2021-10-30T20:07:40.426Z"
   },
   {
    "duration": 121614,
    "start_time": "2021-10-30T20:05:39.185Z"
   },
   {
    "duration": 121603,
    "start_time": "2021-10-30T20:05:39.197Z"
   },
   {
    "duration": 121597,
    "start_time": "2021-10-30T20:05:39.204Z"
   },
   {
    "duration": 121592,
    "start_time": "2021-10-30T20:05:39.211Z"
   },
   {
    "duration": 121585,
    "start_time": "2021-10-30T20:05:39.219Z"
   },
   {
    "duration": 121580,
    "start_time": "2021-10-30T20:05:39.226Z"
   },
   {
    "duration": 121574,
    "start_time": "2021-10-30T20:05:39.233Z"
   },
   {
    "duration": 121568,
    "start_time": "2021-10-30T20:05:39.240Z"
   },
   {
    "duration": 121560,
    "start_time": "2021-10-30T20:05:39.250Z"
   },
   {
    "duration": 121552,
    "start_time": "2021-10-30T20:05:39.259Z"
   },
   {
    "duration": 121547,
    "start_time": "2021-10-30T20:05:39.266Z"
   },
   {
    "duration": 121533,
    "start_time": "2021-10-30T20:05:39.281Z"
   },
   {
    "duration": 121506,
    "start_time": "2021-10-30T20:05:39.310Z"
   },
   {
    "duration": 121496,
    "start_time": "2021-10-30T20:05:39.321Z"
   },
   {
    "duration": 121483,
    "start_time": "2021-10-30T20:05:39.336Z"
   },
   {
    "duration": 121474,
    "start_time": "2021-10-30T20:05:39.346Z"
   },
   {
    "duration": 121463,
    "start_time": "2021-10-30T20:05:39.359Z"
   },
   {
    "duration": 121456,
    "start_time": "2021-10-30T20:05:39.367Z"
   },
   {
    "duration": 87,
    "start_time": "2021-10-30T20:08:11.830Z"
   },
   {
    "duration": 12,
    "start_time": "2021-10-30T20:08:16.667Z"
   },
   {
    "duration": 1614,
    "start_time": "2021-10-30T20:08:17.926Z"
   },
   {
    "duration": 1603,
    "start_time": "2021-10-30T20:08:21.108Z"
   },
   {
    "duration": 14,
    "start_time": "2021-10-30T20:08:25.107Z"
   },
   {
    "duration": 424,
    "start_time": "2021-10-30T20:08:29.192Z"
   },
   {
    "duration": 22,
    "start_time": "2021-10-30T20:08:52.796Z"
   },
   {
    "duration": 27,
    "start_time": "2021-10-30T20:08:53.594Z"
   },
   {
    "duration": 23,
    "start_time": "2021-10-30T20:08:54.205Z"
   },
   {
    "duration": 6,
    "start_time": "2021-10-30T20:08:55.270Z"
   },
   {
    "duration": 13,
    "start_time": "2021-10-30T20:08:56.427Z"
   },
   {
    "duration": 8,
    "start_time": "2021-10-30T20:08:57.832Z"
   },
   {
    "duration": 3402,
    "start_time": "2021-10-30T20:09:03.583Z"
   },
   {
    "duration": 21,
    "start_time": "2021-10-30T20:09:14.276Z"
   },
   {
    "duration": 363,
    "start_time": "2021-10-30T20:10:06.884Z"
   },
   {
    "duration": 481,
    "start_time": "2021-10-30T20:21:17.833Z"
   },
   {
    "duration": 36,
    "start_time": "2021-10-30T20:23:16.035Z"
   },
   {
    "duration": 36,
    "start_time": "2021-10-30T20:24:41.654Z"
   },
   {
    "duration": 18,
    "start_time": "2021-10-30T20:35:21.917Z"
   },
   {
    "duration": 14,
    "start_time": "2021-10-30T20:40:28.824Z"
   },
   {
    "duration": 375,
    "start_time": "2021-10-30T20:41:11.873Z"
   },
   {
    "duration": 10948,
    "start_time": "2021-10-30T20:41:28.103Z"
   },
   {
    "duration": 16,
    "start_time": "2021-10-30T20:42:01.604Z"
   },
   {
    "duration": 387,
    "start_time": "2021-10-30T20:57:52.979Z"
   },
   {
    "duration": 16,
    "start_time": "2021-10-30T20:58:35.610Z"
   },
   {
    "duration": 50,
    "start_time": "2021-10-30T20:58:57.841Z"
   },
   {
    "duration": 75,
    "start_time": "2021-10-30T20:59:20.808Z"
   },
   {
    "duration": 33,
    "start_time": "2021-10-30T20:59:34.259Z"
   },
   {
    "duration": 29,
    "start_time": "2021-10-30T21:10:48.577Z"
   },
   {
    "duration": 9,
    "start_time": "2021-10-30T21:13:54.477Z"
   },
   {
    "duration": 14,
    "start_time": "2021-10-30T21:14:11.947Z"
   },
   {
    "duration": 428,
    "start_time": "2021-10-30T21:14:47.020Z"
   },
   {
    "duration": 370,
    "start_time": "2021-10-30T21:15:09.880Z"
   },
   {
    "duration": 13,
    "start_time": "2021-10-30T21:15:18.985Z"
   },
   {
    "duration": 403,
    "start_time": "2021-10-30T21:15:53.400Z"
   },
   {
    "duration": 15,
    "start_time": "2021-10-30T21:15:58.918Z"
   },
   {
    "duration": 18,
    "start_time": "2021-10-30T21:18:12.260Z"
   },
   {
    "duration": 14,
    "start_time": "2021-10-30T21:18:19.170Z"
   },
   {
    "duration": 14,
    "start_time": "2021-10-30T21:18:31.661Z"
   },
   {
    "duration": 28,
    "start_time": "2021-10-30T21:18:37.523Z"
   },
   {
    "duration": 14,
    "start_time": "2021-10-30T21:18:40.629Z"
   },
   {
    "duration": 9721,
    "start_time": "2021-10-30T21:23:01.630Z"
   },
   {
    "duration": 10861,
    "start_time": "2021-10-30T21:23:23.377Z"
   },
   {
    "duration": 483,
    "start_time": "2021-10-31T11:41:18.543Z"
   },
   {
    "duration": 874,
    "start_time": "2021-10-31T12:24:00.002Z"
   },
   {
    "duration": 15,
    "start_time": "2021-10-31T12:24:00.879Z"
   },
   {
    "duration": 1513,
    "start_time": "2021-10-31T12:24:00.897Z"
   },
   {
    "duration": 1560,
    "start_time": "2021-10-31T12:24:02.413Z"
   },
   {
    "duration": 19,
    "start_time": "2021-10-31T12:24:03.975Z"
   },
   {
    "duration": 394,
    "start_time": "2021-10-31T12:24:03.997Z"
   },
   {
    "duration": -15888,
    "start_time": "2021-10-31T12:24:20.282Z"
   },
   {
    "duration": -15896,
    "start_time": "2021-10-31T12:24:20.292Z"
   },
   {
    "duration": -15899,
    "start_time": "2021-10-31T12:24:20.296Z"
   },
   {
    "duration": -15900,
    "start_time": "2021-10-31T12:24:20.299Z"
   },
   {
    "duration": -15909,
    "start_time": "2021-10-31T12:24:20.309Z"
   },
   {
    "duration": -15909,
    "start_time": "2021-10-31T12:24:20.311Z"
   },
   {
    "duration": -15914,
    "start_time": "2021-10-31T12:24:20.317Z"
   },
   {
    "duration": -15923,
    "start_time": "2021-10-31T12:24:20.327Z"
   },
   {
    "duration": -15925,
    "start_time": "2021-10-31T12:24:20.331Z"
   },
   {
    "duration": -15929,
    "start_time": "2021-10-31T12:24:20.336Z"
   },
   {
    "duration": -15935,
    "start_time": "2021-10-31T12:24:20.344Z"
   },
   {
    "duration": -15941,
    "start_time": "2021-10-31T12:24:20.351Z"
   },
   {
    "duration": -15946,
    "start_time": "2021-10-31T12:24:20.357Z"
   },
   {
    "duration": -15947,
    "start_time": "2021-10-31T12:24:20.360Z"
   },
   {
    "duration": -15949,
    "start_time": "2021-10-31T12:24:20.363Z"
   },
   {
    "duration": -15950,
    "start_time": "2021-10-31T12:24:20.365Z"
   },
   {
    "duration": -15952,
    "start_time": "2021-10-31T12:24:20.369Z"
   },
   {
    "duration": -15957,
    "start_time": "2021-10-31T12:24:20.375Z"
   },
   {
    "duration": -15958,
    "start_time": "2021-10-31T12:24:20.378Z"
   },
   {
    "duration": -15959,
    "start_time": "2021-10-31T12:24:20.380Z"
   },
   {
    "duration": -15959,
    "start_time": "2021-10-31T12:24:20.381Z"
   },
   {
    "duration": 27,
    "start_time": "2021-10-31T12:37:21.743Z"
   },
   {
    "duration": 35,
    "start_time": "2021-10-31T12:37:21.934Z"
   },
   {
    "duration": 26,
    "start_time": "2021-10-31T12:37:22.135Z"
   },
   {
    "duration": 5,
    "start_time": "2021-10-31T12:37:22.358Z"
   },
   {
    "duration": 14,
    "start_time": "2021-10-31T12:37:22.833Z"
   },
   {
    "duration": 7,
    "start_time": "2021-10-31T12:37:23.519Z"
   },
   {
    "duration": 316,
    "start_time": "2021-10-31T12:38:04.183Z"
   },
   {
    "duration": 14,
    "start_time": "2021-10-31T12:38:11.373Z"
   },
   {
    "duration": 23,
    "start_time": "2021-10-31T12:39:06.229Z"
   },
   {
    "duration": 15,
    "start_time": "2021-10-31T12:39:08.412Z"
   },
   {
    "duration": 4058,
    "start_time": "2021-10-31T12:39:53.992Z"
   },
   {
    "duration": 1111,
    "start_time": "2021-10-31T12:40:14.092Z"
   },
   {
    "duration": 18,
    "start_time": "2021-10-31T12:40:15.206Z"
   },
   {
    "duration": 2910,
    "start_time": "2021-10-31T12:40:15.229Z"
   },
   {
    "duration": 1488,
    "start_time": "2021-10-31T12:40:18.142Z"
   },
   {
    "duration": 16,
    "start_time": "2021-10-31T12:40:19.634Z"
   },
   {
    "duration": 492,
    "start_time": "2021-10-31T12:40:19.654Z"
   },
   {
    "duration": -15909,
    "start_time": "2021-10-31T12:40:36.060Z"
   },
   {
    "duration": -15909,
    "start_time": "2021-10-31T12:40:36.062Z"
   },
   {
    "duration": -15911,
    "start_time": "2021-10-31T12:40:36.065Z"
   },
   {
    "duration": -15927,
    "start_time": "2021-10-31T12:40:36.084Z"
   },
   {
    "duration": -15929,
    "start_time": "2021-10-31T12:40:36.087Z"
   },
   {
    "duration": -15933,
    "start_time": "2021-10-31T12:40:36.093Z"
   },
   {
    "duration": -15933,
    "start_time": "2021-10-31T12:40:36.095Z"
   },
   {
    "duration": -15934,
    "start_time": "2021-10-31T12:40:36.098Z"
   },
   {
    "duration": -15934,
    "start_time": "2021-10-31T12:40:36.100Z"
   },
   {
    "duration": -15936,
    "start_time": "2021-10-31T12:40:36.104Z"
   },
   {
    "duration": -15939,
    "start_time": "2021-10-31T12:40:36.109Z"
   },
   {
    "duration": -15939,
    "start_time": "2021-10-31T12:40:36.110Z"
   },
   {
    "duration": -15939,
    "start_time": "2021-10-31T12:40:36.112Z"
   },
   {
    "duration": -15938,
    "start_time": "2021-10-31T12:40:36.114Z"
   },
   {
    "duration": -15938,
    "start_time": "2021-10-31T12:40:36.116Z"
   },
   {
    "duration": -15939,
    "start_time": "2021-10-31T12:40:36.118Z"
   },
   {
    "duration": -15946,
    "start_time": "2021-10-31T12:40:36.127Z"
   },
   {
    "duration": -15946,
    "start_time": "2021-10-31T12:40:36.129Z"
   },
   {
    "duration": -15946,
    "start_time": "2021-10-31T12:40:36.131Z"
   },
   {
    "duration": -15945,
    "start_time": "2021-10-31T12:40:36.132Z"
   },
   {
    "duration": -15946,
    "start_time": "2021-10-31T12:40:36.134Z"
   },
   {
    "duration": 33,
    "start_time": "2021-10-31T12:40:28.540Z"
   },
   {
    "duration": 37,
    "start_time": "2021-10-31T12:40:28.723Z"
   },
   {
    "duration": 34,
    "start_time": "2021-10-31T12:40:29.021Z"
   },
   {
    "duration": 7,
    "start_time": "2021-10-31T12:40:29.242Z"
   },
   {
    "duration": 4619,
    "start_time": "2021-10-31T12:40:29.710Z"
   },
   {
    "duration": 8,
    "start_time": "2021-10-31T12:40:34.331Z"
   },
   {
    "duration": 4631,
    "start_time": "2021-10-31T12:40:53.965Z"
   },
   {
    "duration": 14,
    "start_time": "2021-10-31T12:41:20.559Z"
   },
   {
    "duration": 4699,
    "start_time": "2021-10-31T12:44:10.958Z"
   },
   {
    "duration": 42,
    "start_time": "2021-10-31T12:44:15.661Z"
   },
   {
    "duration": 53,
    "start_time": "2021-10-31T12:45:57.745Z"
   },
   {
    "duration": 9,
    "start_time": "2021-10-31T12:45:58.410Z"
   },
   {
    "duration": 17,
    "start_time": "2021-10-31T12:45:59.878Z"
   },
   {
    "duration": 12,
    "start_time": "2021-10-31T12:46:00.759Z"
   },
   {
    "duration": 14,
    "start_time": "2021-10-31T12:46:01.676Z"
   },
   {
    "duration": 13,
    "start_time": "2021-10-31T12:46:02.103Z"
   },
   {
    "duration": 25,
    "start_time": "2021-10-31T12:46:02.531Z"
   },
   {
    "duration": 10,
    "start_time": "2021-10-31T12:46:03.042Z"
   },
   {
    "duration": 18,
    "start_time": "2021-10-31T12:46:03.938Z"
   },
   {
    "duration": 30,
    "start_time": "2021-10-31T12:46:19.723Z"
   },
   {
    "duration": 15,
    "start_time": "2021-10-31T12:46:20.964Z"
   },
   {
    "duration": 36,
    "start_time": "2021-10-31T12:46:46.143Z"
   },
   {
    "duration": 25,
    "start_time": "2021-10-31T12:46:46.363Z"
   },
   {
    "duration": 8,
    "start_time": "2021-10-31T12:49:58.358Z"
   },
   {
    "duration": 36,
    "start_time": "2021-10-31T12:50:05.293Z"
   },
   {
    "duration": 19,
    "start_time": "2021-10-31T12:50:05.754Z"
   },
   {
    "duration": 8,
    "start_time": "2021-10-31T12:50:07.492Z"
   },
   {
    "duration": 12,
    "start_time": "2021-10-31T12:50:26.494Z"
   },
   {
    "duration": 8567,
    "start_time": "2021-10-31T12:50:43.143Z"
   },
   {
    "duration": 15,
    "start_time": "2021-10-31T12:50:58.646Z"
   },
   {
    "duration": -16154,
    "start_time": "2021-10-31T12:51:26.599Z"
   },
   {
    "duration": 8,
    "start_time": "2021-10-31T12:51:21.045Z"
   },
   {
    "duration": 9549,
    "start_time": "2021-10-31T12:51:25.361Z"
   },
   {
    "duration": 289,
    "start_time": "2021-10-31T12:52:37.064Z"
   },
   {
    "duration": 13,
    "start_time": "2021-10-31T12:52:41.849Z"
   },
   {
    "duration": 8,
    "start_time": "2021-10-31T12:53:02.018Z"
   },
   {
    "duration": 6,
    "start_time": "2021-10-31T12:53:11.622Z"
   },
   {
    "duration": 6,
    "start_time": "2021-10-31T12:53:24.506Z"
   },
   {
    "duration": 14,
    "start_time": "2021-10-31T12:53:29.460Z"
   },
   {
    "duration": 31,
    "start_time": "2021-10-31T12:54:13.290Z"
   },
   {
    "duration": 13,
    "start_time": "2021-10-31T12:54:13.761Z"
   },
   {
    "duration": 6,
    "start_time": "2021-10-31T12:54:14.621Z"
   },
   {
    "duration": 233,
    "start_time": "2021-11-01T09:44:40.210Z"
   },
   {
    "duration": 621,
    "start_time": "2021-11-01T09:44:45.601Z"
   },
   {
    "duration": 9,
    "start_time": "2021-11-01T09:44:46.224Z"
   },
   {
    "duration": 843,
    "start_time": "2021-11-01T09:44:46.235Z"
   },
   {
    "duration": 61,
    "start_time": "2021-11-01T09:44:47.080Z"
   },
   {
    "duration": 9,
    "start_time": "2021-11-01T09:44:47.143Z"
   },
   {
    "duration": 194,
    "start_time": "2021-11-01T09:44:47.153Z"
   },
   {
    "duration": 124160,
    "start_time": "2021-11-01T09:42:43.190Z"
   },
   {
    "duration": 124136,
    "start_time": "2021-11-01T09:42:43.215Z"
   },
   {
    "duration": 124088,
    "start_time": "2021-11-01T09:42:43.265Z"
   },
   {
    "duration": 124076,
    "start_time": "2021-11-01T09:42:43.278Z"
   },
   {
    "duration": 124017,
    "start_time": "2021-11-01T09:42:43.338Z"
   },
   {
    "duration": 124007,
    "start_time": "2021-11-01T09:42:43.350Z"
   },
   {
    "duration": 123986,
    "start_time": "2021-11-01T09:42:43.372Z"
   },
   {
    "duration": 123970,
    "start_time": "2021-11-01T09:42:43.389Z"
   },
   {
    "duration": 123960,
    "start_time": "2021-11-01T09:42:43.401Z"
   },
   {
    "duration": 123952,
    "start_time": "2021-11-01T09:42:43.410Z"
   },
   {
    "duration": 123921,
    "start_time": "2021-11-01T09:42:43.442Z"
   },
   {
    "duration": 123909,
    "start_time": "2021-11-01T09:42:43.455Z"
   },
   {
    "duration": 123900,
    "start_time": "2021-11-01T09:42:43.466Z"
   },
   {
    "duration": 123892,
    "start_time": "2021-11-01T09:42:43.475Z"
   },
   {
    "duration": 123860,
    "start_time": "2021-11-01T09:42:43.508Z"
   },
   {
    "duration": 123849,
    "start_time": "2021-11-01T09:42:43.520Z"
   },
   {
    "duration": 123825,
    "start_time": "2021-11-01T09:42:43.546Z"
   },
   {
    "duration": 123774,
    "start_time": "2021-11-01T09:42:43.598Z"
   },
   {
    "duration": 123761,
    "start_time": "2021-11-01T09:42:43.612Z"
   },
   {
    "duration": 123719,
    "start_time": "2021-11-01T09:42:43.656Z"
   },
   {
    "duration": 123708,
    "start_time": "2021-11-01T09:42:43.668Z"
   },
   {
    "duration": 189,
    "start_time": "2021-11-01T09:53:55.466Z"
   },
   {
    "duration": 55,
    "start_time": "2021-11-01T09:54:19.907Z"
   },
   {
    "duration": 55,
    "start_time": "2021-11-01T09:58:11.591Z"
   },
   {
    "duration": 13,
    "start_time": "2021-11-01T09:59:01.228Z"
   },
   {
    "duration": 14,
    "start_time": "2021-11-01T10:00:18.903Z"
   },
   {
    "duration": 17,
    "start_time": "2021-11-01T10:00:21.576Z"
   },
   {
    "duration": 16,
    "start_time": "2021-11-01T10:00:26.333Z"
   },
   {
    "duration": 4,
    "start_time": "2021-11-01T10:00:29.145Z"
   },
   {
    "duration": 5,
    "start_time": "2021-11-01T10:00:32.815Z"
   },
   {
    "duration": 13,
    "start_time": "2021-11-01T10:01:26.276Z"
   },
   {
    "duration": 14,
    "start_time": "2021-11-01T10:02:25.692Z"
   },
   {
    "duration": 175,
    "start_time": "2021-11-01T10:04:07.095Z"
   },
   {
    "duration": 2301,
    "start_time": "2021-11-01T10:04:10.990Z"
   },
   {
    "duration": 2428,
    "start_time": "2021-11-01T10:04:23.072Z"
   },
   {
    "duration": 13,
    "start_time": "2021-11-01T10:04:25.502Z"
   },
   {
    "duration": 18,
    "start_time": "2021-11-01T10:05:06.468Z"
   },
   {
    "duration": 20,
    "start_time": "2021-11-01T10:06:06.825Z"
   },
   {
    "duration": 14,
    "start_time": "2021-11-01T10:06:09.191Z"
   },
   {
    "duration": 9,
    "start_time": "2021-11-01T10:14:10.200Z"
   },
   {
    "duration": 4649,
    "start_time": "2021-11-01T10:17:32.345Z"
   },
   {
    "duration": 4470,
    "start_time": "2021-11-01T10:19:13.660Z"
   },
   {
    "duration": 4207,
    "start_time": "2021-11-01T10:21:21.529Z"
   },
   {
    "duration": 176,
    "start_time": "2021-11-01T10:21:50.063Z"
   },
   {
    "duration": 10,
    "start_time": "2021-11-01T10:25:37.384Z"
   },
   {
    "duration": 6,
    "start_time": "2021-11-01T10:25:53.563Z"
   },
   {
    "duration": 174,
    "start_time": "2021-11-01T10:26:15.222Z"
   },
   {
    "duration": 460,
    "start_time": "2021-11-01T10:30:12.536Z"
   },
   {
    "duration": 459,
    "start_time": "2021-11-01T10:30:25.897Z"
   },
   {
    "duration": 64,
    "start_time": "2021-11-01T10:37:46.729Z"
   },
   {
    "duration": 180,
    "start_time": "2021-11-01T10:37:54.095Z"
   },
   {
    "duration": 183,
    "start_time": "2021-11-01T10:38:06.131Z"
   },
   {
    "duration": 185,
    "start_time": "2021-11-01T10:39:38.174Z"
   },
   {
    "duration": 175,
    "start_time": "2021-11-01T10:41:30.073Z"
   },
   {
    "duration": 185,
    "start_time": "2021-11-01T10:41:39.380Z"
   },
   {
    "duration": 176,
    "start_time": "2021-11-01T10:45:57.585Z"
   },
   {
    "duration": 184,
    "start_time": "2021-11-01T10:51:07.116Z"
   },
   {
    "duration": 172,
    "start_time": "2021-11-01T10:51:18.851Z"
   },
   {
    "duration": 183,
    "start_time": "2021-11-01T10:55:16.267Z"
   },
   {
    "duration": 63,
    "start_time": "2021-11-01T10:55:21.959Z"
   },
   {
    "duration": 8,
    "start_time": "2021-11-01T10:55:22.024Z"
   },
   {
    "duration": 76,
    "start_time": "2021-11-01T10:55:22.034Z"
   },
   {
    "duration": 58,
    "start_time": "2021-11-01T10:55:22.111Z"
   },
   {
    "duration": 26,
    "start_time": "2021-11-01T10:55:22.170Z"
   },
   {
    "duration": 13,
    "start_time": "2021-11-01T10:55:22.197Z"
   },
   {
    "duration": 13,
    "start_time": "2021-11-01T10:55:22.211Z"
   },
   {
    "duration": 16,
    "start_time": "2021-11-01T10:55:22.227Z"
   },
   {
    "duration": 14,
    "start_time": "2021-11-01T10:55:22.245Z"
   },
   {
    "duration": 4,
    "start_time": "2021-11-01T10:55:22.292Z"
   },
   {
    "duration": 20,
    "start_time": "2021-11-01T10:55:22.298Z"
   },
   {
    "duration": 7,
    "start_time": "2021-11-01T10:55:22.319Z"
   },
   {
    "duration": 2391,
    "start_time": "2021-11-01T10:55:22.327Z"
   },
   {
    "duration": 13,
    "start_time": "2021-11-01T10:55:24.720Z"
   },
   {
    "duration": 21,
    "start_time": "2021-11-01T10:55:24.735Z"
   },
   {
    "duration": 6,
    "start_time": "2021-11-01T10:55:24.757Z"
   },
   {
    "duration": 7,
    "start_time": "2021-11-01T10:55:24.765Z"
   },
   {
    "duration": 21,
    "start_time": "2021-11-01T10:55:24.774Z"
   },
   {
    "duration": 18,
    "start_time": "2021-11-01T10:55:24.796Z"
   },
   {
    "duration": 5,
    "start_time": "2021-11-01T10:55:24.815Z"
   },
   {
    "duration": 10,
    "start_time": "2021-11-01T10:55:24.821Z"
   },
   {
    "duration": 7,
    "start_time": "2021-11-01T10:55:24.832Z"
   },
   {
    "duration": 13,
    "start_time": "2021-11-01T10:55:24.842Z"
   },
   {
    "duration": 43,
    "start_time": "2021-11-01T10:55:24.856Z"
   },
   {
    "duration": 16,
    "start_time": "2021-11-01T10:55:24.900Z"
   },
   {
    "duration": 4329,
    "start_time": "2021-11-01T10:55:24.918Z"
   },
   {
    "duration": 124080,
    "start_time": "2021-11-01T10:53:25.169Z"
   },
   {
    "duration": 123977,
    "start_time": "2021-11-01T10:53:25.273Z"
   },
   {
    "duration": 9,
    "start_time": "2021-11-01T10:56:21.184Z"
   },
   {
    "duration": 176,
    "start_time": "2021-11-01T10:56:47.148Z"
   },
   {
    "duration": 8,
    "start_time": "2021-11-01T10:56:57.073Z"
   },
   {
    "duration": 9,
    "start_time": "2021-11-01T10:57:21.390Z"
   },
   {
    "duration": 4234,
    "start_time": "2021-11-01T10:59:17.083Z"
   },
   {
    "duration": 4254,
    "start_time": "2021-11-01T10:59:36.315Z"
   },
   {
    "duration": 4337,
    "start_time": "2021-11-01T10:59:48.807Z"
   },
   {
    "duration": 62,
    "start_time": "2021-11-01T11:07:21.297Z"
   },
   {
    "duration": 182,
    "start_time": "2021-11-01T11:07:28.399Z"
   },
   {
    "duration": 8,
    "start_time": "2021-11-01T11:09:56.024Z"
   },
   {
    "duration": 4576,
    "start_time": "2021-11-01T11:14:32.713Z"
   },
   {
    "duration": 4993,
    "start_time": "2021-11-01T11:14:45.619Z"
   },
   {
    "duration": 179,
    "start_time": "2021-11-01T11:16:13.032Z"
   },
   {
    "duration": 187,
    "start_time": "2021-11-01T11:16:19.246Z"
   },
   {
    "duration": 62,
    "start_time": "2021-11-01T11:16:57.235Z"
   },
   {
    "duration": 9,
    "start_time": "2021-11-01T11:16:57.299Z"
   },
   {
    "duration": 81,
    "start_time": "2021-11-01T11:16:57.310Z"
   },
   {
    "duration": 58,
    "start_time": "2021-11-01T11:16:57.394Z"
   },
   {
    "duration": 10,
    "start_time": "2021-11-01T11:16:57.454Z"
   },
   {
    "duration": 35,
    "start_time": "2021-11-01T11:16:57.466Z"
   },
   {
    "duration": 14,
    "start_time": "2021-11-01T11:16:57.503Z"
   },
   {
    "duration": 16,
    "start_time": "2021-11-01T11:16:57.519Z"
   },
   {
    "duration": 15,
    "start_time": "2021-11-01T11:16:57.537Z"
   },
   {
    "duration": 4,
    "start_time": "2021-11-01T11:16:57.553Z"
   },
   {
    "duration": 16,
    "start_time": "2021-11-01T11:16:57.592Z"
   },
   {
    "duration": 7,
    "start_time": "2021-11-01T11:16:57.610Z"
   },
   {
    "duration": 2461,
    "start_time": "2021-11-01T11:16:57.619Z"
   },
   {
    "duration": 14,
    "start_time": "2021-11-01T11:17:00.082Z"
   },
   {
    "duration": 21,
    "start_time": "2021-11-01T11:17:00.098Z"
   },
   {
    "duration": 7,
    "start_time": "2021-11-01T11:17:00.121Z"
   },
   {
    "duration": 13,
    "start_time": "2021-11-01T11:17:00.130Z"
   },
   {
    "duration": 7,
    "start_time": "2021-11-01T11:17:00.145Z"
   },
   {
    "duration": 14,
    "start_time": "2021-11-01T11:17:00.154Z"
   },
   {
    "duration": 30,
    "start_time": "2021-11-01T11:17:00.170Z"
   },
   {
    "duration": 23,
    "start_time": "2021-11-01T11:17:00.202Z"
   },
   {
    "duration": 6,
    "start_time": "2021-11-01T11:17:00.227Z"
   },
   {
    "duration": 16,
    "start_time": "2021-11-01T11:17:00.237Z"
   },
   {
    "duration": 21,
    "start_time": "2021-11-01T11:17:00.255Z"
   },
   {
    "duration": 186,
    "start_time": "2021-11-01T11:17:00.292Z"
   },
   {
    "duration": 124056,
    "start_time": "2021-11-01T11:14:56.424Z"
   },
   {
    "duration": 124050,
    "start_time": "2021-11-01T11:14:56.431Z"
   },
   {
    "duration": 124043,
    "start_time": "2021-11-01T11:14:56.439Z"
   },
   {
    "duration": 124034,
    "start_time": "2021-11-01T11:14:56.449Z"
   },
   {
    "duration": 9,
    "start_time": "2021-11-01T11:17:32.771Z"
   },
   {
    "duration": 12,
    "start_time": "2021-11-01T11:17:50.180Z"
   },
   {
    "duration": 182,
    "start_time": "2021-11-01T11:17:54.169Z"
   },
   {
    "duration": 184,
    "start_time": "2021-11-01T11:20:47.989Z"
   },
   {
    "duration": 187,
    "start_time": "2021-11-01T11:21:00.043Z"
   },
   {
    "duration": 192,
    "start_time": "2021-11-01T11:21:07.963Z"
   },
   {
    "duration": 194,
    "start_time": "2021-11-01T11:21:20.001Z"
   },
   {
    "duration": 6,
    "start_time": "2021-11-01T11:21:34.921Z"
   },
   {
    "duration": 167,
    "start_time": "2021-11-01T11:21:46.109Z"
   },
   {
    "duration": 181,
    "start_time": "2021-11-01T11:22:02.796Z"
   },
   {
    "duration": 184,
    "start_time": "2021-11-01T11:22:16.946Z"
   },
   {
    "duration": 21,
    "start_time": "2021-11-01T11:23:10.373Z"
   },
   {
    "duration": 11,
    "start_time": "2021-11-01T11:23:18.679Z"
   },
   {
    "duration": 185,
    "start_time": "2021-11-01T11:24:05.745Z"
   },
   {
    "duration": 173,
    "start_time": "2021-11-01T11:26:33.356Z"
   },
   {
    "duration": 185,
    "start_time": "2021-11-01T11:26:55.870Z"
   },
   {
    "duration": 181,
    "start_time": "2021-11-01T11:28:13.838Z"
   },
   {
    "duration": 63,
    "start_time": "2021-11-01T11:28:24.253Z"
   },
   {
    "duration": 8,
    "start_time": "2021-11-01T11:28:24.318Z"
   },
   {
    "duration": 87,
    "start_time": "2021-11-01T11:28:24.328Z"
   },
   {
    "duration": 75,
    "start_time": "2021-11-01T11:28:24.416Z"
   },
   {
    "duration": 12,
    "start_time": "2021-11-01T11:28:24.493Z"
   },
   {
    "duration": 12,
    "start_time": "2021-11-01T11:28:24.507Z"
   },
   {
    "duration": 19,
    "start_time": "2021-11-01T11:28:24.521Z"
   },
   {
    "duration": 57,
    "start_time": "2021-11-01T11:28:24.543Z"
   },
   {
    "duration": 20,
    "start_time": "2021-11-01T11:28:24.604Z"
   },
   {
    "duration": 3,
    "start_time": "2021-11-01T11:28:24.626Z"
   },
   {
    "duration": 17,
    "start_time": "2021-11-01T11:28:24.631Z"
   },
   {
    "duration": 5,
    "start_time": "2021-11-01T11:28:24.650Z"
   },
   {
    "duration": 2604,
    "start_time": "2021-11-01T11:28:24.656Z"
   },
   {
    "duration": 15,
    "start_time": "2021-11-01T11:28:27.263Z"
   },
   {
    "duration": 25,
    "start_time": "2021-11-01T11:28:27.280Z"
   },
   {
    "duration": 8,
    "start_time": "2021-11-01T11:28:27.307Z"
   },
   {
    "duration": 9,
    "start_time": "2021-11-01T11:28:27.316Z"
   },
   {
    "duration": 8,
    "start_time": "2021-11-01T11:28:27.326Z"
   },
   {
    "duration": 12,
    "start_time": "2021-11-01T11:28:27.336Z"
   },
   {
    "duration": 10,
    "start_time": "2021-11-01T11:28:27.349Z"
   },
   {
    "duration": 8,
    "start_time": "2021-11-01T11:28:27.392Z"
   },
   {
    "duration": 6,
    "start_time": "2021-11-01T11:28:27.402Z"
   },
   {
    "duration": 11,
    "start_time": "2021-11-01T11:28:27.410Z"
   },
   {
    "duration": 19,
    "start_time": "2021-11-01T11:28:27.423Z"
   },
   {
    "duration": 9,
    "start_time": "2021-11-01T11:28:27.443Z"
   },
   {
    "duration": 45,
    "start_time": "2021-11-01T11:28:27.453Z"
   },
   {
    "duration": 190,
    "start_time": "2021-11-01T11:28:27.500Z"
   },
   {
    "duration": 123973,
    "start_time": "2021-11-01T11:26:23.719Z"
   },
   {
    "duration": 123961,
    "start_time": "2021-11-01T11:26:23.733Z"
   },
   {
    "duration": 123951,
    "start_time": "2021-11-01T11:26:23.744Z"
   },
   {
    "duration": 180,
    "start_time": "2021-11-01T11:28:41.860Z"
   },
   {
    "duration": 23,
    "start_time": "2021-11-01T11:28:48.244Z"
   },
   {
    "duration": 203,
    "start_time": "2021-11-01T11:29:04.938Z"
   },
   {
    "duration": 9,
    "start_time": "2021-11-01T11:33:31.190Z"
   },
   {
    "duration": 9,
    "start_time": "2021-11-01T11:34:00.764Z"
   },
   {
    "duration": 9,
    "start_time": "2021-11-01T11:34:09.985Z"
   },
   {
    "duration": 65,
    "start_time": "2021-11-01T11:34:20.486Z"
   },
   {
    "duration": 9,
    "start_time": "2021-11-01T11:34:20.553Z"
   },
   {
    "duration": 78,
    "start_time": "2021-11-01T11:34:20.564Z"
   },
   {
    "duration": 73,
    "start_time": "2021-11-01T11:34:20.644Z"
   },
   {
    "duration": 12,
    "start_time": "2021-11-01T11:34:20.718Z"
   },
   {
    "duration": 12,
    "start_time": "2021-11-01T11:34:20.731Z"
   },
   {
    "duration": 17,
    "start_time": "2021-11-01T11:34:20.745Z"
   },
   {
    "duration": 18,
    "start_time": "2021-11-01T11:34:20.793Z"
   },
   {
    "duration": 15,
    "start_time": "2021-11-01T11:34:20.813Z"
   },
   {
    "duration": 4,
    "start_time": "2021-11-01T11:34:20.829Z"
   },
   {
    "duration": 21,
    "start_time": "2021-11-01T11:34:20.835Z"
   },
   {
    "duration": 34,
    "start_time": "2021-11-01T11:34:20.858Z"
   },
   {
    "duration": 2552,
    "start_time": "2021-11-01T11:34:20.894Z"
   },
   {
    "duration": 16,
    "start_time": "2021-11-01T11:34:23.448Z"
   },
   {
    "duration": 32,
    "start_time": "2021-11-01T11:34:23.466Z"
   },
   {
    "duration": 5,
    "start_time": "2021-11-01T11:34:23.500Z"
   },
   {
    "duration": 8,
    "start_time": "2021-11-01T11:34:23.507Z"
   },
   {
    "duration": 5,
    "start_time": "2021-11-01T11:34:23.517Z"
   },
   {
    "duration": 18,
    "start_time": "2021-11-01T11:34:23.524Z"
   },
   {
    "duration": 12,
    "start_time": "2021-11-01T11:34:23.543Z"
   },
   {
    "duration": 39,
    "start_time": "2021-11-01T11:34:23.556Z"
   },
   {
    "duration": 6,
    "start_time": "2021-11-01T11:34:23.598Z"
   },
   {
    "duration": 11,
    "start_time": "2021-11-01T11:34:23.606Z"
   },
   {
    "duration": 18,
    "start_time": "2021-11-01T11:34:23.619Z"
   },
   {
    "duration": 9,
    "start_time": "2021-11-01T11:34:23.639Z"
   },
   {
    "duration": 44,
    "start_time": "2021-11-01T11:34:23.649Z"
   },
   {
    "duration": 14,
    "start_time": "2021-11-01T11:34:23.694Z"
   },
   {
    "duration": 24,
    "start_time": "2021-11-01T11:34:23.710Z"
   },
   {
    "duration": 186,
    "start_time": "2021-11-01T11:34:23.735Z"
   },
   {
    "duration": 124006,
    "start_time": "2021-11-01T11:32:19.917Z"
   },
   {
    "duration": 9,
    "start_time": "2021-11-01T11:34:48.464Z"
   },
   {
    "duration": 9,
    "start_time": "2021-11-01T11:35:04.495Z"
   },
   {
    "duration": 72,
    "start_time": "2021-11-01T11:35:14.312Z"
   },
   {
    "duration": 10,
    "start_time": "2021-11-01T11:35:14.387Z"
   },
   {
    "duration": 64,
    "start_time": "2021-11-01T11:35:14.399Z"
   },
   {
    "duration": 89,
    "start_time": "2021-11-01T11:35:14.466Z"
   },
   {
    "duration": 11,
    "start_time": "2021-11-01T11:35:14.556Z"
   },
   {
    "duration": 35,
    "start_time": "2021-11-01T11:35:14.568Z"
   },
   {
    "duration": 14,
    "start_time": "2021-11-01T11:35:14.604Z"
   },
   {
    "duration": 17,
    "start_time": "2021-11-01T11:35:14.621Z"
   },
   {
    "duration": 16,
    "start_time": "2021-11-01T11:35:14.640Z"
   },
   {
    "duration": 4,
    "start_time": "2021-11-01T11:35:14.692Z"
   },
   {
    "duration": 25,
    "start_time": "2021-11-01T11:35:14.698Z"
   },
   {
    "duration": 12,
    "start_time": "2021-11-01T11:35:14.724Z"
   },
   {
    "duration": 2537,
    "start_time": "2021-11-01T11:35:14.737Z"
   },
   {
    "duration": 20,
    "start_time": "2021-11-01T11:35:17.276Z"
   },
   {
    "duration": 24,
    "start_time": "2021-11-01T11:35:17.298Z"
   },
   {
    "duration": 9,
    "start_time": "2021-11-01T11:35:17.324Z"
   },
   {
    "duration": 10,
    "start_time": "2021-11-01T11:35:17.335Z"
   },
   {
    "duration": 6,
    "start_time": "2021-11-01T11:35:17.347Z"
   },
   {
    "duration": 37,
    "start_time": "2021-11-01T11:35:17.354Z"
   },
   {
    "duration": 11,
    "start_time": "2021-11-01T11:35:17.393Z"
   },
   {
    "duration": 13,
    "start_time": "2021-11-01T11:35:17.405Z"
   },
   {
    "duration": 9,
    "start_time": "2021-11-01T11:35:17.420Z"
   },
   {
    "duration": 15,
    "start_time": "2021-11-01T11:35:17.432Z"
   },
   {
    "duration": 51,
    "start_time": "2021-11-01T11:35:17.449Z"
   },
   {
    "duration": 9,
    "start_time": "2021-11-01T11:35:17.502Z"
   },
   {
    "duration": 16,
    "start_time": "2021-11-01T11:35:17.513Z"
   },
   {
    "duration": 21,
    "start_time": "2021-11-01T11:35:17.531Z"
   },
   {
    "duration": 30,
    "start_time": "2021-11-01T11:35:17.554Z"
   },
   {
    "duration": 181,
    "start_time": "2021-11-01T11:35:17.591Z"
   },
   {
    "duration": 124046,
    "start_time": "2021-11-01T11:33:13.728Z"
   },
   {
    "duration": 6,
    "start_time": "2021-11-01T11:35:33.347Z"
   },
   {
    "duration": 14,
    "start_time": "2021-11-01T11:35:48.076Z"
   },
   {
    "duration": 19,
    "start_time": "2021-11-01T11:37:54.666Z"
   },
   {
    "duration": 20,
    "start_time": "2021-11-01T11:38:06.280Z"
   },
   {
    "duration": 183,
    "start_time": "2021-11-01T11:38:41.314Z"
   },
   {
    "duration": 189,
    "start_time": "2021-11-01T11:38:56.650Z"
   },
   {
    "duration": 10,
    "start_time": "2021-11-01T11:39:25.767Z"
   },
   {
    "duration": 17,
    "start_time": "2021-11-01T11:43:45.783Z"
   },
   {
    "duration": 23,
    "start_time": "2021-11-01T11:44:56.567Z"
   },
   {
    "duration": 17,
    "start_time": "2021-11-01T11:47:22.256Z"
   },
   {
    "duration": 23,
    "start_time": "2021-11-01T11:47:49.109Z"
   },
   {
    "duration": 195,
    "start_time": "2021-11-01T11:50:05.371Z"
   },
   {
    "duration": 9,
    "start_time": "2021-11-01T11:50:11.728Z"
   },
   {
    "duration": 8,
    "start_time": "2021-11-01T11:50:19.769Z"
   },
   {
    "duration": 8,
    "start_time": "2021-11-01T11:50:24.700Z"
   },
   {
    "duration": 7,
    "start_time": "2021-11-01T11:50:27.104Z"
   },
   {
    "duration": 8,
    "start_time": "2021-11-01T11:50:32.567Z"
   },
   {
    "duration": 65,
    "start_time": "2021-11-01T11:50:36.609Z"
   },
   {
    "duration": 8,
    "start_time": "2021-11-01T11:50:36.675Z"
   },
   {
    "duration": 65,
    "start_time": "2021-11-01T11:50:36.685Z"
   },
   {
    "duration": 59,
    "start_time": "2021-11-01T11:50:36.752Z"
   },
   {
    "duration": 9,
    "start_time": "2021-11-01T11:50:36.813Z"
   },
   {
    "duration": 23,
    "start_time": "2021-11-01T11:50:36.824Z"
   },
   {
    "duration": 16,
    "start_time": "2021-11-01T11:50:36.848Z"
   },
   {
    "duration": 36,
    "start_time": "2021-11-01T11:50:36.865Z"
   },
   {
    "duration": 14,
    "start_time": "2021-11-01T11:50:36.903Z"
   },
   {
    "duration": 8,
    "start_time": "2021-11-01T11:50:36.919Z"
   },
   {
    "duration": 25,
    "start_time": "2021-11-01T11:50:36.929Z"
   },
   {
    "duration": 6,
    "start_time": "2021-11-01T11:50:36.955Z"
   },
   {
    "duration": 2459,
    "start_time": "2021-11-01T11:50:36.962Z"
   },
   {
    "duration": 15,
    "start_time": "2021-11-01T11:50:39.423Z"
   },
   {
    "duration": 25,
    "start_time": "2021-11-01T11:50:39.440Z"
   },
   {
    "duration": 8,
    "start_time": "2021-11-01T11:50:39.466Z"
   },
   {
    "duration": 18,
    "start_time": "2021-11-01T11:50:39.476Z"
   },
   {
    "duration": 5,
    "start_time": "2021-11-01T11:50:39.496Z"
   },
   {
    "duration": 10,
    "start_time": "2021-11-01T11:50:39.502Z"
   },
   {
    "duration": 13,
    "start_time": "2021-11-01T11:50:39.514Z"
   },
   {
    "duration": 19,
    "start_time": "2021-11-01T11:50:39.529Z"
   },
   {
    "duration": 14,
    "start_time": "2021-11-01T11:50:39.550Z"
   },
   {
    "duration": 19,
    "start_time": "2021-11-01T11:50:39.566Z"
   },
   {
    "duration": 26,
    "start_time": "2021-11-01T11:50:39.587Z"
   },
   {
    "duration": 14,
    "start_time": "2021-11-01T11:50:39.615Z"
   },
   {
    "duration": 18,
    "start_time": "2021-11-01T11:50:39.631Z"
   },
   {
    "duration": 15,
    "start_time": "2021-11-01T11:50:39.653Z"
   },
   {
    "duration": 21,
    "start_time": "2021-11-01T11:50:39.670Z"
   },
   {
    "duration": 238,
    "start_time": "2021-11-01T11:50:39.693Z"
   },
   {
    "duration": 123789,
    "start_time": "2021-11-01T11:48:36.145Z"
   },
   {
    "duration": 123755,
    "start_time": "2021-11-01T11:48:36.180Z"
   },
   {
    "duration": 123743,
    "start_time": "2021-11-01T11:48:36.193Z"
   },
   {
    "duration": 123737,
    "start_time": "2021-11-01T11:48:36.201Z"
   },
   {
    "duration": 11,
    "start_time": "2021-11-01T11:50:57.084Z"
   },
   {
    "duration": 15,
    "start_time": "2021-11-01T11:51:00.735Z"
   },
   {
    "duration": 21,
    "start_time": "2021-11-01T11:51:06.339Z"
   },
   {
    "duration": 8,
    "start_time": "2021-11-01T11:51:09.116Z"
   },
   {
    "duration": 2435,
    "start_time": "2021-11-01T11:54:53.381Z"
   },
   {
    "duration": 16,
    "start_time": "2021-11-01T11:54:56.246Z"
   },
   {
    "duration": 2569,
    "start_time": "2021-11-01T11:55:03.914Z"
   },
   {
    "duration": 15,
    "start_time": "2021-11-01T11:55:14.531Z"
   },
   {
    "duration": 19,
    "start_time": "2021-11-01T11:57:41.778Z"
   },
   {
    "duration": 8,
    "start_time": "2021-11-01T11:58:29.033Z"
   },
   {
    "duration": 61,
    "start_time": "2021-11-01T12:10:29.823Z"
   },
   {
    "duration": 62,
    "start_time": "2021-11-01T12:10:58.327Z"
   },
   {
    "duration": 63,
    "start_time": "2021-11-01T12:16:38.165Z"
   },
   {
    "duration": 74,
    "start_time": "2021-11-01T12:23:25.268Z"
   },
   {
    "duration": 4384,
    "start_time": "2021-11-01T12:39:13.796Z"
   },
   {
    "duration": 186,
    "start_time": "2021-11-01T12:47:13.789Z"
   },
   {
    "duration": 183,
    "start_time": "2021-11-01T12:48:16.520Z"
   },
   {
    "duration": 194,
    "start_time": "2021-11-01T12:48:26.000Z"
   },
   {
    "duration": 75,
    "start_time": "2021-11-01T12:54:34.093Z"
   },
   {
    "duration": 57,
    "start_time": "2021-11-01T12:54:43.088Z"
   },
   {
    "duration": 62,
    "start_time": "2021-11-01T12:55:32.071Z"
   },
   {
    "duration": 178,
    "start_time": "2021-11-01T12:57:14.678Z"
   },
   {
    "duration": 1067,
    "start_time": "2021-11-02T07:24:01.047Z"
   },
   {
    "duration": 11,
    "start_time": "2021-11-02T07:24:02.117Z"
   },
   {
    "duration": 120,
    "start_time": "2021-11-02T07:24:02.131Z"
   },
   {
    "duration": 102,
    "start_time": "2021-11-02T07:24:02.253Z"
   },
   {
    "duration": 14,
    "start_time": "2021-11-02T07:24:02.358Z"
   },
   {
    "duration": 47,
    "start_time": "2021-11-02T07:24:02.375Z"
   },
   {
    "duration": 23,
    "start_time": "2021-11-02T07:24:02.424Z"
   },
   {
    "duration": 27,
    "start_time": "2021-11-02T07:24:02.450Z"
   },
   {
    "duration": 64,
    "start_time": "2021-11-02T07:24:02.482Z"
   },
   {
    "duration": 6,
    "start_time": "2021-11-02T07:24:02.549Z"
   },
   {
    "duration": 23,
    "start_time": "2021-11-02T07:24:02.558Z"
   },
   {
    "duration": 14,
    "start_time": "2021-11-02T07:24:02.583Z"
   },
   {
    "duration": 3347,
    "start_time": "2021-11-02T07:24:02.623Z"
   },
   {
    "duration": 21,
    "start_time": "2021-11-02T07:24:05.972Z"
   },
   {
    "duration": 51,
    "start_time": "2021-11-02T07:24:05.997Z"
   },
   {
    "duration": 18,
    "start_time": "2021-11-02T07:24:06.051Z"
   },
   {
    "duration": 13,
    "start_time": "2021-11-02T07:24:06.072Z"
   },
   {
    "duration": 37,
    "start_time": "2021-11-02T07:24:06.088Z"
   },
   {
    "duration": 14,
    "start_time": "2021-11-02T07:24:06.128Z"
   },
   {
    "duration": 682,
    "start_time": "2021-11-02T07:24:06.145Z"
   },
   {
    "duration": -15921,
    "start_time": "2021-11-02T07:24:22.751Z"
   },
   {
    "duration": -15922,
    "start_time": "2021-11-02T07:24:22.754Z"
   },
   {
    "duration": -15922,
    "start_time": "2021-11-02T07:24:22.756Z"
   },
   {
    "duration": -15925,
    "start_time": "2021-11-02T07:24:22.761Z"
   },
   {
    "duration": -15926,
    "start_time": "2021-11-02T07:24:22.764Z"
   },
   {
    "duration": -15926,
    "start_time": "2021-11-02T07:24:22.767Z"
   },
   {
    "duration": -15926,
    "start_time": "2021-11-02T07:24:22.770Z"
   },
   {
    "duration": -15927,
    "start_time": "2021-11-02T07:24:22.773Z"
   },
   {
    "duration": 32,
    "start_time": "2021-11-02T07:26:57.604Z"
   },
   {
    "duration": 347,
    "start_time": "2021-11-02T07:26:58.912Z"
   },
   {
    "duration": -16452,
    "start_time": "2021-11-02T07:27:15.713Z"
   },
   {
    "duration": 26,
    "start_time": "2021-11-02T07:26:59.361Z"
   },
   {
    "duration": 34,
    "start_time": "2021-11-02T07:26:59.566Z"
   },
   {
    "duration": 13,
    "start_time": "2021-11-02T07:27:00.252Z"
   },
   {
    "duration": 32,
    "start_time": "2021-11-02T07:27:00.444Z"
   },
   {
    "duration": 12,
    "start_time": "2021-11-02T07:27:00.655Z"
   },
   {
    "duration": 15,
    "start_time": "2021-11-02T07:27:48.514Z"
   },
   {
    "duration": 24,
    "start_time": "2021-11-02T07:27:50.025Z"
   },
   {
    "duration": 46,
    "start_time": "2021-11-02T07:27:57.712Z"
   },
   {
    "duration": 16,
    "start_time": "2021-11-02T07:27:58.245Z"
   },
   {
    "duration": 45,
    "start_time": "2021-11-02T07:27:58.762Z"
   },
   {
    "duration": 13,
    "start_time": "2021-11-02T07:27:59.436Z"
   },
   {
    "duration": 7218,
    "start_time": "2021-11-02T07:29:54.571Z"
   },
   {
    "duration": -17065,
    "start_time": "2021-11-02T07:30:32.818Z"
   },
   {
    "duration": 31,
    "start_time": "2021-11-02T07:31:41.297Z"
   },
   {
    "duration": 321,
    "start_time": "2021-11-02T07:31:53.232Z"
   },
   {
    "duration": 300,
    "start_time": "2021-11-02T07:31:59.036Z"
   },
   {
    "duration": 319,
    "start_time": "2021-11-02T07:32:38.601Z"
   },
   {
    "duration": 34,
    "start_time": "2021-11-02T07:34:36.691Z"
   },
   {
    "duration": 579,
    "start_time": "2021-11-02T07:37:22.670Z"
   },
   {
    "duration": 4176,
    "start_time": "2021-11-02T07:37:52.107Z"
   },
   {
    "duration": 929,
    "start_time": "2021-11-02T09:28:22.632Z"
   },
   {
    "duration": 12,
    "start_time": "2021-11-02T09:28:23.564Z"
   },
   {
    "duration": 117,
    "start_time": "2021-11-02T09:28:23.580Z"
   },
   {
    "duration": 98,
    "start_time": "2021-11-02T09:28:23.701Z"
   },
   {
    "duration": 26,
    "start_time": "2021-11-02T09:28:23.801Z"
   },
   {
    "duration": 18,
    "start_time": "2021-11-02T09:28:23.830Z"
   },
   {
    "duration": 21,
    "start_time": "2021-11-02T09:28:23.851Z"
   },
   {
    "duration": 62,
    "start_time": "2021-11-02T09:28:23.877Z"
   },
   {
    "duration": 21,
    "start_time": "2021-11-02T09:28:23.942Z"
   },
   {
    "duration": 6,
    "start_time": "2021-11-02T09:28:23.966Z"
   },
   {
    "duration": 52,
    "start_time": "2021-11-02T09:28:23.974Z"
   },
   {
    "duration": 15,
    "start_time": "2021-11-02T09:28:24.028Z"
   },
   {
    "duration": 3532,
    "start_time": "2021-11-02T09:28:24.045Z"
   },
   {
    "duration": 21,
    "start_time": "2021-11-02T09:28:27.580Z"
   },
   {
    "duration": 352,
    "start_time": "2021-11-02T09:28:27.603Z"
   },
   {
    "duration": 26,
    "start_time": "2021-11-02T09:28:27.958Z"
   },
   {
    "duration": 35,
    "start_time": "2021-11-02T09:28:27.987Z"
   },
   {
    "duration": 12,
    "start_time": "2021-11-02T09:28:28.026Z"
   },
   {
    "duration": 463,
    "start_time": "2021-11-02T09:28:28.041Z"
   },
   {
    "duration": 126043,
    "start_time": "2021-11-02T09:26:22.464Z"
   },
   {
    "duration": 126028,
    "start_time": "2021-11-02T09:26:22.480Z"
   },
   {
    "duration": 126018,
    "start_time": "2021-11-02T09:26:22.492Z"
   },
   {
    "duration": 126007,
    "start_time": "2021-11-02T09:26:22.504Z"
   },
   {
    "duration": 125995,
    "start_time": "2021-11-02T09:26:22.517Z"
   },
   {
    "duration": 125962,
    "start_time": "2021-11-02T09:26:22.552Z"
   },
   {
    "duration": 125948,
    "start_time": "2021-11-02T09:26:22.567Z"
   },
   {
    "duration": 125937,
    "start_time": "2021-11-02T09:26:22.580Z"
   },
   {
    "duration": 6,
    "start_time": "2021-11-02T09:34:45.152Z"
   },
   {
    "duration": 5,
    "start_time": "2021-11-02T09:34:56.773Z"
   },
   {
    "duration": 6,
    "start_time": "2021-11-02T09:38:55.309Z"
   },
   {
    "duration": 8,
    "start_time": "2021-11-02T09:39:13.754Z"
   },
   {
    "duration": 96,
    "start_time": "2021-11-02T09:41:54.897Z"
   },
   {
    "duration": 10,
    "start_time": "2021-11-02T09:41:54.996Z"
   },
   {
    "duration": 104,
    "start_time": "2021-11-02T09:41:55.028Z"
   },
   {
    "duration": 110,
    "start_time": "2021-11-02T09:41:55.135Z"
   },
   {
    "duration": 14,
    "start_time": "2021-11-02T09:41:55.248Z"
   },
   {
    "duration": 18,
    "start_time": "2021-11-02T09:41:55.265Z"
   },
   {
    "duration": 62,
    "start_time": "2021-11-02T09:41:55.287Z"
   },
   {
    "duration": 27,
    "start_time": "2021-11-02T09:41:55.352Z"
   },
   {
    "duration": 60,
    "start_time": "2021-11-02T09:41:55.381Z"
   },
   {
    "duration": 6,
    "start_time": "2021-11-02T09:41:55.443Z"
   },
   {
    "duration": 30,
    "start_time": "2021-11-02T09:41:55.451Z"
   },
   {
    "duration": 42,
    "start_time": "2021-11-02T09:41:55.484Z"
   },
   {
    "duration": 8,
    "start_time": "2021-11-02T09:41:55.529Z"
   },
   {
    "duration": 9,
    "start_time": "2021-11-02T09:41:55.540Z"
   },
   {
    "duration": 3663,
    "start_time": "2021-11-02T09:41:55.552Z"
   },
   {
    "duration": 28,
    "start_time": "2021-11-02T09:41:59.218Z"
   },
   {
    "duration": 30,
    "start_time": "2021-11-02T09:41:59.249Z"
   },
   {
    "duration": 47,
    "start_time": "2021-11-02T09:41:59.284Z"
   },
   {
    "duration": 14,
    "start_time": "2021-11-02T09:41:59.335Z"
   },
   {
    "duration": 14,
    "start_time": "2021-11-02T09:41:59.351Z"
   },
   {
    "duration": 307,
    "start_time": "2021-11-02T09:41:59.368Z"
   },
   {
    "duration": 126036,
    "start_time": "2021-11-02T09:39:53.642Z"
   },
   {
    "duration": 126022,
    "start_time": "2021-11-02T09:39:53.657Z"
   },
   {
    "duration": 126010,
    "start_time": "2021-11-02T09:39:53.671Z"
   },
   {
    "duration": 125994,
    "start_time": "2021-11-02T09:39:53.688Z"
   },
   {
    "duration": 125985,
    "start_time": "2021-11-02T09:39:53.699Z"
   },
   {
    "duration": 125923,
    "start_time": "2021-11-02T09:39:53.762Z"
   },
   {
    "duration": 125912,
    "start_time": "2021-11-02T09:39:53.775Z"
   },
   {
    "duration": 125822,
    "start_time": "2021-11-02T09:39:53.866Z"
   },
   {
    "duration": 11,
    "start_time": "2021-11-02T09:43:35.003Z"
   },
   {
    "duration": 11,
    "start_time": "2021-11-02T09:44:11.457Z"
   },
   {
    "duration": 299,
    "start_time": "2021-11-02T09:46:36.008Z"
   },
   {
    "duration": 311,
    "start_time": "2021-11-02T09:47:59.894Z"
   },
   {
    "duration": 515,
    "start_time": "2021-11-02T09:49:30.634Z"
   },
   {
    "duration": 312,
    "start_time": "2021-11-02T09:50:08.428Z"
   },
   {
    "duration": 9,
    "start_time": "2021-11-02T09:50:17.379Z"
   },
   {
    "duration": 9,
    "start_time": "2021-11-02T09:52:30.306Z"
   },
   {
    "duration": 14,
    "start_time": "2021-11-02T09:52:38.168Z"
   },
   {
    "duration": 14,
    "start_time": "2021-11-02T09:53:02.884Z"
   },
   {
    "duration": 7,
    "start_time": "2021-11-02T09:55:07.331Z"
   },
   {
    "duration": 7,
    "start_time": "2021-11-02T09:55:16.392Z"
   },
   {
    "duration": 15,
    "start_time": "2021-11-02T09:55:52.090Z"
   },
   {
    "duration": 1623,
    "start_time": "2021-11-02T09:56:34.953Z"
   },
   {
    "duration": 1259,
    "start_time": "2021-11-02T09:56:40.326Z"
   },
   {
    "duration": 13,
    "start_time": "2021-11-02T09:58:51.459Z"
   },
   {
    "duration": 1744,
    "start_time": "2021-11-02T09:59:17.581Z"
   },
   {
    "duration": 90,
    "start_time": "2021-11-02T09:59:38.968Z"
   },
   {
    "duration": 12,
    "start_time": "2021-11-02T09:59:39.061Z"
   },
   {
    "duration": 120,
    "start_time": "2021-11-02T09:59:39.075Z"
   },
   {
    "duration": 104,
    "start_time": "2021-11-02T09:59:39.198Z"
   },
   {
    "duration": 27,
    "start_time": "2021-11-02T09:59:39.304Z"
   },
   {
    "duration": 22,
    "start_time": "2021-11-02T09:59:39.333Z"
   },
   {
    "duration": 20,
    "start_time": "2021-11-02T09:59:39.358Z"
   },
   {
    "duration": 26,
    "start_time": "2021-11-02T09:59:39.423Z"
   },
   {
    "duration": 24,
    "start_time": "2021-11-02T09:59:39.452Z"
   },
   {
    "duration": 44,
    "start_time": "2021-11-02T09:59:39.479Z"
   },
   {
    "duration": 28,
    "start_time": "2021-11-02T09:59:39.526Z"
   },
   {
    "duration": 12,
    "start_time": "2021-11-02T09:59:39.557Z"
   },
   {
    "duration": 7,
    "start_time": "2021-11-02T09:59:39.571Z"
   },
   {
    "duration": 45,
    "start_time": "2021-11-02T09:59:39.581Z"
   },
   {
    "duration": 3412,
    "start_time": "2021-11-02T09:59:39.628Z"
   },
   {
    "duration": 20,
    "start_time": "2021-11-02T09:59:43.043Z"
   },
   {
    "duration": 33,
    "start_time": "2021-11-02T09:59:43.065Z"
   },
   {
    "duration": 14,
    "start_time": "2021-11-02T09:59:43.121Z"
   },
   {
    "duration": 22,
    "start_time": "2021-11-02T09:59:43.139Z"
   },
   {
    "duration": 17,
    "start_time": "2021-11-02T09:59:43.167Z"
   },
   {
    "duration": 36,
    "start_time": "2021-11-02T09:59:43.188Z"
   },
   {
    "duration": 308,
    "start_time": "2021-11-02T09:59:43.227Z"
   },
   {
    "duration": 125668,
    "start_time": "2021-11-02T09:57:37.871Z"
   },
   {
    "duration": 125654,
    "start_time": "2021-11-02T09:57:37.887Z"
   },
   {
    "duration": 125615,
    "start_time": "2021-11-02T09:57:37.928Z"
   },
   {
    "duration": 125600,
    "start_time": "2021-11-02T09:57:37.946Z"
   },
   {
    "duration": 125585,
    "start_time": "2021-11-02T09:57:37.963Z"
   },
   {
    "duration": 125545,
    "start_time": "2021-11-02T09:57:38.005Z"
   },
   {
    "duration": 125432,
    "start_time": "2021-11-02T09:57:38.120Z"
   },
   {
    "duration": 125362,
    "start_time": "2021-11-02T09:57:38.193Z"
   },
   {
    "duration": 8,
    "start_time": "2021-11-02T10:00:27.402Z"
   },
   {
    "duration": 10,
    "start_time": "2021-11-02T10:02:07.388Z"
   },
   {
    "duration": 14,
    "start_time": "2021-11-02T10:02:22.743Z"
   },
   {
    "duration": 18,
    "start_time": "2021-11-02T10:02:44.798Z"
   },
   {
    "duration": 117,
    "start_time": "2021-11-02T10:08:30.729Z"
   },
   {
    "duration": 91,
    "start_time": "2021-11-02T10:15:03.873Z"
   },
   {
    "duration": 12,
    "start_time": "2021-11-02T10:15:03.967Z"
   },
   {
    "duration": 121,
    "start_time": "2021-11-02T10:15:03.982Z"
   },
   {
    "duration": 99,
    "start_time": "2021-11-02T10:15:04.106Z"
   },
   {
    "duration": 15,
    "start_time": "2021-11-02T10:15:04.223Z"
   },
   {
    "duration": 19,
    "start_time": "2021-11-02T10:15:04.240Z"
   },
   {
    "duration": 22,
    "start_time": "2021-11-02T10:15:04.261Z"
   },
   {
    "duration": 58,
    "start_time": "2021-11-02T10:15:04.287Z"
   },
   {
    "duration": 23,
    "start_time": "2021-11-02T10:15:04.348Z"
   },
   {
    "duration": 7,
    "start_time": "2021-11-02T10:15:04.374Z"
   },
   {
    "duration": 22,
    "start_time": "2021-11-02T10:15:04.422Z"
   },
   {
    "duration": 8,
    "start_time": "2021-11-02T10:15:04.447Z"
   },
   {
    "duration": 4,
    "start_time": "2021-11-02T10:15:04.458Z"
   },
   {
    "duration": 11,
    "start_time": "2021-11-02T10:15:04.465Z"
   },
   {
    "duration": 3425,
    "start_time": "2021-11-02T10:15:04.478Z"
   },
   {
    "duration": 25,
    "start_time": "2021-11-02T10:15:07.905Z"
   },
   {
    "duration": 35,
    "start_time": "2021-11-02T10:15:07.932Z"
   },
   {
    "duration": 14,
    "start_time": "2021-11-02T10:15:07.969Z"
   },
   {
    "duration": 51,
    "start_time": "2021-11-02T10:15:07.985Z"
   },
   {
    "duration": 17,
    "start_time": "2021-11-02T10:15:08.039Z"
   },
   {
    "duration": 9,
    "start_time": "2021-11-02T10:15:08.059Z"
   },
   {
    "duration": 15,
    "start_time": "2021-11-02T10:15:08.070Z"
   },
   {
    "duration": 15,
    "start_time": "2021-11-02T10:15:08.126Z"
   },
   {
    "duration": 316,
    "start_time": "2021-11-02T10:15:08.144Z"
   },
   {
    "duration": 125842,
    "start_time": "2021-11-02T10:13:02.621Z"
   },
   {
    "duration": 125826,
    "start_time": "2021-11-02T10:13:02.639Z"
   },
   {
    "duration": 125745,
    "start_time": "2021-11-02T10:13:02.722Z"
   },
   {
    "duration": 125731,
    "start_time": "2021-11-02T10:13:02.738Z"
   },
   {
    "duration": 125717,
    "start_time": "2021-11-02T10:13:02.754Z"
   },
   {
    "duration": 125699,
    "start_time": "2021-11-02T10:13:02.773Z"
   },
   {
    "duration": 125687,
    "start_time": "2021-11-02T10:13:02.787Z"
   },
   {
    "duration": 125674,
    "start_time": "2021-11-02T10:13:02.802Z"
   },
   {
    "duration": 20,
    "start_time": "2021-11-02T10:16:25.756Z"
   },
   {
    "duration": 16,
    "start_time": "2021-11-02T10:17:08.659Z"
   },
   {
    "duration": 14,
    "start_time": "2021-11-02T10:17:13.943Z"
   },
   {
    "duration": 92,
    "start_time": "2021-11-02T10:17:17.630Z"
   },
   {
    "duration": 15,
    "start_time": "2021-11-02T10:17:17.725Z"
   },
   {
    "duration": 113,
    "start_time": "2021-11-02T10:17:17.743Z"
   },
   {
    "duration": 106,
    "start_time": "2021-11-02T10:17:17.859Z"
   },
   {
    "duration": 14,
    "start_time": "2021-11-02T10:17:17.968Z"
   },
   {
    "duration": 47,
    "start_time": "2021-11-02T10:17:17.985Z"
   },
   {
    "duration": 30,
    "start_time": "2021-11-02T10:17:18.037Z"
   },
   {
    "duration": 52,
    "start_time": "2021-11-02T10:17:18.070Z"
   },
   {
    "duration": 24,
    "start_time": "2021-11-02T10:17:18.125Z"
   },
   {
    "duration": 5,
    "start_time": "2021-11-02T10:17:18.152Z"
   },
   {
    "duration": 22,
    "start_time": "2021-11-02T10:17:18.160Z"
   },
   {
    "duration": 38,
    "start_time": "2021-11-02T10:17:18.185Z"
   },
   {
    "duration": 7,
    "start_time": "2021-11-02T10:17:18.226Z"
   },
   {
    "duration": 10,
    "start_time": "2021-11-02T10:17:18.236Z"
   },
   {
    "duration": 3669,
    "start_time": "2021-11-02T10:17:18.249Z"
   },
   {
    "duration": 34,
    "start_time": "2021-11-02T10:17:21.923Z"
   },
   {
    "duration": 33,
    "start_time": "2021-11-02T10:17:21.960Z"
   },
   {
    "duration": 37,
    "start_time": "2021-11-02T10:17:21.996Z"
   },
   {
    "duration": 22,
    "start_time": "2021-11-02T10:17:22.036Z"
   },
   {
    "duration": 16,
    "start_time": "2021-11-02T10:17:22.060Z"
   },
   {
    "duration": 26,
    "start_time": "2021-11-02T10:17:22.078Z"
   },
   {
    "duration": 31,
    "start_time": "2021-11-02T10:17:22.106Z"
   },
   {
    "duration": 21,
    "start_time": "2021-11-02T10:17:22.140Z"
   },
   {
    "duration": 314,
    "start_time": "2021-11-02T10:17:22.163Z"
   },
   {
    "duration": 125941,
    "start_time": "2021-11-02T10:15:16.539Z"
   },
   {
    "duration": 125930,
    "start_time": "2021-11-02T10:15:16.552Z"
   },
   {
    "duration": 125923,
    "start_time": "2021-11-02T10:15:16.561Z"
   },
   {
    "duration": 125912,
    "start_time": "2021-11-02T10:15:16.573Z"
   },
   {
    "duration": 125903,
    "start_time": "2021-11-02T10:15:16.583Z"
   },
   {
    "duration": 125853,
    "start_time": "2021-11-02T10:15:16.635Z"
   },
   {
    "duration": 125845,
    "start_time": "2021-11-02T10:15:16.644Z"
   },
   {
    "duration": 125832,
    "start_time": "2021-11-02T10:15:16.658Z"
   },
   {
    "duration": 31,
    "start_time": "2021-11-02T10:18:09.481Z"
   },
   {
    "duration": 812,
    "start_time": "2021-11-02T10:18:15.031Z"
   },
   {
    "duration": 17,
    "start_time": "2021-11-02T10:18:21.775Z"
   },
   {
    "duration": 26,
    "start_time": "2021-11-02T10:18:24.335Z"
   },
   {
    "duration": 47,
    "start_time": "2021-11-02T10:18:27.484Z"
   },
   {
    "duration": 16,
    "start_time": "2021-11-02T10:18:30.087Z"
   },
   {
    "duration": 41,
    "start_time": "2021-11-02T10:18:32.712Z"
   },
   {
    "duration": 16,
    "start_time": "2021-11-02T10:18:35.597Z"
   },
   {
    "duration": 10,
    "start_time": "2021-11-02T10:20:30.592Z"
   },
   {
    "duration": 27,
    "start_time": "2021-11-02T10:21:35.126Z"
   },
   {
    "duration": 28,
    "start_time": "2021-11-02T10:21:47.307Z"
   },
   {
    "duration": 15,
    "start_time": "2021-11-02T10:21:58.024Z"
   },
   {
    "duration": 95,
    "start_time": "2021-11-02T10:22:11.906Z"
   },
   {
    "duration": 31,
    "start_time": "2021-11-02T10:22:12.004Z"
   },
   {
    "duration": 120,
    "start_time": "2021-11-02T10:22:12.039Z"
   },
   {
    "duration": 112,
    "start_time": "2021-11-02T10:22:12.162Z"
   },
   {
    "duration": 16,
    "start_time": "2021-11-02T10:22:12.276Z"
   },
   {
    "duration": 40,
    "start_time": "2021-11-02T10:22:12.294Z"
   },
   {
    "duration": 22,
    "start_time": "2021-11-02T10:22:12.337Z"
   },
   {
    "duration": 27,
    "start_time": "2021-11-02T10:22:12.363Z"
   },
   {
    "duration": 27,
    "start_time": "2021-11-02T10:22:12.422Z"
   },
   {
    "duration": 7,
    "start_time": "2021-11-02T10:22:12.452Z"
   },
   {
    "duration": 66,
    "start_time": "2021-11-02T10:22:12.462Z"
   },
   {
    "duration": 7,
    "start_time": "2021-11-02T10:22:12.530Z"
   },
   {
    "duration": 7,
    "start_time": "2021-11-02T10:22:12.539Z"
   },
   {
    "duration": 19,
    "start_time": "2021-11-02T10:22:12.548Z"
   },
   {
    "duration": 3488,
    "start_time": "2021-11-02T10:22:12.570Z"
   },
   {
    "duration": 22,
    "start_time": "2021-11-02T10:22:16.061Z"
   },
   {
    "duration": 52,
    "start_time": "2021-11-02T10:22:16.086Z"
   },
   {
    "duration": 14,
    "start_time": "2021-11-02T10:22:16.141Z"
   },
   {
    "duration": 12,
    "start_time": "2021-11-02T10:22:16.157Z"
   },
   {
    "duration": 16,
    "start_time": "2021-11-02T10:22:16.171Z"
   },
   {
    "duration": 11,
    "start_time": "2021-11-02T10:22:16.223Z"
   },
   {
    "duration": 16,
    "start_time": "2021-11-02T10:22:16.237Z"
   },
   {
    "duration": 17,
    "start_time": "2021-11-02T10:22:16.258Z"
   },
   {
    "duration": 1817,
    "start_time": "2021-11-02T10:22:16.278Z"
   },
   {
    "duration": 125303,
    "start_time": "2021-11-02T10:20:12.794Z"
   },
   {
    "duration": 125260,
    "start_time": "2021-11-02T10:20:12.839Z"
   },
   {
    "duration": 125249,
    "start_time": "2021-11-02T10:20:12.852Z"
   },
   {
    "duration": 125240,
    "start_time": "2021-11-02T10:20:12.863Z"
   },
   {
    "duration": 125230,
    "start_time": "2021-11-02T10:20:12.875Z"
   },
   {
    "duration": 125222,
    "start_time": "2021-11-02T10:20:12.885Z"
   },
   {
    "duration": 125215,
    "start_time": "2021-11-02T10:20:12.894Z"
   },
   {
    "duration": 125202,
    "start_time": "2021-11-02T10:20:12.909Z"
   },
   {
    "duration": 125133,
    "start_time": "2021-11-02T10:20:12.980Z"
   },
   {
    "duration": 9,
    "start_time": "2021-11-02T10:23:10.492Z"
   },
   {
    "duration": 87,
    "start_time": "2021-11-02T10:23:25.430Z"
   },
   {
    "duration": 12,
    "start_time": "2021-11-02T10:23:25.519Z"
   },
   {
    "duration": 113,
    "start_time": "2021-11-02T10:23:25.534Z"
   },
   {
    "duration": 101,
    "start_time": "2021-11-02T10:23:25.650Z"
   },
   {
    "duration": 14,
    "start_time": "2021-11-02T10:23:25.754Z"
   },
   {
    "duration": 21,
    "start_time": "2021-11-02T10:23:25.770Z"
   },
   {
    "duration": 48,
    "start_time": "2021-11-02T10:23:25.793Z"
   },
   {
    "duration": 25,
    "start_time": "2021-11-02T10:23:25.845Z"
   },
   {
    "duration": 55,
    "start_time": "2021-11-02T10:23:25.873Z"
   },
   {
    "duration": 5,
    "start_time": "2021-11-02T10:23:25.931Z"
   },
   {
    "duration": 38,
    "start_time": "2021-11-02T10:23:25.938Z"
   },
   {
    "duration": 9,
    "start_time": "2021-11-02T10:23:25.979Z"
   },
   {
    "duration": 15,
    "start_time": "2021-11-02T10:23:26.021Z"
   },
   {
    "duration": 13,
    "start_time": "2021-11-02T10:23:26.039Z"
   },
   {
    "duration": 3361,
    "start_time": "2021-11-02T10:23:26.055Z"
   },
   {
    "duration": 21,
    "start_time": "2021-11-02T10:23:29.419Z"
   },
   {
    "duration": 34,
    "start_time": "2021-11-02T10:23:29.443Z"
   },
   {
    "duration": 7,
    "start_time": "2021-11-02T10:23:29.480Z"
   },
   {
    "duration": 42,
    "start_time": "2021-11-02T10:23:29.489Z"
   },
   {
    "duration": 16,
    "start_time": "2021-11-02T10:23:29.534Z"
   },
   {
    "duration": 1199,
    "start_time": "2021-11-02T10:23:29.553Z"
   },
   {
    "duration": 126067,
    "start_time": "2021-11-02T10:21:24.692Z"
   },
   {
    "duration": 126059,
    "start_time": "2021-11-02T10:21:24.702Z"
   },
   {
    "duration": 126045,
    "start_time": "2021-11-02T10:21:24.717Z"
   },
   {
    "duration": 126035,
    "start_time": "2021-11-02T10:21:24.729Z"
   },
   {
    "duration": 126027,
    "start_time": "2021-11-02T10:21:24.738Z"
   },
   {
    "duration": 126016,
    "start_time": "2021-11-02T10:21:24.751Z"
   },
   {
    "duration": 126006,
    "start_time": "2021-11-02T10:21:24.762Z"
   },
   {
    "duration": 125967,
    "start_time": "2021-11-02T10:21:24.802Z"
   },
   {
    "duration": 125957,
    "start_time": "2021-11-02T10:21:24.814Z"
   },
   {
    "duration": 125947,
    "start_time": "2021-11-02T10:21:24.826Z"
   },
   {
    "duration": 125937,
    "start_time": "2021-11-02T10:21:24.837Z"
   },
   {
    "duration": 125927,
    "start_time": "2021-11-02T10:21:24.849Z"
   },
   {
    "duration": 125911,
    "start_time": "2021-11-02T10:21:24.866Z"
   },
   {
    "duration": 9,
    "start_time": "2021-11-02T10:24:20.845Z"
   },
   {
    "duration": 9,
    "start_time": "2021-11-02T10:24:59.771Z"
   },
   {
    "duration": 29,
    "start_time": "2021-11-02T10:25:26.473Z"
   },
   {
    "duration": 90,
    "start_time": "2021-11-02T10:25:32.926Z"
   },
   {
    "duration": 12,
    "start_time": "2021-11-02T10:25:33.022Z"
   },
   {
    "duration": 125,
    "start_time": "2021-11-02T10:25:33.037Z"
   },
   {
    "duration": 106,
    "start_time": "2021-11-02T10:25:33.164Z"
   },
   {
    "duration": 13,
    "start_time": "2021-11-02T10:25:33.273Z"
   },
   {
    "duration": 42,
    "start_time": "2021-11-02T10:25:33.288Z"
   },
   {
    "duration": 21,
    "start_time": "2021-11-02T10:25:33.333Z"
   },
   {
    "duration": 27,
    "start_time": "2021-11-02T10:25:33.357Z"
   },
   {
    "duration": 57,
    "start_time": "2021-11-02T10:25:33.388Z"
   },
   {
    "duration": 7,
    "start_time": "2021-11-02T10:25:33.448Z"
   },
   {
    "duration": 65,
    "start_time": "2021-11-02T10:25:33.458Z"
   },
   {
    "duration": 7,
    "start_time": "2021-11-02T10:25:33.526Z"
   },
   {
    "duration": 8,
    "start_time": "2021-11-02T10:25:33.536Z"
   },
   {
    "duration": 20,
    "start_time": "2021-11-02T10:25:33.546Z"
   },
   {
    "duration": 3676,
    "start_time": "2021-11-02T10:25:33.568Z"
   },
   {
    "duration": 21,
    "start_time": "2021-11-02T10:25:37.247Z"
   },
   {
    "duration": 53,
    "start_time": "2021-11-02T10:25:37.271Z"
   },
   {
    "duration": 9,
    "start_time": "2021-11-02T10:25:37.326Z"
   },
   {
    "duration": 13,
    "start_time": "2021-11-02T10:25:37.338Z"
   },
   {
    "duration": 9,
    "start_time": "2021-11-02T10:25:37.354Z"
   },
   {
    "duration": 58,
    "start_time": "2021-11-02T10:25:37.366Z"
   },
   {
    "duration": 1123,
    "start_time": "2021-11-02T10:25:37.427Z"
   },
   {
    "duration": 126078,
    "start_time": "2021-11-02T10:23:32.475Z"
   },
   {
    "duration": 126067,
    "start_time": "2021-11-02T10:23:32.488Z"
   },
   {
    "duration": 126054,
    "start_time": "2021-11-02T10:23:32.502Z"
   },
   {
    "duration": 126024,
    "start_time": "2021-11-02T10:23:32.534Z"
   },
   {
    "duration": 125979,
    "start_time": "2021-11-02T10:23:32.580Z"
   },
   {
    "duration": 125901,
    "start_time": "2021-11-02T10:23:32.660Z"
   },
   {
    "duration": 125860,
    "start_time": "2021-11-02T10:23:32.702Z"
   },
   {
    "duration": 125801,
    "start_time": "2021-11-02T10:23:32.762Z"
   },
   {
    "duration": 125780,
    "start_time": "2021-11-02T10:23:32.786Z"
   },
   {
    "duration": 125766,
    "start_time": "2021-11-02T10:23:32.801Z"
   },
   {
    "duration": 125756,
    "start_time": "2021-11-02T10:23:32.812Z"
   },
   {
    "duration": 125747,
    "start_time": "2021-11-02T10:23:32.823Z"
   },
   {
    "duration": 125739,
    "start_time": "2021-11-02T10:23:32.833Z"
   },
   {
    "duration": 31,
    "start_time": "2021-11-02T10:25:50.054Z"
   },
   {
    "duration": 9,
    "start_time": "2021-11-02T10:25:56.889Z"
   },
   {
    "duration": 15,
    "start_time": "2021-11-02T10:26:08.035Z"
   },
   {
    "duration": 9,
    "start_time": "2021-11-02T10:26:14.698Z"
   },
   {
    "duration": 282,
    "start_time": "2021-11-02T10:26:21.915Z"
   },
   {
    "duration": 13,
    "start_time": "2021-11-02T10:26:30.181Z"
   },
   {
    "duration": 11,
    "start_time": "2021-11-02T10:26:38.158Z"
   },
   {
    "duration": 9,
    "start_time": "2021-11-02T10:26:47.647Z"
   },
   {
    "duration": 11,
    "start_time": "2021-11-02T10:26:50.945Z"
   },
   {
    "duration": 20,
    "start_time": "2021-11-02T10:26:53.332Z"
   },
   {
    "duration": 308,
    "start_time": "2021-11-02T10:27:13.329Z"
   },
   {
    "duration": 15,
    "start_time": "2021-11-02T10:27:30.882Z"
   },
   {
    "duration": 25,
    "start_time": "2021-11-02T10:27:41.219Z"
   },
   {
    "duration": 35,
    "start_time": "2021-11-02T10:27:59.613Z"
   },
   {
    "duration": 13,
    "start_time": "2021-11-02T10:28:07.282Z"
   },
   {
    "duration": 12,
    "start_time": "2021-11-02T10:28:17.653Z"
   },
   {
    "duration": 13,
    "start_time": "2021-11-02T10:29:24.210Z"
   },
   {
    "duration": 31,
    "start_time": "2021-11-02T10:30:13.717Z"
   },
   {
    "duration": 12,
    "start_time": "2021-11-02T10:30:18.027Z"
   },
   {
    "duration": 10,
    "start_time": "2021-11-02T10:30:32.855Z"
   },
   {
    "duration": 12,
    "start_time": "2021-11-02T10:30:50.853Z"
   },
   {
    "duration": 11,
    "start_time": "2021-11-02T10:33:30.992Z"
   },
   {
    "duration": 11,
    "start_time": "2021-11-02T10:34:39.322Z"
   },
   {
    "duration": 11,
    "start_time": "2021-11-02T10:35:32.246Z"
   },
   {
    "duration": 30,
    "start_time": "2021-11-02T10:36:50.247Z"
   },
   {
    "duration": 12,
    "start_time": "2021-11-02T10:37:23.455Z"
   },
   {
    "duration": 10,
    "start_time": "2021-11-02T10:37:38.401Z"
   },
   {
    "duration": 12,
    "start_time": "2021-11-02T10:37:53.391Z"
   },
   {
    "duration": 33,
    "start_time": "2021-11-02T10:38:50.375Z"
   },
   {
    "duration": 15,
    "start_time": "2021-11-02T10:39:05.322Z"
   },
   {
    "duration": 10,
    "start_time": "2021-11-02T10:39:17.716Z"
   },
   {
    "duration": 13,
    "start_time": "2021-11-02T10:39:28.781Z"
   },
   {
    "duration": 30,
    "start_time": "2021-11-02T10:40:07.847Z"
   },
   {
    "duration": 19,
    "start_time": "2021-11-02T10:40:26.065Z"
   },
   {
    "duration": 13,
    "start_time": "2021-11-02T10:40:44.175Z"
   },
   {
    "duration": 12,
    "start_time": "2021-11-02T10:40:52.266Z"
   },
   {
    "duration": 11,
    "start_time": "2021-11-02T10:40:58.541Z"
   },
   {
    "duration": 10,
    "start_time": "2021-11-02T10:41:12.261Z"
   },
   {
    "duration": 13,
    "start_time": "2021-11-02T10:41:23.121Z"
   },
   {
    "duration": 9,
    "start_time": "2021-11-02T10:59:44.082Z"
   },
   {
    "duration": 7,
    "start_time": "2021-11-02T11:15:14.769Z"
   },
   {
    "duration": 98,
    "start_time": "2021-11-02T11:15:29.349Z"
   },
   {
    "duration": 7,
    "start_time": "2021-11-02T11:15:37.425Z"
   },
   {
    "duration": 7,
    "start_time": "2021-11-02T11:15:51.955Z"
   },
   {
    "duration": 10,
    "start_time": "2021-11-02T11:27:48.926Z"
   },
   {
    "duration": 16,
    "start_time": "2021-11-02T11:28:00.364Z"
   },
   {
    "duration": 13,
    "start_time": "2021-11-02T11:29:01.829Z"
   },
   {
    "duration": 17,
    "start_time": "2021-11-02T11:30:43.302Z"
   },
   {
    "duration": 7623,
    "start_time": "2021-11-02T11:34:34.760Z"
   },
   {
    "duration": 16,
    "start_time": "2021-11-02T11:36:14.983Z"
   },
   {
    "duration": 296,
    "start_time": "2021-11-02T11:36:41.699Z"
   },
   {
    "duration": 16,
    "start_time": "2021-11-02T11:36:59.151Z"
   },
   {
    "duration": 16,
    "start_time": "2021-11-02T11:37:07.906Z"
   },
   {
    "duration": 843,
    "start_time": "2021-11-02T11:45:43.743Z"
   },
   {
    "duration": 21,
    "start_time": "2021-11-02T11:46:28.485Z"
   },
   {
    "duration": 26,
    "start_time": "2021-11-02T11:49:14.824Z"
   },
   {
    "duration": 433,
    "start_time": "2021-11-02T12:08:52.430Z"
   },
   {
    "duration": 80032,
    "start_time": "2021-11-02T12:09:19.142Z"
   },
   {
    "duration": 73773,
    "start_time": "2021-11-02T12:12:08.123Z"
   },
   {
    "duration": 98,
    "start_time": "2021-11-02T12:14:41.265Z"
   },
   {
    "duration": 13,
    "start_time": "2021-11-02T12:14:41.366Z"
   },
   {
    "duration": 121,
    "start_time": "2021-11-02T12:14:41.383Z"
   },
   {
    "duration": 104,
    "start_time": "2021-11-02T12:14:41.523Z"
   },
   {
    "duration": 15,
    "start_time": "2021-11-02T12:14:41.629Z"
   },
   {
    "duration": 20,
    "start_time": "2021-11-02T12:14:41.647Z"
   },
   {
    "duration": 72,
    "start_time": "2021-11-02T12:14:41.669Z"
   },
   {
    "duration": 28,
    "start_time": "2021-11-02T12:14:41.745Z"
   },
   {
    "duration": 57,
    "start_time": "2021-11-02T12:14:41.776Z"
   },
   {
    "duration": 6,
    "start_time": "2021-11-02T12:14:41.836Z"
   },
   {
    "duration": 25,
    "start_time": "2021-11-02T12:14:41.844Z"
   },
   {
    "duration": 51,
    "start_time": "2021-11-02T12:14:41.872Z"
   },
   {
    "duration": 5,
    "start_time": "2021-11-02T12:14:41.926Z"
   },
   {
    "duration": 8,
    "start_time": "2021-11-02T12:14:41.933Z"
   },
   {
    "duration": 3766,
    "start_time": "2021-11-02T12:14:41.944Z"
   },
   {
    "duration": 26,
    "start_time": "2021-11-02T12:14:45.713Z"
   },
   {
    "duration": 33,
    "start_time": "2021-11-02T12:14:45.742Z"
   },
   {
    "duration": 13,
    "start_time": "2021-11-02T12:14:45.777Z"
   },
   {
    "duration": 43,
    "start_time": "2021-11-02T12:14:45.792Z"
   },
   {
    "duration": 13,
    "start_time": "2021-11-02T12:14:45.838Z"
   },
   {
    "duration": 7,
    "start_time": "2021-11-02T12:14:45.854Z"
   },
   {
    "duration": 60,
    "start_time": "2021-11-02T12:14:45.864Z"
   },
   {
    "duration": 14,
    "start_time": "2021-11-02T12:14:45.929Z"
   },
   {
    "duration": 14,
    "start_time": "2021-11-02T12:14:45.947Z"
   },
   {
    "duration": 1142,
    "start_time": "2021-11-02T12:21:51.658Z"
   },
   {
    "duration": 23,
    "start_time": "2021-11-02T12:21:52.803Z"
   },
   {
    "duration": 159,
    "start_time": "2021-11-02T12:21:52.830Z"
   },
   {
    "duration": 150,
    "start_time": "2021-11-02T12:21:52.992Z"
   },
   {
    "duration": 20,
    "start_time": "2021-11-02T12:21:53.145Z"
   },
   {
    "duration": 19,
    "start_time": "2021-11-02T12:21:53.167Z"
   },
   {
    "duration": 53,
    "start_time": "2021-11-02T12:21:53.189Z"
   },
   {
    "duration": 34,
    "start_time": "2021-11-02T12:21:53.247Z"
   },
   {
    "duration": 60,
    "start_time": "2021-11-02T12:21:53.285Z"
   },
   {
    "duration": 7,
    "start_time": "2021-11-02T12:21:53.348Z"
   },
   {
    "duration": 34,
    "start_time": "2021-11-02T12:21:53.358Z"
   },
   {
    "duration": 35,
    "start_time": "2021-11-02T12:21:53.395Z"
   },
   {
    "duration": 7,
    "start_time": "2021-11-02T12:21:53.433Z"
   },
   {
    "duration": 12,
    "start_time": "2021-11-02T12:21:53.443Z"
   },
   {
    "duration": 3686,
    "start_time": "2021-11-02T12:21:53.458Z"
   },
   {
    "duration": 32,
    "start_time": "2021-11-02T12:21:57.147Z"
   },
   {
    "duration": 60,
    "start_time": "2021-11-02T12:21:57.182Z"
   },
   {
    "duration": 22,
    "start_time": "2021-11-02T12:21:57.245Z"
   },
   {
    "duration": 24,
    "start_time": "2021-11-02T12:21:57.270Z"
   },
   {
    "duration": 38,
    "start_time": "2021-11-02T12:21:57.297Z"
   },
   {
    "duration": 10,
    "start_time": "2021-11-02T12:21:57.337Z"
   },
   {
    "duration": 15,
    "start_time": "2021-11-02T12:21:57.349Z"
   },
   {
    "duration": 51,
    "start_time": "2021-11-02T12:21:57.371Z"
   },
   {
    "duration": 12,
    "start_time": "2021-11-02T12:21:57.425Z"
   },
   {
    "duration": 33,
    "start_time": "2021-11-02T12:21:57.440Z"
   },
   {
    "duration": 14,
    "start_time": "2021-11-02T12:21:57.476Z"
   },
   {
    "duration": 25,
    "start_time": "2021-11-02T12:21:57.523Z"
   },
   {
    "duration": 38,
    "start_time": "2021-11-02T12:21:57.551Z"
   },
   {
    "duration": 41,
    "start_time": "2021-11-02T12:21:57.591Z"
   },
   {
    "duration": 9,
    "start_time": "2021-11-02T12:21:57.635Z"
   },
   {
    "duration": 13,
    "start_time": "2021-11-02T12:21:57.647Z"
   },
   {
    "duration": 83,
    "start_time": "2021-11-02T12:21:57.663Z"
   },
   {
    "duration": 12,
    "start_time": "2021-11-02T12:21:57.749Z"
   },
   {
    "duration": 16,
    "start_time": "2021-11-02T12:21:57.764Z"
   },
   {
    "duration": 50,
    "start_time": "2021-11-02T12:21:57.783Z"
   },
   {
    "duration": 395,
    "start_time": "2021-11-02T12:25:15.455Z"
   },
   {
    "duration": 551,
    "start_time": "2021-11-02T12:27:08.278Z"
   },
   {
    "duration": 1468,
    "start_time": "2021-11-02T12:27:27.451Z"
   },
   {
    "duration": 141,
    "start_time": "2021-11-02T12:28:01.337Z"
   },
   {
    "duration": 392,
    "start_time": "2021-11-02T12:28:12.031Z"
   },
   {
    "duration": 35,
    "start_time": "2021-11-02T12:33:07.709Z"
   },
   {
    "duration": 34,
    "start_time": "2021-11-02T12:33:11.771Z"
   },
   {
    "duration": 12,
    "start_time": "2021-11-02T12:34:38.090Z"
   },
   {
    "duration": 35,
    "start_time": "2021-11-02T12:35:03.208Z"
   },
   {
    "duration": 388,
    "start_time": "2021-11-02T12:36:52.314Z"
   },
   {
    "duration": 394,
    "start_time": "2021-11-02T12:38:31.348Z"
   },
   {
    "duration": 134,
    "start_time": "2021-11-02T12:38:49.539Z"
   },
   {
    "duration": 16,
    "start_time": "2021-11-02T12:38:49.676Z"
   },
   {
    "duration": 107,
    "start_time": "2021-11-02T12:38:49.695Z"
   },
   {
    "duration": 117,
    "start_time": "2021-11-02T12:38:49.805Z"
   },
   {
    "duration": 14,
    "start_time": "2021-11-02T12:38:49.924Z"
   },
   {
    "duration": 18,
    "start_time": "2021-11-02T12:38:49.941Z"
   },
   {
    "duration": 60,
    "start_time": "2021-11-02T12:38:49.962Z"
   },
   {
    "duration": 28,
    "start_time": "2021-11-02T12:38:50.026Z"
   },
   {
    "duration": 25,
    "start_time": "2021-11-02T12:38:50.057Z"
   },
   {
    "duration": 40,
    "start_time": "2021-11-02T12:38:50.084Z"
   },
   {
    "duration": 24,
    "start_time": "2021-11-02T12:38:50.126Z"
   },
   {
    "duration": 10,
    "start_time": "2021-11-02T12:38:50.152Z"
   },
   {
    "duration": 6,
    "start_time": "2021-11-02T12:38:50.164Z"
   },
   {
    "duration": 51,
    "start_time": "2021-11-02T12:38:50.173Z"
   },
   {
    "duration": 3600,
    "start_time": "2021-11-02T12:38:50.227Z"
   },
   {
    "duration": 20,
    "start_time": "2021-11-02T12:38:53.830Z"
   },
   {
    "duration": 36,
    "start_time": "2021-11-02T12:38:53.853Z"
   },
   {
    "duration": 34,
    "start_time": "2021-11-02T12:38:53.892Z"
   },
   {
    "duration": 15,
    "start_time": "2021-11-02T12:38:53.928Z"
   },
   {
    "duration": 13,
    "start_time": "2021-11-02T12:38:53.947Z"
   },
   {
    "duration": 10,
    "start_time": "2021-11-02T12:38:53.963Z"
   },
   {
    "duration": 60,
    "start_time": "2021-11-02T12:38:53.975Z"
   },
   {
    "duration": 14,
    "start_time": "2021-11-02T12:38:54.040Z"
   },
   {
    "duration": 12,
    "start_time": "2021-11-02T12:38:54.058Z"
   },
   {
    "duration": 429,
    "start_time": "2021-11-02T12:38:54.073Z"
   },
   {
    "duration": 41,
    "start_time": "2021-11-02T12:38:54.505Z"
   },
   {
    "duration": 16,
    "start_time": "2021-11-02T12:38:54.549Z"
   },
   {
    "duration": 25,
    "start_time": "2021-11-02T12:38:54.568Z"
   },
   {
    "duration": 35,
    "start_time": "2021-11-02T12:38:54.623Z"
   },
   {
    "duration": 12,
    "start_time": "2021-11-02T12:38:54.661Z"
   },
   {
    "duration": 45,
    "start_time": "2021-11-02T12:38:54.677Z"
   },
   {
    "duration": 14,
    "start_time": "2021-11-02T12:38:54.725Z"
   },
   {
    "duration": 34,
    "start_time": "2021-11-02T12:38:54.742Z"
   },
   {
    "duration": 49,
    "start_time": "2021-11-02T12:38:54.779Z"
   },
   {
    "duration": 14,
    "start_time": "2021-11-02T12:38:54.831Z"
   },
   {
    "duration": 15,
    "start_time": "2021-11-02T12:38:54.847Z"
   },
   {
    "duration": 408,
    "start_time": "2021-11-02T12:40:45.787Z"
   },
   {
    "duration": 395,
    "start_time": "2021-11-02T12:44:13.194Z"
   },
   {
    "duration": 389,
    "start_time": "2021-11-02T12:44:50.431Z"
   },
   {
    "duration": 1431,
    "start_time": "2021-11-02T12:45:09.510Z"
   },
   {
    "duration": 389,
    "start_time": "2021-11-02T12:45:19.546Z"
   },
   {
    "duration": 399,
    "start_time": "2021-11-02T12:46:26.228Z"
   },
   {
    "duration": 391,
    "start_time": "2021-11-02T14:21:04.423Z"
   },
   {
    "duration": 770,
    "start_time": "2021-11-02T14:21:16.996Z"
   },
   {
    "duration": 11,
    "start_time": "2021-11-02T14:21:17.768Z"
   },
   {
    "duration": 65,
    "start_time": "2021-11-02T14:21:17.782Z"
   },
   {
    "duration": 81,
    "start_time": "2021-11-02T14:21:17.849Z"
   },
   {
    "duration": 12,
    "start_time": "2021-11-02T14:21:17.932Z"
   },
   {
    "duration": 15,
    "start_time": "2021-11-02T14:21:17.945Z"
   },
   {
    "duration": 35,
    "start_time": "2021-11-02T14:21:17.962Z"
   },
   {
    "duration": 17,
    "start_time": "2021-11-02T14:21:18.000Z"
   },
   {
    "duration": 16,
    "start_time": "2021-11-02T14:21:18.019Z"
   },
   {
    "duration": 4,
    "start_time": "2021-11-02T14:21:18.037Z"
   },
   {
    "duration": 52,
    "start_time": "2021-11-02T14:21:18.043Z"
   },
   {
    "duration": 6,
    "start_time": "2021-11-02T14:21:18.097Z"
   },
   {
    "duration": 3,
    "start_time": "2021-11-02T14:21:18.105Z"
   },
   {
    "duration": 8,
    "start_time": "2021-11-02T14:21:18.110Z"
   },
   {
    "duration": 2492,
    "start_time": "2021-11-02T14:21:18.119Z"
   },
   {
    "duration": 13,
    "start_time": "2021-11-02T14:21:20.613Z"
   },
   {
    "duration": 24,
    "start_time": "2021-11-02T14:21:20.629Z"
   },
   {
    "duration": 34,
    "start_time": "2021-11-02T14:21:20.655Z"
   },
   {
    "duration": 13,
    "start_time": "2021-11-02T14:21:20.691Z"
   },
   {
    "duration": 8,
    "start_time": "2021-11-02T14:21:20.706Z"
   },
   {
    "duration": 8,
    "start_time": "2021-11-02T14:21:20.716Z"
   },
   {
    "duration": 9,
    "start_time": "2021-11-02T14:21:20.726Z"
   },
   {
    "duration": 46,
    "start_time": "2021-11-02T14:21:20.738Z"
   },
   {
    "duration": 8,
    "start_time": "2021-11-02T14:21:20.787Z"
   },
   {
    "duration": 19,
    "start_time": "2021-11-02T14:21:20.797Z"
   },
   {
    "duration": 21,
    "start_time": "2021-11-02T14:21:20.818Z"
   },
   {
    "duration": 11,
    "start_time": "2021-11-02T14:21:20.841Z"
   },
   {
    "duration": 40,
    "start_time": "2021-11-02T14:21:20.853Z"
   },
   {
    "duration": 22,
    "start_time": "2021-11-02T14:21:20.895Z"
   },
   {
    "duration": 8,
    "start_time": "2021-11-02T14:21:20.918Z"
   },
   {
    "duration": 10,
    "start_time": "2021-11-02T14:21:20.928Z"
   },
   {
    "duration": 13,
    "start_time": "2021-11-02T14:21:20.940Z"
   },
   {
    "duration": 25,
    "start_time": "2021-11-02T14:21:20.977Z"
   },
   {
    "duration": 8,
    "start_time": "2021-11-02T14:21:21.004Z"
   },
   {
    "duration": 7,
    "start_time": "2021-11-02T14:21:21.014Z"
   },
   {
    "duration": 10,
    "start_time": "2021-11-02T14:21:21.022Z"
   },
   {
    "duration": 4,
    "start_time": "2021-11-02T14:22:06.143Z"
   },
   {
    "duration": 5,
    "start_time": "2021-11-02T14:24:06.545Z"
   },
   {
    "duration": 4,
    "start_time": "2021-11-02T14:24:55.382Z"
   },
   {
    "duration": 4,
    "start_time": "2021-11-02T14:26:21.361Z"
   },
   {
    "duration": 127,
    "start_time": "2021-11-02T14:26:39.559Z"
   },
   {
    "duration": 6,
    "start_time": "2021-11-02T14:26:50.883Z"
   },
   {
    "duration": 4,
    "start_time": "2021-11-02T14:29:09.631Z"
   },
   {
    "duration": 5,
    "start_time": "2021-11-02T14:30:00.794Z"
   },
   {
    "duration": 1644,
    "start_time": "2021-11-02T14:51:12.364Z"
   },
   {
    "duration": 1716,
    "start_time": "2021-11-02T14:52:56.088Z"
   },
   {
    "duration": 1757,
    "start_time": "2021-11-02T14:53:20.073Z"
   },
   {
    "duration": 2645,
    "start_time": "2021-11-02T14:53:59.777Z"
   },
   {
    "duration": 30,
    "start_time": "2021-11-02T14:54:18.224Z"
   },
   {
    "duration": 67,
    "start_time": "2021-11-02T14:54:53.561Z"
   },
   {
    "duration": 9,
    "start_time": "2021-11-02T14:54:53.630Z"
   },
   {
    "duration": 86,
    "start_time": "2021-11-02T14:54:53.641Z"
   },
   {
    "duration": 75,
    "start_time": "2021-11-02T14:54:53.729Z"
   },
   {
    "duration": 11,
    "start_time": "2021-11-02T14:54:53.805Z"
   },
   {
    "duration": 13,
    "start_time": "2021-11-02T14:54:53.818Z"
   },
   {
    "duration": 14,
    "start_time": "2021-11-02T14:54:53.833Z"
   },
   {
    "duration": 42,
    "start_time": "2021-11-02T14:54:53.850Z"
   },
   {
    "duration": 16,
    "start_time": "2021-11-02T14:54:53.894Z"
   },
   {
    "duration": 4,
    "start_time": "2021-11-02T14:54:53.911Z"
   },
   {
    "duration": 20,
    "start_time": "2021-11-02T14:54:53.917Z"
   },
   {
    "duration": 5,
    "start_time": "2021-11-02T14:54:53.939Z"
   },
   {
    "duration": 4,
    "start_time": "2021-11-02T14:54:53.976Z"
   },
   {
    "duration": 8,
    "start_time": "2021-11-02T14:54:53.982Z"
   },
   {
    "duration": 2670,
    "start_time": "2021-11-02T14:54:53.992Z"
   },
   {
    "duration": 19,
    "start_time": "2021-11-02T14:54:56.664Z"
   },
   {
    "duration": 38,
    "start_time": "2021-11-02T14:54:56.686Z"
   },
   {
    "duration": 11,
    "start_time": "2021-11-02T14:54:56.725Z"
   },
   {
    "duration": 18,
    "start_time": "2021-11-02T14:54:56.737Z"
   },
   {
    "duration": 15,
    "start_time": "2021-11-02T14:54:56.757Z"
   },
   {
    "duration": 8,
    "start_time": "2021-11-02T14:54:56.773Z"
   },
   {
    "duration": 10,
    "start_time": "2021-11-02T14:54:56.783Z"
   },
   {
    "duration": 28,
    "start_time": "2021-11-02T14:54:56.794Z"
   },
   {
    "duration": 20,
    "start_time": "2021-11-02T14:54:56.824Z"
   },
   {
    "duration": 35,
    "start_time": "2021-11-02T14:54:56.846Z"
   },
   {
    "duration": 26,
    "start_time": "2021-11-02T14:54:56.883Z"
   },
   {
    "duration": 11,
    "start_time": "2021-11-02T14:54:56.911Z"
   },
   {
    "duration": 17,
    "start_time": "2021-11-02T14:54:56.923Z"
   },
   {
    "duration": 46,
    "start_time": "2021-11-02T14:54:56.942Z"
   },
   {
    "duration": 8,
    "start_time": "2021-11-02T14:54:56.990Z"
   },
   {
    "duration": 11,
    "start_time": "2021-11-02T14:54:56.999Z"
   },
   {
    "duration": 13,
    "start_time": "2021-11-02T14:54:57.012Z"
   },
   {
    "duration": 28,
    "start_time": "2021-11-02T14:54:57.027Z"
   },
   {
    "duration": 21,
    "start_time": "2021-11-02T14:54:57.057Z"
   },
   {
    "duration": 7,
    "start_time": "2021-11-02T14:54:57.080Z"
   },
   {
    "duration": 15,
    "start_time": "2021-11-02T14:54:57.089Z"
   },
   {
    "duration": 1647,
    "start_time": "2021-11-02T14:56:28.066Z"
   },
   {
    "duration": 29,
    "start_time": "2021-11-02T14:56:33.676Z"
   },
   {
    "duration": 672,
    "start_time": "2021-11-02T16:17:46.832Z"
   },
   {
    "duration": 29,
    "start_time": "2021-11-02T16:17:57.963Z"
   },
   {
    "duration": 424,
    "start_time": "2021-11-02T16:27:53.449Z"
   },
   {
    "duration": 374,
    "start_time": "2021-11-02T16:28:52.057Z"
   },
   {
    "duration": 378,
    "start_time": "2021-11-02T16:35:37.001Z"
   },
   {
    "duration": 1004,
    "start_time": "2021-11-02T16:37:20.653Z"
   },
   {
    "duration": 928,
    "start_time": "2021-11-02T16:37:33.922Z"
   },
   {
    "duration": 4,
    "start_time": "2021-11-02T16:37:57.761Z"
   },
   {
    "duration": 124,
    "start_time": "2021-11-02T16:52:33.229Z"
   },
   {
    "duration": 125,
    "start_time": "2021-11-02T16:52:58.035Z"
   },
   {
    "duration": 123,
    "start_time": "2021-11-02T16:53:15.026Z"
   },
   {
    "duration": 3033,
    "start_time": "2021-11-02T16:54:16.320Z"
   },
   {
    "duration": 2948,
    "start_time": "2021-11-02T16:54:57.855Z"
   },
   {
    "duration": 28,
    "start_time": "2021-11-02T16:55:32.195Z"
   },
   {
    "duration": 3050,
    "start_time": "2021-11-02T16:55:57.566Z"
   },
   {
    "duration": 21,
    "start_time": "2021-11-02T17:07:42.218Z"
   },
   {
    "duration": 125,
    "start_time": "2021-11-02T17:08:42.536Z"
   },
   {
    "duration": 124,
    "start_time": "2021-11-02T17:09:01.875Z"
   },
   {
    "duration": 9,
    "start_time": "2021-11-02T17:09:21.456Z"
   },
   {
    "duration": 7,
    "start_time": "2021-11-02T17:09:56.930Z"
   },
   {
    "duration": 9,
    "start_time": "2021-11-02T17:10:33.290Z"
   },
   {
    "duration": 9,
    "start_time": "2021-11-02T17:20:05.755Z"
   },
   {
    "duration": 7,
    "start_time": "2021-11-02T17:20:51.584Z"
   },
   {
    "duration": 7,
    "start_time": "2021-11-02T17:21:18.621Z"
   },
   {
    "duration": 8,
    "start_time": "2021-11-02T17:21:44.921Z"
   },
   {
    "duration": 7,
    "start_time": "2021-11-02T17:30:51.120Z"
   },
   {
    "duration": 7,
    "start_time": "2021-11-02T17:33:21.507Z"
   },
   {
    "duration": 327,
    "start_time": "2021-11-02T20:44:44.887Z"
   },
   {
    "duration": 852,
    "start_time": "2021-11-02T20:44:50.978Z"
   },
   {
    "duration": 11,
    "start_time": "2021-11-02T20:44:51.833Z"
   },
   {
    "duration": 99,
    "start_time": "2021-11-02T20:44:51.846Z"
   },
   {
    "duration": 97,
    "start_time": "2021-11-02T20:44:51.948Z"
   },
   {
    "duration": 13,
    "start_time": "2021-11-02T20:44:52.048Z"
   },
   {
    "duration": 18,
    "start_time": "2021-11-02T20:44:52.063Z"
   },
   {
    "duration": 50,
    "start_time": "2021-11-02T20:44:52.083Z"
   },
   {
    "duration": 24,
    "start_time": "2021-11-02T20:44:52.136Z"
   },
   {
    "duration": 21,
    "start_time": "2021-11-02T20:44:52.163Z"
   },
   {
    "duration": 6,
    "start_time": "2021-11-02T20:44:52.186Z"
   },
   {
    "duration": 46,
    "start_time": "2021-11-02T20:44:52.194Z"
   },
   {
    "duration": 8,
    "start_time": "2021-11-02T20:44:52.242Z"
   },
   {
    "duration": 4,
    "start_time": "2021-11-02T20:44:52.253Z"
   },
   {
    "duration": 6,
    "start_time": "2021-11-02T20:44:52.260Z"
   },
   {
    "duration": 3457,
    "start_time": "2021-11-02T20:44:52.269Z"
   },
   {
    "duration": 19,
    "start_time": "2021-11-02T20:44:55.728Z"
   },
   {
    "duration": 32,
    "start_time": "2021-11-02T20:44:55.749Z"
   },
   {
    "duration": 42,
    "start_time": "2021-11-02T20:44:55.783Z"
   },
   {
    "duration": 14,
    "start_time": "2021-11-02T20:44:55.827Z"
   },
   {
    "duration": 16,
    "start_time": "2021-11-02T20:44:55.843Z"
   },
   {
    "duration": 9,
    "start_time": "2021-11-02T20:44:55.862Z"
   },
   {
    "duration": 56,
    "start_time": "2021-11-02T20:44:55.873Z"
   },
   {
    "duration": 20,
    "start_time": "2021-11-02T20:44:55.934Z"
   },
   {
    "duration": 3776,
    "start_time": "2021-11-02T20:44:55.957Z"
   },
   {
    "duration": 35,
    "start_time": "2021-11-02T20:44:59.735Z"
   },
   {
    "duration": 11,
    "start_time": "2021-11-02T20:44:59.772Z"
   },
   {
    "duration": 39,
    "start_time": "2021-11-02T20:44:59.785Z"
   },
   {
    "duration": 12,
    "start_time": "2021-11-02T20:44:59.826Z"
   },
   {
    "duration": 18,
    "start_time": "2021-11-02T20:44:59.840Z"
   },
   {
    "duration": 25,
    "start_time": "2021-11-02T20:44:59.860Z"
   },
   {
    "duration": 61,
    "start_time": "2021-11-02T20:44:59.887Z"
   },
   {
    "duration": 12,
    "start_time": "2021-11-02T20:44:59.950Z"
   },
   {
    "duration": 13,
    "start_time": "2021-11-02T20:44:59.965Z"
   },
   {
    "duration": 49,
    "start_time": "2021-11-02T20:44:59.980Z"
   },
   {
    "duration": 32,
    "start_time": "2021-11-02T20:45:00.032Z"
   },
   {
    "duration": 12,
    "start_time": "2021-11-02T20:45:00.067Z"
   },
   {
    "duration": 42,
    "start_time": "2021-11-02T20:45:00.082Z"
   },
   {
    "duration": 15,
    "start_time": "2021-11-02T20:45:00.126Z"
   },
   {
    "duration": 31,
    "start_time": "2021-11-02T20:45:00.144Z"
   },
   {
    "duration": 45,
    "start_time": "2021-11-02T20:45:00.178Z"
   },
   {
    "duration": 12,
    "start_time": "2021-11-02T20:45:00.226Z"
   },
   {
    "duration": 19,
    "start_time": "2021-11-02T20:45:00.241Z"
   },
   {
    "duration": 22,
    "start_time": "2021-11-02T20:45:00.263Z"
   },
   {
    "duration": 13,
    "start_time": "2021-11-02T20:45:32.448Z"
   },
   {
    "duration": 14,
    "start_time": "2021-11-02T20:46:08.924Z"
   },
   {
    "duration": 11,
    "start_time": "2021-11-02T20:46:35.922Z"
   },
   {
    "duration": 10,
    "start_time": "2021-11-02T20:47:10.745Z"
   },
   {
    "duration": 14,
    "start_time": "2021-11-02T20:50:06.089Z"
   },
   {
    "duration": 30,
    "start_time": "2021-11-02T20:50:55.678Z"
   },
   {
    "duration": 11,
    "start_time": "2021-11-02T20:51:28.282Z"
   },
   {
    "duration": 10,
    "start_time": "2021-11-02T20:51:55.352Z"
   },
   {
    "duration": 12,
    "start_time": "2021-11-02T20:52:18.996Z"
   },
   {
    "duration": 15,
    "start_time": "2021-11-02T20:52:54.732Z"
   },
   {
    "duration": 25,
    "start_time": "2021-11-02T20:53:58.843Z"
   },
   {
    "duration": 34,
    "start_time": "2021-11-02T20:54:37.639Z"
   },
   {
    "duration": 12,
    "start_time": "2021-11-02T20:55:02.763Z"
   },
   {
    "duration": 11,
    "start_time": "2021-11-02T20:55:33.149Z"
   },
   {
    "duration": 13,
    "start_time": "2021-11-02T20:56:15.718Z"
   },
   {
    "duration": 3641,
    "start_time": "2021-11-02T20:57:12.005Z"
   },
   {
    "duration": 28,
    "start_time": "2021-11-02T20:57:42.456Z"
   },
   {
    "duration": 3725,
    "start_time": "2021-11-02T20:57:45.387Z"
   },
   {
    "duration": 12,
    "start_time": "2021-11-02T20:58:27.547Z"
   },
   {
    "duration": 10,
    "start_time": "2021-11-02T20:59:13.436Z"
   },
   {
    "duration": 13,
    "start_time": "2021-11-02T21:00:05.087Z"
   },
   {
    "duration": 174,
    "start_time": "2021-11-02T21:06:30.258Z"
   },
   {
    "duration": 22,
    "start_time": "2021-11-02T21:06:30.436Z"
   },
   {
    "duration": 210,
    "start_time": "2021-11-02T21:06:30.463Z"
   },
   {
    "duration": 100,
    "start_time": "2021-11-02T21:06:30.683Z"
   },
   {
    "duration": 15,
    "start_time": "2021-11-02T21:06:30.786Z"
   },
   {
    "duration": 19,
    "start_time": "2021-11-02T21:06:30.823Z"
   },
   {
    "duration": 22,
    "start_time": "2021-11-02T21:06:30.845Z"
   },
   {
    "duration": 55,
    "start_time": "2021-11-02T21:06:30.871Z"
   },
   {
    "duration": 23,
    "start_time": "2021-11-02T21:06:30.929Z"
   },
   {
    "duration": 6,
    "start_time": "2021-11-02T21:06:30.954Z"
   },
   {
    "duration": 29,
    "start_time": "2021-11-02T21:06:30.962Z"
   },
   {
    "duration": 35,
    "start_time": "2021-11-02T21:06:30.994Z"
   },
   {
    "duration": 20,
    "start_time": "2021-11-02T21:06:31.032Z"
   },
   {
    "duration": 11,
    "start_time": "2021-11-02T21:06:31.055Z"
   },
   {
    "duration": 3533,
    "start_time": "2021-11-02T21:06:31.069Z"
   },
   {
    "duration": 24,
    "start_time": "2021-11-02T21:06:34.605Z"
   },
   {
    "duration": 3701,
    "start_time": "2021-11-02T21:06:34.631Z"
   },
   {
    "duration": 17,
    "start_time": "2021-11-02T21:06:38.335Z"
   },
   {
    "duration": 32,
    "start_time": "2021-11-02T21:06:38.355Z"
   },
   {
    "duration": 33,
    "start_time": "2021-11-02T21:06:38.422Z"
   },
   {
    "duration": 14,
    "start_time": "2021-11-02T21:06:38.457Z"
   },
   {
    "duration": 20,
    "start_time": "2021-11-02T21:06:38.473Z"
   },
   {
    "duration": 11,
    "start_time": "2021-11-02T21:06:38.522Z"
   },
   {
    "duration": 15,
    "start_time": "2021-11-02T21:06:38.536Z"
   },
   {
    "duration": 15,
    "start_time": "2021-11-02T21:06:38.553Z"
   },
   {
    "duration": 54,
    "start_time": "2021-11-02T21:06:38.571Z"
   },
   {
    "duration": 12,
    "start_time": "2021-11-02T21:06:38.627Z"
   },
   {
    "duration": 16,
    "start_time": "2021-11-02T21:06:38.641Z"
   },
   {
    "duration": 17,
    "start_time": "2021-11-02T21:06:38.660Z"
   },
   {
    "duration": 65,
    "start_time": "2021-11-02T21:06:38.680Z"
   },
   {
    "duration": 13,
    "start_time": "2021-11-02T21:06:38.748Z"
   },
   {
    "duration": 22,
    "start_time": "2021-11-02T21:06:38.765Z"
   },
   {
    "duration": 37,
    "start_time": "2021-11-02T21:06:38.790Z"
   },
   {
    "duration": 33,
    "start_time": "2021-11-02T21:06:38.830Z"
   },
   {
    "duration": 13,
    "start_time": "2021-11-02T21:06:38.866Z"
   },
   {
    "duration": 48,
    "start_time": "2021-11-02T21:06:38.882Z"
   },
   {
    "duration": 20,
    "start_time": "2021-11-02T21:06:38.932Z"
   },
   {
    "duration": 812,
    "start_time": "2021-11-03T14:56:39.381Z"
   },
   {
    "duration": 11,
    "start_time": "2021-11-03T14:56:40.196Z"
   },
   {
    "duration": 110,
    "start_time": "2021-11-03T14:56:40.210Z"
   },
   {
    "duration": 101,
    "start_time": "2021-11-03T14:56:40.322Z"
   },
   {
    "duration": 16,
    "start_time": "2021-11-03T14:56:40.426Z"
   },
   {
    "duration": 34,
    "start_time": "2021-11-03T14:56:40.445Z"
   },
   {
    "duration": 19,
    "start_time": "2021-11-03T14:56:40.481Z"
   },
   {
    "duration": 25,
    "start_time": "2021-11-03T14:56:40.503Z"
   },
   {
    "duration": 29,
    "start_time": "2021-11-03T14:56:40.559Z"
   },
   {
    "duration": 5,
    "start_time": "2021-11-03T14:56:40.590Z"
   },
   {
    "duration": 21,
    "start_time": "2021-11-03T14:56:40.597Z"
   },
   {
    "duration": 46,
    "start_time": "2021-11-03T14:56:40.621Z"
   },
   {
    "duration": 5,
    "start_time": "2021-11-03T14:56:40.670Z"
   },
   {
    "duration": 7,
    "start_time": "2021-11-03T14:56:40.678Z"
   },
   {
    "duration": 3491,
    "start_time": "2021-11-03T14:56:40.687Z"
   },
   {
    "duration": 19,
    "start_time": "2021-11-03T14:56:44.180Z"
   },
   {
    "duration": 4220,
    "start_time": "2021-11-03T14:56:44.201Z"
   },
   {
    "duration": 19,
    "start_time": "2021-11-03T14:56:48.424Z"
   },
   {
    "duration": 29,
    "start_time": "2021-11-03T14:56:48.459Z"
   },
   {
    "duration": 30,
    "start_time": "2021-11-03T14:56:48.490Z"
   },
   {
    "duration": 43,
    "start_time": "2021-11-03T14:56:48.522Z"
   },
   {
    "duration": 14,
    "start_time": "2021-11-03T14:56:48.567Z"
   },
   {
    "duration": 10,
    "start_time": "2021-11-03T14:56:48.586Z"
   },
   {
    "duration": 13,
    "start_time": "2021-11-03T14:56:48.598Z"
   },
   {
    "duration": 54,
    "start_time": "2021-11-03T14:56:48.613Z"
   },
   {
    "duration": 30,
    "start_time": "2021-11-03T14:56:48.669Z"
   },
   {
    "duration": 10,
    "start_time": "2021-11-03T14:56:48.701Z"
   },
   {
    "duration": 11,
    "start_time": "2021-11-03T14:56:48.713Z"
   },
   {
    "duration": 40,
    "start_time": "2021-11-03T14:56:48.727Z"
   },
   {
    "duration": 41,
    "start_time": "2021-11-03T14:56:48.770Z"
   },
   {
    "duration": 11,
    "start_time": "2021-11-03T14:56:48.813Z"
   },
   {
    "duration": 41,
    "start_time": "2021-11-03T14:56:48.827Z"
   },
   {
    "duration": 25,
    "start_time": "2021-11-03T14:56:48.871Z"
   },
   {
    "duration": 29,
    "start_time": "2021-11-03T14:56:48.899Z"
   },
   {
    "duration": 11,
    "start_time": "2021-11-03T14:56:48.931Z"
   },
   {
    "duration": 11,
    "start_time": "2021-11-03T14:56:48.960Z"
   },
   {
    "duration": 15,
    "start_time": "2021-11-03T14:56:48.974Z"
   },
   {
    "duration": 306,
    "start_time": "2021-12-29T17:24:48.174Z"
   },
   {
    "duration": 636,
    "start_time": "2021-12-29T17:24:52.821Z"
   },
   {
    "duration": 9,
    "start_time": "2021-12-29T17:24:53.459Z"
   },
   {
    "duration": 64,
    "start_time": "2021-12-29T17:24:53.470Z"
   },
   {
    "duration": 66,
    "start_time": "2021-12-29T17:24:53.536Z"
   },
   {
    "duration": 10,
    "start_time": "2021-12-29T17:24:53.604Z"
   },
   {
    "duration": 13,
    "start_time": "2021-12-29T17:24:53.616Z"
   },
   {
    "duration": 14,
    "start_time": "2021-12-29T17:24:53.630Z"
   },
   {
    "duration": 44,
    "start_time": "2021-12-29T17:24:53.647Z"
   },
   {
    "duration": 15,
    "start_time": "2021-12-29T17:24:53.693Z"
   },
   {
    "duration": 3,
    "start_time": "2021-12-29T17:24:53.710Z"
   },
   {
    "duration": 16,
    "start_time": "2021-12-29T17:24:53.715Z"
   },
   {
    "duration": 7,
    "start_time": "2021-12-29T17:24:53.732Z"
   },
   {
    "duration": 6,
    "start_time": "2021-12-29T17:24:53.740Z"
   },
   {
    "duration": 7,
    "start_time": "2021-12-29T17:24:53.747Z"
   },
   {
    "duration": 2432,
    "start_time": "2021-12-29T17:24:53.755Z"
   },
   {
    "duration": 13,
    "start_time": "2021-12-29T17:24:56.188Z"
   },
   {
    "duration": 2836,
    "start_time": "2021-12-29T17:24:56.202Z"
   },
   {
    "duration": 15,
    "start_time": "2021-12-29T17:24:59.039Z"
   },
   {
    "duration": 36,
    "start_time": "2021-12-29T17:24:59.056Z"
   },
   {
    "duration": 22,
    "start_time": "2021-12-29T17:24:59.095Z"
   },
   {
    "duration": 10,
    "start_time": "2021-12-29T17:24:59.119Z"
   },
   {
    "duration": 11,
    "start_time": "2021-12-29T17:24:59.130Z"
   },
   {
    "duration": 10,
    "start_time": "2021-12-29T17:24:59.143Z"
   },
   {
    "duration": 40,
    "start_time": "2021-12-29T17:24:59.154Z"
   },
   {
    "duration": 12,
    "start_time": "2021-12-29T17:24:59.196Z"
   },
   {
    "duration": 20,
    "start_time": "2021-12-29T17:24:59.209Z"
   },
   {
    "duration": 7,
    "start_time": "2021-12-29T17:24:59.231Z"
   },
   {
    "duration": 13,
    "start_time": "2021-12-29T17:24:59.240Z"
   },
   {
    "duration": 9,
    "start_time": "2021-12-29T17:24:59.255Z"
   },
   {
    "duration": 47,
    "start_time": "2021-12-29T17:24:59.266Z"
   },
   {
    "duration": 8,
    "start_time": "2021-12-29T17:24:59.315Z"
   },
   {
    "duration": 12,
    "start_time": "2021-12-29T17:24:59.325Z"
   },
   {
    "duration": 11,
    "start_time": "2021-12-29T17:24:59.339Z"
   },
   {
    "duration": 45,
    "start_time": "2021-12-29T17:24:59.352Z"
   },
   {
    "duration": 9,
    "start_time": "2021-12-29T17:24:59.399Z"
   },
   {
    "duration": 12,
    "start_time": "2021-12-29T17:24:59.410Z"
   },
   {
    "duration": 14,
    "start_time": "2021-12-29T17:24:59.424Z"
   }
  ],
  "kernelspec": {
   "display_name": "Python 3",
   "language": "python",
   "name": "python3"
  },
  "language_info": {
   "codemirror_mode": {
    "name": "ipython",
    "version": 3
   },
   "file_extension": ".py",
   "mimetype": "text/x-python",
   "name": "python",
   "nbconvert_exporter": "python",
   "pygments_lexer": "ipython3",
   "version": "3.7.8"
  },
  "toc": {
   "base_numbering": 1,
   "nav_menu": {},
   "number_sections": true,
   "sideBar": true,
   "skip_h1_title": true,
   "title_cell": "Table of Contents",
   "title_sidebar": "Contents",
   "toc_cell": false,
   "toc_position": {},
   "toc_section_display": true,
   "toc_window_display": false
  }
 },
 "nbformat": 4,
 "nbformat_minor": 2
}
