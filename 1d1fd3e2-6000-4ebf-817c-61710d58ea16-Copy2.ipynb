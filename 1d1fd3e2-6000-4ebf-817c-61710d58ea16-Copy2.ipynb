{
 "cells": [
  {
   "cell_type": "markdown",
   "metadata": {},
   "source": [
    "# Определение стоимости автомобилей"
   ]
  },
  {
   "cell_type": "markdown",
   "metadata": {},
   "source": [
    "Сервис по продаже автомобилей с пробегом «Не бит, не крашен» разрабатывает приложение для привлечения новых клиентов. В нём можно быстро узнать рыночную стоимость своего автомобиля. В вашем распоряжении исторические данные: технические характеристики, комплектации и цены автомобилей. Вам нужно построить модель для определения стоимости. \n",
    "\n",
    "**Заказчику важны:**\n",
    "\n",
    "- качество предсказания;\n",
    "- скорость предсказания;\n",
    "- время обучения.\n",
    "\n",
    "**Признаки:**\n",
    "\n",
    "- DateCrawled — дата скачивания анкеты из базы\n",
    "- VehicleType — тип автомобильного кузова\n",
    "- RegistrationYear — год регистрации автомобиля\n",
    "- Gearbox — тип коробки передач\n",
    "- Power — мощность (л. с.)\n",
    "- Model — модель автомобиля\n",
    "- Kilometer — пробег (км)\n",
    "- RegistrationMonth — месяц регистрации автомобиля\n",
    "- FuelType — тип топлива\n",
    "- Brand — марка автомобиля\n",
    "- NotRepaired — была машина в ремонте или нет\n",
    "- DateCreated — дата создания анкеты\n",
    "- NumberOfPictures — количество фотографий автомобиля\n",
    "- PostalCode — почтовый индекс владельца анкеты (пользователя)\n",
    "- LastSeen — дата последней активности пользователя\n",
    "\n",
    "**Целевой признак:**\n",
    "\n",
    "- Price — цена (евро)\n",
    "\n",
    "**Для оценки качества моделей применим метрику RMSE.**"
   ]
  },
  {
   "cell_type": "markdown",
   "metadata": {},
   "source": [
    "## Подготовка данных"
   ]
  },
  {
   "cell_type": "code",
   "execution_count": 1,
   "metadata": {},
   "outputs": [],
   "source": [
    "import pandas as pd\n",
    "import numpy as np\n",
    "import matplotlib.pyplot as plt\n",
    "import seaborn as sns\n",
    "pd.set_option('display.max_columns', None) # реализуем возможность вывода всех столбцов на экран\n",
    "from sklearn.preprocessing import OrdinalEncoder\n",
    "from sklearn.dummy import DummyRegressor\n",
    "from sklearn.preprocessing import StandardScaler\n",
    "from sklearn.model_selection import train_test_split\n",
    "from sklearn.model_selection import GridSearchCV # для поиска оптимальных параметров\n",
    "from sklearn.metrics import mean_squared_error \n",
    "from sklearn.linear_model import LinearRegression\n",
    "from sklearn.ensemble import RandomForestRegressor\n",
    "from sklearn.tree import DecisionTreeRegressor\n",
    "from sklearn.metrics import make_scorer\n",
    "from sklearn.model_selection import cross_val_score\n",
    "import lightgbm as lgb\n",
    "from lightgbm import LGBMRegressor\n",
    "import time"
   ]
  },
  {
   "cell_type": "code",
   "execution_count": 2,
   "metadata": {},
   "outputs": [
    {
     "data": {
      "text/html": [
       "<div>\n",
       "<style scoped>\n",
       "    .dataframe tbody tr th:only-of-type {\n",
       "        vertical-align: middle;\n",
       "    }\n",
       "\n",
       "    .dataframe tbody tr th {\n",
       "        vertical-align: top;\n",
       "    }\n",
       "\n",
       "    .dataframe thead th {\n",
       "        text-align: right;\n",
       "    }\n",
       "</style>\n",
       "<table border=\"1\" class=\"dataframe\">\n",
       "  <thead>\n",
       "    <tr style=\"text-align: right;\">\n",
       "      <th></th>\n",
       "      <th>DateCrawled</th>\n",
       "      <th>Price</th>\n",
       "      <th>VehicleType</th>\n",
       "      <th>RegistrationYear</th>\n",
       "      <th>Gearbox</th>\n",
       "      <th>Power</th>\n",
       "      <th>Model</th>\n",
       "      <th>Kilometer</th>\n",
       "      <th>RegistrationMonth</th>\n",
       "      <th>FuelType</th>\n",
       "      <th>Brand</th>\n",
       "      <th>NotRepaired</th>\n",
       "      <th>DateCreated</th>\n",
       "      <th>NumberOfPictures</th>\n",
       "      <th>PostalCode</th>\n",
       "      <th>LastSeen</th>\n",
       "    </tr>\n",
       "  </thead>\n",
       "  <tbody>\n",
       "    <tr>\n",
       "      <td>0</td>\n",
       "      <td>2016-03-24 11:52:17</td>\n",
       "      <td>480</td>\n",
       "      <td>NaN</td>\n",
       "      <td>1993</td>\n",
       "      <td>manual</td>\n",
       "      <td>0</td>\n",
       "      <td>golf</td>\n",
       "      <td>150000</td>\n",
       "      <td>0</td>\n",
       "      <td>petrol</td>\n",
       "      <td>volkswagen</td>\n",
       "      <td>NaN</td>\n",
       "      <td>2016-03-24 00:00:00</td>\n",
       "      <td>0</td>\n",
       "      <td>70435</td>\n",
       "      <td>2016-04-07 03:16:57</td>\n",
       "    </tr>\n",
       "    <tr>\n",
       "      <td>1</td>\n",
       "      <td>2016-03-24 10:58:45</td>\n",
       "      <td>18300</td>\n",
       "      <td>coupe</td>\n",
       "      <td>2011</td>\n",
       "      <td>manual</td>\n",
       "      <td>190</td>\n",
       "      <td>NaN</td>\n",
       "      <td>125000</td>\n",
       "      <td>5</td>\n",
       "      <td>gasoline</td>\n",
       "      <td>audi</td>\n",
       "      <td>yes</td>\n",
       "      <td>2016-03-24 00:00:00</td>\n",
       "      <td>0</td>\n",
       "      <td>66954</td>\n",
       "      <td>2016-04-07 01:46:50</td>\n",
       "    </tr>\n",
       "    <tr>\n",
       "      <td>2</td>\n",
       "      <td>2016-03-14 12:52:21</td>\n",
       "      <td>9800</td>\n",
       "      <td>suv</td>\n",
       "      <td>2004</td>\n",
       "      <td>auto</td>\n",
       "      <td>163</td>\n",
       "      <td>grand</td>\n",
       "      <td>125000</td>\n",
       "      <td>8</td>\n",
       "      <td>gasoline</td>\n",
       "      <td>jeep</td>\n",
       "      <td>NaN</td>\n",
       "      <td>2016-03-14 00:00:00</td>\n",
       "      <td>0</td>\n",
       "      <td>90480</td>\n",
       "      <td>2016-04-05 12:47:46</td>\n",
       "    </tr>\n",
       "    <tr>\n",
       "      <td>3</td>\n",
       "      <td>2016-03-17 16:54:04</td>\n",
       "      <td>1500</td>\n",
       "      <td>small</td>\n",
       "      <td>2001</td>\n",
       "      <td>manual</td>\n",
       "      <td>75</td>\n",
       "      <td>golf</td>\n",
       "      <td>150000</td>\n",
       "      <td>6</td>\n",
       "      <td>petrol</td>\n",
       "      <td>volkswagen</td>\n",
       "      <td>no</td>\n",
       "      <td>2016-03-17 00:00:00</td>\n",
       "      <td>0</td>\n",
       "      <td>91074</td>\n",
       "      <td>2016-03-17 17:40:17</td>\n",
       "    </tr>\n",
       "    <tr>\n",
       "      <td>4</td>\n",
       "      <td>2016-03-31 17:25:20</td>\n",
       "      <td>3600</td>\n",
       "      <td>small</td>\n",
       "      <td>2008</td>\n",
       "      <td>manual</td>\n",
       "      <td>69</td>\n",
       "      <td>fabia</td>\n",
       "      <td>90000</td>\n",
       "      <td>7</td>\n",
       "      <td>gasoline</td>\n",
       "      <td>skoda</td>\n",
       "      <td>no</td>\n",
       "      <td>2016-03-31 00:00:00</td>\n",
       "      <td>0</td>\n",
       "      <td>60437</td>\n",
       "      <td>2016-04-06 10:17:21</td>\n",
       "    </tr>\n",
       "  </tbody>\n",
       "</table>\n",
       "</div>"
      ],
      "text/plain": [
       "           DateCrawled  Price VehicleType  RegistrationYear Gearbox  Power  \\\n",
       "0  2016-03-24 11:52:17    480         NaN              1993  manual      0   \n",
       "1  2016-03-24 10:58:45  18300       coupe              2011  manual    190   \n",
       "2  2016-03-14 12:52:21   9800         suv              2004    auto    163   \n",
       "3  2016-03-17 16:54:04   1500       small              2001  manual     75   \n",
       "4  2016-03-31 17:25:20   3600       small              2008  manual     69   \n",
       "\n",
       "   Model  Kilometer  RegistrationMonth  FuelType       Brand NotRepaired  \\\n",
       "0   golf     150000                  0    petrol  volkswagen         NaN   \n",
       "1    NaN     125000                  5  gasoline        audi         yes   \n",
       "2  grand     125000                  8  gasoline        jeep         NaN   \n",
       "3   golf     150000                  6    petrol  volkswagen          no   \n",
       "4  fabia      90000                  7  gasoline       skoda          no   \n",
       "\n",
       "           DateCreated  NumberOfPictures  PostalCode             LastSeen  \n",
       "0  2016-03-24 00:00:00                 0       70435  2016-04-07 03:16:57  \n",
       "1  2016-03-24 00:00:00                 0       66954  2016-04-07 01:46:50  \n",
       "2  2016-03-14 00:00:00                 0       90480  2016-04-05 12:47:46  \n",
       "3  2016-03-17 00:00:00                 0       91074  2016-03-17 17:40:17  \n",
       "4  2016-03-31 00:00:00                 0       60437  2016-04-06 10:17:21  "
      ]
     },
     "execution_count": 2,
     "metadata": {},
     "output_type": "execute_result"
    }
   ],
   "source": [
    "df = pd.read_csv('/datasets/autos.csv')\n",
    "df.head()"
   ]
  },
  {
   "cell_type": "code",
   "execution_count": 3,
   "metadata": {},
   "outputs": [
    {
     "name": "stdout",
     "output_type": "stream",
     "text": [
      "<class 'pandas.core.frame.DataFrame'>\n",
      "RangeIndex: 354369 entries, 0 to 354368\n",
      "Data columns (total 16 columns):\n",
      "DateCrawled          354369 non-null object\n",
      "Price                354369 non-null int64\n",
      "VehicleType          316879 non-null object\n",
      "RegistrationYear     354369 non-null int64\n",
      "Gearbox              334536 non-null object\n",
      "Power                354369 non-null int64\n",
      "Model                334664 non-null object\n",
      "Kilometer            354369 non-null int64\n",
      "RegistrationMonth    354369 non-null int64\n",
      "FuelType             321474 non-null object\n",
      "Brand                354369 non-null object\n",
      "NotRepaired          283215 non-null object\n",
      "DateCreated          354369 non-null object\n",
      "NumberOfPictures     354369 non-null int64\n",
      "PostalCode           354369 non-null int64\n",
      "LastSeen             354369 non-null object\n",
      "dtypes: int64(7), object(9)\n",
      "memory usage: 43.3+ MB\n"
     ]
    }
   ],
   "source": [
    "df.info()"
   ]
  },
  {
   "cell_type": "code",
   "execution_count": 4,
   "metadata": {},
   "outputs": [
    {
     "data": {
      "text/html": [
       "<div>\n",
       "<style scoped>\n",
       "    .dataframe tbody tr th:only-of-type {\n",
       "        vertical-align: middle;\n",
       "    }\n",
       "\n",
       "    .dataframe tbody tr th {\n",
       "        vertical-align: top;\n",
       "    }\n",
       "\n",
       "    .dataframe thead th {\n",
       "        text-align: right;\n",
       "    }\n",
       "</style>\n",
       "<table border=\"1\" class=\"dataframe\">\n",
       "  <thead>\n",
       "    <tr style=\"text-align: right;\">\n",
       "      <th></th>\n",
       "      <th>Price</th>\n",
       "      <th>RegistrationYear</th>\n",
       "      <th>Power</th>\n",
       "      <th>Kilometer</th>\n",
       "      <th>RegistrationMonth</th>\n",
       "      <th>NumberOfPictures</th>\n",
       "      <th>PostalCode</th>\n",
       "    </tr>\n",
       "  </thead>\n",
       "  <tbody>\n",
       "    <tr>\n",
       "      <td>count</td>\n",
       "      <td>354369.000000</td>\n",
       "      <td>354369.000000</td>\n",
       "      <td>354369.000000</td>\n",
       "      <td>354369.000000</td>\n",
       "      <td>354369.000000</td>\n",
       "      <td>354369.0</td>\n",
       "      <td>354369.000000</td>\n",
       "    </tr>\n",
       "    <tr>\n",
       "      <td>mean</td>\n",
       "      <td>4416.656776</td>\n",
       "      <td>2004.234448</td>\n",
       "      <td>110.094337</td>\n",
       "      <td>128211.172535</td>\n",
       "      <td>5.714645</td>\n",
       "      <td>0.0</td>\n",
       "      <td>50508.689087</td>\n",
       "    </tr>\n",
       "    <tr>\n",
       "      <td>std</td>\n",
       "      <td>4514.158514</td>\n",
       "      <td>90.227958</td>\n",
       "      <td>189.850405</td>\n",
       "      <td>37905.341530</td>\n",
       "      <td>3.726421</td>\n",
       "      <td>0.0</td>\n",
       "      <td>25783.096248</td>\n",
       "    </tr>\n",
       "    <tr>\n",
       "      <td>min</td>\n",
       "      <td>0.000000</td>\n",
       "      <td>1000.000000</td>\n",
       "      <td>0.000000</td>\n",
       "      <td>5000.000000</td>\n",
       "      <td>0.000000</td>\n",
       "      <td>0.0</td>\n",
       "      <td>1067.000000</td>\n",
       "    </tr>\n",
       "    <tr>\n",
       "      <td>25%</td>\n",
       "      <td>1050.000000</td>\n",
       "      <td>1999.000000</td>\n",
       "      <td>69.000000</td>\n",
       "      <td>125000.000000</td>\n",
       "      <td>3.000000</td>\n",
       "      <td>0.0</td>\n",
       "      <td>30165.000000</td>\n",
       "    </tr>\n",
       "    <tr>\n",
       "      <td>50%</td>\n",
       "      <td>2700.000000</td>\n",
       "      <td>2003.000000</td>\n",
       "      <td>105.000000</td>\n",
       "      <td>150000.000000</td>\n",
       "      <td>6.000000</td>\n",
       "      <td>0.0</td>\n",
       "      <td>49413.000000</td>\n",
       "    </tr>\n",
       "    <tr>\n",
       "      <td>75%</td>\n",
       "      <td>6400.000000</td>\n",
       "      <td>2008.000000</td>\n",
       "      <td>143.000000</td>\n",
       "      <td>150000.000000</td>\n",
       "      <td>9.000000</td>\n",
       "      <td>0.0</td>\n",
       "      <td>71083.000000</td>\n",
       "    </tr>\n",
       "    <tr>\n",
       "      <td>max</td>\n",
       "      <td>20000.000000</td>\n",
       "      <td>9999.000000</td>\n",
       "      <td>20000.000000</td>\n",
       "      <td>150000.000000</td>\n",
       "      <td>12.000000</td>\n",
       "      <td>0.0</td>\n",
       "      <td>99998.000000</td>\n",
       "    </tr>\n",
       "  </tbody>\n",
       "</table>\n",
       "</div>"
      ],
      "text/plain": [
       "               Price  RegistrationYear          Power      Kilometer  \\\n",
       "count  354369.000000     354369.000000  354369.000000  354369.000000   \n",
       "mean     4416.656776       2004.234448     110.094337  128211.172535   \n",
       "std      4514.158514         90.227958     189.850405   37905.341530   \n",
       "min         0.000000       1000.000000       0.000000    5000.000000   \n",
       "25%      1050.000000       1999.000000      69.000000  125000.000000   \n",
       "50%      2700.000000       2003.000000     105.000000  150000.000000   \n",
       "75%      6400.000000       2008.000000     143.000000  150000.000000   \n",
       "max     20000.000000       9999.000000   20000.000000  150000.000000   \n",
       "\n",
       "       RegistrationMonth  NumberOfPictures     PostalCode  \n",
       "count      354369.000000          354369.0  354369.000000  \n",
       "mean            5.714645               0.0   50508.689087  \n",
       "std             3.726421               0.0   25783.096248  \n",
       "min             0.000000               0.0    1067.000000  \n",
       "25%             3.000000               0.0   30165.000000  \n",
       "50%             6.000000               0.0   49413.000000  \n",
       "75%             9.000000               0.0   71083.000000  \n",
       "max            12.000000               0.0   99998.000000  "
      ]
     },
     "execution_count": 4,
     "metadata": {},
     "output_type": "execute_result"
    }
   ],
   "source": [
    "df.describe()"
   ]
  },
  {
   "cell_type": "markdown",
   "metadata": {},
   "source": [
    "**Видим ряд столбцов, которые не влияют не цену автомобиля - DateCrawled, RegistrationMonth, DateCreated, PostalCode, LastSeen, NumberOfPictures. Месяц регистрации по своему типу похож на год регистрации, но при покупке цена практически не зависит от данного параметра. Т.к. эти столбцы не влияют на цену, то они могут не включаться в модель. Далее речь пойдет только об оставшихся столбцах.\n",
    "Удалим лишние столбцы (не входят в признаки), чтобы не выводить лишние данные по датасету каждый раз.**"
   ]
  },
  {
   "cell_type": "code",
   "execution_count": 5,
   "metadata": {},
   "outputs": [
    {
     "data": {
      "text/html": [
       "<div>\n",
       "<style scoped>\n",
       "    .dataframe tbody tr th:only-of-type {\n",
       "        vertical-align: middle;\n",
       "    }\n",
       "\n",
       "    .dataframe tbody tr th {\n",
       "        vertical-align: top;\n",
       "    }\n",
       "\n",
       "    .dataframe thead th {\n",
       "        text-align: right;\n",
       "    }\n",
       "</style>\n",
       "<table border=\"1\" class=\"dataframe\">\n",
       "  <thead>\n",
       "    <tr style=\"text-align: right;\">\n",
       "      <th></th>\n",
       "      <th>Price</th>\n",
       "      <th>VehicleType</th>\n",
       "      <th>RegistrationYear</th>\n",
       "      <th>Gearbox</th>\n",
       "      <th>Power</th>\n",
       "      <th>Model</th>\n",
       "      <th>Kilometer</th>\n",
       "      <th>FuelType</th>\n",
       "      <th>Brand</th>\n",
       "      <th>NotRepaired</th>\n",
       "    </tr>\n",
       "  </thead>\n",
       "  <tbody>\n",
       "    <tr>\n",
       "      <td>0</td>\n",
       "      <td>480</td>\n",
       "      <td>NaN</td>\n",
       "      <td>1993</td>\n",
       "      <td>manual</td>\n",
       "      <td>0</td>\n",
       "      <td>golf</td>\n",
       "      <td>150000</td>\n",
       "      <td>petrol</td>\n",
       "      <td>volkswagen</td>\n",
       "      <td>NaN</td>\n",
       "    </tr>\n",
       "    <tr>\n",
       "      <td>1</td>\n",
       "      <td>18300</td>\n",
       "      <td>coupe</td>\n",
       "      <td>2011</td>\n",
       "      <td>manual</td>\n",
       "      <td>190</td>\n",
       "      <td>NaN</td>\n",
       "      <td>125000</td>\n",
       "      <td>gasoline</td>\n",
       "      <td>audi</td>\n",
       "      <td>yes</td>\n",
       "    </tr>\n",
       "    <tr>\n",
       "      <td>2</td>\n",
       "      <td>9800</td>\n",
       "      <td>suv</td>\n",
       "      <td>2004</td>\n",
       "      <td>auto</td>\n",
       "      <td>163</td>\n",
       "      <td>grand</td>\n",
       "      <td>125000</td>\n",
       "      <td>gasoline</td>\n",
       "      <td>jeep</td>\n",
       "      <td>NaN</td>\n",
       "    </tr>\n",
       "    <tr>\n",
       "      <td>3</td>\n",
       "      <td>1500</td>\n",
       "      <td>small</td>\n",
       "      <td>2001</td>\n",
       "      <td>manual</td>\n",
       "      <td>75</td>\n",
       "      <td>golf</td>\n",
       "      <td>150000</td>\n",
       "      <td>petrol</td>\n",
       "      <td>volkswagen</td>\n",
       "      <td>no</td>\n",
       "    </tr>\n",
       "    <tr>\n",
       "      <td>4</td>\n",
       "      <td>3600</td>\n",
       "      <td>small</td>\n",
       "      <td>2008</td>\n",
       "      <td>manual</td>\n",
       "      <td>69</td>\n",
       "      <td>fabia</td>\n",
       "      <td>90000</td>\n",
       "      <td>gasoline</td>\n",
       "      <td>skoda</td>\n",
       "      <td>no</td>\n",
       "    </tr>\n",
       "  </tbody>\n",
       "</table>\n",
       "</div>"
      ],
      "text/plain": [
       "   Price VehicleType  RegistrationYear Gearbox  Power  Model  Kilometer  \\\n",
       "0    480         NaN              1993  manual      0   golf     150000   \n",
       "1  18300       coupe              2011  manual    190    NaN     125000   \n",
       "2   9800         suv              2004    auto    163  grand     125000   \n",
       "3   1500       small              2001  manual     75   golf     150000   \n",
       "4   3600       small              2008  manual     69  fabia      90000   \n",
       "\n",
       "   FuelType       Brand NotRepaired  \n",
       "0    petrol  volkswagen         NaN  \n",
       "1  gasoline        audi         yes  \n",
       "2  gasoline        jeep         NaN  \n",
       "3    petrol  volkswagen          no  \n",
       "4  gasoline       skoda          no  "
      ]
     },
     "execution_count": 5,
     "metadata": {},
     "output_type": "execute_result"
    }
   ],
   "source": [
    "not_features = ['DateCrawled', 'RegistrationMonth', 'DateCreated', 'PostalCode', 'LastSeen', 'NumberOfPictures']\n",
    "df = df.drop(not_features, axis=1)\n",
    "df.head()"
   ]
  },
  {
   "cell_type": "markdown",
   "metadata": {},
   "source": [
    "### Обработка и заполнение пропусков."
   ]
  },
  {
   "cell_type": "code",
   "execution_count": 6,
   "metadata": {},
   "outputs": [
    {
     "data": {
      "text/plain": [
       "sedan          91457\n",
       "small          79831\n",
       "wagon          65166\n",
       "NaN            37490\n",
       "bus            28775\n",
       "convertible    20203\n",
       "coupe          16163\n",
       "suv            11996\n",
       "other           3288\n",
       "Name: VehicleType, dtype: int64"
      ]
     },
     "execution_count": 6,
     "metadata": {},
     "output_type": "execute_result"
    }
   ],
   "source": [
    "df['VehicleType'].value_counts(dropna=False)"
   ]
  },
  {
   "cell_type": "markdown",
   "metadata": {},
   "source": [
    "**Наравне с нормальными типами кузовов, имеются как пропуски, так и просто кузов под названием other. Посмотрим сколько пропусков в типе кузова и как заполнены другие данные для таких строк.**"
   ]
  },
  {
   "cell_type": "code",
   "execution_count": 7,
   "metadata": {},
   "outputs": [
    {
     "name": "stdout",
     "output_type": "stream",
     "text": [
      "<class 'pandas.core.frame.DataFrame'>\n",
      "Int64Index: 37490 entries, 0 to 354365\n",
      "Data columns (total 10 columns):\n",
      "Price               37490 non-null int64\n",
      "VehicleType         0 non-null object\n",
      "RegistrationYear    37490 non-null int64\n",
      "Gearbox             27520 non-null object\n",
      "Power               37490 non-null int64\n",
      "Model               30662 non-null object\n",
      "Kilometer           37490 non-null int64\n",
      "FuelType            20195 non-null object\n",
      "Brand               37490 non-null object\n",
      "NotRepaired         16919 non-null object\n",
      "dtypes: int64(4), object(6)\n",
      "memory usage: 3.1+ MB\n"
     ]
    }
   ],
   "source": [
    "df[df['VehicleType'].isna()].info()"
   ]
  },
  {
   "cell_type": "markdown",
   "metadata": {},
   "source": [
    "**Логично будет предположить, что пропуски в типах кузова можно заполнить исходя из модели автомобиля. При этом всего для 30662 объектов указана модель, значит только для них можно выявить тип кузова на основе схожих данных, а остальные данные можно заменить на значение other.**"
   ]
  },
  {
   "cell_type": "code",
   "execution_count": 8,
   "metadata": {},
   "outputs": [],
   "source": [
    "df['Model'] = df['Model'].fillna('other')"
   ]
  },
  {
   "cell_type": "code",
   "execution_count": 9,
   "metadata": {},
   "outputs": [
    {
     "name": "stdout",
     "output_type": "stream",
     "text": [
      "<class 'pandas.core.frame.DataFrame'>\n",
      "RangeIndex: 354369 entries, 0 to 354368\n",
      "Data columns (total 10 columns):\n",
      "Price               354369 non-null int64\n",
      "VehicleType         316879 non-null object\n",
      "RegistrationYear    354369 non-null int64\n",
      "Gearbox             334536 non-null object\n",
      "Power               354369 non-null int64\n",
      "Model               354369 non-null object\n",
      "Kilometer           354369 non-null int64\n",
      "FuelType            321474 non-null object\n",
      "Brand               354369 non-null object\n",
      "NotRepaired         283215 non-null object\n",
      "dtypes: int64(4), object(6)\n",
      "memory usage: 27.0+ MB\n"
     ]
    }
   ],
   "source": [
    "df.info()"
   ]
  },
  {
   "cell_type": "code",
   "execution_count": 10,
   "metadata": {},
   "outputs": [
    {
     "name": "stdout",
     "output_type": "stream",
     "text": [
      "<class 'pandas.core.frame.DataFrame'>\n",
      "RangeIndex: 354369 entries, 0 to 354368\n",
      "Data columns (total 10 columns):\n",
      "Price               354369 non-null int64\n",
      "VehicleType         354369 non-null object\n",
      "RegistrationYear    354369 non-null int64\n",
      "Gearbox             334536 non-null object\n",
      "Power               354369 non-null int64\n",
      "Model               354369 non-null object\n",
      "Kilometer           354369 non-null int64\n",
      "FuelType            321474 non-null object\n",
      "Brand               354369 non-null object\n",
      "NotRepaired         283215 non-null object\n",
      "dtypes: int64(4), object(6)\n",
      "memory usage: 27.0+ MB\n"
     ]
    }
   ],
   "source": [
    "# Аналогично заполняем VehicleType.\n",
    "df['VehicleType'] = df['VehicleType'].fillna('other')\n",
    "df.info()"
   ]
  },
  {
   "cell_type": "code",
   "execution_count": 11,
   "metadata": {},
   "outputs": [
    {
     "data": {
      "text/plain": [
       "manual    268251\n",
       "auto       66285\n",
       "NaN        19833\n",
       "Name: Gearbox, dtype: int64"
      ]
     },
     "execution_count": 11,
     "metadata": {},
     "output_type": "execute_result"
    }
   ],
   "source": [
    "df['Gearbox'].value_counts(dropna=False)"
   ]
  },
  {
   "cell_type": "markdown",
   "metadata": {},
   "source": [
    "**Видим, что в общем количестве больше всего авто на ручной коробке передач.\n",
    "Произведем заполнение пропусков также значением \"other\".**"
   ]
  },
  {
   "cell_type": "code",
   "execution_count": 12,
   "metadata": {},
   "outputs": [
    {
     "name": "stdout",
     "output_type": "stream",
     "text": [
      "<class 'pandas.core.frame.DataFrame'>\n",
      "RangeIndex: 354369 entries, 0 to 354368\n",
      "Data columns (total 10 columns):\n",
      "Price               354369 non-null int64\n",
      "VehicleType         354369 non-null object\n",
      "RegistrationYear    354369 non-null int64\n",
      "Gearbox             354369 non-null object\n",
      "Power               354369 non-null int64\n",
      "Model               354369 non-null object\n",
      "Kilometer           354369 non-null int64\n",
      "FuelType            321474 non-null object\n",
      "Brand               354369 non-null object\n",
      "NotRepaired         283215 non-null object\n",
      "dtypes: int64(4), object(6)\n",
      "memory usage: 27.0+ MB\n"
     ]
    }
   ],
   "source": [
    "df['Gearbox'] = df['Gearbox'].fillna('other')\n",
    "df.info()"
   ]
  },
  {
   "cell_type": "code",
   "execution_count": 13,
   "metadata": {},
   "outputs": [
    {
     "data": {
      "text/plain": [
       "petrol      216352\n",
       "gasoline     98720\n",
       "NaN          32895\n",
       "lpg           5310\n",
       "cng            565\n",
       "hybrid         233\n",
       "other          204\n",
       "electric        90\n",
       "Name: FuelType, dtype: int64"
      ]
     },
     "execution_count": 13,
     "metadata": {},
     "output_type": "execute_result"
    }
   ],
   "source": [
    "df['FuelType'].value_counts(dropna=False)"
   ]
  },
  {
   "cell_type": "code",
   "execution_count": 14,
   "metadata": {},
   "outputs": [
    {
     "name": "stdout",
     "output_type": "stream",
     "text": [
      "<class 'pandas.core.frame.DataFrame'>\n",
      "RangeIndex: 354369 entries, 0 to 354368\n",
      "Data columns (total 10 columns):\n",
      "Price               354369 non-null int64\n",
      "VehicleType         354369 non-null object\n",
      "RegistrationYear    354369 non-null int64\n",
      "Gearbox             354369 non-null object\n",
      "Power               354369 non-null int64\n",
      "Model               354369 non-null object\n",
      "Kilometer           354369 non-null int64\n",
      "FuelType            354369 non-null object\n",
      "Brand               354369 non-null object\n",
      "NotRepaired         283215 non-null object\n",
      "dtypes: int64(4), object(6)\n",
      "memory usage: 27.0+ MB\n"
     ]
    }
   ],
   "source": [
    "# Аналогично коробке произведем заполнение пропусков для типа топлива.\n",
    "df['FuelType'] = df['FuelType'].fillna('other')\n",
    "df.info()"
   ]
  },
  {
   "cell_type": "code",
   "execution_count": 15,
   "metadata": {
    "scrolled": true
   },
   "outputs": [
    {
     "data": {
      "text/plain": [
       "no     247161\n",
       "NaN     71154\n",
       "yes     36054\n",
       "Name: NotRepaired, dtype: int64"
      ]
     },
     "execution_count": 15,
     "metadata": {},
     "output_type": "execute_result"
    }
   ],
   "source": [
    "df['NotRepaired'].value_counts(dropna=False)"
   ]
  },
  {
   "cell_type": "markdown",
   "metadata": {},
   "source": [
    "**Видим, что неотремонтированных автомобилей в 7 раза больше, чем ремонтированных. Пропуски в данных скорее всего обусловленны тем, что люди при добавлении объявления на сайт пропускали эту графу, дав понять, что автомобиль не был в ремонте. Опираясь на эти предположения наиболее логичным представляется заполнить пропуски значениями no.**"
   ]
  },
  {
   "cell_type": "code",
   "execution_count": 16,
   "metadata": {},
   "outputs": [],
   "source": [
    "df['NotRepaired'] = df['NotRepaired'].fillna('no')"
   ]
  },
  {
   "cell_type": "code",
   "execution_count": 17,
   "metadata": {},
   "outputs": [
    {
     "data": {
      "text/plain": [
       "no     318315\n",
       "yes     36054\n",
       "Name: NotRepaired, dtype: int64"
      ]
     },
     "execution_count": 17,
     "metadata": {},
     "output_type": "execute_result"
    }
   ],
   "source": [
    "df['NotRepaired'].value_counts(dropna=False)"
   ]
  },
  {
   "cell_type": "markdown",
   "metadata": {},
   "source": [
    "### Обработка аномальных значений в целевом столбце."
   ]
  },
  {
   "cell_type": "code",
   "execution_count": 18,
   "metadata": {},
   "outputs": [
    {
     "data": {
      "text/plain": [
       "<matplotlib.axes._subplots.AxesSubplot at 0x7fc8897e85d0>"
      ]
     },
     "execution_count": 18,
     "metadata": {},
     "output_type": "execute_result"
    },
    {
     "data": {
      "image/png": "[encoded data removed]",
      "text/plain": [
       "<Figure size 936x504 with 1 Axes>"
      ]
     },
     "metadata": {
      "needs_background": "light"
     },
     "output_type": "display_data"
    }
   ],
   "source": [
    "plt.figure(figsize=(13,7))\n",
    "sns.boxplot(df['Price'])"
   ]
  },
  {
   "cell_type": "markdown",
   "metadata": {},
   "source": [
    "**Граница правого уса заканчивается на 14500 тысячах евро, далее идут более дорогие машины. Необходимо посмотреть примеры таких машин и определиться являются ли их цены ошибками или они действительно так стоят. Также достаточно большое количество машин стоимостью от 0 до 500 евро. По ним также посмотрим данные более подробно.**"
   ]
  },
  {
   "cell_type": "code",
   "execution_count": 19,
   "metadata": {},
   "outputs": [
    {
     "data": {
      "text/html": [
       "<div>\n",
       "<style scoped>\n",
       "    .dataframe tbody tr th:only-of-type {\n",
       "        vertical-align: middle;\n",
       "    }\n",
       "\n",
       "    .dataframe tbody tr th {\n",
       "        vertical-align: top;\n",
       "    }\n",
       "\n",
       "    .dataframe thead th {\n",
       "        text-align: right;\n",
       "    }\n",
       "</style>\n",
       "<table border=\"1\" class=\"dataframe\">\n",
       "  <thead>\n",
       "    <tr style=\"text-align: right;\">\n",
       "      <th></th>\n",
       "      <th>Price</th>\n",
       "      <th>VehicleType</th>\n",
       "      <th>RegistrationYear</th>\n",
       "      <th>Gearbox</th>\n",
       "      <th>Power</th>\n",
       "      <th>Model</th>\n",
       "      <th>Kilometer</th>\n",
       "      <th>FuelType</th>\n",
       "      <th>Brand</th>\n",
       "      <th>NotRepaired</th>\n",
       "    </tr>\n",
       "  </thead>\n",
       "  <tbody>\n",
       "    <tr>\n",
       "      <td>7</td>\n",
       "      <td>0</td>\n",
       "      <td>sedan</td>\n",
       "      <td>1980</td>\n",
       "      <td>manual</td>\n",
       "      <td>50</td>\n",
       "      <td>other</td>\n",
       "      <td>40000</td>\n",
       "      <td>petrol</td>\n",
       "      <td>volkswagen</td>\n",
       "      <td>no</td>\n",
       "    </tr>\n",
       "    <tr>\n",
       "      <td>40</td>\n",
       "      <td>0</td>\n",
       "      <td>other</td>\n",
       "      <td>1990</td>\n",
       "      <td>other</td>\n",
       "      <td>0</td>\n",
       "      <td>corsa</td>\n",
       "      <td>150000</td>\n",
       "      <td>petrol</td>\n",
       "      <td>opel</td>\n",
       "      <td>no</td>\n",
       "    </tr>\n",
       "    <tr>\n",
       "      <td>59</td>\n",
       "      <td>1</td>\n",
       "      <td>suv</td>\n",
       "      <td>1994</td>\n",
       "      <td>manual</td>\n",
       "      <td>286</td>\n",
       "      <td>other</td>\n",
       "      <td>150000</td>\n",
       "      <td>other</td>\n",
       "      <td>sonstige_autos</td>\n",
       "      <td>no</td>\n",
       "    </tr>\n",
       "    <tr>\n",
       "      <td>89</td>\n",
       "      <td>1</td>\n",
       "      <td>sedan</td>\n",
       "      <td>1995</td>\n",
       "      <td>manual</td>\n",
       "      <td>113</td>\n",
       "      <td>e_klasse</td>\n",
       "      <td>150000</td>\n",
       "      <td>gasoline</td>\n",
       "      <td>mercedes_benz</td>\n",
       "      <td>no</td>\n",
       "    </tr>\n",
       "    <tr>\n",
       "      <td>111</td>\n",
       "      <td>0</td>\n",
       "      <td>other</td>\n",
       "      <td>2017</td>\n",
       "      <td>manual</td>\n",
       "      <td>0</td>\n",
       "      <td>golf</td>\n",
       "      <td>5000</td>\n",
       "      <td>petrol</td>\n",
       "      <td>volkswagen</td>\n",
       "      <td>no</td>\n",
       "    </tr>\n",
       "    <tr>\n",
       "      <td>...</td>\n",
       "      <td>...</td>\n",
       "      <td>...</td>\n",
       "      <td>...</td>\n",
       "      <td>...</td>\n",
       "      <td>...</td>\n",
       "      <td>...</td>\n",
       "      <td>...</td>\n",
       "      <td>...</td>\n",
       "      <td>...</td>\n",
       "      <td>...</td>\n",
       "    </tr>\n",
       "    <tr>\n",
       "      <td>354238</td>\n",
       "      <td>0</td>\n",
       "      <td>small</td>\n",
       "      <td>2002</td>\n",
       "      <td>manual</td>\n",
       "      <td>60</td>\n",
       "      <td>fiesta</td>\n",
       "      <td>150000</td>\n",
       "      <td>petrol</td>\n",
       "      <td>ford</td>\n",
       "      <td>no</td>\n",
       "    </tr>\n",
       "    <tr>\n",
       "      <td>354248</td>\n",
       "      <td>0</td>\n",
       "      <td>small</td>\n",
       "      <td>1999</td>\n",
       "      <td>manual</td>\n",
       "      <td>53</td>\n",
       "      <td>swift</td>\n",
       "      <td>150000</td>\n",
       "      <td>petrol</td>\n",
       "      <td>suzuki</td>\n",
       "      <td>no</td>\n",
       "    </tr>\n",
       "    <tr>\n",
       "      <td>354277</td>\n",
       "      <td>0</td>\n",
       "      <td>small</td>\n",
       "      <td>1999</td>\n",
       "      <td>manual</td>\n",
       "      <td>37</td>\n",
       "      <td>arosa</td>\n",
       "      <td>150000</td>\n",
       "      <td>petrol</td>\n",
       "      <td>seat</td>\n",
       "      <td>yes</td>\n",
       "    </tr>\n",
       "    <tr>\n",
       "      <td>354309</td>\n",
       "      <td>99</td>\n",
       "      <td>small</td>\n",
       "      <td>1999</td>\n",
       "      <td>manual</td>\n",
       "      <td>60</td>\n",
       "      <td>arosa</td>\n",
       "      <td>150000</td>\n",
       "      <td>petrol</td>\n",
       "      <td>seat</td>\n",
       "      <td>yes</td>\n",
       "    </tr>\n",
       "    <tr>\n",
       "      <td>354364</td>\n",
       "      <td>0</td>\n",
       "      <td>other</td>\n",
       "      <td>2005</td>\n",
       "      <td>manual</td>\n",
       "      <td>0</td>\n",
       "      <td>colt</td>\n",
       "      <td>150000</td>\n",
       "      <td>petrol</td>\n",
       "      <td>mitsubishi</td>\n",
       "      <td>yes</td>\n",
       "    </tr>\n",
       "  </tbody>\n",
       "</table>\n",
       "<p>13314 rows × 10 columns</p>\n",
       "</div>"
      ],
      "text/plain": [
       "        Price VehicleType  RegistrationYear Gearbox  Power     Model  \\\n",
       "7           0       sedan              1980  manual     50     other   \n",
       "40          0       other              1990   other      0     corsa   \n",
       "59          1         suv              1994  manual    286     other   \n",
       "89          1       sedan              1995  manual    113  e_klasse   \n",
       "111         0       other              2017  manual      0      golf   \n",
       "...       ...         ...               ...     ...    ...       ...   \n",
       "354238      0       small              2002  manual     60    fiesta   \n",
       "354248      0       small              1999  manual     53     swift   \n",
       "354277      0       small              1999  manual     37     arosa   \n",
       "354309     99       small              1999  manual     60     arosa   \n",
       "354364      0       other              2005  manual      0      colt   \n",
       "\n",
       "        Kilometer  FuelType           Brand NotRepaired  \n",
       "7           40000    petrol      volkswagen          no  \n",
       "40         150000    petrol            opel          no  \n",
       "59         150000     other  sonstige_autos          no  \n",
       "89         150000  gasoline   mercedes_benz          no  \n",
       "111          5000    petrol      volkswagen          no  \n",
       "...           ...       ...             ...         ...  \n",
       "354238     150000    petrol            ford          no  \n",
       "354248     150000    petrol          suzuki          no  \n",
       "354277     150000    petrol            seat         yes  \n",
       "354309     150000    petrol            seat         yes  \n",
       "354364     150000    petrol      mitsubishi         yes  \n",
       "\n",
       "[13314 rows x 10 columns]"
      ]
     },
     "execution_count": 19,
     "metadata": {},
     "output_type": "execute_result"
    }
   ],
   "source": [
    "df[df['Price'] < 100]"
   ]
  },
  {
   "cell_type": "code",
   "execution_count": 20,
   "metadata": {},
   "outputs": [
    {
     "data": {
      "text/plain": [
       "no     8767\n",
       "yes    2005\n",
       "Name: NotRepaired, dtype: int64"
      ]
     },
     "execution_count": 20,
     "metadata": {},
     "output_type": "execute_result"
    }
   ],
   "source": [
    "df[df['Price'] == 0]['NotRepaired'].value_counts()"
   ]
  },
  {
   "cell_type": "code",
   "execution_count": 21,
   "metadata": {},
   "outputs": [
    {
     "data": {
      "text/plain": [
       "no     10752\n",
       "yes     2562\n",
       "Name: NotRepaired, dtype: int64"
      ]
     },
     "execution_count": 21,
     "metadata": {},
     "output_type": "execute_result"
    }
   ],
   "source": [
    "df[df['Price'] < 100]['NotRepaired'].value_counts()"
   ]
  },
  {
   "cell_type": "markdown",
   "metadata": {},
   "source": [
    "**Проанализировав данные по низким ценам можно сделать следующие предположения:**\n",
    " - По большей части до 100 евро продаются битые машины.\n",
    " - Очень много данных, где цена авто = 0. Скорее всего люди просто хотят избавиться от старого ненужного авто, но возможно, что это ошибка заполнения данных. Так как мы не можем установить истину относительно таких значений, то авто с 0-й ценой лучше исключить из датасета.\n",
    " - Если предположить, что машина битая, то она может продаваться за такую цену, но целая машина точно не может стоить меньше хотя бы 100 евро. Поэтому небитые машины с ценой менее 100 евро также исключим из датасета."
   ]
  },
  {
   "cell_type": "markdown",
   "metadata": {},
   "source": [
    "**Теперь проанализируем другой конец распределения -  дорогие машины.**"
   ]
  },
  {
   "cell_type": "code",
   "execution_count": 22,
   "metadata": {},
   "outputs": [
    {
     "data": {
      "text/html": [
       "<div>\n",
       "<style scoped>\n",
       "    .dataframe tbody tr th:only-of-type {\n",
       "        vertical-align: middle;\n",
       "    }\n",
       "\n",
       "    .dataframe tbody tr th {\n",
       "        vertical-align: top;\n",
       "    }\n",
       "\n",
       "    .dataframe thead th {\n",
       "        text-align: right;\n",
       "    }\n",
       "</style>\n",
       "<table border=\"1\" class=\"dataframe\">\n",
       "  <thead>\n",
       "    <tr style=\"text-align: right;\">\n",
       "      <th></th>\n",
       "      <th>Price</th>\n",
       "      <th>VehicleType</th>\n",
       "      <th>RegistrationYear</th>\n",
       "      <th>Gearbox</th>\n",
       "      <th>Power</th>\n",
       "      <th>Model</th>\n",
       "      <th>Kilometer</th>\n",
       "      <th>FuelType</th>\n",
       "      <th>Brand</th>\n",
       "      <th>NotRepaired</th>\n",
       "    </tr>\n",
       "  </thead>\n",
       "  <tbody>\n",
       "    <tr>\n",
       "      <td>1</td>\n",
       "      <td>18300</td>\n",
       "      <td>coupe</td>\n",
       "      <td>2011</td>\n",
       "      <td>manual</td>\n",
       "      <td>190</td>\n",
       "      <td>other</td>\n",
       "      <td>125000</td>\n",
       "      <td>gasoline</td>\n",
       "      <td>audi</td>\n",
       "      <td>yes</td>\n",
       "    </tr>\n",
       "    <tr>\n",
       "      <td>14</td>\n",
       "      <td>17999</td>\n",
       "      <td>suv</td>\n",
       "      <td>2011</td>\n",
       "      <td>manual</td>\n",
       "      <td>190</td>\n",
       "      <td>navara</td>\n",
       "      <td>70000</td>\n",
       "      <td>gasoline</td>\n",
       "      <td>nissan</td>\n",
       "      <td>no</td>\n",
       "    </tr>\n",
       "    <tr>\n",
       "      <td>33</td>\n",
       "      <td>18000</td>\n",
       "      <td>sedan</td>\n",
       "      <td>2007</td>\n",
       "      <td>auto</td>\n",
       "      <td>218</td>\n",
       "      <td>3er</td>\n",
       "      <td>20000</td>\n",
       "      <td>petrol</td>\n",
       "      <td>bmw</td>\n",
       "      <td>no</td>\n",
       "    </tr>\n",
       "    <tr>\n",
       "      <td>172</td>\n",
       "      <td>19750</td>\n",
       "      <td>convertible</td>\n",
       "      <td>2006</td>\n",
       "      <td>manual</td>\n",
       "      <td>305</td>\n",
       "      <td>mustang</td>\n",
       "      <td>50000</td>\n",
       "      <td>petrol</td>\n",
       "      <td>ford</td>\n",
       "      <td>no</td>\n",
       "    </tr>\n",
       "    <tr>\n",
       "      <td>179</td>\n",
       "      <td>16449</td>\n",
       "      <td>wagon</td>\n",
       "      <td>2015</td>\n",
       "      <td>auto</td>\n",
       "      <td>110</td>\n",
       "      <td>fabia</td>\n",
       "      <td>10000</td>\n",
       "      <td>petrol</td>\n",
       "      <td>skoda</td>\n",
       "      <td>no</td>\n",
       "    </tr>\n",
       "    <tr>\n",
       "      <td>204</td>\n",
       "      <td>18400</td>\n",
       "      <td>wagon</td>\n",
       "      <td>2011</td>\n",
       "      <td>auto</td>\n",
       "      <td>313</td>\n",
       "      <td>5er</td>\n",
       "      <td>150000</td>\n",
       "      <td>gasoline</td>\n",
       "      <td>bmw</td>\n",
       "      <td>no</td>\n",
       "    </tr>\n",
       "    <tr>\n",
       "      <td>236</td>\n",
       "      <td>15700</td>\n",
       "      <td>sedan</td>\n",
       "      <td>2011</td>\n",
       "      <td>manual</td>\n",
       "      <td>170</td>\n",
       "      <td>golf</td>\n",
       "      <td>90000</td>\n",
       "      <td>gasoline</td>\n",
       "      <td>volkswagen</td>\n",
       "      <td>no</td>\n",
       "    </tr>\n",
       "    <tr>\n",
       "      <td>282</td>\n",
       "      <td>18700</td>\n",
       "      <td>coupe</td>\n",
       "      <td>2009</td>\n",
       "      <td>auto</td>\n",
       "      <td>213</td>\n",
       "      <td>mustang</td>\n",
       "      <td>80000</td>\n",
       "      <td>petrol</td>\n",
       "      <td>ford</td>\n",
       "      <td>no</td>\n",
       "    </tr>\n",
       "    <tr>\n",
       "      <td>287</td>\n",
       "      <td>16150</td>\n",
       "      <td>suv</td>\n",
       "      <td>2011</td>\n",
       "      <td>manual</td>\n",
       "      <td>150</td>\n",
       "      <td>tiguan</td>\n",
       "      <td>30000</td>\n",
       "      <td>petrol</td>\n",
       "      <td>volkswagen</td>\n",
       "      <td>no</td>\n",
       "    </tr>\n",
       "    <tr>\n",
       "      <td>313</td>\n",
       "      <td>16500</td>\n",
       "      <td>coupe</td>\n",
       "      <td>2007</td>\n",
       "      <td>manual</td>\n",
       "      <td>265</td>\n",
       "      <td>z_reihe</td>\n",
       "      <td>150000</td>\n",
       "      <td>petrol</td>\n",
       "      <td>bmw</td>\n",
       "      <td>no</td>\n",
       "    </tr>\n",
       "    <tr>\n",
       "      <td>337</td>\n",
       "      <td>18880</td>\n",
       "      <td>bus</td>\n",
       "      <td>2014</td>\n",
       "      <td>manual</td>\n",
       "      <td>116</td>\n",
       "      <td>5_reihe</td>\n",
       "      <td>20000</td>\n",
       "      <td>gasoline</td>\n",
       "      <td>mazda</td>\n",
       "      <td>no</td>\n",
       "    </tr>\n",
       "    <tr>\n",
       "      <td>362</td>\n",
       "      <td>16500</td>\n",
       "      <td>coupe</td>\n",
       "      <td>1983</td>\n",
       "      <td>manual</td>\n",
       "      <td>218</td>\n",
       "      <td>6er</td>\n",
       "      <td>150000</td>\n",
       "      <td>petrol</td>\n",
       "      <td>bmw</td>\n",
       "      <td>no</td>\n",
       "    </tr>\n",
       "    <tr>\n",
       "      <td>388</td>\n",
       "      <td>17500</td>\n",
       "      <td>sedan</td>\n",
       "      <td>2013</td>\n",
       "      <td>manual</td>\n",
       "      <td>122</td>\n",
       "      <td>a_klasse</td>\n",
       "      <td>40000</td>\n",
       "      <td>petrol</td>\n",
       "      <td>mercedes_benz</td>\n",
       "      <td>no</td>\n",
       "    </tr>\n",
       "    <tr>\n",
       "      <td>411</td>\n",
       "      <td>15500</td>\n",
       "      <td>suv</td>\n",
       "      <td>2008</td>\n",
       "      <td>auto</td>\n",
       "      <td>239</td>\n",
       "      <td>touareg</td>\n",
       "      <td>150000</td>\n",
       "      <td>gasoline</td>\n",
       "      <td>volkswagen</td>\n",
       "      <td>no</td>\n",
       "    </tr>\n",
       "    <tr>\n",
       "      <td>480</td>\n",
       "      <td>16500</td>\n",
       "      <td>bus</td>\n",
       "      <td>2012</td>\n",
       "      <td>manual</td>\n",
       "      <td>140</td>\n",
       "      <td>galaxy</td>\n",
       "      <td>80000</td>\n",
       "      <td>gasoline</td>\n",
       "      <td>ford</td>\n",
       "      <td>no</td>\n",
       "    </tr>\n",
       "    <tr>\n",
       "      <td>484</td>\n",
       "      <td>19900</td>\n",
       "      <td>bus</td>\n",
       "      <td>2009</td>\n",
       "      <td>manual</td>\n",
       "      <td>150</td>\n",
       "      <td>viano</td>\n",
       "      <td>90000</td>\n",
       "      <td>gasoline</td>\n",
       "      <td>mercedes_benz</td>\n",
       "      <td>no</td>\n",
       "    </tr>\n",
       "    <tr>\n",
       "      <td>485</td>\n",
       "      <td>15200</td>\n",
       "      <td>sedan</td>\n",
       "      <td>2007</td>\n",
       "      <td>auto</td>\n",
       "      <td>320</td>\n",
       "      <td>s_klasse</td>\n",
       "      <td>150000</td>\n",
       "      <td>gasoline</td>\n",
       "      <td>mercedes_benz</td>\n",
       "      <td>no</td>\n",
       "    </tr>\n",
       "    <tr>\n",
       "      <td>521</td>\n",
       "      <td>18300</td>\n",
       "      <td>suv</td>\n",
       "      <td>2013</td>\n",
       "      <td>manual</td>\n",
       "      <td>122</td>\n",
       "      <td>tiguan</td>\n",
       "      <td>40000</td>\n",
       "      <td>petrol</td>\n",
       "      <td>volkswagen</td>\n",
       "      <td>no</td>\n",
       "    </tr>\n",
       "    <tr>\n",
       "      <td>584</td>\n",
       "      <td>16299</td>\n",
       "      <td>sedan</td>\n",
       "      <td>2010</td>\n",
       "      <td>auto</td>\n",
       "      <td>239</td>\n",
       "      <td>a5</td>\n",
       "      <td>150000</td>\n",
       "      <td>gasoline</td>\n",
       "      <td>audi</td>\n",
       "      <td>no</td>\n",
       "    </tr>\n",
       "    <tr>\n",
       "      <td>593</td>\n",
       "      <td>15750</td>\n",
       "      <td>wagon</td>\n",
       "      <td>2011</td>\n",
       "      <td>manual</td>\n",
       "      <td>184</td>\n",
       "      <td>3er</td>\n",
       "      <td>125000</td>\n",
       "      <td>gasoline</td>\n",
       "      <td>bmw</td>\n",
       "      <td>no</td>\n",
       "    </tr>\n",
       "  </tbody>\n",
       "</table>\n",
       "</div>"
      ],
      "text/plain": [
       "     Price  VehicleType  RegistrationYear Gearbox  Power     Model  Kilometer  \\\n",
       "1    18300        coupe              2011  manual    190     other     125000   \n",
       "14   17999          suv              2011  manual    190    navara      70000   \n",
       "33   18000        sedan              2007    auto    218       3er      20000   \n",
       "172  19750  convertible              2006  manual    305   mustang      50000   \n",
       "179  16449        wagon              2015    auto    110     fabia      10000   \n",
       "204  18400        wagon              2011    auto    313       5er     150000   \n",
       "236  15700        sedan              2011  manual    170      golf      90000   \n",
       "282  18700        coupe              2009    auto    213   mustang      80000   \n",
       "287  16150          suv              2011  manual    150    tiguan      30000   \n",
       "313  16500        coupe              2007  manual    265   z_reihe     150000   \n",
       "337  18880          bus              2014  manual    116   5_reihe      20000   \n",
       "362  16500        coupe              1983  manual    218       6er     150000   \n",
       "388  17500        sedan              2013  manual    122  a_klasse      40000   \n",
       "411  15500          suv              2008    auto    239   touareg     150000   \n",
       "480  16500          bus              2012  manual    140    galaxy      80000   \n",
       "484  19900          bus              2009  manual    150     viano      90000   \n",
       "485  15200        sedan              2007    auto    320  s_klasse     150000   \n",
       "521  18300          suv              2013  manual    122    tiguan      40000   \n",
       "584  16299        sedan              2010    auto    239        a5     150000   \n",
       "593  15750        wagon              2011  manual    184       3er     125000   \n",
       "\n",
       "     FuelType          Brand NotRepaired  \n",
       "1    gasoline           audi         yes  \n",
       "14   gasoline         nissan          no  \n",
       "33     petrol            bmw          no  \n",
       "172    petrol           ford          no  \n",
       "179    petrol          skoda          no  \n",
       "204  gasoline            bmw          no  \n",
       "236  gasoline     volkswagen          no  \n",
       "282    petrol           ford          no  \n",
       "287    petrol     volkswagen          no  \n",
       "313    petrol            bmw          no  \n",
       "337  gasoline          mazda          no  \n",
       "362    petrol            bmw          no  \n",
       "388    petrol  mercedes_benz          no  \n",
       "411  gasoline     volkswagen          no  \n",
       "480  gasoline           ford          no  \n",
       "484  gasoline  mercedes_benz          no  \n",
       "485  gasoline  mercedes_benz          no  \n",
       "521    petrol     volkswagen          no  \n",
       "584  gasoline           audi          no  \n",
       "593  gasoline            bmw          no  "
      ]
     },
     "execution_count": 22,
     "metadata": {},
     "output_type": "execute_result"
    }
   ],
   "source": [
    "df[df['Price'] > 15000].head(20)"
   ]
  },
  {
   "cell_type": "markdown",
   "metadata": {},
   "source": [
    "**Судя по данным, в диапазон цен свыше 15000 попали машины действительно дорогого сегмента, поэтому удаление выбросов с этой стороны не требуется.**"
   ]
  },
  {
   "cell_type": "code",
   "execution_count": 23,
   "metadata": {},
   "outputs": [],
   "source": [
    "df = df[df['Price'] != 0]\n",
    "df = df.drop(df[(df['Price'] < 100) & (df['NotRepaired'] != 'no')].index)"
   ]
  },
  {
   "cell_type": "code",
   "execution_count": 24,
   "metadata": {},
   "outputs": [
    {
     "name": "stdout",
     "output_type": "stream",
     "text": [
      "<class 'pandas.core.frame.DataFrame'>\n",
      "Int64Index: 343040 entries, 0 to 354368\n",
      "Data columns (total 10 columns):\n",
      "Price               343040 non-null int64\n",
      "VehicleType         343040 non-null object\n",
      "RegistrationYear    343040 non-null int64\n",
      "Gearbox             343040 non-null object\n",
      "Power               343040 non-null int64\n",
      "Model               343040 non-null object\n",
      "Kilometer           343040 non-null int64\n",
      "FuelType            343040 non-null object\n",
      "Brand               343040 non-null object\n",
      "NotRepaired         343040 non-null object\n",
      "dtypes: int64(4), object(6)\n",
      "memory usage: 28.8+ MB\n"
     ]
    }
   ],
   "source": [
    "df.info()"
   ]
  },
  {
   "cell_type": "markdown",
   "metadata": {},
   "source": [
    "**Также удалим данные с неправдободобными значениями мощности гражданского автомобиля - более 700 л.с., и данные где дата регистрации указана из будущего - что нереально. Таких данных очень мало, поэтому удалим их из датасета, это не повлияет на обучение модели.**"
   ]
  },
  {
   "cell_type": "code",
   "execution_count": 25,
   "metadata": {},
   "outputs": [
    {
     "data": {
      "text/html": [
       "<div>\n",
       "<style scoped>\n",
       "    .dataframe tbody tr th:only-of-type {\n",
       "        vertical-align: middle;\n",
       "    }\n",
       "\n",
       "    .dataframe tbody tr th {\n",
       "        vertical-align: top;\n",
       "    }\n",
       "\n",
       "    .dataframe thead th {\n",
       "        text-align: right;\n",
       "    }\n",
       "</style>\n",
       "<table border=\"1\" class=\"dataframe\">\n",
       "  <thead>\n",
       "    <tr style=\"text-align: right;\">\n",
       "      <th></th>\n",
       "      <th>Price</th>\n",
       "      <th>VehicleType</th>\n",
       "      <th>RegistrationYear</th>\n",
       "      <th>Gearbox</th>\n",
       "      <th>Power</th>\n",
       "      <th>Model</th>\n",
       "      <th>Kilometer</th>\n",
       "      <th>FuelType</th>\n",
       "      <th>Brand</th>\n",
       "      <th>NotRepaired</th>\n",
       "    </tr>\n",
       "  </thead>\n",
       "  <tbody>\n",
       "    <tr>\n",
       "      <td>1816</td>\n",
       "      <td>3200</td>\n",
       "      <td>small</td>\n",
       "      <td>2004</td>\n",
       "      <td>manual</td>\n",
       "      <td>1398</td>\n",
       "      <td>corolla</td>\n",
       "      <td>5000</td>\n",
       "      <td>petrol</td>\n",
       "      <td>toyota</td>\n",
       "      <td>no</td>\n",
       "    </tr>\n",
       "    <tr>\n",
       "      <td>4060</td>\n",
       "      <td>3100</td>\n",
       "      <td>sedan</td>\n",
       "      <td>2005</td>\n",
       "      <td>manual</td>\n",
       "      <td>953</td>\n",
       "      <td>colt</td>\n",
       "      <td>150000</td>\n",
       "      <td>gasoline</td>\n",
       "      <td>mitsubishi</td>\n",
       "      <td>no</td>\n",
       "    </tr>\n",
       "    <tr>\n",
       "      <td>5328</td>\n",
       "      <td>500</td>\n",
       "      <td>wagon</td>\n",
       "      <td>1999</td>\n",
       "      <td>manual</td>\n",
       "      <td>1001</td>\n",
       "      <td>astra</td>\n",
       "      <td>150000</td>\n",
       "      <td>petrol</td>\n",
       "      <td>opel</td>\n",
       "      <td>no</td>\n",
       "    </tr>\n",
       "    <tr>\n",
       "      <td>6504</td>\n",
       "      <td>3000</td>\n",
       "      <td>small</td>\n",
       "      <td>2009</td>\n",
       "      <td>manual</td>\n",
       "      <td>771</td>\n",
       "      <td>punto</td>\n",
       "      <td>125000</td>\n",
       "      <td>petrol</td>\n",
       "      <td>fiat</td>\n",
       "      <td>no</td>\n",
       "    </tr>\n",
       "    <tr>\n",
       "      <td>7661</td>\n",
       "      <td>1499</td>\n",
       "      <td>small</td>\n",
       "      <td>1999</td>\n",
       "      <td>manual</td>\n",
       "      <td>7515</td>\n",
       "      <td>lupo</td>\n",
       "      <td>150000</td>\n",
       "      <td>petrol</td>\n",
       "      <td>volkswagen</td>\n",
       "      <td>no</td>\n",
       "    </tr>\n",
       "    <tr>\n",
       "      <td>...</td>\n",
       "      <td>...</td>\n",
       "      <td>...</td>\n",
       "      <td>...</td>\n",
       "      <td>...</td>\n",
       "      <td>...</td>\n",
       "      <td>...</td>\n",
       "      <td>...</td>\n",
       "      <td>...</td>\n",
       "      <td>...</td>\n",
       "      <td>...</td>\n",
       "    </tr>\n",
       "    <tr>\n",
       "      <td>348883</td>\n",
       "      <td>7500</td>\n",
       "      <td>sedan</td>\n",
       "      <td>2011</td>\n",
       "      <td>manual</td>\n",
       "      <td>1548</td>\n",
       "      <td>scenic</td>\n",
       "      <td>90000</td>\n",
       "      <td>petrol</td>\n",
       "      <td>renault</td>\n",
       "      <td>no</td>\n",
       "    </tr>\n",
       "    <tr>\n",
       "      <td>348968</td>\n",
       "      <td>250</td>\n",
       "      <td>small</td>\n",
       "      <td>1999</td>\n",
       "      <td>manual</td>\n",
       "      <td>1241</td>\n",
       "      <td>ypsilon</td>\n",
       "      <td>150000</td>\n",
       "      <td>petrol</td>\n",
       "      <td>lancia</td>\n",
       "      <td>yes</td>\n",
       "    </tr>\n",
       "    <tr>\n",
       "      <td>351947</td>\n",
       "      <td>1500</td>\n",
       "      <td>bus</td>\n",
       "      <td>2001</td>\n",
       "      <td>manual</td>\n",
       "      <td>1001</td>\n",
       "      <td>zafira</td>\n",
       "      <td>5000</td>\n",
       "      <td>gasoline</td>\n",
       "      <td>opel</td>\n",
       "      <td>no</td>\n",
       "    </tr>\n",
       "    <tr>\n",
       "      <td>353493</td>\n",
       "      <td>12500</td>\n",
       "      <td>other</td>\n",
       "      <td>2017</td>\n",
       "      <td>manual</td>\n",
       "      <td>2000</td>\n",
       "      <td>other</td>\n",
       "      <td>60000</td>\n",
       "      <td>gasoline</td>\n",
       "      <td>chrysler</td>\n",
       "      <td>no</td>\n",
       "    </tr>\n",
       "    <tr>\n",
       "      <td>354260</td>\n",
       "      <td>399</td>\n",
       "      <td>other</td>\n",
       "      <td>1994</td>\n",
       "      <td>other</td>\n",
       "      <td>1103</td>\n",
       "      <td>3er</td>\n",
       "      <td>150000</td>\n",
       "      <td>other</td>\n",
       "      <td>bmw</td>\n",
       "      <td>no</td>\n",
       "    </tr>\n",
       "  </tbody>\n",
       "</table>\n",
       "<p>330 rows × 10 columns</p>\n",
       "</div>"
      ],
      "text/plain": [
       "        Price VehicleType  RegistrationYear Gearbox  Power    Model  \\\n",
       "1816     3200       small              2004  manual   1398  corolla   \n",
       "4060     3100       sedan              2005  manual    953     colt   \n",
       "5328      500       wagon              1999  manual   1001    astra   \n",
       "6504     3000       small              2009  manual    771    punto   \n",
       "7661     1499       small              1999  manual   7515     lupo   \n",
       "...       ...         ...               ...     ...    ...      ...   \n",
       "348883   7500       sedan              2011  manual   1548   scenic   \n",
       "348968    250       small              1999  manual   1241  ypsilon   \n",
       "351947   1500         bus              2001  manual   1001   zafira   \n",
       "353493  12500       other              2017  manual   2000    other   \n",
       "354260    399       other              1994   other   1103      3er   \n",
       "\n",
       "        Kilometer  FuelType       Brand NotRepaired  \n",
       "1816         5000    petrol      toyota          no  \n",
       "4060       150000  gasoline  mitsubishi          no  \n",
       "5328       150000    petrol        opel          no  \n",
       "6504       125000    petrol        fiat          no  \n",
       "7661       150000    petrol  volkswagen          no  \n",
       "...           ...       ...         ...         ...  \n",
       "348883      90000    petrol     renault          no  \n",
       "348968     150000    petrol      lancia         yes  \n",
       "351947       5000  gasoline        opel          no  \n",
       "353493      60000  gasoline    chrysler          no  \n",
       "354260     150000     other         bmw          no  \n",
       "\n",
       "[330 rows x 10 columns]"
      ]
     },
     "metadata": {},
     "output_type": "display_data"
    },
    {
     "data": {
      "text/html": [
       "<div>\n",
       "<style scoped>\n",
       "    .dataframe tbody tr th:only-of-type {\n",
       "        vertical-align: middle;\n",
       "    }\n",
       "\n",
       "    .dataframe tbody tr th {\n",
       "        vertical-align: top;\n",
       "    }\n",
       "\n",
       "    .dataframe thead th {\n",
       "        text-align: right;\n",
       "    }\n",
       "</style>\n",
       "<table border=\"1\" class=\"dataframe\">\n",
       "  <thead>\n",
       "    <tr style=\"text-align: right;\">\n",
       "      <th></th>\n",
       "      <th>Price</th>\n",
       "      <th>VehicleType</th>\n",
       "      <th>RegistrationYear</th>\n",
       "      <th>Gearbox</th>\n",
       "      <th>Power</th>\n",
       "      <th>Model</th>\n",
       "      <th>Kilometer</th>\n",
       "      <th>FuelType</th>\n",
       "      <th>Brand</th>\n",
       "      <th>NotRepaired</th>\n",
       "    </tr>\n",
       "  </thead>\n",
       "  <tbody>\n",
       "    <tr>\n",
       "      <td>12946</td>\n",
       "      <td>49</td>\n",
       "      <td>other</td>\n",
       "      <td>5000</td>\n",
       "      <td>other</td>\n",
       "      <td>0</td>\n",
       "      <td>golf</td>\n",
       "      <td>5000</td>\n",
       "      <td>other</td>\n",
       "      <td>volkswagen</td>\n",
       "      <td>no</td>\n",
       "    </tr>\n",
       "    <tr>\n",
       "      <td>15870</td>\n",
       "      <td>1700</td>\n",
       "      <td>other</td>\n",
       "      <td>3200</td>\n",
       "      <td>other</td>\n",
       "      <td>0</td>\n",
       "      <td>other</td>\n",
       "      <td>5000</td>\n",
       "      <td>other</td>\n",
       "      <td>sonstige_autos</td>\n",
       "      <td>no</td>\n",
       "    </tr>\n",
       "    <tr>\n",
       "      <td>17271</td>\n",
       "      <td>700</td>\n",
       "      <td>other</td>\n",
       "      <td>9999</td>\n",
       "      <td>other</td>\n",
       "      <td>0</td>\n",
       "      <td>other</td>\n",
       "      <td>10000</td>\n",
       "      <td>other</td>\n",
       "      <td>opel</td>\n",
       "      <td>no</td>\n",
       "    </tr>\n",
       "    <tr>\n",
       "      <td>17346</td>\n",
       "      <td>6500</td>\n",
       "      <td>other</td>\n",
       "      <td>8888</td>\n",
       "      <td>other</td>\n",
       "      <td>0</td>\n",
       "      <td>other</td>\n",
       "      <td>10000</td>\n",
       "      <td>other</td>\n",
       "      <td>sonstige_autos</td>\n",
       "      <td>no</td>\n",
       "    </tr>\n",
       "    <tr>\n",
       "      <td>18259</td>\n",
       "      <td>300</td>\n",
       "      <td>other</td>\n",
       "      <td>2200</td>\n",
       "      <td>other</td>\n",
       "      <td>0</td>\n",
       "      <td>twingo</td>\n",
       "      <td>5000</td>\n",
       "      <td>other</td>\n",
       "      <td>renault</td>\n",
       "      <td>no</td>\n",
       "    </tr>\n",
       "    <tr>\n",
       "      <td>...</td>\n",
       "      <td>...</td>\n",
       "      <td>...</td>\n",
       "      <td>...</td>\n",
       "      <td>...</td>\n",
       "      <td>...</td>\n",
       "      <td>...</td>\n",
       "      <td>...</td>\n",
       "      <td>...</td>\n",
       "      <td>...</td>\n",
       "      <td>...</td>\n",
       "    </tr>\n",
       "    <tr>\n",
       "      <td>326725</td>\n",
       "      <td>60</td>\n",
       "      <td>other</td>\n",
       "      <td>9999</td>\n",
       "      <td>other</td>\n",
       "      <td>0</td>\n",
       "      <td>c4</td>\n",
       "      <td>10000</td>\n",
       "      <td>other</td>\n",
       "      <td>citroen</td>\n",
       "      <td>no</td>\n",
       "    </tr>\n",
       "    <tr>\n",
       "      <td>328453</td>\n",
       "      <td>450</td>\n",
       "      <td>other</td>\n",
       "      <td>2500</td>\n",
       "      <td>other</td>\n",
       "      <td>0</td>\n",
       "      <td>6_reihe</td>\n",
       "      <td>5000</td>\n",
       "      <td>other</td>\n",
       "      <td>mazda</td>\n",
       "      <td>no</td>\n",
       "    </tr>\n",
       "    <tr>\n",
       "      <td>331753</td>\n",
       "      <td>99</td>\n",
       "      <td>other</td>\n",
       "      <td>9999</td>\n",
       "      <td>other</td>\n",
       "      <td>0</td>\n",
       "      <td>1er</td>\n",
       "      <td>10000</td>\n",
       "      <td>other</td>\n",
       "      <td>bmw</td>\n",
       "      <td>no</td>\n",
       "    </tr>\n",
       "    <tr>\n",
       "      <td>334967</td>\n",
       "      <td>12000</td>\n",
       "      <td>other</td>\n",
       "      <td>4000</td>\n",
       "      <td>other</td>\n",
       "      <td>500</td>\n",
       "      <td>golf</td>\n",
       "      <td>5000</td>\n",
       "      <td>other</td>\n",
       "      <td>volkswagen</td>\n",
       "      <td>no</td>\n",
       "    </tr>\n",
       "    <tr>\n",
       "      <td>341791</td>\n",
       "      <td>1</td>\n",
       "      <td>other</td>\n",
       "      <td>3000</td>\n",
       "      <td>other</td>\n",
       "      <td>0</td>\n",
       "      <td>zafira</td>\n",
       "      <td>5000</td>\n",
       "      <td>other</td>\n",
       "      <td>opel</td>\n",
       "      <td>no</td>\n",
       "    </tr>\n",
       "  </tbody>\n",
       "</table>\n",
       "<p>85 rows × 10 columns</p>\n",
       "</div>"
      ],
      "text/plain": [
       "        Price VehicleType  RegistrationYear Gearbox  Power    Model  \\\n",
       "12946      49       other              5000   other      0     golf   \n",
       "15870    1700       other              3200   other      0    other   \n",
       "17271     700       other              9999   other      0    other   \n",
       "17346    6500       other              8888   other      0    other   \n",
       "18259     300       other              2200   other      0   twingo   \n",
       "...       ...         ...               ...     ...    ...      ...   \n",
       "326725     60       other              9999   other      0       c4   \n",
       "328453    450       other              2500   other      0  6_reihe   \n",
       "331753     99       other              9999   other      0      1er   \n",
       "334967  12000       other              4000   other    500     golf   \n",
       "341791      1       other              3000   other      0   zafira   \n",
       "\n",
       "        Kilometer FuelType           Brand NotRepaired  \n",
       "12946        5000    other      volkswagen          no  \n",
       "15870        5000    other  sonstige_autos          no  \n",
       "17271       10000    other            opel          no  \n",
       "17346       10000    other  sonstige_autos          no  \n",
       "18259        5000    other         renault          no  \n",
       "...           ...      ...             ...         ...  \n",
       "326725      10000    other         citroen          no  \n",
       "328453       5000    other           mazda          no  \n",
       "331753      10000    other             bmw          no  \n",
       "334967       5000    other      volkswagen          no  \n",
       "341791       5000    other            opel          no  \n",
       "\n",
       "[85 rows x 10 columns]"
      ]
     },
     "metadata": {},
     "output_type": "display_data"
    }
   ],
   "source": [
    "display(df[df['Power'] > 700], df[df['RegistrationYear'] > 2022])"
   ]
  },
  {
   "cell_type": "code",
   "execution_count": 26,
   "metadata": {},
   "outputs": [],
   "source": [
    "df = df.drop(df[(df['Power'] > 700) & (df['RegistrationYear'] > 2022)].index)"
   ]
  },
  {
   "cell_type": "markdown",
   "metadata": {},
   "source": [
    "### Проверка на дубликаты"
   ]
  },
  {
   "cell_type": "code",
   "execution_count": 27,
   "metadata": {},
   "outputs": [
    {
     "data": {
      "text/plain": [
       "50028"
      ]
     },
     "execution_count": 27,
     "metadata": {},
     "output_type": "execute_result"
    }
   ],
   "source": [
    "df.duplicated().sum() # проверим на дубликаты"
   ]
  },
  {
   "cell_type": "markdown",
   "metadata": {},
   "source": [
    "**Видим большое количество дубликатов в датасете, это значит, что продается значительное количество похожих автомобилей. Уберем дубликаты, чтобы не переобучать модели.**"
   ]
  },
  {
   "cell_type": "code",
   "execution_count": 28,
   "metadata": {},
   "outputs": [
    {
     "name": "stdout",
     "output_type": "stream",
     "text": [
      "<class 'pandas.core.frame.DataFrame'>\n",
      "Int64Index: 293011 entries, 0 to 354368\n",
      "Data columns (total 10 columns):\n",
      "Price               293011 non-null int64\n",
      "VehicleType         293011 non-null object\n",
      "RegistrationYear    293011 non-null int64\n",
      "Gearbox             293011 non-null object\n",
      "Power               293011 non-null int64\n",
      "Model               293011 non-null object\n",
      "Kilometer           293011 non-null int64\n",
      "FuelType            293011 non-null object\n",
      "Brand               293011 non-null object\n",
      "NotRepaired         293011 non-null object\n",
      "dtypes: int64(4), object(6)\n",
      "memory usage: 24.6+ MB\n"
     ]
    }
   ],
   "source": [
    "df.drop_duplicates(inplace=True)\n",
    "df.info()"
   ]
  },
  {
   "cell_type": "markdown",
   "metadata": {},
   "source": [
    "**Проверим корреляцию признаков между собой.**"
   ]
  },
  {
   "cell_type": "code",
   "execution_count": 29,
   "metadata": {},
   "outputs": [
    {
     "data": {
      "text/html": [
       "<div>\n",
       "<style scoped>\n",
       "    .dataframe tbody tr th:only-of-type {\n",
       "        vertical-align: middle;\n",
       "    }\n",
       "\n",
       "    .dataframe tbody tr th {\n",
       "        vertical-align: top;\n",
       "    }\n",
       "\n",
       "    .dataframe thead th {\n",
       "        text-align: right;\n",
       "    }\n",
       "</style>\n",
       "<table border=\"1\" class=\"dataframe\">\n",
       "  <thead>\n",
       "    <tr style=\"text-align: right;\">\n",
       "      <th></th>\n",
       "      <th>Price</th>\n",
       "      <th>RegistrationYear</th>\n",
       "      <th>Power</th>\n",
       "      <th>Kilometer</th>\n",
       "    </tr>\n",
       "  </thead>\n",
       "  <tbody>\n",
       "    <tr>\n",
       "      <td>Price</td>\n",
       "      <td>1.000000</td>\n",
       "      <td>0.030555</td>\n",
       "      <td>0.148075</td>\n",
       "      <td>-0.338483</td>\n",
       "    </tr>\n",
       "    <tr>\n",
       "      <td>RegistrationYear</td>\n",
       "      <td>0.030555</td>\n",
       "      <td>1.000000</td>\n",
       "      <td>-0.003386</td>\n",
       "      <td>-0.053217</td>\n",
       "    </tr>\n",
       "    <tr>\n",
       "      <td>Power</td>\n",
       "      <td>0.148075</td>\n",
       "      <td>-0.003386</td>\n",
       "      <td>1.000000</td>\n",
       "      <td>0.025811</td>\n",
       "    </tr>\n",
       "    <tr>\n",
       "      <td>Kilometer</td>\n",
       "      <td>-0.338483</td>\n",
       "      <td>-0.053217</td>\n",
       "      <td>0.025811</td>\n",
       "      <td>1.000000</td>\n",
       "    </tr>\n",
       "  </tbody>\n",
       "</table>\n",
       "</div>"
      ],
      "text/plain": [
       "                     Price  RegistrationYear     Power  Kilometer\n",
       "Price             1.000000          0.030555  0.148075  -0.338483\n",
       "RegistrationYear  0.030555          1.000000 -0.003386  -0.053217\n",
       "Power             0.148075         -0.003386  1.000000   0.025811\n",
       "Kilometer        -0.338483         -0.053217  0.025811   1.000000"
      ]
     },
     "execution_count": 29,
     "metadata": {},
     "output_type": "execute_result"
    }
   ],
   "source": [
    "df.corr()"
   ]
  },
  {
   "cell_type": "markdown",
   "metadata": {},
   "source": [
    "**Цена незначительно зависит от года регистрации и мощности авто, обучающие признаки не коррелируют друг с другом, следовательно удаления признаков не требуется.**"
   ]
  },
  {
   "cell_type": "markdown",
   "metadata": {},
   "source": [
    "### Подготовка датасета для обучения различных моделей."
   ]
  },
  {
   "cell_type": "markdown",
   "metadata": {},
   "source": [
    "**Проведем кодирование категориальных признаков. В дальнейшем будем использовать различные модели, в зависимости от модели необходимо применять различные типы кодирования. В случае линейной регрессии подойдет техника прямого кодирования, а в случае деревьев и лесов - порядкового кодирования, поэтому далее будет подготовлено два набора данных для обоих видов кодирования. После кодирования необходимо будет сделать масштабирование числовых признаков. Так как для бустинговых моделей кодировка не требуется, будет подготовлен 3-й датасет без кодировки, но с масштабированием.**"
   ]
  },
  {
   "cell_type": "code",
   "execution_count": 30,
   "metadata": {},
   "outputs": [
    {
     "data": {
      "text/html": [
       "<div>\n",
       "<style scoped>\n",
       "    .dataframe tbody tr th:only-of-type {\n",
       "        vertical-align: middle;\n",
       "    }\n",
       "\n",
       "    .dataframe tbody tr th {\n",
       "        vertical-align: top;\n",
       "    }\n",
       "\n",
       "    .dataframe thead th {\n",
       "        text-align: right;\n",
       "    }\n",
       "</style>\n",
       "<table border=\"1\" class=\"dataframe\">\n",
       "  <thead>\n",
       "    <tr style=\"text-align: right;\">\n",
       "      <th></th>\n",
       "      <th>Price</th>\n",
       "      <th>RegistrationYear</th>\n",
       "      <th>Power</th>\n",
       "      <th>Kilometer</th>\n",
       "      <th>VehicleType_convertible</th>\n",
       "      <th>VehicleType_coupe</th>\n",
       "      <th>VehicleType_other</th>\n",
       "      <th>VehicleType_sedan</th>\n",
       "      <th>VehicleType_small</th>\n",
       "      <th>VehicleType_suv</th>\n",
       "      <th>VehicleType_wagon</th>\n",
       "      <th>Gearbox_manual</th>\n",
       "      <th>Gearbox_other</th>\n",
       "      <th>Model_145</th>\n",
       "      <th>Model_147</th>\n",
       "      <th>Model_156</th>\n",
       "      <th>Model_159</th>\n",
       "      <th>Model_1_reihe</th>\n",
       "      <th>Model_1er</th>\n",
       "      <th>Model_200</th>\n",
       "      <th>Model_2_reihe</th>\n",
       "      <th>Model_300c</th>\n",
       "      <th>Model_3_reihe</th>\n",
       "      <th>Model_3er</th>\n",
       "      <th>Model_4_reihe</th>\n",
       "      <th>Model_500</th>\n",
       "      <th>Model_5_reihe</th>\n",
       "      <th>Model_5er</th>\n",
       "      <th>Model_601</th>\n",
       "      <th>Model_6_reihe</th>\n",
       "      <th>Model_6er</th>\n",
       "      <th>Model_7er</th>\n",
       "      <th>Model_80</th>\n",
       "      <th>Model_850</th>\n",
       "      <th>Model_90</th>\n",
       "      <th>Model_900</th>\n",
       "      <th>Model_9000</th>\n",
       "      <th>Model_911</th>\n",
       "      <th>Model_a1</th>\n",
       "      <th>Model_a2</th>\n",
       "      <th>Model_a3</th>\n",
       "      <th>Model_a4</th>\n",
       "      <th>Model_a5</th>\n",
       "      <th>Model_a6</th>\n",
       "      <th>Model_a8</th>\n",
       "      <th>Model_a_klasse</th>\n",
       "      <th>Model_accord</th>\n",
       "      <th>Model_agila</th>\n",
       "      <th>Model_alhambra</th>\n",
       "      <th>Model_almera</th>\n",
       "      <th>Model_altea</th>\n",
       "      <th>Model_amarok</th>\n",
       "      <th>Model_antara</th>\n",
       "      <th>Model_arosa</th>\n",
       "      <th>Model_astra</th>\n",
       "      <th>Model_auris</th>\n",
       "      <th>Model_avensis</th>\n",
       "      <th>Model_aveo</th>\n",
       "      <th>Model_aygo</th>\n",
       "      <th>Model_b_klasse</th>\n",
       "      <th>Model_b_max</th>\n",
       "      <th>Model_beetle</th>\n",
       "      <th>Model_berlingo</th>\n",
       "      <th>Model_bora</th>\n",
       "      <th>Model_boxster</th>\n",
       "      <th>Model_bravo</th>\n",
       "      <th>Model_c1</th>\n",
       "      <th>Model_c2</th>\n",
       "      <th>Model_c3</th>\n",
       "      <th>Model_c4</th>\n",
       "      <th>Model_c5</th>\n",
       "      <th>Model_c_klasse</th>\n",
       "      <th>Model_c_max</th>\n",
       "      <th>Model_c_reihe</th>\n",
       "      <th>Model_caddy</th>\n",
       "      <th>Model_calibra</th>\n",
       "      <th>Model_captiva</th>\n",
       "      <th>Model_carisma</th>\n",
       "      <th>Model_carnival</th>\n",
       "      <th>Model_cayenne</th>\n",
       "      <th>Model_cc</th>\n",
       "      <th>Model_ceed</th>\n",
       "      <th>Model_charade</th>\n",
       "      <th>Model_cherokee</th>\n",
       "      <th>Model_citigo</th>\n",
       "      <th>Model_civic</th>\n",
       "      <th>Model_cl</th>\n",
       "      <th>Model_clio</th>\n",
       "      <th>Model_clk</th>\n",
       "      <th>Model_clubman</th>\n",
       "      <th>Model_colt</th>\n",
       "      <th>Model_combo</th>\n",
       "      <th>Model_cooper</th>\n",
       "      <th>Model_cordoba</th>\n",
       "      <th>Model_corolla</th>\n",
       "      <th>Model_corsa</th>\n",
       "      <th>Model_cr_reihe</th>\n",
       "      <th>Model_croma</th>\n",
       "      <th>Model_crossfire</th>\n",
       "      <th>Model_cuore</th>\n",
       "      <th>Model_cx_reihe</th>\n",
       "      <th>Model_defender</th>\n",
       "      <th>Model_delta</th>\n",
       "      <th>Model_discovery</th>\n",
       "      <th>Model_doblo</th>\n",
       "      <th>Model_ducato</th>\n",
       "      <th>Model_duster</th>\n",
       "      <th>Model_e_klasse</th>\n",
       "      <th>Model_elefantino</th>\n",
       "      <th>Model_eos</th>\n",
       "      <th>Model_escort</th>\n",
       "      <th>Model_espace</th>\n",
       "      <th>Model_exeo</th>\n",
       "      <th>Model_fabia</th>\n",
       "      <th>Model_fiesta</th>\n",
       "      <th>Model_focus</th>\n",
       "      <th>Model_forester</th>\n",
       "      <th>Model_forfour</th>\n",
       "      <th>Model_fortwo</th>\n",
       "      <th>Model_fox</th>\n",
       "      <th>Model_freelander</th>\n",
       "      <th>Model_fusion</th>\n",
       "      <th>Model_g_klasse</th>\n",
       "      <th>Model_galant</th>\n",
       "      <th>Model_galaxy</th>\n",
       "      <th>Model_getz</th>\n",
       "      <th>Model_gl</th>\n",
       "      <th>Model_glk</th>\n",
       "      <th>Model_golf</th>\n",
       "      <th>Model_grand</th>\n",
       "      <th>Model_i3</th>\n",
       "      <th>Model_i_reihe</th>\n",
       "      <th>Model_ibiza</th>\n",
       "      <th>Model_impreza</th>\n",
       "      <th>Model_insignia</th>\n",
       "      <th>Model_jazz</th>\n",
       "      <th>Model_jetta</th>\n",
       "      <th>Model_jimny</th>\n",
       "      <th>Model_juke</th>\n",
       "      <th>Model_justy</th>\n",
       "      <th>Model_ka</th>\n",
       "      <th>Model_kadett</th>\n",
       "      <th>Model_kaefer</th>\n",
       "      <th>Model_kalina</th>\n",
       "      <th>Model_kalos</th>\n",
       "      <th>Model_kangoo</th>\n",
       "      <th>Model_kappa</th>\n",
       "      <th>Model_kuga</th>\n",
       "      <th>Model_laguna</th>\n",
       "      <th>Model_lancer</th>\n",
       "      <th>Model_lanos</th>\n",
       "      <th>Model_legacy</th>\n",
       "      <th>Model_leon</th>\n",
       "      <th>Model_lodgy</th>\n",
       "      <th>Model_logan</th>\n",
       "      <th>Model_lupo</th>\n",
       "      <th>Model_lybra</th>\n",
       "      <th>Model_m_klasse</th>\n",
       "      <th>Model_m_reihe</th>\n",
       "      <th>Model_materia</th>\n",
       "      <th>Model_matiz</th>\n",
       "      <th>Model_megane</th>\n",
       "      <th>Model_meriva</th>\n",
       "      <th>Model_micra</th>\n",
       "      <th>Model_mii</th>\n",
       "      <th>Model_modus</th>\n",
       "      <th>Model_mondeo</th>\n",
       "      <th>Model_move</th>\n",
       "      <th>Model_musa</th>\n",
       "      <th>Model_mustang</th>\n",
       "      <th>Model_mx_reihe</th>\n",
       "      <th>Model_navara</th>\n",
       "      <th>Model_niva</th>\n",
       "      <th>Model_note</th>\n",
       "      <th>Model_nubira</th>\n",
       "      <th>Model_octavia</th>\n",
       "      <th>Model_omega</th>\n",
       "      <th>Model_one</th>\n",
       "      <th>Model_other</th>\n",
       "      <th>Model_outlander</th>\n",
       "      <th>Model_pajero</th>\n",
       "      <th>Model_panda</th>\n",
       "      <th>Model_passat</th>\n",
       "      <th>Model_phaeton</th>\n",
       "      <th>Model_picanto</th>\n",
       "      <th>Model_polo</th>\n",
       "      <th>Model_primera</th>\n",
       "      <th>Model_ptcruiser</th>\n",
       "      <th>Model_punto</th>\n",
       "      <th>Model_q3</th>\n",
       "      <th>Model_q5</th>\n",
       "      <th>Model_q7</th>\n",
       "      <th>Model_qashqai</th>\n",
       "      <th>Model_r19</th>\n",
       "      <th>Model_range_rover</th>\n",
       "      <th>Model_range_rover_evoque</th>\n",
       "      <th>Model_range_rover_sport</th>\n",
       "      <th>Model_rangerover</th>\n",
       "      <th>Model_rav</th>\n",
       "      <th>Model_rio</th>\n",
       "      <th>Model_roadster</th>\n",
       "      <th>Model_roomster</th>\n",
       "      <th>Model_rx_reihe</th>\n",
       "      <th>Model_s60</th>\n",
       "      <th>Model_s_klasse</th>\n",
       "      <th>Model_s_max</th>\n",
       "      <th>Model_s_type</th>\n",
       "      <th>Model_samara</th>\n",
       "      <th>Model_sandero</th>\n",
       "      <th>Model_santa</th>\n",
       "      <th>Model_scenic</th>\n",
       "      <th>Model_scirocco</th>\n",
       "      <th>Model_seicento</th>\n",
       "      <th>Model_serie_1</th>\n",
       "      <th>Model_serie_2</th>\n",
       "      <th>Model_serie_3</th>\n",
       "      <th>Model_sharan</th>\n",
       "      <th>Model_signum</th>\n",
       "      <th>Model_sirion</th>\n",
       "      <th>Model_sl</th>\n",
       "      <th>Model_slk</th>\n",
       "      <th>Model_sorento</th>\n",
       "      <th>Model_spark</th>\n",
       "      <th>Model_spider</th>\n",
       "      <th>Model_sportage</th>\n",
       "      <th>Model_sprinter</th>\n",
       "      <th>Model_stilo</th>\n",
       "      <th>Model_superb</th>\n",
       "      <th>Model_swift</th>\n",
       "      <th>Model_terios</th>\n",
       "      <th>Model_tigra</th>\n",
       "      <th>Model_tiguan</th>\n",
       "      <th>Model_toledo</th>\n",
       "      <th>Model_touareg</th>\n",
       "      <th>Model_touran</th>\n",
       "      <th>Model_transit</th>\n",
       "      <th>Model_transporter</th>\n",
       "      <th>Model_tt</th>\n",
       "      <th>Model_tucson</th>\n",
       "      <th>Model_twingo</th>\n",
       "      <th>Model_up</th>\n",
       "      <th>Model_v40</th>\n",
       "      <th>Model_v50</th>\n",
       "      <th>Model_v60</th>\n",
       "      <th>Model_v70</th>\n",
       "      <th>Model_v_klasse</th>\n",
       "      <th>Model_vectra</th>\n",
       "      <th>Model_verso</th>\n",
       "      <th>Model_viano</th>\n",
       "      <th>Model_vito</th>\n",
       "      <th>Model_vivaro</th>\n",
       "      <th>Model_voyager</th>\n",
       "      <th>Model_wrangler</th>\n",
       "      <th>Model_x_reihe</th>\n",
       "      <th>Model_x_trail</th>\n",
       "      <th>Model_x_type</th>\n",
       "      <th>Model_xc_reihe</th>\n",
       "      <th>Model_yaris</th>\n",
       "      <th>Model_yeti</th>\n",
       "      <th>Model_ypsilon</th>\n",
       "      <th>Model_z_reihe</th>\n",
       "      <th>Model_zafira</th>\n",
       "      <th>FuelType_electric</th>\n",
       "      <th>FuelType_gasoline</th>\n",
       "      <th>FuelType_hybrid</th>\n",
       "      <th>FuelType_lpg</th>\n",
       "      <th>FuelType_other</th>\n",
       "      <th>FuelType_petrol</th>\n",
       "      <th>Brand_audi</th>\n",
       "      <th>Brand_bmw</th>\n",
       "      <th>Brand_chevrolet</th>\n",
       "      <th>Brand_chrysler</th>\n",
       "      <th>Brand_citroen</th>\n",
       "      <th>Brand_dacia</th>\n",
       "      <th>Brand_daewoo</th>\n",
       "      <th>Brand_daihatsu</th>\n",
       "      <th>Brand_fiat</th>\n",
       "      <th>Brand_ford</th>\n",
       "      <th>Brand_honda</th>\n",
       "      <th>Brand_hyundai</th>\n",
       "      <th>Brand_jaguar</th>\n",
       "      <th>Brand_jeep</th>\n",
       "      <th>Brand_kia</th>\n",
       "      <th>Brand_lada</th>\n",
       "      <th>Brand_lancia</th>\n",
       "      <th>Brand_land_rover</th>\n",
       "      <th>Brand_mazda</th>\n",
       "      <th>Brand_mercedes_benz</th>\n",
       "      <th>Brand_mini</th>\n",
       "      <th>Brand_mitsubishi</th>\n",
       "      <th>Brand_nissan</th>\n",
       "      <th>Brand_opel</th>\n",
       "      <th>Brand_peugeot</th>\n",
       "      <th>Brand_porsche</th>\n",
       "      <th>Brand_renault</th>\n",
       "      <th>Brand_rover</th>\n",
       "      <th>Brand_saab</th>\n",
       "      <th>Brand_seat</th>\n",
       "      <th>Brand_skoda</th>\n",
       "      <th>Brand_smart</th>\n",
       "      <th>Brand_sonstige_autos</th>\n",
       "      <th>Brand_subaru</th>\n",
       "      <th>Brand_suzuki</th>\n",
       "      <th>Brand_toyota</th>\n",
       "      <th>Brand_trabant</th>\n",
       "      <th>Brand_volkswagen</th>\n",
       "      <th>Brand_volvo</th>\n",
       "      <th>NotRepaired_yes</th>\n",
       "    </tr>\n",
       "  </thead>\n",
       "  <tbody>\n",
       "    <tr>\n",
       "      <td>0</td>\n",
       "      <td>480</td>\n",
       "      <td>1993</td>\n",
       "      <td>0</td>\n",
       "      <td>150000</td>\n",
       "      <td>0</td>\n",
       "      <td>0</td>\n",
       "      <td>1</td>\n",
       "      <td>0</td>\n",
       "      <td>0</td>\n",
       "      <td>0</td>\n",
       "      <td>0</td>\n",
       "      <td>1</td>\n",
       "      <td>0</td>\n",
       "      <td>0</td>\n",
       "      <td>0</td>\n",
       "      <td>0</td>\n",
       "      <td>0</td>\n",
       "      <td>0</td>\n",
       "      <td>0</td>\n",
       "      <td>0</td>\n",
       "      <td>0</td>\n",
       "      <td>0</td>\n",
       "      <td>0</td>\n",
       "      <td>0</td>\n",
       "      <td>0</td>\n",
       "      <td>0</td>\n",
       "      <td>0</td>\n",
       "      <td>0</td>\n",
       "      <td>0</td>\n",
       "      <td>0</td>\n",
       "      <td>0</td>\n",
       "      <td>0</td>\n",
       "      <td>0</td>\n",
       "      <td>0</td>\n",
       "      <td>0</td>\n",
       "      <td>0</td>\n",
       "      <td>0</td>\n",
       "      <td>0</td>\n",
       "      <td>0</td>\n",
       "      <td>0</td>\n",
       "      <td>0</td>\n",
       "      <td>0</td>\n",
       "      <td>0</td>\n",
       "      <td>0</td>\n",
       "      <td>0</td>\n",
       "      <td>0</td>\n",
       "      <td>0</td>\n",
       "      <td>0</td>\n",
       "      <td>0</td>\n",
       "      <td>0</td>\n",
       "      <td>0</td>\n",
       "      <td>0</td>\n",
       "      <td>0</td>\n",
       "      <td>0</td>\n",
       "      <td>0</td>\n",
       "      <td>0</td>\n",
       "      <td>0</td>\n",
       "      <td>0</td>\n",
       "      <td>0</td>\n",
       "      <td>0</td>\n",
       "      <td>0</td>\n",
       "      <td>0</td>\n",
       "      <td>0</td>\n",
       "      <td>0</td>\n",
       "      <td>0</td>\n",
       "      <td>0</td>\n",
       "      <td>0</td>\n",
       "      <td>0</td>\n",
       "      <td>0</td>\n",
       "      <td>0</td>\n",
       "      <td>0</td>\n",
       "      <td>0</td>\n",
       "      <td>0</td>\n",
       "      <td>0</td>\n",
       "      <td>0</td>\n",
       "      <td>0</td>\n",
       "      <td>0</td>\n",
       "      <td>0</td>\n",
       "      <td>0</td>\n",
       "      <td>0</td>\n",
       "      <td>0</td>\n",
       "      <td>0</td>\n",
       "      <td>0</td>\n",
       "      <td>0</td>\n",
       "      <td>0</td>\n",
       "      <td>0</td>\n",
       "      <td>0</td>\n",
       "      <td>0</td>\n",
       "      <td>0</td>\n",
       "      <td>0</td>\n",
       "      <td>0</td>\n",
       "      <td>0</td>\n",
       "      <td>0</td>\n",
       "      <td>0</td>\n",
       "      <td>0</td>\n",
       "      <td>0</td>\n",
       "      <td>0</td>\n",
       "      <td>0</td>\n",
       "      <td>0</td>\n",
       "      <td>0</td>\n",
       "      <td>0</td>\n",
       "      <td>0</td>\n",
       "      <td>0</td>\n",
       "      <td>0</td>\n",
       "      <td>0</td>\n",
       "      <td>0</td>\n",
       "      <td>0</td>\n",
       "      <td>0</td>\n",
       "      <td>0</td>\n",
       "      <td>0</td>\n",
       "      <td>0</td>\n",
       "      <td>0</td>\n",
       "      <td>0</td>\n",
       "      <td>0</td>\n",
       "      <td>0</td>\n",
       "      <td>0</td>\n",
       "      <td>0</td>\n",
       "      <td>0</td>\n",
       "      <td>0</td>\n",
       "      <td>0</td>\n",
       "      <td>0</td>\n",
       "      <td>0</td>\n",
       "      <td>0</td>\n",
       "      <td>0</td>\n",
       "      <td>0</td>\n",
       "      <td>0</td>\n",
       "      <td>0</td>\n",
       "      <td>0</td>\n",
       "      <td>1</td>\n",
       "      <td>0</td>\n",
       "      <td>0</td>\n",
       "      <td>0</td>\n",
       "      <td>0</td>\n",
       "      <td>0</td>\n",
       "      <td>0</td>\n",
       "      <td>0</td>\n",
       "      <td>0</td>\n",
       "      <td>0</td>\n",
       "      <td>0</td>\n",
       "      <td>0</td>\n",
       "      <td>0</td>\n",
       "      <td>0</td>\n",
       "      <td>0</td>\n",
       "      <td>0</td>\n",
       "      <td>0</td>\n",
       "      <td>0</td>\n",
       "      <td>0</td>\n",
       "      <td>0</td>\n",
       "      <td>0</td>\n",
       "      <td>0</td>\n",
       "      <td>0</td>\n",
       "      <td>0</td>\n",
       "      <td>0</td>\n",
       "      <td>0</td>\n",
       "      <td>0</td>\n",
       "      <td>0</td>\n",
       "      <td>0</td>\n",
       "      <td>0</td>\n",
       "      <td>0</td>\n",
       "      <td>0</td>\n",
       "      <td>0</td>\n",
       "      <td>0</td>\n",
       "      <td>0</td>\n",
       "      <td>0</td>\n",
       "      <td>0</td>\n",
       "      <td>0</td>\n",
       "      <td>0</td>\n",
       "      <td>0</td>\n",
       "      <td>0</td>\n",
       "      <td>0</td>\n",
       "      <td>0</td>\n",
       "      <td>0</td>\n",
       "      <td>0</td>\n",
       "      <td>0</td>\n",
       "      <td>0</td>\n",
       "      <td>0</td>\n",
       "      <td>0</td>\n",
       "      <td>0</td>\n",
       "      <td>0</td>\n",
       "      <td>0</td>\n",
       "      <td>0</td>\n",
       "      <td>0</td>\n",
       "      <td>0</td>\n",
       "      <td>0</td>\n",
       "      <td>0</td>\n",
       "      <td>0</td>\n",
       "      <td>0</td>\n",
       "      <td>0</td>\n",
       "      <td>0</td>\n",
       "      <td>0</td>\n",
       "      <td>0</td>\n",
       "      <td>0</td>\n",
       "      <td>0</td>\n",
       "      <td>0</td>\n",
       "      <td>0</td>\n",
       "      <td>0</td>\n",
       "      <td>0</td>\n",
       "      <td>0</td>\n",
       "      <td>0</td>\n",
       "      <td>0</td>\n",
       "      <td>0</td>\n",
       "      <td>0</td>\n",
       "      <td>0</td>\n",
       "      <td>0</td>\n",
       "      <td>0</td>\n",
       "      <td>0</td>\n",
       "      <td>0</td>\n",
       "      <td>0</td>\n",
       "      <td>0</td>\n",
       "      <td>0</td>\n",
       "      <td>0</td>\n",
       "      <td>0</td>\n",
       "      <td>0</td>\n",
       "      <td>0</td>\n",
       "      <td>0</td>\n",
       "      <td>0</td>\n",
       "      <td>0</td>\n",
       "      <td>0</td>\n",
       "      <td>0</td>\n",
       "      <td>0</td>\n",
       "      <td>0</td>\n",
       "      <td>0</td>\n",
       "      <td>0</td>\n",
       "      <td>0</td>\n",
       "      <td>0</td>\n",
       "      <td>0</td>\n",
       "      <td>0</td>\n",
       "      <td>0</td>\n",
       "      <td>0</td>\n",
       "      <td>0</td>\n",
       "      <td>0</td>\n",
       "      <td>0</td>\n",
       "      <td>0</td>\n",
       "      <td>0</td>\n",
       "      <td>0</td>\n",
       "      <td>0</td>\n",
       "      <td>0</td>\n",
       "      <td>0</td>\n",
       "      <td>0</td>\n",
       "      <td>0</td>\n",
       "      <td>0</td>\n",
       "      <td>0</td>\n",
       "      <td>0</td>\n",
       "      <td>0</td>\n",
       "      <td>0</td>\n",
       "      <td>0</td>\n",
       "      <td>0</td>\n",
       "      <td>0</td>\n",
       "      <td>0</td>\n",
       "      <td>0</td>\n",
       "      <td>0</td>\n",
       "      <td>0</td>\n",
       "      <td>0</td>\n",
       "      <td>0</td>\n",
       "      <td>0</td>\n",
       "      <td>0</td>\n",
       "      <td>0</td>\n",
       "      <td>0</td>\n",
       "      <td>0</td>\n",
       "      <td>0</td>\n",
       "      <td>0</td>\n",
       "      <td>0</td>\n",
       "      <td>0</td>\n",
       "      <td>0</td>\n",
       "      <td>0</td>\n",
       "      <td>0</td>\n",
       "      <td>0</td>\n",
       "      <td>1</td>\n",
       "      <td>0</td>\n",
       "      <td>0</td>\n",
       "      <td>0</td>\n",
       "      <td>0</td>\n",
       "      <td>0</td>\n",
       "      <td>0</td>\n",
       "      <td>0</td>\n",
       "      <td>0</td>\n",
       "      <td>0</td>\n",
       "      <td>0</td>\n",
       "      <td>0</td>\n",
       "      <td>0</td>\n",
       "      <td>0</td>\n",
       "      <td>0</td>\n",
       "      <td>0</td>\n",
       "      <td>0</td>\n",
       "      <td>0</td>\n",
       "      <td>0</td>\n",
       "      <td>0</td>\n",
       "      <td>0</td>\n",
       "      <td>0</td>\n",
       "      <td>0</td>\n",
       "      <td>0</td>\n",
       "      <td>0</td>\n",
       "      <td>0</td>\n",
       "      <td>0</td>\n",
       "      <td>0</td>\n",
       "      <td>0</td>\n",
       "      <td>0</td>\n",
       "      <td>0</td>\n",
       "      <td>0</td>\n",
       "      <td>0</td>\n",
       "      <td>0</td>\n",
       "      <td>0</td>\n",
       "      <td>0</td>\n",
       "      <td>0</td>\n",
       "      <td>0</td>\n",
       "      <td>1</td>\n",
       "      <td>0</td>\n",
       "      <td>0</td>\n",
       "    </tr>\n",
       "    <tr>\n",
       "      <td>1</td>\n",
       "      <td>18300</td>\n",
       "      <td>2011</td>\n",
       "      <td>190</td>\n",
       "      <td>125000</td>\n",
       "      <td>0</td>\n",
       "      <td>1</td>\n",
       "      <td>0</td>\n",
       "      <td>0</td>\n",
       "      <td>0</td>\n",
       "      <td>0</td>\n",
       "      <td>0</td>\n",
       "      <td>1</td>\n",
       "      <td>0</td>\n",
       "      <td>0</td>\n",
       "      <td>0</td>\n",
       "      <td>0</td>\n",
       "      <td>0</td>\n",
       "      <td>0</td>\n",
       "      <td>0</td>\n",
       "      <td>0</td>\n",
       "      <td>0</td>\n",
       "      <td>0</td>\n",
       "      <td>0</td>\n",
       "      <td>0</td>\n",
       "      <td>0</td>\n",
       "      <td>0</td>\n",
       "      <td>0</td>\n",
       "      <td>0</td>\n",
       "      <td>0</td>\n",
       "      <td>0</td>\n",
       "      <td>0</td>\n",
       "      <td>0</td>\n",
       "      <td>0</td>\n",
       "      <td>0</td>\n",
       "      <td>0</td>\n",
       "      <td>0</td>\n",
       "      <td>0</td>\n",
       "      <td>0</td>\n",
       "      <td>0</td>\n",
       "      <td>0</td>\n",
       "      <td>0</td>\n",
       "      <td>0</td>\n",
       "      <td>0</td>\n",
       "      <td>0</td>\n",
       "      <td>0</td>\n",
       "      <td>0</td>\n",
       "      <td>0</td>\n",
       "      <td>0</td>\n",
       "      <td>0</td>\n",
       "      <td>0</td>\n",
       "      <td>0</td>\n",
       "      <td>0</td>\n",
       "      <td>0</td>\n",
       "      <td>0</td>\n",
       "      <td>0</td>\n",
       "      <td>0</td>\n",
       "      <td>0</td>\n",
       "      <td>0</td>\n",
       "      <td>0</td>\n",
       "      <td>0</td>\n",
       "      <td>0</td>\n",
       "      <td>0</td>\n",
       "      <td>0</td>\n",
       "      <td>0</td>\n",
       "      <td>0</td>\n",
       "      <td>0</td>\n",
       "      <td>0</td>\n",
       "      <td>0</td>\n",
       "      <td>0</td>\n",
       "      <td>0</td>\n",
       "      <td>0</td>\n",
       "      <td>0</td>\n",
       "      <td>0</td>\n",
       "      <td>0</td>\n",
       "      <td>0</td>\n",
       "      <td>0</td>\n",
       "      <td>0</td>\n",
       "      <td>0</td>\n",
       "      <td>0</td>\n",
       "      <td>0</td>\n",
       "      <td>0</td>\n",
       "      <td>0</td>\n",
       "      <td>0</td>\n",
       "      <td>0</td>\n",
       "      <td>0</td>\n",
       "      <td>0</td>\n",
       "      <td>0</td>\n",
       "      <td>0</td>\n",
       "      <td>0</td>\n",
       "      <td>0</td>\n",
       "      <td>0</td>\n",
       "      <td>0</td>\n",
       "      <td>0</td>\n",
       "      <td>0</td>\n",
       "      <td>0</td>\n",
       "      <td>0</td>\n",
       "      <td>0</td>\n",
       "      <td>0</td>\n",
       "      <td>0</td>\n",
       "      <td>0</td>\n",
       "      <td>0</td>\n",
       "      <td>0</td>\n",
       "      <td>0</td>\n",
       "      <td>0</td>\n",
       "      <td>0</td>\n",
       "      <td>0</td>\n",
       "      <td>0</td>\n",
       "      <td>0</td>\n",
       "      <td>0</td>\n",
       "      <td>0</td>\n",
       "      <td>0</td>\n",
       "      <td>0</td>\n",
       "      <td>0</td>\n",
       "      <td>0</td>\n",
       "      <td>0</td>\n",
       "      <td>0</td>\n",
       "      <td>0</td>\n",
       "      <td>0</td>\n",
       "      <td>0</td>\n",
       "      <td>0</td>\n",
       "      <td>0</td>\n",
       "      <td>0</td>\n",
       "      <td>0</td>\n",
       "      <td>0</td>\n",
       "      <td>0</td>\n",
       "      <td>0</td>\n",
       "      <td>0</td>\n",
       "      <td>0</td>\n",
       "      <td>0</td>\n",
       "      <td>0</td>\n",
       "      <td>0</td>\n",
       "      <td>0</td>\n",
       "      <td>0</td>\n",
       "      <td>0</td>\n",
       "      <td>0</td>\n",
       "      <td>0</td>\n",
       "      <td>0</td>\n",
       "      <td>0</td>\n",
       "      <td>0</td>\n",
       "      <td>0</td>\n",
       "      <td>0</td>\n",
       "      <td>0</td>\n",
       "      <td>0</td>\n",
       "      <td>0</td>\n",
       "      <td>0</td>\n",
       "      <td>0</td>\n",
       "      <td>0</td>\n",
       "      <td>0</td>\n",
       "      <td>0</td>\n",
       "      <td>0</td>\n",
       "      <td>0</td>\n",
       "      <td>0</td>\n",
       "      <td>0</td>\n",
       "      <td>0</td>\n",
       "      <td>0</td>\n",
       "      <td>0</td>\n",
       "      <td>0</td>\n",
       "      <td>0</td>\n",
       "      <td>0</td>\n",
       "      <td>0</td>\n",
       "      <td>0</td>\n",
       "      <td>0</td>\n",
       "      <td>0</td>\n",
       "      <td>0</td>\n",
       "      <td>0</td>\n",
       "      <td>0</td>\n",
       "      <td>0</td>\n",
       "      <td>0</td>\n",
       "      <td>0</td>\n",
       "      <td>0</td>\n",
       "      <td>0</td>\n",
       "      <td>0</td>\n",
       "      <td>0</td>\n",
       "      <td>0</td>\n",
       "      <td>0</td>\n",
       "      <td>0</td>\n",
       "      <td>0</td>\n",
       "      <td>0</td>\n",
       "      <td>1</td>\n",
       "      <td>0</td>\n",
       "      <td>0</td>\n",
       "      <td>0</td>\n",
       "      <td>0</td>\n",
       "      <td>0</td>\n",
       "      <td>0</td>\n",
       "      <td>0</td>\n",
       "      <td>0</td>\n",
       "      <td>0</td>\n",
       "      <td>0</td>\n",
       "      <td>0</td>\n",
       "      <td>0</td>\n",
       "      <td>0</td>\n",
       "      <td>0</td>\n",
       "      <td>0</td>\n",
       "      <td>0</td>\n",
       "      <td>0</td>\n",
       "      <td>0</td>\n",
       "      <td>0</td>\n",
       "      <td>0</td>\n",
       "      <td>0</td>\n",
       "      <td>0</td>\n",
       "      <td>0</td>\n",
       "      <td>0</td>\n",
       "      <td>0</td>\n",
       "      <td>0</td>\n",
       "      <td>0</td>\n",
       "      <td>0</td>\n",
       "      <td>0</td>\n",
       "      <td>0</td>\n",
       "      <td>0</td>\n",
       "      <td>0</td>\n",
       "      <td>0</td>\n",
       "      <td>0</td>\n",
       "      <td>0</td>\n",
       "      <td>0</td>\n",
       "      <td>0</td>\n",
       "      <td>0</td>\n",
       "      <td>0</td>\n",
       "      <td>0</td>\n",
       "      <td>0</td>\n",
       "      <td>0</td>\n",
       "      <td>0</td>\n",
       "      <td>0</td>\n",
       "      <td>0</td>\n",
       "      <td>0</td>\n",
       "      <td>0</td>\n",
       "      <td>0</td>\n",
       "      <td>0</td>\n",
       "      <td>0</td>\n",
       "      <td>0</td>\n",
       "      <td>0</td>\n",
       "      <td>0</td>\n",
       "      <td>0</td>\n",
       "      <td>0</td>\n",
       "      <td>0</td>\n",
       "      <td>0</td>\n",
       "      <td>0</td>\n",
       "      <td>0</td>\n",
       "      <td>0</td>\n",
       "      <td>0</td>\n",
       "      <td>0</td>\n",
       "      <td>0</td>\n",
       "      <td>0</td>\n",
       "      <td>0</td>\n",
       "      <td>0</td>\n",
       "      <td>0</td>\n",
       "      <td>0</td>\n",
       "      <td>0</td>\n",
       "      <td>0</td>\n",
       "      <td>0</td>\n",
       "      <td>0</td>\n",
       "      <td>0</td>\n",
       "      <td>0</td>\n",
       "      <td>0</td>\n",
       "      <td>0</td>\n",
       "      <td>0</td>\n",
       "      <td>0</td>\n",
       "      <td>0</td>\n",
       "      <td>0</td>\n",
       "      <td>0</td>\n",
       "      <td>0</td>\n",
       "      <td>0</td>\n",
       "      <td>0</td>\n",
       "      <td>1</td>\n",
       "      <td>0</td>\n",
       "      <td>0</td>\n",
       "      <td>0</td>\n",
       "      <td>0</td>\n",
       "      <td>1</td>\n",
       "      <td>0</td>\n",
       "      <td>0</td>\n",
       "      <td>0</td>\n",
       "      <td>0</td>\n",
       "      <td>0</td>\n",
       "      <td>0</td>\n",
       "      <td>0</td>\n",
       "      <td>0</td>\n",
       "      <td>0</td>\n",
       "      <td>0</td>\n",
       "      <td>0</td>\n",
       "      <td>0</td>\n",
       "      <td>0</td>\n",
       "      <td>0</td>\n",
       "      <td>0</td>\n",
       "      <td>0</td>\n",
       "      <td>0</td>\n",
       "      <td>0</td>\n",
       "      <td>0</td>\n",
       "      <td>0</td>\n",
       "      <td>0</td>\n",
       "      <td>0</td>\n",
       "      <td>0</td>\n",
       "      <td>0</td>\n",
       "      <td>0</td>\n",
       "      <td>0</td>\n",
       "      <td>0</td>\n",
       "      <td>0</td>\n",
       "      <td>0</td>\n",
       "      <td>0</td>\n",
       "      <td>0</td>\n",
       "      <td>0</td>\n",
       "      <td>0</td>\n",
       "      <td>0</td>\n",
       "      <td>0</td>\n",
       "      <td>0</td>\n",
       "      <td>0</td>\n",
       "      <td>0</td>\n",
       "      <td>1</td>\n",
       "    </tr>\n",
       "    <tr>\n",
       "      <td>2</td>\n",
       "      <td>9800</td>\n",
       "      <td>2004</td>\n",
       "      <td>163</td>\n",
       "      <td>125000</td>\n",
       "      <td>0</td>\n",
       "      <td>0</td>\n",
       "      <td>0</td>\n",
       "      <td>0</td>\n",
       "      <td>0</td>\n",
       "      <td>1</td>\n",
       "      <td>0</td>\n",
       "      <td>0</td>\n",
       "      <td>0</td>\n",
       "      <td>0</td>\n",
       "      <td>0</td>\n",
       "      <td>0</td>\n",
       "      <td>0</td>\n",
       "      <td>0</td>\n",
       "      <td>0</td>\n",
       "      <td>0</td>\n",
       "      <td>0</td>\n",
       "      <td>0</td>\n",
       "      <td>0</td>\n",
       "      <td>0</td>\n",
       "      <td>0</td>\n",
       "      <td>0</td>\n",
       "      <td>0</td>\n",
       "      <td>0</td>\n",
       "      <td>0</td>\n",
       "      <td>0</td>\n",
       "      <td>0</td>\n",
       "      <td>0</td>\n",
       "      <td>0</td>\n",
       "      <td>0</td>\n",
       "      <td>0</td>\n",
       "      <td>0</td>\n",
       "      <td>0</td>\n",
       "      <td>0</td>\n",
       "      <td>0</td>\n",
       "      <td>0</td>\n",
       "      <td>0</td>\n",
       "      <td>0</td>\n",
       "      <td>0</td>\n",
       "      <td>0</td>\n",
       "      <td>0</td>\n",
       "      <td>0</td>\n",
       "      <td>0</td>\n",
       "      <td>0</td>\n",
       "      <td>0</td>\n",
       "      <td>0</td>\n",
       "      <td>0</td>\n",
       "      <td>0</td>\n",
       "      <td>0</td>\n",
       "      <td>0</td>\n",
       "      <td>0</td>\n",
       "      <td>0</td>\n",
       "      <td>0</td>\n",
       "      <td>0</td>\n",
       "      <td>0</td>\n",
       "      <td>0</td>\n",
       "      <td>0</td>\n",
       "      <td>0</td>\n",
       "      <td>0</td>\n",
       "      <td>0</td>\n",
       "      <td>0</td>\n",
       "      <td>0</td>\n",
       "      <td>0</td>\n",
       "      <td>0</td>\n",
       "      <td>0</td>\n",
       "      <td>0</td>\n",
       "      <td>0</td>\n",
       "      <td>0</td>\n",
       "      <td>0</td>\n",
       "      <td>0</td>\n",
       "      <td>0</td>\n",
       "      <td>0</td>\n",
       "      <td>0</td>\n",
       "      <td>0</td>\n",
       "      <td>0</td>\n",
       "      <td>0</td>\n",
       "      <td>0</td>\n",
       "      <td>0</td>\n",
       "      <td>0</td>\n",
       "      <td>0</td>\n",
       "      <td>0</td>\n",
       "      <td>0</td>\n",
       "      <td>0</td>\n",
       "      <td>0</td>\n",
       "      <td>0</td>\n",
       "      <td>0</td>\n",
       "      <td>0</td>\n",
       "      <td>0</td>\n",
       "      <td>0</td>\n",
       "      <td>0</td>\n",
       "      <td>0</td>\n",
       "      <td>0</td>\n",
       "      <td>0</td>\n",
       "      <td>0</td>\n",
       "      <td>0</td>\n",
       "      <td>0</td>\n",
       "      <td>0</td>\n",
       "      <td>0</td>\n",
       "      <td>0</td>\n",
       "      <td>0</td>\n",
       "      <td>0</td>\n",
       "      <td>0</td>\n",
       "      <td>0</td>\n",
       "      <td>0</td>\n",
       "      <td>0</td>\n",
       "      <td>0</td>\n",
       "      <td>0</td>\n",
       "      <td>0</td>\n",
       "      <td>0</td>\n",
       "      <td>0</td>\n",
       "      <td>0</td>\n",
       "      <td>0</td>\n",
       "      <td>0</td>\n",
       "      <td>0</td>\n",
       "      <td>0</td>\n",
       "      <td>0</td>\n",
       "      <td>0</td>\n",
       "      <td>0</td>\n",
       "      <td>0</td>\n",
       "      <td>0</td>\n",
       "      <td>0</td>\n",
       "      <td>0</td>\n",
       "      <td>0</td>\n",
       "      <td>0</td>\n",
       "      <td>0</td>\n",
       "      <td>1</td>\n",
       "      <td>0</td>\n",
       "      <td>0</td>\n",
       "      <td>0</td>\n",
       "      <td>0</td>\n",
       "      <td>0</td>\n",
       "      <td>0</td>\n",
       "      <td>0</td>\n",
       "      <td>0</td>\n",
       "      <td>0</td>\n",
       "      <td>0</td>\n",
       "      <td>0</td>\n",
       "      <td>0</td>\n",
       "      <td>0</td>\n",
       "      <td>0</td>\n",
       "      <td>0</td>\n",
       "      <td>0</td>\n",
       "      <td>0</td>\n",
       "      <td>0</td>\n",
       "      <td>0</td>\n",
       "      <td>0</td>\n",
       "      <td>0</td>\n",
       "      <td>0</td>\n",
       "      <td>0</td>\n",
       "      <td>0</td>\n",
       "      <td>0</td>\n",
       "      <td>0</td>\n",
       "      <td>0</td>\n",
       "      <td>0</td>\n",
       "      <td>0</td>\n",
       "      <td>0</td>\n",
       "      <td>0</td>\n",
       "      <td>0</td>\n",
       "      <td>0</td>\n",
       "      <td>0</td>\n",
       "      <td>0</td>\n",
       "      <td>0</td>\n",
       "      <td>0</td>\n",
       "      <td>0</td>\n",
       "      <td>0</td>\n",
       "      <td>0</td>\n",
       "      <td>0</td>\n",
       "      <td>0</td>\n",
       "      <td>0</td>\n",
       "      <td>0</td>\n",
       "      <td>0</td>\n",
       "      <td>0</td>\n",
       "      <td>0</td>\n",
       "      <td>0</td>\n",
       "      <td>0</td>\n",
       "      <td>0</td>\n",
       "      <td>0</td>\n",
       "      <td>0</td>\n",
       "      <td>0</td>\n",
       "      <td>0</td>\n",
       "      <td>0</td>\n",
       "      <td>0</td>\n",
       "      <td>0</td>\n",
       "      <td>0</td>\n",
       "      <td>0</td>\n",
       "      <td>0</td>\n",
       "      <td>0</td>\n",
       "      <td>0</td>\n",
       "      <td>0</td>\n",
       "      <td>0</td>\n",
       "      <td>0</td>\n",
       "      <td>0</td>\n",
       "      <td>0</td>\n",
       "      <td>0</td>\n",
       "      <td>0</td>\n",
       "      <td>0</td>\n",
       "      <td>0</td>\n",
       "      <td>0</td>\n",
       "      <td>0</td>\n",
       "      <td>0</td>\n",
       "      <td>0</td>\n",
       "      <td>0</td>\n",
       "      <td>0</td>\n",
       "      <td>0</td>\n",
       "      <td>0</td>\n",
       "      <td>0</td>\n",
       "      <td>0</td>\n",
       "      <td>0</td>\n",
       "      <td>0</td>\n",
       "      <td>0</td>\n",
       "      <td>0</td>\n",
       "      <td>0</td>\n",
       "      <td>0</td>\n",
       "      <td>0</td>\n",
       "      <td>0</td>\n",
       "      <td>0</td>\n",
       "      <td>0</td>\n",
       "      <td>0</td>\n",
       "      <td>0</td>\n",
       "      <td>0</td>\n",
       "      <td>0</td>\n",
       "      <td>0</td>\n",
       "      <td>0</td>\n",
       "      <td>0</td>\n",
       "      <td>0</td>\n",
       "      <td>0</td>\n",
       "      <td>0</td>\n",
       "      <td>0</td>\n",
       "      <td>0</td>\n",
       "      <td>0</td>\n",
       "      <td>0</td>\n",
       "      <td>0</td>\n",
       "      <td>0</td>\n",
       "      <td>0</td>\n",
       "      <td>0</td>\n",
       "      <td>0</td>\n",
       "      <td>0</td>\n",
       "      <td>0</td>\n",
       "      <td>0</td>\n",
       "      <td>0</td>\n",
       "      <td>0</td>\n",
       "      <td>0</td>\n",
       "      <td>0</td>\n",
       "      <td>0</td>\n",
       "      <td>0</td>\n",
       "      <td>0</td>\n",
       "      <td>0</td>\n",
       "      <td>0</td>\n",
       "      <td>0</td>\n",
       "      <td>0</td>\n",
       "      <td>0</td>\n",
       "      <td>0</td>\n",
       "      <td>0</td>\n",
       "      <td>0</td>\n",
       "      <td>0</td>\n",
       "      <td>0</td>\n",
       "      <td>0</td>\n",
       "      <td>0</td>\n",
       "      <td>0</td>\n",
       "      <td>1</td>\n",
       "      <td>0</td>\n",
       "      <td>0</td>\n",
       "      <td>0</td>\n",
       "      <td>0</td>\n",
       "      <td>0</td>\n",
       "      <td>0</td>\n",
       "      <td>0</td>\n",
       "      <td>0</td>\n",
       "      <td>0</td>\n",
       "      <td>0</td>\n",
       "      <td>0</td>\n",
       "      <td>0</td>\n",
       "      <td>0</td>\n",
       "      <td>0</td>\n",
       "      <td>0</td>\n",
       "      <td>0</td>\n",
       "      <td>0</td>\n",
       "      <td>1</td>\n",
       "      <td>0</td>\n",
       "      <td>0</td>\n",
       "      <td>0</td>\n",
       "      <td>0</td>\n",
       "      <td>0</td>\n",
       "      <td>0</td>\n",
       "      <td>0</td>\n",
       "      <td>0</td>\n",
       "      <td>0</td>\n",
       "      <td>0</td>\n",
       "      <td>0</td>\n",
       "      <td>0</td>\n",
       "      <td>0</td>\n",
       "      <td>0</td>\n",
       "      <td>0</td>\n",
       "      <td>0</td>\n",
       "      <td>0</td>\n",
       "      <td>0</td>\n",
       "      <td>0</td>\n",
       "      <td>0</td>\n",
       "      <td>0</td>\n",
       "      <td>0</td>\n",
       "      <td>0</td>\n",
       "      <td>0</td>\n",
       "      <td>0</td>\n",
       "      <td>0</td>\n",
       "    </tr>\n",
       "    <tr>\n",
       "      <td>3</td>\n",
       "      <td>1500</td>\n",
       "      <td>2001</td>\n",
       "      <td>75</td>\n",
       "      <td>150000</td>\n",
       "      <td>0</td>\n",
       "      <td>0</td>\n",
       "      <td>0</td>\n",
       "      <td>0</td>\n",
       "      <td>1</td>\n",
       "      <td>0</td>\n",
       "      <td>0</td>\n",
       "      <td>1</td>\n",
       "      <td>0</td>\n",
       "      <td>0</td>\n",
       "      <td>0</td>\n",
       "      <td>0</td>\n",
       "      <td>0</td>\n",
       "      <td>0</td>\n",
       "      <td>0</td>\n",
       "      <td>0</td>\n",
       "      <td>0</td>\n",
       "      <td>0</td>\n",
       "      <td>0</td>\n",
       "      <td>0</td>\n",
       "      <td>0</td>\n",
       "      <td>0</td>\n",
       "      <td>0</td>\n",
       "      <td>0</td>\n",
       "      <td>0</td>\n",
       "      <td>0</td>\n",
       "      <td>0</td>\n",
       "      <td>0</td>\n",
       "      <td>0</td>\n",
       "      <td>0</td>\n",
       "      <td>0</td>\n",
       "      <td>0</td>\n",
       "      <td>0</td>\n",
       "      <td>0</td>\n",
       "      <td>0</td>\n",
       "      <td>0</td>\n",
       "      <td>0</td>\n",
       "      <td>0</td>\n",
       "      <td>0</td>\n",
       "      <td>0</td>\n",
       "      <td>0</td>\n",
       "      <td>0</td>\n",
       "      <td>0</td>\n",
       "      <td>0</td>\n",
       "      <td>0</td>\n",
       "      <td>0</td>\n",
       "      <td>0</td>\n",
       "      <td>0</td>\n",
       "      <td>0</td>\n",
       "      <td>0</td>\n",
       "      <td>0</td>\n",
       "      <td>0</td>\n",
       "      <td>0</td>\n",
       "      <td>0</td>\n",
       "      <td>0</td>\n",
       "      <td>0</td>\n",
       "      <td>0</td>\n",
       "      <td>0</td>\n",
       "      <td>0</td>\n",
       "      <td>0</td>\n",
       "      <td>0</td>\n",
       "      <td>0</td>\n",
       "      <td>0</td>\n",
       "      <td>0</td>\n",
       "      <td>0</td>\n",
       "      <td>0</td>\n",
       "      <td>0</td>\n",
       "      <td>0</td>\n",
       "      <td>0</td>\n",
       "      <td>0</td>\n",
       "      <td>0</td>\n",
       "      <td>0</td>\n",
       "      <td>0</td>\n",
       "      <td>0</td>\n",
       "      <td>0</td>\n",
       "      <td>0</td>\n",
       "      <td>0</td>\n",
       "      <td>0</td>\n",
       "      <td>0</td>\n",
       "      <td>0</td>\n",
       "      <td>0</td>\n",
       "      <td>0</td>\n",
       "      <td>0</td>\n",
       "      <td>0</td>\n",
       "      <td>0</td>\n",
       "      <td>0</td>\n",
       "      <td>0</td>\n",
       "      <td>0</td>\n",
       "      <td>0</td>\n",
       "      <td>0</td>\n",
       "      <td>0</td>\n",
       "      <td>0</td>\n",
       "      <td>0</td>\n",
       "      <td>0</td>\n",
       "      <td>0</td>\n",
       "      <td>0</td>\n",
       "      <td>0</td>\n",
       "      <td>0</td>\n",
       "      <td>0</td>\n",
       "      <td>0</td>\n",
       "      <td>0</td>\n",
       "      <td>0</td>\n",
       "      <td>0</td>\n",
       "      <td>0</td>\n",
       "      <td>0</td>\n",
       "      <td>0</td>\n",
       "      <td>0</td>\n",
       "      <td>0</td>\n",
       "      <td>0</td>\n",
       "      <td>0</td>\n",
       "      <td>0</td>\n",
       "      <td>0</td>\n",
       "      <td>0</td>\n",
       "      <td>0</td>\n",
       "      <td>0</td>\n",
       "      <td>0</td>\n",
       "      <td>0</td>\n",
       "      <td>0</td>\n",
       "      <td>0</td>\n",
       "      <td>0</td>\n",
       "      <td>0</td>\n",
       "      <td>0</td>\n",
       "      <td>0</td>\n",
       "      <td>0</td>\n",
       "      <td>1</td>\n",
       "      <td>0</td>\n",
       "      <td>0</td>\n",
       "      <td>0</td>\n",
       "      <td>0</td>\n",
       "      <td>0</td>\n",
       "      <td>0</td>\n",
       "      <td>0</td>\n",
       "      <td>0</td>\n",
       "      <td>0</td>\n",
       "      <td>0</td>\n",
       "      <td>0</td>\n",
       "      <td>0</td>\n",
       "      <td>0</td>\n",
       "      <td>0</td>\n",
       "      <td>0</td>\n",
       "      <td>0</td>\n",
       "      <td>0</td>\n",
       "      <td>0</td>\n",
       "      <td>0</td>\n",
       "      <td>0</td>\n",
       "      <td>0</td>\n",
       "      <td>0</td>\n",
       "      <td>0</td>\n",
       "      <td>0</td>\n",
       "      <td>0</td>\n",
       "      <td>0</td>\n",
       "      <td>0</td>\n",
       "      <td>0</td>\n",
       "      <td>0</td>\n",
       "      <td>0</td>\n",
       "      <td>0</td>\n",
       "      <td>0</td>\n",
       "      <td>0</td>\n",
       "      <td>0</td>\n",
       "      <td>0</td>\n",
       "      <td>0</td>\n",
       "      <td>0</td>\n",
       "      <td>0</td>\n",
       "      <td>0</td>\n",
       "      <td>0</td>\n",
       "      <td>0</td>\n",
       "      <td>0</td>\n",
       "      <td>0</td>\n",
       "      <td>0</td>\n",
       "      <td>0</td>\n",
       "      <td>0</td>\n",
       "      <td>0</td>\n",
       "      <td>0</td>\n",
       "      <td>0</td>\n",
       "      <td>0</td>\n",
       "      <td>0</td>\n",
       "      <td>0</td>\n",
       "      <td>0</td>\n",
       "      <td>0</td>\n",
       "      <td>0</td>\n",
       "      <td>0</td>\n",
       "      <td>0</td>\n",
       "      <td>0</td>\n",
       "      <td>0</td>\n",
       "      <td>0</td>\n",
       "      <td>0</td>\n",
       "      <td>0</td>\n",
       "      <td>0</td>\n",
       "      <td>0</td>\n",
       "      <td>0</td>\n",
       "      <td>0</td>\n",
       "      <td>0</td>\n",
       "      <td>0</td>\n",
       "      <td>0</td>\n",
       "      <td>0</td>\n",
       "      <td>0</td>\n",
       "      <td>0</td>\n",
       "      <td>0</td>\n",
       "      <td>0</td>\n",
       "      <td>0</td>\n",
       "      <td>0</td>\n",
       "      <td>0</td>\n",
       "      <td>0</td>\n",
       "      <td>0</td>\n",
       "      <td>0</td>\n",
       "      <td>0</td>\n",
       "      <td>0</td>\n",
       "      <td>0</td>\n",
       "      <td>0</td>\n",
       "      <td>0</td>\n",
       "      <td>0</td>\n",
       "      <td>0</td>\n",
       "      <td>0</td>\n",
       "      <td>0</td>\n",
       "      <td>0</td>\n",
       "      <td>0</td>\n",
       "      <td>0</td>\n",
       "      <td>0</td>\n",
       "      <td>0</td>\n",
       "      <td>0</td>\n",
       "      <td>0</td>\n",
       "      <td>0</td>\n",
       "      <td>0</td>\n",
       "      <td>0</td>\n",
       "      <td>0</td>\n",
       "      <td>0</td>\n",
       "      <td>0</td>\n",
       "      <td>0</td>\n",
       "      <td>0</td>\n",
       "      <td>0</td>\n",
       "      <td>0</td>\n",
       "      <td>0</td>\n",
       "      <td>0</td>\n",
       "      <td>0</td>\n",
       "      <td>0</td>\n",
       "      <td>0</td>\n",
       "      <td>0</td>\n",
       "      <td>0</td>\n",
       "      <td>0</td>\n",
       "      <td>0</td>\n",
       "      <td>0</td>\n",
       "      <td>0</td>\n",
       "      <td>0</td>\n",
       "      <td>0</td>\n",
       "      <td>0</td>\n",
       "      <td>0</td>\n",
       "      <td>0</td>\n",
       "      <td>0</td>\n",
       "      <td>0</td>\n",
       "      <td>0</td>\n",
       "      <td>0</td>\n",
       "      <td>0</td>\n",
       "      <td>0</td>\n",
       "      <td>0</td>\n",
       "      <td>0</td>\n",
       "      <td>0</td>\n",
       "      <td>0</td>\n",
       "      <td>0</td>\n",
       "      <td>0</td>\n",
       "      <td>0</td>\n",
       "      <td>0</td>\n",
       "      <td>0</td>\n",
       "      <td>0</td>\n",
       "      <td>1</td>\n",
       "      <td>0</td>\n",
       "      <td>0</td>\n",
       "      <td>0</td>\n",
       "      <td>0</td>\n",
       "      <td>0</td>\n",
       "      <td>0</td>\n",
       "      <td>0</td>\n",
       "      <td>0</td>\n",
       "      <td>0</td>\n",
       "      <td>0</td>\n",
       "      <td>0</td>\n",
       "      <td>0</td>\n",
       "      <td>0</td>\n",
       "      <td>0</td>\n",
       "      <td>0</td>\n",
       "      <td>0</td>\n",
       "      <td>0</td>\n",
       "      <td>0</td>\n",
       "      <td>0</td>\n",
       "      <td>0</td>\n",
       "      <td>0</td>\n",
       "      <td>0</td>\n",
       "      <td>0</td>\n",
       "      <td>0</td>\n",
       "      <td>0</td>\n",
       "      <td>0</td>\n",
       "      <td>0</td>\n",
       "      <td>0</td>\n",
       "      <td>0</td>\n",
       "      <td>0</td>\n",
       "      <td>0</td>\n",
       "      <td>0</td>\n",
       "      <td>0</td>\n",
       "      <td>0</td>\n",
       "      <td>0</td>\n",
       "      <td>0</td>\n",
       "      <td>0</td>\n",
       "      <td>1</td>\n",
       "      <td>0</td>\n",
       "      <td>0</td>\n",
       "    </tr>\n",
       "    <tr>\n",
       "      <td>4</td>\n",
       "      <td>3600</td>\n",
       "      <td>2008</td>\n",
       "      <td>69</td>\n",
       "      <td>90000</td>\n",
       "      <td>0</td>\n",
       "      <td>0</td>\n",
       "      <td>0</td>\n",
       "      <td>0</td>\n",
       "      <td>1</td>\n",
       "      <td>0</td>\n",
       "      <td>0</td>\n",
       "      <td>1</td>\n",
       "      <td>0</td>\n",
       "      <td>0</td>\n",
       "      <td>0</td>\n",
       "      <td>0</td>\n",
       "      <td>0</td>\n",
       "      <td>0</td>\n",
       "      <td>0</td>\n",
       "      <td>0</td>\n",
       "      <td>0</td>\n",
       "      <td>0</td>\n",
       "      <td>0</td>\n",
       "      <td>0</td>\n",
       "      <td>0</td>\n",
       "      <td>0</td>\n",
       "      <td>0</td>\n",
       "      <td>0</td>\n",
       "      <td>0</td>\n",
       "      <td>0</td>\n",
       "      <td>0</td>\n",
       "      <td>0</td>\n",
       "      <td>0</td>\n",
       "      <td>0</td>\n",
       "      <td>0</td>\n",
       "      <td>0</td>\n",
       "      <td>0</td>\n",
       "      <td>0</td>\n",
       "      <td>0</td>\n",
       "      <td>0</td>\n",
       "      <td>0</td>\n",
       "      <td>0</td>\n",
       "      <td>0</td>\n",
       "      <td>0</td>\n",
       "      <td>0</td>\n",
       "      <td>0</td>\n",
       "      <td>0</td>\n",
       "      <td>0</td>\n",
       "      <td>0</td>\n",
       "      <td>0</td>\n",
       "      <td>0</td>\n",
       "      <td>0</td>\n",
       "      <td>0</td>\n",
       "      <td>0</td>\n",
       "      <td>0</td>\n",
       "      <td>0</td>\n",
       "      <td>0</td>\n",
       "      <td>0</td>\n",
       "      <td>0</td>\n",
       "      <td>0</td>\n",
       "      <td>0</td>\n",
       "      <td>0</td>\n",
       "      <td>0</td>\n",
       "      <td>0</td>\n",
       "      <td>0</td>\n",
       "      <td>0</td>\n",
       "      <td>0</td>\n",
       "      <td>0</td>\n",
       "      <td>0</td>\n",
       "      <td>0</td>\n",
       "      <td>0</td>\n",
       "      <td>0</td>\n",
       "      <td>0</td>\n",
       "      <td>0</td>\n",
       "      <td>0</td>\n",
       "      <td>0</td>\n",
       "      <td>0</td>\n",
       "      <td>0</td>\n",
       "      <td>0</td>\n",
       "      <td>0</td>\n",
       "      <td>0</td>\n",
       "      <td>0</td>\n",
       "      <td>0</td>\n",
       "      <td>0</td>\n",
       "      <td>0</td>\n",
       "      <td>0</td>\n",
       "      <td>0</td>\n",
       "      <td>0</td>\n",
       "      <td>0</td>\n",
       "      <td>0</td>\n",
       "      <td>0</td>\n",
       "      <td>0</td>\n",
       "      <td>0</td>\n",
       "      <td>0</td>\n",
       "      <td>0</td>\n",
       "      <td>0</td>\n",
       "      <td>0</td>\n",
       "      <td>0</td>\n",
       "      <td>0</td>\n",
       "      <td>0</td>\n",
       "      <td>0</td>\n",
       "      <td>0</td>\n",
       "      <td>0</td>\n",
       "      <td>0</td>\n",
       "      <td>0</td>\n",
       "      <td>0</td>\n",
       "      <td>0</td>\n",
       "      <td>0</td>\n",
       "      <td>0</td>\n",
       "      <td>0</td>\n",
       "      <td>0</td>\n",
       "      <td>0</td>\n",
       "      <td>0</td>\n",
       "      <td>1</td>\n",
       "      <td>0</td>\n",
       "      <td>0</td>\n",
       "      <td>0</td>\n",
       "      <td>0</td>\n",
       "      <td>0</td>\n",
       "      <td>0</td>\n",
       "      <td>0</td>\n",
       "      <td>0</td>\n",
       "      <td>0</td>\n",
       "      <td>0</td>\n",
       "      <td>0</td>\n",
       "      <td>0</td>\n",
       "      <td>0</td>\n",
       "      <td>0</td>\n",
       "      <td>0</td>\n",
       "      <td>0</td>\n",
       "      <td>0</td>\n",
       "      <td>0</td>\n",
       "      <td>0</td>\n",
       "      <td>0</td>\n",
       "      <td>0</td>\n",
       "      <td>0</td>\n",
       "      <td>0</td>\n",
       "      <td>0</td>\n",
       "      <td>0</td>\n",
       "      <td>0</td>\n",
       "      <td>0</td>\n",
       "      <td>0</td>\n",
       "      <td>0</td>\n",
       "      <td>0</td>\n",
       "      <td>0</td>\n",
       "      <td>0</td>\n",
       "      <td>0</td>\n",
       "      <td>0</td>\n",
       "      <td>0</td>\n",
       "      <td>0</td>\n",
       "      <td>0</td>\n",
       "      <td>0</td>\n",
       "      <td>0</td>\n",
       "      <td>0</td>\n",
       "      <td>0</td>\n",
       "      <td>0</td>\n",
       "      <td>0</td>\n",
       "      <td>0</td>\n",
       "      <td>0</td>\n",
       "      <td>0</td>\n",
       "      <td>0</td>\n",
       "      <td>0</td>\n",
       "      <td>0</td>\n",
       "      <td>0</td>\n",
       "      <td>0</td>\n",
       "      <td>0</td>\n",
       "      <td>0</td>\n",
       "      <td>0</td>\n",
       "      <td>0</td>\n",
       "      <td>0</td>\n",
       "      <td>0</td>\n",
       "      <td>0</td>\n",
       "      <td>0</td>\n",
       "      <td>0</td>\n",
       "      <td>0</td>\n",
       "      <td>0</td>\n",
       "      <td>0</td>\n",
       "      <td>0</td>\n",
       "      <td>0</td>\n",
       "      <td>0</td>\n",
       "      <td>0</td>\n",
       "      <td>0</td>\n",
       "      <td>0</td>\n",
       "      <td>0</td>\n",
       "      <td>0</td>\n",
       "      <td>0</td>\n",
       "      <td>0</td>\n",
       "      <td>0</td>\n",
       "      <td>0</td>\n",
       "      <td>0</td>\n",
       "      <td>0</td>\n",
       "      <td>0</td>\n",
       "      <td>0</td>\n",
       "      <td>0</td>\n",
       "      <td>0</td>\n",
       "      <td>0</td>\n",
       "      <td>0</td>\n",
       "      <td>0</td>\n",
       "      <td>0</td>\n",
       "      <td>0</td>\n",
       "      <td>0</td>\n",
       "      <td>0</td>\n",
       "      <td>0</td>\n",
       "      <td>0</td>\n",
       "      <td>0</td>\n",
       "      <td>0</td>\n",
       "      <td>0</td>\n",
       "      <td>0</td>\n",
       "      <td>0</td>\n",
       "      <td>0</td>\n",
       "      <td>0</td>\n",
       "      <td>0</td>\n",
       "      <td>0</td>\n",
       "      <td>0</td>\n",
       "      <td>0</td>\n",
       "      <td>0</td>\n",
       "      <td>0</td>\n",
       "      <td>0</td>\n",
       "      <td>0</td>\n",
       "      <td>0</td>\n",
       "      <td>0</td>\n",
       "      <td>0</td>\n",
       "      <td>0</td>\n",
       "      <td>0</td>\n",
       "      <td>0</td>\n",
       "      <td>0</td>\n",
       "      <td>0</td>\n",
       "      <td>0</td>\n",
       "      <td>0</td>\n",
       "      <td>0</td>\n",
       "      <td>0</td>\n",
       "      <td>0</td>\n",
       "      <td>0</td>\n",
       "      <td>0</td>\n",
       "      <td>0</td>\n",
       "      <td>0</td>\n",
       "      <td>0</td>\n",
       "      <td>0</td>\n",
       "      <td>0</td>\n",
       "      <td>0</td>\n",
       "      <td>0</td>\n",
       "      <td>0</td>\n",
       "      <td>0</td>\n",
       "      <td>0</td>\n",
       "      <td>0</td>\n",
       "      <td>0</td>\n",
       "      <td>0</td>\n",
       "      <td>0</td>\n",
       "      <td>0</td>\n",
       "      <td>0</td>\n",
       "      <td>0</td>\n",
       "      <td>0</td>\n",
       "      <td>0</td>\n",
       "      <td>0</td>\n",
       "      <td>0</td>\n",
       "      <td>0</td>\n",
       "      <td>0</td>\n",
       "      <td>0</td>\n",
       "      <td>0</td>\n",
       "      <td>0</td>\n",
       "      <td>0</td>\n",
       "      <td>0</td>\n",
       "      <td>0</td>\n",
       "      <td>1</td>\n",
       "      <td>0</td>\n",
       "      <td>0</td>\n",
       "      <td>0</td>\n",
       "      <td>0</td>\n",
       "      <td>0</td>\n",
       "      <td>0</td>\n",
       "      <td>0</td>\n",
       "      <td>0</td>\n",
       "      <td>0</td>\n",
       "      <td>0</td>\n",
       "      <td>0</td>\n",
       "      <td>0</td>\n",
       "      <td>0</td>\n",
       "      <td>0</td>\n",
       "      <td>0</td>\n",
       "      <td>0</td>\n",
       "      <td>0</td>\n",
       "      <td>0</td>\n",
       "      <td>0</td>\n",
       "      <td>0</td>\n",
       "      <td>0</td>\n",
       "      <td>0</td>\n",
       "      <td>0</td>\n",
       "      <td>0</td>\n",
       "      <td>0</td>\n",
       "      <td>0</td>\n",
       "      <td>0</td>\n",
       "      <td>0</td>\n",
       "      <td>0</td>\n",
       "      <td>0</td>\n",
       "      <td>0</td>\n",
       "      <td>0</td>\n",
       "      <td>0</td>\n",
       "      <td>0</td>\n",
       "      <td>1</td>\n",
       "      <td>0</td>\n",
       "      <td>0</td>\n",
       "      <td>0</td>\n",
       "      <td>0</td>\n",
       "      <td>0</td>\n",
       "      <td>0</td>\n",
       "      <td>0</td>\n",
       "      <td>0</td>\n",
       "      <td>0</td>\n",
       "    </tr>\n",
       "    <tr>\n",
       "      <td>5</td>\n",
       "      <td>650</td>\n",
       "      <td>1995</td>\n",
       "      <td>102</td>\n",
       "      <td>150000</td>\n",
       "      <td>0</td>\n",
       "      <td>0</td>\n",
       "      <td>0</td>\n",
       "      <td>1</td>\n",
       "      <td>0</td>\n",
       "      <td>0</td>\n",
       "      <td>0</td>\n",
       "      <td>1</td>\n",
       "      <td>0</td>\n",
       "      <td>0</td>\n",
       "      <td>0</td>\n",
       "      <td>0</td>\n",
       "      <td>0</td>\n",
       "      <td>0</td>\n",
       "      <td>0</td>\n",
       "      <td>0</td>\n",
       "      <td>0</td>\n",
       "      <td>0</td>\n",
       "      <td>0</td>\n",
       "      <td>1</td>\n",
       "      <td>0</td>\n",
       "      <td>0</td>\n",
       "      <td>0</td>\n",
       "      <td>0</td>\n",
       "      <td>0</td>\n",
       "      <td>0</td>\n",
       "      <td>0</td>\n",
       "      <td>0</td>\n",
       "      <td>0</td>\n",
       "      <td>0</td>\n",
       "      <td>0</td>\n",
       "      <td>0</td>\n",
       "      <td>0</td>\n",
       "      <td>0</td>\n",
       "      <td>0</td>\n",
       "      <td>0</td>\n",
       "      <td>0</td>\n",
       "      <td>0</td>\n",
       "      <td>0</td>\n",
       "      <td>0</td>\n",
       "      <td>0</td>\n",
       "      <td>0</td>\n",
       "      <td>0</td>\n",
       "      <td>0</td>\n",
       "      <td>0</td>\n",
       "      <td>0</td>\n",
       "      <td>0</td>\n",
       "      <td>0</td>\n",
       "      <td>0</td>\n",
       "      <td>0</td>\n",
       "      <td>0</td>\n",
       "      <td>0</td>\n",
       "      <td>0</td>\n",
       "      <td>0</td>\n",
       "      <td>0</td>\n",
       "      <td>0</td>\n",
       "      <td>0</td>\n",
       "      <td>0</td>\n",
       "      <td>0</td>\n",
       "      <td>0</td>\n",
       "      <td>0</td>\n",
       "      <td>0</td>\n",
       "      <td>0</td>\n",
       "      <td>0</td>\n",
       "      <td>0</td>\n",
       "      <td>0</td>\n",
       "      <td>0</td>\n",
       "      <td>0</td>\n",
       "      <td>0</td>\n",
       "      <td>0</td>\n",
       "      <td>0</td>\n",
       "      <td>0</td>\n",
       "      <td>0</td>\n",
       "      <td>0</td>\n",
       "      <td>0</td>\n",
       "      <td>0</td>\n",
       "      <td>0</td>\n",
       "      <td>0</td>\n",
       "      <td>0</td>\n",
       "      <td>0</td>\n",
       "      <td>0</td>\n",
       "      <td>0</td>\n",
       "      <td>0</td>\n",
       "      <td>0</td>\n",
       "      <td>0</td>\n",
       "      <td>0</td>\n",
       "      <td>0</td>\n",
       "      <td>0</td>\n",
       "      <td>0</td>\n",
       "      <td>0</td>\n",
       "      <td>0</td>\n",
       "      <td>0</td>\n",
       "      <td>0</td>\n",
       "      <td>0</td>\n",
       "      <td>0</td>\n",
       "      <td>0</td>\n",
       "      <td>0</td>\n",
       "      <td>0</td>\n",
       "      <td>0</td>\n",
       "      <td>0</td>\n",
       "      <td>0</td>\n",
       "      <td>0</td>\n",
       "      <td>0</td>\n",
       "      <td>0</td>\n",
       "      <td>0</td>\n",
       "      <td>0</td>\n",
       "      <td>0</td>\n",
       "      <td>0</td>\n",
       "      <td>0</td>\n",
       "      <td>0</td>\n",
       "      <td>0</td>\n",
       "      <td>0</td>\n",
       "      <td>0</td>\n",
       "      <td>0</td>\n",
       "      <td>0</td>\n",
       "      <td>0</td>\n",
       "      <td>0</td>\n",
       "      <td>0</td>\n",
       "      <td>0</td>\n",
       "      <td>0</td>\n",
       "      <td>0</td>\n",
       "      <td>0</td>\n",
       "      <td>0</td>\n",
       "      <td>0</td>\n",
       "      <td>0</td>\n",
       "      <td>0</td>\n",
       "      <td>0</td>\n",
       "      <td>0</td>\n",
       "      <td>0</td>\n",
       "      <td>0</td>\n",
       "      <td>0</td>\n",
       "      <td>0</td>\n",
       "      <td>0</td>\n",
       "      <td>0</td>\n",
       "      <td>0</td>\n",
       "      <td>0</td>\n",
       "      <td>0</td>\n",
       "      <td>0</td>\n",
       "      <td>0</td>\n",
       "      <td>0</td>\n",
       "      <td>0</td>\n",
       "      <td>0</td>\n",
       "      <td>0</td>\n",
       "      <td>0</td>\n",
       "      <td>0</td>\n",
       "      <td>0</td>\n",
       "      <td>0</td>\n",
       "      <td>0</td>\n",
       "      <td>0</td>\n",
       "      <td>0</td>\n",
       "      <td>0</td>\n",
       "      <td>0</td>\n",
       "      <td>0</td>\n",
       "      <td>0</td>\n",
       "      <td>0</td>\n",
       "      <td>0</td>\n",
       "      <td>0</td>\n",
       "      <td>0</td>\n",
       "      <td>0</td>\n",
       "      <td>0</td>\n",
       "      <td>0</td>\n",
       "      <td>0</td>\n",
       "      <td>0</td>\n",
       "      <td>0</td>\n",
       "      <td>0</td>\n",
       "      <td>0</td>\n",
       "      <td>0</td>\n",
       "      <td>0</td>\n",
       "      <td>0</td>\n",
       "      <td>0</td>\n",
       "      <td>0</td>\n",
       "      <td>0</td>\n",
       "      <td>0</td>\n",
       "      <td>0</td>\n",
       "      <td>0</td>\n",
       "      <td>0</td>\n",
       "      <td>0</td>\n",
       "      <td>0</td>\n",
       "      <td>0</td>\n",
       "      <td>0</td>\n",
       "      <td>0</td>\n",
       "      <td>0</td>\n",
       "      <td>0</td>\n",
       "      <td>0</td>\n",
       "      <td>0</td>\n",
       "      <td>0</td>\n",
       "      <td>0</td>\n",
       "      <td>0</td>\n",
       "      <td>0</td>\n",
       "      <td>0</td>\n",
       "      <td>0</td>\n",
       "      <td>0</td>\n",
       "      <td>0</td>\n",
       "      <td>0</td>\n",
       "      <td>0</td>\n",
       "      <td>0</td>\n",
       "      <td>0</td>\n",
       "      <td>0</td>\n",
       "      <td>0</td>\n",
       "      <td>0</td>\n",
       "      <td>0</td>\n",
       "      <td>0</td>\n",
       "      <td>0</td>\n",
       "      <td>0</td>\n",
       "      <td>0</td>\n",
       "      <td>0</td>\n",
       "      <td>0</td>\n",
       "      <td>0</td>\n",
       "      <td>0</td>\n",
       "      <td>0</td>\n",
       "      <td>0</td>\n",
       "      <td>0</td>\n",
       "      <td>0</td>\n",
       "      <td>0</td>\n",
       "      <td>0</td>\n",
       "      <td>0</td>\n",
       "      <td>0</td>\n",
       "      <td>0</td>\n",
       "      <td>0</td>\n",
       "      <td>0</td>\n",
       "      <td>0</td>\n",
       "      <td>0</td>\n",
       "      <td>0</td>\n",
       "      <td>0</td>\n",
       "      <td>0</td>\n",
       "      <td>0</td>\n",
       "      <td>0</td>\n",
       "      <td>0</td>\n",
       "      <td>0</td>\n",
       "      <td>0</td>\n",
       "      <td>0</td>\n",
       "      <td>0</td>\n",
       "      <td>0</td>\n",
       "      <td>0</td>\n",
       "      <td>0</td>\n",
       "      <td>0</td>\n",
       "      <td>0</td>\n",
       "      <td>0</td>\n",
       "      <td>0</td>\n",
       "      <td>0</td>\n",
       "      <td>0</td>\n",
       "      <td>0</td>\n",
       "      <td>0</td>\n",
       "      <td>0</td>\n",
       "      <td>0</td>\n",
       "      <td>0</td>\n",
       "      <td>0</td>\n",
       "      <td>0</td>\n",
       "      <td>0</td>\n",
       "      <td>0</td>\n",
       "      <td>0</td>\n",
       "      <td>0</td>\n",
       "      <td>0</td>\n",
       "      <td>0</td>\n",
       "      <td>0</td>\n",
       "      <td>0</td>\n",
       "      <td>0</td>\n",
       "      <td>0</td>\n",
       "      <td>0</td>\n",
       "      <td>0</td>\n",
       "      <td>0</td>\n",
       "      <td>0</td>\n",
       "      <td>0</td>\n",
       "      <td>1</td>\n",
       "      <td>0</td>\n",
       "      <td>1</td>\n",
       "      <td>0</td>\n",
       "      <td>0</td>\n",
       "      <td>0</td>\n",
       "      <td>0</td>\n",
       "      <td>0</td>\n",
       "      <td>0</td>\n",
       "      <td>0</td>\n",
       "      <td>0</td>\n",
       "      <td>0</td>\n",
       "      <td>0</td>\n",
       "      <td>0</td>\n",
       "      <td>0</td>\n",
       "      <td>0</td>\n",
       "      <td>0</td>\n",
       "      <td>0</td>\n",
       "      <td>0</td>\n",
       "      <td>0</td>\n",
       "      <td>0</td>\n",
       "      <td>0</td>\n",
       "      <td>0</td>\n",
       "      <td>0</td>\n",
       "      <td>0</td>\n",
       "      <td>0</td>\n",
       "      <td>0</td>\n",
       "      <td>0</td>\n",
       "      <td>0</td>\n",
       "      <td>0</td>\n",
       "      <td>0</td>\n",
       "      <td>0</td>\n",
       "      <td>0</td>\n",
       "      <td>0</td>\n",
       "      <td>0</td>\n",
       "      <td>0</td>\n",
       "      <td>0</td>\n",
       "      <td>0</td>\n",
       "      <td>0</td>\n",
       "      <td>0</td>\n",
       "      <td>1</td>\n",
       "    </tr>\n",
       "    <tr>\n",
       "      <td>6</td>\n",
       "      <td>2200</td>\n",
       "      <td>2004</td>\n",
       "      <td>109</td>\n",
       "      <td>150000</td>\n",
       "      <td>1</td>\n",
       "      <td>0</td>\n",
       "      <td>0</td>\n",
       "      <td>0</td>\n",
       "      <td>0</td>\n",
       "      <td>0</td>\n",
       "      <td>0</td>\n",
       "      <td>1</td>\n",
       "      <td>0</td>\n",
       "      <td>0</td>\n",
       "      <td>0</td>\n",
       "      <td>0</td>\n",
       "      <td>0</td>\n",
       "      <td>0</td>\n",
       "      <td>0</td>\n",
       "      <td>0</td>\n",
       "      <td>1</td>\n",
       "      <td>0</td>\n",
       "      <td>0</td>\n",
       "      <td>0</td>\n",
       "      <td>0</td>\n",
       "      <td>0</td>\n",
       "      <td>0</td>\n",
       "      <td>0</td>\n",
       "      <td>0</td>\n",
       "      <td>0</td>\n",
       "      <td>0</td>\n",
       "      <td>0</td>\n",
       "      <td>0</td>\n",
       "      <td>0</td>\n",
       "      <td>0</td>\n",
       "      <td>0</td>\n",
       "      <td>0</td>\n",
       "      <td>0</td>\n",
       "      <td>0</td>\n",
       "      <td>0</td>\n",
       "      <td>0</td>\n",
       "      <td>0</td>\n",
       "      <td>0</td>\n",
       "      <td>0</td>\n",
       "      <td>0</td>\n",
       "      <td>0</td>\n",
       "      <td>0</td>\n",
       "      <td>0</td>\n",
       "      <td>0</td>\n",
       "      <td>0</td>\n",
       "      <td>0</td>\n",
       "      <td>0</td>\n",
       "      <td>0</td>\n",
       "      <td>0</td>\n",
       "      <td>0</td>\n",
       "      <td>0</td>\n",
       "      <td>0</td>\n",
       "      <td>0</td>\n",
       "      <td>0</td>\n",
       "      <td>0</td>\n",
       "      <td>0</td>\n",
       "      <td>0</td>\n",
       "      <td>0</td>\n",
       "      <td>0</td>\n",
       "      <td>0</td>\n",
       "      <td>0</td>\n",
       "      <td>0</td>\n",
       "      <td>0</td>\n",
       "      <td>0</td>\n",
       "      <td>0</td>\n",
       "      <td>0</td>\n",
       "      <td>0</td>\n",
       "      <td>0</td>\n",
       "      <td>0</td>\n",
       "      <td>0</td>\n",
       "      <td>0</td>\n",
       "      <td>0</td>\n",
       "      <td>0</td>\n",
       "      <td>0</td>\n",
       "      <td>0</td>\n",
       "      <td>0</td>\n",
       "      <td>0</td>\n",
       "      <td>0</td>\n",
       "      <td>0</td>\n",
       "      <td>0</td>\n",
       "      <td>0</td>\n",
       "      <td>0</td>\n",
       "      <td>0</td>\n",
       "      <td>0</td>\n",
       "      <td>0</td>\n",
       "      <td>0</td>\n",
       "      <td>0</td>\n",
       "      <td>0</td>\n",
       "      <td>0</td>\n",
       "      <td>0</td>\n",
       "      <td>0</td>\n",
       "      <td>0</td>\n",
       "      <td>0</td>\n",
       "      <td>0</td>\n",
       "      <td>0</td>\n",
       "      <td>0</td>\n",
       "      <td>0</td>\n",
       "      <td>0</td>\n",
       "      <td>0</td>\n",
       "      <td>0</td>\n",
       "      <td>0</td>\n",
       "      <td>0</td>\n",
       "      <td>0</td>\n",
       "      <td>0</td>\n",
       "      <td>0</td>\n",
       "      <td>0</td>\n",
       "      <td>0</td>\n",
       "      <td>0</td>\n",
       "      <td>0</td>\n",
       "      <td>0</td>\n",
       "      <td>0</td>\n",
       "      <td>0</td>\n",
       "      <td>0</td>\n",
       "      <td>0</td>\n",
       "      <td>0</td>\n",
       "      <td>0</td>\n",
       "      <td>0</td>\n",
       "      <td>0</td>\n",
       "      <td>0</td>\n",
       "      <td>0</td>\n",
       "      <td>0</td>\n",
       "      <td>0</td>\n",
       "      <td>0</td>\n",
       "      <td>0</td>\n",
       "      <td>0</td>\n",
       "      <td>0</td>\n",
       "      <td>0</td>\n",
       "      <td>0</td>\n",
       "      <td>0</td>\n",
       "      <td>0</td>\n",
       "      <td>0</td>\n",
       "      <td>0</td>\n",
       "      <td>0</td>\n",
       "      <td>0</td>\n",
       "      <td>0</td>\n",
       "      <td>0</td>\n",
       "      <td>0</td>\n",
       "      <td>0</td>\n",
       "      <td>0</td>\n",
       "      <td>0</td>\n",
       "      <td>0</td>\n",
       "      <td>0</td>\n",
       "      <td>0</td>\n",
       "      <td>0</td>\n",
       "      <td>0</td>\n",
       "      <td>0</td>\n",
       "      <td>0</td>\n",
       "      <td>0</td>\n",
       "      <td>0</td>\n",
       "      <td>0</td>\n",
       "      <td>0</td>\n",
       "      <td>0</td>\n",
       "      <td>0</td>\n",
       "      <td>0</td>\n",
       "      <td>0</td>\n",
       "      <td>0</td>\n",
       "      <td>0</td>\n",
       "      <td>0</td>\n",
       "      <td>0</td>\n",
       "      <td>0</td>\n",
       "      <td>0</td>\n",
       "      <td>0</td>\n",
       "      <td>0</td>\n",
       "      <td>0</td>\n",
       "      <td>0</td>\n",
       "      <td>0</td>\n",
       "      <td>0</td>\n",
       "      <td>0</td>\n",
       "      <td>0</td>\n",
       "      <td>0</td>\n",
       "      <td>0</td>\n",
       "      <td>0</td>\n",
       "      <td>0</td>\n",
       "      <td>0</td>\n",
       "      <td>0</td>\n",
       "      <td>0</td>\n",
       "      <td>0</td>\n",
       "      <td>0</td>\n",
       "      <td>0</td>\n",
       "      <td>0</td>\n",
       "      <td>0</td>\n",
       "      <td>0</td>\n",
       "      <td>0</td>\n",
       "      <td>0</td>\n",
       "      <td>0</td>\n",
       "      <td>0</td>\n",
       "      <td>0</td>\n",
       "      <td>0</td>\n",
       "      <td>0</td>\n",
       "      <td>0</td>\n",
       "      <td>0</td>\n",
       "      <td>0</td>\n",
       "      <td>0</td>\n",
       "      <td>0</td>\n",
       "      <td>0</td>\n",
       "      <td>0</td>\n",
       "      <td>0</td>\n",
       "      <td>0</td>\n",
       "      <td>0</td>\n",
       "      <td>0</td>\n",
       "      <td>0</td>\n",
       "      <td>0</td>\n",
       "      <td>0</td>\n",
       "      <td>0</td>\n",
       "      <td>0</td>\n",
       "      <td>0</td>\n",
       "      <td>0</td>\n",
       "      <td>0</td>\n",
       "      <td>0</td>\n",
       "      <td>0</td>\n",
       "      <td>0</td>\n",
       "      <td>0</td>\n",
       "      <td>0</td>\n",
       "      <td>0</td>\n",
       "      <td>0</td>\n",
       "      <td>0</td>\n",
       "      <td>0</td>\n",
       "      <td>0</td>\n",
       "      <td>0</td>\n",
       "      <td>0</td>\n",
       "      <td>0</td>\n",
       "      <td>0</td>\n",
       "      <td>0</td>\n",
       "      <td>0</td>\n",
       "      <td>0</td>\n",
       "      <td>0</td>\n",
       "      <td>0</td>\n",
       "      <td>0</td>\n",
       "      <td>0</td>\n",
       "      <td>0</td>\n",
       "      <td>0</td>\n",
       "      <td>0</td>\n",
       "      <td>0</td>\n",
       "      <td>0</td>\n",
       "      <td>0</td>\n",
       "      <td>0</td>\n",
       "      <td>0</td>\n",
       "      <td>0</td>\n",
       "      <td>0</td>\n",
       "      <td>0</td>\n",
       "      <td>0</td>\n",
       "      <td>0</td>\n",
       "      <td>0</td>\n",
       "      <td>0</td>\n",
       "      <td>0</td>\n",
       "      <td>0</td>\n",
       "      <td>0</td>\n",
       "      <td>0</td>\n",
       "      <td>0</td>\n",
       "      <td>0</td>\n",
       "      <td>0</td>\n",
       "      <td>0</td>\n",
       "      <td>0</td>\n",
       "      <td>0</td>\n",
       "      <td>0</td>\n",
       "      <td>0</td>\n",
       "      <td>0</td>\n",
       "      <td>0</td>\n",
       "      <td>0</td>\n",
       "      <td>0</td>\n",
       "      <td>0</td>\n",
       "      <td>0</td>\n",
       "      <td>1</td>\n",
       "      <td>0</td>\n",
       "      <td>0</td>\n",
       "      <td>0</td>\n",
       "      <td>0</td>\n",
       "      <td>0</td>\n",
       "      <td>0</td>\n",
       "      <td>0</td>\n",
       "      <td>0</td>\n",
       "      <td>0</td>\n",
       "      <td>0</td>\n",
       "      <td>0</td>\n",
       "      <td>0</td>\n",
       "      <td>0</td>\n",
       "      <td>0</td>\n",
       "      <td>0</td>\n",
       "      <td>0</td>\n",
       "      <td>0</td>\n",
       "      <td>0</td>\n",
       "      <td>0</td>\n",
       "      <td>0</td>\n",
       "      <td>0</td>\n",
       "      <td>0</td>\n",
       "      <td>0</td>\n",
       "      <td>0</td>\n",
       "      <td>1</td>\n",
       "      <td>0</td>\n",
       "      <td>0</td>\n",
       "      <td>0</td>\n",
       "      <td>0</td>\n",
       "      <td>0</td>\n",
       "      <td>0</td>\n",
       "      <td>0</td>\n",
       "      <td>0</td>\n",
       "      <td>0</td>\n",
       "      <td>0</td>\n",
       "      <td>0</td>\n",
       "      <td>0</td>\n",
       "      <td>0</td>\n",
       "      <td>0</td>\n",
       "      <td>0</td>\n",
       "    </tr>\n",
       "    <tr>\n",
       "      <td>8</td>\n",
       "      <td>14500</td>\n",
       "      <td>2014</td>\n",
       "      <td>125</td>\n",
       "      <td>30000</td>\n",
       "      <td>0</td>\n",
       "      <td>0</td>\n",
       "      <td>0</td>\n",
       "      <td>0</td>\n",
       "      <td>0</td>\n",
       "      <td>0</td>\n",
       "      <td>0</td>\n",
       "      <td>1</td>\n",
       "      <td>0</td>\n",
       "      <td>0</td>\n",
       "      <td>0</td>\n",
       "      <td>0</td>\n",
       "      <td>0</td>\n",
       "      <td>0</td>\n",
       "      <td>0</td>\n",
       "      <td>0</td>\n",
       "      <td>0</td>\n",
       "      <td>0</td>\n",
       "      <td>0</td>\n",
       "      <td>0</td>\n",
       "      <td>0</td>\n",
       "      <td>0</td>\n",
       "      <td>0</td>\n",
       "      <td>0</td>\n",
       "      <td>0</td>\n",
       "      <td>0</td>\n",
       "      <td>0</td>\n",
       "      <td>0</td>\n",
       "      <td>0</td>\n",
       "      <td>0</td>\n",
       "      <td>0</td>\n",
       "      <td>0</td>\n",
       "      <td>0</td>\n",
       "      <td>0</td>\n",
       "      <td>0</td>\n",
       "      <td>0</td>\n",
       "      <td>0</td>\n",
       "      <td>0</td>\n",
       "      <td>0</td>\n",
       "      <td>0</td>\n",
       "      <td>0</td>\n",
       "      <td>0</td>\n",
       "      <td>0</td>\n",
       "      <td>0</td>\n",
       "      <td>0</td>\n",
       "      <td>0</td>\n",
       "      <td>0</td>\n",
       "      <td>0</td>\n",
       "      <td>0</td>\n",
       "      <td>0</td>\n",
       "      <td>0</td>\n",
       "      <td>0</td>\n",
       "      <td>0</td>\n",
       "      <td>0</td>\n",
       "      <td>0</td>\n",
       "      <td>0</td>\n",
       "      <td>0</td>\n",
       "      <td>0</td>\n",
       "      <td>0</td>\n",
       "      <td>0</td>\n",
       "      <td>0</td>\n",
       "      <td>0</td>\n",
       "      <td>0</td>\n",
       "      <td>0</td>\n",
       "      <td>0</td>\n",
       "      <td>0</td>\n",
       "      <td>0</td>\n",
       "      <td>0</td>\n",
       "      <td>1</td>\n",
       "      <td>0</td>\n",
       "      <td>0</td>\n",
       "      <td>0</td>\n",
       "      <td>0</td>\n",
       "      <td>0</td>\n",
       "      <td>0</td>\n",
       "      <td>0</td>\n",
       "      <td>0</td>\n",
       "      <td>0</td>\n",
       "      <td>0</td>\n",
       "      <td>0</td>\n",
       "      <td>0</td>\n",
       "      <td>0</td>\n",
       "      <td>0</td>\n",
       "      <td>0</td>\n",
       "      <td>0</td>\n",
       "      <td>0</td>\n",
       "      <td>0</td>\n",
       "      <td>0</td>\n",
       "      <td>0</td>\n",
       "      <td>0</td>\n",
       "      <td>0</td>\n",
       "      <td>0</td>\n",
       "      <td>0</td>\n",
       "      <td>0</td>\n",
       "      <td>0</td>\n",
       "      <td>0</td>\n",
       "      <td>0</td>\n",
       "      <td>0</td>\n",
       "      <td>0</td>\n",
       "      <td>0</td>\n",
       "      <td>0</td>\n",
       "      <td>0</td>\n",
       "      <td>0</td>\n",
       "      <td>0</td>\n",
       "      <td>0</td>\n",
       "      <td>0</td>\n",
       "      <td>0</td>\n",
       "      <td>0</td>\n",
       "      <td>0</td>\n",
       "      <td>0</td>\n",
       "      <td>0</td>\n",
       "      <td>0</td>\n",
       "      <td>0</td>\n",
       "      <td>0</td>\n",
       "      <td>0</td>\n",
       "      <td>0</td>\n",
       "      <td>0</td>\n",
       "      <td>0</td>\n",
       "      <td>0</td>\n",
       "      <td>0</td>\n",
       "      <td>0</td>\n",
       "      <td>0</td>\n",
       "      <td>0</td>\n",
       "      <td>0</td>\n",
       "      <td>0</td>\n",
       "      <td>0</td>\n",
       "      <td>0</td>\n",
       "      <td>0</td>\n",
       "      <td>0</td>\n",
       "      <td>0</td>\n",
       "      <td>0</td>\n",
       "      <td>0</td>\n",
       "      <td>0</td>\n",
       "      <td>0</td>\n",
       "      <td>0</td>\n",
       "      <td>0</td>\n",
       "      <td>0</td>\n",
       "      <td>0</td>\n",
       "      <td>0</td>\n",
       "      <td>0</td>\n",
       "      <td>0</td>\n",
       "      <td>0</td>\n",
       "      <td>0</td>\n",
       "      <td>0</td>\n",
       "      <td>0</td>\n",
       "      <td>0</td>\n",
       "      <td>0</td>\n",
       "      <td>0</td>\n",
       "      <td>0</td>\n",
       "      <td>0</td>\n",
       "      <td>0</td>\n",
       "      <td>0</td>\n",
       "      <td>0</td>\n",
       "      <td>0</td>\n",
       "      <td>0</td>\n",
       "      <td>0</td>\n",
       "      <td>0</td>\n",
       "      <td>0</td>\n",
       "      <td>0</td>\n",
       "      <td>0</td>\n",
       "      <td>0</td>\n",
       "      <td>0</td>\n",
       "      <td>0</td>\n",
       "      <td>0</td>\n",
       "      <td>0</td>\n",
       "      <td>0</td>\n",
       "      <td>0</td>\n",
       "      <td>0</td>\n",
       "      <td>0</td>\n",
       "      <td>0</td>\n",
       "      <td>0</td>\n",
       "      <td>0</td>\n",
       "      <td>0</td>\n",
       "      <td>0</td>\n",
       "      <td>0</td>\n",
       "      <td>0</td>\n",
       "      <td>0</td>\n",
       "      <td>0</td>\n",
       "      <td>0</td>\n",
       "      <td>0</td>\n",
       "      <td>0</td>\n",
       "      <td>0</td>\n",
       "      <td>0</td>\n",
       "      <td>0</td>\n",
       "      <td>0</td>\n",
       "      <td>0</td>\n",
       "      <td>0</td>\n",
       "      <td>0</td>\n",
       "      <td>0</td>\n",
       "      <td>0</td>\n",
       "      <td>0</td>\n",
       "      <td>0</td>\n",
       "      <td>0</td>\n",
       "      <td>0</td>\n",
       "      <td>0</td>\n",
       "      <td>0</td>\n",
       "      <td>0</td>\n",
       "      <td>0</td>\n",
       "      <td>0</td>\n",
       "      <td>0</td>\n",
       "      <td>0</td>\n",
       "      <td>0</td>\n",
       "      <td>0</td>\n",
       "      <td>0</td>\n",
       "      <td>0</td>\n",
       "      <td>0</td>\n",
       "      <td>0</td>\n",
       "      <td>0</td>\n",
       "      <td>0</td>\n",
       "      <td>0</td>\n",
       "      <td>0</td>\n",
       "      <td>0</td>\n",
       "      <td>0</td>\n",
       "      <td>0</td>\n",
       "      <td>0</td>\n",
       "      <td>0</td>\n",
       "      <td>0</td>\n",
       "      <td>0</td>\n",
       "      <td>0</td>\n",
       "      <td>0</td>\n",
       "      <td>0</td>\n",
       "      <td>0</td>\n",
       "      <td>0</td>\n",
       "      <td>0</td>\n",
       "      <td>0</td>\n",
       "      <td>0</td>\n",
       "      <td>0</td>\n",
       "      <td>0</td>\n",
       "      <td>0</td>\n",
       "      <td>0</td>\n",
       "      <td>0</td>\n",
       "      <td>0</td>\n",
       "      <td>0</td>\n",
       "      <td>0</td>\n",
       "      <td>0</td>\n",
       "      <td>0</td>\n",
       "      <td>0</td>\n",
       "      <td>0</td>\n",
       "      <td>0</td>\n",
       "      <td>0</td>\n",
       "      <td>0</td>\n",
       "      <td>0</td>\n",
       "      <td>0</td>\n",
       "      <td>0</td>\n",
       "      <td>0</td>\n",
       "      <td>0</td>\n",
       "      <td>0</td>\n",
       "      <td>0</td>\n",
       "      <td>0</td>\n",
       "      <td>0</td>\n",
       "      <td>0</td>\n",
       "      <td>0</td>\n",
       "      <td>0</td>\n",
       "      <td>0</td>\n",
       "      <td>0</td>\n",
       "      <td>0</td>\n",
       "      <td>0</td>\n",
       "      <td>0</td>\n",
       "      <td>0</td>\n",
       "      <td>0</td>\n",
       "      <td>0</td>\n",
       "      <td>0</td>\n",
       "      <td>0</td>\n",
       "      <td>1</td>\n",
       "      <td>0</td>\n",
       "      <td>0</td>\n",
       "      <td>0</td>\n",
       "      <td>0</td>\n",
       "      <td>0</td>\n",
       "      <td>0</td>\n",
       "      <td>0</td>\n",
       "      <td>0</td>\n",
       "      <td>0</td>\n",
       "      <td>1</td>\n",
       "      <td>0</td>\n",
       "      <td>0</td>\n",
       "      <td>0</td>\n",
       "      <td>0</td>\n",
       "      <td>0</td>\n",
       "      <td>0</td>\n",
       "      <td>0</td>\n",
       "      <td>0</td>\n",
       "      <td>0</td>\n",
       "      <td>0</td>\n",
       "      <td>0</td>\n",
       "      <td>0</td>\n",
       "      <td>0</td>\n",
       "      <td>0</td>\n",
       "      <td>0</td>\n",
       "      <td>0</td>\n",
       "      <td>0</td>\n",
       "      <td>0</td>\n",
       "      <td>0</td>\n",
       "      <td>0</td>\n",
       "      <td>0</td>\n",
       "      <td>0</td>\n",
       "      <td>0</td>\n",
       "      <td>0</td>\n",
       "      <td>0</td>\n",
       "      <td>0</td>\n",
       "      <td>0</td>\n",
       "      <td>0</td>\n",
       "      <td>0</td>\n",
       "      <td>0</td>\n",
       "    </tr>\n",
       "    <tr>\n",
       "      <td>9</td>\n",
       "      <td>999</td>\n",
       "      <td>1998</td>\n",
       "      <td>101</td>\n",
       "      <td>150000</td>\n",
       "      <td>0</td>\n",
       "      <td>0</td>\n",
       "      <td>0</td>\n",
       "      <td>0</td>\n",
       "      <td>1</td>\n",
       "      <td>0</td>\n",
       "      <td>0</td>\n",
       "      <td>1</td>\n",
       "      <td>0</td>\n",
       "      <td>0</td>\n",
       "      <td>0</td>\n",
       "      <td>0</td>\n",
       "      <td>0</td>\n",
       "      <td>0</td>\n",
       "      <td>0</td>\n",
       "      <td>0</td>\n",
       "      <td>0</td>\n",
       "      <td>0</td>\n",
       "      <td>0</td>\n",
       "      <td>0</td>\n",
       "      <td>0</td>\n",
       "      <td>0</td>\n",
       "      <td>0</td>\n",
       "      <td>0</td>\n",
       "      <td>0</td>\n",
       "      <td>0</td>\n",
       "      <td>0</td>\n",
       "      <td>0</td>\n",
       "      <td>0</td>\n",
       "      <td>0</td>\n",
       "      <td>0</td>\n",
       "      <td>0</td>\n",
       "      <td>0</td>\n",
       "      <td>0</td>\n",
       "      <td>0</td>\n",
       "      <td>0</td>\n",
       "      <td>0</td>\n",
       "      <td>0</td>\n",
       "      <td>0</td>\n",
       "      <td>0</td>\n",
       "      <td>0</td>\n",
       "      <td>0</td>\n",
       "      <td>0</td>\n",
       "      <td>0</td>\n",
       "      <td>0</td>\n",
       "      <td>0</td>\n",
       "      <td>0</td>\n",
       "      <td>0</td>\n",
       "      <td>0</td>\n",
       "      <td>0</td>\n",
       "      <td>0</td>\n",
       "      <td>0</td>\n",
       "      <td>0</td>\n",
       "      <td>0</td>\n",
       "      <td>0</td>\n",
       "      <td>0</td>\n",
       "      <td>0</td>\n",
       "      <td>0</td>\n",
       "      <td>0</td>\n",
       "      <td>0</td>\n",
       "      <td>0</td>\n",
       "      <td>0</td>\n",
       "      <td>0</td>\n",
       "      <td>0</td>\n",
       "      <td>0</td>\n",
       "      <td>0</td>\n",
       "      <td>0</td>\n",
       "      <td>0</td>\n",
       "      <td>0</td>\n",
       "      <td>0</td>\n",
       "      <td>0</td>\n",
       "      <td>0</td>\n",
       "      <td>0</td>\n",
       "      <td>0</td>\n",
       "      <td>0</td>\n",
       "      <td>0</td>\n",
       "      <td>0</td>\n",
       "      <td>0</td>\n",
       "      <td>0</td>\n",
       "      <td>0</td>\n",
       "      <td>0</td>\n",
       "      <td>0</td>\n",
       "      <td>0</td>\n",
       "      <td>0</td>\n",
       "      <td>0</td>\n",
       "      <td>0</td>\n",
       "      <td>0</td>\n",
       "      <td>0</td>\n",
       "      <td>0</td>\n",
       "      <td>0</td>\n",
       "      <td>0</td>\n",
       "      <td>0</td>\n",
       "      <td>0</td>\n",
       "      <td>0</td>\n",
       "      <td>0</td>\n",
       "      <td>0</td>\n",
       "      <td>0</td>\n",
       "      <td>0</td>\n",
       "      <td>0</td>\n",
       "      <td>0</td>\n",
       "      <td>0</td>\n",
       "      <td>0</td>\n",
       "      <td>0</td>\n",
       "      <td>0</td>\n",
       "      <td>0</td>\n",
       "      <td>0</td>\n",
       "      <td>0</td>\n",
       "      <td>0</td>\n",
       "      <td>0</td>\n",
       "      <td>0</td>\n",
       "      <td>0</td>\n",
       "      <td>0</td>\n",
       "      <td>0</td>\n",
       "      <td>0</td>\n",
       "      <td>0</td>\n",
       "      <td>0</td>\n",
       "      <td>0</td>\n",
       "      <td>0</td>\n",
       "      <td>0</td>\n",
       "      <td>0</td>\n",
       "      <td>0</td>\n",
       "      <td>0</td>\n",
       "      <td>0</td>\n",
       "      <td>0</td>\n",
       "      <td>1</td>\n",
       "      <td>0</td>\n",
       "      <td>0</td>\n",
       "      <td>0</td>\n",
       "      <td>0</td>\n",
       "      <td>0</td>\n",
       "      <td>0</td>\n",
       "      <td>0</td>\n",
       "      <td>0</td>\n",
       "      <td>0</td>\n",
       "      <td>0</td>\n",
       "      <td>0</td>\n",
       "      <td>0</td>\n",
       "      <td>0</td>\n",
       "      <td>0</td>\n",
       "      <td>0</td>\n",
       "      <td>0</td>\n",
       "      <td>0</td>\n",
       "      <td>0</td>\n",
       "      <td>0</td>\n",
       "      <td>0</td>\n",
       "      <td>0</td>\n",
       "      <td>0</td>\n",
       "      <td>0</td>\n",
       "      <td>0</td>\n",
       "      <td>0</td>\n",
       "      <td>0</td>\n",
       "      <td>0</td>\n",
       "      <td>0</td>\n",
       "      <td>0</td>\n",
       "      <td>0</td>\n",
       "      <td>0</td>\n",
       "      <td>0</td>\n",
       "      <td>0</td>\n",
       "      <td>0</td>\n",
       "      <td>0</td>\n",
       "      <td>0</td>\n",
       "      <td>0</td>\n",
       "      <td>0</td>\n",
       "      <td>0</td>\n",
       "      <td>0</td>\n",
       "      <td>0</td>\n",
       "      <td>0</td>\n",
       "      <td>0</td>\n",
       "      <td>0</td>\n",
       "      <td>0</td>\n",
       "      <td>0</td>\n",
       "      <td>0</td>\n",
       "      <td>0</td>\n",
       "      <td>0</td>\n",
       "      <td>0</td>\n",
       "      <td>0</td>\n",
       "      <td>0</td>\n",
       "      <td>0</td>\n",
       "      <td>0</td>\n",
       "      <td>0</td>\n",
       "      <td>0</td>\n",
       "      <td>0</td>\n",
       "      <td>0</td>\n",
       "      <td>0</td>\n",
       "      <td>0</td>\n",
       "      <td>0</td>\n",
       "      <td>0</td>\n",
       "      <td>0</td>\n",
       "      <td>0</td>\n",
       "      <td>0</td>\n",
       "      <td>0</td>\n",
       "      <td>0</td>\n",
       "      <td>0</td>\n",
       "      <td>0</td>\n",
       "      <td>0</td>\n",
       "      <td>0</td>\n",
       "      <td>0</td>\n",
       "      <td>0</td>\n",
       "      <td>0</td>\n",
       "      <td>0</td>\n",
       "      <td>0</td>\n",
       "      <td>0</td>\n",
       "      <td>0</td>\n",
       "      <td>0</td>\n",
       "      <td>0</td>\n",
       "      <td>0</td>\n",
       "      <td>0</td>\n",
       "      <td>0</td>\n",
       "      <td>0</td>\n",
       "      <td>0</td>\n",
       "      <td>0</td>\n",
       "      <td>0</td>\n",
       "      <td>0</td>\n",
       "      <td>0</td>\n",
       "      <td>0</td>\n",
       "      <td>0</td>\n",
       "      <td>0</td>\n",
       "      <td>0</td>\n",
       "      <td>0</td>\n",
       "      <td>0</td>\n",
       "      <td>0</td>\n",
       "      <td>0</td>\n",
       "      <td>0</td>\n",
       "      <td>0</td>\n",
       "      <td>0</td>\n",
       "      <td>0</td>\n",
       "      <td>0</td>\n",
       "      <td>0</td>\n",
       "      <td>0</td>\n",
       "      <td>0</td>\n",
       "      <td>0</td>\n",
       "      <td>0</td>\n",
       "      <td>0</td>\n",
       "      <td>0</td>\n",
       "      <td>0</td>\n",
       "      <td>0</td>\n",
       "      <td>0</td>\n",
       "      <td>0</td>\n",
       "      <td>0</td>\n",
       "      <td>0</td>\n",
       "      <td>0</td>\n",
       "      <td>0</td>\n",
       "      <td>0</td>\n",
       "      <td>0</td>\n",
       "      <td>0</td>\n",
       "      <td>0</td>\n",
       "      <td>0</td>\n",
       "      <td>0</td>\n",
       "      <td>0</td>\n",
       "      <td>0</td>\n",
       "      <td>0</td>\n",
       "      <td>0</td>\n",
       "      <td>0</td>\n",
       "      <td>0</td>\n",
       "      <td>0</td>\n",
       "      <td>0</td>\n",
       "      <td>0</td>\n",
       "      <td>0</td>\n",
       "      <td>0</td>\n",
       "      <td>0</td>\n",
       "      <td>0</td>\n",
       "      <td>0</td>\n",
       "      <td>1</td>\n",
       "      <td>0</td>\n",
       "      <td>0</td>\n",
       "      <td>0</td>\n",
       "      <td>0</td>\n",
       "      <td>0</td>\n",
       "      <td>0</td>\n",
       "      <td>0</td>\n",
       "      <td>0</td>\n",
       "      <td>0</td>\n",
       "      <td>0</td>\n",
       "      <td>0</td>\n",
       "      <td>0</td>\n",
       "      <td>0</td>\n",
       "      <td>0</td>\n",
       "      <td>0</td>\n",
       "      <td>0</td>\n",
       "      <td>0</td>\n",
       "      <td>0</td>\n",
       "      <td>0</td>\n",
       "      <td>0</td>\n",
       "      <td>0</td>\n",
       "      <td>0</td>\n",
       "      <td>0</td>\n",
       "      <td>0</td>\n",
       "      <td>0</td>\n",
       "      <td>0</td>\n",
       "      <td>0</td>\n",
       "      <td>0</td>\n",
       "      <td>0</td>\n",
       "      <td>0</td>\n",
       "      <td>0</td>\n",
       "      <td>0</td>\n",
       "      <td>0</td>\n",
       "      <td>0</td>\n",
       "      <td>0</td>\n",
       "      <td>0</td>\n",
       "      <td>0</td>\n",
       "      <td>0</td>\n",
       "      <td>1</td>\n",
       "      <td>0</td>\n",
       "      <td>0</td>\n",
       "    </tr>\n",
       "    <tr>\n",
       "      <td>10</td>\n",
       "      <td>2000</td>\n",
       "      <td>2004</td>\n",
       "      <td>105</td>\n",
       "      <td>150000</td>\n",
       "      <td>0</td>\n",
       "      <td>0</td>\n",
       "      <td>0</td>\n",
       "      <td>1</td>\n",
       "      <td>0</td>\n",
       "      <td>0</td>\n",
       "      <td>0</td>\n",
       "      <td>1</td>\n",
       "      <td>0</td>\n",
       "      <td>0</td>\n",
       "      <td>0</td>\n",
       "      <td>0</td>\n",
       "      <td>0</td>\n",
       "      <td>0</td>\n",
       "      <td>0</td>\n",
       "      <td>0</td>\n",
       "      <td>0</td>\n",
       "      <td>0</td>\n",
       "      <td>1</td>\n",
       "      <td>0</td>\n",
       "      <td>0</td>\n",
       "      <td>0</td>\n",
       "      <td>0</td>\n",
       "      <td>0</td>\n",
       "      <td>0</td>\n",
       "      <td>0</td>\n",
       "      <td>0</td>\n",
       "      <td>0</td>\n",
       "      <td>0</td>\n",
       "      <td>0</td>\n",
       "      <td>0</td>\n",
       "      <td>0</td>\n",
       "      <td>0</td>\n",
       "      <td>0</td>\n",
       "      <td>0</td>\n",
       "      <td>0</td>\n",
       "      <td>0</td>\n",
       "      <td>0</td>\n",
       "      <td>0</td>\n",
       "      <td>0</td>\n",
       "      <td>0</td>\n",
       "      <td>0</td>\n",
       "      <td>0</td>\n",
       "      <td>0</td>\n",
       "      <td>0</td>\n",
       "      <td>0</td>\n",
       "      <td>0</td>\n",
       "      <td>0</td>\n",
       "      <td>0</td>\n",
       "      <td>0</td>\n",
       "      <td>0</td>\n",
       "      <td>0</td>\n",
       "      <td>0</td>\n",
       "      <td>0</td>\n",
       "      <td>0</td>\n",
       "      <td>0</td>\n",
       "      <td>0</td>\n",
       "      <td>0</td>\n",
       "      <td>0</td>\n",
       "      <td>0</td>\n",
       "      <td>0</td>\n",
       "      <td>0</td>\n",
       "      <td>0</td>\n",
       "      <td>0</td>\n",
       "      <td>0</td>\n",
       "      <td>0</td>\n",
       "      <td>0</td>\n",
       "      <td>0</td>\n",
       "      <td>0</td>\n",
       "      <td>0</td>\n",
       "      <td>0</td>\n",
       "      <td>0</td>\n",
       "      <td>0</td>\n",
       "      <td>0</td>\n",
       "      <td>0</td>\n",
       "      <td>0</td>\n",
       "      <td>0</td>\n",
       "      <td>0</td>\n",
       "      <td>0</td>\n",
       "      <td>0</td>\n",
       "      <td>0</td>\n",
       "      <td>0</td>\n",
       "      <td>0</td>\n",
       "      <td>0</td>\n",
       "      <td>0</td>\n",
       "      <td>0</td>\n",
       "      <td>0</td>\n",
       "      <td>0</td>\n",
       "      <td>0</td>\n",
       "      <td>0</td>\n",
       "      <td>0</td>\n",
       "      <td>0</td>\n",
       "      <td>0</td>\n",
       "      <td>0</td>\n",
       "      <td>0</td>\n",
       "      <td>0</td>\n",
       "      <td>0</td>\n",
       "      <td>0</td>\n",
       "      <td>0</td>\n",
       "      <td>0</td>\n",
       "      <td>0</td>\n",
       "      <td>0</td>\n",
       "      <td>0</td>\n",
       "      <td>0</td>\n",
       "      <td>0</td>\n",
       "      <td>0</td>\n",
       "      <td>0</td>\n",
       "      <td>0</td>\n",
       "      <td>0</td>\n",
       "      <td>0</td>\n",
       "      <td>0</td>\n",
       "      <td>0</td>\n",
       "      <td>0</td>\n",
       "      <td>0</td>\n",
       "      <td>0</td>\n",
       "      <td>0</td>\n",
       "      <td>0</td>\n",
       "      <td>0</td>\n",
       "      <td>0</td>\n",
       "      <td>0</td>\n",
       "      <td>0</td>\n",
       "      <td>0</td>\n",
       "      <td>0</td>\n",
       "      <td>0</td>\n",
       "      <td>0</td>\n",
       "      <td>0</td>\n",
       "      <td>0</td>\n",
       "      <td>0</td>\n",
       "      <td>0</td>\n",
       "      <td>0</td>\n",
       "      <td>0</td>\n",
       "      <td>0</td>\n",
       "      <td>0</td>\n",
       "      <td>0</td>\n",
       "      <td>0</td>\n",
       "      <td>0</td>\n",
       "      <td>0</td>\n",
       "      <td>0</td>\n",
       "      <td>0</td>\n",
       "      <td>0</td>\n",
       "      <td>0</td>\n",
       "      <td>0</td>\n",
       "      <td>0</td>\n",
       "      <td>0</td>\n",
       "      <td>0</td>\n",
       "      <td>0</td>\n",
       "      <td>0</td>\n",
       "      <td>0</td>\n",
       "      <td>0</td>\n",
       "      <td>0</td>\n",
       "      <td>0</td>\n",
       "      <td>0</td>\n",
       "      <td>0</td>\n",
       "      <td>0</td>\n",
       "      <td>0</td>\n",
       "      <td>0</td>\n",
       "      <td>0</td>\n",
       "      <td>0</td>\n",
       "      <td>0</td>\n",
       "      <td>0</td>\n",
       "      <td>0</td>\n",
       "      <td>0</td>\n",
       "      <td>0</td>\n",
       "      <td>0</td>\n",
       "      <td>0</td>\n",
       "      <td>0</td>\n",
       "      <td>0</td>\n",
       "      <td>0</td>\n",
       "      <td>0</td>\n",
       "      <td>0</td>\n",
       "      <td>0</td>\n",
       "      <td>0</td>\n",
       "      <td>0</td>\n",
       "      <td>0</td>\n",
       "      <td>0</td>\n",
       "      <td>0</td>\n",
       "      <td>0</td>\n",
       "      <td>0</td>\n",
       "      <td>0</td>\n",
       "      <td>0</td>\n",
       "      <td>0</td>\n",
       "      <td>0</td>\n",
       "      <td>0</td>\n",
       "      <td>0</td>\n",
       "      <td>0</td>\n",
       "      <td>0</td>\n",
       "      <td>0</td>\n",
       "      <td>0</td>\n",
       "      <td>0</td>\n",
       "      <td>0</td>\n",
       "      <td>0</td>\n",
       "      <td>0</td>\n",
       "      <td>0</td>\n",
       "      <td>0</td>\n",
       "      <td>0</td>\n",
       "      <td>0</td>\n",
       "      <td>0</td>\n",
       "      <td>0</td>\n",
       "      <td>0</td>\n",
       "      <td>0</td>\n",
       "      <td>0</td>\n",
       "      <td>0</td>\n",
       "      <td>0</td>\n",
       "      <td>0</td>\n",
       "      <td>0</td>\n",
       "      <td>0</td>\n",
       "      <td>0</td>\n",
       "      <td>0</td>\n",
       "      <td>0</td>\n",
       "      <td>0</td>\n",
       "      <td>0</td>\n",
       "      <td>0</td>\n",
       "      <td>0</td>\n",
       "      <td>0</td>\n",
       "      <td>0</td>\n",
       "      <td>0</td>\n",
       "      <td>0</td>\n",
       "      <td>0</td>\n",
       "      <td>0</td>\n",
       "      <td>0</td>\n",
       "      <td>0</td>\n",
       "      <td>0</td>\n",
       "      <td>0</td>\n",
       "      <td>0</td>\n",
       "      <td>0</td>\n",
       "      <td>0</td>\n",
       "      <td>0</td>\n",
       "      <td>0</td>\n",
       "      <td>0</td>\n",
       "      <td>0</td>\n",
       "      <td>0</td>\n",
       "      <td>0</td>\n",
       "      <td>0</td>\n",
       "      <td>0</td>\n",
       "      <td>0</td>\n",
       "      <td>0</td>\n",
       "      <td>0</td>\n",
       "      <td>0</td>\n",
       "      <td>0</td>\n",
       "      <td>0</td>\n",
       "      <td>0</td>\n",
       "      <td>0</td>\n",
       "      <td>0</td>\n",
       "      <td>0</td>\n",
       "      <td>0</td>\n",
       "      <td>0</td>\n",
       "      <td>0</td>\n",
       "      <td>0</td>\n",
       "      <td>0</td>\n",
       "      <td>0</td>\n",
       "      <td>0</td>\n",
       "      <td>0</td>\n",
       "      <td>0</td>\n",
       "      <td>0</td>\n",
       "      <td>0</td>\n",
       "      <td>0</td>\n",
       "      <td>0</td>\n",
       "      <td>0</td>\n",
       "      <td>0</td>\n",
       "      <td>0</td>\n",
       "      <td>0</td>\n",
       "      <td>0</td>\n",
       "      <td>0</td>\n",
       "      <td>1</td>\n",
       "      <td>0</td>\n",
       "      <td>0</td>\n",
       "      <td>0</td>\n",
       "      <td>0</td>\n",
       "      <td>0</td>\n",
       "      <td>0</td>\n",
       "      <td>0</td>\n",
       "      <td>0</td>\n",
       "      <td>0</td>\n",
       "      <td>0</td>\n",
       "      <td>0</td>\n",
       "      <td>0</td>\n",
       "      <td>0</td>\n",
       "      <td>0</td>\n",
       "      <td>0</td>\n",
       "      <td>0</td>\n",
       "      <td>0</td>\n",
       "      <td>0</td>\n",
       "      <td>1</td>\n",
       "      <td>0</td>\n",
       "      <td>0</td>\n",
       "      <td>0</td>\n",
       "      <td>0</td>\n",
       "      <td>0</td>\n",
       "      <td>0</td>\n",
       "      <td>0</td>\n",
       "      <td>0</td>\n",
       "      <td>0</td>\n",
       "      <td>0</td>\n",
       "      <td>0</td>\n",
       "      <td>0</td>\n",
       "      <td>0</td>\n",
       "      <td>0</td>\n",
       "      <td>0</td>\n",
       "      <td>0</td>\n",
       "      <td>0</td>\n",
       "      <td>0</td>\n",
       "      <td>0</td>\n",
       "      <td>0</td>\n",
       "      <td>0</td>\n",
       "    </tr>\n",
       "  </tbody>\n",
       "</table>\n",
       "</div>"
      ],
      "text/plain": [
       "    Price  RegistrationYear  Power  Kilometer  VehicleType_convertible  \\\n",
       "0     480              1993      0     150000                        0   \n",
       "1   18300              2011    190     125000                        0   \n",
       "2    9800              2004    163     125000                        0   \n",
       "3    1500              2001     75     150000                        0   \n",
       "4    3600              2008     69      90000                        0   \n",
       "5     650              1995    102     150000                        0   \n",
       "6    2200              2004    109     150000                        1   \n",
       "8   14500              2014    125      30000                        0   \n",
       "9     999              1998    101     150000                        0   \n",
       "10   2000              2004    105     150000                        0   \n",
       "\n",
       "    VehicleType_coupe  VehicleType_other  VehicleType_sedan  \\\n",
       "0                   0                  1                  0   \n",
       "1                   1                  0                  0   \n",
       "2                   0                  0                  0   \n",
       "3                   0                  0                  0   \n",
       "4                   0                  0                  0   \n",
       "5                   0                  0                  1   \n",
       "6                   0                  0                  0   \n",
       "8                   0                  0                  0   \n",
       "9                   0                  0                  0   \n",
       "10                  0                  0                  1   \n",
       "\n",
       "    VehicleType_small  VehicleType_suv  VehicleType_wagon  Gearbox_manual  \\\n",
       "0                   0                0                  0               1   \n",
       "1                   0                0                  0               1   \n",
       "2                   0                1                  0               0   \n",
       "3                   1                0                  0               1   \n",
       "4                   1                0                  0               1   \n",
       "5                   0                0                  0               1   \n",
       "6                   0                0                  0               1   \n",
       "8                   0                0                  0               1   \n",
       "9                   1                0                  0               1   \n",
       "10                  0                0                  0               1   \n",
       "\n",
       "    Gearbox_other  Model_145  Model_147  Model_156  Model_159  Model_1_reihe  \\\n",
       "0               0          0          0          0          0              0   \n",
       "1               0          0          0          0          0              0   \n",
       "2               0          0          0          0          0              0   \n",
       "3               0          0          0          0          0              0   \n",
       "4               0          0          0          0          0              0   \n",
       "5               0          0          0          0          0              0   \n",
       "6               0          0          0          0          0              0   \n",
       "8               0          0          0          0          0              0   \n",
       "9               0          0          0          0          0              0   \n",
       "10              0          0          0          0          0              0   \n",
       "\n",
       "    Model_1er  Model_200  Model_2_reihe  Model_300c  Model_3_reihe  Model_3er  \\\n",
       "0           0          0              0           0              0          0   \n",
       "1           0          0              0           0              0          0   \n",
       "2           0          0              0           0              0          0   \n",
       "3           0          0              0           0              0          0   \n",
       "4           0          0              0           0              0          0   \n",
       "5           0          0              0           0              0          1   \n",
       "6           0          0              1           0              0          0   \n",
       "8           0          0              0           0              0          0   \n",
       "9           0          0              0           0              0          0   \n",
       "10          0          0              0           0              1          0   \n",
       "\n",
       "    Model_4_reihe  Model_500  Model_5_reihe  Model_5er  Model_601  \\\n",
       "0               0          0              0          0          0   \n",
       "1               0          0              0          0          0   \n",
       "2               0          0              0          0          0   \n",
       "3               0          0              0          0          0   \n",
       "4               0          0              0          0          0   \n",
       "5               0          0              0          0          0   \n",
       "6               0          0              0          0          0   \n",
       "8               0          0              0          0          0   \n",
       "9               0          0              0          0          0   \n",
       "10              0          0              0          0          0   \n",
       "\n",
       "    Model_6_reihe  Model_6er  Model_7er  Model_80  Model_850  Model_90  \\\n",
       "0               0          0          0         0          0         0   \n",
       "1               0          0          0         0          0         0   \n",
       "2               0          0          0         0          0         0   \n",
       "3               0          0          0         0          0         0   \n",
       "4               0          0          0         0          0         0   \n",
       "5               0          0          0         0          0         0   \n",
       "6               0          0          0         0          0         0   \n",
       "8               0          0          0         0          0         0   \n",
       "9               0          0          0         0          0         0   \n",
       "10              0          0          0         0          0         0   \n",
       "\n",
       "    Model_900  Model_9000  Model_911  Model_a1  Model_a2  Model_a3  Model_a4  \\\n",
       "0           0           0          0         0         0         0         0   \n",
       "1           0           0          0         0         0         0         0   \n",
       "2           0           0          0         0         0         0         0   \n",
       "3           0           0          0         0         0         0         0   \n",
       "4           0           0          0         0         0         0         0   \n",
       "5           0           0          0         0         0         0         0   \n",
       "6           0           0          0         0         0         0         0   \n",
       "8           0           0          0         0         0         0         0   \n",
       "9           0           0          0         0         0         0         0   \n",
       "10          0           0          0         0         0         0         0   \n",
       "\n",
       "    Model_a5  Model_a6  Model_a8  Model_a_klasse  Model_accord  Model_agila  \\\n",
       "0          0         0         0               0             0            0   \n",
       "1          0         0         0               0             0            0   \n",
       "2          0         0         0               0             0            0   \n",
       "3          0         0         0               0             0            0   \n",
       "4          0         0         0               0             0            0   \n",
       "5          0         0         0               0             0            0   \n",
       "6          0         0         0               0             0            0   \n",
       "8          0         0         0               0             0            0   \n",
       "9          0         0         0               0             0            0   \n",
       "10         0         0         0               0             0            0   \n",
       "\n",
       "    Model_alhambra  Model_almera  Model_altea  Model_amarok  Model_antara  \\\n",
       "0                0             0            0             0             0   \n",
       "1                0             0            0             0             0   \n",
       "2                0             0            0             0             0   \n",
       "3                0             0            0             0             0   \n",
       "4                0             0            0             0             0   \n",
       "5                0             0            0             0             0   \n",
       "6                0             0            0             0             0   \n",
       "8                0             0            0             0             0   \n",
       "9                0             0            0             0             0   \n",
       "10               0             0            0             0             0   \n",
       "\n",
       "    Model_arosa  Model_astra  Model_auris  Model_avensis  Model_aveo  \\\n",
       "0             0            0            0              0           0   \n",
       "1             0            0            0              0           0   \n",
       "2             0            0            0              0           0   \n",
       "3             0            0            0              0           0   \n",
       "4             0            0            0              0           0   \n",
       "5             0            0            0              0           0   \n",
       "6             0            0            0              0           0   \n",
       "8             0            0            0              0           0   \n",
       "9             0            0            0              0           0   \n",
       "10            0            0            0              0           0   \n",
       "\n",
       "    Model_aygo  Model_b_klasse  Model_b_max  Model_beetle  Model_berlingo  \\\n",
       "0            0               0            0             0               0   \n",
       "1            0               0            0             0               0   \n",
       "2            0               0            0             0               0   \n",
       "3            0               0            0             0               0   \n",
       "4            0               0            0             0               0   \n",
       "5            0               0            0             0               0   \n",
       "6            0               0            0             0               0   \n",
       "8            0               0            0             0               0   \n",
       "9            0               0            0             0               0   \n",
       "10           0               0            0             0               0   \n",
       "\n",
       "    Model_bora  Model_boxster  Model_bravo  Model_c1  Model_c2  Model_c3  \\\n",
       "0            0              0            0         0         0         0   \n",
       "1            0              0            0         0         0         0   \n",
       "2            0              0            0         0         0         0   \n",
       "3            0              0            0         0         0         0   \n",
       "4            0              0            0         0         0         0   \n",
       "5            0              0            0         0         0         0   \n",
       "6            0              0            0         0         0         0   \n",
       "8            0              0            0         0         0         0   \n",
       "9            0              0            0         0         0         0   \n",
       "10           0              0            0         0         0         0   \n",
       "\n",
       "    Model_c4  Model_c5  Model_c_klasse  Model_c_max  Model_c_reihe  \\\n",
       "0          0         0               0            0              0   \n",
       "1          0         0               0            0              0   \n",
       "2          0         0               0            0              0   \n",
       "3          0         0               0            0              0   \n",
       "4          0         0               0            0              0   \n",
       "5          0         0               0            0              0   \n",
       "6          0         0               0            0              0   \n",
       "8          0         0               0            1              0   \n",
       "9          0         0               0            0              0   \n",
       "10         0         0               0            0              0   \n",
       "\n",
       "    Model_caddy  Model_calibra  Model_captiva  Model_carisma  Model_carnival  \\\n",
       "0             0              0              0              0               0   \n",
       "1             0              0              0              0               0   \n",
       "2             0              0              0              0               0   \n",
       "3             0              0              0              0               0   \n",
       "4             0              0              0              0               0   \n",
       "5             0              0              0              0               0   \n",
       "6             0              0              0              0               0   \n",
       "8             0              0              0              0               0   \n",
       "9             0              0              0              0               0   \n",
       "10            0              0              0              0               0   \n",
       "\n",
       "    Model_cayenne  Model_cc  Model_ceed  Model_charade  Model_cherokee  \\\n",
       "0               0         0           0              0               0   \n",
       "1               0         0           0              0               0   \n",
       "2               0         0           0              0               0   \n",
       "3               0         0           0              0               0   \n",
       "4               0         0           0              0               0   \n",
       "5               0         0           0              0               0   \n",
       "6               0         0           0              0               0   \n",
       "8               0         0           0              0               0   \n",
       "9               0         0           0              0               0   \n",
       "10              0         0           0              0               0   \n",
       "\n",
       "    Model_citigo  Model_civic  Model_cl  Model_clio  Model_clk  Model_clubman  \\\n",
       "0              0            0         0           0          0              0   \n",
       "1              0            0         0           0          0              0   \n",
       "2              0            0         0           0          0              0   \n",
       "3              0            0         0           0          0              0   \n",
       "4              0            0         0           0          0              0   \n",
       "5              0            0         0           0          0              0   \n",
       "6              0            0         0           0          0              0   \n",
       "8              0            0         0           0          0              0   \n",
       "9              0            0         0           0          0              0   \n",
       "10             0            0         0           0          0              0   \n",
       "\n",
       "    Model_colt  Model_combo  Model_cooper  Model_cordoba  Model_corolla  \\\n",
       "0            0            0             0              0              0   \n",
       "1            0            0             0              0              0   \n",
       "2            0            0             0              0              0   \n",
       "3            0            0             0              0              0   \n",
       "4            0            0             0              0              0   \n",
       "5            0            0             0              0              0   \n",
       "6            0            0             0              0              0   \n",
       "8            0            0             0              0              0   \n",
       "9            0            0             0              0              0   \n",
       "10           0            0             0              0              0   \n",
       "\n",
       "    Model_corsa  Model_cr_reihe  Model_croma  Model_crossfire  Model_cuore  \\\n",
       "0             0               0            0                0            0   \n",
       "1             0               0            0                0            0   \n",
       "2             0               0            0                0            0   \n",
       "3             0               0            0                0            0   \n",
       "4             0               0            0                0            0   \n",
       "5             0               0            0                0            0   \n",
       "6             0               0            0                0            0   \n",
       "8             0               0            0                0            0   \n",
       "9             0               0            0                0            0   \n",
       "10            0               0            0                0            0   \n",
       "\n",
       "    Model_cx_reihe  Model_defender  Model_delta  Model_discovery  Model_doblo  \\\n",
       "0                0               0            0                0            0   \n",
       "1                0               0            0                0            0   \n",
       "2                0               0            0                0            0   \n",
       "3                0               0            0                0            0   \n",
       "4                0               0            0                0            0   \n",
       "5                0               0            0                0            0   \n",
       "6                0               0            0                0            0   \n",
       "8                0               0            0                0            0   \n",
       "9                0               0            0                0            0   \n",
       "10               0               0            0                0            0   \n",
       "\n",
       "    Model_ducato  Model_duster  Model_e_klasse  Model_elefantino  Model_eos  \\\n",
       "0              0             0               0                 0          0   \n",
       "1              0             0               0                 0          0   \n",
       "2              0             0               0                 0          0   \n",
       "3              0             0               0                 0          0   \n",
       "4              0             0               0                 0          0   \n",
       "5              0             0               0                 0          0   \n",
       "6              0             0               0                 0          0   \n",
       "8              0             0               0                 0          0   \n",
       "9              0             0               0                 0          0   \n",
       "10             0             0               0                 0          0   \n",
       "\n",
       "    Model_escort  Model_espace  Model_exeo  Model_fabia  Model_fiesta  \\\n",
       "0              0             0           0            0             0   \n",
       "1              0             0           0            0             0   \n",
       "2              0             0           0            0             0   \n",
       "3              0             0           0            0             0   \n",
       "4              0             0           0            1             0   \n",
       "5              0             0           0            0             0   \n",
       "6              0             0           0            0             0   \n",
       "8              0             0           0            0             0   \n",
       "9              0             0           0            0             0   \n",
       "10             0             0           0            0             0   \n",
       "\n",
       "    Model_focus  Model_forester  Model_forfour  Model_fortwo  Model_fox  \\\n",
       "0             0               0              0             0          0   \n",
       "1             0               0              0             0          0   \n",
       "2             0               0              0             0          0   \n",
       "3             0               0              0             0          0   \n",
       "4             0               0              0             0          0   \n",
       "5             0               0              0             0          0   \n",
       "6             0               0              0             0          0   \n",
       "8             0               0              0             0          0   \n",
       "9             0               0              0             0          0   \n",
       "10            0               0              0             0          0   \n",
       "\n",
       "    Model_freelander  Model_fusion  Model_g_klasse  Model_galant  \\\n",
       "0                  0             0               0             0   \n",
       "1                  0             0               0             0   \n",
       "2                  0             0               0             0   \n",
       "3                  0             0               0             0   \n",
       "4                  0             0               0             0   \n",
       "5                  0             0               0             0   \n",
       "6                  0             0               0             0   \n",
       "8                  0             0               0             0   \n",
       "9                  0             0               0             0   \n",
       "10                 0             0               0             0   \n",
       "\n",
       "    Model_galaxy  Model_getz  Model_gl  Model_glk  Model_golf  Model_grand  \\\n",
       "0              0           0         0          0           1            0   \n",
       "1              0           0         0          0           0            0   \n",
       "2              0           0         0          0           0            1   \n",
       "3              0           0         0          0           1            0   \n",
       "4              0           0         0          0           0            0   \n",
       "5              0           0         0          0           0            0   \n",
       "6              0           0         0          0           0            0   \n",
       "8              0           0         0          0           0            0   \n",
       "9              0           0         0          0           1            0   \n",
       "10             0           0         0          0           0            0   \n",
       "\n",
       "    Model_i3  Model_i_reihe  Model_ibiza  Model_impreza  Model_insignia  \\\n",
       "0          0              0            0              0               0   \n",
       "1          0              0            0              0               0   \n",
       "2          0              0            0              0               0   \n",
       "3          0              0            0              0               0   \n",
       "4          0              0            0              0               0   \n",
       "5          0              0            0              0               0   \n",
       "6          0              0            0              0               0   \n",
       "8          0              0            0              0               0   \n",
       "9          0              0            0              0               0   \n",
       "10         0              0            0              0               0   \n",
       "\n",
       "    Model_jazz  Model_jetta  Model_jimny  Model_juke  Model_justy  Model_ka  \\\n",
       "0            0            0            0           0            0         0   \n",
       "1            0            0            0           0            0         0   \n",
       "2            0            0            0           0            0         0   \n",
       "3            0            0            0           0            0         0   \n",
       "4            0            0            0           0            0         0   \n",
       "5            0            0            0           0            0         0   \n",
       "6            0            0            0           0            0         0   \n",
       "8            0            0            0           0            0         0   \n",
       "9            0            0            0           0            0         0   \n",
       "10           0            0            0           0            0         0   \n",
       "\n",
       "    Model_kadett  Model_kaefer  Model_kalina  Model_kalos  Model_kangoo  \\\n",
       "0              0             0             0            0             0   \n",
       "1              0             0             0            0             0   \n",
       "2              0             0             0            0             0   \n",
       "3              0             0             0            0             0   \n",
       "4              0             0             0            0             0   \n",
       "5              0             0             0            0             0   \n",
       "6              0             0             0            0             0   \n",
       "8              0             0             0            0             0   \n",
       "9              0             0             0            0             0   \n",
       "10             0             0             0            0             0   \n",
       "\n",
       "    Model_kappa  Model_kuga  Model_laguna  Model_lancer  Model_lanos  \\\n",
       "0             0           0             0             0            0   \n",
       "1             0           0             0             0            0   \n",
       "2             0           0             0             0            0   \n",
       "3             0           0             0             0            0   \n",
       "4             0           0             0             0            0   \n",
       "5             0           0             0             0            0   \n",
       "6             0           0             0             0            0   \n",
       "8             0           0             0             0            0   \n",
       "9             0           0             0             0            0   \n",
       "10            0           0             0             0            0   \n",
       "\n",
       "    Model_legacy  Model_leon  Model_lodgy  Model_logan  Model_lupo  \\\n",
       "0              0           0            0            0           0   \n",
       "1              0           0            0            0           0   \n",
       "2              0           0            0            0           0   \n",
       "3              0           0            0            0           0   \n",
       "4              0           0            0            0           0   \n",
       "5              0           0            0            0           0   \n",
       "6              0           0            0            0           0   \n",
       "8              0           0            0            0           0   \n",
       "9              0           0            0            0           0   \n",
       "10             0           0            0            0           0   \n",
       "\n",
       "    Model_lybra  Model_m_klasse  Model_m_reihe  Model_materia  Model_matiz  \\\n",
       "0             0               0              0              0            0   \n",
       "1             0               0              0              0            0   \n",
       "2             0               0              0              0            0   \n",
       "3             0               0              0              0            0   \n",
       "4             0               0              0              0            0   \n",
       "5             0               0              0              0            0   \n",
       "6             0               0              0              0            0   \n",
       "8             0               0              0              0            0   \n",
       "9             0               0              0              0            0   \n",
       "10            0               0              0              0            0   \n",
       "\n",
       "    Model_megane  Model_meriva  Model_micra  Model_mii  Model_modus  \\\n",
       "0              0             0            0          0            0   \n",
       "1              0             0            0          0            0   \n",
       "2              0             0            0          0            0   \n",
       "3              0             0            0          0            0   \n",
       "4              0             0            0          0            0   \n",
       "5              0             0            0          0            0   \n",
       "6              0             0            0          0            0   \n",
       "8              0             0            0          0            0   \n",
       "9              0             0            0          0            0   \n",
       "10             0             0            0          0            0   \n",
       "\n",
       "    Model_mondeo  Model_move  Model_musa  Model_mustang  Model_mx_reihe  \\\n",
       "0              0           0           0              0               0   \n",
       "1              0           0           0              0               0   \n",
       "2              0           0           0              0               0   \n",
       "3              0           0           0              0               0   \n",
       "4              0           0           0              0               0   \n",
       "5              0           0           0              0               0   \n",
       "6              0           0           0              0               0   \n",
       "8              0           0           0              0               0   \n",
       "9              0           0           0              0               0   \n",
       "10             0           0           0              0               0   \n",
       "\n",
       "    Model_navara  Model_niva  Model_note  Model_nubira  Model_octavia  \\\n",
       "0              0           0           0             0              0   \n",
       "1              0           0           0             0              0   \n",
       "2              0           0           0             0              0   \n",
       "3              0           0           0             0              0   \n",
       "4              0           0           0             0              0   \n",
       "5              0           0           0             0              0   \n",
       "6              0           0           0             0              0   \n",
       "8              0           0           0             0              0   \n",
       "9              0           0           0             0              0   \n",
       "10             0           0           0             0              0   \n",
       "\n",
       "    Model_omega  Model_one  Model_other  Model_outlander  Model_pajero  \\\n",
       "0             0          0            0                0             0   \n",
       "1             0          0            1                0             0   \n",
       "2             0          0            0                0             0   \n",
       "3             0          0            0                0             0   \n",
       "4             0          0            0                0             0   \n",
       "5             0          0            0                0             0   \n",
       "6             0          0            0                0             0   \n",
       "8             0          0            0                0             0   \n",
       "9             0          0            0                0             0   \n",
       "10            0          0            0                0             0   \n",
       "\n",
       "    Model_panda  Model_passat  Model_phaeton  Model_picanto  Model_polo  \\\n",
       "0             0             0              0              0           0   \n",
       "1             0             0              0              0           0   \n",
       "2             0             0              0              0           0   \n",
       "3             0             0              0              0           0   \n",
       "4             0             0              0              0           0   \n",
       "5             0             0              0              0           0   \n",
       "6             0             0              0              0           0   \n",
       "8             0             0              0              0           0   \n",
       "9             0             0              0              0           0   \n",
       "10            0             0              0              0           0   \n",
       "\n",
       "    Model_primera  Model_ptcruiser  Model_punto  Model_q3  Model_q5  Model_q7  \\\n",
       "0               0                0            0         0         0         0   \n",
       "1               0                0            0         0         0         0   \n",
       "2               0                0            0         0         0         0   \n",
       "3               0                0            0         0         0         0   \n",
       "4               0                0            0         0         0         0   \n",
       "5               0                0            0         0         0         0   \n",
       "6               0                0            0         0         0         0   \n",
       "8               0                0            0         0         0         0   \n",
       "9               0                0            0         0         0         0   \n",
       "10              0                0            0         0         0         0   \n",
       "\n",
       "    Model_qashqai  Model_r19  Model_range_rover  Model_range_rover_evoque  \\\n",
       "0               0          0                  0                         0   \n",
       "1               0          0                  0                         0   \n",
       "2               0          0                  0                         0   \n",
       "3               0          0                  0                         0   \n",
       "4               0          0                  0                         0   \n",
       "5               0          0                  0                         0   \n",
       "6               0          0                  0                         0   \n",
       "8               0          0                  0                         0   \n",
       "9               0          0                  0                         0   \n",
       "10              0          0                  0                         0   \n",
       "\n",
       "    Model_range_rover_sport  Model_rangerover  Model_rav  Model_rio  \\\n",
       "0                         0                 0          0          0   \n",
       "1                         0                 0          0          0   \n",
       "2                         0                 0          0          0   \n",
       "3                         0                 0          0          0   \n",
       "4                         0                 0          0          0   \n",
       "5                         0                 0          0          0   \n",
       "6                         0                 0          0          0   \n",
       "8                         0                 0          0          0   \n",
       "9                         0                 0          0          0   \n",
       "10                        0                 0          0          0   \n",
       "\n",
       "    Model_roadster  Model_roomster  Model_rx_reihe  Model_s60  Model_s_klasse  \\\n",
       "0                0               0               0          0               0   \n",
       "1                0               0               0          0               0   \n",
       "2                0               0               0          0               0   \n",
       "3                0               0               0          0               0   \n",
       "4                0               0               0          0               0   \n",
       "5                0               0               0          0               0   \n",
       "6                0               0               0          0               0   \n",
       "8                0               0               0          0               0   \n",
       "9                0               0               0          0               0   \n",
       "10               0               0               0          0               0   \n",
       "\n",
       "    Model_s_max  Model_s_type  Model_samara  Model_sandero  Model_santa  \\\n",
       "0             0             0             0              0            0   \n",
       "1             0             0             0              0            0   \n",
       "2             0             0             0              0            0   \n",
       "3             0             0             0              0            0   \n",
       "4             0             0             0              0            0   \n",
       "5             0             0             0              0            0   \n",
       "6             0             0             0              0            0   \n",
       "8             0             0             0              0            0   \n",
       "9             0             0             0              0            0   \n",
       "10            0             0             0              0            0   \n",
       "\n",
       "    Model_scenic  Model_scirocco  Model_seicento  Model_serie_1  \\\n",
       "0              0               0               0              0   \n",
       "1              0               0               0              0   \n",
       "2              0               0               0              0   \n",
       "3              0               0               0              0   \n",
       "4              0               0               0              0   \n",
       "5              0               0               0              0   \n",
       "6              0               0               0              0   \n",
       "8              0               0               0              0   \n",
       "9              0               0               0              0   \n",
       "10             0               0               0              0   \n",
       "\n",
       "    Model_serie_2  Model_serie_3  Model_sharan  Model_signum  Model_sirion  \\\n",
       "0               0              0             0             0             0   \n",
       "1               0              0             0             0             0   \n",
       "2               0              0             0             0             0   \n",
       "3               0              0             0             0             0   \n",
       "4               0              0             0             0             0   \n",
       "5               0              0             0             0             0   \n",
       "6               0              0             0             0             0   \n",
       "8               0              0             0             0             0   \n",
       "9               0              0             0             0             0   \n",
       "10              0              0             0             0             0   \n",
       "\n",
       "    Model_sl  Model_slk  Model_sorento  Model_spark  Model_spider  \\\n",
       "0          0          0              0            0             0   \n",
       "1          0          0              0            0             0   \n",
       "2          0          0              0            0             0   \n",
       "3          0          0              0            0             0   \n",
       "4          0          0              0            0             0   \n",
       "5          0          0              0            0             0   \n",
       "6          0          0              0            0             0   \n",
       "8          0          0              0            0             0   \n",
       "9          0          0              0            0             0   \n",
       "10         0          0              0            0             0   \n",
       "\n",
       "    Model_sportage  Model_sprinter  Model_stilo  Model_superb  Model_swift  \\\n",
       "0                0               0            0             0            0   \n",
       "1                0               0            0             0            0   \n",
       "2                0               0            0             0            0   \n",
       "3                0               0            0             0            0   \n",
       "4                0               0            0             0            0   \n",
       "5                0               0            0             0            0   \n",
       "6                0               0            0             0            0   \n",
       "8                0               0            0             0            0   \n",
       "9                0               0            0             0            0   \n",
       "10               0               0            0             0            0   \n",
       "\n",
       "    Model_terios  Model_tigra  Model_tiguan  Model_toledo  Model_touareg  \\\n",
       "0              0            0             0             0              0   \n",
       "1              0            0             0             0              0   \n",
       "2              0            0             0             0              0   \n",
       "3              0            0             0             0              0   \n",
       "4              0            0             0             0              0   \n",
       "5              0            0             0             0              0   \n",
       "6              0            0             0             0              0   \n",
       "8              0            0             0             0              0   \n",
       "9              0            0             0             0              0   \n",
       "10             0            0             0             0              0   \n",
       "\n",
       "    Model_touran  Model_transit  Model_transporter  Model_tt  Model_tucson  \\\n",
       "0              0              0                  0         0             0   \n",
       "1              0              0                  0         0             0   \n",
       "2              0              0                  0         0             0   \n",
       "3              0              0                  0         0             0   \n",
       "4              0              0                  0         0             0   \n",
       "5              0              0                  0         0             0   \n",
       "6              0              0                  0         0             0   \n",
       "8              0              0                  0         0             0   \n",
       "9              0              0                  0         0             0   \n",
       "10             0              0                  0         0             0   \n",
       "\n",
       "    Model_twingo  Model_up  Model_v40  Model_v50  Model_v60  Model_v70  \\\n",
       "0              0         0          0          0          0          0   \n",
       "1              0         0          0          0          0          0   \n",
       "2              0         0          0          0          0          0   \n",
       "3              0         0          0          0          0          0   \n",
       "4              0         0          0          0          0          0   \n",
       "5              0         0          0          0          0          0   \n",
       "6              0         0          0          0          0          0   \n",
       "8              0         0          0          0          0          0   \n",
       "9              0         0          0          0          0          0   \n",
       "10             0         0          0          0          0          0   \n",
       "\n",
       "    Model_v_klasse  Model_vectra  Model_verso  Model_viano  Model_vito  \\\n",
       "0                0             0            0            0           0   \n",
       "1                0             0            0            0           0   \n",
       "2                0             0            0            0           0   \n",
       "3                0             0            0            0           0   \n",
       "4                0             0            0            0           0   \n",
       "5                0             0            0            0           0   \n",
       "6                0             0            0            0           0   \n",
       "8                0             0            0            0           0   \n",
       "9                0             0            0            0           0   \n",
       "10               0             0            0            0           0   \n",
       "\n",
       "    Model_vivaro  Model_voyager  Model_wrangler  Model_x_reihe  Model_x_trail  \\\n",
       "0              0              0               0              0              0   \n",
       "1              0              0               0              0              0   \n",
       "2              0              0               0              0              0   \n",
       "3              0              0               0              0              0   \n",
       "4              0              0               0              0              0   \n",
       "5              0              0               0              0              0   \n",
       "6              0              0               0              0              0   \n",
       "8              0              0               0              0              0   \n",
       "9              0              0               0              0              0   \n",
       "10             0              0               0              0              0   \n",
       "\n",
       "    Model_x_type  Model_xc_reihe  Model_yaris  Model_yeti  Model_ypsilon  \\\n",
       "0              0               0            0           0              0   \n",
       "1              0               0            0           0              0   \n",
       "2              0               0            0           0              0   \n",
       "3              0               0            0           0              0   \n",
       "4              0               0            0           0              0   \n",
       "5              0               0            0           0              0   \n",
       "6              0               0            0           0              0   \n",
       "8              0               0            0           0              0   \n",
       "9              0               0            0           0              0   \n",
       "10             0               0            0           0              0   \n",
       "\n",
       "    Model_z_reihe  Model_zafira  FuelType_electric  FuelType_gasoline  \\\n",
       "0               0             0                  0                  0   \n",
       "1               0             0                  0                  1   \n",
       "2               0             0                  0                  1   \n",
       "3               0             0                  0                  0   \n",
       "4               0             0                  0                  1   \n",
       "5               0             0                  0                  0   \n",
       "6               0             0                  0                  0   \n",
       "8               0             0                  0                  0   \n",
       "9               0             0                  0                  0   \n",
       "10              0             0                  0                  0   \n",
       "\n",
       "    FuelType_hybrid  FuelType_lpg  FuelType_other  FuelType_petrol  \\\n",
       "0                 0             0               0                1   \n",
       "1                 0             0               0                0   \n",
       "2                 0             0               0                0   \n",
       "3                 0             0               0                1   \n",
       "4                 0             0               0                0   \n",
       "5                 0             0               0                1   \n",
       "6                 0             0               0                1   \n",
       "8                 0             0               0                1   \n",
       "9                 0             0               1                0   \n",
       "10                0             0               0                1   \n",
       "\n",
       "    Brand_audi  Brand_bmw  Brand_chevrolet  Brand_chrysler  Brand_citroen  \\\n",
       "0            0          0                0               0              0   \n",
       "1            1          0                0               0              0   \n",
       "2            0          0                0               0              0   \n",
       "3            0          0                0               0              0   \n",
       "4            0          0                0               0              0   \n",
       "5            0          1                0               0              0   \n",
       "6            0          0                0               0              0   \n",
       "8            0          0                0               0              0   \n",
       "9            0          0                0               0              0   \n",
       "10           0          0                0               0              0   \n",
       "\n",
       "    Brand_dacia  Brand_daewoo  Brand_daihatsu  Brand_fiat  Brand_ford  \\\n",
       "0             0             0               0           0           0   \n",
       "1             0             0               0           0           0   \n",
       "2             0             0               0           0           0   \n",
       "3             0             0               0           0           0   \n",
       "4             0             0               0           0           0   \n",
       "5             0             0               0           0           0   \n",
       "6             0             0               0           0           0   \n",
       "8             0             0               0           0           1   \n",
       "9             0             0               0           0           0   \n",
       "10            0             0               0           0           0   \n",
       "\n",
       "    Brand_honda  Brand_hyundai  Brand_jaguar  Brand_jeep  Brand_kia  \\\n",
       "0             0              0             0           0          0   \n",
       "1             0              0             0           0          0   \n",
       "2             0              0             0           1          0   \n",
       "3             0              0             0           0          0   \n",
       "4             0              0             0           0          0   \n",
       "5             0              0             0           0          0   \n",
       "6             0              0             0           0          0   \n",
       "8             0              0             0           0          0   \n",
       "9             0              0             0           0          0   \n",
       "10            0              0             0           0          0   \n",
       "\n",
       "    Brand_lada  Brand_lancia  Brand_land_rover  Brand_mazda  \\\n",
       "0            0             0                 0            0   \n",
       "1            0             0                 0            0   \n",
       "2            0             0                 0            0   \n",
       "3            0             0                 0            0   \n",
       "4            0             0                 0            0   \n",
       "5            0             0                 0            0   \n",
       "6            0             0                 0            0   \n",
       "8            0             0                 0            0   \n",
       "9            0             0                 0            0   \n",
       "10           0             0                 0            1   \n",
       "\n",
       "    Brand_mercedes_benz  Brand_mini  Brand_mitsubishi  Brand_nissan  \\\n",
       "0                     0           0                 0             0   \n",
       "1                     0           0                 0             0   \n",
       "2                     0           0                 0             0   \n",
       "3                     0           0                 0             0   \n",
       "4                     0           0                 0             0   \n",
       "5                     0           0                 0             0   \n",
       "6                     0           0                 0             0   \n",
       "8                     0           0                 0             0   \n",
       "9                     0           0                 0             0   \n",
       "10                    0           0                 0             0   \n",
       "\n",
       "    Brand_opel  Brand_peugeot  Brand_porsche  Brand_renault  Brand_rover  \\\n",
       "0            0              0              0              0            0   \n",
       "1            0              0              0              0            0   \n",
       "2            0              0              0              0            0   \n",
       "3            0              0              0              0            0   \n",
       "4            0              0              0              0            0   \n",
       "5            0              0              0              0            0   \n",
       "6            0              1              0              0            0   \n",
       "8            0              0              0              0            0   \n",
       "9            0              0              0              0            0   \n",
       "10           0              0              0              0            0   \n",
       "\n",
       "    Brand_saab  Brand_seat  Brand_skoda  Brand_smart  Brand_sonstige_autos  \\\n",
       "0            0           0            0            0                     0   \n",
       "1            0           0            0            0                     0   \n",
       "2            0           0            0            0                     0   \n",
       "3            0           0            0            0                     0   \n",
       "4            0           0            1            0                     0   \n",
       "5            0           0            0            0                     0   \n",
       "6            0           0            0            0                     0   \n",
       "8            0           0            0            0                     0   \n",
       "9            0           0            0            0                     0   \n",
       "10           0           0            0            0                     0   \n",
       "\n",
       "    Brand_subaru  Brand_suzuki  Brand_toyota  Brand_trabant  Brand_volkswagen  \\\n",
       "0              0             0             0              0                 1   \n",
       "1              0             0             0              0                 0   \n",
       "2              0             0             0              0                 0   \n",
       "3              0             0             0              0                 1   \n",
       "4              0             0             0              0                 0   \n",
       "5              0             0             0              0                 0   \n",
       "6              0             0             0              0                 0   \n",
       "8              0             0             0              0                 0   \n",
       "9              0             0             0              0                 1   \n",
       "10             0             0             0              0                 0   \n",
       "\n",
       "    Brand_volvo  NotRepaired_yes  \n",
       "0             0                0  \n",
       "1             0                1  \n",
       "2             0                0  \n",
       "3             0                0  \n",
       "4             0                0  \n",
       "5             0                1  \n",
       "6             0                0  \n",
       "8             0                0  \n",
       "9             0                0  \n",
       "10            0                0  "
      ]
     },
     "metadata": {},
     "output_type": "display_data"
    },
    {
     "data": {
      "text/html": [
       "<div>\n",
       "<style scoped>\n",
       "    .dataframe tbody tr th:only-of-type {\n",
       "        vertical-align: middle;\n",
       "    }\n",
       "\n",
       "    .dataframe tbody tr th {\n",
       "        vertical-align: top;\n",
       "    }\n",
       "\n",
       "    .dataframe thead th {\n",
       "        text-align: right;\n",
       "    }\n",
       "</style>\n",
       "<table border=\"1\" class=\"dataframe\">\n",
       "  <thead>\n",
       "    <tr style=\"text-align: right;\">\n",
       "      <th></th>\n",
       "      <th>Price</th>\n",
       "      <th>VehicleType</th>\n",
       "      <th>RegistrationYear</th>\n",
       "      <th>Gearbox</th>\n",
       "      <th>Power</th>\n",
       "      <th>Model</th>\n",
       "      <th>Kilometer</th>\n",
       "      <th>FuelType</th>\n",
       "      <th>Brand</th>\n",
       "      <th>NotRepaired</th>\n",
       "    </tr>\n",
       "  </thead>\n",
       "  <tbody>\n",
       "    <tr>\n",
       "      <td>0</td>\n",
       "      <td>480</td>\n",
       "      <td>3.0</td>\n",
       "      <td>1993</td>\n",
       "      <td>1.0</td>\n",
       "      <td>0</td>\n",
       "      <td>116.0</td>\n",
       "      <td>150000</td>\n",
       "      <td>6.0</td>\n",
       "      <td>38.0</td>\n",
       "      <td>0.0</td>\n",
       "    </tr>\n",
       "    <tr>\n",
       "      <td>1</td>\n",
       "      <td>18300</td>\n",
       "      <td>2.0</td>\n",
       "      <td>2011</td>\n",
       "      <td>1.0</td>\n",
       "      <td>190</td>\n",
       "      <td>166.0</td>\n",
       "      <td>125000</td>\n",
       "      <td>2.0</td>\n",
       "      <td>1.0</td>\n",
       "      <td>1.0</td>\n",
       "    </tr>\n",
       "    <tr>\n",
       "      <td>2</td>\n",
       "      <td>9800</td>\n",
       "      <td>6.0</td>\n",
       "      <td>2004</td>\n",
       "      <td>0.0</td>\n",
       "      <td>163</td>\n",
       "      <td>117.0</td>\n",
       "      <td>125000</td>\n",
       "      <td>2.0</td>\n",
       "      <td>14.0</td>\n",
       "      <td>0.0</td>\n",
       "    </tr>\n",
       "    <tr>\n",
       "      <td>3</td>\n",
       "      <td>1500</td>\n",
       "      <td>5.0</td>\n",
       "      <td>2001</td>\n",
       "      <td>1.0</td>\n",
       "      <td>75</td>\n",
       "      <td>116.0</td>\n",
       "      <td>150000</td>\n",
       "      <td>6.0</td>\n",
       "      <td>38.0</td>\n",
       "      <td>0.0</td>\n",
       "    </tr>\n",
       "    <tr>\n",
       "      <td>4</td>\n",
       "      <td>3600</td>\n",
       "      <td>5.0</td>\n",
       "      <td>2008</td>\n",
       "      <td>1.0</td>\n",
       "      <td>69</td>\n",
       "      <td>101.0</td>\n",
       "      <td>90000</td>\n",
       "      <td>2.0</td>\n",
       "      <td>31.0</td>\n",
       "      <td>0.0</td>\n",
       "    </tr>\n",
       "    <tr>\n",
       "      <td>5</td>\n",
       "      <td>650</td>\n",
       "      <td>4.0</td>\n",
       "      <td>1995</td>\n",
       "      <td>1.0</td>\n",
       "      <td>102</td>\n",
       "      <td>11.0</td>\n",
       "      <td>150000</td>\n",
       "      <td>6.0</td>\n",
       "      <td>2.0</td>\n",
       "      <td>1.0</td>\n",
       "    </tr>\n",
       "    <tr>\n",
       "      <td>6</td>\n",
       "      <td>2200</td>\n",
       "      <td>1.0</td>\n",
       "      <td>2004</td>\n",
       "      <td>1.0</td>\n",
       "      <td>109</td>\n",
       "      <td>8.0</td>\n",
       "      <td>150000</td>\n",
       "      <td>6.0</td>\n",
       "      <td>25.0</td>\n",
       "      <td>0.0</td>\n",
       "    </tr>\n",
       "    <tr>\n",
       "      <td>8</td>\n",
       "      <td>14500</td>\n",
       "      <td>0.0</td>\n",
       "      <td>2014</td>\n",
       "      <td>1.0</td>\n",
       "      <td>125</td>\n",
       "      <td>60.0</td>\n",
       "      <td>30000</td>\n",
       "      <td>6.0</td>\n",
       "      <td>10.0</td>\n",
       "      <td>0.0</td>\n",
       "    </tr>\n",
       "    <tr>\n",
       "      <td>9</td>\n",
       "      <td>999</td>\n",
       "      <td>5.0</td>\n",
       "      <td>1998</td>\n",
       "      <td>1.0</td>\n",
       "      <td>101</td>\n",
       "      <td>116.0</td>\n",
       "      <td>150000</td>\n",
       "      <td>5.0</td>\n",
       "      <td>38.0</td>\n",
       "      <td>0.0</td>\n",
       "    </tr>\n",
       "    <tr>\n",
       "      <td>10</td>\n",
       "      <td>2000</td>\n",
       "      <td>4.0</td>\n",
       "      <td>2004</td>\n",
       "      <td>1.0</td>\n",
       "      <td>105</td>\n",
       "      <td>10.0</td>\n",
       "      <td>150000</td>\n",
       "      <td>6.0</td>\n",
       "      <td>19.0</td>\n",
       "      <td>0.0</td>\n",
       "    </tr>\n",
       "  </tbody>\n",
       "</table>\n",
       "</div>"
      ],
      "text/plain": [
       "    Price  VehicleType  RegistrationYear  Gearbox  Power  Model  Kilometer  \\\n",
       "0     480          3.0              1993      1.0      0  116.0     150000   \n",
       "1   18300          2.0              2011      1.0    190  166.0     125000   \n",
       "2    9800          6.0              2004      0.0    163  117.0     125000   \n",
       "3    1500          5.0              2001      1.0     75  116.0     150000   \n",
       "4    3600          5.0              2008      1.0     69  101.0      90000   \n",
       "5     650          4.0              1995      1.0    102   11.0     150000   \n",
       "6    2200          1.0              2004      1.0    109    8.0     150000   \n",
       "8   14500          0.0              2014      1.0    125   60.0      30000   \n",
       "9     999          5.0              1998      1.0    101  116.0     150000   \n",
       "10   2000          4.0              2004      1.0    105   10.0     150000   \n",
       "\n",
       "    FuelType  Brand  NotRepaired  \n",
       "0        6.0   38.0          0.0  \n",
       "1        2.0    1.0          1.0  \n",
       "2        2.0   14.0          0.0  \n",
       "3        6.0   38.0          0.0  \n",
       "4        2.0   31.0          0.0  \n",
       "5        6.0    2.0          1.0  \n",
       "6        6.0   25.0          0.0  \n",
       "8        6.0   10.0          0.0  \n",
       "9        5.0   38.0          0.0  \n",
       "10       6.0   19.0          0.0  "
      ]
     },
     "metadata": {},
     "output_type": "display_data"
    }
   ],
   "source": [
    "cat_columns = ['VehicleType', 'Gearbox', 'Model', 'FuelType', 'Brand', 'NotRepaired']\n",
    "# кодирование One-Hot Encoding, OHE\n",
    "df_ohe = pd.get_dummies(df, drop_first=True, columns=cat_columns)\n",
    "display(df_ohe.head(10))\n",
    "\n",
    "# кодирование ordinal encoding, OE\n",
    "encoder = OrdinalEncoder()\n",
    "df_oe = df.copy()\n",
    "df_oe[cat_columns] = encoder.fit_transform(df_oe[cat_columns])\n",
    "display(df_oe.head(10))"
   ]
  },
  {
   "cell_type": "code",
   "execution_count": 31,
   "metadata": {},
   "outputs": [],
   "source": [
    "# функция для деления датасетов на обучающую, и тестовую выборки\n",
    "def split_func (df):\n",
    "    target = df['Price']\n",
    "    features = df.drop('Price', axis=1)\n",
    "    features_train, features_test, target_train, target_test = train_test_split(\n",
    "    features, target, test_size=0.2, random_state=12345) \n",
    "    return features_train, features_test, target_train, target_test"
   ]
  },
  {
   "cell_type": "code",
   "execution_count": 32,
   "metadata": {},
   "outputs": [],
   "source": [
    "# получим выборки для кодировки ohe\n",
    "features_train_ohe, features_test_ohe, target_train_ohe, target_test_ohe = split_func(df_ohe)"
   ]
  },
  {
   "cell_type": "code",
   "execution_count": 33,
   "metadata": {},
   "outputs": [],
   "source": [
    "# получим выборки для кодировки oe\n",
    "features_train_oe, features_test_oe, target_train_oe, target_test_oe = split_func(df_oe)"
   ]
  },
  {
   "cell_type": "code",
   "execution_count": 34,
   "metadata": {},
   "outputs": [],
   "source": [
    "# получим выборки без кодировки\n",
    "features_train_no, features_test_no, target_train_no, target_test_no = split_func(df)"
   ]
  },
  {
   "cell_type": "code",
   "execution_count": 35,
   "metadata": {},
   "outputs": [],
   "source": [
    "# подготовим функцию для масштабирования\n",
    "def scal_func (features_train, features_test):\n",
    "    numeric = ['RegistrationYear', 'Power', 'Kilometer']\n",
    "    scaler = StandardScaler()\n",
    "    scaler.fit(features_train[numeric])\n",
    "    features_train[numeric] = scaler.transform(features_train[numeric])\n",
    "    features_test[numeric] = scaler.transform(features_test[numeric])\n",
    "    return features_train, features_test"
   ]
  },
  {
   "cell_type": "code",
   "execution_count": 36,
   "metadata": {},
   "outputs": [],
   "source": [
    "# масштабируем данные с кодировкой ohe\n",
    "features_train_ohe, features_test_ohe = scal_func(features_train_ohe, features_test_ohe)"
   ]
  },
  {
   "cell_type": "code",
   "execution_count": 37,
   "metadata": {},
   "outputs": [],
   "source": [
    "# масштабируем данные с кодировкой oe\n",
    "features_train_oe, features_test_oe = scal_func(features_train_oe, features_test_oe)"
   ]
  },
  {
   "cell_type": "code",
   "execution_count": 38,
   "metadata": {},
   "outputs": [],
   "source": [
    "# масштабируем данные без кодировки\n",
    "features_train_no, features_test_no = scal_func (features_train_no, features_test_no)"
   ]
  },
  {
   "cell_type": "markdown",
   "metadata": {},
   "source": [
    "**ВЫВОД**\n",
    "\n",
    " - Удалены столбцы, не являющиеся обучающими признаками (DateCrawled, RegistrationMonth, DateCreated, PostalCode, LastSeen, NumberOfPictures).\n",
    " - Проведено заполнение пропусков значением other для: типа кузова, типа коробки передач, типа топлива, состояния ремонта.\n",
    " - Исключены нулевые цены, а также цены до 100 евро на небитые автомобили.\n",
    " - Удалены дубликаты.\n",
    " - Проведена проверка на мультиколлинеарность.\n",
    " - Датасет разделен на обучающие, валидационные и тестовые выборки для трех кодировок: one-hot encoding, ordinal encoding, без кодировки.\n",
    " - Проведено масштабирование количественных данных."
   ]
  },
  {
   "cell_type": "markdown",
   "metadata": {},
   "source": [
    "## Обучение моделей (я закомментил все обучения моделей, так как очень много времени занимает, чтобы не ждать каждый раз при загрузке блокнота)"
   ]
  },
  {
   "cell_type": "markdown",
   "metadata": {},
   "source": [
    "**Обучим следующие модели: линейная регрессия, дерево решений, случайный лес, LightGBM.**"
   ]
  },
  {
   "cell_type": "markdown",
   "metadata": {},
   "source": [
    "### Линейная регрессия."
   ]
  },
  {
   "cell_type": "code",
   "execution_count": 39,
   "metadata": {},
   "outputs": [],
   "source": [
    "# создадим функцию для необходимого скора\n",
    "def rmse_score (target, predictions):\n",
    "    rmse = mean_squared_error(target, predictions)**0.5\n",
    "    return rmse\n",
    "scorer = make_scorer(rmse_score, greater_is_better=False)"
   ]
  },
  {
   "cell_type": "code",
   "execution_count": 40,
   "metadata": {},
   "outputs": [
    {
     "data": {
      "text/plain": [
       "'model = LinearRegression()\\nparameters = {\\'fit_intercept\\':[True,False], \\'normalize\\':[True,False]}\\ngrid = GridSearchCV(model, parameters, cv=5, scoring=scorer, verbose=5)\\ngrid.fit(features_train_ohe, target_train_ohe)\\nprint(\"RMSE линейной регрессии составляет \", grid.best_score_)\\nprint(\\'Наилучшие подобранные параметры для линейной регрессии\\', grid.best_params_)'"
      ]
     },
     "execution_count": 40,
     "metadata": {},
     "output_type": "execute_result"
    }
   ],
   "source": [
    "# Произведем определение оптимальных параметров для линейной регрессии с помощью GridSearchCV.\n",
    "'''model = LinearRegression()\n",
    "parameters = {'fit_intercept':[True,False], 'normalize':[True,False]}\n",
    "grid = GridSearchCV(model, parameters, cv=5, scoring=scorer, verbose=5)\n",
    "grid.fit(features_train_ohe, target_train_ohe)\n",
    "print(\"RMSE линейной регрессии составляет \", grid.best_score_)\n",
    "print('Наилучшие подобранные параметры для линейной регрессии', grid.best_params_)'''"
   ]
  },
  {
   "cell_type": "markdown",
   "metadata": {},
   "source": [
    "**Наилучший RMSE 3241.883 при GridSearchCV получен для параметров: 'fit_intercept': True, 'normalize': False.**"
   ]
  },
  {
   "cell_type": "markdown",
   "metadata": {},
   "source": [
    "### Дерево решений"
   ]
  },
  {
   "cell_type": "code",
   "execution_count": 41,
   "metadata": {},
   "outputs": [
    {
     "data": {
      "text/plain": [
       "'tree = DecisionTreeRegressor(random_state=12345)  \\ntree_params = {\\'max_depth\\': range(1,15), \\'min_samples_split\\': range(2,7)}\\ntree_grid = GridSearchCV(tree, tree_params, cv=5, verbose=5, scoring=scorer)\\ntree_grid.fit(features_train_oe, target_train_oe)\\nprint(\"RMSE для решающего дерева составляет \", tree_grid.best_score_)\\nprint(\\'Наилучшие подобранные параметры для решающего дерева\\')\\nprint(tree_grid.best_params_)'"
      ]
     },
     "execution_count": 41,
     "metadata": {},
     "output_type": "execute_result"
    }
   ],
   "source": [
    "'''tree = DecisionTreeRegressor(random_state=12345)  \n",
    "tree_params = {'max_depth': range(1,15), 'min_samples_split': range(2,7)}\n",
    "tree_grid = GridSearchCV(tree, tree_params, cv=5, verbose=5, scoring=scorer)\n",
    "tree_grid.fit(features_train_oe, target_train_oe)\n",
    "print(\"RMSE для решающего дерева составляет \", tree_grid.best_score_)\n",
    "print('Наилучшие подобранные параметры для решающего дерева')\n",
    "print(tree_grid.best_params_)'''"
   ]
  },
  {
   "cell_type": "markdown",
   "metadata": {},
   "source": [
    "**Наилучший RMSE 2027.92 при GridSearchCV получен для параметров: 'max_depth': 14, 'min_samples_split': 6.**"
   ]
  },
  {
   "cell_type": "markdown",
   "metadata": {},
   "source": [
    "### Случайный лес."
   ]
  },
  {
   "cell_type": "code",
   "execution_count": 42,
   "metadata": {},
   "outputs": [
    {
     "data": {
      "text/plain": [
       "'forest = RandomForestRegressor(random_state=12345)   \\nforest_params = {\\'n_estimators\\': range(30, 81, 10),\\'max_depth\\': range(1,12)}\\nforest_grid = GridSearchCV(forest, forest_params,cv=5, verbose=5, scoring=scorer)                       \\nforest_grid.fit(features_train_oe, target_train_oe)\\nprint(\"RMSE для случайного леса составляет \", forest_grid.best_score_)\\nprint(\\'Наилучшие подобранные параметры для случайного леса\\')\\nprint(forest_grid.best_params_)'"
      ]
     },
     "execution_count": 42,
     "metadata": {},
     "output_type": "execute_result"
    }
   ],
   "source": [
    "'''forest = RandomForestRegressor(random_state=12345)   \n",
    "forest_params = {'n_estimators': range(30, 81, 10),'max_depth': range(1,12)}\n",
    "forest_grid = GridSearchCV(forest, forest_params,cv=5, verbose=5, scoring=scorer)                       \n",
    "forest_grid.fit(features_train_oe, target_train_oe)\n",
    "print(\"RMSE для случайного леса составляет \", forest_grid.best_score_)\n",
    "print('Наилучшие подобранные параметры для случайного леса')\n",
    "print(forest_grid.best_params_)'''"
   ]
  },
  {
   "cell_type": "markdown",
   "metadata": {},
   "source": [
    "**Наилучший RMSE 1939.527 при GridSearchCV для случайного леса получен для параметров: 'max_depth': 11, 'n_estimators': 70.**"
   ]
  },
  {
   "cell_type": "markdown",
   "metadata": {},
   "source": [
    "### Light GBM"
   ]
  },
  {
   "cell_type": "markdown",
   "metadata": {},
   "source": [
    "**Так как библиотека Light GBM требует закодированные целыми числами категориальные признаки, такие признаки переведем в тип category.**"
   ]
  },
  {
   "cell_type": "code",
   "execution_count": 43,
   "metadata": {},
   "outputs": [],
   "source": [
    "def obj_to_cat (df):\n",
    "    for c in df.columns:\n",
    "        col_type = df[c].dtype\n",
    "        if col_type == 'object' or col_type.name == 'category':\n",
    "            df[c] = df[c].astype('category')"
   ]
  },
  {
   "cell_type": "code",
   "execution_count": 44,
   "metadata": {},
   "outputs": [
    {
     "name": "stdout",
     "output_type": "stream",
     "text": [
      "<class 'pandas.core.frame.DataFrame'>\n",
      "Int64Index: 234408 entries, 311771 to 254036\n",
      "Data columns (total 9 columns):\n",
      "VehicleType         234408 non-null category\n",
      "RegistrationYear    234408 non-null float64\n",
      "Gearbox             234408 non-null category\n",
      "Power               234408 non-null float64\n",
      "Model               234408 non-null category\n",
      "Kilometer           234408 non-null float64\n",
      "FuelType            234408 non-null category\n",
      "Brand               234408 non-null category\n",
      "NotRepaired         234408 non-null category\n",
      "dtypes: category(6), float64(3)\n",
      "memory usage: 8.7 MB\n"
     ]
    }
   ],
   "source": [
    "obj_to_cat(features_train_no)\n",
    "features_train_no.info()"
   ]
  },
  {
   "cell_type": "code",
   "execution_count": 45,
   "metadata": {},
   "outputs": [
    {
     "data": {
      "text/plain": [
       "'gbm = LGBMRegressor(random_state=12345)   \\ng_params = {\\'n_estimators\\': [50, 100, 500],\\'num_leaves\\': [21, 31, 41],\\'learning_rate\\':[0.01, .04, 0.06]}\\ng_grid = GridSearchCV(gbm, g_params,cv=5, verbose=5, scoring=scorer)\\ng_grid.fit(features_train_no, target_train_no)\\nprint(\"RMSE для LGBM составляет \", g_grid.best_score_)\\nprint(\\'Наилучшие подобранные параметры для LGBM\\')\\nprint(g_grid.best_params_)'"
      ]
     },
     "execution_count": 45,
     "metadata": {},
     "output_type": "execute_result"
    }
   ],
   "source": [
    "'''gbm = LGBMRegressor(random_state=12345)   \n",
    "g_params = {'n_estimators': [50, 100, 500],'num_leaves': [21, 31, 41],'learning_rate':[0.01, .04, 0.06]}\n",
    "g_grid = GridSearchCV(gbm, g_params,cv=5, verbose=5, scoring=scorer)\n",
    "g_grid.fit(features_train_no, target_train_no)\n",
    "print(\"RMSE для LGBM составляет \", g_grid.best_score_)\n",
    "print('Наилучшие подобранные параметры для LGBM')\n",
    "print(g_grid.best_params_)'''"
   ]
  },
  {
   "cell_type": "markdown",
   "metadata": {},
   "source": [
    "**Наилучший RMSE 1684.875 при GridSearchCV для LGBM получен для параметров: 'learning_rate': 0.06, 'n_estimators': 500, 'num_leaves': 41.**"
   ]
  },
  {
   "cell_type": "markdown",
   "metadata": {},
   "source": [
    "**ВЫВОД** \n",
    "\n",
    " - Обучено и подобраны гиперпараметры для 4 различных моделей: линейная регрессия, дерево решений, случайный лес, LightGBM. Для всех моделей была применена кросс-валидация, вставленная в метод GridSearchCV.\n",
    "\n",
    " - Наихудшим результатом (3241) обладает модель линейной регрессии, наилучший результат был получен с помощью модели Light GBM (1684.).\n",
    " - В следующем разделе каждая модель с найденными гиперпараметрами будет обучена на трейне и протестирована на тестовой выборке."
   ]
  },
  {
   "cell_type": "markdown",
   "metadata": {},
   "source": [
    "## Анализ моделей"
   ]
  },
  {
   "cell_type": "markdown",
   "metadata": {},
   "source": [
    "### Линейная регрессия"
   ]
  },
  {
   "cell_type": "code",
   "execution_count": 46,
   "metadata": {},
   "outputs": [
    {
     "name": "stdout",
     "output_type": "stream",
     "text": [
      "RMSE линейной регрессии составляет 3239.682599208238\n",
      "Время обучения модели LinearRegression составляет 22.73581862449646\n",
      "Скорость предсказания модели LinearRegression составляет 0.1964428424835205\n"
     ]
    }
   ],
   "source": [
    "model = LinearRegression(fit_intercept=True, normalize=False)\n",
    "start_fit_time = time.time()\n",
    "model.fit(features_train_ohe, target_train_ohe)\n",
    "stop_fit_time = time.time()\n",
    "fit_time = stop_fit_time - start_fit_time\n",
    "start_predict_time = time.time()\n",
    "predictions = model.predict(features_test_ohe)\n",
    "stop_predict_time = time.time()\n",
    "pred_time = stop_predict_time - start_predict_time\n",
    "rmse = mean_squared_error(target_test_ohe, predictions)**0.5\n",
    "print(\"RMSE линейной регрессии составляет\", rmse)\n",
    "print(\"Время обучения модели LinearRegression составляет\", fit_time)\n",
    "print(\"Скорость предсказания модели LinearRegression составляет\", pred_time)"
   ]
  },
  {
   "cell_type": "markdown",
   "metadata": {},
   "source": [
    "### Дерево решений"
   ]
  },
  {
   "cell_type": "code",
   "execution_count": 47,
   "metadata": {},
   "outputs": [
    {
     "name": "stdout",
     "output_type": "stream",
     "text": [
      "RMSE дерева решений составляет 2014.3474567893813\n",
      "Время обучения модели DecisionTreeRegressor составляет 0.7267382144927979\n",
      "Скорость предсказания модели DecisionTreeRegressor составляет 0.012237071990966797\n"
     ]
    }
   ],
   "source": [
    "model = DecisionTreeRegressor(max_depth=14, min_samples_split=6, random_state=12345)\n",
    "start_fit_time = time.time()\n",
    "model.fit(features_train_oe, target_train_oe)\n",
    "stop_fit_time = time.time()\n",
    "fit_time = stop_fit_time - start_fit_time\n",
    "start_predict_time = time.time()\n",
    "predictions = model.predict(features_test_oe)\n",
    "stop_predict_time = time.time()\n",
    "pred_time = stop_predict_time - start_predict_time\n",
    "rmse = mean_squared_error(target_test_oe, predictions)**0.5\n",
    "print(\"RMSE дерева решений составляет\", rmse)\n",
    "print(\"Время обучения модели DecisionTreeRegressor составляет\", fit_time)\n",
    "print(\"Скорость предсказания модели DecisionTreeRegressor составляет\", pred_time)"
   ]
  },
  {
   "cell_type": "markdown",
   "metadata": {},
   "source": [
    "### Случайный лес"
   ]
  },
  {
   "cell_type": "code",
   "execution_count": 48,
   "metadata": {},
   "outputs": [
    {
     "name": "stdout",
     "output_type": "stream",
     "text": [
      "RMSE случайного леса составляет 1936.5127179567296\n",
      "Время обучения модели RandomForestRegressor составляет 24.59758734703064\n",
      "Скорость предсказания модели RandomForestRegressor составляет 0.3767054080963135\n"
     ]
    }
   ],
   "source": [
    "model = RandomForestRegressor(max_depth=11, n_estimators=70, random_state=12345)\n",
    "start_fit_time = time.time()\n",
    "model.fit(features_train_oe, target_train_oe)\n",
    "stop_fit_time = time.time()\n",
    "fit_time = stop_fit_time - start_fit_time\n",
    "start_predict_time = time.time()\n",
    "predictions = model.predict(features_test_oe)\n",
    "stop_predict_time = time.time()\n",
    "pred_time = stop_predict_time - start_predict_time\n",
    "rmse = mean_squared_error(target_test_oe, predictions)**0.5\n",
    "print(\"RMSE случайного леса составляет\", rmse)\n",
    "print(\"Время обучения модели RandomForestRegressor составляет\", fit_time)\n",
    "print(\"Скорость предсказания модели RandomForestRegressor составляет\", pred_time)"
   ]
  },
  {
   "cell_type": "markdown",
   "metadata": {},
   "source": [
    "### Light GBM"
   ]
  },
  {
   "cell_type": "code",
   "execution_count": 49,
   "metadata": {
    "scrolled": true
   },
   "outputs": [
    {
     "name": "stdout",
     "output_type": "stream",
     "text": [
      "RMSE градиентного бустинга составляет 1689.6987543832563\n",
      "Время обучения модели LGBMRegressor составляет 40.34284520149231\n",
      "Скорость предсказания модели LGBMRegressor составляет 2.8148927688598633\n"
     ]
    }
   ],
   "source": [
    "obj_to_cat(features_test_no) # переводим признаки в тип category.\n",
    "model = LGBMRegressor(learning_rate=0.06, n_estimators=500, num_leaves=41, random_state=12345)\n",
    "start_fit_time = time.time()\n",
    "model.fit(features_train_no, target_train_no)\n",
    "stop_fit_time = time.time()\n",
    "fit_time = stop_fit_time - start_fit_time\n",
    "start_predict_time = time.time()\n",
    "predictions = model.predict(features_test_no)\n",
    "stop_predict_time = time.time()\n",
    "pred_time = stop_predict_time - start_predict_time\n",
    "rmse = mean_squared_error(target_test_no, predictions)**0.5\n",
    "print(\"RMSE градиентного бустинга составляет\", rmse)\n",
    "print(\"Время обучения модели LGBMRegressor составляет\", fit_time)\n",
    "print(\"Скорость предсказания модели LGBMRegressor составляет\", pred_time)"
   ]
  },
  {
   "cell_type": "markdown",
   "metadata": {},
   "source": [
    "**ВЫВОД**\n",
    "\n",
    "Проведенный анализ с проверкой моделей на тестовой выборке показал, что наилучшую метрику RMSE возможно получить с применением библиотеки Light GBM. Если сравнить суммарное время на fit_predict, то модель LGBMRegressor выполнила поставленную задачу медленнее остальных моделей.\n",
    "Проведенное тестирование показало, что бустинговая модель даёт значительно лучший скор, чем линейная регрессия, дерево решений и случайный лес."
   ]
  }
 ],
 "metadata": {
  "ExecuteTimeLog": [
   {
    "duration": 1041,
    "start_time": "2022-03-12T10:59:02.628Z"
   },
   {
    "duration": 736,
    "start_time": "2022-03-12T10:59:36.998Z"
   },
   {
    "duration": 120,
    "start_time": "2022-03-12T11:00:06.059Z"
   },
   {
    "duration": 93,
    "start_time": "2022-03-12T11:01:00.719Z"
   },
   {
    "duration": 33,
    "start_time": "2022-03-12T11:04:55.160Z"
   },
   {
    "duration": 31,
    "start_time": "2022-03-12T11:06:51.628Z"
   },
   {
    "duration": 32,
    "start_time": "2022-03-12T11:09:48.137Z"
   },
   {
    "duration": 17,
    "start_time": "2022-03-12T11:10:49.574Z"
   },
   {
    "duration": 77,
    "start_time": "2022-03-12T11:10:58.143Z"
   },
   {
    "duration": 88,
    "start_time": "2022-03-12T11:11:41.948Z"
   },
   {
    "duration": 31,
    "start_time": "2022-03-12T11:13:30.324Z"
   },
   {
    "duration": 88,
    "start_time": "2022-03-12T11:14:54.435Z"
   },
   {
    "duration": 32,
    "start_time": "2022-03-12T11:16:05.504Z"
   },
   {
    "duration": 88,
    "start_time": "2022-03-12T11:18:27.529Z"
   },
   {
    "duration": 92,
    "start_time": "2022-03-12T11:18:36.244Z"
   },
   {
    "duration": 31,
    "start_time": "2022-03-12T11:18:41.096Z"
   },
   {
    "duration": 31,
    "start_time": "2022-03-12T11:19:12.346Z"
   },
   {
    "duration": 20,
    "start_time": "2022-03-12T11:23:14.274Z"
   },
   {
    "duration": 34,
    "start_time": "2022-03-12T11:23:22.197Z"
   },
   {
    "duration": 70,
    "start_time": "2022-03-12T11:25:24.321Z"
   },
   {
    "duration": 264,
    "start_time": "2022-03-12T11:26:30.469Z"
   },
   {
    "duration": 52,
    "start_time": "2022-03-12T11:26:51.579Z"
   },
   {
    "duration": 255,
    "start_time": "2022-03-12T11:26:57.652Z"
   },
   {
    "duration": 22,
    "start_time": "2022-03-12T11:29:39.292Z"
   },
   {
    "duration": 12,
    "start_time": "2022-03-12T11:30:03.681Z"
   },
   {
    "duration": 11,
    "start_time": "2022-03-12T11:30:21.690Z"
   },
   {
    "duration": 18,
    "start_time": "2022-03-12T11:35:04.614Z"
   },
   {
    "duration": 98,
    "start_time": "2022-03-12T11:38:00.336Z"
   },
   {
    "duration": 72,
    "start_time": "2022-03-12T11:38:10.102Z"
   },
   {
    "duration": 111,
    "start_time": "2022-03-12T11:38:52.803Z"
   },
   {
    "duration": 183,
    "start_time": "2022-03-12T11:40:03.136Z"
   },
   {
    "duration": 21,
    "start_time": "2022-03-12T11:40:50.385Z"
   },
   {
    "duration": 6,
    "start_time": "2022-03-12T11:46:24.109Z"
   },
   {
    "duration": 1470,
    "start_time": "2022-03-12T11:47:34.146Z"
   },
   {
    "duration": 1441,
    "start_time": "2022-03-12T11:48:29.808Z"
   },
   {
    "duration": 4,
    "start_time": "2022-03-12T11:49:48.633Z"
   },
   {
    "duration": 744,
    "start_time": "2022-03-12T11:50:15.991Z"
   },
   {
    "duration": 56,
    "start_time": "2022-03-12T11:51:28.975Z"
   },
   {
    "duration": 77,
    "start_time": "2022-03-12T11:52:00.802Z"
   },
   {
    "duration": 3,
    "start_time": "2022-03-12T11:53:06.638Z"
   },
   {
    "duration": 122,
    "start_time": "2022-03-12T11:53:35.826Z"
   },
   {
    "duration": 118,
    "start_time": "2022-03-12T11:54:08.769Z"
   },
   {
    "duration": 112,
    "start_time": "2022-03-12T11:54:43.414Z"
   },
   {
    "duration": 4,
    "start_time": "2022-03-12T11:59:51.370Z"
   },
   {
    "duration": 346676,
    "start_time": "2022-03-12T12:00:48.257Z"
   },
   {
    "duration": 5,
    "start_time": "2022-03-12T12:07:04.141Z"
   },
   {
    "duration": 3,
    "start_time": "2022-03-12T12:10:36.232Z"
   },
   {
    "duration": 103261,
    "start_time": "2022-03-12T12:10:43.991Z"
   },
   {
    "duration": 2838764,
    "start_time": "2022-03-12T12:15:10.230Z"
   },
   {
    "duration": 269,
    "start_time": "2022-03-12T13:08:26.477Z"
   },
   {
    "duration": 262,
    "start_time": "2022-03-12T13:08:40.774Z"
   },
   {
    "duration": 3,
    "start_time": "2022-03-12T13:10:06.879Z"
   },
   {
    "duration": 86,
    "start_time": "2022-03-12T13:10:22.897Z"
   },
   {
    "duration": 2219168,
    "start_time": "2022-03-12T13:10:41.080Z"
   },
   {
    "duration": 19665,
    "start_time": "2022-03-12T14:04:50.680Z"
   },
   {
    "duration": 4,
    "start_time": "2022-03-12T14:05:39.379Z"
   },
   {
    "duration": 176,
    "start_time": "2022-03-12T14:05:47.982Z"
   },
   {
    "duration": 5,
    "start_time": "2022-03-12T14:07:48.849Z"
   },
   {
    "duration": 20077,
    "start_time": "2022-03-12T14:09:33.362Z"
   },
   {
    "duration": 19766,
    "start_time": "2022-03-12T14:12:38.879Z"
   },
   {
    "duration": 19095,
    "start_time": "2022-03-12T14:13:25.443Z"
   },
   {
    "duration": 579,
    "start_time": "2022-03-12T14:16:22.499Z"
   },
   {
    "duration": 23952,
    "start_time": "2022-03-12T14:20:18.666Z"
   },
   {
    "duration": 603,
    "start_time": "2022-03-12T14:23:07.520Z"
   },
   {
    "duration": 22941,
    "start_time": "2022-03-12T14:23:22.835Z"
   },
   {
    "duration": 58,
    "start_time": "2022-03-12T14:25:56.430Z"
   },
   {
    "duration": 50,
    "start_time": "2022-03-12T14:26:37.030Z"
   },
   {
    "duration": 22714,
    "start_time": "2022-03-12T14:26:46.266Z"
   },
   {
    "duration": 90,
    "start_time": "2022-03-12T14:27:16.158Z"
   },
   {
    "duration": 59,
    "start_time": "2022-03-12T14:28:26.898Z"
   },
   {
    "duration": 71,
    "start_time": "2022-03-12T14:30:42.438Z"
   },
   {
    "duration": 29038,
    "start_time": "2022-03-12T14:31:00.982Z"
   },
   {
    "duration": 1136,
    "start_time": "2022-03-12T14:32:57.295Z"
   },
   {
    "duration": 744,
    "start_time": "2022-03-12T14:32:58.433Z"
   },
   {
    "duration": 120,
    "start_time": "2022-03-12T14:32:59.179Z"
   },
   {
    "duration": 101,
    "start_time": "2022-03-12T14:32:59.301Z"
   },
   {
    "duration": 38,
    "start_time": "2022-03-12T14:32:59.403Z"
   },
   {
    "duration": 32,
    "start_time": "2022-03-12T14:32:59.442Z"
   },
   {
    "duration": 31,
    "start_time": "2022-03-12T14:32:59.476Z"
   },
   {
    "duration": 38,
    "start_time": "2022-03-12T14:32:59.508Z"
   },
   {
    "duration": 92,
    "start_time": "2022-03-12T14:32:59.548Z"
   },
   {
    "duration": 102,
    "start_time": "2022-03-12T14:32:59.642Z"
   },
   {
    "duration": 33,
    "start_time": "2022-03-12T14:32:59.746Z"
   },
   {
    "duration": 108,
    "start_time": "2022-03-12T14:32:59.780Z"
   },
   {
    "duration": 45,
    "start_time": "2022-03-12T14:32:59.890Z"
   },
   {
    "duration": 101,
    "start_time": "2022-03-12T14:32:59.937Z"
   },
   {
    "duration": 35,
    "start_time": "2022-03-12T14:33:00.039Z"
   },
   {
    "duration": 24,
    "start_time": "2022-03-12T14:33:00.075Z"
   },
   {
    "duration": 52,
    "start_time": "2022-03-12T14:33:00.101Z"
   },
   {
    "duration": 285,
    "start_time": "2022-03-12T14:33:00.155Z"
   },
   {
    "duration": 22,
    "start_time": "2022-03-12T14:33:00.441Z"
   },
   {
    "duration": 10,
    "start_time": "2022-03-12T14:33:00.465Z"
   },
   {
    "duration": 14,
    "start_time": "2022-03-12T14:33:00.477Z"
   },
   {
    "duration": 50,
    "start_time": "2022-03-12T14:33:00.493Z"
   },
   {
    "duration": 100,
    "start_time": "2022-03-12T14:33:00.544Z"
   },
   {
    "duration": 74,
    "start_time": "2022-03-12T14:33:00.646Z"
   },
   {
    "duration": 114,
    "start_time": "2022-03-12T14:33:00.733Z"
   },
   {
    "duration": 188,
    "start_time": "2022-03-12T14:33:00.849Z"
   },
   {
    "duration": 20,
    "start_time": "2022-03-12T14:33:01.041Z"
   },
   {
    "duration": 1495,
    "start_time": "2022-03-12T14:33:01.063Z"
   },
   {
    "duration": 4,
    "start_time": "2022-03-12T14:33:02.560Z"
   },
   {
    "duration": 785,
    "start_time": "2022-03-12T14:33:02.566Z"
   },
   {
    "duration": 59,
    "start_time": "2022-03-12T14:33:03.353Z"
   },
   {
    "duration": 93,
    "start_time": "2022-03-12T14:33:03.414Z"
   },
   {
    "duration": 4,
    "start_time": "2022-03-12T14:33:03.509Z"
   },
   {
    "duration": 147,
    "start_time": "2022-03-12T14:33:03.514Z"
   },
   {
    "duration": 129,
    "start_time": "2022-03-12T14:33:03.663Z"
   },
   {
    "duration": 126,
    "start_time": "2022-03-12T14:33:03.794Z"
   },
   {
    "duration": 12,
    "start_time": "2022-03-12T14:33:03.922Z"
   },
   {
    "duration": 11,
    "start_time": "2022-03-12T14:33:03.935Z"
   },
   {
    "duration": 265,
    "start_time": "2022-03-12T14:33:03.947Z"
   },
   {
    "duration": -115,
    "start_time": "2022-03-12T14:33:04.329Z"
   },
   {
    "duration": -145,
    "start_time": "2022-03-12T14:33:04.360Z"
   },
   {
    "duration": -157,
    "start_time": "2022-03-12T14:33:04.373Z"
   },
   {
    "duration": -177,
    "start_time": "2022-03-12T14:33:04.393Z"
   },
   {
    "duration": -186,
    "start_time": "2022-03-12T14:33:04.403Z"
   },
   {
    "duration": -198,
    "start_time": "2022-03-12T14:33:04.416Z"
   },
   {
    "duration": -209,
    "start_time": "2022-03-12T14:33:04.428Z"
   },
   {
    "duration": -218,
    "start_time": "2022-03-12T14:33:04.438Z"
   },
   {
    "duration": -225,
    "start_time": "2022-03-12T14:33:04.446Z"
   },
   {
    "duration": 1185,
    "start_time": "2022-03-12T14:33:29.702Z"
   },
   {
    "duration": 906,
    "start_time": "2022-03-12T14:33:30.889Z"
   },
   {
    "duration": 147,
    "start_time": "2022-03-12T14:33:31.799Z"
   },
   {
    "duration": 98,
    "start_time": "2022-03-12T14:33:31.947Z"
   },
   {
    "duration": 32,
    "start_time": "2022-03-12T14:33:32.047Z"
   },
   {
    "duration": 53,
    "start_time": "2022-03-12T14:33:32.080Z"
   },
   {
    "duration": 31,
    "start_time": "2022-03-12T14:33:32.136Z"
   },
   {
    "duration": 21,
    "start_time": "2022-03-12T14:33:32.170Z"
   },
   {
    "duration": 105,
    "start_time": "2022-03-12T14:33:32.193Z"
   },
   {
    "duration": 178,
    "start_time": "2022-03-12T14:33:32.300Z"
   },
   {
    "duration": 62,
    "start_time": "2022-03-12T14:33:32.481Z"
   },
   {
    "duration": 102,
    "start_time": "2022-03-12T14:33:32.545Z"
   },
   {
    "duration": 41,
    "start_time": "2022-03-12T14:33:32.649Z"
   },
   {
    "duration": 120,
    "start_time": "2022-03-12T14:33:32.692Z"
   },
   {
    "duration": 37,
    "start_time": "2022-03-12T14:33:32.813Z"
   },
   {
    "duration": 20,
    "start_time": "2022-03-12T14:33:32.852Z"
   },
   {
    "duration": 60,
    "start_time": "2022-03-12T14:33:32.873Z"
   },
   {
    "duration": 277,
    "start_time": "2022-03-12T14:33:32.935Z"
   },
   {
    "duration": 30,
    "start_time": "2022-03-12T14:33:33.214Z"
   },
   {
    "duration": 11,
    "start_time": "2022-03-12T14:33:33.245Z"
   },
   {
    "duration": 11,
    "start_time": "2022-03-12T14:33:33.258Z"
   },
   {
    "duration": 18,
    "start_time": "2022-03-12T14:33:33.272Z"
   },
   {
    "duration": 157,
    "start_time": "2022-03-12T14:33:33.291Z"
   },
   {
    "duration": 138,
    "start_time": "2022-03-12T14:33:33.451Z"
   },
   {
    "duration": 172,
    "start_time": "2022-03-12T14:33:33.591Z"
   },
   {
    "duration": 294,
    "start_time": "2022-03-12T14:33:33.766Z"
   },
   {
    "duration": 31,
    "start_time": "2022-03-12T14:33:34.062Z"
   },
   {
    "duration": 1494,
    "start_time": "2022-03-12T14:33:34.095Z"
   },
   {
    "duration": 4,
    "start_time": "2022-03-12T14:33:35.590Z"
   },
   {
    "duration": 828,
    "start_time": "2022-03-12T14:33:35.596Z"
   },
   {
    "duration": 65,
    "start_time": "2022-03-12T14:33:36.426Z"
   },
   {
    "duration": 104,
    "start_time": "2022-03-12T14:33:36.493Z"
   },
   {
    "duration": 4,
    "start_time": "2022-03-12T14:33:36.599Z"
   },
   {
    "duration": 143,
    "start_time": "2022-03-12T14:33:36.605Z"
   },
   {
    "duration": 129,
    "start_time": "2022-03-12T14:33:36.750Z"
   },
   {
    "duration": 122,
    "start_time": "2022-03-12T14:33:36.881Z"
   },
   {
    "duration": 3,
    "start_time": "2022-03-12T14:33:37.005Z"
   },
   {
    "duration": 7,
    "start_time": "2022-03-12T14:33:37.009Z"
   },
   {
    "duration": 17,
    "start_time": "2022-03-12T14:33:37.018Z"
   },
   {
    "duration": 8,
    "start_time": "2022-03-12T14:33:37.037Z"
   },
   {
    "duration": 6,
    "start_time": "2022-03-12T14:33:37.047Z"
   },
   {
    "duration": 7,
    "start_time": "2022-03-12T14:33:37.055Z"
   },
   {
    "duration": 114,
    "start_time": "2022-03-12T14:33:37.063Z"
   },
   {
    "duration": 1135,
    "start_time": "2022-03-12T14:34:24.702Z"
   },
   {
    "duration": 758,
    "start_time": "2022-03-12T14:34:25.838Z"
   },
   {
    "duration": 134,
    "start_time": "2022-03-12T14:34:26.599Z"
   },
   {
    "duration": 99,
    "start_time": "2022-03-12T14:34:26.734Z"
   },
   {
    "duration": 31,
    "start_time": "2022-03-12T14:34:26.835Z"
   },
   {
    "duration": 31,
    "start_time": "2022-03-12T14:34:26.867Z"
   },
   {
    "duration": 54,
    "start_time": "2022-03-12T14:34:26.900Z"
   },
   {
    "duration": 18,
    "start_time": "2022-03-12T14:34:26.955Z"
   },
   {
    "duration": 91,
    "start_time": "2022-03-12T14:34:26.974Z"
   },
   {
    "duration": 97,
    "start_time": "2022-03-12T14:34:27.066Z"
   },
   {
    "duration": 32,
    "start_time": "2022-03-12T14:34:27.165Z"
   },
   {
    "duration": 106,
    "start_time": "2022-03-12T14:34:27.199Z"
   },
   {
    "duration": 36,
    "start_time": "2022-03-12T14:34:27.307Z"
   },
   {
    "duration": 102,
    "start_time": "2022-03-12T14:34:27.345Z"
   },
   {
    "duration": 31,
    "start_time": "2022-03-12T14:34:27.448Z"
   },
   {
    "duration": 19,
    "start_time": "2022-03-12T14:34:27.481Z"
   },
   {
    "duration": 51,
    "start_time": "2022-03-12T14:34:27.502Z"
   },
   {
    "duration": 281,
    "start_time": "2022-03-12T14:34:27.555Z"
   },
   {
    "duration": 22,
    "start_time": "2022-03-12T14:34:27.838Z"
   },
   {
    "duration": 11,
    "start_time": "2022-03-12T14:34:27.862Z"
   },
   {
    "duration": 13,
    "start_time": "2022-03-12T14:34:27.874Z"
   },
   {
    "duration": 56,
    "start_time": "2022-03-12T14:34:27.891Z"
   },
   {
    "duration": 95,
    "start_time": "2022-03-12T14:34:27.949Z"
   },
   {
    "duration": 73,
    "start_time": "2022-03-12T14:34:28.046Z"
   },
   {
    "duration": 115,
    "start_time": "2022-03-12T14:34:28.133Z"
   },
   {
    "duration": 188,
    "start_time": "2022-03-12T14:34:28.250Z"
   },
   {
    "duration": 22,
    "start_time": "2022-03-12T14:34:28.441Z"
   },
   {
    "duration": 1499,
    "start_time": "2022-03-12T14:34:28.465Z"
   },
   {
    "duration": 4,
    "start_time": "2022-03-12T14:34:29.966Z"
   },
   {
    "duration": 797,
    "start_time": "2022-03-12T14:34:29.972Z"
   },
   {
    "duration": 73,
    "start_time": "2022-03-12T14:34:30.772Z"
   },
   {
    "duration": 101,
    "start_time": "2022-03-12T14:34:30.846Z"
   },
   {
    "duration": 4,
    "start_time": "2022-03-12T14:34:30.949Z"
   },
   {
    "duration": 139,
    "start_time": "2022-03-12T14:34:30.955Z"
   },
   {
    "duration": 118,
    "start_time": "2022-03-12T14:34:31.096Z"
   },
   {
    "duration": 118,
    "start_time": "2022-03-12T14:34:31.215Z"
   },
   {
    "duration": 2,
    "start_time": "2022-03-12T14:34:31.335Z"
   },
   {
    "duration": 26,
    "start_time": "2022-03-12T14:34:31.339Z"
   },
   {
    "duration": 3,
    "start_time": "2022-03-12T14:34:31.366Z"
   },
   {
    "duration": 4,
    "start_time": "2022-03-12T14:34:31.371Z"
   },
   {
    "duration": 5,
    "start_time": "2022-03-12T14:34:31.377Z"
   },
   {
    "duration": 3,
    "start_time": "2022-03-12T14:34:31.384Z"
   },
   {
    "duration": 97,
    "start_time": "2022-03-12T14:34:31.388Z"
   },
   {
    "duration": 3,
    "start_time": "2022-03-12T14:34:31.487Z"
   },
   {
    "duration": 19660,
    "start_time": "2022-03-12T14:34:31.492Z"
   },
   {
    "duration": 789,
    "start_time": "2022-03-12T14:34:51.154Z"
   },
   {
    "duration": 23952,
    "start_time": "2022-03-12T14:34:51.945Z"
   },
   {
    "duration": 28436,
    "start_time": "2022-03-12T14:35:15.898Z"
   },
   {
    "duration": 33764,
    "start_time": "2022-03-12T14:40:13.771Z"
   },
   {
    "duration": 348884,
    "start_time": "2022-03-12T14:42:40.958Z"
   },
   {
    "duration": 19693,
    "start_time": "2022-03-12T14:51:01.240Z"
   },
   {
    "duration": 570,
    "start_time": "2022-03-12T14:51:59.299Z"
   },
   {
    "duration": 22846,
    "start_time": "2022-03-12T14:52:36.673Z"
   },
   {
    "duration": 31459,
    "start_time": "2022-03-12T14:53:46.075Z"
   },
   {
    "duration": 1207,
    "start_time": "2022-03-12T14:59:57.039Z"
   },
   {
    "duration": 776,
    "start_time": "2022-03-12T14:59:58.248Z"
   },
   {
    "duration": 138,
    "start_time": "2022-03-12T14:59:59.028Z"
   },
   {
    "duration": 119,
    "start_time": "2022-03-12T14:59:59.168Z"
   },
   {
    "duration": 47,
    "start_time": "2022-03-12T14:59:59.289Z"
   },
   {
    "duration": 37,
    "start_time": "2022-03-12T14:59:59.337Z"
   },
   {
    "duration": 60,
    "start_time": "2022-03-12T14:59:59.376Z"
   },
   {
    "duration": 19,
    "start_time": "2022-03-12T14:59:59.438Z"
   },
   {
    "duration": 95,
    "start_time": "2022-03-12T14:59:59.459Z"
   },
   {
    "duration": 107,
    "start_time": "2022-03-12T14:59:59.556Z"
   },
   {
    "duration": 34,
    "start_time": "2022-03-12T14:59:59.665Z"
   },
   {
    "duration": 112,
    "start_time": "2022-03-12T14:59:59.701Z"
   },
   {
    "duration": 42,
    "start_time": "2022-03-12T14:59:59.815Z"
   },
   {
    "duration": 109,
    "start_time": "2022-03-12T14:59:59.859Z"
   },
   {
    "duration": 33,
    "start_time": "2022-03-12T14:59:59.970Z"
   },
   {
    "duration": 36,
    "start_time": "2022-03-12T15:00:00.005Z"
   },
   {
    "duration": 38,
    "start_time": "2022-03-12T15:00:00.043Z"
   },
   {
    "duration": 312,
    "start_time": "2022-03-12T15:00:00.082Z"
   },
   {
    "duration": 38,
    "start_time": "2022-03-12T15:00:00.396Z"
   },
   {
    "duration": 13,
    "start_time": "2022-03-12T15:00:00.436Z"
   },
   {
    "duration": 16,
    "start_time": "2022-03-12T15:00:00.451Z"
   },
   {
    "duration": 23,
    "start_time": "2022-03-12T15:00:00.472Z"
   },
   {
    "duration": 118,
    "start_time": "2022-03-12T15:00:00.497Z"
   },
   {
    "duration": 84,
    "start_time": "2022-03-12T15:00:00.617Z"
   },
   {
    "duration": 120,
    "start_time": "2022-03-12T15:00:00.703Z"
   },
   {
    "duration": 186,
    "start_time": "2022-03-12T15:00:00.825Z"
   },
   {
    "duration": 29,
    "start_time": "2022-03-12T15:00:01.013Z"
   },
   {
    "duration": 1541,
    "start_time": "2022-03-12T15:00:01.044Z"
   },
   {
    "duration": 3,
    "start_time": "2022-03-12T15:00:02.587Z"
   },
   {
    "duration": 827,
    "start_time": "2022-03-12T15:00:02.592Z"
   },
   {
    "duration": 63,
    "start_time": "2022-03-12T15:00:03.421Z"
   },
   {
    "duration": 94,
    "start_time": "2022-03-12T15:00:03.486Z"
   },
   {
    "duration": 6,
    "start_time": "2022-03-12T15:00:03.582Z"
   },
   {
    "duration": 138,
    "start_time": "2022-03-12T15:00:03.589Z"
   },
   {
    "duration": 129,
    "start_time": "2022-03-12T15:00:03.729Z"
   },
   {
    "duration": 127,
    "start_time": "2022-03-12T15:00:03.860Z"
   },
   {
    "duration": 2,
    "start_time": "2022-03-12T15:00:03.989Z"
   },
   {
    "duration": 8,
    "start_time": "2022-03-12T15:00:03.993Z"
   },
   {
    "duration": 9,
    "start_time": "2022-03-12T15:00:04.003Z"
   },
   {
    "duration": 20,
    "start_time": "2022-03-12T15:00:04.014Z"
   },
   {
    "duration": 6,
    "start_time": "2022-03-12T15:00:04.035Z"
   },
   {
    "duration": 103,
    "start_time": "2022-03-12T15:00:04.042Z"
   },
   {
    "duration": 4,
    "start_time": "2022-03-12T15:00:04.146Z"
   },
   {
    "duration": 19897,
    "start_time": "2022-03-12T15:00:04.151Z"
   },
   {
    "duration": 765,
    "start_time": "2022-03-12T15:00:24.050Z"
   },
   {
    "duration": 23730,
    "start_time": "2022-03-12T15:00:24.817Z"
   },
   {
    "duration": 30413,
    "start_time": "2022-03-12T15:00:48.549Z"
   },
   {
    "duration": 1622,
    "start_time": "2022-03-13T12:14:55.298Z"
   },
   {
    "duration": 1030,
    "start_time": "2022-03-13T12:14:56.922Z"
   },
   {
    "duration": 159,
    "start_time": "2022-03-13T12:14:57.955Z"
   },
   {
    "duration": 132,
    "start_time": "2022-03-13T12:14:58.118Z"
   },
   {
    "duration": 56,
    "start_time": "2022-03-13T12:14:58.253Z"
   },
   {
    "duration": 46,
    "start_time": "2022-03-13T12:14:58.311Z"
   },
   {
    "duration": 66,
    "start_time": "2022-03-13T12:14:58.360Z"
   },
   {
    "duration": 51,
    "start_time": "2022-03-13T12:14:58.431Z"
   },
   {
    "duration": 109,
    "start_time": "2022-03-13T12:14:58.486Z"
   },
   {
    "duration": 140,
    "start_time": "2022-03-13T12:14:58.597Z"
   },
   {
    "duration": 57,
    "start_time": "2022-03-13T12:14:58.741Z"
   },
   {
    "duration": 143,
    "start_time": "2022-03-13T12:14:58.801Z"
   },
   {
    "duration": 51,
    "start_time": "2022-03-13T12:14:58.947Z"
   },
   {
    "duration": 139,
    "start_time": "2022-03-13T12:14:59.000Z"
   },
   {
    "duration": 47,
    "start_time": "2022-03-13T12:14:59.141Z"
   },
   {
    "duration": 29,
    "start_time": "2022-03-13T12:14:59.192Z"
   },
   {
    "duration": 64,
    "start_time": "2022-03-13T12:14:59.224Z"
   },
   {
    "duration": 445,
    "start_time": "2022-03-13T12:14:59.290Z"
   },
   {
    "duration": 63,
    "start_time": "2022-03-13T12:14:59.738Z"
   },
   {
    "duration": 18,
    "start_time": "2022-03-13T12:14:59.805Z"
   },
   {
    "duration": 18,
    "start_time": "2022-03-13T12:14:59.825Z"
   },
   {
    "duration": 61,
    "start_time": "2022-03-13T12:14:59.845Z"
   },
   {
    "duration": 181,
    "start_time": "2022-03-13T12:14:59.914Z"
   },
   {
    "duration": 104,
    "start_time": "2022-03-13T12:15:00.100Z"
   },
   {
    "duration": 162,
    "start_time": "2022-03-13T12:15:00.206Z"
   },
   {
    "duration": 280,
    "start_time": "2022-03-13T12:15:00.370Z"
   },
   {
    "duration": 41,
    "start_time": "2022-03-13T12:15:00.652Z"
   },
   {
    "duration": 2075,
    "start_time": "2022-03-13T12:15:00.696Z"
   },
   {
    "duration": 5,
    "start_time": "2022-03-13T12:15:02.781Z"
   },
   {
    "duration": 1253,
    "start_time": "2022-03-13T12:15:02.789Z"
   },
   {
    "duration": 82,
    "start_time": "2022-03-13T12:15:04.044Z"
   },
   {
    "duration": 192,
    "start_time": "2022-03-13T12:15:04.130Z"
   },
   {
    "duration": 4,
    "start_time": "2022-03-13T12:15:04.325Z"
   },
   {
    "duration": 294,
    "start_time": "2022-03-13T12:15:04.332Z"
   },
   {
    "duration": 281,
    "start_time": "2022-03-13T12:15:04.629Z"
   },
   {
    "duration": 269,
    "start_time": "2022-03-13T12:15:04.913Z"
   },
   {
    "duration": 5,
    "start_time": "2022-03-13T12:15:05.184Z"
   },
   {
    "duration": 27,
    "start_time": "2022-03-13T12:15:05.191Z"
   },
   {
    "duration": 10,
    "start_time": "2022-03-13T12:15:05.220Z"
   },
   {
    "duration": 15,
    "start_time": "2022-03-13T12:15:05.233Z"
   },
   {
    "duration": 9,
    "start_time": "2022-03-13T12:15:05.251Z"
   },
   {
    "duration": 159,
    "start_time": "2022-03-13T12:15:05.263Z"
   },
   {
    "duration": 6,
    "start_time": "2022-03-13T12:15:05.424Z"
   },
   {
    "duration": 31352,
    "start_time": "2022-03-13T12:15:05.433Z"
   },
   {
    "duration": 848,
    "start_time": "2022-03-13T12:15:36.788Z"
   },
   {
    "duration": 28944,
    "start_time": "2022-03-13T12:15:37.639Z"
   },
   {
    "duration": 52482,
    "start_time": "2022-03-13T12:17:55.802Z"
   },
   {
    "duration": 1178,
    "start_time": "2022-03-13T15:51:51.811Z"
   },
   {
    "duration": 763,
    "start_time": "2022-03-13T15:51:52.991Z"
   },
   {
    "duration": 124,
    "start_time": "2022-03-13T15:51:53.756Z"
   },
   {
    "duration": 104,
    "start_time": "2022-03-13T15:51:53.883Z"
   },
   {
    "duration": 29,
    "start_time": "2022-03-13T15:51:53.989Z"
   },
   {
    "duration": 49,
    "start_time": "2022-03-13T15:51:54.020Z"
   },
   {
    "duration": 32,
    "start_time": "2022-03-13T15:51:54.071Z"
   },
   {
    "duration": 20,
    "start_time": "2022-03-13T15:51:54.106Z"
   },
   {
    "duration": 101,
    "start_time": "2022-03-13T15:51:54.128Z"
   },
   {
    "duration": 112,
    "start_time": "2022-03-13T15:51:54.231Z"
   },
   {
    "duration": 40,
    "start_time": "2022-03-13T15:51:54.344Z"
   },
   {
    "duration": 109,
    "start_time": "2022-03-13T15:51:54.386Z"
   },
   {
    "duration": 34,
    "start_time": "2022-03-13T15:51:54.497Z"
   },
   {
    "duration": 107,
    "start_time": "2022-03-13T15:51:54.533Z"
   },
   {
    "duration": 44,
    "start_time": "2022-03-13T15:51:54.642Z"
   },
   {
    "duration": 24,
    "start_time": "2022-03-13T15:51:54.688Z"
   },
   {
    "duration": 53,
    "start_time": "2022-03-13T15:51:54.714Z"
   },
   {
    "duration": 293,
    "start_time": "2022-03-13T15:51:54.768Z"
   },
   {
    "duration": 21,
    "start_time": "2022-03-13T15:51:55.063Z"
   },
   {
    "duration": 10,
    "start_time": "2022-03-13T15:51:55.085Z"
   },
   {
    "duration": 11,
    "start_time": "2022-03-13T15:51:55.096Z"
   },
   {
    "duration": 16,
    "start_time": "2022-03-13T15:51:55.109Z"
   },
   {
    "duration": 120,
    "start_time": "2022-03-13T15:51:55.128Z"
   },
   {
    "duration": 83,
    "start_time": "2022-03-13T15:51:55.250Z"
   },
   {
    "duration": 127,
    "start_time": "2022-03-13T15:51:55.335Z"
   },
   {
    "duration": 202,
    "start_time": "2022-03-13T15:51:55.463Z"
   },
   {
    "duration": 22,
    "start_time": "2022-03-13T15:51:55.667Z"
   },
   {
    "duration": 1468,
    "start_time": "2022-03-13T15:51:55.690Z"
   },
   {
    "duration": 3,
    "start_time": "2022-03-13T15:51:57.160Z"
   },
   {
    "duration": 803,
    "start_time": "2022-03-13T15:51:57.165Z"
   },
   {
    "duration": 57,
    "start_time": "2022-03-13T15:51:57.970Z"
   },
   {
    "duration": 93,
    "start_time": "2022-03-13T15:51:58.028Z"
   },
   {
    "duration": 3,
    "start_time": "2022-03-13T15:51:58.123Z"
   },
   {
    "duration": 125,
    "start_time": "2022-03-13T15:51:58.128Z"
   },
   {
    "duration": 130,
    "start_time": "2022-03-13T15:51:58.255Z"
   },
   {
    "duration": 132,
    "start_time": "2022-03-13T15:51:58.387Z"
   },
   {
    "duration": 3,
    "start_time": "2022-03-13T15:51:58.521Z"
   },
   {
    "duration": 9,
    "start_time": "2022-03-13T15:51:58.525Z"
   },
   {
    "duration": 5,
    "start_time": "2022-03-13T15:51:58.535Z"
   },
   {
    "duration": 18,
    "start_time": "2022-03-13T15:51:58.541Z"
   },
   {
    "duration": 3,
    "start_time": "2022-03-13T15:51:58.561Z"
   },
   {
    "duration": 108,
    "start_time": "2022-03-13T15:51:58.566Z"
   },
   {
    "duration": 3,
    "start_time": "2022-03-13T15:51:58.676Z"
   },
   {
    "duration": 20692,
    "start_time": "2022-03-13T15:51:58.681Z"
   },
   {
    "duration": 728,
    "start_time": "2022-03-13T15:52:19.460Z"
   },
   {
    "duration": 24366,
    "start_time": "2022-03-13T15:52:20.189Z"
   },
   {
    "duration": 50520,
    "start_time": "2022-03-13T15:52:44.556Z"
   },
   {
    "duration": 20,
    "start_time": "2022-03-13T15:54:28.631Z"
   },
   {
    "duration": 38,
    "start_time": "2022-03-13T15:55:41.664Z"
   },
   {
    "duration": 34,
    "start_time": "2022-03-13T16:02:06.116Z"
   },
   {
    "duration": 33,
    "start_time": "2022-03-13T16:02:18.434Z"
   },
   {
    "duration": 1154,
    "start_time": "2022-03-13T16:57:18.465Z"
   },
   {
    "duration": 809,
    "start_time": "2022-03-13T16:57:19.621Z"
   },
   {
    "duration": 129,
    "start_time": "2022-03-13T16:57:20.432Z"
   },
   {
    "duration": 109,
    "start_time": "2022-03-13T16:57:20.563Z"
   },
   {
    "duration": 37,
    "start_time": "2022-03-13T16:57:20.673Z"
   },
   {
    "duration": 52,
    "start_time": "2022-03-13T16:57:20.711Z"
   },
   {
    "duration": 32,
    "start_time": "2022-03-13T16:57:20.764Z"
   },
   {
    "duration": 19,
    "start_time": "2022-03-13T16:57:20.798Z"
   },
   {
    "duration": 101,
    "start_time": "2022-03-13T16:57:20.820Z"
   },
   {
    "duration": 108,
    "start_time": "2022-03-13T16:57:20.923Z"
   },
   {
    "duration": 40,
    "start_time": "2022-03-13T16:57:21.032Z"
   },
   {
    "duration": 128,
    "start_time": "2022-03-13T16:57:21.073Z"
   },
   {
    "duration": 36,
    "start_time": "2022-03-13T16:57:21.203Z"
   },
   {
    "duration": 120,
    "start_time": "2022-03-13T16:57:21.242Z"
   },
   {
    "duration": 35,
    "start_time": "2022-03-13T16:57:21.364Z"
   },
   {
    "duration": 27,
    "start_time": "2022-03-13T16:57:21.402Z"
   },
   {
    "duration": 53,
    "start_time": "2022-03-13T16:57:21.431Z"
   },
   {
    "duration": 315,
    "start_time": "2022-03-13T16:57:21.485Z"
   },
   {
    "duration": 21,
    "start_time": "2022-03-13T16:57:21.802Z"
   },
   {
    "duration": 11,
    "start_time": "2022-03-13T16:57:21.825Z"
   },
   {
    "duration": 29,
    "start_time": "2022-03-13T16:57:21.837Z"
   },
   {
    "duration": 18,
    "start_time": "2022-03-13T16:57:21.868Z"
   },
   {
    "duration": 109,
    "start_time": "2022-03-13T16:57:21.887Z"
   },
   {
    "duration": 82,
    "start_time": "2022-03-13T16:57:21.998Z"
   },
   {
    "duration": 34,
    "start_time": "2022-03-13T16:57:22.082Z"
   },
   {
    "duration": 131,
    "start_time": "2022-03-13T16:57:22.118Z"
   },
   {
    "duration": 207,
    "start_time": "2022-03-13T16:57:22.253Z"
   },
   {
    "duration": 22,
    "start_time": "2022-03-13T16:57:22.462Z"
   },
   {
    "duration": 1525,
    "start_time": "2022-03-13T16:57:22.485Z"
   },
   {
    "duration": 3,
    "start_time": "2022-03-13T16:57:24.012Z"
   },
   {
    "duration": 807,
    "start_time": "2022-03-13T16:57:24.017Z"
   },
   {
    "duration": 61,
    "start_time": "2022-03-13T16:57:24.826Z"
   },
   {
    "duration": 85,
    "start_time": "2022-03-13T16:57:24.889Z"
   },
   {
    "duration": 4,
    "start_time": "2022-03-13T16:57:24.975Z"
   },
   {
    "duration": 131,
    "start_time": "2022-03-13T16:57:24.981Z"
   },
   {
    "duration": 124,
    "start_time": "2022-03-13T16:57:25.114Z"
   },
   {
    "duration": 126,
    "start_time": "2022-03-13T16:57:25.240Z"
   },
   {
    "duration": 5,
    "start_time": "2022-03-13T16:57:25.367Z"
   },
   {
    "duration": 7,
    "start_time": "2022-03-13T16:57:25.374Z"
   },
   {
    "duration": 5,
    "start_time": "2022-03-13T16:57:25.383Z"
   },
   {
    "duration": 12,
    "start_time": "2022-03-13T16:57:25.390Z"
   },
   {
    "duration": 10,
    "start_time": "2022-03-13T16:57:25.404Z"
   },
   {
    "duration": 6,
    "start_time": "2022-03-13T16:57:25.416Z"
   },
   {
    "duration": 120,
    "start_time": "2022-03-13T16:57:25.424Z"
   },
   {
    "duration": 4,
    "start_time": "2022-03-13T16:57:25.545Z"
   },
   {
    "duration": 19415,
    "start_time": "2022-03-13T16:57:25.551Z"
   },
   {
    "duration": 846,
    "start_time": "2022-03-13T16:57:44.969Z"
   },
   {
    "duration": 24440,
    "start_time": "2022-03-13T16:57:45.816Z"
   },
   {
    "duration": 53731,
    "start_time": "2022-03-13T16:58:10.258Z"
   },
   {
    "duration": 1666,
    "start_time": "2022-03-14T11:11:47.460Z"
   },
   {
    "duration": 1292,
    "start_time": "2022-03-14T11:11:49.129Z"
   },
   {
    "duration": 256,
    "start_time": "2022-03-14T11:11:50.424Z"
   },
   {
    "duration": 162,
    "start_time": "2022-03-14T11:11:50.683Z"
   },
   {
    "duration": 56,
    "start_time": "2022-03-14T11:11:50.847Z"
   },
   {
    "duration": 65,
    "start_time": "2022-03-14T11:11:50.906Z"
   },
   {
    "duration": 75,
    "start_time": "2022-03-14T11:11:50.974Z"
   },
   {
    "duration": 51,
    "start_time": "2022-03-14T11:11:51.053Z"
   },
   {
    "duration": 94,
    "start_time": "2022-03-14T11:11:51.107Z"
   },
   {
    "duration": 113,
    "start_time": "2022-03-14T11:11:51.203Z"
   },
   {
    "duration": 36,
    "start_time": "2022-03-14T11:11:51.319Z"
   },
   {
    "duration": 122,
    "start_time": "2022-03-14T11:11:51.358Z"
   },
   {
    "duration": 39,
    "start_time": "2022-03-14T11:11:51.481Z"
   },
   {
    "duration": 120,
    "start_time": "2022-03-14T11:11:51.522Z"
   },
   {
    "duration": 37,
    "start_time": "2022-03-14T11:11:51.645Z"
   },
   {
    "duration": 71,
    "start_time": "2022-03-14T11:11:51.684Z"
   },
   {
    "duration": 50,
    "start_time": "2022-03-14T11:11:51.757Z"
   },
   {
    "duration": 317,
    "start_time": "2022-03-14T11:11:51.809Z"
   },
   {
    "duration": 25,
    "start_time": "2022-03-14T11:11:52.128Z"
   },
   {
    "duration": 13,
    "start_time": "2022-03-14T11:11:52.154Z"
   },
   {
    "duration": 38,
    "start_time": "2022-03-14T11:11:52.169Z"
   },
   {
    "duration": 20,
    "start_time": "2022-03-14T11:11:52.209Z"
   },
   {
    "duration": 123,
    "start_time": "2022-03-14T11:11:52.233Z"
   },
   {
    "duration": 93,
    "start_time": "2022-03-14T11:11:52.358Z"
   },
   {
    "duration": 55,
    "start_time": "2022-03-14T11:11:52.452Z"
   },
   {
    "duration": 137,
    "start_time": "2022-03-14T11:11:52.509Z"
   },
   {
    "duration": 234,
    "start_time": "2022-03-14T11:11:52.648Z"
   },
   {
    "duration": 46,
    "start_time": "2022-03-14T11:11:52.884Z"
   },
   {
    "duration": 1797,
    "start_time": "2022-03-14T11:11:52.932Z"
   },
   {
    "duration": 4,
    "start_time": "2022-03-14T11:11:54.731Z"
   },
   {
    "duration": 907,
    "start_time": "2022-03-14T11:11:54.737Z"
   },
   {
    "duration": 72,
    "start_time": "2022-03-14T11:11:55.646Z"
   },
   {
    "duration": 93,
    "start_time": "2022-03-14T11:11:55.720Z"
   },
   {
    "duration": 3,
    "start_time": "2022-03-14T11:11:55.815Z"
   },
   {
    "duration": 180,
    "start_time": "2022-03-14T11:11:55.820Z"
   },
   {
    "duration": 136,
    "start_time": "2022-03-14T11:11:56.002Z"
   },
   {
    "duration": 136,
    "start_time": "2022-03-14T11:11:56.140Z"
   },
   {
    "duration": 4,
    "start_time": "2022-03-14T11:11:56.279Z"
   },
   {
    "duration": 19,
    "start_time": "2022-03-14T11:11:56.285Z"
   },
   {
    "duration": 26,
    "start_time": "2022-03-14T11:11:56.306Z"
   },
   {
    "duration": 46,
    "start_time": "2022-03-14T11:11:56.334Z"
   },
   {
    "duration": 31,
    "start_time": "2022-03-14T11:11:56.383Z"
   },
   {
    "duration": 25,
    "start_time": "2022-03-14T11:11:56.416Z"
   },
   {
    "duration": 191,
    "start_time": "2022-03-14T11:11:56.444Z"
   },
   {
    "duration": 4,
    "start_time": "2022-03-14T11:11:56.637Z"
   },
   {
    "duration": 28863,
    "start_time": "2022-03-14T11:11:56.643Z"
   },
   {
    "duration": 770,
    "start_time": "2022-03-14T11:12:25.509Z"
   },
   {
    "duration": 29183,
    "start_time": "2022-03-14T11:12:26.281Z"
   },
   {
    "duration": 1650,
    "start_time": "2022-03-14T11:17:04.743Z"
   },
   {
    "duration": 906,
    "start_time": "2022-03-14T11:17:06.395Z"
   },
   {
    "duration": 140,
    "start_time": "2022-03-14T11:17:07.303Z"
   },
   {
    "duration": 125,
    "start_time": "2022-03-14T11:17:07.446Z"
   },
   {
    "duration": 44,
    "start_time": "2022-03-14T11:17:07.573Z"
   },
   {
    "duration": 38,
    "start_time": "2022-03-14T11:17:07.619Z"
   },
   {
    "duration": 58,
    "start_time": "2022-03-14T11:17:07.659Z"
   },
   {
    "duration": 36,
    "start_time": "2022-03-14T11:17:07.721Z"
   },
   {
    "duration": 108,
    "start_time": "2022-03-14T11:17:07.759Z"
   },
   {
    "duration": 113,
    "start_time": "2022-03-14T11:17:07.870Z"
   },
   {
    "duration": 46,
    "start_time": "2022-03-14T11:17:07.986Z"
   },
   {
    "duration": 220,
    "start_time": "2022-03-14T11:17:08.035Z"
   },
   {
    "duration": 71,
    "start_time": "2022-03-14T11:17:08.257Z"
   },
   {
    "duration": 198,
    "start_time": "2022-03-14T11:17:08.330Z"
   },
   {
    "duration": 36,
    "start_time": "2022-03-14T11:17:08.531Z"
   },
   {
    "duration": 40,
    "start_time": "2022-03-14T11:17:08.569Z"
   },
   {
    "duration": 39,
    "start_time": "2022-03-14T11:17:08.611Z"
   },
   {
    "duration": 316,
    "start_time": "2022-03-14T11:17:08.652Z"
   },
   {
    "duration": 32,
    "start_time": "2022-03-14T11:17:08.970Z"
   },
   {
    "duration": 13,
    "start_time": "2022-03-14T11:17:09.005Z"
   },
   {
    "duration": 18,
    "start_time": "2022-03-14T11:17:09.020Z"
   },
   {
    "duration": 22,
    "start_time": "2022-03-14T11:17:09.040Z"
   },
   {
    "duration": 122,
    "start_time": "2022-03-14T11:17:09.066Z"
   },
   {
    "duration": 86,
    "start_time": "2022-03-14T11:17:09.190Z"
   },
   {
    "duration": 55,
    "start_time": "2022-03-14T11:17:09.278Z"
   },
   {
    "duration": 121,
    "start_time": "2022-03-14T11:17:09.335Z"
   },
   {
    "duration": 211,
    "start_time": "2022-03-14T11:17:09.458Z"
   },
   {
    "duration": 37,
    "start_time": "2022-03-14T11:17:09.671Z"
   },
   {
    "duration": 1852,
    "start_time": "2022-03-14T11:17:09.710Z"
   },
   {
    "duration": 5,
    "start_time": "2022-03-14T11:17:11.564Z"
   },
   {
    "duration": 811,
    "start_time": "2022-03-14T11:17:11.571Z"
   },
   {
    "duration": 66,
    "start_time": "2022-03-14T11:17:12.384Z"
   },
   {
    "duration": 104,
    "start_time": "2022-03-14T11:17:12.452Z"
   },
   {
    "duration": 4,
    "start_time": "2022-03-14T11:17:12.558Z"
   },
   {
    "duration": 143,
    "start_time": "2022-03-14T11:17:12.563Z"
   },
   {
    "duration": 143,
    "start_time": "2022-03-14T11:17:12.708Z"
   },
   {
    "duration": 142,
    "start_time": "2022-03-14T11:17:12.853Z"
   },
   {
    "duration": 6,
    "start_time": "2022-03-14T11:17:12.997Z"
   },
   {
    "duration": 7,
    "start_time": "2022-03-14T11:17:13.005Z"
   },
   {
    "duration": 10,
    "start_time": "2022-03-14T11:17:13.014Z"
   },
   {
    "duration": 10,
    "start_time": "2022-03-14T11:17:13.026Z"
   },
   {
    "duration": 11,
    "start_time": "2022-03-14T11:17:13.038Z"
   },
   {
    "duration": 4,
    "start_time": "2022-03-14T11:17:13.052Z"
   },
   {
    "duration": 139,
    "start_time": "2022-03-14T11:17:13.058Z"
   },
   {
    "duration": 4,
    "start_time": "2022-03-14T11:17:13.202Z"
   },
   {
    "duration": 26293,
    "start_time": "2022-03-14T11:17:13.208Z"
   },
   {
    "duration": 843,
    "start_time": "2022-03-14T11:17:39.504Z"
   },
   {
    "duration": 28652,
    "start_time": "2022-03-14T11:17:40.349Z"
   },
   {
    "duration": 1183,
    "start_time": "2022-03-14T16:31:06.186Z"
   },
   {
    "duration": 787,
    "start_time": "2022-03-14T16:31:07.371Z"
   },
   {
    "duration": 117,
    "start_time": "2022-03-14T16:31:08.160Z"
   },
   {
    "duration": 112,
    "start_time": "2022-03-14T16:31:08.281Z"
   },
   {
    "duration": 43,
    "start_time": "2022-03-14T16:31:08.395Z"
   },
   {
    "duration": 33,
    "start_time": "2022-03-14T16:31:08.440Z"
   },
   {
    "duration": 33,
    "start_time": "2022-03-14T16:31:08.475Z"
   },
   {
    "duration": 35,
    "start_time": "2022-03-14T16:31:08.511Z"
   },
   {
    "duration": 77,
    "start_time": "2022-03-14T16:31:08.548Z"
   },
   {
    "duration": 103,
    "start_time": "2022-03-14T16:31:08.638Z"
   },
   {
    "duration": 34,
    "start_time": "2022-03-14T16:31:08.743Z"
   },
   {
    "duration": 108,
    "start_time": "2022-03-14T16:31:08.779Z"
   },
   {
    "duration": 32,
    "start_time": "2022-03-14T16:31:08.889Z"
   },
   {
    "duration": 114,
    "start_time": "2022-03-14T16:31:08.923Z"
   },
   {
    "duration": 32,
    "start_time": "2022-03-14T16:31:09.039Z"
   },
   {
    "duration": 21,
    "start_time": "2022-03-14T16:31:09.073Z"
   },
   {
    "duration": 46,
    "start_time": "2022-03-14T16:31:09.095Z"
   },
   {
    "duration": 290,
    "start_time": "2022-03-14T16:31:09.143Z"
   },
   {
    "duration": 22,
    "start_time": "2022-03-14T16:31:09.437Z"
   },
   {
    "duration": 10,
    "start_time": "2022-03-14T16:31:09.461Z"
   },
   {
    "duration": 11,
    "start_time": "2022-03-14T16:31:09.473Z"
   },
   {
    "duration": 17,
    "start_time": "2022-03-14T16:31:09.485Z"
   },
   {
    "duration": 117,
    "start_time": "2022-03-14T16:31:09.505Z"
   },
   {
    "duration": 87,
    "start_time": "2022-03-14T16:31:09.624Z"
   },
   {
    "duration": 45,
    "start_time": "2022-03-14T16:31:09.713Z"
   },
   {
    "duration": 116,
    "start_time": "2022-03-14T16:31:09.760Z"
   },
   {
    "duration": 198,
    "start_time": "2022-03-14T16:31:09.878Z"
   },
   {
    "duration": 21,
    "start_time": "2022-03-14T16:31:10.078Z"
   },
   {
    "duration": 1624,
    "start_time": "2022-03-14T16:31:10.101Z"
   },
   {
    "duration": 4,
    "start_time": "2022-03-14T16:31:11.727Z"
   },
   {
    "duration": 807,
    "start_time": "2022-03-14T16:31:11.737Z"
   },
   {
    "duration": 64,
    "start_time": "2022-03-14T16:31:12.546Z"
   },
   {
    "duration": 95,
    "start_time": "2022-03-14T16:31:12.612Z"
   },
   {
    "duration": 3,
    "start_time": "2022-03-14T16:31:12.709Z"
   },
   {
    "duration": 128,
    "start_time": "2022-03-14T16:31:12.714Z"
   },
   {
    "duration": 128,
    "start_time": "2022-03-14T16:31:12.843Z"
   },
   {
    "duration": 124,
    "start_time": "2022-03-14T16:31:12.972Z"
   },
   {
    "duration": 3,
    "start_time": "2022-03-14T16:31:13.098Z"
   },
   {
    "duration": 6,
    "start_time": "2022-03-14T16:31:13.103Z"
   },
   {
    "duration": 8,
    "start_time": "2022-03-14T16:31:13.110Z"
   },
   {
    "duration": 18,
    "start_time": "2022-03-14T16:31:13.119Z"
   },
   {
    "duration": 3,
    "start_time": "2022-03-14T16:31:13.139Z"
   },
   {
    "duration": 6,
    "start_time": "2022-03-14T16:31:13.143Z"
   },
   {
    "duration": 108,
    "start_time": "2022-03-14T16:31:13.151Z"
   },
   {
    "duration": 3,
    "start_time": "2022-03-14T16:31:13.261Z"
   },
   {
    "duration": 23078,
    "start_time": "2022-03-14T16:31:13.266Z"
   },
   {
    "duration": 658,
    "start_time": "2022-03-14T16:31:36.438Z"
   },
   {
    "duration": 23554,
    "start_time": "2022-03-14T16:31:37.098Z"
   },
   {
    "duration": 32606,
    "start_time": "2022-03-14T16:32:00.654Z"
   },
   {
    "duration": 219,
    "start_time": "2022-03-14T16:40:32.256Z"
   },
   {
    "duration": 1293,
    "start_time": "2022-03-14T16:40:40.963Z"
   },
   {
    "duration": 847,
    "start_time": "2022-03-14T16:40:42.258Z"
   },
   {
    "duration": 127,
    "start_time": "2022-03-14T16:40:43.107Z"
   },
   {
    "duration": 107,
    "start_time": "2022-03-14T16:40:43.238Z"
   },
   {
    "duration": 36,
    "start_time": "2022-03-14T16:40:43.347Z"
   },
   {
    "duration": 35,
    "start_time": "2022-03-14T16:40:43.384Z"
   },
   {
    "duration": 47,
    "start_time": "2022-03-14T16:40:43.421Z"
   },
   {
    "duration": 20,
    "start_time": "2022-03-14T16:40:43.470Z"
   },
   {
    "duration": 94,
    "start_time": "2022-03-14T16:40:43.492Z"
   },
   {
    "duration": 102,
    "start_time": "2022-03-14T16:40:43.588Z"
   },
   {
    "duration": 31,
    "start_time": "2022-03-14T16:40:43.692Z"
   },
   {
    "duration": 102,
    "start_time": "2022-03-14T16:40:43.725Z"
   },
   {
    "duration": 32,
    "start_time": "2022-03-14T16:40:43.837Z"
   },
   {
    "duration": 101,
    "start_time": "2022-03-14T16:40:43.871Z"
   },
   {
    "duration": 32,
    "start_time": "2022-03-14T16:40:43.974Z"
   },
   {
    "duration": 34,
    "start_time": "2022-03-14T16:40:44.008Z"
   },
   {
    "duration": 32,
    "start_time": "2022-03-14T16:40:44.044Z"
   },
   {
    "duration": 292,
    "start_time": "2022-03-14T16:40:44.078Z"
   },
   {
    "duration": 21,
    "start_time": "2022-03-14T16:40:44.372Z"
   },
   {
    "duration": 11,
    "start_time": "2022-03-14T16:40:44.395Z"
   },
   {
    "duration": 30,
    "start_time": "2022-03-14T16:40:44.408Z"
   },
   {
    "duration": 19,
    "start_time": "2022-03-14T16:40:44.440Z"
   },
   {
    "duration": 109,
    "start_time": "2022-03-14T16:40:44.462Z"
   },
   {
    "duration": 75,
    "start_time": "2022-03-14T16:40:44.573Z"
   },
   {
    "duration": 32,
    "start_time": "2022-03-14T16:40:44.650Z"
   },
   {
    "duration": 62,
    "start_time": "2022-03-14T16:40:44.684Z"
   },
   {
    "duration": 118,
    "start_time": "2022-03-14T16:40:44.748Z"
   },
   {
    "duration": 203,
    "start_time": "2022-03-14T16:40:44.867Z"
   },
   {
    "duration": 23,
    "start_time": "2022-03-14T16:40:45.072Z"
   },
   {
    "duration": 1630,
    "start_time": "2022-03-14T16:40:45.097Z"
   },
   {
    "duration": 9,
    "start_time": "2022-03-14T16:40:46.729Z"
   },
   {
    "duration": 808,
    "start_time": "2022-03-14T16:40:46.740Z"
   },
   {
    "duration": 64,
    "start_time": "2022-03-14T16:40:47.550Z"
   },
   {
    "duration": 98,
    "start_time": "2022-03-14T16:40:47.615Z"
   },
   {
    "duration": 4,
    "start_time": "2022-03-14T16:40:47.715Z"
   },
   {
    "duration": 153,
    "start_time": "2022-03-14T16:40:47.720Z"
   },
   {
    "duration": 137,
    "start_time": "2022-03-14T16:40:47.875Z"
   },
   {
    "duration": 136,
    "start_time": "2022-03-14T16:40:48.014Z"
   },
   {
    "duration": 5,
    "start_time": "2022-03-14T16:40:48.151Z"
   },
   {
    "duration": 5,
    "start_time": "2022-03-14T16:40:48.158Z"
   },
   {
    "duration": 6,
    "start_time": "2022-03-14T16:40:48.165Z"
   },
   {
    "duration": 13,
    "start_time": "2022-03-14T16:40:48.173Z"
   },
   {
    "duration": 19,
    "start_time": "2022-03-14T16:40:48.188Z"
   },
   {
    "duration": 12,
    "start_time": "2022-03-14T16:40:48.209Z"
   },
   {
    "duration": 106,
    "start_time": "2022-03-14T16:40:48.223Z"
   },
   {
    "duration": 9,
    "start_time": "2022-03-14T16:40:48.331Z"
   },
   {
    "duration": 23512,
    "start_time": "2022-03-14T16:40:48.342Z"
   },
   {
    "duration": 717,
    "start_time": "2022-03-14T16:41:11.939Z"
   },
   {
    "duration": 24792,
    "start_time": "2022-03-14T16:41:12.658Z"
   },
   {
    "duration": 37011,
    "start_time": "2022-03-14T16:41:37.453Z"
   },
   {
    "duration": 288,
    "start_time": "2022-03-14T16:42:50.158Z"
   },
   {
    "duration": 211,
    "start_time": "2022-03-14T16:42:59.380Z"
   },
   {
    "duration": 5,
    "start_time": "2022-03-14T16:43:08.305Z"
   },
   {
    "duration": 809,
    "start_time": "2022-03-14T16:43:08.314Z"
   },
   {
    "duration": 136,
    "start_time": "2022-03-14T16:43:09.125Z"
   },
   {
    "duration": 110,
    "start_time": "2022-03-14T16:43:09.263Z"
   },
   {
    "duration": 27,
    "start_time": "2022-03-14T16:43:09.375Z"
   },
   {
    "duration": 53,
    "start_time": "2022-03-14T16:43:09.404Z"
   },
   {
    "duration": 34,
    "start_time": "2022-03-14T16:43:09.459Z"
   },
   {
    "duration": 19,
    "start_time": "2022-03-14T16:43:09.495Z"
   },
   {
    "duration": 96,
    "start_time": "2022-03-14T16:43:09.517Z"
   },
   {
    "duration": 107,
    "start_time": "2022-03-14T16:43:09.616Z"
   },
   {
    "duration": 43,
    "start_time": "2022-03-14T16:43:09.725Z"
   },
   {
    "duration": 106,
    "start_time": "2022-03-14T16:43:09.770Z"
   },
   {
    "duration": 33,
    "start_time": "2022-03-14T16:43:09.878Z"
   },
   {
    "duration": 108,
    "start_time": "2022-03-14T16:43:09.912Z"
   },
   {
    "duration": 39,
    "start_time": "2022-03-14T16:43:10.022Z"
   },
   {
    "duration": 25,
    "start_time": "2022-03-14T16:43:10.062Z"
   },
   {
    "duration": 48,
    "start_time": "2022-03-14T16:43:10.089Z"
   },
   {
    "duration": 292,
    "start_time": "2022-03-14T16:43:10.139Z"
   },
   {
    "duration": 23,
    "start_time": "2022-03-14T16:43:10.437Z"
   },
   {
    "duration": 11,
    "start_time": "2022-03-14T16:43:10.462Z"
   },
   {
    "duration": 14,
    "start_time": "2022-03-14T16:43:10.475Z"
   },
   {
    "duration": 47,
    "start_time": "2022-03-14T16:43:10.491Z"
   },
   {
    "duration": 87,
    "start_time": "2022-03-14T16:43:10.540Z"
   },
   {
    "duration": 77,
    "start_time": "2022-03-14T16:43:10.631Z"
   },
   {
    "duration": 51,
    "start_time": "2022-03-14T16:43:10.710Z"
   },
   {
    "duration": 229,
    "start_time": "2022-03-14T16:43:10.763Z"
   },
   {
    "duration": -927,
    "start_time": "2022-03-14T16:43:11.921Z"
   },
   {
    "duration": -1030,
    "start_time": "2022-03-14T16:43:12.025Z"
   },
   {
    "duration": -1122,
    "start_time": "2022-03-14T16:43:12.118Z"
   },
   {
    "duration": -1203,
    "start_time": "2022-03-14T16:43:12.200Z"
   },
   {
    "duration": -1215,
    "start_time": "2022-03-14T16:43:12.213Z"
   },
   {
    "duration": -1228,
    "start_time": "2022-03-14T16:43:12.227Z"
   },
   {
    "duration": -1247,
    "start_time": "2022-03-14T16:43:12.247Z"
   },
   {
    "duration": -1259,
    "start_time": "2022-03-14T16:43:12.260Z"
   },
   {
    "duration": -1304,
    "start_time": "2022-03-14T16:43:12.306Z"
   },
   {
    "duration": -1318,
    "start_time": "2022-03-14T16:43:12.321Z"
   },
   {
    "duration": -1332,
    "start_time": "2022-03-14T16:43:12.336Z"
   },
   {
    "duration": -1345,
    "start_time": "2022-03-14T16:43:12.350Z"
   },
   {
    "duration": -1486,
    "start_time": "2022-03-14T16:43:12.492Z"
   },
   {
    "duration": -1597,
    "start_time": "2022-03-14T16:43:12.604Z"
   },
   {
    "duration": -1630,
    "start_time": "2022-03-14T16:43:12.638Z"
   },
   {
    "duration": -1642,
    "start_time": "2022-03-14T16:43:12.651Z"
   },
   {
    "duration": -1653,
    "start_time": "2022-03-14T16:43:12.663Z"
   },
   {
    "duration": -1674,
    "start_time": "2022-03-14T16:43:12.685Z"
   },
   {
    "duration": -1729,
    "start_time": "2022-03-14T16:43:12.741Z"
   },
   {
    "duration": -1741,
    "start_time": "2022-03-14T16:43:12.755Z"
   },
   {
    "duration": -1753,
    "start_time": "2022-03-14T16:43:12.768Z"
   },
   {
    "duration": -1789,
    "start_time": "2022-03-14T16:43:12.806Z"
   },
   {
    "duration": -1801,
    "start_time": "2022-03-14T16:43:12.819Z"
   },
   {
    "duration": -1854,
    "start_time": "2022-03-14T16:43:12.873Z"
   },
   {
    "duration": 4,
    "start_time": "2022-03-14T16:43:36.150Z"
   },
   {
    "duration": 803,
    "start_time": "2022-03-14T16:43:36.160Z"
   },
   {
    "duration": 120,
    "start_time": "2022-03-14T16:43:36.964Z"
   },
   {
    "duration": 107,
    "start_time": "2022-03-14T16:43:37.086Z"
   },
   {
    "duration": 24,
    "start_time": "2022-03-14T16:43:37.195Z"
   },
   {
    "duration": 43,
    "start_time": "2022-03-14T16:43:37.221Z"
   },
   {
    "duration": 36,
    "start_time": "2022-03-14T16:43:37.266Z"
   },
   {
    "duration": 36,
    "start_time": "2022-03-14T16:43:37.303Z"
   },
   {
    "duration": 77,
    "start_time": "2022-03-14T16:43:37.341Z"
   },
   {
    "duration": 108,
    "start_time": "2022-03-14T16:43:37.420Z"
   },
   {
    "duration": 32,
    "start_time": "2022-03-14T16:43:37.538Z"
   },
   {
    "duration": 104,
    "start_time": "2022-03-14T16:43:37.572Z"
   },
   {
    "duration": 33,
    "start_time": "2022-03-14T16:43:37.678Z"
   },
   {
    "duration": 101,
    "start_time": "2022-03-14T16:43:37.713Z"
   },
   {
    "duration": 37,
    "start_time": "2022-03-14T16:43:37.815Z"
   },
   {
    "duration": 24,
    "start_time": "2022-03-14T16:43:37.854Z"
   },
   {
    "duration": 33,
    "start_time": "2022-03-14T16:43:37.880Z"
   },
   {
    "duration": 287,
    "start_time": "2022-03-14T16:43:37.915Z"
   },
   {
    "duration": 22,
    "start_time": "2022-03-14T16:43:38.204Z"
   },
   {
    "duration": 21,
    "start_time": "2022-03-14T16:43:38.227Z"
   },
   {
    "duration": 12,
    "start_time": "2022-03-14T16:43:38.250Z"
   },
   {
    "duration": 18,
    "start_time": "2022-03-14T16:43:38.264Z"
   },
   {
    "duration": 114,
    "start_time": "2022-03-14T16:43:38.284Z"
   },
   {
    "duration": 77,
    "start_time": "2022-03-14T16:43:38.402Z"
   },
   {
    "duration": 33,
    "start_time": "2022-03-14T16:43:38.481Z"
   },
   {
    "duration": 261,
    "start_time": "2022-03-14T16:43:38.515Z"
   },
   {
    "duration": 18,
    "start_time": "2022-03-14T16:43:38.760Z"
   },
   {
    "duration": -63,
    "start_time": "2022-03-14T16:43:38.841Z"
   },
   {
    "duration": -111,
    "start_time": "2022-03-14T16:43:38.890Z"
   },
   {
    "duration": -174,
    "start_time": "2022-03-14T16:43:38.954Z"
   },
   {
    "duration": -184,
    "start_time": "2022-03-14T16:43:38.965Z"
   },
   {
    "duration": -210,
    "start_time": "2022-03-14T16:43:38.992Z"
   },
   {
    "duration": -234,
    "start_time": "2022-03-14T16:43:39.018Z"
   },
   {
    "duration": -244,
    "start_time": "2022-03-14T16:43:39.029Z"
   },
   {
    "duration": -268,
    "start_time": "2022-03-14T16:43:39.054Z"
   },
   {
    "duration": -281,
    "start_time": "2022-03-14T16:43:39.068Z"
   },
   {
    "duration": -299,
    "start_time": "2022-03-14T16:43:39.087Z"
   },
   {
    "duration": -311,
    "start_time": "2022-03-14T16:43:39.100Z"
   },
   {
    "duration": -465,
    "start_time": "2022-03-14T16:43:39.255Z"
   },
   {
    "duration": -479,
    "start_time": "2022-03-14T16:43:39.270Z"
   },
   {
    "duration": -514,
    "start_time": "2022-03-14T16:43:39.306Z"
   },
   {
    "duration": -530,
    "start_time": "2022-03-14T16:43:39.323Z"
   },
   {
    "duration": -544,
    "start_time": "2022-03-14T16:43:39.338Z"
   },
   {
    "duration": -558,
    "start_time": "2022-03-14T16:43:39.353Z"
   },
   {
    "duration": -573,
    "start_time": "2022-03-14T16:43:39.369Z"
   },
   {
    "duration": -589,
    "start_time": "2022-03-14T16:43:39.386Z"
   },
   {
    "duration": -628,
    "start_time": "2022-03-14T16:43:39.426Z"
   },
   {
    "duration": -641,
    "start_time": "2022-03-14T16:43:39.440Z"
   },
   {
    "duration": -654,
    "start_time": "2022-03-14T16:43:39.454Z"
   },
   {
    "duration": -670,
    "start_time": "2022-03-14T16:43:39.471Z"
   },
   {
    "duration": 1201,
    "start_time": "2022-03-14T16:44:17.072Z"
   },
   {
    "duration": 841,
    "start_time": "2022-03-14T16:44:18.275Z"
   },
   {
    "duration": 128,
    "start_time": "2022-03-14T16:44:19.119Z"
   },
   {
    "duration": 108,
    "start_time": "2022-03-14T16:44:19.260Z"
   },
   {
    "duration": 36,
    "start_time": "2022-03-14T16:44:19.370Z"
   },
   {
    "duration": 46,
    "start_time": "2022-03-14T16:44:19.408Z"
   },
   {
    "duration": 35,
    "start_time": "2022-03-14T16:44:19.456Z"
   },
   {
    "duration": 19,
    "start_time": "2022-03-14T16:44:19.494Z"
   },
   {
    "duration": 95,
    "start_time": "2022-03-14T16:44:19.516Z"
   },
   {
    "duration": 103,
    "start_time": "2022-03-14T16:44:19.613Z"
   },
   {
    "duration": 42,
    "start_time": "2022-03-14T16:44:19.718Z"
   },
   {
    "duration": 103,
    "start_time": "2022-03-14T16:44:19.762Z"
   },
   {
    "duration": 33,
    "start_time": "2022-03-14T16:44:19.867Z"
   },
   {
    "duration": 116,
    "start_time": "2022-03-14T16:44:19.902Z"
   },
   {
    "duration": 39,
    "start_time": "2022-03-14T16:44:20.020Z"
   },
   {
    "duration": 22,
    "start_time": "2022-03-14T16:44:20.060Z"
   },
   {
    "duration": 55,
    "start_time": "2022-03-14T16:44:20.084Z"
   },
   {
    "duration": 305,
    "start_time": "2022-03-14T16:44:20.140Z"
   },
   {
    "duration": 35,
    "start_time": "2022-03-14T16:44:20.447Z"
   },
   {
    "duration": 12,
    "start_time": "2022-03-14T16:44:20.483Z"
   },
   {
    "duration": 12,
    "start_time": "2022-03-14T16:44:20.497Z"
   },
   {
    "duration": 41,
    "start_time": "2022-03-14T16:44:20.511Z"
   },
   {
    "duration": 124,
    "start_time": "2022-03-14T16:44:20.556Z"
   },
   {
    "duration": 76,
    "start_time": "2022-03-14T16:44:20.683Z"
   },
   {
    "duration": 34,
    "start_time": "2022-03-14T16:44:20.761Z"
   },
   {
    "duration": 417,
    "start_time": "2022-03-14T16:44:20.797Z"
   },
   {
    "duration": -849,
    "start_time": "2022-03-14T16:44:22.065Z"
   },
   {
    "duration": -864,
    "start_time": "2022-03-14T16:44:22.081Z"
   },
   {
    "duration": -880,
    "start_time": "2022-03-14T16:44:22.098Z"
   },
   {
    "duration": -894,
    "start_time": "2022-03-14T16:44:22.113Z"
   },
   {
    "duration": -909,
    "start_time": "2022-03-14T16:44:22.129Z"
   },
   {
    "duration": -948,
    "start_time": "2022-03-14T16:44:22.169Z"
   },
   {
    "duration": -960,
    "start_time": "2022-03-14T16:44:22.182Z"
   },
   {
    "duration": -971,
    "start_time": "2022-03-14T16:44:22.194Z"
   },
   {
    "duration": -986,
    "start_time": "2022-03-14T16:44:22.210Z"
   },
   {
    "duration": -999,
    "start_time": "2022-03-14T16:44:22.224Z"
   },
   {
    "duration": -1016,
    "start_time": "2022-03-14T16:44:22.242Z"
   },
   {
    "duration": -1032,
    "start_time": "2022-03-14T16:44:22.259Z"
   },
   {
    "duration": -1070,
    "start_time": "2022-03-14T16:44:22.298Z"
   },
   {
    "duration": -1083,
    "start_time": "2022-03-14T16:44:22.312Z"
   },
   {
    "duration": -1096,
    "start_time": "2022-03-14T16:44:22.326Z"
   },
   {
    "duration": -1140,
    "start_time": "2022-03-14T16:44:22.371Z"
   },
   {
    "duration": -1158,
    "start_time": "2022-03-14T16:44:22.390Z"
   },
   {
    "duration": -1188,
    "start_time": "2022-03-14T16:44:22.421Z"
   },
   {
    "duration": -1207,
    "start_time": "2022-03-14T16:44:22.441Z"
   },
   {
    "duration": -1217,
    "start_time": "2022-03-14T16:44:22.453Z"
   },
   {
    "duration": -1230,
    "start_time": "2022-03-14T16:44:22.467Z"
   },
   {
    "duration": -1257,
    "start_time": "2022-03-14T16:44:22.495Z"
   },
   {
    "duration": -1271,
    "start_time": "2022-03-14T16:44:22.510Z"
   },
   {
    "duration": -1312,
    "start_time": "2022-03-14T16:44:22.552Z"
   },
   {
    "duration": 1305,
    "start_time": "2022-03-14T16:44:53.962Z"
   },
   {
    "duration": 871,
    "start_time": "2022-03-14T16:44:55.269Z"
   },
   {
    "duration": 130,
    "start_time": "2022-03-14T16:44:56.142Z"
   },
   {
    "duration": 113,
    "start_time": "2022-03-14T16:44:56.275Z"
   },
   {
    "duration": 49,
    "start_time": "2022-03-14T16:44:56.390Z"
   },
   {
    "duration": 35,
    "start_time": "2022-03-14T16:44:56.440Z"
   },
   {
    "duration": 36,
    "start_time": "2022-03-14T16:44:56.477Z"
   },
   {
    "duration": 32,
    "start_time": "2022-03-14T16:44:56.515Z"
   },
   {
    "duration": 91,
    "start_time": "2022-03-14T16:44:56.549Z"
   },
   {
    "duration": 101,
    "start_time": "2022-03-14T16:44:56.642Z"
   },
   {
    "duration": 34,
    "start_time": "2022-03-14T16:44:56.745Z"
   },
   {
    "duration": 111,
    "start_time": "2022-03-14T16:44:56.781Z"
   },
   {
    "duration": 43,
    "start_time": "2022-03-14T16:44:56.894Z"
   },
   {
    "duration": 98,
    "start_time": "2022-03-14T16:44:56.939Z"
   },
   {
    "duration": 30,
    "start_time": "2022-03-14T16:44:57.039Z"
   },
   {
    "duration": 21,
    "start_time": "2022-03-14T16:44:57.071Z"
   },
   {
    "duration": 50,
    "start_time": "2022-03-14T16:44:57.094Z"
   },
   {
    "duration": 280,
    "start_time": "2022-03-14T16:44:57.146Z"
   },
   {
    "duration": 29,
    "start_time": "2022-03-14T16:44:57.428Z"
   },
   {
    "duration": 12,
    "start_time": "2022-03-14T16:44:57.459Z"
   },
   {
    "duration": 13,
    "start_time": "2022-03-14T16:44:57.472Z"
   },
   {
    "duration": 20,
    "start_time": "2022-03-14T16:44:57.486Z"
   },
   {
    "duration": 128,
    "start_time": "2022-03-14T16:44:57.510Z"
   },
   {
    "duration": 73,
    "start_time": "2022-03-14T16:44:57.640Z"
   },
   {
    "duration": 47,
    "start_time": "2022-03-14T16:44:57.715Z"
   },
   {
    "duration": 40,
    "start_time": "2022-03-14T16:44:57.764Z"
   },
   {
    "duration": 127,
    "start_time": "2022-03-14T16:44:57.806Z"
   },
   {
    "duration": 191,
    "start_time": "2022-03-14T16:44:57.935Z"
   },
   {
    "duration": 25,
    "start_time": "2022-03-14T16:44:58.128Z"
   },
   {
    "duration": 1559,
    "start_time": "2022-03-14T16:44:58.154Z"
   },
   {
    "duration": 3,
    "start_time": "2022-03-14T16:44:59.714Z"
   },
   {
    "duration": 845,
    "start_time": "2022-03-14T16:44:59.719Z"
   },
   {
    "duration": 72,
    "start_time": "2022-03-14T16:45:00.566Z"
   },
   {
    "duration": 104,
    "start_time": "2022-03-14T16:45:00.639Z"
   },
   {
    "duration": 3,
    "start_time": "2022-03-14T16:45:00.745Z"
   },
   {
    "duration": 149,
    "start_time": "2022-03-14T16:45:00.750Z"
   },
   {
    "duration": 136,
    "start_time": "2022-03-14T16:45:00.901Z"
   },
   {
    "duration": 137,
    "start_time": "2022-03-14T16:45:01.039Z"
   },
   {
    "duration": 5,
    "start_time": "2022-03-14T16:45:01.178Z"
   },
   {
    "duration": 22,
    "start_time": "2022-03-14T16:45:01.184Z"
   },
   {
    "duration": 15,
    "start_time": "2022-03-14T16:45:01.209Z"
   },
   {
    "duration": 34,
    "start_time": "2022-03-14T16:45:01.226Z"
   },
   {
    "duration": 27,
    "start_time": "2022-03-14T16:45:01.262Z"
   },
   {
    "duration": 20,
    "start_time": "2022-03-14T16:45:01.291Z"
   },
   {
    "duration": 115,
    "start_time": "2022-03-14T16:45:01.313Z"
   },
   {
    "duration": 5,
    "start_time": "2022-03-14T16:45:01.430Z"
   },
   {
    "duration": 27608,
    "start_time": "2022-03-14T16:45:01.438Z"
   },
   {
    "duration": 802,
    "start_time": "2022-03-14T16:45:29.137Z"
   },
   {
    "duration": 25669,
    "start_time": "2022-03-14T16:45:29.942Z"
   },
   {
    "duration": 37111,
    "start_time": "2022-03-14T16:49:16.341Z"
   },
   {
    "duration": 6,
    "start_time": "2022-03-14T16:51:47.876Z"
   },
   {
    "duration": 352,
    "start_time": "2022-03-14T16:53:08.586Z"
   },
   {
    "duration": 1258,
    "start_time": "2022-03-14T16:56:10.211Z"
   },
   {
    "duration": 844,
    "start_time": "2022-03-14T16:56:11.471Z"
   },
   {
    "duration": 126,
    "start_time": "2022-03-14T16:56:12.317Z"
   },
   {
    "duration": 112,
    "start_time": "2022-03-14T16:56:12.445Z"
   },
   {
    "duration": 36,
    "start_time": "2022-03-14T16:56:12.558Z"
   },
   {
    "duration": 47,
    "start_time": "2022-03-14T16:56:12.596Z"
   },
   {
    "duration": 39,
    "start_time": "2022-03-14T16:56:12.645Z"
   },
   {
    "duration": 18,
    "start_time": "2022-03-14T16:56:12.687Z"
   },
   {
    "duration": 93,
    "start_time": "2022-03-14T16:56:12.708Z"
   },
   {
    "duration": 111,
    "start_time": "2022-03-14T16:56:12.803Z"
   },
   {
    "duration": 37,
    "start_time": "2022-03-14T16:56:12.915Z"
   },
   {
    "duration": 114,
    "start_time": "2022-03-14T16:56:12.954Z"
   },
   {
    "duration": 33,
    "start_time": "2022-03-14T16:56:13.069Z"
   },
   {
    "duration": 110,
    "start_time": "2022-03-14T16:56:13.104Z"
   },
   {
    "duration": 40,
    "start_time": "2022-03-14T16:56:13.216Z"
   },
   {
    "duration": 20,
    "start_time": "2022-03-14T16:56:13.258Z"
   },
   {
    "duration": 34,
    "start_time": "2022-03-14T16:56:13.280Z"
   },
   {
    "duration": 305,
    "start_time": "2022-03-14T16:56:13.315Z"
   },
   {
    "duration": 29,
    "start_time": "2022-03-14T16:56:13.622Z"
   },
   {
    "duration": 13,
    "start_time": "2022-03-14T16:56:13.653Z"
   },
   {
    "duration": 14,
    "start_time": "2022-03-14T16:56:13.668Z"
   },
   {
    "duration": 54,
    "start_time": "2022-03-14T16:56:13.684Z"
   },
   {
    "duration": 113,
    "start_time": "2022-03-14T16:56:13.742Z"
   },
   {
    "duration": 80,
    "start_time": "2022-03-14T16:56:13.858Z"
   },
   {
    "duration": 33,
    "start_time": "2022-03-14T16:56:13.940Z"
   },
   {
    "duration": 64,
    "start_time": "2022-03-14T16:56:13.974Z"
   },
   {
    "duration": 119,
    "start_time": "2022-03-14T16:56:14.040Z"
   },
   {
    "duration": 202,
    "start_time": "2022-03-14T16:56:14.161Z"
   },
   {
    "duration": 22,
    "start_time": "2022-03-14T16:56:14.364Z"
   },
   {
    "duration": 1672,
    "start_time": "2022-03-14T16:56:14.387Z"
   },
   {
    "duration": 3,
    "start_time": "2022-03-14T16:56:16.061Z"
   },
   {
    "duration": 808,
    "start_time": "2022-03-14T16:56:16.066Z"
   },
   {
    "duration": 72,
    "start_time": "2022-03-14T16:56:16.876Z"
   },
   {
    "duration": 99,
    "start_time": "2022-03-14T16:56:16.949Z"
   },
   {
    "duration": 5,
    "start_time": "2022-03-14T16:56:17.049Z"
   },
   {
    "duration": 131,
    "start_time": "2022-03-14T16:56:17.056Z"
   },
   {
    "duration": 130,
    "start_time": "2022-03-14T16:56:17.189Z"
   },
   {
    "duration": 131,
    "start_time": "2022-03-14T16:56:17.321Z"
   },
   {
    "duration": 6231,
    "start_time": "2022-03-14T16:56:17.454Z"
   },
   {
    "duration": 595,
    "start_time": "2022-03-14T16:56:23.092Z"
   },
   {
    "duration": 341,
    "start_time": "2022-03-14T16:56:23.348Z"
   },
   {
    "duration": 306,
    "start_time": "2022-03-14T16:56:23.384Z"
   },
   {
    "duration": 292,
    "start_time": "2022-03-14T16:56:23.399Z"
   },
   {
    "duration": 282,
    "start_time": "2022-03-14T16:56:23.411Z"
   },
   {
    "duration": 271,
    "start_time": "2022-03-14T16:56:23.423Z"
   },
   {
    "duration": 259,
    "start_time": "2022-03-14T16:56:23.436Z"
   },
   {
    "duration": 248,
    "start_time": "2022-03-14T16:56:23.448Z"
   },
   {
    "duration": 236,
    "start_time": "2022-03-14T16:56:23.461Z"
   },
   {
    "duration": 222,
    "start_time": "2022-03-14T16:56:23.476Z"
   },
   {
    "duration": 190,
    "start_time": "2022-03-14T16:56:23.509Z"
   },
   {
    "duration": 1250,
    "start_time": "2022-03-14T17:00:21.712Z"
   },
   {
    "duration": 811,
    "start_time": "2022-03-14T17:00:22.964Z"
   },
   {
    "duration": 125,
    "start_time": "2022-03-14T17:00:23.778Z"
   },
   {
    "duration": 118,
    "start_time": "2022-03-14T17:00:23.905Z"
   },
   {
    "duration": 41,
    "start_time": "2022-03-14T17:00:24.024Z"
   },
   {
    "duration": 32,
    "start_time": "2022-03-14T17:00:24.067Z"
   },
   {
    "duration": 53,
    "start_time": "2022-03-14T17:00:24.100Z"
   },
   {
    "duration": 20,
    "start_time": "2022-03-14T17:00:24.156Z"
   },
   {
    "duration": 92,
    "start_time": "2022-03-14T17:00:24.178Z"
   },
   {
    "duration": 106,
    "start_time": "2022-03-14T17:00:24.272Z"
   },
   {
    "duration": 32,
    "start_time": "2022-03-14T17:00:24.379Z"
   },
   {
    "duration": 107,
    "start_time": "2022-03-14T17:00:24.413Z"
   },
   {
    "duration": 34,
    "start_time": "2022-03-14T17:00:24.522Z"
   },
   {
    "duration": 104,
    "start_time": "2022-03-14T17:00:24.558Z"
   },
   {
    "duration": 31,
    "start_time": "2022-03-14T17:00:24.663Z"
   },
   {
    "duration": 20,
    "start_time": "2022-03-14T17:00:24.696Z"
   },
   {
    "duration": 51,
    "start_time": "2022-03-14T17:00:24.717Z"
   },
   {
    "duration": 289,
    "start_time": "2022-03-14T17:00:24.770Z"
   },
   {
    "duration": 24,
    "start_time": "2022-03-14T17:00:25.061Z"
   },
   {
    "duration": 12,
    "start_time": "2022-03-14T17:00:25.087Z"
   },
   {
    "duration": 39,
    "start_time": "2022-03-14T17:00:25.101Z"
   },
   {
    "duration": 31,
    "start_time": "2022-03-14T17:00:25.143Z"
   },
   {
    "duration": 122,
    "start_time": "2022-03-14T17:00:25.177Z"
   },
   {
    "duration": 76,
    "start_time": "2022-03-14T17:00:25.301Z"
   },
   {
    "duration": 32,
    "start_time": "2022-03-14T17:00:25.379Z"
   },
   {
    "duration": 61,
    "start_time": "2022-03-14T17:00:25.413Z"
   },
   {
    "duration": 123,
    "start_time": "2022-03-14T17:00:25.476Z"
   },
   {
    "duration": 227,
    "start_time": "2022-03-14T17:00:25.601Z"
   },
   {
    "duration": 26,
    "start_time": "2022-03-14T17:00:25.830Z"
   },
   {
    "duration": 1713,
    "start_time": "2022-03-14T17:00:25.858Z"
   },
   {
    "duration": 3,
    "start_time": "2022-03-14T17:00:27.573Z"
   },
   {
    "duration": 815,
    "start_time": "2022-03-14T17:00:27.578Z"
   },
   {
    "duration": 69,
    "start_time": "2022-03-14T17:00:28.395Z"
   },
   {
    "duration": 97,
    "start_time": "2022-03-14T17:00:28.466Z"
   },
   {
    "duration": 4,
    "start_time": "2022-03-14T17:00:28.565Z"
   },
   {
    "duration": 137,
    "start_time": "2022-03-14T17:00:28.571Z"
   },
   {
    "duration": 130,
    "start_time": "2022-03-14T17:00:28.710Z"
   },
   {
    "duration": 130,
    "start_time": "2022-03-14T17:00:28.842Z"
   },
   {
    "duration": 3,
    "start_time": "2022-03-14T17:00:28.974Z"
   },
   {
    "duration": 2911107,
    "start_time": "2022-03-14T17:00:28.978Z"
   },
   {
    "duration": 3,
    "start_time": "2022-03-14T17:49:00.087Z"
   },
   {
    "duration": 14,
    "start_time": "2022-03-14T17:49:00.091Z"
   },
   {
    "duration": 8,
    "start_time": "2022-03-14T17:49:00.106Z"
   },
   {
    "duration": 8,
    "start_time": "2022-03-14T17:49:00.116Z"
   },
   {
    "duration": 7,
    "start_time": "2022-03-14T17:49:00.125Z"
   },
   {
    "duration": 106,
    "start_time": "2022-03-14T17:49:00.133Z"
   },
   {
    "duration": 4,
    "start_time": "2022-03-14T17:49:00.240Z"
   },
   {
    "duration": 23098,
    "start_time": "2022-03-14T17:49:00.246Z"
   },
   {
    "duration": 730,
    "start_time": "2022-03-14T17:49:23.346Z"
   },
   {
    "duration": 23579,
    "start_time": "2022-03-14T17:49:24.078Z"
   },
   {
    "duration": 33998,
    "start_time": "2022-03-14T17:49:47.658Z"
   },
   {
    "duration": 1211,
    "start_time": "2022-03-15T17:50:25.365Z"
   },
   {
    "duration": 1324,
    "start_time": "2022-03-15T17:50:26.578Z"
   },
   {
    "duration": 125,
    "start_time": "2022-03-15T17:50:27.904Z"
   },
   {
    "duration": 110,
    "start_time": "2022-03-15T17:50:28.032Z"
   },
   {
    "duration": 35,
    "start_time": "2022-03-15T17:50:28.144Z"
   },
   {
    "duration": 43,
    "start_time": "2022-03-15T17:50:28.181Z"
   },
   {
    "duration": 35,
    "start_time": "2022-03-15T17:50:28.238Z"
   },
   {
    "duration": 20,
    "start_time": "2022-03-15T17:50:28.276Z"
   },
   {
    "duration": 100,
    "start_time": "2022-03-15T17:50:28.298Z"
   },
   {
    "duration": 105,
    "start_time": "2022-03-15T17:50:28.400Z"
   },
   {
    "duration": 42,
    "start_time": "2022-03-15T17:50:28.507Z"
   },
   {
    "duration": 107,
    "start_time": "2022-03-15T17:50:28.551Z"
   },
   {
    "duration": 35,
    "start_time": "2022-03-15T17:50:28.660Z"
   },
   {
    "duration": 112,
    "start_time": "2022-03-15T17:50:28.697Z"
   },
   {
    "duration": 37,
    "start_time": "2022-03-15T17:50:28.812Z"
   },
   {
    "duration": 23,
    "start_time": "2022-03-15T17:50:28.851Z"
   },
   {
    "duration": 35,
    "start_time": "2022-03-15T17:50:28.876Z"
   },
   {
    "duration": 289,
    "start_time": "2022-03-15T17:50:28.939Z"
   },
   {
    "duration": 27,
    "start_time": "2022-03-15T17:50:29.230Z"
   },
   {
    "duration": 12,
    "start_time": "2022-03-15T17:50:29.259Z"
   },
   {
    "duration": 12,
    "start_time": "2022-03-15T17:50:29.273Z"
   },
   {
    "duration": 19,
    "start_time": "2022-03-15T17:50:29.286Z"
   },
   {
    "duration": 131,
    "start_time": "2022-03-15T17:50:29.308Z"
   },
   {
    "duration": 79,
    "start_time": "2022-03-15T17:50:29.441Z"
   },
   {
    "duration": 45,
    "start_time": "2022-03-15T17:50:29.522Z"
   },
   {
    "duration": 41,
    "start_time": "2022-03-15T17:50:29.569Z"
   },
   {
    "duration": 128,
    "start_time": "2022-03-15T17:50:29.611Z"
   },
   {
    "duration": 198,
    "start_time": "2022-03-15T17:50:29.741Z"
   },
   {
    "duration": 22,
    "start_time": "2022-03-15T17:50:29.941Z"
   },
   {
    "duration": 1713,
    "start_time": "2022-03-15T17:50:29.965Z"
   },
   {
    "duration": 4,
    "start_time": "2022-03-15T17:50:31.679Z"
   },
   {
    "duration": 813,
    "start_time": "2022-03-15T17:50:31.684Z"
   },
   {
    "duration": 63,
    "start_time": "2022-03-15T17:50:32.499Z"
   },
   {
    "duration": 89,
    "start_time": "2022-03-15T17:50:32.563Z"
   },
   {
    "duration": 3,
    "start_time": "2022-03-15T17:50:32.654Z"
   },
   {
    "duration": 128,
    "start_time": "2022-03-15T17:50:32.659Z"
   },
   {
    "duration": 124,
    "start_time": "2022-03-15T17:50:32.789Z"
   },
   {
    "duration": 128,
    "start_time": "2022-03-15T17:50:32.914Z"
   },
   {
    "duration": 2,
    "start_time": "2022-03-15T17:50:33.044Z"
   },
   {
    "duration": 10,
    "start_time": "2022-03-15T17:50:33.048Z"
   },
   {
    "duration": 8,
    "start_time": "2022-03-15T17:50:33.060Z"
   },
   {
    "duration": 9,
    "start_time": "2022-03-15T17:50:33.069Z"
   },
   {
    "duration": 9,
    "start_time": "2022-03-15T17:50:33.080Z"
   },
   {
    "duration": 106,
    "start_time": "2022-03-15T17:50:33.090Z"
   },
   {
    "duration": 5,
    "start_time": "2022-03-15T17:50:33.198Z"
   },
   {
    "duration": 22942,
    "start_time": "2022-03-15T17:50:33.205Z"
   },
   {
    "duration": 747,
    "start_time": "2022-03-15T17:50:56.239Z"
   },
   {
    "duration": 24981,
    "start_time": "2022-03-15T17:50:56.989Z"
   },
   {
    "duration": 43266,
    "start_time": "2022-03-15T17:51:21.972Z"
   }
  ],
  "kernelspec": {
   "display_name": "Python 3",
   "language": "python",
   "name": "python3"
  },
  "language_info": {
   "codemirror_mode": {
    "name": "ipython",
    "version": 3
   },
   "file_extension": ".py",
   "mimetype": "text/x-python",
   "name": "python",
   "nbconvert_exporter": "python",
   "pygments_lexer": "ipython3",
   "version": "3.7.8"
  },
  "toc": {
   "base_numbering": 1,
   "nav_menu": {},
   "number_sections": true,
   "sideBar": true,
   "skip_h1_title": true,
   "title_cell": "Table of Contents",
   "title_sidebar": "Contents",
   "toc_cell": false,
   "toc_position": {},
   "toc_section_display": true,
   "toc_window_display": false
  }
 },
 "nbformat": 4,
 "nbformat_minor": 2
}
