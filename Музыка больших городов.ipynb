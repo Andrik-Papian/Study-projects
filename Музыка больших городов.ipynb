{
 "cells": [
  {
   "cell_type": "markdown",
   "metadata": {
    "id": "E0vqbgi9ay0H"
   },
   "source": [
    "# Яндекс.Музыка"
   ]
  },
  {
   "cell_type": "markdown",
   "metadata": {
    "id": "VUC88oWjTJw2"
   },
   "source": [
    "Сравнение Москвы и Петербурга окружено мифами. Например:\n",
    " * Москва — мегаполис, подчинённый жёсткому ритму рабочей недели;\n",
    " * Петербург — культурная столица, со своими вкусами.\n",
    "\n",
    "На данных Яндекс.Музыки сравним поведение пользователей двух столиц.\n",
    "\n",
    "**Цель исследования** — проверить три гипотезы:\n",
    "1. Активность пользователей зависит от дня недели. Причём в Москве и Петербурге это проявляется по-разному.\n",
    "2. В понедельник утром в Москве преобладают одни жанры, а в Петербурге — другие. Так же и вечером пятницы преобладают разные жанры — в зависимости от города. \n",
    "3. Москва и Петербург предпочитают разные жанры музыки. В Москве чаще слушают поп-музыку, в Петербурге — русский рэп.\n",
    "\n",
    "**Ход исследования**\n",
    "\n",
    "Данные о поведении пользователей мы получим из файла `yandex_music_project.csv`. О качестве данных ничего не известно. Поэтому перед проверкой гипотез понадобится обзор данных. \n",
    "\n",
    "Мы проверим данные на ошибки и оцените их влияние на исследование. Затем, на этапе предобработки мы поищем возможность исправить самые критичные ошибки данных.\n",
    " \n",
    "Таким образом, исследование пройдёт в три этапа:\n",
    " 1. Обзор данных.\n",
    " 2. Предобработка данных.\n",
    " 3. Проверка гипотез.\n",
    "\n"
   ]
  },
  {
   "cell_type": "markdown",
   "metadata": {
    "id": "Ml1hmfXC_Zcs"
   },
   "source": [
    "## Обзор данных\n",
    "\n",
    "\n",
    "\n",
    "\n"
   ]
  },
  {
   "cell_type": "code",
   "execution_count": 1,
   "metadata": {
    "id": "AXN7PHPN_Zcs"
   },
   "outputs": [],
   "source": [
    "import pandas as pd# импорт библиотеки pandas"
   ]
  },
  {
   "cell_type": "code",
   "execution_count": 2,
   "metadata": {
    "id": "fFVu7vqh_Zct"
   },
   "outputs": [],
   "source": [
    "df = pd.read_csv(\"/datasets/yandex_music_project.csv\")# чтение файла с данными и сохранение в df"
   ]
  },
  {
   "cell_type": "code",
   "execution_count": 3,
   "metadata": {
    "id": "oWTVX3gW_Zct"
   },
   "outputs": [
    {
     "data": {
      "text/html": [
       "<div>\n",
       "<style scoped>\n",
       "    .dataframe tbody tr th:only-of-type {\n",
       "        vertical-align: middle;\n",
       "    }\n",
       "\n",
       "    .dataframe tbody tr th {\n",
       "        vertical-align: top;\n",
       "    }\n",
       "\n",
       "    .dataframe thead th {\n",
       "        text-align: right;\n",
       "    }\n",
       "</style>\n",
       "<table border=\"1\" class=\"dataframe\">\n",
       "  <thead>\n",
       "    <tr style=\"text-align: right;\">\n",
       "      <th></th>\n",
       "      <th>userID</th>\n",
       "      <th>Track</th>\n",
       "      <th>artist</th>\n",
       "      <th>genre</th>\n",
       "      <th>City</th>\n",
       "      <th>time</th>\n",
       "      <th>Day</th>\n",
       "    </tr>\n",
       "  </thead>\n",
       "  <tbody>\n",
       "    <tr>\n",
       "      <td>0</td>\n",
       "      <td>FFB692EC</td>\n",
       "      <td>Kamigata To Boots</td>\n",
       "      <td>The Mass Missile</td>\n",
       "      <td>rock</td>\n",
       "      <td>Saint-Petersburg</td>\n",
       "      <td>20:28:33</td>\n",
       "      <td>Wednesday</td>\n",
       "    </tr>\n",
       "    <tr>\n",
       "      <td>1</td>\n",
       "      <td>55204538</td>\n",
       "      <td>Delayed Because of Accident</td>\n",
       "      <td>Andreas Rönnberg</td>\n",
       "      <td>rock</td>\n",
       "      <td>Moscow</td>\n",
       "      <td>14:07:09</td>\n",
       "      <td>Friday</td>\n",
       "    </tr>\n",
       "    <tr>\n",
       "      <td>2</td>\n",
       "      <td>20EC38</td>\n",
       "      <td>Funiculì funiculà</td>\n",
       "      <td>Mario Lanza</td>\n",
       "      <td>pop</td>\n",
       "      <td>Saint-Petersburg</td>\n",
       "      <td>20:58:07</td>\n",
       "      <td>Wednesday</td>\n",
       "    </tr>\n",
       "    <tr>\n",
       "      <td>3</td>\n",
       "      <td>A3DD03C9</td>\n",
       "      <td>Dragons in the Sunset</td>\n",
       "      <td>Fire + Ice</td>\n",
       "      <td>folk</td>\n",
       "      <td>Saint-Petersburg</td>\n",
       "      <td>08:37:09</td>\n",
       "      <td>Monday</td>\n",
       "    </tr>\n",
       "    <tr>\n",
       "      <td>4</td>\n",
       "      <td>E2DC1FAE</td>\n",
       "      <td>Soul People</td>\n",
       "      <td>Space Echo</td>\n",
       "      <td>dance</td>\n",
       "      <td>Moscow</td>\n",
       "      <td>08:34:34</td>\n",
       "      <td>Monday</td>\n",
       "    </tr>\n",
       "    <tr>\n",
       "      <td>5</td>\n",
       "      <td>842029A1</td>\n",
       "      <td>Преданная</td>\n",
       "      <td>IMPERVTOR</td>\n",
       "      <td>rusrap</td>\n",
       "      <td>Saint-Petersburg</td>\n",
       "      <td>13:09:41</td>\n",
       "      <td>Friday</td>\n",
       "    </tr>\n",
       "    <tr>\n",
       "      <td>6</td>\n",
       "      <td>4CB90AA5</td>\n",
       "      <td>True</td>\n",
       "      <td>Roman Messer</td>\n",
       "      <td>dance</td>\n",
       "      <td>Moscow</td>\n",
       "      <td>13:00:07</td>\n",
       "      <td>Wednesday</td>\n",
       "    </tr>\n",
       "    <tr>\n",
       "      <td>7</td>\n",
       "      <td>F03E1C1F</td>\n",
       "      <td>Feeling This Way</td>\n",
       "      <td>Polina Griffith</td>\n",
       "      <td>dance</td>\n",
       "      <td>Moscow</td>\n",
       "      <td>20:47:49</td>\n",
       "      <td>Wednesday</td>\n",
       "    </tr>\n",
       "    <tr>\n",
       "      <td>8</td>\n",
       "      <td>8FA1D3BE</td>\n",
       "      <td>И вновь продолжается бой</td>\n",
       "      <td>NaN</td>\n",
       "      <td>ruspop</td>\n",
       "      <td>Moscow</td>\n",
       "      <td>09:17:40</td>\n",
       "      <td>Friday</td>\n",
       "    </tr>\n",
       "    <tr>\n",
       "      <td>9</td>\n",
       "      <td>E772D5C0</td>\n",
       "      <td>Pessimist</td>\n",
       "      <td>NaN</td>\n",
       "      <td>dance</td>\n",
       "      <td>Saint-Petersburg</td>\n",
       "      <td>21:20:49</td>\n",
       "      <td>Wednesday</td>\n",
       "    </tr>\n",
       "  </tbody>\n",
       "</table>\n",
       "</div>"
      ],
      "text/plain": [
       "     userID                        Track            artist   genre  \\\n",
       "0  FFB692EC            Kamigata To Boots  The Mass Missile    rock   \n",
       "1  55204538  Delayed Because of Accident  Andreas Rönnberg    rock   \n",
       "2    20EC38            Funiculì funiculà       Mario Lanza     pop   \n",
       "3  A3DD03C9        Dragons in the Sunset        Fire + Ice    folk   \n",
       "4  E2DC1FAE                  Soul People        Space Echo   dance   \n",
       "5  842029A1                    Преданная         IMPERVTOR  rusrap   \n",
       "6  4CB90AA5                         True      Roman Messer   dance   \n",
       "7  F03E1C1F             Feeling This Way   Polina Griffith   dance   \n",
       "8  8FA1D3BE     И вновь продолжается бой               NaN  ruspop   \n",
       "9  E772D5C0                    Pessimist               NaN   dance   \n",
       "\n",
       "             City        time        Day  \n",
       "0  Saint-Petersburg  20:28:33  Wednesday  \n",
       "1            Moscow  14:07:09     Friday  \n",
       "2  Saint-Petersburg  20:58:07  Wednesday  \n",
       "3  Saint-Petersburg  08:37:09     Monday  \n",
       "4            Moscow  08:34:34     Monday  \n",
       "5  Saint-Petersburg  13:09:41     Friday  \n",
       "6            Moscow  13:00:07  Wednesday  \n",
       "7            Moscow  20:47:49  Wednesday  \n",
       "8            Moscow  09:17:40     Friday  \n",
       "9  Saint-Petersburg  21:20:49  Wednesday  "
      ]
     },
     "execution_count": 3,
     "metadata": {},
     "output_type": "execute_result"
    }
   ],
   "source": [
    "df.head(10)# получение первых 10 строк таблицы df"
   ]
  },
  {
   "cell_type": "code",
   "execution_count": 4,
   "metadata": {
    "id": "DSf2kIb-_Zct"
   },
   "outputs": [
    {
     "name": "stdout",
     "output_type": "stream",
     "text": [
      "<class 'pandas.core.frame.DataFrame'>\n",
      "RangeIndex: 65079 entries, 0 to 65078\n",
      "Data columns (total 7 columns):\n",
      "  userID    65079 non-null object\n",
      "Track       63848 non-null object\n",
      "artist      57876 non-null object\n",
      "genre       63881 non-null object\n",
      "  City      65079 non-null object\n",
      "time        65079 non-null object\n",
      "Day         65079 non-null object\n",
      "dtypes: object(7)\n",
      "memory usage: 3.5+ MB\n"
     ]
    }
   ],
   "source": [
    "df.info()# получение общей информации о данных в таблице df"
   ]
  },
  {
   "cell_type": "markdown",
   "metadata": {
    "id": "TaQ2Iwbr_Zct"
   },
   "source": [
    "Итак, в таблице семь столбцов. Тип данных во всех столбцах — `object`.\n",
    "\n",
    "Согласно документации к данным:\n",
    "* `userID` — идентификатор пользователя;\n",
    "* `Track` — название трека;  \n",
    "* `artist` — имя исполнителя;\n",
    "* `genre` — название жанра;\n",
    "* `City` — город пользователя;\n",
    "* `time` — время начала прослушивания;\n",
    "* `Day` — день недели.\n",
    "\n",
    "В названиях колонок видны три нарушения стиля:\n",
    "1. Строчные буквы сочетаются с прописными.\n",
    "2. Встречаются пробелы.\n",
    "3. Названия некоторых столбцов не совсем ясно отражают информацию, было бы удобнее назвать столбцы таким образом, используя змеиный регистр: user_id, track_name, artist_name, genre_name, weekday.\n",
    "\n",
    "\n",
    "\n",
    "Количество значений в столбцах различается. Значит, в данных есть пропущенные значения.\n"
   ]
  },
  {
   "cell_type": "markdown",
   "metadata": {
    "id": "MCB6-dXG_Zct"
   },
   "source": [
    "**Выводы**\n",
    "\n",
    "В каждой строке таблицы — данные о прослушанном треке. Часть колонок описывает саму композицию: название, исполнителя и жанр. Остальные данные рассказывают о пользователе: из какого он города, когда он слушал музыку. \n",
    "\n",
    "Предварительно можно утверждать, что, данных достаточно для проверки гипотез. Но встречаются пропуски в данных, а в названиях колонок — расхождения с хорошим стилем.\n",
    "\n",
    "Чтобы двигаться дальше, нужно устранить проблемы в данных."
   ]
  },
  {
   "cell_type": "markdown",
   "metadata": {
    "id": "SjYF6Ub9_Zct"
   },
   "source": [
    "## Предобработка данных\n"
   ]
  },
  {
   "cell_type": "markdown",
   "metadata": {
    "id": "dIaKXr29_Zct"
   },
   "source": [
    "### Стиль заголовков\n"
   ]
  },
  {
   "cell_type": "code",
   "execution_count": 5,
   "metadata": {
    "id": "oKOTdF_Q_Zct"
   },
   "outputs": [
    {
     "data": {
      "text/plain": [
       "['  userID', 'Track', 'artist', 'genre', '  City  ', 'time', 'Day']"
      ]
     },
     "execution_count": 5,
     "metadata": {},
     "output_type": "execute_result"
    }
   ],
   "source": [
    "df.columns.to_list()# перечень названий столбцов таблицы df"
   ]
  },
  {
   "cell_type": "code",
   "execution_count": 6,
   "metadata": {
    "id": "ISlFqs5y_Zct"
   },
   "outputs": [],
   "source": [
    "df.set_axis([\"user_id\", \"track\", \"artist\", \"genre\", \"city\", \"time\", \"day\"], axis='columns', inplace=True)# переименование столбцов"
   ]
  },
  {
   "cell_type": "code",
   "execution_count": 7,
   "metadata": {
    "id": "d4NOAmTW_Zct"
   },
   "outputs": [
    {
     "data": {
      "text/plain": [
       "['user_id', 'track', 'artist', 'genre', 'city', 'time', 'day']"
      ]
     },
     "execution_count": 7,
     "metadata": {},
     "output_type": "execute_result"
    }
   ],
   "source": [
    "df.columns.to_list()# проверка результатов - перечень названий столбцов \n",
    "#не могу понять, почему выводит старые названия столбцов, в таблице сверху - названия новые."
   ]
  },
  {
   "cell_type": "markdown",
   "metadata": {
    "id": "5ISfbcfY_Zct"
   },
   "source": [
    "### Пропуски значений\n"
   ]
  },
  {
   "cell_type": "code",
   "execution_count": 8,
   "metadata": {
    "id": "RskX29qr_Zct"
   },
   "outputs": [
    {
     "data": {
      "text/plain": [
       "user_id       0\n",
       "track      1231\n",
       "artist     7203\n",
       "genre      1198\n",
       "city          0\n",
       "time          0\n",
       "day           0\n",
       "dtype: int64"
      ]
     },
     "execution_count": 8,
     "metadata": {},
     "output_type": "execute_result"
    }
   ],
   "source": [
    "df.isna().sum()# подсчёт пропусков"
   ]
  },
  {
   "cell_type": "markdown",
   "metadata": {
    "id": "qubhgnlO_Zct"
   },
   "source": [
    "Не все пропущенные значения влияют на исследование. Так в `track` и `artist` пропуски не важны для вашей работы. Достаточно заменить их явными обозначениями.\n",
    "\n",
    "Но пропуски в `genre` могут помешать сравнению музыкальных вкусов в Москве и Санкт-Петербурге. На практике было бы правильно установить причину пропусков и восстановить данные. Такой возможности нет в учебном проекте. Придётся:\n",
    "* заполнить и эти пропуски явными обозначениями,\n",
    "* оценить, насколько они повредят расчётам. "
   ]
  },
  {
   "cell_type": "code",
   "execution_count": 9,
   "metadata": {
    "id": "KplB5qWs_Zct"
   },
   "outputs": [],
   "source": [
    "columns_to_replace = [\"track\", \"artist\", \"genre\"]\n",
    "for i in range(len(columns_to_replace)):\n",
    "    df[columns_to_replace[i]] = df[columns_to_replace[i]].fillna('unknown')\n",
    "   # перебор названий столбцов в цикле и замена пропущенных значений на 'unknown'"
   ]
  },
  {
   "cell_type": "code",
   "execution_count": 10,
   "metadata": {
    "id": "Tq4nYRX4_Zct"
   },
   "outputs": [
    {
     "data": {
      "text/plain": [
       "user_id    0\n",
       "track      0\n",
       "artist     0\n",
       "genre      0\n",
       "city       0\n",
       "time       0\n",
       "day        0\n",
       "dtype: int64"
      ]
     },
     "execution_count": 10,
     "metadata": {},
     "output_type": "execute_result"
    }
   ],
   "source": [
    "df.isna().sum()# подсчёт пропусков"
   ]
  },
  {
   "cell_type": "markdown",
   "metadata": {
    "id": "BWKRtBJ3_Zct"
   },
   "source": [
    "### Дубликаты\n"
   ]
  },
  {
   "cell_type": "code",
   "execution_count": 11,
   "metadata": {
    "id": "36eES_S0_Zct"
   },
   "outputs": [
    {
     "data": {
      "text/plain": [
       "3826"
      ]
     },
     "execution_count": 11,
     "metadata": {},
     "output_type": "execute_result"
    }
   ],
   "source": [
    "df.duplicated().sum()# подсчёт явных дубликатов"
   ]
  },
  {
   "cell_type": "code",
   "execution_count": 12,
   "metadata": {
    "id": "exFHq6tt_Zct"
   },
   "outputs": [],
   "source": [
    "df = df.drop_duplicates().reset_index(drop=True)# удаление явных дубликатов (с удалением старых индексов и формированием новых)"
   ]
  },
  {
   "cell_type": "code",
   "execution_count": 13,
   "metadata": {
    "id": "-8PuNWQ0_Zct"
   },
   "outputs": [
    {
     "data": {
      "text/plain": [
       "0"
      ]
     },
     "execution_count": 13,
     "metadata": {},
     "output_type": "execute_result"
    }
   ],
   "source": [
    "df.duplicated().sum()# проверка на отсутствие дубликатов"
   ]
  },
  {
   "cell_type": "markdown",
   "metadata": {
    "id": "QlFBsxAr_Zct"
   },
   "source": [
    "Теперь избавимся от неявных дубликатов в колонке `genre`. Например, название одного и того же жанра может быть записано немного по-разному. Такие ошибки тоже повлияют на результат исследования."
   ]
  },
  {
   "cell_type": "markdown",
   "metadata": {
    "id": "eSjWwsOh_Zct"
   },
   "source": [
    "Выведем на экран список уникальных названий жанров, отсортированный в алфавитном порядке. Для этого:\n",
    "* извлечем нужный столбец датафрейма, \n",
    "* применим к нему метод сортировки,\n",
    "* для отсортированного столбца вызовем метод, который вернёт уникальные значения из столбца."
   ]
  },
  {
   "cell_type": "code",
   "execution_count": 14,
   "metadata": {
    "id": "JIUcqzZN_Zct"
   },
   "outputs": [
    {
     "data": {
      "text/plain": [
       "array(['rock', 'pop', 'folk', 'dance', 'rusrap', 'ruspop', 'world',\n",
       "       'electronic', 'unknown', 'alternative', 'children', 'rnb', 'hip',\n",
       "       'jazz', 'postrock', 'latin', 'classical', 'metal', 'reggae',\n",
       "       'tatar', 'blues', 'instrumental', 'rusrock', 'dnb', 'türk', 'post',\n",
       "       'country', 'psychedelic', 'conjazz', 'indie', 'posthardcore',\n",
       "       'local', 'avantgarde', 'punk', 'videogame', 'techno', 'house',\n",
       "       'christmas', 'melodic', 'caucasian', 'reggaeton', 'soundtrack',\n",
       "       'singer', 'ska', 'shanson', 'ambient', 'film', 'western', 'rap',\n",
       "       'beats', \"hard'n'heavy\", 'progmetal', 'minimal', 'contemporary',\n",
       "       'new', 'soul', 'holiday', 'german', 'tropical', 'fairytail',\n",
       "       'spiritual', 'urban', 'gospel', 'nujazz', 'folkmetal', 'trance',\n",
       "       'miscellaneous', 'anime', 'hardcore', 'progressive', 'chanson',\n",
       "       'numetal', 'vocal', 'estrada', 'russian', 'classicmetal',\n",
       "       'dubstep', 'club', 'deep', 'southern', 'black', 'folkrock',\n",
       "       'fitness', 'french', 'disco', 'religious', 'hiphop', 'drum',\n",
       "       'extrememetal', 'türkçe', 'experimental', 'easy', 'metalcore',\n",
       "       'modern', 'argentinetango', 'old', 'breaks', 'eurofolk',\n",
       "       'stonerrock', 'industrial', 'funk', 'jpop', 'middle', 'variété',\n",
       "       'other', 'adult', 'christian', 'gothic', 'international', 'muslim',\n",
       "       'relax', 'schlager', 'caribbean', 'ukrrock', 'nu', 'breakbeat',\n",
       "       'comedy', 'chill', 'newage', 'specialty', 'uzbek', 'k-pop',\n",
       "       'balkan', 'chinese', 'meditative', 'dub', 'power', 'death',\n",
       "       'grime', 'arabesk', 'romance', 'flamenco', 'leftfield', 'european',\n",
       "       'tech', 'newwave', 'dancehall', 'mpb', 'piano', 'top', 'bigroom',\n",
       "       'opera', 'celtic', 'tradjazz', 'acoustic', 'epicmetal', 'hip-hop',\n",
       "       'historisch', 'downbeat', 'downtempo', 'africa', 'audiobook',\n",
       "       'jewish', 'sängerportrait', 'deutschrock', 'eastern', 'action',\n",
       "       'future', 'electropop', 'folklore', 'bollywood', 'marschmusik',\n",
       "       'rnr', 'karaoke', 'indian', 'rancheras', 'электроника',\n",
       "       'afrikaans', 'tango', 'rhythm', 'sound', 'deutschspr', 'trip',\n",
       "       'lovers', 'choral', 'dancepop', 'podcasts', 'retro', 'smooth',\n",
       "       'mexican', 'brazilian', 'ïîï', 'mood', 'surf', 'author', 'gangsta',\n",
       "       'triphop', 'inspirational', 'idm', 'ethnic', 'bluegrass',\n",
       "       'broadway', 'animated', 'americana', 'karadeniz', 'rockabilly',\n",
       "       'colombian', 'self', 'hop', 'synthrock', 'sertanejo', 'japanese',\n",
       "       'canzone', 'swing', 'lounge', 'sport', 'korean', 'ragga',\n",
       "       'traditional', 'gitarre', 'frankreich', 'alternativepunk', 'emo',\n",
       "       'laiko', 'cantopop', 'glitch', 'documentary', 'rockalternative',\n",
       "       'thrash', 'hymn', 'oceania', 'rockother', 'popeurodance', 'dark',\n",
       "       'vi', 'grunge', 'hardstyle', 'samba', 'garage', 'soft', 'art',\n",
       "       'folktronica', 'entehno', 'mediterranean', 'chamber', 'cuban',\n",
       "       'taraftar', 'rockindie', 'gypsy', 'hardtechno', 'shoegazing',\n",
       "       'skarock', 'bossa', 'salsa', 'latino', 'worldbeat', 'malaysian',\n",
       "       'baile', 'ghazal', 'loungeelectronic', 'arabic', 'popelectronic',\n",
       "       'acid', 'kayokyoku', 'neoklassik', 'tribal', 'tanzorchester',\n",
       "       'native', 'independent', 'cantautori', 'handsup', 'poprussian',\n",
       "       'punjabi', 'synthpop', 'rave', 'französisch', 'quebecois',\n",
       "       'speech', 'soulful', 'teen', 'jam', 'ram', 'horror', 'scenic',\n",
       "       'orchestral', 'neue', 'roots', 'slow', 'jungle', 'indipop', 'axé',\n",
       "       'fado', 'showtunes', 'arena', 'irish', 'mandopop', 'forró',\n",
       "       'popdance', 'dirty', 'regional'], dtype=object)"
      ]
     },
     "execution_count": 14,
     "metadata": {},
     "output_type": "execute_result"
    }
   ],
   "source": [
    "df[\"genre\"] = df[\"genre\"].sort_values()\n",
    "df[\"genre\"].unique()# Просмотр уникальных названий жанров"
   ]
  },
  {
   "cell_type": "markdown",
   "metadata": {
    "id": "qej-Qmuo_Zct"
   },
   "source": [
    "Просмотрим список и найдем неявные дубликаты названия `hiphop`. Это могут быть названия с ошибками или альтернативные названия того же жанра.\n",
    "\n",
    "Видно следующие неявные дубликаты:\n",
    "* *hip*,\n",
    "* *hop*,\n",
    "* *hip-hop*.\n",
    "\n",
    "Чтобы очистить от них таблицу, напишем функцию `replace_wrong_genres()` с двумя параметрами: \n",
    "* `wrong_genres` — список дубликатов,\n",
    "* `correct_genre` — строка с правильным значением.\n",
    "\n",
    "Функция должна исправить колонку `genre` в таблице `df`: заменить каждое значение из списка `wrong_genres` на значение из `correct_genre`."
   ]
  },
  {
   "cell_type": "code",
   "execution_count": 15,
   "metadata": {
    "id": "ErNDkmns_Zct"
   },
   "outputs": [],
   "source": [
    "def replace_wrong_genres(wrong_genres,correct_genre):\n",
    "    for wrong_genre in wrong_genres:\n",
    "        df[\"genre\"] = df[\"genre\"].replace(wrong_genre,correct_genre)# Функция для замены неявных дубликатов"
   ]
  },
  {
   "cell_type": "code",
   "execution_count": 16,
   "metadata": {
    "id": "YN5i2hpmSo09"
   },
   "outputs": [],
   "source": [
    "replace_wrong_genres([\"hip\", \"hop\", \"hip-hop\"], \"hiphop\")# Устранение неявных дубликатов"
   ]
  },
  {
   "cell_type": "code",
   "execution_count": 17,
   "metadata": {
    "id": "wvixALnFG15m"
   },
   "outputs": [
    {
     "data": {
      "text/plain": [
       "array(['rock', 'pop', 'folk', 'dance', 'rusrap', 'ruspop', 'world',\n",
       "       'electronic', 'unknown', 'alternative', 'children', 'rnb',\n",
       "       'hiphop', 'jazz', 'postrock', 'latin', 'classical', 'metal',\n",
       "       'reggae', 'tatar', 'blues', 'instrumental', 'rusrock', 'dnb',\n",
       "       'türk', 'post', 'country', 'psychedelic', 'conjazz', 'indie',\n",
       "       'posthardcore', 'local', 'avantgarde', 'punk', 'videogame',\n",
       "       'techno', 'house', 'christmas', 'melodic', 'caucasian',\n",
       "       'reggaeton', 'soundtrack', 'singer', 'ska', 'shanson', 'ambient',\n",
       "       'film', 'western', 'rap', 'beats', \"hard'n'heavy\", 'progmetal',\n",
       "       'minimal', 'contemporary', 'new', 'soul', 'holiday', 'german',\n",
       "       'tropical', 'fairytail', 'spiritual', 'urban', 'gospel', 'nujazz',\n",
       "       'folkmetal', 'trance', 'miscellaneous', 'anime', 'hardcore',\n",
       "       'progressive', 'chanson', 'numetal', 'vocal', 'estrada', 'russian',\n",
       "       'classicmetal', 'dubstep', 'club', 'deep', 'southern', 'black',\n",
       "       'folkrock', 'fitness', 'french', 'disco', 'religious', 'drum',\n",
       "       'extrememetal', 'türkçe', 'experimental', 'easy', 'metalcore',\n",
       "       'modern', 'argentinetango', 'old', 'breaks', 'eurofolk',\n",
       "       'stonerrock', 'industrial', 'funk', 'jpop', 'middle', 'variété',\n",
       "       'other', 'adult', 'christian', 'gothic', 'international', 'muslim',\n",
       "       'relax', 'schlager', 'caribbean', 'ukrrock', 'nu', 'breakbeat',\n",
       "       'comedy', 'chill', 'newage', 'specialty', 'uzbek', 'k-pop',\n",
       "       'balkan', 'chinese', 'meditative', 'dub', 'power', 'death',\n",
       "       'grime', 'arabesk', 'romance', 'flamenco', 'leftfield', 'european',\n",
       "       'tech', 'newwave', 'dancehall', 'mpb', 'piano', 'top', 'bigroom',\n",
       "       'opera', 'celtic', 'tradjazz', 'acoustic', 'epicmetal',\n",
       "       'historisch', 'downbeat', 'downtempo', 'africa', 'audiobook',\n",
       "       'jewish', 'sängerportrait', 'deutschrock', 'eastern', 'action',\n",
       "       'future', 'electropop', 'folklore', 'bollywood', 'marschmusik',\n",
       "       'rnr', 'karaoke', 'indian', 'rancheras', 'электроника',\n",
       "       'afrikaans', 'tango', 'rhythm', 'sound', 'deutschspr', 'trip',\n",
       "       'lovers', 'choral', 'dancepop', 'podcasts', 'retro', 'smooth',\n",
       "       'mexican', 'brazilian', 'ïîï', 'mood', 'surf', 'author', 'gangsta',\n",
       "       'triphop', 'inspirational', 'idm', 'ethnic', 'bluegrass',\n",
       "       'broadway', 'animated', 'americana', 'karadeniz', 'rockabilly',\n",
       "       'colombian', 'self', 'synthrock', 'sertanejo', 'japanese',\n",
       "       'canzone', 'swing', 'lounge', 'sport', 'korean', 'ragga',\n",
       "       'traditional', 'gitarre', 'frankreich', 'alternativepunk', 'emo',\n",
       "       'laiko', 'cantopop', 'glitch', 'documentary', 'rockalternative',\n",
       "       'thrash', 'hymn', 'oceania', 'rockother', 'popeurodance', 'dark',\n",
       "       'vi', 'grunge', 'hardstyle', 'samba', 'garage', 'soft', 'art',\n",
       "       'folktronica', 'entehno', 'mediterranean', 'chamber', 'cuban',\n",
       "       'taraftar', 'rockindie', 'gypsy', 'hardtechno', 'shoegazing',\n",
       "       'skarock', 'bossa', 'salsa', 'latino', 'worldbeat', 'malaysian',\n",
       "       'baile', 'ghazal', 'loungeelectronic', 'arabic', 'popelectronic',\n",
       "       'acid', 'kayokyoku', 'neoklassik', 'tribal', 'tanzorchester',\n",
       "       'native', 'independent', 'cantautori', 'handsup', 'poprussian',\n",
       "       'punjabi', 'synthpop', 'rave', 'französisch', 'quebecois',\n",
       "       'speech', 'soulful', 'teen', 'jam', 'ram', 'horror', 'scenic',\n",
       "       'orchestral', 'neue', 'roots', 'slow', 'jungle', 'indipop', 'axé',\n",
       "       'fado', 'showtunes', 'arena', 'irish', 'mandopop', 'forró',\n",
       "       'popdance', 'dirty', 'regional'], dtype=object)"
      ]
     },
     "execution_count": 17,
     "metadata": {},
     "output_type": "execute_result"
    }
   ],
   "source": [
    "df[\"genre\"] = df[\"genre\"].sort_values()\n",
    "df[\"genre\"].unique()# Проверка на неявные дубликаты"
   ]
  },
  {
   "cell_type": "markdown",
   "metadata": {
    "id": "jz6a9-7HQUDd"
   },
   "source": [
    "**Выводы**\n",
    "\n",
    "Предобработка обнаружила три проблемы в данных:\n",
    "\n",
    "- нарушения в стиле заголовков,\n",
    "- пропущенные значения,\n",
    "- дубликаты — явные и неявные.\n",
    "\n",
    "Исправили заголовки, чтобы упростить работу с таблицей. Без дубликатов исследование станет более точным.\n",
    "\n",
    "Пропущенные значения заменили на `'unknown'`. Ещё предстоит увидеть, не повредят ли исследованию пропуски в колонке `genre`.\n",
    "\n",
    "Теперь можно перейти к проверке гипотез. "
   ]
  },
  {
   "cell_type": "markdown",
   "metadata": {
    "id": "WttZHXH0SqKk"
   },
   "source": [
    "## Проверка гипотез"
   ]
  },
  {
   "cell_type": "markdown",
   "metadata": {
    "id": "Im936VVi_Zcu"
   },
   "source": [
    "### Сравнение поведения пользователей двух столиц"
   ]
  },
  {
   "cell_type": "markdown",
   "metadata": {
    "id": "nwt_MuaL_Zcu"
   },
   "source": [
    "Первая гипотеза утверждает, что пользователи по-разному слушают музыку в Москве и Санкт-Петербурге. Проверим это предположение по данным о трёх днях недели — понедельнике, среде и пятнице. Для этого:\n",
    "\n",
    "* Разделим пользователей Москвы и Санкт-Петербурга\n",
    "* Сравним, сколько треков послушала каждая группа пользователей в понедельник, среду и пятницу.\n"
   ]
  },
  {
   "cell_type": "markdown",
   "metadata": {
    "id": "8Dw_YMmT_Zcu"
   },
   "source": [
    "Для тренировки сначала выполним каждый из расчётов по отдельности. \n",
    "\n",
    "Оценим активность пользователей в каждом городе. Сгруппируем данные по городу и посчитайте прослушивания в каждой группе.\n",
    "\n"
   ]
  },
  {
   "cell_type": "code",
   "execution_count": 18,
   "metadata": {
    "id": "0_Qs96oh_Zcu"
   },
   "outputs": [
    {
     "data": {
      "text/plain": [
       "city\n",
       "Moscow              42741\n",
       "Saint-Petersburg    18512\n",
       "Name: track, dtype: int64"
      ]
     },
     "execution_count": 18,
     "metadata": {},
     "output_type": "execute_result"
    }
   ],
   "source": [
    "df.groupby(\"city\")[\"track\"].count()\n",
    "# Подсчёт прослушиваний в каждом городе"
   ]
  },
  {
   "cell_type": "markdown",
   "metadata": {
    "id": "dzli3w8o_Zcu"
   },
   "source": [
    "В Москве прослушиваний больше, чем в Петербурге. Из этого не следует, что московские пользователи чаще слушают музыку. Просто самих пользователей в Москве больше.\n",
    "\n",
    "Теперь сгруппируем данные по дню недели и подсчитаем прослушивания в понедельник, среду и пятницу. Учтем, что в данных есть информация только о прослушиваниях только за эти дни.\n"
   ]
  },
  {
   "cell_type": "code",
   "execution_count": 19,
   "metadata": {
    "id": "uZMKjiJz_Zcu"
   },
   "outputs": [
    {
     "data": {
      "text/html": [
       "<div>\n",
       "<style scoped>\n",
       "    .dataframe tbody tr th:only-of-type {\n",
       "        vertical-align: middle;\n",
       "    }\n",
       "\n",
       "    .dataframe tbody tr th {\n",
       "        vertical-align: top;\n",
       "    }\n",
       "\n",
       "    .dataframe thead th {\n",
       "        text-align: right;\n",
       "    }\n",
       "</style>\n",
       "<table border=\"1\" class=\"dataframe\">\n",
       "  <thead>\n",
       "    <tr style=\"text-align: right;\">\n",
       "      <th></th>\n",
       "      <th>track_count</th>\n",
       "    </tr>\n",
       "    <tr>\n",
       "      <th>day</th>\n",
       "      <th></th>\n",
       "    </tr>\n",
       "  </thead>\n",
       "  <tbody>\n",
       "    <tr>\n",
       "      <td>Friday</td>\n",
       "      <td>21840</td>\n",
       "    </tr>\n",
       "    <tr>\n",
       "      <td>Monday</td>\n",
       "      <td>21354</td>\n",
       "    </tr>\n",
       "    <tr>\n",
       "      <td>Wednesday</td>\n",
       "      <td>18059</td>\n",
       "    </tr>\n",
       "  </tbody>\n",
       "</table>\n",
       "</div>"
      ],
      "text/plain": [
       "           track_count\n",
       "day                   \n",
       "Friday           21840\n",
       "Monday           21354\n",
       "Wednesday        18059"
      ]
     },
     "metadata": {},
     "output_type": "display_data"
    }
   ],
   "source": [
    "display(df.groupby(\"day\").agg(track_count=('track','count')))# Подсчёт прослушиваний в каждый из трёх дней"
   ]
  },
  {
   "cell_type": "markdown",
   "metadata": {
    "id": "cC2tNrlL_Zcu"
   },
   "source": [
    "В среднем пользователи из двух городов менее активны по средам. Но картина может измениться, если рассмотреть каждый город в отдельности."
   ]
  },
  {
   "cell_type": "markdown",
   "metadata": {
    "id": "POzs8bGa_Zcu"
   },
   "source": [
    "Теперь напишем функцию, которая объединит два эти расчёта.\n",
    "\n",
    "Создадим функцию `number_tracks()`, которая посчитает прослушивания для заданного дня и города. Ей понадобятся два параметра:\n",
    "* день недели,\n",
    "* название города.\n",
    "\n",
    "В функции сохраним в переменную строки исходной таблицы, у которых значение:\n",
    "  * в колонке `day` равно параметру `day`,\n",
    "  * в колонке `city` равно параметру `city`.\n",
    "\n",
    "Для этого применим последовательную фильтрацию с логической индексацией.\n",
    "\n",
    "Затем посчитаем значения в столбце `user_id` получившейся таблицы. Результат сохраним в новую переменную. Вернем эту переменную из функции."
   ]
  },
  {
   "cell_type": "code",
   "execution_count": 20,
   "metadata": {
    "id": "Nz3GdQB1_Zcu"
   },
   "outputs": [],
   "source": [
    "def number_tracks(day, city):\n",
    "    track_list=df[(df['day']== day) & (df['city']== city)]\n",
    "    track_list_count = track_list[\"user_id\"].count()\n",
    "    return  track_list_count"
   ]
  },
  {
   "cell_type": "markdown",
   "metadata": {
    "id": "ytf7xFrFJQ2r"
   },
   "source": [
    "Вызовим `number_tracks()` шесть раз, меняя значение параметров — так, чтобы получить данные для каждого города в каждый из трёх дней."
   ]
  },
  {
   "cell_type": "code",
   "execution_count": 21,
   "metadata": {
    "id": "rJcRATNQ_Zcu"
   },
   "outputs": [
    {
     "data": {
      "text/plain": [
       "15740"
      ]
     },
     "execution_count": 21,
     "metadata": {},
     "output_type": "execute_result"
    }
   ],
   "source": [
    "number_tracks(\"Monday\", \"Moscow\")# количество прослушиваний в Москве по понедельникам"
   ]
  },
  {
   "cell_type": "code",
   "execution_count": 22,
   "metadata": {
    "id": "hq_ncZ5T_Zcu"
   },
   "outputs": [
    {
     "data": {
      "text/plain": [
       "5614"
      ]
     },
     "execution_count": 22,
     "metadata": {},
     "output_type": "execute_result"
    }
   ],
   "source": [
    "number_tracks(\"Monday\",\"Saint-Petersburg\")# количество прослушиваний в Санкт-Петербурге по понедельникам"
   ]
  },
  {
   "cell_type": "code",
   "execution_count": 23,
   "metadata": {
    "id": "_NTy2VPU_Zcu"
   },
   "outputs": [
    {
     "data": {
      "text/plain": [
       "11056"
      ]
     },
     "execution_count": 23,
     "metadata": {},
     "output_type": "execute_result"
    }
   ],
   "source": [
    "number_tracks(\"Wednesday\", \"Moscow\")# количество прослушиваний в Москве по средам"
   ]
  },
  {
   "cell_type": "code",
   "execution_count": 24,
   "metadata": {
    "id": "j2y3TAwo_Zcu"
   },
   "outputs": [
    {
     "data": {
      "text/plain": [
       "7003"
      ]
     },
     "execution_count": 24,
     "metadata": {},
     "output_type": "execute_result"
    }
   ],
   "source": [
    "number_tracks(\"Wednesday\", \"Saint-Petersburg\")# количество прослушиваний в Санкт-Петербурге по средам"
   ]
  },
  {
   "cell_type": "code",
   "execution_count": 25,
   "metadata": {
    "id": "vYDw5u_K_Zcu"
   },
   "outputs": [
    {
     "data": {
      "text/plain": [
       "15945"
      ]
     },
     "execution_count": 25,
     "metadata": {},
     "output_type": "execute_result"
    }
   ],
   "source": [
    "number_tracks(\"Friday\", \"Moscow\")# количество прослушиваний в Москве по пятницам"
   ]
  },
  {
   "cell_type": "code",
   "execution_count": 26,
   "metadata": {
    "id": "8_yzFtW3_Zcu"
   },
   "outputs": [
    {
     "data": {
      "text/plain": [
       "5895"
      ]
     },
     "execution_count": 26,
     "metadata": {},
     "output_type": "execute_result"
    }
   ],
   "source": [
    "number_tracks(\"Friday\", \"Saint-Petersburg\")# количество прослушиваний в Санкт-Петербурге по пятницам"
   ]
  },
  {
   "cell_type": "markdown",
   "metadata": {
    "id": "7QXffbO-_Zcu"
   },
   "source": [
    "Создадим c помощью конструктора `pd.DataFrame` таблицу, где\n",
    "* названия колонок — `['city', 'monday', 'wednesday', 'friday']`;\n",
    "* данные — результаты, которые вы получили с помощью `number_tracks`."
   ]
  },
  {
   "cell_type": "code",
   "execution_count": 27,
   "metadata": {
    "id": "APAcLpOr_Zcu"
   },
   "outputs": [
    {
     "data": {
      "text/html": [
       "<div>\n",
       "<style scoped>\n",
       "    .dataframe tbody tr th:only-of-type {\n",
       "        vertical-align: middle;\n",
       "    }\n",
       "\n",
       "    .dataframe tbody tr th {\n",
       "        vertical-align: top;\n",
       "    }\n",
       "\n",
       "    .dataframe thead th {\n",
       "        text-align: right;\n",
       "    }\n",
       "</style>\n",
       "<table border=\"1\" class=\"dataframe\">\n",
       "  <thead>\n",
       "    <tr style=\"text-align: right;\">\n",
       "      <th></th>\n",
       "      <th>city</th>\n",
       "      <th>monday</th>\n",
       "      <th>wednesday</th>\n",
       "      <th>friday</th>\n",
       "    </tr>\n",
       "  </thead>\n",
       "  <tbody>\n",
       "    <tr>\n",
       "      <td>0</td>\n",
       "      <td>Moscow</td>\n",
       "      <td>15740</td>\n",
       "      <td>11056</td>\n",
       "      <td>15945</td>\n",
       "    </tr>\n",
       "    <tr>\n",
       "      <td>1</td>\n",
       "      <td>Saint-Petersburg</td>\n",
       "      <td>5614</td>\n",
       "      <td>7003</td>\n",
       "      <td>5895</td>\n",
       "    </tr>\n",
       "  </tbody>\n",
       "</table>\n",
       "</div>"
      ],
      "text/plain": [
       "               city  monday  wednesday  friday\n",
       "0            Moscow   15740      11056   15945\n",
       "1  Saint-Petersburg    5614       7003    5895"
      ]
     },
     "metadata": {},
     "output_type": "display_data"
    }
   ],
   "source": [
    "data = [['Moscow', 15740, 11056, 15945],\n",
    "       ['Saint-Petersburg', 5614, 7003, 5895]]\n",
    "\n",
    "columns = ['city','monday','wednesday','friday']\n",
    "\n",
    "table = pd.DataFrame(data = data, columns = columns)\n",
    "display(table)# Таблица с результатами"
   ]
  },
  {
   "cell_type": "markdown",
   "metadata": {
    "id": "-EgPIHYu_Zcu"
   },
   "source": [
    "**Выводы**\n",
    "\n",
    "Данные показывают разницу поведения пользователей:\n",
    "\n",
    "- В Москве пик прослушиваний приходится на понедельник и пятницу, а в среду заметен спад.\n",
    "- В Петербурге, наоборот, больше слушают музыку по средам. Активность в понедельник и пятницу здесь почти в равной мере уступает среде.\n",
    "\n",
    "Значит, данные говорят в пользу первой гипотезы."
   ]
  },
  {
   "cell_type": "markdown",
   "metadata": {
    "id": "atZAxtq4_Zcu"
   },
   "source": [
    "### Музыка в начале и в конце недели"
   ]
  },
  {
   "cell_type": "markdown",
   "metadata": {
    "id": "eXrQqXFH_Zcu"
   },
   "source": [
    "Согласно второй гипотезе, утром в понедельник в Москве преобладают одни жанры, а в Петербурге — другие. Так же и вечером пятницы преобладают разные жанры — в зависимости от города."
   ]
  },
  {
   "cell_type": "markdown",
   "metadata": {
    "id": "S8UcW6Hw_Zcu"
   },
   "source": [
    "Сохраним таблицы с данными в две переменные:\n",
    "* по Москве — в `moscow_general`;\n",
    "* по Санкт-Петербургу — в `spb_general`."
   ]
  },
  {
   "cell_type": "code",
   "execution_count": 28,
   "metadata": {
    "id": "qeaFfM_P_Zcu"
   },
   "outputs": [
    {
     "data": {
      "text/html": [
       "<div>\n",
       "<style scoped>\n",
       "    .dataframe tbody tr th:only-of-type {\n",
       "        vertical-align: middle;\n",
       "    }\n",
       "\n",
       "    .dataframe tbody tr th {\n",
       "        vertical-align: top;\n",
       "    }\n",
       "\n",
       "    .dataframe thead th {\n",
       "        text-align: right;\n",
       "    }\n",
       "</style>\n",
       "<table border=\"1\" class=\"dataframe\">\n",
       "  <thead>\n",
       "    <tr style=\"text-align: right;\">\n",
       "      <th></th>\n",
       "      <th>user_id</th>\n",
       "      <th>track</th>\n",
       "      <th>artist</th>\n",
       "      <th>genre</th>\n",
       "      <th>city</th>\n",
       "      <th>time</th>\n",
       "      <th>day</th>\n",
       "    </tr>\n",
       "  </thead>\n",
       "  <tbody>\n",
       "    <tr>\n",
       "      <td>1</td>\n",
       "      <td>55204538</td>\n",
       "      <td>Delayed Because of Accident</td>\n",
       "      <td>Andreas Rönnberg</td>\n",
       "      <td>rock</td>\n",
       "      <td>Moscow</td>\n",
       "      <td>14:07:09</td>\n",
       "      <td>Friday</td>\n",
       "    </tr>\n",
       "    <tr>\n",
       "      <td>4</td>\n",
       "      <td>E2DC1FAE</td>\n",
       "      <td>Soul People</td>\n",
       "      <td>Space Echo</td>\n",
       "      <td>dance</td>\n",
       "      <td>Moscow</td>\n",
       "      <td>08:34:34</td>\n",
       "      <td>Monday</td>\n",
       "    </tr>\n",
       "    <tr>\n",
       "      <td>6</td>\n",
       "      <td>4CB90AA5</td>\n",
       "      <td>True</td>\n",
       "      <td>Roman Messer</td>\n",
       "      <td>dance</td>\n",
       "      <td>Moscow</td>\n",
       "      <td>13:00:07</td>\n",
       "      <td>Wednesday</td>\n",
       "    </tr>\n",
       "    <tr>\n",
       "      <td>7</td>\n",
       "      <td>F03E1C1F</td>\n",
       "      <td>Feeling This Way</td>\n",
       "      <td>Polina Griffith</td>\n",
       "      <td>dance</td>\n",
       "      <td>Moscow</td>\n",
       "      <td>20:47:49</td>\n",
       "      <td>Wednesday</td>\n",
       "    </tr>\n",
       "    <tr>\n",
       "      <td>8</td>\n",
       "      <td>8FA1D3BE</td>\n",
       "      <td>И вновь продолжается бой</td>\n",
       "      <td>unknown</td>\n",
       "      <td>ruspop</td>\n",
       "      <td>Moscow</td>\n",
       "      <td>09:17:40</td>\n",
       "      <td>Friday</td>\n",
       "    </tr>\n",
       "    <tr>\n",
       "      <td>...</td>\n",
       "      <td>...</td>\n",
       "      <td>...</td>\n",
       "      <td>...</td>\n",
       "      <td>...</td>\n",
       "      <td>...</td>\n",
       "      <td>...</td>\n",
       "      <td>...</td>\n",
       "    </tr>\n",
       "    <tr>\n",
       "      <td>61247</td>\n",
       "      <td>83A474E7</td>\n",
       "      <td>I Worship Only What You Bleed</td>\n",
       "      <td>The Black Dahlia Murder</td>\n",
       "      <td>extrememetal</td>\n",
       "      <td>Moscow</td>\n",
       "      <td>21:07:12</td>\n",
       "      <td>Monday</td>\n",
       "    </tr>\n",
       "    <tr>\n",
       "      <td>61248</td>\n",
       "      <td>729CBB09</td>\n",
       "      <td>My Name</td>\n",
       "      <td>McLean</td>\n",
       "      <td>rnb</td>\n",
       "      <td>Moscow</td>\n",
       "      <td>13:32:28</td>\n",
       "      <td>Wednesday</td>\n",
       "    </tr>\n",
       "    <tr>\n",
       "      <td>61250</td>\n",
       "      <td>C5E3A0D5</td>\n",
       "      <td>Jalopiina</td>\n",
       "      <td>unknown</td>\n",
       "      <td>industrial</td>\n",
       "      <td>Moscow</td>\n",
       "      <td>20:09:26</td>\n",
       "      <td>Friday</td>\n",
       "    </tr>\n",
       "    <tr>\n",
       "      <td>61251</td>\n",
       "      <td>321D0506</td>\n",
       "      <td>Freight Train</td>\n",
       "      <td>Chas McDevitt</td>\n",
       "      <td>rock</td>\n",
       "      <td>Moscow</td>\n",
       "      <td>21:43:59</td>\n",
       "      <td>Friday</td>\n",
       "    </tr>\n",
       "    <tr>\n",
       "      <td>61252</td>\n",
       "      <td>3A64EF84</td>\n",
       "      <td>Tell Me Sweet Little Lies</td>\n",
       "      <td>Monica Lopez</td>\n",
       "      <td>country</td>\n",
       "      <td>Moscow</td>\n",
       "      <td>21:59:46</td>\n",
       "      <td>Friday</td>\n",
       "    </tr>\n",
       "  </tbody>\n",
       "</table>\n",
       "<p>42741 rows × 7 columns</p>\n",
       "</div>"
      ],
      "text/plain": [
       "        user_id                          track                   artist  \\\n",
       "1      55204538    Delayed Because of Accident         Andreas Rönnberg   \n",
       "4      E2DC1FAE                    Soul People               Space Echo   \n",
       "6      4CB90AA5                           True             Roman Messer   \n",
       "7      F03E1C1F               Feeling This Way          Polina Griffith   \n",
       "8      8FA1D3BE       И вновь продолжается бой                  unknown   \n",
       "...         ...                            ...                      ...   \n",
       "61247  83A474E7  I Worship Only What You Bleed  The Black Dahlia Murder   \n",
       "61248  729CBB09                        My Name                   McLean   \n",
       "61250  C5E3A0D5                      Jalopiina                  unknown   \n",
       "61251  321D0506                  Freight Train            Chas McDevitt   \n",
       "61252  3A64EF84      Tell Me Sweet Little Lies             Monica Lopez   \n",
       "\n",
       "              genre    city      time        day  \n",
       "1              rock  Moscow  14:07:09     Friday  \n",
       "4             dance  Moscow  08:34:34     Monday  \n",
       "6             dance  Moscow  13:00:07  Wednesday  \n",
       "7             dance  Moscow  20:47:49  Wednesday  \n",
       "8            ruspop  Moscow  09:17:40     Friday  \n",
       "...             ...     ...       ...        ...  \n",
       "61247  extrememetal  Moscow  21:07:12     Monday  \n",
       "61248           rnb  Moscow  13:32:28  Wednesday  \n",
       "61250    industrial  Moscow  20:09:26     Friday  \n",
       "61251          rock  Moscow  21:43:59     Friday  \n",
       "61252       country  Moscow  21:59:46     Friday  \n",
       "\n",
       "[42741 rows x 7 columns]"
      ]
     },
     "metadata": {},
     "output_type": "display_data"
    }
   ],
   "source": [
    "moscow_general = df[df['city'] == \"Moscow\"]# получение таблицы moscow_general из тех строк таблицы df, \n",
    "display(moscow_general)# для которых значение в столбце 'city' равно 'Moscow'\n"
   ]
  },
  {
   "cell_type": "code",
   "execution_count": 29,
   "metadata": {
    "id": "ORaVRKto_Zcu"
   },
   "outputs": [
    {
     "data": {
      "text/html": [
       "<div>\n",
       "<style scoped>\n",
       "    .dataframe tbody tr th:only-of-type {\n",
       "        vertical-align: middle;\n",
       "    }\n",
       "\n",
       "    .dataframe tbody tr th {\n",
       "        vertical-align: top;\n",
       "    }\n",
       "\n",
       "    .dataframe thead th {\n",
       "        text-align: right;\n",
       "    }\n",
       "</style>\n",
       "<table border=\"1\" class=\"dataframe\">\n",
       "  <thead>\n",
       "    <tr style=\"text-align: right;\">\n",
       "      <th></th>\n",
       "      <th>user_id</th>\n",
       "      <th>track</th>\n",
       "      <th>artist</th>\n",
       "      <th>genre</th>\n",
       "      <th>city</th>\n",
       "      <th>time</th>\n",
       "      <th>day</th>\n",
       "    </tr>\n",
       "  </thead>\n",
       "  <tbody>\n",
       "    <tr>\n",
       "      <td>0</td>\n",
       "      <td>FFB692EC</td>\n",
       "      <td>Kamigata To Boots</td>\n",
       "      <td>The Mass Missile</td>\n",
       "      <td>rock</td>\n",
       "      <td>Saint-Petersburg</td>\n",
       "      <td>20:28:33</td>\n",
       "      <td>Wednesday</td>\n",
       "    </tr>\n",
       "    <tr>\n",
       "      <td>2</td>\n",
       "      <td>20EC38</td>\n",
       "      <td>Funiculì funiculà</td>\n",
       "      <td>Mario Lanza</td>\n",
       "      <td>pop</td>\n",
       "      <td>Saint-Petersburg</td>\n",
       "      <td>20:58:07</td>\n",
       "      <td>Wednesday</td>\n",
       "    </tr>\n",
       "    <tr>\n",
       "      <td>3</td>\n",
       "      <td>A3DD03C9</td>\n",
       "      <td>Dragons in the Sunset</td>\n",
       "      <td>Fire + Ice</td>\n",
       "      <td>folk</td>\n",
       "      <td>Saint-Petersburg</td>\n",
       "      <td>08:37:09</td>\n",
       "      <td>Monday</td>\n",
       "    </tr>\n",
       "    <tr>\n",
       "      <td>5</td>\n",
       "      <td>842029A1</td>\n",
       "      <td>Преданная</td>\n",
       "      <td>IMPERVTOR</td>\n",
       "      <td>rusrap</td>\n",
       "      <td>Saint-Petersburg</td>\n",
       "      <td>13:09:41</td>\n",
       "      <td>Friday</td>\n",
       "    </tr>\n",
       "    <tr>\n",
       "      <td>9</td>\n",
       "      <td>E772D5C0</td>\n",
       "      <td>Pessimist</td>\n",
       "      <td>unknown</td>\n",
       "      <td>dance</td>\n",
       "      <td>Saint-Petersburg</td>\n",
       "      <td>21:20:49</td>\n",
       "      <td>Wednesday</td>\n",
       "    </tr>\n",
       "    <tr>\n",
       "      <td>...</td>\n",
       "      <td>...</td>\n",
       "      <td>...</td>\n",
       "      <td>...</td>\n",
       "      <td>...</td>\n",
       "      <td>...</td>\n",
       "      <td>...</td>\n",
       "      <td>...</td>\n",
       "    </tr>\n",
       "    <tr>\n",
       "      <td>61239</td>\n",
       "      <td>D94F810B</td>\n",
       "      <td>Theme from the Walking Dead</td>\n",
       "      <td>Proyecto Halloween</td>\n",
       "      <td>film</td>\n",
       "      <td>Saint-Petersburg</td>\n",
       "      <td>21:14:40</td>\n",
       "      <td>Monday</td>\n",
       "    </tr>\n",
       "    <tr>\n",
       "      <td>61240</td>\n",
       "      <td>BC8EC5CF</td>\n",
       "      <td>Red Lips: Gta (Rover Rework)</td>\n",
       "      <td>Rover</td>\n",
       "      <td>electronic</td>\n",
       "      <td>Saint-Petersburg</td>\n",
       "      <td>21:06:50</td>\n",
       "      <td>Monday</td>\n",
       "    </tr>\n",
       "    <tr>\n",
       "      <td>61241</td>\n",
       "      <td>29E04611</td>\n",
       "      <td>Bre Petrunko</td>\n",
       "      <td>Perunika Trio</td>\n",
       "      <td>world</td>\n",
       "      <td>Saint-Petersburg</td>\n",
       "      <td>13:56:00</td>\n",
       "      <td>Monday</td>\n",
       "    </tr>\n",
       "    <tr>\n",
       "      <td>61242</td>\n",
       "      <td>1B91C621</td>\n",
       "      <td>(Hello) Cloud Mountain</td>\n",
       "      <td>sleepmakeswaves</td>\n",
       "      <td>postrock</td>\n",
       "      <td>Saint-Petersburg</td>\n",
       "      <td>09:22:13</td>\n",
       "      <td>Monday</td>\n",
       "    </tr>\n",
       "    <tr>\n",
       "      <td>61249</td>\n",
       "      <td>D08D4A55</td>\n",
       "      <td>Maybe One Day (feat. Black Spade)</td>\n",
       "      <td>Blu &amp; Exile</td>\n",
       "      <td>hiphop</td>\n",
       "      <td>Saint-Petersburg</td>\n",
       "      <td>10:00:00</td>\n",
       "      <td>Monday</td>\n",
       "    </tr>\n",
       "  </tbody>\n",
       "</table>\n",
       "<p>18512 rows × 7 columns</p>\n",
       "</div>"
      ],
      "text/plain": [
       "        user_id                              track              artist  \\\n",
       "0      FFB692EC                  Kamigata To Boots    The Mass Missile   \n",
       "2        20EC38                  Funiculì funiculà         Mario Lanza   \n",
       "3      A3DD03C9              Dragons in the Sunset          Fire + Ice   \n",
       "5      842029A1                          Преданная           IMPERVTOR   \n",
       "9      E772D5C0                          Pessimist             unknown   \n",
       "...         ...                                ...                 ...   \n",
       "61239  D94F810B        Theme from the Walking Dead  Proyecto Halloween   \n",
       "61240  BC8EC5CF       Red Lips: Gta (Rover Rework)               Rover   \n",
       "61241  29E04611                       Bre Petrunko       Perunika Trio   \n",
       "61242  1B91C621             (Hello) Cloud Mountain     sleepmakeswaves   \n",
       "61249  D08D4A55  Maybe One Day (feat. Black Spade)         Blu & Exile   \n",
       "\n",
       "            genre              city      time        day  \n",
       "0            rock  Saint-Petersburg  20:28:33  Wednesday  \n",
       "2             pop  Saint-Petersburg  20:58:07  Wednesday  \n",
       "3            folk  Saint-Petersburg  08:37:09     Monday  \n",
       "5          rusrap  Saint-Petersburg  13:09:41     Friday  \n",
       "9           dance  Saint-Petersburg  21:20:49  Wednesday  \n",
       "...           ...               ...       ...        ...  \n",
       "61239        film  Saint-Petersburg  21:14:40     Monday  \n",
       "61240  electronic  Saint-Petersburg  21:06:50     Monday  \n",
       "61241       world  Saint-Petersburg  13:56:00     Monday  \n",
       "61242    postrock  Saint-Petersburg  09:22:13     Monday  \n",
       "61249      hiphop  Saint-Petersburg  10:00:00     Monday  \n",
       "\n",
       "[18512 rows x 7 columns]"
      ]
     },
     "metadata": {},
     "output_type": "display_data"
    }
   ],
   "source": [
    "spb_general = df[df['city'] == \"Saint-Petersburg\"]# получение таблицы spb_general из тех строк таблицы df,\n",
    "display(spb_general)# для которых значение в столбце 'city' равно 'Saint-Petersburg'\n"
   ]
  },
  {
   "cell_type": "markdown",
   "metadata": {
    "id": "MEJV-CX2_Zcu"
   },
   "source": [
    "Создадим функцию `genre_weekday()` с четырьмя параметрами:\n",
    "* таблица (датафрейм) с данными,\n",
    "* день недели,\n",
    "* начальная временная метка в формате 'hh:mm', \n",
    "* последняя временная метка в формате 'hh:mm'.\n",
    "\n",
    "Функция должна вернуть информацию о топ-10 жанров тех треков, которые прослушивали в указанный день, в промежутке между двумя отметками времени."
   ]
  },
  {
   "cell_type": "code",
   "execution_count": 30,
   "metadata": {
    "id": "laJT9BYl_Zcu"
   },
   "outputs": [],
   "source": [
    "def genre_weekday(table, day, time1, time2):\n",
    "    genre_df = table[(table['day'] == day) & (table['time'] > time1) & (table['time'] < time2)]\n",
    "    genre_df_grouped = genre_df.groupby('genre')['genre'].count()\n",
    "    genre_df_sorted = genre_df_grouped.sort_values(ascending=False)\n",
    "    return genre_df_sorted.head(10)"
   ]
  },
  {
   "cell_type": "markdown",
   "metadata": {
    "id": "la2s2_PF_Zcu"
   },
   "source": [
    "Cравним результаты функции `genre_weekday()` для Москвы и Санкт-Петербурга в понедельник утром (с 7:00 до 11:00) и в пятницу вечером (с 17:00 до 23:00):"
   ]
  },
  {
   "cell_type": "code",
   "execution_count": 31,
   "metadata": {
    "id": "yz7itPUQ_Zcu"
   },
   "outputs": [
    {
     "data": {
      "text/plain": [
       "genre\n",
       "pop            781\n",
       "dance          549\n",
       "electronic     480\n",
       "rock           474\n",
       "hiphop         286\n",
       "ruspop         186\n",
       "world          181\n",
       "rusrap         175\n",
       "alternative    164\n",
       "unknown        161\n",
       "Name: genre, dtype: int64"
      ]
     },
     "execution_count": 31,
     "metadata": {},
     "output_type": "execute_result"
    }
   ],
   "source": [
    "genre_weekday(moscow_general, 'Monday', '07:00', '11:00')\n",
    "# вызов функции для утра понедельника в Москве (вместо df — таблица moscow_general)\n",
    "# объекты, хранящие время, являются строками и сравниваются как строки"
   ]
  },
  {
   "cell_type": "code",
   "execution_count": 32,
   "metadata": {
    "id": "kwUcHPdy_Zcu"
   },
   "outputs": [
    {
     "data": {
      "text/plain": [
       "genre\n",
       "pop            218\n",
       "dance          182\n",
       "rock           162\n",
       "electronic     147\n",
       "hiphop          80\n",
       "ruspop          64\n",
       "alternative     58\n",
       "rusrap          55\n",
       "jazz            44\n",
       "classical       40\n",
       "Name: genre, dtype: int64"
      ]
     },
     "execution_count": 32,
     "metadata": {},
     "output_type": "execute_result"
    }
   ],
   "source": [
    "genre_weekday(spb_general, 'Monday', '07:00', '11:00')# вызов функции для утра понедельника в Петербурге (вместо df — таблица spb_general)"
   ]
  },
  {
   "cell_type": "code",
   "execution_count": 33,
   "metadata": {
    "id": "EzXVRE1o_Zcu"
   },
   "outputs": [
    {
     "data": {
      "text/plain": [
       "genre\n",
       "pop            713\n",
       "rock           517\n",
       "dance          495\n",
       "electronic     482\n",
       "hiphop         273\n",
       "world          208\n",
       "ruspop         170\n",
       "alternative    163\n",
       "classical      163\n",
       "rusrap         142\n",
       "Name: genre, dtype: int64"
      ]
     },
     "execution_count": 33,
     "metadata": {},
     "output_type": "execute_result"
    }
   ],
   "source": [
    "genre_weekday(moscow_general, 'Friday','17:00', '23:00')# вызов функции для вечера пятницы в Москве"
   ]
  },
  {
   "cell_type": "code",
   "execution_count": 34,
   "metadata": {
    "id": "JZaEKu5v_Zcu"
   },
   "outputs": [
    {
     "data": {
      "text/plain": [
       "genre\n",
       "pop            256\n",
       "rock           216\n",
       "electronic     216\n",
       "dance          210\n",
       "hiphop          97\n",
       "alternative     63\n",
       "jazz            61\n",
       "classical       60\n",
       "rusrap          59\n",
       "world           54\n",
       "Name: genre, dtype: int64"
      ]
     },
     "execution_count": 34,
     "metadata": {},
     "output_type": "execute_result"
    }
   ],
   "source": [
    "genre_weekday(spb_general, 'Friday','17:00', '23:00')# вызов функции для вечера пятницы в Петербурге"
   ]
  },
  {
   "cell_type": "markdown",
   "metadata": {
    "id": "wrCe4MNX_Zcu"
   },
   "source": [
    "**Выводы**\n",
    "\n",
    "Если сравнить топ-10 жанров в понедельник утром, можно сделать такие выводы:\n",
    "\n",
    "1. В Москве и Петербурге слушают похожую музыку. Единственное отличие — в московский рейтинг вошёл жанр “world”, а в петербургский — джаз и классика.\n",
    "\n",
    "2. В Москве пропущенных значений оказалось так много, что значение `'unknown'` заняло десятое место среди самых популярных жанров. Значит, пропущенные значения занимают существенную долю в данных и угрожают достоверности исследования.\n",
    "\n",
    "Вечер пятницы не меняет эту картину. Некоторые жанры поднимаются немного выше, другие спускаются, но в целом топ-10 остаётся тем же самым.\n",
    "\n",
    "Таким образом, вторая гипотеза подтвердилась лишь частично:\n",
    "* Пользователи слушают похожую музыку в начале недели и в конце.\n",
    "* Разница между Москвой и Петербургом не слишком выражена. В Москве чаще слушают русскую популярную музыку, в Петербурге — джаз.\n",
    "\n",
    "Однако пропуски в данных ставят под сомнение этот результат. В Москве их так много, что рейтинг топ-10 мог бы выглядеть иначе, если бы не утерянные  данные о жанрах."
   ]
  },
  {
   "cell_type": "markdown",
   "metadata": {
    "id": "JolODAqr_Zcu"
   },
   "source": [
    "### Жанровые предпочтения в Москве и Петербурге\n",
    "\n",
    "Гипотеза: Петербург — столица рэпа, музыку этого жанра там слушают чаще, чем в Москве.  А Москва — город контрастов, в котором, тем не менее, преобладает поп-музыка."
   ]
  },
  {
   "cell_type": "markdown",
   "metadata": {
    "id": "DlegSvaT_Zcu"
   },
   "source": [
    "Сгруппируем таблицу `moscow_general` по жанру и посчитайте прослушивания треков каждого жанра методом `count()`. Затем отсортируем результат в порядке убывания и сохраним его в таблице `moscow_genres`."
   ]
  },
  {
   "cell_type": "code",
   "execution_count": 35,
   "metadata": {
    "id": "r19lIPke_Zcu"
   },
   "outputs": [],
   "source": [
    "moscow_genres = moscow_general.groupby('genre')['genre'].count().sort_values(ascending = False)"
   ]
  },
  {
   "cell_type": "code",
   "execution_count": 36,
   "metadata": {
    "id": "WhCSooF8_Zcv"
   },
   "outputs": [
    {
     "data": {
      "text/plain": [
       "genre\n",
       "pop            5892\n",
       "dance          4435\n",
       "rock           3965\n",
       "electronic     3786\n",
       "hiphop         2096\n",
       "classical      1616\n",
       "world          1432\n",
       "alternative    1379\n",
       "ruspop         1372\n",
       "rusrap         1161\n",
       "Name: genre, dtype: int64"
      ]
     },
     "execution_count": 36,
     "metadata": {},
     "output_type": "execute_result"
    }
   ],
   "source": [
    "moscow_genres.head(10)# просмотр первых 10 строк moscow_genres"
   ]
  },
  {
   "cell_type": "markdown",
   "metadata": {
    "id": "cnPG2vnN_Zcv"
   },
   "source": [
    "Теперь повторим то же и для Петербурга."
   ]
  },
  {
   "cell_type": "code",
   "execution_count": 37,
   "metadata": {
    "id": "gluLIpE7_Zcv"
   },
   "outputs": [],
   "source": [
    "spb_genres = spb_general.groupby('genre')['genre'].count().sort_values(ascending = False)"
   ]
  },
  {
   "cell_type": "code",
   "execution_count": 38,
   "metadata": {
    "id": "uaGJHjVU_Zcv"
   },
   "outputs": [
    {
     "data": {
      "text/plain": [
       "genre\n",
       "pop            2431\n",
       "dance          1932\n",
       "rock           1879\n",
       "electronic     1736\n",
       "hiphop          960\n",
       "alternative     649\n",
       "classical       646\n",
       "rusrap          564\n",
       "ruspop          538\n",
       "world           515\n",
       "Name: genre, dtype: int64"
      ]
     },
     "execution_count": 38,
     "metadata": {},
     "output_type": "execute_result"
    }
   ],
   "source": [
    "spb_genres.head(10)# просмотр первых 10 строк spb_genres"
   ]
  },
  {
   "cell_type": "markdown",
   "metadata": {
    "id": "RY51YJYu_Zcv"
   },
   "source": [
    "**Выводы**"
   ]
  },
  {
   "cell_type": "markdown",
   "metadata": {
    "id": "nVhnJEm__Zcv"
   },
   "source": [
    "Гипотеза частично подтвердилась:\n",
    "* Поп-музыка — самый популярный жанр в Москве, как и предполагала гипотеза. Более того, в топ-10 жанров встречается близкий жанр — русская популярная музыка.\n",
    "* Вопреки ожиданиям, рэп одинаково популярен в Москве и Петербурге. \n"
   ]
  },
  {
   "cell_type": "markdown",
   "metadata": {
    "id": "ykKQ0N65_Zcv"
   },
   "source": [
    "## Итоги исследования"
   ]
  },
  {
   "cell_type": "markdown",
   "metadata": {
    "id": "tjUwbHb3_Zcv"
   },
   "source": [
    "Мы проверили три гипотезы и установили:\n",
    "\n",
    "1. День недели по-разному влияет на активность пользователей в Москве и Петербурге. \n",
    "\n",
    "Первая гипотеза полностью подтвердилась.\n",
    "\n",
    "2. Музыкальные предпочтения не сильно меняются в течение недели — будь то Москва или Петербург. Небольшие различия заметны в начале недели, по понедельникам:\n",
    "* в Москве слушают музыку жанра “world”,\n",
    "* в Петербурге — джаз и классику.\n",
    "\n",
    "Таким образом, вторая гипотеза подтвердилась лишь отчасти. Этот результат мог оказаться иным, если бы не пропуски в данных.\n",
    "\n",
    "3. Во вкусах пользователей Москвы и Петербурга больше общего чем различий. Вопреки ожиданиям, предпочтения жанров в Петербурге напоминают московские.\n",
    "\n",
    "Третья гипотеза не подтвердилась. Если различия в предпочтениях и существуют, на основной массе пользователей они незаметны."
   ]
  }
 ],
 "metadata": {
  "ExecuteTimeLog": [
   {
    "duration": 766,
    "start_time": "2021-10-18T07:50:43.422Z"
   },
   {
    "duration": 3,
    "start_time": "2021-10-18T07:50:50.456Z"
   },
   {
    "duration": 3,
    "start_time": "2021-10-18T07:50:57.769Z"
   },
   {
    "duration": 438,
    "start_time": "2021-10-18T07:53:00.809Z"
   },
   {
    "duration": 388,
    "start_time": "2021-10-18T07:53:08.790Z"
   },
   {
    "duration": 637,
    "start_time": "2021-10-18T07:54:07.897Z"
   },
   {
    "duration": 965,
    "start_time": "2021-10-18T07:54:28.302Z"
   },
   {
    "duration": 192,
    "start_time": "2021-10-18T07:54:33.556Z"
   },
   {
    "duration": 3,
    "start_time": "2021-10-18T07:54:40.963Z"
   },
   {
    "duration": 207,
    "start_time": "2021-10-18T07:54:40.973Z"
   },
   {
    "duration": 19,
    "start_time": "2021-10-18T07:54:41.183Z"
   },
   {
    "duration": 8,
    "start_time": "2021-10-18T07:54:41.205Z"
   },
   {
    "duration": 7,
    "start_time": "2021-10-18T07:54:41.216Z"
   },
   {
    "duration": 13,
    "start_time": "2021-10-18T07:54:41.225Z"
   },
   {
    "duration": 9,
    "start_time": "2021-10-18T07:54:41.241Z"
   },
   {
    "duration": 5,
    "start_time": "2021-10-18T07:54:41.252Z"
   },
   {
    "duration": 10,
    "start_time": "2021-10-18T07:54:41.261Z"
   },
   {
    "duration": 6,
    "start_time": "2021-10-18T07:54:41.274Z"
   },
   {
    "duration": 9,
    "start_time": "2021-10-18T07:54:41.301Z"
   },
   {
    "duration": 8,
    "start_time": "2021-10-18T07:54:41.312Z"
   },
   {
    "duration": 6,
    "start_time": "2021-10-18T07:54:41.322Z"
   },
   {
    "duration": 15,
    "start_time": "2021-10-18T07:54:41.331Z"
   },
   {
    "duration": 7,
    "start_time": "2021-10-18T07:54:41.348Z"
   },
   {
    "duration": 17,
    "start_time": "2021-10-18T07:54:41.358Z"
   },
   {
    "duration": 23,
    "start_time": "2021-10-18T07:54:41.377Z"
   },
   {
    "duration": 3,
    "start_time": "2021-10-18T07:54:41.403Z"
   },
   {
    "duration": 10,
    "start_time": "2021-10-18T07:54:41.409Z"
   },
   {
    "duration": 14,
    "start_time": "2021-10-18T07:54:41.421Z"
   },
   {
    "duration": 9,
    "start_time": "2021-10-18T07:54:41.437Z"
   },
   {
    "duration": 17,
    "start_time": "2021-10-18T07:54:41.448Z"
   },
   {
    "duration": 14,
    "start_time": "2021-10-18T07:54:41.468Z"
   },
   {
    "duration": 15,
    "start_time": "2021-10-18T07:54:41.486Z"
   },
   {
    "duration": 8,
    "start_time": "2021-10-18T07:54:41.504Z"
   },
   {
    "duration": 12,
    "start_time": "2021-10-18T07:54:41.514Z"
   },
   {
    "duration": 9,
    "start_time": "2021-10-18T07:54:41.529Z"
   },
   {
    "duration": 11,
    "start_time": "2021-10-18T07:54:41.541Z"
   },
   {
    "duration": 8,
    "start_time": "2021-10-18T07:54:41.555Z"
   },
   {
    "duration": 10,
    "start_time": "2021-10-18T07:54:41.565Z"
   },
   {
    "duration": 15,
    "start_time": "2021-10-18T07:54:41.577Z"
   },
   {
    "duration": 13,
    "start_time": "2021-10-18T07:54:41.594Z"
   },
   {
    "duration": 12,
    "start_time": "2021-10-18T07:54:41.609Z"
   },
   {
    "duration": 9,
    "start_time": "2021-10-18T07:54:41.624Z"
   },
   {
    "duration": 8,
    "start_time": "2021-10-18T07:54:41.635Z"
   },
   {
    "duration": 10,
    "start_time": "2021-10-18T07:54:41.645Z"
   },
   {
    "duration": 10,
    "start_time": "2021-10-18T07:54:41.657Z"
   },
   {
    "duration": 10,
    "start_time": "2021-10-18T07:54:41.669Z"
   },
   {
    "duration": 250,
    "start_time": "2021-10-18T07:54:50.504Z"
   },
   {
    "duration": 27,
    "start_time": "2021-10-18T07:55:22.202Z"
   },
   {
    "duration": 36,
    "start_time": "2021-10-18T07:57:01.703Z"
   },
   {
    "duration": 6,
    "start_time": "2021-10-18T08:08:10.488Z"
   },
   {
    "duration": 43,
    "start_time": "2021-10-18T08:15:40.627Z"
   },
   {
    "duration": 5,
    "start_time": "2021-10-18T08:16:30.810Z"
   },
   {
    "duration": 4,
    "start_time": "2021-10-18T08:16:56.202Z"
   },
   {
    "duration": 202,
    "start_time": "2021-10-18T08:16:56.212Z"
   },
   {
    "duration": 19,
    "start_time": "2021-10-18T08:16:56.417Z"
   },
   {
    "duration": 63,
    "start_time": "2021-10-18T08:16:56.439Z"
   },
   {
    "duration": 5,
    "start_time": "2021-10-18T08:16:56.505Z"
   },
   {
    "duration": 42,
    "start_time": "2021-10-18T08:16:56.513Z"
   },
   {
    "duration": 6,
    "start_time": "2021-10-18T08:16:56.557Z"
   },
   {
    "duration": 36,
    "start_time": "2021-10-18T08:16:56.565Z"
   },
   {
    "duration": 5,
    "start_time": "2021-10-18T08:16:56.605Z"
   },
   {
    "duration": 8,
    "start_time": "2021-10-18T08:16:56.613Z"
   },
   {
    "duration": 9,
    "start_time": "2021-10-18T08:16:56.624Z"
   },
   {
    "duration": 6,
    "start_time": "2021-10-18T08:16:56.636Z"
   },
   {
    "duration": 6,
    "start_time": "2021-10-18T08:16:56.644Z"
   },
   {
    "duration": 6,
    "start_time": "2021-10-18T08:16:56.653Z"
   },
   {
    "duration": 40,
    "start_time": "2021-10-18T08:16:56.661Z"
   },
   {
    "duration": 6,
    "start_time": "2021-10-18T08:16:56.704Z"
   },
   {
    "duration": 9,
    "start_time": "2021-10-18T08:16:56.712Z"
   },
   {
    "duration": 8,
    "start_time": "2021-10-18T08:16:56.723Z"
   },
   {
    "duration": 8,
    "start_time": "2021-10-18T08:16:56.733Z"
   },
   {
    "duration": 7,
    "start_time": "2021-10-18T08:16:56.743Z"
   },
   {
    "duration": 11,
    "start_time": "2021-10-18T08:16:56.753Z"
   },
   {
    "duration": 8,
    "start_time": "2021-10-18T08:16:56.766Z"
   },
   {
    "duration": 25,
    "start_time": "2021-10-18T08:16:56.776Z"
   },
   {
    "duration": 5,
    "start_time": "2021-10-18T08:16:56.806Z"
   },
   {
    "duration": 7,
    "start_time": "2021-10-18T08:16:56.814Z"
   },
   {
    "duration": 11,
    "start_time": "2021-10-18T08:16:56.824Z"
   },
   {
    "duration": 7,
    "start_time": "2021-10-18T08:16:56.839Z"
   },
   {
    "duration": 9,
    "start_time": "2021-10-18T08:16:56.848Z"
   },
   {
    "duration": 8,
    "start_time": "2021-10-18T08:16:56.859Z"
   },
   {
    "duration": 31,
    "start_time": "2021-10-18T08:16:56.869Z"
   },
   {
    "duration": 11,
    "start_time": "2021-10-18T08:16:56.902Z"
   },
   {
    "duration": 9,
    "start_time": "2021-10-18T08:16:56.916Z"
   },
   {
    "duration": 11,
    "start_time": "2021-10-18T08:16:56.928Z"
   },
   {
    "duration": 11,
    "start_time": "2021-10-18T08:16:56.941Z"
   },
   {
    "duration": 7,
    "start_time": "2021-10-18T08:16:56.954Z"
   },
   {
    "duration": 8,
    "start_time": "2021-10-18T08:16:56.963Z"
   },
   {
    "duration": 8,
    "start_time": "2021-10-18T08:16:56.973Z"
   },
   {
    "duration": 17,
    "start_time": "2021-10-18T08:16:56.983Z"
   },
   {
    "duration": 6,
    "start_time": "2021-10-18T08:17:09.030Z"
   },
   {
    "duration": 37,
    "start_time": "2021-10-18T08:17:20.548Z"
   },
   {
    "duration": 5,
    "start_time": "2021-10-18T08:17:28.154Z"
   },
   {
    "duration": 35,
    "start_time": "2021-10-18T08:18:03.956Z"
   },
   {
    "duration": 6,
    "start_time": "2021-10-18T08:18:09.813Z"
   },
   {
    "duration": 33,
    "start_time": "2021-10-18T08:18:14.292Z"
   },
   {
    "duration": 7,
    "start_time": "2021-10-18T08:18:17.916Z"
   },
   {
    "duration": 5,
    "start_time": "2021-10-18T08:19:42.665Z"
   },
   {
    "duration": 32,
    "start_time": "2021-10-18T08:21:18.878Z"
   },
   {
    "duration": 8690,
    "start_time": "2021-10-18T08:30:46.001Z"
   },
   {
    "duration": 4,
    "start_time": "2021-10-18T08:31:04.086Z"
   },
   {
    "duration": 234,
    "start_time": "2021-10-18T08:31:04.095Z"
   },
   {
    "duration": 16,
    "start_time": "2021-10-18T08:31:04.332Z"
   },
   {
    "duration": 66,
    "start_time": "2021-10-18T08:31:04.351Z"
   },
   {
    "duration": 6,
    "start_time": "2021-10-18T08:31:04.419Z"
   },
   {
    "duration": 72,
    "start_time": "2021-10-18T08:31:04.428Z"
   },
   {
    "duration": 7,
    "start_time": "2021-10-18T08:31:04.503Z"
   },
   {
    "duration": 46,
    "start_time": "2021-10-18T08:31:04.514Z"
   },
   {
    "duration": 8458,
    "start_time": "2021-10-18T08:31:04.566Z"
   },
   {
    "duration": 98805,
    "start_time": "2021-10-18T08:29:34.223Z"
   },
   {
    "duration": 98792,
    "start_time": "2021-10-18T08:29:34.237Z"
   },
   {
    "duration": 98780,
    "start_time": "2021-10-18T08:29:34.251Z"
   },
   {
    "duration": 98772,
    "start_time": "2021-10-18T08:29:34.260Z"
   },
   {
    "duration": 98762,
    "start_time": "2021-10-18T08:29:34.272Z"
   },
   {
    "duration": 98753,
    "start_time": "2021-10-18T08:29:34.282Z"
   },
   {
    "duration": 98743,
    "start_time": "2021-10-18T08:29:34.293Z"
   },
   {
    "duration": 98736,
    "start_time": "2021-10-18T08:29:34.302Z"
   },
   {
    "duration": 98708,
    "start_time": "2021-10-18T08:29:34.331Z"
   },
   {
    "duration": 98699,
    "start_time": "2021-10-18T08:29:34.341Z"
   },
   {
    "duration": 98689,
    "start_time": "2021-10-18T08:29:34.352Z"
   },
   {
    "duration": 98681,
    "start_time": "2021-10-18T08:29:34.362Z"
   },
   {
    "duration": 98671,
    "start_time": "2021-10-18T08:29:34.373Z"
   },
   {
    "duration": 98661,
    "start_time": "2021-10-18T08:29:34.385Z"
   },
   {
    "duration": 98652,
    "start_time": "2021-10-18T08:29:34.395Z"
   },
   {
    "duration": 98645,
    "start_time": "2021-10-18T08:29:34.403Z"
   },
   {
    "duration": 98610,
    "start_time": "2021-10-18T08:29:34.440Z"
   },
   {
    "duration": 98601,
    "start_time": "2021-10-18T08:29:34.450Z"
   },
   {
    "duration": 98511,
    "start_time": "2021-10-18T08:29:34.542Z"
   },
   {
    "duration": 98412,
    "start_time": "2021-10-18T08:29:34.642Z"
   },
   {
    "duration": 98390,
    "start_time": "2021-10-18T08:29:34.666Z"
   },
   {
    "duration": 98372,
    "start_time": "2021-10-18T08:29:34.686Z"
   },
   {
    "duration": 98361,
    "start_time": "2021-10-18T08:29:34.698Z"
   },
   {
    "duration": 98353,
    "start_time": "2021-10-18T08:29:34.708Z"
   },
   {
    "duration": 98342,
    "start_time": "2021-10-18T08:29:34.720Z"
   },
   {
    "duration": 98369,
    "start_time": "2021-10-18T08:29:34.731Z"
   },
   {
    "duration": 98322,
    "start_time": "2021-10-18T08:29:34.780Z"
   },
   {
    "duration": 98313,
    "start_time": "2021-10-18T08:29:34.790Z"
   },
   {
    "duration": 98300,
    "start_time": "2021-10-18T08:29:34.805Z"
   },
   {
    "duration": 6,
    "start_time": "2021-10-18T08:32:16.158Z"
   },
   {
    "duration": 37,
    "start_time": "2021-10-18T08:32:19.649Z"
   },
   {
    "duration": 6,
    "start_time": "2021-10-18T08:32:23.481Z"
   },
   {
    "duration": 33,
    "start_time": "2021-10-18T08:32:27.101Z"
   },
   {
    "duration": 98902,
    "start_time": "2021-10-18T08:31:03.558Z"
   },
   {
    "duration": 33,
    "start_time": "2021-10-18T08:32:48.002Z"
   },
   {
    "duration": 326,
    "start_time": "2021-10-18T08:33:57.619Z"
   },
   {
    "duration": 33,
    "start_time": "2021-10-18T08:34:01.379Z"
   },
   {
    "duration": 417,
    "start_time": "2021-10-18T08:40:43.223Z"
   },
   {
    "duration": 328,
    "start_time": "2021-10-18T08:43:55.437Z"
   },
   {
    "duration": 363,
    "start_time": "2021-10-18T08:47:09.762Z"
   },
   {
    "duration": 6,
    "start_time": "2021-10-18T08:59:49.547Z"
   },
   {
    "duration": 35,
    "start_time": "2021-10-18T08:59:56.142Z"
   },
   {
    "duration": 342,
    "start_time": "2021-10-18T09:13:38.751Z"
   },
   {
    "duration": 334,
    "start_time": "2021-10-18T09:14:13.591Z"
   },
   {
    "duration": 4,
    "start_time": "2021-10-18T09:14:27.445Z"
   },
   {
    "duration": 196,
    "start_time": "2021-10-18T09:14:27.457Z"
   },
   {
    "duration": 15,
    "start_time": "2021-10-18T09:14:27.656Z"
   },
   {
    "duration": 59,
    "start_time": "2021-10-18T09:14:27.674Z"
   },
   {
    "duration": 28,
    "start_time": "2021-10-18T09:14:27.736Z"
   },
   {
    "duration": 68,
    "start_time": "2021-10-18T09:14:27.766Z"
   },
   {
    "duration": 5,
    "start_time": "2021-10-18T09:14:27.836Z"
   },
   {
    "duration": 58,
    "start_time": "2021-10-18T09:14:27.844Z"
   },
   {
    "duration": 343,
    "start_time": "2021-10-18T09:14:27.906Z"
   },
   {
    "duration": 98372,
    "start_time": "2021-10-18T09:12:49.880Z"
   },
   {
    "duration": 98363,
    "start_time": "2021-10-18T09:12:49.890Z"
   },
   {
    "duration": 98314,
    "start_time": "2021-10-18T09:12:49.941Z"
   },
   {
    "duration": 98303,
    "start_time": "2021-10-18T09:12:49.953Z"
   },
   {
    "duration": 98291,
    "start_time": "2021-10-18T09:12:49.966Z"
   },
   {
    "duration": 98280,
    "start_time": "2021-10-18T09:12:49.978Z"
   },
   {
    "duration": 98271,
    "start_time": "2021-10-18T09:12:49.988Z"
   },
   {
    "duration": 98261,
    "start_time": "2021-10-18T09:12:50.000Z"
   },
   {
    "duration": 98250,
    "start_time": "2021-10-18T09:12:50.012Z"
   },
   {
    "duration": 98235,
    "start_time": "2021-10-18T09:12:50.028Z"
   },
   {
    "duration": 98198,
    "start_time": "2021-10-18T09:12:50.066Z"
   },
   {
    "duration": 98185,
    "start_time": "2021-10-18T09:12:50.080Z"
   },
   {
    "duration": 98176,
    "start_time": "2021-10-18T09:12:50.091Z"
   },
   {
    "duration": 98165,
    "start_time": "2021-10-18T09:12:50.103Z"
   },
   {
    "duration": 98154,
    "start_time": "2021-10-18T09:12:50.115Z"
   },
   {
    "duration": 98144,
    "start_time": "2021-10-18T09:12:50.126Z"
   },
   {
    "duration": 98131,
    "start_time": "2021-10-18T09:12:50.140Z"
   },
   {
    "duration": 98040,
    "start_time": "2021-10-18T09:12:50.233Z"
   },
   {
    "duration": 98030,
    "start_time": "2021-10-18T09:12:50.244Z"
   },
   {
    "duration": 98019,
    "start_time": "2021-10-18T09:12:50.256Z"
   },
   {
    "duration": 98009,
    "start_time": "2021-10-18T09:12:50.267Z"
   },
   {
    "duration": 97965,
    "start_time": "2021-10-18T09:12:50.312Z"
   },
   {
    "duration": 97956,
    "start_time": "2021-10-18T09:12:50.322Z"
   },
   {
    "duration": 97945,
    "start_time": "2021-10-18T09:12:50.335Z"
   },
   {
    "duration": 97935,
    "start_time": "2021-10-18T09:12:50.346Z"
   },
   {
    "duration": 97924,
    "start_time": "2021-10-18T09:12:50.358Z"
   },
   {
    "duration": 97913,
    "start_time": "2021-10-18T09:12:50.370Z"
   },
   {
    "duration": 97904,
    "start_time": "2021-10-18T09:12:50.380Z"
   },
   {
    "duration": 97895,
    "start_time": "2021-10-18T09:12:50.391Z"
   },
   {
    "duration": 346,
    "start_time": "2021-10-18T09:15:33.063Z"
   },
   {
    "duration": 98834,
    "start_time": "2021-10-18T09:14:51.250Z"
   },
   {
    "duration": 32,
    "start_time": "2021-10-18T09:16:32.904Z"
   },
   {
    "duration": 9129,
    "start_time": "2021-10-18T09:16:35.959Z"
   },
   {
    "duration": 98373,
    "start_time": "2021-10-18T09:15:06.721Z"
   },
   {
    "duration": 4,
    "start_time": "2021-10-18T09:16:57.413Z"
   },
   {
    "duration": 202,
    "start_time": "2021-10-18T09:16:57.424Z"
   },
   {
    "duration": 16,
    "start_time": "2021-10-18T09:16:57.629Z"
   },
   {
    "duration": 57,
    "start_time": "2021-10-18T09:16:57.649Z"
   },
   {
    "duration": 6,
    "start_time": "2021-10-18T09:16:57.709Z"
   },
   {
    "duration": 44,
    "start_time": "2021-10-18T09:16:57.717Z"
   },
   {
    "duration": 38,
    "start_time": "2021-10-18T09:16:57.764Z"
   },
   {
    "duration": 36,
    "start_time": "2021-10-18T09:16:57.805Z"
   },
   {
    "duration": 8952,
    "start_time": "2021-10-18T09:16:57.846Z"
   },
   {
    "duration": 98724,
    "start_time": "2021-10-18T09:15:28.077Z"
   },
   {
    "duration": 98694,
    "start_time": "2021-10-18T09:15:28.109Z"
   },
   {
    "duration": 98679,
    "start_time": "2021-10-18T09:15:28.125Z"
   },
   {
    "duration": 98644,
    "start_time": "2021-10-18T09:15:28.161Z"
   },
   {
    "duration": 98633,
    "start_time": "2021-10-18T09:15:28.174Z"
   },
   {
    "duration": 98624,
    "start_time": "2021-10-18T09:15:28.184Z"
   },
   {
    "duration": 98614,
    "start_time": "2021-10-18T09:15:28.195Z"
   },
   {
    "duration": 98605,
    "start_time": "2021-10-18T09:15:28.205Z"
   },
   {
    "duration": 98594,
    "start_time": "2021-10-18T09:15:28.217Z"
   },
   {
    "duration": 98587,
    "start_time": "2021-10-18T09:15:28.226Z"
   },
   {
    "duration": 98575,
    "start_time": "2021-10-18T09:15:28.239Z"
   },
   {
    "duration": 98565,
    "start_time": "2021-10-18T09:15:28.250Z"
   },
   {
    "duration": 98529,
    "start_time": "2021-10-18T09:15:28.287Z"
   },
   {
    "duration": 98522,
    "start_time": "2021-10-18T09:15:28.295Z"
   },
   {
    "duration": 98512,
    "start_time": "2021-10-18T09:15:28.306Z"
   },
   {
    "duration": 98506,
    "start_time": "2021-10-18T09:15:28.314Z"
   },
   {
    "duration": 98498,
    "start_time": "2021-10-18T09:15:28.323Z"
   },
   {
    "duration": 98488,
    "start_time": "2021-10-18T09:15:28.334Z"
   },
   {
    "duration": 98480,
    "start_time": "2021-10-18T09:15:28.343Z"
   },
   {
    "duration": 98471,
    "start_time": "2021-10-18T09:15:28.354Z"
   },
   {
    "duration": 98464,
    "start_time": "2021-10-18T09:15:28.363Z"
   },
   {
    "duration": 98456,
    "start_time": "2021-10-18T09:15:28.372Z"
   },
   {
    "duration": 98422,
    "start_time": "2021-10-18T09:15:28.408Z"
   },
   {
    "duration": 98396,
    "start_time": "2021-10-18T09:15:28.436Z"
   },
   {
    "duration": 98372,
    "start_time": "2021-10-18T09:15:28.461Z"
   },
   {
    "duration": 98339,
    "start_time": "2021-10-18T09:15:28.496Z"
   },
   {
    "duration": 98303,
    "start_time": "2021-10-18T09:15:28.533Z"
   },
   {
    "duration": 98273,
    "start_time": "2021-10-18T09:15:28.565Z"
   },
   {
    "duration": 98238,
    "start_time": "2021-10-18T09:15:28.601Z"
   },
   {
    "duration": 8495,
    "start_time": "2021-10-18T09:17:20.170Z"
   },
   {
    "duration": 98635,
    "start_time": "2021-10-18T09:15:50.033Z"
   },
   {
    "duration": 98482,
    "start_time": "2021-10-18T09:15:59.978Z"
   },
   {
    "duration": 345,
    "start_time": "2021-10-18T09:18:09.937Z"
   },
   {
    "duration": 33,
    "start_time": "2021-10-18T09:18:31.534Z"
   },
   {
    "duration": 10480,
    "start_time": "2021-10-18T09:19:13.128Z"
   },
   {
    "duration": 25,
    "start_time": "2021-10-18T09:19:53.254Z"
   },
   {
    "duration": 23,
    "start_time": "2021-10-18T09:20:08.198Z"
   },
   {
    "duration": 33,
    "start_time": "2021-10-18T09:20:11.481Z"
   },
   {
    "duration": 9297,
    "start_time": "2021-10-18T09:21:11.706Z"
   },
   {
    "duration": 98628,
    "start_time": "2021-10-18T09:19:42.378Z"
   },
   {
    "duration": 22,
    "start_time": "2021-10-18T09:48:54.906Z"
   },
   {
    "duration": 32,
    "start_time": "2021-10-18T09:48:57.751Z"
   },
   {
    "duration": 820,
    "start_time": "2021-10-18T10:56:02.862Z"
   },
   {
    "duration": 197,
    "start_time": "2021-10-18T10:56:03.685Z"
   },
   {
    "duration": 31,
    "start_time": "2021-10-18T10:56:03.885Z"
   },
   {
    "duration": 34,
    "start_time": "2021-10-18T10:56:03.920Z"
   },
   {
    "duration": 5,
    "start_time": "2021-10-18T10:56:03.957Z"
   },
   {
    "duration": 76,
    "start_time": "2021-10-18T10:56:03.965Z"
   },
   {
    "duration": 5,
    "start_time": "2021-10-18T10:56:04.044Z"
   },
   {
    "duration": 60,
    "start_time": "2021-10-18T10:56:04.053Z"
   },
   {
    "duration": 25,
    "start_time": "2021-10-18T10:56:04.116Z"
   },
   {
    "duration": 59,
    "start_time": "2021-10-18T10:56:04.143Z"
   },
   {
    "duration": 3,
    "start_time": "2021-10-18T10:56:04.204Z"
   },
   {
    "duration": 10,
    "start_time": "2021-10-18T10:56:04.209Z"
   },
   {
    "duration": 9,
    "start_time": "2021-10-18T10:56:04.222Z"
   },
   {
    "duration": 7,
    "start_time": "2021-10-18T10:56:04.234Z"
   },
   {
    "duration": 7,
    "start_time": "2021-10-18T10:56:04.243Z"
   },
   {
    "duration": 6,
    "start_time": "2021-10-18T10:56:04.252Z"
   },
   {
    "duration": 7,
    "start_time": "2021-10-18T10:56:04.260Z"
   },
   {
    "duration": 9,
    "start_time": "2021-10-18T10:56:04.269Z"
   },
   {
    "duration": 9,
    "start_time": "2021-10-18T10:56:04.301Z"
   },
   {
    "duration": 9,
    "start_time": "2021-10-18T10:56:04.312Z"
   },
   {
    "duration": 10,
    "start_time": "2021-10-18T10:56:04.323Z"
   },
   {
    "duration": 11,
    "start_time": "2021-10-18T10:56:04.335Z"
   },
   {
    "duration": 10,
    "start_time": "2021-10-18T10:56:04.351Z"
   },
   {
    "duration": 11,
    "start_time": "2021-10-18T10:56:04.363Z"
   },
   {
    "duration": 12,
    "start_time": "2021-10-18T10:56:04.377Z"
   },
   {
    "duration": 21,
    "start_time": "2021-10-18T10:56:04.391Z"
   },
   {
    "duration": 8,
    "start_time": "2021-10-18T10:56:04.414Z"
   },
   {
    "duration": 13,
    "start_time": "2021-10-18T10:56:04.425Z"
   },
   {
    "duration": 15,
    "start_time": "2021-10-18T10:56:04.441Z"
   },
   {
    "duration": 12,
    "start_time": "2021-10-18T10:56:04.458Z"
   },
   {
    "duration": 20,
    "start_time": "2021-10-18T10:56:04.473Z"
   },
   {
    "duration": 10,
    "start_time": "2021-10-18T10:56:04.496Z"
   },
   {
    "duration": 19,
    "start_time": "2021-10-18T10:56:04.508Z"
   },
   {
    "duration": 11,
    "start_time": "2021-10-18T10:56:04.530Z"
   },
   {
    "duration": 8,
    "start_time": "2021-10-18T10:56:04.543Z"
   },
   {
    "duration": 9,
    "start_time": "2021-10-18T10:56:04.553Z"
   },
   {
    "duration": 9,
    "start_time": "2021-10-18T10:56:04.564Z"
   },
   {
    "duration": 10,
    "start_time": "2021-10-18T10:56:04.575Z"
   },
   {
    "duration": 5,
    "start_time": "2021-10-18T10:56:18.726Z"
   },
   {
    "duration": 34,
    "start_time": "2021-10-18T10:56:22.489Z"
   },
   {
    "duration": 25,
    "start_time": "2021-10-18T10:56:32.953Z"
   },
   {
    "duration": 32,
    "start_time": "2021-10-18T10:56:35.423Z"
   },
   {
    "duration": 40,
    "start_time": "2021-10-18T10:56:42.984Z"
   },
   {
    "duration": 5,
    "start_time": "2021-10-18T10:56:47.520Z"
   },
   {
    "duration": 37,
    "start_time": "2021-10-18T10:56:50.728Z"
   },
   {
    "duration": 3,
    "start_time": "2021-10-18T10:57:06.162Z"
   },
   {
    "duration": 204,
    "start_time": "2021-10-18T10:57:06.167Z"
   },
   {
    "duration": 35,
    "start_time": "2021-10-18T10:57:06.374Z"
   },
   {
    "duration": 33,
    "start_time": "2021-10-18T10:57:06.413Z"
   },
   {
    "duration": 4,
    "start_time": "2021-10-18T10:57:06.449Z"
   },
   {
    "duration": 73,
    "start_time": "2021-10-18T10:57:06.456Z"
   },
   {
    "duration": 5,
    "start_time": "2021-10-18T10:57:06.532Z"
   },
   {
    "duration": 62,
    "start_time": "2021-10-18T10:57:06.540Z"
   },
   {
    "duration": 24,
    "start_time": "2021-10-18T10:57:06.604Z"
   },
   {
    "duration": 31,
    "start_time": "2021-10-18T10:57:06.630Z"
   },
   {
    "duration": 10,
    "start_time": "2021-10-18T10:57:06.663Z"
   },
   {
    "duration": 25,
    "start_time": "2021-10-18T10:57:06.675Z"
   },
   {
    "duration": 13,
    "start_time": "2021-10-18T10:57:06.703Z"
   },
   {
    "duration": 6,
    "start_time": "2021-10-18T10:57:06.718Z"
   },
   {
    "duration": 13,
    "start_time": "2021-10-18T10:57:06.726Z"
   },
   {
    "duration": 11,
    "start_time": "2021-10-18T10:57:06.741Z"
   },
   {
    "duration": 13,
    "start_time": "2021-10-18T10:57:06.754Z"
   },
   {
    "duration": 16,
    "start_time": "2021-10-18T10:57:06.769Z"
   },
   {
    "duration": 11,
    "start_time": "2021-10-18T10:57:06.791Z"
   },
   {
    "duration": 14,
    "start_time": "2021-10-18T10:57:06.805Z"
   },
   {
    "duration": 12,
    "start_time": "2021-10-18T10:57:06.822Z"
   },
   {
    "duration": 16,
    "start_time": "2021-10-18T10:57:06.836Z"
   },
   {
    "duration": 16,
    "start_time": "2021-10-18T10:57:06.855Z"
   },
   {
    "duration": 14,
    "start_time": "2021-10-18T10:57:06.874Z"
   },
   {
    "duration": 13,
    "start_time": "2021-10-18T10:57:06.890Z"
   },
   {
    "duration": 9,
    "start_time": "2021-10-18T10:57:06.906Z"
   },
   {
    "duration": 11,
    "start_time": "2021-10-18T10:57:06.918Z"
   },
   {
    "duration": 13,
    "start_time": "2021-10-18T10:57:06.932Z"
   },
   {
    "duration": 8,
    "start_time": "2021-10-18T10:57:06.947Z"
   },
   {
    "duration": 16,
    "start_time": "2021-10-18T10:57:06.958Z"
   },
   {
    "duration": 16,
    "start_time": "2021-10-18T10:57:06.976Z"
   },
   {
    "duration": 14,
    "start_time": "2021-10-18T10:57:06.995Z"
   },
   {
    "duration": 20,
    "start_time": "2021-10-18T10:57:07.012Z"
   },
   {
    "duration": 8,
    "start_time": "2021-10-18T10:57:07.035Z"
   },
   {
    "duration": 20,
    "start_time": "2021-10-18T10:57:07.045Z"
   },
   {
    "duration": 14,
    "start_time": "2021-10-18T10:57:07.067Z"
   },
   {
    "duration": 19,
    "start_time": "2021-10-18T10:57:07.084Z"
   },
   {
    "duration": 10,
    "start_time": "2021-10-18T10:57:07.105Z"
   },
   {
    "duration": 6,
    "start_time": "2021-10-18T10:57:23.433Z"
   },
   {
    "duration": 34,
    "start_time": "2021-10-18T10:57:29.078Z"
   },
   {
    "duration": 5,
    "start_time": "2021-10-18T10:57:37.345Z"
   },
   {
    "duration": 31,
    "start_time": "2021-10-18T10:57:43.165Z"
   },
   {
    "duration": 4,
    "start_time": "2021-10-18T10:58:05.248Z"
   },
   {
    "duration": 203,
    "start_time": "2021-10-18T10:58:05.258Z"
   },
   {
    "duration": 15,
    "start_time": "2021-10-18T10:58:05.464Z"
   },
   {
    "duration": 51,
    "start_time": "2021-10-18T10:58:05.481Z"
   },
   {
    "duration": 6,
    "start_time": "2021-10-18T10:58:05.535Z"
   },
   {
    "duration": 74,
    "start_time": "2021-10-18T10:58:05.544Z"
   },
   {
    "duration": 5,
    "start_time": "2021-10-18T10:58:05.620Z"
   },
   {
    "duration": 38,
    "start_time": "2021-10-18T10:58:05.627Z"
   },
   {
    "duration": 48,
    "start_time": "2021-10-18T10:58:05.669Z"
   },
   {
    "duration": 33,
    "start_time": "2021-10-18T10:58:05.720Z"
   },
   {
    "duration": 8,
    "start_time": "2021-10-18T10:58:05.756Z"
   },
   {
    "duration": 10,
    "start_time": "2021-10-18T10:58:05.766Z"
   },
   {
    "duration": 3,
    "start_time": "2021-10-18T10:58:05.801Z"
   },
   {
    "duration": 5,
    "start_time": "2021-10-18T10:58:05.807Z"
   },
   {
    "duration": 6,
    "start_time": "2021-10-18T10:58:05.815Z"
   },
   {
    "duration": 8,
    "start_time": "2021-10-18T10:58:05.824Z"
   },
   {
    "duration": 10,
    "start_time": "2021-10-18T10:58:05.834Z"
   },
   {
    "duration": 7,
    "start_time": "2021-10-18T10:58:05.846Z"
   },
   {
    "duration": 15,
    "start_time": "2021-10-18T10:58:05.855Z"
   },
   {
    "duration": 12,
    "start_time": "2021-10-18T10:58:05.872Z"
   },
   {
    "duration": 16,
    "start_time": "2021-10-18T10:58:05.886Z"
   },
   {
    "duration": 11,
    "start_time": "2021-10-18T10:58:05.904Z"
   },
   {
    "duration": 10,
    "start_time": "2021-10-18T10:58:05.918Z"
   },
   {
    "duration": 6,
    "start_time": "2021-10-18T10:58:05.933Z"
   },
   {
    "duration": 8,
    "start_time": "2021-10-18T10:58:05.942Z"
   },
   {
    "duration": 13,
    "start_time": "2021-10-18T10:58:05.952Z"
   },
   {
    "duration": 13,
    "start_time": "2021-10-18T10:58:05.967Z"
   },
   {
    "duration": 9,
    "start_time": "2021-10-18T10:58:05.982Z"
   },
   {
    "duration": 5,
    "start_time": "2021-10-18T10:58:06.001Z"
   },
   {
    "duration": 8,
    "start_time": "2021-10-18T10:58:06.008Z"
   },
   {
    "duration": 12,
    "start_time": "2021-10-18T10:58:06.018Z"
   },
   {
    "duration": 12,
    "start_time": "2021-10-18T10:58:06.033Z"
   },
   {
    "duration": 13,
    "start_time": "2021-10-18T10:58:06.048Z"
   },
   {
    "duration": 14,
    "start_time": "2021-10-18T10:58:06.064Z"
   },
   {
    "duration": 8,
    "start_time": "2021-10-18T10:58:06.081Z"
   },
   {
    "duration": 8,
    "start_time": "2021-10-18T10:58:06.092Z"
   },
   {
    "duration": 9,
    "start_time": "2021-10-18T10:58:06.103Z"
   },
   {
    "duration": 9,
    "start_time": "2021-10-18T10:58:06.114Z"
   },
   {
    "duration": 33,
    "start_time": "2021-10-18T10:58:44.899Z"
   },
   {
    "duration": 1509,
    "start_time": "2021-10-18T11:53:03.387Z"
   },
   {
    "duration": 1767,
    "start_time": "2021-10-18T11:53:29.550Z"
   },
   {
    "duration": 5,
    "start_time": "2021-10-18T11:54:23.505Z"
   },
   {
    "duration": 8,
    "start_time": "2021-10-18T11:54:38.321Z"
   },
   {
    "duration": 4,
    "start_time": "2021-10-18T11:54:52.054Z"
   },
   {
    "duration": 297,
    "start_time": "2021-10-18T11:54:52.061Z"
   },
   {
    "duration": 41,
    "start_time": "2021-10-18T11:54:52.362Z"
   },
   {
    "duration": 47,
    "start_time": "2021-10-18T11:54:52.409Z"
   },
   {
    "duration": 8,
    "start_time": "2021-10-18T11:54:52.459Z"
   },
   {
    "duration": 33,
    "start_time": "2021-10-18T11:54:52.471Z"
   },
   {
    "duration": 10,
    "start_time": "2021-10-18T11:54:52.508Z"
   },
   {
    "duration": 38,
    "start_time": "2021-10-18T11:54:52.526Z"
   },
   {
    "duration": 8936,
    "start_time": "2021-10-18T11:54:52.569Z"
   },
   {
    "duration": 99364,
    "start_time": "2021-10-18T11:53:22.154Z"
   },
   {
    "duration": 99353,
    "start_time": "2021-10-18T11:53:22.168Z"
   },
   {
    "duration": 99346,
    "start_time": "2021-10-18T11:53:22.177Z"
   },
   {
    "duration": 99229,
    "start_time": "2021-10-18T11:53:22.296Z"
   },
   {
    "duration": 99175,
    "start_time": "2021-10-18T11:53:22.351Z"
   },
   {
    "duration": 99160,
    "start_time": "2021-10-18T11:53:22.368Z"
   },
   {
    "duration": 99153,
    "start_time": "2021-10-18T11:53:22.377Z"
   },
   {
    "duration": 99140,
    "start_time": "2021-10-18T11:53:22.391Z"
   },
   {
    "duration": 99130,
    "start_time": "2021-10-18T11:53:22.403Z"
   },
   {
    "duration": 99118,
    "start_time": "2021-10-18T11:53:22.416Z"
   },
   {
    "duration": 99110,
    "start_time": "2021-10-18T11:53:22.426Z"
   },
   {
    "duration": 99081,
    "start_time": "2021-10-18T11:53:22.456Z"
   },
   {
    "duration": 99064,
    "start_time": "2021-10-18T11:53:22.474Z"
   },
   {
    "duration": 99056,
    "start_time": "2021-10-18T11:53:22.485Z"
   },
   {
    "duration": 99048,
    "start_time": "2021-10-18T11:53:22.494Z"
   },
   {
    "duration": 99039,
    "start_time": "2021-10-18T11:53:22.505Z"
   },
   {
    "duration": 99028,
    "start_time": "2021-10-18T11:53:22.518Z"
   },
   {
    "duration": 99018,
    "start_time": "2021-10-18T11:53:22.529Z"
   },
   {
    "duration": 99011,
    "start_time": "2021-10-18T11:53:22.537Z"
   },
   {
    "duration": 99004,
    "start_time": "2021-10-18T11:53:22.546Z"
   },
   {
    "duration": 98976,
    "start_time": "2021-10-18T11:53:22.576Z"
   },
   {
    "duration": 98967,
    "start_time": "2021-10-18T11:53:22.586Z"
   },
   {
    "duration": 98960,
    "start_time": "2021-10-18T11:53:22.594Z"
   },
   {
    "duration": 98951,
    "start_time": "2021-10-18T11:53:22.605Z"
   },
   {
    "duration": 98987,
    "start_time": "2021-10-18T11:53:22.614Z"
   },
   {
    "duration": 98981,
    "start_time": "2021-10-18T11:53:22.622Z"
   },
   {
    "duration": 98975,
    "start_time": "2021-10-18T11:53:22.631Z"
   },
   {
    "duration": 98968,
    "start_time": "2021-10-18T11:53:22.640Z"
   },
   {
    "duration": 98960,
    "start_time": "2021-10-18T11:53:22.649Z"
   },
   {
    "duration": 10,
    "start_time": "2021-10-18T11:55:24.893Z"
   },
   {
    "duration": 7,
    "start_time": "2021-10-18T11:56:14.307Z"
   },
   {
    "duration": 5,
    "start_time": "2021-10-18T11:56:42.775Z"
   },
   {
    "duration": 30,
    "start_time": "2021-10-18T11:56:48.366Z"
   },
   {
    "duration": 4,
    "start_time": "2021-10-18T12:00:27.891Z"
   },
   {
    "duration": 326,
    "start_time": "2021-10-18T12:00:27.900Z"
   },
   {
    "duration": 25,
    "start_time": "2021-10-18T12:00:28.230Z"
   },
   {
    "duration": 70,
    "start_time": "2021-10-18T12:00:28.258Z"
   },
   {
    "duration": 7,
    "start_time": "2021-10-18T12:00:28.331Z"
   },
   {
    "duration": 6,
    "start_time": "2021-10-18T12:00:28.340Z"
   },
   {
    "duration": 9,
    "start_time": "2021-10-18T12:00:28.349Z"
   },
   {
    "duration": 78,
    "start_time": "2021-10-18T12:00:28.360Z"
   },
   {
    "duration": 9923,
    "start_time": "2021-10-18T12:00:28.444Z"
   },
   {
    "duration": 99270,
    "start_time": "2021-10-18T11:58:59.101Z"
   },
   {
    "duration": 99255,
    "start_time": "2021-10-18T11:58:59.117Z"
   },
   {
    "duration": 99245,
    "start_time": "2021-10-18T11:58:59.129Z"
   },
   {
    "duration": 99212,
    "start_time": "2021-10-18T11:58:59.164Z"
   },
   {
    "duration": 99201,
    "start_time": "2021-10-18T11:58:59.176Z"
   },
   {
    "duration": 99191,
    "start_time": "2021-10-18T11:58:59.187Z"
   },
   {
    "duration": 99182,
    "start_time": "2021-10-18T11:58:59.197Z"
   },
   {
    "duration": 99175,
    "start_time": "2021-10-18T11:58:59.205Z"
   },
   {
    "duration": 99158,
    "start_time": "2021-10-18T11:58:59.224Z"
   },
   {
    "duration": 99141,
    "start_time": "2021-10-18T11:58:59.244Z"
   },
   {
    "duration": 99126,
    "start_time": "2021-10-18T11:58:59.261Z"
   },
   {
    "duration": 99103,
    "start_time": "2021-10-18T11:58:59.287Z"
   },
   {
    "duration": 99089,
    "start_time": "2021-10-18T11:58:59.303Z"
   },
   {
    "duration": 99079,
    "start_time": "2021-10-18T11:58:59.315Z"
   },
   {
    "duration": 99070,
    "start_time": "2021-10-18T11:58:59.326Z"
   },
   {
    "duration": 99063,
    "start_time": "2021-10-18T11:58:59.335Z"
   },
   {
    "duration": 99055,
    "start_time": "2021-10-18T11:58:59.345Z"
   },
   {
    "duration": 99046,
    "start_time": "2021-10-18T11:58:59.357Z"
   },
   {
    "duration": 99037,
    "start_time": "2021-10-18T11:58:59.368Z"
   },
   {
    "duration": 99032,
    "start_time": "2021-10-18T11:58:59.376Z"
   },
   {
    "duration": 99007,
    "start_time": "2021-10-18T11:58:59.403Z"
   },
   {
    "duration": 98999,
    "start_time": "2021-10-18T11:58:59.413Z"
   },
   {
    "duration": 98991,
    "start_time": "2021-10-18T11:58:59.423Z"
   },
   {
    "duration": 98983,
    "start_time": "2021-10-18T11:58:59.432Z"
   },
   {
    "duration": 98975,
    "start_time": "2021-10-18T11:58:59.442Z"
   },
   {
    "duration": 98969,
    "start_time": "2021-10-18T11:58:59.450Z"
   },
   {
    "duration": 98954,
    "start_time": "2021-10-18T11:58:59.466Z"
   },
   {
    "duration": 98948,
    "start_time": "2021-10-18T11:58:59.474Z"
   },
   {
    "duration": 98943,
    "start_time": "2021-10-18T11:58:59.483Z"
   },
   {
    "duration": 54,
    "start_time": "2021-10-18T12:00:42.039Z"
   },
   {
    "duration": 37,
    "start_time": "2021-10-18T12:00:50.774Z"
   },
   {
    "duration": 5,
    "start_time": "2021-10-18T12:01:01.633Z"
   },
   {
    "duration": 346,
    "start_time": "2021-10-18T12:01:01.642Z"
   },
   {
    "duration": 26,
    "start_time": "2021-10-18T12:01:02.002Z"
   },
   {
    "duration": 33,
    "start_time": "2021-10-18T12:01:02.031Z"
   },
   {
    "duration": 53,
    "start_time": "2021-10-18T12:01:02.068Z"
   },
   {
    "duration": 16,
    "start_time": "2021-10-18T12:01:02.125Z"
   },
   {
    "duration": 25,
    "start_time": "2021-10-18T12:01:02.143Z"
   },
   {
    "duration": 57,
    "start_time": "2021-10-18T12:01:02.171Z"
   },
   {
    "duration": 25,
    "start_time": "2021-10-18T12:01:02.232Z"
   },
   {
    "duration": 44,
    "start_time": "2021-10-18T12:01:02.262Z"
   },
   {
    "duration": 5,
    "start_time": "2021-10-18T12:01:02.311Z"
   },
   {
    "duration": 6,
    "start_time": "2021-10-18T12:01:02.323Z"
   },
   {
    "duration": 15,
    "start_time": "2021-10-18T12:01:02.331Z"
   },
   {
    "duration": 9,
    "start_time": "2021-10-18T12:01:02.349Z"
   },
   {
    "duration": 40,
    "start_time": "2021-10-18T12:01:02.361Z"
   },
   {
    "duration": 5,
    "start_time": "2021-10-18T12:01:02.404Z"
   },
   {
    "duration": 10,
    "start_time": "2021-10-18T12:01:02.412Z"
   },
   {
    "duration": 6,
    "start_time": "2021-10-18T12:01:02.425Z"
   },
   {
    "duration": 9,
    "start_time": "2021-10-18T12:01:02.434Z"
   },
   {
    "duration": 17,
    "start_time": "2021-10-18T12:01:02.445Z"
   },
   {
    "duration": 15,
    "start_time": "2021-10-18T12:01:02.465Z"
   },
   {
    "duration": 26,
    "start_time": "2021-10-18T12:01:02.483Z"
   },
   {
    "duration": 5,
    "start_time": "2021-10-18T12:01:02.512Z"
   },
   {
    "duration": 4,
    "start_time": "2021-10-18T12:01:02.526Z"
   },
   {
    "duration": 16,
    "start_time": "2021-10-18T12:01:02.535Z"
   },
   {
    "duration": 34,
    "start_time": "2021-10-18T12:01:02.554Z"
   },
   {
    "duration": 9,
    "start_time": "2021-10-18T12:01:02.591Z"
   },
   {
    "duration": 16,
    "start_time": "2021-10-18T12:01:02.602Z"
   },
   {
    "duration": 17,
    "start_time": "2021-10-18T12:01:02.621Z"
   },
   {
    "duration": 12,
    "start_time": "2021-10-18T12:01:02.641Z"
   },
   {
    "duration": 18,
    "start_time": "2021-10-18T12:01:02.656Z"
   },
   {
    "duration": 14,
    "start_time": "2021-10-18T12:01:02.677Z"
   },
   {
    "duration": 14,
    "start_time": "2021-10-18T12:01:02.694Z"
   },
   {
    "duration": 9,
    "start_time": "2021-10-18T12:01:02.710Z"
   },
   {
    "duration": 14,
    "start_time": "2021-10-18T12:01:02.723Z"
   },
   {
    "duration": 23,
    "start_time": "2021-10-18T12:01:02.741Z"
   },
   {
    "duration": 16,
    "start_time": "2021-10-18T12:01:02.767Z"
   },
   {
    "duration": 8,
    "start_time": "2021-10-18T12:01:02.786Z"
   },
   {
    "duration": 97,
    "start_time": "2021-10-18T12:02:03.331Z"
   },
   {
    "duration": 114,
    "start_time": "2021-10-18T12:03:12.997Z"
   },
   {
    "duration": 86,
    "start_time": "2021-10-18T12:03:34.258Z"
   },
   {
    "duration": 4,
    "start_time": "2021-10-18T12:03:46.436Z"
   },
   {
    "duration": 225,
    "start_time": "2021-10-18T12:03:46.446Z"
   },
   {
    "duration": 39,
    "start_time": "2021-10-18T12:03:46.674Z"
   },
   {
    "duration": 38,
    "start_time": "2021-10-18T12:03:46.717Z"
   },
   {
    "duration": 6,
    "start_time": "2021-10-18T12:03:46.758Z"
   },
   {
    "duration": 8,
    "start_time": "2021-10-18T12:03:46.802Z"
   },
   {
    "duration": 9,
    "start_time": "2021-10-18T12:03:46.814Z"
   },
   {
    "duration": 37,
    "start_time": "2021-10-18T12:03:46.826Z"
   },
   {
    "duration": 59,
    "start_time": "2021-10-18T12:03:46.867Z"
   },
   {
    "duration": 31,
    "start_time": "2021-10-18T12:03:46.930Z"
   },
   {
    "duration": 122,
    "start_time": "2021-10-18T12:03:46.963Z"
   },
   {
    "duration": 127,
    "start_time": "2021-10-18T12:03:47.100Z"
   },
   {
    "duration": 93,
    "start_time": "2021-10-18T12:03:47.229Z"
   },
   {
    "duration": 2,
    "start_time": "2021-10-18T12:03:47.325Z"
   },
   {
    "duration": 8,
    "start_time": "2021-10-18T12:03:47.330Z"
   },
   {
    "duration": 6,
    "start_time": "2021-10-18T12:03:47.340Z"
   },
   {
    "duration": 7,
    "start_time": "2021-10-18T12:03:47.348Z"
   },
   {
    "duration": 6,
    "start_time": "2021-10-18T12:03:47.357Z"
   },
   {
    "duration": 7,
    "start_time": "2021-10-18T12:03:47.365Z"
   },
   {
    "duration": 7,
    "start_time": "2021-10-18T12:03:47.402Z"
   },
   {
    "duration": 11,
    "start_time": "2021-10-18T12:03:47.412Z"
   },
   {
    "duration": 7,
    "start_time": "2021-10-18T12:03:47.425Z"
   },
   {
    "duration": 8,
    "start_time": "2021-10-18T12:03:47.435Z"
   },
   {
    "duration": 5,
    "start_time": "2021-10-18T12:03:47.448Z"
   },
   {
    "duration": 6,
    "start_time": "2021-10-18T12:03:47.456Z"
   },
   {
    "duration": 13,
    "start_time": "2021-10-18T12:03:47.464Z"
   },
   {
    "duration": 5,
    "start_time": "2021-10-18T12:03:47.504Z"
   },
   {
    "duration": 9,
    "start_time": "2021-10-18T12:03:47.513Z"
   },
   {
    "duration": 7,
    "start_time": "2021-10-18T12:03:47.524Z"
   },
   {
    "duration": 8,
    "start_time": "2021-10-18T12:03:47.534Z"
   },
   {
    "duration": 11,
    "start_time": "2021-10-18T12:03:47.545Z"
   },
   {
    "duration": 7,
    "start_time": "2021-10-18T12:03:47.559Z"
   },
   {
    "duration": 11,
    "start_time": "2021-10-18T12:03:47.568Z"
   },
   {
    "duration": 21,
    "start_time": "2021-10-18T12:03:47.582Z"
   },
   {
    "duration": 9,
    "start_time": "2021-10-18T12:03:47.606Z"
   },
   {
    "duration": 9,
    "start_time": "2021-10-18T12:03:47.621Z"
   },
   {
    "duration": 8,
    "start_time": "2021-10-18T12:03:47.633Z"
   },
   {
    "duration": 6,
    "start_time": "2021-10-18T12:03:47.644Z"
   },
   {
    "duration": 124,
    "start_time": "2021-10-18T12:04:11.489Z"
   },
   {
    "duration": 104,
    "start_time": "2021-10-18T12:04:15.072Z"
   },
   {
    "duration": 107,
    "start_time": "2021-10-18T12:04:42.300Z"
   },
   {
    "duration": 85,
    "start_time": "2021-10-18T12:04:44.903Z"
   },
   {
    "duration": 3,
    "start_time": "2021-10-18T12:04:58.844Z"
   },
   {
    "duration": 208,
    "start_time": "2021-10-18T12:04:58.855Z"
   },
   {
    "duration": 15,
    "start_time": "2021-10-18T12:04:59.066Z"
   },
   {
    "duration": 37,
    "start_time": "2021-10-18T12:04:59.103Z"
   },
   {
    "duration": 11,
    "start_time": "2021-10-18T12:04:59.143Z"
   },
   {
    "duration": 10,
    "start_time": "2021-10-18T12:04:59.157Z"
   },
   {
    "duration": 38,
    "start_time": "2021-10-18T12:04:59.169Z"
   },
   {
    "duration": 36,
    "start_time": "2021-10-18T12:04:59.211Z"
   },
   {
    "duration": 68,
    "start_time": "2021-10-18T12:04:59.251Z"
   },
   {
    "duration": 53,
    "start_time": "2021-10-18T12:04:59.325Z"
   },
   {
    "duration": 155,
    "start_time": "2021-10-18T12:04:59.382Z"
   },
   {
    "duration": 156,
    "start_time": "2021-10-18T12:04:59.541Z"
   },
   {
    "duration": 135,
    "start_time": "2021-10-18T12:04:59.701Z"
   },
   {
    "duration": 3,
    "start_time": "2021-10-18T12:04:59.839Z"
   },
   {
    "duration": 13,
    "start_time": "2021-10-18T12:04:59.845Z"
   },
   {
    "duration": 14,
    "start_time": "2021-10-18T12:04:59.861Z"
   },
   {
    "duration": 21,
    "start_time": "2021-10-18T12:04:59.878Z"
   },
   {
    "duration": 14,
    "start_time": "2021-10-18T12:04:59.903Z"
   },
   {
    "duration": 14,
    "start_time": "2021-10-18T12:04:59.921Z"
   },
   {
    "duration": 9,
    "start_time": "2021-10-18T12:04:59.937Z"
   },
   {
    "duration": 14,
    "start_time": "2021-10-18T12:04:59.949Z"
   },
   {
    "duration": 15,
    "start_time": "2021-10-18T12:04:59.966Z"
   },
   {
    "duration": 10,
    "start_time": "2021-10-18T12:04:59.984Z"
   },
   {
    "duration": 32,
    "start_time": "2021-10-18T12:05:00.000Z"
   },
   {
    "duration": 18,
    "start_time": "2021-10-18T12:05:00.035Z"
   },
   {
    "duration": 17,
    "start_time": "2021-10-18T12:05:00.056Z"
   },
   {
    "duration": 19,
    "start_time": "2021-10-18T12:05:00.076Z"
   },
   {
    "duration": 26,
    "start_time": "2021-10-18T12:05:00.098Z"
   },
   {
    "duration": 18,
    "start_time": "2021-10-18T12:05:00.126Z"
   },
   {
    "duration": 20,
    "start_time": "2021-10-18T12:05:00.147Z"
   },
   {
    "duration": 37,
    "start_time": "2021-10-18T12:05:00.170Z"
   },
   {
    "duration": 16,
    "start_time": "2021-10-18T12:05:00.210Z"
   },
   {
    "duration": 25,
    "start_time": "2021-10-18T12:05:00.228Z"
   },
   {
    "duration": 16,
    "start_time": "2021-10-18T12:05:00.255Z"
   },
   {
    "duration": 18,
    "start_time": "2021-10-18T12:05:00.273Z"
   },
   {
    "duration": 18,
    "start_time": "2021-10-18T12:05:00.294Z"
   },
   {
    "duration": 13,
    "start_time": "2021-10-18T12:05:00.316Z"
   },
   {
    "duration": 12,
    "start_time": "2021-10-18T12:05:00.332Z"
   },
   {
    "duration": 1218,
    "start_time": "2021-10-18T12:18:42.372Z"
   },
   {
    "duration": 331,
    "start_time": "2021-10-18T12:19:08.150Z"
   },
   {
    "duration": 58,
    "start_time": "2021-10-18T12:19:24.174Z"
   },
   {
    "duration": 5,
    "start_time": "2021-10-18T12:33:34.840Z"
   },
   {
    "duration": 15,
    "start_time": "2021-10-18T12:35:17.053Z"
   },
   {
    "duration": 9,
    "start_time": "2021-10-18T12:36:07.445Z"
   },
   {
    "duration": 15,
    "start_time": "2021-10-18T12:39:35.568Z"
   },
   {
    "duration": 9,
    "start_time": "2021-10-18T12:39:42.258Z"
   },
   {
    "duration": 12,
    "start_time": "2021-10-18T12:40:27.471Z"
   },
   {
    "duration": 22,
    "start_time": "2021-10-18T12:40:55.575Z"
   },
   {
    "duration": 10,
    "start_time": "2021-10-18T12:40:58.456Z"
   },
   {
    "duration": 4,
    "start_time": "2021-10-18T12:41:06.395Z"
   },
   {
    "duration": 209,
    "start_time": "2021-10-18T12:41:06.404Z"
   },
   {
    "duration": 17,
    "start_time": "2021-10-18T12:41:06.616Z"
   },
   {
    "duration": 64,
    "start_time": "2021-10-18T12:41:06.636Z"
   },
   {
    "duration": 6,
    "start_time": "2021-10-18T12:41:06.703Z"
   },
   {
    "duration": 11,
    "start_time": "2021-10-18T12:41:06.711Z"
   },
   {
    "duration": 17,
    "start_time": "2021-10-18T12:41:06.724Z"
   },
   {
    "duration": 41,
    "start_time": "2021-10-18T12:41:06.743Z"
   },
   {
    "duration": 23,
    "start_time": "2021-10-18T12:41:06.802Z"
   },
   {
    "duration": 31,
    "start_time": "2021-10-18T12:41:06.828Z"
   },
   {
    "duration": 116,
    "start_time": "2021-10-18T12:41:06.863Z"
   },
   {
    "duration": 101,
    "start_time": "2021-10-18T12:41:06.982Z"
   },
   {
    "duration": 88,
    "start_time": "2021-10-18T12:41:07.086Z"
   },
   {
    "duration": 82,
    "start_time": "2021-10-18T12:41:07.178Z"
   },
   {
    "duration": 5,
    "start_time": "2021-10-18T12:41:07.263Z"
   },
   {
    "duration": 39,
    "start_time": "2021-10-18T12:41:07.271Z"
   },
   {
    "duration": 13,
    "start_time": "2021-10-18T12:41:07.313Z"
   },
   {
    "duration": 8,
    "start_time": "2021-10-18T12:41:07.329Z"
   },
   {
    "duration": 13,
    "start_time": "2021-10-18T12:41:07.340Z"
   },
   {
    "duration": 10,
    "start_time": "2021-10-18T12:41:07.356Z"
   },
   {
    "duration": 30,
    "start_time": "2021-10-18T12:41:07.369Z"
   },
   {
    "duration": 11,
    "start_time": "2021-10-18T12:41:07.402Z"
   },
   {
    "duration": 10,
    "start_time": "2021-10-18T12:41:07.415Z"
   },
   {
    "duration": 13,
    "start_time": "2021-10-18T12:41:07.430Z"
   },
   {
    "duration": 17,
    "start_time": "2021-10-18T12:41:07.445Z"
   },
   {
    "duration": 19,
    "start_time": "2021-10-18T12:41:07.464Z"
   },
   {
    "duration": 13,
    "start_time": "2021-10-18T12:41:07.485Z"
   },
   {
    "duration": 10,
    "start_time": "2021-10-18T12:41:07.501Z"
   },
   {
    "duration": 9,
    "start_time": "2021-10-18T12:41:07.513Z"
   },
   {
    "duration": 12,
    "start_time": "2021-10-18T12:41:07.524Z"
   },
   {
    "duration": 23,
    "start_time": "2021-10-18T12:41:07.538Z"
   },
   {
    "duration": 16,
    "start_time": "2021-10-18T12:41:07.564Z"
   },
   {
    "duration": 12,
    "start_time": "2021-10-18T12:41:07.582Z"
   },
   {
    "duration": 15,
    "start_time": "2021-10-18T12:41:07.596Z"
   },
   {
    "duration": 11,
    "start_time": "2021-10-18T12:41:07.614Z"
   },
   {
    "duration": 12,
    "start_time": "2021-10-18T12:41:07.628Z"
   },
   {
    "duration": 16,
    "start_time": "2021-10-18T12:41:07.642Z"
   },
   {
    "duration": 16,
    "start_time": "2021-10-18T12:41:07.660Z"
   },
   {
    "duration": 66,
    "start_time": "2021-10-18T12:42:12.320Z"
   },
   {
    "duration": 68,
    "start_time": "2021-10-18T12:42:15.896Z"
   },
   {
    "duration": 66,
    "start_time": "2021-10-18T12:45:30.343Z"
   },
   {
    "duration": 4,
    "start_time": "2021-10-18T12:45:39.593Z"
   },
   {
    "duration": 15,
    "start_time": "2021-10-18T12:45:45.035Z"
   },
   {
    "duration": 9,
    "start_time": "2021-10-18T12:45:54.276Z"
   },
   {
    "duration": 66,
    "start_time": "2021-10-18T12:48:29.131Z"
   },
   {
    "duration": 13857,
    "start_time": "2021-10-18T12:51:46.760Z"
   },
   {
    "duration": 45,
    "start_time": "2021-10-18T12:54:14.942Z"
   },
   {
    "duration": 74,
    "start_time": "2021-10-18T12:57:22.984Z"
   },
   {
    "duration": 5,
    "start_time": "2021-10-18T13:13:28.479Z"
   },
   {
    "duration": 16,
    "start_time": "2021-10-18T13:16:14.891Z"
   },
   {
    "duration": 3,
    "start_time": "2021-10-18T13:16:26.221Z"
   },
   {
    "duration": 202,
    "start_time": "2021-10-18T13:16:26.229Z"
   },
   {
    "duration": 17,
    "start_time": "2021-10-18T13:16:26.433Z"
   },
   {
    "duration": 60,
    "start_time": "2021-10-18T13:16:26.453Z"
   },
   {
    "duration": 6,
    "start_time": "2021-10-18T13:16:26.516Z"
   },
   {
    "duration": 5,
    "start_time": "2021-10-18T13:16:26.524Z"
   },
   {
    "duration": 9,
    "start_time": "2021-10-18T13:16:26.532Z"
   },
   {
    "duration": 68,
    "start_time": "2021-10-18T13:16:26.543Z"
   },
   {
    "duration": 23,
    "start_time": "2021-10-18T13:16:26.615Z"
   },
   {
    "duration": 31,
    "start_time": "2021-10-18T13:16:26.641Z"
   },
   {
    "duration": 110,
    "start_time": "2021-10-18T13:16:26.674Z"
   },
   {
    "duration": 114,
    "start_time": "2021-10-18T13:16:26.786Z"
   },
   {
    "duration": 76,
    "start_time": "2021-10-18T13:16:26.903Z"
   },
   {
    "duration": 80,
    "start_time": "2021-10-18T13:16:26.982Z"
   },
   {
    "duration": 4,
    "start_time": "2021-10-18T13:16:27.064Z"
   },
   {
    "duration": 38,
    "start_time": "2021-10-18T13:16:27.071Z"
   },
   {
    "duration": 67,
    "start_time": "2021-10-18T13:16:27.112Z"
   },
   {
    "duration": 60,
    "start_time": "2021-10-18T13:16:27.181Z"
   },
   {
    "duration": 61,
    "start_time": "2021-10-18T13:16:27.243Z"
   },
   {
    "duration": 5,
    "start_time": "2021-10-18T13:16:27.306Z"
   },
   {
    "duration": 22,
    "start_time": "2021-10-18T13:16:27.313Z"
   },
   {
    "duration": 15,
    "start_time": "2021-10-18T13:16:27.338Z"
   },
   {
    "duration": 45,
    "start_time": "2021-10-18T13:16:27.356Z"
   },
   {
    "duration": 15,
    "start_time": "2021-10-18T13:16:27.406Z"
   },
   {
    "duration": 17,
    "start_time": "2021-10-18T13:16:27.423Z"
   },
   {
    "duration": 16,
    "start_time": "2021-10-18T13:16:27.442Z"
   },
   {
    "duration": 3,
    "start_time": "2021-10-18T13:16:27.460Z"
   },
   {
    "duration": 3,
    "start_time": "2021-10-18T13:16:27.500Z"
   },
   {
    "duration": 6,
    "start_time": "2021-10-18T13:16:27.505Z"
   },
   {
    "duration": 6,
    "start_time": "2021-10-18T13:16:27.514Z"
   },
   {
    "duration": 10,
    "start_time": "2021-10-18T13:16:27.523Z"
   },
   {
    "duration": 11,
    "start_time": "2021-10-18T13:16:27.535Z"
   },
   {
    "duration": 15,
    "start_time": "2021-10-18T13:16:27.548Z"
   },
   {
    "duration": 8,
    "start_time": "2021-10-18T13:16:27.565Z"
   },
   {
    "duration": 8,
    "start_time": "2021-10-18T13:16:27.576Z"
   },
   {
    "duration": 9,
    "start_time": "2021-10-18T13:16:27.586Z"
   },
   {
    "duration": 3,
    "start_time": "2021-10-18T13:16:27.601Z"
   },
   {
    "duration": 9,
    "start_time": "2021-10-18T13:16:27.607Z"
   },
   {
    "duration": 4,
    "start_time": "2021-10-18T13:19:09.780Z"
   },
   {
    "duration": 15,
    "start_time": "2021-10-18T13:19:13.040Z"
   },
   {
    "duration": 14,
    "start_time": "2021-10-18T13:19:16.136Z"
   },
   {
    "duration": 15,
    "start_time": "2021-10-18T13:19:42.294Z"
   },
   {
    "duration": 3,
    "start_time": "2021-10-18T13:35:55.932Z"
   },
   {
    "duration": 212,
    "start_time": "2021-10-18T13:35:55.945Z"
   },
   {
    "duration": 17,
    "start_time": "2021-10-18T13:35:56.160Z"
   },
   {
    "duration": 47,
    "start_time": "2021-10-18T13:35:56.180Z"
   },
   {
    "duration": 8,
    "start_time": "2021-10-18T13:35:56.229Z"
   },
   {
    "duration": 11,
    "start_time": "2021-10-18T13:35:56.239Z"
   },
   {
    "duration": 12,
    "start_time": "2021-10-18T13:35:56.252Z"
   },
   {
    "duration": 62,
    "start_time": "2021-10-18T13:35:56.267Z"
   },
   {
    "duration": 24,
    "start_time": "2021-10-18T13:35:56.332Z"
   },
   {
    "duration": 65,
    "start_time": "2021-10-18T13:35:56.359Z"
   },
   {
    "duration": 100,
    "start_time": "2021-10-18T13:35:56.427Z"
   },
   {
    "duration": 105,
    "start_time": "2021-10-18T13:35:56.530Z"
   },
   {
    "duration": 92,
    "start_time": "2021-10-18T13:35:56.637Z"
   },
   {
    "duration": 83,
    "start_time": "2021-10-18T13:35:56.732Z"
   },
   {
    "duration": 4,
    "start_time": "2021-10-18T13:35:56.818Z"
   },
   {
    "duration": 29,
    "start_time": "2021-10-18T13:35:56.825Z"
   },
   {
    "duration": 84,
    "start_time": "2021-10-18T13:35:56.857Z"
   },
   {
    "duration": 63,
    "start_time": "2021-10-18T13:35:56.945Z"
   },
   {
    "duration": 46,
    "start_time": "2021-10-18T13:35:57.011Z"
   },
   {
    "duration": 4,
    "start_time": "2021-10-18T13:35:57.059Z"
   },
   {
    "duration": 43,
    "start_time": "2021-10-18T13:35:57.065Z"
   },
   {
    "duration": 18,
    "start_time": "2021-10-18T13:35:57.110Z"
   },
   {
    "duration": 33,
    "start_time": "2021-10-18T13:35:57.131Z"
   },
   {
    "duration": 23,
    "start_time": "2021-10-18T13:35:57.169Z"
   },
   {
    "duration": 21,
    "start_time": "2021-10-18T13:35:57.195Z"
   },
   {
    "duration": 28,
    "start_time": "2021-10-18T13:35:57.218Z"
   },
   {
    "duration": 14,
    "start_time": "2021-10-18T13:35:57.248Z"
   },
   {
    "duration": 12,
    "start_time": "2021-10-18T13:35:57.264Z"
   },
   {
    "duration": 10,
    "start_time": "2021-10-18T13:35:57.279Z"
   },
   {
    "duration": 11,
    "start_time": "2021-10-18T13:35:57.291Z"
   },
   {
    "duration": 15,
    "start_time": "2021-10-18T13:35:57.305Z"
   },
   {
    "duration": 13,
    "start_time": "2021-10-18T13:35:57.322Z"
   },
   {
    "duration": 17,
    "start_time": "2021-10-18T13:35:57.338Z"
   },
   {
    "duration": 10,
    "start_time": "2021-10-18T13:35:57.358Z"
   },
   {
    "duration": 16,
    "start_time": "2021-10-18T13:35:57.370Z"
   },
   {
    "duration": 15,
    "start_time": "2021-10-18T13:35:57.388Z"
   },
   {
    "duration": 9,
    "start_time": "2021-10-18T13:35:57.405Z"
   },
   {
    "duration": 17,
    "start_time": "2021-10-18T13:35:57.416Z"
   },
   {
    "duration": 5,
    "start_time": "2021-10-18T13:37:58.549Z"
   },
   {
    "duration": 8217,
    "start_time": "2021-10-18T13:38:01.357Z"
   },
   {
    "duration": 99249,
    "start_time": "2021-10-18T13:36:30.327Z"
   },
   {
    "duration": 4,
    "start_time": "2021-10-18T13:38:11.543Z"
   },
   {
    "duration": 197,
    "start_time": "2021-10-18T13:38:11.553Z"
   },
   {
    "duration": 15,
    "start_time": "2021-10-18T13:38:11.753Z"
   },
   {
    "duration": 59,
    "start_time": "2021-10-18T13:38:11.770Z"
   },
   {
    "duration": 10,
    "start_time": "2021-10-18T13:38:11.832Z"
   },
   {
    "duration": 12,
    "start_time": "2021-10-18T13:38:11.844Z"
   },
   {
    "duration": 16,
    "start_time": "2021-10-18T13:38:11.859Z"
   },
   {
    "duration": 49,
    "start_time": "2021-10-18T13:38:11.877Z"
   },
   {
    "duration": 36,
    "start_time": "2021-10-18T13:38:11.930Z"
   },
   {
    "duration": 43,
    "start_time": "2021-10-18T13:38:11.969Z"
   },
   {
    "duration": 102,
    "start_time": "2021-10-18T13:38:12.014Z"
   },
   {
    "duration": 110,
    "start_time": "2021-10-18T13:38:12.118Z"
   },
   {
    "duration": 89,
    "start_time": "2021-10-18T13:38:12.230Z"
   },
   {
    "duration": 80,
    "start_time": "2021-10-18T13:38:12.322Z"
   },
   {
    "duration": 4,
    "start_time": "2021-10-18T13:38:12.404Z"
   },
   {
    "duration": 18,
    "start_time": "2021-10-18T13:38:12.411Z"
   },
   {
    "duration": 89,
    "start_time": "2021-10-18T13:38:12.431Z"
   },
   {
    "duration": 46,
    "start_time": "2021-10-18T13:38:12.522Z"
   },
   {
    "duration": 68,
    "start_time": "2021-10-18T13:38:12.570Z"
   },
   {
    "duration": 5,
    "start_time": "2021-10-18T13:38:12.640Z"
   },
   {
    "duration": 8049,
    "start_time": "2021-10-18T13:38:12.648Z"
   },
   {
    "duration": 99095,
    "start_time": "2021-10-18T13:36:41.606Z"
   },
   {
    "duration": 99086,
    "start_time": "2021-10-18T13:36:41.617Z"
   },
   {
    "duration": 99079,
    "start_time": "2021-10-18T13:36:41.626Z"
   },
   {
    "duration": 99069,
    "start_time": "2021-10-18T13:36:41.638Z"
   },
   {
    "duration": 99062,
    "start_time": "2021-10-18T13:36:41.647Z"
   },
   {
    "duration": 99056,
    "start_time": "2021-10-18T13:36:41.656Z"
   },
   {
    "duration": 99051,
    "start_time": "2021-10-18T13:36:41.663Z"
   },
   {
    "duration": 99044,
    "start_time": "2021-10-18T13:36:41.672Z"
   },
   {
    "duration": 99036,
    "start_time": "2021-10-18T13:36:41.682Z"
   },
   {
    "duration": 99012,
    "start_time": "2021-10-18T13:36:41.709Z"
   },
   {
    "duration": 99002,
    "start_time": "2021-10-18T13:36:41.721Z"
   },
   {
    "duration": 98996,
    "start_time": "2021-10-18T13:36:41.730Z"
   },
   {
    "duration": 98990,
    "start_time": "2021-10-18T13:36:41.738Z"
   },
   {
    "duration": 98976,
    "start_time": "2021-10-18T13:36:41.754Z"
   },
   {
    "duration": 98970,
    "start_time": "2021-10-18T13:36:41.762Z"
   },
   {
    "duration": 98964,
    "start_time": "2021-10-18T13:36:41.771Z"
   },
   {
    "duration": 98958,
    "start_time": "2021-10-18T13:36:41.779Z"
   },
   {
    "duration": 9686,
    "start_time": "2021-10-18T13:38:23.894Z"
   },
   {
    "duration": 99256,
    "start_time": "2021-10-18T13:36:54.327Z"
   },
   {
    "duration": 5,
    "start_time": "2021-10-18T13:38:48.452Z"
   },
   {
    "duration": 15,
    "start_time": "2021-10-18T13:38:51.307Z"
   },
   {
    "duration": 14,
    "start_time": "2021-10-18T13:38:53.863Z"
   },
   {
    "duration": 15,
    "start_time": "2021-10-18T13:38:54.354Z"
   },
   {
    "duration": 16,
    "start_time": "2021-10-18T13:38:54.737Z"
   },
   {
    "duration": 15,
    "start_time": "2021-10-18T13:38:54.923Z"
   },
   {
    "duration": 15,
    "start_time": "2021-10-18T13:38:55.120Z"
   },
   {
    "duration": 300,
    "start_time": "2021-10-18T13:42:10.688Z"
   },
   {
    "duration": 310,
    "start_time": "2021-10-18T13:42:24.389Z"
   },
   {
    "duration": 3,
    "start_time": "2021-10-18T13:42:42.405Z"
   },
   {
    "duration": 203,
    "start_time": "2021-10-18T13:42:42.414Z"
   },
   {
    "duration": 16,
    "start_time": "2021-10-18T13:42:42.620Z"
   },
   {
    "duration": 37,
    "start_time": "2021-10-18T13:42:42.639Z"
   },
   {
    "duration": 7,
    "start_time": "2021-10-18T13:42:42.703Z"
   },
   {
    "duration": 10,
    "start_time": "2021-10-18T13:42:42.713Z"
   },
   {
    "duration": 14,
    "start_time": "2021-10-18T13:42:42.725Z"
   },
   {
    "duration": 61,
    "start_time": "2021-10-18T13:42:42.741Z"
   },
   {
    "duration": 26,
    "start_time": "2021-10-18T13:42:42.807Z"
   },
   {
    "duration": 32,
    "start_time": "2021-10-18T13:42:42.836Z"
   },
   {
    "duration": 116,
    "start_time": "2021-10-18T13:42:42.870Z"
   },
   {
    "duration": 108,
    "start_time": "2021-10-18T13:42:43.000Z"
   },
   {
    "duration": 76,
    "start_time": "2021-10-18T13:42:43.110Z"
   },
   {
    "duration": 76,
    "start_time": "2021-10-18T13:42:43.188Z"
   },
   {
    "duration": 3,
    "start_time": "2021-10-18T13:42:43.267Z"
   },
   {
    "duration": 14,
    "start_time": "2021-10-18T13:42:43.300Z"
   },
   {
    "duration": 81,
    "start_time": "2021-10-18T13:42:43.316Z"
   },
   {
    "duration": 47,
    "start_time": "2021-10-18T13:42:43.400Z"
   },
   {
    "duration": 64,
    "start_time": "2021-10-18T13:42:43.449Z"
   },
   {
    "duration": 5,
    "start_time": "2021-10-18T13:42:43.516Z"
   },
   {
    "duration": 329,
    "start_time": "2021-10-18T13:42:43.523Z"
   },
   {
    "duration": 98831,
    "start_time": "2021-10-18T13:41:05.035Z"
   },
   {
    "duration": 98820,
    "start_time": "2021-10-18T13:41:05.047Z"
   },
   {
    "duration": 98812,
    "start_time": "2021-10-18T13:41:05.057Z"
   },
   {
    "duration": 98805,
    "start_time": "2021-10-18T13:41:05.065Z"
   },
   {
    "duration": 98799,
    "start_time": "2021-10-18T13:41:05.073Z"
   },
   {
    "duration": 98792,
    "start_time": "2021-10-18T13:41:05.081Z"
   },
   {
    "duration": 98784,
    "start_time": "2021-10-18T13:41:05.090Z"
   },
   {
    "duration": 98778,
    "start_time": "2021-10-18T13:41:05.098Z"
   },
   {
    "duration": 98770,
    "start_time": "2021-10-18T13:41:05.107Z"
   },
   {
    "duration": 98764,
    "start_time": "2021-10-18T13:41:05.114Z"
   },
   {
    "duration": 98736,
    "start_time": "2021-10-18T13:41:05.144Z"
   },
   {
    "duration": 98729,
    "start_time": "2021-10-18T13:41:05.152Z"
   },
   {
    "duration": 98720,
    "start_time": "2021-10-18T13:41:05.162Z"
   },
   {
    "duration": 98713,
    "start_time": "2021-10-18T13:41:05.171Z"
   },
   {
    "duration": 98704,
    "start_time": "2021-10-18T13:41:05.182Z"
   },
   {
    "duration": 98696,
    "start_time": "2021-10-18T13:41:05.191Z"
   },
   {
    "duration": 98688,
    "start_time": "2021-10-18T13:41:05.200Z"
   },
   {
    "duration": 4,
    "start_time": "2021-10-18T13:43:05.838Z"
   },
   {
    "duration": 16,
    "start_time": "2021-10-18T13:43:09.290Z"
   },
   {
    "duration": 4,
    "start_time": "2021-10-18T13:43:14.759Z"
   },
   {
    "duration": 200,
    "start_time": "2021-10-18T13:43:14.765Z"
   },
   {
    "duration": 33,
    "start_time": "2021-10-18T13:43:14.968Z"
   },
   {
    "duration": 49,
    "start_time": "2021-10-18T13:43:15.004Z"
   },
   {
    "duration": 5,
    "start_time": "2021-10-18T13:43:15.055Z"
   },
   {
    "duration": 6,
    "start_time": "2021-10-18T13:43:15.062Z"
   },
   {
    "duration": 31,
    "start_time": "2021-10-18T13:43:15.071Z"
   },
   {
    "duration": 36,
    "start_time": "2021-10-18T13:43:15.105Z"
   },
   {
    "duration": 25,
    "start_time": "2021-10-18T13:43:15.144Z"
   },
   {
    "duration": 58,
    "start_time": "2021-10-18T13:43:15.171Z"
   },
   {
    "duration": 108,
    "start_time": "2021-10-18T13:43:15.232Z"
   },
   {
    "duration": 104,
    "start_time": "2021-10-18T13:43:15.342Z"
   },
   {
    "duration": 85,
    "start_time": "2021-10-18T13:43:15.449Z"
   },
   {
    "duration": 80,
    "start_time": "2021-10-18T13:43:15.537Z"
   },
   {
    "duration": 4,
    "start_time": "2021-10-18T13:43:15.620Z"
   },
   {
    "duration": 16,
    "start_time": "2021-10-18T13:43:15.627Z"
   },
   {
    "duration": 89,
    "start_time": "2021-10-18T13:43:15.646Z"
   },
   {
    "duration": 63,
    "start_time": "2021-10-18T13:43:15.737Z"
   },
   {
    "duration": 46,
    "start_time": "2021-10-18T13:43:15.802Z"
   },
   {
    "duration": 5,
    "start_time": "2021-10-18T13:43:15.850Z"
   },
   {
    "duration": 43,
    "start_time": "2021-10-18T13:43:15.857Z"
   },
   {
    "duration": 311,
    "start_time": "2021-10-18T13:43:15.902Z"
   },
   {
    "duration": 99124,
    "start_time": "2021-10-18T13:41:37.092Z"
   },
   {
    "duration": 99115,
    "start_time": "2021-10-18T13:41:37.103Z"
   },
   {
    "duration": 99108,
    "start_time": "2021-10-18T13:41:37.111Z"
   },
   {
    "duration": 99052,
    "start_time": "2021-10-18T13:41:37.169Z"
   },
   {
    "duration": 99014,
    "start_time": "2021-10-18T13:41:37.208Z"
   },
   {
    "duration": 99008,
    "start_time": "2021-10-18T13:41:37.215Z"
   },
   {
    "duration": 98998,
    "start_time": "2021-10-18T13:41:37.227Z"
   },
   {
    "duration": 98991,
    "start_time": "2021-10-18T13:41:37.235Z"
   },
   {
    "duration": 98985,
    "start_time": "2021-10-18T13:41:37.243Z"
   },
   {
    "duration": 98977,
    "start_time": "2021-10-18T13:41:37.252Z"
   },
   {
    "duration": 98970,
    "start_time": "2021-10-18T13:41:37.261Z"
   },
   {
    "duration": 98961,
    "start_time": "2021-10-18T13:41:37.271Z"
   },
   {
    "duration": 98949,
    "start_time": "2021-10-18T13:41:37.284Z"
   },
   {
    "duration": 98940,
    "start_time": "2021-10-18T13:41:37.295Z"
   },
   {
    "duration": 98905,
    "start_time": "2021-10-18T13:41:37.331Z"
   },
   {
    "duration": 98894,
    "start_time": "2021-10-18T13:41:37.344Z"
   },
   {
    "duration": 5,
    "start_time": "2021-10-18T13:43:29.782Z"
   },
   {
    "duration": 527,
    "start_time": "2021-10-18T13:43:33.044Z"
   },
   {
    "duration": 15,
    "start_time": "2021-10-18T13:51:47.932Z"
   },
   {
    "duration": 16,
    "start_time": "2021-10-18T13:51:51.820Z"
   },
   {
    "duration": 15,
    "start_time": "2021-10-18T13:51:52.599Z"
   },
   {
    "duration": 17,
    "start_time": "2021-10-18T13:51:52.759Z"
   },
   {
    "duration": 15,
    "start_time": "2021-10-18T13:51:52.929Z"
   },
   {
    "duration": 15,
    "start_time": "2021-10-18T13:51:53.041Z"
   },
   {
    "duration": 5,
    "start_time": "2021-10-18T14:00:55.402Z"
   },
   {
    "duration": 16,
    "start_time": "2021-10-18T14:00:58.823Z"
   },
   {
    "duration": 16,
    "start_time": "2021-10-18T14:01:43.453Z"
   },
   {
    "duration": 16,
    "start_time": "2021-10-18T14:01:44.000Z"
   },
   {
    "duration": 16,
    "start_time": "2021-10-18T14:01:44.493Z"
   },
   {
    "duration": 15,
    "start_time": "2021-10-18T14:01:44.699Z"
   },
   {
    "duration": 15,
    "start_time": "2021-10-18T14:01:44.932Z"
   },
   {
    "duration": 3,
    "start_time": "2021-10-18T14:02:02.408Z"
   },
   {
    "duration": 212,
    "start_time": "2021-10-18T14:02:02.415Z"
   },
   {
    "duration": 17,
    "start_time": "2021-10-18T14:02:02.630Z"
   },
   {
    "duration": 60,
    "start_time": "2021-10-18T14:02:02.649Z"
   },
   {
    "duration": 16,
    "start_time": "2021-10-18T14:02:02.712Z"
   },
   {
    "duration": 11,
    "start_time": "2021-10-18T14:02:02.730Z"
   },
   {
    "duration": 7,
    "start_time": "2021-10-18T14:02:02.743Z"
   },
   {
    "duration": 57,
    "start_time": "2021-10-18T14:02:02.752Z"
   },
   {
    "duration": 28,
    "start_time": "2021-10-18T14:02:02.816Z"
   },
   {
    "duration": 29,
    "start_time": "2021-10-18T14:02:02.847Z"
   },
   {
    "duration": 99,
    "start_time": "2021-10-18T14:02:02.901Z"
   },
   {
    "duration": 104,
    "start_time": "2021-10-18T14:02:03.003Z"
   },
   {
    "duration": 92,
    "start_time": "2021-10-18T14:02:03.109Z"
   },
   {
    "duration": 69,
    "start_time": "2021-10-18T14:02:03.204Z"
   },
   {
    "duration": 4,
    "start_time": "2021-10-18T14:02:03.275Z"
   },
   {
    "duration": 14,
    "start_time": "2021-10-18T14:02:03.300Z"
   },
   {
    "duration": 83,
    "start_time": "2021-10-18T14:02:03.317Z"
   },
   {
    "duration": 47,
    "start_time": "2021-10-18T14:02:03.402Z"
   },
   {
    "duration": 64,
    "start_time": "2021-10-18T14:02:03.451Z"
   },
   {
    "duration": 4,
    "start_time": "2021-10-18T14:02:03.518Z"
   },
   {
    "duration": 28,
    "start_time": "2021-10-18T14:02:03.524Z"
   },
   {
    "duration": 22,
    "start_time": "2021-10-18T14:02:03.554Z"
   },
   {
    "duration": 28,
    "start_time": "2021-10-18T14:02:03.578Z"
   },
   {
    "duration": 18,
    "start_time": "2021-10-18T14:02:03.609Z"
   },
   {
    "duration": 20,
    "start_time": "2021-10-18T14:02:03.630Z"
   },
   {
    "duration": 19,
    "start_time": "2021-10-18T14:02:03.652Z"
   },
   {
    "duration": 31,
    "start_time": "2021-10-18T14:02:03.676Z"
   },
   {
    "duration": 6,
    "start_time": "2021-10-18T14:02:03.710Z"
   },
   {
    "duration": 9,
    "start_time": "2021-10-18T14:02:03.718Z"
   },
   {
    "duration": 8,
    "start_time": "2021-10-18T14:02:03.729Z"
   },
   {
    "duration": 9,
    "start_time": "2021-10-18T14:02:03.739Z"
   },
   {
    "duration": 10,
    "start_time": "2021-10-18T14:02:03.750Z"
   },
   {
    "duration": 12,
    "start_time": "2021-10-18T14:02:03.762Z"
   },
   {
    "duration": 8,
    "start_time": "2021-10-18T14:02:03.776Z"
   },
   {
    "duration": 15,
    "start_time": "2021-10-18T14:02:03.786Z"
   },
   {
    "duration": 10,
    "start_time": "2021-10-18T14:02:03.803Z"
   },
   {
    "duration": 9,
    "start_time": "2021-10-18T14:02:03.816Z"
   },
   {
    "duration": 16,
    "start_time": "2021-10-18T14:02:03.828Z"
   },
   {
    "duration": 5,
    "start_time": "2021-10-18T14:02:11.452Z"
   },
   {
    "duration": 16,
    "start_time": "2021-10-18T14:02:16.146Z"
   },
   {
    "duration": 15,
    "start_time": "2021-10-18T14:02:18.421Z"
   },
   {
    "duration": 15,
    "start_time": "2021-10-18T14:02:19.250Z"
   },
   {
    "duration": 14,
    "start_time": "2021-10-18T14:02:19.881Z"
   },
   {
    "duration": 16,
    "start_time": "2021-10-18T14:02:21.588Z"
   },
   {
    "duration": 14,
    "start_time": "2021-10-18T14:02:22.393Z"
   },
   {
    "duration": 19,
    "start_time": "2021-10-18T14:05:46.698Z"
   },
   {
    "duration": 4,
    "start_time": "2021-10-18T14:07:16.336Z"
   },
   {
    "duration": 206,
    "start_time": "2021-10-18T14:07:16.345Z"
   },
   {
    "duration": 17,
    "start_time": "2021-10-18T14:07:16.554Z"
   },
   {
    "duration": 58,
    "start_time": "2021-10-18T14:07:16.574Z"
   },
   {
    "duration": 7,
    "start_time": "2021-10-18T14:07:16.636Z"
   },
   {
    "duration": 10,
    "start_time": "2021-10-18T14:07:16.646Z"
   },
   {
    "duration": 14,
    "start_time": "2021-10-18T14:07:16.658Z"
   },
   {
    "duration": 34,
    "start_time": "2021-10-18T14:07:16.700Z"
   },
   {
    "duration": 27,
    "start_time": "2021-10-18T14:07:16.738Z"
   },
   {
    "duration": 53,
    "start_time": "2021-10-18T14:07:16.768Z"
   },
   {
    "duration": 103,
    "start_time": "2021-10-18T14:07:16.824Z"
   },
   {
    "duration": 102,
    "start_time": "2021-10-18T14:07:16.930Z"
   },
   {
    "duration": 95,
    "start_time": "2021-10-18T14:07:17.035Z"
   },
   {
    "duration": 76,
    "start_time": "2021-10-18T14:07:17.132Z"
   },
   {
    "duration": 4,
    "start_time": "2021-10-18T14:07:17.210Z"
   },
   {
    "duration": 27,
    "start_time": "2021-10-18T14:07:17.216Z"
   },
   {
    "duration": 79,
    "start_time": "2021-10-18T14:07:17.245Z"
   },
   {
    "duration": 45,
    "start_time": "2021-10-18T14:07:17.327Z"
   },
   {
    "duration": 62,
    "start_time": "2021-10-18T14:07:17.375Z"
   },
   {
    "duration": 4,
    "start_time": "2021-10-18T14:07:17.440Z"
   },
   {
    "duration": 37,
    "start_time": "2021-10-18T14:07:17.446Z"
   },
   {
    "duration": 24,
    "start_time": "2021-10-18T14:07:17.486Z"
   },
   {
    "duration": 44,
    "start_time": "2021-10-18T14:07:17.512Z"
   },
   {
    "duration": 26,
    "start_time": "2021-10-18T14:07:17.561Z"
   },
   {
    "duration": 26,
    "start_time": "2021-10-18T14:07:17.590Z"
   },
   {
    "duration": 29,
    "start_time": "2021-10-18T14:07:17.619Z"
   },
   {
    "duration": 21,
    "start_time": "2021-10-18T14:07:17.651Z"
   },
   {
    "duration": 19,
    "start_time": "2021-10-18T14:07:17.674Z"
   },
   {
    "duration": 15,
    "start_time": "2021-10-18T14:07:17.695Z"
   },
   {
    "duration": 24,
    "start_time": "2021-10-18T14:07:17.712Z"
   },
   {
    "duration": 17,
    "start_time": "2021-10-18T14:07:17.739Z"
   },
   {
    "duration": 23,
    "start_time": "2021-10-18T14:07:17.758Z"
   },
   {
    "duration": 27,
    "start_time": "2021-10-18T14:07:17.784Z"
   },
   {
    "duration": 12,
    "start_time": "2021-10-18T14:07:17.814Z"
   },
   {
    "duration": 19,
    "start_time": "2021-10-18T14:07:17.829Z"
   },
   {
    "duration": 14,
    "start_time": "2021-10-18T14:07:17.851Z"
   },
   {
    "duration": 23,
    "start_time": "2021-10-18T14:07:17.867Z"
   },
   {
    "duration": 29,
    "start_time": "2021-10-18T14:07:17.892Z"
   },
   {
    "duration": 6,
    "start_time": "2021-10-18T16:00:26.343Z"
   },
   {
    "duration": 599,
    "start_time": "2021-10-18T16:00:29.726Z"
   },
   {
    "duration": 619,
    "start_time": "2021-10-18T16:00:32.683Z"
   },
   {
    "duration": 747,
    "start_time": "2021-10-18T16:00:44.677Z"
   },
   {
    "duration": 176,
    "start_time": "2021-10-18T16:00:45.426Z"
   },
   {
    "duration": 26,
    "start_time": "2021-10-18T16:00:45.605Z"
   },
   {
    "duration": 35,
    "start_time": "2021-10-18T16:00:45.633Z"
   },
   {
    "duration": 6,
    "start_time": "2021-10-18T16:00:45.670Z"
   },
   {
    "duration": 5,
    "start_time": "2021-10-18T16:00:45.678Z"
   },
   {
    "duration": 38,
    "start_time": "2021-10-18T16:00:45.686Z"
   },
   {
    "duration": 31,
    "start_time": "2021-10-18T16:00:45.728Z"
   },
   {
    "duration": 25,
    "start_time": "2021-10-18T16:00:45.762Z"
   },
   {
    "duration": 60,
    "start_time": "2021-10-18T16:00:45.790Z"
   },
   {
    "duration": 106,
    "start_time": "2021-10-18T16:00:45.853Z"
   },
   {
    "duration": 106,
    "start_time": "2021-10-18T16:00:45.961Z"
   },
   {
    "duration": 84,
    "start_time": "2021-10-18T16:00:46.069Z"
   },
   {
    "duration": 79,
    "start_time": "2021-10-18T16:00:46.156Z"
   },
   {
    "duration": 4,
    "start_time": "2021-10-18T16:00:46.237Z"
   },
   {
    "duration": 22,
    "start_time": "2021-10-18T16:00:46.244Z"
   },
   {
    "duration": 78,
    "start_time": "2021-10-18T16:00:46.268Z"
   },
   {
    "duration": 45,
    "start_time": "2021-10-18T16:00:46.348Z"
   },
   {
    "duration": 67,
    "start_time": "2021-10-18T16:00:46.395Z"
   },
   {
    "duration": 5,
    "start_time": "2021-10-18T16:00:46.464Z"
   },
   {
    "duration": 55,
    "start_time": "2021-10-18T16:00:46.471Z"
   },
   {
    "duration": 26,
    "start_time": "2021-10-18T16:00:46.528Z"
   },
   {
    "duration": 28,
    "start_time": "2021-10-18T16:00:46.558Z"
   },
   {
    "duration": 51,
    "start_time": "2021-10-18T16:00:46.589Z"
   },
   {
    "duration": 28,
    "start_time": "2021-10-18T16:00:46.642Z"
   },
   {
    "duration": 52,
    "start_time": "2021-10-18T16:00:46.673Z"
   },
   {
    "duration": 2,
    "start_time": "2021-10-18T16:00:46.728Z"
   },
   {
    "duration": 5,
    "start_time": "2021-10-18T16:00:46.733Z"
   },
   {
    "duration": 7,
    "start_time": "2021-10-18T16:00:46.740Z"
   },
   {
    "duration": 7,
    "start_time": "2021-10-18T16:00:46.749Z"
   },
   {
    "duration": 19,
    "start_time": "2021-10-18T16:00:46.758Z"
   },
   {
    "duration": 14,
    "start_time": "2021-10-18T16:00:46.779Z"
   },
   {
    "duration": 10,
    "start_time": "2021-10-18T16:00:46.796Z"
   },
   {
    "duration": 13,
    "start_time": "2021-10-18T16:00:46.809Z"
   },
   {
    "duration": 9,
    "start_time": "2021-10-18T16:00:46.825Z"
   },
   {
    "duration": 7,
    "start_time": "2021-10-18T16:00:46.836Z"
   },
   {
    "duration": 9,
    "start_time": "2021-10-18T16:00:46.846Z"
   },
   {
    "duration": 5,
    "start_time": "2021-10-18T16:00:46.858Z"
   },
   {
    "duration": 5,
    "start_time": "2021-10-18T16:01:01.324Z"
   },
   {
    "duration": 30,
    "start_time": "2021-10-18T16:10:38.035Z"
   },
   {
    "duration": 27,
    "start_time": "2021-10-18T16:10:38.908Z"
   },
   {
    "duration": 30,
    "start_time": "2021-10-18T16:10:39.510Z"
   },
   {
    "duration": 27,
    "start_time": "2021-10-18T16:10:40.082Z"
   },
   {
    "duration": 32,
    "start_time": "2021-10-18T16:10:40.632Z"
   },
   {
    "duration": 26,
    "start_time": "2021-10-18T16:10:41.086Z"
   },
   {
    "duration": 6,
    "start_time": "2021-10-18T16:14:21.250Z"
   },
   {
    "duration": 3,
    "start_time": "2021-10-18T16:14:28.838Z"
   },
   {
    "duration": 207,
    "start_time": "2021-10-18T16:14:28.844Z"
   },
   {
    "duration": 15,
    "start_time": "2021-10-18T16:14:29.054Z"
   },
   {
    "duration": 57,
    "start_time": "2021-10-18T16:14:29.072Z"
   },
   {
    "duration": 6,
    "start_time": "2021-10-18T16:14:29.131Z"
   },
   {
    "duration": 5,
    "start_time": "2021-10-18T16:14:29.139Z"
   },
   {
    "duration": 15,
    "start_time": "2021-10-18T16:14:29.146Z"
   },
   {
    "duration": 63,
    "start_time": "2021-10-18T16:14:29.164Z"
   },
   {
    "duration": 21,
    "start_time": "2021-10-18T16:14:29.230Z"
   },
   {
    "duration": 33,
    "start_time": "2021-10-18T16:14:29.254Z"
   },
   {
    "duration": 110,
    "start_time": "2021-10-18T16:14:29.289Z"
   },
   {
    "duration": 89,
    "start_time": "2021-10-18T16:14:29.401Z"
   },
   {
    "duration": 88,
    "start_time": "2021-10-18T16:14:29.493Z"
   },
   {
    "duration": 73,
    "start_time": "2021-10-18T16:14:29.583Z"
   },
   {
    "duration": 5,
    "start_time": "2021-10-18T16:14:29.659Z"
   },
   {
    "duration": 36,
    "start_time": "2021-10-18T16:14:29.666Z"
   },
   {
    "duration": 73,
    "start_time": "2021-10-18T16:14:29.704Z"
   },
   {
    "duration": 55,
    "start_time": "2021-10-18T16:14:29.779Z"
   },
   {
    "duration": 41,
    "start_time": "2021-10-18T16:14:29.836Z"
   },
   {
    "duration": 4,
    "start_time": "2021-10-18T16:14:29.880Z"
   },
   {
    "duration": 51,
    "start_time": "2021-10-18T16:14:29.887Z"
   },
   {
    "duration": 25,
    "start_time": "2021-10-18T16:14:29.940Z"
   },
   {
    "duration": 20,
    "start_time": "2021-10-18T16:14:29.970Z"
   },
   {
    "duration": 37,
    "start_time": "2021-10-18T16:14:29.992Z"
   },
   {
    "duration": 21,
    "start_time": "2021-10-18T16:14:30.031Z"
   },
   {
    "duration": 27,
    "start_time": "2021-10-18T16:14:30.055Z"
   },
   {
    "duration": 12,
    "start_time": "2021-10-18T16:14:30.085Z"
   },
   {
    "duration": 24,
    "start_time": "2021-10-18T16:14:30.099Z"
   },
   {
    "duration": 12,
    "start_time": "2021-10-18T16:14:30.126Z"
   },
   {
    "duration": 15,
    "start_time": "2021-10-18T16:14:30.140Z"
   },
   {
    "duration": 20,
    "start_time": "2021-10-18T16:14:30.157Z"
   },
   {
    "duration": 13,
    "start_time": "2021-10-18T16:14:30.180Z"
   },
   {
    "duration": 28,
    "start_time": "2021-10-18T16:14:30.195Z"
   },
   {
    "duration": 16,
    "start_time": "2021-10-18T16:14:30.225Z"
   },
   {
    "duration": 13,
    "start_time": "2021-10-18T16:14:30.243Z"
   },
   {
    "duration": 20,
    "start_time": "2021-10-18T16:14:30.258Z"
   },
   {
    "duration": 15,
    "start_time": "2021-10-18T16:14:30.281Z"
   },
   {
    "duration": 16,
    "start_time": "2021-10-18T16:14:30.299Z"
   },
   {
    "duration": 5,
    "start_time": "2021-10-18T16:14:38.331Z"
   },
   {
    "duration": 20,
    "start_time": "2021-10-18T16:14:42.192Z"
   },
   {
    "duration": 17,
    "start_time": "2021-10-18T16:14:43.389Z"
   },
   {
    "duration": 19,
    "start_time": "2021-10-18T16:14:43.565Z"
   },
   {
    "duration": 17,
    "start_time": "2021-10-18T16:14:43.698Z"
   },
   {
    "duration": 20,
    "start_time": "2021-10-18T16:14:45.290Z"
   },
   {
    "duration": 19,
    "start_time": "2021-10-18T16:14:46.349Z"
   },
   {
    "duration": 6,
    "start_time": "2021-10-18T16:18:44.149Z"
   },
   {
    "duration": 4,
    "start_time": "2021-10-18T16:18:51.173Z"
   },
   {
    "duration": 199,
    "start_time": "2021-10-18T16:18:51.181Z"
   },
   {
    "duration": 18,
    "start_time": "2021-10-18T16:18:51.383Z"
   },
   {
    "duration": 34,
    "start_time": "2021-10-18T16:18:51.425Z"
   },
   {
    "duration": 6,
    "start_time": "2021-10-18T16:18:51.462Z"
   },
   {
    "duration": 8,
    "start_time": "2021-10-18T16:18:51.471Z"
   },
   {
    "duration": 8,
    "start_time": "2021-10-18T16:18:51.524Z"
   },
   {
    "duration": 33,
    "start_time": "2021-10-18T16:18:51.535Z"
   },
   {
    "duration": 60,
    "start_time": "2021-10-18T16:18:51.571Z"
   },
   {
    "duration": 31,
    "start_time": "2021-10-18T16:18:51.635Z"
   },
   {
    "duration": 102,
    "start_time": "2021-10-18T16:18:51.670Z"
   },
   {
    "duration": 101,
    "start_time": "2021-10-18T16:18:51.775Z"
   },
   {
    "duration": 86,
    "start_time": "2021-10-18T16:18:51.879Z"
   },
   {
    "duration": 79,
    "start_time": "2021-10-18T16:18:51.969Z"
   },
   {
    "duration": 4,
    "start_time": "2021-10-18T16:18:52.051Z"
   },
   {
    "duration": 16,
    "start_time": "2021-10-18T16:18:52.058Z"
   },
   {
    "duration": 95,
    "start_time": "2021-10-18T16:18:52.077Z"
   },
   {
    "duration": 59,
    "start_time": "2021-10-18T16:18:52.174Z"
   },
   {
    "duration": 42,
    "start_time": "2021-10-18T16:18:52.236Z"
   },
   {
    "duration": 4,
    "start_time": "2021-10-18T16:18:52.281Z"
   },
   {
    "duration": 46,
    "start_time": "2021-10-18T16:18:52.287Z"
   },
   {
    "duration": 18,
    "start_time": "2021-10-18T16:18:52.335Z"
   },
   {
    "duration": 18,
    "start_time": "2021-10-18T16:18:52.355Z"
   },
   {
    "duration": 49,
    "start_time": "2021-10-18T16:18:52.377Z"
   },
   {
    "duration": 20,
    "start_time": "2021-10-18T16:18:52.428Z"
   },
   {
    "duration": 17,
    "start_time": "2021-10-18T16:18:52.450Z"
   },
   {
    "duration": 6,
    "start_time": "2021-10-18T16:18:52.470Z"
   },
   {
    "duration": 6,
    "start_time": "2021-10-18T16:18:52.478Z"
   },
   {
    "duration": 5,
    "start_time": "2021-10-18T16:18:52.486Z"
   },
   {
    "duration": 7,
    "start_time": "2021-10-18T16:18:52.523Z"
   },
   {
    "duration": 7,
    "start_time": "2021-10-18T16:18:52.533Z"
   },
   {
    "duration": 12,
    "start_time": "2021-10-18T16:18:52.542Z"
   },
   {
    "duration": 9,
    "start_time": "2021-10-18T16:18:52.556Z"
   },
   {
    "duration": 6,
    "start_time": "2021-10-18T16:18:52.568Z"
   },
   {
    "duration": 4,
    "start_time": "2021-10-18T16:18:52.576Z"
   },
   {
    "duration": 19,
    "start_time": "2021-10-18T16:18:52.582Z"
   },
   {
    "duration": 11,
    "start_time": "2021-10-18T16:18:52.604Z"
   },
   {
    "duration": 9,
    "start_time": "2021-10-18T16:18:52.623Z"
   },
   {
    "duration": 7,
    "start_time": "2021-10-18T16:19:02.967Z"
   },
   {
    "duration": 465,
    "start_time": "2021-10-18T16:22:35.489Z"
   },
   {
    "duration": 12,
    "start_time": "2021-10-18T16:22:45.462Z"
   },
   {
    "duration": 64,
    "start_time": "2021-10-18T16:24:15.292Z"
   },
   {
    "duration": 63,
    "start_time": "2021-10-18T16:24:37.570Z"
   },
   {
    "duration": 15,
    "start_time": "2021-10-18T16:34:00.199Z"
   },
   {
    "duration": 12,
    "start_time": "2021-10-18T16:34:01.268Z"
   },
   {
    "duration": 4,
    "start_time": "2021-10-18T16:34:17.740Z"
   },
   {
    "duration": 199,
    "start_time": "2021-10-18T16:34:17.788Z"
   },
   {
    "duration": 34,
    "start_time": "2021-10-18T16:34:17.989Z"
   },
   {
    "duration": 35,
    "start_time": "2021-10-18T16:34:18.026Z"
   },
   {
    "duration": 5,
    "start_time": "2021-10-18T16:34:18.064Z"
   },
   {
    "duration": 6,
    "start_time": "2021-10-18T16:34:18.071Z"
   },
   {
    "duration": 50,
    "start_time": "2021-10-18T16:34:18.079Z"
   },
   {
    "duration": 32,
    "start_time": "2021-10-18T16:34:18.132Z"
   },
   {
    "duration": 62,
    "start_time": "2021-10-18T16:34:18.166Z"
   },
   {
    "duration": 31,
    "start_time": "2021-10-18T16:34:18.233Z"
   },
   {
    "duration": 104,
    "start_time": "2021-10-18T16:34:18.268Z"
   },
   {
    "duration": 103,
    "start_time": "2021-10-18T16:34:18.375Z"
   },
   {
    "duration": 89,
    "start_time": "2021-10-18T16:34:18.480Z"
   },
   {
    "duration": 73,
    "start_time": "2021-10-18T16:34:18.572Z"
   },
   {
    "duration": 4,
    "start_time": "2021-10-18T16:34:18.647Z"
   },
   {
    "duration": 17,
    "start_time": "2021-10-18T16:34:18.654Z"
   },
   {
    "duration": 98,
    "start_time": "2021-10-18T16:34:18.674Z"
   },
   {
    "duration": 66,
    "start_time": "2021-10-18T16:34:18.776Z"
   },
   {
    "duration": 44,
    "start_time": "2021-10-18T16:34:18.845Z"
   },
   {
    "duration": 6,
    "start_time": "2021-10-18T16:34:18.892Z"
   },
   {
    "duration": 44,
    "start_time": "2021-10-18T16:34:18.901Z"
   },
   {
    "duration": 20,
    "start_time": "2021-10-18T16:34:18.947Z"
   },
   {
    "duration": 57,
    "start_time": "2021-10-18T16:34:18.970Z"
   },
   {
    "duration": 17,
    "start_time": "2021-10-18T16:34:19.029Z"
   },
   {
    "duration": 20,
    "start_time": "2021-10-18T16:34:19.049Z"
   },
   {
    "duration": 53,
    "start_time": "2021-10-18T16:34:19.071Z"
   },
   {
    "duration": 12,
    "start_time": "2021-10-18T16:34:19.126Z"
   },
   {
    "duration": 17,
    "start_time": "2021-10-18T16:34:19.143Z"
   },
   {
    "duration": 13,
    "start_time": "2021-10-18T16:34:19.163Z"
   },
   {
    "duration": 4,
    "start_time": "2021-10-18T16:34:19.178Z"
   },
   {
    "duration": 44,
    "start_time": "2021-10-18T16:34:19.184Z"
   },
   {
    "duration": 7,
    "start_time": "2021-10-18T16:34:19.230Z"
   },
   {
    "duration": 11,
    "start_time": "2021-10-18T16:34:19.239Z"
   },
   {
    "duration": 5,
    "start_time": "2021-10-18T16:34:19.253Z"
   },
   {
    "duration": 10,
    "start_time": "2021-10-18T16:34:19.261Z"
   },
   {
    "duration": 6,
    "start_time": "2021-10-18T16:34:19.273Z"
   },
   {
    "duration": 6,
    "start_time": "2021-10-18T16:34:19.282Z"
   },
   {
    "duration": 5,
    "start_time": "2021-10-18T16:34:19.290Z"
   },
   {
    "duration": 32,
    "start_time": "2021-10-18T16:42:13.368Z"
   },
   {
    "duration": 37,
    "start_time": "2021-10-18T16:42:33.850Z"
   },
   {
    "duration": 6,
    "start_time": "2021-10-18T16:57:14.693Z"
   },
   {
    "duration": 5,
    "start_time": "2021-10-18T16:57:30.144Z"
   },
   {
    "duration": 3,
    "start_time": "2021-10-18T16:57:39.123Z"
   },
   {
    "duration": 223,
    "start_time": "2021-10-18T16:57:39.132Z"
   },
   {
    "duration": 16,
    "start_time": "2021-10-18T16:57:39.358Z"
   },
   {
    "duration": 58,
    "start_time": "2021-10-18T16:57:39.377Z"
   },
   {
    "duration": 6,
    "start_time": "2021-10-18T16:57:39.438Z"
   },
   {
    "duration": 6,
    "start_time": "2021-10-18T16:57:39.447Z"
   },
   {
    "duration": 10,
    "start_time": "2021-10-18T16:57:39.456Z"
   },
   {
    "duration": 63,
    "start_time": "2021-10-18T16:57:39.469Z"
   },
   {
    "duration": 29,
    "start_time": "2021-10-18T16:57:39.538Z"
   },
   {
    "duration": 68,
    "start_time": "2021-10-18T16:57:39.571Z"
   },
   {
    "duration": 102,
    "start_time": "2021-10-18T16:57:39.641Z"
   },
   {
    "duration": 103,
    "start_time": "2021-10-18T16:57:39.745Z"
   },
   {
    "duration": 82,
    "start_time": "2021-10-18T16:57:39.851Z"
   },
   {
    "duration": 66,
    "start_time": "2021-10-18T16:57:39.935Z"
   },
   {
    "duration": 22,
    "start_time": "2021-10-18T16:57:40.004Z"
   },
   {
    "duration": 21,
    "start_time": "2021-10-18T16:57:40.029Z"
   },
   {
    "duration": 87,
    "start_time": "2021-10-18T16:57:40.053Z"
   },
   {
    "duration": 43,
    "start_time": "2021-10-18T16:57:40.143Z"
   },
   {
    "duration": 64,
    "start_time": "2021-10-18T16:57:40.189Z"
   },
   {
    "duration": 4,
    "start_time": "2021-10-18T16:57:40.256Z"
   },
   {
    "duration": 32,
    "start_time": "2021-10-18T16:57:40.264Z"
   },
   {
    "duration": 48,
    "start_time": "2021-10-18T16:57:40.299Z"
   },
   {
    "duration": 19,
    "start_time": "2021-10-18T16:57:40.349Z"
   },
   {
    "duration": 56,
    "start_time": "2021-10-18T16:57:40.373Z"
   },
   {
    "duration": 23,
    "start_time": "2021-10-18T16:57:40.432Z"
   },
   {
    "duration": 17,
    "start_time": "2021-10-18T16:57:40.458Z"
   },
   {
    "duration": 44,
    "start_time": "2021-10-18T16:57:40.478Z"
   },
   {
    "duration": 31,
    "start_time": "2021-10-18T16:57:40.524Z"
   },
   {
    "duration": 29,
    "start_time": "2021-10-18T16:57:40.558Z"
   },
   {
    "duration": 33,
    "start_time": "2021-10-18T16:57:40.589Z"
   },
   {
    "duration": 6,
    "start_time": "2021-10-18T16:57:40.625Z"
   },
   {
    "duration": 9,
    "start_time": "2021-10-18T16:57:40.634Z"
   },
   {
    "duration": 5,
    "start_time": "2021-10-18T16:57:40.646Z"
   },
   {
    "duration": 5,
    "start_time": "2021-10-18T16:57:40.654Z"
   },
   {
    "duration": 7,
    "start_time": "2021-10-18T16:57:40.663Z"
   },
   {
    "duration": 7,
    "start_time": "2021-10-18T16:57:40.673Z"
   },
   {
    "duration": 5,
    "start_time": "2021-10-18T16:57:40.683Z"
   },
   {
    "duration": 8,
    "start_time": "2021-10-18T16:57:40.723Z"
   },
   {
    "duration": 19593,
    "start_time": "2021-10-18T16:59:15.455Z"
   },
   {
    "duration": 5,
    "start_time": "2021-10-18T16:59:35.649Z"
   },
   {
    "duration": 227,
    "start_time": "2021-10-18T16:59:35.658Z"
   },
   {
    "duration": 34,
    "start_time": "2021-10-18T16:59:35.888Z"
   },
   {
    "duration": 33,
    "start_time": "2021-10-18T16:59:35.925Z"
   },
   {
    "duration": 9,
    "start_time": "2021-10-18T16:59:35.960Z"
   },
   {
    "duration": 20,
    "start_time": "2021-10-18T16:59:35.971Z"
   },
   {
    "duration": 36,
    "start_time": "2021-10-18T16:59:35.994Z"
   },
   {
    "duration": 67,
    "start_time": "2021-10-18T16:59:36.034Z"
   },
   {
    "duration": 57,
    "start_time": "2021-10-18T16:59:36.112Z"
   },
   {
    "duration": 65,
    "start_time": "2021-10-18T16:59:36.173Z"
   },
   {
    "duration": 158,
    "start_time": "2021-10-18T16:59:36.248Z"
   },
   {
    "duration": 145,
    "start_time": "2021-10-18T16:59:36.410Z"
   },
   {
    "duration": 90,
    "start_time": "2021-10-18T16:59:36.558Z"
   },
   {
    "duration": 79,
    "start_time": "2021-10-18T16:59:36.650Z"
   },
   {
    "duration": 4,
    "start_time": "2021-10-18T16:59:36.731Z"
   },
   {
    "duration": 31,
    "start_time": "2021-10-18T16:59:36.737Z"
   },
   {
    "duration": 78,
    "start_time": "2021-10-18T16:59:36.770Z"
   },
   {
    "duration": 44,
    "start_time": "2021-10-18T16:59:36.851Z"
   },
   {
    "duration": 66,
    "start_time": "2021-10-18T16:59:36.897Z"
   },
   {
    "duration": 4,
    "start_time": "2021-10-18T16:59:36.966Z"
   },
   {
    "duration": 51,
    "start_time": "2021-10-18T16:59:36.973Z"
   },
   {
    "duration": 27,
    "start_time": "2021-10-18T16:59:37.027Z"
   },
   {
    "duration": 30,
    "start_time": "2021-10-18T16:59:37.057Z"
   },
   {
    "duration": 51,
    "start_time": "2021-10-18T16:59:37.093Z"
   },
   {
    "duration": 25,
    "start_time": "2021-10-18T16:59:37.147Z"
   },
   {
    "duration": 53,
    "start_time": "2021-10-18T16:59:37.175Z"
   },
   {
    "duration": 14,
    "start_time": "2021-10-18T16:59:37.231Z"
   },
   {
    "duration": 33,
    "start_time": "2021-10-18T16:59:37.248Z"
   },
   {
    "duration": 61,
    "start_time": "2021-10-18T16:59:37.284Z"
   },
   {
    "duration": 5,
    "start_time": "2021-10-18T16:59:37.347Z"
   },
   {
    "duration": 99977,
    "start_time": "2021-10-18T16:58:16.346Z"
   },
   {
    "duration": 99936,
    "start_time": "2021-10-18T16:58:16.388Z"
   },
   {
    "duration": 99914,
    "start_time": "2021-10-18T16:58:16.412Z"
   },
   {
    "duration": 99903,
    "start_time": "2021-10-18T16:58:16.424Z"
   },
   {
    "duration": 99896,
    "start_time": "2021-10-18T16:58:16.433Z"
   },
   {
    "duration": 99888,
    "start_time": "2021-10-18T16:58:16.442Z"
   },
   {
    "duration": 99881,
    "start_time": "2021-10-18T16:58:16.451Z"
   },
   {
    "duration": 99869,
    "start_time": "2021-10-18T16:58:16.464Z"
   },
   {
    "duration": 800,
    "start_time": "2021-10-18T17:00:55.494Z"
   },
   {
    "duration": 189,
    "start_time": "2021-10-18T17:00:56.297Z"
   },
   {
    "duration": 25,
    "start_time": "2021-10-18T17:00:56.489Z"
   },
   {
    "duration": 32,
    "start_time": "2021-10-18T17:00:56.523Z"
   },
   {
    "duration": 7,
    "start_time": "2021-10-18T17:00:56.557Z"
   },
   {
    "duration": 9,
    "start_time": "2021-10-18T17:00:56.566Z"
   },
   {
    "duration": 13,
    "start_time": "2021-10-18T17:00:56.577Z"
   },
   {
    "duration": 55,
    "start_time": "2021-10-18T17:00:56.594Z"
   },
   {
    "duration": 25,
    "start_time": "2021-10-18T17:00:56.652Z"
   },
   {
    "duration": 58,
    "start_time": "2021-10-18T17:00:56.679Z"
   },
   {
    "duration": 96,
    "start_time": "2021-10-18T17:00:56.740Z"
   },
   {
    "duration": 107,
    "start_time": "2021-10-18T17:00:56.839Z"
   },
   {
    "duration": 87,
    "start_time": "2021-10-18T17:00:56.949Z"
   },
   {
    "duration": 85,
    "start_time": "2021-10-18T17:00:57.038Z"
   },
   {
    "duration": 3,
    "start_time": "2021-10-18T17:00:57.126Z"
   },
   {
    "duration": 17,
    "start_time": "2021-10-18T17:00:57.131Z"
   },
   {
    "duration": 82,
    "start_time": "2021-10-18T17:00:57.151Z"
   },
   {
    "duration": 45,
    "start_time": "2021-10-18T17:00:57.235Z"
   },
   {
    "duration": 69,
    "start_time": "2021-10-18T17:00:57.283Z"
   },
   {
    "duration": 4,
    "start_time": "2021-10-18T17:00:57.354Z"
   },
   {
    "duration": 33,
    "start_time": "2021-10-18T17:00:57.360Z"
   },
   {
    "duration": 31,
    "start_time": "2021-10-18T17:00:57.395Z"
   },
   {
    "duration": 21,
    "start_time": "2021-10-18T17:00:57.432Z"
   },
   {
    "duration": 18,
    "start_time": "2021-10-18T17:00:57.456Z"
   },
   {
    "duration": 60,
    "start_time": "2021-10-18T17:00:57.477Z"
   },
   {
    "duration": 21,
    "start_time": "2021-10-18T17:00:57.540Z"
   },
   {
    "duration": 13,
    "start_time": "2021-10-18T17:00:57.564Z"
   },
   {
    "duration": 67,
    "start_time": "2021-10-18T17:00:57.580Z"
   },
   {
    "duration": 29,
    "start_time": "2021-10-18T17:00:57.650Z"
   },
   {
    "duration": 6,
    "start_time": "2021-10-18T17:00:57.682Z"
   },
   {
    "duration": 20208,
    "start_time": "2021-10-18T17:00:57.691Z"
   },
   {
    "duration": 99006,
    "start_time": "2021-10-18T16:59:38.896Z"
   },
   {
    "duration": 98997,
    "start_time": "2021-10-18T16:59:38.906Z"
   },
   {
    "duration": 98990,
    "start_time": "2021-10-18T16:59:38.915Z"
   },
   {
    "duration": 98977,
    "start_time": "2021-10-18T16:59:38.929Z"
   },
   {
    "duration": 98968,
    "start_time": "2021-10-18T16:59:38.939Z"
   },
   {
    "duration": 98961,
    "start_time": "2021-10-18T16:59:38.947Z"
   },
   {
    "duration": 98953,
    "start_time": "2021-10-18T16:59:38.957Z"
   },
   {
    "duration": 6,
    "start_time": "2021-10-18T17:02:24.551Z"
   },
   {
    "duration": 17963,
    "start_time": "2021-10-18T17:02:49.824Z"
   },
   {
    "duration": 6,
    "start_time": "2021-10-18T17:05:28.175Z"
   },
   {
    "duration": 781,
    "start_time": "2021-10-18T17:06:29.921Z"
   },
   {
    "duration": 198,
    "start_time": "2021-10-18T17:06:30.705Z"
   },
   {
    "duration": 32,
    "start_time": "2021-10-18T17:06:30.906Z"
   },
   {
    "duration": 40,
    "start_time": "2021-10-18T17:06:30.941Z"
   },
   {
    "duration": 14,
    "start_time": "2021-10-18T17:06:30.983Z"
   },
   {
    "duration": 22,
    "start_time": "2021-10-18T17:06:31.000Z"
   },
   {
    "duration": 21,
    "start_time": "2021-10-18T17:06:31.025Z"
   },
   {
    "duration": 43,
    "start_time": "2021-10-18T17:06:31.050Z"
   },
   {
    "duration": 44,
    "start_time": "2021-10-18T17:06:31.096Z"
   },
   {
    "duration": 30,
    "start_time": "2021-10-18T17:06:31.143Z"
   },
   {
    "duration": 113,
    "start_time": "2021-10-18T17:06:31.176Z"
   },
   {
    "duration": 110,
    "start_time": "2021-10-18T17:06:31.291Z"
   },
   {
    "duration": 81,
    "start_time": "2021-10-18T17:06:31.404Z"
   },
   {
    "duration": 75,
    "start_time": "2021-10-18T17:06:31.488Z"
   },
   {
    "duration": 4,
    "start_time": "2021-10-18T17:06:31.565Z"
   },
   {
    "duration": 21,
    "start_time": "2021-10-18T17:06:31.571Z"
   },
   {
    "duration": 86,
    "start_time": "2021-10-18T17:06:31.594Z"
   },
   {
    "duration": 57,
    "start_time": "2021-10-18T17:06:31.682Z"
   },
   {
    "duration": 43,
    "start_time": "2021-10-18T17:06:31.741Z"
   },
   {
    "duration": 5,
    "start_time": "2021-10-18T17:06:31.786Z"
   },
   {
    "duration": 44,
    "start_time": "2021-10-18T17:06:31.793Z"
   },
   {
    "duration": 21,
    "start_time": "2021-10-18T17:06:31.839Z"
   },
   {
    "duration": 19,
    "start_time": "2021-10-18T17:06:31.865Z"
   },
   {
    "duration": 51,
    "start_time": "2021-10-18T17:06:31.887Z"
   },
   {
    "duration": 21,
    "start_time": "2021-10-18T17:06:31.940Z"
   },
   {
    "duration": 18,
    "start_time": "2021-10-18T17:06:31.963Z"
   },
   {
    "duration": 45,
    "start_time": "2021-10-18T17:06:31.983Z"
   },
   {
    "duration": 32,
    "start_time": "2021-10-18T17:06:32.030Z"
   },
   {
    "duration": 27,
    "start_time": "2021-10-18T17:06:32.064Z"
   },
   {
    "duration": 34,
    "start_time": "2021-10-18T17:06:32.093Z"
   },
   {
    "duration": 18183,
    "start_time": "2021-10-18T17:06:32.129Z"
   },
   {
    "duration": 99985,
    "start_time": "2021-10-18T17:05:10.329Z"
   },
   {
    "duration": 99969,
    "start_time": "2021-10-18T17:05:10.347Z"
   },
   {
    "duration": 99960,
    "start_time": "2021-10-18T17:05:10.357Z"
   },
   {
    "duration": 99951,
    "start_time": "2021-10-18T17:05:10.368Z"
   },
   {
    "duration": 99941,
    "start_time": "2021-10-18T17:05:10.379Z"
   },
   {
    "duration": 99930,
    "start_time": "2021-10-18T17:05:10.391Z"
   },
   {
    "duration": 99922,
    "start_time": "2021-10-18T17:05:10.400Z"
   },
   {
    "duration": 100051,
    "start_time": "2021-10-18T17:07:28.122Z"
   },
   {
    "duration": 4,
    "start_time": "2021-10-18T17:09:26.677Z"
   },
   {
    "duration": 190,
    "start_time": "2021-10-18T17:09:26.686Z"
   },
   {
    "duration": 15,
    "start_time": "2021-10-18T17:09:26.878Z"
   },
   {
    "duration": 53,
    "start_time": "2021-10-18T17:09:26.896Z"
   },
   {
    "duration": 6,
    "start_time": "2021-10-18T17:09:26.951Z"
   },
   {
    "duration": 4,
    "start_time": "2021-10-18T17:09:26.959Z"
   },
   {
    "duration": 7,
    "start_time": "2021-10-18T17:09:26.966Z"
   },
   {
    "duration": 66,
    "start_time": "2021-10-18T17:09:26.976Z"
   },
   {
    "duration": 23,
    "start_time": "2021-10-18T17:09:27.046Z"
   },
   {
    "duration": 55,
    "start_time": "2021-10-18T17:09:27.072Z"
   },
   {
    "duration": 109,
    "start_time": "2021-10-18T17:09:27.130Z"
   },
   {
    "duration": 110,
    "start_time": "2021-10-18T17:09:27.241Z"
   },
   {
    "duration": 94,
    "start_time": "2021-10-18T17:09:27.353Z"
   },
   {
    "duration": 89,
    "start_time": "2021-10-18T17:09:27.450Z"
   },
   {
    "duration": 4,
    "start_time": "2021-10-18T17:09:27.542Z"
   },
   {
    "duration": 16,
    "start_time": "2021-10-18T17:09:27.548Z"
   },
   {
    "duration": 87,
    "start_time": "2021-10-18T17:09:27.566Z"
   },
   {
    "duration": 48,
    "start_time": "2021-10-18T17:09:27.656Z"
   },
   {
    "duration": 44,
    "start_time": "2021-10-18T17:09:27.723Z"
   },
   {
    "duration": 6,
    "start_time": "2021-10-18T17:09:27.770Z"
   },
   {
    "duration": 54,
    "start_time": "2021-10-18T17:09:27.778Z"
   },
   {
    "duration": 18,
    "start_time": "2021-10-18T17:09:27.834Z"
   },
   {
    "duration": 19,
    "start_time": "2021-10-18T17:09:27.855Z"
   },
   {
    "duration": 55,
    "start_time": "2021-10-18T17:09:27.880Z"
   },
   {
    "duration": 19,
    "start_time": "2021-10-18T17:09:27.938Z"
   },
   {
    "duration": 20,
    "start_time": "2021-10-18T17:09:27.960Z"
   },
   {
    "duration": 49,
    "start_time": "2021-10-18T17:09:27.983Z"
   },
   {
    "duration": 37,
    "start_time": "2021-10-18T17:09:28.035Z"
   },
   {
    "duration": 55,
    "start_time": "2021-10-18T17:09:28.075Z"
   },
   {
    "duration": 6,
    "start_time": "2021-10-18T17:09:28.133Z"
   },
   {
    "duration": 425,
    "start_time": "2021-10-18T17:09:53.255Z"
   },
   {
    "duration": 265,
    "start_time": "2021-10-18T17:10:40.954Z"
   },
   {
    "duration": 6,
    "start_time": "2021-10-18T17:10:54.244Z"
   },
   {
    "duration": 16,
    "start_time": "2021-10-18T17:11:07.323Z"
   },
   {
    "duration": 355,
    "start_time": "2021-10-18T17:11:31.047Z"
   },
   {
    "duration": 760,
    "start_time": "2021-10-18T17:11:46.736Z"
   },
   {
    "duration": 195,
    "start_time": "2021-10-18T17:11:47.499Z"
   },
   {
    "duration": 26,
    "start_time": "2021-10-18T17:11:47.698Z"
   },
   {
    "duration": 35,
    "start_time": "2021-10-18T17:11:47.727Z"
   },
   {
    "duration": 9,
    "start_time": "2021-10-18T17:11:47.764Z"
   },
   {
    "duration": 15,
    "start_time": "2021-10-18T17:11:47.776Z"
   },
   {
    "duration": 33,
    "start_time": "2021-10-18T17:11:47.794Z"
   },
   {
    "duration": 35,
    "start_time": "2021-10-18T17:11:47.831Z"
   },
   {
    "duration": 26,
    "start_time": "2021-10-18T17:11:47.869Z"
   },
   {
    "duration": 52,
    "start_time": "2021-10-18T17:11:47.898Z"
   },
   {
    "duration": 109,
    "start_time": "2021-10-18T17:11:47.952Z"
   },
   {
    "duration": 110,
    "start_time": "2021-10-18T17:11:48.063Z"
   },
   {
    "duration": 85,
    "start_time": "2021-10-18T17:11:48.175Z"
   },
   {
    "duration": 77,
    "start_time": "2021-10-18T17:11:48.262Z"
   },
   {
    "duration": 4,
    "start_time": "2021-10-18T17:11:48.342Z"
   },
   {
    "duration": 19,
    "start_time": "2021-10-18T17:11:48.348Z"
   },
   {
    "duration": 99,
    "start_time": "2021-10-18T17:11:48.369Z"
   },
   {
    "duration": 63,
    "start_time": "2021-10-18T17:11:48.470Z"
   },
   {
    "duration": 43,
    "start_time": "2021-10-18T17:11:48.536Z"
   },
   {
    "duration": 4,
    "start_time": "2021-10-18T17:11:48.582Z"
   },
   {
    "duration": 54,
    "start_time": "2021-10-18T17:11:48.590Z"
   },
   {
    "duration": 20,
    "start_time": "2021-10-18T17:11:48.646Z"
   },
   {
    "duration": 19,
    "start_time": "2021-10-18T17:11:48.671Z"
   },
   {
    "duration": 19,
    "start_time": "2021-10-18T17:11:48.722Z"
   },
   {
    "duration": 23,
    "start_time": "2021-10-18T17:11:48.743Z"
   },
   {
    "duration": 54,
    "start_time": "2021-10-18T17:11:48.769Z"
   },
   {
    "duration": 13,
    "start_time": "2021-10-18T17:11:48.826Z"
   },
   {
    "duration": 39,
    "start_time": "2021-10-18T17:11:48.841Z"
   },
   {
    "duration": 47,
    "start_time": "2021-10-18T17:11:48.883Z"
   },
   {
    "duration": 7,
    "start_time": "2021-10-18T17:11:48.933Z"
   },
   {
    "duration": 100043,
    "start_time": "2021-10-18T17:10:27.494Z"
   },
   {
    "duration": 100034,
    "start_time": "2021-10-18T17:10:27.506Z"
   },
   {
    "duration": 100026,
    "start_time": "2021-10-18T17:10:27.516Z"
   },
   {
    "duration": 100019,
    "start_time": "2021-10-18T17:10:27.525Z"
   },
   {
    "duration": 100011,
    "start_time": "2021-10-18T17:10:27.535Z"
   },
   {
    "duration": 100003,
    "start_time": "2021-10-18T17:10:27.545Z"
   },
   {
    "duration": 99993,
    "start_time": "2021-10-18T17:10:27.558Z"
   },
   {
    "duration": 99984,
    "start_time": "2021-10-18T17:10:27.568Z"
   },
   {
    "duration": 35,
    "start_time": "2021-10-18T17:12:26.719Z"
   },
   {
    "duration": 28,
    "start_time": "2021-10-18T17:12:30.698Z"
   },
   {
    "duration": 8,
    "start_time": "2021-10-18T17:12:34.655Z"
   },
   {
    "duration": 20387,
    "start_time": "2021-10-18T17:12:39.346Z"
   },
   {
    "duration": 7,
    "start_time": "2021-10-18T17:13:31.887Z"
   },
   {
    "duration": 855,
    "start_time": "2021-10-18T17:13:42.996Z"
   },
   {
    "duration": 201,
    "start_time": "2021-10-18T17:13:43.853Z"
   },
   {
    "duration": 26,
    "start_time": "2021-10-18T17:13:44.058Z"
   },
   {
    "duration": 44,
    "start_time": "2021-10-18T17:13:44.087Z"
   },
   {
    "duration": 6,
    "start_time": "2021-10-18T17:13:44.134Z"
   },
   {
    "duration": 5,
    "start_time": "2021-10-18T17:13:44.142Z"
   },
   {
    "duration": 7,
    "start_time": "2021-10-18T17:13:44.149Z"
   },
   {
    "duration": 72,
    "start_time": "2021-10-18T17:13:44.161Z"
   },
   {
    "duration": 24,
    "start_time": "2021-10-18T17:13:44.236Z"
   },
   {
    "duration": 61,
    "start_time": "2021-10-18T17:13:44.263Z"
   },
   {
    "duration": 96,
    "start_time": "2021-10-18T17:13:44.326Z"
   },
   {
    "duration": 105,
    "start_time": "2021-10-18T17:13:44.425Z"
   },
   {
    "duration": 90,
    "start_time": "2021-10-18T17:13:44.532Z"
   },
   {
    "duration": 68,
    "start_time": "2021-10-18T17:13:44.625Z"
   },
   {
    "duration": 4,
    "start_time": "2021-10-18T17:13:44.695Z"
   },
   {
    "duration": 31,
    "start_time": "2021-10-18T17:13:44.702Z"
   },
   {
    "duration": 63,
    "start_time": "2021-10-18T17:13:44.735Z"
   },
   {
    "duration": 66,
    "start_time": "2021-10-18T17:13:44.800Z"
   },
   {
    "duration": 65,
    "start_time": "2021-10-18T17:13:44.868Z"
   },
   {
    "duration": 4,
    "start_time": "2021-10-18T17:13:44.935Z"
   },
   {
    "duration": 25,
    "start_time": "2021-10-18T17:13:44.942Z"
   },
   {
    "duration": 17,
    "start_time": "2021-10-18T17:13:44.970Z"
   },
   {
    "duration": 18,
    "start_time": "2021-10-18T17:13:45.024Z"
   },
   {
    "duration": 18,
    "start_time": "2021-10-18T17:13:45.045Z"
   },
   {
    "duration": 57,
    "start_time": "2021-10-18T17:13:45.066Z"
   },
   {
    "duration": 23,
    "start_time": "2021-10-18T17:13:45.125Z"
   },
   {
    "duration": 17,
    "start_time": "2021-10-18T17:13:45.151Z"
   },
   {
    "duration": 84,
    "start_time": "2021-10-18T17:13:45.171Z"
   },
   {
    "duration": 39,
    "start_time": "2021-10-18T17:13:45.258Z"
   },
   {
    "duration": 8,
    "start_time": "2021-10-18T17:13:45.300Z"
   },
   {
    "duration": 20687,
    "start_time": "2021-10-18T17:13:45.323Z"
   },
   {
    "duration": 99761,
    "start_time": "2021-10-18T17:12:26.252Z"
   },
   {
    "duration": 99730,
    "start_time": "2021-10-18T17:12:26.285Z"
   },
   {
    "duration": 99719,
    "start_time": "2021-10-18T17:12:26.298Z"
   },
   {
    "duration": 99709,
    "start_time": "2021-10-18T17:12:26.310Z"
   },
   {
    "duration": 99701,
    "start_time": "2021-10-18T17:12:26.320Z"
   },
   {
    "duration": 99666,
    "start_time": "2021-10-18T17:12:26.358Z"
   },
   {
    "duration": 99655,
    "start_time": "2021-10-18T17:12:26.371Z"
   },
   {
    "duration": 6,
    "start_time": "2021-10-18T17:14:19.467Z"
   },
   {
    "duration": 20178,
    "start_time": "2021-10-18T17:14:22.705Z"
   },
   {
    "duration": 6,
    "start_time": "2021-10-18T17:18:32.035Z"
   },
   {
    "duration": 380,
    "start_time": "2021-10-18T17:18:46.048Z"
   },
   {
    "duration": 827,
    "start_time": "2021-10-18T17:18:49.404Z"
   },
   {
    "duration": 179,
    "start_time": "2021-10-18T17:18:50.234Z"
   },
   {
    "duration": 28,
    "start_time": "2021-10-18T17:18:50.416Z"
   },
   {
    "duration": 38,
    "start_time": "2021-10-18T17:18:50.448Z"
   },
   {
    "duration": 33,
    "start_time": "2021-10-18T17:18:50.489Z"
   },
   {
    "duration": 4,
    "start_time": "2021-10-18T17:18:50.525Z"
   },
   {
    "duration": 8,
    "start_time": "2021-10-18T17:18:50.532Z"
   },
   {
    "duration": 31,
    "start_time": "2021-10-18T17:18:50.544Z"
   },
   {
    "duration": 54,
    "start_time": "2021-10-18T17:18:50.578Z"
   },
   {
    "duration": 42,
    "start_time": "2021-10-18T17:18:50.634Z"
   },
   {
    "duration": 97,
    "start_time": "2021-10-18T17:18:50.679Z"
   },
   {
    "duration": 112,
    "start_time": "2021-10-18T17:18:50.779Z"
   },
   {
    "duration": 86,
    "start_time": "2021-10-18T17:18:50.893Z"
   },
   {
    "duration": 70,
    "start_time": "2021-10-18T17:18:50.981Z"
   },
   {
    "duration": 3,
    "start_time": "2021-10-18T17:18:51.053Z"
   },
   {
    "duration": 23,
    "start_time": "2021-10-18T17:18:51.059Z"
   },
   {
    "duration": 86,
    "start_time": "2021-10-18T17:18:51.084Z"
   },
   {
    "duration": 54,
    "start_time": "2021-10-18T17:18:51.173Z"
   },
   {
    "duration": 45,
    "start_time": "2021-10-18T17:18:51.229Z"
   },
   {
    "duration": 5,
    "start_time": "2021-10-18T17:18:51.276Z"
   },
   {
    "duration": 50,
    "start_time": "2021-10-18T17:18:51.283Z"
   },
   {
    "duration": 18,
    "start_time": "2021-10-18T17:18:51.335Z"
   },
   {
    "duration": 31,
    "start_time": "2021-10-18T17:18:51.358Z"
   },
   {
    "duration": 35,
    "start_time": "2021-10-18T17:18:51.392Z"
   },
   {
    "duration": 24,
    "start_time": "2021-10-18T17:18:51.430Z"
   },
   {
    "duration": 19,
    "start_time": "2021-10-18T17:18:51.456Z"
   },
   {
    "duration": 47,
    "start_time": "2021-10-18T17:18:51.477Z"
   },
   {
    "duration": 30,
    "start_time": "2021-10-18T17:18:51.527Z"
   },
   {
    "duration": 27,
    "start_time": "2021-10-18T17:18:51.559Z"
   },
   {
    "duration": 5,
    "start_time": "2021-10-18T17:18:51.589Z"
   },
   {
    "duration": 18512,
    "start_time": "2021-10-18T17:18:51.623Z"
   },
   {
    "duration": 96217,
    "start_time": "2021-10-18T17:17:33.921Z"
   },
   {
    "duration": 96207,
    "start_time": "2021-10-18T17:17:33.932Z"
   },
   {
    "duration": 96195,
    "start_time": "2021-10-18T17:17:33.946Z"
   },
   {
    "duration": 96183,
    "start_time": "2021-10-18T17:17:33.959Z"
   },
   {
    "duration": 96173,
    "start_time": "2021-10-18T17:17:33.970Z"
   },
   {
    "duration": 96141,
    "start_time": "2021-10-18T17:17:34.004Z"
   },
   {
    "duration": 96132,
    "start_time": "2021-10-18T17:17:34.014Z"
   },
   {
    "duration": 6,
    "start_time": "2021-10-18T17:20:24.244Z"
   },
   {
    "duration": 99995,
    "start_time": "2021-10-18T17:19:06.849Z"
   },
   {
    "duration": 4,
    "start_time": "2021-10-18T17:20:56.157Z"
   },
   {
    "duration": 192,
    "start_time": "2021-10-18T17:20:56.167Z"
   },
   {
    "duration": 16,
    "start_time": "2021-10-18T17:20:56.361Z"
   },
   {
    "duration": 55,
    "start_time": "2021-10-18T17:20:56.380Z"
   },
   {
    "duration": 5,
    "start_time": "2021-10-18T17:20:56.438Z"
   },
   {
    "duration": 6,
    "start_time": "2021-10-18T17:20:56.445Z"
   },
   {
    "duration": 8,
    "start_time": "2021-10-18T17:20:56.453Z"
   },
   {
    "duration": 67,
    "start_time": "2021-10-18T17:20:56.463Z"
   },
   {
    "duration": 22,
    "start_time": "2021-10-18T17:20:56.534Z"
   },
   {
    "duration": 31,
    "start_time": "2021-10-18T17:20:56.559Z"
   },
   {
    "duration": 88,
    "start_time": "2021-10-18T17:20:56.621Z"
   },
   {
    "duration": 117,
    "start_time": "2021-10-18T17:20:56.711Z"
   },
   {
    "duration": 76,
    "start_time": "2021-10-18T17:20:56.831Z"
   },
   {
    "duration": 65,
    "start_time": "2021-10-18T17:20:56.922Z"
   },
   {
    "duration": 5,
    "start_time": "2021-10-18T17:20:56.989Z"
   },
   {
    "duration": 37,
    "start_time": "2021-10-18T17:20:56.997Z"
   },
   {
    "duration": 75,
    "start_time": "2021-10-18T17:20:57.036Z"
   },
   {
    "duration": 42,
    "start_time": "2021-10-18T17:20:57.122Z"
   },
   {
    "duration": 58,
    "start_time": "2021-10-18T17:20:57.166Z"
   },
   {
    "duration": 5,
    "start_time": "2021-10-18T17:20:57.227Z"
   },
   {
    "duration": 28,
    "start_time": "2021-10-18T17:20:57.235Z"
   },
   {
    "duration": 17,
    "start_time": "2021-10-18T17:20:57.266Z"
   },
   {
    "duration": 47,
    "start_time": "2021-10-18T17:20:57.286Z"
   },
   {
    "duration": 17,
    "start_time": "2021-10-18T17:20:57.337Z"
   },
   {
    "duration": 19,
    "start_time": "2021-10-18T17:20:57.358Z"
   },
   {
    "duration": 48,
    "start_time": "2021-10-18T17:20:57.380Z"
   },
   {
    "duration": 12,
    "start_time": "2021-10-18T17:20:57.430Z"
   },
   {
    "duration": 31,
    "start_time": "2021-10-18T17:20:57.444Z"
   },
   {
    "duration": 56,
    "start_time": "2021-10-18T17:20:57.477Z"
   },
   {
    "duration": 5,
    "start_time": "2021-10-18T17:20:57.536Z"
   },
   {
    "duration": 6505,
    "start_time": "2021-10-18T17:20:57.543Z"
   },
   {
    "duration": 99932,
    "start_time": "2021-10-18T17:19:24.119Z"
   },
   {
    "duration": 99921,
    "start_time": "2021-10-18T17:19:24.131Z"
   },
   {
    "duration": 99913,
    "start_time": "2021-10-18T17:19:24.141Z"
   },
   {
    "duration": 99904,
    "start_time": "2021-10-18T17:19:24.151Z"
   },
   {
    "duration": 99897,
    "start_time": "2021-10-18T17:19:24.160Z"
   },
   {
    "duration": 99888,
    "start_time": "2021-10-18T17:19:24.170Z"
   },
   {
    "duration": 99880,
    "start_time": "2021-10-18T17:19:24.180Z"
   },
   {
    "duration": 100041,
    "start_time": "2021-10-18T17:19:44.082Z"
   },
   {
    "duration": 99984,
    "start_time": "2021-10-18T17:19:44.140Z"
   },
   {
    "duration": 99972,
    "start_time": "2021-10-18T17:19:44.154Z"
   },
   {
    "duration": 99964,
    "start_time": "2021-10-18T17:19:44.163Z"
   },
   {
    "duration": 99956,
    "start_time": "2021-10-18T17:19:44.172Z"
   },
   {
    "duration": 99945,
    "start_time": "2021-10-18T17:19:44.185Z"
   },
   {
    "duration": 99933,
    "start_time": "2021-10-18T17:19:44.198Z"
   },
   {
    "duration": 99926,
    "start_time": "2021-10-18T17:19:44.206Z"
   },
   {
    "duration": 99917,
    "start_time": "2021-10-18T17:19:44.217Z"
   },
   {
    "duration": 99891,
    "start_time": "2021-10-18T17:19:44.244Z"
   },
   {
    "duration": 99883,
    "start_time": "2021-10-18T17:19:44.253Z"
   },
   {
    "duration": 99876,
    "start_time": "2021-10-18T17:19:44.262Z"
   },
   {
    "duration": 99865,
    "start_time": "2021-10-18T17:19:44.274Z"
   },
   {
    "duration": 99854,
    "start_time": "2021-10-18T17:19:44.287Z"
   },
   {
    "duration": 99845,
    "start_time": "2021-10-18T17:19:44.297Z"
   },
   {
    "duration": 99838,
    "start_time": "2021-10-18T17:19:44.305Z"
   },
   {
    "duration": 99829,
    "start_time": "2021-10-18T17:19:44.316Z"
   },
   {
    "duration": 99820,
    "start_time": "2021-10-18T17:19:44.326Z"
   },
   {
    "duration": 99813,
    "start_time": "2021-10-18T17:19:44.334Z"
   },
   {
    "duration": 99785,
    "start_time": "2021-10-18T17:19:44.364Z"
   },
   {
    "duration": 99776,
    "start_time": "2021-10-18T17:19:44.374Z"
   },
   {
    "duration": 99769,
    "start_time": "2021-10-18T17:19:44.382Z"
   },
   {
    "duration": 99762,
    "start_time": "2021-10-18T17:19:44.391Z"
   },
   {
    "duration": 99754,
    "start_time": "2021-10-18T17:19:44.400Z"
   },
   {
    "duration": 99746,
    "start_time": "2021-10-18T17:19:44.410Z"
   },
   {
    "duration": 99738,
    "start_time": "2021-10-18T17:19:44.420Z"
   },
   {
    "duration": 99727,
    "start_time": "2021-10-18T17:19:44.432Z"
   },
   {
    "duration": 99722,
    "start_time": "2021-10-18T17:19:44.439Z"
   },
   {
    "duration": 99712,
    "start_time": "2021-10-18T17:19:44.450Z"
   },
   {
    "duration": 99686,
    "start_time": "2021-10-18T17:19:44.478Z"
   },
   {
    "duration": 99678,
    "start_time": "2021-10-18T17:19:44.487Z"
   },
   {
    "duration": 99672,
    "start_time": "2021-10-18T17:19:44.495Z"
   },
   {
    "duration": 99662,
    "start_time": "2021-10-18T17:19:44.506Z"
   },
   {
    "duration": 99646,
    "start_time": "2021-10-18T17:19:44.579Z"
   },
   {
    "duration": 99554,
    "start_time": "2021-10-18T17:19:44.672Z"
   },
   {
    "duration": 99519,
    "start_time": "2021-10-18T17:19:44.708Z"
   },
   {
    "duration": 99512,
    "start_time": "2021-10-18T17:19:44.717Z"
   },
   {
    "duration": 99504,
    "start_time": "2021-10-18T17:19:44.726Z"
   },
   {
    "duration": 8,
    "start_time": "2021-10-18T17:21:45.084Z"
   },
   {
    "duration": 7515,
    "start_time": "2021-10-18T17:21:48.121Z"
   },
   {
    "duration": 4,
    "start_time": "2021-10-18T17:22:21.136Z"
   },
   {
    "duration": 216,
    "start_time": "2021-10-18T17:22:21.145Z"
   },
   {
    "duration": 16,
    "start_time": "2021-10-18T17:22:21.364Z"
   },
   {
    "duration": 59,
    "start_time": "2021-10-18T17:22:21.383Z"
   },
   {
    "duration": 11,
    "start_time": "2021-10-18T17:22:21.445Z"
   },
   {
    "duration": 7,
    "start_time": "2021-10-18T17:22:21.458Z"
   },
   {
    "duration": 11,
    "start_time": "2021-10-18T17:22:21.468Z"
   },
   {
    "duration": 63,
    "start_time": "2021-10-18T17:22:21.481Z"
   },
   {
    "duration": 29,
    "start_time": "2021-10-18T17:22:21.547Z"
   },
   {
    "duration": 50,
    "start_time": "2021-10-18T17:22:21.579Z"
   },
   {
    "duration": 99,
    "start_time": "2021-10-18T17:22:21.632Z"
   },
   {
    "duration": 105,
    "start_time": "2021-10-18T17:22:21.734Z"
   },
   {
    "duration": 86,
    "start_time": "2021-10-18T17:22:21.842Z"
   },
   {
    "duration": 65,
    "start_time": "2021-10-18T17:22:21.930Z"
   },
   {
    "duration": 4,
    "start_time": "2021-10-18T17:22:21.997Z"
   },
   {
    "duration": 15,
    "start_time": "2021-10-18T17:22:22.022Z"
   },
   {
    "duration": 89,
    "start_time": "2021-10-18T17:22:22.039Z"
   },
   {
    "duration": 45,
    "start_time": "2021-10-18T17:22:22.131Z"
   },
   {
    "duration": 71,
    "start_time": "2021-10-18T17:22:22.178Z"
   },
   {
    "duration": 4,
    "start_time": "2021-10-18T17:22:22.252Z"
   },
   {
    "duration": 30,
    "start_time": "2021-10-18T17:22:22.259Z"
   },
   {
    "duration": 42,
    "start_time": "2021-10-18T17:22:22.292Z"
   },
   {
    "duration": 22,
    "start_time": "2021-10-18T17:22:22.336Z"
   },
   {
    "duration": 19,
    "start_time": "2021-10-18T17:22:22.364Z"
   },
   {
    "duration": 49,
    "start_time": "2021-10-18T17:22:22.387Z"
   },
   {
    "duration": 18,
    "start_time": "2021-10-18T17:22:22.438Z"
   },
   {
    "duration": 12,
    "start_time": "2021-10-18T17:22:22.459Z"
   },
   {
    "duration": 68,
    "start_time": "2021-10-18T17:22:22.474Z"
   },
   {
    "duration": 29,
    "start_time": "2021-10-18T17:22:22.545Z"
   },
   {
    "duration": 5,
    "start_time": "2021-10-18T17:22:22.576Z"
   },
   {
    "duration": 17228,
    "start_time": "2021-10-18T17:22:22.584Z"
   },
   {
    "duration": 99907,
    "start_time": "2021-10-18T17:20:59.909Z"
   },
   {
    "duration": 99890,
    "start_time": "2021-10-18T17:20:59.928Z"
   },
   {
    "duration": 99884,
    "start_time": "2021-10-18T17:20:59.937Z"
   },
   {
    "duration": 99875,
    "start_time": "2021-10-18T17:20:59.948Z"
   },
   {
    "duration": 99866,
    "start_time": "2021-10-18T17:20:59.960Z"
   },
   {
    "duration": 99759,
    "start_time": "2021-10-18T17:21:00.069Z"
   },
   {
    "duration": 99705,
    "start_time": "2021-10-18T17:21:00.125Z"
   },
   {
    "duration": 5,
    "start_time": "2021-10-18T17:23:39.784Z"
   },
   {
    "duration": 276,
    "start_time": "2021-10-18T17:23:39.793Z"
   },
   {
    "duration": 17,
    "start_time": "2021-10-18T17:23:40.073Z"
   },
   {
    "duration": 71,
    "start_time": "2021-10-18T17:23:40.093Z"
   },
   {
    "duration": 12,
    "start_time": "2021-10-18T17:23:40.169Z"
   },
   {
    "duration": 18,
    "start_time": "2021-10-18T17:23:40.184Z"
   },
   {
    "duration": 10,
    "start_time": "2021-10-18T17:23:40.224Z"
   },
   {
    "duration": 54,
    "start_time": "2021-10-18T17:23:40.238Z"
   },
   {
    "duration": 41,
    "start_time": "2021-10-18T17:23:40.298Z"
   },
   {
    "duration": 42,
    "start_time": "2021-10-18T17:23:40.344Z"
   },
   {
    "duration": 123,
    "start_time": "2021-10-18T17:23:40.390Z"
   },
   {
    "duration": 121,
    "start_time": "2021-10-18T17:23:40.523Z"
   },
   {
    "duration": 113,
    "start_time": "2021-10-18T17:23:40.647Z"
   },
   {
    "duration": 87,
    "start_time": "2021-10-18T17:23:40.762Z"
   },
   {
    "duration": 5,
    "start_time": "2021-10-18T17:23:40.852Z"
   },
   {
    "duration": 35,
    "start_time": "2021-10-18T17:23:40.860Z"
   },
   {
    "duration": 108,
    "start_time": "2021-10-18T17:23:40.897Z"
   },
   {
    "duration": 78,
    "start_time": "2021-10-18T17:23:41.007Z"
   },
   {
    "duration": 92,
    "start_time": "2021-10-18T17:23:41.088Z"
   },
   {
    "duration": 6,
    "start_time": "2021-10-18T17:23:41.183Z"
   },
   {
    "duration": 47,
    "start_time": "2021-10-18T17:23:41.192Z"
   },
   {
    "duration": 33,
    "start_time": "2021-10-18T17:23:41.242Z"
   },
   {
    "duration": 44,
    "start_time": "2021-10-18T17:23:41.278Z"
   },
   {
    "duration": 21,
    "start_time": "2021-10-18T17:23:41.327Z"
   },
   {
    "duration": 28,
    "start_time": "2021-10-18T17:23:41.353Z"
   },
   {
    "duration": 46,
    "start_time": "2021-10-18T17:23:41.384Z"
   },
   {
    "duration": 18,
    "start_time": "2021-10-18T17:23:41.434Z"
   },
   {
    "duration": 69,
    "start_time": "2021-10-18T17:23:41.455Z"
   },
   {
    "duration": 28,
    "start_time": "2021-10-18T17:23:41.527Z"
   },
   {
    "duration": 11,
    "start_time": "2021-10-18T17:23:41.559Z"
   },
   {
    "duration": 20698,
    "start_time": "2021-10-18T17:23:41.573Z"
   },
   {
    "duration": 99983,
    "start_time": "2021-10-18T17:22:22.290Z"
   },
   {
    "duration": 99964,
    "start_time": "2021-10-18T17:22:22.311Z"
   },
   {
    "duration": 99953,
    "start_time": "2021-10-18T17:22:22.323Z"
   },
   {
    "duration": 99945,
    "start_time": "2021-10-18T17:22:22.333Z"
   },
   {
    "duration": 99937,
    "start_time": "2021-10-18T17:22:22.342Z"
   },
   {
    "duration": 99930,
    "start_time": "2021-10-18T17:22:22.351Z"
   },
   {
    "duration": 99920,
    "start_time": "2021-10-18T17:22:22.363Z"
   },
   {
    "duration": 6,
    "start_time": "2021-10-18T17:24:03.592Z"
   },
   {
    "duration": 7,
    "start_time": "2021-10-18T17:24:18.726Z"
   },
   {
    "duration": 327,
    "start_time": "2021-10-18T17:24:19.930Z"
   },
   {
    "duration": 512,
    "start_time": "2021-10-18T17:24:56.158Z"
   },
   {
    "duration": 6,
    "start_time": "2021-10-18T17:25:16.805Z"
   },
   {
    "duration": 304,
    "start_time": "2021-10-18T17:25:17.353Z"
   },
   {
    "duration": 253,
    "start_time": "2021-10-18T17:27:16.218Z"
   },
   {
    "duration": 753,
    "start_time": "2021-10-18T17:27:25.226Z"
   },
   {
    "duration": 187,
    "start_time": "2021-10-18T17:27:25.982Z"
   },
   {
    "duration": 26,
    "start_time": "2021-10-18T17:27:26.173Z"
   },
   {
    "duration": 46,
    "start_time": "2021-10-18T17:27:26.202Z"
   },
   {
    "duration": 6,
    "start_time": "2021-10-18T17:27:26.250Z"
   },
   {
    "duration": 6,
    "start_time": "2021-10-18T17:27:26.259Z"
   },
   {
    "duration": 8,
    "start_time": "2021-10-18T17:27:26.267Z"
   },
   {
    "duration": 58,
    "start_time": "2021-10-18T17:27:26.279Z"
   },
   {
    "duration": 26,
    "start_time": "2021-10-18T17:27:26.340Z"
   },
   {
    "duration": 55,
    "start_time": "2021-10-18T17:27:26.368Z"
   },
   {
    "duration": 103,
    "start_time": "2021-10-18T17:27:26.426Z"
   },
   {
    "duration": 107,
    "start_time": "2021-10-18T17:27:26.531Z"
   },
   {
    "duration": 90,
    "start_time": "2021-10-18T17:27:26.640Z"
   },
   {
    "duration": 66,
    "start_time": "2021-10-18T17:27:26.732Z"
   },
   {
    "duration": 4,
    "start_time": "2021-10-18T17:27:26.800Z"
   },
   {
    "duration": 14,
    "start_time": "2021-10-18T17:27:26.823Z"
   },
   {
    "duration": 85,
    "start_time": "2021-10-18T17:27:26.839Z"
   },
   {
    "duration": 43,
    "start_time": "2021-10-18T17:27:26.926Z"
   },
   {
    "duration": 64,
    "start_time": "2021-10-18T17:27:26.971Z"
   },
   {
    "duration": 4,
    "start_time": "2021-10-18T17:27:27.038Z"
   },
   {
    "duration": 27,
    "start_time": "2021-10-18T17:27:27.044Z"
   },
   {
    "duration": 19,
    "start_time": "2021-10-18T17:27:27.073Z"
   },
   {
    "duration": 19,
    "start_time": "2021-10-18T17:27:27.121Z"
   },
   {
    "duration": 17,
    "start_time": "2021-10-18T17:27:27.143Z"
   },
   {
    "duration": 20,
    "start_time": "2021-10-18T17:27:27.163Z"
   },
   {
    "duration": 50,
    "start_time": "2021-10-18T17:27:27.185Z"
   },
   {
    "duration": 16,
    "start_time": "2021-10-18T17:27:27.238Z"
   },
   {
    "duration": 35,
    "start_time": "2021-10-18T17:27:27.257Z"
   },
   {
    "duration": 51,
    "start_time": "2021-10-18T17:27:27.294Z"
   },
   {
    "duration": 5,
    "start_time": "2021-10-18T17:27:27.348Z"
   },
   {
    "duration": 18479,
    "start_time": "2021-10-18T17:27:27.355Z"
   },
   {
    "duration": 99994,
    "start_time": "2021-10-18T17:26:05.843Z"
   },
   {
    "duration": 99981,
    "start_time": "2021-10-18T17:26:05.857Z"
   },
   {
    "duration": 99970,
    "start_time": "2021-10-18T17:26:05.870Z"
   },
   {
    "duration": 99958,
    "start_time": "2021-10-18T17:26:05.883Z"
   },
   {
    "duration": 99946,
    "start_time": "2021-10-18T17:26:05.896Z"
   },
   {
    "duration": 99939,
    "start_time": "2021-10-18T17:26:05.905Z"
   },
   {
    "duration": 99929,
    "start_time": "2021-10-18T17:26:05.916Z"
   },
   {
    "duration": 83,
    "start_time": "2021-10-18T17:27:46.533Z"
   },
   {
    "duration": 5,
    "start_time": "2021-10-18T17:27:56.645Z"
   },
   {
    "duration": 86,
    "start_time": "2021-10-18T17:27:57.956Z"
   },
   {
    "duration": 100,
    "start_time": "2021-10-18T17:28:05.186Z"
   },
   {
    "duration": 3,
    "start_time": "2021-10-18T17:28:17.939Z"
   },
   {
    "duration": 201,
    "start_time": "2021-10-18T17:28:17.948Z"
   },
   {
    "duration": 17,
    "start_time": "2021-10-18T17:28:18.151Z"
   },
   {
    "duration": 60,
    "start_time": "2021-10-18T17:28:18.171Z"
   },
   {
    "duration": 7,
    "start_time": "2021-10-18T17:28:18.234Z"
   },
   {
    "duration": 7,
    "start_time": "2021-10-18T17:28:18.243Z"
   },
   {
    "duration": 10,
    "start_time": "2021-10-18T17:28:18.252Z"
   },
   {
    "duration": 64,
    "start_time": "2021-10-18T17:28:18.265Z"
   },
   {
    "duration": 24,
    "start_time": "2021-10-18T17:28:18.335Z"
   },
   {
    "duration": 29,
    "start_time": "2021-10-18T17:28:18.362Z"
   },
   {
    "duration": 81,
    "start_time": "2021-10-18T17:28:18.423Z"
   },
   {
    "duration": 119,
    "start_time": "2021-10-18T17:28:18.506Z"
   },
   {
    "duration": 96,
    "start_time": "2021-10-18T17:28:18.627Z"
   },
   {
    "duration": 68,
    "start_time": "2021-10-18T17:28:18.726Z"
   },
   {
    "duration": 26,
    "start_time": "2021-10-18T17:28:18.797Z"
   },
   {
    "duration": 21,
    "start_time": "2021-10-18T17:28:18.826Z"
   },
   {
    "duration": 81,
    "start_time": "2021-10-18T17:28:18.850Z"
   },
   {
    "duration": 42,
    "start_time": "2021-10-18T17:28:18.933Z"
   },
   {
    "duration": 65,
    "start_time": "2021-10-18T17:28:18.978Z"
   },
   {
    "duration": 4,
    "start_time": "2021-10-18T17:28:19.046Z"
   },
   {
    "duration": 32,
    "start_time": "2021-10-18T17:28:19.053Z"
   },
   {
    "duration": 18,
    "start_time": "2021-10-18T17:28:19.087Z"
   },
   {
    "duration": 30,
    "start_time": "2021-10-18T17:28:19.107Z"
   },
   {
    "duration": 18,
    "start_time": "2021-10-18T17:28:19.142Z"
   },
   {
    "duration": 22,
    "start_time": "2021-10-18T17:28:19.163Z"
   },
   {
    "duration": 51,
    "start_time": "2021-10-18T17:28:19.188Z"
   },
   {
    "duration": 12,
    "start_time": "2021-10-18T17:28:19.242Z"
   },
   {
    "duration": 29,
    "start_time": "2021-10-18T17:28:19.257Z"
   },
   {
    "duration": 58,
    "start_time": "2021-10-18T17:28:19.288Z"
   },
   {
    "duration": 6,
    "start_time": "2021-10-18T17:28:19.348Z"
   },
   {
    "duration": 18490,
    "start_time": "2021-10-18T17:28:19.356Z"
   },
   {
    "duration": 99322,
    "start_time": "2021-10-18T17:26:58.528Z"
   },
   {
    "duration": 99300,
    "start_time": "2021-10-18T17:26:58.552Z"
   },
   {
    "duration": 99281,
    "start_time": "2021-10-18T17:26:58.573Z"
   },
   {
    "duration": 99240,
    "start_time": "2021-10-18T17:26:58.616Z"
   },
   {
    "duration": 99226,
    "start_time": "2021-10-18T17:26:58.632Z"
   },
   {
    "duration": 99213,
    "start_time": "2021-10-18T17:26:58.647Z"
   },
   {
    "duration": 99201,
    "start_time": "2021-10-18T17:26:58.661Z"
   },
   {
    "duration": 706,
    "start_time": "2021-10-18T17:53:27.868Z"
   },
   {
    "duration": 194,
    "start_time": "2021-10-18T17:53:28.577Z"
   },
   {
    "duration": 28,
    "start_time": "2021-10-18T17:53:28.775Z"
   },
   {
    "duration": 31,
    "start_time": "2021-10-18T17:53:28.822Z"
   },
   {
    "duration": 5,
    "start_time": "2021-10-18T17:53:28.856Z"
   },
   {
    "duration": 5,
    "start_time": "2021-10-18T17:53:28.864Z"
   },
   {
    "duration": 11,
    "start_time": "2021-10-18T17:53:28.872Z"
   },
   {
    "duration": 68,
    "start_time": "2021-10-18T17:53:28.888Z"
   },
   {
    "duration": 29,
    "start_time": "2021-10-18T17:53:28.960Z"
   },
   {
    "duration": 52,
    "start_time": "2021-10-18T17:53:28.991Z"
   },
   {
    "duration": 103,
    "start_time": "2021-10-18T17:53:29.045Z"
   },
   {
    "duration": 119,
    "start_time": "2021-10-18T17:53:29.151Z"
   },
   {
    "duration": 86,
    "start_time": "2021-10-18T17:53:29.272Z"
   },
   {
    "duration": 83,
    "start_time": "2021-10-18T17:53:29.360Z"
   },
   {
    "duration": 4,
    "start_time": "2021-10-18T17:53:29.445Z"
   },
   {
    "duration": 20,
    "start_time": "2021-10-18T17:53:29.451Z"
   },
   {
    "duration": 79,
    "start_time": "2021-10-18T17:53:29.473Z"
   },
   {
    "duration": 68,
    "start_time": "2021-10-18T17:53:29.554Z"
   },
   {
    "duration": 46,
    "start_time": "2021-10-18T17:53:29.625Z"
   },
   {
    "duration": 4,
    "start_time": "2021-10-18T17:53:29.674Z"
   },
   {
    "duration": 49,
    "start_time": "2021-10-18T17:53:29.681Z"
   },
   {
    "duration": 18,
    "start_time": "2021-10-18T17:53:29.733Z"
   },
   {
    "duration": 19,
    "start_time": "2021-10-18T17:53:29.756Z"
   },
   {
    "duration": 48,
    "start_time": "2021-10-18T17:53:29.778Z"
   },
   {
    "duration": 21,
    "start_time": "2021-10-18T17:53:29.828Z"
   },
   {
    "duration": 19,
    "start_time": "2021-10-18T17:53:29.851Z"
   },
   {
    "duration": 13,
    "start_time": "2021-10-18T17:53:29.872Z"
   },
   {
    "duration": 28,
    "start_time": "2021-10-18T17:53:29.923Z"
   },
   {
    "duration": 25,
    "start_time": "2021-10-18T17:53:29.954Z"
   },
   {
    "duration": 6,
    "start_time": "2021-10-18T17:53:29.981Z"
   },
   {
    "duration": 19484,
    "start_time": "2021-10-18T17:53:29.989Z"
   },
   {
    "duration": 99465,
    "start_time": "2021-10-18T17:52:10.011Z"
   },
   {
    "duration": 99453,
    "start_time": "2021-10-18T17:52:10.025Z"
   },
   {
    "duration": 99448,
    "start_time": "2021-10-18T17:52:10.033Z"
   },
   {
    "duration": 99440,
    "start_time": "2021-10-18T17:52:10.043Z"
   },
   {
    "duration": 99432,
    "start_time": "2021-10-18T17:52:10.053Z"
   },
   {
    "duration": 99426,
    "start_time": "2021-10-18T17:52:10.061Z"
   },
   {
    "duration": 99424,
    "start_time": "2021-10-18T17:52:10.069Z"
   },
   {
    "duration": 6,
    "start_time": "2021-10-18T17:53:54.674Z"
   },
   {
    "duration": 30,
    "start_time": "2021-10-18T17:53:59.868Z"
   },
   {
    "duration": 30,
    "start_time": "2021-10-18T17:54:00.956Z"
   },
   {
    "duration": 6,
    "start_time": "2021-10-18T17:54:03.951Z"
   },
   {
    "duration": 99499,
    "start_time": "2021-10-18T17:52:44.230Z"
   },
   {
    "duration": 4,
    "start_time": "2021-10-18T17:54:30.434Z"
   },
   {
    "duration": 202,
    "start_time": "2021-10-18T17:54:30.442Z"
   },
   {
    "duration": 17,
    "start_time": "2021-10-18T17:54:30.647Z"
   },
   {
    "duration": 58,
    "start_time": "2021-10-18T17:54:30.667Z"
   },
   {
    "duration": 5,
    "start_time": "2021-10-18T17:54:30.728Z"
   },
   {
    "duration": 10,
    "start_time": "2021-10-18T17:54:30.736Z"
   },
   {
    "duration": 17,
    "start_time": "2021-10-18T17:54:30.749Z"
   },
   {
    "duration": 67,
    "start_time": "2021-10-18T17:54:30.768Z"
   },
   {
    "duration": 32,
    "start_time": "2021-10-18T17:54:30.839Z"
   },
   {
    "duration": 36,
    "start_time": "2021-10-18T17:54:30.875Z"
   },
   {
    "duration": 101,
    "start_time": "2021-10-18T17:54:30.923Z"
   },
   {
    "duration": 108,
    "start_time": "2021-10-18T17:54:31.026Z"
   },
   {
    "duration": 89,
    "start_time": "2021-10-18T17:54:31.137Z"
   },
   {
    "duration": 69,
    "start_time": "2021-10-18T17:54:31.229Z"
   },
   {
    "duration": 4,
    "start_time": "2021-10-18T17:54:31.322Z"
   },
   {
    "duration": 31,
    "start_time": "2021-10-18T17:54:31.329Z"
   },
   {
    "duration": 68,
    "start_time": "2021-10-18T17:54:31.363Z"
   },
   {
    "duration": 48,
    "start_time": "2021-10-18T17:54:31.434Z"
   },
   {
    "duration": 70,
    "start_time": "2021-10-18T17:54:31.484Z"
   },
   {
    "duration": 5,
    "start_time": "2021-10-18T17:54:31.556Z"
   },
   {
    "duration": 37,
    "start_time": "2021-10-18T17:54:31.563Z"
   },
   {
    "duration": 28,
    "start_time": "2021-10-18T17:54:31.602Z"
   },
   {
    "duration": 19,
    "start_time": "2021-10-18T17:54:31.632Z"
   },
   {
    "duration": 19,
    "start_time": "2021-10-18T17:54:31.656Z"
   },
   {
    "duration": 53,
    "start_time": "2021-10-18T17:54:31.678Z"
   },
   {
    "duration": 17,
    "start_time": "2021-10-18T17:54:31.734Z"
   },
   {
    "duration": 12,
    "start_time": "2021-10-18T17:54:31.754Z"
   },
   {
    "duration": 59,
    "start_time": "2021-10-18T17:54:31.768Z"
   },
   {
    "duration": 28,
    "start_time": "2021-10-18T17:54:31.829Z"
   },
   {
    "duration": 5,
    "start_time": "2021-10-18T17:54:31.859Z"
   },
   {
    "duration": 7,
    "start_time": "2021-10-18T17:54:52.711Z"
   },
   {
    "duration": 468,
    "start_time": "2021-10-18T17:54:53.651Z"
   },
   {
    "duration": 271,
    "start_time": "2021-10-18T17:55:08.433Z"
   },
   {
    "duration": 381,
    "start_time": "2021-10-18T17:55:11.604Z"
   },
   {
    "duration": 735,
    "start_time": "2021-10-18T17:55:20.973Z"
   },
   {
    "duration": 193,
    "start_time": "2021-10-18T17:55:21.711Z"
   },
   {
    "duration": 34,
    "start_time": "2021-10-18T17:55:21.907Z"
   },
   {
    "duration": 34,
    "start_time": "2021-10-18T17:55:21.944Z"
   },
   {
    "duration": 7,
    "start_time": "2021-10-18T17:55:21.982Z"
   },
   {
    "duration": 34,
    "start_time": "2021-10-18T17:55:21.992Z"
   },
   {
    "duration": 12,
    "start_time": "2021-10-18T17:55:22.029Z"
   },
   {
    "duration": 35,
    "start_time": "2021-10-18T17:55:22.044Z"
   },
   {
    "duration": 57,
    "start_time": "2021-10-18T17:55:22.085Z"
   },
   {
    "duration": 30,
    "start_time": "2021-10-18T17:55:22.146Z"
   },
   {
    "duration": 114,
    "start_time": "2021-10-18T17:55:22.179Z"
   },
   {
    "duration": 117,
    "start_time": "2021-10-18T17:55:22.295Z"
   },
   {
    "duration": 85,
    "start_time": "2021-10-18T17:55:22.414Z"
   },
   {
    "duration": 79,
    "start_time": "2021-10-18T17:55:22.502Z"
   },
   {
    "duration": 4,
    "start_time": "2021-10-18T17:55:22.584Z"
   },
   {
    "duration": 36,
    "start_time": "2021-10-18T17:55:22.590Z"
   },
   {
    "duration": 67,
    "start_time": "2021-10-18T17:55:22.628Z"
   },
   {
    "duration": 59,
    "start_time": "2021-10-18T17:55:22.697Z"
   },
   {
    "duration": 82,
    "start_time": "2021-10-18T17:55:22.759Z"
   },
   {
    "duration": 6,
    "start_time": "2021-10-18T17:55:22.845Z"
   },
   {
    "duration": 35,
    "start_time": "2021-10-18T17:55:22.854Z"
   },
   {
    "duration": 42,
    "start_time": "2021-10-18T17:55:22.892Z"
   },
   {
    "duration": 23,
    "start_time": "2021-10-18T17:55:22.936Z"
   },
   {
    "duration": 18,
    "start_time": "2021-10-18T17:55:22.962Z"
   },
   {
    "duration": 53,
    "start_time": "2021-10-18T17:55:22.982Z"
   },
   {
    "duration": 18,
    "start_time": "2021-10-18T17:55:23.038Z"
   },
   {
    "duration": 13,
    "start_time": "2021-10-18T17:55:23.062Z"
   },
   {
    "duration": 63,
    "start_time": "2021-10-18T17:55:23.078Z"
   },
   {
    "duration": 26,
    "start_time": "2021-10-18T17:55:23.144Z"
   },
   {
    "duration": 6,
    "start_time": "2021-10-18T17:55:23.172Z"
   },
   {
    "duration": 18439,
    "start_time": "2021-10-18T17:55:23.180Z"
   },
   {
    "duration": 99419,
    "start_time": "2021-10-18T17:54:02.204Z"
   },
   {
    "duration": 99411,
    "start_time": "2021-10-18T17:54:02.213Z"
   },
   {
    "duration": 99405,
    "start_time": "2021-10-18T17:54:02.221Z"
   },
   {
    "duration": 99396,
    "start_time": "2021-10-18T17:54:02.231Z"
   },
   {
    "duration": 99388,
    "start_time": "2021-10-18T17:54:02.241Z"
   },
   {
    "duration": 99382,
    "start_time": "2021-10-18T17:54:02.248Z"
   },
   {
    "duration": 99374,
    "start_time": "2021-10-18T17:54:02.257Z"
   },
   {
    "duration": 704,
    "start_time": "2021-10-18T17:55:59.268Z"
   },
   {
    "duration": 201,
    "start_time": "2021-10-18T17:55:59.975Z"
   },
   {
    "duration": 43,
    "start_time": "2021-10-18T17:56:00.179Z"
   },
   {
    "duration": 32,
    "start_time": "2021-10-18T17:56:00.225Z"
   },
   {
    "duration": 18,
    "start_time": "2021-10-18T17:56:00.260Z"
   },
   {
    "duration": 14,
    "start_time": "2021-10-18T17:56:00.281Z"
   },
   {
    "duration": 26,
    "start_time": "2021-10-18T17:56:00.297Z"
   },
   {
    "duration": 47,
    "start_time": "2021-10-18T17:56:00.327Z"
   },
   {
    "duration": 39,
    "start_time": "2021-10-18T17:56:00.377Z"
   },
   {
    "duration": 57,
    "start_time": "2021-10-18T17:56:00.418Z"
   },
   {
    "duration": 99,
    "start_time": "2021-10-18T17:56:00.477Z"
   },
   {
    "duration": 120,
    "start_time": "2021-10-18T17:56:00.579Z"
   },
   {
    "duration": 90,
    "start_time": "2021-10-18T17:56:00.702Z"
   },
   {
    "duration": 73,
    "start_time": "2021-10-18T17:56:00.795Z"
   },
   {
    "duration": 4,
    "start_time": "2021-10-18T17:56:00.872Z"
   },
   {
    "duration": 44,
    "start_time": "2021-10-18T17:56:00.879Z"
   },
   {
    "duration": 73,
    "start_time": "2021-10-18T17:56:00.925Z"
   },
   {
    "duration": 60,
    "start_time": "2021-10-18T17:56:01.002Z"
   },
   {
    "duration": 58,
    "start_time": "2021-10-18T17:56:01.064Z"
   },
   {
    "duration": 4,
    "start_time": "2021-10-18T17:56:01.125Z"
   },
   {
    "duration": 53,
    "start_time": "2021-10-18T17:56:01.132Z"
   },
   {
    "duration": 33,
    "start_time": "2021-10-18T17:56:01.188Z"
   },
   {
    "duration": 31,
    "start_time": "2021-10-18T17:56:01.225Z"
   },
   {
    "duration": 31,
    "start_time": "2021-10-18T17:56:01.259Z"
   },
   {
    "duration": 28,
    "start_time": "2021-10-18T17:56:01.293Z"
   },
   {
    "duration": 20,
    "start_time": "2021-10-18T17:56:01.324Z"
   },
   {
    "duration": 36,
    "start_time": "2021-10-18T17:56:01.346Z"
   },
   {
    "duration": 37,
    "start_time": "2021-10-18T17:56:01.385Z"
   },
   {
    "duration": 28,
    "start_time": "2021-10-18T17:56:01.424Z"
   },
   {
    "duration": 5,
    "start_time": "2021-10-18T17:56:01.455Z"
   },
   {
    "duration": 18687,
    "start_time": "2021-10-18T17:56:01.463Z"
   },
   {
    "duration": 99444,
    "start_time": "2021-10-18T17:54:40.708Z"
   },
   {
    "duration": 99431,
    "start_time": "2021-10-18T17:54:40.723Z"
   },
   {
    "duration": 99424,
    "start_time": "2021-10-18T17:54:40.731Z"
   },
   {
    "duration": 99410,
    "start_time": "2021-10-18T17:54:40.746Z"
   },
   {
    "duration": 99402,
    "start_time": "2021-10-18T17:54:40.756Z"
   },
   {
    "duration": 99387,
    "start_time": "2021-10-18T17:54:40.772Z"
   },
   {
    "duration": 99365,
    "start_time": "2021-10-18T17:54:40.796Z"
   },
   {
    "duration": 800,
    "start_time": "2021-10-19T08:47:58.902Z"
   },
   {
    "duration": 196,
    "start_time": "2021-10-19T08:47:59.704Z"
   },
   {
    "duration": 29,
    "start_time": "2021-10-19T08:47:59.903Z"
   },
   {
    "duration": 38,
    "start_time": "2021-10-19T08:47:59.936Z"
   },
   {
    "duration": 5,
    "start_time": "2021-10-19T08:47:59.976Z"
   },
   {
    "duration": 39,
    "start_time": "2021-10-19T08:47:59.984Z"
   },
   {
    "duration": 7,
    "start_time": "2021-10-19T08:48:00.026Z"
   },
   {
    "duration": 36,
    "start_time": "2021-10-19T08:48:00.037Z"
   },
   {
    "duration": 53,
    "start_time": "2021-10-19T08:48:00.076Z"
   },
   {
    "duration": 29,
    "start_time": "2021-10-19T08:48:00.131Z"
   },
   {
    "duration": 119,
    "start_time": "2021-10-19T08:48:00.163Z"
   },
   {
    "duration": 123,
    "start_time": "2021-10-19T08:48:00.284Z"
   },
   {
    "duration": 88,
    "start_time": "2021-10-19T08:48:00.409Z"
   },
   {
    "duration": 85,
    "start_time": "2021-10-19T08:48:00.500Z"
   },
   {
    "duration": 4,
    "start_time": "2021-10-19T08:48:00.587Z"
   },
   {
    "duration": 39,
    "start_time": "2021-10-19T08:48:00.593Z"
   },
   {
    "duration": 67,
    "start_time": "2021-10-19T08:48:00.636Z"
   },
   {
    "duration": 62,
    "start_time": "2021-10-19T08:48:00.705Z"
   },
   {
    "duration": 69,
    "start_time": "2021-10-19T08:48:00.769Z"
   },
   {
    "duration": 5,
    "start_time": "2021-10-19T08:48:00.840Z"
   },
   {
    "duration": 29,
    "start_time": "2021-10-19T08:48:00.847Z"
   },
   {
    "duration": 18,
    "start_time": "2021-10-19T08:48:00.879Z"
   },
   {
    "duration": 20,
    "start_time": "2021-10-19T08:48:00.925Z"
   },
   {
    "duration": 24,
    "start_time": "2021-10-19T08:48:00.948Z"
   },
   {
    "duration": 21,
    "start_time": "2021-10-19T08:48:00.975Z"
   },
   {
    "duration": 42,
    "start_time": "2021-10-19T08:48:00.998Z"
   },
   {
    "duration": 23,
    "start_time": "2021-10-19T08:48:01.042Z"
   },
   {
    "duration": 55,
    "start_time": "2021-10-19T08:48:01.068Z"
   },
   {
    "duration": 27,
    "start_time": "2021-10-19T08:48:01.125Z"
   },
   {
    "duration": 7,
    "start_time": "2021-10-19T08:48:01.154Z"
   },
   {
    "duration": 19043,
    "start_time": "2021-10-19T08:48:01.164Z"
   },
   {
    "duration": 101150,
    "start_time": "2021-10-19T08:46:39.060Z"
   },
   {
    "duration": 101123,
    "start_time": "2021-10-19T08:46:39.088Z"
   },
   {
    "duration": 101107,
    "start_time": "2021-10-19T08:46:39.106Z"
   },
   {
    "duration": 101096,
    "start_time": "2021-10-19T08:46:39.118Z"
   },
   {
    "duration": 101072,
    "start_time": "2021-10-19T08:46:39.143Z"
   },
   {
    "duration": 101038,
    "start_time": "2021-10-19T08:46:39.178Z"
   },
   {
    "duration": 101026,
    "start_time": "2021-10-19T08:46:39.192Z"
   },
   {
    "duration": 3,
    "start_time": "2021-10-19T10:07:14.370Z"
   },
   {
    "duration": 197,
    "start_time": "2021-10-19T10:07:14.383Z"
   },
   {
    "duration": 18,
    "start_time": "2021-10-19T10:07:14.583Z"
   },
   {
    "duration": 51,
    "start_time": "2021-10-19T10:07:14.604Z"
   },
   {
    "duration": 5,
    "start_time": "2021-10-19T10:07:14.658Z"
   },
   {
    "duration": 7,
    "start_time": "2021-10-19T10:07:14.665Z"
   },
   {
    "duration": 46,
    "start_time": "2021-10-19T10:07:14.675Z"
   },
   {
    "duration": 31,
    "start_time": "2021-10-19T10:07:14.724Z"
   },
   {
    "duration": 22,
    "start_time": "2021-10-19T10:07:14.759Z"
   },
   {
    "duration": 59,
    "start_time": "2021-10-19T10:07:14.784Z"
   },
   {
    "duration": 112,
    "start_time": "2021-10-19T10:07:14.845Z"
   },
   {
    "duration": 114,
    "start_time": "2021-10-19T10:07:14.959Z"
   },
   {
    "duration": 89,
    "start_time": "2021-10-19T10:07:15.076Z"
   },
   {
    "duration": 76,
    "start_time": "2021-10-19T10:07:15.168Z"
   },
   {
    "duration": 5,
    "start_time": "2021-10-19T10:07:15.247Z"
   },
   {
    "duration": 19,
    "start_time": "2021-10-19T10:07:15.255Z"
   },
   {
    "duration": 97,
    "start_time": "2021-10-19T10:07:15.277Z"
   },
   {
    "duration": 59,
    "start_time": "2021-10-19T10:07:15.376Z"
   },
   {
    "duration": 43,
    "start_time": "2021-10-19T10:07:15.437Z"
   },
   {
    "duration": 5,
    "start_time": "2021-10-19T10:07:15.482Z"
   },
   {
    "duration": 49,
    "start_time": "2021-10-19T10:07:15.490Z"
   },
   {
    "duration": 20,
    "start_time": "2021-10-19T10:07:15.542Z"
   },
   {
    "duration": 23,
    "start_time": "2021-10-19T10:07:15.565Z"
   },
   {
    "duration": 41,
    "start_time": "2021-10-19T10:07:15.593Z"
   },
   {
    "duration": 20,
    "start_time": "2021-10-19T10:07:15.637Z"
   },
   {
    "duration": 19,
    "start_time": "2021-10-19T10:07:15.659Z"
   },
   {
    "duration": 47,
    "start_time": "2021-10-19T10:07:15.680Z"
   },
   {
    "duration": 33,
    "start_time": "2021-10-19T10:07:15.729Z"
   },
   {
    "duration": 27,
    "start_time": "2021-10-19T10:07:15.764Z"
   },
   {
    "duration": 29,
    "start_time": "2021-10-19T10:07:15.794Z"
   },
   {
    "duration": 35,
    "start_time": "2021-10-19T10:07:15.826Z"
   },
   {
    "duration": 10,
    "start_time": "2021-10-19T10:07:15.863Z"
   },
   {
    "duration": 12,
    "start_time": "2021-10-19T10:07:15.875Z"
   },
   {
    "duration": 31,
    "start_time": "2021-10-19T10:07:15.890Z"
   },
   {
    "duration": 8,
    "start_time": "2021-10-19T10:07:15.924Z"
   },
   {
    "duration": 6,
    "start_time": "2021-10-19T10:07:15.934Z"
   },
   {
    "duration": 12,
    "start_time": "2021-10-19T10:07:15.942Z"
   },
   {
    "duration": 14,
    "start_time": "2021-10-19T10:07:15.956Z"
   },
   {
    "duration": 6,
    "start_time": "2021-10-19T10:07:42.171Z"
   },
   {
    "duration": 24,
    "start_time": "2021-10-19T10:07:43.847Z"
   },
   {
    "duration": 18,
    "start_time": "2021-10-19T10:08:11.530Z"
   },
   {
    "duration": 24,
    "start_time": "2021-10-19T10:20:02.029Z"
   },
   {
    "duration": 19,
    "start_time": "2021-10-19T10:20:18.859Z"
   },
   {
    "duration": 266,
    "start_time": "2021-10-19T10:29:47.986Z"
   },
   {
    "duration": 3,
    "start_time": "2021-10-19T10:29:52.726Z"
   },
   {
    "duration": 210,
    "start_time": "2021-10-19T10:29:52.735Z"
   },
   {
    "duration": 18,
    "start_time": "2021-10-19T10:29:52.948Z"
   },
   {
    "duration": 68,
    "start_time": "2021-10-19T10:29:52.971Z"
   },
   {
    "duration": 7,
    "start_time": "2021-10-19T10:29:53.042Z"
   },
   {
    "duration": 5,
    "start_time": "2021-10-19T10:29:53.052Z"
   },
   {
    "duration": 7,
    "start_time": "2021-10-19T10:29:53.060Z"
   },
   {
    "duration": 79,
    "start_time": "2021-10-19T10:29:53.070Z"
   },
   {
    "duration": 24,
    "start_time": "2021-10-19T10:29:53.155Z"
   },
   {
    "duration": 56,
    "start_time": "2021-10-19T10:29:53.183Z"
   },
   {
    "duration": 112,
    "start_time": "2021-10-19T10:29:53.242Z"
   },
   {
    "duration": 102,
    "start_time": "2021-10-19T10:29:53.357Z"
   },
   {
    "duration": 89,
    "start_time": "2021-10-19T10:29:53.461Z"
   },
   {
    "duration": 78,
    "start_time": "2021-10-19T10:29:53.553Z"
   },
   {
    "duration": 4,
    "start_time": "2021-10-19T10:29:53.635Z"
   },
   {
    "duration": 19,
    "start_time": "2021-10-19T10:29:53.642Z"
   },
   {
    "duration": 95,
    "start_time": "2021-10-19T10:29:53.664Z"
   },
   {
    "duration": 61,
    "start_time": "2021-10-19T10:29:53.763Z"
   },
   {
    "duration": 47,
    "start_time": "2021-10-19T10:29:53.826Z"
   },
   {
    "duration": 4,
    "start_time": "2021-10-19T10:29:53.876Z"
   },
   {
    "duration": 50,
    "start_time": "2021-10-19T10:29:53.882Z"
   },
   {
    "duration": 17,
    "start_time": "2021-10-19T10:29:53.934Z"
   },
   {
    "duration": 19,
    "start_time": "2021-10-19T10:29:53.954Z"
   },
   {
    "duration": 50,
    "start_time": "2021-10-19T10:29:53.979Z"
   },
   {
    "duration": 25,
    "start_time": "2021-10-19T10:29:54.033Z"
   },
   {
    "duration": 18,
    "start_time": "2021-10-19T10:29:54.061Z"
   },
   {
    "duration": 42,
    "start_time": "2021-10-19T10:29:54.082Z"
   },
   {
    "duration": 30,
    "start_time": "2021-10-19T10:29:54.127Z"
   },
   {
    "duration": 29,
    "start_time": "2021-10-19T10:29:54.159Z"
   },
   {
    "duration": 33,
    "start_time": "2021-10-19T10:29:54.191Z"
   },
   {
    "duration": 52,
    "start_time": "2021-10-19T10:29:54.227Z"
   },
   {
    "duration": 18,
    "start_time": "2021-10-19T10:29:54.283Z"
   },
   {
    "duration": 31,
    "start_time": "2021-10-19T10:29:54.303Z"
   },
   {
    "duration": 18,
    "start_time": "2021-10-19T10:29:54.336Z"
   },
   {
    "duration": 317,
    "start_time": "2021-10-19T10:29:54.356Z"
   },
   {
    "duration": 97499,
    "start_time": "2021-10-19T10:28:17.177Z"
   },
   {
    "duration": 97473,
    "start_time": "2021-10-19T10:28:17.204Z"
   },
   {
    "duration": 97460,
    "start_time": "2021-10-19T10:28:17.218Z"
   },
   {
    "duration": 11,
    "start_time": "2021-10-19T10:30:13.533Z"
   },
   {
    "duration": 11,
    "start_time": "2021-10-19T10:30:28.385Z"
   },
   {
    "duration": 7,
    "start_time": "2021-10-19T10:31:01.139Z"
   },
   {
    "duration": 6,
    "start_time": "2021-10-19T10:31:18.118Z"
   },
   {
    "duration": 6,
    "start_time": "2021-10-19T10:31:30.408Z"
   },
   {
    "duration": 8,
    "start_time": "2021-10-19T10:32:00.701Z"
   },
   {
    "duration": 8,
    "start_time": "2021-10-19T10:32:22.675Z"
   },
   {
    "duration": 358,
    "start_time": "2021-10-19T14:37:23.110Z"
   },
   {
    "duration": 339,
    "start_time": "2021-10-19T14:37:32.846Z"
   },
   {
    "duration": 546,
    "start_time": "2021-10-19T14:37:39.225Z"
   },
   {
    "duration": 130,
    "start_time": "2021-10-19T14:37:39.772Z"
   },
   {
    "duration": 16,
    "start_time": "2021-10-19T14:37:39.903Z"
   },
   {
    "duration": 28,
    "start_time": "2021-10-19T14:37:39.921Z"
   },
   {
    "duration": 3,
    "start_time": "2021-10-19T14:37:39.951Z"
   },
   {
    "duration": 5,
    "start_time": "2021-10-19T14:37:39.956Z"
   },
   {
    "duration": 14,
    "start_time": "2021-10-19T14:37:39.963Z"
   },
   {
    "duration": 21,
    "start_time": "2021-10-19T14:37:39.979Z"
   },
   {
    "duration": 17,
    "start_time": "2021-10-19T14:37:40.002Z"
   },
   {
    "duration": 117,
    "start_time": "2021-10-19T14:37:40.021Z"
   },
   {
    "duration": 45605,
    "start_time": "2021-10-19T14:36:54.535Z"
   },
   {
    "duration": 45603,
    "start_time": "2021-10-19T14:36:54.538Z"
   },
   {
    "duration": 45602,
    "start_time": "2021-10-19T14:36:54.540Z"
   },
   {
    "duration": 45595,
    "start_time": "2021-10-19T14:36:54.548Z"
   },
   {
    "duration": 45594,
    "start_time": "2021-10-19T14:36:54.550Z"
   },
   {
    "duration": 45594,
    "start_time": "2021-10-19T14:36:54.551Z"
   },
   {
    "duration": 45593,
    "start_time": "2021-10-19T14:36:54.553Z"
   },
   {
    "duration": 45592,
    "start_time": "2021-10-19T14:36:54.555Z"
   },
   {
    "duration": 45591,
    "start_time": "2021-10-19T14:36:54.556Z"
   },
   {
    "duration": 45591,
    "start_time": "2021-10-19T14:36:54.557Z"
   },
   {
    "duration": 45590,
    "start_time": "2021-10-19T14:36:54.559Z"
   },
   {
    "duration": 45589,
    "start_time": "2021-10-19T14:36:54.561Z"
   },
   {
    "duration": 45588,
    "start_time": "2021-10-19T14:36:54.563Z"
   },
   {
    "duration": 45588,
    "start_time": "2021-10-19T14:36:54.564Z"
   },
   {
    "duration": 45583,
    "start_time": "2021-10-19T14:36:54.570Z"
   },
   {
    "duration": 45583,
    "start_time": "2021-10-19T14:36:54.571Z"
   },
   {
    "duration": 45582,
    "start_time": "2021-10-19T14:36:54.573Z"
   },
   {
    "duration": 45582,
    "start_time": "2021-10-19T14:36:54.574Z"
   },
   {
    "duration": 45581,
    "start_time": "2021-10-19T14:36:54.576Z"
   },
   {
    "duration": 45580,
    "start_time": "2021-10-19T14:36:54.578Z"
   },
   {
    "duration": 45580,
    "start_time": "2021-10-19T14:36:54.579Z"
   },
   {
    "duration": 45579,
    "start_time": "2021-10-19T14:36:54.581Z"
   },
   {
    "duration": 45578,
    "start_time": "2021-10-19T14:36:54.583Z"
   },
   {
    "duration": 45578,
    "start_time": "2021-10-19T14:36:54.584Z"
   },
   {
    "duration": 45573,
    "start_time": "2021-10-19T14:36:54.590Z"
   },
   {
    "duration": 45571,
    "start_time": "2021-10-19T14:36:54.592Z"
   },
   {
    "duration": 45570,
    "start_time": "2021-10-19T14:36:54.594Z"
   },
   {
    "duration": 45567,
    "start_time": "2021-10-19T14:36:54.598Z"
   },
   {
    "duration": 45566,
    "start_time": "2021-10-19T14:36:54.600Z"
   },
   {
    "duration": 45565,
    "start_time": "2021-10-19T14:36:54.602Z"
   },
   {
    "duration": 3,
    "start_time": "2021-10-19T14:37:52.686Z"
   },
   {
    "duration": 147,
    "start_time": "2021-10-19T14:37:52.690Z"
   },
   {
    "duration": 11,
    "start_time": "2021-10-19T14:37:52.839Z"
   },
   {
    "duration": 24,
    "start_time": "2021-10-19T14:37:52.852Z"
   },
   {
    "duration": 4,
    "start_time": "2021-10-19T14:37:52.878Z"
   },
   {
    "duration": 4,
    "start_time": "2021-10-19T14:37:52.883Z"
   },
   {
    "duration": 5,
    "start_time": "2021-10-19T14:37:52.888Z"
   },
   {
    "duration": 23,
    "start_time": "2021-10-19T14:37:52.894Z"
   },
   {
    "duration": 32,
    "start_time": "2021-10-19T14:37:52.920Z"
   },
   {
    "duration": 23,
    "start_time": "2021-10-19T14:37:52.954Z"
   },
   {
    "duration": 40,
    "start_time": "2021-10-19T14:37:52.979Z"
   },
   {
    "duration": 71,
    "start_time": "2021-10-19T14:37:53.021Z"
   },
   {
    "duration": 62,
    "start_time": "2021-10-19T14:37:53.094Z"
   },
   {
    "duration": 62,
    "start_time": "2021-10-19T14:37:53.158Z"
   },
   {
    "duration": 58,
    "start_time": "2021-10-19T14:37:53.221Z"
   },
   {
    "duration": 2,
    "start_time": "2021-10-19T14:37:53.281Z"
   },
   {
    "duration": 12,
    "start_time": "2021-10-19T14:37:53.285Z"
   },
   {
    "duration": 45,
    "start_time": "2021-10-19T14:37:53.299Z"
   },
   {
    "duration": 55,
    "start_time": "2021-10-19T14:37:53.346Z"
   },
   {
    "duration": 29,
    "start_time": "2021-10-19T14:37:53.403Z"
   },
   {
    "duration": 3,
    "start_time": "2021-10-19T14:37:53.434Z"
   },
   {
    "duration": 39,
    "start_time": "2021-10-19T14:37:53.438Z"
   },
   {
    "duration": 14,
    "start_time": "2021-10-19T14:37:53.479Z"
   },
   {
    "duration": 15,
    "start_time": "2021-10-19T14:37:53.494Z"
   },
   {
    "duration": 14,
    "start_time": "2021-10-19T14:37:53.510Z"
   },
   {
    "duration": 15,
    "start_time": "2021-10-19T14:37:53.525Z"
   },
   {
    "duration": 13,
    "start_time": "2021-10-19T14:37:53.579Z"
   },
   {
    "duration": 8,
    "start_time": "2021-10-19T14:37:53.594Z"
   },
   {
    "duration": 19,
    "start_time": "2021-10-19T14:37:53.604Z"
   },
   {
    "duration": 17,
    "start_time": "2021-10-19T14:37:53.625Z"
   },
   {
    "duration": 33,
    "start_time": "2021-10-19T14:37:53.644Z"
   },
   {
    "duration": 31,
    "start_time": "2021-10-19T14:37:53.680Z"
   },
   {
    "duration": 14,
    "start_time": "2021-10-19T14:37:53.713Z"
   },
   {
    "duration": 23,
    "start_time": "2021-10-19T14:37:53.729Z"
   },
   {
    "duration": 35,
    "start_time": "2021-10-19T14:37:53.753Z"
   },
   {
    "duration": 9,
    "start_time": "2021-10-19T14:37:53.790Z"
   },
   {
    "duration": 6,
    "start_time": "2021-10-19T14:37:53.800Z"
   },
   {
    "duration": 7,
    "start_time": "2021-10-19T14:37:53.808Z"
   },
   {
    "duration": 5,
    "start_time": "2021-10-19T14:37:53.817Z"
   },
   {
    "duration": 4,
    "start_time": "2021-10-19T14:38:24.630Z"
   },
   {
    "duration": 490,
    "start_time": "2021-10-19T14:41:44.125Z"
   },
   {
    "duration": 8,
    "start_time": "2021-10-19T14:44:07.384Z"
   },
   {
    "duration": 126,
    "start_time": "2021-10-19T16:06:45.025Z"
   },
   {
    "duration": 122,
    "start_time": "2021-10-19T16:26:12.233Z"
   },
   {
    "duration": 149,
    "start_time": "2021-10-19T16:26:21.929Z"
   },
   {
    "duration": 456,
    "start_time": "2021-10-19T16:32:41.562Z"
   },
   {
    "duration": 881,
    "start_time": "2021-10-19T16:33:02.421Z"
   },
   {
    "duration": 269,
    "start_time": "2021-10-19T16:33:04.693Z"
   },
   {
    "duration": 39,
    "start_time": "2021-10-19T16:33:06.932Z"
   },
   {
    "duration": 39,
    "start_time": "2021-10-19T16:33:11.282Z"
   },
   {
    "duration": 7,
    "start_time": "2021-10-19T16:33:16.876Z"
   },
   {
    "duration": 6,
    "start_time": "2021-10-19T16:33:27.029Z"
   },
   {
    "duration": 5,
    "start_time": "2021-10-19T16:33:40.509Z"
   },
   {
    "duration": 5,
    "start_time": "2021-10-19T16:36:16.019Z"
   },
   {
    "duration": 4,
    "start_time": "2021-10-19T16:40:46.148Z"
   },
   {
    "duration": 6,
    "start_time": "2021-10-19T16:40:50.097Z"
   },
   {
    "duration": 6,
    "start_time": "2021-10-19T16:41:13.194Z"
   },
   {
    "duration": 128,
    "start_time": "2021-10-19T16:41:45.630Z"
   },
   {
    "duration": 34,
    "start_time": "2021-10-19T16:42:19.071Z"
   },
   {
    "duration": 24,
    "start_time": "2021-10-19T16:42:25.611Z"
   },
   {
    "duration": 37,
    "start_time": "2021-10-19T16:49:16.448Z"
   },
   {
    "duration": 93,
    "start_time": "2021-10-19T16:49:26.146Z"
   },
   {
    "duration": 114,
    "start_time": "2021-10-19T16:49:29.781Z"
   },
   {
    "duration": 91,
    "start_time": "2021-10-19T16:49:32.533Z"
   },
   {
    "duration": 67,
    "start_time": "2021-10-19T16:49:38.490Z"
   },
   {
    "duration": 4,
    "start_time": "2021-10-19T16:49:47.601Z"
   },
   {
    "duration": 17,
    "start_time": "2021-10-19T16:54:40.587Z"
   },
   {
    "duration": 72,
    "start_time": "2021-10-19T16:54:44.539Z"
   },
   {
    "duration": 15,
    "start_time": "2021-10-19T16:57:34.375Z"
   },
   {
    "duration": 44,
    "start_time": "2021-10-19T16:57:56.806Z"
   },
   {
    "duration": 45,
    "start_time": "2021-10-19T16:58:51.386Z"
   },
   {
    "duration": 15,
    "start_time": "2021-10-19T16:59:09.261Z"
   },
   {
    "duration": 12,
    "start_time": "2021-10-19T16:59:16.722Z"
   },
   {
    "duration": 3,
    "start_time": "2021-10-19T16:59:29.797Z"
   },
   {
    "duration": 225,
    "start_time": "2021-10-19T16:59:29.807Z"
   },
   {
    "duration": 26,
    "start_time": "2021-10-19T16:59:30.035Z"
   },
   {
    "duration": 63,
    "start_time": "2021-10-19T16:59:30.066Z"
   },
   {
    "duration": 8,
    "start_time": "2021-10-19T16:59:30.132Z"
   },
   {
    "duration": 10,
    "start_time": "2021-10-19T16:59:30.159Z"
   },
   {
    "duration": 31,
    "start_time": "2021-10-19T16:59:30.172Z"
   },
   {
    "duration": 39,
    "start_time": "2021-10-19T16:59:30.206Z"
   },
   {
    "duration": 30,
    "start_time": "2021-10-19T16:59:30.249Z"
   },
   {
    "duration": 6,
    "start_time": "2021-10-19T16:59:30.283Z"
   },
   {
    "duration": 69,
    "start_time": "2021-10-19T16:59:30.291Z"
   },
   {
    "duration": 127,
    "start_time": "2021-10-19T16:59:30.363Z"
   },
   {
    "duration": 124,
    "start_time": "2021-10-19T16:59:30.492Z"
   },
   {
    "duration": 101,
    "start_time": "2021-10-19T16:59:30.619Z"
   },
   {
    "duration": 84,
    "start_time": "2021-10-19T16:59:30.723Z"
   },
   {
    "duration": 4,
    "start_time": "2021-10-19T16:59:30.810Z"
   },
   {
    "duration": 32,
    "start_time": "2021-10-19T16:59:30.816Z"
   },
   {
    "duration": 105,
    "start_time": "2021-10-19T16:59:30.850Z"
   },
   {
    "duration": 54,
    "start_time": "2021-10-19T16:59:30.958Z"
   },
   {
    "duration": 82,
    "start_time": "2021-10-19T16:59:31.018Z"
   },
   {
    "duration": 5,
    "start_time": "2021-10-19T16:59:31.102Z"
   },
   {
    "duration": 37,
    "start_time": "2021-10-19T16:59:31.109Z"
   },
   {
    "duration": 26,
    "start_time": "2021-10-19T16:59:31.148Z"
   },
   {
    "duration": 25,
    "start_time": "2021-10-19T16:59:31.181Z"
   },
   {
    "duration": 78,
    "start_time": "2021-10-19T16:59:31.210Z"
   },
   {
    "duration": 21,
    "start_time": "2021-10-19T16:59:31.290Z"
   },
   {
    "duration": 21,
    "start_time": "2021-10-19T16:59:31.314Z"
   },
   {
    "duration": 31,
    "start_time": "2021-10-19T16:59:31.358Z"
   },
   {
    "duration": 31,
    "start_time": "2021-10-19T16:59:31.391Z"
   },
   {
    "duration": 35,
    "start_time": "2021-10-19T16:59:31.424Z"
   },
   {
    "duration": 37,
    "start_time": "2021-10-19T16:59:31.463Z"
   },
   {
    "duration": 6,
    "start_time": "2021-10-19T16:59:31.502Z"
   },
   {
    "duration": 52,
    "start_time": "2021-10-19T16:59:31.510Z"
   },
   {
    "duration": 40,
    "start_time": "2021-10-19T16:59:31.566Z"
   },
   {
    "duration": 33,
    "start_time": "2021-10-19T16:59:31.609Z"
   },
   {
    "duration": 28,
    "start_time": "2021-10-19T16:59:31.644Z"
   },
   {
    "duration": 20,
    "start_time": "2021-10-19T16:59:31.675Z"
   },
   {
    "duration": 17,
    "start_time": "2021-10-19T16:59:31.697Z"
   },
   {
    "duration": 27,
    "start_time": "2021-10-19T16:59:31.717Z"
   },
   {
    "duration": 68,
    "start_time": "2021-10-19T16:59:31.747Z"
   },
   {
    "duration": 19,
    "start_time": "2021-10-19T17:00:10.952Z"
   },
   {
    "duration": 188,
    "start_time": "2021-10-19T17:00:32.605Z"
   },
   {
    "duration": 22,
    "start_time": "2021-10-19T17:01:14.354Z"
   },
   {
    "duration": 16,
    "start_time": "2021-10-19T17:01:37.038Z"
   },
   {
    "duration": 5,
    "start_time": "2021-10-19T17:03:48.790Z"
   },
   {
    "duration": 22,
    "start_time": "2021-10-19T17:03:54.732Z"
   },
   {
    "duration": 22,
    "start_time": "2021-10-19T17:03:57.575Z"
   },
   {
    "duration": 18,
    "start_time": "2021-10-19T17:03:59.779Z"
   },
   {
    "duration": 23,
    "start_time": "2021-10-19T17:04:00.852Z"
   },
   {
    "duration": 27,
    "start_time": "2021-10-19T17:04:01.757Z"
   },
   {
    "duration": 26,
    "start_time": "2021-10-19T17:04:02.655Z"
   },
   {
    "duration": 12,
    "start_time": "2021-10-19T17:04:07.680Z"
   },
   {
    "duration": 33,
    "start_time": "2021-10-19T17:10:39.965Z"
   },
   {
    "duration": 30,
    "start_time": "2021-10-19T17:10:43.297Z"
   },
   {
    "duration": 6,
    "start_time": "2021-10-19T17:10:47.840Z"
   },
   {
    "duration": 24,
    "start_time": "2021-10-19T17:10:55.345Z"
   },
   {
    "duration": 17,
    "start_time": "2021-10-19T17:11:04.748Z"
   },
   {
    "duration": 28,
    "start_time": "2021-10-19T17:11:07.556Z"
   },
   {
    "duration": 17,
    "start_time": "2021-10-19T17:11:08.765Z"
   },
   {
    "duration": 11,
    "start_time": "2021-10-19T17:15:10.592Z"
   },
   {
    "duration": 6,
    "start_time": "2021-10-19T17:15:15.200Z"
   },
   {
    "duration": 9,
    "start_time": "2021-10-19T17:15:18.604Z"
   },
   {
    "duration": 6,
    "start_time": "2021-10-19T17:15:21.097Z"
   },
   {
    "duration": 438,
    "start_time": "2021-10-19T20:39:41.733Z"
   },
   {
    "duration": 838,
    "start_time": "2021-10-19T20:39:44.777Z"
   },
   {
    "duration": 178,
    "start_time": "2021-10-19T20:39:45.618Z"
   },
   {
    "duration": 27,
    "start_time": "2021-10-19T20:39:45.800Z"
   },
   {
    "duration": 50,
    "start_time": "2021-10-19T20:39:45.831Z"
   },
   {
    "duration": 7,
    "start_time": "2021-10-19T20:39:45.884Z"
   },
   {
    "duration": 7,
    "start_time": "2021-10-19T20:39:45.894Z"
   },
   {
    "duration": 12,
    "start_time": "2021-10-19T20:39:45.903Z"
   },
   {
    "duration": 32,
    "start_time": "2021-10-19T20:39:45.957Z"
   },
   {
    "duration": 25,
    "start_time": "2021-10-19T20:39:45.993Z"
   },
   {
    "duration": 6,
    "start_time": "2021-10-19T20:39:46.020Z"
   },
   {
    "duration": 60,
    "start_time": "2021-10-19T20:39:46.029Z"
   },
   {
    "duration": 107,
    "start_time": "2021-10-19T20:39:46.092Z"
   },
   {
    "duration": 110,
    "start_time": "2021-10-19T20:39:46.203Z"
   },
   {
    "duration": 90,
    "start_time": "2021-10-19T20:39:46.315Z"
   },
   {
    "duration": 77,
    "start_time": "2021-10-19T20:39:46.408Z"
   },
   {
    "duration": 5,
    "start_time": "2021-10-19T20:39:46.488Z"
   },
   {
    "duration": 23,
    "start_time": "2021-10-19T20:39:46.496Z"
   },
   {
    "duration": 97,
    "start_time": "2021-10-19T20:39:46.522Z"
   },
   {
    "duration": 38,
    "start_time": "2021-10-19T20:39:46.622Z"
   },
   {
    "duration": 25,
    "start_time": "2021-10-19T20:39:46.663Z"
   },
   {
    "duration": 119,
    "start_time": "2021-10-19T20:39:46.690Z"
   },
   {
    "duration": 43394,
    "start_time": "2021-10-19T20:39:03.418Z"
   },
   {
    "duration": 43392,
    "start_time": "2021-10-19T20:39:03.422Z"
   },
   {
    "duration": 43389,
    "start_time": "2021-10-19T20:39:03.426Z"
   },
   {
    "duration": 43387,
    "start_time": "2021-10-19T20:39:03.429Z"
   },
   {
    "duration": 43385,
    "start_time": "2021-10-19T20:39:03.432Z"
   },
   {
    "duration": 43384,
    "start_time": "2021-10-19T20:39:03.435Z"
   },
   {
    "duration": 43381,
    "start_time": "2021-10-19T20:39:03.439Z"
   },
   {
    "duration": 43379,
    "start_time": "2021-10-19T20:39:03.442Z"
   },
   {
    "duration": 43378,
    "start_time": "2021-10-19T20:39:03.445Z"
   },
   {
    "duration": 43376,
    "start_time": "2021-10-19T20:39:03.448Z"
   },
   {
    "duration": 43374,
    "start_time": "2021-10-19T20:39:03.451Z"
   },
   {
    "duration": 43373,
    "start_time": "2021-10-19T20:39:03.454Z"
   },
   {
    "duration": 43372,
    "start_time": "2021-10-19T20:39:03.457Z"
   },
   {
    "duration": 43370,
    "start_time": "2021-10-19T20:39:03.460Z"
   },
   {
    "duration": 43369,
    "start_time": "2021-10-19T20:39:03.463Z"
   },
   {
    "duration": 43367,
    "start_time": "2021-10-19T20:39:03.466Z"
   },
   {
    "duration": 43367,
    "start_time": "2021-10-19T20:39:03.468Z"
   },
   {
    "duration": 43365,
    "start_time": "2021-10-19T20:39:03.471Z"
   },
   {
    "duration": 43363,
    "start_time": "2021-10-19T20:39:03.474Z"
   },
   {
    "duration": 43362,
    "start_time": "2021-10-19T20:39:03.477Z"
   },
   {
    "duration": 147,
    "start_time": "2021-10-19T20:43:38.258Z"
   },
   {
    "duration": 42,
    "start_time": "2021-10-19T20:43:45.296Z"
   },
   {
    "duration": 206,
    "start_time": "2021-12-29T16:48:16.733Z"
   },
   {
    "duration": 583,
    "start_time": "2021-12-29T16:48:24.408Z"
   },
   {
    "duration": 136,
    "start_time": "2021-12-29T16:48:24.993Z"
   },
   {
    "duration": 16,
    "start_time": "2021-12-29T16:48:25.131Z"
   },
   {
    "duration": 46,
    "start_time": "2021-12-29T16:48:25.148Z"
   },
   {
    "duration": 17,
    "start_time": "2021-12-29T16:48:25.197Z"
   },
   {
    "duration": 29,
    "start_time": "2021-12-29T16:48:25.216Z"
   },
   {
    "duration": 19,
    "start_time": "2021-12-29T16:48:25.247Z"
   },
   {
    "duration": 38,
    "start_time": "2021-12-29T16:48:25.269Z"
   },
   {
    "duration": 28,
    "start_time": "2021-12-29T16:48:25.309Z"
   },
   {
    "duration": 41,
    "start_time": "2021-12-29T16:48:25.339Z"
   },
   {
    "duration": 72,
    "start_time": "2021-12-29T16:48:25.381Z"
   },
   {
    "duration": 68,
    "start_time": "2021-12-29T16:48:25.454Z"
   },
   {
    "duration": 52,
    "start_time": "2021-12-29T16:48:25.524Z"
   },
   {
    "duration": 53,
    "start_time": "2021-12-29T16:48:25.577Z"
   },
   {
    "duration": 3,
    "start_time": "2021-12-29T16:48:25.632Z"
   },
   {
    "duration": 13,
    "start_time": "2021-12-29T16:48:25.636Z"
   },
   {
    "duration": 56,
    "start_time": "2021-12-29T16:48:25.651Z"
   },
   {
    "duration": 11,
    "start_time": "2021-12-29T16:48:25.708Z"
   },
   {
    "duration": 17,
    "start_time": "2021-12-29T16:48:25.721Z"
   },
   {
    "duration": 3,
    "start_time": "2021-12-29T16:48:25.739Z"
   },
   {
    "duration": 47,
    "start_time": "2021-12-29T16:48:25.744Z"
   },
   {
    "duration": 15,
    "start_time": "2021-12-29T16:48:25.793Z"
   },
   {
    "duration": 15,
    "start_time": "2021-12-29T16:48:25.812Z"
   },
   {
    "duration": 13,
    "start_time": "2021-12-29T16:48:25.829Z"
   },
   {
    "duration": 16,
    "start_time": "2021-12-29T16:48:25.844Z"
   },
   {
    "duration": 14,
    "start_time": "2021-12-29T16:48:25.892Z"
   },
   {
    "duration": 8,
    "start_time": "2021-12-29T16:48:25.908Z"
   },
   {
    "duration": 8,
    "start_time": "2021-12-29T16:48:25.918Z"
   },
   {
    "duration": 22,
    "start_time": "2021-12-29T16:48:25.928Z"
   },
   {
    "duration": 49,
    "start_time": "2021-12-29T16:48:25.951Z"
   },
   {
    "duration": 5,
    "start_time": "2021-12-29T16:48:26.002Z"
   },
   {
    "duration": 20,
    "start_time": "2021-12-29T16:48:26.009Z"
   },
   {
    "duration": 13,
    "start_time": "2021-12-29T16:48:26.031Z"
   },
   {
    "duration": 46,
    "start_time": "2021-12-29T16:48:26.046Z"
   },
   {
    "duration": 13,
    "start_time": "2021-12-29T16:48:26.093Z"
   },
   {
    "duration": 7,
    "start_time": "2021-12-29T16:48:26.108Z"
   },
   {
    "duration": 4,
    "start_time": "2021-12-29T16:48:26.117Z"
   },
   {
    "duration": 8,
    "start_time": "2021-12-29T16:48:26.123Z"
   },
   {
    "duration": 5,
    "start_time": "2021-12-29T16:48:26.133Z"
   },
   {
    "duration": 18,
    "start_time": "2021-12-29T16:48:44.618Z"
   },
   {
    "duration": 3,
    "start_time": "2021-12-29T16:50:45.236Z"
   },
   {
    "duration": 9,
    "start_time": "2021-12-29T16:53:22.202Z"
   },
   {
    "duration": 5,
    "start_time": "2021-12-29T16:58:22.003Z"
   },
   {
    "duration": 2,
    "start_time": "2021-12-29T17:03:15.883Z"
   },
   {
    "duration": 156,
    "start_time": "2021-12-29T17:03:15.889Z"
   },
   {
    "duration": 10,
    "start_time": "2021-12-29T17:03:16.047Z"
   },
   {
    "duration": 39,
    "start_time": "2021-12-29T17:03:16.059Z"
   },
   {
    "duration": 4,
    "start_time": "2021-12-29T17:03:16.101Z"
   },
   {
    "duration": 6,
    "start_time": "2021-12-29T17:03:16.107Z"
   },
   {
    "duration": 8,
    "start_time": "2021-12-29T17:03:16.115Z"
   },
   {
    "duration": 24,
    "start_time": "2021-12-29T17:03:16.124Z"
   },
   {
    "duration": 16,
    "start_time": "2021-12-29T17:03:16.151Z"
   },
   {
    "duration": 45,
    "start_time": "2021-12-29T17:03:16.169Z"
   },
   {
    "duration": 58,
    "start_time": "2021-12-29T17:03:16.215Z"
   },
   {
    "duration": 85,
    "start_time": "2021-12-29T17:03:16.275Z"
   },
   {
    "duration": 64,
    "start_time": "2021-12-29T17:03:16.362Z"
   },
   {
    "duration": 42,
    "start_time": "2021-12-29T17:03:16.428Z"
   },
   {
    "duration": 20,
    "start_time": "2021-12-29T17:03:16.472Z"
   },
   {
    "duration": 15,
    "start_time": "2021-12-29T17:03:16.494Z"
   },
   {
    "duration": 44,
    "start_time": "2021-12-29T17:03:16.512Z"
   },
   {
    "duration": 40,
    "start_time": "2021-12-29T17:03:16.558Z"
   },
   {
    "duration": 19,
    "start_time": "2021-12-29T17:03:16.600Z"
   },
   {
    "duration": 3,
    "start_time": "2021-12-29T17:03:16.621Z"
   },
   {
    "duration": 19,
    "start_time": "2021-12-29T17:03:16.626Z"
   },
   {
    "duration": 51,
    "start_time": "2021-12-29T17:03:16.647Z"
   },
   {
    "duration": 19,
    "start_time": "2021-12-29T17:03:16.700Z"
   },
   {
    "duration": 15,
    "start_time": "2021-12-29T17:03:16.723Z"
   },
   {
    "duration": 52,
    "start_time": "2021-12-29T17:03:16.740Z"
   },
   {
    "duration": 14,
    "start_time": "2021-12-29T17:03:16.794Z"
   },
   {
    "duration": 7,
    "start_time": "2021-12-29T17:03:16.810Z"
   },
   {
    "duration": 24,
    "start_time": "2021-12-29T17:03:16.819Z"
   },
   {
    "duration": 51,
    "start_time": "2021-12-29T17:03:16.845Z"
   },
   {
    "duration": 3,
    "start_time": "2021-12-29T17:03:16.898Z"
   },
   {
    "duration": 26,
    "start_time": "2021-12-29T17:03:16.903Z"
   },
   {
    "duration": 13,
    "start_time": "2021-12-29T17:03:16.931Z"
   },
   {
    "duration": 19,
    "start_time": "2021-12-29T17:03:16.946Z"
   },
   {
    "duration": 33,
    "start_time": "2021-12-29T17:03:16.967Z"
   },
   {
    "duration": 8,
    "start_time": "2021-12-29T17:03:17.001Z"
   },
   {
    "duration": 5,
    "start_time": "2021-12-29T17:03:17.010Z"
   },
   {
    "duration": 9,
    "start_time": "2021-12-29T17:03:17.017Z"
   },
   {
    "duration": 9,
    "start_time": "2021-12-29T17:03:17.027Z"
   }
  ],
  "colab": {
   "collapsed_sections": [
    "E0vqbgi9ay0H",
    "VUC88oWjTJw2"
   ],
   "name": "yandex_music_project_2021.2.ipynb",
   "provenance": []
  },
  "kernelspec": {
   "display_name": "Python 3",
   "language": "python",
   "name": "python3"
  },
  "language_info": {
   "codemirror_mode": {
    "name": "ipython",
    "version": 3
   },
   "file_extension": ".py",
   "mimetype": "text/x-python",
   "name": "python",
   "nbconvert_exporter": "python",
   "pygments_lexer": "ipython3",
   "version": "3.7.8"
  },
  "toc": {
   "base_numbering": 1,
   "nav_menu": {
    "height": "80px",
    "width": "260px"
   },
   "number_sections": true,
   "sideBar": true,
   "skip_h1_title": true,
   "title_cell": "Table of Contents",
   "title_sidebar": "Contents",
   "toc_cell": false,
   "toc_position": {
    "height": "calc(100% - 180px)",
    "left": "10px",
    "top": "150px",
    "width": "246px"
   },
   "toc_section_display": true,
   "toc_window_display": true
  }
 },
 "nbformat": 4,
 "nbformat_minor": 1
}
