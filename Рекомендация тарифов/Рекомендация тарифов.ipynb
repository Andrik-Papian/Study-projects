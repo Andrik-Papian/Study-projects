{
 "cells": [
  {
   "cell_type": "markdown",
   "metadata": {},
   "source": [
    "# Рекомендация тарифов"
   ]
  },
  {
   "cell_type": "markdown",
   "metadata": {},
   "source": [
    "В вашем распоряжении данные о поведении клиентов, которые уже перешли на эти тарифы. Нужно построить модель для задачи классификации, которая выберет подходящий тариф. Предобработка данных не понадобится.\n",
    "\n",
    "Построим модель с максимально большим значением *accuracy*. Нужно довести долю правильных ответов по крайней мере до 0.75. Проверим *accuracy* на тестовой выборке."
   ]
  },
  {
   "cell_type": "markdown",
   "metadata": {},
   "source": [
    "## Откроим и изучим файл"
   ]
  },
  {
   "cell_type": "code",
   "execution_count": 1,
   "metadata": {},
   "outputs": [],
   "source": [
    "import pandas as pd\n",
    "from sklearn.model_selection import train_test_split\n",
    "from sklearn.tree import DecisionTreeClassifier\n",
    "from sklearn.ensemble import RandomForestClassifier\n",
    "from sklearn.linear_model import LogisticRegression\n",
    "from sklearn.dummy import DummyClassifier\n",
    "from sklearn.metrics import accuracy_score"
   ]
  },
  {
   "cell_type": "code",
   "execution_count": 2,
   "metadata": {},
   "outputs": [],
   "source": [
    "df = pd.read_csv('/datasets/users_behavior.csv')"
   ]
  },
  {
   "cell_type": "code",
   "execution_count": 3,
   "metadata": {},
   "outputs": [
    {
     "data": {
      "text/html": [
       "<div>\n",
       "<style scoped>\n",
       "    .dataframe tbody tr th:only-of-type {\n",
       "        vertical-align: middle;\n",
       "    }\n",
       "\n",
       "    .dataframe tbody tr th {\n",
       "        vertical-align: top;\n",
       "    }\n",
       "\n",
       "    .dataframe thead th {\n",
       "        text-align: right;\n",
       "    }\n",
       "</style>\n",
       "<table border=\"1\" class=\"dataframe\">\n",
       "  <thead>\n",
       "    <tr style=\"text-align: right;\">\n",
       "      <th></th>\n",
       "      <th>calls</th>\n",
       "      <th>minutes</th>\n",
       "      <th>messages</th>\n",
       "      <th>mb_used</th>\n",
       "      <th>is_ultra</th>\n",
       "    </tr>\n",
       "  </thead>\n",
       "  <tbody>\n",
       "    <tr>\n",
       "      <td>0</td>\n",
       "      <td>40.0</td>\n",
       "      <td>311.90</td>\n",
       "      <td>83.0</td>\n",
       "      <td>19915.42</td>\n",
       "      <td>0</td>\n",
       "    </tr>\n",
       "    <tr>\n",
       "      <td>1</td>\n",
       "      <td>85.0</td>\n",
       "      <td>516.75</td>\n",
       "      <td>56.0</td>\n",
       "      <td>22696.96</td>\n",
       "      <td>0</td>\n",
       "    </tr>\n",
       "    <tr>\n",
       "      <td>2</td>\n",
       "      <td>77.0</td>\n",
       "      <td>467.66</td>\n",
       "      <td>86.0</td>\n",
       "      <td>21060.45</td>\n",
       "      <td>0</td>\n",
       "    </tr>\n",
       "    <tr>\n",
       "      <td>3</td>\n",
       "      <td>106.0</td>\n",
       "      <td>745.53</td>\n",
       "      <td>81.0</td>\n",
       "      <td>8437.39</td>\n",
       "      <td>1</td>\n",
       "    </tr>\n",
       "    <tr>\n",
       "      <td>4</td>\n",
       "      <td>66.0</td>\n",
       "      <td>418.74</td>\n",
       "      <td>1.0</td>\n",
       "      <td>14502.75</td>\n",
       "      <td>0</td>\n",
       "    </tr>\n",
       "  </tbody>\n",
       "</table>\n",
       "</div>"
      ],
      "text/plain": [
       "   calls  minutes  messages   mb_used  is_ultra\n",
       "0   40.0   311.90      83.0  19915.42         0\n",
       "1   85.0   516.75      56.0  22696.96         0\n",
       "2   77.0   467.66      86.0  21060.45         0\n",
       "3  106.0   745.53      81.0   8437.39         1\n",
       "4   66.0   418.74       1.0  14502.75         0"
      ]
     },
     "execution_count": 3,
     "metadata": {},
     "output_type": "execute_result"
    }
   ],
   "source": [
    "df.head()"
   ]
  },
  {
   "cell_type": "code",
   "execution_count": 4,
   "metadata": {},
   "outputs": [
    {
     "name": "stdout",
     "output_type": "stream",
     "text": [
      "<class 'pandas.core.frame.DataFrame'>\n",
      "RangeIndex: 3214 entries, 0 to 3213\n",
      "Data columns (total 5 columns):\n",
      "calls       3214 non-null float64\n",
      "minutes     3214 non-null float64\n",
      "messages    3214 non-null float64\n",
      "mb_used     3214 non-null float64\n",
      "is_ultra    3214 non-null int64\n",
      "dtypes: float64(4), int64(1)\n",
      "memory usage: 125.7 KB\n"
     ]
    }
   ],
   "source": [
    "df.info()"
   ]
  },
  {
   "cell_type": "markdown",
   "metadata": {},
   "source": [
    "**Открыли и изучили файл, видим, что пропусков в данных нет, названия столбцов понятны, типы данных соответствующие.**"
   ]
  },
  {
   "cell_type": "markdown",
   "metadata": {},
   "source": [
    "## Разобьем данные на выборки"
   ]
  },
  {
   "cell_type": "markdown",
   "metadata": {},
   "source": [
    "**Разделили данные исходя из расчета 3:1:1 для обучающей, валидационной и тестовой выборок соответственно.**"
   ]
  },
  {
   "cell_type": "code",
   "execution_count": 5,
   "metadata": {},
   "outputs": [],
   "source": [
    "df_train, df_temporary = train_test_split(df, test_size=0.4, random_state=12345)#Разделили исходные данные на обучающую, валидационную и тестовую выборки\n",
    "df_valid, df_test = train_test_split(df_temporary, test_size=0.5, random_state=12345)"
   ]
  },
  {
   "cell_type": "markdown",
   "metadata": {},
   "source": [
    "## Исследуем модели"
   ]
  },
  {
   "cell_type": "code",
   "execution_count": 6,
   "metadata": {},
   "outputs": [],
   "source": [
    "#сохраним обучающие и валидационные признаки в переменные\n",
    "features_train = df_train.drop(['is_ultra'], axis=1)\n",
    "target_train = df_train['is_ultra']\n",
    "features_valid = df_valid.drop(['is_ultra'], axis=1)\n",
    "target_valid = df_valid['is_ultra']"
   ]
  },
  {
   "cell_type": "markdown",
   "metadata": {},
   "source": [
    "**Сначала проверим модель DecisionTreeClassifier.**"
   ]
  },
  {
   "cell_type": "code",
   "execution_count": 7,
   "metadata": {},
   "outputs": [
    {
     "name": "stdout",
     "output_type": "stream",
     "text": [
      "max_depth = 1 : 0.7542768273716952\n",
      "max_depth = 2 : 0.7822706065318819\n",
      "max_depth = 3 : 0.7853810264385692\n",
      "max_depth = 4 : 0.7791601866251944\n",
      "max_depth = 5 : 0.7791601866251944\n"
     ]
    }
   ],
   "source": [
    "for depth in range(1, 6):\n",
    "    model = DecisionTreeClassifier(random_state=12345, max_depth=depth)\n",
    "    model.fit(features_train, target_train)\n",
    "    predictions_valid = model.predict(features_valid)\n",
    "    print(\"max_depth =\", depth, \": \", end='')\n",
    "    print(accuracy_score(target_valid, predictions_valid))"
   ]
  },
  {
   "cell_type": "markdown",
   "metadata": {},
   "source": [
    "**Исходя из оценки качества на валидационной выборке, видно что лучший результат показал параметр max_depth = 3.**"
   ]
  },
  {
   "cell_type": "markdown",
   "metadata": {},
   "source": [
    "**Теперь проверим модель RandomForestClassifier.**"
   ]
  },
  {
   "cell_type": "code",
   "execution_count": 8,
   "metadata": {},
   "outputs": [
    {
     "name": "stdout",
     "output_type": "stream",
     "text": [
      "n_estimators = 1 : 0.7107309486780715\n",
      "n_estimators = 2 : 0.7636080870917574\n",
      "n_estimators = 3 : 0.7387247278382582\n",
      "n_estimators = 4 : 0.7713841368584758\n",
      "n_estimators = 5 : 0.749611197511664\n",
      "n_estimators = 6 : 0.7807153965785381\n",
      "n_estimators = 7 : 0.7682737169517885\n",
      "n_estimators = 8 : 0.7822706065318819\n",
      "n_estimators = 9 : 0.7729393468118196\n",
      "n_estimators = 10 : 0.7853810264385692\n",
      "n_estimators = 11 : 0.7838258164852255\n",
      "n_estimators = 12 : 0.7869362363919129\n"
     ]
    }
   ],
   "source": [
    "for est in range(1, 13):\n",
    "    model = RandomForestClassifier(random_state=12345, n_estimators=est) \n",
    "    model.fit(features_train, target_train) \n",
    "    predictions_valid = model.predict(features_valid)\n",
    "    print(\"n_estimators =\", est, \": \", end='')\n",
    "    print(accuracy_score(target_valid, predictions_valid))"
   ]
  },
  {
   "cell_type": "markdown",
   "metadata": {},
   "source": [
    "**Исходя из оценки качества на валидационной выборке, видно что лучший результат показал параметр n_estimators = 12.**"
   ]
  },
  {
   "cell_type": "markdown",
   "metadata": {},
   "source": [
    "**Проверим также модель LogisticRegression.**"
   ]
  },
  {
   "cell_type": "code",
   "execution_count": 9,
   "metadata": {},
   "outputs": [
    {
     "name": "stdout",
     "output_type": "stream",
     "text": [
      "0.7589424572317263\n"
     ]
    },
    {
     "name": "stderr",
     "output_type": "stream",
     "text": [
      "/opt/conda/lib/python3.7/site-packages/sklearn/linear_model/logistic.py:432: FutureWarning: Default solver will be changed to 'lbfgs' in 0.22. Specify a solver to silence this warning.\n",
      "  FutureWarning)\n"
     ]
    }
   ],
   "source": [
    "model = LogisticRegression(random_state=12345)\n",
    "model.fit(features_train, target_train)\n",
    "result = model.score(features_valid, target_valid)\n",
    "print(result)"
   ]
  },
  {
   "cell_type": "markdown",
   "metadata": {},
   "source": [
    "**Исходя из результатов проверки, видим, что самый высокий accuracy у модели RandomForestClassifier , ее и будем проверять на тестовой выборке.**"
   ]
  },
  {
   "cell_type": "markdown",
   "metadata": {},
   "source": [
    "## Проверим модель на тестовой выборке"
   ]
  },
  {
   "cell_type": "markdown",
   "metadata": {},
   "source": [
    "**Так как в предыдущей главе мы выяснили, что у RandomForestClassifier самый высокий accuracy, то ее и проверим.**"
   ]
  },
  {
   "cell_type": "code",
   "execution_count": 10,
   "metadata": {},
   "outputs": [],
   "source": [
    "#сохраним в переменные признаки для тестовой выборки\n",
    "features_test = df_test.drop(['is_ultra'], axis=1)\n",
    "target_test = df_test['is_ultra']"
   ]
  },
  {
   "cell_type": "code",
   "execution_count": 11,
   "metadata": {},
   "outputs": [
    {
     "name": "stdout",
     "output_type": "stream",
     "text": [
      "0.7869362363919129\n"
     ]
    }
   ],
   "source": [
    "model = RandomForestClassifier(random_state=12345, n_estimators=12) \n",
    "model.fit(features_train, target_train) \n",
    "predictions_test = model.predict(features_test)\n",
    "print(accuracy_score(target_test, predictions_test))"
   ]
  },
  {
   "cell_type": "markdown",
   "metadata": {},
   "source": [
    "**Мы получили результат accuracy 0,78 это выше 0,75 как и требуется в задании.**"
   ]
  },
  {
   "cell_type": "markdown",
   "metadata": {},
   "source": [
    "## Проверим модели на адекватность"
   ]
  },
  {
   "cell_type": "markdown",
   "metadata": {},
   "source": [
    "**Сравним качество своей модели с качеством константной модели.**"
   ]
  },
  {
   "cell_type": "code",
   "execution_count": 12,
   "metadata": {},
   "outputs": [],
   "source": [
    "features_test = df_test.drop(['is_ultra'], axis=1)\n",
    "target_test = df_test['is_ultra']\n",
    "model = DummyClassifier(constant=1, random_state=12345, strategy=\"constant\")\n",
    "model.fit(features_test, target_test)\n",
    "predictions_test = model.predict(features_test)"
   ]
  },
  {
   "cell_type": "code",
   "execution_count": 13,
   "metadata": {},
   "outputs": [
    {
     "data": {
      "text/plain": [
       "0.3157076205287714"
      ]
     },
     "execution_count": 13,
     "metadata": {},
     "output_type": "execute_result"
    }
   ],
   "source": [
    "model.score(features_test, target_test)"
   ]
  },
  {
   "cell_type": "code",
   "execution_count": 14,
   "metadata": {},
   "outputs": [],
   "source": [
    "features_test = df_test.drop(['is_ultra'], axis=1)\n",
    "target_test = df_test['is_ultra']\n",
    "model = DummyClassifier(constant=0, random_state=12345, strategy=\"constant\")\n",
    "model.fit(features_test, target_test)\n",
    "predictions_test = model.predict(features_test)"
   ]
  },
  {
   "cell_type": "code",
   "execution_count": 15,
   "metadata": {},
   "outputs": [
    {
     "data": {
      "text/plain": [
       "0.6842923794712286"
      ]
     },
     "execution_count": 15,
     "metadata": {},
     "output_type": "execute_result"
    }
   ],
   "source": [
    "model.score(features_test, target_test)"
   ]
  },
  {
   "cell_type": "markdown",
   "metadata": {},
   "source": [
    "**В обоих случаях accuracy константной модели на тестовой выборке - ниже чем качество модели RandomForestClassifier, наверно можно сделать вывод, что наша модель адекватна.**"
   ]
  }
 ],
 "metadata": {
  "ExecuteTimeLog": [
   {
    "duration": 635,
    "start_time": "2021-12-25T15:28:00.345Z"
   },
   {
    "duration": 20,
    "start_time": "2021-12-25T15:28:29.054Z"
   },
   {
    "duration": 21,
    "start_time": "2021-12-25T15:28:37.656Z"
   },
   {
    "duration": 9,
    "start_time": "2021-12-25T15:28:47.853Z"
   },
   {
    "duration": 530,
    "start_time": "2021-12-25T15:47:44.947Z"
   },
   {
    "duration": 388,
    "start_time": "2021-12-25T15:48:49.925Z"
   },
   {
    "duration": 6,
    "start_time": "2021-12-25T15:49:17.071Z"
   },
   {
    "duration": 6,
    "start_time": "2021-12-25T15:49:45.849Z"
   },
   {
    "duration": 19,
    "start_time": "2021-12-25T15:50:00.056Z"
   },
   {
    "duration": 7,
    "start_time": "2021-12-25T15:50:10.244Z"
   },
   {
    "duration": 19,
    "start_time": "2021-12-25T15:50:24.460Z"
   },
   {
    "duration": 6,
    "start_time": "2021-12-25T15:50:31.999Z"
   },
   {
    "duration": 18,
    "start_time": "2021-12-25T15:50:45.056Z"
   },
   {
    "duration": 7,
    "start_time": "2021-12-25T15:50:53.696Z"
   },
   {
    "duration": 674,
    "start_time": "2021-12-25T15:51:31.329Z"
   },
   {
    "duration": 21,
    "start_time": "2021-12-25T15:51:32.005Z"
   },
   {
    "duration": 19,
    "start_time": "2021-12-25T15:51:32.029Z"
   },
   {
    "duration": 18,
    "start_time": "2021-12-25T15:51:32.050Z"
   },
   {
    "duration": 505,
    "start_time": "2021-12-25T15:51:32.070Z"
   },
   {
    "duration": 9,
    "start_time": "2021-12-25T15:51:32.577Z"
   },
   {
    "duration": 10,
    "start_time": "2021-12-25T15:52:28.238Z"
   },
   {
    "duration": 31,
    "start_time": "2021-12-25T16:00:14.747Z"
   },
   {
    "duration": 7,
    "start_time": "2021-12-25T16:02:06.810Z"
   },
   {
    "duration": 13,
    "start_time": "2021-12-25T16:03:13.964Z"
   },
   {
    "duration": 7,
    "start_time": "2021-12-25T16:03:21.766Z"
   },
   {
    "duration": 3,
    "start_time": "2021-12-25T16:06:18.646Z"
   },
   {
    "duration": 25,
    "start_time": "2021-12-25T16:06:18.652Z"
   },
   {
    "duration": 9,
    "start_time": "2021-12-25T16:06:18.679Z"
   },
   {
    "duration": 8,
    "start_time": "2021-12-25T16:06:18.690Z"
   },
   {
    "duration": 6,
    "start_time": "2021-12-25T16:06:18.700Z"
   },
   {
    "duration": 9,
    "start_time": "2021-12-25T16:06:18.708Z"
   },
   {
    "duration": 17,
    "start_time": "2021-12-25T16:06:18.719Z"
   },
   {
    "duration": 14,
    "start_time": "2021-12-25T16:06:18.738Z"
   },
   {
    "duration": 372,
    "start_time": "2021-12-25T16:06:18.756Z"
   },
   {
    "duration": 5032,
    "start_time": "2021-12-25T16:06:14.098Z"
   },
   {
    "duration": 3,
    "start_time": "2021-12-25T16:07:49.954Z"
   },
   {
    "duration": 25,
    "start_time": "2021-12-25T16:07:49.959Z"
   },
   {
    "duration": 14,
    "start_time": "2021-12-25T16:07:49.987Z"
   },
   {
    "duration": 16,
    "start_time": "2021-12-25T16:07:50.003Z"
   },
   {
    "duration": 6,
    "start_time": "2021-12-25T16:07:50.021Z"
   },
   {
    "duration": 21,
    "start_time": "2021-12-25T16:07:50.029Z"
   },
   {
    "duration": 3,
    "start_time": "2021-12-25T16:07:50.053Z"
   },
   {
    "duration": 8,
    "start_time": "2021-12-25T16:07:50.061Z"
   },
   {
    "duration": 9,
    "start_time": "2021-12-25T16:07:50.071Z"
   },
   {
    "duration": 11,
    "start_time": "2021-12-25T16:07:50.082Z"
   },
   {
    "duration": 2,
    "start_time": "2021-12-25T16:08:11.234Z"
   },
   {
    "duration": 31,
    "start_time": "2021-12-25T16:08:11.239Z"
   },
   {
    "duration": 9,
    "start_time": "2021-12-25T16:08:11.272Z"
   },
   {
    "duration": 7,
    "start_time": "2021-12-25T16:08:11.283Z"
   },
   {
    "duration": 2,
    "start_time": "2021-12-25T16:08:11.293Z"
   },
   {
    "duration": 11,
    "start_time": "2021-12-25T16:08:11.297Z"
   },
   {
    "duration": 4,
    "start_time": "2021-12-25T16:08:11.310Z"
   },
   {
    "duration": 9,
    "start_time": "2021-12-25T16:08:11.315Z"
   },
   {
    "duration": 12,
    "start_time": "2021-12-25T16:08:11.326Z"
   },
   {
    "duration": 22,
    "start_time": "2021-12-25T16:08:11.340Z"
   },
   {
    "duration": 14,
    "start_time": "2021-12-25T16:08:57.717Z"
   },
   {
    "duration": 7,
    "start_time": "2021-12-25T16:08:58.182Z"
   },
   {
    "duration": 12,
    "start_time": "2021-12-25T16:08:58.557Z"
   },
   {
    "duration": 5,
    "start_time": "2021-12-25T16:08:58.953Z"
   },
   {
    "duration": 37,
    "start_time": "2021-12-25T16:13:37.464Z"
   },
   {
    "duration": 46,
    "start_time": "2021-12-25T16:13:55.225Z"
   },
   {
    "duration": 62,
    "start_time": "2021-12-25T16:14:03.121Z"
   },
   {
    "duration": 55,
    "start_time": "2021-12-25T16:14:07.793Z"
   },
   {
    "duration": 49,
    "start_time": "2021-12-25T16:14:14.518Z"
   },
   {
    "duration": 39,
    "start_time": "2021-12-25T16:14:18.025Z"
   },
   {
    "duration": 38,
    "start_time": "2021-12-25T16:14:21.892Z"
   },
   {
    "duration": 30,
    "start_time": "2021-12-25T16:14:26.248Z"
   },
   {
    "duration": 25,
    "start_time": "2021-12-25T16:14:28.810Z"
   },
   {
    "duration": 21,
    "start_time": "2021-12-25T16:14:31.574Z"
   },
   {
    "duration": 17,
    "start_time": "2021-12-25T16:14:33.802Z"
   },
   {
    "duration": 13,
    "start_time": "2021-12-25T16:14:35.899Z"
   },
   {
    "duration": 59,
    "start_time": "2021-12-25T16:14:38.980Z"
   },
   {
    "duration": 47,
    "start_time": "2021-12-25T16:15:35.203Z"
   },
   {
    "duration": 110,
    "start_time": "2021-12-25T16:15:41.487Z"
   },
   {
    "duration": 519,
    "start_time": "2021-12-25T16:15:45.205Z"
   },
   {
    "duration": 660,
    "start_time": "2021-12-25T16:16:45.778Z"
   },
   {
    "duration": 25,
    "start_time": "2021-12-25T16:16:46.443Z"
   },
   {
    "duration": 28,
    "start_time": "2021-12-25T16:16:46.473Z"
   },
   {
    "duration": 17,
    "start_time": "2021-12-25T16:16:46.502Z"
   },
   {
    "duration": 514,
    "start_time": "2021-12-25T16:16:46.521Z"
   },
   {
    "duration": 9,
    "start_time": "2021-12-25T16:16:47.037Z"
   },
   {
    "duration": 61,
    "start_time": "2021-12-25T16:16:47.048Z"
   },
   {
    "duration": 5,
    "start_time": "2021-12-25T16:16:47.112Z"
   },
   {
    "duration": 26,
    "start_time": "2021-12-25T16:16:47.119Z"
   },
   {
    "duration": 5,
    "start_time": "2021-12-25T16:16:47.147Z"
   },
   {
    "duration": 87,
    "start_time": "2021-12-25T16:16:47.154Z"
   },
   {
    "duration": 302,
    "start_time": "2021-12-25T16:16:53.346Z"
   },
   {
    "duration": 538,
    "start_time": "2021-12-25T16:16:57.480Z"
   },
   {
    "duration": 309,
    "start_time": "2021-12-25T16:17:05.595Z"
   },
   {
    "duration": 368,
    "start_time": "2021-12-25T16:17:20.718Z"
   },
   {
    "duration": 335,
    "start_time": "2021-12-25T16:17:24.356Z"
   },
   {
    "duration": 442,
    "start_time": "2021-12-25T16:17:31.208Z"
   },
   {
    "duration": 471,
    "start_time": "2021-12-25T16:17:38.079Z"
   },
   {
    "duration": 60,
    "start_time": "2021-12-25T16:17:43.030Z"
   },
   {
    "duration": 32,
    "start_time": "2021-12-25T16:17:46.177Z"
   },
   {
    "duration": 16,
    "start_time": "2021-12-25T16:17:49.510Z"
   },
   {
    "duration": 49,
    "start_time": "2021-12-25T16:17:52.602Z"
   },
   {
    "duration": 66,
    "start_time": "2021-12-25T16:17:58.459Z"
   },
   {
    "duration": 54,
    "start_time": "2021-12-25T16:18:05.925Z"
   },
   {
    "duration": 41,
    "start_time": "2021-12-25T16:18:09.244Z"
   },
   {
    "duration": 37,
    "start_time": "2021-12-25T16:18:11.476Z"
   },
   {
    "duration": 33,
    "start_time": "2021-12-25T16:18:15.050Z"
   },
   {
    "duration": 28,
    "start_time": "2021-12-25T16:18:16.976Z"
   },
   {
    "duration": 22,
    "start_time": "2021-12-25T16:18:19.235Z"
   },
   {
    "duration": 18,
    "start_time": "2021-12-25T16:18:21.624Z"
   },
   {
    "duration": 13,
    "start_time": "2021-12-25T16:18:23.000Z"
   },
   {
    "duration": 55,
    "start_time": "2021-12-25T16:18:25.166Z"
   },
   {
    "duration": 59,
    "start_time": "2021-12-25T16:18:27.859Z"
   },
   {
    "duration": 66,
    "start_time": "2021-12-25T16:18:30.433Z"
   },
   {
    "duration": 76,
    "start_time": "2021-12-25T16:18:35.342Z"
   },
   {
    "duration": 75,
    "start_time": "2021-12-25T16:18:38.059Z"
   },
   {
    "duration": 74,
    "start_time": "2021-12-25T16:18:40.773Z"
   },
   {
    "duration": 64,
    "start_time": "2021-12-25T16:18:43.165Z"
   },
   {
    "duration": 3,
    "start_time": "2021-12-25T16:19:23.180Z"
   },
   {
    "duration": 6,
    "start_time": "2021-12-25T16:19:23.792Z"
   },
   {
    "duration": 10,
    "start_time": "2021-12-25T16:19:24.055Z"
   },
   {
    "duration": 5,
    "start_time": "2021-12-25T16:19:24.283Z"
   },
   {
    "duration": 64,
    "start_time": "2021-12-25T16:19:24.644Z"
   },
   {
    "duration": 12,
    "start_time": "2021-12-25T16:20:12.000Z"
   },
   {
    "duration": 11,
    "start_time": "2021-12-25T16:20:29.186Z"
   },
   {
    "duration": 10,
    "start_time": "2021-12-25T16:20:50.956Z"
   },
   {
    "duration": 5,
    "start_time": "2021-12-25T16:20:52.529Z"
   },
   {
    "duration": 11,
    "start_time": "2021-12-25T16:20:55.850Z"
   },
   {
    "duration": 5,
    "start_time": "2021-12-25T16:20:56.548Z"
   },
   {
    "duration": 12,
    "start_time": "2021-12-25T16:21:02.112Z"
   },
   {
    "duration": 6,
    "start_time": "2021-12-25T16:21:02.596Z"
   },
   {
    "duration": 13,
    "start_time": "2021-12-25T16:21:05.093Z"
   },
   {
    "duration": 5,
    "start_time": "2021-12-25T16:21:05.617Z"
   },
   {
    "duration": 13,
    "start_time": "2021-12-25T16:21:08.450Z"
   },
   {
    "duration": 5,
    "start_time": "2021-12-25T16:21:08.952Z"
   },
   {
    "duration": 13,
    "start_time": "2021-12-25T16:21:11.524Z"
   },
   {
    "duration": 5,
    "start_time": "2021-12-25T16:21:12.331Z"
   },
   {
    "duration": 9,
    "start_time": "2021-12-25T16:21:20.215Z"
   },
   {
    "duration": 5,
    "start_time": "2021-12-25T16:21:20.613Z"
   },
   {
    "duration": 63,
    "start_time": "2021-12-25T16:21:25.370Z"
   },
   {
    "duration": 11,
    "start_time": "2021-12-25T16:21:26.114Z"
   },
   {
    "duration": 5,
    "start_time": "2021-12-25T16:22:18.426Z"
   },
   {
    "duration": 69,
    "start_time": "2021-12-25T16:24:12.978Z"
   },
   {
    "duration": 66,
    "start_time": "2021-12-25T16:24:35.374Z"
   },
   {
    "duration": 68,
    "start_time": "2021-12-25T16:24:52.953Z"
   },
   {
    "duration": 63,
    "start_time": "2021-12-25T16:25:17.410Z"
   },
   {
    "duration": 12,
    "start_time": "2021-12-25T16:25:20.274Z"
   },
   {
    "duration": 4,
    "start_time": "2021-12-25T16:28:03.821Z"
   },
   {
    "duration": 367,
    "start_time": "2021-12-25T16:28:14.716Z"
   },
   {
    "duration": 70,
    "start_time": "2021-12-25T16:29:06.821Z"
   },
   {
    "duration": 31,
    "start_time": "2021-12-25T16:29:32.660Z"
   },
   {
    "duration": 65,
    "start_time": "2021-12-25T16:34:25.360Z"
   },
   {
    "duration": 3,
    "start_time": "2021-12-25T16:37:06.008Z"
   },
   {
    "duration": 11,
    "start_time": "2021-12-25T16:42:00.984Z"
   },
   {
    "duration": 6,
    "start_time": "2021-12-25T16:42:02.305Z"
   },
   {
    "duration": 12,
    "start_time": "2021-12-25T16:42:10.029Z"
   },
   {
    "duration": 6,
    "start_time": "2021-12-25T16:42:11.102Z"
   },
   {
    "duration": 13,
    "start_time": "2021-12-25T16:42:14.422Z"
   },
   {
    "duration": 5,
    "start_time": "2021-12-25T16:42:15.209Z"
   },
   {
    "duration": 12,
    "start_time": "2021-12-25T16:42:17.543Z"
   },
   {
    "duration": 5,
    "start_time": "2021-12-25T16:42:18.225Z"
   },
   {
    "duration": 15,
    "start_time": "2021-12-25T16:42:20.848Z"
   },
   {
    "duration": 10,
    "start_time": "2021-12-25T16:42:21.483Z"
   },
   {
    "duration": 16,
    "start_time": "2021-12-25T16:42:25.176Z"
   },
   {
    "duration": 6,
    "start_time": "2021-12-25T16:42:25.925Z"
   },
   {
    "duration": 14,
    "start_time": "2021-12-25T16:42:29.675Z"
   },
   {
    "duration": 7,
    "start_time": "2021-12-25T16:42:30.281Z"
   },
   {
    "duration": 13,
    "start_time": "2021-12-25T16:42:33.277Z"
   },
   {
    "duration": 6,
    "start_time": "2021-12-25T16:42:33.959Z"
   },
   {
    "duration": 10,
    "start_time": "2021-12-25T16:43:39.733Z"
   },
   {
    "duration": 7,
    "start_time": "2021-12-25T16:43:40.560Z"
   },
   {
    "duration": 13,
    "start_time": "2021-12-25T16:46:08.589Z"
   },
   {
    "duration": 7,
    "start_time": "2021-12-25T16:46:08.996Z"
   },
   {
    "duration": 18,
    "start_time": "2021-12-25T16:46:44.877Z"
   },
   {
    "duration": 5,
    "start_time": "2021-12-25T16:54:12.113Z"
   },
   {
    "duration": 11,
    "start_time": "2021-12-25T16:54:13.670Z"
   },
   {
    "duration": 6,
    "start_time": "2021-12-25T16:54:13.933Z"
   },
   {
    "duration": 3,
    "start_time": "2021-12-25T17:02:27.111Z"
   },
   {
    "duration": 350,
    "start_time": "2021-12-25T17:04:52.656Z"
   },
   {
    "duration": 319,
    "start_time": "2021-12-25T17:05:17.097Z"
   },
   {
    "duration": 355,
    "start_time": "2021-12-25T17:05:30.763Z"
   },
   {
    "duration": 3,
    "start_time": "2021-12-25T17:19:39.074Z"
   },
   {
    "duration": 269,
    "start_time": "2021-12-25T17:19:39.518Z"
   },
   {
    "duration": 321,
    "start_time": "2021-12-25T17:21:11.867Z"
   },
   {
    "duration": 263,
    "start_time": "2021-12-25T17:22:33.381Z"
   },
   {
    "duration": 339,
    "start_time": "2021-12-25T17:22:43.774Z"
   },
   {
    "duration": 7,
    "start_time": "2021-12-25T17:23:59.279Z"
   },
   {
    "duration": 5,
    "start_time": "2021-12-25T17:24:01.684Z"
   },
   {
    "duration": 5,
    "start_time": "2021-12-25T17:24:21.411Z"
   },
   {
    "duration": 7,
    "start_time": "2021-12-25T17:25:19.174Z"
   },
   {
    "duration": 4,
    "start_time": "2021-12-25T17:25:20.519Z"
   },
   {
    "duration": 5,
    "start_time": "2021-12-25T17:25:21.047Z"
   },
   {
    "duration": 6,
    "start_time": "2021-12-25T17:25:34.337Z"
   },
   {
    "duration": 4,
    "start_time": "2021-12-25T17:25:35.620Z"
   },
   {
    "duration": 5,
    "start_time": "2021-12-25T17:25:36.560Z"
   },
   {
    "duration": 7,
    "start_time": "2021-12-25T17:26:23.546Z"
   },
   {
    "duration": 5,
    "start_time": "2021-12-25T17:26:24.413Z"
   },
   {
    "duration": 5,
    "start_time": "2021-12-25T17:26:25.274Z"
   },
   {
    "duration": 7,
    "start_time": "2021-12-25T17:27:03.223Z"
   },
   {
    "duration": 5,
    "start_time": "2021-12-25T17:27:04.430Z"
   },
   {
    "duration": 7,
    "start_time": "2021-12-25T17:27:10.836Z"
   },
   {
    "duration": 7,
    "start_time": "2021-12-25T17:27:11.558Z"
   },
   {
    "duration": 5,
    "start_time": "2021-12-25T17:27:15.616Z"
   },
   {
    "duration": 6,
    "start_time": "2021-12-25T17:27:28.474Z"
   },
   {
    "duration": 3,
    "start_time": "2021-12-25T17:27:28.989Z"
   },
   {
    "duration": 6,
    "start_time": "2021-12-25T17:27:36.536Z"
   },
   {
    "duration": 2,
    "start_time": "2021-12-25T17:27:37.284Z"
   },
   {
    "duration": 5,
    "start_time": "2021-12-25T17:27:37.679Z"
   },
   {
    "duration": 6,
    "start_time": "2021-12-25T17:29:16.523Z"
   },
   {
    "duration": 5,
    "start_time": "2021-12-25T17:29:17.244Z"
   },
   {
    "duration": 5,
    "start_time": "2021-12-25T17:29:18.141Z"
   },
   {
    "duration": 7,
    "start_time": "2021-12-25T17:29:45.721Z"
   },
   {
    "duration": 6,
    "start_time": "2021-12-25T17:29:46.472Z"
   },
   {
    "duration": 13,
    "start_time": "2021-12-25T17:30:29.771Z"
   },
   {
    "duration": 6,
    "start_time": "2021-12-25T17:30:31.673Z"
   },
   {
    "duration": 6,
    "start_time": "2021-12-25T17:30:42.148Z"
   },
   {
    "duration": 5,
    "start_time": "2021-12-25T17:31:38.708Z"
   },
   {
    "duration": 9,
    "start_time": "2021-12-25T17:31:39.155Z"
   },
   {
    "duration": 6,
    "start_time": "2021-12-25T17:32:32.013Z"
   },
   {
    "duration": 5,
    "start_time": "2021-12-25T17:32:32.420Z"
   },
   {
    "duration": 5,
    "start_time": "2021-12-25T17:32:33.197Z"
   },
   {
    "duration": 5,
    "start_time": "2021-12-25T17:32:33.538Z"
   },
   {
    "duration": 605,
    "start_time": "2021-12-25T17:39:25.801Z"
   },
   {
    "duration": 20,
    "start_time": "2021-12-25T17:39:26.408Z"
   },
   {
    "duration": 16,
    "start_time": "2021-12-25T17:39:26.430Z"
   },
   {
    "duration": 16,
    "start_time": "2021-12-25T17:39:26.447Z"
   },
   {
    "duration": 470,
    "start_time": "2021-12-25T17:39:26.467Z"
   },
   {
    "duration": 7,
    "start_time": "2021-12-25T17:39:26.939Z"
   },
   {
    "duration": 68,
    "start_time": "2021-12-25T17:39:26.948Z"
   },
   {
    "duration": 5,
    "start_time": "2021-12-25T17:39:27.019Z"
   },
   {
    "duration": 27,
    "start_time": "2021-12-25T17:39:27.026Z"
   },
   {
    "duration": 37,
    "start_time": "2021-12-25T17:39:27.055Z"
   },
   {
    "duration": 69,
    "start_time": "2021-12-25T17:39:27.094Z"
   },
   {
    "duration": 15,
    "start_time": "2021-12-25T17:39:27.168Z"
   },
   {
    "duration": 28,
    "start_time": "2021-12-25T17:39:27.187Z"
   },
   {
    "duration": 21,
    "start_time": "2021-12-25T17:39:27.217Z"
   },
   {
    "duration": 13,
    "start_time": "2021-12-25T17:39:27.240Z"
   },
   {
    "duration": 50,
    "start_time": "2021-12-25T17:39:27.255Z"
   },
   {
    "duration": 22,
    "start_time": "2021-12-25T17:39:27.307Z"
   },
   {
    "duration": 42,
    "start_time": "2021-12-25T17:39:27.331Z"
   },
   {
    "duration": 21,
    "start_time": "2021-12-25T17:39:27.374Z"
   },
   {
    "duration": 6,
    "start_time": "2021-12-25T17:39:27.397Z"
   },
   {
    "duration": 1094,
    "start_time": "2021-12-25T19:14:43.782Z"
   },
   {
    "duration": 20,
    "start_time": "2021-12-25T19:14:44.877Z"
   },
   {
    "duration": 15,
    "start_time": "2021-12-25T19:14:44.899Z"
   },
   {
    "duration": 6,
    "start_time": "2021-12-25T19:14:44.916Z"
   },
   {
    "duration": 4,
    "start_time": "2021-12-25T19:14:44.924Z"
   },
   {
    "duration": 9,
    "start_time": "2021-12-25T19:14:44.930Z"
   },
   {
    "duration": 3,
    "start_time": "2021-12-25T19:14:44.940Z"
   },
   {
    "duration": 6,
    "start_time": "2021-12-25T19:14:44.945Z"
   },
   {
    "duration": 38,
    "start_time": "2021-12-25T19:14:44.954Z"
   },
   {
    "duration": 5,
    "start_time": "2021-12-25T19:14:44.994Z"
   },
   {
    "duration": 68,
    "start_time": "2021-12-25T19:14:45.000Z"
   },
   {
    "duration": 31,
    "start_time": "2021-12-25T19:14:45.070Z"
   },
   {
    "duration": 3,
    "start_time": "2021-12-25T19:14:45.103Z"
   },
   {
    "duration": 12,
    "start_time": "2021-12-25T19:14:45.108Z"
   },
   {
    "duration": 5,
    "start_time": "2021-12-25T19:14:45.121Z"
   },
   {
    "duration": 4,
    "start_time": "2021-12-25T19:14:45.128Z"
   },
   {
    "duration": 6,
    "start_time": "2021-12-25T19:14:45.134Z"
   },
   {
    "duration": 7,
    "start_time": "2021-12-25T19:14:45.142Z"
   },
   {
    "duration": 8,
    "start_time": "2021-12-25T19:14:45.150Z"
   },
   {
    "duration": 35,
    "start_time": "2021-12-25T19:14:45.160Z"
   },
   {
    "duration": 32,
    "start_time": "2021-12-25T19:23:45.496Z"
   },
   {
    "duration": 396,
    "start_time": "2021-12-25T19:31:23.961Z"
   },
   {
    "duration": 449,
    "start_time": "2021-12-25T19:33:51.277Z"
   },
   {
    "duration": 7,
    "start_time": "2021-12-25T19:39:05.091Z"
   },
   {
    "duration": 6,
    "start_time": "2021-12-25T19:39:35.249Z"
   },
   {
    "duration": 13,
    "start_time": "2021-12-25T19:39:50.380Z"
   },
   {
    "duration": 83,
    "start_time": "2021-12-25T19:40:01.657Z"
   },
   {
    "duration": 67,
    "start_time": "2021-12-25T19:40:05.458Z"
   },
   {
    "duration": 7,
    "start_time": "2021-12-25T19:40:07.722Z"
   },
   {
    "duration": 979,
    "start_time": "2021-12-25T19:43:42.652Z"
   },
   {
    "duration": 20,
    "start_time": "2021-12-25T19:43:43.633Z"
   },
   {
    "duration": 15,
    "start_time": "2021-12-25T19:43:43.656Z"
   },
   {
    "duration": 7,
    "start_time": "2021-12-25T19:43:43.673Z"
   },
   {
    "duration": 7,
    "start_time": "2021-12-25T19:43:43.692Z"
   },
   {
    "duration": 5,
    "start_time": "2021-12-25T19:43:43.701Z"
   },
   {
    "duration": 27,
    "start_time": "2021-12-25T19:43:43.707Z"
   },
   {
    "duration": 397,
    "start_time": "2021-12-25T19:43:43.737Z"
   },
   {
    "duration": 16,
    "start_time": "2021-12-25T19:43:44.136Z"
   },
   {
    "duration": 4,
    "start_time": "2021-12-25T19:43:44.153Z"
   },
   {
    "duration": 33,
    "start_time": "2021-12-25T19:43:44.158Z"
   },
   {
    "duration": 6,
    "start_time": "2021-12-25T19:43:44.193Z"
   },
   {
    "duration": 5,
    "start_time": "2021-12-25T19:43:44.201Z"
   },
   {
    "duration": 8,
    "start_time": "2021-12-25T19:43:44.207Z"
   },
   {
    "duration": 5,
    "start_time": "2021-12-25T19:43:44.218Z"
   },
   {
    "duration": 6,
    "start_time": "2021-12-25T19:43:44.224Z"
   },
   {
    "duration": 328,
    "start_time": "2021-12-25T19:47:38.676Z"
   },
   {
    "duration": 6,
    "start_time": "2021-12-25T19:50:00.471Z"
   },
   {
    "duration": 5,
    "start_time": "2021-12-25T19:50:00.654Z"
   },
   {
    "duration": 5,
    "start_time": "2021-12-25T19:50:00.844Z"
   },
   {
    "duration": 6,
    "start_time": "2021-12-25T19:50:02.397Z"
   },
   {
    "duration": 1061,
    "start_time": "2021-12-25T19:50:37.564Z"
   },
   {
    "duration": 19,
    "start_time": "2021-12-25T19:50:38.627Z"
   },
   {
    "duration": 14,
    "start_time": "2021-12-25T19:50:38.648Z"
   },
   {
    "duration": 7,
    "start_time": "2021-12-25T19:50:38.664Z"
   },
   {
    "duration": 6,
    "start_time": "2021-12-25T19:50:38.673Z"
   },
   {
    "duration": 5,
    "start_time": "2021-12-25T19:50:38.692Z"
   },
   {
    "duration": 29,
    "start_time": "2021-12-25T19:50:38.699Z"
   },
   {
    "duration": 338,
    "start_time": "2021-12-25T19:50:38.730Z"
   },
   {
    "duration": 13,
    "start_time": "2021-12-25T19:50:39.070Z"
   },
   {
    "duration": 3,
    "start_time": "2021-12-25T19:50:39.092Z"
   },
   {
    "duration": 341,
    "start_time": "2021-12-25T19:50:39.097Z"
   },
   {
    "duration": 5,
    "start_time": "2021-12-25T19:50:39.440Z"
   },
   {
    "duration": 7,
    "start_time": "2021-12-25T19:50:39.446Z"
   },
   {
    "duration": 6,
    "start_time": "2021-12-25T19:50:39.455Z"
   },
   {
    "duration": 9,
    "start_time": "2021-12-25T19:50:39.462Z"
   },
   {
    "duration": 363,
    "start_time": "2021-12-26T11:19:20.213Z"
   },
   {
    "duration": 679,
    "start_time": "2021-12-26T11:20:02.091Z"
   },
   {
    "duration": 254,
    "start_time": "2021-12-26T11:20:29.438Z"
   },
   {
    "duration": 879,
    "start_time": "2021-12-26T11:20:57.077Z"
   },
   {
    "duration": 334,
    "start_time": "2021-12-26T11:20:58.508Z"
   },
   {
    "duration": 260,
    "start_time": "2021-12-26T11:20:59.206Z"
   },
   {
    "duration": 534,
    "start_time": "2021-12-26T11:21:09.229Z"
   },
   {
    "duration": 20,
    "start_time": "2021-12-26T11:21:09.765Z"
   },
   {
    "duration": 21,
    "start_time": "2021-12-26T11:21:09.788Z"
   },
   {
    "duration": 14,
    "start_time": "2021-12-26T11:21:09.816Z"
   },
   {
    "duration": 11,
    "start_time": "2021-12-26T11:21:09.833Z"
   },
   {
    "duration": 7,
    "start_time": "2021-12-26T11:21:09.847Z"
   },
   {
    "duration": 82,
    "start_time": "2021-12-26T11:21:09.857Z"
   },
   {
    "duration": 551,
    "start_time": "2021-12-26T11:21:09.944Z"
   },
   {
    "duration": 41,
    "start_time": "2021-12-26T11:21:10.498Z"
   },
   {
    "duration": 3,
    "start_time": "2021-12-26T11:21:10.541Z"
   },
   {
    "duration": 6,
    "start_time": "2021-12-26T11:21:10.547Z"
   },
   {
    "duration": 99,
    "start_time": "2021-12-26T11:21:10.556Z"
   },
   {
    "duration": 6,
    "start_time": "2021-12-26T11:21:10.657Z"
   },
   {
    "duration": 14,
    "start_time": "2021-12-26T11:21:10.666Z"
   },
   {
    "duration": 8,
    "start_time": "2021-12-26T11:21:10.682Z"
   },
   {
    "duration": 29,
    "start_time": "2021-12-26T11:21:10.692Z"
   },
   {
    "duration": 4,
    "start_time": "2021-12-26T11:21:31.748Z"
   },
   {
    "duration": 29,
    "start_time": "2021-12-26T11:21:31.758Z"
   },
   {
    "duration": 48,
    "start_time": "2021-12-26T11:21:31.790Z"
   },
   {
    "duration": 38,
    "start_time": "2021-12-26T11:21:31.842Z"
   },
   {
    "duration": 13,
    "start_time": "2021-12-26T11:21:31.883Z"
   },
   {
    "duration": 45,
    "start_time": "2021-12-26T11:21:31.898Z"
   },
   {
    "duration": 49,
    "start_time": "2021-12-26T11:21:31.945Z"
   },
   {
    "duration": 553,
    "start_time": "2021-12-26T11:21:31.996Z"
   },
   {
    "duration": 25,
    "start_time": "2021-12-26T11:21:32.552Z"
   },
   {
    "duration": 10,
    "start_time": "2021-12-26T11:21:32.580Z"
   },
   {
    "duration": 98,
    "start_time": "2021-12-26T11:21:32.593Z"
   },
   {
    "duration": 6,
    "start_time": "2021-12-26T11:21:32.694Z"
   },
   {
    "duration": 24,
    "start_time": "2021-12-26T11:21:32.702Z"
   },
   {
    "duration": 9,
    "start_time": "2021-12-26T11:21:32.730Z"
   },
   {
    "duration": 36,
    "start_time": "2021-12-26T11:21:32.741Z"
   },
   {
    "duration": 1428,
    "start_time": "2021-12-26T11:24:56.741Z"
   },
   {
    "duration": 21,
    "start_time": "2021-12-26T11:24:58.171Z"
   },
   {
    "duration": 28,
    "start_time": "2021-12-26T11:24:58.194Z"
   },
   {
    "duration": 12,
    "start_time": "2021-12-26T11:24:58.226Z"
   },
   {
    "duration": 9,
    "start_time": "2021-12-26T11:24:58.241Z"
   },
   {
    "duration": 7,
    "start_time": "2021-12-26T11:24:58.253Z"
   },
   {
    "duration": 82,
    "start_time": "2021-12-26T11:24:58.262Z"
   },
   {
    "duration": 547,
    "start_time": "2021-12-26T11:24:58.347Z"
   },
   {
    "duration": 41,
    "start_time": "2021-12-26T11:24:58.897Z"
   },
   {
    "duration": 5,
    "start_time": "2021-12-26T11:24:58.940Z"
   },
   {
    "duration": 103,
    "start_time": "2021-12-26T11:24:58.947Z"
   },
   {
    "duration": 7,
    "start_time": "2021-12-26T11:24:59.052Z"
   },
   {
    "duration": 12,
    "start_time": "2021-12-26T11:24:59.062Z"
   },
   {
    "duration": 7,
    "start_time": "2021-12-26T11:24:59.076Z"
   },
   {
    "duration": 31,
    "start_time": "2021-12-26T11:24:59.086Z"
   },
   {
    "duration": 1145,
    "start_time": "2021-12-28T16:49:10.759Z"
   },
   {
    "duration": 18,
    "start_time": "2021-12-28T16:49:11.906Z"
   },
   {
    "duration": 17,
    "start_time": "2021-12-28T16:49:11.926Z"
   },
   {
    "duration": 10,
    "start_time": "2021-12-28T16:49:11.945Z"
   },
   {
    "duration": 12,
    "start_time": "2021-12-28T16:49:11.957Z"
   },
   {
    "duration": 7,
    "start_time": "2021-12-28T16:49:11.971Z"
   },
   {
    "duration": 33,
    "start_time": "2021-12-28T16:49:11.980Z"
   },
   {
    "duration": 344,
    "start_time": "2021-12-28T16:49:12.016Z"
   },
   {
    "duration": 14,
    "start_time": "2021-12-28T16:49:12.362Z"
   },
   {
    "duration": 4,
    "start_time": "2021-12-28T16:49:12.377Z"
   },
   {
    "duration": 58,
    "start_time": "2021-12-28T16:49:12.382Z"
   },
   {
    "duration": 22,
    "start_time": "2021-12-28T16:49:12.442Z"
   },
   {
    "duration": 12,
    "start_time": "2021-12-28T16:49:12.466Z"
   },
   {
    "duration": 8,
    "start_time": "2021-12-28T16:49:12.480Z"
   },
   {
    "duration": 10,
    "start_time": "2021-12-28T16:49:12.489Z"
   },
   {
    "duration": 980,
    "start_time": "2021-12-29T18:56:36.043Z"
   },
   {
    "duration": 18,
    "start_time": "2021-12-29T18:56:37.024Z"
   },
   {
    "duration": 15,
    "start_time": "2021-12-29T18:56:37.044Z"
   },
   {
    "duration": 7,
    "start_time": "2021-12-29T18:56:37.061Z"
   },
   {
    "duration": 6,
    "start_time": "2021-12-29T18:56:37.070Z"
   },
   {
    "duration": 17,
    "start_time": "2021-12-29T18:56:37.077Z"
   },
   {
    "duration": 32,
    "start_time": "2021-12-29T18:56:37.096Z"
   },
   {
    "duration": 342,
    "start_time": "2021-12-29T18:56:37.130Z"
   },
   {
    "duration": 17,
    "start_time": "2021-12-29T18:56:37.474Z"
   },
   {
    "duration": 4,
    "start_time": "2021-12-29T18:56:37.493Z"
   },
   {
    "duration": 52,
    "start_time": "2021-12-29T18:56:37.498Z"
   },
   {
    "duration": 5,
    "start_time": "2021-12-29T18:56:37.551Z"
   },
   {
    "duration": 6,
    "start_time": "2021-12-29T18:56:37.558Z"
   },
   {
    "duration": 29,
    "start_time": "2021-12-29T18:56:37.565Z"
   },
   {
    "duration": 7,
    "start_time": "2021-12-29T18:56:37.595Z"
   },
   {
    "duration": 1059,
    "start_time": "2021-12-30T12:59:25.817Z"
   },
   {
    "duration": 86,
    "start_time": "2021-12-30T12:59:26.878Z"
   },
   {
    "duration": 15,
    "start_time": "2021-12-30T12:59:26.967Z"
   },
   {
    "duration": 8,
    "start_time": "2021-12-30T12:59:26.985Z"
   },
   {
    "duration": 10,
    "start_time": "2021-12-30T12:59:26.995Z"
   },
   {
    "duration": 11,
    "start_time": "2021-12-30T12:59:27.007Z"
   },
   {
    "duration": 39,
    "start_time": "2021-12-30T12:59:27.020Z"
   },
   {
    "duration": 334,
    "start_time": "2021-12-30T12:59:27.062Z"
   },
   {
    "duration": 13,
    "start_time": "2021-12-30T12:59:27.398Z"
   },
   {
    "duration": 3,
    "start_time": "2021-12-30T12:59:27.413Z"
   },
   {
    "duration": 70,
    "start_time": "2021-12-30T12:59:27.417Z"
   },
   {
    "duration": 5,
    "start_time": "2021-12-30T12:59:27.489Z"
   },
   {
    "duration": 8,
    "start_time": "2021-12-30T12:59:27.495Z"
   },
   {
    "duration": 5,
    "start_time": "2021-12-30T12:59:27.504Z"
   },
   {
    "duration": 32,
    "start_time": "2021-12-30T12:59:27.510Z"
   }
  ],
  "kernelspec": {
   "display_name": "Python 3",
   "language": "python",
   "name": "python3"
  },
  "language_info": {
   "codemirror_mode": {
    "name": "ipython",
    "version": 3
   },
   "file_extension": ".py",
   "mimetype": "text/x-python",
   "name": "python",
   "nbconvert_exporter": "python",
   "pygments_lexer": "ipython3",
   "version": "3.7.8"
  },
  "toc": {
   "base_numbering": 1,
   "nav_menu": {},
   "number_sections": true,
   "sideBar": true,
   "skip_h1_title": true,
   "title_cell": "Table of Contents",
   "title_sidebar": "Contents",
   "toc_cell": false,
   "toc_position": {},
   "toc_section_display": true,
   "toc_window_display": false
  }
 },
 "nbformat": 4,
 "nbformat_minor": 2
}
