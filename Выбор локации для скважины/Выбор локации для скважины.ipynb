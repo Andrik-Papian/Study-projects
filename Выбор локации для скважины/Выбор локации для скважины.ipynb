{
 "cells": [
  {
   "cell_type": "markdown",
   "metadata": {},
   "source": [
    "# Выбор локации для скважины"
   ]
  },
  {
   "cell_type": "markdown",
   "metadata": {},
   "source": [
    "Допустим, вы работаете в добывающей компании «ГлавРосГосНефть». Нужно решить, где бурить новую скважину.\n",
    "\n",
    "Вам предоставлены пробы нефти в трёх регионах: в каждом 10 000 месторождений, где измерили качество нефти и объём её запасов. Постройте модель машинного обучения, которая поможет определить регион, где добыча принесёт наибольшую прибыль. Проанализируйте возможную прибыль и риски техникой *Bootstrap.*\n",
    "\n",
    "Шаги для выбора локации:\n",
    "\n",
    "- В избранном регионе ищут месторождения, для каждого определяют значения признаков;\n",
    "- Строят модель и оценивают объём запасов;\n",
    "- Выбирают месторождения с самым высокими оценками значений. Количество месторождений зависит от бюджета компании и стоимости разработки одной скважины;\n",
    "- Прибыль равна суммарной прибыли отобранных месторождений."
   ]
  },
  {
   "cell_type": "markdown",
   "metadata": {},
   "source": [
    "Описание столбцов:\n",
    "\n",
    "- id — уникальный идентификатор скважины;\n",
    "- f0, f1, f2 — три признака точек (неважно, что они означают, но сами признаки значимы);\n",
    "- product — объём запасов в скважине (тыс. баррелей).\n",
    "\n",
    "Условия задачи:\n",
    "\n",
    "- Для обучения модели подходит только линейная регрессия (остальные — недостаточно предсказуемые).\n",
    "- При разведке региона исследуют 500 точек, из которых с помощью машинного обучения выбирают 200 лучших для разработки.\n",
    "- Бюджет на разработку скважин в регионе — 10 млрд рублей.\n",
    "- При нынешних ценах один баррель сырья приносит 450 рублей дохода. Доход с каждой единицы продукта составляет 450 тыс. рублей, поскольку объём указан в тысячах баррелей.\n",
    "- После оценки рисков нужно оставить лишь те регионы, в которых вероятность убытков меньше 2.5%. Среди них выбирают регион с наибольшей средней прибылью."
   ]
  },
  {
   "cell_type": "markdown",
   "metadata": {},
   "source": [
    "## Загрузка и подготовка данных"
   ]
  },
  {
   "cell_type": "code",
   "execution_count": 1,
   "metadata": {},
   "outputs": [],
   "source": [
    "import pandas as pd\n",
    "from sklearn.model_selection import train_test_split\n",
    "from sklearn.linear_model import LinearRegression\n",
    "from sklearn.metrics import mean_squared_error\n",
    "from scipy import stats as st\n",
    "import numpy as np"
   ]
  },
  {
   "cell_type": "code",
   "execution_count": 2,
   "metadata": {},
   "outputs": [],
   "source": [
    "df_0 = pd.read_csv('/datasets/geo_data_0.csv')\n",
    "df_1 = pd.read_csv('/datasets/geo_data_1.csv')\n",
    "df_2 = pd.read_csv('/datasets/geo_data_2.csv')"
   ]
  },
  {
   "cell_type": "code",
   "execution_count": 3,
   "metadata": {},
   "outputs": [
    {
     "data": {
      "text/html": [
       "<div>\n",
       "<style scoped>\n",
       "    .dataframe tbody tr th:only-of-type {\n",
       "        vertical-align: middle;\n",
       "    }\n",
       "\n",
       "    .dataframe tbody tr th {\n",
       "        vertical-align: top;\n",
       "    }\n",
       "\n",
       "    .dataframe thead th {\n",
       "        text-align: right;\n",
       "    }\n",
       "</style>\n",
       "<table border=\"1\" class=\"dataframe\">\n",
       "  <thead>\n",
       "    <tr style=\"text-align: right;\">\n",
       "      <th></th>\n",
       "      <th>id</th>\n",
       "      <th>f0</th>\n",
       "      <th>f1</th>\n",
       "      <th>f2</th>\n",
       "      <th>product</th>\n",
       "    </tr>\n",
       "  </thead>\n",
       "  <tbody>\n",
       "    <tr>\n",
       "      <td>0</td>\n",
       "      <td>txEyH</td>\n",
       "      <td>0.705745</td>\n",
       "      <td>-0.497823</td>\n",
       "      <td>1.221170</td>\n",
       "      <td>105.280062</td>\n",
       "    </tr>\n",
       "    <tr>\n",
       "      <td>1</td>\n",
       "      <td>2acmU</td>\n",
       "      <td>1.334711</td>\n",
       "      <td>-0.340164</td>\n",
       "      <td>4.365080</td>\n",
       "      <td>73.037750</td>\n",
       "    </tr>\n",
       "    <tr>\n",
       "      <td>2</td>\n",
       "      <td>409Wp</td>\n",
       "      <td>1.022732</td>\n",
       "      <td>0.151990</td>\n",
       "      <td>1.419926</td>\n",
       "      <td>85.265647</td>\n",
       "    </tr>\n",
       "    <tr>\n",
       "      <td>3</td>\n",
       "      <td>iJLyR</td>\n",
       "      <td>-0.032172</td>\n",
       "      <td>0.139033</td>\n",
       "      <td>2.978566</td>\n",
       "      <td>168.620776</td>\n",
       "    </tr>\n",
       "    <tr>\n",
       "      <td>4</td>\n",
       "      <td>Xdl7t</td>\n",
       "      <td>1.988431</td>\n",
       "      <td>0.155413</td>\n",
       "      <td>4.751769</td>\n",
       "      <td>154.036647</td>\n",
       "    </tr>\n",
       "  </tbody>\n",
       "</table>\n",
       "</div>"
      ],
      "text/plain": [
       "      id        f0        f1        f2     product\n",
       "0  txEyH  0.705745 -0.497823  1.221170  105.280062\n",
       "1  2acmU  1.334711 -0.340164  4.365080   73.037750\n",
       "2  409Wp  1.022732  0.151990  1.419926   85.265647\n",
       "3  iJLyR -0.032172  0.139033  2.978566  168.620776\n",
       "4  Xdl7t  1.988431  0.155413  4.751769  154.036647"
      ]
     },
     "metadata": {},
     "output_type": "display_data"
    },
    {
     "data": {
      "text/html": [
       "<div>\n",
       "<style scoped>\n",
       "    .dataframe tbody tr th:only-of-type {\n",
       "        vertical-align: middle;\n",
       "    }\n",
       "\n",
       "    .dataframe tbody tr th {\n",
       "        vertical-align: top;\n",
       "    }\n",
       "\n",
       "    .dataframe thead th {\n",
       "        text-align: right;\n",
       "    }\n",
       "</style>\n",
       "<table border=\"1\" class=\"dataframe\">\n",
       "  <thead>\n",
       "    <tr style=\"text-align: right;\">\n",
       "      <th></th>\n",
       "      <th>id</th>\n",
       "      <th>f0</th>\n",
       "      <th>f1</th>\n",
       "      <th>f2</th>\n",
       "      <th>product</th>\n",
       "    </tr>\n",
       "  </thead>\n",
       "  <tbody>\n",
       "    <tr>\n",
       "      <td>0</td>\n",
       "      <td>kBEdx</td>\n",
       "      <td>-15.001348</td>\n",
       "      <td>-8.276000</td>\n",
       "      <td>-0.005876</td>\n",
       "      <td>3.179103</td>\n",
       "    </tr>\n",
       "    <tr>\n",
       "      <td>1</td>\n",
       "      <td>62mP7</td>\n",
       "      <td>14.272088</td>\n",
       "      <td>-3.475083</td>\n",
       "      <td>0.999183</td>\n",
       "      <td>26.953261</td>\n",
       "    </tr>\n",
       "    <tr>\n",
       "      <td>2</td>\n",
       "      <td>vyE1P</td>\n",
       "      <td>6.263187</td>\n",
       "      <td>-5.948386</td>\n",
       "      <td>5.001160</td>\n",
       "      <td>134.766305</td>\n",
       "    </tr>\n",
       "    <tr>\n",
       "      <td>3</td>\n",
       "      <td>KcrkZ</td>\n",
       "      <td>-13.081196</td>\n",
       "      <td>-11.506057</td>\n",
       "      <td>4.999415</td>\n",
       "      <td>137.945408</td>\n",
       "    </tr>\n",
       "    <tr>\n",
       "      <td>4</td>\n",
       "      <td>AHL4O</td>\n",
       "      <td>12.702195</td>\n",
       "      <td>-8.147433</td>\n",
       "      <td>5.004363</td>\n",
       "      <td>134.766305</td>\n",
       "    </tr>\n",
       "  </tbody>\n",
       "</table>\n",
       "</div>"
      ],
      "text/plain": [
       "      id         f0         f1        f2     product\n",
       "0  kBEdx -15.001348  -8.276000 -0.005876    3.179103\n",
       "1  62mP7  14.272088  -3.475083  0.999183   26.953261\n",
       "2  vyE1P   6.263187  -5.948386  5.001160  134.766305\n",
       "3  KcrkZ -13.081196 -11.506057  4.999415  137.945408\n",
       "4  AHL4O  12.702195  -8.147433  5.004363  134.766305"
      ]
     },
     "metadata": {},
     "output_type": "display_data"
    },
    {
     "data": {
      "text/html": [
       "<div>\n",
       "<style scoped>\n",
       "    .dataframe tbody tr th:only-of-type {\n",
       "        vertical-align: middle;\n",
       "    }\n",
       "\n",
       "    .dataframe tbody tr th {\n",
       "        vertical-align: top;\n",
       "    }\n",
       "\n",
       "    .dataframe thead th {\n",
       "        text-align: right;\n",
       "    }\n",
       "</style>\n",
       "<table border=\"1\" class=\"dataframe\">\n",
       "  <thead>\n",
       "    <tr style=\"text-align: right;\">\n",
       "      <th></th>\n",
       "      <th>id</th>\n",
       "      <th>f0</th>\n",
       "      <th>f1</th>\n",
       "      <th>f2</th>\n",
       "      <th>product</th>\n",
       "    </tr>\n",
       "  </thead>\n",
       "  <tbody>\n",
       "    <tr>\n",
       "      <td>0</td>\n",
       "      <td>fwXo0</td>\n",
       "      <td>-1.146987</td>\n",
       "      <td>0.963328</td>\n",
       "      <td>-0.828965</td>\n",
       "      <td>27.758673</td>\n",
       "    </tr>\n",
       "    <tr>\n",
       "      <td>1</td>\n",
       "      <td>WJtFt</td>\n",
       "      <td>0.262778</td>\n",
       "      <td>0.269839</td>\n",
       "      <td>-2.530187</td>\n",
       "      <td>56.069697</td>\n",
       "    </tr>\n",
       "    <tr>\n",
       "      <td>2</td>\n",
       "      <td>ovLUW</td>\n",
       "      <td>0.194587</td>\n",
       "      <td>0.289035</td>\n",
       "      <td>-5.586433</td>\n",
       "      <td>62.871910</td>\n",
       "    </tr>\n",
       "    <tr>\n",
       "      <td>3</td>\n",
       "      <td>q6cA6</td>\n",
       "      <td>2.236060</td>\n",
       "      <td>-0.553760</td>\n",
       "      <td>0.930038</td>\n",
       "      <td>114.572842</td>\n",
       "    </tr>\n",
       "    <tr>\n",
       "      <td>4</td>\n",
       "      <td>WPMUX</td>\n",
       "      <td>-0.515993</td>\n",
       "      <td>1.716266</td>\n",
       "      <td>5.899011</td>\n",
       "      <td>149.600746</td>\n",
       "    </tr>\n",
       "  </tbody>\n",
       "</table>\n",
       "</div>"
      ],
      "text/plain": [
       "      id        f0        f1        f2     product\n",
       "0  fwXo0 -1.146987  0.963328 -0.828965   27.758673\n",
       "1  WJtFt  0.262778  0.269839 -2.530187   56.069697\n",
       "2  ovLUW  0.194587  0.289035 -5.586433   62.871910\n",
       "3  q6cA6  2.236060 -0.553760  0.930038  114.572842\n",
       "4  WPMUX -0.515993  1.716266  5.899011  149.600746"
      ]
     },
     "metadata": {},
     "output_type": "display_data"
    }
   ],
   "source": [
    "display(df_0.head())\n",
    "display(df_1.head())\n",
    "display(df_2.head())"
   ]
  },
  {
   "cell_type": "code",
   "execution_count": 4,
   "metadata": {},
   "outputs": [
    {
     "name": "stdout",
     "output_type": "stream",
     "text": [
      "<class 'pandas.core.frame.DataFrame'>\n",
      "RangeIndex: 100000 entries, 0 to 99999\n",
      "Data columns (total 5 columns):\n",
      "id         100000 non-null object\n",
      "f0         100000 non-null float64\n",
      "f1         100000 non-null float64\n",
      "f2         100000 non-null float64\n",
      "product    100000 non-null float64\n",
      "dtypes: float64(4), object(1)\n",
      "memory usage: 3.8+ MB\n"
     ]
    }
   ],
   "source": [
    "df_0.info()"
   ]
  },
  {
   "cell_type": "code",
   "execution_count": 5,
   "metadata": {},
   "outputs": [
    {
     "name": "stdout",
     "output_type": "stream",
     "text": [
      "<class 'pandas.core.frame.DataFrame'>\n",
      "RangeIndex: 100000 entries, 0 to 99999\n",
      "Data columns (total 5 columns):\n",
      "id         100000 non-null object\n",
      "f0         100000 non-null float64\n",
      "f1         100000 non-null float64\n",
      "f2         100000 non-null float64\n",
      "product    100000 non-null float64\n",
      "dtypes: float64(4), object(1)\n",
      "memory usage: 3.8+ MB\n"
     ]
    }
   ],
   "source": [
    "df_1.info()"
   ]
  },
  {
   "cell_type": "code",
   "execution_count": 6,
   "metadata": {},
   "outputs": [
    {
     "name": "stdout",
     "output_type": "stream",
     "text": [
      "<class 'pandas.core.frame.DataFrame'>\n",
      "RangeIndex: 100000 entries, 0 to 99999\n",
      "Data columns (total 5 columns):\n",
      "id         100000 non-null object\n",
      "f0         100000 non-null float64\n",
      "f1         100000 non-null float64\n",
      "f2         100000 non-null float64\n",
      "product    100000 non-null float64\n",
      "dtypes: float64(4), object(1)\n",
      "memory usage: 3.8+ MB\n"
     ]
    }
   ],
   "source": [
    "df_2.info()"
   ]
  },
  {
   "cell_type": "markdown",
   "metadata": {},
   "source": [
    "**Т.к. мы будем использовать данные с признаками для прогнозирования, то столбцы с id нам не нужны, удалим их из датасетов.**"
   ]
  },
  {
   "cell_type": "code",
   "execution_count": 7,
   "metadata": {},
   "outputs": [],
   "source": [
    "df_0 = df_0.drop('id', axis=1)\n",
    "df_1 = df_1.drop('id', axis=1)\n",
    "df_2 = df_2.drop('id', axis=1)"
   ]
  },
  {
   "cell_type": "code",
   "execution_count": 8,
   "metadata": {},
   "outputs": [
    {
     "data": {
      "text/html": [
       "<div>\n",
       "<style scoped>\n",
       "    .dataframe tbody tr th:only-of-type {\n",
       "        vertical-align: middle;\n",
       "    }\n",
       "\n",
       "    .dataframe tbody tr th {\n",
       "        vertical-align: top;\n",
       "    }\n",
       "\n",
       "    .dataframe thead th {\n",
       "        text-align: right;\n",
       "    }\n",
       "</style>\n",
       "<table border=\"1\" class=\"dataframe\">\n",
       "  <thead>\n",
       "    <tr style=\"text-align: right;\">\n",
       "      <th></th>\n",
       "      <th>f0</th>\n",
       "      <th>f1</th>\n",
       "      <th>f2</th>\n",
       "      <th>product</th>\n",
       "    </tr>\n",
       "  </thead>\n",
       "  <tbody>\n",
       "    <tr>\n",
       "      <td>0</td>\n",
       "      <td>0.705745</td>\n",
       "      <td>-0.497823</td>\n",
       "      <td>1.221170</td>\n",
       "      <td>105.280062</td>\n",
       "    </tr>\n",
       "    <tr>\n",
       "      <td>1</td>\n",
       "      <td>1.334711</td>\n",
       "      <td>-0.340164</td>\n",
       "      <td>4.365080</td>\n",
       "      <td>73.037750</td>\n",
       "    </tr>\n",
       "    <tr>\n",
       "      <td>2</td>\n",
       "      <td>1.022732</td>\n",
       "      <td>0.151990</td>\n",
       "      <td>1.419926</td>\n",
       "      <td>85.265647</td>\n",
       "    </tr>\n",
       "    <tr>\n",
       "      <td>3</td>\n",
       "      <td>-0.032172</td>\n",
       "      <td>0.139033</td>\n",
       "      <td>2.978566</td>\n",
       "      <td>168.620776</td>\n",
       "    </tr>\n",
       "    <tr>\n",
       "      <td>4</td>\n",
       "      <td>1.988431</td>\n",
       "      <td>0.155413</td>\n",
       "      <td>4.751769</td>\n",
       "      <td>154.036647</td>\n",
       "    </tr>\n",
       "  </tbody>\n",
       "</table>\n",
       "</div>"
      ],
      "text/plain": [
       "         f0        f1        f2     product\n",
       "0  0.705745 -0.497823  1.221170  105.280062\n",
       "1  1.334711 -0.340164  4.365080   73.037750\n",
       "2  1.022732  0.151990  1.419926   85.265647\n",
       "3 -0.032172  0.139033  2.978566  168.620776\n",
       "4  1.988431  0.155413  4.751769  154.036647"
      ]
     },
     "metadata": {},
     "output_type": "display_data"
    },
    {
     "data": {
      "text/html": [
       "<div>\n",
       "<style scoped>\n",
       "    .dataframe tbody tr th:only-of-type {\n",
       "        vertical-align: middle;\n",
       "    }\n",
       "\n",
       "    .dataframe tbody tr th {\n",
       "        vertical-align: top;\n",
       "    }\n",
       "\n",
       "    .dataframe thead th {\n",
       "        text-align: right;\n",
       "    }\n",
       "</style>\n",
       "<table border=\"1\" class=\"dataframe\">\n",
       "  <thead>\n",
       "    <tr style=\"text-align: right;\">\n",
       "      <th></th>\n",
       "      <th>f0</th>\n",
       "      <th>f1</th>\n",
       "      <th>f2</th>\n",
       "      <th>product</th>\n",
       "    </tr>\n",
       "  </thead>\n",
       "  <tbody>\n",
       "    <tr>\n",
       "      <td>0</td>\n",
       "      <td>-15.001348</td>\n",
       "      <td>-8.276000</td>\n",
       "      <td>-0.005876</td>\n",
       "      <td>3.179103</td>\n",
       "    </tr>\n",
       "    <tr>\n",
       "      <td>1</td>\n",
       "      <td>14.272088</td>\n",
       "      <td>-3.475083</td>\n",
       "      <td>0.999183</td>\n",
       "      <td>26.953261</td>\n",
       "    </tr>\n",
       "    <tr>\n",
       "      <td>2</td>\n",
       "      <td>6.263187</td>\n",
       "      <td>-5.948386</td>\n",
       "      <td>5.001160</td>\n",
       "      <td>134.766305</td>\n",
       "    </tr>\n",
       "    <tr>\n",
       "      <td>3</td>\n",
       "      <td>-13.081196</td>\n",
       "      <td>-11.506057</td>\n",
       "      <td>4.999415</td>\n",
       "      <td>137.945408</td>\n",
       "    </tr>\n",
       "    <tr>\n",
       "      <td>4</td>\n",
       "      <td>12.702195</td>\n",
       "      <td>-8.147433</td>\n",
       "      <td>5.004363</td>\n",
       "      <td>134.766305</td>\n",
       "    </tr>\n",
       "  </tbody>\n",
       "</table>\n",
       "</div>"
      ],
      "text/plain": [
       "          f0         f1        f2     product\n",
       "0 -15.001348  -8.276000 -0.005876    3.179103\n",
       "1  14.272088  -3.475083  0.999183   26.953261\n",
       "2   6.263187  -5.948386  5.001160  134.766305\n",
       "3 -13.081196 -11.506057  4.999415  137.945408\n",
       "4  12.702195  -8.147433  5.004363  134.766305"
      ]
     },
     "metadata": {},
     "output_type": "display_data"
    },
    {
     "data": {
      "text/html": [
       "<div>\n",
       "<style scoped>\n",
       "    .dataframe tbody tr th:only-of-type {\n",
       "        vertical-align: middle;\n",
       "    }\n",
       "\n",
       "    .dataframe tbody tr th {\n",
       "        vertical-align: top;\n",
       "    }\n",
       "\n",
       "    .dataframe thead th {\n",
       "        text-align: right;\n",
       "    }\n",
       "</style>\n",
       "<table border=\"1\" class=\"dataframe\">\n",
       "  <thead>\n",
       "    <tr style=\"text-align: right;\">\n",
       "      <th></th>\n",
       "      <th>f0</th>\n",
       "      <th>f1</th>\n",
       "      <th>f2</th>\n",
       "      <th>product</th>\n",
       "    </tr>\n",
       "  </thead>\n",
       "  <tbody>\n",
       "    <tr>\n",
       "      <td>0</td>\n",
       "      <td>-1.146987</td>\n",
       "      <td>0.963328</td>\n",
       "      <td>-0.828965</td>\n",
       "      <td>27.758673</td>\n",
       "    </tr>\n",
       "    <tr>\n",
       "      <td>1</td>\n",
       "      <td>0.262778</td>\n",
       "      <td>0.269839</td>\n",
       "      <td>-2.530187</td>\n",
       "      <td>56.069697</td>\n",
       "    </tr>\n",
       "    <tr>\n",
       "      <td>2</td>\n",
       "      <td>0.194587</td>\n",
       "      <td>0.289035</td>\n",
       "      <td>-5.586433</td>\n",
       "      <td>62.871910</td>\n",
       "    </tr>\n",
       "    <tr>\n",
       "      <td>3</td>\n",
       "      <td>2.236060</td>\n",
       "      <td>-0.553760</td>\n",
       "      <td>0.930038</td>\n",
       "      <td>114.572842</td>\n",
       "    </tr>\n",
       "    <tr>\n",
       "      <td>4</td>\n",
       "      <td>-0.515993</td>\n",
       "      <td>1.716266</td>\n",
       "      <td>5.899011</td>\n",
       "      <td>149.600746</td>\n",
       "    </tr>\n",
       "  </tbody>\n",
       "</table>\n",
       "</div>"
      ],
      "text/plain": [
       "         f0        f1        f2     product\n",
       "0 -1.146987  0.963328 -0.828965   27.758673\n",
       "1  0.262778  0.269839 -2.530187   56.069697\n",
       "2  0.194587  0.289035 -5.586433   62.871910\n",
       "3  2.236060 -0.553760  0.930038  114.572842\n",
       "4 -0.515993  1.716266  5.899011  149.600746"
      ]
     },
     "metadata": {},
     "output_type": "display_data"
    }
   ],
   "source": [
    "display(df_0.head())\n",
    "display(df_1.head())\n",
    "display(df_2.head())"
   ]
  },
  {
   "cell_type": "markdown",
   "metadata": {},
   "source": [
    "## Обучение и проверка модели"
   ]
  },
  {
   "cell_type": "markdown",
   "metadata": {},
   "source": [
    "Подготовим данные. Изначально выделим признаки и целевой признак, далее разделим на обучающую и валидационную выборки в соотношении 75:25."
   ]
  },
  {
   "cell_type": "code",
   "execution_count": 9,
   "metadata": {},
   "outputs": [
    {
     "name": "stdout",
     "output_type": "stream",
     "text": [
      "Для региона 0 средний запас предсказанного сырья составил 92.59256778438038 а RMSE модели 37.5794217150813\n",
      "Для региона 0 истинный средний запас сырья равен 92.07859674082927\n"
     ]
    }
   ],
   "source": [
    "target_0 = df_0['product']\n",
    "features_0 = df_0.drop(['product'] , axis=1)\n",
    "features_train_0, features_valid_0, target_train_0, target_valid_0 = train_test_split(\n",
    "    features_0, target_0, test_size=0.25, random_state=12345)\n",
    "\n",
    "#Обучим модель линейной регрессии, получим предсказания, средний запас предсказанного сырья и RMSE модели.\n",
    "model = LinearRegression()\n",
    "model.fit(features_train_0, target_train_0)\n",
    "predicted_valid_0 = model.predict(features_valid_0)\n",
    "mse_0 = mean_squared_error(target_valid_0, predicted_valid_0)\n",
    "predictions_valid_0 = pd.Series(predicted_valid_0)\n",
    "\n",
    "print('Для региона 0 средний запас предсказанного сырья составил', predictions_valid_0.mean(), 'а RMSE модели', mse_0 ** 0.5)\n",
    "print('Для региона 0 истинный средний запас сырья равен', target_valid_0.mean())"
   ]
  },
  {
   "cell_type": "code",
   "execution_count": 10,
   "metadata": {},
   "outputs": [
    {
     "name": "stdout",
     "output_type": "stream",
     "text": [
      "Для региона 1 средний запас предсказанного сырья составил 68.728546895446 а RMSE модели 0.893099286775616\n",
      "Для региона 1 истинный средний запас сырья равен 68.72313602435997\n"
     ]
    }
   ],
   "source": [
    "target_1 = df_1['product']\n",
    "features_1 = df_1.drop(['product'] , axis=1)\n",
    "features_train_1, features_valid_1, target_train_1, target_valid_1 = train_test_split(\n",
    "    features_1, target_1, test_size=0.25, random_state=12345)\n",
    "\n",
    "#Обучим модель линейной регрессии, получим предсказания, средний запас предсказанного сырья и RMSE модели.\n",
    "model = LinearRegression()\n",
    "model.fit(features_train_1, target_train_1)\n",
    "predicted_valid_1 = model.predict(features_valid_1)\n",
    "mse_1 = mean_squared_error(target_valid_1, predicted_valid_1)\n",
    "predictions_valid_1 = pd.Series(predicted_valid_1)\n",
    "\n",
    "print('Для региона 1 средний запас предсказанного сырья составил', predictions_valid_1.mean(), 'а RMSE модели', mse_1 ** 0.5)\n",
    "print('Для региона 1 истинный средний запас сырья равен', target_valid_1.mean())"
   ]
  },
  {
   "cell_type": "code",
   "execution_count": 11,
   "metadata": {},
   "outputs": [
    {
     "name": "stdout",
     "output_type": "stream",
     "text": [
      "Для региона 2 средний запас предсказанного сырья составил 94.96504596800489 а RMSE модели 40.02970873393434\n",
      "Для региона 2 истинный средний запас сырья равен 94.88423280885438\n"
     ]
    }
   ],
   "source": [
    "target_2 = df_2['product']\n",
    "features_2 = df_2.drop(['product'] , axis=1)\n",
    "features_train_2, features_valid_2, target_train_2, target_valid_2 = train_test_split(\n",
    "    features_2, target_2, test_size=0.25, random_state=12345)\n",
    "\n",
    "#Обучим модель линейной регрессии, получим предсказания, средний запас предсказанного сырья и RMSE модели.\n",
    "model = LinearRegression()\n",
    "model.fit(features_train_2, target_train_2)\n",
    "predicted_valid_2 = model.predict(features_valid_2)\n",
    "mse_2 = mean_squared_error(target_valid_2, predicted_valid_2)\n",
    "predictions_valid_2 = pd.Series(predicted_valid_2)\n",
    "\n",
    "print('Для региона 2 средний запас предсказанного сырья составил', predictions_valid_2.mean(), 'а RMSE модели', mse_2 ** 0.5)\n",
    "print('Для региона 2 истинный средний запас сырья равен', target_valid_2.mean())"
   ]
  },
  {
   "cell_type": "markdown",
   "metadata": {},
   "source": [
    "По результату проведенного моделирования можно сказать следующее:\n",
    "\n",
    "1. Все 3 модели предсказывают близкие к реальным значения, так как истинные средние запасы отличаются от предсказанных для каждой модели всего на несколько сотых.\n",
    "2. Наилучший прогноз у модели для региона 1. Предсказательные способности моделей для  регионов 0 и 2 примерно одинаковые."
   ]
  },
  {
   "cell_type": "markdown",
   "metadata": {},
   "source": [
    "## Подготовка к расчёту прибыли"
   ]
  },
  {
   "cell_type": "markdown",
   "metadata": {},
   "source": [
    "### Сохранение ключевых переменных"
   ]
  },
  {
   "cell_type": "code",
   "execution_count": 12,
   "metadata": {},
   "outputs": [],
   "source": [
    "explore_count = 500 # количество точек для исследования\n",
    "mining_count = 200 # количество точек для разработки\n",
    "mining_budget = 10000 # бюджет на разработку скважин в регионе в млн. руб.\n",
    "profit_per_barrel = 0.45 # доход с 1 тыс баррель в млн. руб\n",
    "loss_probability = 0.025 # максимальная вероятность убытков\n",
    "bootstrap_samples = 1000"
   ]
  },
  {
   "cell_type": "markdown",
   "metadata": {},
   "source": [
    "### Рассчитаем достаточный объём сырья для безубыточной разработки новой скважины. Сравним полученный объём сырья со средним запасом в каждом регионе."
   ]
  },
  {
   "cell_type": "code",
   "execution_count": 13,
   "metadata": {},
   "outputs": [
    {
     "name": "stdout",
     "output_type": "stream",
     "text": [
      "Необходимый объем сырья для безубыточной разработки 1 скважины в тыс. баррелей 111.11111111111111\n"
     ]
    }
   ],
   "source": [
    "budget_per_borehole = mining_budget / mining_count #посчитаем затраты на разработку одной скважины\n",
    "#посчитаем какой объем сырья необходим для безубыточной разработки 1 скважины в тыс. баррелей\n",
    "required_volume = budget_per_borehole / profit_per_barrel\n",
    "print('Необходимый объем сырья для безубыточной разработки 1 скважины в тыс. баррелей', required_volume)"
   ]
  },
  {
   "cell_type": "markdown",
   "metadata": {},
   "source": [
    "Необходимый объем сырья для того, чтобы разработка была окупаемой - 111 тысяч баррелей. Средние значения запасов сырья для всех трех регионов - ниже необходимого объема. При осуществлении разработки скважин, выбранных случайным образом, есть высокая вероятность не окупить затраченный бюджет. "
   ]
  },
  {
   "cell_type": "markdown",
   "metadata": {},
   "source": [
    "## Расчёт прибыли и рисков "
   ]
  },
  {
   "cell_type": "markdown",
   "metadata": {},
   "source": [
    "### Расчитаем прибыль 200 скважин с самыми высокими предсказаниями модели"
   ]
  },
  {
   "cell_type": "markdown",
   "metadata": {},
   "source": [
    "Напишем функцию для расчёта прибыли по выбранным скважинам и предсказаниям модели:\n",
    "- Выберем скважины с максимальными значениями предсказаний.\n",
    "- Просуммируем целевое значение объёма сырья, соответствующее этим предсказаниям.\n",
    "- Рассчитаем прибыль для полученного объёма сырья."
   ]
  },
  {
   "cell_type": "code",
   "execution_count": 14,
   "metadata": {},
   "outputs": [],
   "source": [
    "def income(target_valid, predictions_valid):\n",
    "    predictions_result = predictions_valid.sort_values(ascending=False).head(200) #выбираем 200 скважин с максимальным объемом запасов сырья\n",
    "    target_result = target_valid.reset_index(drop=True)[predictions_result.index] #находим реальные значения для отобранных 200 скважин\n",
    "    income = target_result.sum() * profit_per_barrel #доход с 200 скважин млн.руб.\n",
    "    return income"
   ]
  },
  {
   "cell_type": "code",
   "execution_count": 15,
   "metadata": {},
   "outputs": [
    {
     "name": "stdout",
     "output_type": "stream",
     "text": [
      "Прибыль с 200 выбранных по предсказаниям модели скважин составит:\n",
      "для региона 0 -  3320.826043139852 млн. руб.\n"
     ]
    }
   ],
   "source": [
    "print('Прибыль с 200 выбранных по предсказаниям модели скважин составит:')\n",
    "print('для региона 0 - ', income(target_valid_0, predictions_valid_0) - mining_budget,'млн. руб.')"
   ]
  },
  {
   "cell_type": "code",
   "execution_count": 16,
   "metadata": {},
   "outputs": [
    {
     "name": "stdout",
     "output_type": "stream",
     "text": [
      "Прибыль с 200 выбранных по предсказаниям модели скважин составит:\n",
      "для региона 1 -  2415.086696681512 млн. руб.\n"
     ]
    }
   ],
   "source": [
    "print('Прибыль с 200 выбранных по предсказаниям модели скважин составит:')\n",
    "print('для региона 1 - ', income(target_valid_1, predictions_valid_1) - mining_budget,'млн. руб.')"
   ]
  },
  {
   "cell_type": "code",
   "execution_count": 17,
   "metadata": {},
   "outputs": [
    {
     "name": "stdout",
     "output_type": "stream",
     "text": [
      "Прибыль с 200 выбранных по предсказаниям модели скважин составит:\n",
      "для региона 2 -  2710.3499635998323 млн. руб.\n"
     ]
    }
   ],
   "source": [
    "print('Прибыль с 200 выбранных по предсказаниям модели скважин составит:')\n",
    "print('для региона 2 - ', income(target_valid_2, predictions_valid_2) - mining_budget,'млн. руб.')"
   ]
  },
  {
   "cell_type": "markdown",
   "metadata": {},
   "source": [
    "Получаются очень высокие значения прибыли для каждого региона от 2.4 млрд руб. до 3.3 млрд руб. Но это значения полученные  при  проведении геологоразведки по 25000 точкам, а согласно требованиям задания, мы можем провести геологоразведку только по 500 точкам."
   ]
  },
  {
   "cell_type": "markdown",
   "metadata": {},
   "source": [
    "### Расчитаем прибыль и риски для каждого региона для 500 случайных скважин из 25000."
   ]
  },
  {
   "cell_type": "markdown",
   "metadata": {},
   "source": [
    "Функция похожа на предыдущую, только учитывается количество скважин по которым ведется поиск наибольших значений запасов."
   ]
  },
  {
   "cell_type": "code",
   "execution_count": 18,
   "metadata": {},
   "outputs": [],
   "source": [
    "def revenue (target_valid, predictions_valid, mining_count):\n",
    "    predictions_result = predictions_valid.sort_values(ascending=False) #сортируем скважины по значениям предсказаний\n",
    "    #определяем верные значения для отобранных случайным образом скважин и берем только нужное количество\n",
    "    target_result = target_valid[predictions_result.index][:mining_count]\n",
    "    income = target_result.sum() * profit_per_barrel #доход\n",
    "    return income"
   ]
  },
  {
   "cell_type": "markdown",
   "metadata": {},
   "source": [
    "- Применим технику Bootstrap с 1000 выборок, чтобы найти распределение прибыли.\n",
    "- Найдем среднюю прибыль, 95%-й доверительный интервал и риск убытков. Убыток — это отрицательная прибыль."
   ]
  },
  {
   "cell_type": "code",
   "execution_count": 19,
   "metadata": {},
   "outputs": [],
   "source": [
    "#создадим функцию для применения для каждого региона\n",
    "def income_calc (predictions_valid, target_valid, bootstrap_samples, explore_count):\n",
    "    state = np.random.RandomState(12345)\n",
    "    count = 0 #счетчик для подсчета вероятности убытков в регионе\n",
    "    values = [] #все значения выручек для 1000 выборок\n",
    "    for i in range(bootstrap_samples): #создаем 1000 выборок\n",
    "        #у целевого признака валидационной выборки удаляем индексы и случайно выбираем нужное количество скважин\n",
    "        target_subsample = target_valid.reset_index(drop=True).sample(explore_count, replace=True, random_state=state)\n",
    "        #из предсказаний выбираем строки соответствующие отобранным строкам в целевом признаке\n",
    "        prob_subsample = predictions_valid[target_subsample.index]\n",
    "        #считаем выручку для отобранных строк, для нужного количества скважин\n",
    "        rev = revenue(target_subsample, prob_subsample, mining_count) - mining_budget\n",
    "        #добавляем выручку в список выручек\n",
    "        values.append(rev)\n",
    "        #проверяем не является ли выборка убыточной, если да, то увеличиваем счетчик\n",
    "        if rev < 0:\n",
    "            count +=1\n",
    "    values = pd.Series(values)\n",
    "    #посчитаем и выведем среднюю выручку\n",
    "    mean = values.mean()\n",
    "    print(\"Средняя выручка:\", mean, 'млн рублей')\n",
    "    #посчитаем и выведем 95-% доверительный интервал\n",
    "    confidence_interval = st.t.interval(0.95, len(values)-1, values.mean(), np.std(values, ddof=1))\n",
    "    print(\"95%-ый доверительный интервал:\", confidence_interval)\n",
    "    #вероятноть убытков должна быть ниже 2.5%\n",
    "    pvalue = count / bootstrap_samples\n",
    "    if pvalue < loss_probability:\n",
    "        print('Вероятность убытков равна', pvalue * 100, '% и является меньше допустимой, регион подходит по критериям')\n",
    "    else:\n",
    "        print('Вероятность убытков равна', pvalue * 100, '% и является больше допустимой, регион не подходит по критериям')    "
   ]
  },
  {
   "cell_type": "code",
   "execution_count": 20,
   "metadata": {},
   "outputs": [
    {
     "name": "stdout",
     "output_type": "stream",
     "text": [
      "Для \"0\" региона при случайном выборе 500 скважин получаются следующие показатели\n",
      "Средняя выручка: 425.9385269105927 млн рублей\n",
      "95%-ый доверительный интервал: (-118.1730815867329, 970.0501354079183)\n",
      "Вероятность убытков равна 6.0 % и является больше допустимой, регион не подходит по критериям\n"
     ]
    }
   ],
   "source": [
    "print('Для \"0\" региона при случайном выборе 500 скважин получаются следующие показатели')\n",
    "income_calc(predictions_valid_0, target_valid_0, bootstrap_samples, explore_count)"
   ]
  },
  {
   "cell_type": "code",
   "execution_count": 21,
   "metadata": {},
   "outputs": [
    {
     "name": "stdout",
     "output_type": "stream",
     "text": [
      "Для \"1\" региона при случайном выборе 500 скважин получаются следующие показатели\n",
      "Средняя выручка: 515.2227734432902 млн рублей\n",
      "95%-ый доверительный интервал: (85.1119884768645, 945.3335584097158)\n",
      "Вероятность убытков равна 1.0 % и является меньше допустимой, регион подходит по критериям\n"
     ]
    }
   ],
   "source": [
    "print('Для \"1\" региона при случайном выборе 500 скважин получаются следующие показатели')\n",
    "income_calc(predictions_valid_1, target_valid_1, bootstrap_samples, explore_count)"
   ]
  },
  {
   "cell_type": "code",
   "execution_count": 22,
   "metadata": {},
   "outputs": [
    {
     "name": "stdout",
     "output_type": "stream",
     "text": [
      "Для \"2\" региона при случайном выборе 500 скважин получаются следующие показатели\n",
      "Средняя выручка: 435.00836278275585 млн рублей\n",
      "95%-ый доверительный интервал: (-120.12349557730545, 990.1402211428172)\n",
      "Вероятность убытков равна 6.4 % и является больше допустимой, регион не подходит по критериям\n"
     ]
    }
   ],
   "source": [
    "print('Для \"2\" региона при случайном выборе 500 скважин получаются следующие показатели')\n",
    "income_calc(predictions_valid_2, target_valid_2, bootstrap_samples, explore_count)"
   ]
  },
  {
   "cell_type": "markdown",
   "metadata": {},
   "source": [
    "**Можно сделать следующие выводы**\n",
    "\n",
    "При случайном выборе 500 скважин для проведения геологоразведки, потенциальная прибыль падает в несколько раз по сравнению с той, что была бы если бы мы проводили разведку для всего объема скважин.\n",
    "Исходя из расчитанной средней выручки - все три региона прибыльные.\n",
    "0-й и 2-й регионы имеют вероятность убытков выше допустимой по заданию, поэтому не подходят.\n",
    "1-й регион лидирует по всем показателям. Он обладает наибольшей средней прибылью, и единственный соответствует условию по минимальной вероятности убытков. Судя по данным для дальнейшей разработки заказчику предлагается принять только 1-й регион."
   ]
  },
  {
   "cell_type": "code",
   "execution_count": null,
   "metadata": {},
   "outputs": [],
   "source": []
  }
 ],
 "metadata": {
  "ExecuteTimeLog": [
   {
    "duration": 510,
    "start_time": "2022-01-28T16:16:22.659Z"
   },
   {
    "duration": 232,
    "start_time": "2022-01-28T16:17:57.859Z"
   },
   {
    "duration": 140,
    "start_time": "2022-01-28T16:18:02.617Z"
   },
   {
    "duration": 16,
    "start_time": "2022-01-28T16:18:14.351Z"
   },
   {
    "duration": 11,
    "start_time": "2022-01-28T16:19:15.414Z"
   },
   {
    "duration": 434,
    "start_time": "2022-01-28T16:34:40.875Z"
   },
   {
    "duration": 256,
    "start_time": "2022-01-28T16:41:35.905Z"
   },
   {
    "duration": 2,
    "start_time": "2022-01-28T16:45:07.147Z"
   },
   {
    "duration": 276,
    "start_time": "2022-01-28T16:46:47.359Z"
   },
   {
    "duration": 201,
    "start_time": "2022-01-28T16:50:28.686Z"
   },
   {
    "duration": 200,
    "start_time": "2022-01-28T16:50:36.783Z"
   },
   {
    "duration": 2,
    "start_time": "2022-01-28T16:50:42.779Z"
   },
   {
    "duration": 193,
    "start_time": "2022-01-28T16:50:46.670Z"
   },
   {
    "duration": 58,
    "start_time": "2022-01-28T16:51:21.335Z"
   },
   {
    "duration": 233,
    "start_time": "2022-01-28T16:51:54.920Z"
   },
   {
    "duration": 185,
    "start_time": "2022-01-28T16:52:23.163Z"
   },
   {
    "duration": 6,
    "start_time": "2022-01-28T16:52:31.961Z"
   },
   {
    "duration": 5,
    "start_time": "2022-01-28T16:55:14.495Z"
   },
   {
    "duration": 13,
    "start_time": "2022-01-28T16:55:19.672Z"
   },
   {
    "duration": 862,
    "start_time": "2022-01-28T16:56:41.192Z"
   },
   {
    "duration": 833,
    "start_time": "2022-01-28T17:02:59.551Z"
   },
   {
    "duration": 1090,
    "start_time": "2022-01-28T17:03:16.069Z"
   },
   {
    "duration": 992,
    "start_time": "2022-01-28T17:04:07.915Z"
   },
   {
    "duration": 112,
    "start_time": "2022-01-28T17:04:08.909Z"
   },
   {
    "duration": 15,
    "start_time": "2022-01-28T17:04:09.023Z"
   },
   {
    "duration": 14,
    "start_time": "2022-01-28T17:04:09.040Z"
   },
   {
    "duration": 226,
    "start_time": "2022-01-28T17:04:09.055Z"
   },
   {
    "duration": 6,
    "start_time": "2022-01-28T17:04:09.282Z"
   },
   {
    "duration": 6,
    "start_time": "2022-01-28T17:04:09.289Z"
   },
   {
    "duration": 16,
    "start_time": "2022-01-28T17:04:09.297Z"
   },
   {
    "duration": 12,
    "start_time": "2022-01-28T17:04:51.918Z"
   },
   {
    "duration": 833,
    "start_time": "2022-01-28T17:05:58.842Z"
   },
   {
    "duration": 1016,
    "start_time": "2022-01-28T17:06:11.185Z"
   },
   {
    "duration": 116,
    "start_time": "2022-01-28T17:06:12.203Z"
   },
   {
    "duration": 15,
    "start_time": "2022-01-28T17:06:12.321Z"
   },
   {
    "duration": 10,
    "start_time": "2022-01-28T17:06:12.338Z"
   },
   {
    "duration": 247,
    "start_time": "2022-01-28T17:06:12.349Z"
   },
   {
    "duration": 7,
    "start_time": "2022-01-28T17:06:12.597Z"
   },
   {
    "duration": 12,
    "start_time": "2022-01-28T17:06:12.612Z"
   },
   {
    "duration": 2,
    "start_time": "2022-01-28T17:06:12.625Z"
   },
   {
    "duration": 11,
    "start_time": "2022-01-28T17:06:26.996Z"
   },
   {
    "duration": 9,
    "start_time": "2022-01-28T17:06:41.100Z"
   },
   {
    "duration": 7,
    "start_time": "2022-01-28T17:08:10.686Z"
   },
   {
    "duration": 22,
    "start_time": "2022-01-28T17:09:34.564Z"
   },
   {
    "duration": 24,
    "start_time": "2022-01-28T17:11:02.399Z"
   },
   {
    "duration": 31,
    "start_time": "2022-01-28T17:11:33.475Z"
   },
   {
    "duration": 3,
    "start_time": "2022-01-28T17:19:40.600Z"
   },
   {
    "duration": 5,
    "start_time": "2022-01-28T17:19:47.170Z"
   },
   {
    "duration": 5,
    "start_time": "2022-01-28T17:20:34.411Z"
   },
   {
    "duration": 24,
    "start_time": "2022-01-28T17:20:57.451Z"
   },
   {
    "duration": 3,
    "start_time": "2022-01-28T17:21:22.506Z"
   },
   {
    "duration": 24,
    "start_time": "2022-01-28T17:23:14.034Z"
   },
   {
    "duration": 26,
    "start_time": "2022-01-28T17:23:33.759Z"
   },
   {
    "duration": 26,
    "start_time": "2022-01-28T17:23:37.611Z"
   },
   {
    "duration": 1018,
    "start_time": "2022-01-28T17:24:02.961Z"
   },
   {
    "duration": 128,
    "start_time": "2022-01-28T17:24:03.981Z"
   },
   {
    "duration": 18,
    "start_time": "2022-01-28T17:24:04.119Z"
   },
   {
    "duration": 12,
    "start_time": "2022-01-28T17:24:04.139Z"
   },
   {
    "duration": 308,
    "start_time": "2022-01-28T17:24:04.153Z"
   },
   {
    "duration": 6,
    "start_time": "2022-01-28T17:24:04.463Z"
   },
   {
    "duration": 13,
    "start_time": "2022-01-28T17:24:04.471Z"
   },
   {
    "duration": 28,
    "start_time": "2022-01-28T17:24:04.486Z"
   },
   {
    "duration": 32,
    "start_time": "2022-01-28T17:24:04.517Z"
   },
   {
    "duration": 14,
    "start_time": "2022-01-28T17:58:50.113Z"
   },
   {
    "duration": 6,
    "start_time": "2022-01-28T17:59:02.459Z"
   },
   {
    "duration": 7,
    "start_time": "2022-01-28T17:59:11.017Z"
   },
   {
    "duration": 1458,
    "start_time": "2022-01-29T12:14:34.096Z"
   },
   {
    "duration": 195,
    "start_time": "2022-01-29T12:14:35.556Z"
   },
   {
    "duration": 36,
    "start_time": "2022-01-29T12:14:35.754Z"
   },
   {
    "duration": 26,
    "start_time": "2022-01-29T12:14:35.794Z"
   },
   {
    "duration": 479,
    "start_time": "2022-01-29T12:14:35.822Z"
   },
   {
    "duration": 8,
    "start_time": "2022-01-29T12:14:36.304Z"
   },
   {
    "duration": 19,
    "start_time": "2022-01-29T12:14:36.315Z"
   },
   {
    "duration": 12,
    "start_time": "2022-01-29T12:14:36.336Z"
   },
   {
    "duration": 115,
    "start_time": "2022-01-29T12:14:36.372Z"
   },
   {
    "duration": 425,
    "start_time": "2022-01-29T12:22:15.959Z"
   },
   {
    "duration": 1320,
    "start_time": "2022-01-29T12:22:55.760Z"
   },
   {
    "duration": 164,
    "start_time": "2022-01-29T12:22:57.083Z"
   },
   {
    "duration": 33,
    "start_time": "2022-01-29T12:22:57.250Z"
   },
   {
    "duration": 19,
    "start_time": "2022-01-29T12:22:57.286Z"
   },
   {
    "duration": 8,
    "start_time": "2022-01-29T12:22:57.308Z"
   },
   {
    "duration": 56,
    "start_time": "2022-01-29T12:22:57.319Z"
   },
   {
    "duration": 92,
    "start_time": "2022-01-29T12:22:57.378Z"
   },
   {
    "duration": 85,
    "start_time": "2022-01-29T12:26:43.290Z"
   },
   {
    "duration": 43,
    "start_time": "2022-01-29T12:28:33.927Z"
   },
   {
    "duration": 64,
    "start_time": "2022-01-29T12:29:26.808Z"
   },
   {
    "duration": 37,
    "start_time": "2022-01-29T12:30:03.756Z"
   },
   {
    "duration": 4,
    "start_time": "2022-01-29T12:35:17.105Z"
   },
   {
    "duration": 5,
    "start_time": "2022-01-29T12:35:27.281Z"
   },
   {
    "duration": 5,
    "start_time": "2022-01-29T12:41:04.249Z"
   },
   {
    "duration": 4,
    "start_time": "2022-01-29T12:42:38.602Z"
   },
   {
    "duration": 4,
    "start_time": "2022-01-29T12:57:48.396Z"
   },
   {
    "duration": 36,
    "start_time": "2022-01-29T13:00:36.796Z"
   },
   {
    "duration": 5,
    "start_time": "2022-01-29T13:01:10.761Z"
   },
   {
    "duration": 670,
    "start_time": "2022-01-29T13:01:11.367Z"
   },
   {
    "duration": 43,
    "start_time": "2022-01-29T13:02:53.426Z"
   },
   {
    "duration": 4,
    "start_time": "2022-01-29T13:03:29.646Z"
   },
   {
    "duration": 11,
    "start_time": "2022-01-29T13:03:30.664Z"
   },
   {
    "duration": 5,
    "start_time": "2022-01-29T13:26:09.444Z"
   },
   {
    "duration": 86,
    "start_time": "2022-01-29T13:42:38.814Z"
   },
   {
    "duration": 9,
    "start_time": "2022-01-29T13:43:07.368Z"
   },
   {
    "duration": 740,
    "start_time": "2022-01-29T13:44:35.704Z"
   },
   {
    "duration": 6,
    "start_time": "2022-01-29T13:44:59.608Z"
   },
   {
    "duration": 4,
    "start_time": "2022-01-29T13:45:06.326Z"
   },
   {
    "duration": 6656,
    "start_time": "2022-01-29T13:45:12.133Z"
   },
   {
    "duration": 5,
    "start_time": "2022-01-29T13:45:59.279Z"
   },
   {
    "duration": 5579,
    "start_time": "2022-01-29T13:46:05.528Z"
   },
   {
    "duration": 1847,
    "start_time": "2022-01-29T13:55:39.655Z"
   },
   {
    "duration": 253,
    "start_time": "2022-01-29T13:55:41.505Z"
   },
   {
    "duration": 35,
    "start_time": "2022-01-29T13:55:41.762Z"
   },
   {
    "duration": 21,
    "start_time": "2022-01-29T13:55:41.801Z"
   },
   {
    "duration": 49,
    "start_time": "2022-01-29T13:55:41.825Z"
   },
   {
    "duration": 12,
    "start_time": "2022-01-29T13:55:41.877Z"
   },
   {
    "duration": 177,
    "start_time": "2022-01-29T13:55:41.892Z"
   },
   {
    "duration": 5,
    "start_time": "2022-01-29T13:55:42.074Z"
   },
   {
    "duration": 92,
    "start_time": "2022-01-29T13:55:42.082Z"
   },
   {
    "duration": 6,
    "start_time": "2022-01-29T13:55:42.177Z"
   },
   {
    "duration": 25,
    "start_time": "2022-01-29T13:55:42.186Z"
   },
   {
    "duration": 5,
    "start_time": "2022-01-29T13:55:42.215Z"
   },
   {
    "duration": 10,
    "start_time": "2022-01-29T13:55:42.222Z"
   },
   {
    "duration": 5601,
    "start_time": "2022-01-29T13:55:42.270Z"
   },
   {
    "duration": 485,
    "start_time": "2022-01-29T13:57:00.649Z"
   },
   {
    "duration": 15,
    "start_time": "2022-01-29T13:57:29.133Z"
   },
   {
    "duration": 15,
    "start_time": "2022-01-29T13:58:00.556Z"
   },
   {
    "duration": 30,
    "start_time": "2022-01-29T13:58:28.172Z"
   },
   {
    "duration": 17,
    "start_time": "2022-01-29T13:58:54.030Z"
   },
   {
    "duration": 17,
    "start_time": "2022-01-29T13:59:02.313Z"
   },
   {
    "duration": 479,
    "start_time": "2022-01-29T13:59:29.218Z"
   },
   {
    "duration": 273,
    "start_time": "2022-01-29T13:59:37.261Z"
   },
   {
    "duration": 1340,
    "start_time": "2022-01-29T13:59:52.544Z"
   },
   {
    "duration": 478,
    "start_time": "2022-01-29T13:59:53.887Z"
   },
   {
    "duration": 40,
    "start_time": "2022-01-29T13:59:54.367Z"
   },
   {
    "duration": 14,
    "start_time": "2022-01-29T13:59:54.409Z"
   },
   {
    "duration": 53,
    "start_time": "2022-01-29T13:59:54.426Z"
   },
   {
    "duration": 33,
    "start_time": "2022-01-29T13:59:54.482Z"
   },
   {
    "duration": 23,
    "start_time": "2022-01-29T13:59:54.517Z"
   },
   {
    "duration": 32,
    "start_time": "2022-01-29T13:59:54.543Z"
   },
   {
    "duration": 95,
    "start_time": "2022-01-29T13:59:54.579Z"
   },
   {
    "duration": 9,
    "start_time": "2022-01-29T13:59:54.680Z"
   },
   {
    "duration": 5,
    "start_time": "2022-01-29T13:59:54.771Z"
   },
   {
    "duration": 15,
    "start_time": "2022-01-29T13:59:54.779Z"
   },
   {
    "duration": 40,
    "start_time": "2022-01-29T13:59:54.796Z"
   },
   {
    "duration": 31,
    "start_time": "2022-01-29T13:59:54.838Z"
   },
   {
    "duration": 10,
    "start_time": "2022-01-29T13:59:54.871Z"
   },
   {
    "duration": 5708,
    "start_time": "2022-01-29T13:59:54.883Z"
   },
   {
    "duration": 28,
    "start_time": "2022-01-29T14:00:22.675Z"
   },
   {
    "duration": 55,
    "start_time": "2022-01-29T14:02:02.916Z"
   },
   {
    "duration": 38,
    "start_time": "2022-01-29T14:05:37.561Z"
   },
   {
    "duration": 55,
    "start_time": "2022-01-29T14:05:48.914Z"
   },
   {
    "duration": 49,
    "start_time": "2022-01-29T14:07:30.321Z"
   },
   {
    "duration": 11,
    "start_time": "2022-01-29T14:11:25.515Z"
   },
   {
    "duration": 12,
    "start_time": "2022-01-29T14:11:33.290Z"
   },
   {
    "duration": 11,
    "start_time": "2022-01-29T14:11:43.287Z"
   },
   {
    "duration": 5434,
    "start_time": "2022-01-29T14:12:32.452Z"
   },
   {
    "duration": 5613,
    "start_time": "2022-01-29T14:12:49.858Z"
   },
   {
    "duration": 5503,
    "start_time": "2022-01-29T14:13:20.655Z"
   },
   {
    "duration": 1350,
    "start_time": "2022-01-29T14:14:49.926Z"
   },
   {
    "duration": 469,
    "start_time": "2022-01-29T14:14:51.279Z"
   },
   {
    "duration": 50,
    "start_time": "2022-01-29T14:14:51.752Z"
   },
   {
    "duration": 17,
    "start_time": "2022-01-29T14:14:51.804Z"
   },
   {
    "duration": 54,
    "start_time": "2022-01-29T14:14:51.824Z"
   },
   {
    "duration": 16,
    "start_time": "2022-01-29T14:14:51.881Z"
   },
   {
    "duration": 24,
    "start_time": "2022-01-29T14:14:51.900Z"
   },
   {
    "duration": 60,
    "start_time": "2022-01-29T14:14:51.928Z"
   },
   {
    "duration": 82,
    "start_time": "2022-01-29T14:14:51.990Z"
   },
   {
    "duration": 130,
    "start_time": "2022-01-29T14:14:52.075Z"
   },
   {
    "duration": 130,
    "start_time": "2022-01-29T14:14:52.272Z"
   },
   {
    "duration": 6,
    "start_time": "2022-01-29T14:14:52.473Z"
   },
   {
    "duration": 8,
    "start_time": "2022-01-29T14:14:52.571Z"
   },
   {
    "duration": 6,
    "start_time": "2022-01-29T14:14:52.582Z"
   },
   {
    "duration": 22,
    "start_time": "2022-01-29T14:14:52.591Z"
   },
   {
    "duration": 57,
    "start_time": "2022-01-29T14:14:52.616Z"
   },
   {
    "duration": 11,
    "start_time": "2022-01-29T14:14:52.675Z"
   },
   {
    "duration": 25,
    "start_time": "2022-01-29T14:14:52.688Z"
   },
   {
    "duration": 23,
    "start_time": "2022-01-29T14:14:52.715Z"
   },
   {
    "duration": 5520,
    "start_time": "2022-01-29T14:14:52.741Z"
   },
   {
    "duration": 5730,
    "start_time": "2022-01-29T14:14:58.263Z"
   },
   {
    "duration": 5560,
    "start_time": "2022-01-29T14:15:03.996Z"
   },
   {
    "duration": 42,
    "start_time": "2022-01-29T14:18:01.727Z"
   },
   {
    "duration": 37,
    "start_time": "2022-01-29T14:18:34.133Z"
   },
   {
    "duration": 40,
    "start_time": "2022-01-29T14:19:10.043Z"
   },
   {
    "duration": 39,
    "start_time": "2022-01-29T14:19:32.636Z"
   },
   {
    "duration": 11,
    "start_time": "2022-01-29T14:22:13.067Z"
   },
   {
    "duration": 11,
    "start_time": "2022-01-29T14:22:42.019Z"
   },
   {
    "duration": 14,
    "start_time": "2022-01-29T14:22:56.922Z"
   },
   {
    "duration": 16,
    "start_time": "2022-01-29T14:24:04.012Z"
   },
   {
    "duration": 9,
    "start_time": "2022-01-29T14:28:36.986Z"
   },
   {
    "duration": 5727,
    "start_time": "2022-01-29T14:28:38.263Z"
   },
   {
    "duration": 5407,
    "start_time": "2022-01-29T14:28:46.870Z"
   },
   {
    "duration": 5482,
    "start_time": "2022-01-29T14:28:52.280Z"
   },
   {
    "duration": 4,
    "start_time": "2022-01-29T14:29:55.514Z"
   },
   {
    "duration": 1268,
    "start_time": "2022-01-29T14:30:08.206Z"
   },
   {
    "duration": 481,
    "start_time": "2022-01-29T14:30:09.477Z"
   },
   {
    "duration": 40,
    "start_time": "2022-01-29T14:30:09.961Z"
   },
   {
    "duration": 16,
    "start_time": "2022-01-29T14:30:10.003Z"
   },
   {
    "duration": 16,
    "start_time": "2022-01-29T14:30:10.070Z"
   },
   {
    "duration": 16,
    "start_time": "2022-01-29T14:30:10.088Z"
   },
   {
    "duration": 24,
    "start_time": "2022-01-29T14:30:10.107Z"
   },
   {
    "duration": 30,
    "start_time": "2022-01-29T14:30:10.170Z"
   },
   {
    "duration": 172,
    "start_time": "2022-01-29T14:30:10.204Z"
   },
   {
    "duration": 191,
    "start_time": "2022-01-29T14:30:10.380Z"
   },
   {
    "duration": 294,
    "start_time": "2022-01-29T14:30:10.575Z"
   },
   {
    "duration": 4,
    "start_time": "2022-01-29T14:30:10.872Z"
   },
   {
    "duration": 8,
    "start_time": "2022-01-29T14:30:10.879Z"
   },
   {
    "duration": 5,
    "start_time": "2022-01-29T14:30:10.890Z"
   },
   {
    "duration": 16,
    "start_time": "2022-01-29T14:30:10.897Z"
   },
   {
    "duration": 62,
    "start_time": "2022-01-29T14:30:10.916Z"
   },
   {
    "duration": 11,
    "start_time": "2022-01-29T14:30:10.981Z"
   },
   {
    "duration": 4,
    "start_time": "2022-01-29T14:30:10.995Z"
   },
   {
    "duration": 10,
    "start_time": "2022-01-29T14:30:11.002Z"
   },
   {
    "duration": 5738,
    "start_time": "2022-01-29T14:30:11.014Z"
   },
   {
    "duration": 5483,
    "start_time": "2022-01-29T14:30:16.754Z"
   },
   {
    "duration": 5499,
    "start_time": "2022-01-29T14:30:22.240Z"
   },
   {
    "duration": 9,
    "start_time": "2022-01-29T14:31:11.506Z"
   },
   {
    "duration": 5650,
    "start_time": "2022-01-29T14:31:12.004Z"
   },
   {
    "duration": 5485,
    "start_time": "2022-01-29T14:31:17.657Z"
   },
   {
    "duration": 5459,
    "start_time": "2022-01-29T14:31:23.145Z"
   },
   {
    "duration": 10,
    "start_time": "2022-01-29T14:31:35.615Z"
   },
   {
    "duration": 5398,
    "start_time": "2022-01-29T14:31:36.006Z"
   },
   {
    "duration": 5567,
    "start_time": "2022-01-29T14:31:41.407Z"
   },
   {
    "duration": 5424,
    "start_time": "2022-01-29T14:31:46.977Z"
   },
   {
    "duration": 1358,
    "start_time": "2022-01-29T14:32:25.530Z"
   },
   {
    "duration": 498,
    "start_time": "2022-01-29T14:32:26.891Z"
   },
   {
    "duration": 40,
    "start_time": "2022-01-29T14:32:27.392Z"
   },
   {
    "duration": 14,
    "start_time": "2022-01-29T14:32:27.435Z"
   },
   {
    "duration": 23,
    "start_time": "2022-01-29T14:32:27.451Z"
   },
   {
    "duration": 14,
    "start_time": "2022-01-29T14:32:27.476Z"
   },
   {
    "duration": 24,
    "start_time": "2022-01-29T14:32:27.493Z"
   },
   {
    "duration": 29,
    "start_time": "2022-01-29T14:32:27.520Z"
   },
   {
    "duration": 117,
    "start_time": "2022-01-29T14:32:27.552Z"
   },
   {
    "duration": 129,
    "start_time": "2022-01-29T14:32:27.673Z"
   },
   {
    "duration": 195,
    "start_time": "2022-01-29T14:32:27.875Z"
   },
   {
    "duration": 94,
    "start_time": "2022-01-29T14:32:28.077Z"
   },
   {
    "duration": 9,
    "start_time": "2022-01-29T14:32:28.173Z"
   },
   {
    "duration": 6,
    "start_time": "2022-01-29T14:32:28.185Z"
   },
   {
    "duration": 17,
    "start_time": "2022-01-29T14:32:28.194Z"
   },
   {
    "duration": 63,
    "start_time": "2022-01-29T14:32:28.214Z"
   },
   {
    "duration": 10,
    "start_time": "2022-01-29T14:32:28.279Z"
   },
   {
    "duration": 4,
    "start_time": "2022-01-29T14:32:28.291Z"
   },
   {
    "duration": 9,
    "start_time": "2022-01-29T14:32:28.298Z"
   },
   {
    "duration": 6288,
    "start_time": "2022-01-29T14:32:28.310Z"
   },
   {
    "duration": 5543,
    "start_time": "2022-01-29T14:32:34.601Z"
   },
   {
    "duration": 5752,
    "start_time": "2022-01-29T14:32:40.147Z"
   },
   {
    "duration": 986,
    "start_time": "2022-01-29T14:46:29.109Z"
   },
   {
    "duration": 316,
    "start_time": "2022-01-29T14:46:30.097Z"
   },
   {
    "duration": 23,
    "start_time": "2022-01-29T14:46:30.414Z"
   },
   {
    "duration": 10,
    "start_time": "2022-01-29T14:46:31.835Z"
   },
   {
    "duration": 9,
    "start_time": "2022-01-29T14:46:32.444Z"
   },
   {
    "duration": 8,
    "start_time": "2022-01-29T14:46:32.840Z"
   },
   {
    "duration": 15,
    "start_time": "2022-01-29T14:46:33.876Z"
   },
   {
    "duration": 16,
    "start_time": "2022-01-29T14:46:34.242Z"
   },
   {
    "duration": 77,
    "start_time": "2022-01-29T14:47:47.851Z"
   },
   {
    "duration": 27,
    "start_time": "2022-01-29T14:47:48.530Z"
   },
   {
    "duration": 106,
    "start_time": "2022-01-29T14:47:49.322Z"
   },
   {
    "duration": 3,
    "start_time": "2022-01-29T14:50:20.240Z"
   },
   {
    "duration": 3,
    "start_time": "2022-01-29T14:50:21.399Z"
   },
   {
    "duration": 3,
    "start_time": "2022-01-29T14:50:51.160Z"
   },
   {
    "duration": 7,
    "start_time": "2022-01-29T14:50:52.220Z"
   },
   {
    "duration": 8,
    "start_time": "2022-01-29T14:50:52.599Z"
   },
   {
    "duration": 7,
    "start_time": "2022-01-29T14:50:53.178Z"
   },
   {
    "duration": 3,
    "start_time": "2022-01-29T14:51:08.451Z"
   },
   {
    "duration": 6,
    "start_time": "2022-01-29T14:51:12.047Z"
   },
   {
    "duration": 2933,
    "start_time": "2022-01-29T14:51:13.429Z"
   },
   {
    "duration": 3042,
    "start_time": "2022-01-29T14:51:16.364Z"
   },
   {
    "duration": 2948,
    "start_time": "2022-01-29T14:51:19.407Z"
   },
   {
    "duration": 1145,
    "start_time": "2022-01-29T19:34:36.908Z"
   },
   {
    "duration": 392,
    "start_time": "2022-01-29T19:34:38.055Z"
   },
   {
    "duration": 28,
    "start_time": "2022-01-29T19:34:38.450Z"
   },
   {
    "duration": 27,
    "start_time": "2022-01-29T19:34:38.480Z"
   },
   {
    "duration": 13,
    "start_time": "2022-01-29T19:34:38.509Z"
   },
   {
    "duration": 11,
    "start_time": "2022-01-29T19:34:38.524Z"
   },
   {
    "duration": 19,
    "start_time": "2022-01-29T19:34:38.537Z"
   },
   {
    "duration": 49,
    "start_time": "2022-01-29T19:34:38.559Z"
   },
   {
    "duration": 32,
    "start_time": "2022-01-29T19:34:38.610Z"
   },
   {
    "duration": 119,
    "start_time": "2022-01-29T19:34:38.709Z"
   },
   {
    "duration": 196,
    "start_time": "2022-01-29T19:34:38.830Z"
   },
   {
    "duration": 79,
    "start_time": "2022-01-29T19:34:39.029Z"
   },
   {
    "duration": 5,
    "start_time": "2022-01-29T19:34:39.111Z"
   },
   {
    "duration": 96,
    "start_time": "2022-01-29T19:34:39.118Z"
   },
   {
    "duration": 12,
    "start_time": "2022-01-29T19:34:39.216Z"
   },
   {
    "duration": 9,
    "start_time": "2022-01-29T19:34:39.230Z"
   },
   {
    "duration": 9,
    "start_time": "2022-01-29T19:34:39.241Z"
   },
   {
    "duration": 3,
    "start_time": "2022-01-29T19:34:39.252Z"
   },
   {
    "duration": 7,
    "start_time": "2022-01-29T19:34:39.257Z"
   },
   {
    "duration": 3918,
    "start_time": "2022-01-29T19:34:39.308Z"
   },
   {
    "duration": 3712,
    "start_time": "2022-01-29T19:34:43.228Z"
   },
   {
    "duration": 3668,
    "start_time": "2022-01-29T19:34:46.941Z"
   },
   {
    "duration": 14,
    "start_time": "2022-01-29T19:40:08.829Z"
   },
   {
    "duration": 13,
    "start_time": "2022-01-29T19:41:04.176Z"
   },
   {
    "duration": 13,
    "start_time": "2022-01-29T19:41:20.082Z"
   },
   {
    "duration": 1108,
    "start_time": "2022-01-29T19:52:46.846Z"
   },
   {
    "duration": 400,
    "start_time": "2022-01-29T19:52:47.956Z"
   },
   {
    "duration": 27,
    "start_time": "2022-01-29T19:52:48.358Z"
   },
   {
    "duration": 27,
    "start_time": "2022-01-29T19:52:48.387Z"
   },
   {
    "duration": 11,
    "start_time": "2022-01-29T19:52:48.416Z"
   },
   {
    "duration": 11,
    "start_time": "2022-01-29T19:52:48.429Z"
   },
   {
    "duration": 18,
    "start_time": "2022-01-29T19:52:48.442Z"
   },
   {
    "duration": 54,
    "start_time": "2022-01-29T19:52:48.463Z"
   },
   {
    "duration": 14,
    "start_time": "2022-01-29T19:52:48.519Z"
   },
   {
    "duration": 12,
    "start_time": "2022-01-29T19:52:48.535Z"
   },
   {
    "duration": 12,
    "start_time": "2022-01-29T19:52:48.549Z"
   },
   {
    "duration": 143,
    "start_time": "2022-01-29T19:52:48.563Z"
   },
   {
    "duration": 98,
    "start_time": "2022-01-29T19:52:48.809Z"
   },
   {
    "duration": 197,
    "start_time": "2022-01-29T19:52:48.910Z"
   },
   {
    "duration": 5,
    "start_time": "2022-01-29T19:52:49.110Z"
   },
   {
    "duration": 102,
    "start_time": "2022-01-29T19:52:49.117Z"
   },
   {
    "duration": 8,
    "start_time": "2022-01-29T19:52:49.221Z"
   },
   {
    "duration": 18,
    "start_time": "2022-01-29T19:52:49.231Z"
   },
   {
    "duration": 8,
    "start_time": "2022-01-29T19:52:49.251Z"
   },
   {
    "duration": 9,
    "start_time": "2022-01-29T19:52:49.261Z"
   },
   {
    "duration": 5,
    "start_time": "2022-01-29T19:52:49.273Z"
   },
   {
    "duration": 32,
    "start_time": "2022-01-29T19:52:49.280Z"
   },
   {
    "duration": 3760,
    "start_time": "2022-01-29T19:52:49.315Z"
   },
   {
    "duration": 3545,
    "start_time": "2022-01-29T19:52:53.077Z"
   },
   {
    "duration": 3946,
    "start_time": "2022-01-29T19:52:56.624Z"
   },
   {
    "duration": 1155,
    "start_time": "2022-01-30T15:38:50.677Z"
   },
   {
    "duration": 397,
    "start_time": "2022-01-30T15:38:51.834Z"
   },
   {
    "duration": 29,
    "start_time": "2022-01-30T15:38:52.233Z"
   },
   {
    "duration": 10,
    "start_time": "2022-01-30T15:38:52.264Z"
   },
   {
    "duration": 12,
    "start_time": "2022-01-30T15:38:52.298Z"
   },
   {
    "duration": 10,
    "start_time": "2022-01-30T15:38:52.312Z"
   },
   {
    "duration": 19,
    "start_time": "2022-01-30T15:38:52.324Z"
   },
   {
    "duration": 22,
    "start_time": "2022-01-30T15:38:52.346Z"
   },
   {
    "duration": 48,
    "start_time": "2022-01-30T15:38:52.372Z"
   },
   {
    "duration": 14,
    "start_time": "2022-01-30T15:38:52.422Z"
   },
   {
    "duration": 13,
    "start_time": "2022-01-30T15:38:52.438Z"
   },
   {
    "duration": 64,
    "start_time": "2022-01-30T15:38:52.453Z"
   },
   {
    "duration": 127,
    "start_time": "2022-01-30T15:38:52.600Z"
   },
   {
    "duration": 126,
    "start_time": "2022-01-30T15:38:52.800Z"
   },
   {
    "duration": 70,
    "start_time": "2022-01-30T15:38:52.929Z"
   },
   {
    "duration": 104,
    "start_time": "2022-01-30T15:38:53.002Z"
   },
   {
    "duration": 5,
    "start_time": "2022-01-30T15:38:53.109Z"
   },
   {
    "duration": 19,
    "start_time": "2022-01-30T15:38:53.116Z"
   },
   {
    "duration": 13,
    "start_time": "2022-01-30T15:38:53.137Z"
   },
   {
    "duration": 11,
    "start_time": "2022-01-30T15:38:53.152Z"
   },
   {
    "duration": 3,
    "start_time": "2022-01-30T15:38:53.165Z"
   },
   {
    "duration": 6,
    "start_time": "2022-01-30T15:38:53.199Z"
   },
   {
    "duration": 3484,
    "start_time": "2022-01-30T15:38:53.208Z"
   },
   {
    "duration": 3464,
    "start_time": "2022-01-30T15:38:56.694Z"
   },
   {
    "duration": 3634,
    "start_time": "2022-01-30T15:39:00.159Z"
   },
   {
    "duration": 1107,
    "start_time": "2022-01-31T12:42:31.755Z"
   },
   {
    "duration": 392,
    "start_time": "2022-01-31T12:42:32.864Z"
   },
   {
    "duration": 29,
    "start_time": "2022-01-31T12:42:33.258Z"
   },
   {
    "duration": 24,
    "start_time": "2022-01-31T12:42:33.289Z"
   },
   {
    "duration": 14,
    "start_time": "2022-01-31T12:42:33.315Z"
   },
   {
    "duration": 11,
    "start_time": "2022-01-31T12:42:33.331Z"
   },
   {
    "duration": 21,
    "start_time": "2022-01-31T12:42:33.344Z"
   },
   {
    "duration": 42,
    "start_time": "2022-01-31T12:42:33.367Z"
   },
   {
    "duration": 99,
    "start_time": "2022-01-31T12:42:33.412Z"
   },
   {
    "duration": 195,
    "start_time": "2022-01-31T12:42:33.514Z"
   },
   {
    "duration": 124,
    "start_time": "2022-01-31T12:42:33.711Z"
   },
   {
    "duration": 4,
    "start_time": "2022-01-31T12:42:33.909Z"
   },
   {
    "duration": 104,
    "start_time": "2022-01-31T12:42:33.915Z"
   },
   {
    "duration": 13,
    "start_time": "2022-01-31T12:42:34.021Z"
   },
   {
    "duration": 13,
    "start_time": "2022-01-31T12:42:34.036Z"
   },
   {
    "duration": 26,
    "start_time": "2022-01-31T12:42:34.051Z"
   },
   {
    "duration": 10,
    "start_time": "2022-01-31T12:42:34.078Z"
   },
   {
    "duration": 3,
    "start_time": "2022-01-31T12:42:34.091Z"
   },
   {
    "duration": 9,
    "start_time": "2022-01-31T12:42:34.097Z"
   },
   {
    "duration": 3811,
    "start_time": "2022-01-31T12:42:34.108Z"
   },
   {
    "duration": 3705,
    "start_time": "2022-01-31T12:42:37.921Z"
   },
   {
    "duration": 3549,
    "start_time": "2022-01-31T12:42:41.628Z"
   }
  ],
  "kernelspec": {
   "display_name": "Python 3",
   "language": "python",
   "name": "python3"
  },
  "language_info": {
   "codemirror_mode": {
    "name": "ipython",
    "version": 3
   },
   "file_extension": ".py",
   "mimetype": "text/x-python",
   "name": "python",
   "nbconvert_exporter": "python",
   "pygments_lexer": "ipython3",
   "version": "3.7.8"
  },
  "toc": {
   "base_numbering": 1,
   "nav_menu": {},
   "number_sections": true,
   "sideBar": true,
   "skip_h1_title": true,
   "title_cell": "Table of Contents",
   "title_sidebar": "Contents",
   "toc_cell": false,
   "toc_position": {},
   "toc_section_display": true,
   "toc_window_display": false
  }
 },
 "nbformat": 4,
 "nbformat_minor": 2
}
