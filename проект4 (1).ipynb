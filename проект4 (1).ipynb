{
 "cells": [
  {
   "cell_type": "markdown",
   "metadata": {},
   "source": [
    "# Определение перспективного тарифа для телеком-компании\n",
    "\n",
    "В компании «Мегалайн» — федерального оператора сотовой связи, клиентам предлагают два тарифных плана: «Смарт» и «Ультра». Чтобы скорректировать рекламный бюджет, коммерческий департамент хочет понять, какой тариф приносит больше денег.\n",
    "Нам предстоит сделать предварительный анализ тарифов на небольшой выборке клиентов. В нашем распоряжении данные 500 пользователей «Мегалайна»: кто они, откуда, каким тарифом пользуются, сколько звонков и сообщений каждый отправил за 2018 год. Нужно проанализировать поведение клиентов и сделать вывод — какой тариф лучше."
   ]
  },
  {
   "cell_type": "markdown",
   "metadata": {},
   "source": [
    "## Изучение данных из файлов"
   ]
  },
  {
   "cell_type": "code",
   "execution_count": 1,
   "metadata": {},
   "outputs": [],
   "source": [
    "import pandas as pd"
   ]
  },
  {
   "cell_type": "code",
   "execution_count": 2,
   "metadata": {},
   "outputs": [],
   "source": [
    "#откроем файл с данными и изучим общую информацию\n",
    "df_calls = pd.read_csv('/datasets/calls.csv') #Таблица calls (информация о звонках)\n",
    "df_internet = pd.read_csv('/datasets/internet.csv', index_col=0) #Таблица internet (информация об интернет-сессиях)\n",
    "df_messages = pd.read_csv('/datasets/messages.csv') #Таблица messages (информация о сообщениях)\n",
    "df_tariffs = pd.read_csv('/datasets/tariffs.csv') #Таблица tariffs (информация о тарифах)\n",
    "df_users = pd.read_csv('/datasets/users.csv') #Таблица users (информация о пользователях)"
   ]
  },
  {
   "cell_type": "markdown",
   "metadata": {},
   "source": [
    "### Таблица df_calls"
   ]
  },
  {
   "cell_type": "code",
   "execution_count": 3,
   "metadata": {},
   "outputs": [
    {
     "data": {
      "text/html": [
       "<div>\n",
       "<style scoped>\n",
       "    .dataframe tbody tr th:only-of-type {\n",
       "        vertical-align: middle;\n",
       "    }\n",
       "\n",
       "    .dataframe tbody tr th {\n",
       "        vertical-align: top;\n",
       "    }\n",
       "\n",
       "    .dataframe thead th {\n",
       "        text-align: right;\n",
       "    }\n",
       "</style>\n",
       "<table border=\"1\" class=\"dataframe\">\n",
       "  <thead>\n",
       "    <tr style=\"text-align: right;\">\n",
       "      <th></th>\n",
       "      <th>id</th>\n",
       "      <th>call_date</th>\n",
       "      <th>duration</th>\n",
       "      <th>user_id</th>\n",
       "    </tr>\n",
       "  </thead>\n",
       "  <tbody>\n",
       "    <tr>\n",
       "      <td>0</td>\n",
       "      <td>1000_0</td>\n",
       "      <td>2018-07-25</td>\n",
       "      <td>0.00</td>\n",
       "      <td>1000</td>\n",
       "    </tr>\n",
       "    <tr>\n",
       "      <td>1</td>\n",
       "      <td>1000_1</td>\n",
       "      <td>2018-08-17</td>\n",
       "      <td>0.00</td>\n",
       "      <td>1000</td>\n",
       "    </tr>\n",
       "    <tr>\n",
       "      <td>2</td>\n",
       "      <td>1000_2</td>\n",
       "      <td>2018-06-11</td>\n",
       "      <td>2.85</td>\n",
       "      <td>1000</td>\n",
       "    </tr>\n",
       "    <tr>\n",
       "      <td>3</td>\n",
       "      <td>1000_3</td>\n",
       "      <td>2018-09-21</td>\n",
       "      <td>13.80</td>\n",
       "      <td>1000</td>\n",
       "    </tr>\n",
       "    <tr>\n",
       "      <td>4</td>\n",
       "      <td>1000_4</td>\n",
       "      <td>2018-12-15</td>\n",
       "      <td>5.18</td>\n",
       "      <td>1000</td>\n",
       "    </tr>\n",
       "  </tbody>\n",
       "</table>\n",
       "</div>"
      ],
      "text/plain": [
       "       id   call_date  duration  user_id\n",
       "0  1000_0  2018-07-25      0.00     1000\n",
       "1  1000_1  2018-08-17      0.00     1000\n",
       "2  1000_2  2018-06-11      2.85     1000\n",
       "3  1000_3  2018-09-21     13.80     1000\n",
       "4  1000_4  2018-12-15      5.18     1000"
      ]
     },
     "execution_count": 3,
     "metadata": {},
     "output_type": "execute_result"
    }
   ],
   "source": [
    "df_calls.head()"
   ]
  },
  {
   "cell_type": "code",
   "execution_count": 4,
   "metadata": {},
   "outputs": [
    {
     "name": "stdout",
     "output_type": "stream",
     "text": [
      "<class 'pandas.core.frame.DataFrame'>\n",
      "RangeIndex: 202607 entries, 0 to 202606\n",
      "Data columns (total 4 columns):\n",
      "id           202607 non-null object\n",
      "call_date    202607 non-null object\n",
      "duration     202607 non-null float64\n",
      "user_id      202607 non-null int64\n",
      "dtypes: float64(1), int64(1), object(2)\n",
      "memory usage: 6.2+ MB\n"
     ]
    }
   ],
   "source": [
    "df_calls.info()"
   ]
  },
  {
   "cell_type": "markdown",
   "metadata": {},
   "source": [
    "**Пропусков в данных у нас нет, изменим только тип данных для одного столбца.**"
   ]
  },
  {
   "cell_type": "code",
   "execution_count": 5,
   "metadata": {},
   "outputs": [],
   "source": [
    "#так как это дата, то приведем тип данных к datetime.\n",
    "df_calls['call_date'] = pd.to_datetime(df_calls['call_date'], format='%Y-%m-%d')"
   ]
  },
  {
   "cell_type": "markdown",
   "metadata": {},
   "source": [
    "**Округлим значения в столбце duration в большую сторону до целых минут**"
   ]
  },
  {
   "cell_type": "code",
   "execution_count": 6,
   "metadata": {},
   "outputs": [],
   "source": [
    "import numpy as np"
   ]
  },
  {
   "cell_type": "code",
   "execution_count": 7,
   "metadata": {},
   "outputs": [],
   "source": [
    "df_calls['duration'] = np.ceil(df_calls['duration'])"
   ]
  },
  {
   "cell_type": "code",
   "execution_count": 8,
   "metadata": {},
   "outputs": [
    {
     "data": {
      "text/html": [
       "<div>\n",
       "<style scoped>\n",
       "    .dataframe tbody tr th:only-of-type {\n",
       "        vertical-align: middle;\n",
       "    }\n",
       "\n",
       "    .dataframe tbody tr th {\n",
       "        vertical-align: top;\n",
       "    }\n",
       "\n",
       "    .dataframe thead th {\n",
       "        text-align: right;\n",
       "    }\n",
       "</style>\n",
       "<table border=\"1\" class=\"dataframe\">\n",
       "  <thead>\n",
       "    <tr style=\"text-align: right;\">\n",
       "      <th></th>\n",
       "      <th>id</th>\n",
       "      <th>call_date</th>\n",
       "      <th>duration</th>\n",
       "      <th>user_id</th>\n",
       "    </tr>\n",
       "  </thead>\n",
       "  <tbody>\n",
       "    <tr>\n",
       "      <td>0</td>\n",
       "      <td>1000_0</td>\n",
       "      <td>2018-07-25</td>\n",
       "      <td>0.0</td>\n",
       "      <td>1000</td>\n",
       "    </tr>\n",
       "    <tr>\n",
       "      <td>1</td>\n",
       "      <td>1000_1</td>\n",
       "      <td>2018-08-17</td>\n",
       "      <td>0.0</td>\n",
       "      <td>1000</td>\n",
       "    </tr>\n",
       "    <tr>\n",
       "      <td>2</td>\n",
       "      <td>1000_2</td>\n",
       "      <td>2018-06-11</td>\n",
       "      <td>3.0</td>\n",
       "      <td>1000</td>\n",
       "    </tr>\n",
       "    <tr>\n",
       "      <td>3</td>\n",
       "      <td>1000_3</td>\n",
       "      <td>2018-09-21</td>\n",
       "      <td>14.0</td>\n",
       "      <td>1000</td>\n",
       "    </tr>\n",
       "    <tr>\n",
       "      <td>4</td>\n",
       "      <td>1000_4</td>\n",
       "      <td>2018-12-15</td>\n",
       "      <td>6.0</td>\n",
       "      <td>1000</td>\n",
       "    </tr>\n",
       "  </tbody>\n",
       "</table>\n",
       "</div>"
      ],
      "text/plain": [
       "       id  call_date  duration  user_id\n",
       "0  1000_0 2018-07-25       0.0     1000\n",
       "1  1000_1 2018-08-17       0.0     1000\n",
       "2  1000_2 2018-06-11       3.0     1000\n",
       "3  1000_3 2018-09-21      14.0     1000\n",
       "4  1000_4 2018-12-15       6.0     1000"
      ]
     },
     "execution_count": 8,
     "metadata": {},
     "output_type": "execute_result"
    }
   ],
   "source": [
    "df_calls.head()"
   ]
  },
  {
   "cell_type": "markdown",
   "metadata": {},
   "source": [
    "### Таблица df_internet"
   ]
  },
  {
   "cell_type": "code",
   "execution_count": 9,
   "metadata": {},
   "outputs": [
    {
     "data": {
      "text/html": [
       "<div>\n",
       "<style scoped>\n",
       "    .dataframe tbody tr th:only-of-type {\n",
       "        vertical-align: middle;\n",
       "    }\n",
       "\n",
       "    .dataframe tbody tr th {\n",
       "        vertical-align: top;\n",
       "    }\n",
       "\n",
       "    .dataframe thead th {\n",
       "        text-align: right;\n",
       "    }\n",
       "</style>\n",
       "<table border=\"1\" class=\"dataframe\">\n",
       "  <thead>\n",
       "    <tr style=\"text-align: right;\">\n",
       "      <th></th>\n",
       "      <th>id</th>\n",
       "      <th>mb_used</th>\n",
       "      <th>session_date</th>\n",
       "      <th>user_id</th>\n",
       "    </tr>\n",
       "  </thead>\n",
       "  <tbody>\n",
       "    <tr>\n",
       "      <td>0</td>\n",
       "      <td>1000_0</td>\n",
       "      <td>112.95</td>\n",
       "      <td>2018-11-25</td>\n",
       "      <td>1000</td>\n",
       "    </tr>\n",
       "    <tr>\n",
       "      <td>1</td>\n",
       "      <td>1000_1</td>\n",
       "      <td>1052.81</td>\n",
       "      <td>2018-09-07</td>\n",
       "      <td>1000</td>\n",
       "    </tr>\n",
       "    <tr>\n",
       "      <td>2</td>\n",
       "      <td>1000_2</td>\n",
       "      <td>1197.26</td>\n",
       "      <td>2018-06-25</td>\n",
       "      <td>1000</td>\n",
       "    </tr>\n",
       "    <tr>\n",
       "      <td>3</td>\n",
       "      <td>1000_3</td>\n",
       "      <td>550.27</td>\n",
       "      <td>2018-08-22</td>\n",
       "      <td>1000</td>\n",
       "    </tr>\n",
       "    <tr>\n",
       "      <td>4</td>\n",
       "      <td>1000_4</td>\n",
       "      <td>302.56</td>\n",
       "      <td>2018-09-24</td>\n",
       "      <td>1000</td>\n",
       "    </tr>\n",
       "  </tbody>\n",
       "</table>\n",
       "</div>"
      ],
      "text/plain": [
       "       id  mb_used session_date  user_id\n",
       "0  1000_0   112.95   2018-11-25     1000\n",
       "1  1000_1  1052.81   2018-09-07     1000\n",
       "2  1000_2  1197.26   2018-06-25     1000\n",
       "3  1000_3   550.27   2018-08-22     1000\n",
       "4  1000_4   302.56   2018-09-24     1000"
      ]
     },
     "execution_count": 9,
     "metadata": {},
     "output_type": "execute_result"
    }
   ],
   "source": [
    "df_internet.head()"
   ]
  },
  {
   "cell_type": "code",
   "execution_count": 10,
   "metadata": {},
   "outputs": [
    {
     "name": "stdout",
     "output_type": "stream",
     "text": [
      "<class 'pandas.core.frame.DataFrame'>\n",
      "Int64Index: 149396 entries, 0 to 149395\n",
      "Data columns (total 4 columns):\n",
      "id              149396 non-null object\n",
      "mb_used         149396 non-null float64\n",
      "session_date    149396 non-null object\n",
      "user_id         149396 non-null int64\n",
      "dtypes: float64(1), int64(1), object(2)\n",
      "memory usage: 5.7+ MB\n"
     ]
    }
   ],
   "source": [
    "df_internet.info()"
   ]
  },
  {
   "cell_type": "markdown",
   "metadata": {},
   "source": [
    "**Пропусков в данных у нас также нет, изменим только тип данных для одного столбца.**"
   ]
  },
  {
   "cell_type": "code",
   "execution_count": 11,
   "metadata": {},
   "outputs": [],
   "source": [
    "#так как это дата, то приведем тип данных к datetime.\n",
    "df_internet['session_date'] = pd.to_datetime(df_internet['session_date'], format='%Y-%m-%d')"
   ]
  },
  {
   "cell_type": "code",
   "execution_count": 12,
   "metadata": {},
   "outputs": [
    {
     "data": {
      "text/html": [
       "<div>\n",
       "<style scoped>\n",
       "    .dataframe tbody tr th:only-of-type {\n",
       "        vertical-align: middle;\n",
       "    }\n",
       "\n",
       "    .dataframe tbody tr th {\n",
       "        vertical-align: top;\n",
       "    }\n",
       "\n",
       "    .dataframe thead th {\n",
       "        text-align: right;\n",
       "    }\n",
       "</style>\n",
       "<table border=\"1\" class=\"dataframe\">\n",
       "  <thead>\n",
       "    <tr style=\"text-align: right;\">\n",
       "      <th></th>\n",
       "      <th>id</th>\n",
       "      <th>mb_used</th>\n",
       "      <th>session_date</th>\n",
       "      <th>user_id</th>\n",
       "    </tr>\n",
       "  </thead>\n",
       "  <tbody>\n",
       "    <tr>\n",
       "      <td>0</td>\n",
       "      <td>1000_0</td>\n",
       "      <td>112.95</td>\n",
       "      <td>2018-11-25</td>\n",
       "      <td>1000</td>\n",
       "    </tr>\n",
       "    <tr>\n",
       "      <td>1</td>\n",
       "      <td>1000_1</td>\n",
       "      <td>1052.81</td>\n",
       "      <td>2018-09-07</td>\n",
       "      <td>1000</td>\n",
       "    </tr>\n",
       "    <tr>\n",
       "      <td>2</td>\n",
       "      <td>1000_2</td>\n",
       "      <td>1197.26</td>\n",
       "      <td>2018-06-25</td>\n",
       "      <td>1000</td>\n",
       "    </tr>\n",
       "    <tr>\n",
       "      <td>3</td>\n",
       "      <td>1000_3</td>\n",
       "      <td>550.27</td>\n",
       "      <td>2018-08-22</td>\n",
       "      <td>1000</td>\n",
       "    </tr>\n",
       "    <tr>\n",
       "      <td>4</td>\n",
       "      <td>1000_4</td>\n",
       "      <td>302.56</td>\n",
       "      <td>2018-09-24</td>\n",
       "      <td>1000</td>\n",
       "    </tr>\n",
       "  </tbody>\n",
       "</table>\n",
       "</div>"
      ],
      "text/plain": [
       "       id  mb_used session_date  user_id\n",
       "0  1000_0   112.95   2018-11-25     1000\n",
       "1  1000_1  1052.81   2018-09-07     1000\n",
       "2  1000_2  1197.26   2018-06-25     1000\n",
       "3  1000_3   550.27   2018-08-22     1000\n",
       "4  1000_4   302.56   2018-09-24     1000"
      ]
     },
     "execution_count": 12,
     "metadata": {},
     "output_type": "execute_result"
    }
   ],
   "source": [
    "df_internet.head()"
   ]
  },
  {
   "cell_type": "markdown",
   "metadata": {},
   "source": [
    "### Таблица df_messages"
   ]
  },
  {
   "cell_type": "code",
   "execution_count": 13,
   "metadata": {},
   "outputs": [
    {
     "data": {
      "text/html": [
       "<div>\n",
       "<style scoped>\n",
       "    .dataframe tbody tr th:only-of-type {\n",
       "        vertical-align: middle;\n",
       "    }\n",
       "\n",
       "    .dataframe tbody tr th {\n",
       "        vertical-align: top;\n",
       "    }\n",
       "\n",
       "    .dataframe thead th {\n",
       "        text-align: right;\n",
       "    }\n",
       "</style>\n",
       "<table border=\"1\" class=\"dataframe\">\n",
       "  <thead>\n",
       "    <tr style=\"text-align: right;\">\n",
       "      <th></th>\n",
       "      <th>id</th>\n",
       "      <th>message_date</th>\n",
       "      <th>user_id</th>\n",
       "    </tr>\n",
       "  </thead>\n",
       "  <tbody>\n",
       "    <tr>\n",
       "      <td>0</td>\n",
       "      <td>1000_0</td>\n",
       "      <td>2018-06-27</td>\n",
       "      <td>1000</td>\n",
       "    </tr>\n",
       "    <tr>\n",
       "      <td>1</td>\n",
       "      <td>1000_1</td>\n",
       "      <td>2018-10-08</td>\n",
       "      <td>1000</td>\n",
       "    </tr>\n",
       "    <tr>\n",
       "      <td>2</td>\n",
       "      <td>1000_2</td>\n",
       "      <td>2018-08-04</td>\n",
       "      <td>1000</td>\n",
       "    </tr>\n",
       "    <tr>\n",
       "      <td>3</td>\n",
       "      <td>1000_3</td>\n",
       "      <td>2018-06-16</td>\n",
       "      <td>1000</td>\n",
       "    </tr>\n",
       "    <tr>\n",
       "      <td>4</td>\n",
       "      <td>1000_4</td>\n",
       "      <td>2018-12-05</td>\n",
       "      <td>1000</td>\n",
       "    </tr>\n",
       "  </tbody>\n",
       "</table>\n",
       "</div>"
      ],
      "text/plain": [
       "       id message_date  user_id\n",
       "0  1000_0   2018-06-27     1000\n",
       "1  1000_1   2018-10-08     1000\n",
       "2  1000_2   2018-08-04     1000\n",
       "3  1000_3   2018-06-16     1000\n",
       "4  1000_4   2018-12-05     1000"
      ]
     },
     "execution_count": 13,
     "metadata": {},
     "output_type": "execute_result"
    }
   ],
   "source": [
    "df_messages.head()"
   ]
  },
  {
   "cell_type": "code",
   "execution_count": 14,
   "metadata": {},
   "outputs": [
    {
     "name": "stdout",
     "output_type": "stream",
     "text": [
      "<class 'pandas.core.frame.DataFrame'>\n",
      "RangeIndex: 123036 entries, 0 to 123035\n",
      "Data columns (total 3 columns):\n",
      "id              123036 non-null object\n",
      "message_date    123036 non-null object\n",
      "user_id         123036 non-null int64\n",
      "dtypes: int64(1), object(2)\n",
      "memory usage: 2.8+ MB\n"
     ]
    }
   ],
   "source": [
    "df_messages.info()"
   ]
  },
  {
   "cell_type": "markdown",
   "metadata": {},
   "source": [
    "**Пропусков нет, меняем тип данных для даты.**"
   ]
  },
  {
   "cell_type": "code",
   "execution_count": 15,
   "metadata": {},
   "outputs": [],
   "source": [
    "df_messages['message_date'] = pd.to_datetime(df_messages['message_date'], format='%Y-%m-%d')"
   ]
  },
  {
   "cell_type": "markdown",
   "metadata": {},
   "source": [
    "### Таблица df_tariffs"
   ]
  },
  {
   "cell_type": "code",
   "execution_count": 16,
   "metadata": {},
   "outputs": [
    {
     "data": {
      "text/html": [
       "<div>\n",
       "<style scoped>\n",
       "    .dataframe tbody tr th:only-of-type {\n",
       "        vertical-align: middle;\n",
       "    }\n",
       "\n",
       "    .dataframe tbody tr th {\n",
       "        vertical-align: top;\n",
       "    }\n",
       "\n",
       "    .dataframe thead th {\n",
       "        text-align: right;\n",
       "    }\n",
       "</style>\n",
       "<table border=\"1\" class=\"dataframe\">\n",
       "  <thead>\n",
       "    <tr style=\"text-align: right;\">\n",
       "      <th></th>\n",
       "      <th>messages_included</th>\n",
       "      <th>mb_per_month_included</th>\n",
       "      <th>minutes_included</th>\n",
       "      <th>rub_monthly_fee</th>\n",
       "      <th>rub_per_gb</th>\n",
       "      <th>rub_per_message</th>\n",
       "      <th>rub_per_minute</th>\n",
       "      <th>tariff_name</th>\n",
       "    </tr>\n",
       "  </thead>\n",
       "  <tbody>\n",
       "    <tr>\n",
       "      <td>0</td>\n",
       "      <td>50</td>\n",
       "      <td>15360</td>\n",
       "      <td>500</td>\n",
       "      <td>550</td>\n",
       "      <td>200</td>\n",
       "      <td>3</td>\n",
       "      <td>3</td>\n",
       "      <td>smart</td>\n",
       "    </tr>\n",
       "    <tr>\n",
       "      <td>1</td>\n",
       "      <td>1000</td>\n",
       "      <td>30720</td>\n",
       "      <td>3000</td>\n",
       "      <td>1950</td>\n",
       "      <td>150</td>\n",
       "      <td>1</td>\n",
       "      <td>1</td>\n",
       "      <td>ultra</td>\n",
       "    </tr>\n",
       "  </tbody>\n",
       "</table>\n",
       "</div>"
      ],
      "text/plain": [
       "   messages_included  mb_per_month_included  minutes_included  \\\n",
       "0                 50                  15360               500   \n",
       "1               1000                  30720              3000   \n",
       "\n",
       "   rub_monthly_fee  rub_per_gb  rub_per_message  rub_per_minute tariff_name  \n",
       "0              550         200                3               3       smart  \n",
       "1             1950         150                1               1       ultra  "
      ]
     },
     "execution_count": 16,
     "metadata": {},
     "output_type": "execute_result"
    }
   ],
   "source": [
    "df_tariffs"
   ]
  },
  {
   "cell_type": "markdown",
   "metadata": {},
   "source": [
    "**Изменил название столбца, чтобы дальше внизу было проще мержить**"
   ]
  },
  {
   "cell_type": "code",
   "execution_count": 17,
   "metadata": {},
   "outputs": [],
   "source": [
    "df_tariffs.columns = ['messages_included', 'mb_per_month_included', 'minutes_included', 'rub_monthly_fee', 'rub_per_gb', 'rub_per_message', 'rub_per_minute', 'tariff']"
   ]
  },
  {
   "cell_type": "code",
   "execution_count": 18,
   "metadata": {},
   "outputs": [
    {
     "name": "stdout",
     "output_type": "stream",
     "text": [
      "<class 'pandas.core.frame.DataFrame'>\n",
      "RangeIndex: 2 entries, 0 to 1\n",
      "Data columns (total 8 columns):\n",
      "messages_included        2 non-null int64\n",
      "mb_per_month_included    2 non-null int64\n",
      "minutes_included         2 non-null int64\n",
      "rub_monthly_fee          2 non-null int64\n",
      "rub_per_gb               2 non-null int64\n",
      "rub_per_message          2 non-null int64\n",
      "rub_per_minute           2 non-null int64\n",
      "tariff                   2 non-null object\n",
      "dtypes: int64(7), object(1)\n",
      "memory usage: 256.0+ bytes\n"
     ]
    }
   ],
   "source": [
    "df_tariffs.info()"
   ]
  },
  {
   "cell_type": "markdown",
   "metadata": {},
   "source": [
    "**Здесь все в порядке**"
   ]
  },
  {
   "cell_type": "markdown",
   "metadata": {},
   "source": [
    "### Таблица df_users"
   ]
  },
  {
   "cell_type": "code",
   "execution_count": 19,
   "metadata": {},
   "outputs": [
    {
     "data": {
      "text/html": [
       "<div>\n",
       "<style scoped>\n",
       "    .dataframe tbody tr th:only-of-type {\n",
       "        vertical-align: middle;\n",
       "    }\n",
       "\n",
       "    .dataframe tbody tr th {\n",
       "        vertical-align: top;\n",
       "    }\n",
       "\n",
       "    .dataframe thead th {\n",
       "        text-align: right;\n",
       "    }\n",
       "</style>\n",
       "<table border=\"1\" class=\"dataframe\">\n",
       "  <thead>\n",
       "    <tr style=\"text-align: right;\">\n",
       "      <th></th>\n",
       "      <th>user_id</th>\n",
       "      <th>age</th>\n",
       "      <th>churn_date</th>\n",
       "      <th>city</th>\n",
       "      <th>first_name</th>\n",
       "      <th>last_name</th>\n",
       "      <th>reg_date</th>\n",
       "      <th>tariff</th>\n",
       "    </tr>\n",
       "  </thead>\n",
       "  <tbody>\n",
       "    <tr>\n",
       "      <td>0</td>\n",
       "      <td>1000</td>\n",
       "      <td>52</td>\n",
       "      <td>NaN</td>\n",
       "      <td>Краснодар</td>\n",
       "      <td>Рафаил</td>\n",
       "      <td>Верещагин</td>\n",
       "      <td>2018-05-25</td>\n",
       "      <td>ultra</td>\n",
       "    </tr>\n",
       "    <tr>\n",
       "      <td>1</td>\n",
       "      <td>1001</td>\n",
       "      <td>41</td>\n",
       "      <td>NaN</td>\n",
       "      <td>Москва</td>\n",
       "      <td>Иван</td>\n",
       "      <td>Ежов</td>\n",
       "      <td>2018-11-01</td>\n",
       "      <td>smart</td>\n",
       "    </tr>\n",
       "    <tr>\n",
       "      <td>2</td>\n",
       "      <td>1002</td>\n",
       "      <td>59</td>\n",
       "      <td>NaN</td>\n",
       "      <td>Стерлитамак</td>\n",
       "      <td>Евгений</td>\n",
       "      <td>Абрамович</td>\n",
       "      <td>2018-06-17</td>\n",
       "      <td>smart</td>\n",
       "    </tr>\n",
       "    <tr>\n",
       "      <td>3</td>\n",
       "      <td>1003</td>\n",
       "      <td>23</td>\n",
       "      <td>NaN</td>\n",
       "      <td>Москва</td>\n",
       "      <td>Белла</td>\n",
       "      <td>Белякова</td>\n",
       "      <td>2018-08-17</td>\n",
       "      <td>ultra</td>\n",
       "    </tr>\n",
       "    <tr>\n",
       "      <td>4</td>\n",
       "      <td>1004</td>\n",
       "      <td>68</td>\n",
       "      <td>NaN</td>\n",
       "      <td>Новокузнецк</td>\n",
       "      <td>Татьяна</td>\n",
       "      <td>Авдеенко</td>\n",
       "      <td>2018-05-14</td>\n",
       "      <td>ultra</td>\n",
       "    </tr>\n",
       "  </tbody>\n",
       "</table>\n",
       "</div>"
      ],
      "text/plain": [
       "   user_id  age churn_date         city first_name  last_name    reg_date  \\\n",
       "0     1000   52        NaN    Краснодар     Рафаил  Верещагин  2018-05-25   \n",
       "1     1001   41        NaN       Москва       Иван       Ежов  2018-11-01   \n",
       "2     1002   59        NaN  Стерлитамак    Евгений  Абрамович  2018-06-17   \n",
       "3     1003   23        NaN       Москва      Белла   Белякова  2018-08-17   \n",
       "4     1004   68        NaN  Новокузнецк    Татьяна   Авдеенко  2018-05-14   \n",
       "\n",
       "  tariff  \n",
       "0  ultra  \n",
       "1  smart  \n",
       "2  smart  \n",
       "3  ultra  \n",
       "4  ultra  "
      ]
     },
     "execution_count": 19,
     "metadata": {},
     "output_type": "execute_result"
    }
   ],
   "source": [
    "df_users.head()"
   ]
  },
  {
   "cell_type": "code",
   "execution_count": 20,
   "metadata": {},
   "outputs": [
    {
     "name": "stdout",
     "output_type": "stream",
     "text": [
      "<class 'pandas.core.frame.DataFrame'>\n",
      "RangeIndex: 500 entries, 0 to 499\n",
      "Data columns (total 8 columns):\n",
      "user_id       500 non-null int64\n",
      "age           500 non-null int64\n",
      "churn_date    38 non-null object\n",
      "city          500 non-null object\n",
      "first_name    500 non-null object\n",
      "last_name     500 non-null object\n",
      "reg_date      500 non-null object\n",
      "tariff        500 non-null object\n",
      "dtypes: int64(2), object(6)\n",
      "memory usage: 31.4+ KB\n"
     ]
    }
   ],
   "source": [
    "df_users.info()"
   ]
  },
  {
   "cell_type": "markdown",
   "metadata": {},
   "source": [
    "**Мы наблюдаем много пропусков в столбце churn_date(дата прекращения пользования тарифом) - это скорее всего означает, что тариф ещё действовал на момент выгрузки данных. Снова изменим только тип данных в столбцах с датами**"
   ]
  },
  {
   "cell_type": "code",
   "execution_count": 21,
   "metadata": {},
   "outputs": [],
   "source": [
    "df_users['churn_date'] = pd.to_datetime(df_users['churn_date'], format='%Y-%m-%d')\n",
    "df_users['reg_date'] = pd.to_datetime(df_users['reg_date'], format='%Y-%m-%d')"
   ]
  },
  {
   "cell_type": "markdown",
   "metadata": {},
   "source": [
    "## Подготовка данных"
   ]
  },
  {
   "cell_type": "markdown",
   "metadata": {},
   "source": [
    "### Посчитаем для каждого пользователя количество сделанных звонков и израсходованных минут разговора по месяцам"
   ]
  },
  {
   "cell_type": "code",
   "execution_count": 22,
   "metadata": {},
   "outputs": [],
   "source": [
    "df_calls['month'] = pd.DatetimeIndex(df_calls['call_date']).month #поместим время в класс DatetimeIndex и применим атрибут month"
   ]
  },
  {
   "cell_type": "code",
   "execution_count": 23,
   "metadata": {},
   "outputs": [],
   "source": [
    "df_calls_pivot = df_calls.pivot_table(index=['user_id','month'], values='duration', aggfunc=('sum', 'count')) #создадим сводную таблицу"
   ]
  },
  {
   "cell_type": "code",
   "execution_count": 24,
   "metadata": {},
   "outputs": [
    {
     "data": {
      "text/html": [
       "<div>\n",
       "<style scoped>\n",
       "    .dataframe tbody tr th:only-of-type {\n",
       "        vertical-align: middle;\n",
       "    }\n",
       "\n",
       "    .dataframe tbody tr th {\n",
       "        vertical-align: top;\n",
       "    }\n",
       "\n",
       "    .dataframe thead th {\n",
       "        text-align: right;\n",
       "    }\n",
       "</style>\n",
       "<table border=\"1\" class=\"dataframe\">\n",
       "  <thead>\n",
       "    <tr style=\"text-align: right;\">\n",
       "      <th></th>\n",
       "      <th></th>\n",
       "      <th>count</th>\n",
       "      <th>sum</th>\n",
       "    </tr>\n",
       "    <tr>\n",
       "      <th>user_id</th>\n",
       "      <th>month</th>\n",
       "      <th></th>\n",
       "      <th></th>\n",
       "    </tr>\n",
       "  </thead>\n",
       "  <tbody>\n",
       "    <tr>\n",
       "      <td rowspan=\"8\" valign=\"top\">1000</td>\n",
       "      <td>5</td>\n",
       "      <td>22</td>\n",
       "      <td>159.0</td>\n",
       "    </tr>\n",
       "    <tr>\n",
       "      <td>6</td>\n",
       "      <td>43</td>\n",
       "      <td>172.0</td>\n",
       "    </tr>\n",
       "    <tr>\n",
       "      <td>7</td>\n",
       "      <td>47</td>\n",
       "      <td>340.0</td>\n",
       "    </tr>\n",
       "    <tr>\n",
       "      <td>8</td>\n",
       "      <td>52</td>\n",
       "      <td>408.0</td>\n",
       "    </tr>\n",
       "    <tr>\n",
       "      <td>9</td>\n",
       "      <td>58</td>\n",
       "      <td>466.0</td>\n",
       "    </tr>\n",
       "    <tr>\n",
       "      <td>10</td>\n",
       "      <td>57</td>\n",
       "      <td>350.0</td>\n",
       "    </tr>\n",
       "    <tr>\n",
       "      <td>11</td>\n",
       "      <td>43</td>\n",
       "      <td>338.0</td>\n",
       "    </tr>\n",
       "    <tr>\n",
       "      <td>12</td>\n",
       "      <td>46</td>\n",
       "      <td>333.0</td>\n",
       "    </tr>\n",
       "    <tr>\n",
       "      <td rowspan=\"2\" valign=\"top\">1001</td>\n",
       "      <td>11</td>\n",
       "      <td>59</td>\n",
       "      <td>430.0</td>\n",
       "    </tr>\n",
       "    <tr>\n",
       "      <td>12</td>\n",
       "      <td>63</td>\n",
       "      <td>414.0</td>\n",
       "    </tr>\n",
       "  </tbody>\n",
       "</table>\n",
       "</div>"
      ],
      "text/plain": [
       "               count    sum\n",
       "user_id month              \n",
       "1000    5         22  159.0\n",
       "        6         43  172.0\n",
       "        7         47  340.0\n",
       "        8         52  408.0\n",
       "        9         58  466.0\n",
       "        10        57  350.0\n",
       "        11        43  338.0\n",
       "        12        46  333.0\n",
       "1001    11        59  430.0\n",
       "        12        63  414.0"
      ]
     },
     "execution_count": 24,
     "metadata": {},
     "output_type": "execute_result"
    }
   ],
   "source": [
    "df_calls_pivot.head(10)"
   ]
  },
  {
   "cell_type": "code",
   "execution_count": 25,
   "metadata": {},
   "outputs": [
    {
     "name": "stdout",
     "output_type": "stream",
     "text": [
      "<class 'pandas.core.frame.DataFrame'>\n",
      "MultiIndex: 3174 entries, (1000, 5) to (1499, 12)\n",
      "Data columns (total 2 columns):\n",
      "count    3174 non-null int64\n",
      "sum      3174 non-null float64\n",
      "dtypes: float64(1), int64(1)\n",
      "memory usage: 62.9 KB\n"
     ]
    }
   ],
   "source": [
    "df_calls_pivot.info()"
   ]
  },
  {
   "cell_type": "markdown",
   "metadata": {},
   "source": [
    "### Посчитаем для каждого пользователя количество отправленных сообщений по месяцам"
   ]
  },
  {
   "cell_type": "code",
   "execution_count": 26,
   "metadata": {},
   "outputs": [],
   "source": [
    "df_messages['month'] = pd.DatetimeIndex(df_messages['message_date']).month"
   ]
  },
  {
   "cell_type": "code",
   "execution_count": 27,
   "metadata": {},
   "outputs": [],
   "source": [
    "df_messages_pivot = df_messages.pivot_table(index=['user_id','month'], values='id', aggfunc='count')"
   ]
  },
  {
   "cell_type": "code",
   "execution_count": 28,
   "metadata": {},
   "outputs": [
    {
     "data": {
      "text/html": [
       "<div>\n",
       "<style scoped>\n",
       "    .dataframe tbody tr th:only-of-type {\n",
       "        vertical-align: middle;\n",
       "    }\n",
       "\n",
       "    .dataframe tbody tr th {\n",
       "        vertical-align: top;\n",
       "    }\n",
       "\n",
       "    .dataframe thead th {\n",
       "        text-align: right;\n",
       "    }\n",
       "</style>\n",
       "<table border=\"1\" class=\"dataframe\">\n",
       "  <thead>\n",
       "    <tr style=\"text-align: right;\">\n",
       "      <th></th>\n",
       "      <th></th>\n",
       "      <th>id</th>\n",
       "    </tr>\n",
       "    <tr>\n",
       "      <th>user_id</th>\n",
       "      <th>month</th>\n",
       "      <th></th>\n",
       "    </tr>\n",
       "  </thead>\n",
       "  <tbody>\n",
       "    <tr>\n",
       "      <td rowspan=\"8\" valign=\"top\">1000</td>\n",
       "      <td>5</td>\n",
       "      <td>22</td>\n",
       "    </tr>\n",
       "    <tr>\n",
       "      <td>6</td>\n",
       "      <td>60</td>\n",
       "    </tr>\n",
       "    <tr>\n",
       "      <td>7</td>\n",
       "      <td>75</td>\n",
       "    </tr>\n",
       "    <tr>\n",
       "      <td>8</td>\n",
       "      <td>81</td>\n",
       "    </tr>\n",
       "    <tr>\n",
       "      <td>9</td>\n",
       "      <td>57</td>\n",
       "    </tr>\n",
       "    <tr>\n",
       "      <td>10</td>\n",
       "      <td>73</td>\n",
       "    </tr>\n",
       "    <tr>\n",
       "      <td>11</td>\n",
       "      <td>58</td>\n",
       "    </tr>\n",
       "    <tr>\n",
       "      <td>12</td>\n",
       "      <td>70</td>\n",
       "    </tr>\n",
       "    <tr>\n",
       "      <td rowspan=\"2\" valign=\"top\">1002</td>\n",
       "      <td>6</td>\n",
       "      <td>4</td>\n",
       "    </tr>\n",
       "    <tr>\n",
       "      <td>7</td>\n",
       "      <td>11</td>\n",
       "    </tr>\n",
       "  </tbody>\n",
       "</table>\n",
       "</div>"
      ],
      "text/plain": [
       "               id\n",
       "user_id month    \n",
       "1000    5      22\n",
       "        6      60\n",
       "        7      75\n",
       "        8      81\n",
       "        9      57\n",
       "        10     73\n",
       "        11     58\n",
       "        12     70\n",
       "1002    6       4\n",
       "        7      11"
      ]
     },
     "execution_count": 28,
     "metadata": {},
     "output_type": "execute_result"
    }
   ],
   "source": [
    "df_messages_pivot.head(10)                   "
   ]
  },
  {
   "cell_type": "code",
   "execution_count": 29,
   "metadata": {},
   "outputs": [
    {
     "name": "stdout",
     "output_type": "stream",
     "text": [
      "<class 'pandas.core.frame.DataFrame'>\n",
      "MultiIndex: 2717 entries, (1000, 5) to (1499, 12)\n",
      "Data columns (total 1 columns):\n",
      "id    2717 non-null int64\n",
      "dtypes: int64(1)\n",
      "memory usage: 32.7 KB\n"
     ]
    }
   ],
   "source": [
    "df_messages_pivot.info()"
   ]
  },
  {
   "cell_type": "markdown",
   "metadata": {},
   "source": [
    "### Посчитаем для каждого пользователя объем израсходованного интернет-трафика по месяцам"
   ]
  },
  {
   "cell_type": "code",
   "execution_count": 30,
   "metadata": {},
   "outputs": [],
   "source": [
    "df_internet['month'] = pd.DatetimeIndex(df_internet['session_date']).month"
   ]
  },
  {
   "cell_type": "code",
   "execution_count": 31,
   "metadata": {},
   "outputs": [
    {
     "data": {
      "text/html": [
       "<div>\n",
       "<style scoped>\n",
       "    .dataframe tbody tr th:only-of-type {\n",
       "        vertical-align: middle;\n",
       "    }\n",
       "\n",
       "    .dataframe tbody tr th {\n",
       "        vertical-align: top;\n",
       "    }\n",
       "\n",
       "    .dataframe thead th {\n",
       "        text-align: right;\n",
       "    }\n",
       "</style>\n",
       "<table border=\"1\" class=\"dataframe\">\n",
       "  <thead>\n",
       "    <tr style=\"text-align: right;\">\n",
       "      <th></th>\n",
       "      <th>id</th>\n",
       "      <th>mb_used</th>\n",
       "      <th>session_date</th>\n",
       "      <th>user_id</th>\n",
       "      <th>month</th>\n",
       "    </tr>\n",
       "  </thead>\n",
       "  <tbody>\n",
       "    <tr>\n",
       "      <td>0</td>\n",
       "      <td>1000_0</td>\n",
       "      <td>112.95</td>\n",
       "      <td>2018-11-25</td>\n",
       "      <td>1000</td>\n",
       "      <td>11</td>\n",
       "    </tr>\n",
       "    <tr>\n",
       "      <td>1</td>\n",
       "      <td>1000_1</td>\n",
       "      <td>1052.81</td>\n",
       "      <td>2018-09-07</td>\n",
       "      <td>1000</td>\n",
       "      <td>9</td>\n",
       "    </tr>\n",
       "    <tr>\n",
       "      <td>2</td>\n",
       "      <td>1000_2</td>\n",
       "      <td>1197.26</td>\n",
       "      <td>2018-06-25</td>\n",
       "      <td>1000</td>\n",
       "      <td>6</td>\n",
       "    </tr>\n",
       "    <tr>\n",
       "      <td>3</td>\n",
       "      <td>1000_3</td>\n",
       "      <td>550.27</td>\n",
       "      <td>2018-08-22</td>\n",
       "      <td>1000</td>\n",
       "      <td>8</td>\n",
       "    </tr>\n",
       "    <tr>\n",
       "      <td>4</td>\n",
       "      <td>1000_4</td>\n",
       "      <td>302.56</td>\n",
       "      <td>2018-09-24</td>\n",
       "      <td>1000</td>\n",
       "      <td>9</td>\n",
       "    </tr>\n",
       "  </tbody>\n",
       "</table>\n",
       "</div>"
      ],
      "text/plain": [
       "       id  mb_used session_date  user_id  month\n",
       "0  1000_0   112.95   2018-11-25     1000     11\n",
       "1  1000_1  1052.81   2018-09-07     1000      9\n",
       "2  1000_2  1197.26   2018-06-25     1000      6\n",
       "3  1000_3   550.27   2018-08-22     1000      8\n",
       "4  1000_4   302.56   2018-09-24     1000      9"
      ]
     },
     "execution_count": 31,
     "metadata": {},
     "output_type": "execute_result"
    }
   ],
   "source": [
    "df_internet.head()"
   ]
  },
  {
   "cell_type": "code",
   "execution_count": 32,
   "metadata": {},
   "outputs": [],
   "source": [
    "df_internet_pivot = df_internet.pivot_table(index=['user_id','month'], values='mb_used', aggfunc='sum')"
   ]
  },
  {
   "cell_type": "code",
   "execution_count": 33,
   "metadata": {},
   "outputs": [
    {
     "data": {
      "text/html": [
       "<div>\n",
       "<style scoped>\n",
       "    .dataframe tbody tr th:only-of-type {\n",
       "        vertical-align: middle;\n",
       "    }\n",
       "\n",
       "    .dataframe tbody tr th {\n",
       "        vertical-align: top;\n",
       "    }\n",
       "\n",
       "    .dataframe thead th {\n",
       "        text-align: right;\n",
       "    }\n",
       "</style>\n",
       "<table border=\"1\" class=\"dataframe\">\n",
       "  <thead>\n",
       "    <tr style=\"text-align: right;\">\n",
       "      <th></th>\n",
       "      <th></th>\n",
       "      <th>mb_used</th>\n",
       "    </tr>\n",
       "    <tr>\n",
       "      <th>user_id</th>\n",
       "      <th>month</th>\n",
       "      <th></th>\n",
       "    </tr>\n",
       "  </thead>\n",
       "  <tbody>\n",
       "    <tr>\n",
       "      <td rowspan=\"8\" valign=\"top\">1000</td>\n",
       "      <td>5</td>\n",
       "      <td>2253.49</td>\n",
       "    </tr>\n",
       "    <tr>\n",
       "      <td>6</td>\n",
       "      <td>23233.77</td>\n",
       "    </tr>\n",
       "    <tr>\n",
       "      <td>7</td>\n",
       "      <td>14003.64</td>\n",
       "    </tr>\n",
       "    <tr>\n",
       "      <td>8</td>\n",
       "      <td>14055.93</td>\n",
       "    </tr>\n",
       "    <tr>\n",
       "      <td>9</td>\n",
       "      <td>14568.91</td>\n",
       "    </tr>\n",
       "    <tr>\n",
       "      <td>10</td>\n",
       "      <td>14702.49</td>\n",
       "    </tr>\n",
       "    <tr>\n",
       "      <td>11</td>\n",
       "      <td>14756.47</td>\n",
       "    </tr>\n",
       "    <tr>\n",
       "      <td>12</td>\n",
       "      <td>9817.61</td>\n",
       "    </tr>\n",
       "    <tr>\n",
       "      <td rowspan=\"2\" valign=\"top\">1001</td>\n",
       "      <td>11</td>\n",
       "      <td>18429.34</td>\n",
       "    </tr>\n",
       "    <tr>\n",
       "      <td>12</td>\n",
       "      <td>14036.66</td>\n",
       "    </tr>\n",
       "  </tbody>\n",
       "</table>\n",
       "</div>"
      ],
      "text/plain": [
       "                mb_used\n",
       "user_id month          \n",
       "1000    5       2253.49\n",
       "        6      23233.77\n",
       "        7      14003.64\n",
       "        8      14055.93\n",
       "        9      14568.91\n",
       "        10     14702.49\n",
       "        11     14756.47\n",
       "        12      9817.61\n",
       "1001    11     18429.34\n",
       "        12     14036.66"
      ]
     },
     "execution_count": 33,
     "metadata": {},
     "output_type": "execute_result"
    }
   ],
   "source": [
    "df_internet_pivot.head(10)                      "
   ]
  },
  {
   "cell_type": "markdown",
   "metadata": {},
   "source": [
    "**Теперь переведем в ГБ, и округлим в большую сторону**"
   ]
  },
  {
   "cell_type": "code",
   "execution_count": 34,
   "metadata": {},
   "outputs": [],
   "source": [
    "df_internet_pivot['mb_used'] = df_internet_pivot['mb_used'] / 1024"
   ]
  },
  {
   "cell_type": "code",
   "execution_count": 35,
   "metadata": {},
   "outputs": [
    {
     "data": {
      "text/html": [
       "<div>\n",
       "<style scoped>\n",
       "    .dataframe tbody tr th:only-of-type {\n",
       "        vertical-align: middle;\n",
       "    }\n",
       "\n",
       "    .dataframe tbody tr th {\n",
       "        vertical-align: top;\n",
       "    }\n",
       "\n",
       "    .dataframe thead th {\n",
       "        text-align: right;\n",
       "    }\n",
       "</style>\n",
       "<table border=\"1\" class=\"dataframe\">\n",
       "  <thead>\n",
       "    <tr style=\"text-align: right;\">\n",
       "      <th></th>\n",
       "      <th></th>\n",
       "      <th>mb_used</th>\n",
       "    </tr>\n",
       "    <tr>\n",
       "      <th>user_id</th>\n",
       "      <th>month</th>\n",
       "      <th></th>\n",
       "    </tr>\n",
       "  </thead>\n",
       "  <tbody>\n",
       "    <tr>\n",
       "      <td rowspan=\"5\" valign=\"top\">1000</td>\n",
       "      <td>5</td>\n",
       "      <td>2.200674</td>\n",
       "    </tr>\n",
       "    <tr>\n",
       "      <td>6</td>\n",
       "      <td>22.689229</td>\n",
       "    </tr>\n",
       "    <tr>\n",
       "      <td>7</td>\n",
       "      <td>13.675430</td>\n",
       "    </tr>\n",
       "    <tr>\n",
       "      <td>8</td>\n",
       "      <td>13.726494</td>\n",
       "    </tr>\n",
       "    <tr>\n",
       "      <td>9</td>\n",
       "      <td>14.227451</td>\n",
       "    </tr>\n",
       "  </tbody>\n",
       "</table>\n",
       "</div>"
      ],
      "text/plain": [
       "                 mb_used\n",
       "user_id month           \n",
       "1000    5       2.200674\n",
       "        6      22.689229\n",
       "        7      13.675430\n",
       "        8      13.726494\n",
       "        9      14.227451"
      ]
     },
     "execution_count": 35,
     "metadata": {},
     "output_type": "execute_result"
    }
   ],
   "source": [
    "df_internet_pivot.head()"
   ]
  },
  {
   "cell_type": "markdown",
   "metadata": {},
   "source": [
    "**Так как в правилах компании есть такое условие : \"Для веб-трафика отдельные сессии не считаются. Вместо этого общая сумма за месяц округляется в бо́льшую сторону. Если абонент использует 1025 мегабайт в этом месяце, с него возьмут плату за 2 гигабайта.\", то гигабайты потраченного трафика в месяц, округляем в большую сторону**"
   ]
  },
  {
   "cell_type": "code",
   "execution_count": 36,
   "metadata": {},
   "outputs": [],
   "source": [
    "df_internet_pivot['mb_used'] = np.ceil(df_internet_pivot['mb_used'])"
   ]
  },
  {
   "cell_type": "code",
   "execution_count": 37,
   "metadata": {},
   "outputs": [
    {
     "data": {
      "text/html": [
       "<div>\n",
       "<style scoped>\n",
       "    .dataframe tbody tr th:only-of-type {\n",
       "        vertical-align: middle;\n",
       "    }\n",
       "\n",
       "    .dataframe tbody tr th {\n",
       "        vertical-align: top;\n",
       "    }\n",
       "\n",
       "    .dataframe thead th {\n",
       "        text-align: right;\n",
       "    }\n",
       "</style>\n",
       "<table border=\"1\" class=\"dataframe\">\n",
       "  <thead>\n",
       "    <tr style=\"text-align: right;\">\n",
       "      <th></th>\n",
       "      <th></th>\n",
       "      <th>mb_used</th>\n",
       "    </tr>\n",
       "    <tr>\n",
       "      <th>user_id</th>\n",
       "      <th>month</th>\n",
       "      <th></th>\n",
       "    </tr>\n",
       "  </thead>\n",
       "  <tbody>\n",
       "    <tr>\n",
       "      <td rowspan=\"5\" valign=\"top\">1000</td>\n",
       "      <td>5</td>\n",
       "      <td>3.0</td>\n",
       "    </tr>\n",
       "    <tr>\n",
       "      <td>6</td>\n",
       "      <td>23.0</td>\n",
       "    </tr>\n",
       "    <tr>\n",
       "      <td>7</td>\n",
       "      <td>14.0</td>\n",
       "    </tr>\n",
       "    <tr>\n",
       "      <td>8</td>\n",
       "      <td>14.0</td>\n",
       "    </tr>\n",
       "    <tr>\n",
       "      <td>9</td>\n",
       "      <td>15.0</td>\n",
       "    </tr>\n",
       "  </tbody>\n",
       "</table>\n",
       "</div>"
      ],
      "text/plain": [
       "               mb_used\n",
       "user_id month         \n",
       "1000    5          3.0\n",
       "        6         23.0\n",
       "        7         14.0\n",
       "        8         14.0\n",
       "        9         15.0"
      ]
     },
     "execution_count": 37,
     "metadata": {},
     "output_type": "execute_result"
    }
   ],
   "source": [
    "df_internet_pivot.head()"
   ]
  },
  {
   "cell_type": "code",
   "execution_count": 38,
   "metadata": {},
   "outputs": [],
   "source": [
    "df_internet_pivot = df_internet_pivot.rename(columns={'mb_used':'gb_used'})"
   ]
  },
  {
   "cell_type": "code",
   "execution_count": 39,
   "metadata": {},
   "outputs": [
    {
     "data": {
      "text/html": [
       "<div>\n",
       "<style scoped>\n",
       "    .dataframe tbody tr th:only-of-type {\n",
       "        vertical-align: middle;\n",
       "    }\n",
       "\n",
       "    .dataframe tbody tr th {\n",
       "        vertical-align: top;\n",
       "    }\n",
       "\n",
       "    .dataframe thead th {\n",
       "        text-align: right;\n",
       "    }\n",
       "</style>\n",
       "<table border=\"1\" class=\"dataframe\">\n",
       "  <thead>\n",
       "    <tr style=\"text-align: right;\">\n",
       "      <th></th>\n",
       "      <th></th>\n",
       "      <th>gb_used</th>\n",
       "    </tr>\n",
       "    <tr>\n",
       "      <th>user_id</th>\n",
       "      <th>month</th>\n",
       "      <th></th>\n",
       "    </tr>\n",
       "  </thead>\n",
       "  <tbody>\n",
       "    <tr>\n",
       "      <td rowspan=\"5\" valign=\"top\">1000</td>\n",
       "      <td>5</td>\n",
       "      <td>3.0</td>\n",
       "    </tr>\n",
       "    <tr>\n",
       "      <td>6</td>\n",
       "      <td>23.0</td>\n",
       "    </tr>\n",
       "    <tr>\n",
       "      <td>7</td>\n",
       "      <td>14.0</td>\n",
       "    </tr>\n",
       "    <tr>\n",
       "      <td>8</td>\n",
       "      <td>14.0</td>\n",
       "    </tr>\n",
       "    <tr>\n",
       "      <td>9</td>\n",
       "      <td>15.0</td>\n",
       "    </tr>\n",
       "  </tbody>\n",
       "</table>\n",
       "</div>"
      ],
      "text/plain": [
       "               gb_used\n",
       "user_id month         \n",
       "1000    5          3.0\n",
       "        6         23.0\n",
       "        7         14.0\n",
       "        8         14.0\n",
       "        9         15.0"
      ]
     },
     "execution_count": 39,
     "metadata": {},
     "output_type": "execute_result"
    }
   ],
   "source": [
    "df_internet_pivot.head()"
   ]
  },
  {
   "cell_type": "markdown",
   "metadata": {},
   "source": [
    "### Посчитаем помесячную выручку с каждого пользователя (вычтем бесплатный лимит из суммарного количества звонков, сообщений и интернет-трафика; остаток умножим на значение из тарифного плана; прибавим абонентскую плату, соответствующую тарифному плану)."
   ]
  },
  {
   "cell_type": "code",
   "execution_count": 40,
   "metadata": {},
   "outputs": [],
   "source": [
    "df_calls_pivot = df_calls_pivot.reset_index()"
   ]
  },
  {
   "cell_type": "code",
   "execution_count": 41,
   "metadata": {},
   "outputs": [],
   "source": [
    "df_messages_pivot = df_messages_pivot.reset_index()"
   ]
  },
  {
   "cell_type": "code",
   "execution_count": 42,
   "metadata": {},
   "outputs": [],
   "source": [
    "df_internet_pivot = df_internet_pivot.reset_index()"
   ]
  },
  {
   "cell_type": "markdown",
   "metadata": {},
   "source": [
    "**Сначала смержил все сводные таблицы с данными по звонкам, интернету и сообщениям**"
   ]
  },
  {
   "cell_type": "code",
   "execution_count": 43,
   "metadata": {},
   "outputs": [],
   "source": [
    "pivot_table = df_calls_pivot.merge(df_messages_pivot, on=['user_id', 'month'], how='outer')"
   ]
  },
  {
   "cell_type": "code",
   "execution_count": 44,
   "metadata": {},
   "outputs": [],
   "source": [
    "pivot_table = pivot_table.merge(df_internet_pivot, on=['user_id', 'month'], how='outer')"
   ]
  },
  {
   "cell_type": "code",
   "execution_count": 45,
   "metadata": {},
   "outputs": [
    {
     "data": {
      "text/html": [
       "<div>\n",
       "<style scoped>\n",
       "    .dataframe tbody tr th:only-of-type {\n",
       "        vertical-align: middle;\n",
       "    }\n",
       "\n",
       "    .dataframe tbody tr th {\n",
       "        vertical-align: top;\n",
       "    }\n",
       "\n",
       "    .dataframe thead th {\n",
       "        text-align: right;\n",
       "    }\n",
       "</style>\n",
       "<table border=\"1\" class=\"dataframe\">\n",
       "  <thead>\n",
       "    <tr style=\"text-align: right;\">\n",
       "      <th></th>\n",
       "      <th>user_id</th>\n",
       "      <th>month</th>\n",
       "      <th>count</th>\n",
       "      <th>sum</th>\n",
       "      <th>id</th>\n",
       "      <th>gb_used</th>\n",
       "    </tr>\n",
       "  </thead>\n",
       "  <tbody>\n",
       "    <tr>\n",
       "      <td>0</td>\n",
       "      <td>1000</td>\n",
       "      <td>5</td>\n",
       "      <td>22.0</td>\n",
       "      <td>159.0</td>\n",
       "      <td>22.0</td>\n",
       "      <td>3.0</td>\n",
       "    </tr>\n",
       "    <tr>\n",
       "      <td>1</td>\n",
       "      <td>1000</td>\n",
       "      <td>6</td>\n",
       "      <td>43.0</td>\n",
       "      <td>172.0</td>\n",
       "      <td>60.0</td>\n",
       "      <td>23.0</td>\n",
       "    </tr>\n",
       "    <tr>\n",
       "      <td>2</td>\n",
       "      <td>1000</td>\n",
       "      <td>7</td>\n",
       "      <td>47.0</td>\n",
       "      <td>340.0</td>\n",
       "      <td>75.0</td>\n",
       "      <td>14.0</td>\n",
       "    </tr>\n",
       "    <tr>\n",
       "      <td>3</td>\n",
       "      <td>1000</td>\n",
       "      <td>8</td>\n",
       "      <td>52.0</td>\n",
       "      <td>408.0</td>\n",
       "      <td>81.0</td>\n",
       "      <td>14.0</td>\n",
       "    </tr>\n",
       "    <tr>\n",
       "      <td>4</td>\n",
       "      <td>1000</td>\n",
       "      <td>9</td>\n",
       "      <td>58.0</td>\n",
       "      <td>466.0</td>\n",
       "      <td>57.0</td>\n",
       "      <td>15.0</td>\n",
       "    </tr>\n",
       "  </tbody>\n",
       "</table>\n",
       "</div>"
      ],
      "text/plain": [
       "   user_id  month  count    sum    id  gb_used\n",
       "0     1000      5   22.0  159.0  22.0      3.0\n",
       "1     1000      6   43.0  172.0  60.0     23.0\n",
       "2     1000      7   47.0  340.0  75.0     14.0\n",
       "3     1000      8   52.0  408.0  81.0     14.0\n",
       "4     1000      9   58.0  466.0  57.0     15.0"
      ]
     },
     "execution_count": 45,
     "metadata": {},
     "output_type": "execute_result"
    }
   ],
   "source": [
    "pivot_table.head()"
   ]
  },
  {
   "cell_type": "markdown",
   "metadata": {},
   "source": [
    "**Затем смержил готовую таблицу с данными с таблицей \"пользователи\"**"
   ]
  },
  {
   "cell_type": "code",
   "execution_count": 46,
   "metadata": {},
   "outputs": [],
   "source": [
    "df_users_pivot_table = df_users.merge(pivot_table, on='user_id', how='outer')"
   ]
  },
  {
   "cell_type": "code",
   "execution_count": 47,
   "metadata": {},
   "outputs": [
    {
     "data": {
      "text/html": [
       "<div>\n",
       "<style scoped>\n",
       "    .dataframe tbody tr th:only-of-type {\n",
       "        vertical-align: middle;\n",
       "    }\n",
       "\n",
       "    .dataframe tbody tr th {\n",
       "        vertical-align: top;\n",
       "    }\n",
       "\n",
       "    .dataframe thead th {\n",
       "        text-align: right;\n",
       "    }\n",
       "</style>\n",
       "<table border=\"1\" class=\"dataframe\">\n",
       "  <thead>\n",
       "    <tr style=\"text-align: right;\">\n",
       "      <th></th>\n",
       "      <th>user_id</th>\n",
       "      <th>age</th>\n",
       "      <th>churn_date</th>\n",
       "      <th>city</th>\n",
       "      <th>first_name</th>\n",
       "      <th>last_name</th>\n",
       "      <th>reg_date</th>\n",
       "      <th>tariff</th>\n",
       "      <th>month</th>\n",
       "      <th>count</th>\n",
       "      <th>sum</th>\n",
       "      <th>id</th>\n",
       "      <th>gb_used</th>\n",
       "    </tr>\n",
       "  </thead>\n",
       "  <tbody>\n",
       "    <tr>\n",
       "      <td>0</td>\n",
       "      <td>1000</td>\n",
       "      <td>52</td>\n",
       "      <td>NaT</td>\n",
       "      <td>Краснодар</td>\n",
       "      <td>Рафаил</td>\n",
       "      <td>Верещагин</td>\n",
       "      <td>2018-05-25</td>\n",
       "      <td>ultra</td>\n",
       "      <td>5.0</td>\n",
       "      <td>22.0</td>\n",
       "      <td>159.0</td>\n",
       "      <td>22.0</td>\n",
       "      <td>3.0</td>\n",
       "    </tr>\n",
       "    <tr>\n",
       "      <td>1</td>\n",
       "      <td>1000</td>\n",
       "      <td>52</td>\n",
       "      <td>NaT</td>\n",
       "      <td>Краснодар</td>\n",
       "      <td>Рафаил</td>\n",
       "      <td>Верещагин</td>\n",
       "      <td>2018-05-25</td>\n",
       "      <td>ultra</td>\n",
       "      <td>6.0</td>\n",
       "      <td>43.0</td>\n",
       "      <td>172.0</td>\n",
       "      <td>60.0</td>\n",
       "      <td>23.0</td>\n",
       "    </tr>\n",
       "    <tr>\n",
       "      <td>2</td>\n",
       "      <td>1000</td>\n",
       "      <td>52</td>\n",
       "      <td>NaT</td>\n",
       "      <td>Краснодар</td>\n",
       "      <td>Рафаил</td>\n",
       "      <td>Верещагин</td>\n",
       "      <td>2018-05-25</td>\n",
       "      <td>ultra</td>\n",
       "      <td>7.0</td>\n",
       "      <td>47.0</td>\n",
       "      <td>340.0</td>\n",
       "      <td>75.0</td>\n",
       "      <td>14.0</td>\n",
       "    </tr>\n",
       "    <tr>\n",
       "      <td>3</td>\n",
       "      <td>1000</td>\n",
       "      <td>52</td>\n",
       "      <td>NaT</td>\n",
       "      <td>Краснодар</td>\n",
       "      <td>Рафаил</td>\n",
       "      <td>Верещагин</td>\n",
       "      <td>2018-05-25</td>\n",
       "      <td>ultra</td>\n",
       "      <td>8.0</td>\n",
       "      <td>52.0</td>\n",
       "      <td>408.0</td>\n",
       "      <td>81.0</td>\n",
       "      <td>14.0</td>\n",
       "    </tr>\n",
       "    <tr>\n",
       "      <td>4</td>\n",
       "      <td>1000</td>\n",
       "      <td>52</td>\n",
       "      <td>NaT</td>\n",
       "      <td>Краснодар</td>\n",
       "      <td>Рафаил</td>\n",
       "      <td>Верещагин</td>\n",
       "      <td>2018-05-25</td>\n",
       "      <td>ultra</td>\n",
       "      <td>9.0</td>\n",
       "      <td>58.0</td>\n",
       "      <td>466.0</td>\n",
       "      <td>57.0</td>\n",
       "      <td>15.0</td>\n",
       "    </tr>\n",
       "  </tbody>\n",
       "</table>\n",
       "</div>"
      ],
      "text/plain": [
       "   user_id  age churn_date       city first_name  last_name   reg_date tariff  \\\n",
       "0     1000   52        NaT  Краснодар     Рафаил  Верещагин 2018-05-25  ultra   \n",
       "1     1000   52        NaT  Краснодар     Рафаил  Верещагин 2018-05-25  ultra   \n",
       "2     1000   52        NaT  Краснодар     Рафаил  Верещагин 2018-05-25  ultra   \n",
       "3     1000   52        NaT  Краснодар     Рафаил  Верещагин 2018-05-25  ultra   \n",
       "4     1000   52        NaT  Краснодар     Рафаил  Верещагин 2018-05-25  ultra   \n",
       "\n",
       "   month  count    sum    id  gb_used  \n",
       "0    5.0   22.0  159.0  22.0      3.0  \n",
       "1    6.0   43.0  172.0  60.0     23.0  \n",
       "2    7.0   47.0  340.0  75.0     14.0  \n",
       "3    8.0   52.0  408.0  81.0     14.0  \n",
       "4    9.0   58.0  466.0  57.0     15.0  "
      ]
     },
     "execution_count": 47,
     "metadata": {},
     "output_type": "execute_result"
    }
   ],
   "source": [
    "df_users_pivot_table.head()"
   ]
  },
  {
   "cell_type": "markdown",
   "metadata": {},
   "source": [
    "**И наконец смержил с данными по тарифам**"
   ]
  },
  {
   "cell_type": "code",
   "execution_count": 48,
   "metadata": {},
   "outputs": [],
   "source": [
    "df_users_pivot_table_global = df_users_pivot_table.merge(df_tariffs, on='tariff', how='outer')"
   ]
  },
  {
   "cell_type": "code",
   "execution_count": 49,
   "metadata": {},
   "outputs": [
    {
     "data": {
      "text/html": [
       "<div>\n",
       "<style scoped>\n",
       "    .dataframe tbody tr th:only-of-type {\n",
       "        vertical-align: middle;\n",
       "    }\n",
       "\n",
       "    .dataframe tbody tr th {\n",
       "        vertical-align: top;\n",
       "    }\n",
       "\n",
       "    .dataframe thead th {\n",
       "        text-align: right;\n",
       "    }\n",
       "</style>\n",
       "<table border=\"1\" class=\"dataframe\">\n",
       "  <thead>\n",
       "    <tr style=\"text-align: right;\">\n",
       "      <th></th>\n",
       "      <th>user_id</th>\n",
       "      <th>age</th>\n",
       "      <th>churn_date</th>\n",
       "      <th>city</th>\n",
       "      <th>first_name</th>\n",
       "      <th>last_name</th>\n",
       "      <th>reg_date</th>\n",
       "      <th>tariff</th>\n",
       "      <th>month</th>\n",
       "      <th>count</th>\n",
       "      <th>sum</th>\n",
       "      <th>id</th>\n",
       "      <th>gb_used</th>\n",
       "      <th>messages_included</th>\n",
       "      <th>mb_per_month_included</th>\n",
       "      <th>minutes_included</th>\n",
       "      <th>rub_monthly_fee</th>\n",
       "      <th>rub_per_gb</th>\n",
       "      <th>rub_per_message</th>\n",
       "      <th>rub_per_minute</th>\n",
       "    </tr>\n",
       "  </thead>\n",
       "  <tbody>\n",
       "    <tr>\n",
       "      <td>0</td>\n",
       "      <td>1000</td>\n",
       "      <td>52</td>\n",
       "      <td>NaT</td>\n",
       "      <td>Краснодар</td>\n",
       "      <td>Рафаил</td>\n",
       "      <td>Верещагин</td>\n",
       "      <td>2018-05-25</td>\n",
       "      <td>ultra</td>\n",
       "      <td>5.0</td>\n",
       "      <td>22.0</td>\n",
       "      <td>159.0</td>\n",
       "      <td>22.0</td>\n",
       "      <td>3.0</td>\n",
       "      <td>1000</td>\n",
       "      <td>30720</td>\n",
       "      <td>3000</td>\n",
       "      <td>1950</td>\n",
       "      <td>150</td>\n",
       "      <td>1</td>\n",
       "      <td>1</td>\n",
       "    </tr>\n",
       "    <tr>\n",
       "      <td>1</td>\n",
       "      <td>1000</td>\n",
       "      <td>52</td>\n",
       "      <td>NaT</td>\n",
       "      <td>Краснодар</td>\n",
       "      <td>Рафаил</td>\n",
       "      <td>Верещагин</td>\n",
       "      <td>2018-05-25</td>\n",
       "      <td>ultra</td>\n",
       "      <td>6.0</td>\n",
       "      <td>43.0</td>\n",
       "      <td>172.0</td>\n",
       "      <td>60.0</td>\n",
       "      <td>23.0</td>\n",
       "      <td>1000</td>\n",
       "      <td>30720</td>\n",
       "      <td>3000</td>\n",
       "      <td>1950</td>\n",
       "      <td>150</td>\n",
       "      <td>1</td>\n",
       "      <td>1</td>\n",
       "    </tr>\n",
       "    <tr>\n",
       "      <td>2</td>\n",
       "      <td>1000</td>\n",
       "      <td>52</td>\n",
       "      <td>NaT</td>\n",
       "      <td>Краснодар</td>\n",
       "      <td>Рафаил</td>\n",
       "      <td>Верещагин</td>\n",
       "      <td>2018-05-25</td>\n",
       "      <td>ultra</td>\n",
       "      <td>7.0</td>\n",
       "      <td>47.0</td>\n",
       "      <td>340.0</td>\n",
       "      <td>75.0</td>\n",
       "      <td>14.0</td>\n",
       "      <td>1000</td>\n",
       "      <td>30720</td>\n",
       "      <td>3000</td>\n",
       "      <td>1950</td>\n",
       "      <td>150</td>\n",
       "      <td>1</td>\n",
       "      <td>1</td>\n",
       "    </tr>\n",
       "    <tr>\n",
       "      <td>3</td>\n",
       "      <td>1000</td>\n",
       "      <td>52</td>\n",
       "      <td>NaT</td>\n",
       "      <td>Краснодар</td>\n",
       "      <td>Рафаил</td>\n",
       "      <td>Верещагин</td>\n",
       "      <td>2018-05-25</td>\n",
       "      <td>ultra</td>\n",
       "      <td>8.0</td>\n",
       "      <td>52.0</td>\n",
       "      <td>408.0</td>\n",
       "      <td>81.0</td>\n",
       "      <td>14.0</td>\n",
       "      <td>1000</td>\n",
       "      <td>30720</td>\n",
       "      <td>3000</td>\n",
       "      <td>1950</td>\n",
       "      <td>150</td>\n",
       "      <td>1</td>\n",
       "      <td>1</td>\n",
       "    </tr>\n",
       "    <tr>\n",
       "      <td>4</td>\n",
       "      <td>1000</td>\n",
       "      <td>52</td>\n",
       "      <td>NaT</td>\n",
       "      <td>Краснодар</td>\n",
       "      <td>Рафаил</td>\n",
       "      <td>Верещагин</td>\n",
       "      <td>2018-05-25</td>\n",
       "      <td>ultra</td>\n",
       "      <td>9.0</td>\n",
       "      <td>58.0</td>\n",
       "      <td>466.0</td>\n",
       "      <td>57.0</td>\n",
       "      <td>15.0</td>\n",
       "      <td>1000</td>\n",
       "      <td>30720</td>\n",
       "      <td>3000</td>\n",
       "      <td>1950</td>\n",
       "      <td>150</td>\n",
       "      <td>1</td>\n",
       "      <td>1</td>\n",
       "    </tr>\n",
       "  </tbody>\n",
       "</table>\n",
       "</div>"
      ],
      "text/plain": [
       "   user_id  age churn_date       city first_name  last_name   reg_date tariff  \\\n",
       "0     1000   52        NaT  Краснодар     Рафаил  Верещагин 2018-05-25  ultra   \n",
       "1     1000   52        NaT  Краснодар     Рафаил  Верещагин 2018-05-25  ultra   \n",
       "2     1000   52        NaT  Краснодар     Рафаил  Верещагин 2018-05-25  ultra   \n",
       "3     1000   52        NaT  Краснодар     Рафаил  Верещагин 2018-05-25  ultra   \n",
       "4     1000   52        NaT  Краснодар     Рафаил  Верещагин 2018-05-25  ultra   \n",
       "\n",
       "   month  count    sum    id  gb_used  messages_included  \\\n",
       "0    5.0   22.0  159.0  22.0      3.0               1000   \n",
       "1    6.0   43.0  172.0  60.0     23.0               1000   \n",
       "2    7.0   47.0  340.0  75.0     14.0               1000   \n",
       "3    8.0   52.0  408.0  81.0     14.0               1000   \n",
       "4    9.0   58.0  466.0  57.0     15.0               1000   \n",
       "\n",
       "   mb_per_month_included  minutes_included  rub_monthly_fee  rub_per_gb  \\\n",
       "0                  30720              3000             1950         150   \n",
       "1                  30720              3000             1950         150   \n",
       "2                  30720              3000             1950         150   \n",
       "3                  30720              3000             1950         150   \n",
       "4                  30720              3000             1950         150   \n",
       "\n",
       "   rub_per_message  rub_per_minute  \n",
       "0                1               1  \n",
       "1                1               1  \n",
       "2                1               1  \n",
       "3                1               1  \n",
       "4                1               1  "
      ]
     },
     "execution_count": 49,
     "metadata": {},
     "output_type": "execute_result"
    }
   ],
   "source": [
    "df_users_pivot_table_global.head()"
   ]
  },
  {
   "cell_type": "code",
   "execution_count": 50,
   "metadata": {},
   "outputs": [
    {
     "name": "stdout",
     "output_type": "stream",
     "text": [
      "<class 'pandas.core.frame.DataFrame'>\n",
      "Int64Index: 3216 entries, 0 to 3215\n",
      "Data columns (total 20 columns):\n",
      "user_id                  3216 non-null int64\n",
      "age                      3216 non-null int64\n",
      "churn_date               189 non-null datetime64[ns]\n",
      "city                     3216 non-null object\n",
      "first_name               3216 non-null object\n",
      "last_name                3216 non-null object\n",
      "reg_date                 3216 non-null datetime64[ns]\n",
      "tariff                   3216 non-null object\n",
      "month                    3214 non-null float64\n",
      "count                    3174 non-null float64\n",
      "sum                      3174 non-null float64\n",
      "id                       2717 non-null float64\n",
      "gb_used                  3203 non-null float64\n",
      "messages_included        3216 non-null int64\n",
      "mb_per_month_included    3216 non-null int64\n",
      "minutes_included         3216 non-null int64\n",
      "rub_monthly_fee          3216 non-null int64\n",
      "rub_per_gb               3216 non-null int64\n",
      "rub_per_message          3216 non-null int64\n",
      "rub_per_minute           3216 non-null int64\n",
      "dtypes: datetime64[ns](2), float64(5), int64(9), object(4)\n",
      "memory usage: 527.6+ KB\n"
     ]
    }
   ],
   "source": [
    "df_users_pivot_table_global.info()"
   ]
  },
  {
   "cell_type": "markdown",
   "metadata": {},
   "source": [
    "**Заполнил пропущенные значения нулем**"
   ]
  },
  {
   "cell_type": "code",
   "execution_count": 51,
   "metadata": {},
   "outputs": [],
   "source": [
    "df_users_pivot_table_global = df_users_pivot_table_global.fillna(0)"
   ]
  },
  {
   "cell_type": "code",
   "execution_count": 52,
   "metadata": {},
   "outputs": [
    {
     "name": "stdout",
     "output_type": "stream",
     "text": [
      "<class 'pandas.core.frame.DataFrame'>\n",
      "Int64Index: 3216 entries, 0 to 3215\n",
      "Data columns (total 20 columns):\n",
      "user_id                  3216 non-null int64\n",
      "age                      3216 non-null int64\n",
      "churn_date               3216 non-null object\n",
      "city                     3216 non-null object\n",
      "first_name               3216 non-null object\n",
      "last_name                3216 non-null object\n",
      "reg_date                 3216 non-null datetime64[ns]\n",
      "tariff                   3216 non-null object\n",
      "month                    3216 non-null float64\n",
      "count                    3216 non-null float64\n",
      "sum                      3216 non-null float64\n",
      "id                       3216 non-null float64\n",
      "gb_used                  3216 non-null float64\n",
      "messages_included        3216 non-null int64\n",
      "mb_per_month_included    3216 non-null int64\n",
      "minutes_included         3216 non-null int64\n",
      "rub_monthly_fee          3216 non-null int64\n",
      "rub_per_gb               3216 non-null int64\n",
      "rub_per_message          3216 non-null int64\n",
      "rub_per_minute           3216 non-null int64\n",
      "dtypes: datetime64[ns](1), float64(5), int64(9), object(5)\n",
      "memory usage: 527.6+ KB\n"
     ]
    }
   ],
   "source": [
    "df_users_pivot_table_global.info()"
   ]
  },
  {
   "cell_type": "markdown",
   "metadata": {},
   "source": [
    "**Это столбцы с разницами**"
   ]
  },
  {
   "cell_type": "code",
   "execution_count": 53,
   "metadata": {},
   "outputs": [],
   "source": [
    "df_users_pivot_table_global['residual_calls'] = df_users_pivot_table_global['sum'] - df_users_pivot_table_global['minutes_included']"
   ]
  },
  {
   "cell_type": "code",
   "execution_count": 54,
   "metadata": {},
   "outputs": [],
   "source": [
    "df_users_pivot_table_global['residual_messages'] = df_users_pivot_table_global['id'] - df_users_pivot_table_global['messages_included']"
   ]
  },
  {
   "cell_type": "code",
   "execution_count": 55,
   "metadata": {},
   "outputs": [],
   "source": [
    "df_users_pivot_table_global['residual_internet'] = df_users_pivot_table_global['gb_used'] - (df_users_pivot_table_global['mb_per_month_included'] / 1024)"
   ]
  },
  {
   "cell_type": "code",
   "execution_count": 56,
   "metadata": {},
   "outputs": [
    {
     "data": {
      "text/html": [
       "<div>\n",
       "<style scoped>\n",
       "    .dataframe tbody tr th:only-of-type {\n",
       "        vertical-align: middle;\n",
       "    }\n",
       "\n",
       "    .dataframe tbody tr th {\n",
       "        vertical-align: top;\n",
       "    }\n",
       "\n",
       "    .dataframe thead th {\n",
       "        text-align: right;\n",
       "    }\n",
       "</style>\n",
       "<table border=\"1\" class=\"dataframe\">\n",
       "  <thead>\n",
       "    <tr style=\"text-align: right;\">\n",
       "      <th></th>\n",
       "      <th>user_id</th>\n",
       "      <th>age</th>\n",
       "      <th>churn_date</th>\n",
       "      <th>city</th>\n",
       "      <th>first_name</th>\n",
       "      <th>last_name</th>\n",
       "      <th>reg_date</th>\n",
       "      <th>tariff</th>\n",
       "      <th>month</th>\n",
       "      <th>count</th>\n",
       "      <th>...</th>\n",
       "      <th>messages_included</th>\n",
       "      <th>mb_per_month_included</th>\n",
       "      <th>minutes_included</th>\n",
       "      <th>rub_monthly_fee</th>\n",
       "      <th>rub_per_gb</th>\n",
       "      <th>rub_per_message</th>\n",
       "      <th>rub_per_minute</th>\n",
       "      <th>residual_calls</th>\n",
       "      <th>residual_messages</th>\n",
       "      <th>residual_internet</th>\n",
       "    </tr>\n",
       "  </thead>\n",
       "  <tbody>\n",
       "    <tr>\n",
       "      <td>0</td>\n",
       "      <td>1000</td>\n",
       "      <td>52</td>\n",
       "      <td>0</td>\n",
       "      <td>Краснодар</td>\n",
       "      <td>Рафаил</td>\n",
       "      <td>Верещагин</td>\n",
       "      <td>2018-05-25</td>\n",
       "      <td>ultra</td>\n",
       "      <td>5.0</td>\n",
       "      <td>22.0</td>\n",
       "      <td>...</td>\n",
       "      <td>1000</td>\n",
       "      <td>30720</td>\n",
       "      <td>3000</td>\n",
       "      <td>1950</td>\n",
       "      <td>150</td>\n",
       "      <td>1</td>\n",
       "      <td>1</td>\n",
       "      <td>-2841.0</td>\n",
       "      <td>-978.0</td>\n",
       "      <td>-27.0</td>\n",
       "    </tr>\n",
       "    <tr>\n",
       "      <td>1</td>\n",
       "      <td>1000</td>\n",
       "      <td>52</td>\n",
       "      <td>0</td>\n",
       "      <td>Краснодар</td>\n",
       "      <td>Рафаил</td>\n",
       "      <td>Верещагин</td>\n",
       "      <td>2018-05-25</td>\n",
       "      <td>ultra</td>\n",
       "      <td>6.0</td>\n",
       "      <td>43.0</td>\n",
       "      <td>...</td>\n",
       "      <td>1000</td>\n",
       "      <td>30720</td>\n",
       "      <td>3000</td>\n",
       "      <td>1950</td>\n",
       "      <td>150</td>\n",
       "      <td>1</td>\n",
       "      <td>1</td>\n",
       "      <td>-2828.0</td>\n",
       "      <td>-940.0</td>\n",
       "      <td>-7.0</td>\n",
       "    </tr>\n",
       "    <tr>\n",
       "      <td>2</td>\n",
       "      <td>1000</td>\n",
       "      <td>52</td>\n",
       "      <td>0</td>\n",
       "      <td>Краснодар</td>\n",
       "      <td>Рафаил</td>\n",
       "      <td>Верещагин</td>\n",
       "      <td>2018-05-25</td>\n",
       "      <td>ultra</td>\n",
       "      <td>7.0</td>\n",
       "      <td>47.0</td>\n",
       "      <td>...</td>\n",
       "      <td>1000</td>\n",
       "      <td>30720</td>\n",
       "      <td>3000</td>\n",
       "      <td>1950</td>\n",
       "      <td>150</td>\n",
       "      <td>1</td>\n",
       "      <td>1</td>\n",
       "      <td>-2660.0</td>\n",
       "      <td>-925.0</td>\n",
       "      <td>-16.0</td>\n",
       "    </tr>\n",
       "    <tr>\n",
       "      <td>3</td>\n",
       "      <td>1000</td>\n",
       "      <td>52</td>\n",
       "      <td>0</td>\n",
       "      <td>Краснодар</td>\n",
       "      <td>Рафаил</td>\n",
       "      <td>Верещагин</td>\n",
       "      <td>2018-05-25</td>\n",
       "      <td>ultra</td>\n",
       "      <td>8.0</td>\n",
       "      <td>52.0</td>\n",
       "      <td>...</td>\n",
       "      <td>1000</td>\n",
       "      <td>30720</td>\n",
       "      <td>3000</td>\n",
       "      <td>1950</td>\n",
       "      <td>150</td>\n",
       "      <td>1</td>\n",
       "      <td>1</td>\n",
       "      <td>-2592.0</td>\n",
       "      <td>-919.0</td>\n",
       "      <td>-16.0</td>\n",
       "    </tr>\n",
       "    <tr>\n",
       "      <td>4</td>\n",
       "      <td>1000</td>\n",
       "      <td>52</td>\n",
       "      <td>0</td>\n",
       "      <td>Краснодар</td>\n",
       "      <td>Рафаил</td>\n",
       "      <td>Верещагин</td>\n",
       "      <td>2018-05-25</td>\n",
       "      <td>ultra</td>\n",
       "      <td>9.0</td>\n",
       "      <td>58.0</td>\n",
       "      <td>...</td>\n",
       "      <td>1000</td>\n",
       "      <td>30720</td>\n",
       "      <td>3000</td>\n",
       "      <td>1950</td>\n",
       "      <td>150</td>\n",
       "      <td>1</td>\n",
       "      <td>1</td>\n",
       "      <td>-2534.0</td>\n",
       "      <td>-943.0</td>\n",
       "      <td>-15.0</td>\n",
       "    </tr>\n",
       "  </tbody>\n",
       "</table>\n",
       "<p>5 rows × 23 columns</p>\n",
       "</div>"
      ],
      "text/plain": [
       "   user_id  age churn_date       city first_name  last_name   reg_date tariff  \\\n",
       "0     1000   52          0  Краснодар     Рафаил  Верещагин 2018-05-25  ultra   \n",
       "1     1000   52          0  Краснодар     Рафаил  Верещагин 2018-05-25  ultra   \n",
       "2     1000   52          0  Краснодар     Рафаил  Верещагин 2018-05-25  ultra   \n",
       "3     1000   52          0  Краснодар     Рафаил  Верещагин 2018-05-25  ultra   \n",
       "4     1000   52          0  Краснодар     Рафаил  Верещагин 2018-05-25  ultra   \n",
       "\n",
       "   month  count  ...  messages_included  mb_per_month_included  \\\n",
       "0    5.0   22.0  ...               1000                  30720   \n",
       "1    6.0   43.0  ...               1000                  30720   \n",
       "2    7.0   47.0  ...               1000                  30720   \n",
       "3    8.0   52.0  ...               1000                  30720   \n",
       "4    9.0   58.0  ...               1000                  30720   \n",
       "\n",
       "   minutes_included  rub_monthly_fee  rub_per_gb  rub_per_message  \\\n",
       "0              3000             1950         150                1   \n",
       "1              3000             1950         150                1   \n",
       "2              3000             1950         150                1   \n",
       "3              3000             1950         150                1   \n",
       "4              3000             1950         150                1   \n",
       "\n",
       "   rub_per_minute  residual_calls  residual_messages  residual_internet  \n",
       "0               1         -2841.0             -978.0              -27.0  \n",
       "1               1         -2828.0             -940.0               -7.0  \n",
       "2               1         -2660.0             -925.0              -16.0  \n",
       "3               1         -2592.0             -919.0              -16.0  \n",
       "4               1         -2534.0             -943.0              -15.0  \n",
       "\n",
       "[5 rows x 23 columns]"
      ]
     },
     "execution_count": 56,
     "metadata": {},
     "output_type": "execute_result"
    }
   ],
   "source": [
    "df_users_pivot_table_global.head()"
   ]
  },
  {
   "cell_type": "code",
   "execution_count": 57,
   "metadata": {},
   "outputs": [],
   "source": [
    "pd.set_option('display.max_columns',None)"
   ]
  },
  {
   "cell_type": "code",
   "execution_count": 58,
   "metadata": {},
   "outputs": [],
   "source": [
    "df_users_pivot_table_global[['residual_calls','residual_messages','residual_internet']] = df_users_pivot_table_global[['residual_calls','residual_messages','residual_internet']].clip(lower=0)"
   ]
  },
  {
   "cell_type": "code",
   "execution_count": 59,
   "metadata": {},
   "outputs": [
    {
     "data": {
      "text/html": [
       "<div>\n",
       "<style scoped>\n",
       "    .dataframe tbody tr th:only-of-type {\n",
       "        vertical-align: middle;\n",
       "    }\n",
       "\n",
       "    .dataframe tbody tr th {\n",
       "        vertical-align: top;\n",
       "    }\n",
       "\n",
       "    .dataframe thead th {\n",
       "        text-align: right;\n",
       "    }\n",
       "</style>\n",
       "<table border=\"1\" class=\"dataframe\">\n",
       "  <thead>\n",
       "    <tr style=\"text-align: right;\">\n",
       "      <th></th>\n",
       "      <th>user_id</th>\n",
       "      <th>age</th>\n",
       "      <th>churn_date</th>\n",
       "      <th>city</th>\n",
       "      <th>first_name</th>\n",
       "      <th>last_name</th>\n",
       "      <th>reg_date</th>\n",
       "      <th>tariff</th>\n",
       "      <th>month</th>\n",
       "      <th>count</th>\n",
       "      <th>sum</th>\n",
       "      <th>id</th>\n",
       "      <th>gb_used</th>\n",
       "      <th>messages_included</th>\n",
       "      <th>mb_per_month_included</th>\n",
       "      <th>minutes_included</th>\n",
       "      <th>rub_monthly_fee</th>\n",
       "      <th>rub_per_gb</th>\n",
       "      <th>rub_per_message</th>\n",
       "      <th>rub_per_minute</th>\n",
       "      <th>residual_calls</th>\n",
       "      <th>residual_messages</th>\n",
       "      <th>residual_internet</th>\n",
       "    </tr>\n",
       "  </thead>\n",
       "  <tbody>\n",
       "    <tr>\n",
       "      <td>0</td>\n",
       "      <td>1000</td>\n",
       "      <td>52</td>\n",
       "      <td>0</td>\n",
       "      <td>Краснодар</td>\n",
       "      <td>Рафаил</td>\n",
       "      <td>Верещагин</td>\n",
       "      <td>2018-05-25</td>\n",
       "      <td>ultra</td>\n",
       "      <td>5.0</td>\n",
       "      <td>22.0</td>\n",
       "      <td>159.0</td>\n",
       "      <td>22.0</td>\n",
       "      <td>3.0</td>\n",
       "      <td>1000</td>\n",
       "      <td>30720</td>\n",
       "      <td>3000</td>\n",
       "      <td>1950</td>\n",
       "      <td>150</td>\n",
       "      <td>1</td>\n",
       "      <td>1</td>\n",
       "      <td>0.0</td>\n",
       "      <td>0.0</td>\n",
       "      <td>0.0</td>\n",
       "    </tr>\n",
       "    <tr>\n",
       "      <td>1</td>\n",
       "      <td>1000</td>\n",
       "      <td>52</td>\n",
       "      <td>0</td>\n",
       "      <td>Краснодар</td>\n",
       "      <td>Рафаил</td>\n",
       "      <td>Верещагин</td>\n",
       "      <td>2018-05-25</td>\n",
       "      <td>ultra</td>\n",
       "      <td>6.0</td>\n",
       "      <td>43.0</td>\n",
       "      <td>172.0</td>\n",
       "      <td>60.0</td>\n",
       "      <td>23.0</td>\n",
       "      <td>1000</td>\n",
       "      <td>30720</td>\n",
       "      <td>3000</td>\n",
       "      <td>1950</td>\n",
       "      <td>150</td>\n",
       "      <td>1</td>\n",
       "      <td>1</td>\n",
       "      <td>0.0</td>\n",
       "      <td>0.0</td>\n",
       "      <td>0.0</td>\n",
       "    </tr>\n",
       "    <tr>\n",
       "      <td>2</td>\n",
       "      <td>1000</td>\n",
       "      <td>52</td>\n",
       "      <td>0</td>\n",
       "      <td>Краснодар</td>\n",
       "      <td>Рафаил</td>\n",
       "      <td>Верещагин</td>\n",
       "      <td>2018-05-25</td>\n",
       "      <td>ultra</td>\n",
       "      <td>7.0</td>\n",
       "      <td>47.0</td>\n",
       "      <td>340.0</td>\n",
       "      <td>75.0</td>\n",
       "      <td>14.0</td>\n",
       "      <td>1000</td>\n",
       "      <td>30720</td>\n",
       "      <td>3000</td>\n",
       "      <td>1950</td>\n",
       "      <td>150</td>\n",
       "      <td>1</td>\n",
       "      <td>1</td>\n",
       "      <td>0.0</td>\n",
       "      <td>0.0</td>\n",
       "      <td>0.0</td>\n",
       "    </tr>\n",
       "    <tr>\n",
       "      <td>3</td>\n",
       "      <td>1000</td>\n",
       "      <td>52</td>\n",
       "      <td>0</td>\n",
       "      <td>Краснодар</td>\n",
       "      <td>Рафаил</td>\n",
       "      <td>Верещагин</td>\n",
       "      <td>2018-05-25</td>\n",
       "      <td>ultra</td>\n",
       "      <td>8.0</td>\n",
       "      <td>52.0</td>\n",
       "      <td>408.0</td>\n",
       "      <td>81.0</td>\n",
       "      <td>14.0</td>\n",
       "      <td>1000</td>\n",
       "      <td>30720</td>\n",
       "      <td>3000</td>\n",
       "      <td>1950</td>\n",
       "      <td>150</td>\n",
       "      <td>1</td>\n",
       "      <td>1</td>\n",
       "      <td>0.0</td>\n",
       "      <td>0.0</td>\n",
       "      <td>0.0</td>\n",
       "    </tr>\n",
       "    <tr>\n",
       "      <td>4</td>\n",
       "      <td>1000</td>\n",
       "      <td>52</td>\n",
       "      <td>0</td>\n",
       "      <td>Краснодар</td>\n",
       "      <td>Рафаил</td>\n",
       "      <td>Верещагин</td>\n",
       "      <td>2018-05-25</td>\n",
       "      <td>ultra</td>\n",
       "      <td>9.0</td>\n",
       "      <td>58.0</td>\n",
       "      <td>466.0</td>\n",
       "      <td>57.0</td>\n",
       "      <td>15.0</td>\n",
       "      <td>1000</td>\n",
       "      <td>30720</td>\n",
       "      <td>3000</td>\n",
       "      <td>1950</td>\n",
       "      <td>150</td>\n",
       "      <td>1</td>\n",
       "      <td>1</td>\n",
       "      <td>0.0</td>\n",
       "      <td>0.0</td>\n",
       "      <td>0.0</td>\n",
       "    </tr>\n",
       "  </tbody>\n",
       "</table>\n",
       "</div>"
      ],
      "text/plain": [
       "   user_id  age churn_date       city first_name  last_name   reg_date tariff  \\\n",
       "0     1000   52          0  Краснодар     Рафаил  Верещагин 2018-05-25  ultra   \n",
       "1     1000   52          0  Краснодар     Рафаил  Верещагин 2018-05-25  ultra   \n",
       "2     1000   52          0  Краснодар     Рафаил  Верещагин 2018-05-25  ultra   \n",
       "3     1000   52          0  Краснодар     Рафаил  Верещагин 2018-05-25  ultra   \n",
       "4     1000   52          0  Краснодар     Рафаил  Верещагин 2018-05-25  ultra   \n",
       "\n",
       "   month  count    sum    id  gb_used  messages_included  \\\n",
       "0    5.0   22.0  159.0  22.0      3.0               1000   \n",
       "1    6.0   43.0  172.0  60.0     23.0               1000   \n",
       "2    7.0   47.0  340.0  75.0     14.0               1000   \n",
       "3    8.0   52.0  408.0  81.0     14.0               1000   \n",
       "4    9.0   58.0  466.0  57.0     15.0               1000   \n",
       "\n",
       "   mb_per_month_included  minutes_included  rub_monthly_fee  rub_per_gb  \\\n",
       "0                  30720              3000             1950         150   \n",
       "1                  30720              3000             1950         150   \n",
       "2                  30720              3000             1950         150   \n",
       "3                  30720              3000             1950         150   \n",
       "4                  30720              3000             1950         150   \n",
       "\n",
       "   rub_per_message  rub_per_minute  residual_calls  residual_messages  \\\n",
       "0                1               1             0.0                0.0   \n",
       "1                1               1             0.0                0.0   \n",
       "2                1               1             0.0                0.0   \n",
       "3                1               1             0.0                0.0   \n",
       "4                1               1             0.0                0.0   \n",
       "\n",
       "   residual_internet  \n",
       "0                0.0  \n",
       "1                0.0  \n",
       "2                0.0  \n",
       "3                0.0  \n",
       "4                0.0  "
      ]
     },
     "execution_count": 59,
     "metadata": {},
     "output_type": "execute_result"
    }
   ],
   "source": [
    "df_users_pivot_table_global.head()"
   ]
  },
  {
   "cell_type": "markdown",
   "metadata": {},
   "source": [
    "**Создаю столбец income, где просто каждую разницу умножаю на значение тарифного плана, и складываю их вместе(3 штуки всего), ну и затем прибавляю к ним абонентскую плату**"
   ]
  },
  {
   "cell_type": "code",
   "execution_count": 60,
   "metadata": {},
   "outputs": [],
   "source": [
    "df_users_pivot_table_global['income'] = (df_users_pivot_table_global['residual_calls'] * df_users_pivot_table_global['rub_per_minute']) + (df_users_pivot_table_global['residual_messages'] * df_users_pivot_table_global['rub_per_message']) + (df_users_pivot_table_global['residual_internet'] * df_users_pivot_table_global['rub_per_gb']) + df_users_pivot_table_global['rub_monthly_fee']"
   ]
  },
  {
   "cell_type": "code",
   "execution_count": 61,
   "metadata": {},
   "outputs": [
    {
     "data": {
      "text/html": [
       "<div>\n",
       "<style scoped>\n",
       "    .dataframe tbody tr th:only-of-type {\n",
       "        vertical-align: middle;\n",
       "    }\n",
       "\n",
       "    .dataframe tbody tr th {\n",
       "        vertical-align: top;\n",
       "    }\n",
       "\n",
       "    .dataframe thead th {\n",
       "        text-align: right;\n",
       "    }\n",
       "</style>\n",
       "<table border=\"1\" class=\"dataframe\">\n",
       "  <thead>\n",
       "    <tr style=\"text-align: right;\">\n",
       "      <th></th>\n",
       "      <th>user_id</th>\n",
       "      <th>age</th>\n",
       "      <th>churn_date</th>\n",
       "      <th>city</th>\n",
       "      <th>first_name</th>\n",
       "      <th>last_name</th>\n",
       "      <th>reg_date</th>\n",
       "      <th>tariff</th>\n",
       "      <th>month</th>\n",
       "      <th>count</th>\n",
       "      <th>sum</th>\n",
       "      <th>id</th>\n",
       "      <th>gb_used</th>\n",
       "      <th>messages_included</th>\n",
       "      <th>mb_per_month_included</th>\n",
       "      <th>minutes_included</th>\n",
       "      <th>rub_monthly_fee</th>\n",
       "      <th>rub_per_gb</th>\n",
       "      <th>rub_per_message</th>\n",
       "      <th>rub_per_minute</th>\n",
       "      <th>residual_calls</th>\n",
       "      <th>residual_messages</th>\n",
       "      <th>residual_internet</th>\n",
       "      <th>income</th>\n",
       "    </tr>\n",
       "  </thead>\n",
       "  <tbody>\n",
       "    <tr>\n",
       "      <td>0</td>\n",
       "      <td>1000</td>\n",
       "      <td>52</td>\n",
       "      <td>0</td>\n",
       "      <td>Краснодар</td>\n",
       "      <td>Рафаил</td>\n",
       "      <td>Верещагин</td>\n",
       "      <td>2018-05-25</td>\n",
       "      <td>ultra</td>\n",
       "      <td>5.0</td>\n",
       "      <td>22.0</td>\n",
       "      <td>159.0</td>\n",
       "      <td>22.0</td>\n",
       "      <td>3.0</td>\n",
       "      <td>1000</td>\n",
       "      <td>30720</td>\n",
       "      <td>3000</td>\n",
       "      <td>1950</td>\n",
       "      <td>150</td>\n",
       "      <td>1</td>\n",
       "      <td>1</td>\n",
       "      <td>0.0</td>\n",
       "      <td>0.0</td>\n",
       "      <td>0.0</td>\n",
       "      <td>1950.0</td>\n",
       "    </tr>\n",
       "    <tr>\n",
       "      <td>1</td>\n",
       "      <td>1000</td>\n",
       "      <td>52</td>\n",
       "      <td>0</td>\n",
       "      <td>Краснодар</td>\n",
       "      <td>Рафаил</td>\n",
       "      <td>Верещагин</td>\n",
       "      <td>2018-05-25</td>\n",
       "      <td>ultra</td>\n",
       "      <td>6.0</td>\n",
       "      <td>43.0</td>\n",
       "      <td>172.0</td>\n",
       "      <td>60.0</td>\n",
       "      <td>23.0</td>\n",
       "      <td>1000</td>\n",
       "      <td>30720</td>\n",
       "      <td>3000</td>\n",
       "      <td>1950</td>\n",
       "      <td>150</td>\n",
       "      <td>1</td>\n",
       "      <td>1</td>\n",
       "      <td>0.0</td>\n",
       "      <td>0.0</td>\n",
       "      <td>0.0</td>\n",
       "      <td>1950.0</td>\n",
       "    </tr>\n",
       "    <tr>\n",
       "      <td>2</td>\n",
       "      <td>1000</td>\n",
       "      <td>52</td>\n",
       "      <td>0</td>\n",
       "      <td>Краснодар</td>\n",
       "      <td>Рафаил</td>\n",
       "      <td>Верещагин</td>\n",
       "      <td>2018-05-25</td>\n",
       "      <td>ultra</td>\n",
       "      <td>7.0</td>\n",
       "      <td>47.0</td>\n",
       "      <td>340.0</td>\n",
       "      <td>75.0</td>\n",
       "      <td>14.0</td>\n",
       "      <td>1000</td>\n",
       "      <td>30720</td>\n",
       "      <td>3000</td>\n",
       "      <td>1950</td>\n",
       "      <td>150</td>\n",
       "      <td>1</td>\n",
       "      <td>1</td>\n",
       "      <td>0.0</td>\n",
       "      <td>0.0</td>\n",
       "      <td>0.0</td>\n",
       "      <td>1950.0</td>\n",
       "    </tr>\n",
       "    <tr>\n",
       "      <td>3</td>\n",
       "      <td>1000</td>\n",
       "      <td>52</td>\n",
       "      <td>0</td>\n",
       "      <td>Краснодар</td>\n",
       "      <td>Рафаил</td>\n",
       "      <td>Верещагин</td>\n",
       "      <td>2018-05-25</td>\n",
       "      <td>ultra</td>\n",
       "      <td>8.0</td>\n",
       "      <td>52.0</td>\n",
       "      <td>408.0</td>\n",
       "      <td>81.0</td>\n",
       "      <td>14.0</td>\n",
       "      <td>1000</td>\n",
       "      <td>30720</td>\n",
       "      <td>3000</td>\n",
       "      <td>1950</td>\n",
       "      <td>150</td>\n",
       "      <td>1</td>\n",
       "      <td>1</td>\n",
       "      <td>0.0</td>\n",
       "      <td>0.0</td>\n",
       "      <td>0.0</td>\n",
       "      <td>1950.0</td>\n",
       "    </tr>\n",
       "    <tr>\n",
       "      <td>4</td>\n",
       "      <td>1000</td>\n",
       "      <td>52</td>\n",
       "      <td>0</td>\n",
       "      <td>Краснодар</td>\n",
       "      <td>Рафаил</td>\n",
       "      <td>Верещагин</td>\n",
       "      <td>2018-05-25</td>\n",
       "      <td>ultra</td>\n",
       "      <td>9.0</td>\n",
       "      <td>58.0</td>\n",
       "      <td>466.0</td>\n",
       "      <td>57.0</td>\n",
       "      <td>15.0</td>\n",
       "      <td>1000</td>\n",
       "      <td>30720</td>\n",
       "      <td>3000</td>\n",
       "      <td>1950</td>\n",
       "      <td>150</td>\n",
       "      <td>1</td>\n",
       "      <td>1</td>\n",
       "      <td>0.0</td>\n",
       "      <td>0.0</td>\n",
       "      <td>0.0</td>\n",
       "      <td>1950.0</td>\n",
       "    </tr>\n",
       "  </tbody>\n",
       "</table>\n",
       "</div>"
      ],
      "text/plain": [
       "   user_id  age churn_date       city first_name  last_name   reg_date tariff  \\\n",
       "0     1000   52          0  Краснодар     Рафаил  Верещагин 2018-05-25  ultra   \n",
       "1     1000   52          0  Краснодар     Рафаил  Верещагин 2018-05-25  ultra   \n",
       "2     1000   52          0  Краснодар     Рафаил  Верещагин 2018-05-25  ultra   \n",
       "3     1000   52          0  Краснодар     Рафаил  Верещагин 2018-05-25  ultra   \n",
       "4     1000   52          0  Краснодар     Рафаил  Верещагин 2018-05-25  ultra   \n",
       "\n",
       "   month  count    sum    id  gb_used  messages_included  \\\n",
       "0    5.0   22.0  159.0  22.0      3.0               1000   \n",
       "1    6.0   43.0  172.0  60.0     23.0               1000   \n",
       "2    7.0   47.0  340.0  75.0     14.0               1000   \n",
       "3    8.0   52.0  408.0  81.0     14.0               1000   \n",
       "4    9.0   58.0  466.0  57.0     15.0               1000   \n",
       "\n",
       "   mb_per_month_included  minutes_included  rub_monthly_fee  rub_per_gb  \\\n",
       "0                  30720              3000             1950         150   \n",
       "1                  30720              3000             1950         150   \n",
       "2                  30720              3000             1950         150   \n",
       "3                  30720              3000             1950         150   \n",
       "4                  30720              3000             1950         150   \n",
       "\n",
       "   rub_per_message  rub_per_minute  residual_calls  residual_messages  \\\n",
       "0                1               1             0.0                0.0   \n",
       "1                1               1             0.0                0.0   \n",
       "2                1               1             0.0                0.0   \n",
       "3                1               1             0.0                0.0   \n",
       "4                1               1             0.0                0.0   \n",
       "\n",
       "   residual_internet  income  \n",
       "0                0.0  1950.0  \n",
       "1                0.0  1950.0  \n",
       "2                0.0  1950.0  \n",
       "3                0.0  1950.0  \n",
       "4                0.0  1950.0  "
      ]
     },
     "execution_count": 61,
     "metadata": {},
     "output_type": "execute_result"
    }
   ],
   "source": [
    "df_users_pivot_table_global.head()"
   ]
  },
  {
   "cell_type": "markdown",
   "metadata": {},
   "source": [
    "## Проанализируем данные\n",
    "Сколько минут разговора, сколько сообщений и какой объём интернет-трафика требуется пользователям каждого тарифа в месяц? Посчитаем среднее количество, дисперсию и стандартное отклонение."
   ]
  },
  {
   "cell_type": "markdown",
   "metadata": {},
   "source": [
    "### Проанализируем данные для звонков"
   ]
  },
  {
   "cell_type": "code",
   "execution_count": 62,
   "metadata": {},
   "outputs": [],
   "source": [
    "import matplotlib.pyplot as plt"
   ]
  },
  {
   "cell_type": "code",
   "execution_count": 63,
   "metadata": {},
   "outputs": [],
   "source": [
    "import numpy as np"
   ]
  },
  {
   "cell_type": "markdown",
   "metadata": {},
   "source": [
    "**Создал две таблицы, с данными только по тарифу ultra и smart отдельно**"
   ]
  },
  {
   "cell_type": "code",
   "execution_count": 64,
   "metadata": {},
   "outputs": [],
   "source": [
    "df_users_pivot_table_global_ultra = df_users_pivot_table_global.query('tariff == \"ultra\"')"
   ]
  },
  {
   "cell_type": "code",
   "execution_count": 65,
   "metadata": {},
   "outputs": [],
   "source": [
    "df_users_pivot_table_global_smart = df_users_pivot_table_global.query('tariff == \"smart\"')"
   ]
  },
  {
   "cell_type": "code",
   "execution_count": 66,
   "metadata": {},
   "outputs": [
    {
     "data": {
      "text/plain": [
       "526.0892494929006"
      ]
     },
     "execution_count": 66,
     "metadata": {},
     "output_type": "execute_result"
    }
   ],
   "source": [
    "df_users_pivot_table_global_ultra['sum'].mean()"
   ]
  },
  {
   "cell_type": "code",
   "execution_count": 67,
   "metadata": {},
   "outputs": [
    {
     "data": {
      "text/plain": [
       "<matplotlib.axes._subplots.AxesSubplot at 0x7f5c5aa45590>"
      ]
     },
     "execution_count": 67,
     "metadata": {},
     "output_type": "execute_result"
    },
    {
     "data": {
      "image/png": "[encoded data removed]",
      "text/plain": [
       "<Figure size 432x288 with 1 Axes>"
      ]
     },
     "metadata": {
      "needs_background": "light"
     },
     "output_type": "display_data"
    }
   ],
   "source": [
    "df_users_pivot_table_global_ultra['sum'].plot(kind='hist')"
   ]
  },
  {
   "cell_type": "markdown",
   "metadata": {},
   "source": [
    "**В среднем требуется около 550 минут разговора в месяц, пользователям тарифа ultra.**"
   ]
  },
  {
   "cell_type": "code",
   "execution_count": 68,
   "metadata": {},
   "outputs": [
    {
     "data": {
      "text/plain": [
       "417.747533632287"
      ]
     },
     "execution_count": 68,
     "metadata": {},
     "output_type": "execute_result"
    }
   ],
   "source": [
    "df_users_pivot_table_global_smart['sum'].mean()"
   ]
  },
  {
   "cell_type": "code",
   "execution_count": 69,
   "metadata": {},
   "outputs": [
    {
     "data": {
      "text/plain": [
       "<matplotlib.axes._subplots.AxesSubplot at 0x7f5bf3b69dd0>"
      ]
     },
     "execution_count": 69,
     "metadata": {},
     "output_type": "execute_result"
    },
    {
     "data": {
      "image/png": "[encoded data removed]",
      "text/plain": [
       "<Figure size 432x288 with 1 Axes>"
      ]
     },
     "metadata": {
      "needs_background": "light"
     },
     "output_type": "display_data"
    }
   ],
   "source": [
    "df_users_pivot_table_global_smart['sum'].plot(kind='hist')"
   ]
  },
  {
   "cell_type": "markdown",
   "metadata": {},
   "source": [
    "**В среднем требуется около 420 минут разговора  в месяц, пользователям тарифа smart.**"
   ]
  },
  {
   "cell_type": "code",
   "execution_count": 70,
   "metadata": {},
   "outputs": [],
   "source": [
    "variance_calls_ultra = np.var(df_users_pivot_table_global_ultra['sum'])"
   ]
  },
  {
   "cell_type": "code",
   "execution_count": 71,
   "metadata": {},
   "outputs": [
    {
     "data": {
      "text/plain": [
       "100950.00623331097"
      ]
     },
     "execution_count": 71,
     "metadata": {},
     "output_type": "execute_result"
    }
   ],
   "source": [
    "variance_calls_ultra"
   ]
  },
  {
   "cell_type": "code",
   "execution_count": 72,
   "metadata": {},
   "outputs": [],
   "source": [
    "standart_deviation_calls_ultra = np.std(df_users_pivot_table_global_ultra['sum'])"
   ]
  },
  {
   "cell_type": "code",
   "execution_count": 73,
   "metadata": {},
   "outputs": [
    {
     "data": {
      "text/plain": [
       "317.72630711559117"
      ]
     },
     "execution_count": 73,
     "metadata": {},
     "output_type": "execute_result"
    }
   ],
   "source": [
    "standart_deviation_calls_ultra"
   ]
  },
  {
   "cell_type": "markdown",
   "metadata": {},
   "source": [
    "**Нашли дисперсию и стандартное отклонение для звонков(в минутах) в тарифе ultra.**"
   ]
  },
  {
   "cell_type": "code",
   "execution_count": 74,
   "metadata": {},
   "outputs": [],
   "source": [
    "variance_calls_smart = np.var(df_users_pivot_table_global_smart['sum'])"
   ]
  },
  {
   "cell_type": "code",
   "execution_count": 75,
   "metadata": {},
   "outputs": [
    {
     "data": {
      "text/plain": [
       "36265.12415310985"
      ]
     },
     "execution_count": 75,
     "metadata": {},
     "output_type": "execute_result"
    }
   ],
   "source": [
    "variance_calls_smart"
   ]
  },
  {
   "cell_type": "code",
   "execution_count": 76,
   "metadata": {},
   "outputs": [],
   "source": [
    "standart_deviation_calls_smart = np.std(df_users_pivot_table_global_smart['sum'])"
   ]
  },
  {
   "cell_type": "code",
   "execution_count": 77,
   "metadata": {},
   "outputs": [
    {
     "data": {
      "text/plain": [
       "190.4340414765959"
      ]
     },
     "execution_count": 77,
     "metadata": {},
     "output_type": "execute_result"
    }
   ],
   "source": [
    "standart_deviation_calls_smart"
   ]
  },
  {
   "cell_type": "markdown",
   "metadata": {},
   "source": [
    "**Нашли дисперсию и стандартное отклонение для звонков(в минутах) в тарифе smart.**"
   ]
  },
  {
   "cell_type": "markdown",
   "metadata": {},
   "source": [
    "**Попробую сделать вывод, что раз стандартное отклонение в тарифе ultra выше, то пользователи этого тарифа расходуют свои минуты сильно по-разному, кто-то очень много, и напротив кто-то значительно меньше.**"
   ]
  },
  {
   "cell_type": "markdown",
   "metadata": {},
   "source": [
    "### Проанализируем данные для сообщений"
   ]
  },
  {
   "cell_type": "code",
   "execution_count": 78,
   "metadata": {},
   "outputs": [
    {
     "data": {
      "text/plain": [
       "49.31338742393509"
      ]
     },
     "execution_count": 78,
     "metadata": {},
     "output_type": "execute_result"
    }
   ],
   "source": [
    "df_users_pivot_table_global_ultra['id'].mean()"
   ]
  },
  {
   "cell_type": "code",
   "execution_count": 79,
   "metadata": {},
   "outputs": [
    {
     "data": {
      "text/plain": [
       "<matplotlib.axes._subplots.AxesSubplot at 0x7f5bea03ac10>"
      ]
     },
     "execution_count": 79,
     "metadata": {},
     "output_type": "execute_result"
    },
    {
     "data": {
      "image/png": "[encoded data removed]",
      "text/plain": [
       "<Figure size 432x288 with 1 Axes>"
      ]
     },
     "metadata": {
      "needs_background": "light"
     },
     "output_type": "display_data"
    }
   ],
   "source": [
    "df_users_pivot_table_global_ultra['id'].plot(kind='hist')"
   ]
  },
  {
   "cell_type": "markdown",
   "metadata": {},
   "source": [
    "**В среднем требуется около 40 сообщений в месяц, пользователям тарифа ultra.**"
   ]
  },
  {
   "cell_type": "code",
   "execution_count": 80,
   "metadata": {},
   "outputs": [
    {
     "data": {
      "text/plain": [
       "33.36905829596412"
      ]
     },
     "execution_count": 80,
     "metadata": {},
     "output_type": "execute_result"
    }
   ],
   "source": [
    "df_users_pivot_table_global_smart['id'].mean()"
   ]
  },
  {
   "cell_type": "code",
   "execution_count": 81,
   "metadata": {},
   "outputs": [
    {
     "data": {
      "text/plain": [
       "<matplotlib.axes._subplots.AxesSubplot at 0x7f5be9fbe290>"
      ]
     },
     "execution_count": 81,
     "metadata": {},
     "output_type": "execute_result"
    },
    {
     "data": {
      "image/png": "[encoded data removed]",
      "text/plain": [
       "<Figure size 432x288 with 1 Axes>"
      ]
     },
     "metadata": {
      "needs_background": "light"
     },
     "output_type": "display_data"
    }
   ],
   "source": [
    "df_users_pivot_table_global_smart['id'].plot(kind='hist')"
   ]
  },
  {
   "cell_type": "markdown",
   "metadata": {},
   "source": [
    "**В среднем требуется около 30 сообщений в месяц, пользователям тарифа smart.**"
   ]
  },
  {
   "cell_type": "code",
   "execution_count": 82,
   "metadata": {},
   "outputs": [],
   "source": [
    "variance_messages_ultra = np.var(df_users_pivot_table_global_ultra['id'])"
   ]
  },
  {
   "cell_type": "code",
   "execution_count": 83,
   "metadata": {},
   "outputs": [
    {
     "data": {
      "text/plain": [
       "2283.0995570851965"
      ]
     },
     "execution_count": 83,
     "metadata": {},
     "output_type": "execute_result"
    }
   ],
   "source": [
    "variance_messages_ultra"
   ]
  },
  {
   "cell_type": "code",
   "execution_count": 84,
   "metadata": {},
   "outputs": [],
   "source": [
    "standart_deviation_messages_ultra = np.std(df_users_pivot_table_global_ultra['id'])"
   ]
  },
  {
   "cell_type": "code",
   "execution_count": 85,
   "metadata": {},
   "outputs": [
    {
     "data": {
      "text/plain": [
       "47.781791061922284"
      ]
     },
     "execution_count": 85,
     "metadata": {},
     "output_type": "execute_result"
    }
   ],
   "source": [
    "standart_deviation_messages_ultra"
   ]
  },
  {
   "cell_type": "markdown",
   "metadata": {},
   "source": [
    "**Нашли дисперсию и стандартное отклонение для сообщений в тарифе ultra.**"
   ]
  },
  {
   "cell_type": "code",
   "execution_count": 86,
   "metadata": {},
   "outputs": [],
   "source": [
    "variance_messages_smart = np.var(df_users_pivot_table_global_smart['id'])"
   ]
  },
  {
   "cell_type": "code",
   "execution_count": 87,
   "metadata": {},
   "outputs": [
    {
     "data": {
      "text/plain": [
       "796.5978766916688"
      ]
     },
     "execution_count": 87,
     "metadata": {},
     "output_type": "execute_result"
    }
   ],
   "source": [
    "variance_messages_smart"
   ]
  },
  {
   "cell_type": "code",
   "execution_count": 88,
   "metadata": {},
   "outputs": [],
   "source": [
    "standart_deviation_messages_smart = np.std(df_users_pivot_table_global_smart['id'])"
   ]
  },
  {
   "cell_type": "code",
   "execution_count": 89,
   "metadata": {},
   "outputs": [
    {
     "data": {
      "text/plain": [
       "28.224065559229217"
      ]
     },
     "execution_count": 89,
     "metadata": {},
     "output_type": "execute_result"
    }
   ],
   "source": [
    "standart_deviation_messages_smart"
   ]
  },
  {
   "cell_type": "markdown",
   "metadata": {},
   "source": [
    "**Нашли дисперсию и стандартное отклонение для сообщений в тарифе smart.**"
   ]
  },
  {
   "cell_type": "markdown",
   "metadata": {},
   "source": [
    "**Можно сделать вывод, что пользователи тарифа ultra отправляют значительно больше сообщений.**"
   ]
  },
  {
   "cell_type": "markdown",
   "metadata": {},
   "source": [
    "### Проанализируем данные для интернет-трафика"
   ]
  },
  {
   "cell_type": "code",
   "execution_count": 90,
   "metadata": {},
   "outputs": [
    {
     "data": {
      "text/plain": [
       "19.474645030425965"
      ]
     },
     "execution_count": 90,
     "metadata": {},
     "output_type": "execute_result"
    }
   ],
   "source": [
    "df_users_pivot_table_global_ultra['gb_used'].mean()"
   ]
  },
  {
   "cell_type": "code",
   "execution_count": 91,
   "metadata": {},
   "outputs": [
    {
     "data": {
      "text/plain": [
       "<matplotlib.axes._subplots.AxesSubplot at 0x7f5be9f823d0>"
      ]
     },
     "execution_count": 91,
     "metadata": {},
     "output_type": "execute_result"
    },
    {
     "data": {
      "image/png": "[encoded data removed]",
      "text/plain": [
       "<Figure size 432x288 with 1 Axes>"
      ]
     },
     "metadata": {
      "needs_background": "light"
     },
     "output_type": "display_data"
    }
   ],
   "source": [
    "df_users_pivot_table_global_ultra['gb_used'].plot(kind='hist')"
   ]
  },
  {
   "cell_type": "markdown",
   "metadata": {},
   "source": [
    "**В среднем требуется около 37 гигабайт трафика в месяц, пользователям тарифа ultra.**"
   ]
  },
  {
   "cell_type": "code",
   "execution_count": 92,
   "metadata": {},
   "outputs": [
    {
     "data": {
      "text/plain": [
       "16.32152466367713"
      ]
     },
     "execution_count": 92,
     "metadata": {},
     "output_type": "execute_result"
    }
   ],
   "source": [
    "df_users_pivot_table_global_smart['gb_used'].mean()"
   ]
  },
  {
   "cell_type": "code",
   "execution_count": 93,
   "metadata": {},
   "outputs": [
    {
     "data": {
      "text/plain": [
       "<matplotlib.axes._subplots.AxesSubplot at 0x7f5be9e53510>"
      ]
     },
     "execution_count": 93,
     "metadata": {},
     "output_type": "execute_result"
    },
    {
     "data": {
      "image/png": "[encoded data removed]",
      "text/plain": [
       "<Figure size 432x288 with 1 Axes>"
      ]
     },
     "metadata": {
      "needs_background": "light"
     },
     "output_type": "display_data"
    }
   ],
   "source": [
    "df_users_pivot_table_global_smart['gb_used'].plot(kind='hist')"
   ]
  },
  {
   "cell_type": "markdown",
   "metadata": {},
   "source": [
    "**В среднем требуется около 42 гигабайт трафика в месяц, пользователям тарифа smart.**"
   ]
  },
  {
   "cell_type": "code",
   "execution_count": 94,
   "metadata": {},
   "outputs": [],
   "source": [
    "variance_internet_ultra = np.var(df_users_pivot_table_global_ultra['gb_used'])"
   ]
  },
  {
   "cell_type": "code",
   "execution_count": 95,
   "metadata": {},
   "outputs": [
    {
     "data": {
      "text/plain": [
       "97.27978308900674"
      ]
     },
     "execution_count": 95,
     "metadata": {},
     "output_type": "execute_result"
    }
   ],
   "source": [
    "variance_internet_ultra"
   ]
  },
  {
   "cell_type": "code",
   "execution_count": 96,
   "metadata": {},
   "outputs": [],
   "source": [
    "standart_deviation_internet_ultra = np.std(df_users_pivot_table_global_ultra['gb_used'])"
   ]
  },
  {
   "cell_type": "code",
   "execution_count": 97,
   "metadata": {},
   "outputs": [
    {
     "data": {
      "text/plain": [
       "9.863051408616236"
      ]
     },
     "execution_count": 97,
     "metadata": {},
     "output_type": "execute_result"
    }
   ],
   "source": [
    "standart_deviation_internet_ultra"
   ]
  },
  {
   "cell_type": "markdown",
   "metadata": {},
   "source": [
    "**Нашли дисперсию и стандартное отклонение для интернет-трафика в тарифе ultra.**"
   ]
  },
  {
   "cell_type": "code",
   "execution_count": 98,
   "metadata": {},
   "outputs": [],
   "source": [
    "variance_internet_smart = np.var(df_users_pivot_table_global_smart['gb_used'])"
   ]
  },
  {
   "cell_type": "code",
   "execution_count": 99,
   "metadata": {},
   "outputs": [
    {
     "data": {
      "text/plain": [
       "33.11859498481772"
      ]
     },
     "execution_count": 99,
     "metadata": {},
     "output_type": "execute_result"
    }
   ],
   "source": [
    "variance_internet_smart"
   ]
  },
  {
   "cell_type": "code",
   "execution_count": 100,
   "metadata": {},
   "outputs": [],
   "source": [
    "standart_deviation_internet_smart = np.std(df_users_pivot_table_global_smart['gb_used'])"
   ]
  },
  {
   "cell_type": "code",
   "execution_count": 101,
   "metadata": {},
   "outputs": [
    {
     "data": {
      "text/plain": [
       "5.754875757548352"
      ]
     },
     "execution_count": 101,
     "metadata": {},
     "output_type": "execute_result"
    }
   ],
   "source": [
    "standart_deviation_internet_smart"
   ]
  },
  {
   "cell_type": "markdown",
   "metadata": {},
   "source": [
    "**Нашли дисперсию и стандартное отклонение для интернет-трафика в тарифе smart.**"
   ]
  },
  {
   "cell_type": "markdown",
   "metadata": {},
   "source": [
    "**Похоже на то, что пользователи обоих тарифов расходуют трафик с похожим стандартным отклоенением при близких средних значениях, скорее всего в обоих тарифах абоненты расходуют трафик примерно одинаково**"
   ]
  },
  {
   "cell_type": "markdown",
   "metadata": {},
   "source": [
    "## Проверка гипотезы"
   ]
  },
  {
   "cell_type": "markdown",
   "metadata": {},
   "source": [
    "### Сначала проверим нулевую гипотезу о том, что средняя выручка пользователей тарифов «Ультра» и «Смарт»  не различаются."
   ]
  },
  {
   "cell_type": "code",
   "execution_count": 102,
   "metadata": {},
   "outputs": [],
   "source": [
    "from scipy import stats as st"
   ]
  },
  {
   "cell_type": "code",
   "execution_count": 103,
   "metadata": {},
   "outputs": [
    {
     "name": "stdout",
     "output_type": "stream",
     "text": [
      "p-значение: 8.081909555489933e-161\n",
      "Отвергаем нулевую гипотезу\n"
     ]
    }
   ],
   "source": [
    "alpha = 0.05\n",
    "results_df_users_pivot_table_global = st.ttest_ind(df_users_pivot_table_global_ultra['income'], df_users_pivot_table_global_smart['income'])\n",
    "print('p-значение:', results_df_users_pivot_table_global.pvalue)\n",
    "if results_df_users_pivot_table_global.pvalue < alpha:\n",
    "    print('Отвергаем нулевую гипотезу')\n",
    "else:\n",
    "    print('Не получилось отвергнуть нулевую гипотезу')"
   ]
  },
  {
   "cell_type": "markdown",
   "metadata": {},
   "source": [
    "**Судя по данным средняя выручка пользователей тарифов «Ультра» и «Смарт» различаются, и мы отвергаем нулевую гипотезу**"
   ]
  },
  {
   "cell_type": "markdown",
   "metadata": {},
   "source": [
    "### Теперь проверим нулевую гипотезу о том, что средняя выручка пользователей из Москвы  и выручка пользователей из других регионов -  не различаются."
   ]
  },
  {
   "cell_type": "markdown",
   "metadata": {},
   "source": [
    "**Сначала создам две таблицы, для Москвы и для регионов**"
   ]
  },
  {
   "cell_type": "code",
   "execution_count": 104,
   "metadata": {},
   "outputs": [],
   "source": [
    "df_users_pivot_table_global_Moscow = df_users_pivot_table_global.query('city == \"Москва\"')\n",
    "df_users_pivot_table_global_region = df_users_pivot_table_global.query('\"Москва\" not in city')"
   ]
  },
  {
   "cell_type": "code",
   "execution_count": 105,
   "metadata": {},
   "outputs": [
    {
     "name": "stdout",
     "output_type": "stream",
     "text": [
      "p-значение: 0.5400751614511182\n",
      "Не получилось отвергнуть нулевую гипотезу\n"
     ]
    }
   ],
   "source": [
    "alpha = 0.05\n",
    "results = st.ttest_ind(df_users_pivot_table_global_Moscow['income'], df_users_pivot_table_global_region['income'])\n",
    "print('p-значение:', results.pvalue)\n",
    "if results.pvalue < alpha:\n",
    "    print('Отвергаем нулевую гипотезу')\n",
    "else:\n",
    "    print('Не получилось отвергнуть нулевую гипотезу')"
   ]
  },
  {
   "cell_type": "markdown",
   "metadata": {},
   "source": [
    "**Не удалось показать, что выручки пользователей из Москвы отличаются от выручки пользователей из других регионов. Не получилось отвергнуть нулевую гипотезу**"
   ]
  },
  {
   "cell_type": "markdown",
   "metadata": {},
   "source": [
    "## Вывод"
   ]
  },
  {
   "cell_type": "markdown",
   "metadata": {},
   "source": [
    "**На основе проведенного анализа, можно сделать выводы, что средняя выручка пользователей не зависит от региона проживания, выручка в Москве не больше чем в других городах. Также можно сделать вывод, что выручка компании по тарифу \"Ультра\" - выше, чем по тарифу \"Смарт\".\n",
    "Можно подвести итог, что абоненты тарифа ultra в среднем в месяц расходуют больше минут на разговоры и отправляют большее количество смс, чем абоненты тарифа smart, и только интернет-трафик абоненты обоих тарифов расходуют примерно одинаково.\n",
    "Так тариф ultra лучше для компании, выручка от него выше.**"
   ]
  }
 ],
 "metadata": {
  "ExecuteTimeLog": [
   {
    "duration": 588,
    "start_time": "2021-11-26T12:57:08.483Z"
   },
   {
    "duration": 205,
    "start_time": "2021-11-26T12:57:41.108Z"
   },
   {
    "duration": 136,
    "start_time": "2021-11-26T12:58:09.793Z"
   },
   {
    "duration": 136,
    "start_time": "2021-11-26T12:58:40.982Z"
   },
   {
    "duration": 367,
    "start_time": "2021-11-26T13:01:52.894Z"
   },
   {
    "duration": 368,
    "start_time": "2021-11-26T13:03:40.144Z"
   },
   {
    "duration": 10,
    "start_time": "2021-11-26T13:04:18.471Z"
   },
   {
    "duration": 13,
    "start_time": "2021-11-26T13:04:31.193Z"
   },
   {
    "duration": 7,
    "start_time": "2021-11-26T13:04:55.504Z"
   },
   {
    "duration": 7,
    "start_time": "2021-11-26T13:05:03.578Z"
   },
   {
    "duration": 8,
    "start_time": "2021-11-26T13:05:14.569Z"
   },
   {
    "duration": 8,
    "start_time": "2021-11-26T13:05:30.344Z"
   },
   {
    "duration": 7,
    "start_time": "2021-11-26T13:05:38.429Z"
   },
   {
    "duration": 9,
    "start_time": "2021-11-26T13:05:53.739Z"
   },
   {
    "duration": 19,
    "start_time": "2021-11-26T13:07:12.822Z"
   },
   {
    "duration": 24,
    "start_time": "2021-11-26T13:10:19.835Z"
   },
   {
    "duration": 14,
    "start_time": "2021-11-26T13:10:31.662Z"
   },
   {
    "duration": 7,
    "start_time": "2021-11-26T13:12:04.311Z"
   },
   {
    "duration": 8,
    "start_time": "2021-11-26T13:12:10.457Z"
   },
   {
    "duration": 7,
    "start_time": "2021-11-26T13:12:13.409Z"
   },
   {
    "duration": 8,
    "start_time": "2021-11-26T13:12:17.006Z"
   },
   {
    "duration": 2310,
    "start_time": "2021-11-26T13:14:59.486Z"
   },
   {
    "duration": 7,
    "start_time": "2021-11-26T13:16:18.166Z"
   },
   {
    "duration": 15,
    "start_time": "2021-11-26T13:19:43.596Z"
   },
   {
    "duration": 30,
    "start_time": "2021-11-26T13:24:51.573Z"
   },
   {
    "duration": 13,
    "start_time": "2021-11-26T13:25:48.279Z"
   },
   {
    "duration": 16,
    "start_time": "2021-11-26T13:27:29.199Z"
   },
   {
    "duration": 5,
    "start_time": "2021-11-26T13:28:27.041Z"
   },
   {
    "duration": 6,
    "start_time": "2021-11-26T13:29:28.637Z"
   },
   {
    "duration": 5,
    "start_time": "2021-11-26T13:33:50.288Z"
   },
   {
    "duration": 5,
    "start_time": "2021-11-26T13:34:19.961Z"
   },
   {
    "duration": 6,
    "start_time": "2021-11-26T13:34:29.009Z"
   },
   {
    "duration": 15,
    "start_time": "2021-11-26T13:38:19.227Z"
   },
   {
    "duration": 14,
    "start_time": "2021-11-26T13:38:40.548Z"
   },
   {
    "duration": 2,
    "start_time": "2021-11-26T13:39:02.816Z"
   },
   {
    "duration": 383,
    "start_time": "2021-11-26T13:39:02.827Z"
   },
   {
    "duration": 8,
    "start_time": "2021-11-26T13:39:03.212Z"
   },
   {
    "duration": 44,
    "start_time": "2021-11-26T13:39:03.222Z"
   },
   {
    "duration": 39,
    "start_time": "2021-11-26T13:39:03.268Z"
   },
   {
    "duration": 8,
    "start_time": "2021-11-26T13:39:03.308Z"
   },
   {
    "duration": 46,
    "start_time": "2021-11-26T13:39:03.317Z"
   },
   {
    "duration": 32,
    "start_time": "2021-11-26T13:39:03.364Z"
   },
   {
    "duration": 16,
    "start_time": "2021-11-26T13:39:03.398Z"
   },
   {
    "duration": 41,
    "start_time": "2021-11-26T13:39:03.416Z"
   },
   {
    "duration": 8,
    "start_time": "2021-11-26T13:39:03.459Z"
   },
   {
    "duration": 50,
    "start_time": "2021-11-26T13:39:03.469Z"
   },
   {
    "duration": 41,
    "start_time": "2021-11-26T13:39:03.520Z"
   },
   {
    "duration": 23,
    "start_time": "2021-11-26T13:39:03.563Z"
   },
   {
    "duration": 27,
    "start_time": "2021-11-26T13:39:03.588Z"
   },
   {
    "duration": 27,
    "start_time": "2021-11-26T13:39:03.617Z"
   },
   {
    "duration": 30,
    "start_time": "2021-11-26T13:39:03.646Z"
   },
   {
    "duration": 23,
    "start_time": "2021-11-26T13:39:03.678Z"
   },
   {
    "duration": 11,
    "start_time": "2021-11-26T13:40:14.905Z"
   },
   {
    "duration": 17,
    "start_time": "2021-11-26T13:40:19.202Z"
   },
   {
    "duration": 336,
    "start_time": "2021-11-26T13:40:24.633Z"
   },
   {
    "duration": 252,
    "start_time": "2021-11-26T13:40:34.656Z"
   },
   {
    "duration": 3,
    "start_time": "2021-11-26T13:40:48.307Z"
   },
   {
    "duration": 382,
    "start_time": "2021-11-26T13:40:48.314Z"
   },
   {
    "duration": 7,
    "start_time": "2021-11-26T13:40:48.698Z"
   },
   {
    "duration": 20,
    "start_time": "2021-11-26T13:40:48.707Z"
   },
   {
    "duration": 25,
    "start_time": "2021-11-26T13:40:48.729Z"
   },
   {
    "duration": 8,
    "start_time": "2021-11-26T13:40:48.755Z"
   },
   {
    "duration": 16,
    "start_time": "2021-11-26T13:40:48.788Z"
   },
   {
    "duration": 18,
    "start_time": "2021-11-26T13:40:48.805Z"
   },
   {
    "duration": 9,
    "start_time": "2021-11-26T13:40:48.826Z"
   },
   {
    "duration": 13,
    "start_time": "2021-11-26T13:40:48.837Z"
   },
   {
    "duration": 6,
    "start_time": "2021-11-26T13:40:48.852Z"
   },
   {
    "duration": 13,
    "start_time": "2021-11-26T13:40:48.888Z"
   },
   {
    "duration": 16,
    "start_time": "2021-11-26T13:40:48.903Z"
   },
   {
    "duration": 7,
    "start_time": "2021-11-26T13:40:48.921Z"
   },
   {
    "duration": 9,
    "start_time": "2021-11-26T13:40:48.929Z"
   },
   {
    "duration": 13,
    "start_time": "2021-11-26T13:40:48.939Z"
   },
   {
    "duration": 10,
    "start_time": "2021-11-26T13:40:48.953Z"
   },
   {
    "duration": 7,
    "start_time": "2021-11-26T13:40:48.988Z"
   },
   {
    "duration": 11,
    "start_time": "2021-11-26T13:51:04.453Z"
   },
   {
    "duration": 8,
    "start_time": "2021-11-26T13:56:16.159Z"
   },
   {
    "duration": 8,
    "start_time": "2021-11-26T13:57:20.853Z"
   },
   {
    "duration": 7,
    "start_time": "2021-11-26T13:57:32.515Z"
   },
   {
    "duration": 1531,
    "start_time": "2021-11-26T14:00:57.114Z"
   },
   {
    "duration": 105,
    "start_time": "2021-11-26T14:01:04.699Z"
   },
   {
    "duration": 19,
    "start_time": "2021-11-26T14:01:21.435Z"
   },
   {
    "duration": 13,
    "start_time": "2021-11-26T14:01:52.340Z"
   },
   {
    "duration": 7,
    "start_time": "2021-11-26T14:01:53.197Z"
   },
   {
    "duration": 250,
    "start_time": "2021-11-26T14:02:44.119Z"
   },
   {
    "duration": 6,
    "start_time": "2021-11-26T14:02:55.166Z"
   },
   {
    "duration": 255,
    "start_time": "2021-11-26T14:03:57.895Z"
   },
   {
    "duration": 10,
    "start_time": "2021-11-26T14:04:10.751Z"
   },
   {
    "duration": 291,
    "start_time": "2021-11-26T14:04:28.953Z"
   },
   {
    "duration": 243,
    "start_time": "2021-11-26T14:04:48.935Z"
   },
   {
    "duration": 49,
    "start_time": "2021-11-26T14:04:56.114Z"
   },
   {
    "duration": 199,
    "start_time": "2021-11-26T14:06:57.991Z"
   },
   {
    "duration": 143,
    "start_time": "2021-11-26T14:07:05.264Z"
   },
   {
    "duration": 24,
    "start_time": "2021-11-26T14:08:27.158Z"
   },
   {
    "duration": 7,
    "start_time": "2021-11-26T14:08:33.238Z"
   },
   {
    "duration": 6,
    "start_time": "2021-11-26T14:08:41.033Z"
   },
   {
    "duration": 20,
    "start_time": "2021-11-26T14:09:41.997Z"
   },
   {
    "duration": 6,
    "start_time": "2021-11-26T14:09:45.851Z"
   },
   {
    "duration": 23,
    "start_time": "2021-11-26T14:09:54.417Z"
   },
   {
    "duration": 2,
    "start_time": "2021-11-26T14:10:09.604Z"
   },
   {
    "duration": 397,
    "start_time": "2021-11-26T14:10:09.609Z"
   },
   {
    "duration": 7,
    "start_time": "2021-11-26T14:10:10.007Z"
   },
   {
    "duration": 62,
    "start_time": "2021-11-26T14:10:10.016Z"
   },
   {
    "duration": 48,
    "start_time": "2021-11-26T14:10:10.080Z"
   },
   {
    "duration": 7,
    "start_time": "2021-11-26T14:10:10.129Z"
   },
   {
    "duration": 23,
    "start_time": "2021-11-26T14:10:10.137Z"
   },
   {
    "duration": 18,
    "start_time": "2021-11-26T14:10:10.161Z"
   },
   {
    "duration": 11,
    "start_time": "2021-11-26T14:10:10.181Z"
   },
   {
    "duration": 15,
    "start_time": "2021-11-26T14:10:10.193Z"
   },
   {
    "duration": 37,
    "start_time": "2021-11-26T14:10:10.210Z"
   },
   {
    "duration": 38,
    "start_time": "2021-11-26T14:10:10.249Z"
   },
   {
    "duration": 32,
    "start_time": "2021-11-26T14:10:10.289Z"
   },
   {
    "duration": 33,
    "start_time": "2021-11-26T14:10:10.322Z"
   },
   {
    "duration": 32,
    "start_time": "2021-11-26T14:10:10.357Z"
   },
   {
    "duration": 41,
    "start_time": "2021-11-26T14:10:10.390Z"
   },
   {
    "duration": 34,
    "start_time": "2021-11-26T14:10:10.433Z"
   },
   {
    "duration": 30,
    "start_time": "2021-11-26T14:10:10.468Z"
   },
   {
    "duration": 36,
    "start_time": "2021-11-26T14:10:10.500Z"
   },
   {
    "duration": 6,
    "start_time": "2021-11-26T14:10:10.538Z"
   },
   {
    "duration": 130,
    "start_time": "2021-11-26T14:10:40.740Z"
   },
   {
    "duration": 9,
    "start_time": "2021-11-26T14:10:41.356Z"
   },
   {
    "duration": 18,
    "start_time": "2021-11-26T14:11:24.725Z"
   },
   {
    "duration": 7,
    "start_time": "2021-11-26T14:11:25.821Z"
   },
   {
    "duration": 94,
    "start_time": "2021-11-26T14:18:34.694Z"
   },
   {
    "duration": 20,
    "start_time": "2021-11-26T14:21:53.953Z"
   },
   {
    "duration": 12,
    "start_time": "2021-11-26T14:22:01.196Z"
   },
   {
    "duration": 302,
    "start_time": "2021-11-26T17:01:21.637Z"
   },
   {
    "duration": 615,
    "start_time": "2021-11-26T17:01:31.130Z"
   },
   {
    "duration": 367,
    "start_time": "2021-11-26T17:01:31.747Z"
   },
   {
    "duration": 13,
    "start_time": "2021-11-26T17:01:32.116Z"
   },
   {
    "duration": 22,
    "start_time": "2021-11-26T17:01:32.130Z"
   },
   {
    "duration": 36,
    "start_time": "2021-11-26T17:01:32.154Z"
   },
   {
    "duration": 10,
    "start_time": "2021-11-26T17:01:32.192Z"
   },
   {
    "duration": 46,
    "start_time": "2021-11-26T17:01:32.204Z"
   },
   {
    "duration": 28,
    "start_time": "2021-11-26T17:01:32.252Z"
   },
   {
    "duration": 11,
    "start_time": "2021-11-26T17:01:32.283Z"
   },
   {
    "duration": 11,
    "start_time": "2021-11-26T17:01:32.296Z"
   },
   {
    "duration": 13,
    "start_time": "2021-11-26T17:01:32.309Z"
   },
   {
    "duration": 36,
    "start_time": "2021-11-26T17:01:32.324Z"
   },
   {
    "duration": 7,
    "start_time": "2021-11-26T17:01:32.361Z"
   },
   {
    "duration": 6,
    "start_time": "2021-11-26T17:01:32.370Z"
   },
   {
    "duration": 10,
    "start_time": "2021-11-26T17:01:32.378Z"
   },
   {
    "duration": 7,
    "start_time": "2021-11-26T17:01:32.389Z"
   },
   {
    "duration": 9,
    "start_time": "2021-11-26T17:01:32.397Z"
   },
   {
    "duration": 38,
    "start_time": "2021-11-26T17:01:32.407Z"
   },
   {
    "duration": 23,
    "start_time": "2021-11-26T17:01:32.446Z"
   },
   {
    "duration": 7,
    "start_time": "2021-11-26T17:01:32.471Z"
   },
   {
    "duration": 40,
    "start_time": "2021-11-26T17:01:32.479Z"
   },
   {
    "duration": 11,
    "start_time": "2021-11-26T17:01:32.521Z"
   },
   {
    "duration": 46,
    "start_time": "2021-11-26T17:01:32.534Z"
   },
   {
    "duration": 18,
    "start_time": "2021-11-26T17:01:47.457Z"
   },
   {
    "duration": 23,
    "start_time": "2021-11-26T17:02:37.952Z"
   },
   {
    "duration": 9,
    "start_time": "2021-11-26T17:03:21.859Z"
   },
   {
    "duration": 3,
    "start_time": "2021-11-26T17:03:43.173Z"
   },
   {
    "duration": 415,
    "start_time": "2021-11-26T17:03:43.180Z"
   },
   {
    "duration": 8,
    "start_time": "2021-11-26T17:03:43.596Z"
   },
   {
    "duration": 36,
    "start_time": "2021-11-26T17:03:43.606Z"
   },
   {
    "duration": 31,
    "start_time": "2021-11-26T17:03:43.645Z"
   },
   {
    "duration": 8,
    "start_time": "2021-11-26T17:03:43.678Z"
   },
   {
    "duration": 40,
    "start_time": "2021-11-26T17:03:43.688Z"
   },
   {
    "duration": 22,
    "start_time": "2021-11-26T17:03:43.729Z"
   },
   {
    "duration": 18,
    "start_time": "2021-11-26T17:03:43.753Z"
   },
   {
    "duration": 26,
    "start_time": "2021-11-26T17:03:43.773Z"
   },
   {
    "duration": 28,
    "start_time": "2021-11-26T17:03:43.801Z"
   },
   {
    "duration": 31,
    "start_time": "2021-11-26T17:03:43.831Z"
   },
   {
    "duration": 25,
    "start_time": "2021-11-26T17:03:43.864Z"
   },
   {
    "duration": 32,
    "start_time": "2021-11-26T17:03:43.890Z"
   },
   {
    "duration": 23,
    "start_time": "2021-11-26T17:03:43.924Z"
   },
   {
    "duration": 30,
    "start_time": "2021-11-26T17:03:43.948Z"
   },
   {
    "duration": 34,
    "start_time": "2021-11-26T17:03:43.979Z"
   },
   {
    "duration": 42,
    "start_time": "2021-11-26T17:03:44.015Z"
   },
   {
    "duration": 45,
    "start_time": "2021-11-26T17:03:44.059Z"
   },
   {
    "duration": 8,
    "start_time": "2021-11-26T17:03:56.230Z"
   },
   {
    "duration": 9,
    "start_time": "2021-11-26T17:06:13.398Z"
   },
   {
    "duration": 15,
    "start_time": "2021-11-26T17:08:14.285Z"
   },
   {
    "duration": 281,
    "start_time": "2021-11-26T17:10:32.055Z"
   },
   {
    "duration": 27,
    "start_time": "2021-11-26T17:10:34.682Z"
   },
   {
    "duration": 8,
    "start_time": "2021-11-26T17:10:35.937Z"
   },
   {
    "duration": 17,
    "start_time": "2021-11-26T17:13:24.479Z"
   },
   {
    "duration": 25,
    "start_time": "2021-11-26T17:15:02.109Z"
   },
   {
    "duration": 8,
    "start_time": "2021-11-26T17:15:13.501Z"
   },
   {
    "duration": 68,
    "start_time": "2021-11-26T17:32:24.373Z"
   },
   {
    "duration": 14,
    "start_time": "2021-11-26T17:32:33.886Z"
   },
   {
    "duration": 8,
    "start_time": "2021-11-26T17:33:36.843Z"
   },
   {
    "duration": 13,
    "start_time": "2021-11-26T17:33:47.735Z"
   },
   {
    "duration": 8,
    "start_time": "2021-11-26T17:34:07.883Z"
   },
   {
    "duration": 14,
    "start_time": "2021-11-26T17:37:46.520Z"
   },
   {
    "duration": 66,
    "start_time": "2021-11-26T17:41:41.727Z"
   },
   {
    "duration": 14,
    "start_time": "2021-11-26T17:41:43.697Z"
   },
   {
    "duration": 3,
    "start_time": "2021-11-26T17:42:27.323Z"
   },
   {
    "duration": 392,
    "start_time": "2021-11-26T17:42:27.329Z"
   },
   {
    "duration": 7,
    "start_time": "2021-11-26T17:42:27.723Z"
   },
   {
    "duration": 31,
    "start_time": "2021-11-26T17:42:27.732Z"
   },
   {
    "duration": 25,
    "start_time": "2021-11-26T17:42:27.765Z"
   },
   {
    "duration": 8,
    "start_time": "2021-11-26T17:42:27.792Z"
   },
   {
    "duration": 27,
    "start_time": "2021-11-26T17:42:27.802Z"
   },
   {
    "duration": 29,
    "start_time": "2021-11-26T17:42:27.831Z"
   },
   {
    "duration": 20,
    "start_time": "2021-11-26T17:42:27.863Z"
   },
   {
    "duration": 17,
    "start_time": "2021-11-26T17:42:27.885Z"
   },
   {
    "duration": 28,
    "start_time": "2021-11-26T17:42:27.903Z"
   },
   {
    "duration": 19,
    "start_time": "2021-11-26T17:42:27.933Z"
   },
   {
    "duration": 11,
    "start_time": "2021-11-26T17:42:27.954Z"
   },
   {
    "duration": 17,
    "start_time": "2021-11-26T17:42:27.967Z"
   },
   {
    "duration": 29,
    "start_time": "2021-11-26T17:42:27.986Z"
   },
   {
    "duration": 27,
    "start_time": "2021-11-26T17:42:28.018Z"
   },
   {
    "duration": 22,
    "start_time": "2021-11-26T17:42:28.047Z"
   },
   {
    "duration": 42,
    "start_time": "2021-11-26T17:42:28.070Z"
   },
   {
    "duration": 24,
    "start_time": "2021-11-26T17:42:28.114Z"
   },
   {
    "duration": 10,
    "start_time": "2021-11-26T17:42:28.140Z"
   },
   {
    "duration": 38,
    "start_time": "2021-11-26T17:42:28.151Z"
   },
   {
    "duration": 27,
    "start_time": "2021-11-26T17:42:28.191Z"
   },
   {
    "duration": 19,
    "start_time": "2021-11-26T17:42:28.220Z"
   },
   {
    "duration": 27,
    "start_time": "2021-11-26T17:42:28.242Z"
   },
   {
    "duration": 18,
    "start_time": "2021-11-26T17:42:28.271Z"
   },
   {
    "duration": 18,
    "start_time": "2021-11-26T17:42:28.291Z"
   },
   {
    "duration": 84,
    "start_time": "2021-11-26T17:42:28.311Z"
   },
   {
    "duration": 13,
    "start_time": "2021-11-26T17:42:28.397Z"
   },
   {
    "duration": 75,
    "start_time": "2021-11-26T17:42:28.411Z"
   },
   {
    "duration": 16,
    "start_time": "2021-11-26T17:43:31.532Z"
   },
   {
    "duration": 8,
    "start_time": "2021-11-26T17:43:48.131Z"
   },
   {
    "duration": 4,
    "start_time": "2021-11-26T17:47:43.349Z"
   },
   {
    "duration": 9,
    "start_time": "2021-11-26T17:48:53.560Z"
   },
   {
    "duration": 84,
    "start_time": "2021-11-26T17:55:46.432Z"
   },
   {
    "duration": 86,
    "start_time": "2021-11-26T17:56:08.968Z"
   },
   {
    "duration": 87,
    "start_time": "2021-11-26T17:56:17.647Z"
   },
   {
    "duration": 94,
    "start_time": "2021-11-26T17:56:23.724Z"
   },
   {
    "duration": 95,
    "start_time": "2021-11-26T17:56:27.238Z"
   },
   {
    "duration": 572,
    "start_time": "2021-11-26T17:59:51.174Z"
   },
   {
    "duration": 391,
    "start_time": "2021-11-26T17:59:51.747Z"
   },
   {
    "duration": 13,
    "start_time": "2021-11-26T17:59:52.140Z"
   },
   {
    "duration": 22,
    "start_time": "2021-11-26T17:59:52.154Z"
   },
   {
    "duration": 29,
    "start_time": "2021-11-26T17:59:52.178Z"
   },
   {
    "duration": 8,
    "start_time": "2021-11-26T17:59:52.208Z"
   },
   {
    "duration": 38,
    "start_time": "2021-11-26T17:59:52.218Z"
   },
   {
    "duration": 22,
    "start_time": "2021-11-26T17:59:52.258Z"
   },
   {
    "duration": 9,
    "start_time": "2021-11-26T17:59:52.283Z"
   },
   {
    "duration": 9,
    "start_time": "2021-11-26T17:59:52.294Z"
   },
   {
    "duration": 40,
    "start_time": "2021-11-26T17:59:52.305Z"
   },
   {
    "duration": 18,
    "start_time": "2021-11-26T17:59:52.347Z"
   },
   {
    "duration": 7,
    "start_time": "2021-11-26T17:59:52.366Z"
   },
   {
    "duration": 8,
    "start_time": "2021-11-26T17:59:52.375Z"
   },
   {
    "duration": 11,
    "start_time": "2021-11-26T17:59:52.385Z"
   },
   {
    "duration": 7,
    "start_time": "2021-11-26T17:59:52.398Z"
   },
   {
    "duration": 9,
    "start_time": "2021-11-26T17:59:52.406Z"
   },
   {
    "duration": 50,
    "start_time": "2021-11-26T17:59:52.416Z"
   },
   {
    "duration": 37,
    "start_time": "2021-11-26T17:59:52.468Z"
   },
   {
    "duration": 8,
    "start_time": "2021-11-26T17:59:52.506Z"
   },
   {
    "duration": 38,
    "start_time": "2021-11-26T17:59:52.516Z"
   },
   {
    "duration": 27,
    "start_time": "2021-11-26T17:59:52.555Z"
   },
   {
    "duration": 7,
    "start_time": "2021-11-26T17:59:52.584Z"
   },
   {
    "duration": 22,
    "start_time": "2021-11-26T17:59:52.592Z"
   },
   {
    "duration": 41,
    "start_time": "2021-11-26T17:59:52.616Z"
   },
   {
    "duration": 7,
    "start_time": "2021-11-26T17:59:52.659Z"
   },
   {
    "duration": 88,
    "start_time": "2021-11-26T17:59:52.669Z"
   },
   {
    "duration": 13,
    "start_time": "2021-11-26T17:59:52.759Z"
   },
   {
    "duration": 96,
    "start_time": "2021-11-26T17:59:52.774Z"
   },
   {
    "duration": 606,
    "start_time": "2021-11-26T18:02:57.164Z"
   },
   {
    "duration": 390,
    "start_time": "2021-11-26T18:02:57.771Z"
   },
   {
    "duration": 14,
    "start_time": "2021-11-26T18:02:58.162Z"
   },
   {
    "duration": 23,
    "start_time": "2021-11-26T18:02:58.177Z"
   },
   {
    "duration": 27,
    "start_time": "2021-11-26T18:02:58.201Z"
   },
   {
    "duration": 7,
    "start_time": "2021-11-26T18:02:58.230Z"
   },
   {
    "duration": 21,
    "start_time": "2021-11-26T18:02:58.238Z"
   },
   {
    "duration": 21,
    "start_time": "2021-11-26T18:02:58.262Z"
   },
   {
    "duration": 10,
    "start_time": "2021-11-26T18:02:58.284Z"
   },
   {
    "duration": 11,
    "start_time": "2021-11-26T18:02:58.295Z"
   },
   {
    "duration": 15,
    "start_time": "2021-11-26T18:02:58.307Z"
   },
   {
    "duration": 35,
    "start_time": "2021-11-26T18:02:58.324Z"
   },
   {
    "duration": 8,
    "start_time": "2021-11-26T18:02:58.361Z"
   },
   {
    "duration": 9,
    "start_time": "2021-11-26T18:02:58.370Z"
   },
   {
    "duration": 13,
    "start_time": "2021-11-26T18:02:58.381Z"
   },
   {
    "duration": 19,
    "start_time": "2021-11-26T18:02:58.396Z"
   },
   {
    "duration": 24,
    "start_time": "2021-11-26T18:02:58.416Z"
   },
   {
    "duration": 34,
    "start_time": "2021-11-26T18:02:58.442Z"
   },
   {
    "duration": 39,
    "start_time": "2021-11-26T18:02:58.477Z"
   },
   {
    "duration": 8,
    "start_time": "2021-11-26T18:02:58.517Z"
   },
   {
    "duration": 22,
    "start_time": "2021-11-26T18:02:58.527Z"
   },
   {
    "duration": 30,
    "start_time": "2021-11-26T18:02:58.550Z"
   },
   {
    "duration": 8,
    "start_time": "2021-11-26T18:02:58.583Z"
   },
   {
    "duration": 18,
    "start_time": "2021-11-26T18:02:58.592Z"
   },
   {
    "duration": 46,
    "start_time": "2021-11-26T18:02:58.611Z"
   },
   {
    "duration": 7,
    "start_time": "2021-11-26T18:02:58.659Z"
   },
   {
    "duration": 81,
    "start_time": "2021-11-26T18:02:58.667Z"
   },
   {
    "duration": 13,
    "start_time": "2021-11-26T18:02:58.750Z"
   },
   {
    "duration": 595,
    "start_time": "2021-11-26T18:03:56.941Z"
   },
   {
    "duration": 375,
    "start_time": "2021-11-26T18:03:57.538Z"
   },
   {
    "duration": 15,
    "start_time": "2021-11-26T18:03:57.916Z"
   },
   {
    "duration": 20,
    "start_time": "2021-11-26T18:03:57.933Z"
   },
   {
    "duration": 26,
    "start_time": "2021-11-26T18:03:57.955Z"
   },
   {
    "duration": 9,
    "start_time": "2021-11-26T18:03:57.982Z"
   },
   {
    "duration": 18,
    "start_time": "2021-11-26T18:03:57.992Z"
   },
   {
    "duration": 42,
    "start_time": "2021-11-26T18:03:58.012Z"
   },
   {
    "duration": 10,
    "start_time": "2021-11-26T18:03:58.056Z"
   },
   {
    "duration": 10,
    "start_time": "2021-11-26T18:03:58.067Z"
   },
   {
    "duration": 15,
    "start_time": "2021-11-26T18:03:58.078Z"
   },
   {
    "duration": 17,
    "start_time": "2021-11-26T18:03:58.094Z"
   },
   {
    "duration": 7,
    "start_time": "2021-11-26T18:03:58.112Z"
   },
   {
    "duration": 6,
    "start_time": "2021-11-26T18:03:58.145Z"
   },
   {
    "duration": 12,
    "start_time": "2021-11-26T18:03:58.152Z"
   },
   {
    "duration": 7,
    "start_time": "2021-11-26T18:03:58.166Z"
   },
   {
    "duration": 7,
    "start_time": "2021-11-26T18:03:58.175Z"
   },
   {
    "duration": 25,
    "start_time": "2021-11-26T18:03:58.184Z"
   },
   {
    "duration": 64,
    "start_time": "2021-11-26T18:03:58.211Z"
   },
   {
    "duration": 8,
    "start_time": "2021-11-26T18:03:58.276Z"
   },
   {
    "duration": 16,
    "start_time": "2021-11-26T18:03:58.286Z"
   },
   {
    "duration": 50,
    "start_time": "2021-11-26T18:03:58.304Z"
   },
   {
    "duration": 6,
    "start_time": "2021-11-26T18:03:58.357Z"
   },
   {
    "duration": 18,
    "start_time": "2021-11-26T18:03:58.365Z"
   },
   {
    "duration": 24,
    "start_time": "2021-11-26T18:03:58.384Z"
   },
   {
    "duration": 7,
    "start_time": "2021-11-26T18:03:58.410Z"
   },
   {
    "duration": 94,
    "start_time": "2021-11-26T18:03:58.418Z"
   },
   {
    "duration": 12,
    "start_time": "2021-11-26T18:03:58.514Z"
   },
   {
    "duration": 80,
    "start_time": "2021-11-26T18:03:58.528Z"
   },
   {
    "duration": 8,
    "start_time": "2021-11-26T18:03:58.610Z"
   },
   {
    "duration": 37,
    "start_time": "2021-11-26T18:05:18.240Z"
   },
   {
    "duration": 10,
    "start_time": "2021-11-26T18:05:19.335Z"
   },
   {
    "duration": 9,
    "start_time": "2021-11-26T18:10:29.724Z"
   },
   {
    "duration": 20,
    "start_time": "2021-11-26T18:10:36.498Z"
   },
   {
    "duration": 11,
    "start_time": "2021-11-26T18:11:25.203Z"
   },
   {
    "duration": 9,
    "start_time": "2021-11-26T18:11:44.163Z"
   },
   {
    "duration": 89,
    "start_time": "2021-11-26T18:20:55.444Z"
   },
   {
    "duration": 87,
    "start_time": "2021-11-26T18:21:08.860Z"
   },
   {
    "duration": 90,
    "start_time": "2021-11-26T18:22:55.465Z"
   },
   {
    "duration": 94,
    "start_time": "2021-11-26T18:23:11.313Z"
   },
   {
    "duration": 4,
    "start_time": "2021-11-26T18:24:02.480Z"
   },
   {
    "duration": 9,
    "start_time": "2021-11-26T18:24:03.435Z"
   },
   {
    "duration": 567,
    "start_time": "2021-11-26T18:25:13.315Z"
   },
   {
    "duration": 418,
    "start_time": "2021-11-26T18:25:26.751Z"
   },
   {
    "duration": 4,
    "start_time": "2021-11-26T18:25:41.850Z"
   },
   {
    "duration": 9,
    "start_time": "2021-11-26T18:25:44.325Z"
   },
   {
    "duration": 9,
    "start_time": "2021-11-26T18:27:47.681Z"
   },
   {
    "duration": 32,
    "start_time": "2021-11-26T18:28:20.810Z"
   },
   {
    "duration": 20,
    "start_time": "2021-11-26T18:28:26.563Z"
   },
   {
    "duration": 12,
    "start_time": "2021-11-26T18:28:32.951Z"
   },
   {
    "duration": 2,
    "start_time": "2021-11-26T18:29:27.147Z"
   },
   {
    "duration": 395,
    "start_time": "2021-11-26T18:29:27.155Z"
   },
   {
    "duration": 7,
    "start_time": "2021-11-26T18:29:27.551Z"
   },
   {
    "duration": 34,
    "start_time": "2021-11-26T18:29:27.560Z"
   },
   {
    "duration": 24,
    "start_time": "2021-11-26T18:29:27.595Z"
   },
   {
    "duration": 7,
    "start_time": "2021-11-26T18:29:27.621Z"
   },
   {
    "duration": 22,
    "start_time": "2021-11-26T18:29:27.630Z"
   },
   {
    "duration": 21,
    "start_time": "2021-11-26T18:29:27.654Z"
   },
   {
    "duration": 7,
    "start_time": "2021-11-26T18:29:27.677Z"
   },
   {
    "duration": 9,
    "start_time": "2021-11-26T18:29:27.686Z"
   },
   {
    "duration": 14,
    "start_time": "2021-11-26T18:29:27.697Z"
   },
   {
    "duration": 36,
    "start_time": "2021-11-26T18:29:27.713Z"
   },
   {
    "duration": 7,
    "start_time": "2021-11-26T18:29:27.751Z"
   },
   {
    "duration": 8,
    "start_time": "2021-11-26T18:29:27.759Z"
   },
   {
    "duration": 10,
    "start_time": "2021-11-26T18:29:27.768Z"
   },
   {
    "duration": 7,
    "start_time": "2021-11-26T18:29:27.779Z"
   },
   {
    "duration": 12,
    "start_time": "2021-11-26T18:29:27.787Z"
   },
   {
    "duration": 43,
    "start_time": "2021-11-26T18:29:27.801Z"
   },
   {
    "duration": 30,
    "start_time": "2021-11-26T18:29:27.846Z"
   },
   {
    "duration": 8,
    "start_time": "2021-11-26T18:29:27.877Z"
   },
   {
    "duration": 32,
    "start_time": "2021-11-26T18:29:27.886Z"
   },
   {
    "duration": 29,
    "start_time": "2021-11-26T18:29:27.919Z"
   },
   {
    "duration": 7,
    "start_time": "2021-11-26T18:29:27.949Z"
   },
   {
    "duration": 24,
    "start_time": "2021-11-26T18:29:27.958Z"
   },
   {
    "duration": 25,
    "start_time": "2021-11-26T18:29:27.984Z"
   },
   {
    "duration": 7,
    "start_time": "2021-11-26T18:29:28.011Z"
   },
   {
    "duration": 80,
    "start_time": "2021-11-26T18:29:28.019Z"
   },
   {
    "duration": 13,
    "start_time": "2021-11-26T18:29:28.101Z"
   },
   {
    "duration": 77,
    "start_time": "2021-11-26T18:29:28.116Z"
   },
   {
    "duration": 9,
    "start_time": "2021-11-26T18:29:28.195Z"
   },
   {
    "duration": 17,
    "start_time": "2021-11-26T18:29:28.205Z"
   },
   {
    "duration": 20,
    "start_time": "2021-11-26T18:29:28.224Z"
   },
   {
    "duration": 44,
    "start_time": "2021-11-26T18:29:28.245Z"
   },
   {
    "duration": 13,
    "start_time": "2021-11-26T18:29:28.290Z"
   },
   {
    "duration": 36,
    "start_time": "2021-11-26T18:31:53.599Z"
   },
   {
    "duration": 16,
    "start_time": "2021-11-26T18:32:02.324Z"
   },
   {
    "duration": 9,
    "start_time": "2021-11-26T18:32:11.579Z"
   },
   {
    "duration": 4,
    "start_time": "2021-11-26T18:34:53.181Z"
   },
   {
    "duration": 14,
    "start_time": "2021-11-26T18:34:56.668Z"
   },
   {
    "duration": 9,
    "start_time": "2021-11-26T18:35:40.063Z"
   },
   {
    "duration": 42,
    "start_time": "2021-11-26T18:36:46.388Z"
   },
   {
    "duration": 21,
    "start_time": "2021-11-26T18:36:51.794Z"
   },
   {
    "duration": 13,
    "start_time": "2021-11-26T18:36:56.964Z"
   },
   {
    "duration": 271,
    "start_time": "2021-11-26T18:38:24.857Z"
   },
   {
    "duration": 52,
    "start_time": "2021-11-26T18:38:37.543Z"
   },
   {
    "duration": 14,
    "start_time": "2021-11-26T18:38:42.512Z"
   },
   {
    "duration": 9,
    "start_time": "2021-11-26T18:38:48.930Z"
   },
   {
    "duration": 4,
    "start_time": "2021-11-26T18:41:30.444Z"
   },
   {
    "duration": 10,
    "start_time": "2021-11-26T18:41:52.308Z"
   },
   {
    "duration": 825,
    "start_time": "2021-11-27T12:31:10.657Z"
   },
   {
    "duration": 504,
    "start_time": "2021-11-27T12:31:11.485Z"
   },
   {
    "duration": 21,
    "start_time": "2021-11-27T12:31:11.992Z"
   },
   {
    "duration": 28,
    "start_time": "2021-11-27T12:31:12.015Z"
   },
   {
    "duration": 40,
    "start_time": "2021-11-27T12:31:12.045Z"
   },
   {
    "duration": 12,
    "start_time": "2021-11-27T12:31:12.087Z"
   },
   {
    "duration": 25,
    "start_time": "2021-11-27T12:31:12.101Z"
   },
   {
    "duration": 51,
    "start_time": "2021-11-27T12:31:12.130Z"
   },
   {
    "duration": 12,
    "start_time": "2021-11-27T12:31:12.184Z"
   },
   {
    "duration": 13,
    "start_time": "2021-11-27T12:31:12.199Z"
   },
   {
    "duration": 46,
    "start_time": "2021-11-27T12:31:12.214Z"
   },
   {
    "duration": 24,
    "start_time": "2021-11-27T12:31:12.263Z"
   },
   {
    "duration": 11,
    "start_time": "2021-11-27T12:31:12.289Z"
   },
   {
    "duration": 11,
    "start_time": "2021-11-27T12:31:12.302Z"
   },
   {
    "duration": 52,
    "start_time": "2021-11-27T12:31:12.315Z"
   },
   {
    "duration": 12,
    "start_time": "2021-11-27T12:31:12.369Z"
   },
   {
    "duration": 9,
    "start_time": "2021-11-27T12:31:12.383Z"
   },
   {
    "duration": 36,
    "start_time": "2021-11-27T12:31:12.394Z"
   },
   {
    "duration": 74,
    "start_time": "2021-11-27T12:31:12.432Z"
   },
   {
    "duration": 11,
    "start_time": "2021-11-27T12:31:12.509Z"
   },
   {
    "duration": 46,
    "start_time": "2021-11-27T12:31:12.523Z"
   },
   {
    "duration": 39,
    "start_time": "2021-11-27T12:31:12.572Z"
   },
   {
    "duration": 12,
    "start_time": "2021-11-27T12:31:12.617Z"
   },
   {
    "duration": 51,
    "start_time": "2021-11-27T12:31:12.633Z"
   },
   {
    "duration": 35,
    "start_time": "2021-11-27T12:31:12.687Z"
   },
   {
    "duration": 43,
    "start_time": "2021-11-27T12:31:12.725Z"
   },
   {
    "duration": 131,
    "start_time": "2021-11-27T12:31:12.772Z"
   },
   {
    "duration": 22,
    "start_time": "2021-11-27T12:31:12.905Z"
   },
   {
    "duration": 142,
    "start_time": "2021-11-27T12:31:12.930Z"
   },
   {
    "duration": 13,
    "start_time": "2021-11-27T12:31:13.074Z"
   },
   {
    "duration": 15,
    "start_time": "2021-11-27T12:31:13.090Z"
   },
   {
    "duration": 17,
    "start_time": "2021-11-27T12:31:13.107Z"
   },
   {
    "duration": 78,
    "start_time": "2021-11-27T12:31:13.127Z"
   },
   {
    "duration": 21,
    "start_time": "2021-11-27T12:31:13.207Z"
   },
   {
    "duration": 82,
    "start_time": "2021-11-27T12:31:13.231Z"
   },
   {
    "duration": 10,
    "start_time": "2021-11-27T12:31:13.315Z"
   },
   {
    "duration": 8,
    "start_time": "2021-11-27T12:31:13.328Z"
   },
   {
    "duration": 13,
    "start_time": "2021-11-27T12:31:13.360Z"
   },
   {
    "duration": 88,
    "start_time": "2021-11-27T12:31:13.376Z"
   },
   {
    "duration": 20,
    "start_time": "2021-11-27T12:31:13.466Z"
   },
   {
    "duration": 90,
    "start_time": "2021-11-27T12:31:13.488Z"
   },
   {
    "duration": 14,
    "start_time": "2021-11-27T12:31:13.582Z"
   },
   {
    "duration": 13,
    "start_time": "2021-11-27T12:31:13.599Z"
   },
   {
    "duration": 16,
    "start_time": "2021-11-27T12:31:13.615Z"
   },
   {
    "duration": 4,
    "start_time": "2021-11-27T12:46:03.081Z"
   },
   {
    "duration": 6,
    "start_time": "2021-11-27T12:46:11.051Z"
   },
   {
    "duration": 3,
    "start_time": "2021-11-27T12:46:18.347Z"
   },
   {
    "duration": 537,
    "start_time": "2021-11-27T12:46:18.355Z"
   },
   {
    "duration": 11,
    "start_time": "2021-11-27T12:46:18.895Z"
   },
   {
    "duration": 29,
    "start_time": "2021-11-27T12:46:18.908Z"
   },
   {
    "duration": 37,
    "start_time": "2021-11-27T12:46:18.939Z"
   },
   {
    "duration": 12,
    "start_time": "2021-11-27T12:46:18.978Z"
   },
   {
    "duration": 22,
    "start_time": "2021-11-27T12:46:18.992Z"
   },
   {
    "duration": 51,
    "start_time": "2021-11-27T12:46:19.017Z"
   },
   {
    "duration": 9,
    "start_time": "2021-11-27T12:46:19.072Z"
   },
   {
    "duration": 12,
    "start_time": "2021-11-27T12:46:19.084Z"
   },
   {
    "duration": 20,
    "start_time": "2021-11-27T12:46:19.098Z"
   },
   {
    "duration": 52,
    "start_time": "2021-11-27T12:46:19.120Z"
   },
   {
    "duration": 11,
    "start_time": "2021-11-27T12:46:19.174Z"
   },
   {
    "duration": 14,
    "start_time": "2021-11-27T12:46:19.187Z"
   },
   {
    "duration": 15,
    "start_time": "2021-11-27T12:46:19.203Z"
   },
   {
    "duration": 42,
    "start_time": "2021-11-27T12:46:19.220Z"
   },
   {
    "duration": 19,
    "start_time": "2021-11-27T12:46:19.264Z"
   },
   {
    "duration": 44,
    "start_time": "2021-11-27T12:46:19.285Z"
   },
   {
    "duration": 46,
    "start_time": "2021-11-27T12:46:19.331Z"
   },
   {
    "duration": 12,
    "start_time": "2021-11-27T12:46:19.379Z"
   },
   {
    "duration": 28,
    "start_time": "2021-11-27T12:46:19.393Z"
   },
   {
    "duration": 51,
    "start_time": "2021-11-27T12:46:19.424Z"
   },
   {
    "duration": 11,
    "start_time": "2021-11-27T12:46:19.477Z"
   },
   {
    "duration": 31,
    "start_time": "2021-11-27T12:46:19.492Z"
   },
   {
    "duration": 44,
    "start_time": "2021-11-27T12:46:19.526Z"
   },
   {
    "duration": 10,
    "start_time": "2021-11-27T12:46:19.573Z"
   },
   {
    "duration": 6,
    "start_time": "2021-11-27T12:46:19.586Z"
   },
   {
    "duration": 15,
    "start_time": "2021-11-27T12:46:19.594Z"
   },
   {
    "duration": 118,
    "start_time": "2021-11-27T12:46:19.611Z"
   },
   {
    "duration": 28,
    "start_time": "2021-11-27T12:46:19.731Z"
   },
   {
    "duration": 120,
    "start_time": "2021-11-27T12:46:19.762Z"
   },
   {
    "duration": 14,
    "start_time": "2021-11-27T12:46:19.884Z"
   },
   {
    "duration": 7,
    "start_time": "2021-11-27T12:46:19.901Z"
   },
   {
    "duration": 17,
    "start_time": "2021-11-27T12:46:19.910Z"
   },
   {
    "duration": 51,
    "start_time": "2021-11-27T12:46:19.960Z"
   },
   {
    "duration": 18,
    "start_time": "2021-11-27T12:46:20.014Z"
   },
   {
    "duration": 76,
    "start_time": "2021-11-27T12:46:20.034Z"
   },
   {
    "duration": 11,
    "start_time": "2021-11-27T12:46:20.113Z"
   },
   {
    "duration": 8,
    "start_time": "2021-11-27T12:46:20.126Z"
   },
   {
    "duration": 28,
    "start_time": "2021-11-27T12:46:20.136Z"
   },
   {
    "duration": 67,
    "start_time": "2021-11-27T12:46:20.166Z"
   },
   {
    "duration": 40,
    "start_time": "2021-11-27T12:46:20.235Z"
   },
   {
    "duration": 62,
    "start_time": "2021-11-27T12:46:20.277Z"
   },
   {
    "duration": 25,
    "start_time": "2021-11-27T12:46:20.342Z"
   },
   {
    "duration": 10,
    "start_time": "2021-11-27T12:46:20.369Z"
   },
   {
    "duration": 19,
    "start_time": "2021-11-27T12:46:20.381Z"
   },
   {
    "duration": 458,
    "start_time": "2021-11-27T12:46:39.044Z"
   },
   {
    "duration": 364,
    "start_time": "2021-11-27T12:46:51.620Z"
   },
   {
    "duration": 5,
    "start_time": "2021-11-27T12:47:04.340Z"
   },
   {
    "duration": 5,
    "start_time": "2021-11-27T12:47:05.962Z"
   },
   {
    "duration": 9,
    "start_time": "2021-11-27T12:47:43.983Z"
   },
   {
    "duration": 7,
    "start_time": "2021-11-27T12:47:44.523Z"
   },
   {
    "duration": 9,
    "start_time": "2021-11-27T12:48:00.439Z"
   },
   {
    "duration": 5,
    "start_time": "2021-11-27T12:48:01.933Z"
   },
   {
    "duration": 8,
    "start_time": "2021-11-27T12:48:08.962Z"
   },
   {
    "duration": 6,
    "start_time": "2021-11-27T12:48:09.547Z"
   },
   {
    "duration": 2004,
    "start_time": "2021-11-27T12:48:22.999Z"
   },
   {
    "duration": 170771,
    "start_time": "2021-11-27T12:45:34.234Z"
   },
   {
    "duration": 368,
    "start_time": "2021-11-27T12:49:14.776Z"
   },
   {
    "duration": 375,
    "start_time": "2021-11-27T12:49:26.484Z"
   },
   {
    "duration": 3,
    "start_time": "2021-11-27T12:49:51.198Z"
   },
   {
    "duration": 746,
    "start_time": "2021-11-27T12:49:51.209Z"
   },
   {
    "duration": 17,
    "start_time": "2021-11-27T12:49:51.957Z"
   },
   {
    "duration": 45,
    "start_time": "2021-11-27T12:49:51.978Z"
   },
   {
    "duration": 46,
    "start_time": "2021-11-27T12:49:52.025Z"
   },
   {
    "duration": 13,
    "start_time": "2021-11-27T12:49:52.073Z"
   },
   {
    "duration": 28,
    "start_time": "2021-11-27T12:49:52.089Z"
   },
   {
    "duration": 53,
    "start_time": "2021-11-27T12:49:52.119Z"
   },
   {
    "duration": 12,
    "start_time": "2021-11-27T12:49:52.176Z"
   },
   {
    "duration": 16,
    "start_time": "2021-11-27T12:49:52.191Z"
   },
   {
    "duration": 23,
    "start_time": "2021-11-27T12:49:52.209Z"
   },
   {
    "duration": 24,
    "start_time": "2021-11-27T12:49:52.260Z"
   },
   {
    "duration": 11,
    "start_time": "2021-11-27T12:49:52.287Z"
   },
   {
    "duration": 16,
    "start_time": "2021-11-27T12:49:52.300Z"
   },
   {
    "duration": 55,
    "start_time": "2021-11-27T12:49:52.319Z"
   },
   {
    "duration": 14,
    "start_time": "2021-11-27T12:49:52.378Z"
   },
   {
    "duration": 17,
    "start_time": "2021-11-27T12:49:52.394Z"
   },
   {
    "duration": 56,
    "start_time": "2021-11-27T12:49:52.413Z"
   },
   {
    "duration": 39,
    "start_time": "2021-11-27T12:49:52.471Z"
   },
   {
    "duration": 12,
    "start_time": "2021-11-27T12:49:52.513Z"
   },
   {
    "duration": 51,
    "start_time": "2021-11-27T12:49:52.527Z"
   },
   {
    "duration": 33,
    "start_time": "2021-11-27T12:49:52.581Z"
   },
   {
    "duration": 10,
    "start_time": "2021-11-27T12:49:52.616Z"
   },
   {
    "duration": 32,
    "start_time": "2021-11-27T12:49:52.666Z"
   },
   {
    "duration": 27,
    "start_time": "2021-11-27T12:49:52.701Z"
   },
   {
    "duration": 40,
    "start_time": "2021-11-27T12:49:52.731Z"
   },
   {
    "duration": 112,
    "start_time": "2021-11-27T12:49:52.773Z"
   },
   {
    "duration": 20,
    "start_time": "2021-11-27T12:49:52.887Z"
   },
   {
    "duration": 390,
    "start_time": "2021-11-27T12:49:52.910Z"
   },
   {
    "duration": 170507,
    "start_time": "2021-11-27T12:47:02.796Z"
   },
   {
    "duration": 170469,
    "start_time": "2021-11-27T12:47:02.835Z"
   },
   {
    "duration": 170458,
    "start_time": "2021-11-27T12:47:02.847Z"
   },
   {
    "duration": 170450,
    "start_time": "2021-11-27T12:47:02.857Z"
   },
   {
    "duration": 170444,
    "start_time": "2021-11-27T12:47:02.864Z"
   },
   {
    "duration": 170438,
    "start_time": "2021-11-27T12:47:02.871Z"
   },
   {
    "duration": 170432,
    "start_time": "2021-11-27T12:47:02.879Z"
   },
   {
    "duration": 170425,
    "start_time": "2021-11-27T12:47:02.887Z"
   },
   {
    "duration": 170418,
    "start_time": "2021-11-27T12:47:02.895Z"
   },
   {
    "duration": 170413,
    "start_time": "2021-11-27T12:47:02.902Z"
   },
   {
    "duration": 170407,
    "start_time": "2021-11-27T12:47:02.909Z"
   },
   {
    "duration": 170401,
    "start_time": "2021-11-27T12:47:02.916Z"
   },
   {
    "duration": 170395,
    "start_time": "2021-11-27T12:47:02.924Z"
   },
   {
    "duration": 170390,
    "start_time": "2021-11-27T12:47:02.930Z"
   },
   {
    "duration": 170362,
    "start_time": "2021-11-27T12:47:02.959Z"
   },
   {
    "duration": 170358,
    "start_time": "2021-11-27T12:47:02.965Z"
   },
   {
    "duration": 3,
    "start_time": "2021-11-27T12:50:04.014Z"
   },
   {
    "duration": 555,
    "start_time": "2021-11-27T12:50:04.024Z"
   },
   {
    "duration": 11,
    "start_time": "2021-11-27T12:50:04.582Z"
   },
   {
    "duration": 28,
    "start_time": "2021-11-27T12:50:04.596Z"
   },
   {
    "duration": 45,
    "start_time": "2021-11-27T12:50:04.627Z"
   },
   {
    "duration": 12,
    "start_time": "2021-11-27T12:50:04.675Z"
   },
   {
    "duration": 25,
    "start_time": "2021-11-27T12:50:04.690Z"
   },
   {
    "duration": 63,
    "start_time": "2021-11-27T12:50:04.717Z"
   },
   {
    "duration": 10,
    "start_time": "2021-11-27T12:50:04.786Z"
   },
   {
    "duration": 13,
    "start_time": "2021-11-27T12:50:04.800Z"
   },
   {
    "duration": 53,
    "start_time": "2021-11-27T12:50:04.816Z"
   },
   {
    "duration": 25,
    "start_time": "2021-11-27T12:50:04.872Z"
   },
   {
    "duration": 12,
    "start_time": "2021-11-27T12:50:04.899Z"
   },
   {
    "duration": 13,
    "start_time": "2021-11-27T12:50:04.914Z"
   },
   {
    "duration": 16,
    "start_time": "2021-11-27T12:50:04.958Z"
   },
   {
    "duration": 13,
    "start_time": "2021-11-27T12:50:04.977Z"
   },
   {
    "duration": 11,
    "start_time": "2021-11-27T12:50:04.993Z"
   },
   {
    "duration": 75,
    "start_time": "2021-11-27T12:50:05.007Z"
   },
   {
    "duration": 42,
    "start_time": "2021-11-27T12:50:05.085Z"
   },
   {
    "duration": 30,
    "start_time": "2021-11-27T12:50:05.129Z"
   },
   {
    "duration": 22,
    "start_time": "2021-11-27T12:50:05.163Z"
   },
   {
    "duration": 31,
    "start_time": "2021-11-27T12:50:05.187Z"
   },
   {
    "duration": 46,
    "start_time": "2021-11-27T12:50:05.221Z"
   },
   {
    "duration": 35,
    "start_time": "2021-11-27T12:50:05.273Z"
   },
   {
    "duration": 23,
    "start_time": "2021-11-27T12:50:05.311Z"
   },
   {
    "duration": 29,
    "start_time": "2021-11-27T12:50:05.336Z"
   },
   {
    "duration": 109,
    "start_time": "2021-11-27T12:50:05.367Z"
   },
   {
    "duration": 22,
    "start_time": "2021-11-27T12:50:05.479Z"
   },
   {
    "duration": 9,
    "start_time": "2021-11-27T12:50:05.504Z"
   },
   {
    "duration": 132,
    "start_time": "2021-11-27T12:50:05.515Z"
   },
   {
    "duration": 19,
    "start_time": "2021-11-27T12:50:05.650Z"
   },
   {
    "duration": 10,
    "start_time": "2021-11-27T12:50:05.672Z"
   },
   {
    "duration": 17,
    "start_time": "2021-11-27T12:50:05.684Z"
   },
   {
    "duration": 81,
    "start_time": "2021-11-27T12:50:05.704Z"
   },
   {
    "duration": 20,
    "start_time": "2021-11-27T12:50:05.787Z"
   },
   {
    "duration": 77,
    "start_time": "2021-11-27T12:50:05.809Z"
   },
   {
    "duration": 16,
    "start_time": "2021-11-27T12:50:05.890Z"
   },
   {
    "duration": 34,
    "start_time": "2021-11-27T12:50:05.908Z"
   },
   {
    "duration": 33,
    "start_time": "2021-11-27T12:50:05.945Z"
   },
   {
    "duration": 95,
    "start_time": "2021-11-27T12:50:05.981Z"
   },
   {
    "duration": 28,
    "start_time": "2021-11-27T12:50:06.080Z"
   },
   {
    "duration": 120,
    "start_time": "2021-11-27T12:50:06.112Z"
   },
   {
    "duration": 24,
    "start_time": "2021-11-27T12:50:06.235Z"
   },
   {
    "duration": 9,
    "start_time": "2021-11-27T12:50:06.263Z"
   },
   {
    "duration": 42,
    "start_time": "2021-11-27T12:50:06.274Z"
   },
   {
    "duration": 25,
    "start_time": "2021-11-27T12:50:41.166Z"
   },
   {
    "duration": 12,
    "start_time": "2021-11-27T12:50:53.677Z"
   },
   {
    "duration": 4,
    "start_time": "2021-11-27T12:52:16.632Z"
   },
   {
    "duration": 13,
    "start_time": "2021-11-27T12:52:19.022Z"
   },
   {
    "duration": 4,
    "start_time": "2021-11-27T12:52:29.601Z"
   },
   {
    "duration": 536,
    "start_time": "2021-11-27T12:52:29.611Z"
   },
   {
    "duration": 11,
    "start_time": "2021-11-27T12:52:30.149Z"
   },
   {
    "duration": 37,
    "start_time": "2021-11-27T12:52:30.163Z"
   },
   {
    "duration": 41,
    "start_time": "2021-11-27T12:52:30.203Z"
   },
   {
    "duration": 19,
    "start_time": "2021-11-27T12:52:30.246Z"
   },
   {
    "duration": 36,
    "start_time": "2021-11-27T12:52:30.268Z"
   },
   {
    "duration": 31,
    "start_time": "2021-11-27T12:52:30.307Z"
   },
   {
    "duration": 19,
    "start_time": "2021-11-27T12:52:30.342Z"
   },
   {
    "duration": 17,
    "start_time": "2021-11-27T12:52:30.364Z"
   },
   {
    "duration": 44,
    "start_time": "2021-11-27T12:52:30.384Z"
   },
   {
    "duration": 31,
    "start_time": "2021-11-27T12:52:30.430Z"
   },
   {
    "duration": 12,
    "start_time": "2021-11-27T12:52:30.463Z"
   },
   {
    "duration": 19,
    "start_time": "2021-11-27T12:52:30.477Z"
   },
   {
    "duration": 32,
    "start_time": "2021-11-27T12:52:30.498Z"
   },
   {
    "duration": 15,
    "start_time": "2021-11-27T12:52:30.533Z"
   },
   {
    "duration": 22,
    "start_time": "2021-11-27T12:52:30.550Z"
   },
   {
    "duration": 38,
    "start_time": "2021-11-27T12:52:30.575Z"
   },
   {
    "duration": 56,
    "start_time": "2021-11-27T12:52:30.616Z"
   },
   {
    "duration": 11,
    "start_time": "2021-11-27T12:52:30.674Z"
   },
   {
    "duration": 27,
    "start_time": "2021-11-27T12:52:30.688Z"
   },
   {
    "duration": 52,
    "start_time": "2021-11-27T12:52:30.717Z"
   },
   {
    "duration": 10,
    "start_time": "2021-11-27T12:52:30.772Z"
   },
   {
    "duration": 28,
    "start_time": "2021-11-27T12:52:30.787Z"
   },
   {
    "duration": 51,
    "start_time": "2021-11-27T12:52:30.820Z"
   },
   {
    "duration": 13,
    "start_time": "2021-11-27T12:52:30.873Z"
   },
   {
    "duration": 128,
    "start_time": "2021-11-27T12:52:30.889Z"
   },
   {
    "duration": 22,
    "start_time": "2021-11-27T12:52:31.020Z"
   },
   {
    "duration": 55,
    "start_time": "2021-11-27T12:52:31.061Z"
   },
   {
    "duration": 4,
    "start_time": "2021-11-27T12:52:31.119Z"
   },
   {
    "duration": 40,
    "start_time": "2021-11-27T12:52:31.126Z"
   },
   {
    "duration": 72,
    "start_time": "2021-11-27T12:52:31.169Z"
   },
   {
    "duration": 28,
    "start_time": "2021-11-27T12:52:31.243Z"
   },
   {
    "duration": 23,
    "start_time": "2021-11-27T12:52:31.273Z"
   },
   {
    "duration": 25,
    "start_time": "2021-11-27T12:52:31.298Z"
   },
   {
    "duration": 61,
    "start_time": "2021-11-27T12:52:31.325Z"
   },
   {
    "duration": 20,
    "start_time": "2021-11-27T12:52:31.388Z"
   },
   {
    "duration": 74,
    "start_time": "2021-11-27T12:52:31.410Z"
   },
   {
    "duration": 12,
    "start_time": "2021-11-27T12:52:31.486Z"
   },
   {
    "duration": 13,
    "start_time": "2021-11-27T12:52:31.500Z"
   },
   {
    "duration": 29,
    "start_time": "2021-11-27T12:52:31.515Z"
   },
   {
    "duration": 82,
    "start_time": "2021-11-27T12:52:31.546Z"
   },
   {
    "duration": 21,
    "start_time": "2021-11-27T12:52:31.630Z"
   },
   {
    "duration": 52,
    "start_time": "2021-11-27T12:52:31.659Z"
   },
   {
    "duration": 13,
    "start_time": "2021-11-27T12:52:31.713Z"
   },
   {
    "duration": 32,
    "start_time": "2021-11-27T12:52:31.728Z"
   },
   {
    "duration": 19,
    "start_time": "2021-11-27T12:52:31.762Z"
   },
   {
    "duration": 9421,
    "start_time": "2021-11-27T12:53:03.463Z"
   },
   {
    "duration": 3,
    "start_time": "2021-11-27T12:53:28.370Z"
   },
   {
    "duration": 12,
    "start_time": "2021-11-27T12:53:29.622Z"
   },
   {
    "duration": 9432,
    "start_time": "2021-11-27T12:53:31.273Z"
   },
   {
    "duration": 18,
    "start_time": "2021-11-27T12:54:04.571Z"
   },
   {
    "duration": 10,
    "start_time": "2021-11-27T12:54:05.000Z"
   },
   {
    "duration": 29,
    "start_time": "2021-11-27T12:54:40.685Z"
   },
   {
    "duration": 12,
    "start_time": "2021-11-27T12:54:42.168Z"
   },
   {
    "duration": 30,
    "start_time": "2021-11-27T12:55:48.489Z"
   },
   {
    "duration": 13,
    "start_time": "2021-11-27T12:55:49.092Z"
   },
   {
    "duration": 26,
    "start_time": "2021-11-27T12:56:47.776Z"
   },
   {
    "duration": 12,
    "start_time": "2021-11-27T12:56:52.743Z"
   },
   {
    "duration": 31,
    "start_time": "2021-11-27T12:57:43.982Z"
   },
   {
    "duration": 12,
    "start_time": "2021-11-27T12:57:51.499Z"
   },
   {
    "duration": 394,
    "start_time": "2021-11-27T13:01:07.367Z"
   },
   {
    "duration": 464,
    "start_time": "2021-11-27T13:01:18.597Z"
   },
   {
    "duration": 418,
    "start_time": "2021-11-27T13:01:32.819Z"
   },
   {
    "duration": 12,
    "start_time": "2021-11-27T13:02:09.952Z"
   },
   {
    "duration": 361,
    "start_time": "2021-11-27T13:04:04.552Z"
   },
   {
    "duration": 13580,
    "start_time": "2021-11-27T13:05:52.669Z"
   },
   {
    "duration": 170733,
    "start_time": "2021-11-27T13:03:15.518Z"
   },
   {
    "duration": 4,
    "start_time": "2021-11-27T13:07:21.191Z"
   },
   {
    "duration": 601,
    "start_time": "2021-11-27T13:07:21.200Z"
   },
   {
    "duration": 11,
    "start_time": "2021-11-27T13:07:21.803Z"
   },
   {
    "duration": 46,
    "start_time": "2021-11-27T13:07:21.816Z"
   },
   {
    "duration": 38,
    "start_time": "2021-11-27T13:07:21.865Z"
   },
   {
    "duration": 12,
    "start_time": "2021-11-27T13:07:21.906Z"
   },
   {
    "duration": 52,
    "start_time": "2021-11-27T13:07:21.921Z"
   },
   {
    "duration": 29,
    "start_time": "2021-11-27T13:07:21.976Z"
   },
   {
    "duration": 11,
    "start_time": "2021-11-27T13:07:22.008Z"
   },
   {
    "duration": 41,
    "start_time": "2021-11-27T13:07:22.022Z"
   },
   {
    "duration": 33,
    "start_time": "2021-11-27T13:07:22.066Z"
   },
   {
    "duration": 38,
    "start_time": "2021-11-27T13:07:22.101Z"
   },
   {
    "duration": 12,
    "start_time": "2021-11-27T13:07:22.141Z"
   },
   {
    "duration": 20,
    "start_time": "2021-11-27T13:07:22.156Z"
   },
   {
    "duration": 28,
    "start_time": "2021-11-27T13:07:22.179Z"
   },
   {
    "duration": 17,
    "start_time": "2021-11-27T13:07:22.209Z"
   },
   {
    "duration": 16,
    "start_time": "2021-11-27T13:07:22.229Z"
   },
   {
    "duration": 39,
    "start_time": "2021-11-27T13:07:22.248Z"
   },
   {
    "duration": 37,
    "start_time": "2021-11-27T13:07:22.290Z"
   },
   {
    "duration": 31,
    "start_time": "2021-11-27T13:07:22.330Z"
   },
   {
    "duration": 28,
    "start_time": "2021-11-27T13:07:22.364Z"
   },
   {
    "duration": 42,
    "start_time": "2021-11-27T13:07:22.394Z"
   },
   {
    "duration": 28,
    "start_time": "2021-11-27T13:07:22.439Z"
   },
   {
    "duration": 25,
    "start_time": "2021-11-27T13:07:22.473Z"
   },
   {
    "duration": 27,
    "start_time": "2021-11-27T13:07:22.501Z"
   },
   {
    "duration": 36,
    "start_time": "2021-11-27T13:07:22.530Z"
   },
   {
    "duration": 130,
    "start_time": "2021-11-27T13:07:22.569Z"
   },
   {
    "duration": 21,
    "start_time": "2021-11-27T13:07:22.702Z"
   },
   {
    "duration": 18,
    "start_time": "2021-11-27T13:07:22.725Z"
   },
   {
    "duration": 18,
    "start_time": "2021-11-27T13:07:22.746Z"
   },
   {
    "duration": 105,
    "start_time": "2021-11-27T13:07:22.767Z"
   },
   {
    "duration": 13,
    "start_time": "2021-11-27T13:07:22.875Z"
   },
   {
    "duration": 8,
    "start_time": "2021-11-27T13:07:22.891Z"
   },
   {
    "duration": 35,
    "start_time": "2021-11-27T13:07:22.901Z"
   },
   {
    "duration": 68,
    "start_time": "2021-11-27T13:07:22.938Z"
   },
   {
    "duration": 18,
    "start_time": "2021-11-27T13:07:23.008Z"
   },
   {
    "duration": 10,
    "start_time": "2021-11-27T13:07:23.028Z"
   },
   {
    "duration": 3,
    "start_time": "2021-11-27T13:07:23.060Z"
   },
   {
    "duration": 71,
    "start_time": "2021-11-27T13:07:23.065Z"
   },
   {
    "duration": 22,
    "start_time": "2021-11-27T13:07:23.138Z"
   },
   {
    "duration": 5,
    "start_time": "2021-11-27T13:07:23.162Z"
   },
   {
    "duration": 25,
    "start_time": "2021-11-27T13:07:23.169Z"
   },
   {
    "duration": 85,
    "start_time": "2021-11-27T13:07:23.196Z"
   },
   {
    "duration": 20,
    "start_time": "2021-11-27T13:07:23.284Z"
   },
   {
    "duration": 10,
    "start_time": "2021-11-27T13:07:23.306Z"
   },
   {
    "duration": 14,
    "start_time": "2021-11-27T13:07:23.319Z"
   },
   {
    "duration": 76,
    "start_time": "2021-11-27T13:07:23.336Z"
   },
   {
    "duration": 11,
    "start_time": "2021-11-27T13:07:23.414Z"
   },
   {
    "duration": 9,
    "start_time": "2021-11-27T13:07:23.428Z"
   },
   {
    "duration": 27,
    "start_time": "2021-11-27T13:07:23.439Z"
   },
   {
    "duration": 10,
    "start_time": "2021-11-27T13:10:43.665Z"
   },
   {
    "duration": 30,
    "start_time": "2021-11-27T13:10:54.644Z"
   },
   {
    "duration": 20,
    "start_time": "2021-11-27T13:11:06.483Z"
   },
   {
    "duration": 7,
    "start_time": "2021-11-27T13:12:43.185Z"
   },
   {
    "duration": 6,
    "start_time": "2021-11-27T13:13:10.767Z"
   },
   {
    "duration": 8,
    "start_time": "2021-11-27T13:13:22.787Z"
   },
   {
    "duration": 6,
    "start_time": "2021-11-27T13:21:12.502Z"
   },
   {
    "duration": 19,
    "start_time": "2021-11-27T13:21:21.966Z"
   },
   {
    "duration": 402,
    "start_time": "2021-11-27T13:22:52.559Z"
   },
   {
    "duration": 7,
    "start_time": "2021-11-27T13:23:06.188Z"
   },
   {
    "duration": 19,
    "start_time": "2021-11-27T13:23:07.236Z"
   },
   {
    "duration": 398,
    "start_time": "2021-11-27T13:24:20.474Z"
   },
   {
    "duration": 9,
    "start_time": "2021-11-27T13:24:39.532Z"
   },
   {
    "duration": 39,
    "start_time": "2021-11-27T13:24:46.951Z"
   },
   {
    "duration": 3,
    "start_time": "2021-11-27T13:27:03.749Z"
   },
   {
    "duration": 559,
    "start_time": "2021-11-27T13:27:03.758Z"
   },
   {
    "duration": 11,
    "start_time": "2021-11-27T13:27:04.320Z"
   },
   {
    "duration": 35,
    "start_time": "2021-11-27T13:27:04.333Z"
   },
   {
    "duration": 39,
    "start_time": "2021-11-27T13:27:04.371Z"
   },
   {
    "duration": 11,
    "start_time": "2021-11-27T13:27:04.413Z"
   },
   {
    "duration": 48,
    "start_time": "2021-11-27T13:27:04.426Z"
   },
   {
    "duration": 30,
    "start_time": "2021-11-27T13:27:04.476Z"
   },
   {
    "duration": 11,
    "start_time": "2021-11-27T13:27:04.509Z"
   },
   {
    "duration": 36,
    "start_time": "2021-11-27T13:27:04.523Z"
   },
   {
    "duration": 18,
    "start_time": "2021-11-27T13:27:04.562Z"
   },
   {
    "duration": 25,
    "start_time": "2021-11-27T13:27:04.582Z"
   },
   {
    "duration": 10,
    "start_time": "2021-11-27T13:27:04.609Z"
   },
   {
    "duration": 40,
    "start_time": "2021-11-27T13:27:04.621Z"
   },
   {
    "duration": 19,
    "start_time": "2021-11-27T13:27:04.663Z"
   },
   {
    "duration": 14,
    "start_time": "2021-11-27T13:27:04.684Z"
   },
   {
    "duration": 13,
    "start_time": "2021-11-27T13:27:04.700Z"
   },
   {
    "duration": 56,
    "start_time": "2021-11-27T13:27:04.715Z"
   },
   {
    "duration": 38,
    "start_time": "2021-11-27T13:27:04.774Z"
   },
   {
    "duration": 11,
    "start_time": "2021-11-27T13:27:04.814Z"
   },
   {
    "duration": 48,
    "start_time": "2021-11-27T13:27:04.828Z"
   },
   {
    "duration": 32,
    "start_time": "2021-11-27T13:27:04.878Z"
   },
   {
    "duration": 11,
    "start_time": "2021-11-27T13:27:04.912Z"
   },
   {
    "duration": 54,
    "start_time": "2021-11-27T13:27:04.928Z"
   },
   {
    "duration": 25,
    "start_time": "2021-11-27T13:27:04.985Z"
   },
   {
    "duration": 11,
    "start_time": "2021-11-27T13:27:05.012Z"
   },
   {
    "duration": 40,
    "start_time": "2021-11-27T13:27:05.025Z"
   },
   {
    "duration": 19,
    "start_time": "2021-11-27T13:27:05.067Z"
   },
   {
    "duration": 9,
    "start_time": "2021-11-27T13:27:05.088Z"
   },
   {
    "duration": 26,
    "start_time": "2021-11-27T13:27:05.099Z"
   },
   {
    "duration": 3,
    "start_time": "2021-11-27T13:27:05.160Z"
   },
   {
    "duration": 6,
    "start_time": "2021-11-27T13:27:05.166Z"
   },
   {
    "duration": 11,
    "start_time": "2021-11-27T13:27:05.174Z"
   },
   {
    "duration": 7,
    "start_time": "2021-11-27T13:27:05.187Z"
   },
   {
    "duration": 372,
    "start_time": "2021-11-27T13:27:05.196Z"
   },
   {
    "duration": 169964,
    "start_time": "2021-11-27T13:24:15.607Z"
   },
   {
    "duration": 169932,
    "start_time": "2021-11-27T13:24:15.641Z"
   },
   {
    "duration": 169926,
    "start_time": "2021-11-27T13:24:15.648Z"
   },
   {
    "duration": 169920,
    "start_time": "2021-11-27T13:24:15.656Z"
   },
   {
    "duration": 169914,
    "start_time": "2021-11-27T13:24:15.663Z"
   },
   {
    "duration": 169907,
    "start_time": "2021-11-27T13:24:15.672Z"
   },
   {
    "duration": 169900,
    "start_time": "2021-11-27T13:24:15.680Z"
   },
   {
    "duration": 169895,
    "start_time": "2021-11-27T13:24:15.687Z"
   },
   {
    "duration": 169866,
    "start_time": "2021-11-27T13:24:15.718Z"
   },
   {
    "duration": 169858,
    "start_time": "2021-11-27T13:24:15.727Z"
   },
   {
    "duration": 169851,
    "start_time": "2021-11-27T13:24:15.736Z"
   },
   {
    "duration": 169844,
    "start_time": "2021-11-27T13:24:15.744Z"
   },
   {
    "duration": 169837,
    "start_time": "2021-11-27T13:24:15.752Z"
   },
   {
    "duration": 169832,
    "start_time": "2021-11-27T13:24:15.759Z"
   },
   {
    "duration": 169804,
    "start_time": "2021-11-27T13:24:15.789Z"
   },
   {
    "duration": 169799,
    "start_time": "2021-11-27T13:24:15.795Z"
   },
   {
    "duration": 169791,
    "start_time": "2021-11-27T13:24:15.805Z"
   },
   {
    "duration": 169764,
    "start_time": "2021-11-27T13:24:15.833Z"
   },
   {
    "duration": 169744,
    "start_time": "2021-11-27T13:24:15.854Z"
   },
   {
    "duration": 5,
    "start_time": "2021-11-27T13:27:28.192Z"
   },
   {
    "duration": 548,
    "start_time": "2021-11-27T13:27:28.205Z"
   },
   {
    "duration": 11,
    "start_time": "2021-11-27T13:27:28.755Z"
   },
   {
    "duration": 30,
    "start_time": "2021-11-27T13:27:28.769Z"
   },
   {
    "duration": 58,
    "start_time": "2021-11-27T13:27:28.801Z"
   },
   {
    "duration": 16,
    "start_time": "2021-11-27T13:27:28.862Z"
   },
   {
    "duration": 28,
    "start_time": "2021-11-27T13:27:28.880Z"
   },
   {
    "duration": 54,
    "start_time": "2021-11-27T13:27:28.910Z"
   },
   {
    "duration": 11,
    "start_time": "2021-11-27T13:27:28.968Z"
   },
   {
    "duration": 18,
    "start_time": "2021-11-27T13:27:28.983Z"
   },
   {
    "duration": 40,
    "start_time": "2021-11-27T13:27:29.004Z"
   },
   {
    "duration": 34,
    "start_time": "2021-11-27T13:27:29.058Z"
   },
   {
    "duration": 13,
    "start_time": "2021-11-27T13:27:29.095Z"
   },
   {
    "duration": 14,
    "start_time": "2021-11-27T13:27:29.111Z"
   },
   {
    "duration": 51,
    "start_time": "2021-11-27T13:27:29.128Z"
   },
   {
    "duration": 13,
    "start_time": "2021-11-27T13:27:29.181Z"
   },
   {
    "duration": 11,
    "start_time": "2021-11-27T13:27:29.196Z"
   },
   {
    "duration": 50,
    "start_time": "2021-11-27T13:27:29.209Z"
   },
   {
    "duration": 45,
    "start_time": "2021-11-27T13:27:29.262Z"
   },
   {
    "duration": 12,
    "start_time": "2021-11-27T13:27:29.309Z"
   },
   {
    "duration": 48,
    "start_time": "2021-11-27T13:27:29.324Z"
   },
   {
    "duration": 35,
    "start_time": "2021-11-27T13:27:29.374Z"
   },
   {
    "duration": 11,
    "start_time": "2021-11-27T13:27:29.411Z"
   },
   {
    "duration": 49,
    "start_time": "2021-11-27T13:27:29.430Z"
   },
   {
    "duration": 26,
    "start_time": "2021-11-27T13:27:29.483Z"
   },
   {
    "duration": 12,
    "start_time": "2021-11-27T13:27:29.512Z"
   },
   {
    "duration": 13,
    "start_time": "2021-11-27T13:27:29.559Z"
   },
   {
    "duration": 19,
    "start_time": "2021-11-27T13:27:29.575Z"
   },
   {
    "duration": 15,
    "start_time": "2021-11-27T13:27:29.596Z"
   },
   {
    "duration": 50,
    "start_time": "2021-11-27T13:27:29.613Z"
   },
   {
    "duration": 6,
    "start_time": "2021-11-27T13:27:29.665Z"
   },
   {
    "duration": 7,
    "start_time": "2021-11-27T13:27:29.673Z"
   },
   {
    "duration": 11,
    "start_time": "2021-11-27T13:27:29.682Z"
   },
   {
    "duration": 9,
    "start_time": "2021-11-27T13:27:29.696Z"
   },
   {
    "duration": 7,
    "start_time": "2021-11-27T13:27:29.708Z"
   },
   {
    "duration": 40,
    "start_time": "2021-11-27T13:27:29.718Z"
   },
   {
    "duration": 5,
    "start_time": "2021-11-27T13:27:29.761Z"
   },
   {
    "duration": 17,
    "start_time": "2021-11-27T13:27:29.769Z"
   },
   {
    "duration": 81,
    "start_time": "2021-11-27T13:27:29.789Z"
   },
   {
    "duration": 19,
    "start_time": "2021-11-27T13:27:29.872Z"
   },
   {
    "duration": 6,
    "start_time": "2021-11-27T13:27:29.893Z"
   },
   {
    "duration": 7,
    "start_time": "2021-11-27T13:27:29.902Z"
   },
   {
    "duration": 97,
    "start_time": "2021-11-27T13:27:29.912Z"
   },
   {
    "duration": 11,
    "start_time": "2021-11-27T13:27:30.012Z"
   },
   {
    "duration": 18,
    "start_time": "2021-11-27T13:27:30.025Z"
   },
   {
    "duration": 23,
    "start_time": "2021-11-27T13:27:30.045Z"
   },
   {
    "duration": 81,
    "start_time": "2021-11-27T13:27:30.070Z"
   },
   {
    "duration": 22,
    "start_time": "2021-11-27T13:27:30.154Z"
   },
   {
    "duration": 9,
    "start_time": "2021-11-27T13:27:30.179Z"
   },
   {
    "duration": 17,
    "start_time": "2021-11-27T13:27:30.190Z"
   },
   {
    "duration": 93,
    "start_time": "2021-11-27T13:27:30.209Z"
   },
   {
    "duration": 16,
    "start_time": "2021-11-27T13:27:30.306Z"
   },
   {
    "duration": 20,
    "start_time": "2021-11-27T13:27:30.325Z"
   },
   {
    "duration": 29,
    "start_time": "2021-11-27T13:27:30.348Z"
   },
   {
    "duration": 26,
    "start_time": "2021-11-27T13:28:04.241Z"
   },
   {
    "duration": 7,
    "start_time": "2021-11-27T13:28:33.144Z"
   },
   {
    "duration": 20,
    "start_time": "2021-11-27T13:29:01.076Z"
   },
   {
    "duration": 8,
    "start_time": "2021-11-27T13:30:46.533Z"
   },
   {
    "duration": 27,
    "start_time": "2021-11-27T13:30:53.074Z"
   },
   {
    "duration": 18,
    "start_time": "2021-11-27T13:31:01.509Z"
   },
   {
    "duration": 7,
    "start_time": "2021-11-27T13:32:36.406Z"
   },
   {
    "duration": 29,
    "start_time": "2021-11-27T13:32:47.427Z"
   },
   {
    "duration": 20,
    "start_time": "2021-11-27T13:32:53.664Z"
   },
   {
    "duration": 857,
    "start_time": "2021-11-27T13:36:26.081Z"
   },
   {
    "duration": 535,
    "start_time": "2021-11-27T13:36:26.940Z"
   },
   {
    "duration": 22,
    "start_time": "2021-11-27T13:36:27.478Z"
   },
   {
    "duration": 27,
    "start_time": "2021-11-27T13:36:27.503Z"
   },
   {
    "duration": 61,
    "start_time": "2021-11-27T13:36:27.533Z"
   },
   {
    "duration": 12,
    "start_time": "2021-11-27T13:36:27.596Z"
   },
   {
    "duration": 30,
    "start_time": "2021-11-27T13:36:27.610Z"
   },
   {
    "duration": 44,
    "start_time": "2021-11-27T13:36:27.646Z"
   },
   {
    "duration": 14,
    "start_time": "2021-11-27T13:36:27.694Z"
   },
   {
    "duration": 15,
    "start_time": "2021-11-27T13:36:27.710Z"
   },
   {
    "duration": 44,
    "start_time": "2021-11-27T13:36:27.728Z"
   },
   {
    "duration": 26,
    "start_time": "2021-11-27T13:36:27.774Z"
   },
   {
    "duration": 10,
    "start_time": "2021-11-27T13:36:27.802Z"
   },
   {
    "duration": 11,
    "start_time": "2021-11-27T13:36:27.815Z"
   },
   {
    "duration": 42,
    "start_time": "2021-11-27T13:36:27.829Z"
   },
   {
    "duration": 10,
    "start_time": "2021-11-27T13:36:27.874Z"
   },
   {
    "duration": 11,
    "start_time": "2021-11-27T13:36:27.886Z"
   },
   {
    "duration": 62,
    "start_time": "2021-11-27T13:36:27.899Z"
   },
   {
    "duration": 51,
    "start_time": "2021-11-27T13:36:27.964Z"
   },
   {
    "duration": 11,
    "start_time": "2021-11-27T13:36:28.017Z"
   },
   {
    "duration": 43,
    "start_time": "2021-11-27T13:36:28.031Z"
   },
   {
    "duration": 38,
    "start_time": "2021-11-27T13:36:28.076Z"
   },
   {
    "duration": 10,
    "start_time": "2021-11-27T13:36:28.119Z"
   },
   {
    "duration": 48,
    "start_time": "2021-11-27T13:36:28.133Z"
   },
   {
    "duration": 36,
    "start_time": "2021-11-27T13:36:28.183Z"
   },
   {
    "duration": 41,
    "start_time": "2021-11-27T13:36:28.221Z"
   },
   {
    "duration": 10,
    "start_time": "2021-11-27T13:36:28.265Z"
   },
   {
    "duration": 22,
    "start_time": "2021-11-27T13:36:28.277Z"
   },
   {
    "duration": 19,
    "start_time": "2021-11-27T13:36:28.301Z"
   },
   {
    "duration": 38,
    "start_time": "2021-11-27T13:36:28.323Z"
   },
   {
    "duration": 9,
    "start_time": "2021-11-27T13:36:28.364Z"
   },
   {
    "duration": 20,
    "start_time": "2021-11-27T13:36:28.376Z"
   },
   {
    "duration": 8,
    "start_time": "2021-11-27T13:36:28.399Z"
   },
   {
    "duration": 61,
    "start_time": "2021-11-27T13:36:28.409Z"
   },
   {
    "duration": 8,
    "start_time": "2021-11-27T13:36:28.473Z"
   },
   {
    "duration": 21,
    "start_time": "2021-11-27T13:36:28.483Z"
   },
   {
    "duration": 4,
    "start_time": "2021-11-27T13:36:28.507Z"
   },
   {
    "duration": 6,
    "start_time": "2021-11-27T13:36:28.514Z"
   },
   {
    "duration": 3,
    "start_time": "2021-11-27T13:36:28.561Z"
   },
   {
    "duration": 483,
    "start_time": "2021-11-27T13:36:28.567Z"
   },
   {
    "duration": 170060,
    "start_time": "2021-11-27T13:33:38.993Z"
   },
   {
    "duration": 170056,
    "start_time": "2021-11-27T13:33:38.999Z"
   },
   {
    "duration": 170046,
    "start_time": "2021-11-27T13:33:39.010Z"
   },
   {
    "duration": 170039,
    "start_time": "2021-11-27T13:33:39.019Z"
   },
   {
    "duration": 170030,
    "start_time": "2021-11-27T13:33:39.029Z"
   },
   {
    "duration": 170022,
    "start_time": "2021-11-27T13:33:39.039Z"
   },
   {
    "duration": 170015,
    "start_time": "2021-11-27T13:33:39.047Z"
   },
   {
    "duration": 170009,
    "start_time": "2021-11-27T13:33:39.055Z"
   },
   {
    "duration": 170003,
    "start_time": "2021-11-27T13:33:39.062Z"
   },
   {
    "duration": 169997,
    "start_time": "2021-11-27T13:33:39.071Z"
   },
   {
    "duration": 169992,
    "start_time": "2021-11-27T13:33:39.077Z"
   },
   {
    "duration": 169966,
    "start_time": "2021-11-27T13:33:39.105Z"
   },
   {
    "duration": 169960,
    "start_time": "2021-11-27T13:33:39.112Z"
   },
   {
    "duration": 169951,
    "start_time": "2021-11-27T13:33:39.123Z"
   },
   {
    "duration": 169945,
    "start_time": "2021-11-27T13:33:39.130Z"
   },
   {
    "duration": 169939,
    "start_time": "2021-11-27T13:33:39.138Z"
   },
   {
    "duration": 169933,
    "start_time": "2021-11-27T13:33:39.146Z"
   },
   {
    "duration": 169922,
    "start_time": "2021-11-27T13:33:39.158Z"
   },
   {
    "duration": 818,
    "start_time": "2021-11-27T13:36:46.723Z"
   },
   {
    "duration": 569,
    "start_time": "2021-11-27T13:36:47.544Z"
   },
   {
    "duration": 19,
    "start_time": "2021-11-27T13:36:48.116Z"
   },
   {
    "duration": 48,
    "start_time": "2021-11-27T13:36:48.138Z"
   },
   {
    "duration": 42,
    "start_time": "2021-11-27T13:36:48.188Z"
   },
   {
    "duration": 32,
    "start_time": "2021-11-27T13:36:48.232Z"
   },
   {
    "duration": 30,
    "start_time": "2021-11-27T13:36:48.267Z"
   },
   {
    "duration": 31,
    "start_time": "2021-11-27T13:36:48.301Z"
   },
   {
    "duration": 38,
    "start_time": "2021-11-27T13:36:48.336Z"
   },
   {
    "duration": 10,
    "start_time": "2021-11-27T13:36:48.377Z"
   },
   {
    "duration": 20,
    "start_time": "2021-11-27T13:36:48.390Z"
   },
   {
    "duration": 59,
    "start_time": "2021-11-27T13:36:48.412Z"
   },
   {
    "duration": 12,
    "start_time": "2021-11-27T13:36:48.473Z"
   },
   {
    "duration": 15,
    "start_time": "2021-11-27T13:36:48.487Z"
   },
   {
    "duration": 18,
    "start_time": "2021-11-27T13:36:48.504Z"
   },
   {
    "duration": 11,
    "start_time": "2021-11-27T13:36:48.524Z"
   },
   {
    "duration": 16,
    "start_time": "2021-11-27T13:36:48.559Z"
   },
   {
    "duration": 37,
    "start_time": "2021-11-27T13:36:48.577Z"
   },
   {
    "duration": 68,
    "start_time": "2021-11-27T13:36:48.616Z"
   },
   {
    "duration": 11,
    "start_time": "2021-11-27T13:36:48.687Z"
   },
   {
    "duration": 24,
    "start_time": "2021-11-27T13:36:48.700Z"
   },
   {
    "duration": 63,
    "start_time": "2021-11-27T13:36:48.726Z"
   },
   {
    "duration": 10,
    "start_time": "2021-11-27T13:36:48.794Z"
   },
   {
    "duration": 27,
    "start_time": "2021-11-27T13:36:48.808Z"
   },
   {
    "duration": 57,
    "start_time": "2021-11-27T13:36:48.837Z"
   },
   {
    "duration": 11,
    "start_time": "2021-11-27T13:36:48.896Z"
   },
   {
    "duration": 13,
    "start_time": "2021-11-27T13:36:48.909Z"
   },
   {
    "duration": 55,
    "start_time": "2021-11-27T13:36:48.925Z"
   },
   {
    "duration": 14,
    "start_time": "2021-11-27T13:36:48.983Z"
   },
   {
    "duration": 17,
    "start_time": "2021-11-27T13:36:48.999Z"
   },
   {
    "duration": 9,
    "start_time": "2021-11-27T13:36:49.018Z"
   },
   {
    "duration": 45,
    "start_time": "2021-11-27T13:36:49.029Z"
   },
   {
    "duration": 7,
    "start_time": "2021-11-27T13:36:49.076Z"
   },
   {
    "duration": 22,
    "start_time": "2021-11-27T13:36:49.086Z"
   },
   {
    "duration": 8,
    "start_time": "2021-11-27T13:36:49.111Z"
   },
   {
    "duration": 59,
    "start_time": "2021-11-27T13:36:49.121Z"
   },
   {
    "duration": 5,
    "start_time": "2021-11-27T13:36:49.183Z"
   },
   {
    "duration": 10,
    "start_time": "2021-11-27T13:36:49.190Z"
   },
   {
    "duration": 10,
    "start_time": "2021-11-27T13:36:49.202Z"
   },
   {
    "duration": 12,
    "start_time": "2021-11-27T13:36:49.214Z"
   },
   {
    "duration": 492,
    "start_time": "2021-11-27T13:36:49.228Z"
   },
   {
    "duration": 169146,
    "start_time": "2021-11-27T13:34:00.577Z"
   },
   {
    "duration": 169136,
    "start_time": "2021-11-27T13:34:00.588Z"
   },
   {
    "duration": 169127,
    "start_time": "2021-11-27T13:34:00.598Z"
   },
   {
    "duration": 169118,
    "start_time": "2021-11-27T13:34:00.609Z"
   },
   {
    "duration": 169109,
    "start_time": "2021-11-27T13:34:00.620Z"
   },
   {
    "duration": 169099,
    "start_time": "2021-11-27T13:34:00.631Z"
   },
   {
    "duration": 169091,
    "start_time": "2021-11-27T13:34:00.641Z"
   },
   {
    "duration": 169080,
    "start_time": "2021-11-27T13:34:00.653Z"
   },
   {
    "duration": 169049,
    "start_time": "2021-11-27T13:34:00.685Z"
   },
   {
    "duration": 169040,
    "start_time": "2021-11-27T13:34:00.696Z"
   },
   {
    "duration": 169031,
    "start_time": "2021-11-27T13:34:00.706Z"
   },
   {
    "duration": 169021,
    "start_time": "2021-11-27T13:34:00.718Z"
   },
   {
    "duration": 169013,
    "start_time": "2021-11-27T13:34:00.727Z"
   },
   {
    "duration": 169003,
    "start_time": "2021-11-27T13:34:00.739Z"
   },
   {
    "duration": 168995,
    "start_time": "2021-11-27T13:34:00.748Z"
   },
   {
    "duration": 168984,
    "start_time": "2021-11-27T13:34:00.760Z"
   },
   {
    "duration": 168974,
    "start_time": "2021-11-27T13:34:00.772Z"
   },
   {
    "duration": 774,
    "start_time": "2021-11-27T13:37:07.879Z"
   },
   {
    "duration": 512,
    "start_time": "2021-11-27T13:37:08.656Z"
   },
   {
    "duration": 22,
    "start_time": "2021-11-27T13:37:09.170Z"
   },
   {
    "duration": 30,
    "start_time": "2021-11-27T13:37:09.196Z"
   },
   {
    "duration": 62,
    "start_time": "2021-11-27T13:37:09.229Z"
   },
   {
    "duration": 13,
    "start_time": "2021-11-27T13:37:09.294Z"
   },
   {
    "duration": 50,
    "start_time": "2021-11-27T13:37:09.310Z"
   },
   {
    "duration": 33,
    "start_time": "2021-11-27T13:37:09.366Z"
   },
   {
    "duration": 15,
    "start_time": "2021-11-27T13:37:09.403Z"
   },
   {
    "duration": 44,
    "start_time": "2021-11-27T13:37:09.421Z"
   },
   {
    "duration": 20,
    "start_time": "2021-11-27T13:37:09.468Z"
   },
   {
    "duration": 25,
    "start_time": "2021-11-27T13:37:09.491Z"
   },
   {
    "duration": 41,
    "start_time": "2021-11-27T13:37:09.519Z"
   },
   {
    "duration": 8,
    "start_time": "2021-11-27T13:37:09.563Z"
   },
   {
    "duration": 16,
    "start_time": "2021-11-27T13:37:09.573Z"
   },
   {
    "duration": 10,
    "start_time": "2021-11-27T13:37:09.591Z"
   },
   {
    "duration": 13,
    "start_time": "2021-11-27T13:37:09.603Z"
   },
   {
    "duration": 67,
    "start_time": "2021-11-27T13:37:09.618Z"
   },
   {
    "duration": 58,
    "start_time": "2021-11-27T13:37:09.688Z"
   },
   {
    "duration": 12,
    "start_time": "2021-11-27T13:37:09.760Z"
   },
   {
    "duration": 24,
    "start_time": "2021-11-27T13:37:09.774Z"
   },
   {
    "duration": 58,
    "start_time": "2021-11-27T13:37:09.801Z"
   },
   {
    "duration": 10,
    "start_time": "2021-11-27T13:37:09.865Z"
   },
   {
    "duration": 24,
    "start_time": "2021-11-27T13:37:09.878Z"
   },
   {
    "duration": 62,
    "start_time": "2021-11-27T13:37:09.904Z"
   },
   {
    "duration": 11,
    "start_time": "2021-11-27T13:37:09.968Z"
   },
   {
    "duration": 12,
    "start_time": "2021-11-27T13:37:09.981Z"
   },
   {
    "duration": 19,
    "start_time": "2021-11-27T13:37:09.995Z"
   },
   {
    "duration": 23,
    "start_time": "2021-11-27T13:37:10.016Z"
   },
   {
    "duration": 17,
    "start_time": "2021-11-27T13:37:10.059Z"
   },
   {
    "duration": 9,
    "start_time": "2021-11-27T13:37:10.078Z"
   },
   {
    "duration": 23,
    "start_time": "2021-11-27T13:37:10.089Z"
   },
   {
    "duration": 7,
    "start_time": "2021-11-27T13:37:10.114Z"
   },
   {
    "duration": 50,
    "start_time": "2021-11-27T13:37:10.124Z"
   },
   {
    "duration": 8,
    "start_time": "2021-11-27T13:37:10.176Z"
   },
   {
    "duration": 24,
    "start_time": "2021-11-27T13:37:10.187Z"
   },
   {
    "duration": 4,
    "start_time": "2021-11-27T13:37:10.214Z"
   },
   {
    "duration": 37,
    "start_time": "2021-11-27T13:37:10.221Z"
   },
   {
    "duration": 9,
    "start_time": "2021-11-27T13:37:10.261Z"
   },
   {
    "duration": 10,
    "start_time": "2021-11-27T13:37:10.272Z"
   },
   {
    "duration": 7,
    "start_time": "2021-11-27T13:37:10.285Z"
   },
   {
    "duration": 16,
    "start_time": "2021-11-27T13:37:10.294Z"
   },
   {
    "duration": 69,
    "start_time": "2021-11-27T13:37:10.312Z"
   },
   {
    "duration": 21,
    "start_time": "2021-11-27T13:37:10.384Z"
   },
   {
    "duration": 6,
    "start_time": "2021-11-27T13:37:10.408Z"
   },
   {
    "duration": 11,
    "start_time": "2021-11-27T13:37:10.416Z"
   },
   {
    "duration": 91,
    "start_time": "2021-11-27T13:37:10.429Z"
   },
   {
    "duration": 12,
    "start_time": "2021-11-27T13:37:10.523Z"
   },
   {
    "duration": 22,
    "start_time": "2021-11-27T13:37:10.537Z"
   },
   {
    "duration": 22,
    "start_time": "2021-11-27T13:37:10.561Z"
   },
   {
    "duration": 79,
    "start_time": "2021-11-27T13:37:10.586Z"
   },
   {
    "duration": 22,
    "start_time": "2021-11-27T13:37:10.668Z"
   },
   {
    "duration": 3,
    "start_time": "2021-11-27T13:37:10.693Z"
   },
   {
    "duration": 11,
    "start_time": "2021-11-27T13:37:10.698Z"
   },
   {
    "duration": 104,
    "start_time": "2021-11-27T13:37:10.711Z"
   },
   {
    "duration": 12,
    "start_time": "2021-11-27T13:37:10.817Z"
   },
   {
    "duration": 14,
    "start_time": "2021-11-27T13:37:10.831Z"
   },
   {
    "duration": 23,
    "start_time": "2021-11-27T13:37:10.847Z"
   },
   {
    "duration": 21,
    "start_time": "2021-11-27T13:52:46.295Z"
   },
   {
    "duration": 12,
    "start_time": "2021-11-27T13:52:52.622Z"
   },
   {
    "duration": 18,
    "start_time": "2021-11-27T13:52:54.089Z"
   },
   {
    "duration": 10,
    "start_time": "2021-11-27T13:53:37.260Z"
   },
   {
    "duration": 19,
    "start_time": "2021-11-27T13:53:38.692Z"
   },
   {
    "duration": 3,
    "start_time": "2021-11-27T13:53:44.437Z"
   },
   {
    "duration": 564,
    "start_time": "2021-11-27T13:53:44.445Z"
   },
   {
    "duration": 12,
    "start_time": "2021-11-27T13:53:45.012Z"
   },
   {
    "duration": 35,
    "start_time": "2021-11-27T13:53:45.027Z"
   },
   {
    "duration": 41,
    "start_time": "2021-11-27T13:53:45.064Z"
   },
   {
    "duration": 12,
    "start_time": "2021-11-27T13:53:45.107Z"
   },
   {
    "duration": 49,
    "start_time": "2021-11-27T13:53:45.121Z"
   },
   {
    "duration": 30,
    "start_time": "2021-11-27T13:53:45.173Z"
   },
   {
    "duration": 10,
    "start_time": "2021-11-27T13:53:45.209Z"
   },
   {
    "duration": 46,
    "start_time": "2021-11-27T13:53:45.223Z"
   },
   {
    "duration": 19,
    "start_time": "2021-11-27T13:53:45.272Z"
   },
   {
    "duration": 27,
    "start_time": "2021-11-27T13:53:45.294Z"
   },
   {
    "duration": 46,
    "start_time": "2021-11-27T13:53:45.323Z"
   },
   {
    "duration": 11,
    "start_time": "2021-11-27T13:53:45.372Z"
   },
   {
    "duration": 17,
    "start_time": "2021-11-27T13:53:45.386Z"
   },
   {
    "duration": 14,
    "start_time": "2021-11-27T13:53:45.405Z"
   },
   {
    "duration": 50,
    "start_time": "2021-11-27T13:53:45.422Z"
   },
   {
    "duration": 35,
    "start_time": "2021-11-27T13:53:45.475Z"
   },
   {
    "duration": 64,
    "start_time": "2021-11-27T13:53:45.513Z"
   },
   {
    "duration": 11,
    "start_time": "2021-11-27T13:53:45.579Z"
   },
   {
    "duration": 26,
    "start_time": "2021-11-27T13:53:45.593Z"
   },
   {
    "duration": 48,
    "start_time": "2021-11-27T13:53:45.622Z"
   },
   {
    "duration": 12,
    "start_time": "2021-11-27T13:53:45.673Z"
   },
   {
    "duration": 25,
    "start_time": "2021-11-27T13:53:45.691Z"
   },
   {
    "duration": 57,
    "start_time": "2021-11-27T13:53:45.720Z"
   },
   {
    "duration": 10,
    "start_time": "2021-11-27T13:53:45.780Z"
   },
   {
    "duration": 26,
    "start_time": "2021-11-27T13:53:45.792Z"
   },
   {
    "duration": 10,
    "start_time": "2021-11-27T13:53:45.820Z"
   },
   {
    "duration": 38,
    "start_time": "2021-11-27T13:53:45.832Z"
   },
   {
    "duration": 9,
    "start_time": "2021-11-27T13:53:45.872Z"
   },
   {
    "duration": 19,
    "start_time": "2021-11-27T13:53:45.883Z"
   },
   {
    "duration": 9,
    "start_time": "2021-11-27T13:53:45.904Z"
   },
   {
    "duration": 55,
    "start_time": "2021-11-27T13:53:45.915Z"
   },
   {
    "duration": 7,
    "start_time": "2021-11-27T13:53:45.973Z"
   },
   {
    "duration": 21,
    "start_time": "2021-11-27T13:53:45.983Z"
   },
   {
    "duration": 8,
    "start_time": "2021-11-27T13:53:46.007Z"
   },
   {
    "duration": 66,
    "start_time": "2021-11-27T13:53:46.018Z"
   },
   {
    "duration": 5,
    "start_time": "2021-11-27T13:53:46.086Z"
   },
   {
    "duration": 5,
    "start_time": "2021-11-27T13:53:46.094Z"
   },
   {
    "duration": 5,
    "start_time": "2021-11-27T13:53:46.102Z"
   },
   {
    "duration": 7,
    "start_time": "2021-11-27T13:53:46.109Z"
   },
   {
    "duration": 5,
    "start_time": "2021-11-27T13:53:46.119Z"
   },
   {
    "duration": 37,
    "start_time": "2021-11-27T13:53:46.127Z"
   },
   {
    "duration": 57,
    "start_time": "2021-11-27T13:53:46.166Z"
   },
   {
    "duration": 38,
    "start_time": "2021-11-27T13:53:46.225Z"
   },
   {
    "duration": 9,
    "start_time": "2021-11-27T13:53:46.265Z"
   },
   {
    "duration": 6,
    "start_time": "2021-11-27T13:53:46.277Z"
   },
   {
    "duration": 94,
    "start_time": "2021-11-27T13:53:46.285Z"
   },
   {
    "duration": 13,
    "start_time": "2021-11-27T13:53:46.382Z"
   },
   {
    "duration": 7,
    "start_time": "2021-11-27T13:53:46.398Z"
   },
   {
    "duration": 15,
    "start_time": "2021-11-27T13:53:46.408Z"
   },
   {
    "duration": 102,
    "start_time": "2021-11-27T13:53:46.425Z"
   },
   {
    "duration": 37,
    "start_time": "2021-11-27T13:53:46.529Z"
   },
   {
    "duration": 3,
    "start_time": "2021-11-27T13:53:46.569Z"
   },
   {
    "duration": 14,
    "start_time": "2021-11-27T13:53:46.574Z"
   },
   {
    "duration": 89,
    "start_time": "2021-11-27T13:53:46.590Z"
   },
   {
    "duration": 13,
    "start_time": "2021-11-27T13:53:46.681Z"
   },
   {
    "duration": 9,
    "start_time": "2021-11-27T13:53:46.696Z"
   },
   {
    "duration": 17,
    "start_time": "2021-11-27T13:53:46.708Z"
   },
   {
    "duration": 15,
    "start_time": "2021-11-27T13:54:39.920Z"
   },
   {
    "duration": 19,
    "start_time": "2021-11-27T13:54:41.505Z"
   },
   {
    "duration": 7,
    "start_time": "2021-11-27T13:56:01.698Z"
   },
   {
    "duration": 14,
    "start_time": "2021-11-27T13:56:09.388Z"
   },
   {
    "duration": 21,
    "start_time": "2021-11-27T13:56:10.371Z"
   },
   {
    "duration": 9,
    "start_time": "2021-11-27T13:56:15.271Z"
   },
   {
    "duration": 17,
    "start_time": "2021-11-27T13:56:16.794Z"
   },
   {
    "duration": 6,
    "start_time": "2021-11-27T13:56:24.151Z"
   },
   {
    "duration": 19,
    "start_time": "2021-11-27T13:56:26.419Z"
   },
   {
    "duration": 12,
    "start_time": "2021-11-27T13:57:51.771Z"
   },
   {
    "duration": 20,
    "start_time": "2021-11-27T13:57:52.662Z"
   },
   {
    "duration": 9,
    "start_time": "2021-11-27T13:57:53.712Z"
   },
   {
    "duration": 20,
    "start_time": "2021-11-27T13:57:54.641Z"
   },
   {
    "duration": 7,
    "start_time": "2021-11-27T13:57:56.141Z"
   },
   {
    "duration": 20,
    "start_time": "2021-11-27T13:57:57.877Z"
   },
   {
    "duration": 753,
    "start_time": "2021-11-27T14:01:36.999Z"
   },
   {
    "duration": 515,
    "start_time": "2021-11-27T14:01:37.755Z"
   },
   {
    "duration": 23,
    "start_time": "2021-11-27T14:01:38.273Z"
   },
   {
    "duration": 37,
    "start_time": "2021-11-27T14:01:38.298Z"
   },
   {
    "duration": 55,
    "start_time": "2021-11-27T14:01:38.337Z"
   },
   {
    "duration": 13,
    "start_time": "2021-11-27T14:01:38.394Z"
   },
   {
    "duration": 26,
    "start_time": "2021-11-27T14:01:38.410Z"
   },
   {
    "duration": 31,
    "start_time": "2021-11-27T14:01:38.461Z"
   },
   {
    "duration": 13,
    "start_time": "2021-11-27T14:01:38.495Z"
   },
   {
    "duration": 13,
    "start_time": "2021-11-27T14:01:38.510Z"
   },
   {
    "duration": 47,
    "start_time": "2021-11-27T14:01:38.525Z"
   },
   {
    "duration": 29,
    "start_time": "2021-11-27T14:01:38.574Z"
   },
   {
    "duration": 11,
    "start_time": "2021-11-27T14:01:38.605Z"
   },
   {
    "duration": 10,
    "start_time": "2021-11-27T14:01:38.618Z"
   },
   {
    "duration": 14,
    "start_time": "2021-11-27T14:01:38.660Z"
   },
   {
    "duration": 14,
    "start_time": "2021-11-27T14:01:38.677Z"
   },
   {
    "duration": 12,
    "start_time": "2021-11-27T14:01:38.693Z"
   },
   {
    "duration": 56,
    "start_time": "2021-11-27T14:01:38.707Z"
   },
   {
    "duration": 52,
    "start_time": "2021-11-27T14:01:38.766Z"
   },
   {
    "duration": 12,
    "start_time": "2021-11-27T14:01:38.821Z"
   },
   {
    "duration": 21,
    "start_time": "2021-11-27T14:01:38.859Z"
   },
   {
    "duration": 38,
    "start_time": "2021-11-27T14:01:38.883Z"
   },
   {
    "duration": 10,
    "start_time": "2021-11-27T14:01:38.927Z"
   },
   {
    "duration": 25,
    "start_time": "2021-11-27T14:01:38.961Z"
   },
   {
    "duration": 34,
    "start_time": "2021-11-27T14:01:38.988Z"
   },
   {
    "duration": 41,
    "start_time": "2021-11-27T14:01:39.024Z"
   },
   {
    "duration": 10,
    "start_time": "2021-11-27T14:01:39.068Z"
   },
   {
    "duration": 14,
    "start_time": "2021-11-27T14:01:39.080Z"
   },
   {
    "duration": 18,
    "start_time": "2021-11-27T14:01:39.096Z"
   },
   {
    "duration": 18,
    "start_time": "2021-11-27T14:01:39.116Z"
   },
   {
    "duration": 18,
    "start_time": "2021-11-27T14:01:39.159Z"
   },
   {
    "duration": 10,
    "start_time": "2021-11-27T14:01:39.179Z"
   },
   {
    "duration": 22,
    "start_time": "2021-11-27T14:01:39.191Z"
   },
   {
    "duration": 44,
    "start_time": "2021-11-27T14:01:39.215Z"
   },
   {
    "duration": 19,
    "start_time": "2021-11-27T14:01:39.262Z"
   },
   {
    "duration": 14,
    "start_time": "2021-11-27T14:01:39.283Z"
   },
   {
    "duration": 31,
    "start_time": "2021-11-27T14:01:39.300Z"
   },
   {
    "duration": 11,
    "start_time": "2021-11-27T14:01:39.334Z"
   },
   {
    "duration": 15,
    "start_time": "2021-11-27T14:01:39.347Z"
   },
   {
    "duration": 13,
    "start_time": "2021-11-27T14:01:39.364Z"
   },
   {
    "duration": 6,
    "start_time": "2021-11-27T14:01:39.380Z"
   },
   {
    "duration": 9,
    "start_time": "2021-11-27T14:01:39.389Z"
   },
   {
    "duration": 6,
    "start_time": "2021-11-27T14:01:39.400Z"
   },
   {
    "duration": 79,
    "start_time": "2021-11-27T14:01:39.409Z"
   },
   {
    "duration": 19,
    "start_time": "2021-11-27T14:01:39.490Z"
   },
   {
    "duration": 6,
    "start_time": "2021-11-27T14:01:39.511Z"
   },
   {
    "duration": 6,
    "start_time": "2021-11-27T14:01:39.520Z"
   },
   {
    "duration": 94,
    "start_time": "2021-11-27T14:01:39.528Z"
   },
   {
    "duration": 12,
    "start_time": "2021-11-27T14:01:39.624Z"
   },
   {
    "duration": 22,
    "start_time": "2021-11-27T14:01:39.638Z"
   },
   {
    "duration": 18,
    "start_time": "2021-11-27T14:01:39.662Z"
   },
   {
    "duration": 84,
    "start_time": "2021-11-27T14:01:39.682Z"
   },
   {
    "duration": 22,
    "start_time": "2021-11-27T14:01:39.768Z"
   },
   {
    "duration": 3,
    "start_time": "2021-11-27T14:01:39.793Z"
   },
   {
    "duration": 27,
    "start_time": "2021-11-27T14:01:39.798Z"
   },
   {
    "duration": 90,
    "start_time": "2021-11-27T14:01:39.828Z"
   },
   {
    "duration": 12,
    "start_time": "2021-11-27T14:01:39.921Z"
   },
   {
    "duration": 24,
    "start_time": "2021-11-27T14:01:39.935Z"
   },
   {
    "duration": 16,
    "start_time": "2021-11-27T14:01:39.961Z"
   },
   {
    "duration": 809,
    "start_time": "2021-11-28T11:22:39.749Z"
   },
   {
    "duration": 519,
    "start_time": "2021-11-28T11:22:40.561Z"
   },
   {
    "duration": 20,
    "start_time": "2021-11-28T11:22:41.083Z"
   },
   {
    "duration": 33,
    "start_time": "2021-11-28T11:22:41.106Z"
   },
   {
    "duration": 57,
    "start_time": "2021-11-28T11:22:41.142Z"
   },
   {
    "duration": 11,
    "start_time": "2021-11-28T11:22:41.202Z"
   },
   {
    "duration": 26,
    "start_time": "2021-11-28T11:22:41.216Z"
   },
   {
    "duration": 56,
    "start_time": "2021-11-28T11:22:41.246Z"
   },
   {
    "duration": 14,
    "start_time": "2021-11-28T11:22:41.305Z"
   },
   {
    "duration": 12,
    "start_time": "2021-11-28T11:22:41.322Z"
   },
   {
    "duration": 51,
    "start_time": "2021-11-28T11:22:41.337Z"
   },
   {
    "duration": 27,
    "start_time": "2021-11-28T11:22:41.391Z"
   },
   {
    "duration": 12,
    "start_time": "2021-11-28T11:22:41.421Z"
   },
   {
    "duration": 46,
    "start_time": "2021-11-28T11:22:41.436Z"
   },
   {
    "duration": 23,
    "start_time": "2021-11-28T11:22:41.486Z"
   },
   {
    "duration": 12,
    "start_time": "2021-11-28T11:22:41.512Z"
   },
   {
    "duration": 17,
    "start_time": "2021-11-28T11:22:41.527Z"
   },
   {
    "duration": 68,
    "start_time": "2021-11-28T11:22:41.547Z"
   },
   {
    "duration": 87,
    "start_time": "2021-11-28T11:22:41.618Z"
   },
   {
    "duration": 15,
    "start_time": "2021-11-28T11:22:41.708Z"
   },
   {
    "duration": 33,
    "start_time": "2021-11-28T11:22:41.727Z"
   },
   {
    "duration": 70,
    "start_time": "2021-11-28T11:22:41.763Z"
   },
   {
    "duration": 14,
    "start_time": "2021-11-28T11:22:41.842Z"
   },
   {
    "duration": 50,
    "start_time": "2021-11-28T11:22:41.859Z"
   },
   {
    "duration": 33,
    "start_time": "2021-11-28T11:22:41.912Z"
   },
   {
    "duration": 35,
    "start_time": "2021-11-28T11:22:41.948Z"
   },
   {
    "duration": 5,
    "start_time": "2021-11-28T11:22:41.986Z"
   },
   {
    "duration": 14,
    "start_time": "2021-11-28T11:22:41.994Z"
   },
   {
    "duration": 22,
    "start_time": "2021-11-28T11:22:42.010Z"
   },
   {
    "duration": 50,
    "start_time": "2021-11-28T11:22:42.034Z"
   },
   {
    "duration": 19,
    "start_time": "2021-11-28T11:22:42.087Z"
   },
   {
    "duration": 8,
    "start_time": "2021-11-28T11:22:42.109Z"
   },
   {
    "duration": 63,
    "start_time": "2021-11-28T11:22:42.119Z"
   },
   {
    "duration": 8,
    "start_time": "2021-11-28T11:22:42.184Z"
   },
   {
    "duration": 20,
    "start_time": "2021-11-28T11:22:42.194Z"
   },
   {
    "duration": 7,
    "start_time": "2021-11-28T11:22:42.216Z"
   },
   {
    "duration": 21,
    "start_time": "2021-11-28T11:22:42.225Z"
   },
   {
    "duration": 35,
    "start_time": "2021-11-28T11:22:42.248Z"
   },
   {
    "duration": 6,
    "start_time": "2021-11-28T11:22:42.285Z"
   },
   {
    "duration": 8,
    "start_time": "2021-11-28T11:22:42.293Z"
   },
   {
    "duration": 9,
    "start_time": "2021-11-28T11:22:42.303Z"
   },
   {
    "duration": 8,
    "start_time": "2021-11-28T11:22:42.315Z"
   },
   {
    "duration": 14,
    "start_time": "2021-11-28T11:22:42.325Z"
   },
   {
    "duration": 83,
    "start_time": "2021-11-28T11:22:42.341Z"
   },
   {
    "duration": 19,
    "start_time": "2021-11-28T11:22:42.426Z"
   },
   {
    "duration": 5,
    "start_time": "2021-11-28T11:22:42.448Z"
   },
   {
    "duration": 27,
    "start_time": "2021-11-28T11:22:42.455Z"
   },
   {
    "duration": 71,
    "start_time": "2021-11-28T11:22:42.484Z"
   },
   {
    "duration": 11,
    "start_time": "2021-11-28T11:22:42.558Z"
   },
   {
    "duration": 6,
    "start_time": "2021-11-28T11:22:42.582Z"
   },
   {
    "duration": 14,
    "start_time": "2021-11-28T11:22:42.591Z"
   },
   {
    "duration": 97,
    "start_time": "2021-11-28T11:22:42.608Z"
   },
   {
    "duration": 20,
    "start_time": "2021-11-28T11:22:42.707Z"
   },
   {
    "duration": 10,
    "start_time": "2021-11-28T11:22:42.729Z"
   },
   {
    "duration": 5,
    "start_time": "2021-11-28T11:22:42.741Z"
   },
   {
    "duration": 96,
    "start_time": "2021-11-28T11:22:42.748Z"
   },
   {
    "duration": 12,
    "start_time": "2021-11-28T11:22:42.847Z"
   },
   {
    "duration": 21,
    "start_time": "2021-11-28T11:22:42.861Z"
   },
   {
    "duration": 16,
    "start_time": "2021-11-28T11:22:42.884Z"
   },
   {
    "duration": 18,
    "start_time": "2021-11-28T11:22:51.130Z"
   },
   {
    "duration": 24,
    "start_time": "2021-11-28T11:22:59.619Z"
   },
   {
    "duration": 26,
    "start_time": "2021-11-28T11:23:10.217Z"
   },
   {
    "duration": 6,
    "start_time": "2021-11-28T11:24:06.664Z"
   },
   {
    "duration": 20,
    "start_time": "2021-11-28T11:24:07.724Z"
   },
   {
    "duration": 37,
    "start_time": "2021-11-28T11:26:13.716Z"
   },
   {
    "duration": 20,
    "start_time": "2021-11-28T11:26:16.409Z"
   },
   {
    "duration": 29,
    "start_time": "2021-11-28T11:26:32.405Z"
   },
   {
    "duration": 4,
    "start_time": "2021-11-28T11:26:46.799Z"
   },
   {
    "duration": 596,
    "start_time": "2021-11-28T11:26:46.805Z"
   },
   {
    "duration": 12,
    "start_time": "2021-11-28T11:26:47.404Z"
   },
   {
    "duration": 35,
    "start_time": "2021-11-28T11:26:47.420Z"
   },
   {
    "duration": 59,
    "start_time": "2021-11-28T11:26:47.460Z"
   },
   {
    "duration": 12,
    "start_time": "2021-11-28T11:26:47.521Z"
   },
   {
    "duration": 56,
    "start_time": "2021-11-28T11:26:47.539Z"
   },
   {
    "duration": 29,
    "start_time": "2021-11-28T11:26:47.598Z"
   },
   {
    "duration": 11,
    "start_time": "2021-11-28T11:26:47.629Z"
   },
   {
    "duration": 42,
    "start_time": "2021-11-28T11:26:47.642Z"
   },
   {
    "duration": 20,
    "start_time": "2021-11-28T11:26:47.686Z"
   },
   {
    "duration": 36,
    "start_time": "2021-11-28T11:26:47.709Z"
   },
   {
    "duration": 45,
    "start_time": "2021-11-28T11:26:47.748Z"
   },
   {
    "duration": 13,
    "start_time": "2021-11-28T11:26:47.796Z"
   },
   {
    "duration": 16,
    "start_time": "2021-11-28T11:26:47.812Z"
   },
   {
    "duration": 11,
    "start_time": "2021-11-28T11:26:47.830Z"
   },
   {
    "duration": 41,
    "start_time": "2021-11-28T11:26:47.843Z"
   },
   {
    "duration": 39,
    "start_time": "2021-11-28T11:26:47.887Z"
   },
   {
    "duration": 66,
    "start_time": "2021-11-28T11:26:47.931Z"
   },
   {
    "duration": 12,
    "start_time": "2021-11-28T11:26:48.001Z"
   },
   {
    "duration": 24,
    "start_time": "2021-11-28T11:26:48.015Z"
   },
   {
    "duration": 60,
    "start_time": "2021-11-28T11:26:48.041Z"
   },
   {
    "duration": 11,
    "start_time": "2021-11-28T11:26:48.103Z"
   },
   {
    "duration": 26,
    "start_time": "2021-11-28T11:26:48.116Z"
   },
   {
    "duration": 48,
    "start_time": "2021-11-28T11:26:48.145Z"
   },
   {
    "duration": 12,
    "start_time": "2021-11-28T11:26:48.195Z"
   },
   {
    "duration": 9,
    "start_time": "2021-11-28T11:26:48.210Z"
   },
   {
    "duration": 14,
    "start_time": "2021-11-28T11:26:48.222Z"
   },
   {
    "duration": 58,
    "start_time": "2021-11-28T11:26:48.239Z"
   },
   {
    "duration": 11,
    "start_time": "2021-11-28T11:26:48.300Z"
   },
   {
    "duration": 20,
    "start_time": "2021-11-28T11:26:48.314Z"
   },
   {
    "duration": 46,
    "start_time": "2021-11-28T11:26:48.336Z"
   },
   {
    "duration": 37,
    "start_time": "2021-11-28T11:26:48.386Z"
   },
   {
    "duration": 29,
    "start_time": "2021-11-28T11:26:48.426Z"
   },
   {
    "duration": 10,
    "start_time": "2021-11-28T11:26:48.487Z"
   },
   {
    "duration": 29,
    "start_time": "2021-11-28T11:26:48.500Z"
   },
   {
    "duration": 10,
    "start_time": "2021-11-28T11:26:48.532Z"
   },
   {
    "duration": 53,
    "start_time": "2021-11-28T11:26:48.545Z"
   },
   {
    "duration": 4,
    "start_time": "2021-11-28T11:26:48.601Z"
   },
   {
    "duration": 5,
    "start_time": "2021-11-28T11:26:48.608Z"
   },
   {
    "duration": 8,
    "start_time": "2021-11-28T11:26:48.616Z"
   },
   {
    "duration": 8,
    "start_time": "2021-11-28T11:26:48.626Z"
   },
   {
    "duration": 6,
    "start_time": "2021-11-28T11:26:48.636Z"
   },
   {
    "duration": 37,
    "start_time": "2021-11-28T11:26:48.645Z"
   },
   {
    "duration": 57,
    "start_time": "2021-11-28T11:26:48.684Z"
   },
   {
    "duration": 19,
    "start_time": "2021-11-28T11:26:48.744Z"
   },
   {
    "duration": 17,
    "start_time": "2021-11-28T11:26:48.765Z"
   },
   {
    "duration": 13,
    "start_time": "2021-11-28T11:26:48.784Z"
   },
   {
    "duration": 65,
    "start_time": "2021-11-28T11:26:48.799Z"
   },
   {
    "duration": 24,
    "start_time": "2021-11-28T11:26:48.866Z"
   },
   {
    "duration": 8,
    "start_time": "2021-11-28T11:26:48.893Z"
   },
   {
    "duration": 16,
    "start_time": "2021-11-28T11:26:48.903Z"
   },
   {
    "duration": 102,
    "start_time": "2021-11-28T11:26:48.922Z"
   },
   {
    "duration": 22,
    "start_time": "2021-11-28T11:26:49.026Z"
   },
   {
    "duration": 3,
    "start_time": "2021-11-28T11:26:49.055Z"
   },
   {
    "duration": 23,
    "start_time": "2021-11-28T11:26:49.060Z"
   },
   {
    "duration": 73,
    "start_time": "2021-11-28T11:26:49.085Z"
   },
   {
    "duration": 26,
    "start_time": "2021-11-28T11:26:49.161Z"
   },
   {
    "duration": 7,
    "start_time": "2021-11-28T11:26:49.189Z"
   },
   {
    "duration": 19,
    "start_time": "2021-11-28T11:26:49.199Z"
   },
   {
    "duration": 472,
    "start_time": "2021-11-28T11:32:46.811Z"
   },
   {
    "duration": 21,
    "start_time": "2021-11-28T11:33:11.988Z"
   },
   {
    "duration": 43,
    "start_time": "2021-11-28T11:33:15.050Z"
   },
   {
    "duration": 7,
    "start_time": "2021-11-28T11:33:37.316Z"
   },
   {
    "duration": 559,
    "start_time": "2021-11-28T11:33:37.326Z"
   },
   {
    "duration": 12,
    "start_time": "2021-11-28T11:33:37.888Z"
   },
   {
    "duration": 33,
    "start_time": "2021-11-28T11:33:37.903Z"
   },
   {
    "duration": 68,
    "start_time": "2021-11-28T11:33:37.938Z"
   },
   {
    "duration": 13,
    "start_time": "2021-11-28T11:33:38.009Z"
   },
   {
    "duration": 32,
    "start_time": "2021-11-28T11:33:38.026Z"
   },
   {
    "duration": 29,
    "start_time": "2021-11-28T11:33:38.082Z"
   },
   {
    "duration": 11,
    "start_time": "2021-11-28T11:33:38.113Z"
   },
   {
    "duration": 12,
    "start_time": "2021-11-28T11:33:38.127Z"
   },
   {
    "duration": 49,
    "start_time": "2021-11-28T11:33:38.141Z"
   },
   {
    "duration": 25,
    "start_time": "2021-11-28T11:33:38.192Z"
   },
   {
    "duration": 11,
    "start_time": "2021-11-28T11:33:38.220Z"
   },
   {
    "duration": 17,
    "start_time": "2021-11-28T11:33:38.233Z"
   },
   {
    "duration": 37,
    "start_time": "2021-11-28T11:33:38.252Z"
   },
   {
    "duration": 12,
    "start_time": "2021-11-28T11:33:38.292Z"
   },
   {
    "duration": 13,
    "start_time": "2021-11-28T11:33:38.307Z"
   },
   {
    "duration": 68,
    "start_time": "2021-11-28T11:33:38.323Z"
   },
   {
    "duration": 59,
    "start_time": "2021-11-28T11:33:38.399Z"
   },
   {
    "duration": 26,
    "start_time": "2021-11-28T11:33:38.462Z"
   },
   {
    "duration": 31,
    "start_time": "2021-11-28T11:33:38.491Z"
   },
   {
    "duration": 64,
    "start_time": "2021-11-28T11:33:38.525Z"
   },
   {
    "duration": 14,
    "start_time": "2021-11-28T11:33:38.592Z"
   },
   {
    "duration": 27,
    "start_time": "2021-11-28T11:33:38.609Z"
   },
   {
    "duration": 54,
    "start_time": "2021-11-28T11:33:38.639Z"
   },
   {
    "duration": 10,
    "start_time": "2021-11-28T11:33:38.696Z"
   },
   {
    "duration": 8,
    "start_time": "2021-11-28T11:33:38.708Z"
   },
   {
    "duration": 12,
    "start_time": "2021-11-28T11:33:38.719Z"
   },
   {
    "duration": 58,
    "start_time": "2021-11-28T11:33:38.734Z"
   },
   {
    "duration": 9,
    "start_time": "2021-11-28T11:33:38.794Z"
   },
   {
    "duration": 19,
    "start_time": "2021-11-28T11:33:38.806Z"
   },
   {
    "duration": 6,
    "start_time": "2021-11-28T11:33:38.827Z"
   },
   {
    "duration": 64,
    "start_time": "2021-11-28T11:33:38.835Z"
   },
   {
    "duration": 28,
    "start_time": "2021-11-28T11:33:38.902Z"
   },
   {
    "duration": 9,
    "start_time": "2021-11-28T11:33:38.933Z"
   },
   {
    "duration": 47,
    "start_time": "2021-11-28T11:33:38.945Z"
   },
   {
    "duration": 8,
    "start_time": "2021-11-28T11:33:38.995Z"
   },
   {
    "duration": 28,
    "start_time": "2021-11-28T11:33:39.005Z"
   },
   {
    "duration": 3,
    "start_time": "2021-11-28T11:33:39.036Z"
   },
   {
    "duration": 39,
    "start_time": "2021-11-28T11:33:39.042Z"
   },
   {
    "duration": 6,
    "start_time": "2021-11-28T11:33:39.084Z"
   },
   {
    "duration": 8,
    "start_time": "2021-11-28T11:33:39.093Z"
   },
   {
    "duration": 5,
    "start_time": "2021-11-28T11:33:39.104Z"
   },
   {
    "duration": 5,
    "start_time": "2021-11-28T11:33:39.111Z"
   },
   {
    "duration": 80,
    "start_time": "2021-11-28T11:33:39.119Z"
   },
   {
    "duration": 20,
    "start_time": "2021-11-28T11:33:39.202Z"
   },
   {
    "duration": 6,
    "start_time": "2021-11-28T11:33:39.224Z"
   },
   {
    "duration": 8,
    "start_time": "2021-11-28T11:33:39.232Z"
   },
   {
    "duration": 92,
    "start_time": "2021-11-28T11:33:39.242Z"
   },
   {
    "duration": 12,
    "start_time": "2021-11-28T11:33:39.336Z"
   },
   {
    "duration": 6,
    "start_time": "2021-11-28T11:33:39.351Z"
   },
   {
    "duration": 37,
    "start_time": "2021-11-28T11:33:39.360Z"
   },
   {
    "duration": 70,
    "start_time": "2021-11-28T11:33:39.399Z"
   },
   {
    "duration": 27,
    "start_time": "2021-11-28T11:33:39.472Z"
   },
   {
    "duration": 4,
    "start_time": "2021-11-28T11:33:39.506Z"
   },
   {
    "duration": 7,
    "start_time": "2021-11-28T11:33:39.513Z"
   },
   {
    "duration": 100,
    "start_time": "2021-11-28T11:33:39.522Z"
   },
   {
    "duration": 13,
    "start_time": "2021-11-28T11:33:39.624Z"
   },
   {
    "duration": 7,
    "start_time": "2021-11-28T11:33:39.640Z"
   },
   {
    "duration": 42,
    "start_time": "2021-11-28T11:33:39.650Z"
   },
   {
    "duration": 327,
    "start_time": "2021-11-28T11:34:14.461Z"
   },
   {
    "duration": 28,
    "start_time": "2021-11-28T11:34:16.434Z"
   },
   {
    "duration": 3,
    "start_time": "2021-11-28T11:34:54.297Z"
   },
   {
    "duration": 564,
    "start_time": "2021-11-28T11:34:54.303Z"
   },
   {
    "duration": 12,
    "start_time": "2021-11-28T11:34:54.870Z"
   },
   {
    "duration": 44,
    "start_time": "2021-11-28T11:34:54.886Z"
   },
   {
    "duration": 74,
    "start_time": "2021-11-28T11:34:54.933Z"
   },
   {
    "duration": 12,
    "start_time": "2021-11-28T11:34:55.009Z"
   },
   {
    "duration": 24,
    "start_time": "2021-11-28T11:34:55.024Z"
   },
   {
    "duration": 48,
    "start_time": "2021-11-28T11:34:55.051Z"
   },
   {
    "duration": 12,
    "start_time": "2021-11-28T11:34:55.102Z"
   },
   {
    "duration": 22,
    "start_time": "2021-11-28T11:34:55.116Z"
   },
   {
    "duration": 24,
    "start_time": "2021-11-28T11:34:55.140Z"
   },
   {
    "duration": 23,
    "start_time": "2021-11-28T11:34:55.183Z"
   },
   {
    "duration": 11,
    "start_time": "2021-11-28T11:34:55.208Z"
   },
   {
    "duration": 12,
    "start_time": "2021-11-28T11:34:55.221Z"
   },
   {
    "duration": 48,
    "start_time": "2021-11-28T11:34:55.235Z"
   },
   {
    "duration": 17,
    "start_time": "2021-11-28T11:34:55.285Z"
   },
   {
    "duration": 14,
    "start_time": "2021-11-28T11:34:55.304Z"
   },
   {
    "duration": 37,
    "start_time": "2021-11-28T11:34:55.320Z"
   },
   {
    "duration": 50,
    "start_time": "2021-11-28T11:34:55.362Z"
   },
   {
    "duration": 12,
    "start_time": "2021-11-28T11:34:55.415Z"
   },
   {
    "duration": 24,
    "start_time": "2021-11-28T11:34:55.430Z"
   },
   {
    "duration": 34,
    "start_time": "2021-11-28T11:34:55.483Z"
   },
   {
    "duration": 12,
    "start_time": "2021-11-28T11:34:55.519Z"
   },
   {
    "duration": 63,
    "start_time": "2021-11-28T11:34:55.535Z"
   },
   {
    "duration": 38,
    "start_time": "2021-11-28T11:34:55.601Z"
   },
   {
    "duration": 15,
    "start_time": "2021-11-28T11:34:55.643Z"
   },
   {
    "duration": 8,
    "start_time": "2021-11-28T11:34:55.681Z"
   },
   {
    "duration": 15,
    "start_time": "2021-11-28T11:34:55.693Z"
   },
   {
    "duration": 27,
    "start_time": "2021-11-28T11:34:55.711Z"
   },
   {
    "duration": 46,
    "start_time": "2021-11-28T11:34:55.741Z"
   },
   {
    "duration": 27,
    "start_time": "2021-11-28T11:34:55.790Z"
   },
   {
    "duration": 9,
    "start_time": "2021-11-28T11:34:55.819Z"
   },
   {
    "duration": 54,
    "start_time": "2021-11-28T11:34:55.830Z"
   },
   {
    "duration": 13,
    "start_time": "2021-11-28T11:34:55.886Z"
   },
   {
    "duration": 19,
    "start_time": "2021-11-28T11:34:55.902Z"
   },
   {
    "duration": 7,
    "start_time": "2021-11-28T11:34:55.923Z"
   },
   {
    "duration": 26,
    "start_time": "2021-11-28T11:34:55.932Z"
   },
   {
    "duration": 3,
    "start_time": "2021-11-28T11:34:55.983Z"
   },
   {
    "duration": 6,
    "start_time": "2021-11-28T11:34:55.989Z"
   },
   {
    "duration": 4,
    "start_time": "2021-11-28T11:34:55.998Z"
   },
   {
    "duration": 6,
    "start_time": "2021-11-28T11:34:56.005Z"
   },
   {
    "duration": 7,
    "start_time": "2021-11-28T11:34:56.013Z"
   },
   {
    "duration": 4,
    "start_time": "2021-11-28T11:34:56.023Z"
   },
   {
    "duration": 102,
    "start_time": "2021-11-28T11:34:56.030Z"
   },
   {
    "duration": 19,
    "start_time": "2021-11-28T11:34:56.134Z"
   },
   {
    "duration": 7,
    "start_time": "2021-11-28T11:34:56.155Z"
   },
   {
    "duration": 22,
    "start_time": "2021-11-28T11:34:56.164Z"
   },
   {
    "duration": 68,
    "start_time": "2021-11-28T11:34:56.188Z"
   },
   {
    "duration": 11,
    "start_time": "2021-11-28T11:34:56.258Z"
   },
   {
    "duration": 7,
    "start_time": "2021-11-28T11:34:56.283Z"
   },
   {
    "duration": 19,
    "start_time": "2021-11-28T11:34:56.293Z"
   },
   {
    "duration": 111,
    "start_time": "2021-11-28T11:34:56.315Z"
   },
   {
    "duration": 29,
    "start_time": "2021-11-28T11:34:56.429Z"
   },
   {
    "duration": 22,
    "start_time": "2021-11-28T11:34:56.461Z"
   },
   {
    "duration": 4,
    "start_time": "2021-11-28T11:34:56.493Z"
   },
   {
    "duration": 113,
    "start_time": "2021-11-28T11:34:56.500Z"
   },
   {
    "duration": 17,
    "start_time": "2021-11-28T11:34:56.616Z"
   },
   {
    "duration": 8,
    "start_time": "2021-11-28T11:34:56.637Z"
   },
   {
    "duration": 41,
    "start_time": "2021-11-28T11:34:56.647Z"
   },
   {
    "duration": 5,
    "start_time": "2021-11-28T11:42:34.284Z"
   },
   {
    "duration": 8,
    "start_time": "2021-11-28T11:43:37.586Z"
   },
   {
    "duration": 27,
    "start_time": "2021-11-28T11:43:52.272Z"
   },
   {
    "duration": 30,
    "start_time": "2021-11-28T11:43:58.526Z"
   },
   {
    "duration": 3,
    "start_time": "2021-11-28T11:44:42.228Z"
   },
   {
    "duration": 1604,
    "start_time": "2021-11-28T11:44:43.812Z"
   },
   {
    "duration": 21,
    "start_time": "2021-11-28T11:44:48.858Z"
   },
   {
    "duration": 6,
    "start_time": "2021-11-28T11:45:10.810Z"
   },
   {
    "duration": 1591,
    "start_time": "2021-11-28T11:45:12.031Z"
   },
   {
    "duration": 5,
    "start_time": "2021-11-28T11:45:36.617Z"
   },
   {
    "duration": 6,
    "start_time": "2021-11-28T11:45:37.244Z"
   },
   {
    "duration": 28,
    "start_time": "2021-11-28T11:45:38.197Z"
   },
   {
    "duration": 4,
    "start_time": "2021-11-28T11:46:43.737Z"
   },
   {
    "duration": 1674,
    "start_time": "2021-11-28T11:46:45.613Z"
   },
   {
    "duration": 28,
    "start_time": "2021-11-28T11:46:47.474Z"
   },
   {
    "duration": 104,
    "start_time": "2021-11-28T11:51:39.314Z"
   },
   {
    "duration": 4,
    "start_time": "2021-11-28T11:52:03.239Z"
   },
   {
    "duration": 3754,
    "start_time": "2021-11-28T11:52:07.446Z"
   },
   {
    "duration": 20,
    "start_time": "2021-11-28T11:52:12.438Z"
   },
   {
    "duration": 11,
    "start_time": "2021-11-28T11:52:38.865Z"
   },
   {
    "duration": 6,
    "start_time": "2021-11-28T11:55:20.230Z"
   },
   {
    "duration": 11,
    "start_time": "2021-11-28T11:55:34.448Z"
   },
   {
    "duration": 5,
    "start_time": "2021-11-28T11:55:44.307Z"
   },
   {
    "duration": 3,
    "start_time": "2021-11-28T11:55:52.436Z"
   },
   {
    "duration": 602,
    "start_time": "2021-11-28T11:55:52.447Z"
   },
   {
    "duration": 11,
    "start_time": "2021-11-28T11:55:53.051Z"
   },
   {
    "duration": 51,
    "start_time": "2021-11-28T11:55:53.067Z"
   },
   {
    "duration": 69,
    "start_time": "2021-11-28T11:55:53.121Z"
   },
   {
    "duration": 13,
    "start_time": "2021-11-28T11:55:53.194Z"
   },
   {
    "duration": 29,
    "start_time": "2021-11-28T11:55:53.210Z"
   },
   {
    "duration": 52,
    "start_time": "2021-11-28T11:55:53.242Z"
   },
   {
    "duration": 14,
    "start_time": "2021-11-28T11:55:53.299Z"
   },
   {
    "duration": 13,
    "start_time": "2021-11-28T11:55:53.317Z"
   },
   {
    "duration": 25,
    "start_time": "2021-11-28T11:55:53.333Z"
   },
   {
    "duration": 32,
    "start_time": "2021-11-28T11:55:53.389Z"
   },
   {
    "duration": 12,
    "start_time": "2021-11-28T11:55:53.423Z"
   },
   {
    "duration": 11,
    "start_time": "2021-11-28T11:55:53.438Z"
   },
   {
    "duration": 47,
    "start_time": "2021-11-28T11:55:53.452Z"
   },
   {
    "duration": 13,
    "start_time": "2021-11-28T11:55:53.502Z"
   },
   {
    "duration": 10,
    "start_time": "2021-11-28T11:55:53.517Z"
   },
   {
    "duration": 60,
    "start_time": "2021-11-28T11:55:53.530Z"
   },
   {
    "duration": 40,
    "start_time": "2021-11-28T11:55:53.593Z"
   },
   {
    "duration": 13,
    "start_time": "2021-11-28T11:55:53.635Z"
   },
   {
    "duration": 49,
    "start_time": "2021-11-28T11:55:53.650Z"
   },
   {
    "duration": 45,
    "start_time": "2021-11-28T11:55:53.702Z"
   },
   {
    "duration": 13,
    "start_time": "2021-11-28T11:55:53.750Z"
   },
   {
    "duration": 35,
    "start_time": "2021-11-28T11:55:53.790Z"
   },
   {
    "duration": 27,
    "start_time": "2021-11-28T11:55:53.829Z"
   },
   {
    "duration": 45,
    "start_time": "2021-11-28T11:55:53.858Z"
   },
   {
    "duration": 7,
    "start_time": "2021-11-28T11:55:53.906Z"
   },
   {
    "duration": 18,
    "start_time": "2021-11-28T11:55:53.916Z"
   },
   {
    "duration": 25,
    "start_time": "2021-11-28T11:55:53.936Z"
   },
   {
    "duration": 39,
    "start_time": "2021-11-28T11:55:53.964Z"
   },
   {
    "duration": 28,
    "start_time": "2021-11-28T11:55:54.005Z"
   },
   {
    "duration": 11,
    "start_time": "2021-11-28T11:55:54.037Z"
   },
   {
    "duration": 53,
    "start_time": "2021-11-28T11:55:54.050Z"
   },
   {
    "duration": 5,
    "start_time": "2021-11-28T11:55:54.106Z"
   },
   {
    "duration": 16,
    "start_time": "2021-11-28T11:55:54.113Z"
   },
   {
    "duration": 23,
    "start_time": "2021-11-28T11:55:54.132Z"
   },
   {
    "duration": 51,
    "start_time": "2021-11-28T11:55:54.157Z"
   },
   {
    "duration": 11,
    "start_time": "2021-11-28T11:55:54.211Z"
   },
   {
    "duration": 24,
    "start_time": "2021-11-28T11:55:54.225Z"
   },
   {
    "duration": 12,
    "start_time": "2021-11-28T11:55:54.251Z"
   },
   {
    "duration": 23,
    "start_time": "2021-11-28T11:55:54.287Z"
   },
   {
    "duration": 9,
    "start_time": "2021-11-28T11:55:54.312Z"
   },
   {
    "duration": 8,
    "start_time": "2021-11-28T11:55:54.324Z"
   },
   {
    "duration": 8,
    "start_time": "2021-11-28T11:55:54.334Z"
   },
   {
    "duration": 7,
    "start_time": "2021-11-28T11:55:54.344Z"
   },
   {
    "duration": 9,
    "start_time": "2021-11-28T11:55:54.353Z"
   },
   {
    "duration": 12,
    "start_time": "2021-11-28T11:55:54.388Z"
   },
   {
    "duration": 64,
    "start_time": "2021-11-28T11:55:54.403Z"
   },
   {
    "duration": 40,
    "start_time": "2021-11-28T11:55:54.470Z"
   },
   {
    "duration": 6,
    "start_time": "2021-11-28T11:55:54.513Z"
   },
   {
    "duration": 7,
    "start_time": "2021-11-28T11:55:54.522Z"
   },
   {
    "duration": 112,
    "start_time": "2021-11-28T11:55:54.532Z"
   },
   {
    "duration": 11,
    "start_time": "2021-11-28T11:55:54.646Z"
   },
   {
    "duration": 18,
    "start_time": "2021-11-28T11:55:54.659Z"
   },
   {
    "duration": 25,
    "start_time": "2021-11-28T11:55:54.679Z"
   },
   {
    "duration": 69,
    "start_time": "2021-11-28T11:55:54.706Z"
   },
   {
    "duration": 30,
    "start_time": "2021-11-28T11:55:54.777Z"
   },
   {
    "duration": 5,
    "start_time": "2021-11-28T11:55:54.809Z"
   },
   {
    "duration": 17,
    "start_time": "2021-11-28T11:55:54.816Z"
   },
   {
    "duration": 82,
    "start_time": "2021-11-28T11:55:54.835Z"
   },
   {
    "duration": 11,
    "start_time": "2021-11-28T11:55:54.920Z"
   },
   {
    "duration": 7,
    "start_time": "2021-11-28T11:55:54.933Z"
   },
   {
    "duration": 17,
    "start_time": "2021-11-28T11:55:54.943Z"
   },
   {
    "duration": 4,
    "start_time": "2021-11-28T11:57:37.354Z"
   },
   {
    "duration": 143,
    "start_time": "2021-11-28T11:57:42.562Z"
   },
   {
    "duration": 35,
    "start_time": "2021-11-28T11:57:56.367Z"
   },
   {
    "duration": 101,
    "start_time": "2021-11-28T11:58:53.940Z"
   },
   {
    "duration": 4,
    "start_time": "2021-11-28T11:59:05.517Z"
   },
   {
    "duration": 1496,
    "start_time": "2021-11-28T11:59:07.130Z"
   },
   {
    "duration": 3,
    "start_time": "2021-11-28T11:59:16.223Z"
   },
   {
    "duration": 628,
    "start_time": "2021-11-28T11:59:16.232Z"
   },
   {
    "duration": 13,
    "start_time": "2021-11-28T11:59:16.863Z"
   },
   {
    "duration": 46,
    "start_time": "2021-11-28T11:59:16.880Z"
   },
   {
    "duration": 69,
    "start_time": "2021-11-28T11:59:16.929Z"
   },
   {
    "duration": 17,
    "start_time": "2021-11-28T11:59:17.001Z"
   },
   {
    "duration": 25,
    "start_time": "2021-11-28T11:59:17.020Z"
   },
   {
    "duration": 67,
    "start_time": "2021-11-28T11:59:17.047Z"
   },
   {
    "duration": 12,
    "start_time": "2021-11-28T11:59:17.118Z"
   },
   {
    "duration": 14,
    "start_time": "2021-11-28T11:59:17.135Z"
   },
   {
    "duration": 66,
    "start_time": "2021-11-28T11:59:17.152Z"
   },
   {
    "duration": 34,
    "start_time": "2021-11-28T11:59:17.221Z"
   },
   {
    "duration": 41,
    "start_time": "2021-11-28T11:59:17.258Z"
   },
   {
    "duration": 11,
    "start_time": "2021-11-28T11:59:17.303Z"
   },
   {
    "duration": 17,
    "start_time": "2021-11-28T11:59:17.316Z"
   },
   {
    "duration": 13,
    "start_time": "2021-11-28T11:59:17.335Z"
   },
   {
    "duration": 52,
    "start_time": "2021-11-28T11:59:17.350Z"
   },
   {
    "duration": 38,
    "start_time": "2021-11-28T11:59:17.405Z"
   },
   {
    "duration": 57,
    "start_time": "2021-11-28T11:59:17.446Z"
   },
   {
    "duration": 12,
    "start_time": "2021-11-28T11:59:17.505Z"
   },
   {
    "duration": 37,
    "start_time": "2021-11-28T11:59:17.519Z"
   },
   {
    "duration": 61,
    "start_time": "2021-11-28T11:59:17.559Z"
   },
   {
    "duration": 12,
    "start_time": "2021-11-28T11:59:17.622Z"
   },
   {
    "duration": 58,
    "start_time": "2021-11-28T11:59:17.644Z"
   },
   {
    "duration": 50,
    "start_time": "2021-11-28T11:59:17.707Z"
   },
   {
    "duration": 46,
    "start_time": "2021-11-28T11:59:17.767Z"
   },
   {
    "duration": 40,
    "start_time": "2021-11-28T11:59:17.815Z"
   },
   {
    "duration": 63,
    "start_time": "2021-11-28T11:59:17.858Z"
   },
   {
    "duration": 33,
    "start_time": "2021-11-28T11:59:17.924Z"
   },
   {
    "duration": 11,
    "start_time": "2021-11-28T11:59:17.960Z"
   },
   {
    "duration": 29,
    "start_time": "2021-11-28T11:59:17.974Z"
   },
   {
    "duration": 6,
    "start_time": "2021-11-28T11:59:18.005Z"
   },
   {
    "duration": 25,
    "start_time": "2021-11-28T11:59:18.014Z"
   },
   {
    "duration": 5,
    "start_time": "2021-11-28T11:59:18.041Z"
   },
   {
    "duration": 5,
    "start_time": "2021-11-28T11:59:18.048Z"
   },
   {
    "duration": 8,
    "start_time": "2021-11-28T11:59:18.091Z"
   },
   {
    "duration": 21,
    "start_time": "2021-11-28T11:59:18.103Z"
   },
   {
    "duration": 8,
    "start_time": "2021-11-28T11:59:18.126Z"
   },
   {
    "duration": 56,
    "start_time": "2021-11-28T11:59:18.136Z"
   },
   {
    "duration": 7,
    "start_time": "2021-11-28T11:59:18.195Z"
   },
   {
    "duration": 21,
    "start_time": "2021-11-28T11:59:18.204Z"
   },
   {
    "duration": 4,
    "start_time": "2021-11-28T11:59:18.227Z"
   },
   {
    "duration": 5,
    "start_time": "2021-11-28T11:59:18.234Z"
   },
   {
    "duration": 4,
    "start_time": "2021-11-28T11:59:18.287Z"
   },
   {
    "duration": 13,
    "start_time": "2021-11-28T11:59:18.294Z"
   },
   {
    "duration": 8,
    "start_time": "2021-11-28T11:59:18.310Z"
   },
   {
    "duration": 10,
    "start_time": "2021-11-28T11:59:18.320Z"
   },
   {
    "duration": 72,
    "start_time": "2021-11-28T11:59:18.332Z"
   },
   {
    "duration": 28,
    "start_time": "2021-11-28T11:59:18.407Z"
   },
   {
    "duration": 7,
    "start_time": "2021-11-28T11:59:18.438Z"
   },
   {
    "duration": 6,
    "start_time": "2021-11-28T11:59:18.448Z"
   },
   {
    "duration": 116,
    "start_time": "2021-11-28T11:59:18.457Z"
   },
   {
    "duration": 16,
    "start_time": "2021-11-28T11:59:18.576Z"
   },
   {
    "duration": 7,
    "start_time": "2021-11-28T11:59:18.595Z"
   },
   {
    "duration": 12,
    "start_time": "2021-11-28T11:59:18.605Z"
   },
   {
    "duration": 130,
    "start_time": "2021-11-28T11:59:18.620Z"
   },
   {
    "duration": 40,
    "start_time": "2021-11-28T11:59:18.753Z"
   },
   {
    "duration": 3,
    "start_time": "2021-11-28T11:59:18.803Z"
   },
   {
    "duration": 5,
    "start_time": "2021-11-28T11:59:18.808Z"
   },
   {
    "duration": 95,
    "start_time": "2021-11-28T11:59:18.816Z"
   },
   {
    "duration": 12,
    "start_time": "2021-11-28T11:59:18.914Z"
   },
   {
    "duration": 10,
    "start_time": "2021-11-28T11:59:18.929Z"
   },
   {
    "duration": 43,
    "start_time": "2021-11-28T11:59:18.942Z"
   },
   {
    "duration": 1895,
    "start_time": "2021-11-28T12:00:24.247Z"
   },
   {
    "duration": 4,
    "start_time": "2021-11-28T12:01:10.702Z"
   },
   {
    "duration": 759,
    "start_time": "2021-11-28T12:01:10.709Z"
   },
   {
    "duration": 11,
    "start_time": "2021-11-28T12:01:11.472Z"
   },
   {
    "duration": 40,
    "start_time": "2021-11-28T12:01:11.487Z"
   },
   {
    "duration": 74,
    "start_time": "2021-11-28T12:01:11.529Z"
   },
   {
    "duration": 14,
    "start_time": "2021-11-28T12:01:11.606Z"
   },
   {
    "duration": 32,
    "start_time": "2021-11-28T12:01:11.624Z"
   },
   {
    "duration": 49,
    "start_time": "2021-11-28T12:01:11.661Z"
   },
   {
    "duration": 11,
    "start_time": "2021-11-28T12:01:11.712Z"
   },
   {
    "duration": 13,
    "start_time": "2021-11-28T12:01:11.726Z"
   },
   {
    "duration": 52,
    "start_time": "2021-11-28T12:01:11.742Z"
   },
   {
    "duration": 37,
    "start_time": "2021-11-28T12:01:11.797Z"
   },
   {
    "duration": 16,
    "start_time": "2021-11-28T12:01:11.837Z"
   },
   {
    "duration": 46,
    "start_time": "2021-11-28T12:01:11.855Z"
   },
   {
    "duration": 15,
    "start_time": "2021-11-28T12:01:11.903Z"
   },
   {
    "duration": 14,
    "start_time": "2021-11-28T12:01:11.920Z"
   },
   {
    "duration": 19,
    "start_time": "2021-11-28T12:01:11.937Z"
   },
   {
    "duration": 61,
    "start_time": "2021-11-28T12:01:11.959Z"
   },
   {
    "duration": 39,
    "start_time": "2021-11-28T12:01:12.025Z"
   },
   {
    "duration": 39,
    "start_time": "2021-11-28T12:01:12.068Z"
   },
   {
    "duration": 22,
    "start_time": "2021-11-28T12:01:12.109Z"
   },
   {
    "duration": 75,
    "start_time": "2021-11-28T12:01:12.134Z"
   },
   {
    "duration": 11,
    "start_time": "2021-11-28T12:01:12.212Z"
   },
   {
    "duration": 48,
    "start_time": "2021-11-28T12:01:12.227Z"
   },
   {
    "duration": 37,
    "start_time": "2021-11-28T12:01:12.278Z"
   },
   {
    "duration": 15,
    "start_time": "2021-11-28T12:01:12.318Z"
   },
   {
    "duration": 14,
    "start_time": "2021-11-28T12:01:12.336Z"
   },
   {
    "duration": 32,
    "start_time": "2021-11-28T12:01:12.353Z"
   },
   {
    "duration": 47,
    "start_time": "2021-11-28T12:01:12.387Z"
   },
   {
    "duration": 11,
    "start_time": "2021-11-28T12:01:12.437Z"
   },
   {
    "duration": 35,
    "start_time": "2021-11-28T12:01:12.450Z"
   },
   {
    "duration": 15,
    "start_time": "2021-11-28T12:01:12.488Z"
   },
   {
    "duration": 26,
    "start_time": "2021-11-28T12:01:12.506Z"
   },
   {
    "duration": 12,
    "start_time": "2021-11-28T12:01:12.535Z"
   },
   {
    "duration": 54,
    "start_time": "2021-11-28T12:01:12.549Z"
   },
   {
    "duration": 8,
    "start_time": "2021-11-28T12:01:12.606Z"
   },
   {
    "duration": 21,
    "start_time": "2021-11-28T12:01:12.616Z"
   },
   {
    "duration": 19,
    "start_time": "2021-11-28T12:01:12.640Z"
   },
   {
    "duration": 62,
    "start_time": "2021-11-28T12:01:12.661Z"
   },
   {
    "duration": 3,
    "start_time": "2021-11-28T12:01:12.726Z"
   },
   {
    "duration": 9,
    "start_time": "2021-11-28T12:01:12.731Z"
   },
   {
    "duration": 10,
    "start_time": "2021-11-28T12:01:12.742Z"
   },
   {
    "duration": 15,
    "start_time": "2021-11-28T12:01:12.755Z"
   },
   {
    "duration": 13,
    "start_time": "2021-11-28T12:01:12.773Z"
   },
   {
    "duration": 24,
    "start_time": "2021-11-28T12:01:12.789Z"
   },
   {
    "duration": 59,
    "start_time": "2021-11-28T12:01:12.816Z"
   },
   {
    "duration": 39,
    "start_time": "2021-11-28T12:01:12.877Z"
   },
   {
    "duration": 10,
    "start_time": "2021-11-28T12:01:12.919Z"
   },
   {
    "duration": 5,
    "start_time": "2021-11-28T12:01:12.932Z"
   },
   {
    "duration": 108,
    "start_time": "2021-11-28T12:01:12.940Z"
   },
   {
    "duration": 14,
    "start_time": "2021-11-28T12:01:13.051Z"
   },
   {
    "duration": 23,
    "start_time": "2021-11-28T12:01:13.068Z"
   },
   {
    "duration": 24,
    "start_time": "2021-11-28T12:01:13.094Z"
   },
   {
    "duration": 101,
    "start_time": "2021-11-28T12:01:13.121Z"
   },
   {
    "duration": 20,
    "start_time": "2021-11-28T12:01:13.230Z"
   },
   {
    "duration": 11,
    "start_time": "2021-11-28T12:01:13.253Z"
   },
   {
    "duration": 20,
    "start_time": "2021-11-28T12:01:13.266Z"
   },
   {
    "duration": 72,
    "start_time": "2021-11-28T12:01:13.289Z"
   },
   {
    "duration": 36,
    "start_time": "2021-11-28T12:01:13.364Z"
   },
   {
    "duration": 16,
    "start_time": "2021-11-28T12:01:13.403Z"
   },
   {
    "duration": 21,
    "start_time": "2021-11-28T12:01:13.422Z"
   },
   {
    "duration": 874,
    "start_time": "2021-11-28T12:04:47.329Z"
   },
   {
    "duration": 573,
    "start_time": "2021-11-28T12:04:48.206Z"
   },
   {
    "duration": 26,
    "start_time": "2021-11-28T12:04:48.786Z"
   },
   {
    "duration": 53,
    "start_time": "2021-11-28T12:04:48.815Z"
   },
   {
    "duration": 59,
    "start_time": "2021-11-28T12:04:48.871Z"
   },
   {
    "duration": 12,
    "start_time": "2021-11-28T12:04:48.932Z"
   },
   {
    "duration": 64,
    "start_time": "2021-11-28T12:04:48.947Z"
   },
   {
    "duration": 33,
    "start_time": "2021-11-28T12:04:49.014Z"
   },
   {
    "duration": 15,
    "start_time": "2021-11-28T12:04:49.050Z"
   },
   {
    "duration": 36,
    "start_time": "2021-11-28T12:04:49.067Z"
   },
   {
    "duration": 21,
    "start_time": "2021-11-28T12:04:49.105Z"
   },
   {
    "duration": 37,
    "start_time": "2021-11-28T12:04:49.128Z"
   },
   {
    "duration": 30,
    "start_time": "2021-11-28T12:04:49.167Z"
   },
   {
    "duration": 25,
    "start_time": "2021-11-28T12:04:49.200Z"
   },
   {
    "duration": 33,
    "start_time": "2021-11-28T12:04:49.227Z"
   },
   {
    "duration": 32,
    "start_time": "2021-11-28T12:04:49.262Z"
   },
   {
    "duration": 16,
    "start_time": "2021-11-28T12:04:49.297Z"
   },
   {
    "duration": 41,
    "start_time": "2021-11-28T12:04:49.315Z"
   },
   {
    "duration": 84,
    "start_time": "2021-11-28T12:04:49.358Z"
   },
   {
    "duration": 17,
    "start_time": "2021-11-28T12:04:49.446Z"
   },
   {
    "duration": 46,
    "start_time": "2021-11-28T12:04:49.465Z"
   },
   {
    "duration": 59,
    "start_time": "2021-11-28T12:04:49.514Z"
   },
   {
    "duration": 20,
    "start_time": "2021-11-28T12:04:49.579Z"
   },
   {
    "duration": 42,
    "start_time": "2021-11-28T12:04:49.602Z"
   },
   {
    "duration": 41,
    "start_time": "2021-11-28T12:04:49.647Z"
   },
   {
    "duration": 13,
    "start_time": "2021-11-28T12:04:49.691Z"
   },
   {
    "duration": 26,
    "start_time": "2021-11-28T12:04:49.707Z"
   },
   {
    "duration": 22,
    "start_time": "2021-11-28T12:04:49.735Z"
   },
   {
    "duration": 27,
    "start_time": "2021-11-28T12:04:49.760Z"
   },
   {
    "duration": 28,
    "start_time": "2021-11-28T12:04:49.791Z"
   },
   {
    "duration": 20,
    "start_time": "2021-11-28T12:04:49.821Z"
   },
   {
    "duration": 21,
    "start_time": "2021-11-28T12:04:49.844Z"
   },
   {
    "duration": 34,
    "start_time": "2021-11-28T12:04:49.868Z"
   },
   {
    "duration": 21,
    "start_time": "2021-11-28T12:04:49.905Z"
   },
   {
    "duration": 39,
    "start_time": "2021-11-28T12:04:49.930Z"
   },
   {
    "duration": 14,
    "start_time": "2021-11-28T12:04:49.972Z"
   },
   {
    "duration": 32,
    "start_time": "2021-11-28T12:04:49.989Z"
   },
   {
    "duration": 17,
    "start_time": "2021-11-28T12:04:50.024Z"
   },
   {
    "duration": 13,
    "start_time": "2021-11-28T12:04:50.043Z"
   },
   {
    "duration": 20,
    "start_time": "2021-11-28T12:04:50.059Z"
   },
   {
    "duration": 17,
    "start_time": "2021-11-28T12:04:50.082Z"
   },
   {
    "duration": 12,
    "start_time": "2021-11-28T12:04:50.102Z"
   },
   {
    "duration": 18,
    "start_time": "2021-11-28T12:04:50.117Z"
   },
   {
    "duration": 108,
    "start_time": "2021-11-28T12:04:50.138Z"
   },
   {
    "duration": 19,
    "start_time": "2021-11-28T12:04:50.248Z"
   },
   {
    "duration": 18,
    "start_time": "2021-11-28T12:04:50.269Z"
   },
   {
    "duration": 19,
    "start_time": "2021-11-28T12:04:50.290Z"
   },
   {
    "duration": 103,
    "start_time": "2021-11-28T12:04:50.311Z"
   },
   {
    "duration": 13,
    "start_time": "2021-11-28T12:04:50.417Z"
   },
   {
    "duration": 28,
    "start_time": "2021-11-28T12:04:50.432Z"
   },
   {
    "duration": 37,
    "start_time": "2021-11-28T12:04:50.462Z"
   },
   {
    "duration": 98,
    "start_time": "2021-11-28T12:04:50.501Z"
   },
   {
    "duration": 20,
    "start_time": "2021-11-28T12:04:50.602Z"
   },
   {
    "duration": 16,
    "start_time": "2021-11-28T12:04:50.625Z"
   },
   {
    "duration": 22,
    "start_time": "2021-11-28T12:04:50.644Z"
   },
   {
    "duration": 92,
    "start_time": "2021-11-28T12:04:50.668Z"
   },
   {
    "duration": 14,
    "start_time": "2021-11-28T12:04:50.762Z"
   },
   {
    "duration": 10,
    "start_time": "2021-11-28T12:04:50.787Z"
   },
   {
    "duration": 22,
    "start_time": "2021-11-28T12:04:50.800Z"
   },
   {
    "duration": 5,
    "start_time": "2021-11-28T12:07:42.683Z"
   },
   {
    "duration": 25,
    "start_time": "2021-11-28T12:07:53.105Z"
   },
   {
    "duration": 15560,
    "start_time": "2021-11-28T12:09:57.580Z"
   },
   {
    "duration": 25,
    "start_time": "2021-11-28T12:10:14.496Z"
   },
   {
    "duration": 670,
    "start_time": "2021-11-28T12:11:10.765Z"
   },
   {
    "duration": 4,
    "start_time": "2021-11-28T12:11:21.773Z"
   },
   {
    "duration": 652,
    "start_time": "2021-11-28T12:11:21.781Z"
   },
   {
    "duration": 15,
    "start_time": "2021-11-28T12:11:22.436Z"
   },
   {
    "duration": 46,
    "start_time": "2021-11-28T12:11:22.455Z"
   },
   {
    "duration": 41,
    "start_time": "2021-11-28T12:11:22.504Z"
   },
   {
    "duration": 12,
    "start_time": "2021-11-28T12:11:22.547Z"
   },
   {
    "duration": 56,
    "start_time": "2021-11-28T12:11:22.562Z"
   },
   {
    "duration": 28,
    "start_time": "2021-11-28T12:11:22.621Z"
   },
   {
    "duration": 33,
    "start_time": "2021-11-28T12:11:22.652Z"
   },
   {
    "duration": 15,
    "start_time": "2021-11-28T12:11:22.688Z"
   },
   {
    "duration": 20,
    "start_time": "2021-11-28T12:11:22.706Z"
   },
   {
    "duration": 68,
    "start_time": "2021-11-28T12:11:22.729Z"
   },
   {
    "duration": 11,
    "start_time": "2021-11-28T12:11:22.807Z"
   },
   {
    "duration": 14,
    "start_time": "2021-11-28T12:11:22.821Z"
   },
   {
    "duration": 26,
    "start_time": "2021-11-28T12:11:22.838Z"
   },
   {
    "duration": 15,
    "start_time": "2021-11-28T12:11:22.889Z"
   },
   {
    "duration": 12,
    "start_time": "2021-11-28T12:11:22.907Z"
   },
   {
    "duration": 42,
    "start_time": "2021-11-28T12:11:22.921Z"
   },
   {
    "duration": 57,
    "start_time": "2021-11-28T12:11:22.985Z"
   },
   {
    "duration": 15,
    "start_time": "2021-11-28T12:11:23.046Z"
   },
   {
    "duration": 59,
    "start_time": "2021-11-28T12:11:23.064Z"
   },
   {
    "duration": 37,
    "start_time": "2021-11-28T12:11:23.125Z"
   },
   {
    "duration": 24,
    "start_time": "2021-11-28T12:11:23.164Z"
   },
   {
    "duration": 31,
    "start_time": "2021-11-28T12:11:23.191Z"
   },
   {
    "duration": 25,
    "start_time": "2021-11-28T12:11:23.224Z"
   },
   {
    "duration": 47,
    "start_time": "2021-11-28T12:11:23.251Z"
   },
   {
    "duration": 7,
    "start_time": "2021-11-28T12:11:23.300Z"
   },
   {
    "duration": 15,
    "start_time": "2021-11-28T12:11:23.309Z"
   },
   {
    "duration": 20,
    "start_time": "2021-11-28T12:11:23.327Z"
   },
   {
    "duration": 48,
    "start_time": "2021-11-28T12:11:23.350Z"
   },
   {
    "duration": 19,
    "start_time": "2021-11-28T12:11:23.401Z"
   },
   {
    "duration": 8,
    "start_time": "2021-11-28T12:11:23.423Z"
   },
   {
    "duration": 23,
    "start_time": "2021-11-28T12:11:23.434Z"
   },
   {
    "duration": 635,
    "start_time": "2021-11-28T12:11:23.460Z"
   },
   {
    "duration": 172054,
    "start_time": "2021-11-28T12:08:32.045Z"
   },
   {
    "duration": 172050,
    "start_time": "2021-11-28T12:08:32.051Z"
   },
   {
    "duration": 172043,
    "start_time": "2021-11-28T12:08:32.059Z"
   },
   {
    "duration": 172036,
    "start_time": "2021-11-28T12:08:32.067Z"
   },
   {
    "duration": 172032,
    "start_time": "2021-11-28T12:08:32.073Z"
   },
   {
    "duration": 172027,
    "start_time": "2021-11-28T12:08:32.080Z"
   },
   {
    "duration": 172022,
    "start_time": "2021-11-28T12:08:32.086Z"
   },
   {
    "duration": 172012,
    "start_time": "2021-11-28T12:08:32.097Z"
   },
   {
    "duration": 172006,
    "start_time": "2021-11-28T12:08:32.105Z"
   },
   {
    "duration": 171999,
    "start_time": "2021-11-28T12:08:32.113Z"
   },
   {
    "duration": 171996,
    "start_time": "2021-11-28T12:08:32.118Z"
   },
   {
    "duration": 171990,
    "start_time": "2021-11-28T12:08:32.125Z"
   },
   {
    "duration": 171985,
    "start_time": "2021-11-28T12:08:32.131Z"
   },
   {
    "duration": 171959,
    "start_time": "2021-11-28T12:08:32.158Z"
   },
   {
    "duration": 171954,
    "start_time": "2021-11-28T12:08:32.164Z"
   },
   {
    "duration": 171945,
    "start_time": "2021-11-28T12:08:32.175Z"
   },
   {
    "duration": 171940,
    "start_time": "2021-11-28T12:08:32.182Z"
   },
   {
    "duration": 171935,
    "start_time": "2021-11-28T12:08:32.188Z"
   },
   {
    "duration": 171929,
    "start_time": "2021-11-28T12:08:32.195Z"
   },
   {
    "duration": 171924,
    "start_time": "2021-11-28T12:08:32.202Z"
   },
   {
    "duration": 171919,
    "start_time": "2021-11-28T12:08:32.208Z"
   },
   {
    "duration": 171914,
    "start_time": "2021-11-28T12:08:32.214Z"
   },
   {
    "duration": 171904,
    "start_time": "2021-11-28T12:08:32.226Z"
   },
   {
    "duration": 171898,
    "start_time": "2021-11-28T12:08:32.233Z"
   },
   {
    "duration": 171893,
    "start_time": "2021-11-28T12:08:32.239Z"
   },
   {
    "duration": 171938,
    "start_time": "2021-11-28T12:08:32.248Z"
   },
   {
    "duration": 171913,
    "start_time": "2021-11-28T12:08:32.276Z"
   },
   {
    "duration": 171909,
    "start_time": "2021-11-28T12:08:32.282Z"
   },
   {
    "duration": 171906,
    "start_time": "2021-11-28T12:08:32.288Z"
   },
   {
    "duration": 14745,
    "start_time": "2021-11-28T12:11:48.393Z"
   },
   {
    "duration": 172594,
    "start_time": "2021-11-28T12:09:10.546Z"
   },
   {
    "duration": 20,
    "start_time": "2021-11-28T12:13:01.017Z"
   },
   {
    "duration": 38,
    "start_time": "2021-11-28T12:13:02.966Z"
   },
   {
    "duration": 45,
    "start_time": "2021-11-28T12:13:13.267Z"
   },
   {
    "duration": 19,
    "start_time": "2021-11-28T12:13:20.144Z"
   },
   {
    "duration": 6,
    "start_time": "2021-11-28T12:14:05.839Z"
   },
   {
    "duration": 62,
    "start_time": "2021-11-28T12:14:07.462Z"
   },
   {
    "duration": 38,
    "start_time": "2021-11-28T12:14:12.260Z"
   },
   {
    "duration": 41,
    "start_time": "2021-11-28T12:14:21.679Z"
   },
   {
    "duration": 318,
    "start_time": "2021-11-28T12:15:48.268Z"
   },
   {
    "duration": 4,
    "start_time": "2021-11-28T12:16:26.479Z"
   },
   {
    "duration": 677,
    "start_time": "2021-11-28T12:16:26.487Z"
   },
   {
    "duration": 11,
    "start_time": "2021-11-28T12:16:27.167Z"
   },
   {
    "duration": 31,
    "start_time": "2021-11-28T12:16:27.182Z"
   },
   {
    "duration": 44,
    "start_time": "2021-11-28T12:16:27.215Z"
   },
   {
    "duration": 31,
    "start_time": "2021-11-28T12:16:27.261Z"
   },
   {
    "duration": 35,
    "start_time": "2021-11-28T12:16:27.295Z"
   },
   {
    "duration": 67,
    "start_time": "2021-11-28T12:16:27.332Z"
   },
   {
    "duration": 14,
    "start_time": "2021-11-28T12:16:27.405Z"
   },
   {
    "duration": 13,
    "start_time": "2021-11-28T12:16:27.424Z"
   },
   {
    "duration": 48,
    "start_time": "2021-11-28T12:16:27.440Z"
   },
   {
    "duration": 25,
    "start_time": "2021-11-28T12:16:27.490Z"
   },
   {
    "duration": 12,
    "start_time": "2021-11-28T12:16:27.518Z"
   },
   {
    "duration": 17,
    "start_time": "2021-11-28T12:16:27.533Z"
   },
   {
    "duration": 43,
    "start_time": "2021-11-28T12:16:27.552Z"
   },
   {
    "duration": 18,
    "start_time": "2021-11-28T12:16:27.598Z"
   },
   {
    "duration": 11,
    "start_time": "2021-11-28T12:16:27.619Z"
   },
   {
    "duration": 68,
    "start_time": "2021-11-28T12:16:27.633Z"
   },
   {
    "duration": 55,
    "start_time": "2021-11-28T12:16:27.704Z"
   },
   {
    "duration": 32,
    "start_time": "2021-11-28T12:16:27.761Z"
   },
   {
    "duration": 25,
    "start_time": "2021-11-28T12:16:27.796Z"
   },
   {
    "duration": 57,
    "start_time": "2021-11-28T12:16:27.825Z"
   },
   {
    "duration": 11,
    "start_time": "2021-11-28T12:16:27.884Z"
   },
   {
    "duration": 31,
    "start_time": "2021-11-28T12:16:27.898Z"
   },
   {
    "duration": 68,
    "start_time": "2021-11-28T12:16:27.932Z"
   },
   {
    "duration": 12,
    "start_time": "2021-11-28T12:16:28.003Z"
   },
   {
    "duration": 7,
    "start_time": "2021-11-28T12:16:28.025Z"
   },
   {
    "duration": 11,
    "start_time": "2021-11-28T12:16:28.036Z"
   },
   {
    "duration": 50,
    "start_time": "2021-11-28T12:16:28.049Z"
   },
   {
    "duration": 14,
    "start_time": "2021-11-28T12:16:28.102Z"
   },
   {
    "duration": 25,
    "start_time": "2021-11-28T12:16:28.119Z"
   },
   {
    "duration": 39,
    "start_time": "2021-11-28T12:16:28.146Z"
   },
   {
    "duration": 28,
    "start_time": "2021-11-28T12:16:28.188Z"
   },
   {
    "duration": 10,
    "start_time": "2021-11-28T12:16:28.219Z"
   },
   {
    "duration": 52,
    "start_time": "2021-11-28T12:16:28.232Z"
   },
   {
    "duration": 12,
    "start_time": "2021-11-28T12:16:28.287Z"
   },
   {
    "duration": 33,
    "start_time": "2021-11-28T12:16:28.302Z"
   },
   {
    "duration": 2,
    "start_time": "2021-11-28T12:16:28.337Z"
   },
   {
    "duration": 14,
    "start_time": "2021-11-28T12:16:28.342Z"
   },
   {
    "duration": 10,
    "start_time": "2021-11-28T12:16:28.359Z"
   },
   {
    "duration": 4,
    "start_time": "2021-11-28T12:16:28.383Z"
   },
   {
    "duration": 7,
    "start_time": "2021-11-28T12:16:28.390Z"
   },
   {
    "duration": 4,
    "start_time": "2021-11-28T12:16:28.400Z"
   },
   {
    "duration": 99,
    "start_time": "2021-11-28T12:16:28.407Z"
   },
   {
    "duration": 25,
    "start_time": "2021-11-28T12:16:28.509Z"
   },
   {
    "duration": 6,
    "start_time": "2021-11-28T12:16:28.537Z"
   },
   {
    "duration": 20,
    "start_time": "2021-11-28T12:16:28.548Z"
   },
   {
    "duration": 77,
    "start_time": "2021-11-28T12:16:28.570Z"
   },
   {
    "duration": 34,
    "start_time": "2021-11-28T12:16:28.650Z"
   },
   {
    "duration": 6,
    "start_time": "2021-11-28T12:16:28.687Z"
   },
   {
    "duration": 25,
    "start_time": "2021-11-28T12:16:28.696Z"
   },
   {
    "duration": 103,
    "start_time": "2021-11-28T12:16:28.723Z"
   },
   {
    "duration": 19,
    "start_time": "2021-11-28T12:16:28.829Z"
   },
   {
    "duration": 17,
    "start_time": "2021-11-28T12:16:28.851Z"
   },
   {
    "duration": 18,
    "start_time": "2021-11-28T12:16:28.870Z"
   },
   {
    "duration": 91,
    "start_time": "2021-11-28T12:16:28.891Z"
   },
   {
    "duration": 15,
    "start_time": "2021-11-28T12:16:28.985Z"
   },
   {
    "duration": 17,
    "start_time": "2021-11-28T12:16:29.003Z"
   },
   {
    "duration": 19,
    "start_time": "2021-11-28T12:16:29.023Z"
   },
   {
    "duration": 359,
    "start_time": "2021-11-28T12:21:41.407Z"
   },
   {
    "duration": 8,
    "start_time": "2021-11-28T12:22:13.929Z"
   },
   {
    "duration": 8,
    "start_time": "2021-11-28T12:22:25.539Z"
   },
   {
    "duration": 12,
    "start_time": "2021-11-28T12:22:26.695Z"
   },
   {
    "duration": 335,
    "start_time": "2021-11-28T12:22:54.454Z"
   },
   {
    "duration": 24,
    "start_time": "2021-11-28T12:23:03.456Z"
   },
   {
    "duration": 13,
    "start_time": "2021-11-28T12:23:04.728Z"
   },
   {
    "duration": 110,
    "start_time": "2021-11-28T12:23:24.904Z"
   },
   {
    "duration": 109,
    "start_time": "2021-11-28T12:23:38.198Z"
   },
   {
    "duration": 110,
    "start_time": "2021-11-28T12:23:49.464Z"
   },
   {
    "duration": 141,
    "start_time": "2021-11-28T12:24:01.577Z"
   },
   {
    "duration": 105,
    "start_time": "2021-11-28T12:24:09.961Z"
   },
   {
    "duration": 99,
    "start_time": "2021-11-28T12:24:19.488Z"
   },
   {
    "duration": 139,
    "start_time": "2021-11-28T12:24:31.650Z"
   },
   {
    "duration": 112,
    "start_time": "2021-11-28T12:24:41.498Z"
   },
   {
    "duration": 105,
    "start_time": "2021-11-28T12:25:02.306Z"
   },
   {
    "duration": 92,
    "start_time": "2021-11-28T12:25:54.792Z"
   },
   {
    "duration": 110,
    "start_time": "2021-11-28T12:26:08.880Z"
   },
   {
    "duration": 313,
    "start_time": "2021-11-28T12:26:15.084Z"
   },
   {
    "duration": 29,
    "start_time": "2021-11-28T12:26:21.242Z"
   },
   {
    "duration": 18,
    "start_time": "2021-11-28T12:26:23.499Z"
   },
   {
    "duration": 5,
    "start_time": "2021-11-28T12:26:35.276Z"
   },
   {
    "duration": 13,
    "start_time": "2021-11-28T12:26:36.282Z"
   },
   {
    "duration": 300,
    "start_time": "2021-11-28T12:32:27.318Z"
   },
   {
    "duration": 18,
    "start_time": "2021-11-28T12:32:40.809Z"
   },
   {
    "duration": 19,
    "start_time": "2021-11-28T12:32:57.092Z"
   },
   {
    "duration": 17,
    "start_time": "2021-11-28T12:33:05.553Z"
   },
   {
    "duration": 7,
    "start_time": "2021-11-28T12:36:04.841Z"
   },
   {
    "duration": 55,
    "start_time": "2021-11-28T12:36:06.868Z"
   },
   {
    "duration": 21,
    "start_time": "2021-11-28T12:36:08.554Z"
   },
   {
    "duration": 19,
    "start_time": "2021-11-28T12:42:06.288Z"
   },
   {
    "duration": 320,
    "start_time": "2021-11-28T12:42:27.292Z"
   },
   {
    "duration": 12,
    "start_time": "2021-11-28T12:42:38.867Z"
   },
   {
    "duration": 20,
    "start_time": "2021-11-28T12:43:07.013Z"
   },
   {
    "duration": 19,
    "start_time": "2021-11-28T12:43:29.870Z"
   },
   {
    "duration": 25,
    "start_time": "2021-11-28T12:43:45.177Z"
   },
   {
    "duration": 25,
    "start_time": "2021-11-28T12:43:53.537Z"
   },
   {
    "duration": 24,
    "start_time": "2021-11-28T12:46:38.753Z"
   },
   {
    "duration": 19,
    "start_time": "2021-11-28T12:46:48.084Z"
   },
   {
    "duration": 5,
    "start_time": "2021-11-28T12:51:10.301Z"
   },
   {
    "duration": 20,
    "start_time": "2021-11-28T12:51:22.329Z"
   },
   {
    "duration": 5,
    "start_time": "2021-11-28T12:51:38.497Z"
   },
   {
    "duration": 30,
    "start_time": "2021-11-28T12:51:39.692Z"
   },
   {
    "duration": 35,
    "start_time": "2021-11-28T12:53:13.920Z"
   },
   {
    "duration": 30,
    "start_time": "2021-11-28T12:53:55.349Z"
   },
   {
    "duration": 25,
    "start_time": "2021-11-28T12:54:20.673Z"
   },
   {
    "duration": 19,
    "start_time": "2021-11-28T12:54:29.054Z"
   },
   {
    "duration": 6,
    "start_time": "2021-11-28T12:55:58.276Z"
   },
   {
    "duration": 21,
    "start_time": "2021-11-28T12:56:06.530Z"
   },
   {
    "duration": 18,
    "start_time": "2021-11-28T12:58:06.964Z"
   },
   {
    "duration": 32,
    "start_time": "2021-11-28T12:58:14.563Z"
   },
   {
    "duration": 301,
    "start_time": "2021-11-28T12:58:25.069Z"
   },
   {
    "duration": 20,
    "start_time": "2021-11-28T12:58:33.173Z"
   },
   {
    "duration": 7,
    "start_time": "2021-11-28T13:01:36.381Z"
   },
   {
    "duration": 21,
    "start_time": "2021-11-28T13:01:49.703Z"
   },
   {
    "duration": 7,
    "start_time": "2021-11-28T13:02:22.279Z"
   },
   {
    "duration": 21,
    "start_time": "2021-11-28T13:02:24.250Z"
   },
   {
    "duration": 25,
    "start_time": "2021-11-28T13:04:03.172Z"
   },
   {
    "duration": 35,
    "start_time": "2021-11-28T13:04:07.946Z"
   },
   {
    "duration": 20,
    "start_time": "2021-11-28T13:04:12.902Z"
   },
   {
    "duration": 7,
    "start_time": "2021-11-28T13:06:48.198Z"
   },
   {
    "duration": 23,
    "start_time": "2021-11-28T13:07:00.235Z"
   },
   {
    "duration": 7,
    "start_time": "2021-11-28T13:14:51.524Z"
   },
   {
    "duration": 118,
    "start_time": "2021-11-28T13:18:05.227Z"
   },
   {
    "duration": 322,
    "start_time": "2021-11-28T13:22:02.669Z"
   },
   {
    "duration": 305,
    "start_time": "2021-11-28T13:22:28.959Z"
   },
   {
    "duration": 484,
    "start_time": "2021-11-28T13:24:25.144Z"
   },
   {
    "duration": 6,
    "start_time": "2021-11-28T13:24:50.571Z"
   },
   {
    "duration": 301,
    "start_time": "2021-11-28T13:24:56.322Z"
   },
   {
    "duration": 7,
    "start_time": "2021-11-28T13:25:23.729Z"
   },
   {
    "duration": 453,
    "start_time": "2021-11-28T13:25:36.968Z"
   },
   {
    "duration": 764,
    "start_time": "2021-11-28T13:31:14.549Z"
   },
   {
    "duration": 306,
    "start_time": "2021-11-28T13:31:19.667Z"
   },
   {
    "duration": 366,
    "start_time": "2021-11-28T13:31:25.600Z"
   },
   {
    "duration": 3,
    "start_time": "2021-11-28T13:35:58.083Z"
   },
   {
    "duration": 7,
    "start_time": "2021-11-28T13:36:01.918Z"
   },
   {
    "duration": 525,
    "start_time": "2021-11-28T13:36:02.090Z"
   },
   {
    "duration": 7,
    "start_time": "2021-11-28T13:36:02.749Z"
   },
   {
    "duration": 299,
    "start_time": "2021-11-28T13:36:02.759Z"
   },
   {
    "duration": 5,
    "start_time": "2021-11-28T13:37:46.682Z"
   },
   {
    "duration": 6,
    "start_time": "2021-11-28T13:37:54.733Z"
   },
   {
    "duration": 4,
    "start_time": "2021-11-28T13:39:09.616Z"
   },
   {
    "duration": 5,
    "start_time": "2021-11-28T13:39:10.826Z"
   },
   {
    "duration": 5,
    "start_time": "2021-11-28T13:39:18.579Z"
   },
   {
    "duration": 5,
    "start_time": "2021-11-28T13:39:26.329Z"
   },
   {
    "duration": 4,
    "start_time": "2021-11-28T13:40:26.727Z"
   },
   {
    "duration": 5,
    "start_time": "2021-11-28T13:40:28.624Z"
   },
   {
    "duration": 4,
    "start_time": "2021-11-28T13:42:27.086Z"
   },
   {
    "duration": 5,
    "start_time": "2021-11-28T13:42:27.536Z"
   },
   {
    "duration": 8,
    "start_time": "2021-11-28T13:42:28.012Z"
   },
   {
    "duration": 6,
    "start_time": "2021-11-28T13:42:29.046Z"
   },
   {
    "duration": 5,
    "start_time": "2021-11-28T13:43:17.880Z"
   },
   {
    "duration": 5,
    "start_time": "2021-11-28T13:43:18.627Z"
   },
   {
    "duration": 5,
    "start_time": "2021-11-28T13:43:19.572Z"
   },
   {
    "duration": 5,
    "start_time": "2021-11-28T13:43:20.255Z"
   },
   {
    "duration": 4,
    "start_time": "2021-11-28T13:43:24.981Z"
   },
   {
    "duration": 5,
    "start_time": "2021-11-28T13:43:31.794Z"
   },
   {
    "duration": 284,
    "start_time": "2021-11-28T13:43:59.515Z"
   },
   {
    "duration": 5,
    "start_time": "2021-11-28T13:44:32.219Z"
   },
   {
    "duration": 5,
    "start_time": "2021-11-28T13:44:51.392Z"
   },
   {
    "duration": 6,
    "start_time": "2021-11-28T13:44:58.272Z"
   },
   {
    "duration": 466,
    "start_time": "2021-11-28T13:46:54.591Z"
   },
   {
    "duration": 614,
    "start_time": "2021-11-29T10:26:46.050Z"
   },
   {
    "duration": 384,
    "start_time": "2021-11-29T10:26:46.665Z"
   },
   {
    "duration": 12,
    "start_time": "2021-11-29T10:26:47.051Z"
   },
   {
    "duration": 21,
    "start_time": "2021-11-29T10:26:47.064Z"
   },
   {
    "duration": 27,
    "start_time": "2021-11-29T10:26:47.087Z"
   },
   {
    "duration": 7,
    "start_time": "2021-11-29T10:26:47.116Z"
   },
   {
    "duration": 18,
    "start_time": "2021-11-29T10:26:47.124Z"
   },
   {
    "duration": 22,
    "start_time": "2021-11-29T10:26:47.143Z"
   },
   {
    "duration": 26,
    "start_time": "2021-11-29T10:26:47.168Z"
   },
   {
    "duration": 10,
    "start_time": "2021-11-29T10:26:47.196Z"
   },
   {
    "duration": 14,
    "start_time": "2021-11-29T10:26:47.208Z"
   },
   {
    "duration": 17,
    "start_time": "2021-11-29T10:26:47.223Z"
   },
   {
    "duration": 7,
    "start_time": "2021-11-29T10:26:47.242Z"
   },
   {
    "duration": 18,
    "start_time": "2021-11-29T10:26:47.250Z"
   },
   {
    "duration": 24,
    "start_time": "2021-11-29T10:26:47.270Z"
   },
   {
    "duration": 9,
    "start_time": "2021-11-29T10:26:47.296Z"
   },
   {
    "duration": 9,
    "start_time": "2021-11-29T10:26:47.306Z"
   },
   {
    "duration": 24,
    "start_time": "2021-11-29T10:26:47.317Z"
   },
   {
    "duration": 55,
    "start_time": "2021-11-29T10:26:47.342Z"
   },
   {
    "duration": 12,
    "start_time": "2021-11-29T10:26:47.399Z"
   },
   {
    "duration": 17,
    "start_time": "2021-11-29T10:26:47.413Z"
   },
   {
    "duration": 26,
    "start_time": "2021-11-29T10:26:47.431Z"
   },
   {
    "duration": 8,
    "start_time": "2021-11-29T10:26:47.459Z"
   },
   {
    "duration": 36,
    "start_time": "2021-11-29T10:26:47.469Z"
   },
   {
    "duration": 33,
    "start_time": "2021-11-29T10:26:47.507Z"
   },
   {
    "duration": 7,
    "start_time": "2021-11-29T10:26:47.542Z"
   },
   {
    "duration": 11,
    "start_time": "2021-11-29T10:26:47.553Z"
   },
   {
    "duration": 21,
    "start_time": "2021-11-29T10:26:47.566Z"
   },
   {
    "duration": 12,
    "start_time": "2021-11-29T10:26:47.589Z"
   },
   {
    "duration": 18,
    "start_time": "2021-11-29T10:26:47.603Z"
   },
   {
    "duration": 16,
    "start_time": "2021-11-29T10:26:47.623Z"
   },
   {
    "duration": 12,
    "start_time": "2021-11-29T10:26:47.641Z"
   },
   {
    "duration": 33,
    "start_time": "2021-11-29T10:26:47.656Z"
   },
   {
    "duration": 6,
    "start_time": "2021-11-29T10:26:47.691Z"
   },
   {
    "duration": 15,
    "start_time": "2021-11-29T10:26:47.699Z"
   },
   {
    "duration": 68,
    "start_time": "2021-11-29T10:26:47.715Z"
   },
   {
    "duration": 91,
    "start_time": "2021-11-29T10:26:47.796Z"
   },
   {
    "duration": 11,
    "start_time": "2021-11-29T10:26:47.888Z"
   },
   {
    "duration": 98,
    "start_time": "2021-11-29T10:26:47.901Z"
   },
   {
    "duration": 34,
    "start_time": "2021-11-29T10:26:48.001Z"
   },
   {
    "duration": 66,
    "start_time": "2021-11-29T10:26:48.037Z"
   },
   {
    "duration": 33,
    "start_time": "2021-11-29T10:26:48.105Z"
   },
   {
    "duration": 43,
    "start_time": "2021-11-29T10:26:48.144Z"
   },
   {
    "duration": 42,
    "start_time": "2021-11-29T10:26:48.193Z"
   },
   {
    "duration": 14,
    "start_time": "2021-11-29T10:26:48.240Z"
   },
   {
    "duration": 44,
    "start_time": "2021-11-29T10:26:48.263Z"
   },
   {
    "duration": 14,
    "start_time": "2021-11-29T10:26:48.311Z"
   },
   {
    "duration": 21,
    "start_time": "2021-11-29T10:26:48.328Z"
   },
   {
    "duration": 15,
    "start_time": "2021-11-29T10:26:48.351Z"
   },
   {
    "duration": 12,
    "start_time": "2021-11-29T10:26:48.368Z"
   },
   {
    "duration": 17,
    "start_time": "2021-11-29T10:26:48.381Z"
   },
   {
    "duration": 45,
    "start_time": "2021-11-29T10:26:48.400Z"
   },
   {
    "duration": 12,
    "start_time": "2021-11-29T10:26:48.447Z"
   },
   {
    "duration": 48,
    "start_time": "2021-11-29T10:26:48.461Z"
   },
   {
    "duration": 13,
    "start_time": "2021-11-29T10:26:48.510Z"
   },
   {
    "duration": 9,
    "start_time": "2021-11-29T10:26:48.525Z"
   },
   {
    "duration": 14,
    "start_time": "2021-11-29T10:26:48.535Z"
   },
   {
    "duration": 37,
    "start_time": "2021-11-29T10:26:48.551Z"
   },
   {
    "duration": 17,
    "start_time": "2021-11-29T10:26:48.590Z"
   },
   {
    "duration": 126,
    "start_time": "2021-11-29T10:26:48.608Z"
   },
   {
    "duration": 13,
    "start_time": "2021-11-29T10:26:48.737Z"
   },
   {
    "duration": 87,
    "start_time": "2021-11-29T10:26:48.752Z"
   },
   {
    "duration": 2,
    "start_time": "2021-11-29T10:26:48.841Z"
   },
   {
    "duration": 15,
    "start_time": "2021-11-29T10:26:48.845Z"
   },
   {
    "duration": 227,
    "start_time": "2021-11-29T10:26:48.864Z"
   },
   {
    "duration": 4,
    "start_time": "2021-11-29T10:26:49.093Z"
   },
   {
    "duration": 186,
    "start_time": "2021-11-29T10:26:49.099Z"
   },
   {
    "duration": 3,
    "start_time": "2021-11-29T10:26:49.287Z"
   },
   {
    "duration": 6,
    "start_time": "2021-11-29T10:26:49.292Z"
   },
   {
    "duration": 5,
    "start_time": "2021-11-29T10:26:49.300Z"
   },
   {
    "duration": 8,
    "start_time": "2021-11-29T10:26:49.307Z"
   },
   {
    "duration": 4,
    "start_time": "2021-11-29T10:26:49.317Z"
   },
   {
    "duration": 6,
    "start_time": "2021-11-29T10:26:49.322Z"
   },
   {
    "duration": 4,
    "start_time": "2021-11-29T10:26:49.329Z"
   },
   {
    "duration": 6,
    "start_time": "2021-11-29T10:26:49.335Z"
   },
   {
    "duration": 327,
    "start_time": "2021-11-29T10:29:04.311Z"
   },
   {
    "duration": 3,
    "start_time": "2021-11-29T10:29:13.956Z"
   },
   {
    "duration": 153,
    "start_time": "2021-11-29T10:29:38.103Z"
   },
   {
    "duration": 4,
    "start_time": "2021-11-29T10:31:10.109Z"
   },
   {
    "duration": 4,
    "start_time": "2021-11-29T10:31:16.214Z"
   },
   {
    "duration": 4,
    "start_time": "2021-11-29T10:32:09.964Z"
   },
   {
    "duration": 197,
    "start_time": "2021-11-29T10:32:23.814Z"
   },
   {
    "duration": 3,
    "start_time": "2021-11-29T10:34:28.977Z"
   },
   {
    "duration": 3,
    "start_time": "2021-11-29T10:34:33.825Z"
   },
   {
    "duration": 2,
    "start_time": "2021-11-29T10:35:11.263Z"
   },
   {
    "duration": 3,
    "start_time": "2021-11-29T10:35:15.762Z"
   },
   {
    "duration": 3,
    "start_time": "2021-11-29T10:36:25.068Z"
   },
   {
    "duration": 3,
    "start_time": "2021-11-29T10:36:29.749Z"
   },
   {
    "duration": 3,
    "start_time": "2021-11-29T10:36:54.737Z"
   },
   {
    "duration": 4,
    "start_time": "2021-11-29T10:37:00.329Z"
   },
   {
    "duration": 4,
    "start_time": "2021-11-29T10:39:46.778Z"
   },
   {
    "duration": 171,
    "start_time": "2021-11-29T10:40:09.422Z"
   },
   {
    "duration": 4,
    "start_time": "2021-11-29T10:41:26.255Z"
   },
   {
    "duration": 4,
    "start_time": "2021-11-29T10:41:43.525Z"
   },
   {
    "duration": 182,
    "start_time": "2021-11-29T10:41:48.023Z"
   },
   {
    "duration": 3,
    "start_time": "2021-11-29T10:43:08.065Z"
   },
   {
    "duration": 3,
    "start_time": "2021-11-29T10:43:13.643Z"
   },
   {
    "duration": 3,
    "start_time": "2021-11-29T10:43:46.278Z"
   },
   {
    "duration": 3,
    "start_time": "2021-11-29T10:43:51.079Z"
   },
   {
    "duration": 4,
    "start_time": "2021-11-29T10:44:45.983Z"
   },
   {
    "duration": 4,
    "start_time": "2021-11-29T10:44:50.818Z"
   },
   {
    "duration": 3,
    "start_time": "2021-11-29T10:45:15.169Z"
   },
   {
    "duration": 4,
    "start_time": "2021-11-29T10:45:19.837Z"
   },
   {
    "duration": 81,
    "start_time": "2021-11-29T10:45:33.960Z"
   },
   {
    "duration": 4,
    "start_time": "2021-11-29T10:47:43.651Z"
   },
   {
    "duration": 3,
    "start_time": "2021-11-29T10:48:47.164Z"
   },
   {
    "duration": 4,
    "start_time": "2021-11-29T10:50:18.874Z"
   },
   {
    "duration": 3,
    "start_time": "2021-11-29T10:51:02.078Z"
   },
   {
    "duration": 5,
    "start_time": "2021-11-29T10:51:37.842Z"
   },
   {
    "duration": 5,
    "start_time": "2021-11-29T10:52:18.497Z"
   },
   {
    "duration": 559,
    "start_time": "2021-11-29T10:55:37.705Z"
   },
   {
    "duration": 365,
    "start_time": "2021-11-29T10:55:38.266Z"
   },
   {
    "duration": 12,
    "start_time": "2021-11-29T10:55:38.633Z"
   },
   {
    "duration": 34,
    "start_time": "2021-11-29T10:55:38.647Z"
   },
   {
    "duration": 26,
    "start_time": "2021-11-29T10:55:38.682Z"
   },
   {
    "duration": 7,
    "start_time": "2021-11-29T10:55:38.709Z"
   },
   {
    "duration": 18,
    "start_time": "2021-11-29T10:55:38.718Z"
   },
   {
    "duration": 20,
    "start_time": "2021-11-29T10:55:38.738Z"
   },
   {
    "duration": 8,
    "start_time": "2021-11-29T10:55:38.760Z"
   },
   {
    "duration": 28,
    "start_time": "2021-11-29T10:55:38.769Z"
   },
   {
    "duration": 17,
    "start_time": "2021-11-29T10:55:38.799Z"
   },
   {
    "duration": 20,
    "start_time": "2021-11-29T10:55:38.818Z"
   },
   {
    "duration": 7,
    "start_time": "2021-11-29T10:55:38.839Z"
   },
   {
    "duration": 6,
    "start_time": "2021-11-29T10:55:38.847Z"
   },
   {
    "duration": 12,
    "start_time": "2021-11-29T10:55:38.855Z"
   },
   {
    "duration": 7,
    "start_time": "2021-11-29T10:55:38.868Z"
   },
   {
    "duration": 8,
    "start_time": "2021-11-29T10:55:38.887Z"
   },
   {
    "duration": 32,
    "start_time": "2021-11-29T10:55:38.896Z"
   },
   {
    "duration": 31,
    "start_time": "2021-11-29T10:55:38.929Z"
   },
   {
    "duration": 7,
    "start_time": "2021-11-29T10:55:38.961Z"
   },
   {
    "duration": 20,
    "start_time": "2021-11-29T10:55:38.969Z"
   },
   {
    "duration": 24,
    "start_time": "2021-11-29T10:55:38.990Z"
   },
   {
    "duration": 6,
    "start_time": "2021-11-29T10:55:39.018Z"
   },
   {
    "duration": 19,
    "start_time": "2021-11-29T10:55:39.026Z"
   },
   {
    "duration": 20,
    "start_time": "2021-11-29T10:55:39.047Z"
   },
   {
    "duration": 6,
    "start_time": "2021-11-29T10:55:39.087Z"
   },
   {
    "duration": 10,
    "start_time": "2021-11-29T10:55:39.095Z"
   },
   {
    "duration": 9,
    "start_time": "2021-11-29T10:55:39.107Z"
   },
   {
    "duration": 11,
    "start_time": "2021-11-29T10:55:39.117Z"
   },
   {
    "duration": 8,
    "start_time": "2021-11-29T10:55:39.129Z"
   },
   {
    "duration": 10,
    "start_time": "2021-11-29T10:55:39.139Z"
   },
   {
    "duration": 12,
    "start_time": "2021-11-29T10:55:39.150Z"
   },
   {
    "duration": 24,
    "start_time": "2021-11-29T10:55:39.164Z"
   },
   {
    "duration": 5,
    "start_time": "2021-11-29T10:55:39.190Z"
   },
   {
    "duration": 14,
    "start_time": "2021-11-29T10:55:39.196Z"
   },
   {
    "duration": 5,
    "start_time": "2021-11-29T10:55:39.212Z"
   },
   {
    "duration": 17,
    "start_time": "2021-11-29T10:55:39.218Z"
   },
   {
    "duration": 4,
    "start_time": "2021-11-29T10:55:39.236Z"
   },
   {
    "duration": 51,
    "start_time": "2021-11-29T10:55:39.241Z"
   },
   {
    "duration": 11,
    "start_time": "2021-11-29T10:55:39.294Z"
   },
   {
    "duration": 27,
    "start_time": "2021-11-29T10:55:39.307Z"
   },
   {
    "duration": 10,
    "start_time": "2021-11-29T10:55:39.335Z"
   },
   {
    "duration": 15,
    "start_time": "2021-11-29T10:55:39.347Z"
   },
   {
    "duration": 28,
    "start_time": "2021-11-29T10:55:39.364Z"
   },
   {
    "duration": 3,
    "start_time": "2021-11-29T10:55:39.394Z"
   },
   {
    "duration": 14,
    "start_time": "2021-11-29T10:55:39.398Z"
   },
   {
    "duration": 14,
    "start_time": "2021-11-29T10:55:39.413Z"
   },
   {
    "duration": 17,
    "start_time": "2021-11-29T10:55:39.428Z"
   },
   {
    "duration": 10,
    "start_time": "2021-11-29T10:55:39.447Z"
   },
   {
    "duration": 29,
    "start_time": "2021-11-29T10:55:39.459Z"
   },
   {
    "duration": 14,
    "start_time": "2021-11-29T10:55:39.489Z"
   },
   {
    "duration": 42,
    "start_time": "2021-11-29T10:55:39.505Z"
   },
   {
    "duration": 13,
    "start_time": "2021-11-29T10:55:39.548Z"
   },
   {
    "duration": 59,
    "start_time": "2021-11-29T10:55:39.562Z"
   },
   {
    "duration": 11,
    "start_time": "2021-11-29T10:55:39.623Z"
   },
   {
    "duration": 7,
    "start_time": "2021-11-29T10:55:39.635Z"
   },
   {
    "duration": 13,
    "start_time": "2021-11-29T10:55:39.644Z"
   },
   {
    "duration": 13,
    "start_time": "2021-11-29T10:55:39.658Z"
   },
   {
    "duration": 20,
    "start_time": "2021-11-29T10:55:39.673Z"
   },
   {
    "duration": 6,
    "start_time": "2021-11-29T10:55:39.694Z"
   },
   {
    "duration": 28,
    "start_time": "2021-11-29T10:55:39.701Z"
   },
   {
    "duration": 63,
    "start_time": "2021-11-29T10:55:39.730Z"
   },
   {
    "duration": 3,
    "start_time": "2021-11-29T10:55:39.794Z"
   },
   {
    "duration": 9,
    "start_time": "2021-11-29T10:55:39.798Z"
   },
   {
    "duration": 167,
    "start_time": "2021-11-29T10:55:39.809Z"
   },
   {
    "duration": 11,
    "start_time": "2021-11-29T10:55:39.977Z"
   },
   {
    "duration": 165,
    "start_time": "2021-11-29T10:55:39.989Z"
   },
   {
    "duration": 2,
    "start_time": "2021-11-29T10:55:40.159Z"
   },
   {
    "duration": 6,
    "start_time": "2021-11-29T10:55:40.163Z"
   },
   {
    "duration": 4,
    "start_time": "2021-11-29T10:55:40.170Z"
   },
   {
    "duration": 3,
    "start_time": "2021-11-29T10:55:40.187Z"
   },
   {
    "duration": 7,
    "start_time": "2021-11-29T10:55:40.191Z"
   },
   {
    "duration": 9,
    "start_time": "2021-11-29T10:55:40.199Z"
   },
   {
    "duration": 5,
    "start_time": "2021-11-29T10:55:40.209Z"
   },
   {
    "duration": 5,
    "start_time": "2021-11-29T10:55:40.215Z"
   },
   {
    "duration": 6,
    "start_time": "2021-11-29T10:55:40.221Z"
   },
   {
    "duration": 164,
    "start_time": "2021-11-29T10:55:40.229Z"
   },
   {
    "duration": 4,
    "start_time": "2021-11-29T10:55:40.394Z"
   },
   {
    "duration": 256,
    "start_time": "2021-11-29T10:55:40.399Z"
   },
   {
    "duration": 3,
    "start_time": "2021-11-29T10:55:40.657Z"
   },
   {
    "duration": 8,
    "start_time": "2021-11-29T10:55:40.661Z"
   },
   {
    "duration": 4,
    "start_time": "2021-11-29T10:55:40.670Z"
   },
   {
    "duration": 13,
    "start_time": "2021-11-29T10:55:40.675Z"
   },
   {
    "duration": 2,
    "start_time": "2021-11-29T10:55:40.689Z"
   },
   {
    "duration": 7,
    "start_time": "2021-11-29T10:55:40.693Z"
   },
   {
    "duration": 6,
    "start_time": "2021-11-29T10:55:40.701Z"
   },
   {
    "duration": 22,
    "start_time": "2021-11-29T10:55:40.708Z"
   },
   {
    "duration": 9,
    "start_time": "2021-11-29T10:55:40.731Z"
   },
   {
    "duration": 166,
    "start_time": "2021-11-29T10:55:40.741Z"
   },
   {
    "duration": 4,
    "start_time": "2021-11-29T10:55:40.909Z"
   },
   {
    "duration": 198,
    "start_time": "2021-11-29T10:55:40.914Z"
   },
   {
    "duration": 4,
    "start_time": "2021-11-29T10:55:41.114Z"
   },
   {
    "duration": 6,
    "start_time": "2021-11-29T10:55:41.119Z"
   },
   {
    "duration": 8,
    "start_time": "2021-11-29T10:55:41.127Z"
   },
   {
    "duration": 11,
    "start_time": "2021-11-29T10:55:41.136Z"
   },
   {
    "duration": 20,
    "start_time": "2021-11-29T10:55:41.149Z"
   },
   {
    "duration": 19,
    "start_time": "2021-11-29T10:55:41.170Z"
   },
   {
    "duration": 31,
    "start_time": "2021-11-29T10:55:41.191Z"
   },
   {
    "duration": 29,
    "start_time": "2021-11-29T10:55:41.223Z"
   },
   {
    "duration": 344,
    "start_time": "2021-11-29T11:00:42.158Z"
   },
   {
    "duration": 5,
    "start_time": "2021-11-29T11:14:54.889Z"
   },
   {
    "duration": 6,
    "start_time": "2021-11-29T11:15:20.963Z"
   },
   {
    "duration": 7,
    "start_time": "2021-11-29T11:16:13.007Z"
   },
   {
    "duration": 7,
    "start_time": "2021-11-29T11:18:00.012Z"
   },
   {
    "duration": 7,
    "start_time": "2021-11-29T11:18:09.933Z"
   },
   {
    "duration": 4,
    "start_time": "2021-11-29T11:18:30.697Z"
   },
   {
    "duration": 3,
    "start_time": "2021-11-29T11:18:34.266Z"
   },
   {
    "duration": 397,
    "start_time": "2021-11-29T11:18:34.273Z"
   },
   {
    "duration": 6,
    "start_time": "2021-11-29T11:18:34.673Z"
   },
   {
    "duration": 27,
    "start_time": "2021-11-29T11:18:34.682Z"
   },
   {
    "duration": 32,
    "start_time": "2021-11-29T11:18:34.711Z"
   },
   {
    "duration": 7,
    "start_time": "2021-11-29T11:18:34.745Z"
   },
   {
    "duration": 21,
    "start_time": "2021-11-29T11:18:34.754Z"
   },
   {
    "duration": 30,
    "start_time": "2021-11-29T11:18:34.776Z"
   },
   {
    "duration": 10,
    "start_time": "2021-11-29T11:18:34.809Z"
   },
   {
    "duration": 29,
    "start_time": "2021-11-29T11:18:34.821Z"
   },
   {
    "duration": 30,
    "start_time": "2021-11-29T11:18:34.852Z"
   },
   {
    "duration": 33,
    "start_time": "2021-11-29T11:18:34.884Z"
   },
   {
    "duration": 12,
    "start_time": "2021-11-29T11:18:34.919Z"
   },
   {
    "duration": 17,
    "start_time": "2021-11-29T11:18:34.933Z"
   },
   {
    "duration": 25,
    "start_time": "2021-11-29T11:18:34.951Z"
   },
   {
    "duration": 33,
    "start_time": "2021-11-29T11:18:34.978Z"
   },
   {
    "duration": 37,
    "start_time": "2021-11-29T11:18:35.012Z"
   },
   {
    "duration": 39,
    "start_time": "2021-11-29T11:18:35.051Z"
   },
   {
    "duration": 36,
    "start_time": "2021-11-29T11:18:35.092Z"
   },
   {
    "duration": 7,
    "start_time": "2021-11-29T11:18:35.130Z"
   },
   {
    "duration": 37,
    "start_time": "2021-11-29T11:18:35.138Z"
   },
   {
    "duration": 30,
    "start_time": "2021-11-29T11:18:35.177Z"
   },
   {
    "duration": 6,
    "start_time": "2021-11-29T11:18:35.208Z"
   },
   {
    "duration": 30,
    "start_time": "2021-11-29T11:18:35.218Z"
   },
   {
    "duration": 25,
    "start_time": "2021-11-29T11:18:35.250Z"
   },
   {
    "duration": 6,
    "start_time": "2021-11-29T11:18:35.277Z"
   },
   {
    "duration": 30,
    "start_time": "2021-11-29T11:18:35.284Z"
   },
   {
    "duration": 13,
    "start_time": "2021-11-29T11:18:35.316Z"
   },
   {
    "duration": 22,
    "start_time": "2021-11-29T11:18:35.330Z"
   },
   {
    "duration": 20,
    "start_time": "2021-11-29T11:18:35.354Z"
   },
   {
    "duration": 12,
    "start_time": "2021-11-29T11:18:35.376Z"
   },
   {
    "duration": 25,
    "start_time": "2021-11-29T11:18:35.389Z"
   },
   {
    "duration": 46,
    "start_time": "2021-11-29T11:18:35.415Z"
   },
   {
    "duration": 8,
    "start_time": "2021-11-29T11:18:35.462Z"
   },
   {
    "duration": 24,
    "start_time": "2021-11-29T11:18:35.472Z"
   },
   {
    "duration": 22,
    "start_time": "2021-11-29T11:18:35.498Z"
   },
   {
    "duration": 32,
    "start_time": "2021-11-29T11:18:35.521Z"
   },
   {
    "duration": 20,
    "start_time": "2021-11-29T11:18:35.555Z"
   },
   {
    "duration": 21,
    "start_time": "2021-11-29T11:18:35.577Z"
   },
   {
    "duration": 31,
    "start_time": "2021-11-29T11:18:35.600Z"
   },
   {
    "duration": 4,
    "start_time": "2021-11-29T11:18:35.632Z"
   },
   {
    "duration": 47,
    "start_time": "2021-11-29T11:18:35.637Z"
   },
   {
    "duration": 12,
    "start_time": "2021-11-29T11:18:35.685Z"
   },
   {
    "duration": 48,
    "start_time": "2021-11-29T11:18:35.699Z"
   },
   {
    "duration": 10,
    "start_time": "2021-11-29T11:18:35.749Z"
   },
   {
    "duration": 26,
    "start_time": "2021-11-29T11:18:35.760Z"
   },
   {
    "duration": 32,
    "start_time": "2021-11-29T11:18:35.788Z"
   },
   {
    "duration": 53,
    "start_time": "2021-11-29T11:18:35.821Z"
   },
   {
    "duration": 33,
    "start_time": "2021-11-29T11:18:35.876Z"
   },
   {
    "duration": 38,
    "start_time": "2021-11-29T11:18:35.910Z"
   },
   {
    "duration": 23,
    "start_time": "2021-11-29T11:18:35.949Z"
   },
   {
    "duration": 32,
    "start_time": "2021-11-29T11:18:35.973Z"
   },
   {
    "duration": 35,
    "start_time": "2021-11-29T11:18:36.007Z"
   },
   {
    "duration": 56,
    "start_time": "2021-11-29T11:18:36.044Z"
   },
   {
    "duration": 71,
    "start_time": "2021-11-29T11:18:36.102Z"
   },
   {
    "duration": 11,
    "start_time": "2021-11-29T11:18:36.175Z"
   },
   {
    "duration": 44,
    "start_time": "2021-11-29T11:18:36.187Z"
   },
   {
    "duration": 19,
    "start_time": "2021-11-29T11:18:36.232Z"
   },
   {
    "duration": 61,
    "start_time": "2021-11-29T11:18:36.253Z"
   },
   {
    "duration": 20,
    "start_time": "2021-11-29T11:18:36.316Z"
   },
   {
    "duration": 45,
    "start_time": "2021-11-29T11:18:36.338Z"
   },
   {
    "duration": 15,
    "start_time": "2021-11-29T11:18:36.385Z"
   },
   {
    "duration": 18,
    "start_time": "2021-11-29T11:18:36.402Z"
   },
   {
    "duration": 17,
    "start_time": "2021-11-29T11:18:36.422Z"
   },
   {
    "duration": 21,
    "start_time": "2021-11-29T11:18:36.440Z"
   },
   {
    "duration": 16,
    "start_time": "2021-11-29T11:18:36.462Z"
   },
   {
    "duration": 33,
    "start_time": "2021-11-29T11:18:36.480Z"
   },
   {
    "duration": 201,
    "start_time": "2021-11-29T11:18:36.514Z"
   },
   {
    "duration": 3,
    "start_time": "2021-11-29T11:18:36.720Z"
   },
   {
    "duration": 176,
    "start_time": "2021-11-29T11:18:36.725Z"
   },
   {
    "duration": 3,
    "start_time": "2021-11-29T11:18:36.902Z"
   },
   {
    "duration": 26,
    "start_time": "2021-11-29T11:18:36.906Z"
   },
   {
    "duration": 45,
    "start_time": "2021-11-29T11:18:36.933Z"
   },
   {
    "duration": 19,
    "start_time": "2021-11-29T11:18:36.979Z"
   },
   {
    "duration": 9,
    "start_time": "2021-11-29T11:18:37.000Z"
   },
   {
    "duration": 25,
    "start_time": "2021-11-29T11:18:37.010Z"
   },
   {
    "duration": 11,
    "start_time": "2021-11-29T11:18:37.037Z"
   },
   {
    "duration": 38,
    "start_time": "2021-11-29T11:18:37.049Z"
   },
   {
    "duration": 21,
    "start_time": "2021-11-29T11:18:37.088Z"
   },
   {
    "duration": 214,
    "start_time": "2021-11-29T11:18:37.111Z"
   },
   {
    "duration": 4,
    "start_time": "2021-11-29T11:18:37.326Z"
   },
   {
    "duration": 170,
    "start_time": "2021-11-29T11:18:37.331Z"
   },
   {
    "duration": 3,
    "start_time": "2021-11-29T11:18:37.502Z"
   },
   {
    "duration": 29,
    "start_time": "2021-11-29T11:18:37.506Z"
   },
   {
    "duration": 23,
    "start_time": "2021-11-29T11:18:37.536Z"
   },
   {
    "duration": 38,
    "start_time": "2021-11-29T11:18:37.560Z"
   },
   {
    "duration": 22,
    "start_time": "2021-11-29T11:18:37.599Z"
   },
   {
    "duration": 19,
    "start_time": "2021-11-29T11:18:37.622Z"
   },
   {
    "duration": 8,
    "start_time": "2021-11-29T11:18:37.642Z"
   },
   {
    "duration": 19,
    "start_time": "2021-11-29T11:18:37.651Z"
   },
   {
    "duration": 25,
    "start_time": "2021-11-29T11:18:37.672Z"
   },
   {
    "duration": 185,
    "start_time": "2021-11-29T11:18:37.698Z"
   },
   {
    "duration": 4,
    "start_time": "2021-11-29T11:18:37.885Z"
   },
   {
    "duration": 191,
    "start_time": "2021-11-29T11:18:37.891Z"
   },
   {
    "duration": 5,
    "start_time": "2021-11-29T11:18:38.084Z"
   },
   {
    "duration": 37,
    "start_time": "2021-11-29T11:18:38.090Z"
   },
   {
    "duration": 24,
    "start_time": "2021-11-29T11:18:38.128Z"
   },
   {
    "duration": 25,
    "start_time": "2021-11-29T11:18:38.153Z"
   },
   {
    "duration": 20,
    "start_time": "2021-11-29T11:18:38.180Z"
   },
   {
    "duration": 14,
    "start_time": "2021-11-29T11:18:38.201Z"
   },
   {
    "duration": 33,
    "start_time": "2021-11-29T11:18:38.216Z"
   },
   {
    "duration": 30,
    "start_time": "2021-11-29T11:18:38.250Z"
   },
   {
    "duration": 22,
    "start_time": "2021-11-29T11:18:38.281Z"
   },
   {
    "duration": 25,
    "start_time": "2021-11-29T11:18:38.304Z"
   },
   {
    "duration": 7,
    "start_time": "2021-11-29T11:24:06.828Z"
   },
   {
    "duration": 6,
    "start_time": "2021-11-29T11:24:33.695Z"
   },
   {
    "duration": 7,
    "start_time": "2021-11-29T11:24:44.077Z"
   },
   {
    "duration": 4,
    "start_time": "2021-11-29T11:24:57.304Z"
   },
   {
    "duration": 6,
    "start_time": "2021-11-29T11:25:55.754Z"
   },
   {
    "duration": 311,
    "start_time": "2021-11-29T11:30:40.686Z"
   },
   {
    "duration": 5,
    "start_time": "2021-11-29T11:31:58.952Z"
   },
   {
    "duration": 5,
    "start_time": "2021-11-29T11:33:12.799Z"
   },
   {
    "duration": 6,
    "start_time": "2021-11-29T11:33:47.809Z"
   },
   {
    "duration": 285,
    "start_time": "2021-11-29T11:35:02.742Z"
   },
   {
    "duration": 174,
    "start_time": "2021-11-29T11:35:17.472Z"
   },
   {
    "duration": 9,
    "start_time": "2021-11-29T11:38:16.489Z"
   },
   {
    "duration": 10,
    "start_time": "2021-11-29T11:38:57.402Z"
   },
   {
    "duration": 17,
    "start_time": "2021-11-29T11:39:48.638Z"
   },
   {
    "duration": 17,
    "start_time": "2021-11-29T11:40:07.449Z"
   },
   {
    "duration": 17,
    "start_time": "2021-11-29T11:40:25.188Z"
   },
   {
    "duration": 24,
    "start_time": "2021-11-29T11:40:36.684Z"
   },
   {
    "duration": 4,
    "start_time": "2021-11-29T11:41:56.208Z"
   },
   {
    "duration": 5,
    "start_time": "2021-11-29T11:43:26.084Z"
   },
   {
    "duration": 4,
    "start_time": "2021-11-29T11:47:43.958Z"
   },
   {
    "duration": 5,
    "start_time": "2021-11-29T11:48:42.106Z"
   },
   {
    "duration": 5,
    "start_time": "2021-11-29T11:49:23.121Z"
   },
   {
    "duration": 5,
    "start_time": "2021-11-29T11:50:07.269Z"
   },
   {
    "duration": 5,
    "start_time": "2021-11-29T11:50:14.107Z"
   },
   {
    "duration": 313,
    "start_time": "2021-11-29T11:53:24.878Z"
   },
   {
    "duration": 17,
    "start_time": "2021-11-29T11:55:30.765Z"
   },
   {
    "duration": 12,
    "start_time": "2021-11-29T11:55:34.932Z"
   },
   {
    "duration": 4,
    "start_time": "2021-11-29T11:55:38.570Z"
   },
   {
    "duration": 16,
    "start_time": "2021-11-29T11:55:40.603Z"
   },
   {
    "duration": 13,
    "start_time": "2021-11-29T11:55:48.428Z"
   },
   {
    "duration": 18,
    "start_time": "2021-11-29T11:55:50.197Z"
   },
   {
    "duration": 20,
    "start_time": "2021-11-29T11:56:24.468Z"
   },
   {
    "duration": 13,
    "start_time": "2021-11-29T11:56:25.802Z"
   },
   {
    "duration": 4,
    "start_time": "2021-11-29T11:56:28.911Z"
   },
   {
    "duration": 14,
    "start_time": "2021-11-29T11:56:29.699Z"
   },
   {
    "duration": 42,
    "start_time": "2021-11-29T11:56:37.930Z"
   },
   {
    "duration": 13,
    "start_time": "2021-11-29T11:56:38.504Z"
   },
   {
    "duration": 32,
    "start_time": "2021-11-29T11:56:43.593Z"
   },
   {
    "duration": 11,
    "start_time": "2021-11-29T11:56:44.112Z"
   },
   {
    "duration": 5,
    "start_time": "2021-11-29T11:56:48.562Z"
   },
   {
    "duration": 16,
    "start_time": "2021-11-29T11:56:49.227Z"
   },
   {
    "duration": 13,
    "start_time": "2021-11-29T11:57:00.144Z"
   },
   {
    "duration": 5,
    "start_time": "2021-11-29T11:58:14.446Z"
   },
   {
    "duration": 5,
    "start_time": "2021-11-29T11:58:41.301Z"
   },
   {
    "duration": 232,
    "start_time": "2021-11-29T11:58:58.442Z"
   },
   {
    "duration": 5,
    "start_time": "2021-11-29T11:59:10.321Z"
   },
   {
    "duration": 5,
    "start_time": "2021-11-29T12:00:09.968Z"
   },
   {
    "duration": 5,
    "start_time": "2021-11-29T12:02:49.905Z"
   },
   {
    "duration": 6,
    "start_time": "2021-11-29T12:02:55.804Z"
   },
   {
    "duration": 5,
    "start_time": "2021-11-29T12:03:44.704Z"
   },
   {
    "duration": 14,
    "start_time": "2021-11-29T12:05:06.659Z"
   },
   {
    "duration": 8,
    "start_time": "2021-11-29T12:05:26.228Z"
   },
   {
    "duration": 13,
    "start_time": "2021-11-29T12:06:01.648Z"
   },
   {
    "duration": 30,
    "start_time": "2021-11-29T12:06:13.708Z"
   },
   {
    "duration": 24,
    "start_time": "2021-11-29T12:06:24.957Z"
   },
   {
    "duration": 13,
    "start_time": "2021-11-29T12:06:25.889Z"
   },
   {
    "duration": 5,
    "start_time": "2021-11-29T12:06:30.413Z"
   },
   {
    "duration": 87,
    "start_time": "2021-11-29T12:07:58.191Z"
   },
   {
    "duration": 7,
    "start_time": "2021-11-29T12:09:54.304Z"
   },
   {
    "duration": 29,
    "start_time": "2021-11-29T12:12:14.313Z"
   },
   {
    "duration": 5,
    "start_time": "2021-11-29T12:13:16.300Z"
   },
   {
    "duration": 5,
    "start_time": "2021-11-29T12:14:11.464Z"
   },
   {
    "duration": 563,
    "start_time": "2021-11-29T12:22:17.772Z"
   },
   {
    "duration": 365,
    "start_time": "2021-11-29T12:22:18.337Z"
   },
   {
    "duration": 16,
    "start_time": "2021-11-29T12:22:18.704Z"
   },
   {
    "duration": 36,
    "start_time": "2021-11-29T12:22:18.722Z"
   },
   {
    "duration": 40,
    "start_time": "2021-11-29T12:22:18.760Z"
   },
   {
    "duration": 9,
    "start_time": "2021-11-29T12:22:18.802Z"
   },
   {
    "duration": 28,
    "start_time": "2021-11-29T12:22:18.812Z"
   },
   {
    "duration": 50,
    "start_time": "2021-11-29T12:22:18.842Z"
   },
   {
    "duration": 9,
    "start_time": "2021-11-29T12:22:18.895Z"
   },
   {
    "duration": 8,
    "start_time": "2021-11-29T12:22:18.906Z"
   },
   {
    "duration": 15,
    "start_time": "2021-11-29T12:22:18.916Z"
   },
   {
    "duration": 16,
    "start_time": "2021-11-29T12:22:18.932Z"
   },
   {
    "duration": 6,
    "start_time": "2021-11-29T12:22:18.949Z"
   },
   {
    "duration": 31,
    "start_time": "2021-11-29T12:22:18.957Z"
   },
   {
    "duration": 11,
    "start_time": "2021-11-29T12:22:18.990Z"
   },
   {
    "duration": 8,
    "start_time": "2021-11-29T12:22:19.003Z"
   },
   {
    "duration": 7,
    "start_time": "2021-11-29T12:22:19.013Z"
   },
   {
    "duration": 25,
    "start_time": "2021-11-29T12:22:19.021Z"
   },
   {
    "duration": 58,
    "start_time": "2021-11-29T12:22:19.048Z"
   },
   {
    "duration": 8,
    "start_time": "2021-11-29T12:22:19.107Z"
   },
   {
    "duration": 17,
    "start_time": "2021-11-29T12:22:19.116Z"
   },
   {
    "duration": 25,
    "start_time": "2021-11-29T12:22:19.134Z"
   },
   {
    "duration": 29,
    "start_time": "2021-11-29T12:22:19.163Z"
   },
   {
    "duration": 16,
    "start_time": "2021-11-29T12:22:19.195Z"
   },
   {
    "duration": 28,
    "start_time": "2021-11-29T12:22:19.213Z"
   },
   {
    "duration": 8,
    "start_time": "2021-11-29T12:22:19.242Z"
   },
   {
    "duration": 9,
    "start_time": "2021-11-29T12:22:19.252Z"
   },
   {
    "duration": 29,
    "start_time": "2021-11-29T12:22:19.263Z"
   },
   {
    "duration": 13,
    "start_time": "2021-11-29T12:22:19.293Z"
   },
   {
    "duration": 16,
    "start_time": "2021-11-29T12:22:19.308Z"
   },
   {
    "duration": 11,
    "start_time": "2021-11-29T12:22:19.325Z"
   },
   {
    "duration": 14,
    "start_time": "2021-11-29T12:22:19.337Z"
   },
   {
    "duration": 15,
    "start_time": "2021-11-29T12:22:19.352Z"
   },
   {
    "duration": 24,
    "start_time": "2021-11-29T12:22:19.368Z"
   },
   {
    "duration": 6,
    "start_time": "2021-11-29T12:22:19.393Z"
   },
   {
    "duration": 12,
    "start_time": "2021-11-29T12:22:19.400Z"
   },
   {
    "duration": 21,
    "start_time": "2021-11-29T12:22:19.413Z"
   },
   {
    "duration": 6,
    "start_time": "2021-11-29T12:22:19.436Z"
   },
   {
    "duration": 20,
    "start_time": "2021-11-29T12:22:19.443Z"
   },
   {
    "duration": 27,
    "start_time": "2021-11-29T12:22:19.465Z"
   },
   {
    "duration": 8,
    "start_time": "2021-11-29T12:22:19.493Z"
   },
   {
    "duration": 12,
    "start_time": "2021-11-29T12:22:19.503Z"
   },
   {
    "duration": 5,
    "start_time": "2021-11-29T12:22:19.517Z"
   },
   {
    "duration": 71,
    "start_time": "2021-11-29T12:22:19.524Z"
   },
   {
    "duration": 16,
    "start_time": "2021-11-29T12:22:19.596Z"
   },
   {
    "duration": 37,
    "start_time": "2021-11-29T12:22:19.614Z"
   },
   {
    "duration": 36,
    "start_time": "2021-11-29T12:22:19.653Z"
   },
   {
    "duration": 19,
    "start_time": "2021-11-29T12:22:19.691Z"
   },
   {
    "duration": 13,
    "start_time": "2021-11-29T12:22:19.711Z"
   },
   {
    "duration": 5,
    "start_time": "2021-11-29T12:22:19.726Z"
   },
   {
    "duration": 20,
    "start_time": "2021-11-29T12:22:19.732Z"
   },
   {
    "duration": 43,
    "start_time": "2021-11-29T12:22:19.754Z"
   },
   {
    "duration": 30,
    "start_time": "2021-11-29T12:22:19.799Z"
   },
   {
    "duration": 19,
    "start_time": "2021-11-29T12:22:19.831Z"
   },
   {
    "duration": 5,
    "start_time": "2021-11-29T12:22:19.851Z"
   },
   {
    "duration": 30,
    "start_time": "2021-11-29T12:22:19.858Z"
   },
   {
    "duration": 43,
    "start_time": "2021-11-29T12:22:19.889Z"
   },
   {
    "duration": 13,
    "start_time": "2021-11-29T12:22:19.934Z"
   },
   {
    "duration": 46,
    "start_time": "2021-11-29T12:22:19.950Z"
   },
   {
    "duration": 14,
    "start_time": "2021-11-29T12:22:19.998Z"
   },
   {
    "duration": 16,
    "start_time": "2021-11-29T12:22:20.013Z"
   },
   {
    "duration": 22,
    "start_time": "2021-11-29T12:22:20.031Z"
   },
   {
    "duration": 13,
    "start_time": "2021-11-29T12:22:20.055Z"
   },
   {
    "duration": 20,
    "start_time": "2021-11-29T12:22:20.069Z"
   },
   {
    "duration": 14,
    "start_time": "2021-11-29T12:22:20.090Z"
   },
   {
    "duration": 13,
    "start_time": "2021-11-29T12:22:20.106Z"
   },
   {
    "duration": 10,
    "start_time": "2021-11-29T12:22:20.121Z"
   },
   {
    "duration": 16,
    "start_time": "2021-11-29T12:22:20.138Z"
   },
   {
    "duration": 70,
    "start_time": "2021-11-29T12:22:20.157Z"
   },
   {
    "duration": 20,
    "start_time": "2021-11-29T12:22:20.229Z"
   },
   {
    "duration": 85,
    "start_time": "2021-11-29T12:22:20.250Z"
   },
   {
    "duration": 2,
    "start_time": "2021-11-29T12:22:20.336Z"
   },
   {
    "duration": 9,
    "start_time": "2021-11-29T12:22:20.340Z"
   },
   {
    "duration": 186,
    "start_time": "2021-11-29T12:22:20.351Z"
   },
   {
    "duration": 4,
    "start_time": "2021-11-29T12:22:20.539Z"
   },
   {
    "duration": 171,
    "start_time": "2021-11-29T12:22:20.544Z"
   },
   {
    "duration": 3,
    "start_time": "2021-11-29T12:22:20.717Z"
   },
   {
    "duration": 18,
    "start_time": "2021-11-29T12:22:20.721Z"
   },
   {
    "duration": 28,
    "start_time": "2021-11-29T12:22:20.741Z"
   },
   {
    "duration": 17,
    "start_time": "2021-11-29T12:22:20.770Z"
   },
   {
    "duration": 17,
    "start_time": "2021-11-29T12:22:20.788Z"
   },
   {
    "duration": 13,
    "start_time": "2021-11-29T12:22:20.807Z"
   },
   {
    "duration": 15,
    "start_time": "2021-11-29T12:22:20.821Z"
   },
   {
    "duration": 15,
    "start_time": "2021-11-29T12:22:20.838Z"
   },
   {
    "duration": 18,
    "start_time": "2021-11-29T12:22:20.855Z"
   },
   {
    "duration": 240,
    "start_time": "2021-11-29T12:22:20.875Z"
   },
   {
    "duration": 4,
    "start_time": "2021-11-29T12:22:21.117Z"
   },
   {
    "duration": 209,
    "start_time": "2021-11-29T12:22:21.122Z"
   },
   {
    "duration": 4,
    "start_time": "2021-11-29T12:22:21.332Z"
   },
   {
    "duration": 8,
    "start_time": "2021-11-29T12:22:21.337Z"
   },
   {
    "duration": 7,
    "start_time": "2021-11-29T12:22:21.346Z"
   },
   {
    "duration": 8,
    "start_time": "2021-11-29T12:22:21.354Z"
   },
   {
    "duration": 9,
    "start_time": "2021-11-29T12:22:21.363Z"
   },
   {
    "duration": 15,
    "start_time": "2021-11-29T12:22:21.373Z"
   },
   {
    "duration": 6,
    "start_time": "2021-11-29T12:22:21.390Z"
   },
   {
    "duration": 11,
    "start_time": "2021-11-29T12:22:21.397Z"
   },
   {
    "duration": 6,
    "start_time": "2021-11-29T12:22:21.410Z"
   },
   {
    "duration": 175,
    "start_time": "2021-11-29T12:22:21.418Z"
   },
   {
    "duration": 5,
    "start_time": "2021-11-29T12:22:21.595Z"
   },
   {
    "duration": 212,
    "start_time": "2021-11-29T12:22:21.602Z"
   },
   {
    "duration": 3,
    "start_time": "2021-11-29T12:22:21.815Z"
   },
   {
    "duration": 6,
    "start_time": "2021-11-29T12:22:21.820Z"
   },
   {
    "duration": 4,
    "start_time": "2021-11-29T12:22:21.828Z"
   },
   {
    "duration": 6,
    "start_time": "2021-11-29T12:22:21.834Z"
   },
   {
    "duration": 5,
    "start_time": "2021-11-29T12:22:21.841Z"
   },
   {
    "duration": 15,
    "start_time": "2021-11-29T12:22:21.848Z"
   },
   {
    "duration": 24,
    "start_time": "2021-11-29T12:22:21.864Z"
   },
   {
    "duration": 4,
    "start_time": "2021-11-29T12:22:21.889Z"
   },
   {
    "duration": 334,
    "start_time": "2021-11-29T12:22:21.894Z"
   },
   {
    "duration": 5,
    "start_time": "2021-11-29T12:22:22.230Z"
   },
   {
    "duration": 12,
    "start_time": "2021-11-29T12:22:22.237Z"
   },
   {
    "duration": 5,
    "start_time": "2021-11-29T12:22:22.250Z"
   },
   {
    "duration": 7,
    "start_time": "2021-11-29T12:22:22.257Z"
   },
   {
    "duration": 29,
    "start_time": "2021-11-29T12:22:22.266Z"
   },
   {
    "duration": 14,
    "start_time": "2021-11-29T12:22:22.297Z"
   },
   {
    "duration": 8,
    "start_time": "2021-11-29T12:22:22.312Z"
   },
   {
    "duration": 10,
    "start_time": "2021-11-29T12:22:22.322Z"
   },
   {
    "duration": 10,
    "start_time": "2021-11-29T12:22:22.335Z"
   },
   {
    "duration": 31,
    "start_time": "2021-11-29T12:22:22.347Z"
   },
   {
    "duration": 10,
    "start_time": "2021-11-29T12:22:22.379Z"
   },
   {
    "duration": 6,
    "start_time": "2021-11-29T12:22:22.390Z"
   },
   {
    "duration": 386,
    "start_time": "2021-11-29T16:18:08.861Z"
   },
   {
    "duration": 632,
    "start_time": "2021-11-29T16:18:12.230Z"
   },
   {
    "duration": 380,
    "start_time": "2021-11-29T16:18:12.864Z"
   },
   {
    "duration": 13,
    "start_time": "2021-11-29T16:18:13.246Z"
   },
   {
    "duration": 35,
    "start_time": "2021-11-29T16:18:13.261Z"
   },
   {
    "duration": 38,
    "start_time": "2021-11-29T16:18:13.298Z"
   },
   {
    "duration": 7,
    "start_time": "2021-11-29T16:18:13.337Z"
   },
   {
    "duration": 25,
    "start_time": "2021-11-29T16:18:13.346Z"
   },
   {
    "duration": 21,
    "start_time": "2021-11-29T16:18:13.374Z"
   },
   {
    "duration": 10,
    "start_time": "2021-11-29T16:18:13.397Z"
   },
   {
    "duration": 22,
    "start_time": "2021-11-29T16:18:13.408Z"
   },
   {
    "duration": 21,
    "start_time": "2021-11-29T16:18:13.431Z"
   },
   {
    "duration": 35,
    "start_time": "2021-11-29T16:18:13.454Z"
   },
   {
    "duration": 14,
    "start_time": "2021-11-29T16:18:13.491Z"
   },
   {
    "duration": 18,
    "start_time": "2021-11-29T16:18:13.507Z"
   },
   {
    "duration": 23,
    "start_time": "2021-11-29T16:18:13.527Z"
   },
   {
    "duration": 17,
    "start_time": "2021-11-29T16:18:13.552Z"
   },
   {
    "duration": 19,
    "start_time": "2021-11-29T16:18:13.571Z"
   },
   {
    "duration": 26,
    "start_time": "2021-11-29T16:18:13.591Z"
   },
   {
    "duration": 38,
    "start_time": "2021-11-29T16:18:13.618Z"
   },
   {
    "duration": 8,
    "start_time": "2021-11-29T16:18:13.658Z"
   },
   {
    "duration": 16,
    "start_time": "2021-11-29T16:18:13.668Z"
   },
   {
    "duration": 28,
    "start_time": "2021-11-29T16:18:13.685Z"
   },
   {
    "duration": 7,
    "start_time": "2021-11-29T16:18:13.717Z"
   },
   {
    "duration": 34,
    "start_time": "2021-11-29T16:18:13.726Z"
   },
   {
    "duration": 23,
    "start_time": "2021-11-29T16:18:13.762Z"
   },
   {
    "duration": 7,
    "start_time": "2021-11-29T16:18:13.787Z"
   },
   {
    "duration": 5,
    "start_time": "2021-11-29T16:18:13.796Z"
   },
   {
    "duration": 9,
    "start_time": "2021-11-29T16:18:13.802Z"
   },
   {
    "duration": 41,
    "start_time": "2021-11-29T16:18:13.813Z"
   },
   {
    "duration": 12,
    "start_time": "2021-11-29T16:18:13.855Z"
   },
   {
    "duration": 12,
    "start_time": "2021-11-29T16:18:13.868Z"
   },
   {
    "duration": 7,
    "start_time": "2021-11-29T16:18:13.882Z"
   },
   {
    "duration": 14,
    "start_time": "2021-11-29T16:18:13.891Z"
   },
   {
    "duration": 40,
    "start_time": "2021-11-29T16:18:13.907Z"
   },
   {
    "duration": 5,
    "start_time": "2021-11-29T16:18:13.949Z"
   },
   {
    "duration": 8,
    "start_time": "2021-11-29T16:18:13.956Z"
   },
   {
    "duration": 14,
    "start_time": "2021-11-29T16:18:13.965Z"
   },
   {
    "duration": 5,
    "start_time": "2021-11-29T16:18:13.981Z"
   },
   {
    "duration": 14,
    "start_time": "2021-11-29T16:18:13.987Z"
   },
   {
    "duration": 16,
    "start_time": "2021-11-29T16:18:14.003Z"
   },
   {
    "duration": 28,
    "start_time": "2021-11-29T16:18:14.020Z"
   },
   {
    "duration": 12,
    "start_time": "2021-11-29T16:18:14.049Z"
   },
   {
    "duration": 6,
    "start_time": "2021-11-29T16:18:14.063Z"
   },
   {
    "duration": 43,
    "start_time": "2021-11-29T16:18:14.071Z"
   },
   {
    "duration": 12,
    "start_time": "2021-11-29T16:18:14.116Z"
   },
   {
    "duration": 32,
    "start_time": "2021-11-29T16:18:14.145Z"
   },
   {
    "duration": 12,
    "start_time": "2021-11-29T16:18:14.178Z"
   },
   {
    "duration": 19,
    "start_time": "2021-11-29T16:18:14.192Z"
   },
   {
    "duration": 40,
    "start_time": "2021-11-29T16:18:14.213Z"
   },
   {
    "duration": 5,
    "start_time": "2021-11-29T16:18:14.255Z"
   },
   {
    "duration": 16,
    "start_time": "2021-11-29T16:18:14.262Z"
   },
   {
    "duration": 14,
    "start_time": "2021-11-29T16:18:14.279Z"
   },
   {
    "duration": 49,
    "start_time": "2021-11-29T16:18:14.295Z"
   },
   {
    "duration": 14,
    "start_time": "2021-11-29T16:18:14.346Z"
   },
   {
    "duration": 7,
    "start_time": "2021-11-29T16:18:14.362Z"
   },
   {
    "duration": 17,
    "start_time": "2021-11-29T16:18:14.371Z"
   },
   {
    "duration": 73,
    "start_time": "2021-11-29T16:18:14.389Z"
   },
   {
    "duration": 12,
    "start_time": "2021-11-29T16:18:14.464Z"
   },
   {
    "duration": 72,
    "start_time": "2021-11-29T16:18:14.478Z"
   },
   {
    "duration": 13,
    "start_time": "2021-11-29T16:18:14.551Z"
   },
   {
    "duration": 33,
    "start_time": "2021-11-29T16:18:14.566Z"
   },
   {
    "duration": 20,
    "start_time": "2021-11-29T16:18:14.600Z"
   },
   {
    "duration": 29,
    "start_time": "2021-11-29T16:18:14.621Z"
   },
   {
    "duration": 13,
    "start_time": "2021-11-29T16:18:14.652Z"
   },
   {
    "duration": 21,
    "start_time": "2021-11-29T16:18:14.667Z"
   },
   {
    "duration": 18,
    "start_time": "2021-11-29T16:18:14.690Z"
   },
   {
    "duration": 17,
    "start_time": "2021-11-29T16:18:14.710Z"
   },
   {
    "duration": 25,
    "start_time": "2021-11-29T16:18:14.732Z"
   },
   {
    "duration": 17,
    "start_time": "2021-11-29T16:18:14.759Z"
   },
   {
    "duration": 42,
    "start_time": "2021-11-29T16:18:14.778Z"
   },
   {
    "duration": 17,
    "start_time": "2021-11-29T16:18:14.822Z"
   },
   {
    "duration": 73,
    "start_time": "2021-11-29T16:18:14.841Z"
   },
   {
    "duration": 3,
    "start_time": "2021-11-29T16:18:14.916Z"
   },
   {
    "duration": 8,
    "start_time": "2021-11-29T16:18:14.920Z"
   },
   {
    "duration": 198,
    "start_time": "2021-11-29T16:18:14.929Z"
   },
   {
    "duration": 4,
    "start_time": "2021-11-29T16:18:15.129Z"
   },
   {
    "duration": 178,
    "start_time": "2021-11-29T16:18:15.134Z"
   },
   {
    "duration": 3,
    "start_time": "2021-11-29T16:18:15.314Z"
   },
   {
    "duration": 7,
    "start_time": "2021-11-29T16:18:15.318Z"
   },
   {
    "duration": 5,
    "start_time": "2021-11-29T16:18:15.327Z"
   },
   {
    "duration": 16,
    "start_time": "2021-11-29T16:18:15.333Z"
   },
   {
    "duration": 9,
    "start_time": "2021-11-29T16:18:15.350Z"
   },
   {
    "duration": 6,
    "start_time": "2021-11-29T16:18:15.361Z"
   },
   {
    "duration": 4,
    "start_time": "2021-11-29T16:18:15.368Z"
   },
   {
    "duration": 5,
    "start_time": "2021-11-29T16:18:15.374Z"
   },
   {
    "duration": 5,
    "start_time": "2021-11-29T16:18:15.381Z"
   },
   {
    "duration": 191,
    "start_time": "2021-11-29T16:18:15.388Z"
   },
   {
    "duration": 5,
    "start_time": "2021-11-29T16:18:15.581Z"
   },
   {
    "duration": 239,
    "start_time": "2021-11-29T16:18:15.588Z"
   },
   {
    "duration": 15,
    "start_time": "2021-11-29T16:18:15.829Z"
   },
   {
    "duration": 6,
    "start_time": "2021-11-29T16:18:15.846Z"
   },
   {
    "duration": 5,
    "start_time": "2021-11-29T16:18:15.854Z"
   },
   {
    "duration": 11,
    "start_time": "2021-11-29T16:18:15.861Z"
   },
   {
    "duration": 4,
    "start_time": "2021-11-29T16:18:15.874Z"
   },
   {
    "duration": 6,
    "start_time": "2021-11-29T16:18:15.879Z"
   },
   {
    "duration": 7,
    "start_time": "2021-11-29T16:18:15.886Z"
   },
   {
    "duration": 11,
    "start_time": "2021-11-29T16:18:15.894Z"
   },
   {
    "duration": 12,
    "start_time": "2021-11-29T16:18:15.906Z"
   },
   {
    "duration": 196,
    "start_time": "2021-11-29T16:18:15.920Z"
   },
   {
    "duration": 5,
    "start_time": "2021-11-29T16:18:16.118Z"
   },
   {
    "duration": 199,
    "start_time": "2021-11-29T16:18:16.124Z"
   },
   {
    "duration": 4,
    "start_time": "2021-11-29T16:18:16.324Z"
   },
   {
    "duration": 25,
    "start_time": "2021-11-29T16:18:16.329Z"
   },
   {
    "duration": 14,
    "start_time": "2021-11-29T16:18:16.356Z"
   },
   {
    "duration": 22,
    "start_time": "2021-11-29T16:18:16.372Z"
   },
   {
    "duration": 22,
    "start_time": "2021-11-29T16:18:16.396Z"
   },
   {
    "duration": 27,
    "start_time": "2021-11-29T16:18:16.420Z"
   },
   {
    "duration": 21,
    "start_time": "2021-11-29T16:18:16.449Z"
   },
   {
    "duration": 17,
    "start_time": "2021-11-29T16:18:16.471Z"
   },
   {
    "duration": 382,
    "start_time": "2021-11-29T16:18:16.490Z"
   },
   {
    "duration": 5,
    "start_time": "2021-11-29T16:18:16.874Z"
   },
   {
    "duration": 22,
    "start_time": "2021-11-29T16:18:16.882Z"
   },
   {
    "duration": 10,
    "start_time": "2021-11-29T16:18:16.906Z"
   },
   {
    "duration": 42,
    "start_time": "2021-11-29T16:18:16.918Z"
   },
   {
    "duration": 13,
    "start_time": "2021-11-29T16:18:16.962Z"
   },
   {
    "duration": 25,
    "start_time": "2021-11-29T16:18:16.977Z"
   },
   {
    "duration": 14,
    "start_time": "2021-11-29T16:18:17.004Z"
   },
   {
    "duration": 28,
    "start_time": "2021-11-29T16:18:17.020Z"
   },
   {
    "duration": 30,
    "start_time": "2021-11-29T16:18:17.050Z"
   },
   {
    "duration": 38,
    "start_time": "2021-11-29T16:18:17.082Z"
   },
   {
    "duration": 6,
    "start_time": "2021-11-29T16:18:17.122Z"
   },
   {
    "duration": 12,
    "start_time": "2021-11-29T16:18:17.130Z"
   },
   {
    "duration": 22,
    "start_time": "2021-11-29T16:19:30.541Z"
   },
   {
    "duration": 29,
    "start_time": "2021-11-29T16:19:35.806Z"
   },
   {
    "duration": 33,
    "start_time": "2021-11-29T16:19:43.029Z"
   },
   {
    "duration": 104,
    "start_time": "2021-11-30T12:40:40.070Z"
   },
   {
    "duration": 94,
    "start_time": "2021-11-30T12:40:45.457Z"
   },
   {
    "duration": 86,
    "start_time": "2021-11-30T12:40:51.195Z"
   },
   {
    "duration": 396,
    "start_time": "2021-11-30T12:40:55.836Z"
   },
   {
    "duration": 806,
    "start_time": "2021-11-30T12:41:02.873Z"
   },
   {
    "duration": 810,
    "start_time": "2021-11-30T12:41:03.682Z"
   },
   {
    "duration": 20,
    "start_time": "2021-11-30T12:41:04.495Z"
   },
   {
    "duration": 32,
    "start_time": "2021-11-30T12:41:04.518Z"
   },
   {
    "duration": 41,
    "start_time": "2021-11-30T12:41:04.552Z"
   },
   {
    "duration": 329,
    "start_time": "2021-11-30T12:41:04.596Z"
   },
   {
    "duration": 175551,
    "start_time": "2021-11-30T12:38:09.383Z"
   },
   {
    "duration": 175529,
    "start_time": "2021-11-30T12:38:09.406Z"
   },
   {
    "duration": 175509,
    "start_time": "2021-11-30T12:38:09.428Z"
   },
   {
    "duration": 175492,
    "start_time": "2021-11-30T12:38:09.447Z"
   },
   {
    "duration": 175327,
    "start_time": "2021-11-30T12:38:09.613Z"
   },
   {
    "duration": 175313,
    "start_time": "2021-11-30T12:38:09.629Z"
   },
   {
    "duration": 175296,
    "start_time": "2021-11-30T12:38:09.647Z"
   },
   {
    "duration": 175283,
    "start_time": "2021-11-30T12:38:09.662Z"
   },
   {
    "duration": 175269,
    "start_time": "2021-11-30T12:38:09.677Z"
   },
   {
    "duration": 175257,
    "start_time": "2021-11-30T12:38:09.691Z"
   },
   {
    "duration": 175211,
    "start_time": "2021-11-30T12:38:09.738Z"
   },
   {
    "duration": 175200,
    "start_time": "2021-11-30T12:38:09.751Z"
   },
   {
    "duration": 175185,
    "start_time": "2021-11-30T12:38:09.767Z"
   },
   {
    "duration": 175173,
    "start_time": "2021-11-30T12:38:09.781Z"
   },
   {
    "duration": 175156,
    "start_time": "2021-11-30T12:38:09.799Z"
   },
   {
    "duration": 175143,
    "start_time": "2021-11-30T12:38:09.814Z"
   },
   {
    "duration": 175089,
    "start_time": "2021-11-30T12:38:09.870Z"
   },
   {
    "duration": 175064,
    "start_time": "2021-11-30T12:38:09.896Z"
   },
   {
    "duration": 175046,
    "start_time": "2021-11-30T12:38:09.915Z"
   },
   {
    "duration": 175026,
    "start_time": "2021-11-30T12:38:09.937Z"
   },
   {
    "duration": 175008,
    "start_time": "2021-11-30T12:38:09.956Z"
   },
   {
    "duration": 174949,
    "start_time": "2021-11-30T12:38:10.017Z"
   },
   {
    "duration": 174926,
    "start_time": "2021-11-30T12:38:10.041Z"
   },
   {
    "duration": 174908,
    "start_time": "2021-11-30T12:38:10.061Z"
   },
   {
    "duration": 174889,
    "start_time": "2021-11-30T12:38:10.081Z"
   },
   {
    "duration": 174875,
    "start_time": "2021-11-30T12:38:10.097Z"
   },
   {
    "duration": 174875,
    "start_time": "2021-11-30T12:38:10.154Z"
   },
   {
    "duration": 174858,
    "start_time": "2021-11-30T12:38:10.173Z"
   },
   {
    "duration": 174840,
    "start_time": "2021-11-30T12:38:10.192Z"
   },
   {
    "duration": 174824,
    "start_time": "2021-11-30T12:38:10.210Z"
   },
   {
    "duration": 174804,
    "start_time": "2021-11-30T12:38:10.231Z"
   },
   {
    "duration": 174754,
    "start_time": "2021-11-30T12:38:10.283Z"
   },
   {
    "duration": 174732,
    "start_time": "2021-11-30T12:38:10.306Z"
   },
   {
    "duration": 174713,
    "start_time": "2021-11-30T12:38:10.327Z"
   },
   {
    "duration": 174696,
    "start_time": "2021-11-30T12:38:10.345Z"
   },
   {
    "duration": 174680,
    "start_time": "2021-11-30T12:38:10.363Z"
   },
   {
    "duration": 174619,
    "start_time": "2021-11-30T12:38:10.425Z"
   },
   {
    "duration": 174606,
    "start_time": "2021-11-30T12:38:10.439Z"
   },
   {
    "duration": 173791,
    "start_time": "2021-11-30T12:38:11.256Z"
   },
   {
    "duration": 173779,
    "start_time": "2021-11-30T12:38:11.269Z"
   },
   {
    "duration": 173763,
    "start_time": "2021-11-30T12:38:11.286Z"
   },
   {
    "duration": 173752,
    "start_time": "2021-11-30T12:38:11.298Z"
   },
   {
    "duration": 173739,
    "start_time": "2021-11-30T12:38:11.313Z"
   },
   {
    "duration": 173725,
    "start_time": "2021-11-30T12:38:11.328Z"
   },
   {
    "duration": 173710,
    "start_time": "2021-11-30T12:38:11.344Z"
   },
   {
    "duration": 173654,
    "start_time": "2021-11-30T12:38:11.401Z"
   },
   {
    "duration": 173444,
    "start_time": "2021-11-30T12:38:11.613Z"
   },
   {
    "duration": 173365,
    "start_time": "2021-11-30T12:38:11.696Z"
   },
   {
    "duration": 173345,
    "start_time": "2021-11-30T12:38:11.718Z"
   },
   {
    "duration": 173331,
    "start_time": "2021-11-30T12:38:11.734Z"
   },
   {
    "duration": 173374,
    "start_time": "2021-11-30T12:38:11.754Z"
   },
   {
    "duration": 173356,
    "start_time": "2021-11-30T12:38:11.774Z"
   },
   {
    "duration": 173267,
    "start_time": "2021-11-30T12:38:11.865Z"
   },
   {
    "duration": 173245,
    "start_time": "2021-11-30T12:38:11.888Z"
   },
   {
    "duration": 173227,
    "start_time": "2021-11-30T12:38:11.907Z"
   },
   {
    "duration": 173209,
    "start_time": "2021-11-30T12:38:11.926Z"
   },
   {
    "duration": 173193,
    "start_time": "2021-11-30T12:38:11.943Z"
   },
   {
    "duration": 173121,
    "start_time": "2021-11-30T12:38:12.017Z"
   },
   {
    "duration": 173077,
    "start_time": "2021-11-30T12:38:12.062Z"
   },
   {
    "duration": 173063,
    "start_time": "2021-11-30T12:38:12.077Z"
   },
   {
    "duration": 172997,
    "start_time": "2021-11-30T12:38:12.145Z"
   },
   {
    "duration": 172985,
    "start_time": "2021-11-30T12:38:12.158Z"
   },
   {
    "duration": 172973,
    "start_time": "2021-11-30T12:38:12.172Z"
   },
   {
    "duration": 172963,
    "start_time": "2021-11-30T12:38:12.184Z"
   },
   {
    "duration": 172949,
    "start_time": "2021-11-30T12:38:12.199Z"
   },
   {
    "duration": 172938,
    "start_time": "2021-11-30T12:38:12.212Z"
   },
   {
    "duration": 172925,
    "start_time": "2021-11-30T12:38:12.226Z"
   },
   {
    "duration": 172889,
    "start_time": "2021-11-30T12:38:12.264Z"
   },
   {
    "duration": 172713,
    "start_time": "2021-11-30T12:38:12.442Z"
   },
   {
    "duration": 172702,
    "start_time": "2021-11-30T12:38:12.454Z"
   },
   {
    "duration": 172690,
    "start_time": "2021-11-30T12:38:12.468Z"
   },
   {
    "duration": 172678,
    "start_time": "2021-11-30T12:38:12.481Z"
   },
   {
    "duration": 172666,
    "start_time": "2021-11-30T12:38:12.495Z"
   },
   {
    "duration": 172655,
    "start_time": "2021-11-30T12:38:12.507Z"
   },
   {
    "duration": 172642,
    "start_time": "2021-11-30T12:38:12.522Z"
   },
   {
    "duration": 172663,
    "start_time": "2021-11-30T12:38:12.566Z"
   },
   {
    "duration": 172650,
    "start_time": "2021-11-30T12:38:12.580Z"
   },
   {
    "duration": 172640,
    "start_time": "2021-11-30T12:38:12.592Z"
   },
   {
    "duration": 172626,
    "start_time": "2021-11-30T12:38:12.607Z"
   },
   {
    "duration": 172615,
    "start_time": "2021-11-30T12:38:12.620Z"
   },
   {
    "duration": 172602,
    "start_time": "2021-11-30T12:38:12.634Z"
   },
   {
    "duration": 172590,
    "start_time": "2021-11-30T12:38:12.647Z"
   },
   {
    "duration": 172579,
    "start_time": "2021-11-30T12:38:12.660Z"
   },
   {
    "duration": 172542,
    "start_time": "2021-11-30T12:38:12.698Z"
   },
   {
    "duration": 172529,
    "start_time": "2021-11-30T12:38:12.713Z"
   },
   {
    "duration": 172516,
    "start_time": "2021-11-30T12:38:12.727Z"
   },
   {
    "duration": 172502,
    "start_time": "2021-11-30T12:38:12.742Z"
   },
   {
    "duration": 172492,
    "start_time": "2021-11-30T12:38:12.754Z"
   },
   {
    "duration": 172478,
    "start_time": "2021-11-30T12:38:12.769Z"
   },
   {
    "duration": 172468,
    "start_time": "2021-11-30T12:38:12.781Z"
   },
   {
    "duration": 172426,
    "start_time": "2021-11-30T12:38:12.824Z"
   },
   {
    "duration": 172414,
    "start_time": "2021-11-30T12:38:12.838Z"
   },
   {
    "duration": 172400,
    "start_time": "2021-11-30T12:38:12.853Z"
   },
   {
    "duration": 172386,
    "start_time": "2021-11-30T12:38:12.869Z"
   },
   {
    "duration": 172369,
    "start_time": "2021-11-30T12:38:12.887Z"
   },
   {
    "duration": 172357,
    "start_time": "2021-11-30T12:38:12.901Z"
   },
   {
    "duration": 172307,
    "start_time": "2021-11-30T12:38:12.952Z"
   },
   {
    "duration": 172274,
    "start_time": "2021-11-30T12:38:12.986Z"
   },
   {
    "duration": 172115,
    "start_time": "2021-11-30T12:38:13.147Z"
   },
   {
    "duration": 172013,
    "start_time": "2021-11-30T12:38:13.251Z"
   },
   {
    "duration": 172061,
    "start_time": "2021-11-30T12:38:13.267Z"
   },
   {
    "duration": 172050,
    "start_time": "2021-11-30T12:38:13.280Z"
   },
   {
    "duration": 172037,
    "start_time": "2021-11-30T12:38:13.294Z"
   },
   {
    "duration": 172026,
    "start_time": "2021-11-30T12:38:13.307Z"
   },
   {
    "duration": 172012,
    "start_time": "2021-11-30T12:38:13.322Z"
   },
   {
    "duration": 172002,
    "start_time": "2021-11-30T12:38:13.333Z"
   },
   {
    "duration": 171939,
    "start_time": "2021-11-30T12:38:13.399Z"
   },
   {
    "duration": 171922,
    "start_time": "2021-11-30T12:38:13.418Z"
   },
   {
    "duration": 171903,
    "start_time": "2021-11-30T12:38:13.439Z"
   },
   {
    "duration": 171888,
    "start_time": "2021-11-30T12:38:13.456Z"
   },
   {
    "duration": 171873,
    "start_time": "2021-11-30T12:38:13.474Z"
   },
   {
    "duration": 171801,
    "start_time": "2021-11-30T12:38:13.548Z"
   },
   {
    "duration": 171784,
    "start_time": "2021-11-30T12:38:13.567Z"
   },
   {
    "duration": 171771,
    "start_time": "2021-11-30T12:38:13.583Z"
   },
   {
    "duration": 171714,
    "start_time": "2021-11-30T12:38:13.642Z"
   },
   {
    "duration": 171625,
    "start_time": "2021-11-30T12:38:13.733Z"
   },
   {
    "duration": 171606,
    "start_time": "2021-11-30T12:38:13.754Z"
   },
   {
    "duration": 355,
    "start_time": "2021-11-30T12:41:31.274Z"
   },
   {
    "duration": 6,
    "start_time": "2021-11-30T12:41:35.723Z"
   },
   {
    "duration": 354,
    "start_time": "2021-11-30T12:41:45.561Z"
   },
   {
    "duration": 5,
    "start_time": "2021-11-30T12:41:53.224Z"
   },
   {
    "duration": 4,
    "start_time": "2021-11-30T12:41:56.961Z"
   },
   {
    "duration": 542,
    "start_time": "2021-11-30T12:41:56.970Z"
   },
   {
    "duration": 11,
    "start_time": "2021-11-30T12:41:57.515Z"
   },
   {
    "duration": 36,
    "start_time": "2021-11-30T12:41:57.529Z"
   },
   {
    "duration": 40,
    "start_time": "2021-11-30T12:41:57.567Z"
   },
   {
    "duration": 21,
    "start_time": "2021-11-30T12:41:57.609Z"
   },
   {
    "duration": 12,
    "start_time": "2021-11-30T12:41:57.632Z"
   },
   {
    "duration": 35,
    "start_time": "2021-11-30T12:41:57.646Z"
   },
   {
    "duration": 58,
    "start_time": "2021-11-30T12:41:57.684Z"
   },
   {
    "duration": 12,
    "start_time": "2021-11-30T12:41:57.745Z"
   },
   {
    "duration": 26,
    "start_time": "2021-11-30T12:41:57.760Z"
   },
   {
    "duration": 23,
    "start_time": "2021-11-30T12:41:57.789Z"
   },
   {
    "duration": 26,
    "start_time": "2021-11-30T12:41:57.829Z"
   },
   {
    "duration": 11,
    "start_time": "2021-11-30T12:41:57.857Z"
   },
   {
    "duration": 12,
    "start_time": "2021-11-30T12:41:57.870Z"
   },
   {
    "duration": 46,
    "start_time": "2021-11-30T12:41:57.884Z"
   },
   {
    "duration": 17,
    "start_time": "2021-11-30T12:41:57.932Z"
   },
   {
    "duration": 13,
    "start_time": "2021-11-30T12:41:57.951Z"
   },
   {
    "duration": 34,
    "start_time": "2021-11-30T12:41:57.966Z"
   },
   {
    "duration": 78,
    "start_time": "2021-11-30T12:41:58.003Z"
   },
   {
    "duration": 13,
    "start_time": "2021-11-30T12:41:58.084Z"
   },
   {
    "duration": 51,
    "start_time": "2021-11-30T12:41:58.099Z"
   },
   {
    "duration": 40,
    "start_time": "2021-11-30T12:41:58.152Z"
   },
   {
    "duration": 36,
    "start_time": "2021-11-30T12:41:58.198Z"
   },
   {
    "duration": 34,
    "start_time": "2021-11-30T12:41:58.238Z"
   },
   {
    "duration": 34,
    "start_time": "2021-11-30T12:41:58.274Z"
   },
   {
    "duration": 11,
    "start_time": "2021-11-30T12:41:58.330Z"
   },
   {
    "duration": 15,
    "start_time": "2021-11-30T12:41:58.343Z"
   },
   {
    "duration": 13,
    "start_time": "2021-11-30T12:41:58.361Z"
   },
   {
    "duration": 51,
    "start_time": "2021-11-30T12:41:58.377Z"
   },
   {
    "duration": 14,
    "start_time": "2021-11-30T12:41:58.431Z"
   },
   {
    "duration": 19,
    "start_time": "2021-11-30T12:41:58.447Z"
   },
   {
    "duration": 14,
    "start_time": "2021-11-30T12:41:58.469Z"
   },
   {
    "duration": 45,
    "start_time": "2021-11-30T12:41:58.485Z"
   },
   {
    "duration": 11,
    "start_time": "2021-11-30T12:41:58.532Z"
   },
   {
    "duration": 12,
    "start_time": "2021-11-30T12:41:58.545Z"
   },
   {
    "duration": 8,
    "start_time": "2021-11-30T12:41:58.559Z"
   },
   {
    "duration": 59,
    "start_time": "2021-11-30T12:41:58.570Z"
   },
   {
    "duration": 6,
    "start_time": "2021-11-30T12:41:58.631Z"
   },
   {
    "duration": 32,
    "start_time": "2021-11-30T12:41:58.640Z"
   },
   {
    "duration": 13,
    "start_time": "2021-11-30T12:41:58.675Z"
   },
   {
    "duration": 43,
    "start_time": "2021-11-30T12:41:58.691Z"
   },
   {
    "duration": 14,
    "start_time": "2021-11-30T12:41:58.737Z"
   },
   {
    "duration": 7,
    "start_time": "2021-11-30T12:41:58.753Z"
   },
   {
    "duration": 98,
    "start_time": "2021-11-30T12:41:58.763Z"
   },
   {
    "duration": 20,
    "start_time": "2021-11-30T12:41:58.864Z"
   },
   {
    "duration": 66,
    "start_time": "2021-11-30T12:41:58.886Z"
   },
   {
    "duration": 19,
    "start_time": "2021-11-30T12:41:58.955Z"
   },
   {
    "duration": 38,
    "start_time": "2021-11-30T12:41:58.978Z"
   },
   {
    "duration": 23,
    "start_time": "2021-11-30T12:41:59.029Z"
   },
   {
    "duration": 8,
    "start_time": "2021-11-30T12:41:59.055Z"
   },
   {
    "duration": 27,
    "start_time": "2021-11-30T12:41:59.065Z"
   },
   {
    "duration": 50,
    "start_time": "2021-11-30T12:41:59.094Z"
   },
   {
    "duration": 43,
    "start_time": "2021-11-30T12:41:59.146Z"
   },
   {
    "duration": 21,
    "start_time": "2021-11-30T12:41:59.191Z"
   },
   {
    "duration": 5,
    "start_time": "2021-11-30T12:41:59.230Z"
   },
   {
    "duration": 28,
    "start_time": "2021-11-30T12:41:59.237Z"
   },
   {
    "duration": 95,
    "start_time": "2021-11-30T12:41:59.268Z"
   },
   {
    "duration": 20,
    "start_time": "2021-11-30T12:41:59.366Z"
   },
   {
    "duration": 98,
    "start_time": "2021-11-30T12:41:59.389Z"
   },
   {
    "duration": 17,
    "start_time": "2021-11-30T12:41:59.490Z"
   },
   {
    "duration": 38,
    "start_time": "2021-11-30T12:41:59.510Z"
   },
   {
    "duration": 13,
    "start_time": "2021-11-30T12:41:59.551Z"
   },
   {
    "duration": 25,
    "start_time": "2021-11-30T12:41:59.567Z"
   },
   {
    "duration": 50,
    "start_time": "2021-11-30T12:41:59.595Z"
   },
   {
    "duration": 14,
    "start_time": "2021-11-30T12:41:59.648Z"
   },
   {
    "duration": 25,
    "start_time": "2021-11-30T12:41:59.665Z"
   },
   {
    "duration": 54,
    "start_time": "2021-11-30T12:41:59.692Z"
   },
   {
    "duration": 8,
    "start_time": "2021-11-30T12:41:59.758Z"
   },
   {
    "duration": 60,
    "start_time": "2021-11-30T12:41:59.771Z"
   },
   {
    "duration": 42,
    "start_time": "2021-11-30T12:41:59.834Z"
   },
   {
    "duration": 58,
    "start_time": "2021-11-30T12:41:59.879Z"
   },
   {
    "duration": 129,
    "start_time": "2021-11-30T12:41:59.940Z"
   },
   {
    "duration": 4,
    "start_time": "2021-11-30T12:42:00.071Z"
   },
   {
    "duration": 17,
    "start_time": "2021-11-30T12:42:00.078Z"
   },
   {
    "duration": 335,
    "start_time": "2021-11-30T12:42:00.097Z"
   },
   {
    "duration": 5,
    "start_time": "2021-11-30T12:42:00.434Z"
   },
   {
    "duration": 315,
    "start_time": "2021-11-30T12:42:00.442Z"
   },
   {
    "duration": 4,
    "start_time": "2021-11-30T12:42:00.760Z"
   },
   {
    "duration": 32,
    "start_time": "2021-11-30T12:42:00.767Z"
   },
   {
    "duration": 42,
    "start_time": "2021-11-30T12:42:00.801Z"
   },
   {
    "duration": 71,
    "start_time": "2021-11-30T12:42:00.845Z"
   },
   {
    "duration": 25,
    "start_time": "2021-11-30T12:42:00.918Z"
   },
   {
    "duration": 42,
    "start_time": "2021-11-30T12:42:00.945Z"
   },
   {
    "duration": 22,
    "start_time": "2021-11-30T12:42:00.990Z"
   },
   {
    "duration": 72,
    "start_time": "2021-11-30T12:42:01.015Z"
   },
   {
    "duration": 21,
    "start_time": "2021-11-30T12:42:01.089Z"
   },
   {
    "duration": 318,
    "start_time": "2021-11-30T12:42:01.113Z"
   },
   {
    "duration": 6,
    "start_time": "2021-11-30T12:42:01.433Z"
   },
   {
    "duration": 390,
    "start_time": "2021-11-30T12:42:01.441Z"
   },
   {
    "duration": 4,
    "start_time": "2021-11-30T12:42:01.834Z"
   },
   {
    "duration": 17,
    "start_time": "2021-11-30T12:42:01.841Z"
   },
   {
    "duration": 30,
    "start_time": "2021-11-30T12:42:01.860Z"
   },
   {
    "duration": 43,
    "start_time": "2021-11-30T12:42:01.893Z"
   },
   {
    "duration": 29,
    "start_time": "2021-11-30T12:42:01.939Z"
   },
   {
    "duration": 26,
    "start_time": "2021-11-30T12:42:01.971Z"
   },
   {
    "duration": 28,
    "start_time": "2021-11-30T12:42:01.999Z"
   },
   {
    "duration": 22,
    "start_time": "2021-11-30T12:42:02.030Z"
   },
   {
    "duration": 36,
    "start_time": "2021-11-30T12:42:02.054Z"
   },
   {
    "duration": 370,
    "start_time": "2021-11-30T12:42:02.093Z"
   },
   {
    "duration": 6,
    "start_time": "2021-11-30T12:42:02.466Z"
   },
   {
    "duration": 392,
    "start_time": "2021-11-30T12:42:02.475Z"
   },
   {
    "duration": 5,
    "start_time": "2021-11-30T12:42:02.871Z"
   },
   {
    "duration": 31,
    "start_time": "2021-11-30T12:42:02.879Z"
   },
   {
    "duration": 28,
    "start_time": "2021-11-30T12:42:02.913Z"
   },
   {
    "duration": 55,
    "start_time": "2021-11-30T12:42:02.944Z"
   },
   {
    "duration": 58,
    "start_time": "2021-11-30T12:42:03.002Z"
   },
   {
    "duration": 53,
    "start_time": "2021-11-30T12:42:03.062Z"
   },
   {
    "duration": 32,
    "start_time": "2021-11-30T12:42:03.117Z"
   },
   {
    "duration": 10,
    "start_time": "2021-11-30T12:42:03.152Z"
   },
   {
    "duration": 526,
    "start_time": "2021-11-30T12:42:03.164Z"
   },
   {
    "duration": 9,
    "start_time": "2021-11-30T12:42:03.693Z"
   },
   {
    "duration": 47,
    "start_time": "2021-11-30T12:42:03.705Z"
   },
   {
    "duration": 46,
    "start_time": "2021-11-30T12:42:03.755Z"
   },
   {
    "duration": 60,
    "start_time": "2021-11-30T12:42:03.804Z"
   },
   {
    "duration": 37,
    "start_time": "2021-11-30T12:42:03.867Z"
   },
   {
    "duration": 64,
    "start_time": "2021-11-30T12:42:03.907Z"
   },
   {
    "duration": 45,
    "start_time": "2021-11-30T12:42:03.973Z"
   },
   {
    "duration": 42,
    "start_time": "2021-11-30T12:42:04.021Z"
   },
   {
    "duration": 52,
    "start_time": "2021-11-30T12:42:04.065Z"
   },
   {
    "duration": 75,
    "start_time": "2021-11-30T12:42:04.119Z"
   },
   {
    "duration": 10,
    "start_time": "2021-11-30T12:42:04.196Z"
   },
   {
    "duration": 54,
    "start_time": "2021-11-30T12:42:04.209Z"
   },
   {
    "duration": 17,
    "start_time": "2021-11-30T12:43:27.628Z"
   },
   {
    "duration": 104,
    "start_time": "2021-11-30T12:43:44.683Z"
   },
   {
    "duration": 320,
    "start_time": "2021-11-30T12:43:53.604Z"
   },
   {
    "duration": 300,
    "start_time": "2021-11-30T12:46:50.407Z"
   },
   {
    "duration": 84,
    "start_time": "2021-11-30T12:49:22.922Z"
   },
   {
    "duration": 4,
    "start_time": "2021-11-30T12:49:28.471Z"
   },
   {
    "duration": 322,
    "start_time": "2021-11-30T12:49:30.946Z"
   },
   {
    "duration": 305,
    "start_time": "2021-11-30T12:53:02.339Z"
   },
   {
    "duration": 6,
    "start_time": "2021-11-30T12:53:09.151Z"
   },
   {
    "duration": 4,
    "start_time": "2021-11-30T12:55:03.109Z"
   },
   {
    "duration": 65,
    "start_time": "2021-11-30T12:55:39.117Z"
   },
   {
    "duration": 13,
    "start_time": "2021-11-30T12:55:43.209Z"
   },
   {
    "duration": 4,
    "start_time": "2021-11-30T12:58:42.926Z"
   },
   {
    "duration": 62,
    "start_time": "2021-11-30T12:58:44.470Z"
   },
   {
    "duration": 12,
    "start_time": "2021-11-30T12:58:45.030Z"
   },
   {
    "duration": 4,
    "start_time": "2021-11-30T12:59:25.926Z"
   },
   {
    "duration": 690,
    "start_time": "2021-11-30T12:59:27.402Z"
   },
   {
    "duration": 13,
    "start_time": "2021-11-30T12:59:28.563Z"
   },
   {
    "duration": 4,
    "start_time": "2021-11-30T12:59:49.099Z"
   },
   {
    "duration": 4,
    "start_time": "2021-11-30T13:01:26.814Z"
   },
   {
    "duration": 61,
    "start_time": "2021-11-30T13:01:28.337Z"
   },
   {
    "duration": 14,
    "start_time": "2021-11-30T13:01:29.871Z"
   },
   {
    "duration": 3,
    "start_time": "2021-11-30T13:01:44.180Z"
   },
   {
    "duration": 611,
    "start_time": "2021-11-30T13:01:44.195Z"
   },
   {
    "duration": 12,
    "start_time": "2021-11-30T13:01:44.810Z"
   },
   {
    "duration": 118,
    "start_time": "2021-11-30T13:01:44.826Z"
   },
   {
    "duration": 73,
    "start_time": "2021-11-30T13:01:44.947Z"
   },
   {
    "duration": 4,
    "start_time": "2021-11-30T13:01:45.023Z"
   },
   {
    "duration": 111,
    "start_time": "2021-11-30T13:01:45.030Z"
   },
   {
    "duration": 90,
    "start_time": "2021-11-30T13:01:45.144Z"
   },
   {
    "duration": 12,
    "start_time": "2021-11-30T13:01:45.239Z"
   },
   {
    "duration": 44,
    "start_time": "2021-11-30T13:01:45.255Z"
   },
   {
    "duration": 41,
    "start_time": "2021-11-30T13:01:45.303Z"
   },
   {
    "duration": 36,
    "start_time": "2021-11-30T13:01:45.347Z"
   },
   {
    "duration": 14,
    "start_time": "2021-11-30T13:01:45.386Z"
   },
   {
    "duration": 38,
    "start_time": "2021-11-30T13:01:45.403Z"
   },
   {
    "duration": 65,
    "start_time": "2021-11-30T13:01:45.444Z"
   },
   {
    "duration": 48,
    "start_time": "2021-11-30T13:01:45.512Z"
   },
   {
    "duration": 33,
    "start_time": "2021-11-30T13:01:45.562Z"
   },
   {
    "duration": 44,
    "start_time": "2021-11-30T13:01:45.598Z"
   },
   {
    "duration": 40,
    "start_time": "2021-11-30T13:01:45.644Z"
   },
   {
    "duration": 37,
    "start_time": "2021-11-30T13:01:45.687Z"
   },
   {
    "duration": 55,
    "start_time": "2021-11-30T13:01:45.726Z"
   },
   {
    "duration": 74,
    "start_time": "2021-11-30T13:01:45.784Z"
   },
   {
    "duration": 55,
    "start_time": "2021-11-30T13:01:45.861Z"
   },
   {
    "duration": 11,
    "start_time": "2021-11-30T13:01:45.928Z"
   },
   {
    "duration": 54,
    "start_time": "2021-11-30T13:01:45.943Z"
   },
   {
    "duration": 39,
    "start_time": "2021-11-30T13:01:46.000Z"
   },
   {
    "duration": 10,
    "start_time": "2021-11-30T13:01:46.041Z"
   },
   {
    "duration": 51,
    "start_time": "2021-11-30T13:01:46.053Z"
   },
   {
    "duration": 48,
    "start_time": "2021-11-30T13:01:46.106Z"
   },
   {
    "duration": 25,
    "start_time": "2021-11-30T13:01:46.157Z"
   },
   {
    "duration": 25,
    "start_time": "2021-11-30T13:01:46.184Z"
   },
   {
    "duration": 35,
    "start_time": "2021-11-30T13:01:46.212Z"
   },
   {
    "duration": 41,
    "start_time": "2021-11-30T13:01:46.249Z"
   },
   {
    "duration": 9,
    "start_time": "2021-11-30T13:01:46.292Z"
   },
   {
    "duration": 50,
    "start_time": "2021-11-30T13:01:46.303Z"
   },
   {
    "duration": 30,
    "start_time": "2021-11-30T13:01:46.355Z"
   },
   {
    "duration": 51,
    "start_time": "2021-11-30T13:01:46.388Z"
   },
   {
    "duration": 30,
    "start_time": "2021-11-30T13:01:46.442Z"
   },
   {
    "duration": 20,
    "start_time": "2021-11-30T13:01:46.474Z"
   },
   {
    "duration": 53,
    "start_time": "2021-11-30T13:01:46.496Z"
   },
   {
    "duration": 35,
    "start_time": "2021-11-30T13:01:46.551Z"
   },
   {
    "duration": 30,
    "start_time": "2021-11-30T13:01:46.589Z"
   },
   {
    "duration": 64,
    "start_time": "2021-11-30T13:01:46.621Z"
   },
   {
    "duration": 28,
    "start_time": "2021-11-30T13:01:46.687Z"
   },
   {
    "duration": 30,
    "start_time": "2021-11-30T13:01:46.717Z"
   },
   {
    "duration": 35,
    "start_time": "2021-11-30T13:01:46.750Z"
   },
   {
    "duration": 29,
    "start_time": "2021-11-30T13:01:46.787Z"
   },
   {
    "duration": 98,
    "start_time": "2021-11-30T13:01:46.818Z"
   },
   {
    "duration": 20,
    "start_time": "2021-11-30T13:01:46.919Z"
   },
   {
    "duration": 103,
    "start_time": "2021-11-30T13:01:46.942Z"
   },
   {
    "duration": 19,
    "start_time": "2021-11-30T13:01:47.048Z"
   },
   {
    "duration": 61,
    "start_time": "2021-11-30T13:01:47.070Z"
   },
   {
    "duration": 33,
    "start_time": "2021-11-30T13:01:47.133Z"
   },
   {
    "duration": 28,
    "start_time": "2021-11-30T13:01:47.169Z"
   },
   {
    "duration": 58,
    "start_time": "2021-11-30T13:01:47.200Z"
   },
   {
    "duration": 49,
    "start_time": "2021-11-30T13:01:47.261Z"
   },
   {
    "duration": 47,
    "start_time": "2021-11-30T13:01:47.313Z"
   },
   {
    "duration": 36,
    "start_time": "2021-11-30T13:01:47.362Z"
   },
   {
    "duration": 30,
    "start_time": "2021-11-30T13:01:47.401Z"
   },
   {
    "duration": 36,
    "start_time": "2021-11-30T13:01:47.433Z"
   },
   {
    "duration": 90,
    "start_time": "2021-11-30T13:01:47.471Z"
   },
   {
    "duration": 20,
    "start_time": "2021-11-30T13:01:47.564Z"
   },
   {
    "duration": 101,
    "start_time": "2021-11-30T13:01:47.586Z"
   },
   {
    "duration": 15,
    "start_time": "2021-11-30T13:01:47.690Z"
   },
   {
    "duration": 45,
    "start_time": "2021-11-30T13:01:47.708Z"
   },
   {
    "duration": 25,
    "start_time": "2021-11-30T13:01:47.756Z"
   },
   {
    "duration": 36,
    "start_time": "2021-11-30T13:01:47.783Z"
   },
   {
    "duration": 64,
    "start_time": "2021-11-30T13:01:47.822Z"
   },
   {
    "duration": 14,
    "start_time": "2021-11-30T13:01:47.896Z"
   },
   {
    "duration": 37,
    "start_time": "2021-11-30T13:01:47.914Z"
   },
   {
    "duration": 20,
    "start_time": "2021-11-30T13:01:47.954Z"
   },
   {
    "duration": 15,
    "start_time": "2021-11-30T13:01:47.977Z"
   },
   {
    "duration": 45,
    "start_time": "2021-11-30T13:01:47.994Z"
   },
   {
    "duration": 57,
    "start_time": "2021-11-30T13:01:48.041Z"
   },
   {
    "duration": 20,
    "start_time": "2021-11-30T13:01:48.101Z"
   },
   {
    "duration": 17,
    "start_time": "2021-11-30T13:01:48.123Z"
   },
   {
    "duration": 28,
    "start_time": "2021-11-30T13:01:48.143Z"
   },
   {
    "duration": 22,
    "start_time": "2021-11-30T13:01:48.173Z"
   },
   {
    "duration": 337,
    "start_time": "2021-11-30T13:01:48.198Z"
   },
   {
    "duration": 7,
    "start_time": "2021-11-30T13:01:48.538Z"
   },
   {
    "duration": 335,
    "start_time": "2021-11-30T13:01:48.549Z"
   },
   {
    "duration": 3,
    "start_time": "2021-11-30T13:01:48.887Z"
   },
   {
    "duration": 14,
    "start_time": "2021-11-30T13:01:48.893Z"
   },
   {
    "duration": 34,
    "start_time": "2021-11-30T13:01:48.909Z"
   },
   {
    "duration": 16,
    "start_time": "2021-11-30T13:01:48.946Z"
   },
   {
    "duration": 7,
    "start_time": "2021-11-30T13:01:48.965Z"
   },
   {
    "duration": 20,
    "start_time": "2021-11-30T13:01:48.974Z"
   },
   {
    "duration": 10,
    "start_time": "2021-11-30T13:01:48.996Z"
   },
   {
    "duration": 39,
    "start_time": "2021-11-30T13:01:49.008Z"
   },
   {
    "duration": 17,
    "start_time": "2021-11-30T13:01:49.049Z"
   },
   {
    "duration": 561,
    "start_time": "2021-11-30T13:01:49.068Z"
   },
   {
    "duration": 8,
    "start_time": "2021-11-30T13:01:49.631Z"
   },
   {
    "duration": 372,
    "start_time": "2021-11-30T13:01:49.642Z"
   },
   {
    "duration": 12,
    "start_time": "2021-11-30T13:01:50.017Z"
   },
   {
    "duration": 30,
    "start_time": "2021-11-30T13:01:50.031Z"
   },
   {
    "duration": 14,
    "start_time": "2021-11-30T13:01:50.064Z"
   },
   {
    "duration": 40,
    "start_time": "2021-11-30T13:01:50.080Z"
   },
   {
    "duration": 20,
    "start_time": "2021-11-30T13:01:50.123Z"
   },
   {
    "duration": 25,
    "start_time": "2021-11-30T13:01:50.145Z"
   },
   {
    "duration": 20,
    "start_time": "2021-11-30T13:01:50.172Z"
   },
   {
    "duration": 18,
    "start_time": "2021-11-30T13:01:50.194Z"
   },
   {
    "duration": 59,
    "start_time": "2021-11-30T13:01:50.214Z"
   },
   {
    "duration": 410,
    "start_time": "2021-11-30T13:01:50.276Z"
   },
   {
    "duration": 6,
    "start_time": "2021-11-30T13:01:50.688Z"
   },
   {
    "duration": 363,
    "start_time": "2021-11-30T13:01:50.696Z"
   },
   {
    "duration": 4,
    "start_time": "2021-11-30T13:01:51.062Z"
   },
   {
    "duration": 12,
    "start_time": "2021-11-30T13:01:51.069Z"
   },
   {
    "duration": 13,
    "start_time": "2021-11-30T13:01:51.084Z"
   },
   {
    "duration": 15,
    "start_time": "2021-11-30T13:01:51.100Z"
   },
   {
    "duration": 16,
    "start_time": "2021-11-30T13:01:51.129Z"
   },
   {
    "duration": 21,
    "start_time": "2021-11-30T13:01:51.148Z"
   },
   {
    "duration": 12,
    "start_time": "2021-11-30T13:01:51.172Z"
   },
   {
    "duration": 18,
    "start_time": "2021-11-30T13:01:51.186Z"
   },
   {
    "duration": 9,
    "start_time": "2021-11-30T13:01:51.207Z"
   },
   {
    "duration": 16,
    "start_time": "2021-11-30T13:01:51.219Z"
   },
   {
    "duration": 25,
    "start_time": "2021-11-30T13:01:51.237Z"
   },
   {
    "duration": 14,
    "start_time": "2021-11-30T13:01:51.266Z"
   },
   {
    "duration": 17,
    "start_time": "2021-11-30T13:01:51.283Z"
   },
   {
    "duration": 32,
    "start_time": "2021-11-30T13:01:51.303Z"
   },
   {
    "duration": 21,
    "start_time": "2021-11-30T13:01:51.338Z"
   },
   {
    "duration": 10,
    "start_time": "2021-11-30T13:01:51.362Z"
   },
   {
    "duration": 12,
    "start_time": "2021-11-30T13:01:51.375Z"
   },
   {
    "duration": 10,
    "start_time": "2021-11-30T13:01:51.430Z"
   },
   {
    "duration": 53,
    "start_time": "2021-11-30T13:01:51.443Z"
   },
   {
    "duration": 31,
    "start_time": "2021-11-30T13:01:51.498Z"
   },
   {
    "duration": 11,
    "start_time": "2021-11-30T13:01:51.532Z"
   },
   {
    "duration": 4,
    "start_time": "2021-11-30T13:02:50.403Z"
   },
   {
    "duration": 69,
    "start_time": "2021-11-30T13:02:51.790Z"
   },
   {
    "duration": 12,
    "start_time": "2021-11-30T13:02:53.068Z"
   },
   {
    "duration": 5,
    "start_time": "2021-11-30T13:03:07.627Z"
   },
   {
    "duration": 5,
    "start_time": "2021-11-30T13:03:09.268Z"
   },
   {
    "duration": 13,
    "start_time": "2021-11-30T13:03:10.881Z"
   },
   {
    "duration": 3,
    "start_time": "2021-11-30T13:03:17.362Z"
   },
   {
    "duration": 526,
    "start_time": "2021-11-30T13:03:17.372Z"
   },
   {
    "duration": 13,
    "start_time": "2021-11-30T13:03:17.901Z"
   },
   {
    "duration": 35,
    "start_time": "2021-11-30T13:03:17.918Z"
   },
   {
    "duration": 42,
    "start_time": "2021-11-30T13:03:17.956Z"
   },
   {
    "duration": 4,
    "start_time": "2021-11-30T13:03:18.001Z"
   },
   {
    "duration": 5,
    "start_time": "2021-11-30T13:03:18.030Z"
   },
   {
    "duration": 7,
    "start_time": "2021-11-30T13:03:18.038Z"
   },
   {
    "duration": 15,
    "start_time": "2021-11-30T13:03:18.050Z"
   },
   {
    "duration": 70,
    "start_time": "2021-11-30T13:03:18.069Z"
   },
   {
    "duration": 24,
    "start_time": "2021-11-30T13:03:18.143Z"
   },
   {
    "duration": 61,
    "start_time": "2021-11-30T13:03:18.170Z"
   },
   {
    "duration": 10,
    "start_time": "2021-11-30T13:03:18.233Z"
   },
   {
    "duration": 16,
    "start_time": "2021-11-30T13:03:18.246Z"
   },
   {
    "duration": 27,
    "start_time": "2021-11-30T13:03:18.264Z"
   },
   {
    "duration": 55,
    "start_time": "2021-11-30T13:03:18.294Z"
   },
   {
    "duration": 10,
    "start_time": "2021-11-30T13:03:18.352Z"
   },
   {
    "duration": 11,
    "start_time": "2021-11-30T13:03:18.365Z"
   },
   {
    "duration": 21,
    "start_time": "2021-11-30T13:03:18.379Z"
   },
   {
    "duration": 9,
    "start_time": "2021-11-30T13:03:18.429Z"
   },
   {
    "duration": 11,
    "start_time": "2021-11-30T13:03:18.441Z"
   },
   {
    "duration": 50,
    "start_time": "2021-11-30T13:03:18.455Z"
   },
   {
    "duration": 58,
    "start_time": "2021-11-30T13:03:18.508Z"
   },
   {
    "duration": 13,
    "start_time": "2021-11-30T13:03:18.572Z"
   },
   {
    "duration": 51,
    "start_time": "2021-11-30T13:03:18.590Z"
   },
   {
    "duration": 33,
    "start_time": "2021-11-30T13:03:18.643Z"
   },
   {
    "duration": 11,
    "start_time": "2021-11-30T13:03:18.678Z"
   },
   {
    "duration": 56,
    "start_time": "2021-11-30T13:03:18.692Z"
   },
   {
    "duration": 26,
    "start_time": "2021-11-30T13:03:18.751Z"
   },
   {
    "duration": 12,
    "start_time": "2021-11-30T13:03:18.779Z"
   },
   {
    "duration": 40,
    "start_time": "2021-11-30T13:03:18.793Z"
   },
   {
    "duration": 14,
    "start_time": "2021-11-30T13:03:18.835Z"
   },
   {
    "duration": 19,
    "start_time": "2021-11-30T13:03:18.851Z"
   },
   {
    "duration": 12,
    "start_time": "2021-11-30T13:03:18.873Z"
   },
   {
    "duration": 49,
    "start_time": "2021-11-30T13:03:18.887Z"
   },
   {
    "duration": 9,
    "start_time": "2021-11-30T13:03:18.939Z"
   },
   {
    "duration": 23,
    "start_time": "2021-11-30T13:03:18.950Z"
   },
   {
    "duration": 15,
    "start_time": "2021-11-30T13:03:18.975Z"
   },
   {
    "duration": 9,
    "start_time": "2021-11-30T13:03:19.028Z"
   },
   {
    "duration": 9,
    "start_time": "2021-11-30T13:03:19.040Z"
   },
   {
    "duration": 21,
    "start_time": "2021-11-30T13:03:19.052Z"
   },
   {
    "duration": 9,
    "start_time": "2021-11-30T13:03:19.075Z"
   },
   {
    "duration": 60,
    "start_time": "2021-11-30T13:03:19.086Z"
   },
   {
    "duration": 14,
    "start_time": "2021-11-30T13:03:19.149Z"
   },
   {
    "duration": 9,
    "start_time": "2021-11-30T13:03:19.166Z"
   },
   {
    "duration": 60,
    "start_time": "2021-11-30T13:03:19.177Z"
   },
   {
    "duration": 7,
    "start_time": "2021-11-30T13:03:19.239Z"
   },
   {
    "duration": 85,
    "start_time": "2021-11-30T13:03:19.248Z"
   },
   {
    "duration": 20,
    "start_time": "2021-11-30T13:03:19.336Z"
   },
   {
    "duration": 54,
    "start_time": "2021-11-30T13:03:19.358Z"
   },
   {
    "duration": 27,
    "start_time": "2021-11-30T13:03:19.414Z"
   },
   {
    "duration": 44,
    "start_time": "2021-11-30T13:03:19.443Z"
   },
   {
    "duration": 29,
    "start_time": "2021-11-30T13:03:19.490Z"
   },
   {
    "duration": 7,
    "start_time": "2021-11-30T13:03:19.522Z"
   },
   {
    "duration": 38,
    "start_time": "2021-11-30T13:03:19.531Z"
   },
   {
    "duration": 57,
    "start_time": "2021-11-30T13:03:19.572Z"
   },
   {
    "duration": 31,
    "start_time": "2021-11-30T13:03:19.631Z"
   },
   {
    "duration": 20,
    "start_time": "2021-11-30T13:03:19.665Z"
   },
   {
    "duration": 18,
    "start_time": "2021-11-30T13:03:19.688Z"
   },
   {
    "duration": 39,
    "start_time": "2021-11-30T13:03:19.708Z"
   },
   {
    "duration": 91,
    "start_time": "2021-11-30T13:03:19.750Z"
   },
   {
    "duration": 22,
    "start_time": "2021-11-30T13:03:19.843Z"
   },
   {
    "duration": 90,
    "start_time": "2021-11-30T13:03:19.867Z"
   },
   {
    "duration": 14,
    "start_time": "2021-11-30T13:03:19.960Z"
   },
   {
    "duration": 26,
    "start_time": "2021-11-30T13:03:19.977Z"
   },
   {
    "duration": 32,
    "start_time": "2021-11-30T13:03:20.006Z"
   },
   {
    "duration": 31,
    "start_time": "2021-11-30T13:03:20.040Z"
   },
   {
    "duration": 25,
    "start_time": "2021-11-30T13:03:20.073Z"
   },
   {
    "duration": 27,
    "start_time": "2021-11-30T13:03:20.108Z"
   },
   {
    "duration": 27,
    "start_time": "2021-11-30T13:03:20.139Z"
   },
   {
    "duration": 22,
    "start_time": "2021-11-30T13:03:20.169Z"
   },
   {
    "duration": 43,
    "start_time": "2021-11-30T13:03:20.194Z"
   },
   {
    "duration": 23,
    "start_time": "2021-11-30T13:03:20.241Z"
   },
   {
    "duration": 72,
    "start_time": "2021-11-30T13:03:20.267Z"
   },
   {
    "duration": 21,
    "start_time": "2021-11-30T13:03:20.341Z"
   },
   {
    "duration": 4,
    "start_time": "2021-11-30T13:03:20.364Z"
   },
   {
    "duration": 24,
    "start_time": "2021-11-30T13:03:20.370Z"
   },
   {
    "duration": 17,
    "start_time": "2021-11-30T13:03:20.397Z"
   },
   {
    "duration": 295,
    "start_time": "2021-11-30T13:03:20.417Z"
   },
   {
    "duration": 6,
    "start_time": "2021-11-30T13:03:20.714Z"
   },
   {
    "duration": 313,
    "start_time": "2021-11-30T13:03:20.730Z"
   },
   {
    "duration": 5,
    "start_time": "2021-11-30T13:03:21.046Z"
   },
   {
    "duration": 14,
    "start_time": "2021-11-30T13:03:21.055Z"
   },
   {
    "duration": 15,
    "start_time": "2021-11-30T13:03:21.072Z"
   },
   {
    "duration": 12,
    "start_time": "2021-11-30T13:03:21.090Z"
   },
   {
    "duration": 25,
    "start_time": "2021-11-30T13:03:21.105Z"
   },
   {
    "duration": 5,
    "start_time": "2021-11-30T13:03:21.132Z"
   },
   {
    "duration": 18,
    "start_time": "2021-11-30T13:03:21.139Z"
   },
   {
    "duration": 10,
    "start_time": "2021-11-30T13:03:21.159Z"
   },
   {
    "duration": 14,
    "start_time": "2021-11-30T13:03:21.171Z"
   },
   {
    "duration": 316,
    "start_time": "2021-11-30T13:03:21.188Z"
   },
   {
    "duration": 6,
    "start_time": "2021-11-30T13:03:21.506Z"
   },
   {
    "duration": 318,
    "start_time": "2021-11-30T13:03:21.530Z"
   },
   {
    "duration": 4,
    "start_time": "2021-11-30T13:03:21.851Z"
   },
   {
    "duration": 15,
    "start_time": "2021-11-30T13:03:21.858Z"
   },
   {
    "duration": 6,
    "start_time": "2021-11-30T13:03:21.876Z"
   },
   {
    "duration": 18,
    "start_time": "2021-11-30T13:03:21.885Z"
   },
   {
    "duration": 25,
    "start_time": "2021-11-30T13:03:21.906Z"
   },
   {
    "duration": 8,
    "start_time": "2021-11-30T13:03:21.934Z"
   },
   {
    "duration": 7,
    "start_time": "2021-11-30T13:03:21.945Z"
   },
   {
    "duration": 9,
    "start_time": "2021-11-30T13:03:21.954Z"
   },
   {
    "duration": 7,
    "start_time": "2021-11-30T13:03:21.966Z"
   },
   {
    "duration": 362,
    "start_time": "2021-11-30T13:03:21.976Z"
   },
   {
    "duration": 6,
    "start_time": "2021-11-30T13:03:22.341Z"
   },
   {
    "duration": 357,
    "start_time": "2021-11-30T13:03:22.350Z"
   },
   {
    "duration": 5,
    "start_time": "2021-11-30T13:03:22.709Z"
   },
   {
    "duration": 6,
    "start_time": "2021-11-30T13:03:22.729Z"
   },
   {
    "duration": 9,
    "start_time": "2021-11-30T13:03:22.738Z"
   },
   {
    "duration": 10,
    "start_time": "2021-11-30T13:03:22.749Z"
   },
   {
    "duration": 7,
    "start_time": "2021-11-30T13:03:22.762Z"
   },
   {
    "duration": 7,
    "start_time": "2021-11-30T13:03:22.771Z"
   },
   {
    "duration": 12,
    "start_time": "2021-11-30T13:03:22.780Z"
   },
   {
    "duration": 35,
    "start_time": "2021-11-30T13:03:22.795Z"
   },
   {
    "duration": 5,
    "start_time": "2021-11-30T13:03:22.833Z"
   },
   {
    "duration": 12,
    "start_time": "2021-11-30T13:03:22.840Z"
   },
   {
    "duration": 132,
    "start_time": "2021-11-30T13:03:22.854Z"
   },
   {
    "duration": 6,
    "start_time": "2021-11-30T13:03:22.988Z"
   },
   {
    "duration": 44,
    "start_time": "2021-11-30T13:03:22.997Z"
   },
   {
    "duration": 30,
    "start_time": "2021-11-30T13:03:23.043Z"
   },
   {
    "duration": 44,
    "start_time": "2021-11-30T13:03:23.075Z"
   },
   {
    "duration": 18,
    "start_time": "2021-11-30T13:03:23.122Z"
   },
   {
    "duration": 25,
    "start_time": "2021-11-30T13:03:23.142Z"
   },
   {
    "duration": 43,
    "start_time": "2021-11-30T13:03:23.170Z"
   },
   {
    "duration": 62,
    "start_time": "2021-11-30T13:03:23.215Z"
   },
   {
    "duration": 7,
    "start_time": "2021-11-30T13:03:23.280Z"
   },
   {
    "duration": 48,
    "start_time": "2021-11-30T13:03:23.289Z"
   },
   {
    "duration": 4,
    "start_time": "2021-11-30T13:04:04.692Z"
   },
   {
    "duration": 63,
    "start_time": "2021-11-30T13:04:06.384Z"
   },
   {
    "duration": 14,
    "start_time": "2021-11-30T13:04:08.018Z"
   },
   {
    "duration": 3,
    "start_time": "2021-11-30T13:04:27.455Z"
   },
   {
    "duration": 532,
    "start_time": "2021-11-30T13:04:27.465Z"
   },
   {
    "duration": 11,
    "start_time": "2021-11-30T13:04:28.000Z"
   },
   {
    "duration": 28,
    "start_time": "2021-11-30T13:04:28.014Z"
   },
   {
    "duration": 37,
    "start_time": "2021-11-30T13:04:28.045Z"
   },
   {
    "duration": 3,
    "start_time": "2021-11-30T13:04:28.085Z"
   },
   {
    "duration": 9,
    "start_time": "2021-11-30T13:04:28.090Z"
   },
   {
    "duration": 95,
    "start_time": "2021-11-30T13:04:28.101Z"
   },
   {
    "duration": 35,
    "start_time": "2021-11-30T13:04:28.200Z"
   },
   {
    "duration": 14,
    "start_time": "2021-11-30T13:04:28.237Z"
   },
   {
    "duration": 27,
    "start_time": "2021-11-30T13:04:28.253Z"
   },
   {
    "duration": 57,
    "start_time": "2021-11-30T13:04:28.282Z"
   },
   {
    "duration": 11,
    "start_time": "2021-11-30T13:04:28.342Z"
   },
   {
    "duration": 15,
    "start_time": "2021-11-30T13:04:28.355Z"
   },
   {
    "duration": 22,
    "start_time": "2021-11-30T13:04:28.373Z"
   },
   {
    "duration": 56,
    "start_time": "2021-11-30T13:04:28.398Z"
   },
   {
    "duration": 11,
    "start_time": "2021-11-30T13:04:28.456Z"
   },
   {
    "duration": 13,
    "start_time": "2021-11-30T13:04:28.470Z"
   },
   {
    "duration": 52,
    "start_time": "2021-11-30T13:04:28.486Z"
   },
   {
    "duration": 18,
    "start_time": "2021-11-30T13:04:28.541Z"
   },
   {
    "duration": 11,
    "start_time": "2021-11-30T13:04:28.562Z"
   },
   {
    "duration": 60,
    "start_time": "2021-11-30T13:04:28.576Z"
   },
   {
    "duration": 795,
    "start_time": "2021-11-30T13:04:28.638Z"
   },
   {
    "duration": 13,
    "start_time": "2021-11-30T13:04:29.441Z"
   },
   {
    "duration": 43,
    "start_time": "2021-11-30T13:04:29.458Z"
   },
   {
    "duration": 42,
    "start_time": "2021-11-30T13:04:29.503Z"
   },
   {
    "duration": 11,
    "start_time": "2021-11-30T13:04:29.548Z"
   },
   {
    "duration": 45,
    "start_time": "2021-11-30T13:04:29.561Z"
   },
   {
    "duration": 33,
    "start_time": "2021-11-30T13:04:29.609Z"
   },
   {
    "duration": 10,
    "start_time": "2021-11-30T13:04:29.645Z"
   },
   {
    "duration": 30,
    "start_time": "2021-11-30T13:04:29.657Z"
   },
   {
    "duration": 34,
    "start_time": "2021-11-30T13:04:29.689Z"
   },
   {
    "duration": 33,
    "start_time": "2021-11-30T13:04:29.725Z"
   },
   {
    "duration": 35,
    "start_time": "2021-11-30T13:04:29.761Z"
   },
   {
    "duration": 29,
    "start_time": "2021-11-30T13:04:29.798Z"
   },
   {
    "duration": 9,
    "start_time": "2021-11-30T13:04:29.830Z"
   },
   {
    "duration": 33,
    "start_time": "2021-11-30T13:04:29.842Z"
   },
   {
    "duration": 12,
    "start_time": "2021-11-30T13:04:29.878Z"
   },
   {
    "duration": 20,
    "start_time": "2021-11-30T13:04:29.893Z"
   },
   {
    "duration": 10,
    "start_time": "2021-11-30T13:04:29.928Z"
   },
   {
    "duration": 32,
    "start_time": "2021-11-30T13:04:29.941Z"
   },
   {
    "duration": 14,
    "start_time": "2021-11-30T13:04:29.976Z"
   },
   {
    "duration": 43,
    "start_time": "2021-11-30T13:04:29.992Z"
   },
   {
    "duration": 27,
    "start_time": "2021-11-30T13:04:30.037Z"
   },
   {
    "duration": 21,
    "start_time": "2021-11-30T13:04:30.066Z"
   },
   {
    "duration": 32,
    "start_time": "2021-11-30T13:04:30.090Z"
   },
   {
    "duration": 13,
    "start_time": "2021-11-30T13:04:30.125Z"
   },
   {
    "duration": 79,
    "start_time": "2021-11-30T13:04:30.140Z"
   },
   {
    "duration": 19,
    "start_time": "2021-11-30T13:04:30.221Z"
   },
   {
    "duration": 51,
    "start_time": "2021-11-30T13:04:30.243Z"
   },
   {
    "duration": 19,
    "start_time": "2021-11-30T13:04:30.297Z"
   },
   {
    "duration": 28,
    "start_time": "2021-11-30T13:04:30.330Z"
   },
   {
    "duration": 23,
    "start_time": "2021-11-30T13:04:30.361Z"
   },
   {
    "duration": 17,
    "start_time": "2021-11-30T13:04:30.386Z"
   },
   {
    "duration": 41,
    "start_time": "2021-11-30T13:04:30.406Z"
   },
   {
    "duration": 29,
    "start_time": "2021-11-30T13:04:30.449Z"
   },
   {
    "duration": 49,
    "start_time": "2021-11-30T13:04:30.481Z"
   },
   {
    "duration": 24,
    "start_time": "2021-11-30T13:04:30.533Z"
   },
   {
    "duration": 33,
    "start_time": "2021-11-30T13:04:30.559Z"
   },
   {
    "duration": 48,
    "start_time": "2021-11-30T13:04:30.594Z"
   },
   {
    "duration": 92,
    "start_time": "2021-11-30T13:04:30.644Z"
   },
   {
    "duration": 22,
    "start_time": "2021-11-30T13:04:30.738Z"
   },
   {
    "duration": 102,
    "start_time": "2021-11-30T13:04:30.762Z"
   },
   {
    "duration": 16,
    "start_time": "2021-11-30T13:04:30.867Z"
   },
   {
    "duration": 40,
    "start_time": "2021-11-30T13:04:30.885Z"
   },
   {
    "duration": 30,
    "start_time": "2021-11-30T13:04:30.929Z"
   },
   {
    "duration": 61,
    "start_time": "2021-11-30T13:04:30.961Z"
   },
   {
    "duration": 52,
    "start_time": "2021-11-30T13:04:31.024Z"
   },
   {
    "duration": 34,
    "start_time": "2021-11-30T13:04:31.086Z"
   },
   {
    "duration": 64,
    "start_time": "2021-11-30T13:04:31.124Z"
   },
   {
    "duration": 36,
    "start_time": "2021-11-30T13:04:31.190Z"
   },
   {
    "duration": 42,
    "start_time": "2021-11-30T13:04:31.229Z"
   },
   {
    "duration": 56,
    "start_time": "2021-11-30T13:04:31.274Z"
   },
   {
    "duration": 79,
    "start_time": "2021-11-30T13:04:31.333Z"
   },
   {
    "duration": 30,
    "start_time": "2021-11-30T13:04:31.415Z"
   },
   {
    "duration": 31,
    "start_time": "2021-11-30T13:04:31.448Z"
   },
   {
    "duration": 49,
    "start_time": "2021-11-30T13:04:31.481Z"
   },
   {
    "duration": 34,
    "start_time": "2021-11-30T13:04:31.533Z"
   },
   {
    "duration": 325,
    "start_time": "2021-11-30T13:04:31.570Z"
   },
   {
    "duration": 6,
    "start_time": "2021-11-30T13:04:31.897Z"
   },
   {
    "duration": 318,
    "start_time": "2021-11-30T13:04:31.906Z"
   },
   {
    "duration": 4,
    "start_time": "2021-11-30T13:04:32.226Z"
   },
   {
    "duration": 58,
    "start_time": "2021-11-30T13:04:32.233Z"
   },
   {
    "duration": 45,
    "start_time": "2021-11-30T13:04:32.294Z"
   },
   {
    "duration": 42,
    "start_time": "2021-11-30T13:04:32.342Z"
   },
   {
    "duration": 47,
    "start_time": "2021-11-30T13:04:32.386Z"
   },
   {
    "duration": 24,
    "start_time": "2021-11-30T13:04:32.436Z"
   },
   {
    "duration": 36,
    "start_time": "2021-11-30T13:04:32.462Z"
   },
   {
    "duration": 58,
    "start_time": "2021-11-30T13:04:32.500Z"
   },
   {
    "duration": 26,
    "start_time": "2021-11-30T13:04:32.560Z"
   },
   {
    "duration": 340,
    "start_time": "2021-11-30T13:04:32.589Z"
   },
   {
    "duration": 8,
    "start_time": "2021-11-30T13:04:32.931Z"
   },
   {
    "duration": 343,
    "start_time": "2021-11-30T13:04:32.941Z"
   },
   {
    "duration": 5,
    "start_time": "2021-11-30T13:04:33.286Z"
   },
   {
    "duration": 48,
    "start_time": "2021-11-30T13:04:33.293Z"
   },
   {
    "duration": 46,
    "start_time": "2021-11-30T13:04:33.344Z"
   },
   {
    "duration": 29,
    "start_time": "2021-11-30T13:04:33.392Z"
   },
   {
    "duration": 29,
    "start_time": "2021-11-30T13:04:33.424Z"
   },
   {
    "duration": 51,
    "start_time": "2021-11-30T13:04:33.456Z"
   },
   {
    "duration": 38,
    "start_time": "2021-11-30T13:04:33.510Z"
   },
   {
    "duration": 51,
    "start_time": "2021-11-30T13:04:33.551Z"
   },
   {
    "duration": 42,
    "start_time": "2021-11-30T13:04:33.604Z"
   },
   {
    "duration": 339,
    "start_time": "2021-11-30T13:04:33.648Z"
   },
   {
    "duration": 7,
    "start_time": "2021-11-30T13:04:33.991Z"
   },
   {
    "duration": 347,
    "start_time": "2021-11-30T13:04:34.000Z"
   },
   {
    "duration": 4,
    "start_time": "2021-11-30T13:04:34.350Z"
   },
   {
    "duration": 41,
    "start_time": "2021-11-30T13:04:34.356Z"
   },
   {
    "duration": 35,
    "start_time": "2021-11-30T13:04:34.399Z"
   },
   {
    "duration": 51,
    "start_time": "2021-11-30T13:04:34.436Z"
   },
   {
    "duration": 35,
    "start_time": "2021-11-30T13:04:34.490Z"
   },
   {
    "duration": 44,
    "start_time": "2021-11-30T13:04:34.527Z"
   },
   {
    "duration": 33,
    "start_time": "2021-11-30T13:04:34.573Z"
   },
   {
    "duration": 41,
    "start_time": "2021-11-30T13:04:34.608Z"
   },
   {
    "duration": 56,
    "start_time": "2021-11-30T13:04:34.651Z"
   },
   {
    "duration": 47,
    "start_time": "2021-11-30T13:04:34.710Z"
   },
   {
    "duration": 48,
    "start_time": "2021-11-30T13:04:34.759Z"
   },
   {
    "duration": 40,
    "start_time": "2021-11-30T13:04:34.809Z"
   },
   {
    "duration": 35,
    "start_time": "2021-11-30T13:04:34.851Z"
   },
   {
    "duration": 61,
    "start_time": "2021-11-30T13:04:34.888Z"
   },
   {
    "duration": 70,
    "start_time": "2021-11-30T13:04:34.951Z"
   },
   {
    "duration": 16,
    "start_time": "2021-11-30T13:04:35.024Z"
   },
   {
    "duration": 25,
    "start_time": "2021-11-30T13:04:35.042Z"
   },
   {
    "duration": 22,
    "start_time": "2021-11-30T13:04:35.069Z"
   },
   {
    "duration": 60,
    "start_time": "2021-11-30T13:04:35.093Z"
   },
   {
    "duration": 6,
    "start_time": "2021-11-30T13:04:35.156Z"
   },
   {
    "duration": 14,
    "start_time": "2021-11-30T13:04:35.165Z"
   },
   {
    "duration": 579,
    "start_time": "2021-11-30T13:05:11.441Z"
   },
   {
    "duration": 4,
    "start_time": "2021-11-30T13:05:17.625Z"
   },
   {
    "duration": 623,
    "start_time": "2021-11-30T13:05:19.155Z"
   },
   {
    "duration": 4,
    "start_time": "2021-11-30T13:06:16.116Z"
   },
   {
    "duration": 544,
    "start_time": "2021-11-30T13:06:16.125Z"
   },
   {
    "duration": 12,
    "start_time": "2021-11-30T13:06:16.671Z"
   },
   {
    "duration": 48,
    "start_time": "2021-11-30T13:06:16.685Z"
   },
   {
    "duration": 42,
    "start_time": "2021-11-30T13:06:16.736Z"
   },
   {
    "duration": 11,
    "start_time": "2021-11-30T13:06:16.781Z"
   },
   {
    "duration": 45,
    "start_time": "2021-11-30T13:06:16.794Z"
   },
   {
    "duration": 32,
    "start_time": "2021-11-30T13:06:16.841Z"
   },
   {
    "duration": 29,
    "start_time": "2021-11-30T13:06:16.876Z"
   },
   {
    "duration": 29,
    "start_time": "2021-11-30T13:06:16.908Z"
   },
   {
    "duration": 15,
    "start_time": "2021-11-30T13:06:16.940Z"
   },
   {
    "duration": 22,
    "start_time": "2021-11-30T13:06:16.958Z"
   },
   {
    "duration": 57,
    "start_time": "2021-11-30T13:06:16.983Z"
   },
   {
    "duration": 11,
    "start_time": "2021-11-30T13:06:17.043Z"
   },
   {
    "duration": 13,
    "start_time": "2021-11-30T13:06:17.057Z"
   },
   {
    "duration": 17,
    "start_time": "2021-11-30T13:06:17.073Z"
   },
   {
    "duration": 41,
    "start_time": "2021-11-30T13:06:17.092Z"
   },
   {
    "duration": 13,
    "start_time": "2021-11-30T13:06:17.135Z"
   },
   {
    "duration": 37,
    "start_time": "2021-11-30T13:06:17.150Z"
   },
   {
    "duration": 76,
    "start_time": "2021-11-30T13:06:17.189Z"
   },
   {
    "duration": 12,
    "start_time": "2021-11-30T13:06:17.267Z"
   },
   {
    "duration": 50,
    "start_time": "2021-11-30T13:06:17.281Z"
   },
   {
    "duration": 36,
    "start_time": "2021-11-30T13:06:17.333Z"
   },
   {
    "duration": 11,
    "start_time": "2021-11-30T13:06:17.375Z"
   },
   {
    "duration": 57,
    "start_time": "2021-11-30T13:06:17.390Z"
   },
   {
    "duration": 28,
    "start_time": "2021-11-30T13:06:17.449Z"
   },
   {
    "duration": 11,
    "start_time": "2021-11-30T13:06:17.479Z"
   },
   {
    "duration": 36,
    "start_time": "2021-11-30T13:06:17.493Z"
   },
   {
    "duration": 31,
    "start_time": "2021-11-30T13:06:17.532Z"
   },
   {
    "duration": 21,
    "start_time": "2021-11-30T13:06:17.565Z"
   },
   {
    "duration": 9,
    "start_time": "2021-11-30T13:06:17.588Z"
   },
   {
    "duration": 43,
    "start_time": "2021-11-30T13:06:17.599Z"
   },
   {
    "duration": 7,
    "start_time": "2021-11-30T13:06:17.644Z"
   },
   {
    "duration": 23,
    "start_time": "2021-11-30T13:06:17.653Z"
   },
   {
    "duration": 12,
    "start_time": "2021-11-30T13:06:17.679Z"
   },
   {
    "duration": 11,
    "start_time": "2021-11-30T13:06:17.730Z"
   },
   {
    "duration": 14,
    "start_time": "2021-11-30T13:06:17.743Z"
   },
   {
    "duration": 28,
    "start_time": "2021-11-30T13:06:17.759Z"
   },
   {
    "duration": 11,
    "start_time": "2021-11-30T13:06:17.790Z"
   },
   {
    "duration": 23,
    "start_time": "2021-11-30T13:06:17.830Z"
   },
   {
    "duration": 16,
    "start_time": "2021-11-30T13:06:17.855Z"
   },
   {
    "duration": 9,
    "start_time": "2021-11-30T13:06:17.873Z"
   },
   {
    "duration": 51,
    "start_time": "2021-11-30T13:06:17.884Z"
   },
   {
    "duration": 6,
    "start_time": "2021-11-30T13:06:17.937Z"
   },
   {
    "duration": 63,
    "start_time": "2021-11-30T13:06:17.946Z"
   },
   {
    "duration": 32,
    "start_time": "2021-11-30T13:06:18.012Z"
   },
   {
    "duration": 50,
    "start_time": "2021-11-30T13:06:18.046Z"
   },
   {
    "duration": 33,
    "start_time": "2021-11-30T13:06:18.098Z"
   },
   {
    "duration": 34,
    "start_time": "2021-11-30T13:06:18.133Z"
   },
   {
    "duration": 20,
    "start_time": "2021-11-30T13:06:18.170Z"
   },
   {
    "duration": 32,
    "start_time": "2021-11-30T13:06:18.192Z"
   },
   {
    "duration": 37,
    "start_time": "2021-11-30T13:06:18.226Z"
   },
   {
    "duration": 49,
    "start_time": "2021-11-30T13:06:18.266Z"
   },
   {
    "duration": 46,
    "start_time": "2021-11-30T13:06:18.317Z"
   },
   {
    "duration": 21,
    "start_time": "2021-11-30T13:06:18.365Z"
   },
   {
    "duration": 38,
    "start_time": "2021-11-30T13:06:18.389Z"
   },
   {
    "duration": 50,
    "start_time": "2021-11-30T13:06:18.429Z"
   },
   {
    "duration": 97,
    "start_time": "2021-11-30T13:06:18.482Z"
   },
   {
    "duration": 20,
    "start_time": "2021-11-30T13:06:18.582Z"
   },
   {
    "duration": 107,
    "start_time": "2021-11-30T13:06:18.604Z"
   },
   {
    "duration": 14,
    "start_time": "2021-11-30T13:06:18.714Z"
   },
   {
    "duration": 35,
    "start_time": "2021-11-30T13:06:18.731Z"
   },
   {
    "duration": 30,
    "start_time": "2021-11-30T13:06:18.768Z"
   },
   {
    "duration": 29,
    "start_time": "2021-11-30T13:06:18.800Z"
   },
   {
    "duration": 25,
    "start_time": "2021-11-30T13:06:18.831Z"
   },
   {
    "duration": 12,
    "start_time": "2021-11-30T13:06:18.859Z"
   },
   {
    "duration": 27,
    "start_time": "2021-11-30T13:06:18.874Z"
   },
   {
    "duration": 20,
    "start_time": "2021-11-30T13:06:18.929Z"
   },
   {
    "duration": 8,
    "start_time": "2021-11-30T13:06:18.959Z"
   },
   {
    "duration": 23,
    "start_time": "2021-11-30T13:06:18.971Z"
   },
   {
    "duration": 64,
    "start_time": "2021-11-30T13:06:18.996Z"
   },
   {
    "duration": 21,
    "start_time": "2021-11-30T13:06:19.062Z"
   },
   {
    "duration": 6,
    "start_time": "2021-11-30T13:06:19.085Z"
   },
   {
    "duration": 36,
    "start_time": "2021-11-30T13:06:19.093Z"
   },
   {
    "duration": 12,
    "start_time": "2021-11-30T13:06:19.132Z"
   },
   {
    "duration": 330,
    "start_time": "2021-11-30T13:06:19.146Z"
   },
   {
    "duration": 7,
    "start_time": "2021-11-30T13:06:19.480Z"
   },
   {
    "duration": 329,
    "start_time": "2021-11-30T13:06:19.489Z"
   },
   {
    "duration": 8,
    "start_time": "2021-11-30T13:06:19.821Z"
   },
   {
    "duration": 9,
    "start_time": "2021-11-30T13:06:19.831Z"
   },
   {
    "duration": 13,
    "start_time": "2021-11-30T13:06:19.842Z"
   },
   {
    "duration": 7,
    "start_time": "2021-11-30T13:06:19.857Z"
   },
   {
    "duration": 7,
    "start_time": "2021-11-30T13:06:19.866Z"
   },
   {
    "duration": 9,
    "start_time": "2021-11-30T13:06:19.875Z"
   },
   {
    "duration": 8,
    "start_time": "2021-11-30T13:06:19.887Z"
   },
   {
    "duration": 6,
    "start_time": "2021-11-30T13:06:19.930Z"
   },
   {
    "duration": 9,
    "start_time": "2021-11-30T13:06:19.939Z"
   },
   {
    "duration": 328,
    "start_time": "2021-11-30T13:06:19.951Z"
   },
   {
    "duration": 5,
    "start_time": "2021-11-30T13:06:20.282Z"
   },
   {
    "duration": 331,
    "start_time": "2021-11-30T13:06:20.289Z"
   },
   {
    "duration": 5,
    "start_time": "2021-11-30T13:06:20.629Z"
   },
   {
    "duration": 15,
    "start_time": "2021-11-30T13:06:20.636Z"
   },
   {
    "duration": 15,
    "start_time": "2021-11-30T13:06:20.653Z"
   },
   {
    "duration": 13,
    "start_time": "2021-11-30T13:06:20.670Z"
   },
   {
    "duration": 11,
    "start_time": "2021-11-30T13:06:20.686Z"
   },
   {
    "duration": 8,
    "start_time": "2021-11-30T13:06:20.700Z"
   },
   {
    "duration": 25,
    "start_time": "2021-11-30T13:06:20.711Z"
   },
   {
    "duration": 14,
    "start_time": "2021-11-30T13:06:20.739Z"
   },
   {
    "duration": 21,
    "start_time": "2021-11-30T13:06:20.756Z"
   },
   {
    "duration": 444,
    "start_time": "2021-11-30T13:06:20.780Z"
   },
   {
    "duration": 7,
    "start_time": "2021-11-30T13:06:21.228Z"
   },
   {
    "duration": 450,
    "start_time": "2021-11-30T13:06:21.238Z"
   },
   {
    "duration": 5,
    "start_time": "2021-11-30T13:06:21.691Z"
   },
   {
    "duration": 10,
    "start_time": "2021-11-30T13:06:21.698Z"
   },
   {
    "duration": 24,
    "start_time": "2021-11-30T13:06:21.711Z"
   },
   {
    "duration": 11,
    "start_time": "2021-11-30T13:06:21.738Z"
   },
   {
    "duration": 7,
    "start_time": "2021-11-30T13:06:21.752Z"
   },
   {
    "duration": 11,
    "start_time": "2021-11-30T13:06:21.762Z"
   },
   {
    "duration": 9,
    "start_time": "2021-11-30T13:06:21.776Z"
   },
   {
    "duration": 5,
    "start_time": "2021-11-30T13:06:21.788Z"
   },
   {
    "duration": 36,
    "start_time": "2021-11-30T13:06:21.795Z"
   },
   {
    "duration": 12,
    "start_time": "2021-11-30T13:06:21.834Z"
   },
   {
    "duration": 22,
    "start_time": "2021-11-30T13:06:21.848Z"
   },
   {
    "duration": 8,
    "start_time": "2021-11-30T13:06:21.873Z"
   },
   {
    "duration": 46,
    "start_time": "2021-11-30T13:06:21.883Z"
   },
   {
    "duration": 9,
    "start_time": "2021-11-30T13:06:21.933Z"
   },
   {
    "duration": 22,
    "start_time": "2021-11-30T13:06:21.945Z"
   },
   {
    "duration": 8,
    "start_time": "2021-11-30T13:06:21.970Z"
   },
   {
    "duration": 47,
    "start_time": "2021-11-30T13:06:21.982Z"
   },
   {
    "duration": 9,
    "start_time": "2021-11-30T13:06:22.033Z"
   },
   {
    "duration": 97,
    "start_time": "2021-11-30T13:06:22.046Z"
   },
   {
    "duration": 8,
    "start_time": "2021-11-30T13:06:22.146Z"
   },
   {
    "duration": 14,
    "start_time": "2021-11-30T13:06:22.157Z"
   },
   {
    "duration": 5,
    "start_time": "2021-11-30T13:20:09.708Z"
   },
   {
    "duration": 12,
    "start_time": "2021-11-30T13:20:11.023Z"
   },
   {
    "duration": 6,
    "start_time": "2021-11-30T13:20:25.029Z"
   },
   {
    "duration": 13,
    "start_time": "2021-11-30T13:20:27.107Z"
   },
   {
    "duration": 302,
    "start_time": "2021-11-30T13:20:40.777Z"
   },
   {
    "duration": 6,
    "start_time": "2021-11-30T13:20:45.721Z"
   },
   {
    "duration": 13,
    "start_time": "2021-11-30T13:20:47.840Z"
   },
   {
    "duration": 3,
    "start_time": "2021-11-30T13:20:52.767Z"
   },
   {
    "duration": 531,
    "start_time": "2021-11-30T13:20:52.806Z"
   },
   {
    "duration": 11,
    "start_time": "2021-11-30T13:20:53.340Z"
   },
   {
    "duration": 53,
    "start_time": "2021-11-30T13:20:53.354Z"
   },
   {
    "duration": 58,
    "start_time": "2021-11-30T13:20:53.410Z"
   },
   {
    "duration": 6,
    "start_time": "2021-11-30T13:20:53.472Z"
   },
   {
    "duration": 18,
    "start_time": "2021-11-30T13:20:53.480Z"
   },
   {
    "duration": 14,
    "start_time": "2021-11-30T13:20:53.531Z"
   },
   {
    "duration": 32,
    "start_time": "2021-11-30T13:20:53.548Z"
   },
   {
    "duration": 57,
    "start_time": "2021-11-30T13:20:53.584Z"
   },
   {
    "duration": 15,
    "start_time": "2021-11-30T13:20:53.645Z"
   },
   {
    "duration": 17,
    "start_time": "2021-11-30T13:20:53.662Z"
   },
   {
    "duration": 25,
    "start_time": "2021-11-30T13:20:53.682Z"
   },
   {
    "duration": 26,
    "start_time": "2021-11-30T13:20:53.729Z"
   },
   {
    "duration": 12,
    "start_time": "2021-11-30T13:20:53.758Z"
   },
   {
    "duration": 19,
    "start_time": "2021-11-30T13:20:53.773Z"
   },
   {
    "duration": 45,
    "start_time": "2021-11-30T13:20:53.795Z"
   },
   {
    "duration": 15,
    "start_time": "2021-11-30T13:20:53.842Z"
   },
   {
    "duration": 25,
    "start_time": "2021-11-30T13:20:53.860Z"
   },
   {
    "duration": 58,
    "start_time": "2021-11-30T13:20:53.888Z"
   },
   {
    "duration": 48,
    "start_time": "2021-11-30T13:20:53.948Z"
   },
   {
    "duration": 33,
    "start_time": "2021-11-30T13:20:53.998Z"
   },
   {
    "duration": 27,
    "start_time": "2021-11-30T13:20:54.033Z"
   },
   {
    "duration": 36,
    "start_time": "2021-11-30T13:20:54.063Z"
   },
   {
    "duration": 35,
    "start_time": "2021-11-30T13:20:54.102Z"
   },
   {
    "duration": 28,
    "start_time": "2021-11-30T13:20:54.140Z"
   },
   {
    "duration": 65,
    "start_time": "2021-11-30T13:20:54.170Z"
   },
   {
    "duration": 11,
    "start_time": "2021-11-30T13:20:54.242Z"
   },
   {
    "duration": 6,
    "start_time": "2021-11-30T13:20:54.257Z"
   },
   {
    "duration": 11,
    "start_time": "2021-11-30T13:20:54.265Z"
   },
   {
    "duration": 52,
    "start_time": "2021-11-30T13:20:54.279Z"
   },
   {
    "duration": 15,
    "start_time": "2021-11-30T13:20:54.334Z"
   },
   {
    "duration": 20,
    "start_time": "2021-11-30T13:20:54.351Z"
   },
   {
    "duration": 12,
    "start_time": "2021-11-30T13:20:54.373Z"
   },
   {
    "duration": 54,
    "start_time": "2021-11-30T13:20:54.387Z"
   },
   {
    "duration": 12,
    "start_time": "2021-11-30T13:20:54.443Z"
   },
   {
    "duration": 11,
    "start_time": "2021-11-30T13:20:54.457Z"
   },
   {
    "duration": 8,
    "start_time": "2021-11-30T13:20:54.471Z"
   },
   {
    "duration": 61,
    "start_time": "2021-11-30T13:20:54.482Z"
   },
   {
    "duration": 6,
    "start_time": "2021-11-30T13:20:54.545Z"
   },
   {
    "duration": 27,
    "start_time": "2021-11-30T13:20:54.554Z"
   },
   {
    "duration": 12,
    "start_time": "2021-11-30T13:20:54.583Z"
   },
   {
    "duration": 9,
    "start_time": "2021-11-30T13:20:54.630Z"
   },
   {
    "duration": 12,
    "start_time": "2021-11-30T13:20:54.642Z"
   },
   {
    "duration": 7,
    "start_time": "2021-11-30T13:20:54.656Z"
   },
   {
    "duration": 112,
    "start_time": "2021-11-30T13:20:54.665Z"
   },
   {
    "duration": 30,
    "start_time": "2021-11-30T13:20:54.780Z"
   },
   {
    "duration": 42,
    "start_time": "2021-11-30T13:20:54.830Z"
   },
   {
    "duration": 19,
    "start_time": "2021-11-30T13:20:54.875Z"
   },
   {
    "duration": 57,
    "start_time": "2021-11-30T13:20:54.896Z"
   },
   {
    "duration": 22,
    "start_time": "2021-11-30T13:20:54.955Z"
   },
   {
    "duration": 7,
    "start_time": "2021-11-30T13:20:54.979Z"
   },
   {
    "duration": 62,
    "start_time": "2021-11-30T13:20:54.988Z"
   },
   {
    "duration": 24,
    "start_time": "2021-11-30T13:20:55.053Z"
   },
   {
    "duration": 60,
    "start_time": "2021-11-30T13:20:55.080Z"
   },
   {
    "duration": 23,
    "start_time": "2021-11-30T13:20:55.143Z"
   },
   {
    "duration": 14,
    "start_time": "2021-11-30T13:20:55.168Z"
   },
   {
    "duration": 51,
    "start_time": "2021-11-30T13:20:55.184Z"
   },
   {
    "duration": 78,
    "start_time": "2021-11-30T13:20:55.238Z"
   },
   {
    "duration": 30,
    "start_time": "2021-11-30T13:20:55.319Z"
   },
   {
    "duration": 86,
    "start_time": "2021-11-30T13:20:55.351Z"
   },
   {
    "duration": 15,
    "start_time": "2021-11-30T13:20:55.439Z"
   },
   {
    "duration": 29,
    "start_time": "2021-11-30T13:20:55.457Z"
   },
   {
    "duration": 15,
    "start_time": "2021-11-30T13:20:55.489Z"
   },
   {
    "duration": 40,
    "start_time": "2021-11-30T13:20:55.506Z"
   },
   {
    "duration": 20,
    "start_time": "2021-11-30T13:20:55.549Z"
   },
   {
    "duration": 13,
    "start_time": "2021-11-30T13:20:55.572Z"
   },
   {
    "duration": 63,
    "start_time": "2021-11-30T13:20:55.588Z"
   },
   {
    "duration": 21,
    "start_time": "2021-11-30T13:20:55.653Z"
   },
   {
    "duration": 10,
    "start_time": "2021-11-30T13:20:55.676Z"
   },
   {
    "duration": 51,
    "start_time": "2021-11-30T13:20:55.688Z"
   },
   {
    "duration": 38,
    "start_time": "2021-11-30T13:20:55.742Z"
   },
   {
    "duration": 21,
    "start_time": "2021-11-30T13:20:55.782Z"
   },
   {
    "duration": 4,
    "start_time": "2021-11-30T13:20:55.830Z"
   },
   {
    "duration": 10,
    "start_time": "2021-11-30T13:20:55.836Z"
   },
   {
    "duration": 9,
    "start_time": "2021-11-30T13:20:55.848Z"
   },
   {
    "duration": 335,
    "start_time": "2021-11-30T13:20:55.859Z"
   },
   {
    "duration": 6,
    "start_time": "2021-11-30T13:20:56.196Z"
   },
   {
    "duration": 326,
    "start_time": "2021-11-30T13:20:56.205Z"
   },
   {
    "duration": 5,
    "start_time": "2021-11-30T13:20:56.534Z"
   },
   {
    "duration": 9,
    "start_time": "2021-11-30T13:20:56.541Z"
   },
   {
    "duration": 4,
    "start_time": "2021-11-30T13:20:56.560Z"
   },
   {
    "duration": 8,
    "start_time": "2021-11-30T13:20:56.567Z"
   },
   {
    "duration": 4,
    "start_time": "2021-11-30T13:20:56.577Z"
   },
   {
    "duration": 48,
    "start_time": "2021-11-30T13:20:56.583Z"
   },
   {
    "duration": 4,
    "start_time": "2021-11-30T13:20:56.633Z"
   },
   {
    "duration": 9,
    "start_time": "2021-11-30T13:20:56.639Z"
   },
   {
    "duration": 8,
    "start_time": "2021-11-30T13:20:56.651Z"
   },
   {
    "duration": 326,
    "start_time": "2021-11-30T13:20:56.662Z"
   },
   {
    "duration": 6,
    "start_time": "2021-11-30T13:20:56.990Z"
   },
   {
    "duration": 343,
    "start_time": "2021-11-30T13:20:56.999Z"
   },
   {
    "duration": 4,
    "start_time": "2021-11-30T13:20:57.345Z"
   },
   {
    "duration": 9,
    "start_time": "2021-11-30T13:20:57.351Z"
   },
   {
    "duration": 8,
    "start_time": "2021-11-30T13:20:57.362Z"
   },
   {
    "duration": 8,
    "start_time": "2021-11-30T13:20:57.372Z"
   },
   {
    "duration": 6,
    "start_time": "2021-11-30T13:20:57.383Z"
   },
   {
    "duration": 39,
    "start_time": "2021-11-30T13:20:57.392Z"
   },
   {
    "duration": 4,
    "start_time": "2021-11-30T13:20:57.433Z"
   },
   {
    "duration": 10,
    "start_time": "2021-11-30T13:20:57.440Z"
   },
   {
    "duration": 8,
    "start_time": "2021-11-30T13:20:57.452Z"
   },
   {
    "duration": 356,
    "start_time": "2021-11-30T13:20:57.462Z"
   },
   {
    "duration": 12,
    "start_time": "2021-11-30T13:20:57.820Z"
   },
   {
    "duration": 352,
    "start_time": "2021-11-30T13:20:57.834Z"
   },
   {
    "duration": 4,
    "start_time": "2021-11-30T13:20:58.189Z"
   },
   {
    "duration": 7,
    "start_time": "2021-11-30T13:20:58.196Z"
   },
   {
    "duration": 25,
    "start_time": "2021-11-30T13:20:58.205Z"
   },
   {
    "duration": 5,
    "start_time": "2021-11-30T13:20:58.233Z"
   },
   {
    "duration": 6,
    "start_time": "2021-11-30T13:20:58.241Z"
   },
   {
    "duration": 8,
    "start_time": "2021-11-30T13:20:58.250Z"
   },
   {
    "duration": 7,
    "start_time": "2021-11-30T13:20:58.261Z"
   },
   {
    "duration": 11,
    "start_time": "2021-11-30T13:20:58.270Z"
   },
   {
    "duration": 4,
    "start_time": "2021-11-30T13:20:58.330Z"
   },
   {
    "duration": 9,
    "start_time": "2021-11-30T13:20:58.337Z"
   },
   {
    "duration": 21,
    "start_time": "2021-11-30T13:20:58.348Z"
   },
   {
    "duration": 6,
    "start_time": "2021-11-30T13:20:58.372Z"
   },
   {
    "duration": 8,
    "start_time": "2021-11-30T13:20:58.380Z"
   },
   {
    "duration": 8,
    "start_time": "2021-11-30T13:20:58.429Z"
   },
   {
    "duration": 24,
    "start_time": "2021-11-30T13:20:58.439Z"
   },
   {
    "duration": 6,
    "start_time": "2021-11-30T13:20:58.466Z"
   },
   {
    "duration": 9,
    "start_time": "2021-11-30T13:20:58.475Z"
   },
   {
    "duration": 46,
    "start_time": "2021-11-30T13:20:58.486Z"
   },
   {
    "duration": 47,
    "start_time": "2021-11-30T13:20:58.535Z"
   },
   {
    "duration": 8,
    "start_time": "2021-11-30T13:20:58.584Z"
   },
   {
    "duration": 9,
    "start_time": "2021-11-30T13:20:58.595Z"
   },
   {
    "duration": 6,
    "start_time": "2021-11-30T13:21:41.683Z"
   },
   {
    "duration": 14,
    "start_time": "2021-11-30T13:21:43.462Z"
   },
   {
    "duration": 4,
    "start_time": "2021-11-30T13:21:50.204Z"
   },
   {
    "duration": 593,
    "start_time": "2021-11-30T13:21:50.214Z"
   },
   {
    "duration": 12,
    "start_time": "2021-11-30T13:21:50.810Z"
   },
   {
    "duration": 37,
    "start_time": "2021-11-30T13:21:50.826Z"
   },
   {
    "duration": 43,
    "start_time": "2021-11-30T13:21:50.867Z"
   },
   {
    "duration": 19,
    "start_time": "2021-11-30T13:21:50.912Z"
   },
   {
    "duration": 15,
    "start_time": "2021-11-30T13:21:50.934Z"
   },
   {
    "duration": 24,
    "start_time": "2021-11-30T13:21:50.951Z"
   },
   {
    "duration": 54,
    "start_time": "2021-11-30T13:21:50.979Z"
   },
   {
    "duration": 28,
    "start_time": "2021-11-30T13:21:51.036Z"
   },
   {
    "duration": 11,
    "start_time": "2021-11-30T13:21:51.067Z"
   },
   {
    "duration": 26,
    "start_time": "2021-11-30T13:21:51.081Z"
   },
   {
    "duration": 20,
    "start_time": "2021-11-30T13:21:51.129Z"
   },
   {
    "duration": 26,
    "start_time": "2021-11-30T13:21:51.152Z"
   },
   {
    "duration": 13,
    "start_time": "2021-11-30T13:21:51.181Z"
   },
   {
    "duration": 41,
    "start_time": "2021-11-30T13:21:51.196Z"
   },
   {
    "duration": 19,
    "start_time": "2021-11-30T13:21:51.239Z"
   },
   {
    "duration": 12,
    "start_time": "2021-11-30T13:21:51.260Z"
   },
   {
    "duration": 55,
    "start_time": "2021-11-30T13:21:51.275Z"
   },
   {
    "duration": 38,
    "start_time": "2021-11-30T13:21:51.332Z"
   },
   {
    "duration": 76,
    "start_time": "2021-11-30T13:21:51.373Z"
   },
   {
    "duration": 11,
    "start_time": "2021-11-30T13:21:51.452Z"
   },
   {
    "duration": 27,
    "start_time": "2021-11-30T13:21:51.466Z"
   },
   {
    "duration": 60,
    "start_time": "2021-11-30T13:21:51.499Z"
   },
   {
    "duration": 11,
    "start_time": "2021-11-30T13:21:51.563Z"
   },
   {
    "duration": 55,
    "start_time": "2021-11-30T13:21:51.576Z"
   },
   {
    "duration": 32,
    "start_time": "2021-11-30T13:21:51.634Z"
   },
   {
    "duration": 11,
    "start_time": "2021-11-30T13:21:51.669Z"
   },
   {
    "duration": 48,
    "start_time": "2021-11-30T13:21:51.683Z"
   },
   {
    "duration": 13,
    "start_time": "2021-11-30T13:21:51.733Z"
   },
   {
    "duration": 21,
    "start_time": "2021-11-30T13:21:51.748Z"
   },
   {
    "duration": 13,
    "start_time": "2021-11-30T13:21:51.772Z"
   },
   {
    "duration": 56,
    "start_time": "2021-11-30T13:21:51.788Z"
   },
   {
    "duration": 9,
    "start_time": "2021-11-30T13:21:51.846Z"
   },
   {
    "duration": 24,
    "start_time": "2021-11-30T13:21:51.857Z"
   },
   {
    "duration": 46,
    "start_time": "2021-11-30T13:21:51.884Z"
   },
   {
    "duration": 9,
    "start_time": "2021-11-30T13:21:51.933Z"
   },
   {
    "duration": 13,
    "start_time": "2021-11-30T13:21:51.945Z"
   },
   {
    "duration": 23,
    "start_time": "2021-11-30T13:21:51.960Z"
   },
   {
    "duration": 44,
    "start_time": "2021-11-30T13:21:51.985Z"
   },
   {
    "duration": 23,
    "start_time": "2021-11-30T13:21:52.033Z"
   },
   {
    "duration": 12,
    "start_time": "2021-11-30T13:21:52.059Z"
   },
   {
    "duration": 9,
    "start_time": "2021-11-30T13:21:52.073Z"
   },
   {
    "duration": 53,
    "start_time": "2021-11-30T13:21:52.084Z"
   },
   {
    "duration": 6,
    "start_time": "2021-11-30T13:21:52.140Z"
   },
   {
    "duration": 88,
    "start_time": "2021-11-30T13:21:52.149Z"
   },
   {
    "duration": 20,
    "start_time": "2021-11-30T13:21:52.239Z"
   },
   {
    "duration": 45,
    "start_time": "2021-11-30T13:21:52.261Z"
   },
   {
    "duration": 38,
    "start_time": "2021-11-30T13:21:52.308Z"
   },
   {
    "duration": 31,
    "start_time": "2021-11-30T13:21:52.348Z"
   },
   {
    "duration": 48,
    "start_time": "2021-11-30T13:21:52.381Z"
   },
   {
    "duration": 6,
    "start_time": "2021-11-30T13:21:52.432Z"
   },
   {
    "duration": 36,
    "start_time": "2021-11-30T13:21:52.441Z"
   },
   {
    "duration": 22,
    "start_time": "2021-11-30T13:21:52.479Z"
   },
   {
    "duration": 64,
    "start_time": "2021-11-30T13:21:52.505Z"
   },
   {
    "duration": 29,
    "start_time": "2021-11-30T13:21:52.572Z"
   },
   {
    "duration": 7,
    "start_time": "2021-11-30T13:21:52.629Z"
   },
   {
    "duration": 29,
    "start_time": "2021-11-30T13:21:52.639Z"
   },
   {
    "duration": 101,
    "start_time": "2021-11-30T13:21:52.670Z"
   },
   {
    "duration": 23,
    "start_time": "2021-11-30T13:21:52.774Z"
   },
   {
    "duration": 91,
    "start_time": "2021-11-30T13:21:52.799Z"
   },
   {
    "duration": 17,
    "start_time": "2021-11-30T13:21:52.892Z"
   },
   {
    "duration": 32,
    "start_time": "2021-11-30T13:21:52.912Z"
   },
   {
    "duration": 14,
    "start_time": "2021-11-30T13:21:52.947Z"
   },
   {
    "duration": 23,
    "start_time": "2021-11-30T13:21:52.964Z"
   },
   {
    "duration": 48,
    "start_time": "2021-11-30T13:21:52.989Z"
   },
   {
    "duration": 12,
    "start_time": "2021-11-30T13:21:53.040Z"
   },
   {
    "duration": 27,
    "start_time": "2021-11-30T13:21:53.055Z"
   },
   {
    "duration": 45,
    "start_time": "2021-11-30T13:21:53.092Z"
   },
   {
    "duration": 8,
    "start_time": "2021-11-30T13:21:53.141Z"
   },
   {
    "duration": 23,
    "start_time": "2021-11-30T13:21:53.151Z"
   },
   {
    "duration": 73,
    "start_time": "2021-11-30T13:21:53.177Z"
   },
   {
    "duration": 21,
    "start_time": "2021-11-30T13:21:53.253Z"
   },
   {
    "duration": 4,
    "start_time": "2021-11-30T13:21:53.277Z"
   },
   {
    "duration": 15,
    "start_time": "2021-11-30T13:21:53.284Z"
   },
   {
    "duration": 29,
    "start_time": "2021-11-30T13:21:53.302Z"
   },
   {
    "duration": 357,
    "start_time": "2021-11-30T13:21:53.334Z"
   },
   {
    "duration": 7,
    "start_time": "2021-11-30T13:21:53.695Z"
   },
   {
    "duration": 443,
    "start_time": "2021-11-30T13:21:53.705Z"
   },
   {
    "duration": 5,
    "start_time": "2021-11-30T13:21:54.151Z"
   },
   {
    "duration": 8,
    "start_time": "2021-11-30T13:21:54.159Z"
   },
   {
    "duration": 7,
    "start_time": "2021-11-30T13:21:54.170Z"
   },
   {
    "duration": 9,
    "start_time": "2021-11-30T13:21:54.179Z"
   },
   {
    "duration": 4,
    "start_time": "2021-11-30T13:21:54.230Z"
   },
   {
    "duration": 13,
    "start_time": "2021-11-30T13:21:54.237Z"
   },
   {
    "duration": 16,
    "start_time": "2021-11-30T13:21:54.252Z"
   },
   {
    "duration": 10,
    "start_time": "2021-11-30T13:21:54.271Z"
   },
   {
    "duration": 10,
    "start_time": "2021-11-30T13:21:54.283Z"
   },
   {
    "duration": 321,
    "start_time": "2021-11-30T13:21:54.295Z"
   },
   {
    "duration": 15,
    "start_time": "2021-11-30T13:21:54.618Z"
   },
   {
    "duration": 333,
    "start_time": "2021-11-30T13:21:54.635Z"
   },
   {
    "duration": 5,
    "start_time": "2021-11-30T13:21:54.970Z"
   },
   {
    "duration": 11,
    "start_time": "2021-11-30T13:21:54.977Z"
   },
   {
    "duration": 14,
    "start_time": "2021-11-30T13:21:54.990Z"
   },
   {
    "duration": 25,
    "start_time": "2021-11-30T13:21:55.006Z"
   },
   {
    "duration": 23,
    "start_time": "2021-11-30T13:21:55.033Z"
   },
   {
    "duration": 8,
    "start_time": "2021-11-30T13:21:55.058Z"
   },
   {
    "duration": 8,
    "start_time": "2021-11-30T13:21:55.069Z"
   },
   {
    "duration": 15,
    "start_time": "2021-11-30T13:21:55.079Z"
   },
   {
    "duration": 16,
    "start_time": "2021-11-30T13:21:55.097Z"
   },
   {
    "duration": 360,
    "start_time": "2021-11-30T13:21:55.116Z"
   },
   {
    "duration": 6,
    "start_time": "2021-11-30T13:21:55.478Z"
   },
   {
    "duration": 371,
    "start_time": "2021-11-30T13:21:55.486Z"
   },
   {
    "duration": 4,
    "start_time": "2021-11-30T13:21:55.860Z"
   },
   {
    "duration": 12,
    "start_time": "2021-11-30T13:21:55.866Z"
   },
   {
    "duration": 13,
    "start_time": "2021-11-30T13:21:55.880Z"
   },
   {
    "duration": 25,
    "start_time": "2021-11-30T13:21:55.895Z"
   },
   {
    "duration": 6,
    "start_time": "2021-11-30T13:21:55.929Z"
   },
   {
    "duration": 14,
    "start_time": "2021-11-30T13:21:55.937Z"
   },
   {
    "duration": 10,
    "start_time": "2021-11-30T13:21:55.954Z"
   },
   {
    "duration": 5,
    "start_time": "2021-11-30T13:21:55.966Z"
   },
   {
    "duration": 7,
    "start_time": "2021-11-30T13:21:55.974Z"
   },
   {
    "duration": 18,
    "start_time": "2021-11-30T13:21:55.984Z"
   },
   {
    "duration": 172,
    "start_time": "2021-11-30T13:21:56.004Z"
   },
   {
    "duration": 10,
    "start_time": "2021-11-30T13:21:56.178Z"
   },
   {
    "duration": 23,
    "start_time": "2021-11-30T13:21:56.190Z"
   },
   {
    "duration": 20,
    "start_time": "2021-11-30T13:21:56.216Z"
   },
   {
    "duration": 29,
    "start_time": "2021-11-30T13:21:56.238Z"
   },
   {
    "duration": 7,
    "start_time": "2021-11-30T13:21:56.269Z"
   },
   {
    "duration": 38,
    "start_time": "2021-11-30T13:21:56.278Z"
   },
   {
    "duration": 27,
    "start_time": "2021-11-30T13:21:56.318Z"
   },
   {
    "duration": 65,
    "start_time": "2021-11-30T13:21:56.347Z"
   },
   {
    "duration": 8,
    "start_time": "2021-11-30T13:21:56.415Z"
   },
   {
    "duration": 23,
    "start_time": "2021-11-30T13:21:56.426Z"
   },
   {
    "duration": 146,
    "start_time": "2021-11-30T13:22:35.108Z"
   },
   {
    "duration": 5,
    "start_time": "2021-11-30T13:22:41.738Z"
   },
   {
    "duration": 13,
    "start_time": "2021-11-30T13:22:42.996Z"
   },
   {
    "duration": 594,
    "start_time": "2021-11-30T13:22:54.370Z"
   },
   {
    "duration": 230,
    "start_time": "2021-11-30T13:23:03.358Z"
   },
   {
    "duration": 263,
    "start_time": "2021-11-30T13:23:08.858Z"
   },
   {
    "duration": 5,
    "start_time": "2021-11-30T13:23:12.578Z"
   },
   {
    "duration": 14,
    "start_time": "2021-11-30T13:23:14.547Z"
   },
   {
    "duration": 4,
    "start_time": "2021-11-30T13:23:32.453Z"
   },
   {
    "duration": 571,
    "start_time": "2021-11-30T13:23:32.464Z"
   },
   {
    "duration": 14,
    "start_time": "2021-11-30T13:23:33.038Z"
   },
   {
    "duration": 35,
    "start_time": "2021-11-30T13:23:33.055Z"
   },
   {
    "duration": 64,
    "start_time": "2021-11-30T13:23:33.093Z"
   },
   {
    "duration": 5,
    "start_time": "2021-11-30T13:23:33.159Z"
   },
   {
    "duration": 17,
    "start_time": "2021-11-30T13:23:33.166Z"
   },
   {
    "duration": 45,
    "start_time": "2021-11-30T13:23:33.186Z"
   },
   {
    "duration": 23,
    "start_time": "2021-11-30T13:23:33.235Z"
   },
   {
    "duration": 29,
    "start_time": "2021-11-30T13:23:33.261Z"
   },
   {
    "duration": 41,
    "start_time": "2021-11-30T13:23:33.293Z"
   },
   {
    "duration": 15,
    "start_time": "2021-11-30T13:23:33.336Z"
   },
   {
    "duration": 35,
    "start_time": "2021-11-30T13:23:33.354Z"
   },
   {
    "duration": 45,
    "start_time": "2021-11-30T13:23:33.391Z"
   },
   {
    "duration": 11,
    "start_time": "2021-11-30T13:23:33.439Z"
   },
   {
    "duration": 11,
    "start_time": "2021-11-30T13:23:33.452Z"
   },
   {
    "duration": 20,
    "start_time": "2021-11-30T13:23:33.466Z"
   },
   {
    "duration": 42,
    "start_time": "2021-11-30T13:23:33.488Z"
   },
   {
    "duration": 10,
    "start_time": "2021-11-30T13:23:33.532Z"
   },
   {
    "duration": 41,
    "start_time": "2021-11-30T13:23:33.544Z"
   },
   {
    "duration": 64,
    "start_time": "2021-11-30T13:23:33.587Z"
   },
   {
    "duration": 11,
    "start_time": "2021-11-30T13:23:33.653Z"
   },
   {
    "duration": 27,
    "start_time": "2021-11-30T13:23:33.666Z"
   },
   {
    "duration": 59,
    "start_time": "2021-11-30T13:23:33.699Z"
   },
   {
    "duration": 10,
    "start_time": "2021-11-30T13:23:33.762Z"
   },
   {
    "duration": 55,
    "start_time": "2021-11-30T13:23:33.774Z"
   },
   {
    "duration": 30,
    "start_time": "2021-11-30T13:23:33.831Z"
   },
   {
    "duration": 11,
    "start_time": "2021-11-30T13:23:33.863Z"
   },
   {
    "duration": 17,
    "start_time": "2021-11-30T13:23:33.876Z"
   },
   {
    "duration": 40,
    "start_time": "2021-11-30T13:23:33.896Z"
   },
   {
    "duration": 28,
    "start_time": "2021-11-30T13:23:33.939Z"
   },
   {
    "duration": 14,
    "start_time": "2021-11-30T13:23:33.969Z"
   },
   {
    "duration": 44,
    "start_time": "2021-11-30T13:23:33.985Z"
   },
   {
    "duration": 7,
    "start_time": "2021-11-30T13:23:34.032Z"
   },
   {
    "duration": 27,
    "start_time": "2021-11-30T13:23:34.041Z"
   },
   {
    "duration": 14,
    "start_time": "2021-11-30T13:23:34.070Z"
   },
   {
    "duration": 47,
    "start_time": "2021-11-30T13:23:34.087Z"
   },
   {
    "duration": 11,
    "start_time": "2021-11-30T13:23:34.137Z"
   },
   {
    "duration": 23,
    "start_time": "2021-11-30T13:23:34.150Z"
   },
   {
    "duration": 8,
    "start_time": "2021-11-30T13:23:34.176Z"
   },
   {
    "duration": 60,
    "start_time": "2021-11-30T13:23:34.186Z"
   },
   {
    "duration": 11,
    "start_time": "2021-11-30T13:23:34.249Z"
   },
   {
    "duration": 9,
    "start_time": "2021-11-30T13:23:34.262Z"
   },
   {
    "duration": 11,
    "start_time": "2021-11-30T13:23:34.274Z"
   },
   {
    "duration": 6,
    "start_time": "2021-11-30T13:23:34.329Z"
   },
   {
    "duration": 62,
    "start_time": "2021-11-30T13:23:34.338Z"
   },
   {
    "duration": 38,
    "start_time": "2021-11-30T13:23:34.403Z"
   },
   {
    "duration": 40,
    "start_time": "2021-11-30T13:23:34.444Z"
   },
   {
    "duration": 42,
    "start_time": "2021-11-30T13:23:34.486Z"
   },
   {
    "duration": 30,
    "start_time": "2021-11-30T13:23:34.530Z"
   },
   {
    "duration": 21,
    "start_time": "2021-11-30T13:23:34.562Z"
   },
   {
    "duration": 10,
    "start_time": "2021-11-30T13:23:34.586Z"
   },
   {
    "duration": 46,
    "start_time": "2021-11-30T13:23:34.599Z"
   },
   {
    "duration": 21,
    "start_time": "2021-11-30T13:23:34.648Z"
   },
   {
    "duration": 66,
    "start_time": "2021-11-30T13:23:34.671Z"
   },
   {
    "duration": 21,
    "start_time": "2021-11-30T13:23:34.739Z"
   },
   {
    "duration": 10,
    "start_time": "2021-11-30T13:23:34.762Z"
   },
   {
    "duration": 26,
    "start_time": "2021-11-30T13:23:34.774Z"
   },
   {
    "duration": 90,
    "start_time": "2021-11-30T13:23:34.803Z"
   },
   {
    "duration": 34,
    "start_time": "2021-11-30T13:23:34.895Z"
   },
   {
    "duration": 69,
    "start_time": "2021-11-30T13:23:34.931Z"
   },
   {
    "duration": 37,
    "start_time": "2021-11-30T13:23:35.002Z"
   },
   {
    "duration": 25,
    "start_time": "2021-11-30T13:23:35.041Z"
   },
   {
    "duration": 16,
    "start_time": "2021-11-30T13:23:35.068Z"
   },
   {
    "duration": 58,
    "start_time": "2021-11-30T13:23:35.087Z"
   },
   {
    "duration": 25,
    "start_time": "2021-11-30T13:23:35.148Z"
   },
   {
    "duration": 13,
    "start_time": "2021-11-30T13:23:35.176Z"
   },
   {
    "duration": 51,
    "start_time": "2021-11-30T13:23:35.191Z"
   },
   {
    "duration": 21,
    "start_time": "2021-11-30T13:23:35.251Z"
   },
   {
    "duration": 10,
    "start_time": "2021-11-30T13:23:35.275Z"
   },
   {
    "duration": 50,
    "start_time": "2021-11-30T13:23:35.287Z"
   },
   {
    "duration": 42,
    "start_time": "2021-11-30T13:23:35.340Z"
   },
   {
    "duration": 22,
    "start_time": "2021-11-30T13:23:35.385Z"
   },
   {
    "duration": 4,
    "start_time": "2021-11-30T13:23:35.429Z"
   },
   {
    "duration": 12,
    "start_time": "2021-11-30T13:23:35.435Z"
   },
   {
    "duration": 12,
    "start_time": "2021-11-30T13:23:35.449Z"
   },
   {
    "duration": 333,
    "start_time": "2021-11-30T13:23:35.464Z"
   },
   {
    "duration": 6,
    "start_time": "2021-11-30T13:23:35.800Z"
   },
   {
    "duration": 327,
    "start_time": "2021-11-30T13:23:35.808Z"
   },
   {
    "duration": 4,
    "start_time": "2021-11-30T13:23:36.138Z"
   },
   {
    "duration": 22,
    "start_time": "2021-11-30T13:23:36.144Z"
   },
   {
    "duration": 14,
    "start_time": "2021-11-30T13:23:36.168Z"
   },
   {
    "duration": 11,
    "start_time": "2021-11-30T13:23:36.184Z"
   },
   {
    "duration": 10,
    "start_time": "2021-11-30T13:23:36.197Z"
   },
   {
    "duration": 20,
    "start_time": "2021-11-30T13:23:36.210Z"
   },
   {
    "duration": 12,
    "start_time": "2021-11-30T13:23:36.232Z"
   },
   {
    "duration": 44,
    "start_time": "2021-11-30T13:23:36.246Z"
   },
   {
    "duration": 30,
    "start_time": "2021-11-30T13:23:36.292Z"
   },
   {
    "duration": 297,
    "start_time": "2021-11-30T13:23:36.325Z"
   },
   {
    "duration": 7,
    "start_time": "2021-11-30T13:23:36.624Z"
   },
   {
    "duration": 328,
    "start_time": "2021-11-30T13:23:36.634Z"
   },
   {
    "duration": 5,
    "start_time": "2021-11-30T13:23:36.965Z"
   },
   {
    "duration": 24,
    "start_time": "2021-11-30T13:23:36.972Z"
   },
   {
    "duration": 32,
    "start_time": "2021-11-30T13:23:36.998Z"
   },
   {
    "duration": 26,
    "start_time": "2021-11-30T13:23:37.033Z"
   },
   {
    "duration": 45,
    "start_time": "2021-11-30T13:23:37.061Z"
   },
   {
    "duration": 30,
    "start_time": "2021-11-30T13:23:37.109Z"
   },
   {
    "duration": 18,
    "start_time": "2021-11-30T13:23:37.141Z"
   },
   {
    "duration": 16,
    "start_time": "2021-11-30T13:23:37.161Z"
   },
   {
    "duration": 10,
    "start_time": "2021-11-30T13:23:37.180Z"
   },
   {
    "duration": 369,
    "start_time": "2021-11-30T13:23:37.192Z"
   },
   {
    "duration": 7,
    "start_time": "2021-11-30T13:23:37.564Z"
   },
   {
    "duration": 350,
    "start_time": "2021-11-30T13:23:37.574Z"
   },
   {
    "duration": 4,
    "start_time": "2021-11-30T13:23:37.926Z"
   },
   {
    "duration": 12,
    "start_time": "2021-11-30T13:23:37.933Z"
   },
   {
    "duration": 10,
    "start_time": "2021-11-30T13:23:37.947Z"
   },
   {
    "duration": 14,
    "start_time": "2021-11-30T13:23:37.959Z"
   },
   {
    "duration": 16,
    "start_time": "2021-11-30T13:23:37.976Z"
   },
   {
    "duration": 8,
    "start_time": "2021-11-30T13:23:37.994Z"
   },
   {
    "duration": 9,
    "start_time": "2021-11-30T13:23:38.030Z"
   },
   {
    "duration": 17,
    "start_time": "2021-11-30T13:23:38.041Z"
   },
   {
    "duration": 7,
    "start_time": "2021-11-30T13:23:38.061Z"
   },
   {
    "duration": 11,
    "start_time": "2021-11-30T13:23:38.071Z"
   },
   {
    "duration": 44,
    "start_time": "2021-11-30T13:23:38.085Z"
   },
   {
    "duration": 7,
    "start_time": "2021-11-30T13:23:38.132Z"
   },
   {
    "duration": 9,
    "start_time": "2021-11-30T13:23:38.142Z"
   },
   {
    "duration": 18,
    "start_time": "2021-11-30T13:23:38.153Z"
   },
   {
    "duration": 30,
    "start_time": "2021-11-30T13:23:38.174Z"
   },
   {
    "duration": 29,
    "start_time": "2021-11-30T13:23:38.206Z"
   },
   {
    "duration": 32,
    "start_time": "2021-11-30T13:23:38.239Z"
   },
   {
    "duration": 50,
    "start_time": "2021-11-30T13:23:38.274Z"
   },
   {
    "duration": 86,
    "start_time": "2021-11-30T13:23:38.327Z"
   },
   {
    "duration": 8,
    "start_time": "2021-11-30T13:23:38.416Z"
   },
   {
    "duration": 28,
    "start_time": "2021-11-30T13:23:38.427Z"
   },
   {
    "duration": 1170,
    "start_time": "2021-11-30T13:36:38.723Z"
   },
   {
    "duration": 10,
    "start_time": "2021-11-30T13:36:52.102Z"
   },
   {
    "duration": 9,
    "start_time": "2021-11-30T13:37:27.978Z"
   },
   {
    "duration": 19,
    "start_time": "2021-11-30T13:37:37.746Z"
   },
   {
    "duration": 16,
    "start_time": "2021-11-30T13:38:02.697Z"
   },
   {
    "duration": 1383,
    "start_time": "2021-11-30T13:44:02.953Z"
   },
   {
    "duration": 4,
    "start_time": "2021-11-30T13:47:09.486Z"
   },
   {
    "duration": 282,
    "start_time": "2021-11-30T13:47:26.169Z"
   },
   {
    "duration": 5,
    "start_time": "2021-11-30T13:47:41.305Z"
   },
   {
    "duration": 12,
    "start_time": "2021-11-30T13:47:43.770Z"
   },
   {
    "duration": 4,
    "start_time": "2021-11-30T13:47:48.135Z"
   },
   {
    "duration": 534,
    "start_time": "2021-11-30T13:47:48.153Z"
   },
   {
    "duration": 11,
    "start_time": "2021-11-30T13:47:48.690Z"
   },
   {
    "duration": 33,
    "start_time": "2021-11-30T13:47:48.704Z"
   },
   {
    "duration": 39,
    "start_time": "2021-11-30T13:47:48.740Z"
   },
   {
    "duration": 4,
    "start_time": "2021-11-30T13:47:48.782Z"
   },
   {
    "duration": 8,
    "start_time": "2021-11-30T13:47:48.788Z"
   },
   {
    "duration": 37,
    "start_time": "2021-11-30T13:47:48.799Z"
   },
   {
    "duration": 15,
    "start_time": "2021-11-30T13:47:48.840Z"
   },
   {
    "duration": 23,
    "start_time": "2021-11-30T13:47:48.858Z"
   },
   {
    "duration": 66,
    "start_time": "2021-11-30T13:47:48.883Z"
   },
   {
    "duration": 13,
    "start_time": "2021-11-30T13:47:48.951Z"
   },
   {
    "duration": 25,
    "start_time": "2021-11-30T13:47:48.967Z"
   },
   {
    "duration": 43,
    "start_time": "2021-11-30T13:47:48.994Z"
   },
   {
    "duration": 29,
    "start_time": "2021-11-30T13:47:49.039Z"
   },
   {
    "duration": 12,
    "start_time": "2021-11-30T13:47:49.070Z"
   },
   {
    "duration": 45,
    "start_time": "2021-11-30T13:47:49.085Z"
   },
   {
    "duration": 22,
    "start_time": "2021-11-30T13:47:49.132Z"
   },
   {
    "duration": 20,
    "start_time": "2021-11-30T13:47:49.157Z"
   },
   {
    "duration": 17,
    "start_time": "2021-11-30T13:47:49.179Z"
   },
   {
    "duration": 55,
    "start_time": "2021-11-30T13:47:49.198Z"
   },
   {
    "duration": 50,
    "start_time": "2021-11-30T13:47:49.255Z"
   },
   {
    "duration": 30,
    "start_time": "2021-11-30T13:47:49.307Z"
   },
   {
    "duration": 22,
    "start_time": "2021-11-30T13:47:49.344Z"
   },
   {
    "duration": 72,
    "start_time": "2021-11-30T13:47:49.370Z"
   },
   {
    "duration": 11,
    "start_time": "2021-11-30T13:47:49.444Z"
   },
   {
    "duration": 36,
    "start_time": "2021-11-30T13:47:49.457Z"
   },
   {
    "duration": 50,
    "start_time": "2021-11-30T13:47:49.496Z"
   },
   {
    "duration": 11,
    "start_time": "2021-11-30T13:47:49.548Z"
   },
   {
    "duration": 15,
    "start_time": "2021-11-30T13:47:49.561Z"
   },
   {
    "duration": 23,
    "start_time": "2021-11-30T13:47:49.579Z"
   },
   {
    "duration": 39,
    "start_time": "2021-11-30T13:47:49.604Z"
   },
   {
    "duration": 21,
    "start_time": "2021-11-30T13:47:49.646Z"
   },
   {
    "duration": 24,
    "start_time": "2021-11-30T13:47:49.669Z"
   },
   {
    "duration": 15,
    "start_time": "2021-11-30T13:47:49.695Z"
   },
   {
    "duration": 35,
    "start_time": "2021-11-30T13:47:49.714Z"
   },
   {
    "duration": 12,
    "start_time": "2021-11-30T13:47:49.751Z"
   },
   {
    "duration": 15,
    "start_time": "2021-11-30T13:47:49.765Z"
   },
   {
    "duration": 26,
    "start_time": "2021-11-30T13:47:49.782Z"
   },
   {
    "duration": 40,
    "start_time": "2021-11-30T13:47:49.811Z"
   },
   {
    "duration": 22,
    "start_time": "2021-11-30T13:47:49.854Z"
   },
   {
    "duration": 35,
    "start_time": "2021-11-30T13:47:49.879Z"
   },
   {
    "duration": 19,
    "start_time": "2021-11-30T13:47:49.917Z"
   },
   {
    "duration": 18,
    "start_time": "2021-11-30T13:47:49.938Z"
   },
   {
    "duration": 20,
    "start_time": "2021-11-30T13:47:49.959Z"
   },
   {
    "duration": 14,
    "start_time": "2021-11-30T13:47:49.982Z"
   },
   {
    "duration": 76,
    "start_time": "2021-11-30T13:47:50.000Z"
   },
   {
    "duration": 20,
    "start_time": "2021-11-30T13:47:50.079Z"
   },
   {
    "duration": 60,
    "start_time": "2021-11-30T13:47:50.102Z"
   },
   {
    "duration": 20,
    "start_time": "2021-11-30T13:47:50.165Z"
   },
   {
    "duration": 52,
    "start_time": "2021-11-30T13:47:50.188Z"
   },
   {
    "duration": 20,
    "start_time": "2021-11-30T13:47:50.243Z"
   },
   {
    "duration": 28,
    "start_time": "2021-11-30T13:47:50.266Z"
   },
   {
    "duration": 34,
    "start_time": "2021-11-30T13:47:50.296Z"
   },
   {
    "duration": 21,
    "start_time": "2021-11-30T13:47:50.332Z"
   },
   {
    "duration": 32,
    "start_time": "2021-11-30T13:47:50.355Z"
   },
   {
    "duration": 48,
    "start_time": "2021-11-30T13:47:50.389Z"
   },
   {
    "duration": 28,
    "start_time": "2021-11-30T13:47:50.439Z"
   },
   {
    "duration": 41,
    "start_time": "2021-11-30T13:47:50.470Z"
   },
   {
    "duration": 85,
    "start_time": "2021-11-30T13:47:50.513Z"
   },
   {
    "duration": 29,
    "start_time": "2021-11-30T13:47:50.600Z"
   },
   {
    "duration": 80,
    "start_time": "2021-11-30T13:47:50.631Z"
   },
   {
    "duration": 29,
    "start_time": "2021-11-30T13:47:50.713Z"
   },
   {
    "duration": 20,
    "start_time": "2021-11-30T13:47:50.744Z"
   },
   {
    "duration": 28,
    "start_time": "2021-11-30T13:47:50.767Z"
   },
   {
    "duration": 38,
    "start_time": "2021-11-30T13:47:50.797Z"
   },
   {
    "duration": 25,
    "start_time": "2021-11-30T13:47:50.838Z"
   },
   {
    "duration": 13,
    "start_time": "2021-11-30T13:47:50.865Z"
   },
   {
    "duration": 49,
    "start_time": "2021-11-30T13:47:50.888Z"
   },
   {
    "duration": 20,
    "start_time": "2021-11-30T13:47:50.944Z"
   },
   {
    "duration": 30,
    "start_time": "2021-11-30T13:47:50.966Z"
   },
   {
    "duration": 30,
    "start_time": "2021-11-30T13:47:50.999Z"
   },
   {
    "duration": 53,
    "start_time": "2021-11-30T13:47:51.032Z"
   },
   {
    "duration": 22,
    "start_time": "2021-11-30T13:47:51.088Z"
   },
   {
    "duration": 26,
    "start_time": "2021-11-30T13:47:51.113Z"
   },
   {
    "duration": 25,
    "start_time": "2021-11-30T13:47:51.141Z"
   },
   {
    "duration": 26,
    "start_time": "2021-11-30T13:47:51.168Z"
   },
   {
    "duration": 5,
    "start_time": "2021-11-30T13:47:51.198Z"
   },
   {
    "duration": 20,
    "start_time": "2021-11-30T13:47:51.206Z"
   },
   {
    "duration": 27,
    "start_time": "2021-11-30T13:47:51.230Z"
   },
   {
    "duration": 313,
    "start_time": "2021-11-30T13:47:51.260Z"
   },
   {
    "duration": 8,
    "start_time": "2021-11-30T13:47:51.576Z"
   },
   {
    "duration": 339,
    "start_time": "2021-11-30T13:47:51.586Z"
   },
   {
    "duration": 5,
    "start_time": "2021-11-30T13:47:51.928Z"
   },
   {
    "duration": 8,
    "start_time": "2021-11-30T13:47:51.936Z"
   },
   {
    "duration": 9,
    "start_time": "2021-11-30T13:47:51.947Z"
   },
   {
    "duration": 8,
    "start_time": "2021-11-30T13:47:51.959Z"
   },
   {
    "duration": 6,
    "start_time": "2021-11-30T13:47:51.969Z"
   },
   {
    "duration": 51,
    "start_time": "2021-11-30T13:47:51.978Z"
   },
   {
    "duration": 4,
    "start_time": "2021-11-30T13:47:52.032Z"
   },
   {
    "duration": 23,
    "start_time": "2021-11-30T13:47:52.039Z"
   },
   {
    "duration": 8,
    "start_time": "2021-11-30T13:47:52.065Z"
   },
   {
    "duration": 308,
    "start_time": "2021-11-30T13:47:52.075Z"
   },
   {
    "duration": 6,
    "start_time": "2021-11-30T13:47:52.385Z"
   },
   {
    "duration": 331,
    "start_time": "2021-11-30T13:47:52.393Z"
   },
   {
    "duration": 5,
    "start_time": "2021-11-30T13:47:52.729Z"
   },
   {
    "duration": 16,
    "start_time": "2021-11-30T13:47:52.736Z"
   },
   {
    "duration": 8,
    "start_time": "2021-11-30T13:47:52.755Z"
   },
   {
    "duration": 13,
    "start_time": "2021-11-30T13:47:52.765Z"
   },
   {
    "duration": 4,
    "start_time": "2021-11-30T13:47:52.781Z"
   },
   {
    "duration": 9,
    "start_time": "2021-11-30T13:47:52.788Z"
   },
   {
    "duration": 29,
    "start_time": "2021-11-30T13:47:52.800Z"
   },
   {
    "duration": 8,
    "start_time": "2021-11-30T13:47:52.832Z"
   },
   {
    "duration": 9,
    "start_time": "2021-11-30T13:47:52.842Z"
   },
   {
    "duration": 349,
    "start_time": "2021-11-30T13:47:52.854Z"
   },
   {
    "duration": 7,
    "start_time": "2021-11-30T13:47:53.206Z"
   },
   {
    "duration": 350,
    "start_time": "2021-11-30T13:47:53.230Z"
   },
   {
    "duration": 5,
    "start_time": "2021-11-30T13:47:53.582Z"
   },
   {
    "duration": 13,
    "start_time": "2021-11-30T13:47:53.589Z"
   },
   {
    "duration": 25,
    "start_time": "2021-11-30T13:47:53.604Z"
   },
   {
    "duration": 11,
    "start_time": "2021-11-30T13:47:53.632Z"
   },
   {
    "duration": 15,
    "start_time": "2021-11-30T13:47:53.645Z"
   },
   {
    "duration": 7,
    "start_time": "2021-11-30T13:47:53.662Z"
   },
   {
    "duration": 9,
    "start_time": "2021-11-30T13:47:53.672Z"
   },
   {
    "duration": 9,
    "start_time": "2021-11-30T13:47:53.683Z"
   },
   {
    "duration": 8,
    "start_time": "2021-11-30T13:47:53.694Z"
   },
   {
    "duration": 14,
    "start_time": "2021-11-30T13:47:53.730Z"
   },
   {
    "duration": 21,
    "start_time": "2021-11-30T13:47:53.746Z"
   },
   {
    "duration": 12,
    "start_time": "2021-11-30T13:47:53.770Z"
   },
   {
    "duration": 19,
    "start_time": "2021-11-30T13:47:53.784Z"
   },
   {
    "duration": 29,
    "start_time": "2021-11-30T13:47:53.805Z"
   },
   {
    "duration": 26,
    "start_time": "2021-11-30T13:47:53.836Z"
   },
   {
    "duration": 7,
    "start_time": "2021-11-30T13:47:53.865Z"
   },
   {
    "duration": 11,
    "start_time": "2021-11-30T13:47:53.875Z"
   },
   {
    "duration": 49,
    "start_time": "2021-11-30T13:47:53.889Z"
   },
   {
    "duration": 49,
    "start_time": "2021-11-30T13:47:53.940Z"
   },
   {
    "duration": 8,
    "start_time": "2021-11-30T13:47:53.992Z"
   },
   {
    "duration": 31,
    "start_time": "2021-11-30T13:47:54.003Z"
   },
   {
    "duration": 5,
    "start_time": "2021-11-30T13:55:51.829Z"
   },
   {
    "duration": 14,
    "start_time": "2021-11-30T13:55:52.485Z"
   },
   {
    "duration": 12,
    "start_time": "2021-11-30T13:55:54.816Z"
   },
   {
    "duration": 17,
    "start_time": "2021-11-30T13:56:00.184Z"
   },
   {
    "duration": 9,
    "start_time": "2021-11-30T13:56:01.722Z"
   },
   {
    "duration": 283,
    "start_time": "2021-11-30T13:56:02.110Z"
   },
   {
    "duration": 5,
    "start_time": "2021-11-30T13:56:02.595Z"
   },
   {
    "duration": 6,
    "start_time": "2021-11-30T13:56:14.329Z"
   },
   {
    "duration": 14,
    "start_time": "2021-11-30T13:56:27.267Z"
   },
   {
    "duration": 3,
    "start_time": "2021-11-30T13:56:58.063Z"
   },
   {
    "duration": 539,
    "start_time": "2021-11-30T13:56:58.073Z"
   },
   {
    "duration": 11,
    "start_time": "2021-11-30T13:56:58.615Z"
   },
   {
    "duration": 30,
    "start_time": "2021-11-30T13:56:58.628Z"
   },
   {
    "duration": 40,
    "start_time": "2021-11-30T13:56:58.661Z"
   },
   {
    "duration": 3,
    "start_time": "2021-11-30T13:56:58.730Z"
   },
   {
    "duration": 10,
    "start_time": "2021-11-30T13:56:58.735Z"
   },
   {
    "duration": 12,
    "start_time": "2021-11-30T13:56:58.748Z"
   },
   {
    "duration": 13,
    "start_time": "2021-11-30T13:56:58.764Z"
   },
   {
    "duration": 68,
    "start_time": "2021-11-30T13:56:58.780Z"
   },
   {
    "duration": 27,
    "start_time": "2021-11-30T13:56:58.851Z"
   },
   {
    "duration": 12,
    "start_time": "2021-11-30T13:56:58.881Z"
   },
   {
    "duration": 36,
    "start_time": "2021-11-30T13:56:58.895Z"
   },
   {
    "duration": 13,
    "start_time": "2021-11-30T13:56:58.934Z"
   },
   {
    "duration": 23,
    "start_time": "2021-11-30T13:56:58.950Z"
   },
   {
    "duration": 67,
    "start_time": "2021-11-30T13:56:58.976Z"
   },
   {
    "duration": 13,
    "start_time": "2021-11-30T13:56:59.046Z"
   },
   {
    "duration": 13,
    "start_time": "2021-11-30T13:56:59.062Z"
   },
   {
    "duration": 52,
    "start_time": "2021-11-30T13:56:59.077Z"
   },
   {
    "duration": 11,
    "start_time": "2021-11-30T13:56:59.132Z"
   },
   {
    "duration": 14,
    "start_time": "2021-11-30T13:56:59.146Z"
   },
   {
    "duration": 35,
    "start_time": "2021-11-30T13:56:59.162Z"
   },
   {
    "duration": 52,
    "start_time": "2021-11-30T13:56:59.230Z"
   },
   {
    "duration": 13,
    "start_time": "2021-11-30T13:56:59.288Z"
   },
   {
    "duration": 22,
    "start_time": "2021-11-30T13:56:59.331Z"
   },
   {
    "duration": 36,
    "start_time": "2021-11-30T13:56:59.355Z"
   },
   {
    "duration": 39,
    "start_time": "2021-11-30T13:56:59.394Z"
   },
   {
    "duration": 25,
    "start_time": "2021-11-30T13:56:59.436Z"
   },
   {
    "duration": 29,
    "start_time": "2021-11-30T13:56:59.464Z"
   },
   {
    "duration": 43,
    "start_time": "2021-11-30T13:56:59.495Z"
   },
   {
    "duration": 7,
    "start_time": "2021-11-30T13:56:59.541Z"
   },
   {
    "duration": 13,
    "start_time": "2021-11-30T13:56:59.550Z"
   },
   {
    "duration": 20,
    "start_time": "2021-11-30T13:56:59.565Z"
   },
   {
    "duration": 46,
    "start_time": "2021-11-30T13:56:59.587Z"
   },
   {
    "duration": 18,
    "start_time": "2021-11-30T13:56:59.636Z"
   },
   {
    "duration": 7,
    "start_time": "2021-11-30T13:56:59.657Z"
   },
   {
    "duration": 22,
    "start_time": "2021-11-30T13:56:59.666Z"
   },
   {
    "duration": 11,
    "start_time": "2021-11-30T13:56:59.730Z"
   },
   {
    "duration": 8,
    "start_time": "2021-11-30T13:56:59.743Z"
   },
   {
    "duration": 10,
    "start_time": "2021-11-30T13:56:59.753Z"
   },
   {
    "duration": 25,
    "start_time": "2021-11-30T13:56:59.765Z"
   },
   {
    "duration": 6,
    "start_time": "2021-11-30T13:56:59.830Z"
   },
   {
    "duration": 28,
    "start_time": "2021-11-30T13:56:59.838Z"
   },
   {
    "duration": 10,
    "start_time": "2021-11-30T13:56:59.868Z"
   },
   {
    "duration": 8,
    "start_time": "2021-11-30T13:56:59.881Z"
   },
   {
    "duration": 47,
    "start_time": "2021-11-30T13:56:59.891Z"
   },
   {
    "duration": 5,
    "start_time": "2021-11-30T13:56:59.941Z"
   },
   {
    "duration": 81,
    "start_time": "2021-11-30T13:56:59.948Z"
   },
   {
    "duration": 20,
    "start_time": "2021-11-30T13:57:00.031Z"
   },
   {
    "duration": 44,
    "start_time": "2021-11-30T13:57:00.053Z"
   },
   {
    "duration": 43,
    "start_time": "2021-11-30T13:57:00.099Z"
   },
   {
    "duration": 51,
    "start_time": "2021-11-30T13:57:00.144Z"
   },
   {
    "duration": 24,
    "start_time": "2021-11-30T13:57:00.197Z"
   },
   {
    "duration": 10,
    "start_time": "2021-11-30T13:57:00.230Z"
   },
   {
    "duration": 42,
    "start_time": "2021-11-30T13:57:00.242Z"
   },
   {
    "duration": 39,
    "start_time": "2021-11-30T13:57:00.286Z"
   },
   {
    "duration": 54,
    "start_time": "2021-11-30T13:57:00.327Z"
   },
   {
    "duration": 22,
    "start_time": "2021-11-30T13:57:00.384Z"
   },
   {
    "duration": 23,
    "start_time": "2021-11-30T13:57:00.409Z"
   },
   {
    "duration": 52,
    "start_time": "2021-11-30T13:57:00.434Z"
   },
   {
    "duration": 132,
    "start_time": "2021-11-30T13:57:00.489Z"
   },
   {
    "duration": 33,
    "start_time": "2021-11-30T13:57:00.624Z"
   },
   {
    "duration": 95,
    "start_time": "2021-11-30T13:57:00.659Z"
   },
   {
    "duration": 18,
    "start_time": "2021-11-30T13:57:00.757Z"
   },
   {
    "duration": 32,
    "start_time": "2021-11-30T13:57:00.778Z"
   },
   {
    "duration": 151,
    "start_time": "2021-11-30T13:57:00.829Z"
   },
   {
    "duration": 34,
    "start_time": "2021-11-30T13:57:00.983Z"
   },
   {
    "duration": 54,
    "start_time": "2021-11-30T13:57:01.020Z"
   },
   {
    "duration": 13,
    "start_time": "2021-11-30T13:57:01.085Z"
   },
   {
    "duration": 41,
    "start_time": "2021-11-30T13:57:01.102Z"
   },
   {
    "duration": 20,
    "start_time": "2021-11-30T13:57:01.146Z"
   },
   {
    "duration": 55,
    "start_time": "2021-11-30T13:57:01.168Z"
   },
   {
    "duration": 68,
    "start_time": "2021-11-30T13:57:01.225Z"
   },
   {
    "duration": 111,
    "start_time": "2021-11-30T13:57:01.295Z"
   },
   {
    "duration": 31,
    "start_time": "2021-11-30T13:57:01.409Z"
   },
   {
    "duration": 20,
    "start_time": "2021-11-30T13:57:01.443Z"
   },
   {
    "duration": 11,
    "start_time": "2021-11-30T13:57:01.465Z"
   },
   {
    "duration": 13,
    "start_time": "2021-11-30T13:57:01.479Z"
   },
   {
    "duration": 16,
    "start_time": "2021-11-30T13:57:01.495Z"
   },
   {
    "duration": 13,
    "start_time": "2021-11-30T13:57:01.514Z"
   },
   {
    "duration": 16,
    "start_time": "2021-11-30T13:57:01.529Z"
   },
   {
    "duration": 344,
    "start_time": "2021-11-30T13:57:01.547Z"
   },
   {
    "duration": 6,
    "start_time": "2021-11-30T13:57:01.893Z"
   },
   {
    "duration": 337,
    "start_time": "2021-11-30T13:57:01.901Z"
   },
   {
    "duration": 4,
    "start_time": "2021-11-30T13:57:02.240Z"
   },
   {
    "duration": 14,
    "start_time": "2021-11-30T13:57:02.247Z"
   },
   {
    "duration": 11,
    "start_time": "2021-11-30T13:57:02.263Z"
   },
   {
    "duration": 21,
    "start_time": "2021-11-30T13:57:02.276Z"
   },
   {
    "duration": 16,
    "start_time": "2021-11-30T13:57:02.300Z"
   },
   {
    "duration": 23,
    "start_time": "2021-11-30T13:57:02.319Z"
   },
   {
    "duration": 35,
    "start_time": "2021-11-30T13:57:02.345Z"
   },
   {
    "duration": 21,
    "start_time": "2021-11-30T13:57:02.382Z"
   },
   {
    "duration": 15,
    "start_time": "2021-11-30T13:57:02.406Z"
   },
   {
    "duration": 293,
    "start_time": "2021-11-30T13:57:02.423Z"
   },
   {
    "duration": 14,
    "start_time": "2021-11-30T13:57:02.718Z"
   },
   {
    "duration": 344,
    "start_time": "2021-11-30T13:57:02.735Z"
   },
   {
    "duration": 5,
    "start_time": "2021-11-30T13:57:03.082Z"
   },
   {
    "duration": 11,
    "start_time": "2021-11-30T13:57:03.089Z"
   },
   {
    "duration": 33,
    "start_time": "2021-11-30T13:57:03.103Z"
   },
   {
    "duration": 11,
    "start_time": "2021-11-30T13:57:03.139Z"
   },
   {
    "duration": 7,
    "start_time": "2021-11-30T13:57:03.153Z"
   },
   {
    "duration": 9,
    "start_time": "2021-11-30T13:57:03.163Z"
   },
   {
    "duration": 9,
    "start_time": "2021-11-30T13:57:03.174Z"
   },
   {
    "duration": 14,
    "start_time": "2021-11-30T13:57:03.186Z"
   },
   {
    "duration": 29,
    "start_time": "2021-11-30T13:57:03.202Z"
   },
   {
    "duration": 502,
    "start_time": "2021-11-30T13:57:03.233Z"
   },
   {
    "duration": 6,
    "start_time": "2021-11-30T13:57:03.737Z"
   },
   {
    "duration": 348,
    "start_time": "2021-11-30T13:57:03.745Z"
   },
   {
    "duration": 4,
    "start_time": "2021-11-30T13:57:04.095Z"
   },
   {
    "duration": 13,
    "start_time": "2021-11-30T13:57:04.101Z"
   },
   {
    "duration": 6,
    "start_time": "2021-11-30T13:57:04.128Z"
   },
   {
    "duration": 13,
    "start_time": "2021-11-30T13:57:04.136Z"
   },
   {
    "duration": 10,
    "start_time": "2021-11-30T13:57:04.151Z"
   },
   {
    "duration": 16,
    "start_time": "2021-11-30T13:57:04.163Z"
   },
   {
    "duration": 11,
    "start_time": "2021-11-30T13:57:04.181Z"
   },
   {
    "duration": 8,
    "start_time": "2021-11-30T13:57:04.194Z"
   },
   {
    "duration": 9,
    "start_time": "2021-11-30T13:57:04.204Z"
   },
   {
    "duration": 17,
    "start_time": "2021-11-30T13:57:04.216Z"
   },
   {
    "duration": 35,
    "start_time": "2021-11-30T13:57:04.236Z"
   },
   {
    "duration": 11,
    "start_time": "2021-11-30T13:57:04.273Z"
   },
   {
    "duration": 24,
    "start_time": "2021-11-30T13:57:04.286Z"
   },
   {
    "duration": 15,
    "start_time": "2021-11-30T13:57:04.313Z"
   },
   {
    "duration": 20,
    "start_time": "2021-11-30T13:57:04.330Z"
   },
   {
    "duration": 6,
    "start_time": "2021-11-30T13:57:04.352Z"
   },
   {
    "duration": 14,
    "start_time": "2021-11-30T13:57:04.360Z"
   },
   {
    "duration": 16,
    "start_time": "2021-11-30T13:57:04.376Z"
   },
   {
    "duration": 74,
    "start_time": "2021-11-30T13:57:04.394Z"
   },
   {
    "duration": 7,
    "start_time": "2021-11-30T13:57:04.470Z"
   },
   {
    "duration": 12,
    "start_time": "2021-11-30T13:57:04.480Z"
   },
   {
    "duration": 13,
    "start_time": "2021-11-30T13:57:54.197Z"
   },
   {
    "duration": 5,
    "start_time": "2021-11-30T13:58:29.340Z"
   },
   {
    "duration": 13,
    "start_time": "2021-11-30T13:58:39.460Z"
   },
   {
    "duration": 4,
    "start_time": "2021-11-30T14:00:39.362Z"
   },
   {
    "duration": 19,
    "start_time": "2021-11-30T14:00:48.083Z"
   },
   {
    "duration": 707,
    "start_time": "2021-11-30T14:06:33.584Z"
   },
   {
    "duration": 617,
    "start_time": "2021-11-30T14:06:34.294Z"
   },
   {
    "duration": 21,
    "start_time": "2021-11-30T14:06:34.914Z"
   },
   {
    "duration": 31,
    "start_time": "2021-11-30T14:06:34.938Z"
   },
   {
    "duration": 62,
    "start_time": "2021-11-30T14:06:34.972Z"
   },
   {
    "duration": 3,
    "start_time": "2021-11-30T14:06:35.037Z"
   },
   {
    "duration": 16,
    "start_time": "2021-11-30T14:06:35.043Z"
   },
   {
    "duration": 12,
    "start_time": "2021-11-30T14:06:35.063Z"
   },
   {
    "duration": 16,
    "start_time": "2021-11-30T14:06:35.078Z"
   },
   {
    "duration": 43,
    "start_time": "2021-11-30T14:06:35.097Z"
   },
   {
    "duration": 32,
    "start_time": "2021-11-30T14:06:35.143Z"
   },
   {
    "duration": 14,
    "start_time": "2021-11-30T14:06:35.178Z"
   },
   {
    "duration": 34,
    "start_time": "2021-11-30T14:06:35.195Z"
   },
   {
    "duration": 12,
    "start_time": "2021-11-30T14:06:35.232Z"
   },
   {
    "duration": 7,
    "start_time": "2021-11-30T14:06:35.246Z"
   },
   {
    "duration": 13,
    "start_time": "2021-11-30T14:06:35.255Z"
   },
   {
    "duration": 1206,
    "start_time": "2021-11-30T14:06:35.270Z"
   },
   {
    "duration": 172646,
    "start_time": "2021-11-30T14:03:43.839Z"
   },
   {
    "duration": 172595,
    "start_time": "2021-11-30T14:03:43.892Z"
   },
   {
    "duration": 172578,
    "start_time": "2021-11-30T14:03:43.911Z"
   },
   {
    "duration": 172568,
    "start_time": "2021-11-30T14:03:43.923Z"
   },
   {
    "duration": 172536,
    "start_time": "2021-11-30T14:03:43.957Z"
   },
   {
    "duration": 172527,
    "start_time": "2021-11-30T14:03:43.969Z"
   },
   {
    "duration": 172515,
    "start_time": "2021-11-30T14:03:43.982Z"
   },
   {
    "duration": 172507,
    "start_time": "2021-11-30T14:03:43.992Z"
   },
   {
    "duration": 172497,
    "start_time": "2021-11-30T14:03:44.005Z"
   },
   {
    "duration": 172488,
    "start_time": "2021-11-30T14:03:44.016Z"
   },
   {
    "duration": 172479,
    "start_time": "2021-11-30T14:03:44.027Z"
   },
   {
    "duration": 172464,
    "start_time": "2021-11-30T14:03:44.044Z"
   },
   {
    "duration": 172433,
    "start_time": "2021-11-30T14:03:44.077Z"
   },
   {
    "duration": 172424,
    "start_time": "2021-11-30T14:03:44.089Z"
   },
   {
    "duration": 172409,
    "start_time": "2021-11-30T14:03:44.106Z"
   },
   {
    "duration": 172398,
    "start_time": "2021-11-30T14:03:44.119Z"
   },
   {
    "duration": 172387,
    "start_time": "2021-11-30T14:03:44.132Z"
   },
   {
    "duration": 172387,
    "start_time": "2021-11-30T14:03:44.142Z"
   },
   {
    "duration": 172374,
    "start_time": "2021-11-30T14:03:44.157Z"
   },
   {
    "duration": 172364,
    "start_time": "2021-11-30T14:03:44.169Z"
   },
   {
    "duration": 172331,
    "start_time": "2021-11-30T14:03:44.204Z"
   },
   {
    "duration": 172321,
    "start_time": "2021-11-30T14:03:44.216Z"
   },
   {
    "duration": 172312,
    "start_time": "2021-11-30T14:03:44.227Z"
   },
   {
    "duration": 172302,
    "start_time": "2021-11-30T14:03:44.238Z"
   },
   {
    "duration": 172290,
    "start_time": "2021-11-30T14:03:44.251Z"
   },
   {
    "duration": 172281,
    "start_time": "2021-11-30T14:03:44.261Z"
   },
   {
    "duration": 172271,
    "start_time": "2021-11-30T14:03:44.273Z"
   },
   {
    "duration": 172260,
    "start_time": "2021-11-30T14:03:44.285Z"
   },
   {
    "duration": 172250,
    "start_time": "2021-11-30T14:03:44.296Z"
   },
   {
    "duration": 172218,
    "start_time": "2021-11-30T14:03:44.329Z"
   },
   {
    "duration": 172207,
    "start_time": "2021-11-30T14:03:44.342Z"
   },
   {
    "duration": 172197,
    "start_time": "2021-11-30T14:03:44.353Z"
   },
   {
    "duration": 172185,
    "start_time": "2021-11-30T14:03:44.366Z"
   },
   {
    "duration": 172177,
    "start_time": "2021-11-30T14:03:44.375Z"
   },
   {
    "duration": 172166,
    "start_time": "2021-11-30T14:03:44.388Z"
   },
   {
    "duration": 172155,
    "start_time": "2021-11-30T14:03:44.400Z"
   },
   {
    "duration": 172145,
    "start_time": "2021-11-30T14:03:44.411Z"
   },
   {
    "duration": 172135,
    "start_time": "2021-11-30T14:03:44.422Z"
   },
   {
    "duration": 172102,
    "start_time": "2021-11-30T14:03:44.456Z"
   },
   {
    "duration": 172093,
    "start_time": "2021-11-30T14:03:44.467Z"
   },
   {
    "duration": 172082,
    "start_time": "2021-11-30T14:03:44.479Z"
   },
   {
    "duration": 172072,
    "start_time": "2021-11-30T14:03:44.490Z"
   },
   {
    "duration": 172061,
    "start_time": "2021-11-30T14:03:44.503Z"
   },
   {
    "duration": 172052,
    "start_time": "2021-11-30T14:03:44.513Z"
   },
   {
    "duration": 172041,
    "start_time": "2021-11-30T14:03:44.525Z"
   },
   {
    "duration": 172031,
    "start_time": "2021-11-30T14:03:44.536Z"
   },
   {
    "duration": 172081,
    "start_time": "2021-11-30T14:03:44.548Z"
   },
   {
    "duration": 172049,
    "start_time": "2021-11-30T14:03:44.582Z"
   },
   {
    "duration": 172038,
    "start_time": "2021-11-30T14:03:44.594Z"
   },
   {
    "duration": 172029,
    "start_time": "2021-11-30T14:03:44.605Z"
   },
   {
    "duration": 172017,
    "start_time": "2021-11-30T14:03:44.618Z"
   },
   {
    "duration": 172008,
    "start_time": "2021-11-30T14:03:44.628Z"
   },
   {
    "duration": 171997,
    "start_time": "2021-11-30T14:03:44.640Z"
   },
   {
    "duration": 171988,
    "start_time": "2021-11-30T14:03:44.651Z"
   },
   {
    "duration": 171978,
    "start_time": "2021-11-30T14:03:44.662Z"
   },
   {
    "duration": 171968,
    "start_time": "2021-11-30T14:03:44.673Z"
   },
   {
    "duration": 171935,
    "start_time": "2021-11-30T14:03:44.707Z"
   },
   {
    "duration": 171925,
    "start_time": "2021-11-30T14:03:44.718Z"
   },
   {
    "duration": 171915,
    "start_time": "2021-11-30T14:03:44.730Z"
   },
   {
    "duration": 171906,
    "start_time": "2021-11-30T14:03:44.740Z"
   },
   {
    "duration": 171895,
    "start_time": "2021-11-30T14:03:44.752Z"
   },
   {
    "duration": 171886,
    "start_time": "2021-11-30T14:03:44.763Z"
   },
   {
    "duration": 171873,
    "start_time": "2021-11-30T14:03:44.777Z"
   },
   {
    "duration": 171863,
    "start_time": "2021-11-30T14:03:44.788Z"
   },
   {
    "duration": 171856,
    "start_time": "2021-11-30T14:03:44.800Z"
   },
   {
    "duration": 171825,
    "start_time": "2021-11-30T14:03:44.833Z"
   },
   {
    "duration": 171814,
    "start_time": "2021-11-30T14:03:44.845Z"
   },
   {
    "duration": 171800,
    "start_time": "2021-11-30T14:03:44.860Z"
   },
   {
    "duration": 171787,
    "start_time": "2021-11-30T14:03:44.874Z"
   },
   {
    "duration": 171776,
    "start_time": "2021-11-30T14:03:44.886Z"
   },
   {
    "duration": 171766,
    "start_time": "2021-11-30T14:03:44.898Z"
   },
   {
    "duration": 171756,
    "start_time": "2021-11-30T14:03:44.909Z"
   },
   {
    "duration": 171746,
    "start_time": "2021-11-30T14:03:44.921Z"
   },
   {
    "duration": 171775,
    "start_time": "2021-11-30T14:03:44.953Z"
   },
   {
    "duration": 171765,
    "start_time": "2021-11-30T14:03:44.965Z"
   },
   {
    "duration": 171756,
    "start_time": "2021-11-30T14:03:44.975Z"
   },
   {
    "duration": 171744,
    "start_time": "2021-11-30T14:03:44.988Z"
   },
   {
    "duration": 171736,
    "start_time": "2021-11-30T14:03:44.998Z"
   },
   {
    "duration": 171725,
    "start_time": "2021-11-30T14:03:45.010Z"
   },
   {
    "duration": 171716,
    "start_time": "2021-11-30T14:03:45.020Z"
   },
   {
    "duration": 171706,
    "start_time": "2021-11-30T14:03:45.032Z"
   },
   {
    "duration": 171697,
    "start_time": "2021-11-30T14:03:45.042Z"
   },
   {
    "duration": 171664,
    "start_time": "2021-11-30T14:03:45.076Z"
   },
   {
    "duration": 171654,
    "start_time": "2021-11-30T14:03:45.088Z"
   },
   {
    "duration": 171643,
    "start_time": "2021-11-30T14:03:45.100Z"
   },
   {
    "duration": 171634,
    "start_time": "2021-11-30T14:03:45.110Z"
   },
   {
    "duration": 171623,
    "start_time": "2021-11-30T14:03:45.122Z"
   },
   {
    "duration": 171614,
    "start_time": "2021-11-30T14:03:45.132Z"
   },
   {
    "duration": 171604,
    "start_time": "2021-11-30T14:03:45.144Z"
   },
   {
    "duration": 171592,
    "start_time": "2021-11-30T14:03:45.157Z"
   },
   {
    "duration": 171581,
    "start_time": "2021-11-30T14:03:45.169Z"
   },
   {
    "duration": 171548,
    "start_time": "2021-11-30T14:03:45.203Z"
   },
   {
    "duration": 171531,
    "start_time": "2021-11-30T14:03:45.221Z"
   },
   {
    "duration": 171520,
    "start_time": "2021-11-30T14:03:45.234Z"
   },
   {
    "duration": 171508,
    "start_time": "2021-11-30T14:03:45.247Z"
   },
   {
    "duration": 171499,
    "start_time": "2021-11-30T14:03:45.258Z"
   },
   {
    "duration": 171488,
    "start_time": "2021-11-30T14:03:45.270Z"
   },
   {
    "duration": 171472,
    "start_time": "2021-11-30T14:03:45.287Z"
   },
   {
    "duration": 171461,
    "start_time": "2021-11-30T14:03:45.299Z"
   },
   {
    "duration": 171434,
    "start_time": "2021-11-30T14:03:45.328Z"
   },
   {
    "duration": 171423,
    "start_time": "2021-11-30T14:03:45.340Z"
   },
   {
    "duration": 171413,
    "start_time": "2021-11-30T14:03:45.351Z"
   },
   {
    "duration": 171466,
    "start_time": "2021-11-30T14:03:45.363Z"
   },
   {
    "duration": 171456,
    "start_time": "2021-11-30T14:03:45.374Z"
   },
   {
    "duration": 171445,
    "start_time": "2021-11-30T14:03:45.387Z"
   },
   {
    "duration": 171436,
    "start_time": "2021-11-30T14:03:45.397Z"
   },
   {
    "duration": 171426,
    "start_time": "2021-11-30T14:03:45.408Z"
   },
   {
    "duration": 171417,
    "start_time": "2021-11-30T14:03:45.419Z"
   },
   {
    "duration": 171385,
    "start_time": "2021-11-30T14:03:45.452Z"
   },
   {
    "duration": 171376,
    "start_time": "2021-11-30T14:03:45.462Z"
   },
   {
    "duration": 171365,
    "start_time": "2021-11-30T14:03:45.474Z"
   },
   {
    "duration": 171355,
    "start_time": "2021-11-30T14:03:45.486Z"
   },
   {
    "duration": 171344,
    "start_time": "2021-11-30T14:03:45.498Z"
   },
   {
    "duration": 171334,
    "start_time": "2021-11-30T14:03:45.509Z"
   },
   {
    "duration": 171323,
    "start_time": "2021-11-30T14:03:45.521Z"
   },
   {
    "duration": 171315,
    "start_time": "2021-11-30T14:03:45.531Z"
   },
   {
    "duration": 171306,
    "start_time": "2021-11-30T14:03:45.542Z"
   },
   {
    "duration": 4,
    "start_time": "2021-11-30T14:07:44.757Z"
   },
   {
    "duration": 531,
    "start_time": "2021-11-30T14:07:44.767Z"
   },
   {
    "duration": 12,
    "start_time": "2021-11-30T14:07:45.301Z"
   },
   {
    "duration": 30,
    "start_time": "2021-11-30T14:07:45.316Z"
   },
   {
    "duration": 43,
    "start_time": "2021-11-30T14:07:45.350Z"
   },
   {
    "duration": 3,
    "start_time": "2021-11-30T14:07:45.396Z"
   },
   {
    "duration": 8,
    "start_time": "2021-11-30T14:07:45.430Z"
   },
   {
    "duration": 15,
    "start_time": "2021-11-30T14:07:45.440Z"
   },
   {
    "duration": 12,
    "start_time": "2021-11-30T14:07:45.461Z"
   },
   {
    "duration": 72,
    "start_time": "2021-11-30T14:07:45.477Z"
   },
   {
    "duration": 36,
    "start_time": "2021-11-30T14:07:45.552Z"
   },
   {
    "duration": 48,
    "start_time": "2021-11-30T14:07:45.590Z"
   },
   {
    "duration": 7,
    "start_time": "2021-11-30T14:07:45.641Z"
   },
   {
    "duration": 13,
    "start_time": "2021-11-30T14:07:45.651Z"
   },
   {
    "duration": 8,
    "start_time": "2021-11-30T14:07:45.666Z"
   },
   {
    "duration": 12,
    "start_time": "2021-11-30T14:07:45.676Z"
   },
   {
    "duration": 1398,
    "start_time": "2021-11-30T14:07:45.730Z"
   },
   {
    "duration": 171888,
    "start_time": "2021-11-30T14:04:55.247Z"
   },
   {
    "duration": 171878,
    "start_time": "2021-11-30T14:04:55.259Z"
   },
   {
    "duration": 171863,
    "start_time": "2021-11-30T14:04:55.275Z"
   },
   {
    "duration": 171850,
    "start_time": "2021-11-30T14:04:55.289Z"
   },
   {
    "duration": 171835,
    "start_time": "2021-11-30T14:04:55.305Z"
   },
   {
    "duration": 171819,
    "start_time": "2021-11-30T14:04:55.322Z"
   },
   {
    "duration": 171775,
    "start_time": "2021-11-30T14:04:55.368Z"
   },
   {
    "duration": 171758,
    "start_time": "2021-11-30T14:04:55.386Z"
   },
   {
    "duration": 171738,
    "start_time": "2021-11-30T14:04:55.408Z"
   },
   {
    "duration": 171724,
    "start_time": "2021-11-30T14:04:55.424Z"
   },
   {
    "duration": 171708,
    "start_time": "2021-11-30T14:04:55.441Z"
   },
   {
    "duration": 171692,
    "start_time": "2021-11-30T14:04:55.458Z"
   },
   {
    "duration": 171639,
    "start_time": "2021-11-30T14:04:55.513Z"
   },
   {
    "duration": 171624,
    "start_time": "2021-11-30T14:04:55.530Z"
   },
   {
    "duration": 171610,
    "start_time": "2021-11-30T14:04:55.546Z"
   },
   {
    "duration": 171601,
    "start_time": "2021-11-30T14:04:55.557Z"
   },
   {
    "duration": 171590,
    "start_time": "2021-11-30T14:04:55.570Z"
   },
   {
    "duration": 171579,
    "start_time": "2021-11-30T14:04:55.582Z"
   },
   {
    "duration": 171568,
    "start_time": "2021-11-30T14:04:55.595Z"
   },
   {
    "duration": 171535,
    "start_time": "2021-11-30T14:04:55.629Z"
   },
   {
    "duration": 171523,
    "start_time": "2021-11-30T14:04:55.643Z"
   },
   {
    "duration": 171509,
    "start_time": "2021-11-30T14:04:55.658Z"
   },
   {
    "duration": 171495,
    "start_time": "2021-11-30T14:04:55.674Z"
   },
   {
    "duration": 171482,
    "start_time": "2021-11-30T14:04:55.689Z"
   },
   {
    "duration": 171524,
    "start_time": "2021-11-30T14:04:55.705Z"
   },
   {
    "duration": 171511,
    "start_time": "2021-11-30T14:04:55.720Z"
   },
   {
    "duration": 171467,
    "start_time": "2021-11-30T14:04:55.766Z"
   },
   {
    "duration": 171453,
    "start_time": "2021-11-30T14:04:55.781Z"
   },
   {
    "duration": 171437,
    "start_time": "2021-11-30T14:04:55.798Z"
   },
   {
    "duration": 171426,
    "start_time": "2021-11-30T14:04:55.810Z"
   },
   {
    "duration": 171407,
    "start_time": "2021-11-30T14:04:55.831Z"
   },
   {
    "duration": 171392,
    "start_time": "2021-11-30T14:04:55.848Z"
   },
   {
    "duration": 171352,
    "start_time": "2021-11-30T14:04:55.889Z"
   },
   {
    "duration": 171341,
    "start_time": "2021-11-30T14:04:55.902Z"
   },
   {
    "duration": 171326,
    "start_time": "2021-11-30T14:04:55.918Z"
   },
   {
    "duration": 171314,
    "start_time": "2021-11-30T14:04:55.931Z"
   },
   {
    "duration": 171301,
    "start_time": "2021-11-30T14:04:55.946Z"
   },
   {
    "duration": 171290,
    "start_time": "2021-11-30T14:04:55.958Z"
   },
   {
    "duration": 171280,
    "start_time": "2021-11-30T14:04:55.970Z"
   },
   {
    "duration": 171248,
    "start_time": "2021-11-30T14:04:56.004Z"
   },
   {
    "duration": 171235,
    "start_time": "2021-11-30T14:04:56.018Z"
   },
   {
    "duration": 171225,
    "start_time": "2021-11-30T14:04:56.030Z"
   },
   {
    "duration": 171213,
    "start_time": "2021-11-30T14:04:56.043Z"
   },
   {
    "duration": 171205,
    "start_time": "2021-11-30T14:04:56.053Z"
   },
   {
    "duration": 171194,
    "start_time": "2021-11-30T14:04:56.066Z"
   },
   {
    "duration": 171185,
    "start_time": "2021-11-30T14:04:56.077Z"
   },
   {
    "duration": 171174,
    "start_time": "2021-11-30T14:04:56.089Z"
   },
   {
    "duration": 171205,
    "start_time": "2021-11-30T14:04:56.123Z"
   },
   {
    "duration": 171193,
    "start_time": "2021-11-30T14:04:56.137Z"
   },
   {
    "duration": 171184,
    "start_time": "2021-11-30T14:04:56.148Z"
   },
   {
    "duration": 171174,
    "start_time": "2021-11-30T14:04:56.159Z"
   },
   {
    "duration": 171165,
    "start_time": "2021-11-30T14:04:56.170Z"
   },
   {
    "duration": 171152,
    "start_time": "2021-11-30T14:04:56.184Z"
   },
   {
    "duration": 171142,
    "start_time": "2021-11-30T14:04:56.195Z"
   },
   {
    "duration": 171131,
    "start_time": "2021-11-30T14:04:56.207Z"
   },
   {
    "duration": 171122,
    "start_time": "2021-11-30T14:04:56.218Z"
   },
   {
    "duration": 171087,
    "start_time": "2021-11-30T14:04:56.254Z"
   },
   {
    "duration": 171076,
    "start_time": "2021-11-30T14:04:56.266Z"
   },
   {
    "duration": 171062,
    "start_time": "2021-11-30T14:04:56.281Z"
   },
   {
    "duration": 171051,
    "start_time": "2021-11-30T14:04:56.293Z"
   },
   {
    "duration": 171039,
    "start_time": "2021-11-30T14:04:56.307Z"
   },
   {
    "duration": 171028,
    "start_time": "2021-11-30T14:04:56.320Z"
   },
   {
    "duration": 171014,
    "start_time": "2021-11-30T14:04:56.335Z"
   },
   {
    "duration": 171000,
    "start_time": "2021-11-30T14:04:56.351Z"
   },
   {
    "duration": 170964,
    "start_time": "2021-11-30T14:04:56.389Z"
   },
   {
    "duration": 170952,
    "start_time": "2021-11-30T14:04:56.402Z"
   },
   {
    "duration": 170942,
    "start_time": "2021-11-30T14:04:56.414Z"
   },
   {
    "duration": 170932,
    "start_time": "2021-11-30T14:04:56.426Z"
   },
   {
    "duration": 170923,
    "start_time": "2021-11-30T14:04:56.438Z"
   },
   {
    "duration": 170914,
    "start_time": "2021-11-30T14:04:56.449Z"
   },
   {
    "duration": 170904,
    "start_time": "2021-11-30T14:04:56.461Z"
   },
   {
    "duration": 170895,
    "start_time": "2021-11-30T14:04:56.471Z"
   },
   {
    "duration": 170861,
    "start_time": "2021-11-30T14:04:56.506Z"
   },
   {
    "duration": 170912,
    "start_time": "2021-11-30T14:04:56.517Z"
   },
   {
    "duration": 170900,
    "start_time": "2021-11-30T14:04:56.530Z"
   },
   {
    "duration": 170892,
    "start_time": "2021-11-30T14:04:56.540Z"
   },
   {
    "duration": 170881,
    "start_time": "2021-11-30T14:04:56.552Z"
   },
   {
    "duration": 170870,
    "start_time": "2021-11-30T14:04:56.564Z"
   },
   {
    "duration": 170861,
    "start_time": "2021-11-30T14:04:56.575Z"
   },
   {
    "duration": 170839,
    "start_time": "2021-11-30T14:04:56.598Z"
   },
   {
    "duration": 170806,
    "start_time": "2021-11-30T14:04:56.633Z"
   },
   {
    "duration": 170794,
    "start_time": "2021-11-30T14:04:56.646Z"
   },
   {
    "duration": 170782,
    "start_time": "2021-11-30T14:04:56.659Z"
   },
   {
    "duration": 170773,
    "start_time": "2021-11-30T14:04:56.669Z"
   },
   {
    "duration": 170762,
    "start_time": "2021-11-30T14:04:56.682Z"
   },
   {
    "duration": 170753,
    "start_time": "2021-11-30T14:04:56.692Z"
   },
   {
    "duration": 170742,
    "start_time": "2021-11-30T14:04:56.704Z"
   },
   {
    "duration": 170732,
    "start_time": "2021-11-30T14:04:56.716Z"
   },
   {
    "duration": 170700,
    "start_time": "2021-11-30T14:04:56.749Z"
   },
   {
    "duration": 170691,
    "start_time": "2021-11-30T14:04:56.760Z"
   },
   {
    "duration": 170680,
    "start_time": "2021-11-30T14:04:56.772Z"
   },
   {
    "duration": 170670,
    "start_time": "2021-11-30T14:04:56.783Z"
   },
   {
    "duration": 170659,
    "start_time": "2021-11-30T14:04:56.796Z"
   },
   {
    "duration": 170650,
    "start_time": "2021-11-30T14:04:56.806Z"
   },
   {
    "duration": 170640,
    "start_time": "2021-11-30T14:04:56.818Z"
   },
   {
    "duration": 170630,
    "start_time": "2021-11-30T14:04:56.829Z"
   },
   {
    "duration": 170620,
    "start_time": "2021-11-30T14:04:56.840Z"
   },
   {
    "duration": 170591,
    "start_time": "2021-11-30T14:04:56.871Z"
   },
   {
    "duration": 170578,
    "start_time": "2021-11-30T14:04:56.885Z"
   },
   {
    "duration": 170568,
    "start_time": "2021-11-30T14:04:56.896Z"
   },
   {
    "duration": 170558,
    "start_time": "2021-11-30T14:04:56.908Z"
   },
   {
    "duration": 170611,
    "start_time": "2021-11-30T14:04:56.919Z"
   },
   {
    "duration": 170536,
    "start_time": "2021-11-30T14:04:56.996Z"
   },
   {
    "duration": 170525,
    "start_time": "2021-11-30T14:04:57.009Z"
   },
   {
    "duration": 170513,
    "start_time": "2021-11-30T14:04:57.022Z"
   },
   {
    "duration": 170501,
    "start_time": "2021-11-30T14:04:57.035Z"
   },
   {
    "duration": 170487,
    "start_time": "2021-11-30T14:04:57.051Z"
   },
   {
    "duration": 170476,
    "start_time": "2021-11-30T14:04:57.063Z"
   },
   {
    "duration": 170464,
    "start_time": "2021-11-30T14:04:57.077Z"
   },
   {
    "duration": 170432,
    "start_time": "2021-11-30T14:04:57.110Z"
   },
   {
    "duration": 170419,
    "start_time": "2021-11-30T14:04:57.124Z"
   },
   {
    "duration": 170408,
    "start_time": "2021-11-30T14:04:57.137Z"
   },
   {
    "duration": 170394,
    "start_time": "2021-11-30T14:04:57.152Z"
   },
   {
    "duration": 170383,
    "start_time": "2021-11-30T14:04:57.165Z"
   },
   {
    "duration": 170370,
    "start_time": "2021-11-30T14:04:57.179Z"
   },
   {
    "duration": 170358,
    "start_time": "2021-11-30T14:04:57.192Z"
   },
   {
    "duration": 170346,
    "start_time": "2021-11-30T14:04:57.206Z"
   },
   {
    "duration": 3,
    "start_time": "2021-11-30T14:08:52.270Z"
   },
   {
    "duration": 551,
    "start_time": "2021-11-30T14:08:52.280Z"
   },
   {
    "duration": 12,
    "start_time": "2021-11-30T14:08:52.834Z"
   },
   {
    "duration": 45,
    "start_time": "2021-11-30T14:08:52.849Z"
   },
   {
    "duration": 55,
    "start_time": "2021-11-30T14:08:52.897Z"
   },
   {
    "duration": 3,
    "start_time": "2021-11-30T14:08:52.955Z"
   },
   {
    "duration": 14,
    "start_time": "2021-11-30T14:08:52.961Z"
   },
   {
    "duration": 14,
    "start_time": "2021-11-30T14:08:52.978Z"
   },
   {
    "duration": 42,
    "start_time": "2021-11-30T14:08:52.995Z"
   },
   {
    "duration": 33,
    "start_time": "2021-11-30T14:08:53.040Z"
   },
   {
    "duration": 57,
    "start_time": "2021-11-30T14:08:53.075Z"
   },
   {
    "duration": 14,
    "start_time": "2021-11-30T14:08:53.135Z"
   },
   {
    "duration": 7,
    "start_time": "2021-11-30T14:08:53.151Z"
   },
   {
    "duration": 18,
    "start_time": "2021-11-30T14:08:53.161Z"
   },
   {
    "duration": 8,
    "start_time": "2021-11-30T14:08:53.181Z"
   },
   {
    "duration": 45,
    "start_time": "2021-11-30T14:08:53.192Z"
   },
   {
    "duration": 3,
    "start_time": "2021-11-30T14:08:53.240Z"
   },
   {
    "duration": 15,
    "start_time": "2021-11-30T14:08:53.245Z"
   },
   {
    "duration": 12,
    "start_time": "2021-11-30T14:08:53.262Z"
   },
   {
    "duration": 57,
    "start_time": "2021-11-30T14:08:53.277Z"
   },
   {
    "duration": 28,
    "start_time": "2021-11-30T14:08:53.337Z"
   },
   {
    "duration": 13,
    "start_time": "2021-11-30T14:08:53.368Z"
   },
   {
    "duration": 59,
    "start_time": "2021-11-30T14:08:53.384Z"
   },
   {
    "duration": 21,
    "start_time": "2021-11-30T14:08:53.452Z"
   },
   {
    "duration": 11,
    "start_time": "2021-11-30T14:08:53.478Z"
   },
   {
    "duration": 41,
    "start_time": "2021-11-30T14:08:53.492Z"
   },
   {
    "duration": 38,
    "start_time": "2021-11-30T14:08:53.535Z"
   },
   {
    "duration": 79,
    "start_time": "2021-11-30T14:08:53.576Z"
   },
   {
    "duration": 12,
    "start_time": "2021-11-30T14:08:53.658Z"
   },
   {
    "duration": 32,
    "start_time": "2021-11-30T14:08:53.673Z"
   },
   {
    "duration": 62,
    "start_time": "2021-11-30T14:08:53.707Z"
   },
   {
    "duration": 10,
    "start_time": "2021-11-30T14:08:53.772Z"
   },
   {
    "duration": 56,
    "start_time": "2021-11-30T14:08:53.785Z"
   },
   {
    "duration": 322,
    "start_time": "2021-11-30T14:08:53.843Z"
   },
   {
    "duration": 175232,
    "start_time": "2021-11-30T14:05:58.938Z"
   },
   {
    "duration": 175199,
    "start_time": "2021-11-30T14:05:58.972Z"
   },
   {
    "duration": 175182,
    "start_time": "2021-11-30T14:05:58.991Z"
   },
   {
    "duration": 175162,
    "start_time": "2021-11-30T14:05:59.012Z"
   },
   {
    "duration": 175150,
    "start_time": "2021-11-30T14:05:59.026Z"
   },
   {
    "duration": 175099,
    "start_time": "2021-11-30T14:05:59.079Z"
   },
   {
    "duration": 174430,
    "start_time": "2021-11-30T14:05:59.749Z"
   },
   {
    "duration": 174408,
    "start_time": "2021-11-30T14:05:59.772Z"
   },
   {
    "duration": 174383,
    "start_time": "2021-11-30T14:05:59.799Z"
   },
   {
    "duration": 174367,
    "start_time": "2021-11-30T14:05:59.816Z"
   },
   {
    "duration": 174313,
    "start_time": "2021-11-30T14:05:59.871Z"
   },
   {
    "duration": 174296,
    "start_time": "2021-11-30T14:05:59.890Z"
   },
   {
    "duration": 174277,
    "start_time": "2021-11-30T14:05:59.910Z"
   },
   {
    "duration": 174263,
    "start_time": "2021-11-30T14:05:59.926Z"
   },
   {
    "duration": 174248,
    "start_time": "2021-11-30T14:05:59.943Z"
   },
   {
    "duration": 174233,
    "start_time": "2021-11-30T14:05:59.960Z"
   },
   {
    "duration": 174188,
    "start_time": "2021-11-30T14:06:00.006Z"
   },
   {
    "duration": 174170,
    "start_time": "2021-11-30T14:06:00.026Z"
   },
   {
    "duration": 174128,
    "start_time": "2021-11-30T14:06:00.069Z"
   },
   {
    "duration": 174111,
    "start_time": "2021-11-30T14:06:00.088Z"
   },
   {
    "duration": 174078,
    "start_time": "2021-11-30T14:06:00.122Z"
   },
   {
    "duration": 174016,
    "start_time": "2021-11-30T14:06:00.186Z"
   },
   {
    "duration": 174004,
    "start_time": "2021-11-30T14:06:00.200Z"
   },
   {
    "duration": 173988,
    "start_time": "2021-11-30T14:06:00.217Z"
   },
   {
    "duration": 173985,
    "start_time": "2021-11-30T14:06:00.244Z"
   },
   {
    "duration": 173938,
    "start_time": "2021-11-30T14:06:00.292Z"
   },
   {
    "duration": 173924,
    "start_time": "2021-11-30T14:06:00.308Z"
   },
   {
    "duration": 173805,
    "start_time": "2021-11-30T14:06:00.428Z"
   },
   {
    "duration": 171721,
    "start_time": "2021-11-30T14:06:02.514Z"
   },
   {
    "duration": 171657,
    "start_time": "2021-11-30T14:06:02.580Z"
   },
   {
    "duration": 171635,
    "start_time": "2021-11-30T14:06:02.603Z"
   },
   {
    "duration": 171592,
    "start_time": "2021-11-30T14:06:02.647Z"
   },
   {
    "duration": 171575,
    "start_time": "2021-11-30T14:06:02.666Z"
   },
   {
    "duration": 171536,
    "start_time": "2021-11-30T14:06:02.706Z"
   },
   {
    "duration": 171523,
    "start_time": "2021-11-30T14:06:02.721Z"
   },
   {
    "duration": 171507,
    "start_time": "2021-11-30T14:06:02.738Z"
   },
   {
    "duration": 171494,
    "start_time": "2021-11-30T14:06:02.753Z"
   },
   {
    "duration": 171471,
    "start_time": "2021-11-30T14:06:02.777Z"
   },
   {
    "duration": 171457,
    "start_time": "2021-11-30T14:06:02.793Z"
   },
   {
    "duration": 171401,
    "start_time": "2021-11-30T14:06:02.850Z"
   },
   {
    "duration": 171378,
    "start_time": "2021-11-30T14:06:02.875Z"
   },
   {
    "duration": 171360,
    "start_time": "2021-11-30T14:06:02.894Z"
   },
   {
    "duration": 171328,
    "start_time": "2021-11-30T14:06:02.928Z"
   },
   {
    "duration": 171254,
    "start_time": "2021-11-30T14:06:03.003Z"
   },
   {
    "duration": 171240,
    "start_time": "2021-11-30T14:06:03.019Z"
   },
   {
    "duration": 171221,
    "start_time": "2021-11-30T14:06:03.039Z"
   },
   {
    "duration": 171202,
    "start_time": "2021-11-30T14:06:03.060Z"
   },
   {
    "duration": 171176,
    "start_time": "2021-11-30T14:06:03.087Z"
   },
   {
    "duration": 171118,
    "start_time": "2021-11-30T14:06:03.147Z"
   },
   {
    "duration": 171103,
    "start_time": "2021-11-30T14:06:03.163Z"
   },
   {
    "duration": 171141,
    "start_time": "2021-11-30T14:06:03.189Z"
   },
   {
    "duration": 171122,
    "start_time": "2021-11-30T14:06:03.210Z"
   },
   {
    "duration": 171102,
    "start_time": "2021-11-30T14:06:03.232Z"
   },
   {
    "duration": 171042,
    "start_time": "2021-11-30T14:06:03.294Z"
   },
   {
    "duration": 171023,
    "start_time": "2021-11-30T14:06:03.314Z"
   },
   {
    "duration": 171001,
    "start_time": "2021-11-30T14:06:03.337Z"
   },
   {
    "duration": 169879,
    "start_time": "2021-11-30T14:06:04.461Z"
   },
   {
    "duration": 169845,
    "start_time": "2021-11-30T14:06:04.496Z"
   },
   {
    "duration": 169834,
    "start_time": "2021-11-30T14:06:04.508Z"
   },
   {
    "duration": 169824,
    "start_time": "2021-11-30T14:06:04.520Z"
   },
   {
    "duration": 169814,
    "start_time": "2021-11-30T14:06:04.531Z"
   },
   {
    "duration": 169798,
    "start_time": "2021-11-30T14:06:04.548Z"
   },
   {
    "duration": 169784,
    "start_time": "2021-11-30T14:06:04.563Z"
   },
   {
    "duration": 169773,
    "start_time": "2021-11-30T14:06:04.576Z"
   },
   {
    "duration": 169763,
    "start_time": "2021-11-30T14:06:04.587Z"
   },
   {
    "duration": 169729,
    "start_time": "2021-11-30T14:06:04.622Z"
   },
   {
    "duration": 169717,
    "start_time": "2021-11-30T14:06:04.635Z"
   },
   {
    "duration": 169706,
    "start_time": "2021-11-30T14:06:04.648Z"
   },
   {
    "duration": 169694,
    "start_time": "2021-11-30T14:06:04.661Z"
   },
   {
    "duration": 169683,
    "start_time": "2021-11-30T14:06:04.673Z"
   },
   {
    "duration": 169671,
    "start_time": "2021-11-30T14:06:04.686Z"
   },
   {
    "duration": 169661,
    "start_time": "2021-11-30T14:06:04.698Z"
   },
   {
    "duration": 169650,
    "start_time": "2021-11-30T14:06:04.710Z"
   },
   {
    "duration": 169610,
    "start_time": "2021-11-30T14:06:04.751Z"
   },
   {
    "duration": 169598,
    "start_time": "2021-11-30T14:06:04.764Z"
   },
   {
    "duration": 169587,
    "start_time": "2021-11-30T14:06:04.777Z"
   },
   {
    "duration": 169642,
    "start_time": "2021-11-30T14:06:04.787Z"
   },
   {
    "duration": 169630,
    "start_time": "2021-11-30T14:06:04.800Z"
   },
   {
    "duration": 169620,
    "start_time": "2021-11-30T14:06:04.812Z"
   },
   {
    "duration": 169607,
    "start_time": "2021-11-30T14:06:04.826Z"
   },
   {
    "duration": 169598,
    "start_time": "2021-11-30T14:06:04.836Z"
   },
   {
    "duration": 169566,
    "start_time": "2021-11-30T14:06:04.870Z"
   },
   {
    "duration": 169554,
    "start_time": "2021-11-30T14:06:04.883Z"
   },
   {
    "duration": 169542,
    "start_time": "2021-11-30T14:06:04.897Z"
   },
   {
    "duration": 169532,
    "start_time": "2021-11-30T14:06:04.908Z"
   },
   {
    "duration": 169522,
    "start_time": "2021-11-30T14:06:04.920Z"
   },
   {
    "duration": 169510,
    "start_time": "2021-11-30T14:06:04.933Z"
   },
   {
    "duration": 169496,
    "start_time": "2021-11-30T14:06:04.949Z"
   },
   {
    "duration": 169482,
    "start_time": "2021-11-30T14:06:04.964Z"
   },
   {
    "duration": 169442,
    "start_time": "2021-11-30T14:06:05.005Z"
   },
   {
    "duration": 169430,
    "start_time": "2021-11-30T14:06:05.019Z"
   },
   {
    "duration": 169418,
    "start_time": "2021-11-30T14:06:05.032Z"
   },
   {
    "duration": 169406,
    "start_time": "2021-11-30T14:06:05.045Z"
   },
   {
    "duration": 169394,
    "start_time": "2021-11-30T14:06:05.059Z"
   },
   {
    "duration": 169380,
    "start_time": "2021-11-30T14:06:05.074Z"
   },
   {
    "duration": 169369,
    "start_time": "2021-11-30T14:06:05.088Z"
   },
   {
    "duration": 169339,
    "start_time": "2021-11-30T14:06:05.119Z"
   },
   {
    "duration": 169329,
    "start_time": "2021-11-30T14:06:05.132Z"
   },
   {
    "duration": 169318,
    "start_time": "2021-11-30T14:06:05.144Z"
   },
   {
    "duration": 169308,
    "start_time": "2021-11-30T14:06:05.156Z"
   },
   {
    "duration": 4,
    "start_time": "2021-11-30T14:09:51.727Z"
   },
   {
    "duration": 574,
    "start_time": "2021-11-30T14:09:51.736Z"
   },
   {
    "duration": 11,
    "start_time": "2021-11-30T14:09:52.313Z"
   },
   {
    "duration": 37,
    "start_time": "2021-11-30T14:09:52.327Z"
   },
   {
    "duration": 39,
    "start_time": "2021-11-30T14:09:52.366Z"
   },
   {
    "duration": 23,
    "start_time": "2021-11-30T14:09:52.407Z"
   },
   {
    "duration": 9,
    "start_time": "2021-11-30T14:09:52.432Z"
   },
   {
    "duration": 16,
    "start_time": "2021-11-30T14:09:52.443Z"
   },
   {
    "duration": 19,
    "start_time": "2021-11-30T14:09:52.462Z"
   },
   {
    "duration": 52,
    "start_time": "2021-11-30T14:09:52.484Z"
   },
   {
    "duration": 31,
    "start_time": "2021-11-30T14:09:52.538Z"
   },
   {
    "duration": 12,
    "start_time": "2021-11-30T14:09:52.571Z"
   },
   {
    "duration": 43,
    "start_time": "2021-11-30T14:09:52.586Z"
   },
   {
    "duration": 12,
    "start_time": "2021-11-30T14:09:52.631Z"
   },
   {
    "duration": 9,
    "start_time": "2021-11-30T14:09:52.646Z"
   },
   {
    "duration": 19,
    "start_time": "2021-11-30T14:09:52.658Z"
   },
   {
    "duration": 6,
    "start_time": "2021-11-30T14:09:52.680Z"
   },
   {
    "duration": 42,
    "start_time": "2021-11-30T14:09:52.688Z"
   },
   {
    "duration": 12,
    "start_time": "2021-11-30T14:09:52.732Z"
   },
   {
    "duration": 20,
    "start_time": "2021-11-30T14:09:52.746Z"
   },
   {
    "duration": 28,
    "start_time": "2021-11-30T14:09:52.768Z"
   },
   {
    "duration": 41,
    "start_time": "2021-11-30T14:09:52.798Z"
   },
   {
    "duration": 15,
    "start_time": "2021-11-30T14:09:52.841Z"
   },
   {
    "duration": 14,
    "start_time": "2021-11-30T14:09:52.863Z"
   },
   {
    "duration": 9,
    "start_time": "2021-11-30T14:09:52.881Z"
   },
   {
    "duration": 42,
    "start_time": "2021-11-30T14:09:52.893Z"
   },
   {
    "duration": 36,
    "start_time": "2021-11-30T14:09:52.938Z"
   },
   {
    "duration": 80,
    "start_time": "2021-11-30T14:09:52.977Z"
   },
   {
    "duration": 12,
    "start_time": "2021-11-30T14:09:53.059Z"
   },
   {
    "duration": 24,
    "start_time": "2021-11-30T14:09:53.073Z"
   },
   {
    "duration": 62,
    "start_time": "2021-11-30T14:09:53.099Z"
   },
   {
    "duration": 11,
    "start_time": "2021-11-30T14:09:53.163Z"
   },
   {
    "duration": 57,
    "start_time": "2021-11-30T14:09:53.176Z"
   },
   {
    "duration": 33,
    "start_time": "2021-11-30T14:09:53.236Z"
   },
   {
    "duration": 12,
    "start_time": "2021-11-30T14:09:53.271Z"
   },
   {
    "duration": 44,
    "start_time": "2021-11-30T14:09:53.285Z"
   },
   {
    "duration": 12,
    "start_time": "2021-11-30T14:09:53.331Z"
   },
   {
    "duration": 20,
    "start_time": "2021-11-30T14:09:53.345Z"
   },
   {
    "duration": 12,
    "start_time": "2021-11-30T14:09:53.368Z"
   },
   {
    "duration": 63,
    "start_time": "2021-11-30T14:09:53.384Z"
   },
   {
    "duration": 10,
    "start_time": "2021-11-30T14:09:53.450Z"
   },
   {
    "duration": 25,
    "start_time": "2021-11-30T14:09:53.464Z"
   },
   {
    "duration": 45,
    "start_time": "2021-11-30T14:09:53.492Z"
   },
   {
    "duration": 12,
    "start_time": "2021-11-30T14:09:53.539Z"
   },
   {
    "duration": 9,
    "start_time": "2021-11-30T14:09:53.554Z"
   },
   {
    "duration": 26,
    "start_time": "2021-11-30T14:09:53.565Z"
   },
   {
    "duration": 36,
    "start_time": "2021-11-30T14:09:53.594Z"
   },
   {
    "duration": 23,
    "start_time": "2021-11-30T14:09:53.633Z"
   },
   {
    "duration": 17,
    "start_time": "2021-11-30T14:09:53.660Z"
   },
   {
    "duration": 10,
    "start_time": "2021-11-30T14:09:53.680Z"
   },
   {
    "duration": 45,
    "start_time": "2021-11-30T14:09:53.692Z"
   },
   {
    "duration": 24,
    "start_time": "2021-11-30T14:09:53.740Z"
   },
   {
    "duration": 70,
    "start_time": "2021-11-30T14:09:53.767Z"
   },
   {
    "duration": 21,
    "start_time": "2021-11-30T14:09:53.840Z"
   },
   {
    "duration": 75,
    "start_time": "2021-11-30T14:09:53.864Z"
   },
   {
    "duration": 19,
    "start_time": "2021-11-30T14:09:53.942Z"
   },
   {
    "duration": 35,
    "start_time": "2021-11-30T14:09:53.964Z"
   },
   {
    "duration": 42,
    "start_time": "2021-11-30T14:09:54.002Z"
   },
   {
    "duration": 15,
    "start_time": "2021-11-30T14:09:54.046Z"
   },
   {
    "duration": 26,
    "start_time": "2021-11-30T14:09:54.064Z"
   },
   {
    "duration": 39,
    "start_time": "2021-11-30T14:09:54.093Z"
   },
   {
    "duration": 34,
    "start_time": "2021-11-30T14:09:54.134Z"
   },
   {
    "duration": 25,
    "start_time": "2021-11-30T14:09:54.171Z"
   },
   {
    "duration": 32,
    "start_time": "2021-11-30T14:09:54.198Z"
   },
   {
    "duration": 28,
    "start_time": "2021-11-30T14:09:54.232Z"
   },
   {
    "duration": 104,
    "start_time": "2021-11-30T14:09:54.263Z"
   },
   {
    "duration": 24,
    "start_time": "2021-11-30T14:09:54.370Z"
   },
   {
    "duration": 105,
    "start_time": "2021-11-30T14:09:54.397Z"
   },
   {
    "duration": 28,
    "start_time": "2021-11-30T14:09:54.513Z"
   },
   {
    "duration": 20,
    "start_time": "2021-11-30T14:09:54.546Z"
   },
   {
    "duration": 7786,
    "start_time": "2021-11-30T14:09:54.569Z"
   },
   {
    "duration": 168522,
    "start_time": "2021-11-30T14:07:13.835Z"
   },
   {
    "duration": 168512,
    "start_time": "2021-11-30T14:07:13.847Z"
   },
   {
    "duration": 168497,
    "start_time": "2021-11-30T14:07:13.863Z"
   },
   {
    "duration": 168486,
    "start_time": "2021-11-30T14:07:13.876Z"
   },
   {
    "duration": 168476,
    "start_time": "2021-11-30T14:07:13.887Z"
   },
   {
    "duration": 168464,
    "start_time": "2021-11-30T14:07:13.900Z"
   },
   {
    "duration": 168431,
    "start_time": "2021-11-30T14:07:13.934Z"
   },
   {
    "duration": 168418,
    "start_time": "2021-11-30T14:07:13.949Z"
   },
   {
    "duration": 168402,
    "start_time": "2021-11-30T14:07:13.966Z"
   },
   {
    "duration": 168390,
    "start_time": "2021-11-30T14:07:13.979Z"
   },
   {
    "duration": 168380,
    "start_time": "2021-11-30T14:07:13.991Z"
   },
   {
    "duration": 168369,
    "start_time": "2021-11-30T14:07:14.003Z"
   },
   {
    "duration": 168359,
    "start_time": "2021-11-30T14:07:14.015Z"
   },
   {
    "duration": 168318,
    "start_time": "2021-11-30T14:07:14.057Z"
   },
   {
    "duration": 168301,
    "start_time": "2021-11-30T14:07:14.076Z"
   },
   {
    "duration": 168286,
    "start_time": "2021-11-30T14:07:14.092Z"
   },
   {
    "duration": 168275,
    "start_time": "2021-11-30T14:07:14.104Z"
   },
   {
    "duration": 168263,
    "start_time": "2021-11-30T14:07:14.117Z"
   },
   {
    "duration": 168253,
    "start_time": "2021-11-30T14:07:14.129Z"
   },
   {
    "duration": 168241,
    "start_time": "2021-11-30T14:07:14.142Z"
   },
   {
    "duration": 168205,
    "start_time": "2021-11-30T14:07:14.179Z"
   },
   {
    "duration": 168193,
    "start_time": "2021-11-30T14:07:14.193Z"
   },
   {
    "duration": 168183,
    "start_time": "2021-11-30T14:07:14.204Z"
   },
   {
    "duration": 168172,
    "start_time": "2021-11-30T14:07:14.217Z"
   },
   {
    "duration": 168161,
    "start_time": "2021-11-30T14:07:14.229Z"
   },
   {
    "duration": 168149,
    "start_time": "2021-11-30T14:07:14.242Z"
   },
   {
    "duration": 168139,
    "start_time": "2021-11-30T14:07:14.253Z"
   },
   {
    "duration": 168117,
    "start_time": "2021-11-30T14:07:14.277Z"
   },
   {
    "duration": 168077,
    "start_time": "2021-11-30T14:07:14.318Z"
   },
   {
    "duration": 168065,
    "start_time": "2021-11-30T14:07:14.331Z"
   },
   {
    "duration": 168086,
    "start_time": "2021-11-30T14:07:14.343Z"
   },
   {
    "duration": 168073,
    "start_time": "2021-11-30T14:07:14.358Z"
   },
   {
    "duration": 168061,
    "start_time": "2021-11-30T14:07:14.371Z"
   },
   {
    "duration": 168047,
    "start_time": "2021-11-30T14:07:14.386Z"
   },
   {
    "duration": 168033,
    "start_time": "2021-11-30T14:07:14.402Z"
   },
   {
    "duration": 168000,
    "start_time": "2021-11-30T14:07:14.436Z"
   },
   {
    "duration": 167988,
    "start_time": "2021-11-30T14:07:14.449Z"
   },
   {
    "duration": 167976,
    "start_time": "2021-11-30T14:07:14.463Z"
   },
   {
    "duration": 167964,
    "start_time": "2021-11-30T14:07:14.476Z"
   },
   {
    "duration": 167950,
    "start_time": "2021-11-30T14:07:14.491Z"
   },
   {
    "duration": 167940,
    "start_time": "2021-11-30T14:07:14.502Z"
   },
   {
    "duration": 167929,
    "start_time": "2021-11-30T14:07:14.515Z"
   },
   {
    "duration": 167913,
    "start_time": "2021-11-30T14:07:14.532Z"
   },
   {
    "duration": 167876,
    "start_time": "2021-11-30T14:07:14.570Z"
   },
   {
    "duration": 167856,
    "start_time": "2021-11-30T14:07:14.591Z"
   },
   {
    "duration": 167843,
    "start_time": "2021-11-30T14:07:14.606Z"
   },
   {
    "duration": 167831,
    "start_time": "2021-11-30T14:07:14.619Z"
   },
   {
    "duration": 167817,
    "start_time": "2021-11-30T14:07:14.635Z"
   },
   {
    "duration": 167803,
    "start_time": "2021-11-30T14:07:14.650Z"
   },
   {
    "duration": 167761,
    "start_time": "2021-11-30T14:07:14.693Z"
   },
   {
    "duration": 167748,
    "start_time": "2021-11-30T14:07:14.707Z"
   },
   {
    "duration": 167736,
    "start_time": "2021-11-30T14:07:14.721Z"
   },
   {
    "duration": 167725,
    "start_time": "2021-11-30T14:07:14.733Z"
   },
   {
    "duration": 167712,
    "start_time": "2021-11-30T14:07:14.747Z"
   },
   {
    "duration": 167701,
    "start_time": "2021-11-30T14:07:14.760Z"
   },
   {
    "duration": 167686,
    "start_time": "2021-11-30T14:07:14.776Z"
   },
   {
    "duration": 167651,
    "start_time": "2021-11-30T14:07:14.812Z"
   },
   {
    "duration": 167638,
    "start_time": "2021-11-30T14:07:14.826Z"
   },
   {
    "duration": 167690,
    "start_time": "2021-11-30T14:07:14.839Z"
   },
   {
    "duration": 167677,
    "start_time": "2021-11-30T14:07:14.853Z"
   },
   {
    "duration": 167665,
    "start_time": "2021-11-30T14:07:14.867Z"
   },
   {
    "duration": 167650,
    "start_time": "2021-11-30T14:07:14.883Z"
   },
   {
    "duration": 167639,
    "start_time": "2021-11-30T14:07:14.895Z"
   },
   {
    "duration": 3,
    "start_time": "2021-11-30T14:10:49.937Z"
   },
   {
    "duration": 555,
    "start_time": "2021-11-30T14:10:49.947Z"
   },
   {
    "duration": 11,
    "start_time": "2021-11-30T14:10:50.505Z"
   },
   {
    "duration": 31,
    "start_time": "2021-11-30T14:10:50.519Z"
   },
   {
    "duration": 39,
    "start_time": "2021-11-30T14:10:50.552Z"
   },
   {
    "duration": 3,
    "start_time": "2021-11-30T14:10:50.593Z"
   },
   {
    "duration": 32,
    "start_time": "2021-11-30T14:10:50.599Z"
   },
   {
    "duration": 17,
    "start_time": "2021-11-30T14:10:50.634Z"
   },
   {
    "duration": 15,
    "start_time": "2021-11-30T14:10:50.657Z"
   },
   {
    "duration": 62,
    "start_time": "2021-11-30T14:10:50.676Z"
   },
   {
    "duration": 28,
    "start_time": "2021-11-30T14:10:50.741Z"
   },
   {
    "duration": 11,
    "start_time": "2021-11-30T14:10:50.772Z"
   },
   {
    "duration": 10,
    "start_time": "2021-11-30T14:10:50.785Z"
   },
   {
    "duration": 39,
    "start_time": "2021-11-30T14:10:50.798Z"
   },
   {
    "duration": 8,
    "start_time": "2021-11-30T14:10:50.839Z"
   },
   {
    "duration": 17,
    "start_time": "2021-11-30T14:10:50.850Z"
   },
   {
    "duration": 12,
    "start_time": "2021-11-30T14:10:50.869Z"
   },
   {
    "duration": 19,
    "start_time": "2021-11-30T14:10:50.884Z"
   },
   {
    "duration": 10,
    "start_time": "2021-11-30T14:10:50.930Z"
   },
   {
    "duration": 20,
    "start_time": "2021-11-30T14:10:50.943Z"
   },
   {
    "duration": 29,
    "start_time": "2021-11-30T14:10:50.965Z"
   },
   {
    "duration": 42,
    "start_time": "2021-11-30T14:10:50.997Z"
   },
   {
    "duration": 15,
    "start_time": "2021-11-30T14:10:51.042Z"
   },
   {
    "duration": 20,
    "start_time": "2021-11-30T14:10:51.063Z"
   },
   {
    "duration": 47,
    "start_time": "2021-11-30T14:10:51.088Z"
   },
   {
    "duration": 8,
    "start_time": "2021-11-30T14:10:51.138Z"
   },
   {
    "duration": 35,
    "start_time": "2021-11-30T14:10:51.149Z"
   },
   {
    "duration": 77,
    "start_time": "2021-11-30T14:10:51.187Z"
   },
   {
    "duration": 13,
    "start_time": "2021-11-30T14:10:51.266Z"
   },
   {
    "duration": 52,
    "start_time": "2021-11-30T14:10:51.282Z"
   },
   {
    "duration": 37,
    "start_time": "2021-11-30T14:10:51.337Z"
   },
   {
    "duration": 12,
    "start_time": "2021-11-30T14:10:51.376Z"
   },
   {
    "duration": 62,
    "start_time": "2021-11-30T14:10:51.390Z"
   },
   {
    "duration": 33,
    "start_time": "2021-11-30T14:10:51.455Z"
   },
   {
    "duration": 41,
    "start_time": "2021-11-30T14:10:51.491Z"
   },
   {
    "duration": 17,
    "start_time": "2021-11-30T14:10:51.535Z"
   },
   {
    "duration": 12,
    "start_time": "2021-11-30T14:10:51.554Z"
   },
   {
    "duration": 22,
    "start_time": "2021-11-30T14:10:51.568Z"
   },
   {
    "duration": 45,
    "start_time": "2021-11-30T14:10:51.593Z"
   },
   {
    "duration": 22,
    "start_time": "2021-11-30T14:10:51.640Z"
   },
   {
    "duration": 9,
    "start_time": "2021-11-30T14:10:51.664Z"
   },
   {
    "duration": 24,
    "start_time": "2021-11-30T14:10:51.675Z"
   },
   {
    "duration": 11,
    "start_time": "2021-11-30T14:10:51.729Z"
   },
   {
    "duration": 10,
    "start_time": "2021-11-30T14:10:51.743Z"
   },
   {
    "duration": 12,
    "start_time": "2021-11-30T14:10:51.755Z"
   },
   {
    "duration": 32,
    "start_time": "2021-11-30T14:10:51.770Z"
   },
   {
    "duration": 26,
    "start_time": "2021-11-30T14:10:51.804Z"
   },
   {
    "duration": 27,
    "start_time": "2021-11-30T14:10:51.832Z"
   },
   {
    "duration": 13,
    "start_time": "2021-11-30T14:10:51.861Z"
   },
   {
    "duration": 8,
    "start_time": "2021-11-30T14:10:51.877Z"
   },
   {
    "duration": 45,
    "start_time": "2021-11-30T14:10:51.888Z"
   },
   {
    "duration": 11,
    "start_time": "2021-11-30T14:10:51.936Z"
   },
   {
    "duration": 64,
    "start_time": "2021-11-30T14:10:51.949Z"
   },
   {
    "duration": 29,
    "start_time": "2021-11-30T14:10:52.015Z"
   },
   {
    "duration": 47,
    "start_time": "2021-11-30T14:10:52.046Z"
   },
   {
    "duration": 36,
    "start_time": "2021-11-30T14:10:52.095Z"
   },
   {
    "duration": 26,
    "start_time": "2021-11-30T14:10:52.133Z"
   },
   {
    "duration": 22,
    "start_time": "2021-11-30T14:10:52.162Z"
   },
   {
    "duration": 12,
    "start_time": "2021-11-30T14:10:52.186Z"
   },
   {
    "duration": 25,
    "start_time": "2021-11-30T14:10:52.229Z"
   },
   {
    "duration": 23,
    "start_time": "2021-11-30T14:10:52.256Z"
   },
   {
    "duration": 60,
    "start_time": "2021-11-30T14:10:52.281Z"
   },
   {
    "duration": 21,
    "start_time": "2021-11-30T14:10:52.343Z"
   },
   {
    "duration": 12,
    "start_time": "2021-11-30T14:10:52.366Z"
   },
   {
    "duration": 29,
    "start_time": "2021-11-30T14:10:52.380Z"
   },
   {
    "duration": 72,
    "start_time": "2021-11-30T14:10:52.429Z"
   },
   {
    "duration": 35,
    "start_time": "2021-11-30T14:10:52.503Z"
   },
   {
    "duration": 93,
    "start_time": "2021-11-30T14:10:52.541Z"
   },
   {
    "duration": 13,
    "start_time": "2021-11-30T14:10:52.644Z"
   },
   {
    "duration": 24,
    "start_time": "2021-11-30T14:10:52.661Z"
   },
   {
    "duration": 9,
    "start_time": "2021-11-30T14:10:52.688Z"
   },
   {
    "duration": 47,
    "start_time": "2021-11-30T14:10:52.699Z"
   },
   {
    "duration": 23,
    "start_time": "2021-11-30T14:10:52.749Z"
   },
   {
    "duration": 12,
    "start_time": "2021-11-30T14:10:52.774Z"
   },
   {
    "duration": 55,
    "start_time": "2021-11-30T14:10:52.789Z"
   },
   {
    "duration": 22,
    "start_time": "2021-11-30T14:10:52.847Z"
   },
   {
    "duration": 10,
    "start_time": "2021-11-30T14:10:52.872Z"
   },
   {
    "duration": 57,
    "start_time": "2021-11-30T14:10:52.885Z"
   },
   {
    "duration": 38,
    "start_time": "2021-11-30T14:10:52.945Z"
   },
   {
    "duration": 55,
    "start_time": "2021-11-30T14:10:52.986Z"
   },
   {
    "duration": 11,
    "start_time": "2021-11-30T14:10:53.044Z"
   },
   {
    "duration": 22,
    "start_time": "2021-11-30T14:10:53.058Z"
   },
   {
    "duration": 23,
    "start_time": "2021-11-30T14:10:53.082Z"
   },
   {
    "duration": 130,
    "start_time": "2021-11-30T14:10:53.108Z"
   },
   {
    "duration": 3,
    "start_time": "2021-11-30T14:10:53.240Z"
   },
   {
    "duration": 30,
    "start_time": "2021-11-30T14:10:53.245Z"
   },
   {
    "duration": 454,
    "start_time": "2021-11-30T14:10:53.278Z"
   },
   {
    "duration": 7,
    "start_time": "2021-11-30T14:10:53.734Z"
   },
   {
    "duration": 385,
    "start_time": "2021-11-30T14:10:53.744Z"
   },
   {
    "duration": 4,
    "start_time": "2021-11-30T14:10:54.131Z"
   },
   {
    "duration": 12,
    "start_time": "2021-11-30T14:10:54.137Z"
   },
   {
    "duration": 6,
    "start_time": "2021-11-30T14:10:54.151Z"
   },
   {
    "duration": 8,
    "start_time": "2021-11-30T14:10:54.160Z"
   },
   {
    "duration": 13,
    "start_time": "2021-11-30T14:10:54.170Z"
   },
   {
    "duration": 17,
    "start_time": "2021-11-30T14:10:54.186Z"
   },
   {
    "duration": 26,
    "start_time": "2021-11-30T14:10:54.205Z"
   },
   {
    "duration": 9,
    "start_time": "2021-11-30T14:10:54.234Z"
   },
   {
    "duration": 19,
    "start_time": "2021-11-30T14:10:54.245Z"
   },
   {
    "duration": 326,
    "start_time": "2021-11-30T14:10:54.266Z"
   },
   {
    "duration": 6,
    "start_time": "2021-11-30T14:10:54.594Z"
   },
   {
    "duration": 429,
    "start_time": "2021-11-30T14:10:54.603Z"
   },
   {
    "duration": 5,
    "start_time": "2021-11-30T14:10:55.034Z"
   },
   {
    "duration": 15,
    "start_time": "2021-11-30T14:10:55.042Z"
   },
   {
    "duration": 6,
    "start_time": "2021-11-30T14:10:55.061Z"
   },
   {
    "duration": 9,
    "start_time": "2021-11-30T14:10:55.069Z"
   },
   {
    "duration": 6,
    "start_time": "2021-11-30T14:10:55.081Z"
   },
   {
    "duration": 6,
    "start_time": "2021-11-30T14:10:55.128Z"
   },
   {
    "duration": 8,
    "start_time": "2021-11-30T14:10:55.137Z"
   },
   {
    "duration": 14,
    "start_time": "2021-11-30T14:10:55.148Z"
   },
   {
    "duration": 7865,
    "start_time": "2021-11-30T14:10:55.165Z"
   },
   {
    "duration": 171975,
    "start_time": "2021-11-30T14:08:11.059Z"
   },
   {
    "duration": 171962,
    "start_time": "2021-11-30T14:08:11.074Z"
   },
   {
    "duration": 171947,
    "start_time": "2021-11-30T14:08:11.091Z"
   },
   {
    "duration": 171935,
    "start_time": "2021-11-30T14:08:11.106Z"
   },
   {
    "duration": 171920,
    "start_time": "2021-11-30T14:08:11.123Z"
   },
   {
    "duration": 171834,
    "start_time": "2021-11-30T14:08:11.211Z"
   },
   {
    "duration": 171818,
    "start_time": "2021-11-30T14:08:11.230Z"
   },
   {
    "duration": 171804,
    "start_time": "2021-11-30T14:08:11.246Z"
   },
   {
    "duration": 171790,
    "start_time": "2021-11-30T14:08:11.262Z"
   },
   {
    "duration": 171778,
    "start_time": "2021-11-30T14:08:11.277Z"
   },
   {
    "duration": 171762,
    "start_time": "2021-11-30T14:08:11.295Z"
   },
   {
    "duration": 171717,
    "start_time": "2021-11-30T14:08:11.342Z"
   },
   {
    "duration": 171684,
    "start_time": "2021-11-30T14:08:11.378Z"
   },
   {
    "duration": 171675,
    "start_time": "2021-11-30T14:08:11.389Z"
   },
   {
    "duration": 171664,
    "start_time": "2021-11-30T14:08:11.402Z"
   },
   {
    "duration": 171655,
    "start_time": "2021-11-30T14:08:11.413Z"
   },
   {
    "duration": 171645,
    "start_time": "2021-11-30T14:08:11.425Z"
   },
   {
    "duration": 171580,
    "start_time": "2021-11-30T14:08:11.493Z"
   },
   {
    "duration": 171523,
    "start_time": "2021-11-30T14:08:11.606Z"
   },
   {
    "duration": 171502,
    "start_time": "2021-11-30T14:08:11.628Z"
   },
   {
    "duration": 171486,
    "start_time": "2021-11-30T14:08:11.646Z"
   },
   {
    "duration": 171469,
    "start_time": "2021-11-30T14:08:11.664Z"
   },
   {
    "duration": 171453,
    "start_time": "2021-11-30T14:08:11.682Z"
   },
   {
    "duration": 171396,
    "start_time": "2021-11-30T14:08:11.740Z"
   },
   {
    "duration": 4,
    "start_time": "2021-11-30T14:11:50.192Z"
   },
   {
    "duration": 544,
    "start_time": "2021-11-30T14:11:50.201Z"
   },
   {
    "duration": 11,
    "start_time": "2021-11-30T14:11:50.748Z"
   },
   {
    "duration": 34,
    "start_time": "2021-11-30T14:11:50.762Z"
   },
   {
    "duration": 55,
    "start_time": "2021-11-30T14:11:50.799Z"
   },
   {
    "duration": 3,
    "start_time": "2021-11-30T14:11:50.857Z"
   },
   {
    "duration": 27,
    "start_time": "2021-11-30T14:11:50.862Z"
   },
   {
    "duration": 27,
    "start_time": "2021-11-30T14:11:50.892Z"
   },
   {
    "duration": 42,
    "start_time": "2021-11-30T14:11:50.923Z"
   },
   {
    "duration": 69,
    "start_time": "2021-11-30T14:11:50.968Z"
   },
   {
    "duration": 31,
    "start_time": "2021-11-30T14:11:51.039Z"
   },
   {
    "duration": 11,
    "start_time": "2021-11-30T14:11:51.073Z"
   },
   {
    "duration": 30,
    "start_time": "2021-11-30T14:11:51.086Z"
   },
   {
    "duration": 30,
    "start_time": "2021-11-30T14:11:51.118Z"
   },
   {
    "duration": 23,
    "start_time": "2021-11-30T14:11:51.151Z"
   },
   {
    "duration": 30,
    "start_time": "2021-11-30T14:11:51.176Z"
   },
   {
    "duration": 6,
    "start_time": "2021-11-30T14:11:51.209Z"
   },
   {
    "duration": 13,
    "start_time": "2021-11-30T14:11:51.218Z"
   },
   {
    "duration": 14,
    "start_time": "2021-11-30T14:11:51.234Z"
   },
   {
    "duration": 21,
    "start_time": "2021-11-30T14:11:51.250Z"
   },
   {
    "duration": 24,
    "start_time": "2021-11-30T14:11:51.274Z"
   },
   {
    "duration": 11,
    "start_time": "2021-11-30T14:11:51.330Z"
   },
   {
    "duration": 11,
    "start_time": "2021-11-30T14:11:51.343Z"
   },
   {
    "duration": 15,
    "start_time": "2021-11-30T14:11:51.360Z"
   },
   {
    "duration": 51,
    "start_time": "2021-11-30T14:11:51.379Z"
   },
   {
    "duration": 10,
    "start_time": "2021-11-30T14:11:51.432Z"
   },
   {
    "duration": 31,
    "start_time": "2021-11-30T14:11:51.444Z"
   },
   {
    "duration": 78,
    "start_time": "2021-11-30T14:11:51.477Z"
   },
   {
    "duration": 12,
    "start_time": "2021-11-30T14:11:51.558Z"
   },
   {
    "duration": 23,
    "start_time": "2021-11-30T14:11:51.572Z"
   },
   {
    "duration": 62,
    "start_time": "2021-11-30T14:11:51.597Z"
   },
   {
    "duration": 11,
    "start_time": "2021-11-30T14:11:51.661Z"
   },
   {
    "duration": 58,
    "start_time": "2021-11-30T14:11:51.674Z"
   },
   {
    "duration": 32,
    "start_time": "2021-11-30T14:11:51.735Z"
   },
   {
    "duration": 12,
    "start_time": "2021-11-30T14:11:51.769Z"
   },
   {
    "duration": 8,
    "start_time": "2021-11-30T14:11:51.783Z"
   },
   {
    "duration": 40,
    "start_time": "2021-11-30T14:11:51.794Z"
   },
   {
    "duration": 25,
    "start_time": "2021-11-30T14:11:51.837Z"
   },
   {
    "duration": 10,
    "start_time": "2021-11-30T14:11:51.864Z"
   },
   {
    "duration": 54,
    "start_time": "2021-11-30T14:11:51.877Z"
   },
   {
    "duration": 9,
    "start_time": "2021-11-30T14:11:51.933Z"
   },
   {
    "duration": 22,
    "start_time": "2021-11-30T14:11:51.945Z"
   },
   {
    "duration": 13,
    "start_time": "2021-11-30T14:11:51.970Z"
   },
   {
    "duration": 9,
    "start_time": "2021-11-30T14:11:51.986Z"
   },
   {
    "duration": 8,
    "start_time": "2021-11-30T14:11:52.029Z"
   },
   {
    "duration": 22,
    "start_time": "2021-11-30T14:11:52.040Z"
   },
   {
    "duration": 9,
    "start_time": "2021-11-30T14:11:52.065Z"
   },
   {
    "duration": 27,
    "start_time": "2021-11-30T14:11:52.076Z"
   },
   {
    "duration": 11,
    "start_time": "2021-11-30T14:11:52.129Z"
   },
   {
    "duration": 9,
    "start_time": "2021-11-30T14:11:52.142Z"
   },
   {
    "duration": 10,
    "start_time": "2021-11-30T14:11:52.153Z"
   },
   {
    "duration": 6,
    "start_time": "2021-11-30T14:11:52.166Z"
   },
   {
    "duration": 101,
    "start_time": "2021-11-30T14:11:52.175Z"
   },
   {
    "duration": 20,
    "start_time": "2021-11-30T14:11:52.278Z"
   },
   {
    "duration": 59,
    "start_time": "2021-11-30T14:11:52.300Z"
   },
   {
    "duration": 19,
    "start_time": "2021-11-30T14:11:52.361Z"
   },
   {
    "duration": 47,
    "start_time": "2021-11-30T14:11:52.382Z"
   },
   {
    "duration": 22,
    "start_time": "2021-11-30T14:11:52.431Z"
   },
   {
    "duration": 7,
    "start_time": "2021-11-30T14:11:52.455Z"
   },
   {
    "duration": 25,
    "start_time": "2021-11-30T14:11:52.464Z"
   },
   {
    "duration": 53,
    "start_time": "2021-11-30T14:11:52.492Z"
   },
   {
    "duration": 33,
    "start_time": "2021-11-30T14:11:52.548Z"
   },
   {
    "duration": 22,
    "start_time": "2021-11-30T14:11:52.584Z"
   },
   {
    "duration": 24,
    "start_time": "2021-11-30T14:11:52.609Z"
   },
   {
    "duration": 27,
    "start_time": "2021-11-30T14:11:52.635Z"
   },
   {
    "duration": 101,
    "start_time": "2021-11-30T14:11:52.665Z"
   },
   {
    "duration": 20,
    "start_time": "2021-11-30T14:11:52.769Z"
   },
   {
    "duration": 89,
    "start_time": "2021-11-30T14:11:52.792Z"
   },
   {
    "duration": 14,
    "start_time": "2021-11-30T14:11:52.891Z"
   },
   {
    "duration": 38,
    "start_time": "2021-11-30T14:11:52.909Z"
   },
   {
    "duration": 12,
    "start_time": "2021-11-30T14:11:52.949Z"
   },
   {
    "duration": 27,
    "start_time": "2021-11-30T14:11:52.964Z"
   },
   {
    "duration": 45,
    "start_time": "2021-11-30T14:11:52.993Z"
   },
   {
    "duration": 12,
    "start_time": "2021-11-30T14:11:53.040Z"
   },
   {
    "duration": 26,
    "start_time": "2021-11-30T14:11:53.055Z"
   },
   {
    "duration": 48,
    "start_time": "2021-11-30T14:11:53.084Z"
   },
   {
    "duration": 15,
    "start_time": "2021-11-30T14:11:53.135Z"
   },
   {
    "duration": 22,
    "start_time": "2021-11-30T14:11:53.153Z"
   },
   {
    "duration": 64,
    "start_time": "2021-11-30T14:11:53.177Z"
   },
   {
    "duration": 22,
    "start_time": "2021-11-30T14:11:53.243Z"
   },
   {
    "duration": 10,
    "start_time": "2021-11-30T14:11:53.268Z"
   },
   {
    "duration": 9,
    "start_time": "2021-11-30T14:11:53.281Z"
   },
   {
    "duration": 44,
    "start_time": "2021-11-30T14:11:53.293Z"
   },
   {
    "duration": 6,
    "start_time": "2021-11-30T14:11:53.340Z"
   },
   {
    "duration": 6,
    "start_time": "2021-11-30T14:11:53.349Z"
   },
   {
    "duration": 11,
    "start_time": "2021-11-30T14:11:53.357Z"
   },
   {
    "duration": 373,
    "start_time": "2021-11-30T14:11:53.371Z"
   },
   {
    "duration": 6,
    "start_time": "2021-11-30T14:11:53.747Z"
   },
   {
    "duration": 332,
    "start_time": "2021-11-30T14:11:53.756Z"
   },
   {
    "duration": 4,
    "start_time": "2021-11-30T14:11:54.091Z"
   },
   {
    "duration": 22,
    "start_time": "2021-11-30T14:11:54.097Z"
   },
   {
    "duration": 14,
    "start_time": "2021-11-30T14:11:54.121Z"
   },
   {
    "duration": 17,
    "start_time": "2021-11-30T14:11:54.137Z"
   },
   {
    "duration": 8,
    "start_time": "2021-11-30T14:11:54.156Z"
   },
   {
    "duration": 10,
    "start_time": "2021-11-30T14:11:54.166Z"
   },
   {
    "duration": 12,
    "start_time": "2021-11-30T14:11:54.178Z"
   },
   {
    "duration": 10,
    "start_time": "2021-11-30T14:11:54.192Z"
   },
   {
    "duration": 8,
    "start_time": "2021-11-30T14:11:54.204Z"
   },
   {
    "duration": 303,
    "start_time": "2021-11-30T14:11:54.230Z"
   },
   {
    "duration": 6,
    "start_time": "2021-11-30T14:11:54.535Z"
   },
   {
    "duration": 330,
    "start_time": "2021-11-30T14:11:54.543Z"
   },
   {
    "duration": 5,
    "start_time": "2021-11-30T14:11:54.875Z"
   },
   {
    "duration": 13,
    "start_time": "2021-11-30T14:11:54.882Z"
   },
   {
    "duration": 8,
    "start_time": "2021-11-30T14:11:54.898Z"
   },
   {
    "duration": 25,
    "start_time": "2021-11-30T14:11:54.908Z"
   },
   {
    "duration": 9,
    "start_time": "2021-11-30T14:11:54.935Z"
   },
   {
    "duration": 15,
    "start_time": "2021-11-30T14:11:54.946Z"
   },
   {
    "duration": 8,
    "start_time": "2021-11-30T14:11:54.963Z"
   },
   {
    "duration": 8,
    "start_time": "2021-11-30T14:11:54.974Z"
   },
   {
    "duration": 46,
    "start_time": "2021-11-30T14:11:54.985Z"
   },
   {
    "duration": 345,
    "start_time": "2021-11-30T14:11:55.033Z"
   },
   {
    "duration": 6,
    "start_time": "2021-11-30T14:11:55.381Z"
   },
   {
    "duration": 336,
    "start_time": "2021-11-30T14:11:55.389Z"
   },
   {
    "duration": 5,
    "start_time": "2021-11-30T14:11:55.730Z"
   },
   {
    "duration": 8,
    "start_time": "2021-11-30T14:11:55.738Z"
   },
   {
    "duration": 7,
    "start_time": "2021-11-30T14:11:55.748Z"
   },
   {
    "duration": 8,
    "start_time": "2021-11-30T14:11:55.757Z"
   },
   {
    "duration": 7,
    "start_time": "2021-11-30T14:11:55.768Z"
   },
   {
    "duration": 53,
    "start_time": "2021-11-30T14:11:55.778Z"
   },
   {
    "duration": 7,
    "start_time": "2021-11-30T14:11:55.834Z"
   },
   {
    "duration": 8,
    "start_time": "2021-11-30T14:11:55.844Z"
   },
   {
    "duration": 577,
    "start_time": "2021-11-30T14:11:55.855Z"
   },
   {
    "duration": 9,
    "start_time": "2021-11-30T14:11:56.434Z"
   },
   {
    "duration": 20,
    "start_time": "2021-11-30T14:11:56.446Z"
   },
   {
    "duration": 8,
    "start_time": "2021-11-30T14:11:56.469Z"
   },
   {
    "duration": 10,
    "start_time": "2021-11-30T14:11:56.480Z"
   },
   {
    "duration": 6,
    "start_time": "2021-11-30T14:11:56.530Z"
   },
   {
    "duration": 23,
    "start_time": "2021-11-30T14:11:56.539Z"
   },
   {
    "duration": 7,
    "start_time": "2021-11-30T14:11:56.564Z"
   },
   {
    "duration": 9,
    "start_time": "2021-11-30T14:11:56.573Z"
   },
   {
    "duration": 44,
    "start_time": "2021-11-30T14:11:56.585Z"
   },
   {
    "duration": 49,
    "start_time": "2021-11-30T14:11:56.631Z"
   },
   {
    "duration": 8,
    "start_time": "2021-11-30T14:11:56.682Z"
   },
   {
    "duration": 38,
    "start_time": "2021-11-30T14:11:56.693Z"
   },
   {
    "duration": 12,
    "start_time": "2021-11-30T14:16:00.639Z"
   },
   {
    "duration": 35,
    "start_time": "2021-11-30T14:16:08.274Z"
   },
   {
    "duration": 22,
    "start_time": "2021-11-30T14:16:14.593Z"
   },
   {
    "duration": 312,
    "start_time": "2021-11-30T14:19:13.400Z"
   },
   {
    "duration": 4,
    "start_time": "2021-11-30T14:22:53.179Z"
   },
   {
    "duration": 12,
    "start_time": "2021-11-30T14:23:02.338Z"
   },
   {
    "duration": 4,
    "start_time": "2021-11-30T14:24:02.695Z"
   },
   {
    "duration": 561,
    "start_time": "2021-11-30T14:24:02.711Z"
   },
   {
    "duration": 11,
    "start_time": "2021-11-30T14:24:03.275Z"
   },
   {
    "duration": 35,
    "start_time": "2021-11-30T14:24:03.289Z"
   },
   {
    "duration": 38,
    "start_time": "2021-11-30T14:24:03.327Z"
   },
   {
    "duration": 3,
    "start_time": "2021-11-30T14:24:03.368Z"
   },
   {
    "duration": 13,
    "start_time": "2021-11-30T14:24:03.374Z"
   },
   {
    "duration": 48,
    "start_time": "2021-11-30T14:24:03.389Z"
   },
   {
    "duration": 13,
    "start_time": "2021-11-30T14:24:03.441Z"
   },
   {
    "duration": 30,
    "start_time": "2021-11-30T14:24:03.457Z"
   },
   {
    "duration": 65,
    "start_time": "2021-11-30T14:24:03.489Z"
   },
   {
    "duration": 11,
    "start_time": "2021-11-30T14:24:03.556Z"
   },
   {
    "duration": 12,
    "start_time": "2021-11-30T14:24:03.570Z"
   },
   {
    "duration": 54,
    "start_time": "2021-11-30T14:24:03.584Z"
   },
   {
    "duration": 5,
    "start_time": "2021-11-30T14:24:03.640Z"
   },
   {
    "duration": 24,
    "start_time": "2021-11-30T14:24:03.647Z"
   },
   {
    "duration": 8,
    "start_time": "2021-11-30T14:24:03.673Z"
   },
   {
    "duration": 46,
    "start_time": "2021-11-30T14:24:03.684Z"
   },
   {
    "duration": 13,
    "start_time": "2021-11-30T14:24:03.733Z"
   },
   {
    "duration": 22,
    "start_time": "2021-11-30T14:24:03.749Z"
   },
   {
    "duration": 57,
    "start_time": "2021-11-30T14:24:03.774Z"
   },
   {
    "duration": 12,
    "start_time": "2021-11-30T14:24:03.833Z"
   },
   {
    "duration": 6,
    "start_time": "2021-11-30T14:24:03.847Z"
   },
   {
    "duration": 12,
    "start_time": "2021-11-30T14:24:03.860Z"
   },
   {
    "duration": 53,
    "start_time": "2021-11-30T14:24:03.877Z"
   },
   {
    "duration": 9,
    "start_time": "2021-11-30T14:24:03.932Z"
   },
   {
    "duration": 13,
    "start_time": "2021-11-30T14:24:03.945Z"
   },
   {
    "duration": 68,
    "start_time": "2021-11-30T14:24:03.961Z"
   },
   {
    "duration": 53,
    "start_time": "2021-11-30T14:24:04.031Z"
   },
   {
    "duration": 12,
    "start_time": "2021-11-30T14:24:04.086Z"
   },
   {
    "duration": 50,
    "start_time": "2021-11-30T14:24:04.100Z"
   },
   {
    "duration": 40,
    "start_time": "2021-11-30T14:24:04.153Z"
   },
   {
    "duration": 38,
    "start_time": "2021-11-30T14:24:04.195Z"
   },
   {
    "duration": 29,
    "start_time": "2021-11-30T14:24:04.236Z"
   },
   {
    "duration": 30,
    "start_time": "2021-11-30T14:24:04.268Z"
   },
   {
    "duration": 12,
    "start_time": "2021-11-30T14:24:04.329Z"
   },
   {
    "duration": 28,
    "start_time": "2021-11-30T14:24:04.343Z"
   },
   {
    "duration": 41,
    "start_time": "2021-11-30T14:24:04.374Z"
   },
   {
    "duration": 20,
    "start_time": "2021-11-30T14:24:04.417Z"
   },
   {
    "duration": 13,
    "start_time": "2021-11-30T14:24:04.440Z"
   },
   {
    "duration": 22,
    "start_time": "2021-11-30T14:24:04.455Z"
   },
   {
    "duration": 10,
    "start_time": "2021-11-30T14:24:04.479Z"
   },
   {
    "duration": 50,
    "start_time": "2021-11-30T14:24:04.491Z"
   },
   {
    "duration": 18,
    "start_time": "2021-11-30T14:24:04.544Z"
   },
   {
    "duration": 9,
    "start_time": "2021-11-30T14:24:04.565Z"
   },
   {
    "duration": 19,
    "start_time": "2021-11-30T14:24:04.577Z"
   },
   {
    "duration": 43,
    "start_time": "2021-11-30T14:24:04.598Z"
   },
   {
    "duration": 8,
    "start_time": "2021-11-30T14:24:04.644Z"
   },
   {
    "duration": 26,
    "start_time": "2021-11-30T14:24:04.654Z"
   },
   {
    "duration": 11,
    "start_time": "2021-11-30T14:24:04.682Z"
   },
   {
    "duration": 41,
    "start_time": "2021-11-30T14:24:04.696Z"
   },
   {
    "duration": 15,
    "start_time": "2021-11-30T14:24:04.740Z"
   },
   {
    "duration": 8,
    "start_time": "2021-11-30T14:24:04.758Z"
   },
   {
    "duration": 98,
    "start_time": "2021-11-30T14:24:04.768Z"
   },
   {
    "duration": 22,
    "start_time": "2021-11-30T14:24:04.869Z"
   },
   {
    "duration": 64,
    "start_time": "2021-11-30T14:24:04.894Z"
   },
   {
    "duration": 25,
    "start_time": "2021-11-30T14:24:04.961Z"
   },
   {
    "duration": 50,
    "start_time": "2021-11-30T14:24:04.990Z"
   },
   {
    "duration": 21,
    "start_time": "2021-11-30T14:24:05.042Z"
   },
   {
    "duration": 13,
    "start_time": "2021-11-30T14:24:05.066Z"
   },
   {
    "duration": 47,
    "start_time": "2021-11-30T14:24:05.081Z"
   },
   {
    "duration": 21,
    "start_time": "2021-11-30T14:24:05.131Z"
   },
   {
    "duration": 35,
    "start_time": "2021-11-30T14:24:05.154Z"
   },
   {
    "duration": 46,
    "start_time": "2021-11-30T14:24:05.191Z"
   },
   {
    "duration": 11,
    "start_time": "2021-11-30T14:24:05.239Z"
   },
   {
    "duration": 51,
    "start_time": "2021-11-30T14:24:05.253Z"
   },
   {
    "duration": 103,
    "start_time": "2021-11-30T14:24:05.307Z"
   },
   {
    "duration": 21,
    "start_time": "2021-11-30T14:24:05.413Z"
   },
   {
    "duration": 100,
    "start_time": "2021-11-30T14:24:05.444Z"
   },
   {
    "duration": 15,
    "start_time": "2021-11-30T14:24:05.548Z"
   },
   {
    "duration": 22,
    "start_time": "2021-11-30T14:24:05.565Z"
   },
   {
    "duration": 11,
    "start_time": "2021-11-30T14:24:05.589Z"
   },
   {
    "duration": 50,
    "start_time": "2021-11-30T14:24:05.602Z"
   },
   {
    "duration": 32,
    "start_time": "2021-11-30T14:24:05.654Z"
   },
   {
    "duration": 12,
    "start_time": "2021-11-30T14:24:05.688Z"
   },
   {
    "duration": 44,
    "start_time": "2021-11-30T14:24:05.703Z"
   },
   {
    "duration": 19,
    "start_time": "2021-11-30T14:24:05.750Z"
   },
   {
    "duration": 23,
    "start_time": "2021-11-30T14:24:05.771Z"
   },
   {
    "duration": 34,
    "start_time": "2021-11-30T14:24:05.796Z"
   },
   {
    "duration": 47,
    "start_time": "2021-11-30T14:24:05.833Z"
   },
   {
    "duration": 21,
    "start_time": "2021-11-30T14:24:05.883Z"
   },
   {
    "duration": 30,
    "start_time": "2021-11-30T14:24:05.906Z"
   },
   {
    "duration": 21,
    "start_time": "2021-11-30T14:24:05.938Z"
   },
   {
    "duration": 22,
    "start_time": "2021-11-30T14:24:05.961Z"
   },
   {
    "duration": 35,
    "start_time": "2021-11-30T14:24:05.985Z"
   },
   {
    "duration": 31,
    "start_time": "2021-11-30T14:24:06.022Z"
   },
   {
    "duration": 28,
    "start_time": "2021-11-30T14:24:06.056Z"
   },
   {
    "duration": 6,
    "start_time": "2021-11-30T14:24:06.087Z"
   },
   {
    "duration": 14,
    "start_time": "2021-11-30T14:24:06.095Z"
   },
   {
    "duration": 12,
    "start_time": "2021-11-30T14:24:06.112Z"
   },
   {
    "duration": 311,
    "start_time": "2021-11-30T14:24:06.126Z"
   },
   {
    "duration": 8,
    "start_time": "2021-11-30T14:24:06.440Z"
   },
   {
    "duration": 334,
    "start_time": "2021-11-30T14:24:06.450Z"
   },
   {
    "duration": 4,
    "start_time": "2021-11-30T14:24:06.787Z"
   },
   {
    "duration": 9,
    "start_time": "2021-11-30T14:24:06.794Z"
   },
   {
    "duration": 27,
    "start_time": "2021-11-30T14:24:06.806Z"
   },
   {
    "duration": 9,
    "start_time": "2021-11-30T14:24:06.836Z"
   },
   {
    "duration": 11,
    "start_time": "2021-11-30T14:24:06.848Z"
   },
   {
    "duration": 11,
    "start_time": "2021-11-30T14:24:06.861Z"
   },
   {
    "duration": 21,
    "start_time": "2021-11-30T14:24:06.875Z"
   },
   {
    "duration": 15,
    "start_time": "2021-11-30T14:24:06.898Z"
   },
   {
    "duration": 6,
    "start_time": "2021-11-30T14:24:06.929Z"
   },
   {
    "duration": 463,
    "start_time": "2021-11-30T14:24:06.937Z"
   },
   {
    "duration": 8,
    "start_time": "2021-11-30T14:24:07.403Z"
   },
   {
    "duration": 453,
    "start_time": "2021-11-30T14:24:07.414Z"
   },
   {
    "duration": 5,
    "start_time": "2021-11-30T14:24:07.869Z"
   },
   {
    "duration": 14,
    "start_time": "2021-11-30T14:24:07.877Z"
   },
   {
    "duration": 9,
    "start_time": "2021-11-30T14:24:07.894Z"
   },
   {
    "duration": 26,
    "start_time": "2021-11-30T14:24:07.905Z"
   },
   {
    "duration": 6,
    "start_time": "2021-11-30T14:24:07.934Z"
   },
   {
    "duration": 12,
    "start_time": "2021-11-30T14:24:07.942Z"
   },
   {
    "duration": 7,
    "start_time": "2021-11-30T14:24:07.956Z"
   },
   {
    "duration": 7,
    "start_time": "2021-11-30T14:24:07.965Z"
   },
   {
    "duration": 9,
    "start_time": "2021-11-30T14:24:07.974Z"
   },
   {
    "duration": 379,
    "start_time": "2021-11-30T14:24:07.985Z"
   },
   {
    "duration": 6,
    "start_time": "2021-11-30T14:24:08.367Z"
   },
   {
    "duration": 420,
    "start_time": "2021-11-30T14:24:08.375Z"
   },
   {
    "duration": 6,
    "start_time": "2021-11-30T14:24:08.798Z"
   },
   {
    "duration": 25,
    "start_time": "2021-11-30T14:24:08.807Z"
   },
   {
    "duration": 5,
    "start_time": "2021-11-30T14:24:08.834Z"
   },
   {
    "duration": 9,
    "start_time": "2021-11-30T14:24:08.842Z"
   },
   {
    "duration": 9,
    "start_time": "2021-11-30T14:24:08.854Z"
   },
   {
    "duration": 7,
    "start_time": "2021-11-30T14:24:08.866Z"
   },
   {
    "duration": 9,
    "start_time": "2021-11-30T14:24:08.875Z"
   },
   {
    "duration": 44,
    "start_time": "2021-11-30T14:24:08.887Z"
   },
   {
    "duration": 4,
    "start_time": "2021-11-30T14:24:08.934Z"
   },
   {
    "duration": 10,
    "start_time": "2021-11-30T14:24:08.940Z"
   },
   {
    "duration": 135,
    "start_time": "2021-11-30T14:24:08.952Z"
   },
   {
    "duration": 12,
    "start_time": "2021-11-30T14:24:09.089Z"
   },
   {
    "duration": 27,
    "start_time": "2021-11-30T14:24:09.104Z"
   },
   {
    "duration": 12,
    "start_time": "2021-11-30T14:24:09.134Z"
   },
   {
    "duration": 20,
    "start_time": "2021-11-30T14:24:09.149Z"
   },
   {
    "duration": 7,
    "start_time": "2021-11-30T14:24:09.172Z"
   },
   {
    "duration": 10,
    "start_time": "2021-11-30T14:24:09.181Z"
   },
   {
    "duration": 9,
    "start_time": "2021-11-30T14:24:09.230Z"
   },
   {
    "duration": 60,
    "start_time": "2021-11-30T14:24:09.243Z"
   },
   {
    "duration": 30,
    "start_time": "2021-11-30T14:24:09.306Z"
   },
   {
    "duration": 11,
    "start_time": "2021-11-30T14:24:09.339Z"
   },
   {
    "duration": 27,
    "start_time": "2021-11-30T14:25:02.584Z"
   },
   {
    "duration": 1216,
    "start_time": "2021-11-30T14:41:31.032Z"
   },
   {
    "duration": 561,
    "start_time": "2021-11-30T14:41:32.251Z"
   },
   {
    "duration": 26,
    "start_time": "2021-11-30T14:41:32.815Z"
   },
   {
    "duration": 31,
    "start_time": "2021-11-30T14:41:32.845Z"
   },
   {
    "duration": 64,
    "start_time": "2021-11-30T14:41:32.879Z"
   },
   {
    "duration": 4,
    "start_time": "2021-11-30T14:41:32.946Z"
   },
   {
    "duration": 14,
    "start_time": "2021-11-30T14:41:32.953Z"
   },
   {
    "duration": 13,
    "start_time": "2021-11-30T14:41:32.971Z"
   },
   {
    "duration": 43,
    "start_time": "2021-11-30T14:41:32.988Z"
   },
   {
    "duration": 31,
    "start_time": "2021-11-30T14:41:33.034Z"
   },
   {
    "duration": 64,
    "start_time": "2021-11-30T14:41:33.067Z"
   },
   {
    "duration": 21,
    "start_time": "2021-11-30T14:41:33.134Z"
   },
   {
    "duration": 12,
    "start_time": "2021-11-30T14:41:33.158Z"
   },
   {
    "duration": 21,
    "start_time": "2021-11-30T14:41:33.174Z"
   },
   {
    "duration": 33,
    "start_time": "2021-11-30T14:41:33.198Z"
   },
   {
    "duration": 17,
    "start_time": "2021-11-30T14:41:33.233Z"
   },
   {
    "duration": 5,
    "start_time": "2021-11-30T14:41:33.253Z"
   },
   {
    "duration": 18,
    "start_time": "2021-11-30T14:41:33.261Z"
   },
   {
    "duration": 13,
    "start_time": "2021-11-30T14:41:33.282Z"
   },
   {
    "duration": 47,
    "start_time": "2021-11-30T14:41:33.297Z"
   },
   {
    "duration": 29,
    "start_time": "2021-11-30T14:41:33.347Z"
   },
   {
    "duration": 14,
    "start_time": "2021-11-30T14:41:33.379Z"
   },
   {
    "duration": 33,
    "start_time": "2021-11-30T14:41:33.399Z"
   },
   {
    "duration": 14,
    "start_time": "2021-11-30T14:41:33.438Z"
   },
   {
    "duration": 17,
    "start_time": "2021-11-30T14:41:33.455Z"
   },
   {
    "duration": 14,
    "start_time": "2021-11-30T14:41:33.475Z"
   },
   {
    "duration": 9,
    "start_time": "2021-11-30T14:41:33.528Z"
   },
   {
    "duration": 38,
    "start_time": "2021-11-30T14:41:33.540Z"
   },
   {
    "duration": 76,
    "start_time": "2021-11-30T14:41:33.581Z"
   },
   {
    "duration": 13,
    "start_time": "2021-11-30T14:41:33.660Z"
   },
   {
    "duration": 26,
    "start_time": "2021-11-30T14:41:33.675Z"
   },
   {
    "duration": 60,
    "start_time": "2021-11-30T14:41:33.704Z"
   },
   {
    "duration": 11,
    "start_time": "2021-11-30T14:41:33.767Z"
   },
   {
    "duration": 52,
    "start_time": "2021-11-30T14:41:33.780Z"
   },
   {
    "duration": 33,
    "start_time": "2021-11-30T14:41:33.835Z"
   },
   {
    "duration": 11,
    "start_time": "2021-11-30T14:41:33.870Z"
   },
   {
    "duration": 8,
    "start_time": "2021-11-30T14:41:33.883Z"
   },
   {
    "duration": 35,
    "start_time": "2021-11-30T14:41:33.894Z"
   },
   {
    "duration": 11,
    "start_time": "2021-11-30T14:41:33.931Z"
   },
   {
    "duration": 5,
    "start_time": "2021-11-30T14:41:33.944Z"
   },
   {
    "duration": 7,
    "start_time": "2021-11-30T14:41:33.952Z"
   },
   {
    "duration": 6,
    "start_time": "2021-11-30T14:41:33.961Z"
   },
   {
    "duration": 10,
    "start_time": "2021-11-30T14:41:33.969Z"
   },
   {
    "duration": 7,
    "start_time": "2021-11-30T14:41:33.982Z"
   },
   {
    "duration": 7,
    "start_time": "2021-11-30T14:41:33.991Z"
   },
   {
    "duration": 3,
    "start_time": "2021-11-30T14:41:34.029Z"
   },
   {
    "duration": 8,
    "start_time": "2021-11-30T14:41:34.034Z"
   },
   {
    "duration": 6,
    "start_time": "2021-11-30T14:41:34.044Z"
   },
   {
    "duration": 6,
    "start_time": "2021-11-30T14:41:34.052Z"
   },
   {
    "duration": 5,
    "start_time": "2021-11-30T14:41:34.061Z"
   },
   {
    "duration": 7,
    "start_time": "2021-11-30T14:41:34.068Z"
   },
   {
    "duration": 53,
    "start_time": "2021-11-30T14:41:34.077Z"
   },
   {
    "duration": 9,
    "start_time": "2021-11-30T14:41:34.133Z"
   },
   {
    "duration": 6,
    "start_time": "2021-11-30T14:41:34.145Z"
   },
   {
    "duration": 13,
    "start_time": "2021-11-30T14:41:34.154Z"
   },
   {
    "duration": 12,
    "start_time": "2021-11-30T14:41:34.170Z"
   },
   {
    "duration": 7,
    "start_time": "2021-11-30T14:41:34.185Z"
   },
   {
    "duration": 6,
    "start_time": "2021-11-30T14:41:34.194Z"
   },
   {
    "duration": 5,
    "start_time": "2021-11-30T14:41:34.203Z"
   },
   {
    "duration": 3,
    "start_time": "2021-11-30T14:41:34.230Z"
   },
   {
    "duration": 11,
    "start_time": "2021-11-30T14:41:34.235Z"
   },
   {
    "duration": 12,
    "start_time": "2021-11-30T14:41:34.249Z"
   },
   {
    "duration": 6,
    "start_time": "2021-11-30T14:41:34.263Z"
   },
   {
    "duration": 9,
    "start_time": "2021-11-30T14:41:34.271Z"
   },
   {
    "duration": 6,
    "start_time": "2021-11-30T14:41:34.283Z"
   },
   {
    "duration": 7,
    "start_time": "2021-11-30T14:41:34.291Z"
   },
   {
    "duration": 7,
    "start_time": "2021-11-30T14:41:34.300Z"
   },
   {
    "duration": 2,
    "start_time": "2021-11-30T14:41:34.334Z"
   },
   {
    "duration": 13,
    "start_time": "2021-11-30T14:41:34.340Z"
   },
   {
    "duration": 9,
    "start_time": "2021-11-30T14:41:34.355Z"
   },
   {
    "duration": 7,
    "start_time": "2021-11-30T14:41:34.366Z"
   },
   {
    "duration": 5,
    "start_time": "2021-11-30T14:41:34.376Z"
   },
   {
    "duration": 6,
    "start_time": "2021-11-30T14:41:34.383Z"
   },
   {
    "duration": 38,
    "start_time": "2021-11-30T14:41:34.391Z"
   },
   {
    "duration": 13,
    "start_time": "2021-11-30T14:41:34.432Z"
   },
   {
    "duration": 7,
    "start_time": "2021-11-30T14:41:34.447Z"
   },
   {
    "duration": 9,
    "start_time": "2021-11-30T14:41:34.456Z"
   },
   {
    "duration": 14,
    "start_time": "2021-11-30T14:41:34.467Z"
   },
   {
    "duration": 8,
    "start_time": "2021-11-30T14:41:34.484Z"
   },
   {
    "duration": 6,
    "start_time": "2021-11-30T14:41:34.495Z"
   },
   {
    "duration": 7,
    "start_time": "2021-11-30T14:41:34.503Z"
   },
   {
    "duration": 16,
    "start_time": "2021-11-30T14:41:34.530Z"
   },
   {
    "duration": 10,
    "start_time": "2021-11-30T14:41:34.549Z"
   },
   {
    "duration": 14,
    "start_time": "2021-11-30T14:41:34.561Z"
   },
   {
    "duration": 13,
    "start_time": "2021-11-30T14:41:34.577Z"
   },
   {
    "duration": 22,
    "start_time": "2021-11-30T14:41:34.630Z"
   },
   {
    "duration": 13,
    "start_time": "2021-11-30T14:41:34.655Z"
   },
   {
    "duration": 26,
    "start_time": "2021-11-30T14:41:34.670Z"
   },
   {
    "duration": 117,
    "start_time": "2021-11-30T14:41:34.730Z"
   },
   {
    "duration": 4,
    "start_time": "2021-11-30T14:41:34.850Z"
   },
   {
    "duration": 6,
    "start_time": "2021-11-30T14:41:34.856Z"
   },
   {
    "duration": 5,
    "start_time": "2021-11-30T14:41:34.865Z"
   },
   {
    "duration": 9,
    "start_time": "2021-11-30T14:41:34.873Z"
   },
   {
    "duration": 10,
    "start_time": "2021-11-30T14:41:34.884Z"
   },
   {
    "duration": 7,
    "start_time": "2021-11-30T14:41:34.896Z"
   },
   {
    "duration": 14,
    "start_time": "2021-11-30T14:41:34.930Z"
   },
   {
    "duration": 6,
    "start_time": "2021-11-30T14:41:34.947Z"
   },
   {
    "duration": 5,
    "start_time": "2021-11-30T14:41:34.955Z"
   },
   {
    "duration": 6,
    "start_time": "2021-11-30T14:41:34.963Z"
   },
   {
    "duration": 7,
    "start_time": "2021-11-30T14:41:34.971Z"
   },
   {
    "duration": 9,
    "start_time": "2021-11-30T14:41:34.980Z"
   },
   {
    "duration": 7,
    "start_time": "2021-11-30T14:41:34.991Z"
   },
   {
    "duration": 30,
    "start_time": "2021-11-30T14:41:35.000Z"
   },
   {
    "duration": 11,
    "start_time": "2021-11-30T14:41:35.032Z"
   },
   {
    "duration": 8,
    "start_time": "2021-11-30T14:41:35.046Z"
   },
   {
    "duration": 11,
    "start_time": "2021-11-30T14:41:35.056Z"
   },
   {
    "duration": 10,
    "start_time": "2021-11-30T14:41:35.070Z"
   },
   {
    "duration": 12,
    "start_time": "2021-11-30T14:41:35.082Z"
   },
   {
    "duration": 15,
    "start_time": "2021-11-30T14:41:35.097Z"
   },
   {
    "duration": 14,
    "start_time": "2021-11-30T14:41:35.115Z"
   },
   {
    "duration": 7,
    "start_time": "2021-11-30T14:41:35.131Z"
   },
   {
    "duration": 8,
    "start_time": "2021-11-30T14:41:35.140Z"
   },
   {
    "duration": 15,
    "start_time": "2021-11-30T14:41:35.151Z"
   },
   {
    "duration": 10,
    "start_time": "2021-11-30T14:41:35.169Z"
   },
   {
    "duration": 8,
    "start_time": "2021-11-30T14:41:35.182Z"
   },
   {
    "duration": 24,
    "start_time": "2021-11-30T14:41:35.192Z"
   },
   {
    "duration": 20,
    "start_time": "2021-11-30T14:41:35.218Z"
   },
   {
    "duration": 18,
    "start_time": "2021-11-30T14:41:35.240Z"
   },
   {
    "duration": 10,
    "start_time": "2021-11-30T14:41:35.260Z"
   },
   {
    "duration": 7,
    "start_time": "2021-11-30T14:41:35.272Z"
   },
   {
    "duration": 9,
    "start_time": "2021-11-30T14:41:35.281Z"
   },
   {
    "duration": 8,
    "start_time": "2021-11-30T14:41:35.292Z"
   },
   {
    "duration": 15,
    "start_time": "2021-11-30T14:41:35.302Z"
   },
   {
    "duration": 9,
    "start_time": "2021-11-30T14:41:35.319Z"
   },
   {
    "duration": 17,
    "start_time": "2021-11-30T14:41:35.330Z"
   },
   {
    "duration": 9,
    "start_time": "2021-11-30T14:41:35.349Z"
   },
   {
    "duration": 559,
    "start_time": "2021-11-30T14:41:35.361Z"
   },
   {
    "duration": 4,
    "start_time": "2021-11-30T14:41:35.922Z"
   },
   {
    "duration": 11,
    "start_time": "2021-11-30T14:41:35.929Z"
   },
   {
    "duration": 10,
    "start_time": "2021-11-30T14:41:35.943Z"
   },
   {
    "duration": 5,
    "start_time": "2021-11-30T14:41:35.956Z"
   },
   {
    "duration": 11,
    "start_time": "2021-11-30T14:41:35.964Z"
   },
   {
    "duration": 12,
    "start_time": "2021-11-30T14:41:35.978Z"
   },
   {
    "duration": 16,
    "start_time": "2021-11-30T14:41:35.993Z"
   },
   {
    "duration": 17,
    "start_time": "2021-11-30T14:41:36.012Z"
   },
   {
    "duration": 6,
    "start_time": "2021-11-30T14:41:36.032Z"
   },
   {
    "duration": 15,
    "start_time": "2021-11-30T14:41:36.041Z"
   },
   {
    "duration": 7,
    "start_time": "2021-11-30T14:41:36.059Z"
   },
   {
    "duration": 8,
    "start_time": "2021-11-30T14:41:36.068Z"
   },
   {
    "duration": 10,
    "start_time": "2021-11-30T14:51:25.160Z"
   },
   {
    "duration": 42,
    "start_time": "2021-11-30T14:51:59.454Z"
   },
   {
    "duration": 33,
    "start_time": "2021-11-30T14:52:13.205Z"
   },
   {
    "duration": 4,
    "start_time": "2021-11-30T14:54:17.940Z"
   },
   {
    "duration": 615,
    "start_time": "2021-11-30T14:54:17.952Z"
   },
   {
    "duration": 13,
    "start_time": "2021-11-30T14:54:18.570Z"
   },
   {
    "duration": 29,
    "start_time": "2021-11-30T14:54:18.587Z"
   },
   {
    "duration": 47,
    "start_time": "2021-11-30T14:54:18.619Z"
   },
   {
    "duration": 3,
    "start_time": "2021-11-30T14:54:18.669Z"
   },
   {
    "duration": 17,
    "start_time": "2021-11-30T14:54:18.676Z"
   },
   {
    "duration": 41,
    "start_time": "2021-11-30T14:54:18.695Z"
   },
   {
    "duration": 12,
    "start_time": "2021-11-30T14:54:18.741Z"
   },
   {
    "duration": 28,
    "start_time": "2021-11-30T14:54:18.757Z"
   },
   {
    "duration": 65,
    "start_time": "2021-11-30T14:54:18.788Z"
   },
   {
    "duration": 11,
    "start_time": "2021-11-30T14:54:18.856Z"
   },
   {
    "duration": 11,
    "start_time": "2021-11-30T14:54:18.870Z"
   },
   {
    "duration": 17,
    "start_time": "2021-11-30T14:54:18.883Z"
   },
   {
    "duration": 6,
    "start_time": "2021-11-30T14:54:18.930Z"
   },
   {
    "duration": 16,
    "start_time": "2021-11-30T14:54:18.939Z"
   },
   {
    "duration": 16,
    "start_time": "2021-11-30T14:54:18.958Z"
   },
   {
    "duration": 20,
    "start_time": "2021-11-30T14:54:18.977Z"
   },
   {
    "duration": 13,
    "start_time": "2021-11-30T14:54:19.029Z"
   },
   {
    "duration": 23,
    "start_time": "2021-11-30T14:54:19.046Z"
   },
   {
    "duration": 65,
    "start_time": "2021-11-30T14:54:19.072Z"
   },
   {
    "duration": 13,
    "start_time": "2021-11-30T14:54:19.141Z"
   },
   {
    "duration": 9,
    "start_time": "2021-11-30T14:54:19.157Z"
   },
   {
    "duration": 10,
    "start_time": "2021-11-30T14:54:19.174Z"
   },
   {
    "duration": 19,
    "start_time": "2021-11-30T14:54:19.229Z"
   },
   {
    "duration": 11,
    "start_time": "2021-11-30T14:54:19.252Z"
   },
   {
    "duration": 11,
    "start_time": "2021-11-30T14:54:19.266Z"
   },
   {
    "duration": 75,
    "start_time": "2021-11-30T14:54:19.280Z"
   },
   {
    "duration": 72,
    "start_time": "2021-11-30T14:54:19.357Z"
   },
   {
    "duration": 12,
    "start_time": "2021-11-30T14:54:19.432Z"
   },
   {
    "duration": 26,
    "start_time": "2021-11-30T14:54:19.447Z"
   },
   {
    "duration": 66,
    "start_time": "2021-11-30T14:54:19.475Z"
   },
   {
    "duration": 10,
    "start_time": "2021-11-30T14:54:19.544Z"
   },
   {
    "duration": 32,
    "start_time": "2021-11-30T14:54:19.557Z"
   },
   {
    "duration": 62,
    "start_time": "2021-11-30T14:54:19.591Z"
   },
   {
    "duration": 12,
    "start_time": "2021-11-30T14:54:19.655Z"
   },
   {
    "duration": 9,
    "start_time": "2021-11-30T14:54:19.670Z"
   },
   {
    "duration": 5,
    "start_time": "2021-11-30T14:54:19.681Z"
   },
   {
    "duration": 40,
    "start_time": "2021-11-30T14:54:19.689Z"
   },
   {
    "duration": 7,
    "start_time": "2021-11-30T14:54:19.732Z"
   },
   {
    "duration": 14,
    "start_time": "2021-11-30T14:54:19.741Z"
   },
   {
    "duration": 6,
    "start_time": "2021-11-30T14:54:19.758Z"
   },
   {
    "duration": 7,
    "start_time": "2021-11-30T14:54:19.766Z"
   },
   {
    "duration": 6,
    "start_time": "2021-11-30T14:54:19.776Z"
   },
   {
    "duration": 7,
    "start_time": "2021-11-30T14:54:19.785Z"
   },
   {
    "duration": 35,
    "start_time": "2021-11-30T14:54:19.794Z"
   },
   {
    "duration": 12,
    "start_time": "2021-11-30T14:54:19.832Z"
   },
   {
    "duration": 8,
    "start_time": "2021-11-30T14:54:19.846Z"
   },
   {
    "duration": 10,
    "start_time": "2021-11-30T14:54:19.857Z"
   },
   {
    "duration": 11,
    "start_time": "2021-11-30T14:54:19.870Z"
   },
   {
    "duration": 8,
    "start_time": "2021-11-30T14:54:19.884Z"
   },
   {
    "duration": 7,
    "start_time": "2021-11-30T14:54:19.894Z"
   },
   {
    "duration": 15,
    "start_time": "2021-11-30T14:54:19.931Z"
   },
   {
    "duration": 8,
    "start_time": "2021-11-30T14:54:19.949Z"
   },
   {
    "duration": 9,
    "start_time": "2021-11-30T14:54:19.960Z"
   },
   {
    "duration": 9,
    "start_time": "2021-11-30T14:54:19.973Z"
   },
   {
    "duration": 8,
    "start_time": "2021-11-30T14:54:19.985Z"
   },
   {
    "duration": 9,
    "start_time": "2021-11-30T14:54:19.995Z"
   },
   {
    "duration": 26,
    "start_time": "2021-11-30T14:54:20.007Z"
   },
   {
    "duration": 18,
    "start_time": "2021-11-30T14:54:20.035Z"
   },
   {
    "duration": 12,
    "start_time": "2021-11-30T14:54:20.055Z"
   },
   {
    "duration": 20,
    "start_time": "2021-11-30T14:54:20.069Z"
   },
   {
    "duration": 13,
    "start_time": "2021-11-30T14:54:20.092Z"
   },
   {
    "duration": 21,
    "start_time": "2021-11-30T14:54:20.108Z"
   },
   {
    "duration": 20,
    "start_time": "2021-11-30T14:54:20.132Z"
   },
   {
    "duration": 16,
    "start_time": "2021-11-30T14:54:20.155Z"
   },
   {
    "duration": 20,
    "start_time": "2021-11-30T14:54:20.173Z"
   },
   {
    "duration": 7,
    "start_time": "2021-11-30T14:54:20.196Z"
   },
   {
    "duration": 11,
    "start_time": "2021-11-30T14:54:20.213Z"
   },
   {
    "duration": 5,
    "start_time": "2021-11-30T14:54:20.230Z"
   },
   {
    "duration": 5,
    "start_time": "2021-11-30T14:54:20.239Z"
   },
   {
    "duration": 8,
    "start_time": "2021-11-30T14:54:20.247Z"
   },
   {
    "duration": 8,
    "start_time": "2021-11-30T14:54:20.257Z"
   },
   {
    "duration": 7,
    "start_time": "2021-11-30T14:54:20.268Z"
   },
   {
    "duration": 9,
    "start_time": "2021-11-30T14:54:20.277Z"
   },
   {
    "duration": 4,
    "start_time": "2021-11-30T14:54:20.289Z"
   },
   {
    "duration": 9,
    "start_time": "2021-11-30T14:54:20.296Z"
   },
   {
    "duration": 4,
    "start_time": "2021-11-30T14:54:20.330Z"
   },
   {
    "duration": 11,
    "start_time": "2021-11-30T14:54:20.336Z"
   },
   {
    "duration": 6,
    "start_time": "2021-11-30T14:54:20.349Z"
   },
   {
    "duration": 13,
    "start_time": "2021-11-30T14:54:20.358Z"
   },
   {
    "duration": 19,
    "start_time": "2021-11-30T14:54:20.374Z"
   },
   {
    "duration": 39,
    "start_time": "2021-11-30T14:54:20.396Z"
   },
   {
    "duration": 19,
    "start_time": "2021-11-30T14:54:20.438Z"
   },
   {
    "duration": 20,
    "start_time": "2021-11-30T14:54:20.460Z"
   },
   {
    "duration": 48,
    "start_time": "2021-11-30T14:54:20.482Z"
   },
   {
    "duration": 11,
    "start_time": "2021-11-30T14:54:20.533Z"
   },
   {
    "duration": 33,
    "start_time": "2021-11-30T14:54:20.546Z"
   },
   {
    "duration": 4,
    "start_time": "2021-11-30T14:54:20.581Z"
   },
   {
    "duration": 10,
    "start_time": "2021-11-30T14:54:20.587Z"
   },
   {
    "duration": 32,
    "start_time": "2021-11-30T14:54:20.599Z"
   },
   {
    "duration": 12,
    "start_time": "2021-11-30T14:54:20.634Z"
   },
   {
    "duration": 14,
    "start_time": "2021-11-30T14:54:20.648Z"
   },
   {
    "duration": 7,
    "start_time": "2021-11-30T14:54:20.665Z"
   },
   {
    "duration": 9,
    "start_time": "2021-11-30T14:54:20.675Z"
   },
   {
    "duration": 9,
    "start_time": "2021-11-30T14:54:20.686Z"
   },
   {
    "duration": 16,
    "start_time": "2021-11-30T14:54:20.697Z"
   },
   {
    "duration": 16,
    "start_time": "2021-11-30T14:54:20.715Z"
   },
   {
    "duration": 13,
    "start_time": "2021-11-30T14:54:20.734Z"
   },
   {
    "duration": 35,
    "start_time": "2021-11-30T14:54:20.750Z"
   },
   {
    "duration": 16,
    "start_time": "2021-11-30T14:54:20.788Z"
   },
   {
    "duration": 20,
    "start_time": "2021-11-30T14:54:20.807Z"
   },
   {
    "duration": 23,
    "start_time": "2021-11-30T14:54:20.830Z"
   },
   {
    "duration": 11,
    "start_time": "2021-11-30T14:54:20.856Z"
   },
   {
    "duration": 7,
    "start_time": "2021-11-30T14:54:20.870Z"
   },
   {
    "duration": 11,
    "start_time": "2021-11-30T14:54:20.879Z"
   },
   {
    "duration": 6,
    "start_time": "2021-11-30T14:54:20.893Z"
   },
   {
    "duration": 13,
    "start_time": "2021-11-30T14:54:20.901Z"
   },
   {
    "duration": 12,
    "start_time": "2021-11-30T14:54:20.917Z"
   },
   {
    "duration": 16,
    "start_time": "2021-11-30T14:54:20.931Z"
   },
   {
    "duration": 20,
    "start_time": "2021-11-30T14:54:20.949Z"
   },
   {
    "duration": 19,
    "start_time": "2021-11-30T14:54:20.971Z"
   },
   {
    "duration": 17,
    "start_time": "2021-11-30T14:54:20.992Z"
   },
   {
    "duration": 8,
    "start_time": "2021-11-30T14:54:21.011Z"
   },
   {
    "duration": 13,
    "start_time": "2021-11-30T14:54:21.021Z"
   },
   {
    "duration": 16,
    "start_time": "2021-11-30T14:54:21.037Z"
   },
   {
    "duration": 12,
    "start_time": "2021-11-30T14:54:21.056Z"
   },
   {
    "duration": 14,
    "start_time": "2021-11-30T14:54:21.070Z"
   },
   {
    "duration": 15,
    "start_time": "2021-11-30T14:54:21.087Z"
   },
   {
    "duration": 50,
    "start_time": "2021-11-30T14:54:21.105Z"
   },
   {
    "duration": 10,
    "start_time": "2021-11-30T14:54:21.158Z"
   },
   {
    "duration": 21,
    "start_time": "2021-11-30T14:54:21.170Z"
   },
   {
    "duration": 10,
    "start_time": "2021-11-30T14:54:21.194Z"
   },
   {
    "duration": 9,
    "start_time": "2021-11-30T14:54:21.206Z"
   },
   {
    "duration": 7,
    "start_time": "2021-11-30T14:54:21.217Z"
   },
   {
    "duration": 7,
    "start_time": "2021-11-30T14:54:21.226Z"
   },
   {
    "duration": 6,
    "start_time": "2021-11-30T14:54:21.236Z"
   },
   {
    "duration": 7,
    "start_time": "2021-11-30T14:54:21.244Z"
   },
   {
    "duration": 7,
    "start_time": "2021-11-30T14:54:21.254Z"
   },
   {
    "duration": 8,
    "start_time": "2021-11-30T14:54:21.264Z"
   },
   {
    "duration": 9,
    "start_time": "2021-11-30T14:54:21.276Z"
   },
   {
    "duration": 7,
    "start_time": "2021-11-30T14:54:21.288Z"
   },
   {
    "duration": 32,
    "start_time": "2021-11-30T14:54:21.298Z"
   },
   {
    "duration": 7,
    "start_time": "2021-11-30T14:54:21.333Z"
   },
   {
    "duration": 7,
    "start_time": "2021-11-30T14:54:21.343Z"
   },
   {
    "duration": 13,
    "start_time": "2021-11-30T14:54:21.352Z"
   },
   {
    "duration": 7,
    "start_time": "2021-11-30T14:54:21.367Z"
   },
   {
    "duration": 15,
    "start_time": "2021-11-30T14:54:21.377Z"
   },
   {
    "duration": 11,
    "start_time": "2021-11-30T14:54:21.395Z"
   },
   {
    "duration": 20,
    "start_time": "2021-11-30T14:54:21.409Z"
   },
   {
    "duration": 5,
    "start_time": "2021-11-30T14:57:25.158Z"
   },
   {
    "duration": 8,
    "start_time": "2021-11-30T14:57:31.694Z"
   },
   {
    "duration": 100,
    "start_time": "2021-11-30T14:59:22.969Z"
   },
   {
    "duration": 109,
    "start_time": "2021-11-30T14:59:29.169Z"
   },
   {
    "duration": 5,
    "start_time": "2021-11-30T14:59:37.948Z"
   },
   {
    "duration": 708,
    "start_time": "2021-11-30T15:00:26.456Z"
   },
   {
    "duration": 606,
    "start_time": "2021-11-30T15:00:39.012Z"
   },
   {
    "duration": 4,
    "start_time": "2021-11-30T15:01:34.196Z"
   },
   {
    "duration": 556,
    "start_time": "2021-11-30T15:01:35.760Z"
   },
   {
    "duration": 4,
    "start_time": "2021-11-30T15:02:59.451Z"
   },
   {
    "duration": 5,
    "start_time": "2021-11-30T15:03:10.502Z"
   },
   {
    "duration": 6,
    "start_time": "2021-11-30T15:03:26.608Z"
   },
   {
    "duration": 570,
    "start_time": "2021-11-30T15:04:14.951Z"
   },
   {
    "duration": 313,
    "start_time": "2021-11-30T15:05:34.684Z"
   },
   {
    "duration": 5,
    "start_time": "2021-11-30T15:05:38.624Z"
   },
   {
    "duration": 4,
    "start_time": "2021-11-30T15:05:39.771Z"
   },
   {
    "duration": 565,
    "start_time": "2021-11-30T15:05:40.694Z"
   },
   {
    "duration": 5,
    "start_time": "2021-11-30T15:06:34.891Z"
   },
   {
    "duration": 33,
    "start_time": "2021-11-30T15:06:51.620Z"
   },
   {
    "duration": 805,
    "start_time": "2021-11-30T15:07:37.588Z"
   },
   {
    "duration": 4,
    "start_time": "2021-11-30T15:12:58.445Z"
   },
   {
    "duration": 6,
    "start_time": "2021-11-30T15:13:00.082Z"
   },
   {
    "duration": 90,
    "start_time": "2021-11-30T15:13:36.560Z"
   },
   {
    "duration": 84,
    "start_time": "2021-11-30T15:13:49.333Z"
   },
   {
    "duration": 4,
    "start_time": "2021-11-30T15:13:57.790Z"
   },
   {
    "duration": 5,
    "start_time": "2021-11-30T15:13:58.801Z"
   },
   {
    "duration": 1396,
    "start_time": "2021-11-30T15:42:52.255Z"
   },
   {
    "duration": 5,
    "start_time": "2021-11-30T15:52:13.460Z"
   },
   {
    "duration": 6,
    "start_time": "2021-11-30T15:52:34.991Z"
   },
   {
    "duration": 94,
    "start_time": "2021-11-30T15:52:53.742Z"
   },
   {
    "duration": 113,
    "start_time": "2021-11-30T15:53:05.057Z"
   },
   {
    "duration": 3,
    "start_time": "2021-11-30T15:53:19.610Z"
   },
   {
    "duration": 570,
    "start_time": "2021-11-30T15:53:19.619Z"
   },
   {
    "duration": 12,
    "start_time": "2021-11-30T15:53:20.191Z"
   },
   {
    "duration": 31,
    "start_time": "2021-11-30T15:53:20.207Z"
   },
   {
    "duration": 40,
    "start_time": "2021-11-30T15:53:20.241Z"
   },
   {
    "duration": 4,
    "start_time": "2021-11-30T15:53:20.283Z"
   },
   {
    "duration": 40,
    "start_time": "2021-11-30T15:53:20.289Z"
   },
   {
    "duration": 13,
    "start_time": "2021-11-30T15:53:20.332Z"
   },
   {
    "duration": 17,
    "start_time": "2021-11-30T15:53:20.350Z"
   },
   {
    "duration": 60,
    "start_time": "2021-11-30T15:53:20.370Z"
   },
   {
    "duration": 30,
    "start_time": "2021-11-30T15:53:20.432Z"
   },
   {
    "duration": 12,
    "start_time": "2021-11-30T15:53:20.465Z"
   },
   {
    "duration": 8,
    "start_time": "2021-11-30T15:53:20.480Z"
   },
   {
    "duration": 49,
    "start_time": "2021-11-30T15:53:20.491Z"
   },
   {
    "duration": 8,
    "start_time": "2021-11-30T15:53:20.543Z"
   },
   {
    "duration": 19,
    "start_time": "2021-11-30T15:53:20.554Z"
   },
   {
    "duration": 7,
    "start_time": "2021-11-30T15:53:20.576Z"
   },
   {
    "duration": 51,
    "start_time": "2021-11-30T15:53:20.586Z"
   },
   {
    "duration": 16,
    "start_time": "2021-11-30T15:53:20.640Z"
   },
   {
    "duration": 26,
    "start_time": "2021-11-30T15:53:20.659Z"
   },
   {
    "duration": 61,
    "start_time": "2021-11-30T15:53:20.688Z"
   },
   {
    "duration": 12,
    "start_time": "2021-11-30T15:53:20.752Z"
   },
   {
    "duration": 6,
    "start_time": "2021-11-30T15:53:20.766Z"
   },
   {
    "duration": 10,
    "start_time": "2021-11-30T15:53:20.779Z"
   },
   {
    "duration": 16,
    "start_time": "2021-11-30T15:53:20.831Z"
   },
   {
    "duration": 13,
    "start_time": "2021-11-30T15:53:20.850Z"
   },
   {
    "duration": 12,
    "start_time": "2021-11-30T15:53:20.866Z"
   },
   {
    "duration": 78,
    "start_time": "2021-11-30T15:53:20.881Z"
   },
   {
    "duration": 71,
    "start_time": "2021-11-30T15:53:20.962Z"
   },
   {
    "duration": 13,
    "start_time": "2021-11-30T15:53:21.035Z"
   },
   {
    "duration": 24,
    "start_time": "2021-11-30T15:53:21.051Z"
   },
   {
    "duration": 68,
    "start_time": "2021-11-30T15:53:21.078Z"
   },
   {
    "duration": 11,
    "start_time": "2021-11-30T15:53:21.149Z"
   },
   {
    "duration": 26,
    "start_time": "2021-11-30T15:53:21.163Z"
   },
   {
    "duration": 61,
    "start_time": "2021-11-30T15:53:21.191Z"
   },
   {
    "duration": 11,
    "start_time": "2021-11-30T15:53:21.255Z"
   },
   {
    "duration": 33,
    "start_time": "2021-11-30T15:53:21.269Z"
   },
   {
    "duration": 4,
    "start_time": "2021-11-30T15:53:21.305Z"
   },
   {
    "duration": 19,
    "start_time": "2021-11-30T15:53:21.312Z"
   },
   {
    "duration": 9,
    "start_time": "2021-11-30T15:53:21.334Z"
   },
   {
    "duration": 6,
    "start_time": "2021-11-30T15:53:21.345Z"
   },
   {
    "duration": 12,
    "start_time": "2021-11-30T15:53:21.353Z"
   },
   {
    "duration": 7,
    "start_time": "2021-11-30T15:53:21.368Z"
   },
   {
    "duration": 7,
    "start_time": "2021-11-30T15:53:21.378Z"
   },
   {
    "duration": 41,
    "start_time": "2021-11-30T15:53:21.388Z"
   },
   {
    "duration": 4,
    "start_time": "2021-11-30T15:53:21.432Z"
   },
   {
    "duration": 10,
    "start_time": "2021-11-30T15:53:21.439Z"
   },
   {
    "duration": 7,
    "start_time": "2021-11-30T15:53:21.452Z"
   },
   {
    "duration": 8,
    "start_time": "2021-11-30T15:53:21.461Z"
   },
   {
    "duration": 7,
    "start_time": "2021-11-30T15:53:21.472Z"
   },
   {
    "duration": 7,
    "start_time": "2021-11-30T15:53:21.482Z"
   },
   {
    "duration": 5,
    "start_time": "2021-11-30T15:53:21.492Z"
   },
   {
    "duration": 36,
    "start_time": "2021-11-30T15:53:21.500Z"
   },
   {
    "duration": 8,
    "start_time": "2021-11-30T15:53:21.539Z"
   },
   {
    "duration": 15,
    "start_time": "2021-11-30T15:53:21.549Z"
   },
   {
    "duration": 30,
    "start_time": "2021-11-30T15:53:21.567Z"
   },
   {
    "duration": 23,
    "start_time": "2021-11-30T15:53:21.599Z"
   },
   {
    "duration": 11,
    "start_time": "2021-11-30T15:53:21.625Z"
   },
   {
    "duration": 10,
    "start_time": "2021-11-30T15:53:21.638Z"
   },
   {
    "duration": 14,
    "start_time": "2021-11-30T15:53:21.650Z"
   },
   {
    "duration": 7,
    "start_time": "2021-11-30T15:53:21.666Z"
   },
   {
    "duration": 7,
    "start_time": "2021-11-30T15:53:21.676Z"
   },
   {
    "duration": 10,
    "start_time": "2021-11-30T15:53:21.685Z"
   },
   {
    "duration": 13,
    "start_time": "2021-11-30T15:53:21.697Z"
   },
   {
    "duration": 8,
    "start_time": "2021-11-30T15:53:21.713Z"
   },
   {
    "duration": 5,
    "start_time": "2021-11-30T15:53:21.728Z"
   },
   {
    "duration": 7,
    "start_time": "2021-11-30T15:53:21.735Z"
   },
   {
    "duration": 20,
    "start_time": "2021-11-30T15:53:21.745Z"
   },
   {
    "duration": 22,
    "start_time": "2021-11-30T15:53:21.776Z"
   },
   {
    "duration": 8,
    "start_time": "2021-11-30T15:53:21.802Z"
   },
   {
    "duration": 10,
    "start_time": "2021-11-30T15:53:21.812Z"
   },
   {
    "duration": 13,
    "start_time": "2021-11-30T15:53:21.825Z"
   },
   {
    "duration": 13,
    "start_time": "2021-11-30T15:53:21.840Z"
   },
   {
    "duration": 7,
    "start_time": "2021-11-30T15:53:21.856Z"
   },
   {
    "duration": 9,
    "start_time": "2021-11-30T15:53:21.866Z"
   },
   {
    "duration": 11,
    "start_time": "2021-11-30T15:53:21.878Z"
   },
   {
    "duration": 18,
    "start_time": "2021-11-30T15:53:21.892Z"
   },
   {
    "duration": 7,
    "start_time": "2021-11-30T15:53:21.913Z"
   },
   {
    "duration": 8,
    "start_time": "2021-11-30T15:53:21.922Z"
   },
   {
    "duration": 15,
    "start_time": "2021-11-30T15:53:21.933Z"
   },
   {
    "duration": 17,
    "start_time": "2021-11-30T15:53:21.950Z"
   },
   {
    "duration": 36,
    "start_time": "2021-11-30T15:53:21.969Z"
   },
   {
    "duration": 14,
    "start_time": "2021-11-30T15:53:22.008Z"
   },
   {
    "duration": 18,
    "start_time": "2021-11-30T15:53:22.024Z"
   },
   {
    "duration": 17,
    "start_time": "2021-11-30T15:53:22.045Z"
   },
   {
    "duration": 32,
    "start_time": "2021-11-30T15:53:22.065Z"
   },
   {
    "duration": 36,
    "start_time": "2021-11-30T15:53:22.100Z"
   },
   {
    "duration": 33,
    "start_time": "2021-11-30T15:53:22.139Z"
   },
   {
    "duration": 7,
    "start_time": "2021-11-30T15:53:22.176Z"
   },
   {
    "duration": 97,
    "start_time": "2021-11-30T15:53:22.185Z"
   },
   {
    "duration": 170019,
    "start_time": "2021-11-30T15:50:32.266Z"
   },
   {
    "duration": 170005,
    "start_time": "2021-11-30T15:50:32.281Z"
   },
   {
    "duration": 169996,
    "start_time": "2021-11-30T15:50:32.292Z"
   },
   {
    "duration": 169959,
    "start_time": "2021-11-30T15:50:32.330Z"
   },
   {
    "duration": 169902,
    "start_time": "2021-11-30T15:50:32.388Z"
   },
   {
    "duration": 169865,
    "start_time": "2021-11-30T15:50:32.427Z"
   },
   {
    "duration": 169802,
    "start_time": "2021-11-30T15:50:32.492Z"
   },
   {
    "duration": 169706,
    "start_time": "2021-11-30T15:50:32.590Z"
   },
   {
    "duration": 169666,
    "start_time": "2021-11-30T15:50:32.632Z"
   },
   {
    "duration": 169652,
    "start_time": "2021-11-30T15:50:32.648Z"
   },
   {
    "duration": 169627,
    "start_time": "2021-11-30T15:50:32.676Z"
   },
   {
    "duration": 169593,
    "start_time": "2021-11-30T15:50:32.712Z"
   },
   {
    "duration": 169583,
    "start_time": "2021-11-30T15:50:32.724Z"
   },
   {
    "duration": 169573,
    "start_time": "2021-11-30T15:50:32.736Z"
   },
   {
    "duration": 169564,
    "start_time": "2021-11-30T15:50:32.747Z"
   },
   {
    "duration": 169554,
    "start_time": "2021-11-30T15:50:32.759Z"
   },
   {
    "duration": 169543,
    "start_time": "2021-11-30T15:50:32.771Z"
   },
   {
    "duration": 169531,
    "start_time": "2021-11-30T15:50:32.785Z"
   },
   {
    "duration": 169512,
    "start_time": "2021-11-30T15:50:32.805Z"
   },
   {
    "duration": 169472,
    "start_time": "2021-11-30T15:50:32.846Z"
   },
   {
    "duration": 164568,
    "start_time": "2021-11-30T15:50:37.752Z"
   },
   {
    "duration": 164510,
    "start_time": "2021-11-30T15:50:37.811Z"
   },
   {
    "duration": 164491,
    "start_time": "2021-11-30T15:50:37.832Z"
   },
   {
    "duration": 164485,
    "start_time": "2021-11-30T15:50:37.846Z"
   },
   {
    "duration": 164476,
    "start_time": "2021-11-30T15:50:37.857Z"
   },
   {
    "duration": 164463,
    "start_time": "2021-11-30T15:50:37.871Z"
   },
   {
    "duration": 164452,
    "start_time": "2021-11-30T15:50:37.884Z"
   },
   {
    "duration": 164442,
    "start_time": "2021-11-30T15:50:37.896Z"
   },
   {
    "duration": 164409,
    "start_time": "2021-11-30T15:50:37.930Z"
   },
   {
    "duration": 164398,
    "start_time": "2021-11-30T15:50:37.942Z"
   },
   {
    "duration": 164388,
    "start_time": "2021-11-30T15:50:37.953Z"
   },
   {
    "duration": 164377,
    "start_time": "2021-11-30T15:50:37.966Z"
   },
   {
    "duration": 164368,
    "start_time": "2021-11-30T15:50:37.977Z"
   },
   {
    "duration": 164358,
    "start_time": "2021-11-30T15:50:37.988Z"
   },
   {
    "duration": 164348,
    "start_time": "2021-11-30T15:50:37.999Z"
   },
   {
    "duration": 164337,
    "start_time": "2021-11-30T15:50:38.012Z"
   },
   {
    "duration": 164305,
    "start_time": "2021-11-30T15:50:38.046Z"
   },
   {
    "duration": 164295,
    "start_time": "2021-11-30T15:50:38.058Z"
   },
   {
    "duration": 164285,
    "start_time": "2021-11-30T15:50:38.069Z"
   },
   {
    "duration": 164274,
    "start_time": "2021-11-30T15:50:38.082Z"
   },
   {
    "duration": 164263,
    "start_time": "2021-11-30T15:50:38.094Z"
   },
   {
    "duration": 164253,
    "start_time": "2021-11-30T15:50:38.106Z"
   },
   {
    "duration": 164244,
    "start_time": "2021-11-30T15:50:38.116Z"
   },
   {
    "duration": 164232,
    "start_time": "2021-11-30T15:50:38.129Z"
   },
   {
    "duration": 164201,
    "start_time": "2021-11-30T15:50:38.162Z"
   },
   {
    "duration": 164188,
    "start_time": "2021-11-30T15:50:38.176Z"
   },
   {
    "duration": 164179,
    "start_time": "2021-11-30T15:50:38.187Z"
   },
   {
    "duration": 164168,
    "start_time": "2021-11-30T15:50:38.199Z"
   },
   {
    "duration": 164159,
    "start_time": "2021-11-30T15:50:38.210Z"
   },
   {
    "duration": 164206,
    "start_time": "2021-11-30T15:50:38.223Z"
   },
   {
    "duration": 164198,
    "start_time": "2021-11-30T15:50:38.233Z"
   },
   {
    "duration": 164186,
    "start_time": "2021-11-30T15:50:38.246Z"
   },
   {
    "duration": 164154,
    "start_time": "2021-11-30T15:50:38.280Z"
   },
   {
    "duration": 98,
    "start_time": "2021-11-30T15:53:42.121Z"
   },
   {
    "duration": 4,
    "start_time": "2021-11-30T15:53:50.303Z"
   },
   {
    "duration": 6,
    "start_time": "2021-11-30T15:53:51.436Z"
   },
   {
    "duration": 6,
    "start_time": "2021-11-30T16:03:54.313Z"
   },
   {
    "duration": 5,
    "start_time": "2021-11-30T16:04:52.614Z"
   },
   {
    "duration": 6,
    "start_time": "2021-11-30T16:05:57.294Z"
   },
   {
    "duration": 36,
    "start_time": "2021-11-30T16:06:11.216Z"
   },
   {
    "duration": 4,
    "start_time": "2021-11-30T16:11:46.398Z"
   },
   {
    "duration": 6,
    "start_time": "2021-11-30T16:12:59.350Z"
   },
   {
    "duration": 5,
    "start_time": "2021-11-30T16:13:13.046Z"
   },
   {
    "duration": 5,
    "start_time": "2021-11-30T16:13:21.862Z"
   },
   {
    "duration": 6,
    "start_time": "2021-11-30T16:13:23.054Z"
   },
   {
    "duration": 4,
    "start_time": "2021-11-30T16:44:05.110Z"
   },
   {
    "duration": 6,
    "start_time": "2021-11-30T16:44:29.545Z"
   },
   {
    "duration": 1550,
    "start_time": "2021-11-30T16:45:25.590Z"
   },
   {
    "duration": 1206,
    "start_time": "2021-11-30T16:46:17.822Z"
   },
   {
    "duration": 1492,
    "start_time": "2021-11-30T16:46:50.405Z"
   },
   {
    "duration": 1151,
    "start_time": "2021-11-30T16:46:59.467Z"
   },
   {
    "duration": 603,
    "start_time": "2021-11-30T16:47:56.051Z"
   },
   {
    "duration": 96,
    "start_time": "2021-11-30T16:48:15.480Z"
   },
   {
    "duration": 96,
    "start_time": "2021-11-30T16:49:08.215Z"
   },
   {
    "duration": 33,
    "start_time": "2021-11-30T16:49:25.139Z"
   },
   {
    "duration": 779,
    "start_time": "2021-11-30T16:53:36.266Z"
   },
   {
    "duration": 585,
    "start_time": "2021-11-30T16:53:37.047Z"
   },
   {
    "duration": 22,
    "start_time": "2021-11-30T16:53:37.636Z"
   },
   {
    "duration": 42,
    "start_time": "2021-11-30T16:53:37.660Z"
   },
   {
    "duration": 62,
    "start_time": "2021-11-30T16:53:37.704Z"
   },
   {
    "duration": 4,
    "start_time": "2021-11-30T16:53:37.768Z"
   },
   {
    "duration": 18,
    "start_time": "2021-11-30T16:53:37.774Z"
   },
   {
    "duration": 38,
    "start_time": "2021-11-30T16:53:37.798Z"
   },
   {
    "duration": 20,
    "start_time": "2021-11-30T16:53:37.840Z"
   },
   {
    "duration": 25,
    "start_time": "2021-11-30T16:53:37.862Z"
   },
   {
    "duration": 70,
    "start_time": "2021-11-30T16:53:37.889Z"
   },
   {
    "duration": 15,
    "start_time": "2021-11-30T16:53:37.961Z"
   },
   {
    "duration": 18,
    "start_time": "2021-11-30T16:53:37.979Z"
   },
   {
    "duration": 36,
    "start_time": "2021-11-30T16:53:38.000Z"
   },
   {
    "duration": 19,
    "start_time": "2021-11-30T16:53:38.039Z"
   },
   {
    "duration": 15,
    "start_time": "2021-11-30T16:53:38.061Z"
   },
   {
    "duration": 9,
    "start_time": "2021-11-30T16:53:38.078Z"
   },
   {
    "duration": 40,
    "start_time": "2021-11-30T16:53:38.089Z"
   },
   {
    "duration": 10,
    "start_time": "2021-11-30T16:53:38.132Z"
   },
   {
    "duration": 23,
    "start_time": "2021-11-30T16:53:38.144Z"
   },
   {
    "duration": 59,
    "start_time": "2021-11-30T16:53:38.170Z"
   },
   {
    "duration": 11,
    "start_time": "2021-11-30T16:53:38.232Z"
   },
   {
    "duration": 6,
    "start_time": "2021-11-30T16:53:38.249Z"
   },
   {
    "duration": 21,
    "start_time": "2021-11-30T16:53:38.259Z"
   },
   {
    "duration": 19,
    "start_time": "2021-11-30T16:53:38.283Z"
   },
   {
    "duration": 11,
    "start_time": "2021-11-30T16:53:38.329Z"
   },
   {
    "duration": 14,
    "start_time": "2021-11-30T16:53:38.342Z"
   },
   {
    "duration": 34,
    "start_time": "2021-11-30T16:53:38.359Z"
   },
   {
    "duration": 93,
    "start_time": "2021-11-30T16:53:38.397Z"
   },
   {
    "duration": 16,
    "start_time": "2021-11-30T16:53:38.493Z"
   },
   {
    "duration": 26,
    "start_time": "2021-11-30T16:53:38.529Z"
   },
   {
    "duration": 39,
    "start_time": "2021-11-30T16:53:38.557Z"
   },
   {
    "duration": 36,
    "start_time": "2021-11-30T16:53:38.599Z"
   },
   {
    "duration": 37,
    "start_time": "2021-11-30T16:53:38.638Z"
   },
   {
    "duration": 53,
    "start_time": "2021-11-30T16:53:38.678Z"
   },
   {
    "duration": 12,
    "start_time": "2021-11-30T16:53:38.734Z"
   },
   {
    "duration": 11,
    "start_time": "2021-11-30T16:53:38.748Z"
   },
   {
    "duration": 7,
    "start_time": "2021-11-30T16:53:38.762Z"
   },
   {
    "duration": 9,
    "start_time": "2021-11-30T16:53:38.772Z"
   },
   {
    "duration": 8,
    "start_time": "2021-11-30T16:53:38.784Z"
   },
   {
    "duration": 36,
    "start_time": "2021-11-30T16:53:38.795Z"
   },
   {
    "duration": 11,
    "start_time": "2021-11-30T16:53:38.833Z"
   },
   {
    "duration": 10,
    "start_time": "2021-11-30T16:53:38.846Z"
   },
   {
    "duration": 8,
    "start_time": "2021-11-30T16:53:38.858Z"
   },
   {
    "duration": 14,
    "start_time": "2021-11-30T16:53:38.868Z"
   },
   {
    "duration": 7,
    "start_time": "2021-11-30T16:53:38.885Z"
   },
   {
    "duration": 34,
    "start_time": "2021-11-30T16:53:38.895Z"
   },
   {
    "duration": 8,
    "start_time": "2021-11-30T16:53:38.932Z"
   },
   {
    "duration": 6,
    "start_time": "2021-11-30T16:53:38.942Z"
   },
   {
    "duration": 6,
    "start_time": "2021-11-30T16:53:38.950Z"
   },
   {
    "duration": 8,
    "start_time": "2021-11-30T16:53:38.958Z"
   },
   {
    "duration": 12,
    "start_time": "2021-11-30T16:53:38.968Z"
   },
   {
    "duration": 13,
    "start_time": "2021-11-30T16:53:38.982Z"
   },
   {
    "duration": 32,
    "start_time": "2021-11-30T16:53:38.997Z"
   },
   {
    "duration": 5,
    "start_time": "2021-11-30T16:53:39.032Z"
   },
   {
    "duration": 6,
    "start_time": "2021-11-30T16:53:39.040Z"
   },
   {
    "duration": 7,
    "start_time": "2021-11-30T16:53:39.049Z"
   },
   {
    "duration": 10,
    "start_time": "2021-11-30T16:53:39.058Z"
   },
   {
    "duration": 11,
    "start_time": "2021-11-30T16:53:39.071Z"
   },
   {
    "duration": 9,
    "start_time": "2021-11-30T16:53:39.085Z"
   },
   {
    "duration": 33,
    "start_time": "2021-11-30T16:53:39.096Z"
   },
   {
    "duration": 14,
    "start_time": "2021-11-30T16:53:39.132Z"
   },
   {
    "duration": 7,
    "start_time": "2021-11-30T16:53:39.148Z"
   },
   {
    "duration": 8,
    "start_time": "2021-11-30T16:53:39.157Z"
   },
   {
    "duration": 11,
    "start_time": "2021-11-30T16:53:39.168Z"
   },
   {
    "duration": 8,
    "start_time": "2021-11-30T16:53:39.182Z"
   },
   {
    "duration": 8,
    "start_time": "2021-11-30T16:53:39.192Z"
   },
   {
    "duration": 19,
    "start_time": "2021-11-30T16:53:39.210Z"
   },
   {
    "duration": 4,
    "start_time": "2021-11-30T16:53:39.235Z"
   },
   {
    "duration": 7,
    "start_time": "2021-11-30T16:53:39.242Z"
   },
   {
    "duration": 6,
    "start_time": "2021-11-30T16:53:39.252Z"
   },
   {
    "duration": 7,
    "start_time": "2021-11-30T16:53:39.261Z"
   },
   {
    "duration": 4,
    "start_time": "2021-11-30T16:53:39.271Z"
   },
   {
    "duration": 8,
    "start_time": "2021-11-30T16:53:39.278Z"
   },
   {
    "duration": 41,
    "start_time": "2021-11-30T16:53:39.288Z"
   },
   {
    "duration": 6,
    "start_time": "2021-11-30T16:53:39.332Z"
   },
   {
    "duration": 8,
    "start_time": "2021-11-30T16:53:39.341Z"
   },
   {
    "duration": 9,
    "start_time": "2021-11-30T16:53:39.351Z"
   },
   {
    "duration": 7,
    "start_time": "2021-11-30T16:53:39.362Z"
   },
   {
    "duration": 6,
    "start_time": "2021-11-30T16:53:39.371Z"
   },
   {
    "duration": 6,
    "start_time": "2021-11-30T16:53:39.380Z"
   },
   {
    "duration": 47,
    "start_time": "2021-11-30T16:53:39.388Z"
   },
   {
    "duration": 14,
    "start_time": "2021-11-30T16:53:39.438Z"
   },
   {
    "duration": 14,
    "start_time": "2021-11-30T16:53:39.455Z"
   },
   {
    "duration": 18,
    "start_time": "2021-11-30T16:53:39.472Z"
   },
   {
    "duration": 55,
    "start_time": "2021-11-30T16:53:39.493Z"
   },
   {
    "duration": 26,
    "start_time": "2021-11-30T16:53:39.550Z"
   },
   {
    "duration": 40,
    "start_time": "2021-11-30T16:53:39.578Z"
   },
   {
    "duration": 8,
    "start_time": "2021-11-30T16:53:39.621Z"
   },
   {
    "duration": 7,
    "start_time": "2021-11-30T16:53:39.631Z"
   },
   {
    "duration": 10,
    "start_time": "2021-11-30T16:53:39.641Z"
   },
   {
    "duration": 39,
    "start_time": "2021-11-30T16:53:39.653Z"
   },
   {
    "duration": 4,
    "start_time": "2021-11-30T16:53:39.694Z"
   },
   {
    "duration": 130,
    "start_time": "2021-11-30T16:53:39.700Z"
   },
   {
    "duration": 31,
    "start_time": "2021-11-30T16:53:39.832Z"
   },
   {
    "duration": 126,
    "start_time": "2021-11-30T16:53:39.865Z"
   },
   {
    "duration": 3,
    "start_time": "2021-11-30T16:53:39.993Z"
   },
   {
    "duration": 14,
    "start_time": "2021-11-30T16:53:39.999Z"
   },
   {
    "duration": 9,
    "start_time": "2021-11-30T16:53:40.015Z"
   },
   {
    "duration": 8,
    "start_time": "2021-11-30T16:53:40.030Z"
   },
   {
    "duration": 8,
    "start_time": "2021-11-30T16:53:40.041Z"
   },
   {
    "duration": 7,
    "start_time": "2021-11-30T16:53:40.052Z"
   },
   {
    "duration": 10,
    "start_time": "2021-11-30T16:53:40.061Z"
   },
   {
    "duration": 8,
    "start_time": "2021-11-30T16:53:40.073Z"
   },
   {
    "duration": 7,
    "start_time": "2021-11-30T16:53:40.083Z"
   },
   {
    "duration": 17,
    "start_time": "2021-11-30T16:53:40.092Z"
   },
   {
    "duration": 16,
    "start_time": "2021-11-30T16:53:40.113Z"
   },
   {
    "duration": 3,
    "start_time": "2021-11-30T16:53:40.131Z"
   },
   {
    "duration": 6,
    "start_time": "2021-11-30T16:53:40.136Z"
   },
   {
    "duration": 7,
    "start_time": "2021-11-30T16:53:40.145Z"
   },
   {
    "duration": 10,
    "start_time": "2021-11-30T16:53:40.154Z"
   },
   {
    "duration": 9,
    "start_time": "2021-11-30T16:53:40.166Z"
   },
   {
    "duration": 11,
    "start_time": "2021-11-30T16:53:40.177Z"
   },
   {
    "duration": 7,
    "start_time": "2021-11-30T16:53:40.190Z"
   },
   {
    "duration": 7,
    "start_time": "2021-11-30T16:53:40.199Z"
   },
   {
    "duration": 4,
    "start_time": "2021-11-30T16:53:40.228Z"
   },
   {
    "duration": 6,
    "start_time": "2021-11-30T16:53:40.234Z"
   },
   {
    "duration": 9,
    "start_time": "2021-11-30T16:53:40.243Z"
   },
   {
    "duration": 6,
    "start_time": "2021-11-30T16:53:40.254Z"
   },
   {
    "duration": 7,
    "start_time": "2021-11-30T16:53:40.262Z"
   },
   {
    "duration": 5,
    "start_time": "2021-11-30T16:53:40.272Z"
   },
   {
    "duration": 6,
    "start_time": "2021-11-30T16:53:40.279Z"
   },
   {
    "duration": 6,
    "start_time": "2021-11-30T16:53:40.288Z"
   },
   {
    "duration": 33,
    "start_time": "2021-11-30T16:53:40.296Z"
   },
   {
    "duration": 7,
    "start_time": "2021-11-30T16:53:40.331Z"
   },
   {
    "duration": 7,
    "start_time": "2021-11-30T16:53:40.340Z"
   },
   {
    "duration": 9,
    "start_time": "2021-11-30T16:53:40.349Z"
   },
   {
    "duration": 6,
    "start_time": "2021-11-30T16:53:40.360Z"
   },
   {
    "duration": 6,
    "start_time": "2021-11-30T16:53:40.368Z"
   },
   {
    "duration": 6,
    "start_time": "2021-11-30T16:53:40.376Z"
   },
   {
    "duration": 6,
    "start_time": "2021-11-30T16:53:40.384Z"
   },
   {
    "duration": 37,
    "start_time": "2021-11-30T16:53:40.392Z"
   },
   {
    "duration": 7,
    "start_time": "2021-11-30T16:53:40.431Z"
   },
   {
    "duration": 481,
    "start_time": "2021-11-30T16:53:40.440Z"
   },
   {
    "duration": 6,
    "start_time": "2021-11-30T16:53:40.923Z"
   },
   {
    "duration": 6,
    "start_time": "2021-11-30T16:53:40.931Z"
   },
   {
    "duration": 6,
    "start_time": "2021-11-30T16:53:40.940Z"
   },
   {
    "duration": 8,
    "start_time": "2021-11-30T16:53:40.948Z"
   },
   {
    "duration": 5,
    "start_time": "2021-11-30T16:53:40.959Z"
   },
   {
    "duration": 6,
    "start_time": "2021-11-30T16:53:40.966Z"
   },
   {
    "duration": 6,
    "start_time": "2021-11-30T16:53:40.974Z"
   },
   {
    "duration": 6,
    "start_time": "2021-11-30T16:53:40.982Z"
   },
   {
    "duration": 38,
    "start_time": "2021-11-30T16:53:40.990Z"
   },
   {
    "duration": 7,
    "start_time": "2021-11-30T16:53:41.031Z"
   },
   {
    "duration": 6,
    "start_time": "2021-11-30T16:53:41.040Z"
   },
   {
    "duration": 5,
    "start_time": "2021-11-30T16:53:41.048Z"
   },
   {
    "duration": 35,
    "start_time": "2021-11-30T16:56:16.078Z"
   },
   {
    "duration": 1174,
    "start_time": "2021-12-01T10:52:14.894Z"
   },
   {
    "duration": 17,
    "start_time": "2021-12-01T10:54:01.133Z"
   },
   {
    "duration": 601,
    "start_time": "2021-12-01T11:40:07.772Z"
   },
   {
    "duration": 374,
    "start_time": "2021-12-01T11:40:08.375Z"
   },
   {
    "duration": 15,
    "start_time": "2021-12-01T11:40:08.751Z"
   },
   {
    "duration": 27,
    "start_time": "2021-12-01T11:40:08.767Z"
   },
   {
    "duration": 54,
    "start_time": "2021-12-01T11:40:08.796Z"
   },
   {
    "duration": 3,
    "start_time": "2021-12-01T11:40:08.852Z"
   },
   {
    "duration": 7,
    "start_time": "2021-12-01T11:40:08.857Z"
   },
   {
    "duration": 10,
    "start_time": "2021-12-01T11:40:08.866Z"
   },
   {
    "duration": 14,
    "start_time": "2021-12-01T11:40:08.878Z"
   },
   {
    "duration": 21,
    "start_time": "2021-12-01T11:40:08.894Z"
   },
   {
    "duration": 23,
    "start_time": "2021-12-01T11:40:08.945Z"
   },
   {
    "duration": 9,
    "start_time": "2021-12-01T11:40:08.969Z"
   },
   {
    "duration": 6,
    "start_time": "2021-12-01T11:40:08.979Z"
   },
   {
    "duration": 10,
    "start_time": "2021-12-01T11:40:08.987Z"
   },
   {
    "duration": 4,
    "start_time": "2021-12-01T11:40:08.998Z"
   },
   {
    "duration": 12,
    "start_time": "2021-12-01T11:40:09.003Z"
   },
   {
    "duration": 28,
    "start_time": "2021-12-01T11:40:09.017Z"
   },
   {
    "duration": 10,
    "start_time": "2021-12-01T11:40:09.047Z"
   },
   {
    "duration": 11,
    "start_time": "2021-12-01T11:40:09.058Z"
   },
   {
    "duration": 24,
    "start_time": "2021-12-01T11:40:09.071Z"
   },
   {
    "duration": 47,
    "start_time": "2021-12-01T11:40:09.097Z"
   },
   {
    "duration": 11,
    "start_time": "2021-12-01T11:40:09.146Z"
   },
   {
    "duration": 3,
    "start_time": "2021-12-01T11:40:09.162Z"
   },
   {
    "duration": 14,
    "start_time": "2021-12-01T11:40:09.169Z"
   },
   {
    "duration": 15,
    "start_time": "2021-12-01T11:40:09.185Z"
   },
   {
    "duration": 9,
    "start_time": "2021-12-01T11:40:09.202Z"
   },
   {
    "duration": 33,
    "start_time": "2021-12-01T11:40:09.213Z"
   },
   {
    "duration": 27,
    "start_time": "2021-12-01T11:40:09.248Z"
   },
   {
    "duration": 35,
    "start_time": "2021-12-01T11:40:09.277Z"
   },
   {
    "duration": 8,
    "start_time": "2021-12-01T11:40:09.313Z"
   },
   {
    "duration": 35,
    "start_time": "2021-12-01T11:40:09.322Z"
   },
   {
    "duration": 27,
    "start_time": "2021-12-01T11:40:09.359Z"
   },
   {
    "duration": 7,
    "start_time": "2021-12-01T11:40:09.388Z"
   },
   {
    "duration": 50,
    "start_time": "2021-12-01T11:40:09.397Z"
   },
   {
    "duration": 13,
    "start_time": "2021-12-01T11:40:09.449Z"
   },
   {
    "duration": 1140,
    "start_time": "2021-12-01T11:40:09.464Z"
   },
   {
    "duration": 173405,
    "start_time": "2021-12-01T11:37:17.203Z"
   },
   {
    "duration": 173394,
    "start_time": "2021-12-01T11:37:17.216Z"
   },
   {
    "duration": 173380,
    "start_time": "2021-12-01T11:37:17.230Z"
   },
   {
    "duration": 173370,
    "start_time": "2021-12-01T11:37:17.241Z"
   },
   {
    "duration": 173357,
    "start_time": "2021-12-01T11:37:17.255Z"
   },
   {
    "duration": 173346,
    "start_time": "2021-12-01T11:37:17.267Z"
   },
   {
    "duration": 173332,
    "start_time": "2021-12-01T11:37:17.281Z"
   },
   {
    "duration": 173254,
    "start_time": "2021-12-01T11:37:17.360Z"
   },
   {
    "duration": 173238,
    "start_time": "2021-12-01T11:37:17.377Z"
   },
   {
    "duration": 173225,
    "start_time": "2021-12-01T11:37:17.391Z"
   },
   {
    "duration": 173211,
    "start_time": "2021-12-01T11:37:17.405Z"
   },
   {
    "duration": 173200,
    "start_time": "2021-12-01T11:37:17.417Z"
   },
   {
    "duration": 173183,
    "start_time": "2021-12-01T11:37:17.435Z"
   },
   {
    "duration": 173171,
    "start_time": "2021-12-01T11:37:17.448Z"
   },
   {
    "duration": 173133,
    "start_time": "2021-12-01T11:37:17.487Z"
   },
   {
    "duration": 173120,
    "start_time": "2021-12-01T11:37:17.501Z"
   },
   {
    "duration": 173105,
    "start_time": "2021-12-01T11:37:17.517Z"
   },
   {
    "duration": 173093,
    "start_time": "2021-12-01T11:37:17.530Z"
   },
   {
    "duration": 173080,
    "start_time": "2021-12-01T11:37:17.544Z"
   },
   {
    "duration": 173068,
    "start_time": "2021-12-01T11:37:17.557Z"
   },
   {
    "duration": 173053,
    "start_time": "2021-12-01T11:37:17.572Z"
   },
   {
    "duration": 173012,
    "start_time": "2021-12-01T11:37:17.614Z"
   },
   {
    "duration": 172929,
    "start_time": "2021-12-01T11:37:17.699Z"
   },
   {
    "duration": 172881,
    "start_time": "2021-12-01T11:37:17.748Z"
   },
   {
    "duration": 172867,
    "start_time": "2021-12-01T11:37:17.763Z"
   },
   {
    "duration": 172855,
    "start_time": "2021-12-01T11:37:17.776Z"
   },
   {
    "duration": 172843,
    "start_time": "2021-12-01T11:37:17.789Z"
   },
   {
    "duration": 172830,
    "start_time": "2021-12-01T11:37:17.803Z"
   },
   {
    "duration": 172817,
    "start_time": "2021-12-01T11:37:17.817Z"
   },
   {
    "duration": 172805,
    "start_time": "2021-12-01T11:37:17.830Z"
   },
   {
    "duration": 172760,
    "start_time": "2021-12-01T11:37:17.876Z"
   },
   {
    "duration": 172745,
    "start_time": "2021-12-01T11:37:17.892Z"
   },
   {
    "duration": 172731,
    "start_time": "2021-12-01T11:37:17.907Z"
   },
   {
    "duration": 172719,
    "start_time": "2021-12-01T11:37:17.920Z"
   },
   {
    "duration": 172706,
    "start_time": "2021-12-01T11:37:17.934Z"
   },
   {
    "duration": 172695,
    "start_time": "2021-12-01T11:37:17.946Z"
   },
   {
    "duration": 172682,
    "start_time": "2021-12-01T11:37:17.960Z"
   },
   {
    "duration": 172635,
    "start_time": "2021-12-01T11:37:18.008Z"
   },
   {
    "duration": 172619,
    "start_time": "2021-12-01T11:37:18.025Z"
   },
   {
    "duration": 171524,
    "start_time": "2021-12-01T11:37:19.121Z"
   },
   {
    "duration": 171509,
    "start_time": "2021-12-01T11:37:19.138Z"
   },
   {
    "duration": 171497,
    "start_time": "2021-12-01T11:37:19.151Z"
   },
   {
    "duration": 171465,
    "start_time": "2021-12-01T11:37:19.184Z"
   },
   {
    "duration": 171451,
    "start_time": "2021-12-01T11:37:19.199Z"
   },
   {
    "duration": 171433,
    "start_time": "2021-12-01T11:37:19.219Z"
   },
   {
    "duration": 171399,
    "start_time": "2021-12-01T11:37:19.254Z"
   },
   {
    "duration": 171384,
    "start_time": "2021-12-01T11:37:19.270Z"
   },
   {
    "duration": 171374,
    "start_time": "2021-12-01T11:37:19.282Z"
   },
   {
    "duration": 171361,
    "start_time": "2021-12-01T11:37:19.296Z"
   },
   {
    "duration": 171350,
    "start_time": "2021-12-01T11:37:19.308Z"
   },
   {
    "duration": 171336,
    "start_time": "2021-12-01T11:37:19.323Z"
   },
   {
    "duration": 171326,
    "start_time": "2021-12-01T11:37:19.335Z"
   },
   {
    "duration": 171292,
    "start_time": "2021-12-01T11:37:19.370Z"
   },
   {
    "duration": 171280,
    "start_time": "2021-12-01T11:37:19.383Z"
   },
   {
    "duration": 171268,
    "start_time": "2021-12-01T11:37:19.396Z"
   },
   {
    "duration": 171256,
    "start_time": "2021-12-01T11:37:19.409Z"
   },
   {
    "duration": 171244,
    "start_time": "2021-12-01T11:37:19.423Z"
   },
   {
    "duration": 171232,
    "start_time": "2021-12-01T11:37:19.436Z"
   },
   {
    "duration": 171219,
    "start_time": "2021-12-01T11:37:19.450Z"
   },
   {
    "duration": 171207,
    "start_time": "2021-12-01T11:37:19.463Z"
   },
   {
    "duration": 171172,
    "start_time": "2021-12-01T11:37:19.500Z"
   },
   {
    "duration": 171158,
    "start_time": "2021-12-01T11:37:19.515Z"
   },
   {
    "duration": 171143,
    "start_time": "2021-12-01T11:37:19.531Z"
   },
   {
    "duration": 171133,
    "start_time": "2021-12-01T11:37:19.543Z"
   },
   {
    "duration": 171121,
    "start_time": "2021-12-01T11:37:19.556Z"
   },
   {
    "duration": 171107,
    "start_time": "2021-12-01T11:37:19.571Z"
   },
   {
    "duration": 171094,
    "start_time": "2021-12-01T11:37:19.585Z"
   },
   {
    "duration": 171059,
    "start_time": "2021-12-01T11:37:19.621Z"
   },
   {
    "duration": 170962,
    "start_time": "2021-12-01T11:37:19.719Z"
   },
   {
    "duration": 170914,
    "start_time": "2021-12-01T11:37:19.768Z"
   },
   {
    "duration": 170900,
    "start_time": "2021-12-01T11:37:19.784Z"
   },
   {
    "duration": 170947,
    "start_time": "2021-12-01T11:37:19.797Z"
   },
   {
    "duration": 170936,
    "start_time": "2021-12-01T11:37:19.810Z"
   },
   {
    "duration": 170924,
    "start_time": "2021-12-01T11:37:19.823Z"
   },
   {
    "duration": 170911,
    "start_time": "2021-12-01T11:37:19.837Z"
   },
   {
    "duration": 170901,
    "start_time": "2021-12-01T11:37:19.849Z"
   },
   {
    "duration": 170854,
    "start_time": "2021-12-01T11:37:19.897Z"
   },
   {
    "duration": 170842,
    "start_time": "2021-12-01T11:37:19.910Z"
   },
   {
    "duration": 170828,
    "start_time": "2021-12-01T11:37:19.926Z"
   },
   {
    "duration": 169072,
    "start_time": "2021-12-01T11:37:21.683Z"
   },
   {
    "duration": 168956,
    "start_time": "2021-12-01T11:37:21.800Z"
   },
   {
    "duration": 168942,
    "start_time": "2021-12-01T11:37:21.815Z"
   },
   {
    "duration": 168929,
    "start_time": "2021-12-01T11:37:21.830Z"
   },
   {
    "duration": 168919,
    "start_time": "2021-12-01T11:37:21.841Z"
   },
   {
    "duration": 168907,
    "start_time": "2021-12-01T11:37:21.854Z"
   },
   {
    "duration": 168895,
    "start_time": "2021-12-01T11:37:21.868Z"
   },
   {
    "duration": 168882,
    "start_time": "2021-12-01T11:37:21.882Z"
   },
   {
    "duration": 168834,
    "start_time": "2021-12-01T11:37:21.931Z"
   },
   {
    "duration": 168819,
    "start_time": "2021-12-01T11:37:21.947Z"
   },
   {
    "duration": 168802,
    "start_time": "2021-12-01T11:37:21.966Z"
   },
   {
    "duration": 168784,
    "start_time": "2021-12-01T11:37:21.985Z"
   },
   {
    "duration": 168771,
    "start_time": "2021-12-01T11:37:21.999Z"
   },
   {
    "duration": 168757,
    "start_time": "2021-12-01T11:37:22.014Z"
   },
   {
    "duration": 168713,
    "start_time": "2021-12-01T11:37:22.059Z"
   },
   {
    "duration": 168699,
    "start_time": "2021-12-01T11:37:22.075Z"
   },
   {
    "duration": 168685,
    "start_time": "2021-12-01T11:37:22.090Z"
   },
   {
    "duration": 168595,
    "start_time": "2021-12-01T11:37:22.181Z"
   },
   {
    "duration": 168544,
    "start_time": "2021-12-01T11:37:22.233Z"
   },
   {
    "duration": 168496,
    "start_time": "2021-12-01T11:37:22.283Z"
   },
   {
    "duration": 168483,
    "start_time": "2021-12-01T11:37:22.297Z"
   },
   {
    "duration": 168469,
    "start_time": "2021-12-01T11:37:22.312Z"
   },
   {
    "duration": 168458,
    "start_time": "2021-12-01T11:37:22.324Z"
   },
   {
    "duration": 168447,
    "start_time": "2021-12-01T11:37:22.337Z"
   },
   {
    "duration": 168435,
    "start_time": "2021-12-01T11:37:22.350Z"
   },
   {
    "duration": 168481,
    "start_time": "2021-12-01T11:37:22.363Z"
   },
   {
    "duration": 168432,
    "start_time": "2021-12-01T11:37:22.414Z"
   },
   {
    "duration": 168417,
    "start_time": "2021-12-01T11:37:22.430Z"
   },
   {
    "duration": 168406,
    "start_time": "2021-12-01T11:37:22.442Z"
   },
   {
    "duration": 168386,
    "start_time": "2021-12-01T11:37:22.463Z"
   },
   {
    "duration": 168376,
    "start_time": "2021-12-01T11:37:22.475Z"
   },
   {
    "duration": 168363,
    "start_time": "2021-12-01T11:37:22.489Z"
   },
   {
    "duration": 168352,
    "start_time": "2021-12-01T11:37:22.501Z"
   },
   {
    "duration": 168298,
    "start_time": "2021-12-01T11:37:22.557Z"
   },
   {
    "duration": 9,
    "start_time": "2021-12-01T11:41:24.811Z"
   },
   {
    "duration": 2,
    "start_time": "2021-12-01T11:41:43.594Z"
   },
   {
    "duration": 390,
    "start_time": "2021-12-01T11:41:43.629Z"
   },
   {
    "duration": 8,
    "start_time": "2021-12-01T11:41:44.020Z"
   },
   {
    "duration": 22,
    "start_time": "2021-12-01T11:41:44.030Z"
   },
   {
    "duration": 26,
    "start_time": "2021-12-01T11:41:44.053Z"
   },
   {
    "duration": 3,
    "start_time": "2021-12-01T11:41:44.080Z"
   },
   {
    "duration": 9,
    "start_time": "2021-12-01T11:41:44.084Z"
   },
   {
    "duration": 10,
    "start_time": "2021-12-01T11:41:44.094Z"
   },
   {
    "duration": 9,
    "start_time": "2021-12-01T11:41:44.106Z"
   },
   {
    "duration": 38,
    "start_time": "2021-12-01T11:41:44.118Z"
   },
   {
    "duration": 20,
    "start_time": "2021-12-01T11:41:44.158Z"
   },
   {
    "duration": 8,
    "start_time": "2021-12-01T11:41:44.180Z"
   },
   {
    "duration": 7,
    "start_time": "2021-12-01T11:41:44.190Z"
   },
   {
    "duration": 10,
    "start_time": "2021-12-01T11:41:44.198Z"
   },
   {
    "duration": 7,
    "start_time": "2021-12-01T11:41:44.209Z"
   },
   {
    "duration": 8,
    "start_time": "2021-12-01T11:41:44.244Z"
   },
   {
    "duration": 6,
    "start_time": "2021-12-01T11:41:44.254Z"
   },
   {
    "duration": 13,
    "start_time": "2021-12-01T11:41:44.262Z"
   },
   {
    "duration": 12,
    "start_time": "2021-12-01T11:41:44.277Z"
   },
   {
    "duration": 25,
    "start_time": "2021-12-01T11:41:44.291Z"
   },
   {
    "duration": 49,
    "start_time": "2021-12-01T11:41:44.318Z"
   },
   {
    "duration": 8,
    "start_time": "2021-12-01T11:41:44.369Z"
   },
   {
    "duration": 5,
    "start_time": "2021-12-01T11:41:44.379Z"
   },
   {
    "duration": 11,
    "start_time": "2021-12-01T11:41:44.386Z"
   },
   {
    "duration": 13,
    "start_time": "2021-12-01T11:41:44.399Z"
   },
   {
    "duration": 8,
    "start_time": "2021-12-01T11:41:44.444Z"
   },
   {
    "duration": 13,
    "start_time": "2021-12-01T11:41:44.454Z"
   },
   {
    "duration": 26,
    "start_time": "2021-12-01T11:41:44.473Z"
   },
   {
    "duration": 70,
    "start_time": "2021-12-01T11:41:44.502Z"
   },
   {
    "duration": 9,
    "start_time": "2021-12-01T11:41:44.574Z"
   },
   {
    "duration": 26,
    "start_time": "2021-12-01T11:41:44.585Z"
   },
   {
    "duration": 43,
    "start_time": "2021-12-01T11:41:44.613Z"
   },
   {
    "duration": 7,
    "start_time": "2021-12-01T11:41:44.658Z"
   },
   {
    "duration": 29,
    "start_time": "2021-12-01T11:41:44.667Z"
   },
   {
    "duration": 50,
    "start_time": "2021-12-01T11:41:44.698Z"
   },
   {
    "duration": 12,
    "start_time": "2021-12-01T11:41:44.749Z"
   },
   {
    "duration": 46,
    "start_time": "2021-12-01T11:41:44.762Z"
   },
   {
    "duration": 21,
    "start_time": "2021-12-01T11:41:44.810Z"
   },
   {
    "duration": 15,
    "start_time": "2021-12-01T11:41:44.833Z"
   },
   {
    "duration": 8,
    "start_time": "2021-12-01T11:41:44.850Z"
   },
   {
    "duration": 7,
    "start_time": "2021-12-01T11:41:44.860Z"
   },
   {
    "duration": 5,
    "start_time": "2021-12-01T11:41:44.868Z"
   },
   {
    "duration": 6,
    "start_time": "2021-12-01T11:41:44.874Z"
   },
   {
    "duration": 6,
    "start_time": "2021-12-01T11:41:44.882Z"
   },
   {
    "duration": 9,
    "start_time": "2021-12-01T11:41:44.889Z"
   },
   {
    "duration": 6,
    "start_time": "2021-12-01T11:41:44.900Z"
   },
   {
    "duration": 15,
    "start_time": "2021-12-01T11:41:44.908Z"
   },
   {
    "duration": 6,
    "start_time": "2021-12-01T11:41:44.925Z"
   },
   {
    "duration": 14,
    "start_time": "2021-12-01T11:41:44.932Z"
   },
   {
    "duration": 8,
    "start_time": "2021-12-01T11:41:44.948Z"
   },
   {
    "duration": 6,
    "start_time": "2021-12-01T11:41:44.958Z"
   },
   {
    "duration": 5,
    "start_time": "2021-12-01T11:41:44.965Z"
   },
   {
    "duration": 9,
    "start_time": "2021-12-01T11:41:44.972Z"
   },
   {
    "duration": 7,
    "start_time": "2021-12-01T11:41:44.983Z"
   },
   {
    "duration": 18,
    "start_time": "2021-12-01T11:41:44.992Z"
   },
   {
    "duration": 16,
    "start_time": "2021-12-01T11:41:45.012Z"
   },
   {
    "duration": 21,
    "start_time": "2021-12-01T11:41:45.030Z"
   },
   {
    "duration": 27,
    "start_time": "2021-12-01T11:41:45.053Z"
   },
   {
    "duration": 10,
    "start_time": "2021-12-01T11:41:45.082Z"
   },
   {
    "duration": 13,
    "start_time": "2021-12-01T11:41:45.097Z"
   },
   {
    "duration": 6,
    "start_time": "2021-12-01T11:41:45.112Z"
   },
   {
    "duration": 24,
    "start_time": "2021-12-01T11:41:45.120Z"
   },
   {
    "duration": 14,
    "start_time": "2021-12-01T11:41:45.145Z"
   },
   {
    "duration": 11,
    "start_time": "2021-12-01T11:41:45.161Z"
   },
   {
    "duration": 13,
    "start_time": "2021-12-01T11:41:45.173Z"
   },
   {
    "duration": 13,
    "start_time": "2021-12-01T11:41:45.188Z"
   },
   {
    "duration": 10,
    "start_time": "2021-12-01T11:41:45.203Z"
   },
   {
    "duration": 13,
    "start_time": "2021-12-01T11:41:45.214Z"
   },
   {
    "duration": 9,
    "start_time": "2021-12-01T11:41:45.229Z"
   },
   {
    "duration": 28,
    "start_time": "2021-12-01T11:41:45.239Z"
   },
   {
    "duration": 12,
    "start_time": "2021-12-01T11:41:45.268Z"
   },
   {
    "duration": 10,
    "start_time": "2021-12-01T11:41:45.281Z"
   },
   {
    "duration": 13,
    "start_time": "2021-12-01T11:41:45.293Z"
   },
   {
    "duration": 11,
    "start_time": "2021-12-01T11:41:45.307Z"
   },
   {
    "duration": 6,
    "start_time": "2021-12-01T11:41:45.319Z"
   },
   {
    "duration": 4,
    "start_time": "2021-12-01T11:41:45.327Z"
   },
   {
    "duration": 5,
    "start_time": "2021-12-01T11:41:45.333Z"
   },
   {
    "duration": 4,
    "start_time": "2021-12-01T11:41:45.340Z"
   },
   {
    "duration": 11,
    "start_time": "2021-12-01T11:41:45.346Z"
   },
   {
    "duration": 5,
    "start_time": "2021-12-01T11:41:45.359Z"
   },
   {
    "duration": 7,
    "start_time": "2021-12-01T11:41:45.365Z"
   },
   {
    "duration": 5,
    "start_time": "2021-12-01T11:41:45.374Z"
   },
   {
    "duration": 4,
    "start_time": "2021-12-01T11:41:45.380Z"
   },
   {
    "duration": 13,
    "start_time": "2021-12-01T11:41:45.386Z"
   },
   {
    "duration": 8,
    "start_time": "2021-12-01T11:41:45.401Z"
   },
   {
    "duration": 11,
    "start_time": "2021-12-01T11:41:45.411Z"
   },
   {
    "duration": 28,
    "start_time": "2021-12-01T11:41:45.424Z"
   },
   {
    "duration": 25,
    "start_time": "2021-12-01T11:41:45.454Z"
   },
   {
    "duration": 9,
    "start_time": "2021-12-01T11:41:45.481Z"
   },
   {
    "duration": 23,
    "start_time": "2021-12-01T11:41:45.491Z"
   },
   {
    "duration": 30,
    "start_time": "2021-12-01T11:41:45.516Z"
   },
   {
    "duration": 4,
    "start_time": "2021-12-01T11:41:45.548Z"
   },
   {
    "duration": 7,
    "start_time": "2021-12-01T11:41:45.554Z"
   },
   {
    "duration": 31,
    "start_time": "2021-12-01T11:41:45.563Z"
   },
   {
    "duration": 4,
    "start_time": "2021-12-01T11:41:45.596Z"
   },
   {
    "duration": 11,
    "start_time": "2021-12-01T11:41:45.601Z"
   },
   {
    "duration": 64,
    "start_time": "2021-12-01T11:41:45.645Z"
   },
   {
    "duration": 41,
    "start_time": "2021-12-01T11:41:45.711Z"
   },
   {
    "duration": 76,
    "start_time": "2021-12-01T11:41:45.754Z"
   },
   {
    "duration": 2,
    "start_time": "2021-12-01T11:41:45.832Z"
   },
   {
    "duration": 3,
    "start_time": "2021-12-01T11:41:45.844Z"
   },
   {
    "duration": 6,
    "start_time": "2021-12-01T11:41:45.849Z"
   },
   {
    "duration": 10,
    "start_time": "2021-12-01T11:41:45.857Z"
   },
   {
    "duration": 7,
    "start_time": "2021-12-01T11:41:45.869Z"
   },
   {
    "duration": 8,
    "start_time": "2021-12-01T11:41:45.878Z"
   },
   {
    "duration": 17,
    "start_time": "2021-12-01T11:41:45.887Z"
   },
   {
    "duration": 2,
    "start_time": "2021-12-01T11:41:45.909Z"
   },
   {
    "duration": 7,
    "start_time": "2021-12-01T11:41:45.913Z"
   },
   {
    "duration": 6,
    "start_time": "2021-12-01T11:41:45.921Z"
   },
   {
    "duration": 6,
    "start_time": "2021-12-01T11:41:45.929Z"
   },
   {
    "duration": 8,
    "start_time": "2021-12-01T11:41:45.936Z"
   },
   {
    "duration": 5,
    "start_time": "2021-12-01T11:41:45.946Z"
   },
   {
    "duration": 10,
    "start_time": "2021-12-01T11:41:45.953Z"
   },
   {
    "duration": 12,
    "start_time": "2021-12-01T11:41:45.964Z"
   },
   {
    "duration": 6,
    "start_time": "2021-12-01T11:41:45.977Z"
   },
   {
    "duration": 5,
    "start_time": "2021-12-01T11:41:45.984Z"
   },
   {
    "duration": 7,
    "start_time": "2021-12-01T11:41:45.991Z"
   },
   {
    "duration": 6,
    "start_time": "2021-12-01T11:41:46.000Z"
   },
   {
    "duration": 8,
    "start_time": "2021-12-01T11:41:46.007Z"
   },
   {
    "duration": 7,
    "start_time": "2021-12-01T11:41:46.017Z"
   },
   {
    "duration": 22,
    "start_time": "2021-12-01T11:41:46.026Z"
   },
   {
    "duration": 15,
    "start_time": "2021-12-01T11:41:46.050Z"
   },
   {
    "duration": 25,
    "start_time": "2021-12-01T11:41:46.066Z"
   },
   {
    "duration": 16,
    "start_time": "2021-12-01T11:41:46.093Z"
   },
   {
    "duration": 20,
    "start_time": "2021-12-01T11:41:46.111Z"
   },
   {
    "duration": 24,
    "start_time": "2021-12-01T11:41:46.132Z"
   },
   {
    "duration": 19,
    "start_time": "2021-12-01T11:41:46.157Z"
   },
   {
    "duration": 30,
    "start_time": "2021-12-01T11:41:46.178Z"
   },
   {
    "duration": 9,
    "start_time": "2021-12-01T11:41:46.210Z"
   },
   {
    "duration": 26,
    "start_time": "2021-12-01T11:41:46.221Z"
   },
   {
    "duration": 13,
    "start_time": "2021-12-01T11:41:46.249Z"
   },
   {
    "duration": 11,
    "start_time": "2021-12-01T11:41:46.264Z"
   },
   {
    "duration": 27,
    "start_time": "2021-12-01T11:41:46.277Z"
   },
   {
    "duration": 10,
    "start_time": "2021-12-01T11:41:46.306Z"
   },
   {
    "duration": 14,
    "start_time": "2021-12-01T11:41:46.318Z"
   },
   {
    "duration": 27,
    "start_time": "2021-12-01T11:41:46.334Z"
   },
   {
    "duration": 427,
    "start_time": "2021-12-01T11:41:46.363Z"
   },
   {
    "duration": 3,
    "start_time": "2021-12-01T11:41:46.791Z"
   },
   {
    "duration": 10,
    "start_time": "2021-12-01T11:41:46.795Z"
   },
   {
    "duration": 7,
    "start_time": "2021-12-01T11:41:46.806Z"
   },
   {
    "duration": 8,
    "start_time": "2021-12-01T11:41:46.815Z"
   },
   {
    "duration": 8,
    "start_time": "2021-12-01T11:41:46.825Z"
   },
   {
    "duration": 5,
    "start_time": "2021-12-01T11:41:46.835Z"
   },
   {
    "duration": 8,
    "start_time": "2021-12-01T11:41:46.841Z"
   },
   {
    "duration": 5,
    "start_time": "2021-12-01T11:41:46.850Z"
   },
   {
    "duration": 9,
    "start_time": "2021-12-01T11:41:46.856Z"
   },
   {
    "duration": 7,
    "start_time": "2021-12-01T11:41:46.866Z"
   },
   {
    "duration": 7,
    "start_time": "2021-12-01T11:41:46.875Z"
   },
   {
    "duration": 7,
    "start_time": "2021-12-01T11:41:46.883Z"
   },
   {
    "duration": 2,
    "start_time": "2021-12-01T11:43:26.281Z"
   },
   {
    "duration": 414,
    "start_time": "2021-12-01T11:43:26.289Z"
   },
   {
    "duration": 8,
    "start_time": "2021-12-01T11:43:26.705Z"
   },
   {
    "duration": 39,
    "start_time": "2021-12-01T11:43:26.715Z"
   },
   {
    "duration": 49,
    "start_time": "2021-12-01T11:43:26.756Z"
   },
   {
    "duration": 12,
    "start_time": "2021-12-01T11:43:26.807Z"
   },
   {
    "duration": 18,
    "start_time": "2021-12-01T11:43:26.820Z"
   },
   {
    "duration": 13,
    "start_time": "2021-12-01T11:43:26.840Z"
   },
   {
    "duration": 9,
    "start_time": "2021-12-01T11:43:26.856Z"
   },
   {
    "duration": 32,
    "start_time": "2021-12-01T11:43:26.867Z"
   },
   {
    "duration": 19,
    "start_time": "2021-12-01T11:43:26.901Z"
   },
   {
    "duration": 6,
    "start_time": "2021-12-01T11:43:26.922Z"
   },
   {
    "duration": 17,
    "start_time": "2021-12-01T11:43:26.930Z"
   },
   {
    "duration": 17,
    "start_time": "2021-12-01T11:43:26.949Z"
   },
   {
    "duration": 11,
    "start_time": "2021-12-01T11:43:26.968Z"
   },
   {
    "duration": 7,
    "start_time": "2021-12-01T11:43:26.981Z"
   },
   {
    "duration": 9,
    "start_time": "2021-12-01T11:43:26.989Z"
   },
   {
    "duration": 17,
    "start_time": "2021-12-01T11:43:26.999Z"
   },
   {
    "duration": 33,
    "start_time": "2021-12-01T11:43:27.017Z"
   },
   {
    "duration": 8,
    "start_time": "2021-12-01T11:43:27.051Z"
   },
   {
    "duration": 44,
    "start_time": "2021-12-01T11:43:27.060Z"
   },
   {
    "duration": 20,
    "start_time": "2021-12-01T11:43:27.105Z"
   },
   {
    "duration": 50,
    "start_time": "2021-12-01T11:43:27.127Z"
   },
   {
    "duration": 47,
    "start_time": "2021-12-01T11:43:27.181Z"
   },
   {
    "duration": 40,
    "start_time": "2021-12-01T11:43:27.230Z"
   },
   {
    "duration": 77,
    "start_time": "2021-12-01T11:43:27.272Z"
   },
   {
    "duration": 34,
    "start_time": "2021-12-01T11:43:27.351Z"
   },
   {
    "duration": 8,
    "start_time": "2021-12-01T11:43:27.387Z"
   },
   {
    "duration": 40,
    "start_time": "2021-12-01T11:43:27.396Z"
   },
   {
    "duration": 45,
    "start_time": "2021-12-01T11:43:27.437Z"
   },
   {
    "duration": 20,
    "start_time": "2021-12-01T11:43:27.484Z"
   },
   {
    "duration": 38,
    "start_time": "2021-12-01T11:43:27.506Z"
   },
   {
    "duration": 24,
    "start_time": "2021-12-01T11:43:27.546Z"
   },
   {
    "duration": 22,
    "start_time": "2021-12-01T11:43:27.572Z"
   },
   {
    "duration": 31,
    "start_time": "2021-12-01T11:43:27.596Z"
   },
   {
    "duration": 40,
    "start_time": "2021-12-01T11:43:27.628Z"
   },
   {
    "duration": 8,
    "start_time": "2021-12-01T11:43:27.671Z"
   },
   {
    "duration": 27,
    "start_time": "2021-12-01T11:43:27.681Z"
   },
   {
    "duration": 10,
    "start_time": "2021-12-01T11:43:27.710Z"
   },
   {
    "duration": 28,
    "start_time": "2021-12-01T11:43:27.721Z"
   },
   {
    "duration": 33,
    "start_time": "2021-12-01T11:43:27.751Z"
   },
   {
    "duration": 19,
    "start_time": "2021-12-01T11:43:27.785Z"
   },
   {
    "duration": 29,
    "start_time": "2021-12-01T11:43:27.806Z"
   },
   {
    "duration": 24,
    "start_time": "2021-12-01T11:43:27.837Z"
   },
   {
    "duration": 12,
    "start_time": "2021-12-01T11:43:27.863Z"
   },
   {
    "duration": 19,
    "start_time": "2021-12-01T11:43:27.877Z"
   },
   {
    "duration": 19,
    "start_time": "2021-12-01T11:43:27.897Z"
   },
   {
    "duration": 47,
    "start_time": "2021-12-01T11:43:27.918Z"
   },
   {
    "duration": 24,
    "start_time": "2021-12-01T11:43:27.966Z"
   },
   {
    "duration": 9,
    "start_time": "2021-12-01T11:43:27.991Z"
   },
   {
    "duration": 6,
    "start_time": "2021-12-01T11:43:28.001Z"
   },
   {
    "duration": 8,
    "start_time": "2021-12-01T11:43:28.009Z"
   },
   {
    "duration": 7,
    "start_time": "2021-12-01T11:43:28.018Z"
   },
   {
    "duration": 14,
    "start_time": "2021-12-01T11:43:28.027Z"
   },
   {
    "duration": 17,
    "start_time": "2021-12-01T11:43:28.042Z"
   },
   {
    "duration": 2,
    "start_time": "2021-12-01T11:43:28.065Z"
   },
   {
    "duration": 4,
    "start_time": "2021-12-01T11:43:28.069Z"
   },
   {
    "duration": 8,
    "start_time": "2021-12-01T11:43:28.074Z"
   },
   {
    "duration": 7,
    "start_time": "2021-12-01T11:43:28.083Z"
   },
   {
    "duration": 4,
    "start_time": "2021-12-01T11:43:28.093Z"
   },
   {
    "duration": 5,
    "start_time": "2021-12-01T11:43:28.099Z"
   },
   {
    "duration": 12,
    "start_time": "2021-12-01T11:43:28.106Z"
   },
   {
    "duration": 3,
    "start_time": "2021-12-01T11:43:28.120Z"
   },
   {
    "duration": 13,
    "start_time": "2021-12-01T11:43:28.125Z"
   },
   {
    "duration": 4,
    "start_time": "2021-12-01T11:43:28.140Z"
   },
   {
    "duration": 13,
    "start_time": "2021-12-01T11:43:28.145Z"
   },
   {
    "duration": 8,
    "start_time": "2021-12-01T11:43:28.159Z"
   },
   {
    "duration": 11,
    "start_time": "2021-12-01T11:43:28.168Z"
   },
   {
    "duration": 14,
    "start_time": "2021-12-01T11:43:28.181Z"
   },
   {
    "duration": 6,
    "start_time": "2021-12-01T11:43:28.197Z"
   },
   {
    "duration": 20,
    "start_time": "2021-12-01T11:43:28.205Z"
   },
   {
    "duration": 26,
    "start_time": "2021-12-01T11:43:28.227Z"
   },
   {
    "duration": 23,
    "start_time": "2021-12-01T11:43:28.254Z"
   },
   {
    "duration": 10,
    "start_time": "2021-12-01T11:43:28.279Z"
   },
   {
    "duration": 16,
    "start_time": "2021-12-01T11:43:28.290Z"
   },
   {
    "duration": 5,
    "start_time": "2021-12-01T11:43:28.308Z"
   },
   {
    "duration": 5,
    "start_time": "2021-12-01T11:43:28.314Z"
   },
   {
    "duration": 5,
    "start_time": "2021-12-01T11:43:28.321Z"
   },
   {
    "duration": 6,
    "start_time": "2021-12-01T11:43:28.327Z"
   },
   {
    "duration": 6,
    "start_time": "2021-12-01T11:43:28.335Z"
   },
   {
    "duration": 8,
    "start_time": "2021-12-01T11:43:28.343Z"
   },
   {
    "duration": 10,
    "start_time": "2021-12-01T11:43:28.353Z"
   },
   {
    "duration": 29,
    "start_time": "2021-12-01T11:43:28.365Z"
   },
   {
    "duration": 17,
    "start_time": "2021-12-01T11:43:28.396Z"
   },
   {
    "duration": 12,
    "start_time": "2021-12-01T11:43:28.415Z"
   },
   {
    "duration": 15,
    "start_time": "2021-12-01T11:43:28.428Z"
   },
   {
    "duration": 18,
    "start_time": "2021-12-01T11:43:28.444Z"
   },
   {
    "duration": 18,
    "start_time": "2021-12-01T11:43:28.463Z"
   },
   {
    "duration": 16,
    "start_time": "2021-12-01T11:43:28.483Z"
   },
   {
    "duration": 3,
    "start_time": "2021-12-01T11:43:28.501Z"
   },
   {
    "duration": 9,
    "start_time": "2021-12-01T11:43:28.505Z"
   },
   {
    "duration": 7,
    "start_time": "2021-12-01T11:43:28.516Z"
   },
   {
    "duration": 29,
    "start_time": "2021-12-01T11:43:28.524Z"
   },
   {
    "duration": 3,
    "start_time": "2021-12-01T11:43:28.554Z"
   },
   {
    "duration": 13,
    "start_time": "2021-12-01T11:43:28.558Z"
   },
   {
    "duration": 72,
    "start_time": "2021-12-01T11:43:28.572Z"
   },
   {
    "duration": 18,
    "start_time": "2021-12-01T11:43:28.646Z"
   },
   {
    "duration": 2,
    "start_time": "2021-12-01T11:43:28.666Z"
   },
   {
    "duration": 7,
    "start_time": "2021-12-01T11:43:28.670Z"
   },
   {
    "duration": 17,
    "start_time": "2021-12-01T11:43:28.679Z"
   },
   {
    "duration": 26,
    "start_time": "2021-12-01T11:43:28.698Z"
   },
   {
    "duration": 17,
    "start_time": "2021-12-01T11:43:28.725Z"
   },
   {
    "duration": 31,
    "start_time": "2021-12-01T11:43:28.743Z"
   },
   {
    "duration": 4,
    "start_time": "2021-12-01T11:43:28.776Z"
   },
   {
    "duration": 49,
    "start_time": "2021-12-01T11:43:28.782Z"
   },
   {
    "duration": 14,
    "start_time": "2021-12-01T11:43:28.833Z"
   },
   {
    "duration": 26,
    "start_time": "2021-12-01T11:43:28.848Z"
   },
   {
    "duration": 28,
    "start_time": "2021-12-01T11:43:28.876Z"
   },
   {
    "duration": 28,
    "start_time": "2021-12-01T11:43:28.906Z"
   },
   {
    "duration": 29,
    "start_time": "2021-12-01T11:43:28.936Z"
   },
   {
    "duration": 26,
    "start_time": "2021-12-01T11:43:28.966Z"
   },
   {
    "duration": 34,
    "start_time": "2021-12-01T11:43:28.994Z"
   },
   {
    "duration": 27,
    "start_time": "2021-12-01T11:43:29.029Z"
   },
   {
    "duration": 28,
    "start_time": "2021-12-01T11:43:29.057Z"
   },
   {
    "duration": 16,
    "start_time": "2021-12-01T11:43:29.087Z"
   },
   {
    "duration": 24,
    "start_time": "2021-12-01T11:43:29.105Z"
   },
   {
    "duration": 15,
    "start_time": "2021-12-01T11:43:29.131Z"
   },
   {
    "duration": 20,
    "start_time": "2021-12-01T11:43:29.147Z"
   },
   {
    "duration": 27,
    "start_time": "2021-12-01T11:43:29.169Z"
   },
   {
    "duration": 27,
    "start_time": "2021-12-01T11:43:29.198Z"
   },
   {
    "duration": 21,
    "start_time": "2021-12-01T11:43:29.227Z"
   },
   {
    "duration": 5,
    "start_time": "2021-12-01T11:43:29.253Z"
   },
   {
    "duration": 36,
    "start_time": "2021-12-01T11:43:29.261Z"
   },
   {
    "duration": 43,
    "start_time": "2021-12-01T11:43:29.299Z"
   },
   {
    "duration": 14,
    "start_time": "2021-12-01T11:43:29.343Z"
   },
   {
    "duration": 5,
    "start_time": "2021-12-01T11:43:29.358Z"
   },
   {
    "duration": 7,
    "start_time": "2021-12-01T11:43:29.365Z"
   },
   {
    "duration": 9,
    "start_time": "2021-12-01T11:43:29.374Z"
   },
   {
    "duration": 10,
    "start_time": "2021-12-01T11:43:29.384Z"
   },
   {
    "duration": 29,
    "start_time": "2021-12-01T11:43:29.395Z"
   },
   {
    "duration": 5,
    "start_time": "2021-12-01T11:43:29.426Z"
   },
   {
    "duration": 8,
    "start_time": "2021-12-01T11:43:29.433Z"
   },
   {
    "duration": 5,
    "start_time": "2021-12-01T11:43:29.443Z"
   },
   {
    "duration": 10,
    "start_time": "2021-12-01T11:43:29.450Z"
   },
   {
    "duration": 5,
    "start_time": "2021-12-01T11:43:29.461Z"
   },
   {
    "duration": 48,
    "start_time": "2021-12-01T11:43:29.467Z"
   },
   {
    "duration": 14,
    "start_time": "2021-12-01T11:43:29.516Z"
   },
   {
    "duration": 11,
    "start_time": "2021-12-01T11:43:29.532Z"
   },
   {
    "duration": 9,
    "start_time": "2021-12-01T11:43:29.545Z"
   },
   {
    "duration": 12,
    "start_time": "2021-12-01T11:43:29.556Z"
   },
   {
    "duration": 6,
    "start_time": "2021-12-01T11:43:29.570Z"
   },
   {
    "duration": 6,
    "start_time": "2021-12-01T11:43:29.577Z"
   },
   {
    "duration": 13,
    "start_time": "2021-12-01T11:43:29.585Z"
   },
   {
    "duration": 14,
    "start_time": "2021-12-01T11:43:29.599Z"
   },
   {
    "duration": 11,
    "start_time": "2021-12-01T11:43:29.614Z"
   },
   {
    "duration": 6,
    "start_time": "2021-12-01T11:43:29.627Z"
   },
   {
    "duration": 5,
    "start_time": "2021-12-01T11:43:29.635Z"
   },
   {
    "duration": 13,
    "start_time": "2021-12-01T11:43:29.641Z"
   },
   {
    "duration": 91,
    "start_time": "2021-12-01T11:44:59.320Z"
   },
   {
    "duration": 279,
    "start_time": "2021-12-01T11:48:12.285Z"
   },
   {
    "duration": 10,
    "start_time": "2021-12-01T11:48:32.549Z"
   },
   {
    "duration": 26,
    "start_time": "2021-12-01T11:48:44.722Z"
   },
   {
    "duration": 21,
    "start_time": "2021-12-01T11:50:18.188Z"
   },
   {
    "duration": 3,
    "start_time": "2021-12-01T11:51:44.259Z"
   },
   {
    "duration": 8,
    "start_time": "2021-12-01T11:51:45.815Z"
   },
   {
    "duration": 20,
    "start_time": "2021-12-01T11:51:47.201Z"
   },
   {
    "duration": 670,
    "start_time": "2021-12-01T11:58:44.236Z"
   },
   {
    "duration": 417,
    "start_time": "2021-12-01T11:58:44.909Z"
   },
   {
    "duration": 14,
    "start_time": "2021-12-01T11:58:45.328Z"
   },
   {
    "duration": 19,
    "start_time": "2021-12-01T11:58:45.344Z"
   },
   {
    "duration": 29,
    "start_time": "2021-12-01T11:58:45.364Z"
   },
   {
    "duration": 3,
    "start_time": "2021-12-01T11:58:45.394Z"
   },
   {
    "duration": 9,
    "start_time": "2021-12-01T11:58:45.398Z"
   },
   {
    "duration": 35,
    "start_time": "2021-12-01T11:58:45.410Z"
   },
   {
    "duration": 9,
    "start_time": "2021-12-01T11:58:45.447Z"
   },
   {
    "duration": 19,
    "start_time": "2021-12-01T11:58:45.457Z"
   },
   {
    "duration": 22,
    "start_time": "2021-12-01T11:58:45.478Z"
   },
   {
    "duration": 10,
    "start_time": "2021-12-01T11:58:45.501Z"
   },
   {
    "duration": 34,
    "start_time": "2021-12-01T11:58:45.513Z"
   },
   {
    "duration": 32,
    "start_time": "2021-12-01T11:58:45.549Z"
   },
   {
    "duration": 27,
    "start_time": "2021-12-01T11:58:45.583Z"
   },
   {
    "duration": 26,
    "start_time": "2021-12-01T11:58:45.612Z"
   },
   {
    "duration": 22,
    "start_time": "2021-12-01T11:58:45.640Z"
   },
   {
    "duration": 34,
    "start_time": "2021-12-01T11:58:45.663Z"
   },
   {
    "duration": 12,
    "start_time": "2021-12-01T11:58:45.699Z"
   },
   {
    "duration": 26,
    "start_time": "2021-12-01T11:58:45.712Z"
   },
   {
    "duration": 33,
    "start_time": "2021-12-01T11:58:45.740Z"
   },
   {
    "duration": 16,
    "start_time": "2021-12-01T11:58:45.775Z"
   },
   {
    "duration": 26,
    "start_time": "2021-12-01T11:58:45.795Z"
   },
   {
    "duration": 14,
    "start_time": "2021-12-01T11:58:45.823Z"
   },
   {
    "duration": 38,
    "start_time": "2021-12-01T11:58:45.839Z"
   },
   {
    "duration": 43,
    "start_time": "2021-12-01T11:58:45.878Z"
   },
   {
    "duration": 8,
    "start_time": "2021-12-01T11:58:45.923Z"
   },
   {
    "duration": 24,
    "start_time": "2021-12-01T11:58:45.933Z"
   },
   {
    "duration": 40,
    "start_time": "2021-12-01T11:58:45.958Z"
   },
   {
    "duration": 8,
    "start_time": "2021-12-01T11:58:46.001Z"
   },
   {
    "duration": 44,
    "start_time": "2021-12-01T11:58:46.010Z"
   },
   {
    "duration": 10,
    "start_time": "2021-12-01T11:58:46.056Z"
   },
   {
    "duration": 9,
    "start_time": "2021-12-01T11:58:46.067Z"
   },
   {
    "duration": 29,
    "start_time": "2021-12-01T11:58:46.077Z"
   },
   {
    "duration": 40,
    "start_time": "2021-12-01T11:58:46.107Z"
   },
   {
    "duration": 8,
    "start_time": "2021-12-01T11:58:46.149Z"
   },
   {
    "duration": 18,
    "start_time": "2021-12-01T11:58:46.158Z"
   },
   {
    "duration": 23,
    "start_time": "2021-12-01T11:58:46.178Z"
   },
   {
    "duration": 26,
    "start_time": "2021-12-01T11:58:46.203Z"
   },
   {
    "duration": 20,
    "start_time": "2021-12-01T11:58:46.231Z"
   },
   {
    "duration": 28,
    "start_time": "2021-12-01T11:58:46.253Z"
   },
   {
    "duration": 20,
    "start_time": "2021-12-01T11:58:46.283Z"
   },
   {
    "duration": 28,
    "start_time": "2021-12-01T11:58:46.305Z"
   },
   {
    "duration": 11,
    "start_time": "2021-12-01T11:58:46.335Z"
   },
   {
    "duration": 25,
    "start_time": "2021-12-01T11:58:46.348Z"
   },
   {
    "duration": 14,
    "start_time": "2021-12-01T11:58:46.374Z"
   },
   {
    "duration": 9,
    "start_time": "2021-12-01T11:58:46.390Z"
   },
   {
    "duration": 24,
    "start_time": "2021-12-01T11:58:46.401Z"
   },
   {
    "duration": 43,
    "start_time": "2021-12-01T11:58:46.427Z"
   },
   {
    "duration": 2,
    "start_time": "2021-12-01T11:58:46.472Z"
   },
   {
    "duration": 14,
    "start_time": "2021-12-01T11:58:46.476Z"
   },
   {
    "duration": 38,
    "start_time": "2021-12-01T11:58:46.491Z"
   },
   {
    "duration": 18,
    "start_time": "2021-12-01T11:58:46.531Z"
   },
   {
    "duration": 25,
    "start_time": "2021-12-01T11:58:46.551Z"
   },
   {
    "duration": 349,
    "start_time": "2021-12-01T11:58:46.578Z"
   },
   {
    "duration": 170901,
    "start_time": "2021-12-01T11:55:56.029Z"
   },
   {
    "duration": 170887,
    "start_time": "2021-12-01T11:55:56.044Z"
   },
   {
    "duration": 170875,
    "start_time": "2021-12-01T11:55:56.056Z"
   },
   {
    "duration": 170860,
    "start_time": "2021-12-01T11:55:56.072Z"
   },
   {
    "duration": 170845,
    "start_time": "2021-12-01T11:55:56.088Z"
   },
   {
    "duration": 170760,
    "start_time": "2021-12-01T11:55:56.174Z"
   },
   {
    "duration": 170742,
    "start_time": "2021-12-01T11:55:56.193Z"
   },
   {
    "duration": 170725,
    "start_time": "2021-12-01T11:55:56.211Z"
   },
   {
    "duration": 170713,
    "start_time": "2021-12-01T11:55:56.224Z"
   },
   {
    "duration": 170699,
    "start_time": "2021-12-01T11:55:56.239Z"
   },
   {
    "duration": 170687,
    "start_time": "2021-12-01T11:55:56.252Z"
   },
   {
    "duration": 170640,
    "start_time": "2021-12-01T11:55:56.300Z"
   },
   {
    "duration": 170625,
    "start_time": "2021-12-01T11:55:56.316Z"
   },
   {
    "duration": 170563,
    "start_time": "2021-12-01T11:55:56.379Z"
   },
   {
    "duration": 170526,
    "start_time": "2021-12-01T11:55:56.417Z"
   },
   {
    "duration": 170447,
    "start_time": "2021-12-01T11:55:56.497Z"
   },
   {
    "duration": 170396,
    "start_time": "2021-12-01T11:55:56.549Z"
   },
   {
    "duration": 170301,
    "start_time": "2021-12-01T11:55:56.645Z"
   },
   {
    "duration": 170212,
    "start_time": "2021-12-01T11:55:56.736Z"
   },
   {
    "duration": 170197,
    "start_time": "2021-12-01T11:55:56.752Z"
   },
   {
    "duration": 170185,
    "start_time": "2021-12-01T11:55:56.765Z"
   },
   {
    "duration": 170172,
    "start_time": "2021-12-01T11:55:56.779Z"
   },
   {
    "duration": 170157,
    "start_time": "2021-12-01T11:55:56.795Z"
   },
   {
    "duration": 169538,
    "start_time": "2021-12-01T11:55:57.415Z"
   },
   {
    "duration": 169438,
    "start_time": "2021-12-01T11:55:57.515Z"
   },
   {
    "duration": 169348,
    "start_time": "2021-12-01T11:55:57.606Z"
   },
   {
    "duration": 169253,
    "start_time": "2021-12-01T11:55:57.702Z"
   },
   {
    "duration": 169232,
    "start_time": "2021-12-01T11:55:57.724Z"
   },
   {
    "duration": 169217,
    "start_time": "2021-12-01T11:55:57.740Z"
   },
   {
    "duration": 169201,
    "start_time": "2021-12-01T11:55:57.757Z"
   },
   {
    "duration": 169188,
    "start_time": "2021-12-01T11:55:57.771Z"
   },
   {
    "duration": 169173,
    "start_time": "2021-12-01T11:55:57.786Z"
   },
   {
    "duration": 169123,
    "start_time": "2021-12-01T11:55:57.837Z"
   },
   {
    "duration": 169099,
    "start_time": "2021-12-01T11:55:57.862Z"
   },
   {
    "duration": 169088,
    "start_time": "2021-12-01T11:55:57.874Z"
   },
   {
    "duration": 169072,
    "start_time": "2021-12-01T11:55:57.891Z"
   },
   {
    "duration": 168984,
    "start_time": "2021-12-01T11:55:57.980Z"
   },
   {
    "duration": 168891,
    "start_time": "2021-12-01T11:55:58.074Z"
   },
   {
    "duration": 168839,
    "start_time": "2021-12-01T11:55:58.127Z"
   },
   {
    "duration": 168825,
    "start_time": "2021-12-01T11:55:58.142Z"
   },
   {
    "duration": 168813,
    "start_time": "2021-12-01T11:55:58.155Z"
   },
   {
    "duration": 168798,
    "start_time": "2021-12-01T11:55:58.171Z"
   },
   {
    "duration": 168784,
    "start_time": "2021-12-01T11:55:58.186Z"
   },
   {
    "duration": 168768,
    "start_time": "2021-12-01T11:55:58.203Z"
   },
   {
    "duration": 168755,
    "start_time": "2021-12-01T11:55:58.217Z"
   },
   {
    "duration": 168702,
    "start_time": "2021-12-01T11:55:58.271Z"
   },
   {
    "duration": 168690,
    "start_time": "2021-12-01T11:55:58.284Z"
   },
   {
    "duration": 168676,
    "start_time": "2021-12-01T11:55:58.299Z"
   },
   {
    "duration": 168663,
    "start_time": "2021-12-01T11:55:58.313Z"
   },
   {
    "duration": 168650,
    "start_time": "2021-12-01T11:55:58.327Z"
   },
   {
    "duration": 168639,
    "start_time": "2021-12-01T11:55:58.339Z"
   },
   {
    "duration": 168626,
    "start_time": "2021-12-01T11:55:58.353Z"
   },
   {
    "duration": 698,
    "start_time": "2021-12-01T11:59:57.300Z"
   },
   {
    "duration": 408,
    "start_time": "2021-12-01T11:59:58.000Z"
   },
   {
    "duration": 13,
    "start_time": "2021-12-01T11:59:58.410Z"
   },
   {
    "duration": 24,
    "start_time": "2021-12-01T11:59:58.424Z"
   },
   {
    "duration": 28,
    "start_time": "2021-12-01T11:59:58.449Z"
   },
   {
    "duration": 2,
    "start_time": "2021-12-01T11:59:58.479Z"
   },
   {
    "duration": 8,
    "start_time": "2021-12-01T11:59:58.482Z"
   },
   {
    "duration": 12,
    "start_time": "2021-12-01T11:59:58.493Z"
   },
   {
    "duration": 10,
    "start_time": "2021-12-01T11:59:58.507Z"
   },
   {
    "duration": 36,
    "start_time": "2021-12-01T11:59:58.519Z"
   },
   {
    "duration": 22,
    "start_time": "2021-12-01T11:59:58.557Z"
   },
   {
    "duration": 9,
    "start_time": "2021-12-01T11:59:58.581Z"
   },
   {
    "duration": 10,
    "start_time": "2021-12-01T11:59:58.592Z"
   },
   {
    "duration": 5,
    "start_time": "2021-12-01T11:59:58.604Z"
   },
   {
    "duration": 35,
    "start_time": "2021-12-01T11:59:58.610Z"
   },
   {
    "duration": 6,
    "start_time": "2021-12-01T11:59:58.647Z"
   },
   {
    "duration": 16,
    "start_time": "2021-12-01T11:59:58.655Z"
   },
   {
    "duration": 18,
    "start_time": "2021-12-01T11:59:58.672Z"
   },
   {
    "duration": 8,
    "start_time": "2021-12-01T11:59:58.691Z"
   },
   {
    "duration": 4,
    "start_time": "2021-12-01T11:59:58.702Z"
   },
   {
    "duration": 41,
    "start_time": "2021-12-01T11:59:58.708Z"
   },
   {
    "duration": 12,
    "start_time": "2021-12-01T11:59:58.751Z"
   },
   {
    "duration": 10,
    "start_time": "2021-12-01T11:59:58.767Z"
   },
   {
    "duration": 7,
    "start_time": "2021-12-01T11:59:58.779Z"
   },
   {
    "duration": 25,
    "start_time": "2021-12-01T11:59:58.788Z"
   },
   {
    "duration": 57,
    "start_time": "2021-12-01T11:59:58.815Z"
   },
   {
    "duration": 8,
    "start_time": "2021-12-01T11:59:58.874Z"
   },
   {
    "duration": 21,
    "start_time": "2021-12-01T11:59:58.884Z"
   },
   {
    "duration": 44,
    "start_time": "2021-12-01T11:59:58.906Z"
   },
   {
    "duration": 6,
    "start_time": "2021-12-01T11:59:58.952Z"
   },
   {
    "duration": 21,
    "start_time": "2021-12-01T11:59:58.960Z"
   },
   {
    "duration": 9,
    "start_time": "2021-12-01T11:59:58.983Z"
   },
   {
    "duration": 2,
    "start_time": "2021-12-01T11:59:58.994Z"
   },
   {
    "duration": 7,
    "start_time": "2021-12-01T11:59:58.997Z"
   },
   {
    "duration": 44,
    "start_time": "2021-12-01T11:59:59.005Z"
   },
   {
    "duration": 7,
    "start_time": "2021-12-01T11:59:59.051Z"
   },
   {
    "duration": 7,
    "start_time": "2021-12-01T11:59:59.060Z"
   },
   {
    "duration": 4,
    "start_time": "2021-12-01T11:59:59.069Z"
   },
   {
    "duration": 8,
    "start_time": "2021-12-01T11:59:59.075Z"
   },
   {
    "duration": 6,
    "start_time": "2021-12-01T11:59:59.084Z"
   },
   {
    "duration": 11,
    "start_time": "2021-12-01T11:59:59.092Z"
   },
   {
    "duration": 8,
    "start_time": "2021-12-01T11:59:59.105Z"
   },
   {
    "duration": 39,
    "start_time": "2021-12-01T11:59:59.115Z"
   },
   {
    "duration": 18,
    "start_time": "2021-12-01T11:59:59.156Z"
   },
   {
    "duration": 24,
    "start_time": "2021-12-01T11:59:59.176Z"
   },
   {
    "duration": 5,
    "start_time": "2021-12-01T11:59:59.202Z"
   },
   {
    "duration": 9,
    "start_time": "2021-12-01T11:59:59.209Z"
   },
   {
    "duration": 8,
    "start_time": "2021-12-01T11:59:59.220Z"
   },
   {
    "duration": 22,
    "start_time": "2021-12-01T11:59:59.230Z"
   },
   {
    "duration": 3,
    "start_time": "2021-12-01T11:59:59.254Z"
   },
   {
    "duration": 5,
    "start_time": "2021-12-01T11:59:59.259Z"
   },
   {
    "duration": 13,
    "start_time": "2021-12-01T11:59:59.265Z"
   },
   {
    "duration": 17,
    "start_time": "2021-12-01T11:59:59.280Z"
   },
   {
    "duration": 10,
    "start_time": "2021-12-01T11:59:59.299Z"
   },
   {
    "duration": 649,
    "start_time": "2021-12-01T11:59:59.311Z"
   },
   {
    "duration": 171548,
    "start_time": "2021-12-01T11:57:08.416Z"
   },
   {
    "duration": 171535,
    "start_time": "2021-12-01T11:57:08.430Z"
   },
   {
    "duration": 171520,
    "start_time": "2021-12-01T11:57:08.447Z"
   },
   {
    "duration": 171506,
    "start_time": "2021-12-01T11:57:08.463Z"
   },
   {
    "duration": 171381,
    "start_time": "2021-12-01T11:57:08.589Z"
   },
   {
    "duration": 171246,
    "start_time": "2021-12-01T11:57:08.725Z"
   },
   {
    "duration": 171187,
    "start_time": "2021-12-01T11:57:08.786Z"
   },
   {
    "duration": 171172,
    "start_time": "2021-12-01T11:57:08.802Z"
   },
   {
    "duration": 171155,
    "start_time": "2021-12-01T11:57:08.821Z"
   },
   {
    "duration": 171142,
    "start_time": "2021-12-01T11:57:08.835Z"
   },
   {
    "duration": 171126,
    "start_time": "2021-12-01T11:57:08.853Z"
   },
   {
    "duration": 171113,
    "start_time": "2021-12-01T11:57:08.867Z"
   },
   {
    "duration": 171059,
    "start_time": "2021-12-01T11:57:08.923Z"
   },
   {
    "duration": 171045,
    "start_time": "2021-12-01T11:57:08.938Z"
   },
   {
    "duration": 171032,
    "start_time": "2021-12-01T11:57:08.953Z"
   },
   {
    "duration": 171020,
    "start_time": "2021-12-01T11:57:08.966Z"
   },
   {
    "duration": 171008,
    "start_time": "2021-12-01T11:57:08.980Z"
   },
   {
    "duration": 170996,
    "start_time": "2021-12-01T11:57:08.993Z"
   },
   {
    "duration": 170982,
    "start_time": "2021-12-01T11:57:09.009Z"
   },
   {
    "duration": 170930,
    "start_time": "2021-12-01T11:57:09.062Z"
   },
   {
    "duration": 170916,
    "start_time": "2021-12-01T11:57:09.078Z"
   },
   {
    "duration": 170906,
    "start_time": "2021-12-01T11:57:09.090Z"
   },
   {
    "duration": 170892,
    "start_time": "2021-12-01T11:57:09.105Z"
   },
   {
    "duration": 170879,
    "start_time": "2021-12-01T11:57:09.120Z"
   },
   {
    "duration": 170866,
    "start_time": "2021-12-01T11:57:09.134Z"
   },
   {
    "duration": 170800,
    "start_time": "2021-12-01T11:57:09.202Z"
   },
   {
    "duration": 170743,
    "start_time": "2021-12-01T11:57:09.302Z"
   },
   {
    "duration": 170691,
    "start_time": "2021-12-01T11:57:09.356Z"
   },
   {
    "duration": 170586,
    "start_time": "2021-12-01T11:57:09.462Z"
   },
   {
    "duration": 170566,
    "start_time": "2021-12-01T11:57:09.484Z"
   },
   {
    "duration": 170547,
    "start_time": "2021-12-01T11:57:09.504Z"
   },
   {
    "duration": 170536,
    "start_time": "2021-12-01T11:57:09.517Z"
   },
   {
    "duration": 170521,
    "start_time": "2021-12-01T11:57:09.533Z"
   },
   {
    "duration": 170508,
    "start_time": "2021-12-01T11:57:09.548Z"
   },
   {
    "duration": 170456,
    "start_time": "2021-12-01T11:57:09.601Z"
   },
   {
    "duration": 170442,
    "start_time": "2021-12-01T11:57:09.617Z"
   },
   {
    "duration": 170429,
    "start_time": "2021-12-01T11:57:09.631Z"
   },
   {
    "duration": 170418,
    "start_time": "2021-12-01T11:57:09.644Z"
   },
   {
    "duration": 170404,
    "start_time": "2021-12-01T11:57:09.659Z"
   },
   {
    "duration": 170393,
    "start_time": "2021-12-01T11:57:09.672Z"
   },
   {
    "duration": 170380,
    "start_time": "2021-12-01T11:57:09.686Z"
   },
   {
    "duration": 170327,
    "start_time": "2021-12-01T11:57:09.740Z"
   },
   {
    "duration": 170310,
    "start_time": "2021-12-01T11:57:09.759Z"
   },
   {
    "duration": 170294,
    "start_time": "2021-12-01T11:57:09.776Z"
   },
   {
    "duration": 170283,
    "start_time": "2021-12-01T11:57:09.789Z"
   },
   {
    "duration": 170270,
    "start_time": "2021-12-01T11:57:09.804Z"
   },
   {
    "duration": 170256,
    "start_time": "2021-12-01T11:57:09.819Z"
   },
   {
    "duration": 170244,
    "start_time": "2021-12-01T11:57:09.832Z"
   },
   {
    "duration": 170180,
    "start_time": "2021-12-01T11:57:09.898Z"
   },
   {
    "duration": 170167,
    "start_time": "2021-12-01T11:57:09.912Z"
   },
   {
    "duration": 170125,
    "start_time": "2021-12-01T11:57:09.955Z"
   },
   {
    "duration": 170111,
    "start_time": "2021-12-01T11:57:09.971Z"
   },
   {
    "duration": 629,
    "start_time": "2021-12-01T12:00:37.527Z"
   },
   {
    "duration": 451,
    "start_time": "2021-12-01T12:00:38.158Z"
   },
   {
    "duration": 15,
    "start_time": "2021-12-01T12:00:38.611Z"
   },
   {
    "duration": 47,
    "start_time": "2021-12-01T12:00:38.628Z"
   },
   {
    "duration": 54,
    "start_time": "2021-12-01T12:00:38.676Z"
   },
   {
    "duration": 17,
    "start_time": "2021-12-01T12:00:38.732Z"
   },
   {
    "duration": 17,
    "start_time": "2021-12-01T12:00:38.751Z"
   },
   {
    "duration": 36,
    "start_time": "2021-12-01T12:00:38.770Z"
   },
   {
    "duration": 25,
    "start_time": "2021-12-01T12:00:38.808Z"
   },
   {
    "duration": 46,
    "start_time": "2021-12-01T12:00:38.835Z"
   },
   {
    "duration": 40,
    "start_time": "2021-12-01T12:00:38.882Z"
   },
   {
    "duration": 12,
    "start_time": "2021-12-01T12:00:38.924Z"
   },
   {
    "duration": 40,
    "start_time": "2021-12-01T12:00:38.938Z"
   },
   {
    "duration": 18,
    "start_time": "2021-12-01T12:00:38.980Z"
   },
   {
    "duration": 36,
    "start_time": "2021-12-01T12:00:39.000Z"
   },
   {
    "duration": 22,
    "start_time": "2021-12-01T12:00:39.037Z"
   },
   {
    "duration": 50,
    "start_time": "2021-12-01T12:00:39.061Z"
   },
   {
    "duration": 44,
    "start_time": "2021-12-01T12:00:39.113Z"
   },
   {
    "duration": 8,
    "start_time": "2021-12-01T12:00:39.158Z"
   },
   {
    "duration": 39,
    "start_time": "2021-12-01T12:00:39.168Z"
   },
   {
    "duration": 47,
    "start_time": "2021-12-01T12:00:39.208Z"
   },
   {
    "duration": 33,
    "start_time": "2021-12-01T12:00:39.257Z"
   },
   {
    "duration": 29,
    "start_time": "2021-12-01T12:00:39.294Z"
   },
   {
    "duration": 19,
    "start_time": "2021-12-01T12:00:39.327Z"
   },
   {
    "duration": 54,
    "start_time": "2021-12-01T12:00:39.348Z"
   },
   {
    "duration": 50,
    "start_time": "2021-12-01T12:00:39.404Z"
   },
   {
    "duration": 9,
    "start_time": "2021-12-01T12:00:39.456Z"
   },
   {
    "duration": 33,
    "start_time": "2021-12-01T12:00:39.467Z"
   },
   {
    "duration": 56,
    "start_time": "2021-12-01T12:00:39.502Z"
   },
   {
    "duration": 9,
    "start_time": "2021-12-01T12:00:39.561Z"
   },
   {
    "duration": 46,
    "start_time": "2021-12-01T12:00:39.573Z"
   },
   {
    "duration": 9,
    "start_time": "2021-12-01T12:00:39.621Z"
   },
   {
    "duration": 18,
    "start_time": "2021-12-01T12:00:39.632Z"
   },
   {
    "duration": 16,
    "start_time": "2021-12-01T12:00:39.651Z"
   },
   {
    "duration": 43,
    "start_time": "2021-12-01T12:00:39.669Z"
   },
   {
    "duration": 18,
    "start_time": "2021-12-01T12:00:39.713Z"
   },
   {
    "duration": 16,
    "start_time": "2021-12-01T12:00:39.732Z"
   },
   {
    "duration": 38,
    "start_time": "2021-12-01T12:00:39.749Z"
   },
   {
    "duration": 29,
    "start_time": "2021-12-01T12:00:39.789Z"
   },
   {
    "duration": 12,
    "start_time": "2021-12-01T12:00:39.821Z"
   },
   {
    "duration": 24,
    "start_time": "2021-12-01T12:00:39.835Z"
   },
   {
    "duration": 13,
    "start_time": "2021-12-01T12:00:39.861Z"
   },
   {
    "duration": 29,
    "start_time": "2021-12-01T12:00:39.875Z"
   },
   {
    "duration": 28,
    "start_time": "2021-12-01T12:00:39.906Z"
   },
   {
    "duration": 24,
    "start_time": "2021-12-01T12:00:39.935Z"
   },
   {
    "duration": 7,
    "start_time": "2021-12-01T12:00:39.961Z"
   },
   {
    "duration": 21,
    "start_time": "2021-12-01T12:00:39.970Z"
   },
   {
    "duration": 31,
    "start_time": "2021-12-01T12:00:39.993Z"
   },
   {
    "duration": 37,
    "start_time": "2021-12-01T12:00:40.026Z"
   },
   {
    "duration": 16,
    "start_time": "2021-12-01T12:00:40.065Z"
   },
   {
    "duration": 20,
    "start_time": "2021-12-01T12:00:40.082Z"
   },
   {
    "duration": 36,
    "start_time": "2021-12-01T12:00:40.105Z"
   },
   {
    "duration": 21,
    "start_time": "2021-12-01T12:00:40.144Z"
   },
   {
    "duration": 31,
    "start_time": "2021-12-01T12:00:40.166Z"
   },
   {
    "duration": 14,
    "start_time": "2021-12-01T12:00:40.198Z"
   },
   {
    "duration": 40,
    "start_time": "2021-12-01T12:00:40.214Z"
   },
   {
    "duration": 95,
    "start_time": "2021-12-01T12:00:40.256Z"
   },
   {
    "duration": 2,
    "start_time": "2021-12-01T12:00:40.353Z"
   },
   {
    "duration": 34,
    "start_time": "2021-12-01T12:00:40.357Z"
   },
   {
    "duration": 33,
    "start_time": "2021-12-01T12:00:40.393Z"
   },
   {
    "duration": 22,
    "start_time": "2021-12-01T12:00:40.427Z"
   },
   {
    "duration": 35,
    "start_time": "2021-12-01T12:00:40.451Z"
   },
   {
    "duration": 12,
    "start_time": "2021-12-01T12:00:40.487Z"
   },
   {
    "duration": 33,
    "start_time": "2021-12-01T12:00:40.501Z"
   },
   {
    "duration": 28,
    "start_time": "2021-12-01T12:00:40.535Z"
   },
   {
    "duration": 23,
    "start_time": "2021-12-01T12:00:40.564Z"
   },
   {
    "duration": 32,
    "start_time": "2021-12-01T12:00:40.589Z"
   },
   {
    "duration": 17,
    "start_time": "2021-12-01T12:00:40.627Z"
   },
   {
    "duration": 32,
    "start_time": "2021-12-01T12:00:40.647Z"
   },
   {
    "duration": 24,
    "start_time": "2021-12-01T12:00:40.681Z"
   },
   {
    "duration": 35,
    "start_time": "2021-12-01T12:00:40.706Z"
   },
   {
    "duration": 16,
    "start_time": "2021-12-01T12:00:40.743Z"
   },
   {
    "duration": 25,
    "start_time": "2021-12-01T12:00:40.761Z"
   },
   {
    "duration": 28,
    "start_time": "2021-12-01T12:00:40.788Z"
   },
   {
    "duration": 15,
    "start_time": "2021-12-01T12:00:40.818Z"
   },
   {
    "duration": 37,
    "start_time": "2021-12-01T12:00:40.835Z"
   },
   {
    "duration": 35,
    "start_time": "2021-12-01T12:00:40.873Z"
   },
   {
    "duration": 29,
    "start_time": "2021-12-01T12:00:40.910Z"
   },
   {
    "duration": 19,
    "start_time": "2021-12-01T12:00:40.940Z"
   },
   {
    "duration": 36,
    "start_time": "2021-12-01T12:00:40.960Z"
   },
   {
    "duration": 23,
    "start_time": "2021-12-01T12:00:40.998Z"
   },
   {
    "duration": 22,
    "start_time": "2021-12-01T12:00:41.023Z"
   },
   {
    "duration": 32,
    "start_time": "2021-12-01T12:00:41.047Z"
   },
   {
    "duration": 20,
    "start_time": "2021-12-01T12:00:41.081Z"
   },
   {
    "duration": 25,
    "start_time": "2021-12-01T12:00:41.103Z"
   },
   {
    "duration": 21,
    "start_time": "2021-12-01T12:00:41.130Z"
   },
   {
    "duration": 30,
    "start_time": "2021-12-01T12:00:41.154Z"
   },
   {
    "duration": 30,
    "start_time": "2021-12-01T12:00:41.186Z"
   },
   {
    "duration": 31,
    "start_time": "2021-12-01T12:00:41.219Z"
   },
   {
    "duration": 32,
    "start_time": "2021-12-01T12:00:41.253Z"
   },
   {
    "duration": 17,
    "start_time": "2021-12-01T12:00:41.287Z"
   },
   {
    "duration": 20,
    "start_time": "2021-12-01T12:00:41.307Z"
   },
   {
    "duration": 30,
    "start_time": "2021-12-01T12:00:41.329Z"
   },
   {
    "duration": 26,
    "start_time": "2021-12-01T12:00:41.362Z"
   },
   {
    "duration": 439,
    "start_time": "2021-12-01T12:00:41.391Z"
   },
   {
    "duration": 3,
    "start_time": "2021-12-01T12:00:41.832Z"
   },
   {
    "duration": 24,
    "start_time": "2021-12-01T12:00:41.837Z"
   },
   {
    "duration": 29,
    "start_time": "2021-12-01T12:00:41.864Z"
   },
   {
    "duration": 33,
    "start_time": "2021-12-01T12:00:41.896Z"
   },
   {
    "duration": 15,
    "start_time": "2021-12-01T12:00:41.931Z"
   },
   {
    "duration": 17,
    "start_time": "2021-12-01T12:00:41.947Z"
   },
   {
    "duration": 20,
    "start_time": "2021-12-01T12:00:41.966Z"
   },
   {
    "duration": 30,
    "start_time": "2021-12-01T12:00:41.988Z"
   },
   {
    "duration": 43,
    "start_time": "2021-12-01T12:00:42.020Z"
   },
   {
    "duration": 20,
    "start_time": "2021-12-01T12:00:42.064Z"
   },
   {
    "duration": 36,
    "start_time": "2021-12-01T12:00:42.086Z"
   },
   {
    "duration": 21,
    "start_time": "2021-12-01T12:00:42.123Z"
   },
   {
    "duration": 54,
    "start_time": "2021-12-01T17:12:51.534Z"
   },
   {
    "duration": 29,
    "start_time": "2021-12-01T17:13:06.916Z"
   },
   {
    "duration": 4,
    "start_time": "2021-12-01T17:14:14.510Z"
   },
   {
    "duration": 521,
    "start_time": "2021-12-01T17:14:14.523Z"
   },
   {
    "duration": 13,
    "start_time": "2021-12-01T17:14:15.047Z"
   },
   {
    "duration": 38,
    "start_time": "2021-12-01T17:14:15.064Z"
   },
   {
    "duration": 59,
    "start_time": "2021-12-01T17:14:15.106Z"
   },
   {
    "duration": 5,
    "start_time": "2021-12-01T17:14:15.167Z"
   },
   {
    "duration": 18,
    "start_time": "2021-12-01T17:14:15.175Z"
   },
   {
    "duration": 23,
    "start_time": "2021-12-01T17:14:15.196Z"
   },
   {
    "duration": 28,
    "start_time": "2021-12-01T17:14:15.222Z"
   },
   {
    "duration": 27,
    "start_time": "2021-12-01T17:14:15.253Z"
   },
   {
    "duration": 31,
    "start_time": "2021-12-01T17:14:15.282Z"
   },
   {
    "duration": 11,
    "start_time": "2021-12-01T17:14:15.315Z"
   },
   {
    "duration": 39,
    "start_time": "2021-12-01T17:14:15.328Z"
   },
   {
    "duration": 10,
    "start_time": "2021-12-01T17:14:15.369Z"
   },
   {
    "duration": 26,
    "start_time": "2021-12-01T17:14:15.381Z"
   },
   {
    "duration": 24,
    "start_time": "2021-12-01T17:14:15.409Z"
   },
   {
    "duration": 38,
    "start_time": "2021-12-01T17:14:15.436Z"
   },
   {
    "duration": 24,
    "start_time": "2021-12-01T17:14:15.477Z"
   },
   {
    "duration": 11,
    "start_time": "2021-12-01T17:14:15.504Z"
   },
   {
    "duration": 25,
    "start_time": "2021-12-01T17:14:15.517Z"
   },
   {
    "duration": 33,
    "start_time": "2021-12-01T17:14:15.544Z"
   },
   {
    "duration": 27,
    "start_time": "2021-12-01T17:14:15.580Z"
   },
   {
    "duration": 26,
    "start_time": "2021-12-01T17:14:15.609Z"
   },
   {
    "duration": 13,
    "start_time": "2021-12-01T17:14:15.641Z"
   },
   {
    "duration": 36,
    "start_time": "2021-12-01T17:14:15.658Z"
   },
   {
    "duration": 62,
    "start_time": "2021-12-01T17:14:15.697Z"
   },
   {
    "duration": 12,
    "start_time": "2021-12-01T17:14:15.761Z"
   },
   {
    "duration": 13,
    "start_time": "2021-12-01T17:14:15.775Z"
   },
   {
    "duration": 24,
    "start_time": "2021-12-01T17:14:15.791Z"
   },
   {
    "duration": 63,
    "start_time": "2021-12-01T17:14:15.817Z"
   },
   {
    "duration": 10,
    "start_time": "2021-12-01T17:14:15.882Z"
   },
   {
    "duration": 20,
    "start_time": "2021-12-01T17:14:15.894Z"
   },
   {
    "duration": 50,
    "start_time": "2021-12-01T17:14:15.916Z"
   },
   {
    "duration": 5,
    "start_time": "2021-12-01T17:14:15.968Z"
   },
   {
    "duration": 16,
    "start_time": "2021-12-01T17:14:15.975Z"
   },
   {
    "duration": 24,
    "start_time": "2021-12-01T17:14:15.993Z"
   },
   {
    "duration": 45,
    "start_time": "2021-12-01T17:14:16.019Z"
   },
   {
    "duration": 10,
    "start_time": "2021-12-01T17:14:16.067Z"
   },
   {
    "duration": 21,
    "start_time": "2021-12-01T17:14:16.079Z"
   },
   {
    "duration": 14,
    "start_time": "2021-12-01T17:14:16.103Z"
   },
   {
    "duration": 23,
    "start_time": "2021-12-01T17:14:16.120Z"
   },
   {
    "duration": 27,
    "start_time": "2021-12-01T17:14:16.146Z"
   },
   {
    "duration": 16,
    "start_time": "2021-12-01T17:14:16.177Z"
   },
   {
    "duration": 28,
    "start_time": "2021-12-01T17:14:16.196Z"
   },
   {
    "duration": 17,
    "start_time": "2021-12-01T17:14:16.227Z"
   },
   {
    "duration": 29,
    "start_time": "2021-12-01T17:14:16.261Z"
   },
   {
    "duration": 18,
    "start_time": "2021-12-01T17:14:16.294Z"
   },
   {
    "duration": 61,
    "start_time": "2021-12-01T17:14:16.315Z"
   },
   {
    "duration": 18,
    "start_time": "2021-12-01T17:14:16.379Z"
   },
   {
    "duration": 66,
    "start_time": "2021-12-01T17:14:16.400Z"
   },
   {
    "duration": 16,
    "start_time": "2021-12-01T17:14:16.469Z"
   },
   {
    "duration": 16,
    "start_time": "2021-12-01T17:14:16.488Z"
   },
   {
    "duration": 16,
    "start_time": "2021-12-01T17:14:16.507Z"
   },
   {
    "duration": 20,
    "start_time": "2021-12-01T17:14:16.526Z"
   },
   {
    "duration": 45,
    "start_time": "2021-12-01T17:14:16.549Z"
   },
   {
    "duration": 2,
    "start_time": "2021-12-01T17:14:16.597Z"
   },
   {
    "duration": 29,
    "start_time": "2021-12-01T17:14:16.601Z"
   },
   {
    "duration": 21,
    "start_time": "2021-12-01T17:14:16.632Z"
   },
   {
    "duration": 36,
    "start_time": "2021-12-01T17:14:16.656Z"
   },
   {
    "duration": 16,
    "start_time": "2021-12-01T17:14:16.694Z"
   },
   {
    "duration": 12,
    "start_time": "2021-12-01T17:14:16.712Z"
   },
   {
    "duration": 14,
    "start_time": "2021-12-01T17:14:16.727Z"
   },
   {
    "duration": 34,
    "start_time": "2021-12-01T17:14:16.744Z"
   },
   {
    "duration": 16,
    "start_time": "2021-12-01T17:14:16.781Z"
   },
   {
    "duration": 11,
    "start_time": "2021-12-01T17:14:16.799Z"
   },
   {
    "duration": 15,
    "start_time": "2021-12-01T17:14:16.812Z"
   },
   {
    "duration": 20,
    "start_time": "2021-12-01T17:14:16.830Z"
   },
   {
    "duration": 16,
    "start_time": "2021-12-01T17:14:16.852Z"
   },
   {
    "duration": 15,
    "start_time": "2021-12-01T17:14:16.877Z"
   },
   {
    "duration": 10,
    "start_time": "2021-12-01T17:14:16.895Z"
   },
   {
    "duration": 9,
    "start_time": "2021-12-01T17:14:16.907Z"
   },
   {
    "duration": 25,
    "start_time": "2021-12-01T17:14:16.918Z"
   },
   {
    "duration": 15,
    "start_time": "2021-12-01T17:14:16.945Z"
   },
   {
    "duration": 9,
    "start_time": "2021-12-01T17:14:16.963Z"
   },
   {
    "duration": 16,
    "start_time": "2021-12-01T17:14:16.974Z"
   },
   {
    "duration": 18,
    "start_time": "2021-12-01T17:14:16.992Z"
   },
   {
    "duration": 19,
    "start_time": "2021-12-01T17:14:17.012Z"
   },
   {
    "duration": 22,
    "start_time": "2021-12-01T17:14:17.034Z"
   },
   {
    "duration": 25,
    "start_time": "2021-12-01T17:14:17.058Z"
   },
   {
    "duration": 17,
    "start_time": "2021-12-01T17:14:17.085Z"
   },
   {
    "duration": 13,
    "start_time": "2021-12-01T17:14:17.104Z"
   },
   {
    "duration": 12,
    "start_time": "2021-12-01T17:14:17.120Z"
   },
   {
    "duration": 17,
    "start_time": "2021-12-01T17:14:17.134Z"
   },
   {
    "duration": 25,
    "start_time": "2021-12-01T17:14:17.153Z"
   },
   {
    "duration": 11,
    "start_time": "2021-12-01T17:14:17.180Z"
   },
   {
    "duration": 18,
    "start_time": "2021-12-01T17:14:17.193Z"
   },
   {
    "duration": 20,
    "start_time": "2021-12-01T17:14:17.213Z"
   },
   {
    "duration": 17,
    "start_time": "2021-12-01T17:14:17.236Z"
   },
   {
    "duration": 12,
    "start_time": "2021-12-01T17:14:17.256Z"
   },
   {
    "duration": 8,
    "start_time": "2021-12-01T17:14:17.270Z"
   },
   {
    "duration": 14,
    "start_time": "2021-12-01T17:14:17.280Z"
   },
   {
    "duration": 15,
    "start_time": "2021-12-01T17:14:17.296Z"
   },
   {
    "duration": 13,
    "start_time": "2021-12-01T17:14:17.314Z"
   },
   {
    "duration": 12,
    "start_time": "2021-12-01T17:14:17.330Z"
   },
   {
    "duration": 13,
    "start_time": "2021-12-01T17:14:17.344Z"
   },
   {
    "duration": 9,
    "start_time": "2021-12-01T17:14:17.359Z"
   },
   {
    "duration": 15,
    "start_time": "2021-12-01T17:14:17.371Z"
   },
   {
    "duration": 14,
    "start_time": "2021-12-01T17:14:17.388Z"
   },
   {
    "duration": 16,
    "start_time": "2021-12-01T17:14:17.404Z"
   },
   {
    "duration": 6,
    "start_time": "2021-12-01T17:14:17.422Z"
   },
   {
    "duration": 9,
    "start_time": "2021-12-01T17:14:17.431Z"
   },
   {
    "duration": 6,
    "start_time": "2021-12-01T17:14:17.442Z"
   },
   {
    "duration": 8,
    "start_time": "2021-12-01T17:14:17.451Z"
   },
   {
    "duration": 13,
    "start_time": "2021-12-01T17:14:17.461Z"
   },
   {
    "duration": 8,
    "start_time": "2021-12-01T17:14:17.476Z"
   },
   {
    "duration": 6,
    "start_time": "2021-12-01T17:14:17.486Z"
   },
   {
    "duration": 5,
    "start_time": "2021-12-01T17:14:17.495Z"
   },
   {
    "duration": 5,
    "start_time": "2021-12-01T17:14:17.503Z"
   },
   {
    "duration": 7,
    "start_time": "2021-12-01T17:14:17.511Z"
   },
   {
    "duration": 7,
    "start_time": "2021-12-01T17:14:17.521Z"
   },
   {
    "duration": 13,
    "start_time": "2021-12-01T17:14:17.531Z"
   },
   {
    "duration": 12,
    "start_time": "2021-12-01T17:14:17.547Z"
   },
   {
    "duration": 7,
    "start_time": "2021-12-01T17:14:17.561Z"
   },
   {
    "duration": 21,
    "start_time": "2021-12-01T17:14:17.570Z"
   },
   {
    "duration": 7,
    "start_time": "2021-12-01T17:25:23.706Z"
   },
   {
    "duration": 28,
    "start_time": "2021-12-01T17:25:44.547Z"
   },
   {
    "duration": 9,
    "start_time": "2021-12-01T17:28:12.109Z"
   },
   {
    "duration": 5,
    "start_time": "2021-12-01T17:29:35.033Z"
   },
   {
    "duration": 288,
    "start_time": "2021-12-01T17:30:12.423Z"
   },
   {
    "duration": 8,
    "start_time": "2021-12-01T17:32:18.714Z"
   },
   {
    "duration": 27,
    "start_time": "2021-12-01T17:32:28.016Z"
   },
   {
    "duration": 6,
    "start_time": "2021-12-01T17:33:08.303Z"
   },
   {
    "duration": 297,
    "start_time": "2021-12-01T17:33:20.250Z"
   },
   {
    "duration": 5,
    "start_time": "2021-12-01T17:34:19.041Z"
   },
   {
    "duration": 5,
    "start_time": "2021-12-01T17:34:20.568Z"
   },
   {
    "duration": 4,
    "start_time": "2021-12-01T17:34:38.094Z"
   },
   {
    "duration": 5,
    "start_time": "2021-12-01T17:34:41.021Z"
   },
   {
    "duration": 4,
    "start_time": "2021-12-01T17:35:11.079Z"
   },
   {
    "duration": 5,
    "start_time": "2021-12-01T17:35:11.896Z"
   },
   {
    "duration": 5,
    "start_time": "2021-12-01T17:35:21.309Z"
   },
   {
    "duration": 5,
    "start_time": "2021-12-01T17:35:22.003Z"
   },
   {
    "duration": 7,
    "start_time": "2021-12-01T17:39:13.791Z"
   },
   {
    "duration": 297,
    "start_time": "2021-12-01T17:39:15.243Z"
   },
   {
    "duration": 7,
    "start_time": "2021-12-01T17:39:36.207Z"
   },
   {
    "duration": 269,
    "start_time": "2021-12-01T17:39:37.272Z"
   },
   {
    "duration": 7,
    "start_time": "2021-12-01T17:40:19.985Z"
   },
   {
    "duration": 459,
    "start_time": "2021-12-01T17:40:20.954Z"
   },
   {
    "duration": 294,
    "start_time": "2021-12-01T17:40:27.462Z"
   },
   {
    "duration": 4,
    "start_time": "2021-12-01T17:42:39.536Z"
   },
   {
    "duration": 5,
    "start_time": "2021-12-01T17:42:40.086Z"
   },
   {
    "duration": 4,
    "start_time": "2021-12-01T17:42:53.868Z"
   },
   {
    "duration": 5,
    "start_time": "2021-12-01T17:42:55.199Z"
   },
   {
    "duration": 4,
    "start_time": "2021-12-01T17:57:01.473Z"
   },
   {
    "duration": 5,
    "start_time": "2021-12-01T17:57:02.124Z"
   },
   {
    "duration": 5,
    "start_time": "2021-12-01T17:57:12.252Z"
   },
   {
    "duration": 5,
    "start_time": "2021-12-01T17:57:12.537Z"
   },
   {
    "duration": 6,
    "start_time": "2021-12-01T18:01:06.575Z"
   },
   {
    "duration": 380,
    "start_time": "2021-12-01T18:01:07.732Z"
   },
   {
    "duration": 7,
    "start_time": "2021-12-01T18:02:34.976Z"
   },
   {
    "duration": 288,
    "start_time": "2021-12-01T18:02:35.766Z"
   },
   {
    "duration": 5,
    "start_time": "2021-12-01T18:03:27.833Z"
   },
   {
    "duration": 7,
    "start_time": "2021-12-01T18:03:28.988Z"
   },
   {
    "duration": 5,
    "start_time": "2021-12-01T18:03:35.604Z"
   },
   {
    "duration": 6,
    "start_time": "2021-12-01T18:03:36.304Z"
   },
   {
    "duration": 4,
    "start_time": "2021-12-01T18:04:06.371Z"
   },
   {
    "duration": 5,
    "start_time": "2021-12-01T18:04:07.983Z"
   },
   {
    "duration": 5,
    "start_time": "2021-12-01T18:04:15.351Z"
   },
   {
    "duration": 6,
    "start_time": "2021-12-01T18:04:16.092Z"
   },
   {
    "duration": 8,
    "start_time": "2021-12-01T18:12:08.376Z"
   },
   {
    "duration": 817,
    "start_time": "2021-12-01T18:17:56.000Z"
   },
   {
    "duration": 2507,
    "start_time": "2021-12-01T18:17:56.819Z"
   },
   {
    "duration": 21,
    "start_time": "2021-12-01T18:17:59.329Z"
   },
   {
    "duration": 27,
    "start_time": "2021-12-01T18:17:59.354Z"
   },
   {
    "duration": 44,
    "start_time": "2021-12-01T18:17:59.384Z"
   },
   {
    "duration": 4,
    "start_time": "2021-12-01T18:17:59.431Z"
   },
   {
    "duration": 8,
    "start_time": "2021-12-01T18:17:59.459Z"
   },
   {
    "duration": 12,
    "start_time": "2021-12-01T18:17:59.472Z"
   },
   {
    "duration": 13,
    "start_time": "2021-12-01T18:17:59.487Z"
   },
   {
    "duration": 66,
    "start_time": "2021-12-01T18:17:59.502Z"
   },
   {
    "duration": 45,
    "start_time": "2021-12-01T18:17:59.571Z"
   },
   {
    "duration": 17,
    "start_time": "2021-12-01T18:17:59.619Z"
   },
   {
    "duration": 12,
    "start_time": "2021-12-01T18:17:59.660Z"
   },
   {
    "duration": 8,
    "start_time": "2021-12-01T18:17:59.676Z"
   },
   {
    "duration": 13,
    "start_time": "2021-12-01T18:17:59.687Z"
   },
   {
    "duration": 12,
    "start_time": "2021-12-01T18:17:59.703Z"
   },
   {
    "duration": 63,
    "start_time": "2021-12-01T18:17:59.717Z"
   },
   {
    "duration": 26,
    "start_time": "2021-12-01T18:17:59.782Z"
   },
   {
    "duration": 11,
    "start_time": "2021-12-01T18:17:59.811Z"
   },
   {
    "duration": 4,
    "start_time": "2021-12-01T18:17:59.859Z"
   },
   {
    "duration": 10,
    "start_time": "2021-12-01T18:17:59.866Z"
   },
   {
    "duration": 18,
    "start_time": "2021-12-01T18:17:59.878Z"
   },
   {
    "duration": 8,
    "start_time": "2021-12-01T18:17:59.902Z"
   },
   {
    "duration": 49,
    "start_time": "2021-12-01T18:17:59.913Z"
   },
   {
    "duration": 31,
    "start_time": "2021-12-01T18:17:59.965Z"
   },
   {
    "duration": 74,
    "start_time": "2021-12-01T18:17:59.999Z"
   },
   {
    "duration": 13,
    "start_time": "2021-12-01T18:18:00.075Z"
   },
   {
    "duration": 14,
    "start_time": "2021-12-01T18:18:00.090Z"
   },
   {
    "duration": 24,
    "start_time": "2021-12-01T18:18:00.106Z"
   },
   {
    "duration": 58,
    "start_time": "2021-12-01T18:18:00.132Z"
   },
   {
    "duration": 11,
    "start_time": "2021-12-01T18:18:00.193Z"
   },
   {
    "duration": 19,
    "start_time": "2021-12-01T18:18:00.206Z"
   },
   {
    "duration": 49,
    "start_time": "2021-12-01T18:18:00.227Z"
   },
   {
    "duration": 11,
    "start_time": "2021-12-01T18:18:00.279Z"
   },
   {
    "duration": 18,
    "start_time": "2021-12-01T18:18:00.292Z"
   },
   {
    "duration": 17,
    "start_time": "2021-12-01T18:18:00.312Z"
   },
   {
    "duration": 53,
    "start_time": "2021-12-01T18:18:00.331Z"
   },
   {
    "duration": 12,
    "start_time": "2021-12-01T18:18:00.386Z"
   },
   {
    "duration": 28,
    "start_time": "2021-12-01T18:18:00.400Z"
   },
   {
    "duration": 23,
    "start_time": "2021-12-01T18:18:00.431Z"
   },
   {
    "duration": 22,
    "start_time": "2021-12-01T18:18:00.456Z"
   },
   {
    "duration": 31,
    "start_time": "2021-12-01T18:18:00.480Z"
   },
   {
    "duration": 18,
    "start_time": "2021-12-01T18:18:00.514Z"
   },
   {
    "duration": 31,
    "start_time": "2021-12-01T18:18:00.535Z"
   },
   {
    "duration": 25,
    "start_time": "2021-12-01T18:18:00.569Z"
   },
   {
    "duration": 35,
    "start_time": "2021-12-01T18:18:00.596Z"
   },
   {
    "duration": 19,
    "start_time": "2021-12-01T18:18:00.633Z"
   },
   {
    "duration": 49,
    "start_time": "2021-12-01T18:18:00.655Z"
   },
   {
    "duration": 13,
    "start_time": "2021-12-01T18:18:00.706Z"
   },
   {
    "duration": 30,
    "start_time": "2021-12-01T18:18:00.722Z"
   },
   {
    "duration": 21,
    "start_time": "2021-12-01T18:18:00.759Z"
   },
   {
    "duration": 23,
    "start_time": "2021-12-01T18:18:00.783Z"
   },
   {
    "duration": 40,
    "start_time": "2021-12-01T18:18:00.808Z"
   },
   {
    "duration": 23,
    "start_time": "2021-12-01T18:18:00.851Z"
   },
   {
    "duration": 53,
    "start_time": "2021-12-01T18:18:00.876Z"
   },
   {
    "duration": 4,
    "start_time": "2021-12-01T18:18:00.931Z"
   },
   {
    "duration": 26,
    "start_time": "2021-12-01T18:18:00.937Z"
   },
   {
    "duration": 48,
    "start_time": "2021-12-01T18:18:00.965Z"
   },
   {
    "duration": 12,
    "start_time": "2021-12-01T18:18:01.016Z"
   },
   {
    "duration": 49,
    "start_time": "2021-12-01T18:18:01.031Z"
   },
   {
    "duration": 12,
    "start_time": "2021-12-01T18:18:01.082Z"
   },
   {
    "duration": 135,
    "start_time": "2021-12-01T18:18:01.097Z"
   },
   {
    "duration": 4,
    "start_time": "2021-12-01T18:18:01.235Z"
   },
   {
    "duration": 24,
    "start_time": "2021-12-01T18:18:01.242Z"
   },
   {
    "duration": 18,
    "start_time": "2021-12-01T18:18:01.269Z"
   },
   {
    "duration": 10,
    "start_time": "2021-12-01T18:18:01.290Z"
   },
   {
    "duration": 320,
    "start_time": "2021-12-01T18:18:01.303Z"
   },
   {
    "duration": 6,
    "start_time": "2021-12-01T18:18:01.634Z"
   },
   {
    "duration": 325,
    "start_time": "2021-12-01T18:18:01.643Z"
   },
   {
    "duration": 4,
    "start_time": "2021-12-01T18:18:01.970Z"
   },
   {
    "duration": 13,
    "start_time": "2021-12-01T18:18:01.976Z"
   },
   {
    "duration": 7,
    "start_time": "2021-12-01T18:18:01.991Z"
   },
   {
    "duration": 12,
    "start_time": "2021-12-01T18:18:02.000Z"
   },
   {
    "duration": 10,
    "start_time": "2021-12-01T18:18:02.014Z"
   },
   {
    "duration": 10,
    "start_time": "2021-12-01T18:18:02.026Z"
   },
   {
    "duration": 4,
    "start_time": "2021-12-01T18:18:02.060Z"
   },
   {
    "duration": 9,
    "start_time": "2021-12-01T18:18:02.066Z"
   },
   {
    "duration": 14,
    "start_time": "2021-12-01T18:18:02.077Z"
   },
   {
    "duration": 348,
    "start_time": "2021-12-01T18:18:02.093Z"
   },
   {
    "duration": 16,
    "start_time": "2021-12-01T18:18:02.444Z"
   },
   {
    "duration": 311,
    "start_time": "2021-12-01T18:18:02.463Z"
   },
   {
    "duration": 4,
    "start_time": "2021-12-01T18:18:02.776Z"
   },
   {
    "duration": 8,
    "start_time": "2021-12-01T18:18:02.783Z"
   },
   {
    "duration": 13,
    "start_time": "2021-12-01T18:18:02.793Z"
   },
   {
    "duration": 8,
    "start_time": "2021-12-01T18:18:02.809Z"
   },
   {
    "duration": 6,
    "start_time": "2021-12-01T18:18:02.819Z"
   },
   {
    "duration": 35,
    "start_time": "2021-12-01T18:18:02.827Z"
   },
   {
    "duration": 6,
    "start_time": "2021-12-01T18:18:02.865Z"
   },
   {
    "duration": 7,
    "start_time": "2021-12-01T18:18:02.874Z"
   },
   {
    "duration": 8,
    "start_time": "2021-12-01T18:18:02.883Z"
   },
   {
    "duration": 314,
    "start_time": "2021-12-01T18:18:02.894Z"
   },
   {
    "duration": 7,
    "start_time": "2021-12-01T18:18:03.211Z"
   },
   {
    "duration": 301,
    "start_time": "2021-12-01T18:18:03.221Z"
   },
   {
    "duration": 5,
    "start_time": "2021-12-01T18:18:03.525Z"
   },
   {
    "duration": 28,
    "start_time": "2021-12-01T18:18:03.533Z"
   },
   {
    "duration": 9,
    "start_time": "2021-12-01T18:18:03.563Z"
   },
   {
    "duration": 16,
    "start_time": "2021-12-01T18:18:03.574Z"
   },
   {
    "duration": 6,
    "start_time": "2021-12-01T18:18:03.592Z"
   },
   {
    "duration": 8,
    "start_time": "2021-12-01T18:18:03.600Z"
   },
   {
    "duration": 6,
    "start_time": "2021-12-01T18:18:03.610Z"
   },
   {
    "duration": 8,
    "start_time": "2021-12-01T18:18:03.618Z"
   },
   {
    "duration": 438,
    "start_time": "2021-12-01T18:18:03.629Z"
   },
   {
    "duration": 8,
    "start_time": "2021-12-01T18:18:04.070Z"
   },
   {
    "duration": 8,
    "start_time": "2021-12-01T18:18:04.080Z"
   },
   {
    "duration": 5,
    "start_time": "2021-12-01T18:18:04.090Z"
   },
   {
    "duration": 7,
    "start_time": "2021-12-01T18:18:04.097Z"
   },
   {
    "duration": 7,
    "start_time": "2021-12-01T18:18:04.106Z"
   },
   {
    "duration": 10,
    "start_time": "2021-12-01T18:18:04.116Z"
   },
   {
    "duration": 31,
    "start_time": "2021-12-01T18:18:04.128Z"
   },
   {
    "duration": 5,
    "start_time": "2021-12-01T18:18:04.162Z"
   },
   {
    "duration": 6,
    "start_time": "2021-12-01T18:18:04.170Z"
   },
   {
    "duration": 6,
    "start_time": "2021-12-01T18:18:04.179Z"
   },
   {
    "duration": 8,
    "start_time": "2021-12-01T18:18:04.188Z"
   },
   {
    "duration": 8,
    "start_time": "2021-12-01T18:18:04.198Z"
   },
   {
    "duration": 543,
    "start_time": "2021-12-01T18:25:00.786Z"
   },
   {
    "duration": 15,
    "start_time": "2021-12-01T18:25:20.632Z"
   },
   {
    "duration": 7,
    "start_time": "2021-12-01T18:26:09.754Z"
   },
   {
    "duration": 6,
    "start_time": "2021-12-01T18:28:01.921Z"
   },
   {
    "duration": 7,
    "start_time": "2021-12-01T18:28:06.712Z"
   },
   {
    "duration": 29,
    "start_time": "2021-12-01T18:28:26.919Z"
   },
   {
    "duration": 411,
    "start_time": "2021-12-01T18:30:58.536Z"
   },
   {
    "duration": 416,
    "start_time": "2021-12-01T18:31:29.477Z"
   },
   {
    "duration": 457,
    "start_time": "2021-12-01T18:31:37.183Z"
   },
   {
    "duration": 9,
    "start_time": "2021-12-01T18:31:50.425Z"
   },
   {
    "duration": 7,
    "start_time": "2021-12-01T18:33:20.568Z"
   },
   {
    "duration": 409,
    "start_time": "2021-12-01T18:33:40.507Z"
   },
   {
    "duration": 8,
    "start_time": "2021-12-01T18:34:22.672Z"
   },
   {
    "duration": 11,
    "start_time": "2021-12-01T18:38:58.448Z"
   },
   {
    "duration": 12,
    "start_time": "2021-12-01T18:39:20.018Z"
   },
   {
    "duration": 416,
    "start_time": "2021-12-01T18:41:54.664Z"
   },
   {
    "duration": 3,
    "start_time": "2021-12-01T18:42:21.152Z"
   },
   {
    "duration": 540,
    "start_time": "2021-12-01T18:42:21.162Z"
   },
   {
    "duration": 11,
    "start_time": "2021-12-01T18:42:21.705Z"
   },
   {
    "duration": 33,
    "start_time": "2021-12-01T18:42:21.718Z"
   },
   {
    "duration": 40,
    "start_time": "2021-12-01T18:42:21.753Z"
   },
   {
    "duration": 4,
    "start_time": "2021-12-01T18:42:21.796Z"
   },
   {
    "duration": 8,
    "start_time": "2021-12-01T18:42:21.803Z"
   },
   {
    "duration": 47,
    "start_time": "2021-12-01T18:42:21.814Z"
   },
   {
    "duration": 15,
    "start_time": "2021-12-01T18:42:21.865Z"
   },
   {
    "duration": 28,
    "start_time": "2021-12-01T18:42:21.883Z"
   },
   {
    "duration": 61,
    "start_time": "2021-12-01T18:42:21.913Z"
   },
   {
    "duration": 11,
    "start_time": "2021-12-01T18:42:21.976Z"
   },
   {
    "duration": 15,
    "start_time": "2021-12-01T18:42:21.989Z"
   },
   {
    "duration": 11,
    "start_time": "2021-12-01T18:42:22.006Z"
   },
   {
    "duration": 46,
    "start_time": "2021-12-01T18:42:22.020Z"
   },
   {
    "duration": 13,
    "start_time": "2021-12-01T18:42:22.068Z"
   },
   {
    "duration": 22,
    "start_time": "2021-12-01T18:42:22.083Z"
   },
   {
    "duration": 56,
    "start_time": "2021-12-01T18:42:22.107Z"
   },
   {
    "duration": 11,
    "start_time": "2021-12-01T18:42:22.165Z"
   },
   {
    "duration": 15,
    "start_time": "2021-12-01T18:42:22.178Z"
   },
   {
    "duration": 19,
    "start_time": "2021-12-01T18:42:22.195Z"
   },
   {
    "duration": 19,
    "start_time": "2021-12-01T18:42:22.217Z"
   },
   {
    "duration": 9,
    "start_time": "2021-12-01T18:42:22.260Z"
   },
   {
    "duration": 10,
    "start_time": "2021-12-01T18:42:22.275Z"
   },
   {
    "duration": 42,
    "start_time": "2021-12-01T18:42:22.289Z"
   },
   {
    "duration": 71,
    "start_time": "2021-12-01T18:42:22.333Z"
   },
   {
    "duration": 12,
    "start_time": "2021-12-01T18:42:22.406Z"
   },
   {
    "duration": 44,
    "start_time": "2021-12-01T18:42:22.420Z"
   },
   {
    "duration": 21,
    "start_time": "2021-12-01T18:42:22.467Z"
   },
   {
    "duration": 36,
    "start_time": "2021-12-01T18:42:22.490Z"
   },
   {
    "duration": 42,
    "start_time": "2021-12-01T18:42:22.528Z"
   },
   {
    "duration": 12,
    "start_time": "2021-12-01T18:42:22.572Z"
   },
   {
    "duration": 33,
    "start_time": "2021-12-01T18:42:22.587Z"
   },
   {
    "duration": 6,
    "start_time": "2021-12-01T18:42:22.623Z"
   },
   {
    "duration": 4,
    "start_time": "2021-12-01T18:42:22.660Z"
   },
   {
    "duration": 7,
    "start_time": "2021-12-01T18:42:22.667Z"
   },
   {
    "duration": 31,
    "start_time": "2021-12-01T18:42:22.676Z"
   },
   {
    "duration": 11,
    "start_time": "2021-12-01T18:42:22.710Z"
   },
   {
    "duration": 45,
    "start_time": "2021-12-01T18:42:22.723Z"
   },
   {
    "duration": 8,
    "start_time": "2021-12-01T18:42:22.771Z"
   },
   {
    "duration": 8,
    "start_time": "2021-12-01T18:42:22.782Z"
   },
   {
    "duration": 13,
    "start_time": "2021-12-01T18:42:22.792Z"
   },
   {
    "duration": 60,
    "start_time": "2021-12-01T18:42:22.808Z"
   },
   {
    "duration": 17,
    "start_time": "2021-12-01T18:42:22.871Z"
   },
   {
    "duration": 15,
    "start_time": "2021-12-01T18:42:22.891Z"
   },
   {
    "duration": 65,
    "start_time": "2021-12-01T18:42:22.908Z"
   },
   {
    "duration": 17,
    "start_time": "2021-12-01T18:42:22.976Z"
   },
   {
    "duration": 28,
    "start_time": "2021-12-01T18:42:22.996Z"
   },
   {
    "duration": 44,
    "start_time": "2021-12-01T18:42:23.027Z"
   },
   {
    "duration": 28,
    "start_time": "2021-12-01T18:42:23.073Z"
   },
   {
    "duration": 19,
    "start_time": "2021-12-01T18:42:23.104Z"
   },
   {
    "duration": 8,
    "start_time": "2021-12-01T18:42:23.126Z"
   },
   {
    "duration": 27,
    "start_time": "2021-12-01T18:42:23.136Z"
   },
   {
    "duration": 8,
    "start_time": "2021-12-01T18:42:23.166Z"
   },
   {
    "duration": 36,
    "start_time": "2021-12-01T18:42:23.176Z"
   },
   {
    "duration": 4,
    "start_time": "2021-12-01T18:42:23.214Z"
   },
   {
    "duration": 16,
    "start_time": "2021-12-01T18:42:23.220Z"
   },
   {
    "duration": 50,
    "start_time": "2021-12-01T18:42:23.239Z"
   },
   {
    "duration": 23,
    "start_time": "2021-12-01T18:42:23.292Z"
   },
   {
    "duration": 39,
    "start_time": "2021-12-01T18:42:23.317Z"
   },
   {
    "duration": 12,
    "start_time": "2021-12-01T18:42:23.358Z"
   },
   {
    "duration": 4,
    "start_time": "2021-12-01T18:42:23.373Z"
   },
   {
    "duration": 17,
    "start_time": "2021-12-01T18:42:23.379Z"
   },
   {
    "duration": 16,
    "start_time": "2021-12-01T18:42:23.399Z"
   },
   {
    "duration": 17,
    "start_time": "2021-12-01T18:42:23.418Z"
   },
   {
    "duration": 22,
    "start_time": "2021-12-01T18:42:23.438Z"
   },
   {
    "duration": 383,
    "start_time": "2021-12-01T18:42:23.462Z"
   },
   {
    "duration": 13,
    "start_time": "2021-12-01T18:42:23.847Z"
   },
   {
    "duration": 321,
    "start_time": "2021-12-01T18:42:23.871Z"
   },
   {
    "duration": 4,
    "start_time": "2021-12-01T18:42:24.196Z"
   },
   {
    "duration": 12,
    "start_time": "2021-12-01T18:42:24.203Z"
   },
   {
    "duration": 10,
    "start_time": "2021-12-01T18:42:24.217Z"
   },
   {
    "duration": 31,
    "start_time": "2021-12-01T18:42:24.229Z"
   },
   {
    "duration": 5,
    "start_time": "2021-12-01T18:42:24.263Z"
   },
   {
    "duration": 10,
    "start_time": "2021-12-01T18:42:24.270Z"
   },
   {
    "duration": 5,
    "start_time": "2021-12-01T18:42:24.283Z"
   },
   {
    "duration": 8,
    "start_time": "2021-12-01T18:42:24.290Z"
   },
   {
    "duration": 10,
    "start_time": "2021-12-01T18:42:24.300Z"
   },
   {
    "duration": 314,
    "start_time": "2021-12-01T18:42:24.312Z"
   },
   {
    "duration": 5,
    "start_time": "2021-12-01T18:42:24.629Z"
   },
   {
    "duration": 335,
    "start_time": "2021-12-01T18:42:24.637Z"
   },
   {
    "duration": 5,
    "start_time": "2021-12-01T18:42:24.974Z"
   },
   {
    "duration": 9,
    "start_time": "2021-12-01T18:42:24.981Z"
   },
   {
    "duration": 9,
    "start_time": "2021-12-01T18:42:24.992Z"
   },
   {
    "duration": 8,
    "start_time": "2021-12-01T18:42:25.003Z"
   },
   {
    "duration": 10,
    "start_time": "2021-12-01T18:42:25.014Z"
   },
   {
    "duration": 35,
    "start_time": "2021-12-01T18:42:25.026Z"
   },
   {
    "duration": 7,
    "start_time": "2021-12-01T18:42:25.063Z"
   },
   {
    "duration": 7,
    "start_time": "2021-12-01T18:42:25.073Z"
   },
   {
    "duration": 12,
    "start_time": "2021-12-01T18:42:25.083Z"
   },
   {
    "duration": 314,
    "start_time": "2021-12-01T18:42:25.097Z"
   },
   {
    "duration": 6,
    "start_time": "2021-12-01T18:42:25.413Z"
   },
   {
    "duration": 302,
    "start_time": "2021-12-01T18:42:25.421Z"
   },
   {
    "duration": 5,
    "start_time": "2021-12-01T18:42:25.726Z"
   },
   {
    "duration": 32,
    "start_time": "2021-12-01T18:42:25.735Z"
   },
   {
    "duration": 17,
    "start_time": "2021-12-01T18:42:25.771Z"
   },
   {
    "duration": 16,
    "start_time": "2021-12-01T18:42:25.791Z"
   },
   {
    "duration": 6,
    "start_time": "2021-12-01T18:42:25.810Z"
   },
   {
    "duration": 9,
    "start_time": "2021-12-01T18:42:25.819Z"
   },
   {
    "duration": 11,
    "start_time": "2021-12-01T18:42:25.831Z"
   },
   {
    "duration": 6,
    "start_time": "2021-12-01T18:42:25.861Z"
   },
   {
    "duration": 8,
    "start_time": "2021-12-01T18:42:25.870Z"
   },
   {
    "duration": 12,
    "start_time": "2021-12-01T18:42:25.881Z"
   },
   {
    "duration": 412,
    "start_time": "2021-12-01T18:42:25.895Z"
   },
   {
    "duration": 170238,
    "start_time": "2021-12-01T18:39:36.072Z"
   },
   {
    "duration": 170225,
    "start_time": "2021-12-01T18:39:36.086Z"
   },
   {
    "duration": 170215,
    "start_time": "2021-12-01T18:39:36.098Z"
   },
   {
    "duration": 170144,
    "start_time": "2021-12-01T18:39:36.170Z"
   },
   {
    "duration": 170132,
    "start_time": "2021-12-01T18:39:36.184Z"
   },
   {
    "duration": 170122,
    "start_time": "2021-12-01T18:39:36.195Z"
   },
   {
    "duration": 169165,
    "start_time": "2021-12-01T18:39:37.154Z"
   },
   {
    "duration": 169150,
    "start_time": "2021-12-01T18:39:37.171Z"
   },
   {
    "duration": 169060,
    "start_time": "2021-12-01T18:39:37.262Z"
   },
   {
    "duration": 169048,
    "start_time": "2021-12-01T18:39:37.275Z"
   },
   {
    "duration": 169038,
    "start_time": "2021-12-01T18:39:37.287Z"
   },
   {
    "duration": 169027,
    "start_time": "2021-12-01T18:39:37.299Z"
   },
   {
    "duration": 978,
    "start_time": "2021-12-01T18:43:13.146Z"
   },
   {
    "duration": 536,
    "start_time": "2021-12-01T18:43:14.127Z"
   },
   {
    "duration": 21,
    "start_time": "2021-12-01T18:43:14.666Z"
   },
   {
    "duration": 28,
    "start_time": "2021-12-01T18:43:14.690Z"
   },
   {
    "duration": 71,
    "start_time": "2021-12-01T18:43:14.721Z"
   },
   {
    "duration": 3,
    "start_time": "2021-12-01T18:43:14.795Z"
   },
   {
    "duration": 10,
    "start_time": "2021-12-01T18:43:14.800Z"
   },
   {
    "duration": 14,
    "start_time": "2021-12-01T18:43:14.813Z"
   },
   {
    "duration": 36,
    "start_time": "2021-12-01T18:43:14.830Z"
   },
   {
    "duration": 25,
    "start_time": "2021-12-01T18:43:14.868Z"
   },
   {
    "duration": 34,
    "start_time": "2021-12-01T18:43:14.897Z"
   },
   {
    "duration": 39,
    "start_time": "2021-12-01T18:43:14.933Z"
   },
   {
    "duration": 16,
    "start_time": "2021-12-01T18:43:14.975Z"
   },
   {
    "duration": 6,
    "start_time": "2021-12-01T18:43:14.993Z"
   },
   {
    "duration": 19,
    "start_time": "2021-12-01T18:43:15.001Z"
   },
   {
    "duration": 40,
    "start_time": "2021-12-01T18:43:15.023Z"
   },
   {
    "duration": 22,
    "start_time": "2021-12-01T18:43:15.066Z"
   },
   {
    "duration": 29,
    "start_time": "2021-12-01T18:43:15.091Z"
   },
   {
    "duration": 45,
    "start_time": "2021-12-01T18:43:15.122Z"
   },
   {
    "duration": 6,
    "start_time": "2021-12-01T18:43:15.171Z"
   },
   {
    "duration": 12,
    "start_time": "2021-12-01T18:43:15.180Z"
   },
   {
    "duration": 16,
    "start_time": "2021-12-01T18:43:15.195Z"
   },
   {
    "duration": 10,
    "start_time": "2021-12-01T18:43:15.260Z"
   },
   {
    "duration": 25,
    "start_time": "2021-12-01T18:43:15.274Z"
   },
   {
    "duration": 40,
    "start_time": "2021-12-01T18:43:15.302Z"
   },
   {
    "duration": 54,
    "start_time": "2021-12-01T18:43:15.345Z"
   },
   {
    "duration": 12,
    "start_time": "2021-12-01T18:43:15.401Z"
   },
   {
    "duration": 14,
    "start_time": "2021-12-01T18:43:15.416Z"
   },
   {
    "duration": 40,
    "start_time": "2021-12-01T18:43:15.432Z"
   },
   {
    "duration": 39,
    "start_time": "2021-12-01T18:43:15.475Z"
   },
   {
    "duration": 11,
    "start_time": "2021-12-01T18:43:15.516Z"
   },
   {
    "duration": 32,
    "start_time": "2021-12-01T18:43:15.529Z"
   },
   {
    "duration": 23,
    "start_time": "2021-12-01T18:43:15.564Z"
   },
   {
    "duration": 12,
    "start_time": "2021-12-01T18:43:15.589Z"
   },
   {
    "duration": 4,
    "start_time": "2021-12-01T18:43:15.604Z"
   },
   {
    "duration": 8,
    "start_time": "2021-12-01T18:43:15.610Z"
   },
   {
    "duration": 70,
    "start_time": "2021-12-01T18:43:15.621Z"
   },
   {
    "duration": 12,
    "start_time": "2021-12-01T18:43:15.693Z"
   },
   {
    "duration": 8,
    "start_time": "2021-12-01T18:43:15.707Z"
   },
   {
    "duration": 41,
    "start_time": "2021-12-01T18:43:15.718Z"
   },
   {
    "duration": 7,
    "start_time": "2021-12-01T18:43:15.762Z"
   },
   {
    "duration": 12,
    "start_time": "2021-12-01T18:43:15.772Z"
   },
   {
    "duration": 10,
    "start_time": "2021-12-01T18:43:15.786Z"
   },
   {
    "duration": 14,
    "start_time": "2021-12-01T18:43:15.798Z"
   },
   {
    "duration": 49,
    "start_time": "2021-12-01T18:43:15.814Z"
   },
   {
    "duration": 22,
    "start_time": "2021-12-01T18:43:15.866Z"
   },
   {
    "duration": 11,
    "start_time": "2021-12-01T18:43:15.890Z"
   },
   {
    "duration": 25,
    "start_time": "2021-12-01T18:43:15.903Z"
   },
   {
    "duration": 13,
    "start_time": "2021-12-01T18:43:15.960Z"
   },
   {
    "duration": 37,
    "start_time": "2021-12-01T18:43:15.975Z"
   },
   {
    "duration": 12,
    "start_time": "2021-12-01T18:43:16.015Z"
   },
   {
    "duration": 5,
    "start_time": "2021-12-01T18:43:16.060Z"
   },
   {
    "duration": 10,
    "start_time": "2021-12-01T18:43:16.068Z"
   },
   {
    "duration": 9,
    "start_time": "2021-12-01T18:43:16.081Z"
   },
   {
    "duration": 33,
    "start_time": "2021-12-01T18:43:16.093Z"
   },
   {
    "duration": 32,
    "start_time": "2021-12-01T18:43:16.128Z"
   },
   {
    "duration": 12,
    "start_time": "2021-12-01T18:43:16.163Z"
   },
   {
    "duration": 30,
    "start_time": "2021-12-01T18:43:16.177Z"
   },
   {
    "duration": 7,
    "start_time": "2021-12-01T18:43:16.209Z"
   },
   {
    "duration": 74,
    "start_time": "2021-12-01T18:43:16.220Z"
   },
   {
    "duration": 12,
    "start_time": "2021-12-01T18:43:16.296Z"
   },
   {
    "duration": 129,
    "start_time": "2021-12-01T18:43:16.310Z"
   },
   {
    "duration": 3,
    "start_time": "2021-12-01T18:43:16.441Z"
   },
   {
    "duration": 20,
    "start_time": "2021-12-01T18:43:16.446Z"
   },
   {
    "duration": 9,
    "start_time": "2021-12-01T18:43:16.469Z"
   },
   {
    "duration": 10,
    "start_time": "2021-12-01T18:43:16.480Z"
   },
   {
    "duration": 332,
    "start_time": "2021-12-01T18:43:16.492Z"
   },
   {
    "duration": 5,
    "start_time": "2021-12-01T18:43:16.834Z"
   },
   {
    "duration": 316,
    "start_time": "2021-12-01T18:43:16.843Z"
   },
   {
    "duration": 4,
    "start_time": "2021-12-01T18:43:17.161Z"
   },
   {
    "duration": 8,
    "start_time": "2021-12-01T18:43:17.168Z"
   },
   {
    "duration": 7,
    "start_time": "2021-12-01T18:43:17.179Z"
   },
   {
    "duration": 7,
    "start_time": "2021-12-01T18:43:17.188Z"
   },
   {
    "duration": 5,
    "start_time": "2021-12-01T18:43:17.198Z"
   },
   {
    "duration": 7,
    "start_time": "2021-12-01T18:43:17.205Z"
   },
   {
    "duration": 45,
    "start_time": "2021-12-01T18:43:17.214Z"
   },
   {
    "duration": 5,
    "start_time": "2021-12-01T18:43:17.262Z"
   },
   {
    "duration": 8,
    "start_time": "2021-12-01T18:43:17.269Z"
   },
   {
    "duration": 344,
    "start_time": "2021-12-01T18:43:17.280Z"
   },
   {
    "duration": 6,
    "start_time": "2021-12-01T18:43:17.627Z"
   },
   {
    "duration": 329,
    "start_time": "2021-12-01T18:43:17.636Z"
   },
   {
    "duration": 4,
    "start_time": "2021-12-01T18:43:17.968Z"
   },
   {
    "duration": 10,
    "start_time": "2021-12-01T18:43:17.976Z"
   },
   {
    "duration": 5,
    "start_time": "2021-12-01T18:43:17.989Z"
   },
   {
    "duration": 12,
    "start_time": "2021-12-01T18:43:17.996Z"
   },
   {
    "duration": 8,
    "start_time": "2021-12-01T18:43:18.010Z"
   },
   {
    "duration": 41,
    "start_time": "2021-12-01T18:43:18.020Z"
   },
   {
    "duration": 5,
    "start_time": "2021-12-01T18:43:18.064Z"
   },
   {
    "duration": 6,
    "start_time": "2021-12-01T18:43:18.071Z"
   },
   {
    "duration": 7,
    "start_time": "2021-12-01T18:43:18.079Z"
   },
   {
    "duration": 329,
    "start_time": "2021-12-01T18:43:18.089Z"
   },
   {
    "duration": 5,
    "start_time": "2021-12-01T18:43:18.421Z"
   },
   {
    "duration": 301,
    "start_time": "2021-12-01T18:43:18.429Z"
   },
   {
    "duration": 5,
    "start_time": "2021-12-01T18:43:18.733Z"
   },
   {
    "duration": 20,
    "start_time": "2021-12-01T18:43:18.740Z"
   },
   {
    "duration": 7,
    "start_time": "2021-12-01T18:43:18.762Z"
   },
   {
    "duration": 9,
    "start_time": "2021-12-01T18:43:18.771Z"
   },
   {
    "duration": 7,
    "start_time": "2021-12-01T18:43:18.782Z"
   },
   {
    "duration": 8,
    "start_time": "2021-12-01T18:43:18.791Z"
   },
   {
    "duration": 12,
    "start_time": "2021-12-01T18:43:18.801Z"
   },
   {
    "duration": 7,
    "start_time": "2021-12-01T18:43:18.815Z"
   },
   {
    "duration": 456,
    "start_time": "2021-12-01T18:43:18.824Z"
   },
   {
    "duration": 8,
    "start_time": "2021-12-01T18:43:19.282Z"
   },
   {
    "duration": 532,
    "start_time": "2021-12-01T18:43:19.292Z"
   },
   {
    "duration": 170876,
    "start_time": "2021-12-01T18:40:28.951Z"
   },
   {
    "duration": 170866,
    "start_time": "2021-12-01T18:40:28.962Z"
   },
   {
    "duration": 170854,
    "start_time": "2021-12-01T18:40:28.976Z"
   },
   {
    "duration": 170846,
    "start_time": "2021-12-01T18:40:28.986Z"
   },
   {
    "duration": 170834,
    "start_time": "2021-12-01T18:40:28.999Z"
   },
   {
    "duration": 170823,
    "start_time": "2021-12-01T18:40:29.011Z"
   },
   {
    "duration": 169941,
    "start_time": "2021-12-01T18:40:29.895Z"
   },
   {
    "duration": 169643,
    "start_time": "2021-12-01T18:40:30.194Z"
   },
   {
    "duration": 169383,
    "start_time": "2021-12-01T18:40:30.456Z"
   },
   {
    "duration": 169373,
    "start_time": "2021-12-01T18:40:30.467Z"
   },
   {
    "duration": 169362,
    "start_time": "2021-12-01T18:40:30.480Z"
   },
   {
    "duration": 169351,
    "start_time": "2021-12-01T18:40:30.492Z"
   },
   {
    "duration": 417,
    "start_time": "2021-12-01T18:44:20.620Z"
   },
   {
    "duration": 495,
    "start_time": "2021-12-01T18:45:08.093Z"
   },
   {
    "duration": 7,
    "start_time": "2021-12-01T18:47:32.171Z"
   },
   {
    "duration": 11,
    "start_time": "2021-12-01T18:48:00.323Z"
   },
   {
    "duration": 455,
    "start_time": "2021-12-01T18:48:03.869Z"
   },
   {
    "duration": 6,
    "start_time": "2021-12-01T18:48:35.826Z"
   },
   {
    "duration": 12,
    "start_time": "2021-12-01T18:49:02.144Z"
   },
   {
    "duration": 20,
    "start_time": "2021-12-01T18:49:14.020Z"
   },
   {
    "duration": 13,
    "start_time": "2021-12-01T18:50:08.080Z"
   },
   {
    "duration": 14,
    "start_time": "2021-12-01T18:50:10.047Z"
   },
   {
    "duration": 417,
    "start_time": "2021-12-01T18:53:19.249Z"
   },
   {
    "duration": 11,
    "start_time": "2021-12-01T18:53:23.268Z"
   },
   {
    "duration": 15,
    "start_time": "2021-12-01T18:53:25.417Z"
   },
   {
    "duration": 7,
    "start_time": "2021-12-01T18:53:42.876Z"
   },
   {
    "duration": 15,
    "start_time": "2021-12-01T18:53:54.577Z"
   },
   {
    "duration": 11,
    "start_time": "2021-12-01T18:57:24.454Z"
   },
   {
    "duration": 13,
    "start_time": "2021-12-01T18:57:35.975Z"
   },
   {
    "duration": 9,
    "start_time": "2021-12-01T18:58:44.421Z"
   },
   {
    "duration": 12,
    "start_time": "2021-12-01T18:58:53.793Z"
   },
   {
    "duration": 13,
    "start_time": "2021-12-01T18:59:57.036Z"
   },
   {
    "duration": 32,
    "start_time": "2021-12-01T18:59:58.067Z"
   },
   {
    "duration": 8,
    "start_time": "2021-12-01T19:00:37.536Z"
   },
   {
    "duration": 129,
    "start_time": "2021-12-01T19:07:42.047Z"
   },
   {
    "duration": 1022,
    "start_time": "2021-12-01T19:17:36.627Z"
   },
   {
    "duration": 566,
    "start_time": "2021-12-01T19:17:37.652Z"
   },
   {
    "duration": 21,
    "start_time": "2021-12-01T19:17:38.221Z"
   },
   {
    "duration": 29,
    "start_time": "2021-12-01T19:17:38.245Z"
   },
   {
    "duration": 41,
    "start_time": "2021-12-01T19:17:38.277Z"
   },
   {
    "duration": 3,
    "start_time": "2021-12-01T19:17:38.321Z"
   },
   {
    "duration": 32,
    "start_time": "2021-12-01T19:17:38.327Z"
   },
   {
    "duration": 12,
    "start_time": "2021-12-01T19:17:38.365Z"
   },
   {
    "duration": 12,
    "start_time": "2021-12-01T19:17:38.381Z"
   },
   {
    "duration": 67,
    "start_time": "2021-12-01T19:17:38.396Z"
   },
   {
    "duration": 33,
    "start_time": "2021-12-01T19:17:38.466Z"
   },
   {
    "duration": 13,
    "start_time": "2021-12-01T19:17:38.501Z"
   },
   {
    "duration": 14,
    "start_time": "2021-12-01T19:17:38.516Z"
   },
   {
    "duration": 30,
    "start_time": "2021-12-01T19:17:38.532Z"
   },
   {
    "duration": 13,
    "start_time": "2021-12-01T19:17:38.564Z"
   },
   {
    "duration": 11,
    "start_time": "2021-12-01T19:17:38.580Z"
   },
   {
    "duration": 20,
    "start_time": "2021-12-01T19:17:38.593Z"
   },
   {
    "duration": 62,
    "start_time": "2021-12-01T19:17:38.615Z"
   },
   {
    "duration": 12,
    "start_time": "2021-12-01T19:17:38.679Z"
   },
   {
    "duration": 8,
    "start_time": "2021-12-01T19:17:38.694Z"
   },
   {
    "duration": 14,
    "start_time": "2021-12-01T19:17:38.705Z"
   },
   {
    "duration": 48,
    "start_time": "2021-12-01T19:17:38.722Z"
   },
   {
    "duration": 11,
    "start_time": "2021-12-01T19:17:38.779Z"
   },
   {
    "duration": 14,
    "start_time": "2021-12-01T19:17:38.796Z"
   },
   {
    "duration": 65,
    "start_time": "2021-12-01T19:17:38.813Z"
   },
   {
    "duration": 50,
    "start_time": "2021-12-01T19:17:38.880Z"
   },
   {
    "duration": 27,
    "start_time": "2021-12-01T19:17:38.933Z"
   },
   {
    "duration": 9,
    "start_time": "2021-12-01T19:17:38.962Z"
   },
   {
    "duration": 24,
    "start_time": "2021-12-01T19:17:38.974Z"
   },
   {
    "duration": 68,
    "start_time": "2021-12-01T19:17:39.000Z"
   },
   {
    "duration": 11,
    "start_time": "2021-12-01T19:17:39.070Z"
   },
   {
    "duration": 9,
    "start_time": "2021-12-01T19:17:39.084Z"
   },
   {
    "duration": 26,
    "start_time": "2021-12-01T19:17:39.096Z"
   },
   {
    "duration": 38,
    "start_time": "2021-12-01T19:17:39.124Z"
   },
   {
    "duration": 4,
    "start_time": "2021-12-01T19:17:39.165Z"
   },
   {
    "duration": 9,
    "start_time": "2021-12-01T19:17:39.171Z"
   },
   {
    "duration": 34,
    "start_time": "2021-12-01T19:17:39.183Z"
   },
   {
    "duration": 11,
    "start_time": "2021-12-01T19:17:39.220Z"
   },
   {
    "duration": 34,
    "start_time": "2021-12-01T19:17:39.233Z"
   },
   {
    "duration": 14,
    "start_time": "2021-12-01T19:17:39.270Z"
   },
   {
    "duration": 5,
    "start_time": "2021-12-01T19:17:39.287Z"
   },
   {
    "duration": 12,
    "start_time": "2021-12-01T19:17:39.296Z"
   },
   {
    "duration": 10,
    "start_time": "2021-12-01T19:17:39.311Z"
   },
   {
    "duration": 15,
    "start_time": "2021-12-01T19:17:39.360Z"
   },
   {
    "duration": 13,
    "start_time": "2021-12-01T19:17:39.378Z"
   },
   {
    "duration": 24,
    "start_time": "2021-12-01T19:17:39.393Z"
   },
   {
    "duration": 50,
    "start_time": "2021-12-01T19:17:39.420Z"
   },
   {
    "duration": 26,
    "start_time": "2021-12-01T19:17:39.473Z"
   },
   {
    "duration": 14,
    "start_time": "2021-12-01T19:17:39.502Z"
   },
   {
    "duration": 68,
    "start_time": "2021-12-01T19:17:39.519Z"
   },
   {
    "duration": 18,
    "start_time": "2021-12-01T19:17:39.589Z"
   },
   {
    "duration": 5,
    "start_time": "2021-12-01T19:17:39.609Z"
   },
   {
    "duration": 5,
    "start_time": "2021-12-01T19:17:39.617Z"
   },
   {
    "duration": 38,
    "start_time": "2021-12-01T19:17:39.624Z"
   },
   {
    "duration": 33,
    "start_time": "2021-12-01T19:17:39.664Z"
   },
   {
    "duration": 3,
    "start_time": "2021-12-01T19:17:39.700Z"
   },
   {
    "duration": 10,
    "start_time": "2021-12-01T19:17:39.706Z"
   },
   {
    "duration": 60,
    "start_time": "2021-12-01T19:17:39.719Z"
   },
   {
    "duration": 7,
    "start_time": "2021-12-01T19:17:39.782Z"
   },
   {
    "duration": 30,
    "start_time": "2021-12-01T19:17:39.792Z"
   },
   {
    "duration": 37,
    "start_time": "2021-12-01T19:17:39.825Z"
   },
   {
    "duration": 134,
    "start_time": "2021-12-01T19:17:39.864Z"
   },
   {
    "duration": 3,
    "start_time": "2021-12-01T19:17:40.000Z"
   },
   {
    "duration": 23,
    "start_time": "2021-12-01T19:17:40.005Z"
   },
   {
    "duration": 19,
    "start_time": "2021-12-01T19:17:40.031Z"
   },
   {
    "duration": 6,
    "start_time": "2021-12-01T19:17:40.060Z"
   },
   {
    "duration": 321,
    "start_time": "2021-12-01T19:17:40.068Z"
   },
   {
    "duration": 6,
    "start_time": "2021-12-01T19:17:40.397Z"
   },
   {
    "duration": 312,
    "start_time": "2021-12-01T19:17:40.406Z"
   },
   {
    "duration": 4,
    "start_time": "2021-12-01T19:17:40.721Z"
   },
   {
    "duration": 10,
    "start_time": "2021-12-01T19:17:40.728Z"
   },
   {
    "duration": 24,
    "start_time": "2021-12-01T19:17:40.740Z"
   },
   {
    "duration": 10,
    "start_time": "2021-12-01T19:17:40.767Z"
   },
   {
    "duration": 7,
    "start_time": "2021-12-01T19:17:40.779Z"
   },
   {
    "duration": 8,
    "start_time": "2021-12-01T19:17:40.788Z"
   },
   {
    "duration": 7,
    "start_time": "2021-12-01T19:17:40.798Z"
   },
   {
    "duration": 11,
    "start_time": "2021-12-01T19:17:40.807Z"
   },
   {
    "duration": 39,
    "start_time": "2021-12-01T19:17:40.821Z"
   },
   {
    "duration": 353,
    "start_time": "2021-12-01T19:17:40.862Z"
   },
   {
    "duration": 6,
    "start_time": "2021-12-01T19:17:41.218Z"
   },
   {
    "duration": 317,
    "start_time": "2021-12-01T19:17:41.227Z"
   },
   {
    "duration": 13,
    "start_time": "2021-12-01T19:17:41.547Z"
   },
   {
    "duration": 8,
    "start_time": "2021-12-01T19:17:41.562Z"
   },
   {
    "duration": 5,
    "start_time": "2021-12-01T19:17:41.572Z"
   },
   {
    "duration": 6,
    "start_time": "2021-12-01T19:17:41.580Z"
   },
   {
    "duration": 5,
    "start_time": "2021-12-01T19:17:41.588Z"
   },
   {
    "duration": 10,
    "start_time": "2021-12-01T19:17:41.595Z"
   },
   {
    "duration": 5,
    "start_time": "2021-12-01T19:17:41.607Z"
   },
   {
    "duration": 46,
    "start_time": "2021-12-01T19:17:41.615Z"
   },
   {
    "duration": 11,
    "start_time": "2021-12-01T19:17:41.664Z"
   },
   {
    "duration": 315,
    "start_time": "2021-12-01T19:17:41.677Z"
   },
   {
    "duration": 7,
    "start_time": "2021-12-01T19:17:41.995Z"
   },
   {
    "duration": 319,
    "start_time": "2021-12-01T19:17:42.004Z"
   },
   {
    "duration": 4,
    "start_time": "2021-12-01T19:17:42.326Z"
   },
   {
    "duration": 9,
    "start_time": "2021-12-01T19:17:42.332Z"
   },
   {
    "duration": 4,
    "start_time": "2021-12-01T19:17:42.360Z"
   },
   {
    "duration": 9,
    "start_time": "2021-12-01T19:17:42.366Z"
   },
   {
    "duration": 6,
    "start_time": "2021-12-01T19:17:42.377Z"
   },
   {
    "duration": 9,
    "start_time": "2021-12-01T19:17:42.385Z"
   },
   {
    "duration": 8,
    "start_time": "2021-12-01T19:17:42.396Z"
   },
   {
    "duration": 13,
    "start_time": "2021-12-01T19:17:42.406Z"
   },
   {
    "duration": 455,
    "start_time": "2021-12-01T19:17:42.421Z"
   },
   {
    "duration": 8,
    "start_time": "2021-12-01T19:17:42.879Z"
   },
   {
    "duration": 20,
    "start_time": "2021-12-01T19:17:42.891Z"
   },
   {
    "duration": 10,
    "start_time": "2021-12-01T19:17:42.913Z"
   },
   {
    "duration": 191,
    "start_time": "2021-12-02T13:18:42.599Z"
   },
   {
    "duration": 568,
    "start_time": "2021-12-02T13:24:41.296Z"
   },
   {
    "duration": 348,
    "start_time": "2021-12-02T13:24:41.866Z"
   },
   {
    "duration": 13,
    "start_time": "2021-12-02T13:24:42.217Z"
   },
   {
    "duration": 21,
    "start_time": "2021-12-02T13:24:42.232Z"
   },
   {
    "duration": 25,
    "start_time": "2021-12-02T13:24:42.254Z"
   },
   {
    "duration": 3,
    "start_time": "2021-12-02T13:24:42.280Z"
   },
   {
    "duration": 6,
    "start_time": "2021-12-02T13:24:42.285Z"
   },
   {
    "duration": 8,
    "start_time": "2021-12-02T13:24:42.293Z"
   },
   {
    "duration": 9,
    "start_time": "2021-12-02T13:24:42.303Z"
   },
   {
    "duration": 17,
    "start_time": "2021-12-02T13:24:42.313Z"
   },
   {
    "duration": 20,
    "start_time": "2021-12-02T13:24:42.331Z"
   },
   {
    "duration": 8,
    "start_time": "2021-12-02T13:24:42.353Z"
   },
   {
    "duration": 32,
    "start_time": "2021-12-02T13:24:42.362Z"
   },
   {
    "duration": 3,
    "start_time": "2021-12-02T13:24:42.396Z"
   },
   {
    "duration": 17,
    "start_time": "2021-12-02T13:24:42.401Z"
   },
   {
    "duration": 9,
    "start_time": "2021-12-02T13:24:42.419Z"
   },
   {
    "duration": 16,
    "start_time": "2021-12-02T13:24:42.430Z"
   },
   {
    "duration": 40,
    "start_time": "2021-12-02T13:24:42.448Z"
   },
   {
    "duration": 8,
    "start_time": "2021-12-02T13:24:42.490Z"
   },
   {
    "duration": 3,
    "start_time": "2021-12-02T13:24:42.500Z"
   },
   {
    "duration": 17,
    "start_time": "2021-12-02T13:24:42.505Z"
   },
   {
    "duration": 11,
    "start_time": "2021-12-02T13:24:42.523Z"
   },
   {
    "duration": 10,
    "start_time": "2021-12-02T13:24:42.538Z"
   },
   {
    "duration": 8,
    "start_time": "2021-12-02T13:24:42.551Z"
   },
   {
    "duration": 41,
    "start_time": "2021-12-02T13:24:42.561Z"
   },
   {
    "duration": 32,
    "start_time": "2021-12-02T13:24:42.604Z"
   },
   {
    "duration": 8,
    "start_time": "2021-12-02T13:24:42.638Z"
   },
   {
    "duration": 8,
    "start_time": "2021-12-02T13:24:42.647Z"
   },
   {
    "duration": 35,
    "start_time": "2021-12-02T13:24:42.656Z"
   },
   {
    "duration": 24,
    "start_time": "2021-12-02T13:24:42.693Z"
   },
   {
    "duration": 7,
    "start_time": "2021-12-02T13:24:42.718Z"
   },
   {
    "duration": 7,
    "start_time": "2021-12-02T13:24:42.726Z"
   },
   {
    "duration": 18,
    "start_time": "2021-12-02T13:24:42.735Z"
   },
   {
    "duration": 7,
    "start_time": "2021-12-02T13:24:42.754Z"
   },
   {
    "duration": 2,
    "start_time": "2021-12-02T13:24:42.763Z"
   },
   {
    "duration": 3,
    "start_time": "2021-12-02T13:24:42.787Z"
   },
   {
    "duration": 23,
    "start_time": "2021-12-02T13:24:42.792Z"
   },
   {
    "duration": 7,
    "start_time": "2021-12-02T13:24:42.817Z"
   },
   {
    "duration": 8,
    "start_time": "2021-12-02T13:24:42.826Z"
   },
   {
    "duration": 5,
    "start_time": "2021-12-02T13:24:42.836Z"
   },
   {
    "duration": 6,
    "start_time": "2021-12-02T13:24:42.842Z"
   },
   {
    "duration": 38,
    "start_time": "2021-12-02T13:24:42.850Z"
   },
   {
    "duration": 8,
    "start_time": "2021-12-02T13:24:42.890Z"
   },
   {
    "duration": 10,
    "start_time": "2021-12-02T13:24:42.900Z"
   },
   {
    "duration": 6,
    "start_time": "2021-12-02T13:24:42.912Z"
   },
   {
    "duration": 14,
    "start_time": "2021-12-02T13:24:42.919Z"
   },
   {
    "duration": 7,
    "start_time": "2021-12-02T13:24:42.935Z"
   },
   {
    "duration": 44,
    "start_time": "2021-12-02T13:24:42.944Z"
   },
   {
    "duration": 8,
    "start_time": "2021-12-02T13:24:42.989Z"
   },
   {
    "duration": 19,
    "start_time": "2021-12-02T13:24:42.998Z"
   },
   {
    "duration": 9,
    "start_time": "2021-12-02T13:24:43.018Z"
   },
   {
    "duration": 2,
    "start_time": "2021-12-02T13:24:43.029Z"
   },
   {
    "duration": 8,
    "start_time": "2021-12-02T13:24:43.033Z"
   },
   {
    "duration": 5,
    "start_time": "2021-12-02T13:24:43.042Z"
   },
   {
    "duration": 42,
    "start_time": "2021-12-02T13:24:43.048Z"
   },
   {
    "duration": 3,
    "start_time": "2021-12-02T13:24:43.091Z"
   },
   {
    "duration": 8,
    "start_time": "2021-12-02T13:24:43.096Z"
   },
   {
    "duration": 16,
    "start_time": "2021-12-02T13:24:43.105Z"
   },
   {
    "duration": 6,
    "start_time": "2021-12-02T13:24:43.123Z"
   },
   {
    "duration": 19,
    "start_time": "2021-12-02T13:24:43.130Z"
   },
   {
    "duration": 16,
    "start_time": "2021-12-02T13:24:43.150Z"
   },
   {
    "duration": 63,
    "start_time": "2021-12-02T13:24:43.187Z"
   },
   {
    "duration": 3,
    "start_time": "2021-12-02T13:24:43.251Z"
   },
   {
    "duration": 9,
    "start_time": "2021-12-02T13:24:43.255Z"
   },
   {
    "duration": 6,
    "start_time": "2021-12-02T13:24:43.265Z"
   },
   {
    "duration": 17,
    "start_time": "2021-12-02T13:24:43.272Z"
   },
   {
    "duration": 170,
    "start_time": "2021-12-02T13:24:43.291Z"
   },
   {
    "duration": 4,
    "start_time": "2021-12-02T13:24:43.465Z"
   },
   {
    "duration": 170,
    "start_time": "2021-12-02T13:24:43.471Z"
   },
   {
    "duration": 3,
    "start_time": "2021-12-02T13:24:43.643Z"
   },
   {
    "duration": 8,
    "start_time": "2021-12-02T13:24:43.647Z"
   },
   {
    "duration": 5,
    "start_time": "2021-12-02T13:24:43.656Z"
   },
   {
    "duration": 8,
    "start_time": "2021-12-02T13:24:43.662Z"
   },
   {
    "duration": 18,
    "start_time": "2021-12-02T13:24:43.671Z"
   },
   {
    "duration": 6,
    "start_time": "2021-12-02T13:24:43.690Z"
   },
   {
    "duration": 4,
    "start_time": "2021-12-02T13:24:43.697Z"
   },
   {
    "duration": 5,
    "start_time": "2021-12-02T13:24:43.703Z"
   },
   {
    "duration": 5,
    "start_time": "2021-12-02T13:24:43.710Z"
   },
   {
    "duration": 326,
    "start_time": "2021-12-02T13:24:43.717Z"
   },
   {
    "duration": 5,
    "start_time": "2021-12-02T13:24:44.045Z"
   },
   {
    "duration": 176,
    "start_time": "2021-12-02T13:24:44.052Z"
   },
   {
    "duration": 3,
    "start_time": "2021-12-02T13:24:44.229Z"
   },
   {
    "duration": 7,
    "start_time": "2021-12-02T13:24:44.233Z"
   },
   {
    "duration": 4,
    "start_time": "2021-12-02T13:24:44.241Z"
   },
   {
    "duration": 5,
    "start_time": "2021-12-02T13:24:44.247Z"
   },
   {
    "duration": 4,
    "start_time": "2021-12-02T13:24:44.253Z"
   },
   {
    "duration": 5,
    "start_time": "2021-12-02T13:24:44.259Z"
   },
   {
    "duration": 4,
    "start_time": "2021-12-02T13:24:44.265Z"
   },
   {
    "duration": 3,
    "start_time": "2021-12-02T13:24:44.288Z"
   },
   {
    "duration": 5,
    "start_time": "2021-12-02T13:24:44.292Z"
   },
   {
    "duration": 180,
    "start_time": "2021-12-02T13:24:44.299Z"
   },
   {
    "duration": 9,
    "start_time": "2021-12-02T13:24:44.481Z"
   },
   {
    "duration": 167,
    "start_time": "2021-12-02T13:24:44.491Z"
   },
   {
    "duration": 3,
    "start_time": "2021-12-02T13:24:44.659Z"
   },
   {
    "duration": 6,
    "start_time": "2021-12-02T13:24:44.664Z"
   },
   {
    "duration": 4,
    "start_time": "2021-12-02T13:24:44.672Z"
   },
   {
    "duration": 3,
    "start_time": "2021-12-02T13:24:44.688Z"
   },
   {
    "duration": 7,
    "start_time": "2021-12-02T13:24:44.692Z"
   },
   {
    "duration": 7,
    "start_time": "2021-12-02T13:24:44.700Z"
   },
   {
    "duration": 6,
    "start_time": "2021-12-02T13:24:44.708Z"
   },
   {
    "duration": 8,
    "start_time": "2021-12-02T13:24:44.715Z"
   },
   {
    "duration": 367,
    "start_time": "2021-12-02T13:24:44.724Z"
   },
   {
    "duration": 5,
    "start_time": "2021-12-02T13:24:45.092Z"
   },
   {
    "duration": 15,
    "start_time": "2021-12-02T13:24:45.098Z"
   },
   {
    "duration": 7,
    "start_time": "2021-12-02T13:24:45.114Z"
   },
   {
    "duration": 2,
    "start_time": "2021-12-02T13:25:31.099Z"
   },
   {
    "duration": 369,
    "start_time": "2021-12-02T13:25:31.105Z"
   },
   {
    "duration": 7,
    "start_time": "2021-12-02T13:25:31.476Z"
   },
   {
    "duration": 23,
    "start_time": "2021-12-02T13:25:31.485Z"
   },
   {
    "duration": 25,
    "start_time": "2021-12-02T13:25:31.510Z"
   },
   {
    "duration": 2,
    "start_time": "2021-12-02T13:25:31.536Z"
   },
   {
    "duration": 10,
    "start_time": "2021-12-02T13:25:31.540Z"
   },
   {
    "duration": 10,
    "start_time": "2021-12-02T13:25:31.551Z"
   },
   {
    "duration": 15,
    "start_time": "2021-12-02T13:25:31.563Z"
   },
   {
    "duration": 20,
    "start_time": "2021-12-02T13:25:31.581Z"
   },
   {
    "duration": 18,
    "start_time": "2021-12-02T13:25:31.603Z"
   },
   {
    "duration": 7,
    "start_time": "2021-12-02T13:25:31.622Z"
   },
   {
    "duration": 14,
    "start_time": "2021-12-02T13:25:31.630Z"
   },
   {
    "duration": 6,
    "start_time": "2021-12-02T13:25:31.645Z"
   },
   {
    "duration": 10,
    "start_time": "2021-12-02T13:25:31.653Z"
   },
   {
    "duration": 24,
    "start_time": "2021-12-02T13:25:31.664Z"
   },
   {
    "duration": 12,
    "start_time": "2021-12-02T13:25:31.690Z"
   },
   {
    "duration": 17,
    "start_time": "2021-12-02T13:25:31.703Z"
   },
   {
    "duration": 6,
    "start_time": "2021-12-02T13:25:31.722Z"
   },
   {
    "duration": 15,
    "start_time": "2021-12-02T13:25:31.729Z"
   },
   {
    "duration": 9,
    "start_time": "2021-12-02T13:25:31.745Z"
   },
   {
    "duration": 15,
    "start_time": "2021-12-02T13:25:31.755Z"
   },
   {
    "duration": 16,
    "start_time": "2021-12-02T13:25:31.772Z"
   },
   {
    "duration": 12,
    "start_time": "2021-12-02T13:25:31.790Z"
   },
   {
    "duration": 23,
    "start_time": "2021-12-02T13:25:31.803Z"
   },
   {
    "duration": 29,
    "start_time": "2021-12-02T13:25:31.828Z"
   },
   {
    "duration": 7,
    "start_time": "2021-12-02T13:25:31.859Z"
   },
   {
    "duration": 5,
    "start_time": "2021-12-02T13:25:31.870Z"
   },
   {
    "duration": 13,
    "start_time": "2021-12-02T13:25:31.888Z"
   },
   {
    "duration": 22,
    "start_time": "2021-12-02T13:25:31.902Z"
   },
   {
    "duration": 6,
    "start_time": "2021-12-02T13:25:31.926Z"
   },
   {
    "duration": 8,
    "start_time": "2021-12-02T13:25:31.933Z"
   },
   {
    "duration": 18,
    "start_time": "2021-12-02T13:25:31.942Z"
   },
   {
    "duration": 3,
    "start_time": "2021-12-02T13:25:31.962Z"
   },
   {
    "duration": 32,
    "start_time": "2021-12-02T13:25:31.966Z"
   },
   {
    "duration": 11,
    "start_time": "2021-12-02T13:25:31.999Z"
   },
   {
    "duration": 20,
    "start_time": "2021-12-02T13:25:32.012Z"
   },
   {
    "duration": 7,
    "start_time": "2021-12-02T13:25:32.034Z"
   },
   {
    "duration": 12,
    "start_time": "2021-12-02T13:25:32.042Z"
   },
   {
    "duration": 6,
    "start_time": "2021-12-02T13:25:32.056Z"
   },
   {
    "duration": 8,
    "start_time": "2021-12-02T13:25:32.064Z"
   },
   {
    "duration": 14,
    "start_time": "2021-12-02T13:25:32.074Z"
   },
   {
    "duration": 8,
    "start_time": "2021-12-02T13:25:32.089Z"
   },
   {
    "duration": 8,
    "start_time": "2021-12-02T13:25:32.098Z"
   },
   {
    "duration": 12,
    "start_time": "2021-12-02T13:25:32.108Z"
   },
   {
    "duration": 12,
    "start_time": "2021-12-02T13:25:32.122Z"
   },
   {
    "duration": 9,
    "start_time": "2021-12-02T13:25:32.135Z"
   },
   {
    "duration": 16,
    "start_time": "2021-12-02T13:25:32.146Z"
   },
   {
    "duration": 29,
    "start_time": "2021-12-02T13:25:32.163Z"
   },
   {
    "duration": 18,
    "start_time": "2021-12-02T13:25:32.193Z"
   },
   {
    "duration": 14,
    "start_time": "2021-12-02T13:25:32.213Z"
   },
   {
    "duration": 8,
    "start_time": "2021-12-02T13:25:32.228Z"
   },
   {
    "duration": 6,
    "start_time": "2021-12-02T13:25:32.237Z"
   },
   {
    "duration": 5,
    "start_time": "2021-12-02T13:25:32.244Z"
   },
   {
    "duration": 17,
    "start_time": "2021-12-02T13:25:32.250Z"
   },
   {
    "duration": 4,
    "start_time": "2021-12-02T13:25:32.268Z"
   },
   {
    "duration": 17,
    "start_time": "2021-12-02T13:25:32.274Z"
   },
   {
    "duration": 16,
    "start_time": "2021-12-02T13:25:32.292Z"
   },
   {
    "duration": 7,
    "start_time": "2021-12-02T13:25:32.309Z"
   },
   {
    "duration": 19,
    "start_time": "2021-12-02T13:25:32.317Z"
   },
   {
    "duration": 12,
    "start_time": "2021-12-02T13:25:32.337Z"
   },
   {
    "duration": 2,
    "start_time": "2021-12-02T13:25:32.351Z"
   },
   {
    "duration": 4,
    "start_time": "2021-12-02T13:25:32.355Z"
   },
   {
    "duration": 28,
    "start_time": "2021-12-02T13:25:32.361Z"
   },
   {
    "duration": 6,
    "start_time": "2021-12-02T13:25:32.390Z"
   },
   {
    "duration": 5,
    "start_time": "2021-12-02T13:25:32.398Z"
   },
   {
    "duration": 175,
    "start_time": "2021-12-02T13:25:32.404Z"
   },
   {
    "duration": 9,
    "start_time": "2021-12-02T13:25:32.581Z"
   },
   {
    "duration": 222,
    "start_time": "2021-12-02T13:25:32.591Z"
   },
   {
    "duration": 3,
    "start_time": "2021-12-02T13:25:32.815Z"
   },
   {
    "duration": 8,
    "start_time": "2021-12-02T13:25:32.820Z"
   },
   {
    "duration": 4,
    "start_time": "2021-12-02T13:25:32.830Z"
   },
   {
    "duration": 4,
    "start_time": "2021-12-02T13:25:32.835Z"
   },
   {
    "duration": 4,
    "start_time": "2021-12-02T13:25:32.841Z"
   },
   {
    "duration": 5,
    "start_time": "2021-12-02T13:25:32.846Z"
   },
   {
    "duration": 5,
    "start_time": "2021-12-02T13:25:32.852Z"
   },
   {
    "duration": 6,
    "start_time": "2021-12-02T13:25:32.858Z"
   },
   {
    "duration": 23,
    "start_time": "2021-12-02T13:25:32.866Z"
   },
   {
    "duration": 164,
    "start_time": "2021-12-02T13:25:32.891Z"
   },
   {
    "duration": 4,
    "start_time": "2021-12-02T13:25:33.056Z"
   },
   {
    "duration": 177,
    "start_time": "2021-12-02T13:25:33.062Z"
   },
   {
    "duration": 3,
    "start_time": "2021-12-02T13:25:33.244Z"
   },
   {
    "duration": 7,
    "start_time": "2021-12-02T13:25:33.249Z"
   },
   {
    "duration": 4,
    "start_time": "2021-12-02T13:25:33.258Z"
   },
   {
    "duration": 8,
    "start_time": "2021-12-02T13:25:33.263Z"
   },
   {
    "duration": 15,
    "start_time": "2021-12-02T13:25:33.272Z"
   },
   {
    "duration": 3,
    "start_time": "2021-12-02T13:25:33.289Z"
   },
   {
    "duration": 4,
    "start_time": "2021-12-02T13:25:33.293Z"
   },
   {
    "duration": 6,
    "start_time": "2021-12-02T13:25:33.298Z"
   },
   {
    "duration": 5,
    "start_time": "2021-12-02T13:25:33.305Z"
   },
   {
    "duration": 177,
    "start_time": "2021-12-02T13:25:33.311Z"
   },
   {
    "duration": 4,
    "start_time": "2021-12-02T13:25:33.489Z"
   },
   {
    "duration": 167,
    "start_time": "2021-12-02T13:25:33.495Z"
   },
   {
    "duration": 3,
    "start_time": "2021-12-02T13:25:33.664Z"
   },
   {
    "duration": 6,
    "start_time": "2021-12-02T13:25:33.668Z"
   },
   {
    "duration": 13,
    "start_time": "2021-12-02T13:25:33.675Z"
   },
   {
    "duration": 5,
    "start_time": "2021-12-02T13:25:33.689Z"
   },
   {
    "duration": 3,
    "start_time": "2021-12-02T13:25:33.696Z"
   },
   {
    "duration": 5,
    "start_time": "2021-12-02T13:25:33.700Z"
   },
   {
    "duration": 4,
    "start_time": "2021-12-02T13:25:33.706Z"
   },
   {
    "duration": 5,
    "start_time": "2021-12-02T13:25:33.711Z"
   },
   {
    "duration": 3,
    "start_time": "2021-12-02T13:25:33.718Z"
   },
   {
    "duration": 6,
    "start_time": "2021-12-02T13:25:33.722Z"
   },
   {
    "duration": 8,
    "start_time": "2021-12-02T13:25:33.729Z"
   },
   {
    "duration": 5,
    "start_time": "2021-12-02T13:25:33.738Z"
   },
   {
    "duration": 2,
    "start_time": "2021-12-02T13:27:26.025Z"
   },
   {
    "duration": 389,
    "start_time": "2021-12-02T13:27:26.030Z"
   },
   {
    "duration": 7,
    "start_time": "2021-12-02T13:27:26.421Z"
   },
   {
    "duration": 22,
    "start_time": "2021-12-02T13:27:26.429Z"
   },
   {
    "duration": 23,
    "start_time": "2021-12-02T13:27:26.452Z"
   },
   {
    "duration": 2,
    "start_time": "2021-12-02T13:27:26.476Z"
   },
   {
    "duration": 5,
    "start_time": "2021-12-02T13:27:26.480Z"
   },
   {
    "duration": 9,
    "start_time": "2021-12-02T13:27:26.487Z"
   },
   {
    "duration": 10,
    "start_time": "2021-12-02T13:27:26.498Z"
   },
   {
    "duration": 15,
    "start_time": "2021-12-02T13:27:26.510Z"
   },
   {
    "duration": 17,
    "start_time": "2021-12-02T13:27:26.527Z"
   },
   {
    "duration": 7,
    "start_time": "2021-12-02T13:27:26.545Z"
   },
   {
    "duration": 11,
    "start_time": "2021-12-02T13:27:26.553Z"
   },
   {
    "duration": 23,
    "start_time": "2021-12-02T13:27:26.565Z"
   },
   {
    "duration": 6,
    "start_time": "2021-12-02T13:27:26.589Z"
   },
   {
    "duration": 8,
    "start_time": "2021-12-02T13:27:26.597Z"
   },
   {
    "duration": 14,
    "start_time": "2021-12-02T13:27:26.607Z"
   },
   {
    "duration": 17,
    "start_time": "2021-12-02T13:27:26.623Z"
   },
   {
    "duration": 7,
    "start_time": "2021-12-02T13:27:26.641Z"
   },
   {
    "duration": 4,
    "start_time": "2021-12-02T13:27:26.649Z"
   },
   {
    "duration": 33,
    "start_time": "2021-12-02T13:27:26.655Z"
   },
   {
    "duration": 9,
    "start_time": "2021-12-02T13:27:26.690Z"
   },
   {
    "duration": 7,
    "start_time": "2021-12-02T13:27:26.700Z"
   },
   {
    "duration": 7,
    "start_time": "2021-12-02T13:27:26.708Z"
   },
   {
    "duration": 22,
    "start_time": "2021-12-02T13:27:26.717Z"
   },
   {
    "duration": 48,
    "start_time": "2021-12-02T13:27:26.740Z"
   },
   {
    "duration": 7,
    "start_time": "2021-12-02T13:27:26.792Z"
   },
   {
    "duration": 6,
    "start_time": "2021-12-02T13:27:26.801Z"
   },
   {
    "duration": 14,
    "start_time": "2021-12-02T13:27:26.809Z"
   },
   {
    "duration": 25,
    "start_time": "2021-12-02T13:27:26.825Z"
   },
   {
    "duration": 8,
    "start_time": "2021-12-02T13:27:26.851Z"
   },
   {
    "duration": 5,
    "start_time": "2021-12-02T13:27:26.888Z"
   },
   {
    "duration": 24,
    "start_time": "2021-12-02T13:27:26.894Z"
   },
   {
    "duration": 4,
    "start_time": "2021-12-02T13:27:26.919Z"
   },
   {
    "duration": 5,
    "start_time": "2021-12-02T13:27:26.924Z"
   },
   {
    "duration": 5,
    "start_time": "2021-12-02T13:27:26.930Z"
   },
   {
    "duration": 27,
    "start_time": "2021-12-02T13:27:26.937Z"
   },
   {
    "duration": 7,
    "start_time": "2021-12-02T13:27:26.965Z"
   },
   {
    "duration": 17,
    "start_time": "2021-12-02T13:27:26.974Z"
   },
   {
    "duration": 8,
    "start_time": "2021-12-02T13:27:26.993Z"
   },
   {
    "duration": 4,
    "start_time": "2021-12-02T13:27:27.002Z"
   },
   {
    "duration": 8,
    "start_time": "2021-12-02T13:27:27.008Z"
   },
   {
    "duration": 7,
    "start_time": "2021-12-02T13:27:27.017Z"
   },
   {
    "duration": 8,
    "start_time": "2021-12-02T13:27:27.025Z"
   },
   {
    "duration": 7,
    "start_time": "2021-12-02T13:27:27.035Z"
   },
   {
    "duration": 45,
    "start_time": "2021-12-02T13:27:27.043Z"
   },
   {
    "duration": 6,
    "start_time": "2021-12-02T13:27:27.090Z"
   },
   {
    "duration": 17,
    "start_time": "2021-12-02T13:27:27.097Z"
   },
   {
    "duration": 8,
    "start_time": "2021-12-02T13:27:27.115Z"
   },
   {
    "duration": 17,
    "start_time": "2021-12-02T13:27:27.124Z"
   },
   {
    "duration": 7,
    "start_time": "2021-12-02T13:27:27.143Z"
   },
   {
    "duration": 2,
    "start_time": "2021-12-02T13:27:27.152Z"
   },
   {
    "duration": 32,
    "start_time": "2021-12-02T13:27:27.156Z"
   },
   {
    "duration": 4,
    "start_time": "2021-12-02T13:27:27.189Z"
   },
   {
    "duration": 17,
    "start_time": "2021-12-02T13:27:27.194Z"
   },
   {
    "duration": 4,
    "start_time": "2021-12-02T13:27:27.213Z"
   },
   {
    "duration": 7,
    "start_time": "2021-12-02T13:27:27.218Z"
   },
   {
    "duration": 15,
    "start_time": "2021-12-02T13:27:27.226Z"
   },
   {
    "duration": 5,
    "start_time": "2021-12-02T13:27:27.242Z"
   },
   {
    "duration": 18,
    "start_time": "2021-12-02T13:27:27.248Z"
   },
   {
    "duration": 6,
    "start_time": "2021-12-02T13:27:27.288Z"
   },
   {
    "duration": 2,
    "start_time": "2021-12-02T13:27:27.296Z"
   },
   {
    "duration": 5,
    "start_time": "2021-12-02T13:27:27.299Z"
   },
   {
    "duration": 6,
    "start_time": "2021-12-02T13:27:27.305Z"
   },
   {
    "duration": 5,
    "start_time": "2021-12-02T13:27:27.313Z"
   },
   {
    "duration": 6,
    "start_time": "2021-12-02T13:27:27.319Z"
   },
   {
    "duration": 186,
    "start_time": "2021-12-02T13:27:27.326Z"
   },
   {
    "duration": 4,
    "start_time": "2021-12-02T13:27:27.513Z"
   },
   {
    "duration": 171,
    "start_time": "2021-12-02T13:27:27.519Z"
   },
   {
    "duration": 2,
    "start_time": "2021-12-02T13:27:27.692Z"
   },
   {
    "duration": 7,
    "start_time": "2021-12-02T13:27:27.696Z"
   },
   {
    "duration": 5,
    "start_time": "2021-12-02T13:27:27.704Z"
   },
   {
    "duration": 14,
    "start_time": "2021-12-02T13:27:27.710Z"
   },
   {
    "duration": 6,
    "start_time": "2021-12-02T13:27:27.725Z"
   },
   {
    "duration": 9,
    "start_time": "2021-12-02T13:27:27.733Z"
   },
   {
    "duration": 7,
    "start_time": "2021-12-02T13:27:27.743Z"
   },
   {
    "duration": 5,
    "start_time": "2021-12-02T13:27:27.751Z"
   },
   {
    "duration": 6,
    "start_time": "2021-12-02T13:27:27.757Z"
   },
   {
    "duration": 160,
    "start_time": "2021-12-02T13:27:27.764Z"
   },
   {
    "duration": 4,
    "start_time": "2021-12-02T13:27:27.925Z"
   },
   {
    "duration": 170,
    "start_time": "2021-12-02T13:27:27.935Z"
   },
   {
    "duration": 3,
    "start_time": "2021-12-02T13:27:28.107Z"
   },
   {
    "duration": 28,
    "start_time": "2021-12-02T13:27:28.111Z"
   },
   {
    "duration": 11,
    "start_time": "2021-12-02T13:27:28.141Z"
   },
   {
    "duration": 28,
    "start_time": "2021-12-02T13:27:28.153Z"
   },
   {
    "duration": 8,
    "start_time": "2021-12-02T13:27:28.183Z"
   },
   {
    "duration": 29,
    "start_time": "2021-12-02T13:27:28.193Z"
   },
   {
    "duration": 18,
    "start_time": "2021-12-02T13:27:28.223Z"
   },
   {
    "duration": 25,
    "start_time": "2021-12-02T13:27:28.242Z"
   },
   {
    "duration": 21,
    "start_time": "2021-12-02T13:27:28.268Z"
   },
   {
    "duration": 179,
    "start_time": "2021-12-02T13:27:28.290Z"
   },
   {
    "duration": 4,
    "start_time": "2021-12-02T13:27:28.471Z"
   },
   {
    "duration": 223,
    "start_time": "2021-12-02T13:27:28.477Z"
   },
   {
    "duration": 3,
    "start_time": "2021-12-02T13:27:28.702Z"
   },
   {
    "duration": 5,
    "start_time": "2021-12-02T13:27:28.707Z"
   },
   {
    "duration": 17,
    "start_time": "2021-12-02T13:27:28.713Z"
   },
   {
    "duration": 19,
    "start_time": "2021-12-02T13:27:28.732Z"
   },
   {
    "duration": 22,
    "start_time": "2021-12-02T13:27:28.752Z"
   },
   {
    "duration": 21,
    "start_time": "2021-12-02T13:27:28.776Z"
   },
   {
    "duration": 17,
    "start_time": "2021-12-02T13:27:28.798Z"
   },
   {
    "duration": 33,
    "start_time": "2021-12-02T13:27:28.816Z"
   },
   {
    "duration": 5,
    "start_time": "2021-12-02T13:27:28.850Z"
   },
   {
    "duration": 20,
    "start_time": "2021-12-02T13:27:28.856Z"
   },
   {
    "duration": 17,
    "start_time": "2021-12-02T13:27:28.877Z"
   },
   {
    "duration": 12,
    "start_time": "2021-12-02T13:27:28.895Z"
   },
   {
    "duration": 3,
    "start_time": "2021-12-02T13:29:36.559Z"
   },
   {
    "duration": 415,
    "start_time": "2021-12-02T13:29:36.566Z"
   },
   {
    "duration": 8,
    "start_time": "2021-12-02T13:29:36.982Z"
   },
   {
    "duration": 21,
    "start_time": "2021-12-02T13:29:36.992Z"
   },
   {
    "duration": 24,
    "start_time": "2021-12-02T13:29:37.015Z"
   },
   {
    "duration": 4,
    "start_time": "2021-12-02T13:29:37.040Z"
   },
   {
    "duration": 8,
    "start_time": "2021-12-02T13:29:37.046Z"
   },
   {
    "duration": 22,
    "start_time": "2021-12-02T13:29:37.055Z"
   },
   {
    "duration": 12,
    "start_time": "2021-12-02T13:29:37.078Z"
   },
   {
    "duration": 15,
    "start_time": "2021-12-02T13:29:37.092Z"
   },
   {
    "duration": 18,
    "start_time": "2021-12-02T13:29:37.108Z"
   },
   {
    "duration": 9,
    "start_time": "2021-12-02T13:29:37.127Z"
   },
   {
    "duration": 13,
    "start_time": "2021-12-02T13:29:37.137Z"
   },
   {
    "duration": 3,
    "start_time": "2021-12-02T13:29:37.151Z"
   },
   {
    "duration": 32,
    "start_time": "2021-12-02T13:29:37.156Z"
   },
   {
    "duration": 6,
    "start_time": "2021-12-02T13:29:37.190Z"
   },
   {
    "duration": 14,
    "start_time": "2021-12-02T13:29:37.197Z"
   },
   {
    "duration": 15,
    "start_time": "2021-12-02T13:29:37.213Z"
   },
   {
    "duration": 7,
    "start_time": "2021-12-02T13:29:37.229Z"
   },
   {
    "duration": 4,
    "start_time": "2021-12-02T13:29:37.237Z"
   },
   {
    "duration": 9,
    "start_time": "2021-12-02T13:29:37.243Z"
   },
   {
    "duration": 10,
    "start_time": "2021-12-02T13:29:37.254Z"
   },
   {
    "duration": 6,
    "start_time": "2021-12-02T13:29:37.287Z"
   },
   {
    "duration": 6,
    "start_time": "2021-12-02T13:29:37.294Z"
   },
   {
    "duration": 32,
    "start_time": "2021-12-02T13:29:37.302Z"
   },
   {
    "duration": 32,
    "start_time": "2021-12-02T13:29:37.336Z"
   },
   {
    "duration": 19,
    "start_time": "2021-12-02T13:29:37.369Z"
   },
   {
    "duration": 6,
    "start_time": "2021-12-02T13:29:37.392Z"
   },
   {
    "duration": 20,
    "start_time": "2021-12-02T13:29:37.400Z"
   },
   {
    "duration": 24,
    "start_time": "2021-12-02T13:29:37.422Z"
   },
   {
    "duration": 7,
    "start_time": "2021-12-02T13:29:37.447Z"
   },
   {
    "duration": 14,
    "start_time": "2021-12-02T13:29:37.455Z"
   },
   {
    "duration": 17,
    "start_time": "2021-12-02T13:29:37.487Z"
   },
   {
    "duration": 3,
    "start_time": "2021-12-02T13:29:37.505Z"
   },
   {
    "duration": 7,
    "start_time": "2021-12-02T13:29:37.509Z"
   },
   {
    "duration": 11,
    "start_time": "2021-12-02T13:29:37.517Z"
   },
   {
    "duration": 22,
    "start_time": "2021-12-02T13:29:37.529Z"
   },
   {
    "duration": 6,
    "start_time": "2021-12-02T13:29:37.552Z"
   },
   {
    "duration": 7,
    "start_time": "2021-12-02T13:29:37.560Z"
   },
   {
    "duration": 21,
    "start_time": "2021-12-02T13:29:37.568Z"
   },
   {
    "duration": 4,
    "start_time": "2021-12-02T13:29:37.590Z"
   },
   {
    "duration": 11,
    "start_time": "2021-12-02T13:29:37.595Z"
   },
   {
    "duration": 7,
    "start_time": "2021-12-02T13:29:37.607Z"
   },
   {
    "duration": 9,
    "start_time": "2021-12-02T13:29:37.615Z"
   },
   {
    "duration": 7,
    "start_time": "2021-12-02T13:29:37.625Z"
   },
   {
    "duration": 17,
    "start_time": "2021-12-02T13:29:37.633Z"
   },
   {
    "duration": 7,
    "start_time": "2021-12-02T13:29:37.651Z"
   },
   {
    "duration": 40,
    "start_time": "2021-12-02T13:29:37.660Z"
   },
   {
    "duration": 9,
    "start_time": "2021-12-02T13:29:37.701Z"
   },
   {
    "duration": 17,
    "start_time": "2021-12-02T13:29:37.712Z"
   },
   {
    "duration": 7,
    "start_time": "2021-12-02T13:29:37.730Z"
   },
   {
    "duration": 2,
    "start_time": "2021-12-02T13:29:37.739Z"
   },
   {
    "duration": 5,
    "start_time": "2021-12-02T13:29:37.743Z"
   },
   {
    "duration": 6,
    "start_time": "2021-12-02T13:29:37.750Z"
   },
   {
    "duration": 41,
    "start_time": "2021-12-02T13:29:37.757Z"
   },
   {
    "duration": 2,
    "start_time": "2021-12-02T13:29:37.800Z"
   },
   {
    "duration": 8,
    "start_time": "2021-12-02T13:29:37.803Z"
   },
   {
    "duration": 15,
    "start_time": "2021-12-02T13:29:37.813Z"
   },
   {
    "duration": 4,
    "start_time": "2021-12-02T13:29:37.830Z"
   },
   {
    "duration": 19,
    "start_time": "2021-12-02T13:29:37.836Z"
   },
   {
    "duration": 32,
    "start_time": "2021-12-02T13:29:37.856Z"
   },
   {
    "duration": 3,
    "start_time": "2021-12-02T13:29:37.889Z"
   },
   {
    "duration": 5,
    "start_time": "2021-12-02T13:29:37.893Z"
   },
   {
    "duration": 7,
    "start_time": "2021-12-02T13:29:37.899Z"
   },
   {
    "duration": 6,
    "start_time": "2021-12-02T13:29:37.908Z"
   },
   {
    "duration": 5,
    "start_time": "2021-12-02T13:29:37.916Z"
   },
   {
    "duration": 182,
    "start_time": "2021-12-02T13:29:37.922Z"
   },
   {
    "duration": 4,
    "start_time": "2021-12-02T13:29:38.106Z"
   },
   {
    "duration": 175,
    "start_time": "2021-12-02T13:29:38.111Z"
   },
   {
    "duration": 3,
    "start_time": "2021-12-02T13:29:38.288Z"
   },
   {
    "duration": 7,
    "start_time": "2021-12-02T13:29:38.292Z"
   },
   {
    "duration": 5,
    "start_time": "2021-12-02T13:29:38.300Z"
   },
   {
    "duration": 6,
    "start_time": "2021-12-02T13:29:38.306Z"
   },
   {
    "duration": 4,
    "start_time": "2021-12-02T13:29:38.313Z"
   },
   {
    "duration": 6,
    "start_time": "2021-12-02T13:29:38.318Z"
   },
   {
    "duration": 5,
    "start_time": "2021-12-02T13:29:38.325Z"
   },
   {
    "duration": 5,
    "start_time": "2021-12-02T13:29:38.331Z"
   },
   {
    "duration": 6,
    "start_time": "2021-12-02T13:29:38.338Z"
   },
   {
    "duration": 180,
    "start_time": "2021-12-02T13:29:38.345Z"
   },
   {
    "duration": 4,
    "start_time": "2021-12-02T13:29:38.527Z"
   },
   {
    "duration": 168,
    "start_time": "2021-12-02T13:29:38.532Z"
   },
   {
    "duration": 3,
    "start_time": "2021-12-02T13:29:38.706Z"
   },
   {
    "duration": 8,
    "start_time": "2021-12-02T13:29:38.711Z"
   },
   {
    "duration": 4,
    "start_time": "2021-12-02T13:29:38.720Z"
   },
   {
    "duration": 8,
    "start_time": "2021-12-02T13:29:38.726Z"
   },
   {
    "duration": 8,
    "start_time": "2021-12-02T13:29:38.735Z"
   },
   {
    "duration": 5,
    "start_time": "2021-12-02T13:29:38.744Z"
   },
   {
    "duration": 5,
    "start_time": "2021-12-02T13:29:38.751Z"
   },
   {
    "duration": 5,
    "start_time": "2021-12-02T13:29:38.758Z"
   },
   {
    "duration": 26,
    "start_time": "2021-12-02T13:29:38.764Z"
   },
   {
    "duration": 166,
    "start_time": "2021-12-02T13:29:38.791Z"
   },
   {
    "duration": 4,
    "start_time": "2021-12-02T13:29:38.958Z"
   },
   {
    "duration": 164,
    "start_time": "2021-12-02T13:29:38.964Z"
   },
   {
    "duration": 3,
    "start_time": "2021-12-02T13:29:39.129Z"
   },
   {
    "duration": 5,
    "start_time": "2021-12-02T13:29:39.134Z"
   },
   {
    "duration": 6,
    "start_time": "2021-12-02T13:29:39.141Z"
   },
   {
    "duration": 5,
    "start_time": "2021-12-02T13:29:39.148Z"
   },
   {
    "duration": 6,
    "start_time": "2021-12-02T13:29:39.154Z"
   },
   {
    "duration": 6,
    "start_time": "2021-12-02T13:29:39.162Z"
   },
   {
    "duration": 5,
    "start_time": "2021-12-02T13:29:39.170Z"
   },
   {
    "duration": 2,
    "start_time": "2021-12-02T13:29:39.188Z"
   },
   {
    "duration": 4,
    "start_time": "2021-12-02T13:29:39.192Z"
   },
   {
    "duration": 10,
    "start_time": "2021-12-02T13:29:39.197Z"
   },
   {
    "duration": 8,
    "start_time": "2021-12-02T13:29:39.209Z"
   },
   {
    "duration": 4,
    "start_time": "2021-12-02T13:29:39.219Z"
   },
   {
    "duration": 535,
    "start_time": "2021-12-02T15:39:28.417Z"
   },
   {
    "duration": 383,
    "start_time": "2021-12-02T15:39:28.954Z"
   },
   {
    "duration": 14,
    "start_time": "2021-12-02T15:39:29.338Z"
   },
   {
    "duration": 23,
    "start_time": "2021-12-02T15:39:29.353Z"
   },
   {
    "duration": 28,
    "start_time": "2021-12-02T15:39:29.377Z"
   },
   {
    "duration": 3,
    "start_time": "2021-12-02T15:39:29.406Z"
   },
   {
    "duration": 7,
    "start_time": "2021-12-02T15:39:29.410Z"
   },
   {
    "duration": 9,
    "start_time": "2021-12-02T15:39:29.420Z"
   },
   {
    "duration": 10,
    "start_time": "2021-12-02T15:39:29.430Z"
   },
   {
    "duration": 18,
    "start_time": "2021-12-02T15:39:29.442Z"
   },
   {
    "duration": 47,
    "start_time": "2021-12-02T15:39:29.461Z"
   },
   {
    "duration": 9,
    "start_time": "2021-12-02T15:39:29.510Z"
   },
   {
    "duration": 11,
    "start_time": "2021-12-02T15:39:29.521Z"
   },
   {
    "duration": 5,
    "start_time": "2021-12-02T15:39:29.534Z"
   },
   {
    "duration": 8,
    "start_time": "2021-12-02T15:39:29.540Z"
   },
   {
    "duration": 7,
    "start_time": "2021-12-02T15:39:29.550Z"
   },
   {
    "duration": 41,
    "start_time": "2021-12-02T15:39:29.559Z"
   },
   {
    "duration": 19,
    "start_time": "2021-12-02T15:39:29.602Z"
   },
   {
    "duration": 8,
    "start_time": "2021-12-02T15:39:29.622Z"
   },
   {
    "duration": 4,
    "start_time": "2021-12-02T15:39:29.632Z"
   },
   {
    "duration": 8,
    "start_time": "2021-12-02T15:39:29.637Z"
   },
   {
    "duration": 11,
    "start_time": "2021-12-02T15:39:29.647Z"
   },
   {
    "duration": 33,
    "start_time": "2021-12-02T15:39:29.661Z"
   },
   {
    "duration": 7,
    "start_time": "2021-12-02T15:39:29.696Z"
   },
   {
    "duration": 24,
    "start_time": "2021-12-02T15:39:29.705Z"
   },
   {
    "duration": 36,
    "start_time": "2021-12-02T15:39:29.731Z"
   },
   {
    "duration": 26,
    "start_time": "2021-12-02T15:39:29.769Z"
   },
   {
    "duration": 15,
    "start_time": "2021-12-02T15:39:29.797Z"
   },
   {
    "duration": 18,
    "start_time": "2021-12-02T15:39:29.814Z"
   },
   {
    "duration": 28,
    "start_time": "2021-12-02T15:39:29.834Z"
   },
   {
    "duration": 29,
    "start_time": "2021-12-02T15:39:29.864Z"
   },
   {
    "duration": 16,
    "start_time": "2021-12-02T15:39:29.895Z"
   },
   {
    "duration": 19,
    "start_time": "2021-12-02T15:39:29.912Z"
   },
   {
    "duration": 6,
    "start_time": "2021-12-02T15:39:29.932Z"
   },
   {
    "duration": 3,
    "start_time": "2021-12-02T15:39:29.940Z"
   },
   {
    "duration": 6,
    "start_time": "2021-12-02T15:39:29.945Z"
   },
   {
    "duration": 52,
    "start_time": "2021-12-02T15:39:29.952Z"
   },
   {
    "duration": 11,
    "start_time": "2021-12-02T15:39:30.006Z"
   },
   {
    "duration": 14,
    "start_time": "2021-12-02T15:39:30.018Z"
   },
   {
    "duration": 6,
    "start_time": "2021-12-02T15:39:30.034Z"
   },
   {
    "duration": 8,
    "start_time": "2021-12-02T15:39:30.042Z"
   },
   {
    "duration": 9,
    "start_time": "2021-12-02T15:39:30.052Z"
   },
   {
    "duration": 28,
    "start_time": "2021-12-02T15:39:30.063Z"
   },
   {
    "duration": 10,
    "start_time": "2021-12-02T15:39:30.093Z"
   },
   {
    "duration": 8,
    "start_time": "2021-12-02T15:39:30.105Z"
   },
   {
    "duration": 14,
    "start_time": "2021-12-02T15:39:30.116Z"
   },
   {
    "duration": 7,
    "start_time": "2021-12-02T15:39:30.132Z"
   },
   {
    "duration": 52,
    "start_time": "2021-12-02T15:39:30.140Z"
   },
   {
    "duration": 9,
    "start_time": "2021-12-02T15:39:30.194Z"
   },
   {
    "duration": 21,
    "start_time": "2021-12-02T15:39:30.204Z"
   },
   {
    "duration": 9,
    "start_time": "2021-12-02T15:39:30.227Z"
   },
   {
    "duration": 4,
    "start_time": "2021-12-02T15:39:30.237Z"
   },
   {
    "duration": 9,
    "start_time": "2021-12-02T15:39:30.242Z"
   },
   {
    "duration": 9,
    "start_time": "2021-12-02T15:39:30.252Z"
   },
   {
    "duration": 51,
    "start_time": "2021-12-02T15:39:30.263Z"
   },
   {
    "duration": 3,
    "start_time": "2021-12-02T15:39:30.317Z"
   },
   {
    "duration": 14,
    "start_time": "2021-12-02T15:39:30.321Z"
   },
   {
    "duration": 20,
    "start_time": "2021-12-02T15:39:30.336Z"
   },
   {
    "duration": 6,
    "start_time": "2021-12-02T15:39:30.357Z"
   },
   {
    "duration": 43,
    "start_time": "2021-12-02T15:39:30.364Z"
   },
   {
    "duration": 9,
    "start_time": "2021-12-02T15:39:30.409Z"
   },
   {
    "duration": 93,
    "start_time": "2021-12-02T15:39:30.419Z"
   },
   {
    "duration": 3,
    "start_time": "2021-12-02T15:39:30.513Z"
   },
   {
    "duration": 24,
    "start_time": "2021-12-02T15:39:30.517Z"
   },
   {
    "duration": 22,
    "start_time": "2021-12-02T15:39:30.543Z"
   },
   {
    "duration": 22,
    "start_time": "2021-12-02T15:39:30.567Z"
   },
   {
    "duration": 219,
    "start_time": "2021-12-02T15:39:30.591Z"
   },
   {
    "duration": 5,
    "start_time": "2021-12-02T15:39:30.814Z"
   },
   {
    "duration": 200,
    "start_time": "2021-12-02T15:39:30.821Z"
   },
   {
    "duration": 3,
    "start_time": "2021-12-02T15:39:31.023Z"
   },
   {
    "duration": 10,
    "start_time": "2021-12-02T15:39:31.027Z"
   },
   {
    "duration": 10,
    "start_time": "2021-12-02T15:39:31.038Z"
   },
   {
    "duration": 19,
    "start_time": "2021-12-02T15:39:31.049Z"
   },
   {
    "duration": 18,
    "start_time": "2021-12-02T15:39:31.069Z"
   },
   {
    "duration": 9,
    "start_time": "2021-12-02T15:39:31.089Z"
   },
   {
    "duration": 14,
    "start_time": "2021-12-02T15:39:31.099Z"
   },
   {
    "duration": 11,
    "start_time": "2021-12-02T15:39:31.114Z"
   },
   {
    "duration": 8,
    "start_time": "2021-12-02T15:39:31.127Z"
   },
   {
    "duration": 187,
    "start_time": "2021-12-02T15:39:31.137Z"
   },
   {
    "duration": 5,
    "start_time": "2021-12-02T15:39:31.326Z"
   },
   {
    "duration": 260,
    "start_time": "2021-12-02T15:39:31.333Z"
   },
   {
    "duration": 3,
    "start_time": "2021-12-02T15:39:31.595Z"
   },
   {
    "duration": 9,
    "start_time": "2021-12-02T15:39:31.600Z"
   },
   {
    "duration": 11,
    "start_time": "2021-12-02T15:39:31.610Z"
   },
   {
    "duration": 19,
    "start_time": "2021-12-02T15:39:31.622Z"
   },
   {
    "duration": 9,
    "start_time": "2021-12-02T15:39:31.642Z"
   },
   {
    "duration": 6,
    "start_time": "2021-12-02T15:39:31.653Z"
   },
   {
    "duration": 15,
    "start_time": "2021-12-02T15:39:31.661Z"
   },
   {
    "duration": 6,
    "start_time": "2021-12-02T15:39:31.678Z"
   },
   {
    "duration": 6,
    "start_time": "2021-12-02T15:39:31.686Z"
   },
   {
    "duration": 197,
    "start_time": "2021-12-02T15:39:31.694Z"
   },
   {
    "duration": 5,
    "start_time": "2021-12-02T15:39:31.893Z"
   },
   {
    "duration": 195,
    "start_time": "2021-12-02T15:39:31.900Z"
   },
   {
    "duration": 3,
    "start_time": "2021-12-02T15:39:32.097Z"
   },
   {
    "duration": 9,
    "start_time": "2021-12-02T15:39:32.102Z"
   },
   {
    "duration": 15,
    "start_time": "2021-12-02T15:39:32.113Z"
   },
   {
    "duration": 9,
    "start_time": "2021-12-02T15:39:32.129Z"
   },
   {
    "duration": 12,
    "start_time": "2021-12-02T15:39:32.140Z"
   },
   {
    "duration": 6,
    "start_time": "2021-12-02T15:39:32.154Z"
   },
   {
    "duration": 8,
    "start_time": "2021-12-02T15:39:32.162Z"
   },
   {
    "duration": 16,
    "start_time": "2021-12-02T15:39:32.172Z"
   },
   {
    "duration": 405,
    "start_time": "2021-12-02T15:39:32.189Z"
   },
   {
    "duration": 5,
    "start_time": "2021-12-02T15:39:32.596Z"
   },
   {
    "duration": 12,
    "start_time": "2021-12-02T15:39:32.604Z"
   },
   {
    "duration": 5,
    "start_time": "2021-12-02T15:39:32.617Z"
   },
   {
    "duration": 3,
    "start_time": "2021-12-02T15:42:48.299Z"
   },
   {
    "duration": 388,
    "start_time": "2021-12-02T15:42:48.315Z"
   },
   {
    "duration": 9,
    "start_time": "2021-12-02T15:42:48.705Z"
   },
   {
    "duration": 23,
    "start_time": "2021-12-02T15:42:48.717Z"
   },
   {
    "duration": 28,
    "start_time": "2021-12-02T15:42:48.742Z"
   },
   {
    "duration": 20,
    "start_time": "2021-12-02T15:42:48.771Z"
   },
   {
    "duration": 5,
    "start_time": "2021-12-02T15:42:48.793Z"
   },
   {
    "duration": 9,
    "start_time": "2021-12-02T15:42:48.800Z"
   },
   {
    "duration": 8,
    "start_time": "2021-12-02T15:42:48.812Z"
   },
   {
    "duration": 17,
    "start_time": "2021-12-02T15:42:48.822Z"
   },
   {
    "duration": 62,
    "start_time": "2021-12-02T15:42:48.841Z"
   },
   {
    "duration": 8,
    "start_time": "2021-12-02T15:42:48.905Z"
   },
   {
    "duration": 11,
    "start_time": "2021-12-02T15:42:48.915Z"
   },
   {
    "duration": 8,
    "start_time": "2021-12-02T15:42:48.927Z"
   },
   {
    "duration": 14,
    "start_time": "2021-12-02T15:42:48.936Z"
   },
   {
    "duration": 44,
    "start_time": "2021-12-02T15:42:48.952Z"
   },
   {
    "duration": 8,
    "start_time": "2021-12-02T15:42:48.997Z"
   },
   {
    "duration": 5,
    "start_time": "2021-12-02T15:42:49.006Z"
   },
   {
    "duration": 8,
    "start_time": "2021-12-02T15:42:49.013Z"
   },
   {
    "duration": 12,
    "start_time": "2021-12-02T15:42:49.022Z"
   },
   {
    "duration": 7,
    "start_time": "2021-12-02T15:42:49.036Z"
   },
   {
    "duration": 5,
    "start_time": "2021-12-02T15:42:49.044Z"
   },
   {
    "duration": 52,
    "start_time": "2021-12-02T15:42:49.051Z"
   },
   {
    "duration": 35,
    "start_time": "2021-12-02T15:42:49.105Z"
   },
   {
    "duration": 8,
    "start_time": "2021-12-02T15:42:49.142Z"
   },
   {
    "duration": 7,
    "start_time": "2021-12-02T15:42:49.152Z"
   },
   {
    "duration": 33,
    "start_time": "2021-12-02T15:42:49.163Z"
   },
   {
    "duration": 27,
    "start_time": "2021-12-02T15:42:49.198Z"
   },
   {
    "duration": 8,
    "start_time": "2021-12-02T15:42:49.227Z"
   },
   {
    "duration": 6,
    "start_time": "2021-12-02T15:42:49.245Z"
   },
   {
    "duration": 18,
    "start_time": "2021-12-02T15:42:49.307Z"
   },
   {
    "duration": 5,
    "start_time": "2021-12-02T15:42:49.334Z"
   },
   {
    "duration": 3,
    "start_time": "2021-12-02T15:42:49.357Z"
   },
   {
    "duration": 5,
    "start_time": "2021-12-02T15:42:49.378Z"
   },
   {
    "duration": 33,
    "start_time": "2021-12-02T15:42:49.389Z"
   },
   {
    "duration": 9,
    "start_time": "2021-12-02T15:42:49.424Z"
   },
   {
    "duration": 11,
    "start_time": "2021-12-02T15:42:49.440Z"
   },
   {
    "duration": 34,
    "start_time": "2021-12-02T15:42:49.453Z"
   },
   {
    "duration": 23,
    "start_time": "2021-12-02T15:42:49.489Z"
   },
   {
    "duration": 17,
    "start_time": "2021-12-02T15:42:49.518Z"
   },
   {
    "duration": 17,
    "start_time": "2021-12-02T15:42:49.546Z"
   },
   {
    "duration": 17,
    "start_time": "2021-12-02T15:42:49.565Z"
   },
   {
    "duration": 9,
    "start_time": "2021-12-02T15:42:49.606Z"
   },
   {
    "duration": 23,
    "start_time": "2021-12-02T15:42:49.616Z"
   },
   {
    "duration": 33,
    "start_time": "2021-12-02T15:42:49.640Z"
   },
   {
    "duration": 22,
    "start_time": "2021-12-02T15:42:49.675Z"
   },
   {
    "duration": 9,
    "start_time": "2021-12-02T15:42:49.699Z"
   },
   {
    "duration": 39,
    "start_time": "2021-12-02T15:42:49.710Z"
   },
   {
    "duration": 11,
    "start_time": "2021-12-02T15:42:49.751Z"
   },
   {
    "duration": 4,
    "start_time": "2021-12-02T15:42:49.763Z"
   },
   {
    "duration": 8,
    "start_time": "2021-12-02T15:42:49.769Z"
   },
   {
    "duration": 10,
    "start_time": "2021-12-02T15:42:49.779Z"
   },
   {
    "duration": 20,
    "start_time": "2021-12-02T15:42:49.791Z"
   },
   {
    "duration": 2,
    "start_time": "2021-12-02T15:42:49.815Z"
   },
   {
    "duration": 6,
    "start_time": "2021-12-02T15:42:49.831Z"
   },
   {
    "duration": 17,
    "start_time": "2021-12-02T15:42:49.856Z"
   },
   {
    "duration": 5,
    "start_time": "2021-12-02T15:42:49.877Z"
   },
   {
    "duration": 19,
    "start_time": "2021-12-02T15:42:49.900Z"
   },
   {
    "duration": 8,
    "start_time": "2021-12-02T15:42:49.926Z"
   },
   {
    "duration": 2,
    "start_time": "2021-12-02T15:42:49.973Z"
   },
   {
    "duration": 8,
    "start_time": "2021-12-02T15:42:49.977Z"
   },
   {
    "duration": 7,
    "start_time": "2021-12-02T15:42:49.998Z"
   },
   {
    "duration": 6,
    "start_time": "2021-12-02T15:42:50.014Z"
   },
   {
    "duration": 5,
    "start_time": "2021-12-02T15:42:50.031Z"
   },
   {
    "duration": 202,
    "start_time": "2021-12-02T15:42:50.049Z"
   },
   {
    "duration": 5,
    "start_time": "2021-12-02T15:42:50.252Z"
   },
   {
    "duration": 217,
    "start_time": "2021-12-02T15:42:50.259Z"
   },
   {
    "duration": 15,
    "start_time": "2021-12-02T15:42:50.477Z"
   },
   {
    "duration": 4,
    "start_time": "2021-12-02T15:42:50.493Z"
   },
   {
    "duration": 5,
    "start_time": "2021-12-02T15:42:50.498Z"
   },
   {
    "duration": 6,
    "start_time": "2021-12-02T15:42:50.504Z"
   },
   {
    "duration": 4,
    "start_time": "2021-12-02T15:42:50.512Z"
   },
   {
    "duration": 6,
    "start_time": "2021-12-02T15:42:50.517Z"
   },
   {
    "duration": 5,
    "start_time": "2021-12-02T15:42:50.525Z"
   },
   {
    "duration": 6,
    "start_time": "2021-12-02T15:42:50.531Z"
   },
   {
    "duration": 5,
    "start_time": "2021-12-02T15:42:50.538Z"
   },
   {
    "duration": 284,
    "start_time": "2021-12-02T15:42:50.545Z"
   },
   {
    "duration": 4,
    "start_time": "2021-12-02T15:42:50.831Z"
   },
   {
    "duration": 215,
    "start_time": "2021-12-02T15:42:50.837Z"
   },
   {
    "duration": 3,
    "start_time": "2021-12-02T15:42:51.053Z"
   },
   {
    "duration": 6,
    "start_time": "2021-12-02T15:42:51.058Z"
   },
   {
    "duration": 4,
    "start_time": "2021-12-02T15:42:51.066Z"
   },
   {
    "duration": 20,
    "start_time": "2021-12-02T15:42:51.072Z"
   },
   {
    "duration": 3,
    "start_time": "2021-12-02T15:42:51.093Z"
   },
   {
    "duration": 7,
    "start_time": "2021-12-02T15:42:51.097Z"
   },
   {
    "duration": 4,
    "start_time": "2021-12-02T15:42:51.105Z"
   },
   {
    "duration": 6,
    "start_time": "2021-12-02T15:42:51.112Z"
   },
   {
    "duration": 5,
    "start_time": "2021-12-02T15:42:51.120Z"
   },
   {
    "duration": 213,
    "start_time": "2021-12-02T15:42:51.126Z"
   },
   {
    "duration": 5,
    "start_time": "2021-12-02T15:42:51.341Z"
   },
   {
    "duration": 200,
    "start_time": "2021-12-02T15:42:51.347Z"
   },
   {
    "duration": 3,
    "start_time": "2021-12-02T15:42:51.549Z"
   },
   {
    "duration": 9,
    "start_time": "2021-12-02T15:42:51.553Z"
   },
   {
    "duration": 4,
    "start_time": "2021-12-02T15:42:51.563Z"
   },
   {
    "duration": 6,
    "start_time": "2021-12-02T15:42:51.569Z"
   },
   {
    "duration": 17,
    "start_time": "2021-12-02T15:42:51.576Z"
   },
   {
    "duration": 7,
    "start_time": "2021-12-02T15:42:51.594Z"
   },
   {
    "duration": 5,
    "start_time": "2021-12-02T15:42:51.602Z"
   },
   {
    "duration": 6,
    "start_time": "2021-12-02T15:42:51.608Z"
   },
   {
    "duration": 4,
    "start_time": "2021-12-02T15:42:51.615Z"
   },
   {
    "duration": 6,
    "start_time": "2021-12-02T15:42:51.621Z"
   },
   {
    "duration": 9,
    "start_time": "2021-12-02T15:42:51.629Z"
   },
   {
    "duration": 6,
    "start_time": "2021-12-02T15:42:51.640Z"
   },
   {
    "duration": 254,
    "start_time": "2021-12-02T15:44:02.304Z"
   },
   {
    "duration": 9,
    "start_time": "2021-12-02T15:44:11.075Z"
   },
   {
    "duration": 584,
    "start_time": "2021-12-02T15:47:36.380Z"
   },
   {
    "duration": 406,
    "start_time": "2021-12-02T15:47:36.966Z"
   },
   {
    "duration": 14,
    "start_time": "2021-12-02T15:47:37.374Z"
   },
   {
    "duration": 29,
    "start_time": "2021-12-02T15:47:37.390Z"
   },
   {
    "duration": 29,
    "start_time": "2021-12-02T15:47:37.421Z"
   },
   {
    "duration": 2,
    "start_time": "2021-12-02T15:47:37.452Z"
   },
   {
    "duration": 9,
    "start_time": "2021-12-02T15:47:37.456Z"
   },
   {
    "duration": 26,
    "start_time": "2021-12-02T15:47:37.468Z"
   },
   {
    "duration": 17,
    "start_time": "2021-12-02T15:47:37.496Z"
   },
   {
    "duration": 24,
    "start_time": "2021-12-02T15:47:37.514Z"
   },
   {
    "duration": 25,
    "start_time": "2021-12-02T15:47:37.540Z"
   },
   {
    "duration": 25,
    "start_time": "2021-12-02T15:47:37.567Z"
   },
   {
    "duration": 21,
    "start_time": "2021-12-02T15:47:37.593Z"
   },
   {
    "duration": 21,
    "start_time": "2021-12-02T15:47:37.615Z"
   },
   {
    "duration": 20,
    "start_time": "2021-12-02T15:47:37.638Z"
   },
   {
    "duration": 29,
    "start_time": "2021-12-02T15:47:37.659Z"
   },
   {
    "duration": 14,
    "start_time": "2021-12-02T15:47:37.689Z"
   },
   {
    "duration": 25,
    "start_time": "2021-12-02T15:47:37.705Z"
   },
   {
    "duration": 14,
    "start_time": "2021-12-02T15:47:37.732Z"
   },
   {
    "duration": 18,
    "start_time": "2021-12-02T15:47:37.748Z"
   },
   {
    "duration": 12,
    "start_time": "2021-12-02T15:47:37.768Z"
   },
   {
    "duration": 31,
    "start_time": "2021-12-02T15:47:37.782Z"
   },
   {
    "duration": 25,
    "start_time": "2021-12-02T15:47:37.817Z"
   },
   {
    "duration": 36,
    "start_time": "2021-12-02T15:47:37.844Z"
   },
   {
    "duration": 7,
    "start_time": "2021-12-02T15:47:37.882Z"
   },
   {
    "duration": 13,
    "start_time": "2021-12-02T15:47:37.891Z"
   },
   {
    "duration": 32,
    "start_time": "2021-12-02T15:47:37.905Z"
   },
   {
    "duration": 29,
    "start_time": "2021-12-02T15:47:37.939Z"
   },
   {
    "duration": 8,
    "start_time": "2021-12-02T15:47:37.970Z"
   },
   {
    "duration": 26,
    "start_time": "2021-12-02T15:47:37.980Z"
   },
   {
    "duration": 32,
    "start_time": "2021-12-02T15:47:38.008Z"
   },
   {
    "duration": 10,
    "start_time": "2021-12-02T15:47:38.042Z"
   },
   {
    "duration": 10,
    "start_time": "2021-12-02T15:47:38.053Z"
   },
   {
    "duration": 8,
    "start_time": "2021-12-02T15:47:38.064Z"
   },
   {
    "duration": 7,
    "start_time": "2021-12-02T15:47:38.074Z"
   },
   {
    "duration": 42,
    "start_time": "2021-12-02T15:47:38.082Z"
   },
   {
    "duration": 8,
    "start_time": "2021-12-02T15:47:38.126Z"
   },
   {
    "duration": 15,
    "start_time": "2021-12-02T15:47:38.136Z"
   },
   {
    "duration": 21,
    "start_time": "2021-12-02T15:47:38.153Z"
   },
   {
    "duration": 18,
    "start_time": "2021-12-02T15:47:38.175Z"
   },
   {
    "duration": 7,
    "start_time": "2021-12-02T15:47:38.195Z"
   },
   {
    "duration": 24,
    "start_time": "2021-12-02T15:47:38.204Z"
   },
   {
    "duration": 8,
    "start_time": "2021-12-02T15:47:38.230Z"
   },
   {
    "duration": 29,
    "start_time": "2021-12-02T15:47:38.239Z"
   },
   {
    "duration": 33,
    "start_time": "2021-12-02T15:47:38.269Z"
   },
   {
    "duration": 15,
    "start_time": "2021-12-02T15:47:38.303Z"
   },
   {
    "duration": 27,
    "start_time": "2021-12-02T15:47:38.319Z"
   },
   {
    "duration": 7,
    "start_time": "2021-12-02T15:47:38.348Z"
   },
   {
    "duration": 37,
    "start_time": "2021-12-02T15:47:38.357Z"
   },
   {
    "duration": 31,
    "start_time": "2021-12-02T15:47:38.395Z"
   },
   {
    "duration": 20,
    "start_time": "2021-12-02T15:47:38.427Z"
   },
   {
    "duration": 30,
    "start_time": "2021-12-02T15:47:38.448Z"
   },
   {
    "duration": 5014,
    "start_time": "2021-12-02T15:47:38.480Z"
   },
   {
    "duration": 173921,
    "start_time": "2021-12-02T15:44:49.577Z"
   },
   {
    "duration": 173908,
    "start_time": "2021-12-02T15:44:49.591Z"
   },
   {
    "duration": 173895,
    "start_time": "2021-12-02T15:44:49.605Z"
   },
   {
    "duration": 173882,
    "start_time": "2021-12-02T15:44:49.619Z"
   },
   {
    "duration": 173780,
    "start_time": "2021-12-02T15:44:49.722Z"
   },
   {
    "duration": 173754,
    "start_time": "2021-12-02T15:44:49.749Z"
   },
   {
    "duration": 173740,
    "start_time": "2021-12-02T15:44:49.764Z"
   },
   {
    "duration": 173725,
    "start_time": "2021-12-02T15:44:49.780Z"
   },
   {
    "duration": 173713,
    "start_time": "2021-12-02T15:44:49.794Z"
   },
   {
    "duration": 173699,
    "start_time": "2021-12-02T15:44:49.809Z"
   },
   {
    "duration": 173662,
    "start_time": "2021-12-02T15:44:49.847Z"
   },
   {
    "duration": 173646,
    "start_time": "2021-12-02T15:44:49.864Z"
   },
   {
    "duration": 173633,
    "start_time": "2021-12-02T15:44:49.878Z"
   },
   {
    "duration": 173618,
    "start_time": "2021-12-02T15:44:49.894Z"
   },
   {
    "duration": 173606,
    "start_time": "2021-12-02T15:44:49.907Z"
   },
   {
    "duration": 173591,
    "start_time": "2021-12-02T15:44:49.923Z"
   },
   {
    "duration": 173580,
    "start_time": "2021-12-02T15:44:49.935Z"
   },
   {
    "duration": 173539,
    "start_time": "2021-12-02T15:44:49.977Z"
   },
   {
    "duration": 173526,
    "start_time": "2021-12-02T15:44:49.991Z"
   },
   {
    "duration": 173512,
    "start_time": "2021-12-02T15:44:50.006Z"
   },
   {
    "duration": 173500,
    "start_time": "2021-12-02T15:44:50.019Z"
   },
   {
    "duration": 173485,
    "start_time": "2021-12-02T15:44:50.035Z"
   },
   {
    "duration": 173471,
    "start_time": "2021-12-02T15:44:50.050Z"
   },
   {
    "duration": 173457,
    "start_time": "2021-12-02T15:44:50.065Z"
   },
   {
    "duration": 173423,
    "start_time": "2021-12-02T15:44:50.101Z"
   },
   {
    "duration": 173407,
    "start_time": "2021-12-02T15:44:50.118Z"
   },
   {
    "duration": 173394,
    "start_time": "2021-12-02T15:44:50.132Z"
   },
   {
    "duration": 173380,
    "start_time": "2021-12-02T15:44:50.147Z"
   },
   {
    "duration": 173366,
    "start_time": "2021-12-02T15:44:50.162Z"
   },
   {
    "duration": 173353,
    "start_time": "2021-12-02T15:44:50.176Z"
   },
   {
    "duration": 173339,
    "start_time": "2021-12-02T15:44:50.191Z"
   },
   {
    "duration": 173302,
    "start_time": "2021-12-02T15:44:50.229Z"
   },
   {
    "duration": 173289,
    "start_time": "2021-12-02T15:44:50.243Z"
   },
   {
    "duration": 173274,
    "start_time": "2021-12-02T15:44:50.259Z"
   },
   {
    "duration": 173263,
    "start_time": "2021-12-02T15:44:50.272Z"
   },
   {
    "duration": 173250,
    "start_time": "2021-12-02T15:44:50.286Z"
   },
   {
    "duration": 173291,
    "start_time": "2021-12-02T15:44:50.300Z"
   },
   {
    "duration": 173275,
    "start_time": "2021-12-02T15:44:50.317Z"
   },
   {
    "duration": 173225,
    "start_time": "2021-12-02T15:44:50.369Z"
   },
   {
    "duration": 173211,
    "start_time": "2021-12-02T15:44:50.384Z"
   },
   {
    "duration": 173198,
    "start_time": "2021-12-02T15:44:50.398Z"
   },
   {
    "duration": 173184,
    "start_time": "2021-12-02T15:44:50.413Z"
   },
   {
    "duration": 173170,
    "start_time": "2021-12-02T15:44:50.428Z"
   },
   {
    "duration": 173156,
    "start_time": "2021-12-02T15:44:50.443Z"
   },
   {
    "duration": 173142,
    "start_time": "2021-12-02T15:44:50.458Z"
   },
   {
    "duration": 173105,
    "start_time": "2021-12-02T15:44:50.496Z"
   },
   {
    "duration": 173089,
    "start_time": "2021-12-02T15:44:50.513Z"
   },
   {
    "duration": 173073,
    "start_time": "2021-12-02T15:44:50.530Z"
   },
   {
    "duration": 173061,
    "start_time": "2021-12-02T15:44:50.543Z"
   },
   {
    "duration": 173046,
    "start_time": "2021-12-02T15:44:50.559Z"
   },
   {
    "duration": 173034,
    "start_time": "2021-12-02T15:44:50.572Z"
   },
   {
    "duration": 3,
    "start_time": "2021-12-02T15:50:09.229Z"
   },
   {
    "duration": 9,
    "start_time": "2021-12-02T15:50:23.920Z"
   },
   {
    "duration": 8,
    "start_time": "2021-12-02T15:51:19.723Z"
   },
   {
    "duration": 4,
    "start_time": "2021-12-02T15:52:42.844Z"
   },
   {
    "duration": 7,
    "start_time": "2021-12-02T15:52:52.985Z"
   },
   {
    "duration": 4,
    "start_time": "2021-12-02T15:53:05.381Z"
   },
   {
    "duration": 20,
    "start_time": "2021-12-02T15:53:05.386Z"
   },
   {
    "duration": 2,
    "start_time": "2021-12-02T15:53:12.357Z"
   },
   {
    "duration": 392,
    "start_time": "2021-12-02T15:53:12.366Z"
   },
   {
    "duration": 8,
    "start_time": "2021-12-02T15:53:12.759Z"
   },
   {
    "duration": 22,
    "start_time": "2021-12-02T15:53:12.769Z"
   },
   {
    "duration": 26,
    "start_time": "2021-12-02T15:53:12.793Z"
   },
   {
    "duration": 2,
    "start_time": "2021-12-02T15:53:12.821Z"
   },
   {
    "duration": 8,
    "start_time": "2021-12-02T15:53:12.825Z"
   },
   {
    "duration": 9,
    "start_time": "2021-12-02T15:53:12.835Z"
   },
   {
    "duration": 12,
    "start_time": "2021-12-02T15:53:12.846Z"
   },
   {
    "duration": 40,
    "start_time": "2021-12-02T15:53:12.859Z"
   },
   {
    "duration": 18,
    "start_time": "2021-12-02T15:53:12.901Z"
   },
   {
    "duration": 8,
    "start_time": "2021-12-02T15:53:12.921Z"
   },
   {
    "duration": 10,
    "start_time": "2021-12-02T15:53:12.931Z"
   },
   {
    "duration": 7,
    "start_time": "2021-12-02T15:53:12.943Z"
   },
   {
    "duration": 39,
    "start_time": "2021-12-02T15:53:12.952Z"
   },
   {
    "duration": 17,
    "start_time": "2021-12-02T15:53:12.993Z"
   },
   {
    "duration": 7,
    "start_time": "2021-12-02T15:53:13.012Z"
   },
   {
    "duration": 7,
    "start_time": "2021-12-02T15:53:13.020Z"
   },
   {
    "duration": 14,
    "start_time": "2021-12-02T15:53:13.028Z"
   },
   {
    "duration": 11,
    "start_time": "2021-12-02T15:53:13.043Z"
   },
   {
    "duration": 8,
    "start_time": "2021-12-02T15:53:13.056Z"
   },
   {
    "duration": 29,
    "start_time": "2021-12-02T15:53:13.065Z"
   },
   {
    "duration": 26,
    "start_time": "2021-12-02T15:53:13.096Z"
   },
   {
    "duration": 35,
    "start_time": "2021-12-02T15:53:13.125Z"
   },
   {
    "duration": 7,
    "start_time": "2021-12-02T15:53:13.162Z"
   },
   {
    "duration": 24,
    "start_time": "2021-12-02T15:53:13.171Z"
   },
   {
    "duration": 26,
    "start_time": "2021-12-02T15:53:13.197Z"
   },
   {
    "duration": 28,
    "start_time": "2021-12-02T15:53:13.225Z"
   },
   {
    "duration": 8,
    "start_time": "2021-12-02T15:53:13.254Z"
   },
   {
    "duration": 8,
    "start_time": "2021-12-02T15:53:13.264Z"
   },
   {
    "duration": 32,
    "start_time": "2021-12-02T15:53:13.274Z"
   },
   {
    "duration": 8,
    "start_time": "2021-12-02T15:53:13.308Z"
   },
   {
    "duration": 4,
    "start_time": "2021-12-02T15:53:13.317Z"
   },
   {
    "duration": 11,
    "start_time": "2021-12-02T15:53:13.323Z"
   },
   {
    "duration": 5,
    "start_time": "2021-12-02T15:53:13.335Z"
   },
   {
    "duration": 30,
    "start_time": "2021-12-02T15:53:13.341Z"
   },
   {
    "duration": 21,
    "start_time": "2021-12-02T15:53:13.372Z"
   },
   {
    "duration": 21,
    "start_time": "2021-12-02T15:53:13.395Z"
   },
   {
    "duration": 21,
    "start_time": "2021-12-02T15:53:13.417Z"
   },
   {
    "duration": 7,
    "start_time": "2021-12-02T15:53:13.440Z"
   },
   {
    "duration": 8,
    "start_time": "2021-12-02T15:53:13.449Z"
   },
   {
    "duration": 5,
    "start_time": "2021-12-02T15:53:13.461Z"
   },
   {
    "duration": 9,
    "start_time": "2021-12-02T15:53:13.468Z"
   },
   {
    "duration": 14,
    "start_time": "2021-12-02T15:53:13.479Z"
   },
   {
    "duration": 8,
    "start_time": "2021-12-02T15:53:13.494Z"
   },
   {
    "duration": 9,
    "start_time": "2021-12-02T15:53:13.504Z"
   },
   {
    "duration": 10,
    "start_time": "2021-12-02T15:53:13.515Z"
   },
   {
    "duration": 9,
    "start_time": "2021-12-02T15:53:13.527Z"
   },
   {
    "duration": 16,
    "start_time": "2021-12-02T15:53:13.537Z"
   },
   {
    "duration": 46,
    "start_time": "2021-12-02T15:53:13.554Z"
   },
   {
    "duration": 17,
    "start_time": "2021-12-02T15:53:13.602Z"
   },
   {
    "duration": 10,
    "start_time": "2021-12-02T15:53:13.620Z"
   },
   {
    "duration": 62,
    "start_time": "2021-12-02T15:53:13.631Z"
   },
   {
    "duration": 9,
    "start_time": "2021-12-02T15:53:13.695Z"
   },
   {
    "duration": 4,
    "start_time": "2021-12-02T15:53:13.706Z"
   },
   {
    "duration": 8,
    "start_time": "2021-12-02T15:53:13.712Z"
   },
   {
    "duration": 5292,
    "start_time": "2021-12-02T15:53:13.723Z"
   },
   {
    "duration": 169360,
    "start_time": "2021-12-02T15:50:29.658Z"
   },
   {
    "duration": 169343,
    "start_time": "2021-12-02T15:50:29.676Z"
   },
   {
    "duration": 169259,
    "start_time": "2021-12-02T15:50:29.761Z"
   },
   {
    "duration": 169154,
    "start_time": "2021-12-02T15:50:29.867Z"
   },
   {
    "duration": 169105,
    "start_time": "2021-12-02T15:50:29.917Z"
   },
   {
    "duration": 169091,
    "start_time": "2021-12-02T15:50:29.932Z"
   },
   {
    "duration": 169081,
    "start_time": "2021-12-02T15:50:29.943Z"
   },
   {
    "duration": 169069,
    "start_time": "2021-12-02T15:50:29.956Z"
   },
   {
    "duration": 169059,
    "start_time": "2021-12-02T15:50:29.967Z"
   },
   {
    "duration": 169045,
    "start_time": "2021-12-02T15:50:29.982Z"
   },
   {
    "duration": 169035,
    "start_time": "2021-12-02T15:50:29.993Z"
   },
   {
    "duration": 169023,
    "start_time": "2021-12-02T15:50:30.006Z"
   },
   {
    "duration": 168975,
    "start_time": "2021-12-02T15:50:30.055Z"
   },
   {
    "duration": 168964,
    "start_time": "2021-12-02T15:50:30.067Z"
   },
   {
    "duration": 168953,
    "start_time": "2021-12-02T15:50:30.079Z"
   },
   {
    "duration": 168939,
    "start_time": "2021-12-02T15:50:30.094Z"
   },
   {
    "duration": 168928,
    "start_time": "2021-12-02T15:50:30.106Z"
   },
   {
    "duration": 168917,
    "start_time": "2021-12-02T15:50:30.118Z"
   },
   {
    "duration": 168907,
    "start_time": "2021-12-02T15:50:30.129Z"
   },
   {
    "duration": 168896,
    "start_time": "2021-12-02T15:50:30.141Z"
   },
   {
    "duration": 168856,
    "start_time": "2021-12-02T15:50:30.182Z"
   },
   {
    "duration": 168843,
    "start_time": "2021-12-02T15:50:30.196Z"
   },
   {
    "duration": 168832,
    "start_time": "2021-12-02T15:50:30.208Z"
   },
   {
    "duration": 168820,
    "start_time": "2021-12-02T15:50:30.221Z"
   },
   {
    "duration": 168810,
    "start_time": "2021-12-02T15:50:30.232Z"
   },
   {
    "duration": 168799,
    "start_time": "2021-12-02T15:50:30.244Z"
   },
   {
    "duration": 168788,
    "start_time": "2021-12-02T15:50:30.256Z"
   },
   {
    "duration": 168776,
    "start_time": "2021-12-02T15:50:30.269Z"
   },
   {
    "duration": 168746,
    "start_time": "2021-12-02T15:50:30.300Z"
   },
   {
    "duration": 168698,
    "start_time": "2021-12-02T15:50:30.349Z"
   },
   {
    "duration": 168687,
    "start_time": "2021-12-02T15:50:30.361Z"
   },
   {
    "duration": 168676,
    "start_time": "2021-12-02T15:50:30.374Z"
   },
   {
    "duration": 168647,
    "start_time": "2021-12-02T15:50:30.403Z"
   },
   {
    "duration": 168621,
    "start_time": "2021-12-02T15:50:30.431Z"
   },
   {
    "duration": 168608,
    "start_time": "2021-12-02T15:50:30.445Z"
   },
   {
    "duration": 168595,
    "start_time": "2021-12-02T15:50:30.459Z"
   },
   {
    "duration": 168584,
    "start_time": "2021-12-02T15:50:30.471Z"
   },
   {
    "duration": 168574,
    "start_time": "2021-12-02T15:50:30.482Z"
   },
   {
    "duration": 168598,
    "start_time": "2021-12-02T15:50:30.493Z"
   },
   {
    "duration": 168586,
    "start_time": "2021-12-02T15:50:30.506Z"
   },
   {
    "duration": 168576,
    "start_time": "2021-12-02T15:50:30.517Z"
   },
   {
    "duration": 168547,
    "start_time": "2021-12-02T15:50:30.547Z"
   },
   {
    "duration": 168536,
    "start_time": "2021-12-02T15:50:30.559Z"
   },
   {
    "duration": 168523,
    "start_time": "2021-12-02T15:50:30.573Z"
   },
   {
    "duration": 168513,
    "start_time": "2021-12-02T15:50:30.584Z"
   },
   {
    "duration": 168501,
    "start_time": "2021-12-02T15:50:30.597Z"
   },
   {
    "duration": 168491,
    "start_time": "2021-12-02T15:50:30.608Z"
   },
   {
    "duration": 168479,
    "start_time": "2021-12-02T15:50:30.621Z"
   },
   {
    "duration": 168469,
    "start_time": "2021-12-02T15:50:30.632Z"
   },
   {
    "duration": 168439,
    "start_time": "2021-12-02T15:50:30.663Z"
   },
   {
    "duration": 168426,
    "start_time": "2021-12-02T15:50:30.677Z"
   },
   {
    "duration": 3,
    "start_time": "2021-12-02T15:54:00.801Z"
   },
   {
    "duration": 389,
    "start_time": "2021-12-02T15:54:00.810Z"
   },
   {
    "duration": 8,
    "start_time": "2021-12-02T15:54:01.201Z"
   },
   {
    "duration": 32,
    "start_time": "2021-12-02T15:54:01.210Z"
   },
   {
    "duration": 35,
    "start_time": "2021-12-02T15:54:01.244Z"
   },
   {
    "duration": 2,
    "start_time": "2021-12-02T15:54:01.281Z"
   },
   {
    "duration": 23,
    "start_time": "2021-12-02T15:54:01.285Z"
   },
   {
    "duration": 35,
    "start_time": "2021-12-02T15:54:01.310Z"
   },
   {
    "duration": 20,
    "start_time": "2021-12-02T15:54:01.348Z"
   },
   {
    "duration": 38,
    "start_time": "2021-12-02T15:54:01.371Z"
   },
   {
    "duration": 22,
    "start_time": "2021-12-02T15:54:01.411Z"
   },
   {
    "duration": 8,
    "start_time": "2021-12-02T15:54:01.435Z"
   },
   {
    "duration": 18,
    "start_time": "2021-12-02T15:54:01.444Z"
   },
   {
    "duration": 22,
    "start_time": "2021-12-02T15:54:01.464Z"
   },
   {
    "duration": 19,
    "start_time": "2021-12-02T15:54:01.487Z"
   },
   {
    "duration": 32,
    "start_time": "2021-12-02T15:54:01.508Z"
   },
   {
    "duration": 8,
    "start_time": "2021-12-02T15:54:01.542Z"
   },
   {
    "duration": 6,
    "start_time": "2021-12-02T15:54:01.551Z"
   },
   {
    "duration": 21,
    "start_time": "2021-12-02T15:54:01.558Z"
   },
   {
    "duration": 22,
    "start_time": "2021-12-02T15:54:01.580Z"
   },
   {
    "duration": 22,
    "start_time": "2021-12-02T15:54:01.604Z"
   },
   {
    "duration": 24,
    "start_time": "2021-12-02T15:54:01.627Z"
   },
   {
    "duration": 36,
    "start_time": "2021-12-02T15:54:01.653Z"
   },
   {
    "duration": 37,
    "start_time": "2021-12-02T15:54:01.692Z"
   },
   {
    "duration": 9,
    "start_time": "2021-12-02T15:54:01.731Z"
   },
   {
    "duration": 27,
    "start_time": "2021-12-02T15:54:01.742Z"
   },
   {
    "duration": 35,
    "start_time": "2021-12-02T15:54:01.770Z"
   },
   {
    "duration": 26,
    "start_time": "2021-12-02T15:54:01.806Z"
   },
   {
    "duration": 19,
    "start_time": "2021-12-02T15:54:01.834Z"
   },
   {
    "duration": 23,
    "start_time": "2021-12-02T15:54:01.855Z"
   },
   {
    "duration": 23,
    "start_time": "2021-12-02T15:54:01.880Z"
   },
   {
    "duration": 12,
    "start_time": "2021-12-02T15:54:01.905Z"
   },
   {
    "duration": 12,
    "start_time": "2021-12-02T15:54:01.919Z"
   },
   {
    "duration": 27,
    "start_time": "2021-12-02T15:54:01.932Z"
   },
   {
    "duration": 28,
    "start_time": "2021-12-02T15:54:01.961Z"
   },
   {
    "duration": 29,
    "start_time": "2021-12-02T15:54:01.990Z"
   },
   {
    "duration": 8,
    "start_time": "2021-12-02T15:54:02.021Z"
   },
   {
    "duration": 11,
    "start_time": "2021-12-02T15:54:02.031Z"
   },
   {
    "duration": 10,
    "start_time": "2021-12-02T15:54:02.044Z"
   },
   {
    "duration": 7,
    "start_time": "2021-12-02T15:54:02.056Z"
   },
   {
    "duration": 11,
    "start_time": "2021-12-02T15:54:02.065Z"
   },
   {
    "duration": 18,
    "start_time": "2021-12-02T15:54:02.077Z"
   },
   {
    "duration": 11,
    "start_time": "2021-12-02T15:54:02.097Z"
   },
   {
    "duration": 10,
    "start_time": "2021-12-02T15:54:02.110Z"
   },
   {
    "duration": 20,
    "start_time": "2021-12-02T15:54:02.121Z"
   },
   {
    "duration": 8,
    "start_time": "2021-12-02T15:54:02.142Z"
   },
   {
    "duration": 12,
    "start_time": "2021-12-02T15:54:02.152Z"
   },
   {
    "duration": 32,
    "start_time": "2021-12-02T15:54:02.166Z"
   },
   {
    "duration": 14,
    "start_time": "2021-12-02T15:54:02.202Z"
   },
   {
    "duration": 6,
    "start_time": "2021-12-02T15:54:02.219Z"
   },
   {
    "duration": 18,
    "start_time": "2021-12-02T15:54:02.226Z"
   },
   {
    "duration": 8,
    "start_time": "2021-12-02T15:54:02.246Z"
   },
   {
    "duration": 48,
    "start_time": "2021-12-02T15:54:02.255Z"
   },
   {
    "duration": 9,
    "start_time": "2021-12-02T15:54:02.304Z"
   },
   {
    "duration": 4,
    "start_time": "2021-12-02T15:54:02.314Z"
   },
   {
    "duration": 8,
    "start_time": "2021-12-02T15:54:02.319Z"
   },
   {
    "duration": 4500,
    "start_time": "2021-12-02T15:54:02.328Z"
   },
   {
    "duration": 168438,
    "start_time": "2021-12-02T15:51:18.393Z"
   },
   {
    "duration": 168367,
    "start_time": "2021-12-02T15:51:18.465Z"
   },
   {
    "duration": 168354,
    "start_time": "2021-12-02T15:51:18.478Z"
   },
   {
    "duration": 168339,
    "start_time": "2021-12-02T15:51:18.494Z"
   },
   {
    "duration": 168328,
    "start_time": "2021-12-02T15:51:18.506Z"
   },
   {
    "duration": 168315,
    "start_time": "2021-12-02T15:51:18.520Z"
   },
   {
    "duration": 168305,
    "start_time": "2021-12-02T15:51:18.530Z"
   },
   {
    "duration": 168294,
    "start_time": "2021-12-02T15:51:18.542Z"
   },
   {
    "duration": 168283,
    "start_time": "2021-12-02T15:51:18.554Z"
   },
   {
    "duration": 168238,
    "start_time": "2021-12-02T15:51:18.600Z"
   },
   {
    "duration": 168223,
    "start_time": "2021-12-02T15:51:18.616Z"
   },
   {
    "duration": 168209,
    "start_time": "2021-12-02T15:51:18.631Z"
   },
   {
    "duration": 168199,
    "start_time": "2021-12-02T15:51:18.642Z"
   },
   {
    "duration": 168187,
    "start_time": "2021-12-02T15:51:18.655Z"
   },
   {
    "duration": 168178,
    "start_time": "2021-12-02T15:51:18.665Z"
   },
   {
    "duration": 168166,
    "start_time": "2021-12-02T15:51:18.678Z"
   },
   {
    "duration": 168122,
    "start_time": "2021-12-02T15:51:18.723Z"
   },
   {
    "duration": 168109,
    "start_time": "2021-12-02T15:51:18.736Z"
   },
   {
    "duration": 168100,
    "start_time": "2021-12-02T15:51:18.746Z"
   },
   {
    "duration": 168087,
    "start_time": "2021-12-02T15:51:18.760Z"
   },
   {
    "duration": 168077,
    "start_time": "2021-12-02T15:51:18.771Z"
   },
   {
    "duration": 168066,
    "start_time": "2021-12-02T15:51:18.783Z"
   },
   {
    "duration": 168056,
    "start_time": "2021-12-02T15:51:18.794Z"
   },
   {
    "duration": 168045,
    "start_time": "2021-12-02T15:51:18.806Z"
   },
   {
    "duration": 168008,
    "start_time": "2021-12-02T15:51:18.844Z"
   },
   {
    "duration": 167996,
    "start_time": "2021-12-02T15:51:18.857Z"
   },
   {
    "duration": 167965,
    "start_time": "2021-12-02T15:51:18.889Z"
   },
   {
    "duration": 167932,
    "start_time": "2021-12-02T15:51:18.923Z"
   },
   {
    "duration": 167902,
    "start_time": "2021-12-02T15:51:18.954Z"
   },
   {
    "duration": 167891,
    "start_time": "2021-12-02T15:51:18.966Z"
   },
   {
    "duration": 167880,
    "start_time": "2021-12-02T15:51:18.978Z"
   },
   {
    "duration": 167868,
    "start_time": "2021-12-02T15:51:18.991Z"
   },
   {
    "duration": 167858,
    "start_time": "2021-12-02T15:51:19.002Z"
   },
   {
    "duration": 167845,
    "start_time": "2021-12-02T15:51:19.016Z"
   },
   {
    "duration": 167834,
    "start_time": "2021-12-02T15:51:19.028Z"
   },
   {
    "duration": 167821,
    "start_time": "2021-12-02T15:51:19.042Z"
   },
   {
    "duration": 167788,
    "start_time": "2021-12-02T15:51:19.076Z"
   },
   {
    "duration": 167776,
    "start_time": "2021-12-02T15:51:19.089Z"
   },
   {
    "duration": 167766,
    "start_time": "2021-12-02T15:51:19.100Z"
   },
   {
    "duration": 167755,
    "start_time": "2021-12-02T15:51:19.112Z"
   },
   {
    "duration": 167764,
    "start_time": "2021-12-02T15:51:19.127Z"
   },
   {
    "duration": 167753,
    "start_time": "2021-12-02T15:51:19.139Z"
   },
   {
    "duration": 167742,
    "start_time": "2021-12-02T15:51:19.151Z"
   },
   {
    "duration": 167730,
    "start_time": "2021-12-02T15:51:19.163Z"
   },
   {
    "duration": 167700,
    "start_time": "2021-12-02T15:51:19.194Z"
   },
   {
    "duration": 167689,
    "start_time": "2021-12-02T15:51:19.206Z"
   },
   {
    "duration": 167680,
    "start_time": "2021-12-02T15:51:19.216Z"
   },
   {
    "duration": 167668,
    "start_time": "2021-12-02T15:51:19.229Z"
   },
   {
    "duration": 167657,
    "start_time": "2021-12-02T15:51:19.240Z"
   },
   {
    "duration": 167644,
    "start_time": "2021-12-02T15:51:19.254Z"
   },
   {
    "duration": 167635,
    "start_time": "2021-12-02T15:51:19.264Z"
   },
   {
    "duration": 4,
    "start_time": "2021-12-02T15:59:04.623Z"
   },
   {
    "duration": 8,
    "start_time": "2021-12-02T15:59:14.608Z"
   },
   {
    "duration": 18,
    "start_time": "2021-12-02T16:03:48.165Z"
   },
   {
    "duration": 10,
    "start_time": "2021-12-02T16:03:57.316Z"
   },
   {
    "duration": 589,
    "start_time": "2021-12-02T16:08:11.388Z"
   },
   {
    "duration": 442,
    "start_time": "2021-12-02T16:08:11.980Z"
   },
   {
    "duration": 15,
    "start_time": "2021-12-02T16:08:12.425Z"
   },
   {
    "duration": 22,
    "start_time": "2021-12-02T16:08:12.442Z"
   },
   {
    "duration": 36,
    "start_time": "2021-12-02T16:08:12.466Z"
   },
   {
    "duration": 3,
    "start_time": "2021-12-02T16:08:12.503Z"
   },
   {
    "duration": 9,
    "start_time": "2021-12-02T16:08:12.508Z"
   },
   {
    "duration": 9,
    "start_time": "2021-12-02T16:08:12.521Z"
   },
   {
    "duration": 9,
    "start_time": "2021-12-02T16:08:12.532Z"
   },
   {
    "duration": 49,
    "start_time": "2021-12-02T16:08:12.543Z"
   },
   {
    "duration": 25,
    "start_time": "2021-12-02T16:08:12.594Z"
   },
   {
    "duration": 12,
    "start_time": "2021-12-02T16:08:12.621Z"
   },
   {
    "duration": 11,
    "start_time": "2021-12-02T16:08:12.635Z"
   },
   {
    "duration": 12,
    "start_time": "2021-12-02T16:08:12.648Z"
   },
   {
    "duration": 18,
    "start_time": "2021-12-02T16:08:12.692Z"
   },
   {
    "duration": 20,
    "start_time": "2021-12-02T16:08:12.712Z"
   },
   {
    "duration": 9,
    "start_time": "2021-12-02T16:08:12.734Z"
   },
   {
    "duration": 5,
    "start_time": "2021-12-02T16:08:12.745Z"
   },
   {
    "duration": 42,
    "start_time": "2021-12-02T16:08:12.751Z"
   },
   {
    "duration": 12,
    "start_time": "2021-12-02T16:08:12.794Z"
   },
   {
    "duration": 9,
    "start_time": "2021-12-02T16:08:12.808Z"
   },
   {
    "duration": 8,
    "start_time": "2021-12-02T16:08:12.818Z"
   },
   {
    "duration": 23,
    "start_time": "2021-12-02T16:08:12.830Z"
   },
   {
    "duration": 70,
    "start_time": "2021-12-02T16:08:12.856Z"
   },
   {
    "duration": 9,
    "start_time": "2021-12-02T16:08:12.928Z"
   },
   {
    "duration": 8,
    "start_time": "2021-12-02T16:08:12.939Z"
   },
   {
    "duration": 16,
    "start_time": "2021-12-02T16:08:12.948Z"
   },
   {
    "duration": 55,
    "start_time": "2021-12-02T16:08:12.965Z"
   },
   {
    "duration": 7,
    "start_time": "2021-12-02T16:08:13.022Z"
   },
   {
    "duration": 7,
    "start_time": "2021-12-02T16:08:13.031Z"
   },
   {
    "duration": 19,
    "start_time": "2021-12-02T16:08:13.040Z"
   },
   {
    "duration": 34,
    "start_time": "2021-12-02T16:08:13.060Z"
   },
   {
    "duration": 29,
    "start_time": "2021-12-02T16:08:13.096Z"
   },
   {
    "duration": 8,
    "start_time": "2021-12-02T16:08:13.127Z"
   },
   {
    "duration": 6,
    "start_time": "2021-12-02T16:08:13.137Z"
   },
   {
    "duration": 9,
    "start_time": "2021-12-02T16:08:13.144Z"
   },
   {
    "duration": 5,
    "start_time": "2021-12-02T16:08:13.154Z"
   },
   {
    "duration": 7,
    "start_time": "2021-12-02T16:08:13.192Z"
   },
   {
    "duration": 14,
    "start_time": "2021-12-02T16:08:13.201Z"
   },
   {
    "duration": 6,
    "start_time": "2021-12-02T16:08:13.217Z"
   },
   {
    "duration": 8,
    "start_time": "2021-12-02T16:08:13.225Z"
   },
   {
    "duration": 4,
    "start_time": "2021-12-02T16:08:13.235Z"
   },
   {
    "duration": 10,
    "start_time": "2021-12-02T16:08:13.241Z"
   },
   {
    "duration": 6,
    "start_time": "2021-12-02T16:08:13.253Z"
   },
   {
    "duration": 38,
    "start_time": "2021-12-02T16:08:13.261Z"
   },
   {
    "duration": 8,
    "start_time": "2021-12-02T16:08:13.301Z"
   },
   {
    "duration": 14,
    "start_time": "2021-12-02T16:08:13.311Z"
   },
   {
    "duration": 12,
    "start_time": "2021-12-02T16:08:13.327Z"
   },
   {
    "duration": 15,
    "start_time": "2021-12-02T16:08:13.341Z"
   },
   {
    "duration": 8,
    "start_time": "2021-12-02T16:08:13.358Z"
   },
   {
    "duration": 44,
    "start_time": "2021-12-02T16:08:13.367Z"
   },
   {
    "duration": 8,
    "start_time": "2021-12-02T16:08:13.412Z"
   },
   {
    "duration": 4,
    "start_time": "2021-12-02T16:08:13.422Z"
   },
   {
    "duration": 11,
    "start_time": "2021-12-02T16:08:13.427Z"
   },
   {
    "duration": 4415,
    "start_time": "2021-12-02T16:08:13.439Z"
   },
   {
    "duration": 171495,
    "start_time": "2021-12-02T16:05:26.364Z"
   },
   {
    "duration": 171481,
    "start_time": "2021-12-02T16:05:26.380Z"
   },
   {
    "duration": 171468,
    "start_time": "2021-12-02T16:05:26.394Z"
   },
   {
    "duration": 171454,
    "start_time": "2021-12-02T16:05:26.409Z"
   },
   {
    "duration": 171443,
    "start_time": "2021-12-02T16:05:26.422Z"
   },
   {
    "duration": 171430,
    "start_time": "2021-12-02T16:05:26.437Z"
   },
   {
    "duration": 171338,
    "start_time": "2021-12-02T16:05:26.530Z"
   },
   {
    "duration": 171323,
    "start_time": "2021-12-02T16:05:26.547Z"
   },
   {
    "duration": 171309,
    "start_time": "2021-12-02T16:05:26.562Z"
   },
   {
    "duration": 171296,
    "start_time": "2021-12-02T16:05:26.577Z"
   },
   {
    "duration": 171284,
    "start_time": "2021-12-02T16:05:26.590Z"
   },
   {
    "duration": 171270,
    "start_time": "2021-12-02T16:05:26.606Z"
   },
   {
    "duration": 171234,
    "start_time": "2021-12-02T16:05:26.643Z"
   },
   {
    "duration": 171219,
    "start_time": "2021-12-02T16:05:26.660Z"
   },
   {
    "duration": 171206,
    "start_time": "2021-12-02T16:05:26.674Z"
   },
   {
    "duration": 171192,
    "start_time": "2021-12-02T16:05:26.690Z"
   },
   {
    "duration": 171179,
    "start_time": "2021-12-02T16:05:26.704Z"
   },
   {
    "duration": 171165,
    "start_time": "2021-12-02T16:05:26.720Z"
   },
   {
    "duration": 171152,
    "start_time": "2021-12-02T16:05:26.734Z"
   },
   {
    "duration": 171112,
    "start_time": "2021-12-02T16:05:26.776Z"
   },
   {
    "duration": 171097,
    "start_time": "2021-12-02T16:05:26.792Z"
   },
   {
    "duration": 171076,
    "start_time": "2021-12-02T16:05:26.815Z"
   },
   {
    "duration": 171064,
    "start_time": "2021-12-02T16:05:26.828Z"
   },
   {
    "duration": 171051,
    "start_time": "2021-12-02T16:05:26.843Z"
   },
   {
    "duration": 171037,
    "start_time": "2021-12-02T16:05:26.858Z"
   },
   {
    "duration": 171003,
    "start_time": "2021-12-02T16:05:26.894Z"
   },
   {
    "duration": 170988,
    "start_time": "2021-12-02T16:05:26.910Z"
   },
   {
    "duration": 170973,
    "start_time": "2021-12-02T16:05:26.927Z"
   },
   {
    "duration": 170958,
    "start_time": "2021-12-02T16:05:26.943Z"
   },
   {
    "duration": 170943,
    "start_time": "2021-12-02T16:05:26.959Z"
   },
   {
    "duration": 170930,
    "start_time": "2021-12-02T16:05:26.972Z"
   },
   {
    "duration": 170915,
    "start_time": "2021-12-02T16:05:26.988Z"
   },
   {
    "duration": 170880,
    "start_time": "2021-12-02T16:05:27.024Z"
   },
   {
    "duration": 170864,
    "start_time": "2021-12-02T16:05:27.041Z"
   },
   {
    "duration": 170850,
    "start_time": "2021-12-02T16:05:27.056Z"
   },
   {
    "duration": 170836,
    "start_time": "2021-12-02T16:05:27.071Z"
   },
   {
    "duration": 170823,
    "start_time": "2021-12-02T16:05:27.085Z"
   },
   {
    "duration": 170809,
    "start_time": "2021-12-02T16:05:27.100Z"
   },
   {
    "duration": 170759,
    "start_time": "2021-12-02T16:05:27.151Z"
   },
   {
    "duration": 170745,
    "start_time": "2021-12-02T16:05:27.166Z"
   },
   {
    "duration": 170733,
    "start_time": "2021-12-02T16:05:27.179Z"
   },
   {
    "duration": 170719,
    "start_time": "2021-12-02T16:05:27.194Z"
   },
   {
    "duration": 170707,
    "start_time": "2021-12-02T16:05:27.207Z"
   },
   {
    "duration": 170692,
    "start_time": "2021-12-02T16:05:27.223Z"
   },
   {
    "duration": 170679,
    "start_time": "2021-12-02T16:05:27.237Z"
   },
   {
    "duration": 170642,
    "start_time": "2021-12-02T16:05:27.275Z"
   },
   {
    "duration": 170628,
    "start_time": "2021-12-02T16:05:27.290Z"
   },
   {
    "duration": 170614,
    "start_time": "2021-12-02T16:05:27.305Z"
   },
   {
    "duration": 170600,
    "start_time": "2021-12-02T16:05:27.320Z"
   },
   {
    "duration": 170587,
    "start_time": "2021-12-02T16:05:27.334Z"
   },
   {
    "duration": 170573,
    "start_time": "2021-12-02T16:05:27.349Z"
   },
   {
    "duration": 5,
    "start_time": "2021-12-02T16:10:05.748Z"
   },
   {
    "duration": 7,
    "start_time": "2021-12-02T16:10:19.611Z"
   },
   {
    "duration": 9,
    "start_time": "2021-12-02T16:10:20.395Z"
   },
   {
    "duration": 8,
    "start_time": "2021-12-02T16:10:42.517Z"
   },
   {
    "duration": 7,
    "start_time": "2021-12-02T16:10:46.924Z"
   },
   {
    "duration": 2,
    "start_time": "2021-12-02T16:10:54.750Z"
   },
   {
    "duration": 417,
    "start_time": "2021-12-02T16:10:54.754Z"
   },
   {
    "duration": 8,
    "start_time": "2021-12-02T16:10:55.174Z"
   },
   {
    "duration": 26,
    "start_time": "2021-12-02T16:10:55.185Z"
   },
   {
    "duration": 25,
    "start_time": "2021-12-02T16:10:55.213Z"
   },
   {
    "duration": 2,
    "start_time": "2021-12-02T16:10:55.240Z"
   },
   {
    "duration": 7,
    "start_time": "2021-12-02T16:10:55.243Z"
   },
   {
    "duration": 10,
    "start_time": "2021-12-02T16:10:55.251Z"
   },
   {
    "duration": 29,
    "start_time": "2021-12-02T16:10:55.263Z"
   },
   {
    "duration": 17,
    "start_time": "2021-12-02T16:10:55.294Z"
   },
   {
    "duration": 19,
    "start_time": "2021-12-02T16:10:55.312Z"
   },
   {
    "duration": 7,
    "start_time": "2021-12-02T16:10:55.333Z"
   },
   {
    "duration": 12,
    "start_time": "2021-12-02T16:10:55.342Z"
   },
   {
    "duration": 7,
    "start_time": "2021-12-02T16:10:55.356Z"
   },
   {
    "duration": 13,
    "start_time": "2021-12-02T16:10:55.392Z"
   },
   {
    "duration": 16,
    "start_time": "2021-12-02T16:10:55.407Z"
   },
   {
    "duration": 6,
    "start_time": "2021-12-02T16:10:55.425Z"
   },
   {
    "duration": 5,
    "start_time": "2021-12-02T16:10:55.433Z"
   },
   {
    "duration": 7,
    "start_time": "2021-12-02T16:10:55.439Z"
   },
   {
    "duration": 10,
    "start_time": "2021-12-02T16:10:55.448Z"
   },
   {
    "duration": 6,
    "start_time": "2021-12-02T16:10:55.492Z"
   },
   {
    "duration": 8,
    "start_time": "2021-12-02T16:10:55.500Z"
   },
   {
    "duration": 25,
    "start_time": "2021-12-02T16:10:55.509Z"
   },
   {
    "duration": 57,
    "start_time": "2021-12-02T16:10:55.536Z"
   },
   {
    "duration": 9,
    "start_time": "2021-12-02T16:10:55.594Z"
   },
   {
    "duration": 9,
    "start_time": "2021-12-02T16:10:55.604Z"
   },
   {
    "duration": 14,
    "start_time": "2021-12-02T16:10:55.616Z"
   },
   {
    "duration": 25,
    "start_time": "2021-12-02T16:10:55.632Z"
   },
   {
    "duration": 35,
    "start_time": "2021-12-02T16:10:55.659Z"
   },
   {
    "duration": 8,
    "start_time": "2021-12-02T16:10:55.696Z"
   },
   {
    "duration": 18,
    "start_time": "2021-12-02T16:10:55.706Z"
   },
   {
    "duration": 8,
    "start_time": "2021-12-02T16:10:55.725Z"
   },
   {
    "duration": 27,
    "start_time": "2021-12-02T16:10:55.735Z"
   },
   {
    "duration": 32,
    "start_time": "2021-12-02T16:10:55.763Z"
   },
   {
    "duration": 4,
    "start_time": "2021-12-02T16:10:55.797Z"
   },
   {
    "duration": 9,
    "start_time": "2021-12-02T16:10:55.803Z"
   },
   {
    "duration": 5,
    "start_time": "2021-12-02T16:10:55.813Z"
   },
   {
    "duration": 10,
    "start_time": "2021-12-02T16:10:55.820Z"
   },
   {
    "duration": 11,
    "start_time": "2021-12-02T16:10:55.832Z"
   },
   {
    "duration": 7,
    "start_time": "2021-12-02T16:10:55.845Z"
   },
   {
    "duration": 48,
    "start_time": "2021-12-02T16:10:55.854Z"
   },
   {
    "duration": 5,
    "start_time": "2021-12-02T16:10:55.905Z"
   },
   {
    "duration": 10,
    "start_time": "2021-12-02T16:10:55.911Z"
   },
   {
    "duration": 8,
    "start_time": "2021-12-02T16:10:55.922Z"
   },
   {
    "duration": 12,
    "start_time": "2021-12-02T16:10:55.932Z"
   },
   {
    "duration": 9,
    "start_time": "2021-12-02T16:10:55.946Z"
   },
   {
    "duration": 44,
    "start_time": "2021-12-02T16:10:55.957Z"
   },
   {
    "duration": 8,
    "start_time": "2021-12-02T16:10:56.003Z"
   },
   {
    "duration": 18,
    "start_time": "2021-12-02T16:10:56.013Z"
   },
   {
    "duration": 14,
    "start_time": "2021-12-02T16:10:56.033Z"
   },
   {
    "duration": 53,
    "start_time": "2021-12-02T16:10:56.049Z"
   },
   {
    "duration": 8,
    "start_time": "2021-12-02T16:10:56.104Z"
   },
   {
    "duration": 3,
    "start_time": "2021-12-02T16:10:56.114Z"
   },
   {
    "duration": 6,
    "start_time": "2021-12-02T16:10:56.121Z"
   },
   {
    "duration": 4584,
    "start_time": "2021-12-02T16:10:56.129Z"
   },
   {
    "duration": 170055,
    "start_time": "2021-12-02T16:08:10.661Z"
   },
   {
    "duration": 170040,
    "start_time": "2021-12-02T16:08:10.676Z"
   },
   {
    "duration": 170003,
    "start_time": "2021-12-02T16:08:10.715Z"
   },
   {
    "duration": 169990,
    "start_time": "2021-12-02T16:08:10.728Z"
   },
   {
    "duration": 169974,
    "start_time": "2021-12-02T16:08:10.745Z"
   },
   {
    "duration": 169962,
    "start_time": "2021-12-02T16:08:10.758Z"
   },
   {
    "duration": 169948,
    "start_time": "2021-12-02T16:08:10.773Z"
   },
   {
    "duration": 169935,
    "start_time": "2021-12-02T16:08:10.787Z"
   },
   {
    "duration": 169922,
    "start_time": "2021-12-02T16:08:10.801Z"
   },
   {
    "duration": 169886,
    "start_time": "2021-12-02T16:08:10.838Z"
   },
   {
    "duration": 169861,
    "start_time": "2021-12-02T16:08:10.864Z"
   },
   {
    "duration": 169849,
    "start_time": "2021-12-02T16:08:10.877Z"
   },
   {
    "duration": 169835,
    "start_time": "2021-12-02T16:08:10.892Z"
   },
   {
    "duration": 169822,
    "start_time": "2021-12-02T16:08:10.905Z"
   },
   {
    "duration": 169807,
    "start_time": "2021-12-02T16:08:10.921Z"
   },
   {
    "duration": 169771,
    "start_time": "2021-12-02T16:08:10.958Z"
   },
   {
    "duration": 169757,
    "start_time": "2021-12-02T16:08:10.973Z"
   },
   {
    "duration": 169745,
    "start_time": "2021-12-02T16:08:10.986Z"
   },
   {
    "duration": 169730,
    "start_time": "2021-12-02T16:08:11.002Z"
   },
   {
    "duration": 169717,
    "start_time": "2021-12-02T16:08:11.016Z"
   },
   {
    "duration": 169703,
    "start_time": "2021-12-02T16:08:11.031Z"
   },
   {
    "duration": 169690,
    "start_time": "2021-12-02T16:08:11.045Z"
   },
   {
    "duration": 169651,
    "start_time": "2021-12-02T16:08:11.084Z"
   },
   {
    "duration": 169638,
    "start_time": "2021-12-02T16:08:11.098Z"
   },
   {
    "duration": 169623,
    "start_time": "2021-12-02T16:08:11.114Z"
   },
   {
    "duration": 169607,
    "start_time": "2021-12-02T16:08:11.131Z"
   },
   {
    "duration": 169589,
    "start_time": "2021-12-02T16:08:11.150Z"
   },
   {
    "duration": 169575,
    "start_time": "2021-12-02T16:08:11.165Z"
   },
   {
    "duration": 169538,
    "start_time": "2021-12-02T16:08:11.202Z"
   },
   {
    "duration": 169524,
    "start_time": "2021-12-02T16:08:11.217Z"
   },
   {
    "duration": 169511,
    "start_time": "2021-12-02T16:08:11.231Z"
   },
   {
    "duration": 169497,
    "start_time": "2021-12-02T16:08:11.246Z"
   },
   {
    "duration": 169482,
    "start_time": "2021-12-02T16:08:11.262Z"
   },
   {
    "duration": 169470,
    "start_time": "2021-12-02T16:08:11.275Z"
   },
   {
    "duration": 169456,
    "start_time": "2021-12-02T16:08:11.290Z"
   },
   {
    "duration": 169412,
    "start_time": "2021-12-02T16:08:11.335Z"
   },
   {
    "duration": 169396,
    "start_time": "2021-12-02T16:08:11.352Z"
   },
   {
    "duration": 169382,
    "start_time": "2021-12-02T16:08:11.367Z"
   },
   {
    "duration": 169366,
    "start_time": "2021-12-02T16:08:11.383Z"
   },
   {
    "duration": 169351,
    "start_time": "2021-12-02T16:08:11.399Z"
   },
   {
    "duration": 169333,
    "start_time": "2021-12-02T16:08:11.418Z"
   },
   {
    "duration": 169331,
    "start_time": "2021-12-02T16:08:11.461Z"
   },
   {
    "duration": 169311,
    "start_time": "2021-12-02T16:08:11.482Z"
   },
   {
    "duration": 169296,
    "start_time": "2021-12-02T16:08:11.497Z"
   },
   {
    "duration": 169280,
    "start_time": "2021-12-02T16:08:11.514Z"
   },
   {
    "duration": 169267,
    "start_time": "2021-12-02T16:08:11.528Z"
   },
   {
    "duration": 169251,
    "start_time": "2021-12-02T16:08:11.545Z"
   },
   {
    "duration": 169213,
    "start_time": "2021-12-02T16:08:11.584Z"
   },
   {
    "duration": 169198,
    "start_time": "2021-12-02T16:08:11.600Z"
   },
   {
    "duration": 169182,
    "start_time": "2021-12-02T16:08:11.617Z"
   },
   {
    "duration": 169165,
    "start_time": "2021-12-02T16:08:11.635Z"
   },
   {
    "duration": 5,
    "start_time": "2021-12-02T16:11:38.175Z"
   },
   {
    "duration": 7,
    "start_time": "2021-12-02T16:11:38.999Z"
   },
   {
    "duration": 561,
    "start_time": "2021-12-02T16:14:57.119Z"
   },
   {
    "duration": 412,
    "start_time": "2021-12-02T16:14:57.691Z"
   },
   {
    "duration": 15,
    "start_time": "2021-12-02T16:14:58.104Z"
   },
   {
    "duration": 21,
    "start_time": "2021-12-02T16:14:58.120Z"
   },
   {
    "duration": 38,
    "start_time": "2021-12-02T16:14:58.142Z"
   },
   {
    "duration": 11,
    "start_time": "2021-12-02T16:14:58.181Z"
   },
   {
    "duration": 10,
    "start_time": "2021-12-02T16:14:58.194Z"
   },
   {
    "duration": 11,
    "start_time": "2021-12-02T16:14:58.206Z"
   },
   {
    "duration": 8,
    "start_time": "2021-12-02T16:14:58.219Z"
   },
   {
    "duration": 33,
    "start_time": "2021-12-02T16:14:58.229Z"
   },
   {
    "duration": 31,
    "start_time": "2021-12-02T16:14:58.263Z"
   },
   {
    "duration": 10,
    "start_time": "2021-12-02T16:14:58.295Z"
   },
   {
    "duration": 11,
    "start_time": "2021-12-02T16:14:58.306Z"
   },
   {
    "duration": 8,
    "start_time": "2021-12-02T16:14:58.318Z"
   },
   {
    "duration": 16,
    "start_time": "2021-12-02T16:14:58.327Z"
   },
   {
    "duration": 46,
    "start_time": "2021-12-02T16:14:58.345Z"
   },
   {
    "duration": 7,
    "start_time": "2021-12-02T16:14:58.394Z"
   },
   {
    "duration": 5,
    "start_time": "2021-12-02T16:14:58.403Z"
   },
   {
    "duration": 8,
    "start_time": "2021-12-02T16:14:58.410Z"
   },
   {
    "duration": 11,
    "start_time": "2021-12-02T16:14:58.419Z"
   },
   {
    "duration": 7,
    "start_time": "2021-12-02T16:14:58.431Z"
   },
   {
    "duration": 7,
    "start_time": "2021-12-02T16:14:58.439Z"
   },
   {
    "duration": 51,
    "start_time": "2021-12-02T16:14:58.449Z"
   },
   {
    "duration": 39,
    "start_time": "2021-12-02T16:14:58.503Z"
   },
   {
    "duration": 7,
    "start_time": "2021-12-02T16:14:58.544Z"
   },
   {
    "duration": 7,
    "start_time": "2021-12-02T16:14:58.552Z"
   },
   {
    "duration": 36,
    "start_time": "2021-12-02T16:14:58.561Z"
   },
   {
    "duration": 29,
    "start_time": "2021-12-02T16:14:58.598Z"
   },
   {
    "duration": 7,
    "start_time": "2021-12-02T16:14:58.629Z"
   },
   {
    "duration": 8,
    "start_time": "2021-12-02T16:14:58.638Z"
   },
   {
    "duration": 44,
    "start_time": "2021-12-02T16:14:58.647Z"
   },
   {
    "duration": 9,
    "start_time": "2021-12-02T16:14:58.693Z"
   },
   {
    "duration": 28,
    "start_time": "2021-12-02T16:14:58.704Z"
   },
   {
    "duration": 7,
    "start_time": "2021-12-02T16:14:58.734Z"
   },
   {
    "duration": 7,
    "start_time": "2021-12-02T16:14:58.742Z"
   },
   {
    "duration": 8,
    "start_time": "2021-12-02T16:14:58.750Z"
   },
   {
    "duration": 31,
    "start_time": "2021-12-02T16:14:58.760Z"
   },
   {
    "duration": 6,
    "start_time": "2021-12-02T16:14:58.793Z"
   },
   {
    "duration": 5,
    "start_time": "2021-12-02T16:14:58.801Z"
   },
   {
    "duration": 11,
    "start_time": "2021-12-02T16:14:58.807Z"
   },
   {
    "duration": 6,
    "start_time": "2021-12-02T16:14:58.819Z"
   },
   {
    "duration": 5,
    "start_time": "2021-12-02T16:14:58.827Z"
   },
   {
    "duration": 9,
    "start_time": "2021-12-02T16:14:58.833Z"
   },
   {
    "duration": 7,
    "start_time": "2021-12-02T16:14:58.843Z"
   },
   {
    "duration": 8,
    "start_time": "2021-12-02T16:14:58.852Z"
   },
   {
    "duration": 36,
    "start_time": "2021-12-02T16:14:58.861Z"
   },
   {
    "duration": 14,
    "start_time": "2021-12-02T16:14:58.898Z"
   },
   {
    "duration": 10,
    "start_time": "2021-12-02T16:14:58.913Z"
   },
   {
    "duration": 39,
    "start_time": "2021-12-02T16:14:58.925Z"
   },
   {
    "duration": 10,
    "start_time": "2021-12-02T16:14:58.966Z"
   },
   {
    "duration": 30,
    "start_time": "2021-12-02T16:14:58.978Z"
   },
   {
    "duration": 8,
    "start_time": "2021-12-02T16:14:59.010Z"
   },
   {
    "duration": 3,
    "start_time": "2021-12-02T16:14:59.020Z"
   },
   {
    "duration": 4,
    "start_time": "2021-12-02T16:14:59.025Z"
   },
   {
    "duration": 6,
    "start_time": "2021-12-02T16:14:59.031Z"
   },
   {
    "duration": 20,
    "start_time": "2021-12-02T16:14:59.039Z"
   },
   {
    "duration": 2,
    "start_time": "2021-12-02T16:14:59.061Z"
   },
   {
    "duration": 31,
    "start_time": "2021-12-02T16:14:59.064Z"
   },
   {
    "duration": 17,
    "start_time": "2021-12-02T16:14:59.097Z"
   },
   {
    "duration": 5,
    "start_time": "2021-12-02T16:14:59.115Z"
   },
   {
    "duration": 20,
    "start_time": "2021-12-02T16:14:59.121Z"
   },
   {
    "duration": 9,
    "start_time": "2021-12-02T16:14:59.142Z"
   },
   {
    "duration": 96,
    "start_time": "2021-12-02T16:14:59.152Z"
   },
   {
    "duration": 3,
    "start_time": "2021-12-02T16:14:59.249Z"
   },
   {
    "duration": 9,
    "start_time": "2021-12-02T16:14:59.253Z"
   },
   {
    "duration": 10,
    "start_time": "2021-12-02T16:14:59.263Z"
   },
   {
    "duration": 17,
    "start_time": "2021-12-02T16:14:59.275Z"
   },
   {
    "duration": 204,
    "start_time": "2021-12-02T16:14:59.297Z"
   },
   {
    "duration": 4,
    "start_time": "2021-12-02T16:14:59.503Z"
   },
   {
    "duration": 192,
    "start_time": "2021-12-02T16:14:59.509Z"
   },
   {
    "duration": 3,
    "start_time": "2021-12-02T16:14:59.703Z"
   },
   {
    "duration": 6,
    "start_time": "2021-12-02T16:14:59.707Z"
   },
   {
    "duration": 3,
    "start_time": "2021-12-02T16:14:59.715Z"
   },
   {
    "duration": 6,
    "start_time": "2021-12-02T16:14:59.720Z"
   },
   {
    "duration": 5,
    "start_time": "2021-12-02T16:14:59.727Z"
   },
   {
    "duration": 11,
    "start_time": "2021-12-02T16:14:59.734Z"
   },
   {
    "duration": 5,
    "start_time": "2021-12-02T16:14:59.747Z"
   },
   {
    "duration": 6,
    "start_time": "2021-12-02T16:14:59.753Z"
   },
   {
    "duration": 6,
    "start_time": "2021-12-02T16:14:59.761Z"
   },
   {
    "duration": 252,
    "start_time": "2021-12-02T16:14:59.769Z"
   },
   {
    "duration": 4,
    "start_time": "2021-12-02T16:15:00.023Z"
   },
   {
    "duration": 212,
    "start_time": "2021-12-02T16:15:00.029Z"
   },
   {
    "duration": 3,
    "start_time": "2021-12-02T16:15:00.242Z"
   },
   {
    "duration": 10,
    "start_time": "2021-12-02T16:15:00.247Z"
   },
   {
    "duration": 9,
    "start_time": "2021-12-02T16:15:00.259Z"
   },
   {
    "duration": 12,
    "start_time": "2021-12-02T16:15:00.269Z"
   },
   {
    "duration": 9,
    "start_time": "2021-12-02T16:15:00.282Z"
   },
   {
    "duration": 7,
    "start_time": "2021-12-02T16:15:00.293Z"
   },
   {
    "duration": 7,
    "start_time": "2021-12-02T16:15:00.301Z"
   },
   {
    "duration": 10,
    "start_time": "2021-12-02T16:15:00.309Z"
   },
   {
    "duration": 12,
    "start_time": "2021-12-02T16:15:00.320Z"
   },
   {
    "duration": 180,
    "start_time": "2021-12-02T16:15:00.334Z"
   },
   {
    "duration": 5,
    "start_time": "2021-12-02T16:15:00.516Z"
   },
   {
    "duration": 189,
    "start_time": "2021-12-02T16:15:00.523Z"
   },
   {
    "duration": 4,
    "start_time": "2021-12-02T16:15:00.714Z"
   },
   {
    "duration": 14,
    "start_time": "2021-12-02T16:15:00.720Z"
   },
   {
    "duration": 17,
    "start_time": "2021-12-02T16:15:00.735Z"
   },
   {
    "duration": 10,
    "start_time": "2021-12-02T16:15:00.754Z"
   },
   {
    "duration": 8,
    "start_time": "2021-12-02T16:15:00.765Z"
   },
   {
    "duration": 10,
    "start_time": "2021-12-02T16:15:00.774Z"
   },
   {
    "duration": 16,
    "start_time": "2021-12-02T16:15:00.785Z"
   },
   {
    "duration": 16,
    "start_time": "2021-12-02T16:15:00.802Z"
   },
   {
    "duration": 305,
    "start_time": "2021-12-02T16:15:00.819Z"
   },
   {
    "duration": 5,
    "start_time": "2021-12-02T16:15:01.126Z"
   },
   {
    "duration": 11,
    "start_time": "2021-12-02T16:15:01.133Z"
   },
   {
    "duration": 4,
    "start_time": "2021-12-02T16:15:01.146Z"
   },
   {
    "duration": 579,
    "start_time": "2021-12-02T16:16:03.877Z"
   },
   {
    "duration": 438,
    "start_time": "2021-12-02T16:16:04.457Z"
   },
   {
    "duration": 15,
    "start_time": "2021-12-02T16:16:04.897Z"
   },
   {
    "duration": 23,
    "start_time": "2021-12-02T16:16:04.913Z"
   },
   {
    "duration": 30,
    "start_time": "2021-12-02T16:16:04.938Z"
   },
   {
    "duration": 23,
    "start_time": "2021-12-02T16:16:04.970Z"
   },
   {
    "duration": 8,
    "start_time": "2021-12-02T16:16:04.994Z"
   },
   {
    "duration": 10,
    "start_time": "2021-12-02T16:16:05.004Z"
   },
   {
    "duration": 11,
    "start_time": "2021-12-02T16:16:05.016Z"
   },
   {
    "duration": 19,
    "start_time": "2021-12-02T16:16:05.029Z"
   },
   {
    "duration": 57,
    "start_time": "2021-12-02T16:16:05.050Z"
   },
   {
    "duration": 12,
    "start_time": "2021-12-02T16:16:05.109Z"
   },
   {
    "duration": 13,
    "start_time": "2021-12-02T16:16:05.123Z"
   },
   {
    "duration": 14,
    "start_time": "2021-12-02T16:16:05.138Z"
   },
   {
    "duration": 16,
    "start_time": "2021-12-02T16:16:05.154Z"
   },
   {
    "duration": 20,
    "start_time": "2021-12-02T16:16:05.191Z"
   },
   {
    "duration": 8,
    "start_time": "2021-12-02T16:16:05.213Z"
   },
   {
    "duration": 10,
    "start_time": "2021-12-02T16:16:05.222Z"
   },
   {
    "duration": 12,
    "start_time": "2021-12-02T16:16:05.234Z"
   },
   {
    "duration": 10,
    "start_time": "2021-12-02T16:16:05.248Z"
   },
   {
    "duration": 10,
    "start_time": "2021-12-02T16:16:05.260Z"
   },
   {
    "duration": 10,
    "start_time": "2021-12-02T16:16:05.292Z"
   },
   {
    "duration": 24,
    "start_time": "2021-12-02T16:16:05.306Z"
   },
   {
    "duration": 39,
    "start_time": "2021-12-02T16:16:05.333Z"
   },
   {
    "duration": 8,
    "start_time": "2021-12-02T16:16:05.392Z"
   },
   {
    "duration": 11,
    "start_time": "2021-12-02T16:16:05.401Z"
   },
   {
    "duration": 16,
    "start_time": "2021-12-02T16:16:05.413Z"
   },
   {
    "duration": 31,
    "start_time": "2021-12-02T16:16:05.430Z"
   },
   {
    "duration": 31,
    "start_time": "2021-12-02T16:16:05.462Z"
   },
   {
    "duration": 11,
    "start_time": "2021-12-02T16:16:05.495Z"
   },
   {
    "duration": 20,
    "start_time": "2021-12-02T16:16:05.507Z"
   },
   {
    "duration": 9,
    "start_time": "2021-12-02T16:16:05.528Z"
   },
   {
    "duration": 28,
    "start_time": "2021-12-02T16:16:05.538Z"
   },
   {
    "duration": 8,
    "start_time": "2021-12-02T16:16:05.591Z"
   },
   {
    "duration": 7,
    "start_time": "2021-12-02T16:16:05.600Z"
   },
   {
    "duration": 18,
    "start_time": "2021-12-02T16:16:05.609Z"
   },
   {
    "duration": 7,
    "start_time": "2021-12-02T16:16:05.628Z"
   },
   {
    "duration": 10,
    "start_time": "2021-12-02T16:16:05.636Z"
   },
   {
    "duration": 6,
    "start_time": "2021-12-02T16:16:05.648Z"
   },
   {
    "duration": 8,
    "start_time": "2021-12-02T16:16:05.655Z"
   },
   {
    "duration": 6,
    "start_time": "2021-12-02T16:16:05.665Z"
   },
   {
    "duration": 19,
    "start_time": "2021-12-02T16:16:05.672Z"
   },
   {
    "duration": 9,
    "start_time": "2021-12-02T16:16:05.693Z"
   },
   {
    "duration": 6,
    "start_time": "2021-12-02T16:16:05.704Z"
   },
   {
    "duration": 13,
    "start_time": "2021-12-02T16:16:05.712Z"
   },
   {
    "duration": 8,
    "start_time": "2021-12-02T16:16:05.726Z"
   },
   {
    "duration": 15,
    "start_time": "2021-12-02T16:16:05.735Z"
   },
   {
    "duration": 6,
    "start_time": "2021-12-02T16:16:05.752Z"
   },
   {
    "duration": 32,
    "start_time": "2021-12-02T16:16:05.760Z"
   },
   {
    "duration": 8,
    "start_time": "2021-12-02T16:16:05.794Z"
   },
   {
    "duration": 23,
    "start_time": "2021-12-02T16:16:05.804Z"
   },
   {
    "duration": 13,
    "start_time": "2021-12-02T16:16:05.829Z"
   },
   {
    "duration": 4,
    "start_time": "2021-12-02T16:16:05.844Z"
   },
   {
    "duration": 9,
    "start_time": "2021-12-02T16:16:05.850Z"
   },
   {
    "duration": 31,
    "start_time": "2021-12-02T16:16:05.861Z"
   },
   {
    "duration": 24,
    "start_time": "2021-12-02T16:16:05.894Z"
   },
   {
    "duration": 3,
    "start_time": "2021-12-02T16:16:05.920Z"
   },
   {
    "duration": 10,
    "start_time": "2021-12-02T16:16:05.925Z"
   },
   {
    "duration": 18,
    "start_time": "2021-12-02T16:16:05.936Z"
   },
   {
    "duration": 8,
    "start_time": "2021-12-02T16:16:05.956Z"
   },
   {
    "duration": 41,
    "start_time": "2021-12-02T16:16:05.966Z"
   },
   {
    "duration": 13,
    "start_time": "2021-12-02T16:16:06.009Z"
   },
   {
    "duration": 86,
    "start_time": "2021-12-02T16:16:06.023Z"
   },
   {
    "duration": 2,
    "start_time": "2021-12-02T16:16:06.111Z"
   },
   {
    "duration": 18,
    "start_time": "2021-12-02T16:16:06.114Z"
   },
   {
    "duration": 20,
    "start_time": "2021-12-02T16:16:06.133Z"
   },
   {
    "duration": 15,
    "start_time": "2021-12-02T16:16:06.155Z"
   },
   {
    "duration": 217,
    "start_time": "2021-12-02T16:16:06.176Z"
   },
   {
    "duration": 4,
    "start_time": "2021-12-02T16:16:06.396Z"
   },
   {
    "duration": 197,
    "start_time": "2021-12-02T16:16:06.401Z"
   },
   {
    "duration": 3,
    "start_time": "2021-12-02T16:16:06.599Z"
   },
   {
    "duration": 7,
    "start_time": "2021-12-02T16:16:06.603Z"
   },
   {
    "duration": 5,
    "start_time": "2021-12-02T16:16:06.611Z"
   },
   {
    "duration": 7,
    "start_time": "2021-12-02T16:16:06.617Z"
   },
   {
    "duration": 4,
    "start_time": "2021-12-02T16:16:06.626Z"
   },
   {
    "duration": 6,
    "start_time": "2021-12-02T16:16:06.631Z"
   },
   {
    "duration": 5,
    "start_time": "2021-12-02T16:16:06.638Z"
   },
   {
    "duration": 5,
    "start_time": "2021-12-02T16:16:06.644Z"
   },
   {
    "duration": 4,
    "start_time": "2021-12-02T16:16:06.651Z"
   },
   {
    "duration": 258,
    "start_time": "2021-12-02T16:16:06.657Z"
   },
   {
    "duration": 5,
    "start_time": "2021-12-02T16:16:06.917Z"
   },
   {
    "duration": 210,
    "start_time": "2021-12-02T16:16:06.924Z"
   },
   {
    "duration": 3,
    "start_time": "2021-12-02T16:16:07.135Z"
   },
   {
    "duration": 6,
    "start_time": "2021-12-02T16:16:07.140Z"
   },
   {
    "duration": 5,
    "start_time": "2021-12-02T16:16:07.148Z"
   },
   {
    "duration": 7,
    "start_time": "2021-12-02T16:16:07.154Z"
   },
   {
    "duration": 5,
    "start_time": "2021-12-02T16:16:07.163Z"
   },
   {
    "duration": 6,
    "start_time": "2021-12-02T16:16:07.169Z"
   },
   {
    "duration": 4,
    "start_time": "2021-12-02T16:16:07.191Z"
   },
   {
    "duration": 6,
    "start_time": "2021-12-02T16:16:07.197Z"
   },
   {
    "duration": 5,
    "start_time": "2021-12-02T16:16:07.204Z"
   },
   {
    "duration": 210,
    "start_time": "2021-12-02T16:16:07.210Z"
   },
   {
    "duration": 4,
    "start_time": "2021-12-02T16:16:07.421Z"
   },
   {
    "duration": 197,
    "start_time": "2021-12-02T16:16:07.427Z"
   },
   {
    "duration": 2,
    "start_time": "2021-12-02T16:16:07.626Z"
   },
   {
    "duration": 16,
    "start_time": "2021-12-02T16:16:07.630Z"
   },
   {
    "duration": 16,
    "start_time": "2021-12-02T16:16:07.647Z"
   },
   {
    "duration": 30,
    "start_time": "2021-12-02T16:16:07.664Z"
   },
   {
    "duration": 19,
    "start_time": "2021-12-02T16:16:07.695Z"
   },
   {
    "duration": 12,
    "start_time": "2021-12-02T16:16:07.715Z"
   },
   {
    "duration": 24,
    "start_time": "2021-12-02T16:16:07.728Z"
   },
   {
    "duration": 28,
    "start_time": "2021-12-02T16:16:07.754Z"
   },
   {
    "duration": 355,
    "start_time": "2021-12-02T16:16:07.783Z"
   },
   {
    "duration": 4,
    "start_time": "2021-12-02T16:16:08.140Z"
   },
   {
    "duration": 11,
    "start_time": "2021-12-02T16:16:08.146Z"
   },
   {
    "duration": 6,
    "start_time": "2021-12-02T16:16:08.158Z"
   },
   {
    "duration": 8,
    "start_time": "2021-12-02T16:17:13.772Z"
   },
   {
    "duration": 10,
    "start_time": "2021-12-02T16:17:36.694Z"
   },
   {
    "duration": 11,
    "start_time": "2021-12-02T16:17:39.048Z"
   },
   {
    "duration": 4,
    "start_time": "2021-12-02T16:18:07.083Z"
   },
   {
    "duration": 7,
    "start_time": "2021-12-02T16:18:13.120Z"
   },
   {
    "duration": 9,
    "start_time": "2021-12-02T16:18:17.480Z"
   },
   {
    "duration": 11,
    "start_time": "2021-12-02T16:18:18.523Z"
   },
   {
    "duration": 8,
    "start_time": "2021-12-02T16:18:59.773Z"
   },
   {
    "duration": 9,
    "start_time": "2021-12-02T16:19:05.823Z"
   },
   {
    "duration": 10,
    "start_time": "2021-12-02T16:19:07.000Z"
   },
   {
    "duration": 9,
    "start_time": "2021-12-02T16:19:14.677Z"
   },
   {
    "duration": 14,
    "start_time": "2021-12-02T16:19:16.302Z"
   },
   {
    "duration": 9,
    "start_time": "2021-12-02T16:19:19.967Z"
   },
   {
    "duration": 17,
    "start_time": "2021-12-02T16:19:20.743Z"
   },
   {
    "duration": 54,
    "start_time": "2021-12-02T16:27:01.527Z"
   },
   {
    "duration": 8,
    "start_time": "2021-12-02T16:29:01.060Z"
   },
   {
    "duration": 17,
    "start_time": "2021-12-02T16:29:02.000Z"
   },
   {
    "duration": 569,
    "start_time": "2021-12-29T18:41:43.388Z"
   },
   {
    "duration": 405,
    "start_time": "2021-12-29T18:41:43.958Z"
   },
   {
    "duration": 16,
    "start_time": "2021-12-29T18:41:44.366Z"
   },
   {
    "duration": 24,
    "start_time": "2021-12-29T18:41:44.385Z"
   },
   {
    "duration": 31,
    "start_time": "2021-12-29T18:41:44.411Z"
   },
   {
    "duration": 3,
    "start_time": "2021-12-29T18:41:44.444Z"
   },
   {
    "duration": 9,
    "start_time": "2021-12-29T18:41:44.448Z"
   },
   {
    "duration": 33,
    "start_time": "2021-12-29T18:41:44.460Z"
   },
   {
    "duration": 8,
    "start_time": "2021-12-29T18:41:44.496Z"
   },
   {
    "duration": 18,
    "start_time": "2021-12-29T18:41:44.506Z"
   },
   {
    "duration": 24,
    "start_time": "2021-12-29T18:41:44.526Z"
   },
   {
    "duration": 42,
    "start_time": "2021-12-29T18:41:44.552Z"
   },
   {
    "duration": 9,
    "start_time": "2021-12-29T18:41:44.596Z"
   },
   {
    "duration": 8,
    "start_time": "2021-12-29T18:41:44.607Z"
   },
   {
    "duration": 17,
    "start_time": "2021-12-29T18:41:44.617Z"
   },
   {
    "duration": 56,
    "start_time": "2021-12-29T18:41:44.636Z"
   },
   {
    "duration": 8,
    "start_time": "2021-12-29T18:41:44.694Z"
   },
   {
    "duration": 5,
    "start_time": "2021-12-29T18:41:44.704Z"
   },
   {
    "duration": 8,
    "start_time": "2021-12-29T18:41:44.710Z"
   },
   {
    "duration": 11,
    "start_time": "2021-12-29T18:41:44.719Z"
   },
   {
    "duration": 7,
    "start_time": "2021-12-29T18:41:44.731Z"
   },
   {
    "duration": 10,
    "start_time": "2021-12-29T18:41:44.740Z"
   },
   {
    "duration": 55,
    "start_time": "2021-12-29T18:41:44.753Z"
   },
   {
    "duration": 40,
    "start_time": "2021-12-29T18:41:44.810Z"
   },
   {
    "duration": 9,
    "start_time": "2021-12-29T18:41:44.853Z"
   },
   {
    "duration": 31,
    "start_time": "2021-12-29T18:41:44.864Z"
   },
   {
    "duration": 17,
    "start_time": "2021-12-29T18:41:44.897Z"
   },
   {
    "duration": 37,
    "start_time": "2021-12-29T18:41:44.916Z"
   },
   {
    "duration": 18,
    "start_time": "2021-12-29T18:41:44.955Z"
   },
   {
    "duration": 21,
    "start_time": "2021-12-29T18:41:44.976Z"
   },
   {
    "duration": 26,
    "start_time": "2021-12-29T18:41:44.999Z"
   },
   {
    "duration": 10,
    "start_time": "2021-12-29T18:41:45.026Z"
   },
   {
    "duration": 35,
    "start_time": "2021-12-29T18:41:45.037Z"
   },
   {
    "duration": 23,
    "start_time": "2021-12-29T18:41:45.074Z"
   },
   {
    "duration": 5,
    "start_time": "2021-12-29T18:41:45.099Z"
   },
   {
    "duration": 8,
    "start_time": "2021-12-29T18:41:45.105Z"
   },
   {
    "duration": 4,
    "start_time": "2021-12-29T18:41:45.115Z"
   },
   {
    "duration": 8,
    "start_time": "2021-12-29T18:41:45.121Z"
   },
   {
    "duration": 4,
    "start_time": "2021-12-29T18:41:45.131Z"
   },
   {
    "duration": 8,
    "start_time": "2021-12-29T18:41:45.137Z"
   },
   {
    "duration": 5,
    "start_time": "2021-12-29T18:41:45.147Z"
   },
   {
    "duration": 38,
    "start_time": "2021-12-29T18:41:45.153Z"
   },
   {
    "duration": 4,
    "start_time": "2021-12-29T18:41:45.193Z"
   },
   {
    "duration": 10,
    "start_time": "2021-12-29T18:41:45.199Z"
   },
   {
    "duration": 8,
    "start_time": "2021-12-29T18:41:45.210Z"
   },
   {
    "duration": 9,
    "start_time": "2021-12-29T18:41:45.219Z"
   },
   {
    "duration": 7,
    "start_time": "2021-12-29T18:41:45.230Z"
   },
   {
    "duration": 14,
    "start_time": "2021-12-29T18:41:45.238Z"
   },
   {
    "duration": 43,
    "start_time": "2021-12-29T18:41:45.254Z"
   },
   {
    "duration": 16,
    "start_time": "2021-12-29T18:41:45.299Z"
   },
   {
    "duration": 8,
    "start_time": "2021-12-29T18:41:45.316Z"
   },
   {
    "duration": 21,
    "start_time": "2021-12-29T18:41:45.326Z"
   },
   {
    "duration": 8,
    "start_time": "2021-12-29T18:41:45.348Z"
   },
   {
    "duration": 3,
    "start_time": "2021-12-29T18:41:45.391Z"
   },
   {
    "duration": 6,
    "start_time": "2021-12-29T18:41:45.396Z"
   },
   {
    "duration": 5,
    "start_time": "2021-12-29T18:41:45.403Z"
   },
   {
    "duration": 30,
    "start_time": "2021-12-29T18:41:45.410Z"
   },
   {
    "duration": 3,
    "start_time": "2021-12-29T18:41:45.441Z"
   },
   {
    "duration": 9,
    "start_time": "2021-12-29T18:41:45.445Z"
   },
   {
    "duration": 39,
    "start_time": "2021-12-29T18:41:45.456Z"
   },
   {
    "duration": 7,
    "start_time": "2021-12-29T18:41:45.496Z"
   },
   {
    "duration": 20,
    "start_time": "2021-12-29T18:41:45.504Z"
   },
   {
    "duration": 10,
    "start_time": "2021-12-29T18:41:45.526Z"
   },
   {
    "duration": 100,
    "start_time": "2021-12-29T18:41:45.538Z"
   },
   {
    "duration": 3,
    "start_time": "2021-12-29T18:41:45.639Z"
   },
   {
    "duration": 8,
    "start_time": "2021-12-29T18:41:45.644Z"
   },
   {
    "duration": 8,
    "start_time": "2021-12-29T18:41:45.653Z"
   },
   {
    "duration": 4,
    "start_time": "2021-12-29T18:41:45.667Z"
   },
   {
    "duration": 208,
    "start_time": "2021-12-29T18:41:45.692Z"
   },
   {
    "duration": 5,
    "start_time": "2021-12-29T18:41:45.902Z"
   },
   {
    "duration": 200,
    "start_time": "2021-12-29T18:41:45.909Z"
   },
   {
    "duration": 3,
    "start_time": "2021-12-29T18:41:46.111Z"
   },
   {
    "duration": 10,
    "start_time": "2021-12-29T18:41:46.116Z"
   },
   {
    "duration": 5,
    "start_time": "2021-12-29T18:41:46.127Z"
   },
   {
    "duration": 5,
    "start_time": "2021-12-29T18:41:46.134Z"
   },
   {
    "duration": 5,
    "start_time": "2021-12-29T18:41:46.140Z"
   },
   {
    "duration": 5,
    "start_time": "2021-12-29T18:41:46.146Z"
   },
   {
    "duration": 5,
    "start_time": "2021-12-29T18:41:46.152Z"
   },
   {
    "duration": 6,
    "start_time": "2021-12-29T18:41:46.158Z"
   },
   {
    "duration": 5,
    "start_time": "2021-12-29T18:41:46.192Z"
   },
   {
    "duration": 233,
    "start_time": "2021-12-29T18:41:46.198Z"
   },
   {
    "duration": 4,
    "start_time": "2021-12-29T18:41:46.433Z"
   },
   {
    "duration": 195,
    "start_time": "2021-12-29T18:41:46.439Z"
   },
   {
    "duration": 3,
    "start_time": "2021-12-29T18:41:46.636Z"
   },
   {
    "duration": 7,
    "start_time": "2021-12-29T18:41:46.641Z"
   },
   {
    "duration": 4,
    "start_time": "2021-12-29T18:41:46.650Z"
   },
   {
    "duration": 6,
    "start_time": "2021-12-29T18:41:46.655Z"
   },
   {
    "duration": 4,
    "start_time": "2021-12-29T18:41:46.662Z"
   },
   {
    "duration": 24,
    "start_time": "2021-12-29T18:41:46.668Z"
   },
   {
    "duration": 6,
    "start_time": "2021-12-29T18:41:46.694Z"
   },
   {
    "duration": 10,
    "start_time": "2021-12-29T18:41:46.701Z"
   },
   {
    "duration": 5,
    "start_time": "2021-12-29T18:41:46.713Z"
   },
   {
    "duration": 200,
    "start_time": "2021-12-29T18:41:46.720Z"
   },
   {
    "duration": 4,
    "start_time": "2021-12-29T18:41:46.922Z"
   },
   {
    "duration": 197,
    "start_time": "2021-12-29T18:41:46.927Z"
   },
   {
    "duration": 3,
    "start_time": "2021-12-29T18:41:47.126Z"
   },
   {
    "duration": 7,
    "start_time": "2021-12-29T18:41:47.130Z"
   },
   {
    "duration": 7,
    "start_time": "2021-12-29T18:41:47.138Z"
   },
   {
    "duration": 11,
    "start_time": "2021-12-29T18:41:47.146Z"
   },
   {
    "duration": 6,
    "start_time": "2021-12-29T18:41:47.158Z"
   },
   {
    "duration": 5,
    "start_time": "2021-12-29T18:41:47.165Z"
   },
   {
    "duration": 6,
    "start_time": "2021-12-29T18:41:47.172Z"
   },
   {
    "duration": 3,
    "start_time": "2021-12-29T18:41:47.192Z"
   },
   {
    "duration": 336,
    "start_time": "2021-12-29T18:41:47.197Z"
   },
   {
    "duration": 5,
    "start_time": "2021-12-29T18:41:47.535Z"
   },
   {
    "duration": 16,
    "start_time": "2021-12-29T18:41:47.541Z"
   },
   {
    "duration": 5,
    "start_time": "2021-12-29T18:41:47.558Z"
   },
   {
    "duration": 417,
    "start_time": "2021-12-29T18:43:38.081Z"
   },
   {
    "duration": 8,
    "start_time": "2021-12-29T18:43:39.723Z"
   },
   {
    "duration": 21,
    "start_time": "2021-12-29T18:43:39.964Z"
   },
   {
    "duration": 26,
    "start_time": "2021-12-29T18:43:40.383Z"
   },
   {
    "duration": 3,
    "start_time": "2021-12-29T18:43:40.796Z"
   },
   {
    "duration": 4,
    "start_time": "2021-12-29T18:43:40.959Z"
   },
   {
    "duration": 8,
    "start_time": "2021-12-29T18:43:41.159Z"
   },
   {
    "duration": 8,
    "start_time": "2021-12-29T18:43:43.574Z"
   },
   {
    "duration": 18,
    "start_time": "2021-12-29T18:43:43.764Z"
   },
   {
    "duration": 20,
    "start_time": "2021-12-29T18:43:44.051Z"
   },
   {
    "duration": 3,
    "start_time": "2021-12-29T18:44:08.239Z"
   },
   {
    "duration": 453,
    "start_time": "2021-12-29T18:44:08.248Z"
   },
   {
    "duration": 8,
    "start_time": "2021-12-29T18:44:08.702Z"
   },
   {
    "duration": 25,
    "start_time": "2021-12-29T18:44:08.712Z"
   },
   {
    "duration": 27,
    "start_time": "2021-12-29T18:44:08.739Z"
   },
   {
    "duration": 2,
    "start_time": "2021-12-29T18:44:08.768Z"
   },
   {
    "duration": 23,
    "start_time": "2021-12-29T18:44:08.772Z"
   },
   {
    "duration": 9,
    "start_time": "2021-12-29T18:44:08.796Z"
   },
   {
    "duration": 11,
    "start_time": "2021-12-29T18:44:08.807Z"
   },
   {
    "duration": 18,
    "start_time": "2021-12-29T18:44:08.820Z"
   },
   {
    "duration": 18,
    "start_time": "2021-12-29T18:44:08.840Z"
   },
   {
    "duration": 32,
    "start_time": "2021-12-29T18:44:08.860Z"
   },
   {
    "duration": 7,
    "start_time": "2021-12-29T18:44:08.893Z"
   },
   {
    "duration": 20,
    "start_time": "2021-12-29T18:44:08.901Z"
   },
   {
    "duration": 17,
    "start_time": "2021-12-29T18:44:08.922Z"
   },
   {
    "duration": 8,
    "start_time": "2021-12-29T18:44:08.940Z"
   },
   {
    "duration": 6,
    "start_time": "2021-12-29T18:44:08.949Z"
   },
   {
    "duration": 10,
    "start_time": "2021-12-29T18:44:08.956Z"
   },
   {
    "duration": 9,
    "start_time": "2021-12-29T18:44:08.992Z"
   },
   {
    "duration": 10,
    "start_time": "2021-12-29T18:44:09.003Z"
   },
   {
    "duration": 10,
    "start_time": "2021-12-29T18:44:09.015Z"
   },
   {
    "duration": 28,
    "start_time": "2021-12-29T18:44:09.027Z"
   },
   {
    "duration": 47,
    "start_time": "2021-12-29T18:44:09.056Z"
   },
   {
    "duration": 8,
    "start_time": "2021-12-29T18:44:09.106Z"
   },
   {
    "duration": 9,
    "start_time": "2021-12-29T18:44:09.116Z"
   },
   {
    "duration": 18,
    "start_time": "2021-12-29T18:44:09.126Z"
   },
   {
    "duration": 45,
    "start_time": "2021-12-29T18:44:09.146Z"
   },
   {
    "duration": 8,
    "start_time": "2021-12-29T18:44:09.193Z"
   },
   {
    "duration": 10,
    "start_time": "2021-12-29T18:44:09.202Z"
   },
   {
    "duration": 21,
    "start_time": "2021-12-29T18:44:09.213Z"
   },
   {
    "duration": 9,
    "start_time": "2021-12-29T18:44:09.236Z"
   },
   {
    "duration": 55,
    "start_time": "2021-12-29T18:44:09.246Z"
   },
   {
    "duration": 8,
    "start_time": "2021-12-29T18:44:09.302Z"
   },
   {
    "duration": 5,
    "start_time": "2021-12-29T18:44:09.312Z"
   },
   {
    "duration": 12,
    "start_time": "2021-12-29T18:44:09.319Z"
   },
   {
    "duration": 10,
    "start_time": "2021-12-29T18:44:09.333Z"
   },
   {
    "duration": 11,
    "start_time": "2021-12-29T18:44:09.345Z"
   },
   {
    "duration": 8,
    "start_time": "2021-12-29T18:44:09.358Z"
   },
   {
    "duration": 24,
    "start_time": "2021-12-29T18:44:09.368Z"
   },
   {
    "duration": 4,
    "start_time": "2021-12-29T18:44:09.394Z"
   },
   {
    "duration": 5,
    "start_time": "2021-12-29T18:44:09.400Z"
   },
   {
    "duration": 9,
    "start_time": "2021-12-29T18:44:09.406Z"
   },
   {
    "duration": 14,
    "start_time": "2021-12-29T18:44:09.417Z"
   },
   {
    "duration": 9,
    "start_time": "2021-12-29T18:44:09.432Z"
   },
   {
    "duration": 12,
    "start_time": "2021-12-29T18:44:09.442Z"
   },
   {
    "duration": 8,
    "start_time": "2021-12-29T18:44:09.456Z"
   },
   {
    "duration": 16,
    "start_time": "2021-12-29T18:44:09.492Z"
   },
   {
    "duration": 7,
    "start_time": "2021-12-29T18:44:09.510Z"
   },
   {
    "duration": 18,
    "start_time": "2021-12-29T18:44:09.518Z"
   },
   {
    "duration": 13,
    "start_time": "2021-12-29T18:44:09.538Z"
   },
   {
    "duration": 40,
    "start_time": "2021-12-29T18:44:09.553Z"
   },
   {
    "duration": 7,
    "start_time": "2021-12-29T18:44:09.595Z"
   },
   {
    "duration": 16,
    "start_time": "2021-12-29T18:44:09.604Z"
   },
   {
    "duration": 12,
    "start_time": "2021-12-29T18:44:09.621Z"
   },
   {
    "duration": 28,
    "start_time": "2021-12-29T18:44:09.635Z"
   },
   {
    "duration": 25,
    "start_time": "2021-12-29T18:44:09.664Z"
   },
   {
    "duration": 5,
    "start_time": "2021-12-29T18:44:09.690Z"
   },
   {
    "duration": 24,
    "start_time": "2021-12-29T18:44:09.697Z"
   },
   {
    "duration": 24,
    "start_time": "2021-12-29T18:44:09.722Z"
   },
   {
    "duration": 8,
    "start_time": "2021-12-29T18:44:09.747Z"
   },
   {
    "duration": 25,
    "start_time": "2021-12-29T18:44:09.757Z"
   },
   {
    "duration": 13,
    "start_time": "2021-12-29T18:44:09.783Z"
   },
   {
    "duration": 16,
    "start_time": "2021-12-29T18:44:09.797Z"
   },
   {
    "duration": 9,
    "start_time": "2021-12-29T18:44:09.815Z"
   },
   {
    "duration": 24,
    "start_time": "2021-12-29T18:44:09.826Z"
   },
   {
    "duration": 15,
    "start_time": "2021-12-29T18:44:09.852Z"
   },
   {
    "duration": 13,
    "start_time": "2021-12-29T18:44:09.868Z"
   },
   {
    "duration": 216,
    "start_time": "2021-12-29T18:44:09.882Z"
   },
   {
    "duration": 4,
    "start_time": "2021-12-29T18:44:10.100Z"
   },
   {
    "duration": 263,
    "start_time": "2021-12-29T18:44:10.105Z"
   },
   {
    "duration": 3,
    "start_time": "2021-12-29T18:44:10.370Z"
   },
   {
    "duration": 16,
    "start_time": "2021-12-29T18:44:10.375Z"
   },
   {
    "duration": 3,
    "start_time": "2021-12-29T18:44:10.393Z"
   },
   {
    "duration": 8,
    "start_time": "2021-12-29T18:44:10.397Z"
   },
   {
    "duration": 5,
    "start_time": "2021-12-29T18:44:10.406Z"
   },
   {
    "duration": 4,
    "start_time": "2021-12-29T18:44:10.415Z"
   },
   {
    "duration": 6,
    "start_time": "2021-12-29T18:44:10.421Z"
   },
   {
    "duration": 7,
    "start_time": "2021-12-29T18:44:10.429Z"
   },
   {
    "duration": 7,
    "start_time": "2021-12-29T18:44:10.437Z"
   },
   {
    "duration": 205,
    "start_time": "2021-12-29T18:44:10.445Z"
   },
   {
    "duration": 4,
    "start_time": "2021-12-29T18:44:10.652Z"
   },
   {
    "duration": 206,
    "start_time": "2021-12-29T18:44:10.657Z"
   },
   {
    "duration": 4,
    "start_time": "2021-12-29T18:44:10.864Z"
   },
   {
    "duration": 8,
    "start_time": "2021-12-29T18:44:10.870Z"
   },
   {
    "duration": 12,
    "start_time": "2021-12-29T18:44:10.879Z"
   },
   {
    "duration": 4,
    "start_time": "2021-12-29T18:44:10.893Z"
   },
   {
    "duration": 7,
    "start_time": "2021-12-29T18:44:10.898Z"
   },
   {
    "duration": 7,
    "start_time": "2021-12-29T18:44:10.906Z"
   },
   {
    "duration": 10,
    "start_time": "2021-12-29T18:44:10.915Z"
   },
   {
    "duration": 13,
    "start_time": "2021-12-29T18:44:10.927Z"
   },
   {
    "duration": 15,
    "start_time": "2021-12-29T18:44:10.941Z"
   },
   {
    "duration": 207,
    "start_time": "2021-12-29T18:44:10.957Z"
   },
   {
    "duration": 5,
    "start_time": "2021-12-29T18:44:11.166Z"
   },
   {
    "duration": 205,
    "start_time": "2021-12-29T18:44:11.173Z"
   },
   {
    "duration": 11,
    "start_time": "2021-12-29T18:44:11.380Z"
   },
   {
    "duration": 4,
    "start_time": "2021-12-29T18:44:11.393Z"
   },
   {
    "duration": 6,
    "start_time": "2021-12-29T18:44:11.399Z"
   },
   {
    "duration": 6,
    "start_time": "2021-12-29T18:44:11.407Z"
   },
   {
    "duration": 8,
    "start_time": "2021-12-29T18:44:11.415Z"
   },
   {
    "duration": 6,
    "start_time": "2021-12-29T18:44:11.424Z"
   },
   {
    "duration": 5,
    "start_time": "2021-12-29T18:44:11.432Z"
   },
   {
    "duration": 10,
    "start_time": "2021-12-29T18:44:11.439Z"
   },
   {
    "duration": 5,
    "start_time": "2021-12-29T18:44:11.451Z"
   },
   {
    "duration": 36,
    "start_time": "2021-12-29T18:44:11.458Z"
   },
   {
    "duration": 11,
    "start_time": "2021-12-29T18:44:11.496Z"
   },
   {
    "duration": 6,
    "start_time": "2021-12-29T18:44:11.508Z"
   }
  ],
  "kernelspec": {
   "display_name": "Python 3",
   "language": "python",
   "name": "python3"
  },
  "language_info": {
   "codemirror_mode": {
    "name": "ipython",
    "version": 3
   },
   "file_extension": ".py",
   "mimetype": "text/x-python",
   "name": "python",
   "nbconvert_exporter": "python",
   "pygments_lexer": "ipython3",
   "version": "3.7.8"
  },
  "toc": {
   "base_numbering": 1,
   "nav_menu": {},
   "number_sections": true,
   "sideBar": true,
   "skip_h1_title": true,
   "title_cell": "Table of Contents",
   "title_sidebar": "Contents",
   "toc_cell": false,
   "toc_position": {
    "height": "calc(100% - 180px)",
    "left": "10px",
    "top": "150px",
    "width": "246px"
   },
   "toc_section_display": true,
   "toc_window_display": false
  }
 },
 "nbformat": 4,
 "nbformat_minor": 2
}
