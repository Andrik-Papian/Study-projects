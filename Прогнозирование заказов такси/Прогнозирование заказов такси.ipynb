{
 "cells": [
  {
   "cell_type": "markdown",
   "metadata": {
    "toc": true
   },
   "source": [
    "<h1>Содержание<span class=\"tocSkip\"></span></h1>\n",
    "<div class=\"toc\"><ul class=\"toc-item\"><li><span><a href=\"#Подготовка\" data-toc-modified-id=\"Подготовка-1\"><span class=\"toc-item-num\">1&nbsp;&nbsp;</span>Подготовка</a></span></li><li><span><a href=\"#Анализ\" data-toc-modified-id=\"Анализ-2\"><span class=\"toc-item-num\">2&nbsp;&nbsp;</span>Анализ</a></span></li><li><span><a href=\"#Обучение\" data-toc-modified-id=\"Обучение-3\"><span class=\"toc-item-num\">3&nbsp;&nbsp;</span>Обучение</a></span><ul class=\"toc-item\"><li><span><a href=\"#Линейная-регрессия.\" data-toc-modified-id=\"Линейная-регрессия.-3.1\"><span class=\"toc-item-num\">3.1&nbsp;&nbsp;</span>Линейная регрессия.</a></span></li><li><span><a href=\"#Случайный-лес.\" data-toc-modified-id=\"Случайный-лес.-3.2\"><span class=\"toc-item-num\">3.2&nbsp;&nbsp;</span>Случайный лес.</a></span></li><li><span><a href=\"#Light-GBM.-(здесь-код-закомментил,-чтобы-долго-не-ждать-выполнение)\" data-toc-modified-id=\"Light-GBM.-(здесь-код-закомментил,-чтобы-долго-не-ждать-выполнение)-3.3\"><span class=\"toc-item-num\">3.3&nbsp;&nbsp;</span>Light GBM. (здесь код закомментил, чтобы долго не ждать выполнение)</a></span></li></ul></li><li><span><a href=\"#Тестирование\" data-toc-modified-id=\"Тестирование-4\"><span class=\"toc-item-num\">4&nbsp;&nbsp;</span>Тестирование</a></span></li><li><span><a href=\"#Чек-лист-проверки\" data-toc-modified-id=\"Чек-лист-проверки-5\"><span class=\"toc-item-num\">5&nbsp;&nbsp;</span>Чек-лист проверки</a></span></li></ul></div>"
   ]
  },
  {
   "cell_type": "markdown",
   "metadata": {},
   "source": [
    "#  Прогнозирование заказов такси"
   ]
  },
  {
   "cell_type": "markdown",
   "metadata": {},
   "source": [
    "Компания «Чётенькое такси» собрала исторические данные о заказах такси в аэропортах. Чтобы привлекать больше водителей в период пиковой нагрузки, нужно спрогнозировать количество заказов такси на следующий час. Постройте модель для такого предсказания.\n",
    "\n",
    "Значение метрики *RMSE* на тестовой выборке должно быть не больше 48.\n",
    "\n",
    "Вам нужно:\n",
    "\n",
    "1. Загрузить данные и выполнить их ресемплирование по одному часу.\n",
    "2. Проанализировать данные.\n",
    "3. Обучить разные модели с различными гиперпараметрами. Сделать тестовую выборку размером 10% от исходных данных.\n",
    "4. Проверить данные на тестовой выборке и сделать выводы.\n",
    "\n",
    "\n",
    "Данные лежат в файле `taxi.csv`. Количество заказов находится в столбце `num_orders` (от англ. *number of orders*, «число заказов»)."
   ]
  },
  {
   "cell_type": "markdown",
   "metadata": {},
   "source": [
    "## Подготовка"
   ]
  },
  {
   "cell_type": "code",
   "execution_count": 1,
   "metadata": {},
   "outputs": [],
   "source": [
    "# не получалось никак импортировать seasonal_decompose, даже загружая обновления,\n",
    "# воспользовался таким костылем.\n",
    "\n",
    "import  scipy.signal.signaltools\n",
    " \n",
    "def _centered(arr, newsize):\n",
    "    # Return the center newsize portion of the array.\n",
    "    newsize = np.asarray(newsize)\n",
    "    currsize = np.array(arr.shape)\n",
    "    startind = (currsize - newsize) // 2\n",
    "    endind = startind + newsize\n",
    "    myslice = [slice(startind[k], endind[k]) for k in range(len(endind))]\n",
    "    return arr[tuple(myslice)]\n",
    " \n",
    "scipy.signal.signaltools._centered = _centered\n",
    " \n",
    "from statsmodels.tsa.seasonal import seasonal_decompose"
   ]
  },
  {
   "cell_type": "code",
   "execution_count": 2,
   "metadata": {},
   "outputs": [],
   "source": [
    "import pandas as pd\n",
    "import matplotlib.pyplot as plt\n",
    "pd.set_option('display.max_columns', None) #для вывода всех столбцов на экран\n",
    "from sklearn.model_selection import train_test_split \n",
    "from sklearn.model_selection import RandomizedSearchCV# для поиска оптимальных параметров\n",
    "from sklearn.metrics import mean_squared_error # для расчета MSE и RMSE\n",
    "from sklearn.linear_model import LinearRegression # линейная регрессия\n",
    "from sklearn.ensemble import RandomForestRegressor\n",
    "from sklearn.metrics import make_scorer\n",
    "from lightgbm import LGBMRegressor\n",
    "from sklearn.model_selection import TimeSeriesSplit"
   ]
  },
  {
   "cell_type": "code",
   "execution_count": 3,
   "metadata": {},
   "outputs": [
    {
     "data": {
      "text/html": [
       "<div>\n",
       "<style scoped>\n",
       "    .dataframe tbody tr th:only-of-type {\n",
       "        vertical-align: middle;\n",
       "    }\n",
       "\n",
       "    .dataframe tbody tr th {\n",
       "        vertical-align: top;\n",
       "    }\n",
       "\n",
       "    .dataframe thead th {\n",
       "        text-align: right;\n",
       "    }\n",
       "</style>\n",
       "<table border=\"1\" class=\"dataframe\">\n",
       "  <thead>\n",
       "    <tr style=\"text-align: right;\">\n",
       "      <th></th>\n",
       "      <th>num_orders</th>\n",
       "    </tr>\n",
       "    <tr>\n",
       "      <th>datetime</th>\n",
       "      <th></th>\n",
       "    </tr>\n",
       "  </thead>\n",
       "  <tbody>\n",
       "    <tr>\n",
       "      <th>2018-03-01 00:00:00</th>\n",
       "      <td>9</td>\n",
       "    </tr>\n",
       "    <tr>\n",
       "      <th>2018-03-01 00:10:00</th>\n",
       "      <td>14</td>\n",
       "    </tr>\n",
       "    <tr>\n",
       "      <th>2018-03-01 00:20:00</th>\n",
       "      <td>28</td>\n",
       "    </tr>\n",
       "    <tr>\n",
       "      <th>2018-03-01 00:30:00</th>\n",
       "      <td>20</td>\n",
       "    </tr>\n",
       "    <tr>\n",
       "      <th>2018-03-01 00:40:00</th>\n",
       "      <td>32</td>\n",
       "    </tr>\n",
       "  </tbody>\n",
       "</table>\n",
       "</div>"
      ],
      "text/plain": [
       "                     num_orders\n",
       "datetime                       \n",
       "2018-03-01 00:00:00           9\n",
       "2018-03-01 00:10:00          14\n",
       "2018-03-01 00:20:00          28\n",
       "2018-03-01 00:30:00          20\n",
       "2018-03-01 00:40:00          32"
      ]
     },
     "execution_count": 3,
     "metadata": {},
     "output_type": "execute_result"
    }
   ],
   "source": [
    "df = pd.read_csv('/datasets/taxi.csv', index_col=[0], parse_dates=[0])\n",
    "df.head()"
   ]
  },
  {
   "cell_type": "code",
   "execution_count": 4,
   "metadata": {},
   "outputs": [
    {
     "name": "stdout",
     "output_type": "stream",
     "text": [
      "<class 'pandas.core.frame.DataFrame'>\n",
      "DatetimeIndex: 26496 entries, 2018-03-01 00:00:00 to 2018-08-31 23:50:00\n",
      "Data columns (total 1 columns):\n",
      " #   Column      Non-Null Count  Dtype\n",
      "---  ------      --------------  -----\n",
      " 0   num_orders  26496 non-null  int64\n",
      "dtypes: int64(1)\n",
      "memory usage: 414.0 KB\n"
     ]
    }
   ],
   "source": [
    "df.info()"
   ]
  },
  {
   "cell_type": "markdown",
   "metadata": {},
   "source": [
    "**Выполним ресемплирование данных по одному часу.**"
   ]
  },
  {
   "cell_type": "code",
   "execution_count": 5,
   "metadata": {},
   "outputs": [
    {
     "data": {
      "text/html": [
       "<div>\n",
       "<style scoped>\n",
       "    .dataframe tbody tr th:only-of-type {\n",
       "        vertical-align: middle;\n",
       "    }\n",
       "\n",
       "    .dataframe tbody tr th {\n",
       "        vertical-align: top;\n",
       "    }\n",
       "\n",
       "    .dataframe thead th {\n",
       "        text-align: right;\n",
       "    }\n",
       "</style>\n",
       "<table border=\"1\" class=\"dataframe\">\n",
       "  <thead>\n",
       "    <tr style=\"text-align: right;\">\n",
       "      <th></th>\n",
       "      <th>num_orders</th>\n",
       "    </tr>\n",
       "    <tr>\n",
       "      <th>datetime</th>\n",
       "      <th></th>\n",
       "    </tr>\n",
       "  </thead>\n",
       "  <tbody>\n",
       "    <tr>\n",
       "      <th>2018-03-01 00:00:00</th>\n",
       "      <td>124</td>\n",
       "    </tr>\n",
       "    <tr>\n",
       "      <th>2018-03-01 01:00:00</th>\n",
       "      <td>85</td>\n",
       "    </tr>\n",
       "    <tr>\n",
       "      <th>2018-03-01 02:00:00</th>\n",
       "      <td>71</td>\n",
       "    </tr>\n",
       "    <tr>\n",
       "      <th>2018-03-01 03:00:00</th>\n",
       "      <td>66</td>\n",
       "    </tr>\n",
       "    <tr>\n",
       "      <th>2018-03-01 04:00:00</th>\n",
       "      <td>43</td>\n",
       "    </tr>\n",
       "  </tbody>\n",
       "</table>\n",
       "</div>"
      ],
      "text/plain": [
       "                     num_orders\n",
       "datetime                       \n",
       "2018-03-01 00:00:00         124\n",
       "2018-03-01 01:00:00          85\n",
       "2018-03-01 02:00:00          71\n",
       "2018-03-01 03:00:00          66\n",
       "2018-03-01 04:00:00          43"
      ]
     },
     "metadata": {},
     "output_type": "display_data"
    },
    {
     "name": "stdout",
     "output_type": "stream",
     "text": [
      "<class 'pandas.core.frame.DataFrame'>\n",
      "DatetimeIndex: 4416 entries, 2018-03-01 00:00:00 to 2018-08-31 23:00:00\n",
      "Freq: H\n",
      "Data columns (total 1 columns):\n",
      " #   Column      Non-Null Count  Dtype\n",
      "---  ------      --------------  -----\n",
      " 0   num_orders  4416 non-null   int64\n",
      "dtypes: int64(1)\n",
      "memory usage: 69.0 KB\n"
     ]
    }
   ],
   "source": [
    "df = df.resample('1H').sum()\n",
    "display(df.head())\n",
    "df.info()"
   ]
  },
  {
   "cell_type": "markdown",
   "metadata": {},
   "source": [
    "## Анализ"
   ]
  },
  {
   "cell_type": "code",
   "execution_count": 6,
   "metadata": {},
   "outputs": [
    {
     "name": "stdout",
     "output_type": "stream",
     "text": [
      "True\n"
     ]
    }
   ],
   "source": [
    "#проверим данные на монотонность\n",
    "print(df.index.is_monotonic)"
   ]
  },
  {
   "cell_type": "markdown",
   "metadata": {},
   "source": [
    "**Данные монотонны.**"
   ]
  },
  {
   "cell_type": "code",
   "execution_count": 7,
   "metadata": {},
   "outputs": [
    {
     "data": {
      "image/png": "[encoded data removed]",
      "text/plain": [
       "<Figure size 1080x360 with 1 Axes>"
      ]
     },
     "metadata": {
      "needs_background": "light"
     },
     "output_type": "display_data"
    }
   ],
   "source": [
    "#Построим график изменения данных.\n",
    "rolling_mean = df.rolling(24).mean()\n",
    "\n",
    "plt.figure(figsize=(15,5))\n",
    "plt.title(\"Изменение количества заказов такси по часам\")\n",
    "\n",
    "plt.plot(df, label=\"Actual values\")\n",
    "plt.plot(rolling_mean, label=\"Rolling mean trend\", color='orange')\n",
    "plt.legend()\n",
    "plt.grid(True)\n",
    "\n",
    "\n"
   ]
  },
  {
   "cell_type": "markdown",
   "metadata": {},
   "source": [
    "**Благодаря скользящему среднему с размером окна в 1 день мы видим, что происходит непрерывный рост количества заказов такси.**"
   ]
  },
  {
   "cell_type": "code",
   "execution_count": 8,
   "metadata": {},
   "outputs": [
    {
     "data": {
      "image/png": "[encoded data removed]",
      "text/plain": [
       "<Figure size 1440x720 with 3 Axes>"
      ]
     },
     "metadata": {
      "needs_background": "light"
     },
     "output_type": "display_data"
    }
   ],
   "source": [
    "#Декомпозируем и посмотрим тренды и сезонность.\n",
    "decomposed = seasonal_decompose(df) \n",
    "\n",
    "plt.figure(figsize=(20, 10))\n",
    "\n",
    "plt.subplot(311)\n",
    "decomposed.trend.plot()\n",
    "plt.title('Trend')\n",
    "\n",
    "plt.subplot(312)\n",
    "decomposed.seasonal.plot()\n",
    "plt.title('Seasonality')\n",
    "\n",
    "plt.subplot(313)\n",
    "decomposed.resid.plot()\n",
    "plt.title('Residuals')\n",
    "\n",
    "plt.tight_layout()"
   ]
  },
  {
   "cell_type": "markdown",
   "metadata": {},
   "source": [
    "**График тренда подтвердил рост количества заказов. Сезонность посмотрим подробнее на срезе нескольких дней.**"
   ]
  },
  {
   "cell_type": "code",
   "execution_count": 9,
   "metadata": {},
   "outputs": [
    {
     "data": {
      "text/plain": [
       "<AxesSubplot:title={'center':'Сезонность заказов в течении 7 дней'}, xlabel='datetime'>"
      ]
     },
     "execution_count": 9,
     "metadata": {},
     "output_type": "execute_result"
    },
    {
     "data": {
      "image/png": "[encoded data removed]",
      "text/plain": [
       "<Figure size 1080x360 with 1 Axes>"
      ]
     },
     "metadata": {
      "needs_background": "light"
     },
     "output_type": "display_data"
    }
   ],
   "source": [
    "plt.figure(figsize=(15,5))\n",
    "plt.title(\"Сезонность заказов в течении 7 дней\")\n",
    "decomposed.seasonal['2018-03-01':'2018-03-7'].plot()"
   ]
  },
  {
   "cell_type": "markdown",
   "metadata": {},
   "source": [
    "**График сезонности показывает нам одинаковое поведение заказов внутри каждого дня. Пик в полноч, затем спад, и с наступлением вечера опять подъем.**"
   ]
  },
  {
   "cell_type": "markdown",
   "metadata": {},
   "source": [
    "## Обучение"
   ]
  },
  {
   "cell_type": "markdown",
   "metadata": {},
   "source": [
    "**Создадим дополнительные признаки для последующего обучения моделей. Так как стоит задача прогноза на час вперед, то такие признаки как месяц и год включать не будем. Добавим лаги на час и 2 часа, скользяещее среднее с окном в 24 часа.**"
   ]
  },
  {
   "cell_type": "code",
   "execution_count": 10,
   "metadata": {},
   "outputs": [],
   "source": [
    "def make_features(df, max_lag, rolling_mean_size):\n",
    "    data = df.copy()\n",
    "    data['hour'] = data.index.hour\n",
    "    data['dayofweek'] = data.index.dayofweek\n",
    "    data['rolling_mean'] = data['num_orders'].shift().rolling(rolling_mean_size).mean()\n",
    "    \n",
    "    for lag in range(1, max_lag + 1):\n",
    "        data['lag_{}'.format(lag)] = data['num_orders'].shift(lag)\n",
    "    return data"
   ]
  },
  {
   "cell_type": "code",
   "execution_count": 12,
   "metadata": {
    "scrolled": true
   },
   "outputs": [
    {
     "data": {
      "text/html": [
       "<div>\n",
       "<style scoped>\n",
       "    .dataframe tbody tr th:only-of-type {\n",
       "        vertical-align: middle;\n",
       "    }\n",
       "\n",
       "    .dataframe tbody tr th {\n",
       "        vertical-align: top;\n",
       "    }\n",
       "\n",
       "    .dataframe thead th {\n",
       "        text-align: right;\n",
       "    }\n",
       "</style>\n",
       "<table border=\"1\" class=\"dataframe\">\n",
       "  <thead>\n",
       "    <tr style=\"text-align: right;\">\n",
       "      <th></th>\n",
       "      <th>num_orders</th>\n",
       "      <th>hour</th>\n",
       "      <th>dayofweek</th>\n",
       "      <th>rolling_mean</th>\n",
       "      <th>lag_1</th>\n",
       "      <th>lag_2</th>\n",
       "    </tr>\n",
       "    <tr>\n",
       "      <th>datetime</th>\n",
       "      <th></th>\n",
       "      <th></th>\n",
       "      <th></th>\n",
       "      <th></th>\n",
       "      <th></th>\n",
       "      <th></th>\n",
       "    </tr>\n",
       "  </thead>\n",
       "  <tbody>\n",
       "    <tr>\n",
       "      <th>2018-03-01 00:00:00</th>\n",
       "      <td>124</td>\n",
       "      <td>0</td>\n",
       "      <td>3</td>\n",
       "      <td>NaN</td>\n",
       "      <td>NaN</td>\n",
       "      <td>NaN</td>\n",
       "    </tr>\n",
       "    <tr>\n",
       "      <th>2018-03-01 01:00:00</th>\n",
       "      <td>85</td>\n",
       "      <td>1</td>\n",
       "      <td>3</td>\n",
       "      <td>NaN</td>\n",
       "      <td>124.0</td>\n",
       "      <td>NaN</td>\n",
       "    </tr>\n",
       "    <tr>\n",
       "      <th>2018-03-01 02:00:00</th>\n",
       "      <td>71</td>\n",
       "      <td>2</td>\n",
       "      <td>3</td>\n",
       "      <td>NaN</td>\n",
       "      <td>85.0</td>\n",
       "      <td>124.0</td>\n",
       "    </tr>\n",
       "    <tr>\n",
       "      <th>2018-03-01 03:00:00</th>\n",
       "      <td>66</td>\n",
       "      <td>3</td>\n",
       "      <td>3</td>\n",
       "      <td>NaN</td>\n",
       "      <td>71.0</td>\n",
       "      <td>85.0</td>\n",
       "    </tr>\n",
       "    <tr>\n",
       "      <th>2018-03-01 04:00:00</th>\n",
       "      <td>43</td>\n",
       "      <td>4</td>\n",
       "      <td>3</td>\n",
       "      <td>NaN</td>\n",
       "      <td>66.0</td>\n",
       "      <td>71.0</td>\n",
       "    </tr>\n",
       "    <tr>\n",
       "      <th>2018-03-01 05:00:00</th>\n",
       "      <td>6</td>\n",
       "      <td>5</td>\n",
       "      <td>3</td>\n",
       "      <td>NaN</td>\n",
       "      <td>43.0</td>\n",
       "      <td>66.0</td>\n",
       "    </tr>\n",
       "    <tr>\n",
       "      <th>2018-03-01 06:00:00</th>\n",
       "      <td>12</td>\n",
       "      <td>6</td>\n",
       "      <td>3</td>\n",
       "      <td>NaN</td>\n",
       "      <td>6.0</td>\n",
       "      <td>43.0</td>\n",
       "    </tr>\n",
       "    <tr>\n",
       "      <th>2018-03-01 07:00:00</th>\n",
       "      <td>15</td>\n",
       "      <td>7</td>\n",
       "      <td>3</td>\n",
       "      <td>NaN</td>\n",
       "      <td>12.0</td>\n",
       "      <td>6.0</td>\n",
       "    </tr>\n",
       "    <tr>\n",
       "      <th>2018-03-01 08:00:00</th>\n",
       "      <td>34</td>\n",
       "      <td>8</td>\n",
       "      <td>3</td>\n",
       "      <td>NaN</td>\n",
       "      <td>15.0</td>\n",
       "      <td>12.0</td>\n",
       "    </tr>\n",
       "    <tr>\n",
       "      <th>2018-03-01 09:00:00</th>\n",
       "      <td>69</td>\n",
       "      <td>9</td>\n",
       "      <td>3</td>\n",
       "      <td>NaN</td>\n",
       "      <td>34.0</td>\n",
       "      <td>15.0</td>\n",
       "    </tr>\n",
       "    <tr>\n",
       "      <th>2018-03-01 10:00:00</th>\n",
       "      <td>64</td>\n",
       "      <td>10</td>\n",
       "      <td>3</td>\n",
       "      <td>NaN</td>\n",
       "      <td>69.0</td>\n",
       "      <td>34.0</td>\n",
       "    </tr>\n",
       "    <tr>\n",
       "      <th>2018-03-01 11:00:00</th>\n",
       "      <td>96</td>\n",
       "      <td>11</td>\n",
       "      <td>3</td>\n",
       "      <td>NaN</td>\n",
       "      <td>64.0</td>\n",
       "      <td>69.0</td>\n",
       "    </tr>\n",
       "    <tr>\n",
       "      <th>2018-03-01 12:00:00</th>\n",
       "      <td>30</td>\n",
       "      <td>12</td>\n",
       "      <td>3</td>\n",
       "      <td>NaN</td>\n",
       "      <td>96.0</td>\n",
       "      <td>64.0</td>\n",
       "    </tr>\n",
       "    <tr>\n",
       "      <th>2018-03-01 13:00:00</th>\n",
       "      <td>32</td>\n",
       "      <td>13</td>\n",
       "      <td>3</td>\n",
       "      <td>NaN</td>\n",
       "      <td>30.0</td>\n",
       "      <td>96.0</td>\n",
       "    </tr>\n",
       "    <tr>\n",
       "      <th>2018-03-01 14:00:00</th>\n",
       "      <td>48</td>\n",
       "      <td>14</td>\n",
       "      <td>3</td>\n",
       "      <td>NaN</td>\n",
       "      <td>32.0</td>\n",
       "      <td>30.0</td>\n",
       "    </tr>\n",
       "    <tr>\n",
       "      <th>2018-03-01 15:00:00</th>\n",
       "      <td>66</td>\n",
       "      <td>15</td>\n",
       "      <td>3</td>\n",
       "      <td>NaN</td>\n",
       "      <td>48.0</td>\n",
       "      <td>32.0</td>\n",
       "    </tr>\n",
       "    <tr>\n",
       "      <th>2018-03-01 16:00:00</th>\n",
       "      <td>43</td>\n",
       "      <td>16</td>\n",
       "      <td>3</td>\n",
       "      <td>NaN</td>\n",
       "      <td>66.0</td>\n",
       "      <td>48.0</td>\n",
       "    </tr>\n",
       "    <tr>\n",
       "      <th>2018-03-01 17:00:00</th>\n",
       "      <td>44</td>\n",
       "      <td>17</td>\n",
       "      <td>3</td>\n",
       "      <td>NaN</td>\n",
       "      <td>43.0</td>\n",
       "      <td>66.0</td>\n",
       "    </tr>\n",
       "    <tr>\n",
       "      <th>2018-03-01 18:00:00</th>\n",
       "      <td>73</td>\n",
       "      <td>18</td>\n",
       "      <td>3</td>\n",
       "      <td>NaN</td>\n",
       "      <td>44.0</td>\n",
       "      <td>43.0</td>\n",
       "    </tr>\n",
       "    <tr>\n",
       "      <th>2018-03-01 19:00:00</th>\n",
       "      <td>45</td>\n",
       "      <td>19</td>\n",
       "      <td>3</td>\n",
       "      <td>NaN</td>\n",
       "      <td>73.0</td>\n",
       "      <td>44.0</td>\n",
       "    </tr>\n",
       "    <tr>\n",
       "      <th>2018-03-01 20:00:00</th>\n",
       "      <td>61</td>\n",
       "      <td>20</td>\n",
       "      <td>3</td>\n",
       "      <td>NaN</td>\n",
       "      <td>45.0</td>\n",
       "      <td>73.0</td>\n",
       "    </tr>\n",
       "    <tr>\n",
       "      <th>2018-03-01 21:00:00</th>\n",
       "      <td>66</td>\n",
       "      <td>21</td>\n",
       "      <td>3</td>\n",
       "      <td>NaN</td>\n",
       "      <td>61.0</td>\n",
       "      <td>45.0</td>\n",
       "    </tr>\n",
       "    <tr>\n",
       "      <th>2018-03-01 22:00:00</th>\n",
       "      <td>113</td>\n",
       "      <td>22</td>\n",
       "      <td>3</td>\n",
       "      <td>NaN</td>\n",
       "      <td>66.0</td>\n",
       "      <td>61.0</td>\n",
       "    </tr>\n",
       "    <tr>\n",
       "      <th>2018-03-01 23:00:00</th>\n",
       "      <td>58</td>\n",
       "      <td>23</td>\n",
       "      <td>3</td>\n",
       "      <td>NaN</td>\n",
       "      <td>113.0</td>\n",
       "      <td>66.0</td>\n",
       "    </tr>\n",
       "    <tr>\n",
       "      <th>2018-03-02 00:00:00</th>\n",
       "      <td>90</td>\n",
       "      <td>0</td>\n",
       "      <td>4</td>\n",
       "      <td>56.833333</td>\n",
       "      <td>58.0</td>\n",
       "      <td>113.0</td>\n",
       "    </tr>\n",
       "  </tbody>\n",
       "</table>\n",
       "</div>"
      ],
      "text/plain": [
       "                     num_orders  hour  dayofweek  rolling_mean  lag_1  lag_2\n",
       "datetime                                                                    \n",
       "2018-03-01 00:00:00         124     0          3           NaN    NaN    NaN\n",
       "2018-03-01 01:00:00          85     1          3           NaN  124.0    NaN\n",
       "2018-03-01 02:00:00          71     2          3           NaN   85.0  124.0\n",
       "2018-03-01 03:00:00          66     3          3           NaN   71.0   85.0\n",
       "2018-03-01 04:00:00          43     4          3           NaN   66.0   71.0\n",
       "2018-03-01 05:00:00           6     5          3           NaN   43.0   66.0\n",
       "2018-03-01 06:00:00          12     6          3           NaN    6.0   43.0\n",
       "2018-03-01 07:00:00          15     7          3           NaN   12.0    6.0\n",
       "2018-03-01 08:00:00          34     8          3           NaN   15.0   12.0\n",
       "2018-03-01 09:00:00          69     9          3           NaN   34.0   15.0\n",
       "2018-03-01 10:00:00          64    10          3           NaN   69.0   34.0\n",
       "2018-03-01 11:00:00          96    11          3           NaN   64.0   69.0\n",
       "2018-03-01 12:00:00          30    12          3           NaN   96.0   64.0\n",
       "2018-03-01 13:00:00          32    13          3           NaN   30.0   96.0\n",
       "2018-03-01 14:00:00          48    14          3           NaN   32.0   30.0\n",
       "2018-03-01 15:00:00          66    15          3           NaN   48.0   32.0\n",
       "2018-03-01 16:00:00          43    16          3           NaN   66.0   48.0\n",
       "2018-03-01 17:00:00          44    17          3           NaN   43.0   66.0\n",
       "2018-03-01 18:00:00          73    18          3           NaN   44.0   43.0\n",
       "2018-03-01 19:00:00          45    19          3           NaN   73.0   44.0\n",
       "2018-03-01 20:00:00          61    20          3           NaN   45.0   73.0\n",
       "2018-03-01 21:00:00          66    21          3           NaN   61.0   45.0\n",
       "2018-03-01 22:00:00         113    22          3           NaN   66.0   61.0\n",
       "2018-03-01 23:00:00          58    23          3           NaN  113.0   66.0\n",
       "2018-03-02 00:00:00          90     0          4     56.833333   58.0  113.0"
      ]
     },
     "execution_count": 12,
     "metadata": {},
     "output_type": "execute_result"
    }
   ],
   "source": [
    "df_1 = make_features(df, 2, 24)\n",
    "df_1.head(25)"
   ]
  },
  {
   "cell_type": "markdown",
   "metadata": {},
   "source": [
    "**Разделим данные на обучающую и тестовые выборки и проверим корректность деления.**"
   ]
  },
  {
   "cell_type": "code",
   "execution_count": 13,
   "metadata": {},
   "outputs": [
    {
     "name": "stdout",
     "output_type": "stream",
     "text": [
      "2018-03-01 00:00:00 2018-08-13 13:00:00\n",
      "2018-08-13 14:00:00 2018-08-31 23:00:00\n"
     ]
    }
   ],
   "source": [
    "train, test = train_test_split(df_1, shuffle=False, test_size=0.1)\n",
    "\n",
    "print(train.index.min(), train.index.max())\n",
    "print(test.index.min(), test.index.max())"
   ]
  },
  {
   "cell_type": "code",
   "execution_count": 14,
   "metadata": {},
   "outputs": [
    {
     "name": "stdout",
     "output_type": "stream",
     "text": [
      "<class 'pandas.core.frame.DataFrame'>\n",
      "DatetimeIndex: 3950 entries, 2018-03-02 00:00:00 to 2018-08-13 13:00:00\n",
      "Freq: H\n",
      "Data columns (total 6 columns):\n",
      " #   Column        Non-Null Count  Dtype  \n",
      "---  ------        --------------  -----  \n",
      " 0   num_orders    3950 non-null   int64  \n",
      " 1   hour          3950 non-null   int64  \n",
      " 2   dayofweek     3950 non-null   int64  \n",
      " 3   rolling_mean  3950 non-null   float64\n",
      " 4   lag_1         3950 non-null   float64\n",
      " 5   lag_2         3950 non-null   float64\n",
      "dtypes: float64(3), int64(3)\n",
      "memory usage: 216.0 KB\n"
     ]
    },
    {
     "name": "stderr",
     "output_type": "stream",
     "text": [
      "/tmp/ipykernel_171/2562186900.py:2: SettingWithCopyWarning: \n",
      "A value is trying to be set on a copy of a slice from a DataFrame\n",
      "\n",
      "See the caveats in the documentation: https://pandas.pydata.org/pandas-docs/stable/user_guide/indexing.html#returning-a-view-versus-a-copy\n",
      "  train.dropna(inplace=True)\n"
     ]
    }
   ],
   "source": [
    "#уберем пропуски в train\n",
    "train.dropna(inplace=True)\n",
    "train.info()"
   ]
  },
  {
   "cell_type": "code",
   "execution_count": 15,
   "metadata": {},
   "outputs": [],
   "source": [
    "#Создадим обучающие и целевой признаки.\n",
    "target_train = train['num_orders']\n",
    "features_train = train.drop('num_orders', axis=1)\n",
    "target_test = test['num_orders']\n",
    "features_test = test.drop('num_orders', axis=1)"
   ]
  },
  {
   "cell_type": "code",
   "execution_count": 16,
   "metadata": {},
   "outputs": [],
   "source": [
    "#Создадим функцию для вычисления метрики RMSE. Далее она будет использована при подборе гиперпраметров.\n",
    "def rmse_score (target, predictions):\n",
    "    rmse = mean_squared_error(target, predictions)**0.5\n",
    "    return rmse\n",
    "scorer = make_scorer(rmse_score, greater_is_better=False)"
   ]
  },
  {
   "cell_type": "markdown",
   "metadata": {},
   "source": [
    "**Переходим к обучению различных моделей. Проверим действие 3-х моделей: линейная регрессия, случайный лес, LightGBM. Поиск гиперпараметров будем проводить с помощью метода RandomSearchCV и метода TimeSeriesSplit.**"
   ]
  },
  {
   "cell_type": "markdown",
   "metadata": {},
   "source": [
    "### Линейная регрессия."
   ]
  },
  {
   "cell_type": "code",
   "execution_count": 17,
   "metadata": {},
   "outputs": [],
   "source": [
    "tscv = TimeSeriesSplit(n_splits=8)"
   ]
  },
  {
   "cell_type": "code",
   "execution_count": 18,
   "metadata": {},
   "outputs": [
    {
     "name": "stdout",
     "output_type": "stream",
     "text": [
      "Fitting 8 folds for each of 4 candidates, totalling 32 fits\n",
      "[CV 1/8] END .............fit_intercept=True, normalize=True; total time=   0.0s\n",
      "[CV 2/8] END .............fit_intercept=True, normalize=True; total time=   0.0s\n",
      "[CV 3/8] END .............fit_intercept=True, normalize=True; total time=   0.0s\n",
      "[CV 4/8] END .............fit_intercept=True, normalize=True; total time=   0.0s\n",
      "[CV 5/8] END .............fit_intercept=True, normalize=True; total time=   0.0s\n",
      "[CV 6/8] END .............fit_intercept=True, normalize=True; total time=   0.0s\n",
      "[CV 7/8] END .............fit_intercept=True, normalize=True; total time=   0.0s\n",
      "[CV 8/8] END .............fit_intercept=True, normalize=True; total time=   0.0s\n",
      "[CV 1/8] END ............fit_intercept=True, normalize=False; total time=   0.0s\n",
      "[CV 2/8] END ............fit_intercept=True, normalize=False; total time=   0.0s\n",
      "[CV 3/8] END ............fit_intercept=True, normalize=False; total time=   0.0s\n",
      "[CV 4/8] END ............fit_intercept=True, normalize=False; total time=   0.0s\n",
      "[CV 5/8] END ............fit_intercept=True, normalize=False; total time=   0.0s\n",
      "[CV 6/8] END ............fit_intercept=True, normalize=False; total time=   0.0s\n",
      "[CV 7/8] END ............fit_intercept=True, normalize=False; total time=   0.0s\n",
      "[CV 8/8] END ............fit_intercept=True, normalize=False; total time=   0.0s\n",
      "[CV 1/8] END ............fit_intercept=False, normalize=True; total time=   0.0s\n",
      "[CV 2/8] END ............fit_intercept=False, normalize=True; total time=   0.0s\n",
      "[CV 3/8] END ............fit_intercept=False, normalize=True; total time=   0.0s\n",
      "[CV 4/8] END ............fit_intercept=False, normalize=True; total time=   0.0s\n",
      "[CV 5/8] END ............fit_intercept=False, normalize=True; total time=   0.0s\n",
      "[CV 6/8] END ............fit_intercept=False, normalize=True; total time=   0.0s\n",
      "[CV 7/8] END ............fit_intercept=False, normalize=True; total time=   0.0s\n",
      "[CV 8/8] END ............fit_intercept=False, normalize=True; total time=   0.0s\n",
      "[CV 1/8] END ...........fit_intercept=False, normalize=False; total time=   0.0s\n",
      "[CV 2/8] END ...........fit_intercept=False, normalize=False; total time=   0.0s\n"
     ]
    },
    {
     "name": "stderr",
     "output_type": "stream",
     "text": [
      "/opt/conda/lib/python3.9/site-packages/sklearn/model_selection/_search.py:285: UserWarning: The total space of parameters 4 is smaller than n_iter=10. Running 4 iterations. For exhaustive searches, use GridSearchCV.\n",
      "  warnings.warn(\n"
     ]
    },
    {
     "name": "stdout",
     "output_type": "stream",
     "text": [
      "[CV 3/8] END ...........fit_intercept=False, normalize=False; total time=   0.0s\n",
      "[CV 4/8] END ...........fit_intercept=False, normalize=False; total time=   0.0s\n",
      "[CV 5/8] END ...........fit_intercept=False, normalize=False; total time=   0.0s\n",
      "[CV 6/8] END ...........fit_intercept=False, normalize=False; total time=   0.0s\n",
      "[CV 7/8] END ...........fit_intercept=False, normalize=False; total time=   0.0s\n",
      "[CV 8/8] END ...........fit_intercept=False, normalize=False; total time=   0.0s\n",
      "RMSE линейной регрессии составляет  31.35975504360978\n",
      "Наилучшие подобранные параметры для линейной регрессии\n"
     ]
    },
    {
     "data": {
      "text/plain": [
       "{'normalize': True, 'fit_intercept': False}"
      ]
     },
     "execution_count": 18,
     "metadata": {},
     "output_type": "execute_result"
    }
   ],
   "source": [
    "model = LinearRegression()\n",
    "parameters = {'fit_intercept':[True,False], 'normalize':[True,False]}\n",
    "grid = RandomizedSearchCV(model, parameters, cv=tscv, scoring=scorer, verbose=5, n_jobs=-1)\n",
    "grid.fit(features_train, target_train)\n",
    "\n",
    "print(\"RMSE линейной регрессии составляет \", -grid.best_score_)\n",
    "print('Наилучшие подобранные параметры для линейной регрессии')\n",
    "grid.best_params_"
   ]
  },
  {
   "cell_type": "markdown",
   "metadata": {},
   "source": [
    "**Наилучший для линейной регрессии RMSE 31.4, получен для параметров: 'normalize': True, 'fit_intercept': False.**"
   ]
  },
  {
   "cell_type": "markdown",
   "metadata": {},
   "source": [
    "###  Случайный лес."
   ]
  },
  {
   "cell_type": "code",
   "execution_count": 19,
   "metadata": {
    "scrolled": true
   },
   "outputs": [
    {
     "name": "stdout",
     "output_type": "stream",
     "text": [
      "Fitting 8 folds for each of 10 candidates, totalling 80 fits\n",
      "[CV 1/8] END ...................max_depth=9, n_estimators=40; total time=   0.1s\n",
      "[CV 2/8] END ...................max_depth=9, n_estimators=40; total time=   0.1s\n",
      "[CV 3/8] END ...................max_depth=9, n_estimators=40; total time=   0.1s\n",
      "[CV 4/8] END ...................max_depth=9, n_estimators=40; total time=   0.1s\n",
      "[CV 5/8] END ...................max_depth=9, n_estimators=40; total time=   0.2s\n",
      "[CV 6/8] END ...................max_depth=9, n_estimators=40; total time=   0.2s\n",
      "[CV 7/8] END ...................max_depth=9, n_estimators=40; total time=   0.2s\n",
      "[CV 8/8] END ...................max_depth=9, n_estimators=40; total time=   0.2s\n",
      "[CV 1/8] END ...................max_depth=1, n_estimators=70; total time=   0.1s\n",
      "[CV 2/8] END ...................max_depth=1, n_estimators=70; total time=   0.1s\n",
      "[CV 3/8] END ...................max_depth=1, n_estimators=70; total time=   0.1s\n",
      "[CV 4/8] END ...................max_depth=1, n_estimators=70; total time=   0.1s\n",
      "[CV 5/8] END ...................max_depth=1, n_estimators=70; total time=   0.1s\n",
      "[CV 6/8] END ...................max_depth=1, n_estimators=70; total time=   0.1s\n",
      "[CV 7/8] END ...................max_depth=1, n_estimators=70; total time=   0.1s\n",
      "[CV 8/8] END ...................max_depth=1, n_estimators=70; total time=   0.1s\n",
      "[CV 1/8] END ...................max_depth=5, n_estimators=60; total time=   0.1s\n",
      "[CV 2/8] END ...................max_depth=5, n_estimators=60; total time=   0.1s\n",
      "[CV 3/8] END ...................max_depth=5, n_estimators=60; total time=   0.1s\n",
      "[CV 4/8] END ...................max_depth=5, n_estimators=60; total time=   0.1s\n",
      "[CV 5/8] END ...................max_depth=5, n_estimators=60; total time=   0.2s\n",
      "[CV 6/8] END ...................max_depth=5, n_estimators=60; total time=   0.2s\n",
      "[CV 7/8] END ...................max_depth=5, n_estimators=60; total time=   0.2s\n",
      "[CV 8/8] END ...................max_depth=5, n_estimators=60; total time=   0.2s\n",
      "[CV 1/8] END ..................max_depth=8, n_estimators=100; total time=   0.2s\n",
      "[CV 2/8] END ..................max_depth=8, n_estimators=100; total time=   0.2s\n",
      "[CV 3/8] END ..................max_depth=8, n_estimators=100; total time=   0.3s\n",
      "[CV 4/8] END ..................max_depth=8, n_estimators=100; total time=   0.3s\n",
      "[CV 5/8] END ..................max_depth=8, n_estimators=100; total time=   0.3s\n",
      "[CV 6/8] END ..................max_depth=8, n_estimators=100; total time=   0.4s\n",
      "[CV 7/8] END ..................max_depth=8, n_estimators=100; total time=   0.4s\n",
      "[CV 8/8] END ..................max_depth=8, n_estimators=100; total time=   0.5s\n",
      "[CV 1/8] END ...................max_depth=7, n_estimators=80; total time=   0.1s\n",
      "[CV 2/8] END ...................max_depth=7, n_estimators=80; total time=   0.2s\n",
      "[CV 3/8] END ...................max_depth=7, n_estimators=80; total time=   0.2s\n",
      "[CV 4/8] END ...................max_depth=7, n_estimators=80; total time=   0.2s\n",
      "[CV 5/8] END ...................max_depth=7, n_estimators=80; total time=   0.3s\n",
      "[CV 6/8] END ...................max_depth=7, n_estimators=80; total time=   0.3s\n",
      "[CV 7/8] END ...................max_depth=7, n_estimators=80; total time=   0.3s\n",
      "[CV 8/8] END ...................max_depth=7, n_estimators=80; total time=   0.3s\n",
      "[CV 1/8] END ...................max_depth=6, n_estimators=40; total time=   0.1s\n",
      "[CV 2/8] END ...................max_depth=6, n_estimators=40; total time=   0.1s\n",
      "[CV 3/8] END ...................max_depth=6, n_estimators=40; total time=   0.1s\n",
      "[CV 4/8] END ...................max_depth=6, n_estimators=40; total time=   0.1s\n",
      "[CV 5/8] END ...................max_depth=6, n_estimators=40; total time=   0.1s\n",
      "[CV 6/8] END ...................max_depth=6, n_estimators=40; total time=   0.1s\n",
      "[CV 7/8] END ...................max_depth=6, n_estimators=40; total time=   0.1s\n",
      "[CV 8/8] END ...................max_depth=6, n_estimators=40; total time=   0.2s\n",
      "[CV 1/8] END ..................max_depth=3, n_estimators=150; total time=   0.2s\n",
      "[CV 2/8] END ..................max_depth=3, n_estimators=150; total time=   0.2s\n",
      "[CV 3/8] END ..................max_depth=3, n_estimators=150; total time=   0.2s\n",
      "[CV 4/8] END ..................max_depth=3, n_estimators=150; total time=   0.3s\n",
      "[CV 5/8] END ..................max_depth=3, n_estimators=150; total time=   0.3s\n",
      "[CV 6/8] END ..................max_depth=3, n_estimators=150; total time=   0.3s\n",
      "[CV 7/8] END ..................max_depth=3, n_estimators=150; total time=   0.3s\n",
      "[CV 8/8] END ..................max_depth=3, n_estimators=150; total time=   0.4s\n",
      "[CV 1/8] END ..................max_depth=8, n_estimators=150; total time=   0.2s\n",
      "[CV 2/8] END ..................max_depth=8, n_estimators=150; total time=   0.3s\n",
      "[CV 3/8] END ..................max_depth=8, n_estimators=150; total time=   0.4s\n",
      "[CV 4/8] END ..................max_depth=8, n_estimators=150; total time=   0.4s\n",
      "[CV 5/8] END ..................max_depth=8, n_estimators=150; total time=   0.5s\n",
      "[CV 6/8] END ..................max_depth=8, n_estimators=150; total time=   0.6s\n",
      "[CV 7/8] END ..................max_depth=8, n_estimators=150; total time=   0.7s\n",
      "[CV 8/8] END ..................max_depth=8, n_estimators=150; total time=   0.7s\n",
      "[CV 1/8] END ...................max_depth=5, n_estimators=90; total time=   0.1s\n",
      "[CV 2/8] END ...................max_depth=5, n_estimators=90; total time=   0.1s\n",
      "[CV 3/8] END ...................max_depth=5, n_estimators=90; total time=   0.2s\n",
      "[CV 4/8] END ...................max_depth=5, n_estimators=90; total time=   0.2s\n",
      "[CV 5/8] END ...................max_depth=5, n_estimators=90; total time=   0.2s\n",
      "[CV 6/8] END ...................max_depth=5, n_estimators=90; total time=   0.3s\n",
      "[CV 7/8] END ...................max_depth=5, n_estimators=90; total time=   0.3s\n",
      "[CV 8/8] END ...................max_depth=5, n_estimators=90; total time=   0.3s\n",
      "[CV 1/8] END ...................max_depth=4, n_estimators=60; total time=   0.1s\n",
      "[CV 2/8] END ...................max_depth=4, n_estimators=60; total time=   0.1s\n",
      "[CV 3/8] END ...................max_depth=4, n_estimators=60; total time=   0.1s\n",
      "[CV 4/8] END ...................max_depth=4, n_estimators=60; total time=   0.1s\n",
      "[CV 5/8] END ...................max_depth=4, n_estimators=60; total time=   0.1s\n",
      "[CV 6/8] END ...................max_depth=4, n_estimators=60; total time=   0.1s\n",
      "[CV 7/8] END ...................max_depth=4, n_estimators=60; total time=   0.2s\n",
      "[CV 8/8] END ...................max_depth=4, n_estimators=60; total time=   0.2s\n",
      "RMSE для случайного леса составляет  25.113839255196588\n",
      "Наилучшие подобранные параметры для случайного леса\n",
      "{'n_estimators': 40, 'max_depth': 9}\n"
     ]
    }
   ],
   "source": [
    "forest = RandomForestRegressor(random_state=12345)   \n",
    "forest_params = {'n_estimators': range(30, 151, 10), 'max_depth': range(1,10)}\n",
    "forest_grid = RandomizedSearchCV(forest, forest_params, cv=tscv, scoring=scorer, verbose=5, n_jobs=-1)\n",
    "forest_grid.fit(features_train, target_train)\n",
    "\n",
    "print(\"RMSE для случайного леса составляет \", -forest_grid.best_score_)\n",
    "print('Наилучшие подобранные параметры для случайного леса')\n",
    "print(forest_grid.best_params_)"
   ]
  },
  {
   "cell_type": "markdown",
   "metadata": {},
   "source": [
    "**Наилучший  для случайного леса RMSE 25.1, получен для параметров: 'n_estimators': 50, 'max_depth': 9.**"
   ]
  },
  {
   "cell_type": "markdown",
   "metadata": {},
   "source": [
    "### Light GBM. (здесь код закомментил, чтобы долго не ждать выполнение)"
   ]
  },
  {
   "cell_type": "code",
   "execution_count": 20,
   "metadata": {},
   "outputs": [
    {
     "data": {
      "text/plain": [
       "'lgbm = LGBMRegressor(random_state=12345) \\nlg_params = {\\'n_estimators\\': [50, 100, 500], \\'num_leaves\\': [21, 31, 41], \\'learning_rate\\':[0.01, .04, 0.06]}\\nlg_grid = RandomizedSearchCV(lgbm, lg_params, cv=tscv, verbose=5, scoring=scorer)\\nlg_grid.fit(features_train, target_train)\\n\\nprint(\"RMSE для LGBM составляет \", -lg_grid.best_score_)\\nprint(\\'Наилучшие подобранные параметры для LGBM\\')\\nprint(lg_grid.best_params_)'"
      ]
     },
     "execution_count": 20,
     "metadata": {},
     "output_type": "execute_result"
    }
   ],
   "source": [
    "'''lgbm = LGBMRegressor(random_state=12345) \n",
    "lg_params = {'n_estimators': [50, 100, 500], 'num_leaves': [21, 31, 41], 'learning_rate':[0.01, .04, 0.06]}\n",
    "lg_grid = RandomizedSearchCV(lgbm, lg_params, cv=tscv, verbose=5, scoring=scorer)\n",
    "lg_grid.fit(features_train, target_train)\n",
    "\n",
    "print(\"RMSE для LGBM составляет \", -lg_grid.best_score_)\n",
    "print('Наилучшие подобранные параметры для LGBM')\n",
    "print(lg_grid.best_params_)'''"
   ]
  },
  {
   "cell_type": "markdown",
   "metadata": {},
   "source": [
    "**Наилучший для LGBM RMSE 24.4, получен для параметров: 'num_leaves': 41, 'n_estimators': 100, 'learning_rate': 0.06.**"
   ]
  },
  {
   "cell_type": "markdown",
   "metadata": {},
   "source": [
    "**Обучены и подобраны гиперпараметры для 3 различных моделей: линейная регрессия, случайный лес, LightGBM. Для всех моделей была применена кросс-валидация с применением метода TimeSeriesSplit.\n",
    "По заданию требуется значение метрики RMSE менее 48, с этим справились все 3 модели.\n",
    "Наихудший результат был получен с ппомощью линейной регрессии (31.4), наилучший - с помощью LGBM (24.4). \n",
    "Проверим модели с подобранными гиперпараметрами на тестовой выборке.**"
   ]
  },
  {
   "cell_type": "markdown",
   "metadata": {},
   "source": [
    "## Тестирование"
   ]
  },
  {
   "cell_type": "code",
   "execution_count": 21,
   "metadata": {},
   "outputs": [
    {
     "name": "stdout",
     "output_type": "stream",
     "text": [
      "RMSE линейной регрессии составляет: 51.192444258655904\n"
     ]
    }
   ],
   "source": [
    "model = LinearRegression(fit_intercept=False, normalize=True)\n",
    "model.fit(features_train, target_train)\n",
    "predictions = model.predict(features_test)\n",
    "rmse = mean_squared_error(target_test, predictions)**0.5\n",
    "\n",
    "print(\"RMSE линейной регрессии составляет:\", rmse)"
   ]
  },
  {
   "cell_type": "code",
   "execution_count": 22,
   "metadata": {},
   "outputs": [
    {
     "name": "stdout",
     "output_type": "stream",
     "text": [
      "RMSE случайного леса составляет: 48.9667998532471\n"
     ]
    }
   ],
   "source": [
    "model = RandomForestRegressor(n_estimators=50, max_depth=9, random_state=12345)\n",
    "model.fit(features_train, target_train)\n",
    "predictions = model.predict(features_test)\n",
    "rmse = mean_squared_error(target_test, predictions)**0.5\n",
    "\n",
    "print(\"RMSE случайного леса составляет:\", rmse)"
   ]
  },
  {
   "cell_type": "code",
   "execution_count": 23,
   "metadata": {},
   "outputs": [
    {
     "name": "stdout",
     "output_type": "stream",
     "text": [
      "RMSE для модели LGBM составляет: 44.604563244677855\n"
     ]
    }
   ],
   "source": [
    "model = LGBMRegressor(num_leaves=41, n_estimators=100, learning_rate=0.06, random_state=12345)\n",
    "model.fit(features_train, target_train)\n",
    "predictions = model.predict(features_test)\n",
    "rmse = mean_squared_error(target_test, predictions)**0.5\n",
    "\n",
    "print(\"RMSE для модели LGBM составляет:\", rmse)"
   ]
  },
  {
   "cell_type": "markdown",
   "metadata": {},
   "source": [
    "**В отличие от результатов на обучающей выборке, по итогу тестирования только модель LGBM подошла под требование по поставленной метрике RMSE < 48, линейная регрессия и случайный лес - не справились с задачей на тестовой выборке.**"
   ]
  }
 ],
 "metadata": {
  "ExecuteTimeLog": [
   {
    "duration": 2590,
    "start_time": "2022-03-24T10:25:21.506Z"
   },
   {
    "duration": 212,
    "start_time": "2022-03-24T10:29:23.948Z"
   },
   {
    "duration": 241,
    "start_time": "2022-03-24T10:29:33.909Z"
   },
   {
    "duration": 160,
    "start_time": "2022-03-24T10:29:38.933Z"
   },
   {
    "duration": 173,
    "start_time": "2022-03-24T10:32:01.046Z"
   },
   {
    "duration": 206,
    "start_time": "2022-03-24T10:32:12.777Z"
   },
   {
    "duration": 20,
    "start_time": "2022-03-24T10:33:41.547Z"
   },
   {
    "duration": 862,
    "start_time": "2022-03-24T10:34:27.664Z"
   },
   {
    "duration": 8,
    "start_time": "2022-03-24T10:34:51.080Z"
   },
   {
    "duration": 21,
    "start_time": "2022-03-24T10:34:58.964Z"
   },
   {
    "duration": 5,
    "start_time": "2022-03-24T10:39:32.745Z"
   },
   {
    "duration": 4386,
    "start_time": "2022-03-24T10:39:42.869Z"
   },
   {
    "duration": 26,
    "start_time": "2022-03-24T10:39:54.400Z"
   },
   {
    "duration": 31,
    "start_time": "2022-03-24T10:41:07.284Z"
   },
   {
    "duration": 1959,
    "start_time": "2022-03-24T10:42:14.843Z"
   },
   {
    "duration": 0,
    "start_time": "2022-03-24T10:42:16.805Z"
   },
   {
    "duration": 0,
    "start_time": "2022-03-24T10:42:16.807Z"
   },
   {
    "duration": 5,
    "start_time": "2022-03-24T10:42:27.667Z"
   },
   {
    "duration": 4215,
    "start_time": "2022-03-24T10:42:32.772Z"
   },
   {
    "duration": 1898,
    "start_time": "2022-03-24T10:43:05.215Z"
   },
   {
    "duration": 1418,
    "start_time": "2022-03-24T10:43:40.849Z"
   },
   {
    "duration": 2587,
    "start_time": "2022-03-24T10:43:56.397Z"
   },
   {
    "duration": 1456,
    "start_time": "2022-03-24T10:44:24.995Z"
   },
   {
    "duration": 2267,
    "start_time": "2022-03-24T10:44:38.911Z"
   },
   {
    "duration": 6,
    "start_time": "2022-03-24T10:50:19.346Z"
   },
   {
    "duration": 20,
    "start_time": "2022-03-24T10:50:22.652Z"
   },
   {
    "duration": 7,
    "start_time": "2022-03-24T11:13:25.988Z"
   },
   {
    "duration": 7,
    "start_time": "2022-03-24T11:13:29.161Z"
   },
   {
    "duration": 7,
    "start_time": "2022-03-24T11:13:40.513Z"
   },
   {
    "duration": 1045,
    "start_time": "2022-03-24T11:13:49.631Z"
   },
   {
    "duration": 651,
    "start_time": "2022-03-24T11:13:50.679Z"
   },
   {
    "duration": 225,
    "start_time": "2022-03-24T11:15:24.249Z"
   },
   {
    "duration": 155,
    "start_time": "2022-03-24T11:15:45.422Z"
   },
   {
    "duration": 15,
    "start_time": "2022-03-24T11:16:05.782Z"
   },
   {
    "duration": 36,
    "start_time": "2022-03-24T11:16:43.646Z"
   },
   {
    "duration": 47,
    "start_time": "2022-03-24T11:17:02.440Z"
   },
   {
    "duration": 31,
    "start_time": "2022-03-24T11:18:33.901Z"
   },
   {
    "duration": 29,
    "start_time": "2022-03-24T11:18:55.446Z"
   },
   {
    "duration": 14,
    "start_time": "2022-03-24T11:19:02.794Z"
   },
   {
    "duration": 15,
    "start_time": "2022-03-24T11:19:12.906Z"
   },
   {
    "duration": 1051,
    "start_time": "2022-03-24T11:19:18.931Z"
   },
   {
    "duration": 688,
    "start_time": "2022-03-24T11:19:19.985Z"
   },
   {
    "duration": 112,
    "start_time": "2022-03-24T11:19:20.676Z"
   },
   {
    "duration": 15,
    "start_time": "2022-03-24T11:19:20.791Z"
   },
   {
    "duration": 38,
    "start_time": "2022-03-24T11:19:20.808Z"
   },
   {
    "duration": 1096,
    "start_time": "2022-03-24T11:19:32.678Z"
   },
   {
    "duration": 659,
    "start_time": "2022-03-24T11:19:33.776Z"
   },
   {
    "duration": 107,
    "start_time": "2022-03-24T11:19:34.437Z"
   },
   {
    "duration": 16,
    "start_time": "2022-03-24T11:19:34.547Z"
   },
   {
    "duration": 175,
    "start_time": "2022-03-24T11:19:34.565Z"
   },
   {
    "duration": 14,
    "start_time": "2022-03-24T11:19:40.189Z"
   },
   {
    "duration": 1087,
    "start_time": "2022-03-24T11:19:46.249Z"
   },
   {
    "duration": 824,
    "start_time": "2022-03-24T11:19:47.339Z"
   },
   {
    "duration": 116,
    "start_time": "2022-03-24T11:19:48.165Z"
   },
   {
    "duration": 16,
    "start_time": "2022-03-24T11:19:48.284Z"
   },
   {
    "duration": 27,
    "start_time": "2022-03-24T11:19:48.302Z"
   },
   {
    "duration": 4,
    "start_time": "2022-03-24T11:20:48.077Z"
   },
   {
    "duration": 168,
    "start_time": "2022-03-24T11:23:14.877Z"
   },
   {
    "duration": 200,
    "start_time": "2022-03-24T11:23:35.300Z"
   },
   {
    "duration": 516,
    "start_time": "2022-03-24T11:23:39.427Z"
   },
   {
    "duration": 321,
    "start_time": "2022-03-24T11:24:31.333Z"
   },
   {
    "duration": 322,
    "start_time": "2022-03-24T11:24:51.076Z"
   },
   {
    "duration": 325,
    "start_time": "2022-03-24T11:25:01.706Z"
   },
   {
    "duration": 363,
    "start_time": "2022-03-24T11:25:33.370Z"
   },
   {
    "duration": 317,
    "start_time": "2022-03-24T11:25:39.608Z"
   },
   {
    "duration": 329,
    "start_time": "2022-03-24T11:25:47.512Z"
   },
   {
    "duration": 292,
    "start_time": "2022-03-24T11:25:56.633Z"
   },
   {
    "duration": 335,
    "start_time": "2022-03-24T11:26:00.140Z"
   },
   {
    "duration": 333,
    "start_time": "2022-03-24T11:26:39.298Z"
   },
   {
    "duration": 329,
    "start_time": "2022-03-24T11:26:46.598Z"
   },
   {
    "duration": 338,
    "start_time": "2022-03-24T11:27:04.832Z"
   },
   {
    "duration": 816,
    "start_time": "2022-03-24T11:27:21.296Z"
   },
   {
    "duration": 644,
    "start_time": "2022-03-24T11:28:13.274Z"
   },
   {
    "duration": 405,
    "start_time": "2022-03-24T11:28:17.324Z"
   },
   {
    "duration": 659,
    "start_time": "2022-03-24T11:28:35.294Z"
   },
   {
    "duration": 758,
    "start_time": "2022-03-24T11:29:08.303Z"
   },
   {
    "duration": 613,
    "start_time": "2022-03-24T11:29:21.342Z"
   },
   {
    "duration": 371,
    "start_time": "2022-03-24T11:29:34.196Z"
   },
   {
    "duration": 310,
    "start_time": "2022-03-24T11:34:09.138Z"
   },
   {
    "duration": 341,
    "start_time": "2022-03-24T11:34:19.018Z"
   },
   {
    "duration": 375,
    "start_time": "2022-03-24T11:34:27.806Z"
   },
   {
    "duration": 1138,
    "start_time": "2022-03-24T11:34:35.563Z"
   },
   {
    "duration": 1090,
    "start_time": "2022-03-24T11:34:36.704Z"
   },
   {
    "duration": 52,
    "start_time": "2022-03-24T11:34:37.797Z"
   },
   {
    "duration": 30,
    "start_time": "2022-03-24T11:34:37.852Z"
   },
   {
    "duration": 27,
    "start_time": "2022-03-24T11:34:37.884Z"
   },
   {
    "duration": 5,
    "start_time": "2022-03-24T11:34:37.914Z"
   },
   {
    "duration": 529,
    "start_time": "2022-03-24T11:34:37.922Z"
   },
   {
    "duration": 354,
    "start_time": "2022-03-24T11:34:38.454Z"
   },
   {
    "duration": 482,
    "start_time": "2022-03-24T11:34:58.607Z"
   },
   {
    "duration": 402,
    "start_time": "2022-03-24T11:35:03.841Z"
   },
   {
    "duration": 328,
    "start_time": "2022-03-24T11:35:43.943Z"
   },
   {
    "duration": 321,
    "start_time": "2022-03-24T11:36:14.494Z"
   },
   {
    "duration": 331,
    "start_time": "2022-03-24T11:36:18.126Z"
   },
   {
    "duration": 334,
    "start_time": "2022-03-24T11:36:28.314Z"
   },
   {
    "duration": 231,
    "start_time": "2022-03-24T11:36:31.928Z"
   },
   {
    "duration": 1076,
    "start_time": "2022-03-24T11:36:56.015Z"
   },
   {
    "duration": 905,
    "start_time": "2022-03-24T11:36:57.094Z"
   },
   {
    "duration": 51,
    "start_time": "2022-03-24T11:36:58.001Z"
   },
   {
    "duration": 35,
    "start_time": "2022-03-24T11:36:58.055Z"
   },
   {
    "duration": 28,
    "start_time": "2022-03-24T11:36:58.093Z"
   },
   {
    "duration": 5,
    "start_time": "2022-03-24T11:36:58.124Z"
   },
   {
    "duration": 515,
    "start_time": "2022-03-24T11:36:58.132Z"
   },
   {
    "duration": 437,
    "start_time": "2022-03-24T11:36:58.649Z"
   },
   {
    "duration": 326,
    "start_time": "2022-03-24T11:36:59.089Z"
   },
   {
    "duration": 1293,
    "start_time": "2022-03-24T11:37:16.742Z"
   },
   {
    "duration": 1096,
    "start_time": "2022-03-24T11:37:30.302Z"
   },
   {
    "duration": 1112,
    "start_time": "2022-03-24T11:37:31.400Z"
   },
   {
    "duration": 58,
    "start_time": "2022-03-24T11:37:32.515Z"
   },
   {
    "duration": 15,
    "start_time": "2022-03-24T11:37:32.583Z"
   },
   {
    "duration": 35,
    "start_time": "2022-03-24T11:37:32.600Z"
   },
   {
    "duration": 5,
    "start_time": "2022-03-24T11:37:32.637Z"
   },
   {
    "duration": 539,
    "start_time": "2022-03-24T11:37:32.644Z"
   },
   {
    "duration": 1228,
    "start_time": "2022-03-24T11:37:33.185Z"
   },
   {
    "duration": 500,
    "start_time": "2022-03-24T11:37:52.833Z"
   },
   {
    "duration": 1014,
    "start_time": "2022-03-24T11:38:01.772Z"
   },
   {
    "duration": 1169,
    "start_time": "2022-03-24T11:38:12.359Z"
   },
   {
    "duration": 1283,
    "start_time": "2022-03-24T11:39:18.742Z"
   },
   {
    "duration": 1099,
    "start_time": "2022-03-24T11:39:34.090Z"
   },
   {
    "duration": 918,
    "start_time": "2022-03-24T11:39:35.191Z"
   },
   {
    "duration": 50,
    "start_time": "2022-03-24T11:39:36.112Z"
   },
   {
    "duration": 27,
    "start_time": "2022-03-24T11:39:36.166Z"
   },
   {
    "duration": 34,
    "start_time": "2022-03-24T11:39:36.196Z"
   },
   {
    "duration": 4,
    "start_time": "2022-03-24T11:39:36.232Z"
   },
   {
    "duration": 633,
    "start_time": "2022-03-24T11:39:36.238Z"
   },
   {
    "duration": 1149,
    "start_time": "2022-03-24T11:39:36.874Z"
   },
   {
    "duration": 1031,
    "start_time": "2022-03-24T11:41:06.464Z"
   },
   {
    "duration": 954,
    "start_time": "2022-03-24T11:41:24.114Z"
   },
   {
    "duration": 1069,
    "start_time": "2022-03-24T11:41:33.557Z"
   },
   {
    "duration": 1306,
    "start_time": "2022-03-24T11:41:46.966Z"
   },
   {
    "duration": 1001,
    "start_time": "2022-03-24T11:41:59.030Z"
   },
   {
    "duration": 1433,
    "start_time": "2022-03-24T11:42:31.004Z"
   },
   {
    "duration": 282,
    "start_time": "2022-03-24T11:47:31.426Z"
   },
   {
    "duration": 290,
    "start_time": "2022-03-24T11:47:39.390Z"
   },
   {
    "duration": 1040,
    "start_time": "2022-03-24T11:47:47.923Z"
   },
   {
    "duration": 913,
    "start_time": "2022-03-24T11:47:48.965Z"
   },
   {
    "duration": 53,
    "start_time": "2022-03-24T11:47:49.880Z"
   },
   {
    "duration": 15,
    "start_time": "2022-03-24T11:47:49.936Z"
   },
   {
    "duration": 51,
    "start_time": "2022-03-24T11:47:49.953Z"
   },
   {
    "duration": 4,
    "start_time": "2022-03-24T11:47:50.006Z"
   },
   {
    "duration": 503,
    "start_time": "2022-03-24T11:47:50.012Z"
   },
   {
    "duration": 1323,
    "start_time": "2022-03-24T11:47:50.518Z"
   },
   {
    "duration": 374,
    "start_time": "2022-03-24T11:47:51.844Z"
   },
   {
    "duration": 289,
    "start_time": "2022-03-24T11:48:02.228Z"
   },
   {
    "duration": 6,
    "start_time": "2022-03-24T11:57:10.441Z"
   },
   {
    "duration": 14,
    "start_time": "2022-03-24T12:02:16.580Z"
   },
   {
    "duration": 38,
    "start_time": "2022-03-24T12:02:26.381Z"
   },
   {
    "duration": 5,
    "start_time": "2022-03-24T12:09:43.173Z"
   },
   {
    "duration": 27,
    "start_time": "2022-03-24T12:09:43.540Z"
   },
   {
    "duration": 10,
    "start_time": "2022-03-24T12:11:45.602Z"
   },
   {
    "duration": 20,
    "start_time": "2022-03-24T12:12:31.931Z"
   },
   {
    "duration": 7,
    "start_time": "2022-03-24T12:13:28.569Z"
   },
   {
    "duration": 5,
    "start_time": "2022-03-24T12:20:34.581Z"
   },
   {
    "duration": 4,
    "start_time": "2022-03-24T12:22:59.599Z"
   },
   {
    "duration": 169,
    "start_time": "2022-03-24T12:23:40.050Z"
   },
   {
    "duration": 170,
    "start_time": "2022-03-24T12:24:22.492Z"
   },
   {
    "duration": 172,
    "start_time": "2022-03-24T12:24:31.272Z"
   },
   {
    "duration": 167,
    "start_time": "2022-03-24T12:28:06.790Z"
   },
   {
    "duration": 13,
    "start_time": "2022-03-24T12:29:00.604Z"
   },
   {
    "duration": 14,
    "start_time": "2022-03-24T12:29:13.513Z"
   },
   {
    "duration": 16629,
    "start_time": "2022-03-24T12:35:16.974Z"
   },
   {
    "duration": 393849,
    "start_time": "2022-03-24T12:39:48.056Z"
   },
   {
    "duration": 14,
    "start_time": "2022-03-24T12:55:56.506Z"
   },
   {
    "duration": 548,
    "start_time": "2022-03-24T12:58:10.307Z"
   },
   {
    "duration": 339457,
    "start_time": "2022-03-24T13:00:07.140Z"
   },
   {
    "duration": 1135,
    "start_time": "2022-03-24T13:35:00.681Z"
   },
   {
    "duration": 1242,
    "start_time": "2022-03-24T13:35:01.819Z"
   },
   {
    "duration": 59,
    "start_time": "2022-03-24T13:35:03.064Z"
   },
   {
    "duration": 14,
    "start_time": "2022-03-24T13:35:03.127Z"
   },
   {
    "duration": 47,
    "start_time": "2022-03-24T13:35:03.144Z"
   },
   {
    "duration": 5,
    "start_time": "2022-03-24T13:35:03.193Z"
   },
   {
    "duration": 528,
    "start_time": "2022-03-24T13:35:03.201Z"
   },
   {
    "duration": 1341,
    "start_time": "2022-03-24T13:35:03.732Z"
   },
   {
    "duration": 402,
    "start_time": "2022-03-24T13:35:05.075Z"
   },
   {
    "duration": 6,
    "start_time": "2022-03-24T13:35:05.483Z"
   },
   {
    "duration": 32,
    "start_time": "2022-03-24T13:35:05.491Z"
   },
   {
    "duration": 9,
    "start_time": "2022-03-24T13:35:05.525Z"
   },
   {
    "duration": 51,
    "start_time": "2022-03-24T13:35:05.536Z"
   },
   {
    "duration": 7,
    "start_time": "2022-03-24T13:35:05.589Z"
   },
   {
    "duration": 8,
    "start_time": "2022-03-24T13:35:05.599Z"
   },
   {
    "duration": 15,
    "start_time": "2022-03-24T13:35:05.610Z"
   },
   {
    "duration": 202,
    "start_time": "2022-03-24T13:35:05.627Z"
   },
   {
    "duration": 16297,
    "start_time": "2022-03-24T13:35:05.830Z"
   },
   {
    "duration": 6,
    "start_time": "2022-03-24T13:35:22.130Z"
   },
   {
    "duration": 17,
    "start_time": "2022-03-24T13:35:22.139Z"
   },
   {
    "duration": 510,
    "start_time": "2022-03-24T13:35:22.158Z"
   },
   {
    "duration": 5034,
    "start_time": "2022-03-24T13:35:22.670Z"
   },
   {
    "duration": 840,
    "start_time": "2022-03-24T17:51:42.161Z"
   },
   {
    "duration": 66835,
    "start_time": "2022-03-24T17:51:43.003Z"
   },
   {
    "duration": 134,
    "start_time": "2022-03-24T17:52:49.840Z"
   },
   {
    "duration": 11,
    "start_time": "2022-03-24T17:52:49.976Z"
   },
   {
    "duration": 18,
    "start_time": "2022-03-24T17:52:49.990Z"
   },
   {
    "duration": 4,
    "start_time": "2022-03-24T17:52:50.009Z"
   },
   {
    "duration": 324,
    "start_time": "2022-03-24T17:52:50.015Z"
   },
   {
    "duration": 831,
    "start_time": "2022-03-24T17:52:50.341Z"
   },
   {
    "duration": 245,
    "start_time": "2022-03-24T17:52:51.173Z"
   },
   {
    "duration": 5,
    "start_time": "2022-03-24T17:52:51.420Z"
   },
   {
    "duration": 17,
    "start_time": "2022-03-24T17:53:23.341Z"
   },
   {
    "duration": 1083,
    "start_time": "2022-03-25T10:42:28.070Z"
   },
   {
    "duration": 979,
    "start_time": "2022-03-25T10:42:29.157Z"
   },
   {
    "duration": 39,
    "start_time": "2022-03-25T10:42:30.138Z"
   },
   {
    "duration": 11,
    "start_time": "2022-03-25T10:42:30.179Z"
   },
   {
    "duration": 18,
    "start_time": "2022-03-25T10:42:30.192Z"
   },
   {
    "duration": 3,
    "start_time": "2022-03-25T10:42:30.211Z"
   },
   {
    "duration": 319,
    "start_time": "2022-03-25T10:42:30.216Z"
   },
   {
    "duration": 957,
    "start_time": "2022-03-25T10:42:30.537Z"
   },
   {
    "duration": 167,
    "start_time": "2022-03-25T10:42:31.496Z"
   },
   {
    "duration": 4,
    "start_time": "2022-03-25T10:42:31.665Z"
   },
   {
    "duration": 21,
    "start_time": "2022-03-25T10:42:31.671Z"
   },
   {
    "duration": 7,
    "start_time": "2022-03-25T10:42:31.694Z"
   },
   {
    "duration": 17,
    "start_time": "2022-03-25T10:42:31.702Z"
   },
   {
    "duration": 6,
    "start_time": "2022-03-25T10:42:31.721Z"
   },
   {
    "duration": 16,
    "start_time": "2022-03-25T10:42:31.729Z"
   },
   {
    "duration": 3,
    "start_time": "2022-03-25T10:42:31.764Z"
   },
   {
    "duration": 358,
    "start_time": "2022-03-25T10:42:31.769Z"
   },
   {
    "duration": 10886,
    "start_time": "2022-03-25T10:42:32.129Z"
   },
   {
    "duration": 4,
    "start_time": "2022-03-25T10:42:43.016Z"
   },
   {
    "duration": 23,
    "start_time": "2022-03-25T10:42:43.022Z"
   },
   {
    "duration": 377,
    "start_time": "2022-03-25T10:42:43.046Z"
   },
   {
    "duration": 4659,
    "start_time": "2022-03-25T10:42:43.424Z"
   },
   {
    "duration": 310,
    "start_time": "2022-03-25T10:46:47.588Z"
   },
   {
    "duration": 306,
    "start_time": "2022-03-25T10:47:02.292Z"
   },
   {
    "duration": 272,
    "start_time": "2022-03-25T10:48:39.528Z"
   },
   {
    "duration": 306,
    "start_time": "2022-03-25T10:54:32.970Z"
   },
   {
    "duration": 216,
    "start_time": "2022-03-25T10:56:13.458Z"
   },
   {
    "duration": 250,
    "start_time": "2022-03-25T10:56:19.713Z"
   },
   {
    "duration": 195,
    "start_time": "2022-03-25T10:58:08.813Z"
   },
   {
    "duration": 99,
    "start_time": "2022-03-25T10:58:15.821Z"
   },
   {
    "duration": 3,
    "start_time": "2022-03-25T11:00:03.528Z"
   },
   {
    "duration": 844,
    "start_time": "2022-03-25T11:00:23.142Z"
   },
   {
    "duration": 989,
    "start_time": "2022-03-25T11:00:23.988Z"
   },
   {
    "duration": 39,
    "start_time": "2022-03-25T11:00:24.979Z"
   },
   {
    "duration": 10,
    "start_time": "2022-03-25T11:00:25.020Z"
   },
   {
    "duration": 19,
    "start_time": "2022-03-25T11:00:25.032Z"
   },
   {
    "duration": 3,
    "start_time": "2022-03-25T11:00:25.062Z"
   },
   {
    "duration": 308,
    "start_time": "2022-03-25T11:00:25.067Z"
   },
   {
    "duration": 786,
    "start_time": "2022-03-25T11:00:25.377Z"
   },
   {
    "duration": 246,
    "start_time": "2022-03-25T11:00:26.164Z"
   },
   {
    "duration": 4,
    "start_time": "2022-03-25T11:00:26.412Z"
   },
   {
    "duration": 237,
    "start_time": "2022-03-25T11:00:26.418Z"
   },
   {
    "duration": 17,
    "start_time": "2022-03-25T11:00:26.656Z"
   },
   {
    "duration": 6,
    "start_time": "2022-03-25T11:00:26.674Z"
   },
   {
    "duration": 12,
    "start_time": "2022-03-25T11:00:26.682Z"
   },
   {
    "duration": 5,
    "start_time": "2022-03-25T11:00:26.696Z"
   },
   {
    "duration": 7,
    "start_time": "2022-03-25T11:00:26.702Z"
   },
   {
    "duration": 5,
    "start_time": "2022-03-25T11:00:26.710Z"
   },
   {
    "duration": 199,
    "start_time": "2022-03-25T11:00:26.716Z"
   },
   {
    "duration": 13889,
    "start_time": "2022-03-25T11:00:26.916Z"
   },
   {
    "duration": 5,
    "start_time": "2022-03-25T11:00:40.806Z"
   },
   {
    "duration": 17,
    "start_time": "2022-03-25T11:00:40.812Z"
   },
   {
    "duration": 379,
    "start_time": "2022-03-25T11:00:40.830Z"
   },
   {
    "duration": 3555,
    "start_time": "2022-03-25T11:00:41.211Z"
   },
   {
    "duration": 123579,
    "start_time": "2022-03-25T11:01:49.590Z"
   },
   {
    "duration": 116,
    "start_time": "2022-03-25T11:06:25.783Z"
   },
   {
    "duration": 316,
    "start_time": "2022-03-25T11:06:29.538Z"
   },
   {
    "duration": 884,
    "start_time": "2022-03-25T11:06:54.883Z"
   },
   {
    "duration": 3,
    "start_time": "2022-03-25T11:13:36.590Z"
   },
   {
    "duration": 179,
    "start_time": "2022-03-25T11:14:17.871Z"
   },
   {
    "duration": 183,
    "start_time": "2022-03-25T11:14:54.118Z"
   },
   {
    "duration": 4,
    "start_time": "2022-03-25T11:15:33.671Z"
   },
   {
    "duration": 1024,
    "start_time": "2022-03-25T11:15:34.311Z"
   },
   {
    "duration": 4,
    "start_time": "2022-03-25T11:16:59.225Z"
   },
   {
    "duration": 2156,
    "start_time": "2022-03-25T11:17:00.707Z"
   },
   {
    "duration": 4,
    "start_time": "2022-03-25T11:17:21.982Z"
   },
   {
    "duration": 1026,
    "start_time": "2022-03-25T11:17:23.460Z"
   },
   {
    "duration": 5,
    "start_time": "2022-03-25T11:17:45.689Z"
   },
   {
    "duration": 1430,
    "start_time": "2022-03-25T11:17:46.588Z"
   },
   {
    "duration": 145,
    "start_time": "2022-03-25T11:18:55.181Z"
   },
   {
    "duration": 4,
    "start_time": "2022-03-25T11:19:00.943Z"
   },
   {
    "duration": 2049,
    "start_time": "2022-03-25T11:19:02.130Z"
   },
   {
    "duration": 4,
    "start_time": "2022-03-25T11:19:21.524Z"
   },
   {
    "duration": 992,
    "start_time": "2022-03-25T11:19:22.908Z"
   },
   {
    "duration": 4,
    "start_time": "2022-03-25T11:20:57.313Z"
   },
   {
    "duration": 1055,
    "start_time": "2022-03-25T11:20:57.825Z"
   },
   {
    "duration": 4,
    "start_time": "2022-03-25T11:21:08.248Z"
   },
   {
    "duration": 1112,
    "start_time": "2022-03-25T11:21:08.980Z"
   },
   {
    "duration": 4,
    "start_time": "2022-03-25T11:24:16.213Z"
   },
   {
    "duration": 1132,
    "start_time": "2022-03-25T11:24:16.937Z"
   },
   {
    "duration": 813,
    "start_time": "2022-03-25T11:27:00.262Z"
   },
   {
    "duration": 748,
    "start_time": "2022-03-25T11:27:01.077Z"
   },
   {
    "duration": 40,
    "start_time": "2022-03-25T11:27:01.827Z"
   },
   {
    "duration": 11,
    "start_time": "2022-03-25T11:27:01.870Z"
   },
   {
    "duration": 23,
    "start_time": "2022-03-25T11:27:01.883Z"
   },
   {
    "duration": 3,
    "start_time": "2022-03-25T11:27:01.908Z"
   },
   {
    "duration": 326,
    "start_time": "2022-03-25T11:27:01.913Z"
   },
   {
    "duration": 787,
    "start_time": "2022-03-25T11:27:02.242Z"
   },
   {
    "duration": 248,
    "start_time": "2022-03-25T11:27:03.031Z"
   },
   {
    "duration": 3,
    "start_time": "2022-03-25T11:27:03.282Z"
   },
   {
    "duration": 227,
    "start_time": "2022-03-25T11:27:03.287Z"
   },
   {
    "duration": 17,
    "start_time": "2022-03-25T11:27:03.515Z"
   },
   {
    "duration": 6,
    "start_time": "2022-03-25T11:27:03.533Z"
   },
   {
    "duration": 31,
    "start_time": "2022-03-25T11:27:03.541Z"
   },
   {
    "duration": 5,
    "start_time": "2022-03-25T11:27:03.574Z"
   },
   {
    "duration": 6,
    "start_time": "2022-03-25T11:27:03.580Z"
   },
   {
    "duration": 5,
    "start_time": "2022-03-25T11:27:03.587Z"
   },
   {
    "duration": 180,
    "start_time": "2022-03-25T11:27:03.593Z"
   },
   {
    "duration": 19427,
    "start_time": "2022-03-25T11:27:03.775Z"
   },
   {
    "duration": 100660,
    "start_time": "2022-03-25T11:27:23.204Z"
   },
   {
    "duration": 9,
    "start_time": "2022-03-25T11:29:03.865Z"
   },
   {
    "duration": 323,
    "start_time": "2022-03-25T11:29:03.875Z"
   },
   {
    "duration": 974,
    "start_time": "2022-03-25T11:29:04.200Z"
   },
   {
    "duration": 3,
    "start_time": "2022-03-25T11:29:05.176Z"
   },
   {
    "duration": 1539,
    "start_time": "2022-03-25T11:29:05.180Z"
   },
   {
    "duration": 1062,
    "start_time": "2022-03-25T11:30:21.640Z"
   },
   {
    "duration": 1035,
    "start_time": "2022-03-25T11:31:17.830Z"
   },
   {
    "duration": 933,
    "start_time": "2022-03-25T11:32:01.872Z"
   },
   {
    "duration": 742,
    "start_time": "2022-03-25T11:32:02.807Z"
   },
   {
    "duration": 37,
    "start_time": "2022-03-25T11:32:03.551Z"
   },
   {
    "duration": 9,
    "start_time": "2022-03-25T11:32:03.590Z"
   },
   {
    "duration": 16,
    "start_time": "2022-03-25T11:32:03.601Z"
   },
   {
    "duration": 2,
    "start_time": "2022-03-25T11:32:03.619Z"
   },
   {
    "duration": 292,
    "start_time": "2022-03-25T11:32:03.623Z"
   },
   {
    "duration": 777,
    "start_time": "2022-03-25T11:32:03.917Z"
   },
   {
    "duration": 253,
    "start_time": "2022-03-25T11:32:04.696Z"
   },
   {
    "duration": 12,
    "start_time": "2022-03-25T11:32:04.951Z"
   },
   {
    "duration": 232,
    "start_time": "2022-03-25T11:32:04.964Z"
   },
   {
    "duration": 18,
    "start_time": "2022-03-25T11:32:05.198Z"
   },
   {
    "duration": 6,
    "start_time": "2022-03-25T11:32:05.217Z"
   },
   {
    "duration": 16,
    "start_time": "2022-03-25T11:32:05.226Z"
   },
   {
    "duration": 5,
    "start_time": "2022-03-25T11:32:05.262Z"
   },
   {
    "duration": 8,
    "start_time": "2022-03-25T11:32:05.269Z"
   },
   {
    "duration": 5,
    "start_time": "2022-03-25T11:32:05.279Z"
   },
   {
    "duration": 180,
    "start_time": "2022-03-25T11:32:05.286Z"
   },
   {
    "duration": 17464,
    "start_time": "2022-03-25T11:32:05.468Z"
   },
   {
    "duration": 3,
    "start_time": "2022-03-25T11:32:22.934Z"
   },
   {
    "duration": 17,
    "start_time": "2022-03-25T11:32:22.939Z"
   },
   {
    "duration": 309,
    "start_time": "2022-03-25T11:32:22.962Z"
   },
   {
    "duration": 901,
    "start_time": "2022-03-25T11:32:23.272Z"
   },
   {
    "duration": 1642,
    "start_time": "2022-03-25T11:32:24.176Z"
   }
  ],
  "kernelspec": {
   "display_name": "Python 3 (ipykernel)",
   "language": "python",
   "name": "python3"
  },
  "language_info": {
   "codemirror_mode": {
    "name": "ipython",
    "version": 3
   },
   "file_extension": ".py",
   "mimetype": "text/x-python",
   "name": "python",
   "nbconvert_exporter": "python",
   "pygments_lexer": "ipython3",
   "version": "3.9.5"
  },
  "toc": {
   "base_numbering": 1,
   "nav_menu": {},
   "number_sections": true,
   "sideBar": true,
   "skip_h1_title": true,
   "title_cell": "Содержание",
   "title_sidebar": "Contents",
   "toc_cell": true,
   "toc_position": {},
   "toc_section_display": true,
   "toc_window_display": false
  }
 },
 "nbformat": 4,
 "nbformat_minor": 2
}
